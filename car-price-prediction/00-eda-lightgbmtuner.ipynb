{
 "cells": [
  {
   "cell_type": "markdown",
   "id": "d62a3be8",
   "metadata": {
    "papermill": {
     "duration": 0.026626,
     "end_time": "2024-04-28T04:32:38.529349",
     "exception": false,
     "start_time": "2024-04-28T04:32:38.502723",
     "status": "completed"
    },
    "tags": []
   },
   "source": [
    "# Setup"
   ]
  },
  {
   "cell_type": "code",
   "execution_count": 1,
   "id": "cf445bdc",
   "metadata": {
    "_cell_guid": "b1076dfc-b9ad-4769-8c92-a6c4dae69d19",
    "_uuid": "8f2839f25d086af736a60e9eeb907d3b93b6e0e5",
    "execution": {
     "iopub.execute_input": "2024-04-28T04:32:38.584433Z",
     "iopub.status.busy": "2024-04-28T04:32:38.583982Z",
     "iopub.status.idle": "2024-04-28T04:32:56.240435Z",
     "shell.execute_reply": "2024-04-28T04:32:56.238661Z"
    },
    "papermill": {
     "duration": 17.687309,
     "end_time": "2024-04-28T04:32:56.243849",
     "exception": false,
     "start_time": "2024-04-28T04:32:38.556540",
     "status": "completed"
    },
    "tags": []
   },
   "outputs": [],
   "source": [
    "%%capture\n",
    "!pip install --upgrade optuna_integration"
   ]
  },
  {
   "cell_type": "code",
   "execution_count": 2,
   "id": "841e1af9",
   "metadata": {
    "execution": {
     "iopub.execute_input": "2024-04-28T04:32:56.299533Z",
     "iopub.status.busy": "2024-04-28T04:32:56.299085Z",
     "iopub.status.idle": "2024-04-28T04:33:00.691437Z",
     "shell.execute_reply": "2024-04-28T04:33:00.689998Z"
    },
    "papermill": {
     "duration": 4.425019,
     "end_time": "2024-04-28T04:33:00.695184",
     "exception": false,
     "start_time": "2024-04-28T04:32:56.270165",
     "status": "completed"
    },
    "tags": []
   },
   "outputs": [],
   "source": [
    "import gc\n",
    "gc.enable()\n",
    "\n",
    "import warnings\n",
    "warnings.filterwarnings('ignore')\n",
    "\n",
    "import numpy as np\n",
    "import pandas as pd\n",
    "pd.set_option('display.max_columns', None)\n",
    "pd.set_option('display.precision', 4)\n",
    "\n",
    "import optuna.integration.lightgbm as lgb\n",
    "from lightgbm import LGBMRegressor\n",
    "from sklearn.model_selection import KFold\n",
    "from sklearn.metrics import mean_absolute_error\n",
    "from sklearn.base import clone\n",
    "\n",
    "SEED = 2024"
   ]
  },
  {
   "cell_type": "code",
   "execution_count": 3,
   "id": "1aae7450",
   "metadata": {
    "execution": {
     "iopub.execute_input": "2024-04-28T04:33:00.751572Z",
     "iopub.status.busy": "2024-04-28T04:33:00.750946Z",
     "iopub.status.idle": "2024-04-28T04:33:00.790679Z",
     "shell.execute_reply": "2024-04-28T04:33:00.789133Z"
    },
    "papermill": {
     "duration": 0.071787,
     "end_time": "2024-04-28T04:33:00.793893",
     "exception": false,
     "start_time": "2024-04-28T04:33:00.722106",
     "status": "completed"
    },
    "tags": []
   },
   "outputs": [],
   "source": [
    "DATA_DIR = '/kaggle/input/autoam-car-price-prediction'\n",
    "\n",
    "train = pd.read_csv(f'{DATA_DIR}/train.csv')\n",
    "test = pd.read_csv(f'{DATA_DIR}/test.csv')\n",
    "sample_sub = pd.read_csv(f'{DATA_DIR}/sample_submission.csv')"
   ]
  },
  {
   "cell_type": "markdown",
   "id": "678410f9",
   "metadata": {
    "papermill": {
     "duration": 0.025901,
     "end_time": "2024-04-28T04:33:00.846010",
     "exception": false,
     "start_time": "2024-04-28T04:33:00.820109",
     "status": "completed"
    },
    "tags": []
   },
   "source": [
    "# Data overview"
   ]
  },
  {
   "cell_type": "code",
   "execution_count": 4,
   "id": "fede6fe2",
   "metadata": {
    "execution": {
     "iopub.execute_input": "2024-04-28T04:33:00.899535Z",
     "iopub.status.busy": "2024-04-28T04:33:00.899083Z",
     "iopub.status.idle": "2024-04-28T04:33:00.938258Z",
     "shell.execute_reply": "2024-04-28T04:33:00.937273Z"
    },
    "papermill": {
     "duration": 0.069611,
     "end_time": "2024-04-28T04:33:00.941326",
     "exception": false,
     "start_time": "2024-04-28T04:33:00.871715",
     "status": "completed"
    },
    "tags": []
   },
   "outputs": [
    {
     "name": "stdout",
     "output_type": "stream",
     "text": [
      "<class 'pandas.core.frame.DataFrame'>\n",
      "RangeIndex: 1642 entries, 0 to 1641\n",
      "Data columns (total 10 columns):\n",
      " #   Column        Non-Null Count  Dtype  \n",
      "---  ------        --------------  -----  \n",
      " 0   model         1642 non-null   object \n",
      " 1   year          1642 non-null   int64  \n",
      " 2   motor_type    1642 non-null   object \n",
      " 3   running       1642 non-null   object \n",
      " 4   wheel         1642 non-null   object \n",
      " 5   color         1642 non-null   object \n",
      " 6   type          1642 non-null   object \n",
      " 7   status        1642 non-null   object \n",
      " 8   motor_volume  1642 non-null   float64\n",
      " 9   price         1642 non-null   int64  \n",
      "dtypes: float64(1), int64(2), object(7)\n",
      "memory usage: 128.4+ KB\n"
     ]
    }
   ],
   "source": [
    "train.info()"
   ]
  },
  {
   "cell_type": "code",
   "execution_count": 5,
   "id": "d3ab45f0",
   "metadata": {
    "execution": {
     "iopub.execute_input": "2024-04-28T04:33:00.997526Z",
     "iopub.status.busy": "2024-04-28T04:33:00.996677Z",
     "iopub.status.idle": "2024-04-28T04:33:01.005539Z",
     "shell.execute_reply": "2024-04-28T04:33:01.004102Z"
    },
    "papermill": {
     "duration": 0.040405,
     "end_time": "2024-04-28T04:33:01.008730",
     "exception": false,
     "start_time": "2024-04-28T04:33:00.968325",
     "status": "completed"
    },
    "tags": []
   },
   "outputs": [
    {
     "data": {
      "text/plain": [
       "((1642, 10), (411, 10), (411, 2))"
      ]
     },
     "execution_count": 5,
     "metadata": {},
     "output_type": "execute_result"
    }
   ],
   "source": [
    "train.shape, test.shape, sample_sub.shape"
   ]
  },
  {
   "cell_type": "code",
   "execution_count": 6,
   "id": "8a759eb8",
   "metadata": {
    "execution": {
     "iopub.execute_input": "2024-04-28T04:33:01.066116Z",
     "iopub.status.busy": "2024-04-28T04:33:01.065703Z",
     "iopub.status.idle": "2024-04-28T04:33:01.092063Z",
     "shell.execute_reply": "2024-04-28T04:33:01.090665Z"
    },
    "papermill": {
     "duration": 0.05813,
     "end_time": "2024-04-28T04:33:01.094994",
     "exception": false,
     "start_time": "2024-04-28T04:33:01.036864",
     "status": "completed"
    },
    "tags": []
   },
   "outputs": [
    {
     "data": {
      "text/html": [
       "<div>\n",
       "<style scoped>\n",
       "    .dataframe tbody tr th:only-of-type {\n",
       "        vertical-align: middle;\n",
       "    }\n",
       "\n",
       "    .dataframe tbody tr th {\n",
       "        vertical-align: top;\n",
       "    }\n",
       "\n",
       "    .dataframe thead th {\n",
       "        text-align: right;\n",
       "    }\n",
       "</style>\n",
       "<table border=\"1\" class=\"dataframe\">\n",
       "  <thead>\n",
       "    <tr style=\"text-align: right;\">\n",
       "      <th></th>\n",
       "      <th>model</th>\n",
       "      <th>year</th>\n",
       "      <th>motor_type</th>\n",
       "      <th>running</th>\n",
       "      <th>wheel</th>\n",
       "      <th>color</th>\n",
       "      <th>type</th>\n",
       "      <th>status</th>\n",
       "      <th>motor_volume</th>\n",
       "      <th>price</th>\n",
       "    </tr>\n",
       "  </thead>\n",
       "  <tbody>\n",
       "    <tr>\n",
       "      <th>1019</th>\n",
       "      <td>nissan</td>\n",
       "      <td>2020</td>\n",
       "      <td>petrol</td>\n",
       "      <td>18000  km</td>\n",
       "      <td>left</td>\n",
       "      <td>gray</td>\n",
       "      <td>suv</td>\n",
       "      <td>excellent</td>\n",
       "      <td>2.0</td>\n",
       "      <td>20700</td>\n",
       "    </tr>\n",
       "  </tbody>\n",
       "</table>\n",
       "</div>"
      ],
      "text/plain": [
       "       model  year motor_type    running wheel color type     status  \\\n",
       "1019  nissan  2020     petrol  18000  km  left  gray  suv  excellent   \n",
       "\n",
       "      motor_volume  price  \n",
       "1019           2.0  20700  "
      ]
     },
     "execution_count": 6,
     "metadata": {},
     "output_type": "execute_result"
    }
   ],
   "source": [
    "train.sample()"
   ]
  },
  {
   "cell_type": "code",
   "execution_count": 7,
   "id": "ba5e5cf8",
   "metadata": {
    "execution": {
     "iopub.execute_input": "2024-04-28T04:33:01.157308Z",
     "iopub.status.busy": "2024-04-28T04:33:01.156888Z",
     "iopub.status.idle": "2024-04-28T04:33:01.173536Z",
     "shell.execute_reply": "2024-04-28T04:33:01.171953Z"
    },
    "papermill": {
     "duration": 0.052579,
     "end_time": "2024-04-28T04:33:01.176936",
     "exception": false,
     "start_time": "2024-04-28T04:33:01.124357",
     "status": "completed"
    },
    "tags": []
   },
   "outputs": [
    {
     "data": {
      "text/html": [
       "<div>\n",
       "<style scoped>\n",
       "    .dataframe tbody tr th:only-of-type {\n",
       "        vertical-align: middle;\n",
       "    }\n",
       "\n",
       "    .dataframe tbody tr th {\n",
       "        vertical-align: top;\n",
       "    }\n",
       "\n",
       "    .dataframe thead th {\n",
       "        text-align: right;\n",
       "    }\n",
       "</style>\n",
       "<table border=\"1\" class=\"dataframe\">\n",
       "  <thead>\n",
       "    <tr style=\"text-align: right;\">\n",
       "      <th></th>\n",
       "      <th>Id</th>\n",
       "      <th>model</th>\n",
       "      <th>year</th>\n",
       "      <th>motor_type</th>\n",
       "      <th>running</th>\n",
       "      <th>wheel</th>\n",
       "      <th>color</th>\n",
       "      <th>type</th>\n",
       "      <th>status</th>\n",
       "      <th>motor_volume</th>\n",
       "    </tr>\n",
       "  </thead>\n",
       "  <tbody>\n",
       "    <tr>\n",
       "      <th>265</th>\n",
       "      <td>265</td>\n",
       "      <td>toyota</td>\n",
       "      <td>2020</td>\n",
       "      <td>petrol</td>\n",
       "      <td>63000  miles</td>\n",
       "      <td>left</td>\n",
       "      <td>black</td>\n",
       "      <td>sedan</td>\n",
       "      <td>excellent</td>\n",
       "      <td>2.0</td>\n",
       "    </tr>\n",
       "  </tbody>\n",
       "</table>\n",
       "</div>"
      ],
      "text/plain": [
       "      Id   model  year motor_type       running wheel  color   type  \\\n",
       "265  265  toyota  2020     petrol  63000  miles  left  black  sedan   \n",
       "\n",
       "        status  motor_volume  \n",
       "265  excellent           2.0  "
      ]
     },
     "execution_count": 7,
     "metadata": {},
     "output_type": "execute_result"
    }
   ],
   "source": [
    "test.sample()"
   ]
  },
  {
   "cell_type": "code",
   "execution_count": 8,
   "id": "930f12b8",
   "metadata": {
    "execution": {
     "iopub.execute_input": "2024-04-28T04:33:01.234157Z",
     "iopub.status.busy": "2024-04-28T04:33:01.233709Z",
     "iopub.status.idle": "2024-04-28T04:33:01.241318Z",
     "shell.execute_reply": "2024-04-28T04:33:01.240346Z"
    },
    "papermill": {
     "duration": 0.038769,
     "end_time": "2024-04-28T04:33:01.243428",
     "exception": false,
     "start_time": "2024-04-28T04:33:01.204659",
     "status": "completed"
    },
    "tags": []
   },
   "outputs": [
    {
     "data": {
      "text/plain": [
       "True"
      ]
     },
     "execution_count": 8,
     "metadata": {},
     "output_type": "execute_result"
    }
   ],
   "source": [
    "test.Id.equals(sample_sub.Id)"
   ]
  },
  {
   "cell_type": "code",
   "execution_count": 9,
   "id": "d55c4463",
   "metadata": {
    "execution": {
     "iopub.execute_input": "2024-04-28T04:33:01.391239Z",
     "iopub.status.busy": "2024-04-28T04:33:01.390799Z",
     "iopub.status.idle": "2024-04-28T04:33:01.399084Z",
     "shell.execute_reply": "2024-04-28T04:33:01.398176Z"
    },
    "papermill": {
     "duration": 0.131077,
     "end_time": "2024-04-28T04:33:01.401649",
     "exception": false,
     "start_time": "2024-04-28T04:33:01.270572",
     "status": "completed"
    },
    "tags": []
   },
   "outputs": [],
   "source": [
    "test = test.drop('Id', axis=1)"
   ]
  },
  {
   "cell_type": "code",
   "execution_count": 10,
   "id": "c04e1392",
   "metadata": {
    "execution": {
     "iopub.execute_input": "2024-04-28T04:33:01.461863Z",
     "iopub.status.busy": "2024-04-28T04:33:01.460624Z",
     "iopub.status.idle": "2024-04-28T04:33:01.475280Z",
     "shell.execute_reply": "2024-04-28T04:33:01.473698Z"
    },
    "papermill": {
     "duration": 0.048989,
     "end_time": "2024-04-28T04:33:01.478157",
     "exception": false,
     "start_time": "2024-04-28T04:33:01.429168",
     "status": "completed"
    },
    "tags": []
   },
   "outputs": [
    {
     "data": {
      "text/plain": [
       "count     1642.0000\n",
       "mean     15982.6334\n",
       "std       7176.0846\n",
       "min        462.0000\n",
       "25%      12000.0000\n",
       "50%      15750.0000\n",
       "75%      18500.0000\n",
       "max      87000.0000\n",
       "Name: price, dtype: float64"
      ]
     },
     "execution_count": 10,
     "metadata": {},
     "output_type": "execute_result"
    }
   ],
   "source": [
    "TARGET = 'price'\n",
    "train[TARGET].describe()"
   ]
  },
  {
   "cell_type": "markdown",
   "id": "e9f2b5fd",
   "metadata": {
    "papermill": {
     "duration": 0.027252,
     "end_time": "2024-04-28T04:33:01.533174",
     "exception": false,
     "start_time": "2024-04-28T04:33:01.505922",
     "status": "completed"
    },
    "tags": []
   },
   "source": [
    "# Data exploration & preprocessing"
   ]
  },
  {
   "cell_type": "markdown",
   "id": "45578f14",
   "metadata": {
    "papermill": {
     "duration": 0.026978,
     "end_time": "2024-04-28T04:33:01.587727",
     "exception": false,
     "start_time": "2024-04-28T04:33:01.560749",
     "status": "completed"
    },
    "tags": []
   },
   "source": [
    "### price (TARGET)"
   ]
  },
  {
   "cell_type": "code",
   "execution_count": 11,
   "id": "de94fe8b",
   "metadata": {
    "execution": {
     "iopub.execute_input": "2024-04-28T04:33:01.645863Z",
     "iopub.status.busy": "2024-04-28T04:33:01.645301Z",
     "iopub.status.idle": "2024-04-28T04:33:01.654104Z",
     "shell.execute_reply": "2024-04-28T04:33:01.652905Z"
    },
    "papermill": {
     "duration": 0.040643,
     "end_time": "2024-04-28T04:33:01.656725",
     "exception": false,
     "start_time": "2024-04-28T04:33:01.616082",
     "status": "completed"
    },
    "tags": []
   },
   "outputs": [
    {
     "data": {
      "text/plain": [
       "(462, 87000)"
      ]
     },
     "execution_count": 11,
     "metadata": {},
     "output_type": "execute_result"
    }
   ],
   "source": [
    "train[TARGET].min(), train[TARGET].max()"
   ]
  },
  {
   "cell_type": "code",
   "execution_count": 12,
   "id": "699dea21",
   "metadata": {
    "execution": {
     "iopub.execute_input": "2024-04-28T04:33:01.714525Z",
     "iopub.status.busy": "2024-04-28T04:33:01.713653Z",
     "iopub.status.idle": "2024-04-28T04:33:01.730660Z",
     "shell.execute_reply": "2024-04-28T04:33:01.729466Z"
    },
    "papermill": {
     "duration": 0.049401,
     "end_time": "2024-04-28T04:33:01.733448",
     "exception": false,
     "start_time": "2024-04-28T04:33:01.684047",
     "status": "completed"
    },
    "tags": []
   },
   "outputs": [
    {
     "data": {
      "text/html": [
       "<div>\n",
       "<style scoped>\n",
       "    .dataframe tbody tr th:only-of-type {\n",
       "        vertical-align: middle;\n",
       "    }\n",
       "\n",
       "    .dataframe tbody tr th {\n",
       "        vertical-align: top;\n",
       "    }\n",
       "\n",
       "    .dataframe thead th {\n",
       "        text-align: right;\n",
       "    }\n",
       "</style>\n",
       "<table border=\"1\" class=\"dataframe\">\n",
       "  <thead>\n",
       "    <tr style=\"text-align: right;\">\n",
       "      <th></th>\n",
       "      <th>model</th>\n",
       "      <th>year</th>\n",
       "      <th>motor_type</th>\n",
       "      <th>running</th>\n",
       "      <th>wheel</th>\n",
       "      <th>color</th>\n",
       "      <th>type</th>\n",
       "      <th>status</th>\n",
       "      <th>motor_volume</th>\n",
       "      <th>price</th>\n",
       "    </tr>\n",
       "  </thead>\n",
       "  <tbody>\n",
       "    <tr>\n",
       "      <th>78</th>\n",
       "      <td>mercedes-benz</td>\n",
       "      <td>1996</td>\n",
       "      <td>petrol</td>\n",
       "      <td>250000  km</td>\n",
       "      <td>left</td>\n",
       "      <td>black</td>\n",
       "      <td>sedan</td>\n",
       "      <td>normal</td>\n",
       "      <td>2.0</td>\n",
       "      <td>2100</td>\n",
       "    </tr>\n",
       "    <tr>\n",
       "      <th>196</th>\n",
       "      <td>mercedes-benz</td>\n",
       "      <td>1997</td>\n",
       "      <td>petrol</td>\n",
       "      <td>205000  km</td>\n",
       "      <td>left</td>\n",
       "      <td>blue</td>\n",
       "      <td>sedan</td>\n",
       "      <td>normal</td>\n",
       "      <td>2.0</td>\n",
       "      <td>2900</td>\n",
       "    </tr>\n",
       "    <tr>\n",
       "      <th>309</th>\n",
       "      <td>kia</td>\n",
       "      <td>2021</td>\n",
       "      <td>petrol</td>\n",
       "      <td>14900  km</td>\n",
       "      <td>left</td>\n",
       "      <td>gray</td>\n",
       "      <td>sedan</td>\n",
       "      <td>excellent</td>\n",
       "      <td>2.0</td>\n",
       "      <td>462</td>\n",
       "    </tr>\n",
       "  </tbody>\n",
       "</table>\n",
       "</div>"
      ],
      "text/plain": [
       "             model  year motor_type     running wheel  color   type  \\\n",
       "78   mercedes-benz  1996     petrol  250000  km  left  black  sedan   \n",
       "196  mercedes-benz  1997     petrol  205000  km  left   blue  sedan   \n",
       "309            kia  2021     petrol   14900  km  left   gray  sedan   \n",
       "\n",
       "        status  motor_volume  price  \n",
       "78      normal           2.0   2100  \n",
       "196     normal           2.0   2900  \n",
       "309  excellent           2.0    462  "
      ]
     },
     "execution_count": 12,
     "metadata": {},
     "output_type": "execute_result"
    }
   ],
   "source": [
    "train.loc[train[TARGET] < 3000]"
   ]
  },
  {
   "cell_type": "code",
   "execution_count": 13,
   "id": "61639188",
   "metadata": {
    "execution": {
     "iopub.execute_input": "2024-04-28T04:33:01.793214Z",
     "iopub.status.busy": "2024-04-28T04:33:01.791921Z",
     "iopub.status.idle": "2024-04-28T04:33:01.800120Z",
     "shell.execute_reply": "2024-04-28T04:33:01.799039Z"
    },
    "papermill": {
     "duration": 0.041587,
     "end_time": "2024-04-28T04:33:01.802783",
     "exception": false,
     "start_time": "2024-04-28T04:33:01.761196",
     "status": "completed"
    },
    "tags": []
   },
   "outputs": [],
   "source": [
    "# dropping low outlier which seems to be a value error \n",
    "train = train[train[TARGET] > 2000]"
   ]
  },
  {
   "cell_type": "code",
   "execution_count": 14,
   "id": "9f1d9339",
   "metadata": {
    "execution": {
     "iopub.execute_input": "2024-04-28T04:33:01.863652Z",
     "iopub.status.busy": "2024-04-28T04:33:01.862469Z",
     "iopub.status.idle": "2024-04-28T04:33:01.883704Z",
     "shell.execute_reply": "2024-04-28T04:33:01.882782Z"
    },
    "papermill": {
     "duration": 0.055021,
     "end_time": "2024-04-28T04:33:01.886610",
     "exception": false,
     "start_time": "2024-04-28T04:33:01.831589",
     "status": "completed"
    },
    "tags": []
   },
   "outputs": [
    {
     "data": {
      "text/html": [
       "<div>\n",
       "<style scoped>\n",
       "    .dataframe tbody tr th:only-of-type {\n",
       "        vertical-align: middle;\n",
       "    }\n",
       "\n",
       "    .dataframe tbody tr th {\n",
       "        vertical-align: top;\n",
       "    }\n",
       "\n",
       "    .dataframe thead th {\n",
       "        text-align: right;\n",
       "    }\n",
       "</style>\n",
       "<table border=\"1\" class=\"dataframe\">\n",
       "  <thead>\n",
       "    <tr style=\"text-align: right;\">\n",
       "      <th></th>\n",
       "      <th>model</th>\n",
       "      <th>year</th>\n",
       "      <th>motor_type</th>\n",
       "      <th>running</th>\n",
       "      <th>wheel</th>\n",
       "      <th>color</th>\n",
       "      <th>type</th>\n",
       "      <th>status</th>\n",
       "      <th>motor_volume</th>\n",
       "      <th>price</th>\n",
       "    </tr>\n",
       "  </thead>\n",
       "  <tbody>\n",
       "    <tr>\n",
       "      <th>87</th>\n",
       "      <td>mercedes-benz</td>\n",
       "      <td>2022</td>\n",
       "      <td>petrol</td>\n",
       "      <td>36500  km</td>\n",
       "      <td>left</td>\n",
       "      <td>gray</td>\n",
       "      <td>sedan</td>\n",
       "      <td>excellent</td>\n",
       "      <td>2.0</td>\n",
       "      <td>48000</td>\n",
       "    </tr>\n",
       "    <tr>\n",
       "      <th>137</th>\n",
       "      <td>hyundai</td>\n",
       "      <td>2023</td>\n",
       "      <td>petrol</td>\n",
       "      <td>6300  km</td>\n",
       "      <td>left</td>\n",
       "      <td>gray</td>\n",
       "      <td>sedan</td>\n",
       "      <td>excellent</td>\n",
       "      <td>2.0</td>\n",
       "      <td>40700</td>\n",
       "    </tr>\n",
       "    <tr>\n",
       "      <th>300</th>\n",
       "      <td>mercedes-benz</td>\n",
       "      <td>2020</td>\n",
       "      <td>petrol</td>\n",
       "      <td>15000  miles</td>\n",
       "      <td>left</td>\n",
       "      <td>white</td>\n",
       "      <td>Coupe</td>\n",
       "      <td>excellent</td>\n",
       "      <td>2.0</td>\n",
       "      <td>51000</td>\n",
       "    </tr>\n",
       "    <tr>\n",
       "      <th>456</th>\n",
       "      <td>mercedes-benz</td>\n",
       "      <td>2019</td>\n",
       "      <td>petrol</td>\n",
       "      <td>27000  miles</td>\n",
       "      <td>left</td>\n",
       "      <td>black</td>\n",
       "      <td>sedan</td>\n",
       "      <td>excellent</td>\n",
       "      <td>4.0</td>\n",
       "      <td>87000</td>\n",
       "    </tr>\n",
       "    <tr>\n",
       "      <th>558</th>\n",
       "      <td>mercedes-benz</td>\n",
       "      <td>2021</td>\n",
       "      <td>petrol</td>\n",
       "      <td>8800  km</td>\n",
       "      <td>left</td>\n",
       "      <td>black</td>\n",
       "      <td>sedan</td>\n",
       "      <td>new</td>\n",
       "      <td>2.0</td>\n",
       "      <td>78000</td>\n",
       "    </tr>\n",
       "    <tr>\n",
       "      <th>1257</th>\n",
       "      <td>mercedes-benz</td>\n",
       "      <td>2020</td>\n",
       "      <td>petrol</td>\n",
       "      <td>27000  miles</td>\n",
       "      <td>left</td>\n",
       "      <td>white</td>\n",
       "      <td>sedan</td>\n",
       "      <td>excellent</td>\n",
       "      <td>2.0</td>\n",
       "      <td>42000</td>\n",
       "    </tr>\n",
       "  </tbody>\n",
       "</table>\n",
       "</div>"
      ],
      "text/plain": [
       "              model  year motor_type       running wheel  color   type  \\\n",
       "87    mercedes-benz  2022     petrol     36500  km  left   gray  sedan   \n",
       "137         hyundai  2023     petrol      6300  km  left   gray  sedan   \n",
       "300   mercedes-benz  2020     petrol  15000  miles  left  white  Coupe   \n",
       "456   mercedes-benz  2019     petrol  27000  miles  left  black  sedan   \n",
       "558   mercedes-benz  2021     petrol      8800  km  left  black  sedan   \n",
       "1257  mercedes-benz  2020     petrol  27000  miles  left  white  sedan   \n",
       "\n",
       "         status  motor_volume  price  \n",
       "87    excellent           2.0  48000  \n",
       "137   excellent           2.0  40700  \n",
       "300   excellent           2.0  51000  \n",
       "456   excellent           4.0  87000  \n",
       "558         new           2.0  78000  \n",
       "1257  excellent           2.0  42000  "
      ]
     },
     "execution_count": 14,
     "metadata": {},
     "output_type": "execute_result"
    }
   ],
   "source": [
    "train.loc[train[TARGET] > 40000]"
   ]
  },
  {
   "cell_type": "markdown",
   "id": "42493bfc",
   "metadata": {
    "papermill": {
     "duration": 0.027593,
     "end_time": "2024-04-28T04:33:01.941964",
     "exception": false,
     "start_time": "2024-04-28T04:33:01.914371",
     "status": "completed"
    },
    "tags": []
   },
   "source": [
    "High outliers do not look like erroneous records based on the feature values."
   ]
  },
  {
   "cell_type": "markdown",
   "id": "b6b37bd1",
   "metadata": {
    "papermill": {
     "duration": 0.027679,
     "end_time": "2024-04-28T04:33:01.997130",
     "exception": false,
     "start_time": "2024-04-28T04:33:01.969451",
     "status": "completed"
    },
    "tags": []
   },
   "source": [
    "### model"
   ]
  },
  {
   "cell_type": "code",
   "execution_count": 15,
   "id": "6f74d979",
   "metadata": {
    "execution": {
     "iopub.execute_input": "2024-04-28T04:33:02.057898Z",
     "iopub.status.busy": "2024-04-28T04:33:02.056371Z",
     "iopub.status.idle": "2024-04-28T04:33:02.061670Z",
     "shell.execute_reply": "2024-04-28T04:33:02.060772Z"
    },
    "papermill": {
     "duration": 0.038291,
     "end_time": "2024-04-28T04:33:02.064001",
     "exception": false,
     "start_time": "2024-04-28T04:33:02.025710",
     "status": "completed"
    },
    "tags": []
   },
   "outputs": [],
   "source": [
    "f = 'model'"
   ]
  },
  {
   "cell_type": "code",
   "execution_count": 16,
   "id": "e3e9c736",
   "metadata": {
    "execution": {
     "iopub.execute_input": "2024-04-28T04:33:02.125754Z",
     "iopub.status.busy": "2024-04-28T04:33:02.125104Z",
     "iopub.status.idle": "2024-04-28T04:33:02.136487Z",
     "shell.execute_reply": "2024-04-28T04:33:02.135291Z"
    },
    "papermill": {
     "duration": 0.045651,
     "end_time": "2024-04-28T04:33:02.138848",
     "exception": false,
     "start_time": "2024-04-28T04:33:02.093197",
     "status": "completed"
    },
    "tags": []
   },
   "outputs": [
    {
     "data": {
      "text/plain": [
       "model\n",
       "mercedes-benz    0.2450\n",
       "hyundai          0.2139\n",
       "nissan           0.2133\n",
       "kia              0.1731\n",
       "toyota           0.1548\n",
       "Name: proportion, dtype: float64"
      ]
     },
     "execution_count": 16,
     "metadata": {},
     "output_type": "execute_result"
    }
   ],
   "source": [
    "train[f].value_counts(normalize=True)"
   ]
  },
  {
   "cell_type": "code",
   "execution_count": 17,
   "id": "b3648161",
   "metadata": {
    "execution": {
     "iopub.execute_input": "2024-04-28T04:33:02.200855Z",
     "iopub.status.busy": "2024-04-28T04:33:02.199664Z",
     "iopub.status.idle": "2024-04-28T04:33:02.210602Z",
     "shell.execute_reply": "2024-04-28T04:33:02.209333Z"
    },
    "papermill": {
     "duration": 0.044738,
     "end_time": "2024-04-28T04:33:02.212959",
     "exception": false,
     "start_time": "2024-04-28T04:33:02.168221",
     "status": "completed"
    },
    "tags": []
   },
   "outputs": [
    {
     "data": {
      "text/plain": [
       "model\n",
       "mercedes-benz    0.2263\n",
       "kia              0.2165\n",
       "hyundai          0.2141\n",
       "nissan           0.2068\n",
       "toyota           0.1363\n",
       "Name: proportion, dtype: float64"
      ]
     },
     "execution_count": 17,
     "metadata": {},
     "output_type": "execute_result"
    }
   ],
   "source": [
    "test[f].value_counts(normalize=True)"
   ]
  },
  {
   "cell_type": "code",
   "execution_count": 18,
   "id": "de625702",
   "metadata": {
    "execution": {
     "iopub.execute_input": "2024-04-28T04:33:02.273964Z",
     "iopub.status.busy": "2024-04-28T04:33:02.272718Z",
     "iopub.status.idle": "2024-04-28T04:33:02.308982Z",
     "shell.execute_reply": "2024-04-28T04:33:02.307734Z"
    },
    "papermill": {
     "duration": 0.069287,
     "end_time": "2024-04-28T04:33:02.311738",
     "exception": false,
     "start_time": "2024-04-28T04:33:02.242451",
     "status": "completed"
    },
    "tags": []
   },
   "outputs": [
    {
     "data": {
      "text/html": [
       "<div>\n",
       "<style scoped>\n",
       "    .dataframe tbody tr th:only-of-type {\n",
       "        vertical-align: middle;\n",
       "    }\n",
       "\n",
       "    .dataframe tbody tr th {\n",
       "        vertical-align: top;\n",
       "    }\n",
       "\n",
       "    .dataframe thead th {\n",
       "        text-align: right;\n",
       "    }\n",
       "</style>\n",
       "<table border=\"1\" class=\"dataframe\">\n",
       "  <thead>\n",
       "    <tr style=\"text-align: right;\">\n",
       "      <th></th>\n",
       "      <th>count</th>\n",
       "      <th>mean</th>\n",
       "      <th>std</th>\n",
       "      <th>min</th>\n",
       "      <th>25%</th>\n",
       "      <th>50%</th>\n",
       "      <th>75%</th>\n",
       "      <th>max</th>\n",
       "    </tr>\n",
       "    <tr>\n",
       "      <th>model</th>\n",
       "      <th></th>\n",
       "      <th></th>\n",
       "      <th></th>\n",
       "      <th></th>\n",
       "      <th></th>\n",
       "      <th></th>\n",
       "      <th></th>\n",
       "      <th></th>\n",
       "    </tr>\n",
       "  </thead>\n",
       "  <tbody>\n",
       "    <tr>\n",
       "      <th>hyundai</th>\n",
       "      <td>351.0</td>\n",
       "      <td>14829.9573</td>\n",
       "      <td>4792.7294</td>\n",
       "      <td>7000.0</td>\n",
       "      <td>11650.00</td>\n",
       "      <td>14000.0</td>\n",
       "      <td>16450.0</td>\n",
       "      <td>40700.0</td>\n",
       "    </tr>\n",
       "    <tr>\n",
       "      <th>kia</th>\n",
       "      <td>284.0</td>\n",
       "      <td>14907.9718</td>\n",
       "      <td>3973.5794</td>\n",
       "      <td>5500.0</td>\n",
       "      <td>12275.00</td>\n",
       "      <td>15200.0</td>\n",
       "      <td>17200.0</td>\n",
       "      <td>27900.0</td>\n",
       "    </tr>\n",
       "    <tr>\n",
       "      <th>mercedes-benz</th>\n",
       "      <td>402.0</td>\n",
       "      <td>14728.8085</td>\n",
       "      <td>11519.0310</td>\n",
       "      <td>2100.0</td>\n",
       "      <td>6000.00</td>\n",
       "      <td>11000.0</td>\n",
       "      <td>23875.0</td>\n",
       "      <td>87000.0</td>\n",
       "    </tr>\n",
       "    <tr>\n",
       "      <th>nissan</th>\n",
       "      <td>350.0</td>\n",
       "      <td>18284.8229</td>\n",
       "      <td>4255.0327</td>\n",
       "      <td>4375.0</td>\n",
       "      <td>15993.25</td>\n",
       "      <td>17788.5</td>\n",
       "      <td>19500.0</td>\n",
       "      <td>40000.0</td>\n",
       "    </tr>\n",
       "    <tr>\n",
       "      <th>toyota</th>\n",
       "      <td>254.0</td>\n",
       "      <td>17650.2913</td>\n",
       "      <td>5707.6232</td>\n",
       "      <td>3800.0</td>\n",
       "      <td>14225.00</td>\n",
       "      <td>16500.0</td>\n",
       "      <td>20975.0</td>\n",
       "      <td>37800.0</td>\n",
       "    </tr>\n",
       "  </tbody>\n",
       "</table>\n",
       "</div>"
      ],
      "text/plain": [
       "               count        mean         std     min       25%      50%  \\\n",
       "model                                                                     \n",
       "hyundai        351.0  14829.9573   4792.7294  7000.0  11650.00  14000.0   \n",
       "kia            284.0  14907.9718   3973.5794  5500.0  12275.00  15200.0   \n",
       "mercedes-benz  402.0  14728.8085  11519.0310  2100.0   6000.00  11000.0   \n",
       "nissan         350.0  18284.8229   4255.0327  4375.0  15993.25  17788.5   \n",
       "toyota         254.0  17650.2913   5707.6232  3800.0  14225.00  16500.0   \n",
       "\n",
       "                   75%      max  \n",
       "model                            \n",
       "hyundai        16450.0  40700.0  \n",
       "kia            17200.0  27900.0  \n",
       "mercedes-benz  23875.0  87000.0  \n",
       "nissan         19500.0  40000.0  \n",
       "toyota         20975.0  37800.0  "
      ]
     },
     "execution_count": 18,
     "metadata": {},
     "output_type": "execute_result"
    }
   ],
   "source": [
    "train.groupby(f)[TARGET].describe()"
   ]
  },
  {
   "cell_type": "code",
   "execution_count": 19,
   "id": "5eef00f5",
   "metadata": {
    "execution": {
     "iopub.execute_input": "2024-04-28T04:33:02.371085Z",
     "iopub.status.busy": "2024-04-28T04:33:02.370606Z",
     "iopub.status.idle": "2024-04-28T04:33:02.385622Z",
     "shell.execute_reply": "2024-04-28T04:33:02.384147Z"
    },
    "papermill": {
     "duration": 0.047413,
     "end_time": "2024-04-28T04:33:02.388211",
     "exception": false,
     "start_time": "2024-04-28T04:33:02.340798",
     "status": "completed"
    },
    "tags": []
   },
   "outputs": [],
   "source": [
    "model_mapping = {\n",
    "    'mercedes-benz': 0,\n",
    "    'hyundai': 1,\n",
    "    'kia': 2,\n",
    "    'toyota': 3,\n",
    "    'nissan': 4\n",
    "}\n",
    "\n",
    "train['model'] = train.model.replace(model_mapping).astype('int')\n",
    "test['model'] = test.model.replace(model_mapping).astype('int')"
   ]
  },
  {
   "cell_type": "code",
   "execution_count": 20,
   "id": "8bd10304",
   "metadata": {
    "execution": {
     "iopub.execute_input": "2024-04-28T04:33:02.449991Z",
     "iopub.status.busy": "2024-04-28T04:33:02.448800Z",
     "iopub.status.idle": "2024-04-28T04:33:02.460809Z",
     "shell.execute_reply": "2024-04-28T04:33:02.459857Z"
    },
    "papermill": {
     "duration": 0.046821,
     "end_time": "2024-04-28T04:33:02.463169",
     "exception": false,
     "start_time": "2024-04-28T04:33:02.416348",
     "status": "completed"
    },
    "tags": []
   },
   "outputs": [
    {
     "data": {
      "text/plain": [
       "0.19838481345489223"
      ]
     },
     "execution_count": 20,
     "metadata": {},
     "output_type": "execute_result"
    }
   ],
   "source": [
    "train[f].corr(train[TARGET])"
   ]
  },
  {
   "cell_type": "markdown",
   "id": "095aca94",
   "metadata": {
    "papermill": {
     "duration": 0.028714,
     "end_time": "2024-04-28T04:33:02.521377",
     "exception": false,
     "start_time": "2024-04-28T04:33:02.492663",
     "status": "completed"
    },
    "tags": []
   },
   "source": [
    "### year"
   ]
  },
  {
   "cell_type": "code",
   "execution_count": 21,
   "id": "f8cac631",
   "metadata": {
    "execution": {
     "iopub.execute_input": "2024-04-28T04:33:02.582912Z",
     "iopub.status.busy": "2024-04-28T04:33:02.581746Z",
     "iopub.status.idle": "2024-04-28T04:33:02.587530Z",
     "shell.execute_reply": "2024-04-28T04:33:02.586531Z"
    },
    "papermill": {
     "duration": 0.03949,
     "end_time": "2024-04-28T04:33:02.590090",
     "exception": false,
     "start_time": "2024-04-28T04:33:02.550600",
     "status": "completed"
    },
    "tags": []
   },
   "outputs": [],
   "source": [
    "f = 'year'"
   ]
  },
  {
   "cell_type": "code",
   "execution_count": 22,
   "id": "50e02ca3",
   "metadata": {
    "execution": {
     "iopub.execute_input": "2024-04-28T04:33:02.654631Z",
     "iopub.status.busy": "2024-04-28T04:33:02.653788Z",
     "iopub.status.idle": "2024-04-28T04:33:02.665720Z",
     "shell.execute_reply": "2024-04-28T04:33:02.664449Z"
    },
    "papermill": {
     "duration": 0.048895,
     "end_time": "2024-04-28T04:33:02.668369",
     "exception": false,
     "start_time": "2024-04-28T04:33:02.619474",
     "status": "completed"
    },
    "tags": []
   },
   "outputs": [
    {
     "data": {
      "text/plain": [
       "count    1641.0000\n",
       "mean     2014.8020\n",
       "std         6.5878\n",
       "min      1987.0000\n",
       "25%      2013.0000\n",
       "50%      2017.0000\n",
       "75%      2019.0000\n",
       "max      2023.0000\n",
       "Name: year, dtype: float64"
      ]
     },
     "execution_count": 22,
     "metadata": {},
     "output_type": "execute_result"
    }
   ],
   "source": [
    "train[f].describe()"
   ]
  },
  {
   "cell_type": "code",
   "execution_count": 23,
   "id": "d787895a",
   "metadata": {
    "execution": {
     "iopub.execute_input": "2024-04-28T04:33:02.730926Z",
     "iopub.status.busy": "2024-04-28T04:33:02.730056Z",
     "iopub.status.idle": "2024-04-28T04:33:02.742593Z",
     "shell.execute_reply": "2024-04-28T04:33:02.741493Z"
    },
    "papermill": {
     "duration": 0.047624,
     "end_time": "2024-04-28T04:33:02.745332",
     "exception": false,
     "start_time": "2024-04-28T04:33:02.697708",
     "status": "completed"
    },
    "tags": []
   },
   "outputs": [
    {
     "data": {
      "text/plain": [
       "count     411.0000\n",
       "mean     2014.9635\n",
       "std         6.5389\n",
       "min      1993.0000\n",
       "25%      2014.0000\n",
       "50%      2017.0000\n",
       "75%      2019.0000\n",
       "max      2023.0000\n",
       "Name: year, dtype: float64"
      ]
     },
     "execution_count": 23,
     "metadata": {},
     "output_type": "execute_result"
    }
   ],
   "source": [
    "test[f].describe()"
   ]
  },
  {
   "cell_type": "code",
   "execution_count": 24,
   "id": "d66f7476",
   "metadata": {
    "execution": {
     "iopub.execute_input": "2024-04-28T04:33:02.807601Z",
     "iopub.status.busy": "2024-04-28T04:33:02.806183Z",
     "iopub.status.idle": "2024-04-28T04:33:02.815720Z",
     "shell.execute_reply": "2024-04-28T04:33:02.814313Z"
    },
    "papermill": {
     "duration": 0.043245,
     "end_time": "2024-04-28T04:33:02.818273",
     "exception": false,
     "start_time": "2024-04-28T04:33:02.775028",
     "status": "completed"
    },
    "tags": []
   },
   "outputs": [
    {
     "data": {
      "text/plain": [
       "0.6410261366103661"
      ]
     },
     "execution_count": 24,
     "metadata": {},
     "output_type": "execute_result"
    }
   ],
   "source": [
    "train[f].corr(train[TARGET])"
   ]
  },
  {
   "cell_type": "markdown",
   "id": "cfb6bca2",
   "metadata": {
    "papermill": {
     "duration": 0.029078,
     "end_time": "2024-04-28T04:33:02.876805",
     "exception": false,
     "start_time": "2024-04-28T04:33:02.847727",
     "status": "completed"
    },
    "tags": []
   },
   "source": [
    "Higher value of year -> newer car -> higher price"
   ]
  },
  {
   "cell_type": "markdown",
   "id": "84e43a98",
   "metadata": {
    "papermill": {
     "duration": 0.02914,
     "end_time": "2024-04-28T04:33:02.935956",
     "exception": false,
     "start_time": "2024-04-28T04:33:02.906816",
     "status": "completed"
    },
    "tags": []
   },
   "source": [
    "### motor_type"
   ]
  },
  {
   "cell_type": "code",
   "execution_count": 25,
   "id": "66fde05a",
   "metadata": {
    "execution": {
     "iopub.execute_input": "2024-04-28T04:33:02.997823Z",
     "iopub.status.busy": "2024-04-28T04:33:02.996945Z",
     "iopub.status.idle": "2024-04-28T04:33:03.002379Z",
     "shell.execute_reply": "2024-04-28T04:33:03.001468Z"
    },
    "papermill": {
     "duration": 0.03962,
     "end_time": "2024-04-28T04:33:03.004903",
     "exception": false,
     "start_time": "2024-04-28T04:33:02.965283",
     "status": "completed"
    },
    "tags": []
   },
   "outputs": [],
   "source": [
    "f = 'motor_type'"
   ]
  },
  {
   "cell_type": "code",
   "execution_count": 26,
   "id": "735fddbe",
   "metadata": {
    "execution": {
     "iopub.execute_input": "2024-04-28T04:33:03.067000Z",
     "iopub.status.busy": "2024-04-28T04:33:03.066218Z",
     "iopub.status.idle": "2024-04-28T04:33:03.077230Z",
     "shell.execute_reply": "2024-04-28T04:33:03.075621Z"
    },
    "papermill": {
     "duration": 0.045443,
     "end_time": "2024-04-28T04:33:03.080065",
     "exception": false,
     "start_time": "2024-04-28T04:33:03.034622",
     "status": "completed"
    },
    "tags": []
   },
   "outputs": [
    {
     "data": {
      "text/plain": [
       "motor_type\n",
       "petrol            0.8647\n",
       "gas               0.1005\n",
       "petrol and gas    0.0329\n",
       "diesel            0.0012\n",
       "hybrid            0.0006\n",
       "Name: proportion, dtype: float64"
      ]
     },
     "execution_count": 26,
     "metadata": {},
     "output_type": "execute_result"
    }
   ],
   "source": [
    "train[f].value_counts(normalize=True)"
   ]
  },
  {
   "cell_type": "code",
   "execution_count": 27,
   "id": "eb569059",
   "metadata": {
    "execution": {
     "iopub.execute_input": "2024-04-28T04:33:03.143909Z",
     "iopub.status.busy": "2024-04-28T04:33:03.143434Z",
     "iopub.status.idle": "2024-04-28T04:33:03.154803Z",
     "shell.execute_reply": "2024-04-28T04:33:03.153006Z"
    },
    "papermill": {
     "duration": 0.048569,
     "end_time": "2024-04-28T04:33:03.158194",
     "exception": false,
     "start_time": "2024-04-28T04:33:03.109625",
     "status": "completed"
    },
    "tags": []
   },
   "outputs": [
    {
     "data": {
      "text/plain": [
       "motor_type\n",
       "petrol            0.8662\n",
       "gas               0.0876\n",
       "petrol and gas    0.0462\n",
       "Name: proportion, dtype: float64"
      ]
     },
     "execution_count": 27,
     "metadata": {},
     "output_type": "execute_result"
    }
   ],
   "source": [
    "test[f].value_counts(normalize=True)"
   ]
  },
  {
   "cell_type": "code",
   "execution_count": 28,
   "id": "2c5d0a1f",
   "metadata": {
    "execution": {
     "iopub.execute_input": "2024-04-28T04:33:03.222042Z",
     "iopub.status.busy": "2024-04-28T04:33:03.221492Z",
     "iopub.status.idle": "2024-04-28T04:33:03.234569Z",
     "shell.execute_reply": "2024-04-28T04:33:03.233075Z"
    },
    "papermill": {
     "duration": 0.049073,
     "end_time": "2024-04-28T04:33:03.237426",
     "exception": false,
     "start_time": "2024-04-28T04:33:03.188353",
     "status": "completed"
    },
    "tags": []
   },
   "outputs": [],
   "source": [
    "train = train[train[f].isin(['petrol', 'gas', 'petrol and gas'])]"
   ]
  },
  {
   "cell_type": "code",
   "execution_count": 29,
   "id": "4b09ca45",
   "metadata": {
    "execution": {
     "iopub.execute_input": "2024-04-28T04:33:03.300060Z",
     "iopub.status.busy": "2024-04-28T04:33:03.299651Z",
     "iopub.status.idle": "2024-04-28T04:33:03.330843Z",
     "shell.execute_reply": "2024-04-28T04:33:03.329312Z"
    },
    "papermill": {
     "duration": 0.065812,
     "end_time": "2024-04-28T04:33:03.333826",
     "exception": false,
     "start_time": "2024-04-28T04:33:03.268014",
     "status": "completed"
    },
    "tags": []
   },
   "outputs": [
    {
     "data": {
      "text/html": [
       "<div>\n",
       "<style scoped>\n",
       "    .dataframe tbody tr th:only-of-type {\n",
       "        vertical-align: middle;\n",
       "    }\n",
       "\n",
       "    .dataframe tbody tr th {\n",
       "        vertical-align: top;\n",
       "    }\n",
       "\n",
       "    .dataframe thead th {\n",
       "        text-align: right;\n",
       "    }\n",
       "</style>\n",
       "<table border=\"1\" class=\"dataframe\">\n",
       "  <thead>\n",
       "    <tr style=\"text-align: right;\">\n",
       "      <th></th>\n",
       "      <th>count</th>\n",
       "      <th>mean</th>\n",
       "      <th>std</th>\n",
       "      <th>min</th>\n",
       "      <th>25%</th>\n",
       "      <th>50%</th>\n",
       "      <th>75%</th>\n",
       "      <th>max</th>\n",
       "    </tr>\n",
       "    <tr>\n",
       "      <th>motor_type</th>\n",
       "      <th></th>\n",
       "      <th></th>\n",
       "      <th></th>\n",
       "      <th></th>\n",
       "      <th></th>\n",
       "      <th></th>\n",
       "      <th></th>\n",
       "      <th></th>\n",
       "    </tr>\n",
       "  </thead>\n",
       "  <tbody>\n",
       "    <tr>\n",
       "      <th>gas</th>\n",
       "      <td>165.0</td>\n",
       "      <td>9741.1576</td>\n",
       "      <td>4493.3678</td>\n",
       "      <td>3300.0</td>\n",
       "      <td>5600.0</td>\n",
       "      <td>9000.0</td>\n",
       "      <td>13500.0</td>\n",
       "      <td>21000.0</td>\n",
       "    </tr>\n",
       "    <tr>\n",
       "      <th>petrol</th>\n",
       "      <td>1419.0</td>\n",
       "      <td>16895.9521</td>\n",
       "      <td>7070.8348</td>\n",
       "      <td>2100.0</td>\n",
       "      <td>13000.0</td>\n",
       "      <td>16000.0</td>\n",
       "      <td>19100.0</td>\n",
       "      <td>87000.0</td>\n",
       "    </tr>\n",
       "    <tr>\n",
       "      <th>petrol and gas</th>\n",
       "      <td>54.0</td>\n",
       "      <td>11309.7222</td>\n",
       "      <td>4722.7481</td>\n",
       "      <td>3000.0</td>\n",
       "      <td>7650.0</td>\n",
       "      <td>11250.0</td>\n",
       "      <td>15737.5</td>\n",
       "      <td>22000.0</td>\n",
       "    </tr>\n",
       "  </tbody>\n",
       "</table>\n",
       "</div>"
      ],
      "text/plain": [
       "                 count        mean        std     min      25%      50%  \\\n",
       "motor_type                                                                \n",
       "gas              165.0   9741.1576  4493.3678  3300.0   5600.0   9000.0   \n",
       "petrol          1419.0  16895.9521  7070.8348  2100.0  13000.0  16000.0   \n",
       "petrol and gas    54.0  11309.7222  4722.7481  3000.0   7650.0  11250.0   \n",
       "\n",
       "                    75%      max  \n",
       "motor_type                        \n",
       "gas             13500.0  21000.0  \n",
       "petrol          19100.0  87000.0  \n",
       "petrol and gas  15737.5  22000.0  "
      ]
     },
     "execution_count": 29,
     "metadata": {},
     "output_type": "execute_result"
    }
   ],
   "source": [
    "train.groupby(f)[TARGET].describe()"
   ]
  },
  {
   "cell_type": "code",
   "execution_count": 30,
   "id": "7027ad61",
   "metadata": {
    "execution": {
     "iopub.execute_input": "2024-04-28T04:33:03.397798Z",
     "iopub.status.busy": "2024-04-28T04:33:03.397137Z",
     "iopub.status.idle": "2024-04-28T04:33:03.409943Z",
     "shell.execute_reply": "2024-04-28T04:33:03.408647Z"
    },
    "papermill": {
     "duration": 0.047574,
     "end_time": "2024-04-28T04:33:03.412937",
     "exception": false,
     "start_time": "2024-04-28T04:33:03.365363",
     "status": "completed"
    },
    "tags": []
   },
   "outputs": [],
   "source": [
    "motor_mapping = {\n",
    "    'petrol': 0,\n",
    "    'petrol and gas': 1,\n",
    "    'gas': 2\n",
    "}\n",
    "\n",
    "train['motor_type'] = train.motor_type.replace(motor_mapping).astype('int')\n",
    "test['motor_type'] = test.motor_type.replace(motor_mapping).astype('int')"
   ]
  },
  {
   "cell_type": "code",
   "execution_count": 31,
   "id": "206ecc9d",
   "metadata": {
    "execution": {
     "iopub.execute_input": "2024-04-28T04:33:03.477533Z",
     "iopub.status.busy": "2024-04-28T04:33:03.476945Z",
     "iopub.status.idle": "2024-04-28T04:33:03.486526Z",
     "shell.execute_reply": "2024-04-28T04:33:03.485314Z"
    },
    "papermill": {
     "duration": 0.046901,
     "end_time": "2024-04-28T04:33:03.489220",
     "exception": false,
     "start_time": "2024-04-28T04:33:03.442319",
     "status": "completed"
    },
    "tags": []
   },
   "outputs": [
    {
     "data": {
      "text/plain": [
       "-0.3194579138516617"
      ]
     },
     "execution_count": 31,
     "metadata": {},
     "output_type": "execute_result"
    }
   ],
   "source": [
    "train[f].corr(train[TARGET])"
   ]
  },
  {
   "cell_type": "markdown",
   "id": "b277c3d6",
   "metadata": {
    "papermill": {
     "duration": 0.02985,
     "end_time": "2024-04-28T04:33:03.549914",
     "exception": false,
     "start_time": "2024-04-28T04:33:03.520064",
     "status": "completed"
    },
    "tags": []
   },
   "source": [
    "### running"
   ]
  },
  {
   "cell_type": "code",
   "execution_count": 32,
   "id": "dedf86d1",
   "metadata": {
    "execution": {
     "iopub.execute_input": "2024-04-28T04:33:03.614138Z",
     "iopub.status.busy": "2024-04-28T04:33:03.613704Z",
     "iopub.status.idle": "2024-04-28T04:33:03.618447Z",
     "shell.execute_reply": "2024-04-28T04:33:03.617336Z"
    },
    "papermill": {
     "duration": 0.040668,
     "end_time": "2024-04-28T04:33:03.621382",
     "exception": false,
     "start_time": "2024-04-28T04:33:03.580714",
     "status": "completed"
    },
    "tags": []
   },
   "outputs": [],
   "source": [
    "f = 'running'"
   ]
  },
  {
   "cell_type": "code",
   "execution_count": 33,
   "id": "995c9ce2",
   "metadata": {
    "execution": {
     "iopub.execute_input": "2024-04-28T04:33:03.686927Z",
     "iopub.status.busy": "2024-04-28T04:33:03.685889Z",
     "iopub.status.idle": "2024-04-28T04:33:03.696513Z",
     "shell.execute_reply": "2024-04-28T04:33:03.695294Z"
    },
    "papermill": {
     "duration": 0.045796,
     "end_time": "2024-04-28T04:33:03.699209",
     "exception": false,
     "start_time": "2024-04-28T04:33:03.653413",
     "status": "completed"
    },
    "tags": []
   },
   "outputs": [
    {
     "data": {
      "text/plain": [
       "453     39000  miles\n",
       "975     58000  miles\n",
       "134       300000  km\n",
       "1187    60000  miles\n",
       "1283      102000  km\n",
       "Name: running, dtype: object"
      ]
     },
     "execution_count": 33,
     "metadata": {},
     "output_type": "execute_result"
    }
   ],
   "source": [
    "train[f].sample(5, random_state=SEED)"
   ]
  },
  {
   "cell_type": "code",
   "execution_count": 34,
   "id": "12c5ee55",
   "metadata": {
    "execution": {
     "iopub.execute_input": "2024-04-28T04:33:03.762722Z",
     "iopub.status.busy": "2024-04-28T04:33:03.762277Z",
     "iopub.status.idle": "2024-04-28T04:33:03.774910Z",
     "shell.execute_reply": "2024-04-28T04:33:03.773655Z"
    },
    "papermill": {
     "duration": 0.046875,
     "end_time": "2024-04-28T04:33:03.777533",
     "exception": false,
     "start_time": "2024-04-28T04:33:03.730658",
     "status": "completed"
    },
    "tags": []
   },
   "outputs": [],
   "source": [
    "def convert_miles_to_km(distance):\n",
    "    km_per_mile = 1.609344\n",
    "    if distance.endswith('miles'):\n",
    "        return int(distance.split(' ')[0]) * km_per_mile\n",
    "    else:\n",
    "        return int(distance.split(' ')[0])\n",
    "    \n",
    "train['running'] = train.running.apply(convert_miles_to_km)\n",
    "test['running'] = test.running.apply(convert_miles_to_km)"
   ]
  },
  {
   "cell_type": "code",
   "execution_count": 35,
   "id": "fcc7e289",
   "metadata": {
    "execution": {
     "iopub.execute_input": "2024-04-28T04:33:03.841042Z",
     "iopub.status.busy": "2024-04-28T04:33:03.840648Z",
     "iopub.status.idle": "2024-04-28T04:33:03.850259Z",
     "shell.execute_reply": "2024-04-28T04:33:03.848885Z"
    },
    "papermill": {
     "duration": 0.044606,
     "end_time": "2024-04-28T04:33:03.852741",
     "exception": false,
     "start_time": "2024-04-28T04:33:03.808135",
     "status": "completed"
    },
    "tags": []
   },
   "outputs": [
    {
     "data": {
      "text/plain": [
       "453      62764.416\n",
       "975      93341.952\n",
       "134     300000.000\n",
       "1187     96560.640\n",
       "1283    102000.000\n",
       "Name: running, dtype: float64"
      ]
     },
     "execution_count": 35,
     "metadata": {},
     "output_type": "execute_result"
    }
   ],
   "source": [
    "train[f].sample(5, random_state=SEED)"
   ]
  },
  {
   "cell_type": "code",
   "execution_count": 36,
   "id": "750c9b30",
   "metadata": {
    "execution": {
     "iopub.execute_input": "2024-04-28T04:33:03.914653Z",
     "iopub.status.busy": "2024-04-28T04:33:03.914218Z",
     "iopub.status.idle": "2024-04-28T04:33:03.923346Z",
     "shell.execute_reply": "2024-04-28T04:33:03.922032Z"
    },
    "papermill": {
     "duration": 0.043484,
     "end_time": "2024-04-28T04:33:03.925958",
     "exception": false,
     "start_time": "2024-04-28T04:33:03.882474",
     "status": "completed"
    },
    "tags": []
   },
   "outputs": [
    {
     "data": {
      "text/plain": [
       "-0.5151750538213654"
      ]
     },
     "execution_count": 36,
     "metadata": {},
     "output_type": "execute_result"
    }
   ],
   "source": [
    "train[f].corr(train[TARGET])"
   ]
  },
  {
   "cell_type": "code",
   "execution_count": 37,
   "id": "a6a61949",
   "metadata": {
    "execution": {
     "iopub.execute_input": "2024-04-28T04:33:03.993392Z",
     "iopub.status.busy": "2024-04-28T04:33:03.991520Z",
     "iopub.status.idle": "2024-04-28T04:33:04.008181Z",
     "shell.execute_reply": "2024-04-28T04:33:04.006798Z"
    },
    "papermill": {
     "duration": 0.054308,
     "end_time": "2024-04-28T04:33:04.010947",
     "exception": false,
     "start_time": "2024-04-28T04:33:03.956639",
     "status": "completed"
    },
    "tags": []
   },
   "outputs": [
    {
     "data": {
      "text/plain": [
       "count    1.6380e+03\n",
       "mean     1.1930e+05\n",
       "std      9.6659e+04\n",
       "min      1.0000e+01\n",
       "25%      5.6812e+04\n",
       "50%      9.9000e+04\n",
       "75%      1.6091e+05\n",
       "max      1.2517e+06\n",
       "Name: running, dtype: float64"
      ]
     },
     "execution_count": 37,
     "metadata": {},
     "output_type": "execute_result"
    }
   ],
   "source": [
    "train[f].describe()"
   ]
  },
  {
   "cell_type": "markdown",
   "id": "8143e634",
   "metadata": {
    "papermill": {
     "duration": 0.029977,
     "end_time": "2024-04-28T04:33:04.071988",
     "exception": false,
     "start_time": "2024-04-28T04:33:04.042011",
     "status": "completed"
    },
    "tags": []
   },
   "source": [
    "### wheel"
   ]
  },
  {
   "cell_type": "code",
   "execution_count": 38,
   "id": "9ca106e7",
   "metadata": {
    "execution": {
     "iopub.execute_input": "2024-04-28T04:33:04.141345Z",
     "iopub.status.busy": "2024-04-28T04:33:04.140653Z",
     "iopub.status.idle": "2024-04-28T04:33:04.146384Z",
     "shell.execute_reply": "2024-04-28T04:33:04.145149Z"
    },
    "papermill": {
     "duration": 0.046789,
     "end_time": "2024-04-28T04:33:04.148993",
     "exception": false,
     "start_time": "2024-04-28T04:33:04.102204",
     "status": "completed"
    },
    "tags": []
   },
   "outputs": [],
   "source": [
    "f = 'wheel'"
   ]
  },
  {
   "cell_type": "code",
   "execution_count": 39,
   "id": "af639769",
   "metadata": {
    "execution": {
     "iopub.execute_input": "2024-04-28T04:33:04.222576Z",
     "iopub.status.busy": "2024-04-28T04:33:04.221487Z",
     "iopub.status.idle": "2024-04-28T04:33:04.231799Z",
     "shell.execute_reply": "2024-04-28T04:33:04.230930Z"
    },
    "papermill": {
     "duration": 0.049142,
     "end_time": "2024-04-28T04:33:04.234146",
     "exception": false,
     "start_time": "2024-04-28T04:33:04.185004",
     "status": "completed"
    },
    "tags": []
   },
   "outputs": [
    {
     "data": {
      "text/plain": [
       "wheel\n",
       "left    1.0\n",
       "Name: proportion, dtype: float64"
      ]
     },
     "execution_count": 39,
     "metadata": {},
     "output_type": "execute_result"
    }
   ],
   "source": [
    "train[f].value_counts(normalize=True)"
   ]
  },
  {
   "cell_type": "markdown",
   "id": "102cfab5",
   "metadata": {
    "papermill": {
     "duration": 0.030062,
     "end_time": "2024-04-28T04:33:04.295302",
     "exception": false,
     "start_time": "2024-04-28T04:33:04.265240",
     "status": "completed"
    },
    "tags": []
   },
   "source": [
    "Only one unique value. Can be dropped as a feature due to zero variance."
   ]
  },
  {
   "cell_type": "code",
   "execution_count": 40,
   "id": "f8df8ba3",
   "metadata": {
    "execution": {
     "iopub.execute_input": "2024-04-28T04:33:04.360649Z",
     "iopub.status.busy": "2024-04-28T04:33:04.359577Z",
     "iopub.status.idle": "2024-04-28T04:33:04.368678Z",
     "shell.execute_reply": "2024-04-28T04:33:04.367780Z"
    },
    "papermill": {
     "duration": 0.04553,
     "end_time": "2024-04-28T04:33:04.371377",
     "exception": false,
     "start_time": "2024-04-28T04:33:04.325847",
     "status": "completed"
    },
    "tags": []
   },
   "outputs": [],
   "source": [
    "train = train.drop('wheel', axis=1)\n",
    "test = test.drop('wheel', axis=1)"
   ]
  },
  {
   "cell_type": "markdown",
   "id": "e22ebee3",
   "metadata": {
    "papermill": {
     "duration": 0.029809,
     "end_time": "2024-04-28T04:33:04.431479",
     "exception": false,
     "start_time": "2024-04-28T04:33:04.401670",
     "status": "completed"
    },
    "tags": []
   },
   "source": [
    "### color"
   ]
  },
  {
   "cell_type": "code",
   "execution_count": 41,
   "id": "b5f0bd91",
   "metadata": {
    "execution": {
     "iopub.execute_input": "2024-04-28T04:33:04.495910Z",
     "iopub.status.busy": "2024-04-28T04:33:04.494931Z",
     "iopub.status.idle": "2024-04-28T04:33:04.500764Z",
     "shell.execute_reply": "2024-04-28T04:33:04.499428Z"
    },
    "papermill": {
     "duration": 0.041385,
     "end_time": "2024-04-28T04:33:04.503365",
     "exception": false,
     "start_time": "2024-04-28T04:33:04.461980",
     "status": "completed"
    },
    "tags": []
   },
   "outputs": [],
   "source": [
    "f = 'color'"
   ]
  },
  {
   "cell_type": "code",
   "execution_count": 42,
   "id": "94038ec2",
   "metadata": {
    "execution": {
     "iopub.execute_input": "2024-04-28T04:33:04.569649Z",
     "iopub.status.busy": "2024-04-28T04:33:04.568152Z",
     "iopub.status.idle": "2024-04-28T04:33:04.576967Z",
     "shell.execute_reply": "2024-04-28T04:33:04.576107Z"
    },
    "papermill": {
     "duration": 0.044637,
     "end_time": "2024-04-28T04:33:04.579229",
     "exception": false,
     "start_time": "2024-04-28T04:33:04.534592",
     "status": "completed"
    },
    "tags": []
   },
   "outputs": [
    {
     "data": {
      "text/plain": [
       "(array(['skyblue', 'black', 'other', 'golden', 'blue', 'gray', 'silver',\n",
       "        'white', 'clove', 'orange', 'red', 'green', 'cherry', 'brown',\n",
       "        'beige', 'purple', 'pink'], dtype=object),\n",
       " array(['black', 'white', 'silver', 'blue', 'gray', 'other', 'brown',\n",
       "        'red', 'green', 'orange', 'cherry', 'skyblue', 'clove', 'beige'],\n",
       "       dtype=object))"
      ]
     },
     "execution_count": 42,
     "metadata": {},
     "output_type": "execute_result"
    }
   ],
   "source": [
    "train[f].unique(), test[f].unique()"
   ]
  },
  {
   "cell_type": "code",
   "execution_count": 43,
   "id": "5c3cd91c",
   "metadata": {
    "execution": {
     "iopub.execute_input": "2024-04-28T04:33:04.646735Z",
     "iopub.status.busy": "2024-04-28T04:33:04.646304Z",
     "iopub.status.idle": "2024-04-28T04:33:04.657060Z",
     "shell.execute_reply": "2024-04-28T04:33:04.655602Z"
    },
    "papermill": {
     "duration": 0.048201,
     "end_time": "2024-04-28T04:33:04.659703",
     "exception": false,
     "start_time": "2024-04-28T04:33:04.611502",
     "status": "completed"
    },
    "tags": []
   },
   "outputs": [
    {
     "data": {
      "text/plain": [
       "color\n",
       "black      540\n",
       "white      406\n",
       "silver     223\n",
       "gray       187\n",
       "blue       141\n",
       "red         47\n",
       "other       30\n",
       "cherry      20\n",
       "green       10\n",
       "brown       10\n",
       "golden       6\n",
       "orange       5\n",
       "beige        5\n",
       "clove        3\n",
       "purple       2\n",
       "skyblue      2\n",
       "pink         1\n",
       "Name: count, dtype: int64"
      ]
     },
     "execution_count": 43,
     "metadata": {},
     "output_type": "execute_result"
    }
   ],
   "source": [
    "train[f].value_counts()"
   ]
  },
  {
   "cell_type": "code",
   "execution_count": 44,
   "id": "d4fb27e9",
   "metadata": {
    "execution": {
     "iopub.execute_input": "2024-04-28T04:33:04.727435Z",
     "iopub.status.busy": "2024-04-28T04:33:04.726245Z",
     "iopub.status.idle": "2024-04-28T04:33:04.781752Z",
     "shell.execute_reply": "2024-04-28T04:33:04.780644Z"
    },
    "papermill": {
     "duration": 0.09131,
     "end_time": "2024-04-28T04:33:04.784346",
     "exception": false,
     "start_time": "2024-04-28T04:33:04.693036",
     "status": "completed"
    },
    "tags": []
   },
   "outputs": [
    {
     "data": {
      "text/html": [
       "<div>\n",
       "<style scoped>\n",
       "    .dataframe tbody tr th:only-of-type {\n",
       "        vertical-align: middle;\n",
       "    }\n",
       "\n",
       "    .dataframe tbody tr th {\n",
       "        vertical-align: top;\n",
       "    }\n",
       "\n",
       "    .dataframe thead th {\n",
       "        text-align: right;\n",
       "    }\n",
       "</style>\n",
       "<table border=\"1\" class=\"dataframe\">\n",
       "  <thead>\n",
       "    <tr style=\"text-align: right;\">\n",
       "      <th></th>\n",
       "      <th>count</th>\n",
       "      <th>mean</th>\n",
       "      <th>std</th>\n",
       "      <th>min</th>\n",
       "      <th>25%</th>\n",
       "      <th>50%</th>\n",
       "      <th>75%</th>\n",
       "      <th>max</th>\n",
       "    </tr>\n",
       "    <tr>\n",
       "      <th>color</th>\n",
       "      <th></th>\n",
       "      <th></th>\n",
       "      <th></th>\n",
       "      <th></th>\n",
       "      <th></th>\n",
       "      <th></th>\n",
       "      <th></th>\n",
       "      <th></th>\n",
       "    </tr>\n",
       "  </thead>\n",
       "  <tbody>\n",
       "    <tr>\n",
       "      <th>beige</th>\n",
       "      <td>5.0</td>\n",
       "      <td>11800.0000</td>\n",
       "      <td>7515.6503</td>\n",
       "      <td>3500.0</td>\n",
       "      <td>5300.0</td>\n",
       "      <td>13800.0</td>\n",
       "      <td>14400.00</td>\n",
       "      <td>22000.0</td>\n",
       "    </tr>\n",
       "    <tr>\n",
       "      <th>black</th>\n",
       "      <td>540.0</td>\n",
       "      <td>17190.0352</td>\n",
       "      <td>8016.3980</td>\n",
       "      <td>2100.0</td>\n",
       "      <td>12500.0</td>\n",
       "      <td>16100.0</td>\n",
       "      <td>19825.00</td>\n",
       "      <td>87000.0</td>\n",
       "    </tr>\n",
       "    <tr>\n",
       "      <th>blue</th>\n",
       "      <td>141.0</td>\n",
       "      <td>13430.3191</td>\n",
       "      <td>6640.4045</td>\n",
       "      <td>2900.0</td>\n",
       "      <td>7200.0</td>\n",
       "      <td>14500.0</td>\n",
       "      <td>16900.00</td>\n",
       "      <td>33500.0</td>\n",
       "    </tr>\n",
       "    <tr>\n",
       "      <th>brown</th>\n",
       "      <td>10.0</td>\n",
       "      <td>14685.0000</td>\n",
       "      <td>3624.3045</td>\n",
       "      <td>11700.0</td>\n",
       "      <td>12700.0</td>\n",
       "      <td>13800.0</td>\n",
       "      <td>14800.00</td>\n",
       "      <td>24000.0</td>\n",
       "    </tr>\n",
       "    <tr>\n",
       "      <th>cherry</th>\n",
       "      <td>20.0</td>\n",
       "      <td>13086.2000</td>\n",
       "      <td>7983.1418</td>\n",
       "      <td>3200.0</td>\n",
       "      <td>6375.0</td>\n",
       "      <td>12750.0</td>\n",
       "      <td>14924.75</td>\n",
       "      <td>34500.0</td>\n",
       "    </tr>\n",
       "    <tr>\n",
       "      <th>clove</th>\n",
       "      <td>3.0</td>\n",
       "      <td>8500.0000</td>\n",
       "      <td>1228.8206</td>\n",
       "      <td>7600.0</td>\n",
       "      <td>7800.0</td>\n",
       "      <td>8000.0</td>\n",
       "      <td>8950.00</td>\n",
       "      <td>9900.0</td>\n",
       "    </tr>\n",
       "    <tr>\n",
       "      <th>golden</th>\n",
       "      <td>6.0</td>\n",
       "      <td>10241.6667</td>\n",
       "      <td>3915.6630</td>\n",
       "      <td>5500.0</td>\n",
       "      <td>7475.0</td>\n",
       "      <td>10000.0</td>\n",
       "      <td>12675.00</td>\n",
       "      <td>15750.0</td>\n",
       "    </tr>\n",
       "    <tr>\n",
       "      <th>gray</th>\n",
       "      <td>187.0</td>\n",
       "      <td>17280.7487</td>\n",
       "      <td>6611.2627</td>\n",
       "      <td>3500.0</td>\n",
       "      <td>14000.0</td>\n",
       "      <td>16500.0</td>\n",
       "      <td>19000.00</td>\n",
       "      <td>48000.0</td>\n",
       "    </tr>\n",
       "    <tr>\n",
       "      <th>green</th>\n",
       "      <td>10.0</td>\n",
       "      <td>9014.1000</td>\n",
       "      <td>6138.8978</td>\n",
       "      <td>3900.0</td>\n",
       "      <td>4475.0</td>\n",
       "      <td>5600.0</td>\n",
       "      <td>14187.50</td>\n",
       "      <td>20500.0</td>\n",
       "    </tr>\n",
       "    <tr>\n",
       "      <th>orange</th>\n",
       "      <td>5.0</td>\n",
       "      <td>18040.0000</td>\n",
       "      <td>2794.2799</td>\n",
       "      <td>13500.0</td>\n",
       "      <td>17500.0</td>\n",
       "      <td>18700.0</td>\n",
       "      <td>20000.00</td>\n",
       "      <td>20500.0</td>\n",
       "    </tr>\n",
       "    <tr>\n",
       "      <th>other</th>\n",
       "      <td>30.0</td>\n",
       "      <td>14005.0000</td>\n",
       "      <td>6188.4257</td>\n",
       "      <td>4300.0</td>\n",
       "      <td>10675.0</td>\n",
       "      <td>13700.0</td>\n",
       "      <td>17000.00</td>\n",
       "      <td>31000.0</td>\n",
       "    </tr>\n",
       "    <tr>\n",
       "      <th>pink</th>\n",
       "      <td>1.0</td>\n",
       "      <td>13000.0000</td>\n",
       "      <td>NaN</td>\n",
       "      <td>13000.0</td>\n",
       "      <td>13000.0</td>\n",
       "      <td>13000.0</td>\n",
       "      <td>13000.00</td>\n",
       "      <td>13000.0</td>\n",
       "    </tr>\n",
       "    <tr>\n",
       "      <th>purple</th>\n",
       "      <td>2.0</td>\n",
       "      <td>10250.0000</td>\n",
       "      <td>8838.8348</td>\n",
       "      <td>4000.0</td>\n",
       "      <td>7125.0</td>\n",
       "      <td>10250.0</td>\n",
       "      <td>13375.00</td>\n",
       "      <td>16500.0</td>\n",
       "    </tr>\n",
       "    <tr>\n",
       "      <th>red</th>\n",
       "      <td>47.0</td>\n",
       "      <td>14841.2766</td>\n",
       "      <td>4569.9480</td>\n",
       "      <td>4700.0</td>\n",
       "      <td>12000.0</td>\n",
       "      <td>14900.0</td>\n",
       "      <td>17350.00</td>\n",
       "      <td>30000.0</td>\n",
       "    </tr>\n",
       "    <tr>\n",
       "      <th>silver</th>\n",
       "      <td>223.0</td>\n",
       "      <td>13621.5874</td>\n",
       "      <td>6173.7129</td>\n",
       "      <td>3300.0</td>\n",
       "      <td>8425.0</td>\n",
       "      <td>14600.0</td>\n",
       "      <td>17000.00</td>\n",
       "      <td>36000.0</td>\n",
       "    </tr>\n",
       "    <tr>\n",
       "      <th>skyblue</th>\n",
       "      <td>2.0</td>\n",
       "      <td>16650.0000</td>\n",
       "      <td>11101.5765</td>\n",
       "      <td>8800.0</td>\n",
       "      <td>12725.0</td>\n",
       "      <td>16650.0</td>\n",
       "      <td>20575.00</td>\n",
       "      <td>24500.0</td>\n",
       "    </tr>\n",
       "    <tr>\n",
       "      <th>white</th>\n",
       "      <td>406.0</td>\n",
       "      <td>16819.2340</td>\n",
       "      <td>6583.2723</td>\n",
       "      <td>4400.0</td>\n",
       "      <td>12700.0</td>\n",
       "      <td>15750.0</td>\n",
       "      <td>19500.00</td>\n",
       "      <td>51000.0</td>\n",
       "    </tr>\n",
       "  </tbody>\n",
       "</table>\n",
       "</div>"
      ],
      "text/plain": [
       "         count        mean         std      min      25%      50%       75%  \\\n",
       "color                                                                         \n",
       "beige      5.0  11800.0000   7515.6503   3500.0   5300.0  13800.0  14400.00   \n",
       "black    540.0  17190.0352   8016.3980   2100.0  12500.0  16100.0  19825.00   \n",
       "blue     141.0  13430.3191   6640.4045   2900.0   7200.0  14500.0  16900.00   \n",
       "brown     10.0  14685.0000   3624.3045  11700.0  12700.0  13800.0  14800.00   \n",
       "cherry    20.0  13086.2000   7983.1418   3200.0   6375.0  12750.0  14924.75   \n",
       "clove      3.0   8500.0000   1228.8206   7600.0   7800.0   8000.0   8950.00   \n",
       "golden     6.0  10241.6667   3915.6630   5500.0   7475.0  10000.0  12675.00   \n",
       "gray     187.0  17280.7487   6611.2627   3500.0  14000.0  16500.0  19000.00   \n",
       "green     10.0   9014.1000   6138.8978   3900.0   4475.0   5600.0  14187.50   \n",
       "orange     5.0  18040.0000   2794.2799  13500.0  17500.0  18700.0  20000.00   \n",
       "other     30.0  14005.0000   6188.4257   4300.0  10675.0  13700.0  17000.00   \n",
       "pink       1.0  13000.0000         NaN  13000.0  13000.0  13000.0  13000.00   \n",
       "purple     2.0  10250.0000   8838.8348   4000.0   7125.0  10250.0  13375.00   \n",
       "red       47.0  14841.2766   4569.9480   4700.0  12000.0  14900.0  17350.00   \n",
       "silver   223.0  13621.5874   6173.7129   3300.0   8425.0  14600.0  17000.00   \n",
       "skyblue    2.0  16650.0000  11101.5765   8800.0  12725.0  16650.0  20575.00   \n",
       "white    406.0  16819.2340   6583.2723   4400.0  12700.0  15750.0  19500.00   \n",
       "\n",
       "             max  \n",
       "color             \n",
       "beige    22000.0  \n",
       "black    87000.0  \n",
       "blue     33500.0  \n",
       "brown    24000.0  \n",
       "cherry   34500.0  \n",
       "clove     9900.0  \n",
       "golden   15750.0  \n",
       "gray     48000.0  \n",
       "green    20500.0  \n",
       "orange   20500.0  \n",
       "other    31000.0  \n",
       "pink     13000.0  \n",
       "purple   16500.0  \n",
       "red      30000.0  \n",
       "silver   36000.0  \n",
       "skyblue  24500.0  \n",
       "white    51000.0  "
      ]
     },
     "execution_count": 44,
     "metadata": {},
     "output_type": "execute_result"
    }
   ],
   "source": [
    "train.groupby(f)[TARGET].describe()"
   ]
  },
  {
   "cell_type": "code",
   "execution_count": 45,
   "id": "1780969b",
   "metadata": {
    "execution": {
     "iopub.execute_input": "2024-04-28T04:33:04.851903Z",
     "iopub.status.busy": "2024-04-28T04:33:04.851415Z",
     "iopub.status.idle": "2024-04-28T04:33:04.863088Z",
     "shell.execute_reply": "2024-04-28T04:33:04.861910Z"
    },
    "papermill": {
     "duration": 0.049066,
     "end_time": "2024-04-28T04:33:04.865817",
     "exception": false,
     "start_time": "2024-04-28T04:33:04.816751",
     "status": "completed"
    },
    "tags": []
   },
   "outputs": [],
   "source": [
    "def map_colors(color):\n",
    "    if color in ('black', 'white', 'gray'):\n",
    "        return 0  # most popular\n",
    "    elif color in ('silver', 'blue'):\n",
    "        return 1  # semi-popular\n",
    "    else:\n",
    "        return 2  # rare\n",
    "    \n",
    "train['color'] = train.color.apply(map_colors).astype('int')\n",
    "test['color'] = test.color.apply(map_colors).astype('int')"
   ]
  },
  {
   "cell_type": "code",
   "execution_count": 46,
   "id": "99da9248",
   "metadata": {
    "execution": {
     "iopub.execute_input": "2024-04-28T04:33:04.932356Z",
     "iopub.status.busy": "2024-04-28T04:33:04.931932Z",
     "iopub.status.idle": "2024-04-28T04:33:04.941076Z",
     "shell.execute_reply": "2024-04-28T04:33:04.939954Z"
    },
    "papermill": {
     "duration": 0.045332,
     "end_time": "2024-04-28T04:33:04.943616",
     "exception": false,
     "start_time": "2024-04-28T04:33:04.898284",
     "status": "completed"
    },
    "tags": []
   },
   "outputs": [
    {
     "data": {
      "text/plain": [
       "-0.2072553783093032"
      ]
     },
     "execution_count": 46,
     "metadata": {},
     "output_type": "execute_result"
    }
   ],
   "source": [
    "train[f].corr(train[TARGET])"
   ]
  },
  {
   "cell_type": "markdown",
   "id": "a38c6c42",
   "metadata": {
    "papermill": {
     "duration": 0.032768,
     "end_time": "2024-04-28T04:33:05.008193",
     "exception": false,
     "start_time": "2024-04-28T04:33:04.975425",
     "status": "completed"
    },
    "tags": []
   },
   "source": [
    "### type"
   ]
  },
  {
   "cell_type": "code",
   "execution_count": 47,
   "id": "49d8bec8",
   "metadata": {
    "execution": {
     "iopub.execute_input": "2024-04-28T04:33:05.076154Z",
     "iopub.status.busy": "2024-04-28T04:33:05.075298Z",
     "iopub.status.idle": "2024-04-28T04:33:05.080313Z",
     "shell.execute_reply": "2024-04-28T04:33:05.079421Z"
    },
    "papermill": {
     "duration": 0.042147,
     "end_time": "2024-04-28T04:33:05.083239",
     "exception": false,
     "start_time": "2024-04-28T04:33:05.041092",
     "status": "completed"
    },
    "tags": []
   },
   "outputs": [],
   "source": [
    "f = 'type'"
   ]
  },
  {
   "cell_type": "code",
   "execution_count": 48,
   "id": "cbac752d",
   "metadata": {
    "execution": {
     "iopub.execute_input": "2024-04-28T04:33:05.152985Z",
     "iopub.status.busy": "2024-04-28T04:33:05.152530Z",
     "iopub.status.idle": "2024-04-28T04:33:05.162168Z",
     "shell.execute_reply": "2024-04-28T04:33:05.161207Z"
    },
    "papermill": {
     "duration": 0.048244,
     "end_time": "2024-04-28T04:33:05.164743",
     "exception": false,
     "start_time": "2024-04-28T04:33:05.116499",
     "status": "completed"
    },
    "tags": []
   },
   "outputs": [
    {
     "data": {
      "text/plain": [
       "type\n",
       "sedan                0.7772\n",
       "suv                  0.1838\n",
       "Universal            0.0226\n",
       "hatchback            0.0092\n",
       "Coupe                0.0067\n",
       "minivan / minibus    0.0006\n",
       "Name: proportion, dtype: float64"
      ]
     },
     "execution_count": 48,
     "metadata": {},
     "output_type": "execute_result"
    }
   ],
   "source": [
    "train[f].value_counts(normalize=True)"
   ]
  },
  {
   "cell_type": "code",
   "execution_count": 49,
   "id": "31b0bddd",
   "metadata": {
    "execution": {
     "iopub.execute_input": "2024-04-28T04:33:05.233184Z",
     "iopub.status.busy": "2024-04-28T04:33:05.232752Z",
     "iopub.status.idle": "2024-04-28T04:33:05.243291Z",
     "shell.execute_reply": "2024-04-28T04:33:05.242153Z"
    },
    "papermill": {
     "duration": 0.048372,
     "end_time": "2024-04-28T04:33:05.245692",
     "exception": false,
     "start_time": "2024-04-28T04:33:05.197320",
     "status": "completed"
    },
    "tags": []
   },
   "outputs": [
    {
     "data": {
      "text/plain": [
       "type\n",
       "sedan        0.7786\n",
       "suv          0.1630\n",
       "Universal    0.0462\n",
       "Coupe        0.0097\n",
       "hatchback    0.0024\n",
       "Name: proportion, dtype: float64"
      ]
     },
     "execution_count": 49,
     "metadata": {},
     "output_type": "execute_result"
    }
   ],
   "source": [
    "test[f].value_counts(normalize=True)"
   ]
  },
  {
   "cell_type": "code",
   "execution_count": 50,
   "id": "f8804830",
   "metadata": {
    "execution": {
     "iopub.execute_input": "2024-04-28T04:33:05.316259Z",
     "iopub.status.busy": "2024-04-28T04:33:05.315363Z",
     "iopub.status.idle": "2024-04-28T04:33:05.323953Z",
     "shell.execute_reply": "2024-04-28T04:33:05.322852Z"
    },
    "papermill": {
     "duration": 0.047606,
     "end_time": "2024-04-28T04:33:05.326398",
     "exception": false,
     "start_time": "2024-04-28T04:33:05.278792",
     "status": "completed"
    },
    "tags": []
   },
   "outputs": [],
   "source": [
    "train = train[train[f] != 'minivan / minibus']"
   ]
  },
  {
   "cell_type": "code",
   "execution_count": 51,
   "id": "f05b13dd",
   "metadata": {
    "execution": {
     "iopub.execute_input": "2024-04-28T04:33:05.394944Z",
     "iopub.status.busy": "2024-04-28T04:33:05.394488Z",
     "iopub.status.idle": "2024-04-28T04:33:05.424779Z",
     "shell.execute_reply": "2024-04-28T04:33:05.423593Z"
    },
    "papermill": {
     "duration": 0.067985,
     "end_time": "2024-04-28T04:33:05.427592",
     "exception": false,
     "start_time": "2024-04-28T04:33:05.359607",
     "status": "completed"
    },
    "tags": []
   },
   "outputs": [
    {
     "data": {
      "text/html": [
       "<div>\n",
       "<style scoped>\n",
       "    .dataframe tbody tr th:only-of-type {\n",
       "        vertical-align: middle;\n",
       "    }\n",
       "\n",
       "    .dataframe tbody tr th {\n",
       "        vertical-align: top;\n",
       "    }\n",
       "\n",
       "    .dataframe thead th {\n",
       "        text-align: right;\n",
       "    }\n",
       "</style>\n",
       "<table border=\"1\" class=\"dataframe\">\n",
       "  <thead>\n",
       "    <tr style=\"text-align: right;\">\n",
       "      <th></th>\n",
       "      <th>count</th>\n",
       "      <th>mean</th>\n",
       "      <th>std</th>\n",
       "      <th>min</th>\n",
       "      <th>25%</th>\n",
       "      <th>50%</th>\n",
       "      <th>75%</th>\n",
       "      <th>max</th>\n",
       "    </tr>\n",
       "    <tr>\n",
       "      <th>type</th>\n",
       "      <th></th>\n",
       "      <th></th>\n",
       "      <th></th>\n",
       "      <th></th>\n",
       "      <th></th>\n",
       "      <th></th>\n",
       "      <th></th>\n",
       "      <th></th>\n",
       "    </tr>\n",
       "  </thead>\n",
       "  <tbody>\n",
       "    <tr>\n",
       "      <th>Coupe</th>\n",
       "      <td>11.0</td>\n",
       "      <td>19181.8182</td>\n",
       "      <td>16051.0323</td>\n",
       "      <td>3800.0</td>\n",
       "      <td>7600.0</td>\n",
       "      <td>11000.0</td>\n",
       "      <td>31300.0</td>\n",
       "      <td>51000.0</td>\n",
       "    </tr>\n",
       "    <tr>\n",
       "      <th>Universal</th>\n",
       "      <td>37.0</td>\n",
       "      <td>18043.7297</td>\n",
       "      <td>3211.1894</td>\n",
       "      <td>8800.0</td>\n",
       "      <td>15991.0</td>\n",
       "      <td>17700.0</td>\n",
       "      <td>20500.0</td>\n",
       "      <td>25300.0</td>\n",
       "    </tr>\n",
       "    <tr>\n",
       "      <th>hatchback</th>\n",
       "      <td>15.0</td>\n",
       "      <td>14033.3333</td>\n",
       "      <td>5495.1494</td>\n",
       "      <td>3800.0</td>\n",
       "      <td>11900.0</td>\n",
       "      <td>14900.0</td>\n",
       "      <td>16750.0</td>\n",
       "      <td>25000.0</td>\n",
       "    </tr>\n",
       "    <tr>\n",
       "      <th>sedan</th>\n",
       "      <td>1273.0</td>\n",
       "      <td>15334.1194</td>\n",
       "      <td>7515.6911</td>\n",
       "      <td>2100.0</td>\n",
       "      <td>10800.0</td>\n",
       "      <td>14700.0</td>\n",
       "      <td>17500.0</td>\n",
       "      <td>87000.0</td>\n",
       "    </tr>\n",
       "    <tr>\n",
       "      <th>suv</th>\n",
       "      <td>301.0</td>\n",
       "      <td>18534.6179</td>\n",
       "      <td>4478.1443</td>\n",
       "      <td>4375.0</td>\n",
       "      <td>16000.0</td>\n",
       "      <td>17900.0</td>\n",
       "      <td>19700.0</td>\n",
       "      <td>40000.0</td>\n",
       "    </tr>\n",
       "  </tbody>\n",
       "</table>\n",
       "</div>"
      ],
      "text/plain": [
       "            count        mean         std     min      25%      50%      75%  \\\n",
       "type                                                                           \n",
       "Coupe        11.0  19181.8182  16051.0323  3800.0   7600.0  11000.0  31300.0   \n",
       "Universal    37.0  18043.7297   3211.1894  8800.0  15991.0  17700.0  20500.0   \n",
       "hatchback    15.0  14033.3333   5495.1494  3800.0  11900.0  14900.0  16750.0   \n",
       "sedan      1273.0  15334.1194   7515.6911  2100.0  10800.0  14700.0  17500.0   \n",
       "suv         301.0  18534.6179   4478.1443  4375.0  16000.0  17900.0  19700.0   \n",
       "\n",
       "               max  \n",
       "type                \n",
       "Coupe      51000.0  \n",
       "Universal  25300.0  \n",
       "hatchback  25000.0  \n",
       "sedan      87000.0  \n",
       "suv        40000.0  "
      ]
     },
     "execution_count": 51,
     "metadata": {},
     "output_type": "execute_result"
    }
   ],
   "source": [
    "train.groupby(f)[TARGET].describe()"
   ]
  },
  {
   "cell_type": "code",
   "execution_count": 52,
   "id": "ecb45db2",
   "metadata": {
    "execution": {
     "iopub.execute_input": "2024-04-28T04:33:05.496704Z",
     "iopub.status.busy": "2024-04-28T04:33:05.496257Z",
     "iopub.status.idle": "2024-04-28T04:33:05.510176Z",
     "shell.execute_reply": "2024-04-28T04:33:05.509004Z"
    },
    "papermill": {
     "duration": 0.052263,
     "end_time": "2024-04-28T04:33:05.513045",
     "exception": false,
     "start_time": "2024-04-28T04:33:05.460782",
     "status": "completed"
    },
    "tags": []
   },
   "outputs": [],
   "source": [
    "type_mapping = {\n",
    "    'sedan': 0, 'hatchback': 0,\n",
    "    'suv': 1, 'Coupe': 1, 'Universal': 1\n",
    "}\n",
    "\n",
    "train['type'] = train.type.replace(type_mapping).astype('int')\n",
    "test['type'] = test.type.replace(type_mapping).astype('int')"
   ]
  },
  {
   "cell_type": "code",
   "execution_count": 53,
   "id": "34358a86",
   "metadata": {
    "execution": {
     "iopub.execute_input": "2024-04-28T04:33:05.598721Z",
     "iopub.status.busy": "2024-04-28T04:33:05.598250Z",
     "iopub.status.idle": "2024-04-28T04:33:05.622178Z",
     "shell.execute_reply": "2024-04-28T04:33:05.620797Z"
    },
    "papermill": {
     "duration": 0.079243,
     "end_time": "2024-04-28T04:33:05.625117",
     "exception": false,
     "start_time": "2024-04-28T04:33:05.545874",
     "status": "completed"
    },
    "tags": []
   },
   "outputs": [
    {
     "data": {
      "text/html": [
       "<div>\n",
       "<style scoped>\n",
       "    .dataframe tbody tr th:only-of-type {\n",
       "        vertical-align: middle;\n",
       "    }\n",
       "\n",
       "    .dataframe tbody tr th {\n",
       "        vertical-align: top;\n",
       "    }\n",
       "\n",
       "    .dataframe thead th {\n",
       "        text-align: right;\n",
       "    }\n",
       "</style>\n",
       "<table border=\"1\" class=\"dataframe\">\n",
       "  <thead>\n",
       "    <tr style=\"text-align: right;\">\n",
       "      <th></th>\n",
       "      <th>count</th>\n",
       "      <th>mean</th>\n",
       "      <th>std</th>\n",
       "      <th>min</th>\n",
       "      <th>25%</th>\n",
       "      <th>50%</th>\n",
       "      <th>75%</th>\n",
       "      <th>max</th>\n",
       "    </tr>\n",
       "    <tr>\n",
       "      <th>type</th>\n",
       "      <th></th>\n",
       "      <th></th>\n",
       "      <th></th>\n",
       "      <th></th>\n",
       "      <th></th>\n",
       "      <th></th>\n",
       "      <th></th>\n",
       "      <th></th>\n",
       "    </tr>\n",
       "  </thead>\n",
       "  <tbody>\n",
       "    <tr>\n",
       "      <th>0</th>\n",
       "      <td>1288.0</td>\n",
       "      <td>15318.9705</td>\n",
       "      <td>7495.0145</td>\n",
       "      <td>2100.0</td>\n",
       "      <td>10800.0</td>\n",
       "      <td>14800.0</td>\n",
       "      <td>17500.0</td>\n",
       "      <td>87000.0</td>\n",
       "    </tr>\n",
       "    <tr>\n",
       "      <th>1</th>\n",
       "      <td>349.0</td>\n",
       "      <td>18502.9742</td>\n",
       "      <td>5078.9417</td>\n",
       "      <td>3800.0</td>\n",
       "      <td>16000.0</td>\n",
       "      <td>17800.0</td>\n",
       "      <td>19800.0</td>\n",
       "      <td>51000.0</td>\n",
       "    </tr>\n",
       "  </tbody>\n",
       "</table>\n",
       "</div>"
      ],
      "text/plain": [
       "       count        mean        std     min      25%      50%      75%  \\\n",
       "type                                                                     \n",
       "0     1288.0  15318.9705  7495.0145  2100.0  10800.0  14800.0  17500.0   \n",
       "1      349.0  18502.9742  5078.9417  3800.0  16000.0  17800.0  19800.0   \n",
       "\n",
       "          max  \n",
       "type           \n",
       "0     87000.0  \n",
       "1     51000.0  "
      ]
     },
     "execution_count": 53,
     "metadata": {},
     "output_type": "execute_result"
    }
   ],
   "source": [
    "train.groupby(f)[TARGET].describe()"
   ]
  },
  {
   "cell_type": "code",
   "execution_count": 54,
   "id": "61e335a7",
   "metadata": {
    "execution": {
     "iopub.execute_input": "2024-04-28T04:33:05.693990Z",
     "iopub.status.busy": "2024-04-28T04:33:05.693539Z",
     "iopub.status.idle": "2024-04-28T04:33:05.703122Z",
     "shell.execute_reply": "2024-04-28T04:33:05.701997Z"
    },
    "papermill": {
     "duration": 0.04767,
     "end_time": "2024-04-28T04:33:05.706184",
     "exception": false,
     "start_time": "2024-04-28T04:33:05.658514",
     "status": "completed"
    },
    "tags": []
   },
   "outputs": [
    {
     "data": {
      "text/plain": [
       "0.1819825470449954"
      ]
     },
     "execution_count": 54,
     "metadata": {},
     "output_type": "execute_result"
    }
   ],
   "source": [
    "train[f].corr(train[TARGET])"
   ]
  },
  {
   "cell_type": "markdown",
   "id": "0f27fd1e",
   "metadata": {
    "papermill": {
     "duration": 0.032869,
     "end_time": "2024-04-28T04:33:05.772728",
     "exception": false,
     "start_time": "2024-04-28T04:33:05.739859",
     "status": "completed"
    },
    "tags": []
   },
   "source": [
    "### status"
   ]
  },
  {
   "cell_type": "code",
   "execution_count": 55,
   "id": "3a443512",
   "metadata": {
    "execution": {
     "iopub.execute_input": "2024-04-28T04:33:05.841745Z",
     "iopub.status.busy": "2024-04-28T04:33:05.840209Z",
     "iopub.status.idle": "2024-04-28T04:33:05.846287Z",
     "shell.execute_reply": "2024-04-28T04:33:05.845056Z"
    },
    "papermill": {
     "duration": 0.043563,
     "end_time": "2024-04-28T04:33:05.848859",
     "exception": false,
     "start_time": "2024-04-28T04:33:05.805296",
     "status": "completed"
    },
    "tags": []
   },
   "outputs": [],
   "source": [
    "f = 'status'"
   ]
  },
  {
   "cell_type": "code",
   "execution_count": 56,
   "id": "3b43c4f7",
   "metadata": {
    "execution": {
     "iopub.execute_input": "2024-04-28T04:33:05.917855Z",
     "iopub.status.busy": "2024-04-28T04:33:05.917423Z",
     "iopub.status.idle": "2024-04-28T04:33:05.927863Z",
     "shell.execute_reply": "2024-04-28T04:33:05.926611Z"
    },
    "papermill": {
     "duration": 0.048238,
     "end_time": "2024-04-28T04:33:05.930449",
     "exception": false,
     "start_time": "2024-04-28T04:33:05.882211",
     "status": "completed"
    },
    "tags": []
   },
   "outputs": [
    {
     "data": {
      "text/plain": [
       "status\n",
       "excellent    0.7300\n",
       "good         0.2040\n",
       "normal       0.0354\n",
       "crashed      0.0177\n",
       "new          0.0128\n",
       "Name: proportion, dtype: float64"
      ]
     },
     "execution_count": 56,
     "metadata": {},
     "output_type": "execute_result"
    }
   ],
   "source": [
    "train[f].value_counts(normalize=True)"
   ]
  },
  {
   "cell_type": "code",
   "execution_count": 57,
   "id": "c81898b2",
   "metadata": {
    "execution": {
     "iopub.execute_input": "2024-04-28T04:33:06.000181Z",
     "iopub.status.busy": "2024-04-28T04:33:05.999738Z",
     "iopub.status.idle": "2024-04-28T04:33:06.033897Z",
     "shell.execute_reply": "2024-04-28T04:33:06.032981Z"
    },
    "papermill": {
     "duration": 0.071948,
     "end_time": "2024-04-28T04:33:06.036218",
     "exception": false,
     "start_time": "2024-04-28T04:33:05.964270",
     "status": "completed"
    },
    "tags": []
   },
   "outputs": [
    {
     "data": {
      "text/html": [
       "<div>\n",
       "<style scoped>\n",
       "    .dataframe tbody tr th:only-of-type {\n",
       "        vertical-align: middle;\n",
       "    }\n",
       "\n",
       "    .dataframe tbody tr th {\n",
       "        vertical-align: top;\n",
       "    }\n",
       "\n",
       "    .dataframe thead th {\n",
       "        text-align: right;\n",
       "    }\n",
       "</style>\n",
       "<table border=\"1\" class=\"dataframe\">\n",
       "  <thead>\n",
       "    <tr style=\"text-align: right;\">\n",
       "      <th></th>\n",
       "      <th>count</th>\n",
       "      <th>mean</th>\n",
       "      <th>std</th>\n",
       "      <th>min</th>\n",
       "      <th>25%</th>\n",
       "      <th>50%</th>\n",
       "      <th>75%</th>\n",
       "      <th>max</th>\n",
       "    </tr>\n",
       "    <tr>\n",
       "      <th>status</th>\n",
       "      <th></th>\n",
       "      <th></th>\n",
       "      <th></th>\n",
       "      <th></th>\n",
       "      <th></th>\n",
       "      <th></th>\n",
       "      <th></th>\n",
       "      <th></th>\n",
       "    </tr>\n",
       "  </thead>\n",
       "  <tbody>\n",
       "    <tr>\n",
       "      <th>crashed</th>\n",
       "      <td>29.0</td>\n",
       "      <td>13862.0690</td>\n",
       "      <td>4513.9003</td>\n",
       "      <td>3100.0</td>\n",
       "      <td>12500.0</td>\n",
       "      <td>13100.0</td>\n",
       "      <td>15700.0</td>\n",
       "      <td>24500.0</td>\n",
       "    </tr>\n",
       "    <tr>\n",
       "      <th>excellent</th>\n",
       "      <td>1195.0</td>\n",
       "      <td>17426.1858</td>\n",
       "      <td>6753.5342</td>\n",
       "      <td>3800.0</td>\n",
       "      <td>13800.0</td>\n",
       "      <td>16500.0</td>\n",
       "      <td>19500.0</td>\n",
       "      <td>87000.0</td>\n",
       "    </tr>\n",
       "    <tr>\n",
       "      <th>good</th>\n",
       "      <td>334.0</td>\n",
       "      <td>11913.8623</td>\n",
       "      <td>5642.4556</td>\n",
       "      <td>3000.0</td>\n",
       "      <td>7600.0</td>\n",
       "      <td>11450.0</td>\n",
       "      <td>15500.0</td>\n",
       "      <td>37500.0</td>\n",
       "    </tr>\n",
       "    <tr>\n",
       "      <th>new</th>\n",
       "      <td>21.0</td>\n",
       "      <td>25080.9524</td>\n",
       "      <td>13318.9571</td>\n",
       "      <td>12100.0</td>\n",
       "      <td>19900.0</td>\n",
       "      <td>23000.0</td>\n",
       "      <td>25500.0</td>\n",
       "      <td>78000.0</td>\n",
       "    </tr>\n",
       "    <tr>\n",
       "      <th>normal</th>\n",
       "      <td>58.0</td>\n",
       "      <td>7864.6552</td>\n",
       "      <td>4529.0196</td>\n",
       "      <td>2100.0</td>\n",
       "      <td>4350.0</td>\n",
       "      <td>6000.0</td>\n",
       "      <td>10000.0</td>\n",
       "      <td>17000.0</td>\n",
       "    </tr>\n",
       "  </tbody>\n",
       "</table>\n",
       "</div>"
      ],
      "text/plain": [
       "            count        mean         std      min      25%      50%      75%  \\\n",
       "status                                                                          \n",
       "crashed      29.0  13862.0690   4513.9003   3100.0  12500.0  13100.0  15700.0   \n",
       "excellent  1195.0  17426.1858   6753.5342   3800.0  13800.0  16500.0  19500.0   \n",
       "good        334.0  11913.8623   5642.4556   3000.0   7600.0  11450.0  15500.0   \n",
       "new          21.0  25080.9524  13318.9571  12100.0  19900.0  23000.0  25500.0   \n",
       "normal       58.0   7864.6552   4529.0196   2100.0   4350.0   6000.0  10000.0   \n",
       "\n",
       "               max  \n",
       "status              \n",
       "crashed    24500.0  \n",
       "excellent  87000.0  \n",
       "good       37500.0  \n",
       "new        78000.0  \n",
       "normal     17000.0  "
      ]
     },
     "execution_count": 57,
     "metadata": {},
     "output_type": "execute_result"
    }
   ],
   "source": [
    "train.groupby(f)[TARGET].describe()"
   ]
  },
  {
   "cell_type": "code",
   "execution_count": 58,
   "id": "f0348447",
   "metadata": {
    "execution": {
     "iopub.execute_input": "2024-04-28T04:33:06.106017Z",
     "iopub.status.busy": "2024-04-28T04:33:06.105640Z",
     "iopub.status.idle": "2024-04-28T04:33:06.116703Z",
     "shell.execute_reply": "2024-04-28T04:33:06.115304Z"
    },
    "papermill": {
     "duration": 0.049343,
     "end_time": "2024-04-28T04:33:06.119337",
     "exception": false,
     "start_time": "2024-04-28T04:33:06.069994",
     "status": "completed"
    },
    "tags": []
   },
   "outputs": [],
   "source": [
    "status_mapping = {'new': 0, 'excellent': 1, 'good': 2, 'normal': 3, 'crashed': 4}\n",
    "\n",
    "train['status'] = train.status.replace(status_mapping).astype('int')\n",
    "test['status'] = test.status.replace(status_mapping).astype('int')"
   ]
  },
  {
   "cell_type": "code",
   "execution_count": 59,
   "id": "be300dad",
   "metadata": {
    "execution": {
     "iopub.execute_input": "2024-04-28T04:33:06.191060Z",
     "iopub.status.busy": "2024-04-28T04:33:06.190273Z",
     "iopub.status.idle": "2024-04-28T04:33:06.200417Z",
     "shell.execute_reply": "2024-04-28T04:33:06.199325Z"
    },
    "papermill": {
     "duration": 0.048156,
     "end_time": "2024-04-28T04:33:06.202831",
     "exception": false,
     "start_time": "2024-04-28T04:33:06.154675",
     "status": "completed"
    },
    "tags": []
   },
   "outputs": [
    {
     "data": {
      "text/plain": [
       "-0.35362262889834556"
      ]
     },
     "execution_count": 59,
     "metadata": {},
     "output_type": "execute_result"
    }
   ],
   "source": [
    "train[f].corr(train[TARGET])"
   ]
  },
  {
   "cell_type": "markdown",
   "id": "56a20b43",
   "metadata": {
    "papermill": {
     "duration": 0.033064,
     "end_time": "2024-04-28T04:33:06.269126",
     "exception": false,
     "start_time": "2024-04-28T04:33:06.236062",
     "status": "completed"
    },
    "tags": []
   },
   "source": [
    "### motor_volume"
   ]
  },
  {
   "cell_type": "code",
   "execution_count": 60,
   "id": "9a54e001",
   "metadata": {
    "execution": {
     "iopub.execute_input": "2024-04-28T04:33:06.342105Z",
     "iopub.status.busy": "2024-04-28T04:33:06.341663Z",
     "iopub.status.idle": "2024-04-28T04:33:06.347052Z",
     "shell.execute_reply": "2024-04-28T04:33:06.345644Z"
    },
    "papermill": {
     "duration": 0.046643,
     "end_time": "2024-04-28T04:33:06.349752",
     "exception": false,
     "start_time": "2024-04-28T04:33:06.303109",
     "status": "completed"
    },
    "tags": []
   },
   "outputs": [],
   "source": [
    "f = 'motor_volume'"
   ]
  },
  {
   "cell_type": "code",
   "execution_count": 61,
   "id": "5ee83b81",
   "metadata": {
    "execution": {
     "iopub.execute_input": "2024-04-28T04:33:06.418459Z",
     "iopub.status.busy": "2024-04-28T04:33:06.417829Z",
     "iopub.status.idle": "2024-04-28T04:33:06.427596Z",
     "shell.execute_reply": "2024-04-28T04:33:06.426436Z"
    },
    "papermill": {
     "duration": 0.047191,
     "end_time": "2024-04-28T04:33:06.429939",
     "exception": false,
     "start_time": "2024-04-28T04:33:06.382748",
     "status": "completed"
    },
    "tags": []
   },
   "outputs": [
    {
     "data": {
      "text/plain": [
       "array([2. , 3.2, 1.8, 2.5, 1.6, 3. , 1.5, 0.2, 1.4, 2.6, 2.4, 2.8, 4. ,\n",
       "       0.3, 2.2, 3.5, 2.3, 1.3, 1.2])"
      ]
     },
     "execution_count": 61,
     "metadata": {},
     "output_type": "execute_result"
    }
   ],
   "source": [
    "train[f].unique()"
   ]
  },
  {
   "cell_type": "code",
   "execution_count": 62,
   "id": "f2bc67fe",
   "metadata": {
    "execution": {
     "iopub.execute_input": "2024-04-28T04:33:06.499918Z",
     "iopub.status.busy": "2024-04-28T04:33:06.499474Z",
     "iopub.status.idle": "2024-04-28T04:33:06.512160Z",
     "shell.execute_reply": "2024-04-28T04:33:06.510944Z"
    },
    "papermill": {
     "duration": 0.050888,
     "end_time": "2024-04-28T04:33:06.514403",
     "exception": false,
     "start_time": "2024-04-28T04:33:06.463515",
     "status": "completed"
    },
    "tags": []
   },
   "outputs": [
    {
     "data": {
      "text/plain": [
       "motor_volume\n",
       "2.0    1284\n",
       "2.5     121\n",
       "1.8     120\n",
       "1.6      47\n",
       "3.0      23\n",
       "2.4       9\n",
       "3.5       6\n",
       "2.8       5\n",
       "3.2       4\n",
       "2.6       4\n",
       "1.5       4\n",
       "0.2       2\n",
       "2.2       2\n",
       "1.4       1\n",
       "4.0       1\n",
       "0.3       1\n",
       "2.3       1\n",
       "1.3       1\n",
       "1.2       1\n",
       "Name: count, dtype: int64"
      ]
     },
     "execution_count": 62,
     "metadata": {},
     "output_type": "execute_result"
    }
   ],
   "source": [
    "train[f].value_counts()"
   ]
  },
  {
   "cell_type": "code",
   "execution_count": 63,
   "id": "d27cf94a",
   "metadata": {
    "execution": {
     "iopub.execute_input": "2024-04-28T04:33:06.585938Z",
     "iopub.status.busy": "2024-04-28T04:33:06.584542Z",
     "iopub.status.idle": "2024-04-28T04:33:06.592881Z",
     "shell.execute_reply": "2024-04-28T04:33:06.591863Z"
    },
    "papermill": {
     "duration": 0.046337,
     "end_time": "2024-04-28T04:33:06.595171",
     "exception": false,
     "start_time": "2024-04-28T04:33:06.548834",
     "status": "completed"
    },
    "tags": []
   },
   "outputs": [
    {
     "data": {
      "text/plain": [
       "0.001777466370221828"
      ]
     },
     "execution_count": 63,
     "metadata": {},
     "output_type": "execute_result"
    }
   ],
   "source": [
    "train[f].corr(train[TARGET])"
   ]
  },
  {
   "cell_type": "markdown",
   "id": "7b176b6e",
   "metadata": {
    "papermill": {
     "duration": 0.035456,
     "end_time": "2024-04-28T04:33:06.666821",
     "exception": false,
     "start_time": "2024-04-28T04:33:06.631365",
     "status": "completed"
    },
    "tags": []
   },
   "source": [
    "# Hyperparameter tuning"
   ]
  },
  {
   "cell_type": "code",
   "execution_count": 64,
   "id": "ed94ba37",
   "metadata": {
    "execution": {
     "iopub.execute_input": "2024-04-28T04:33:06.737755Z",
     "iopub.status.busy": "2024-04-28T04:33:06.736939Z",
     "iopub.status.idle": "2024-04-28T04:33:06.742023Z",
     "shell.execute_reply": "2024-04-28T04:33:06.740889Z"
    },
    "papermill": {
     "duration": 0.04368,
     "end_time": "2024-04-28T04:33:06.744570",
     "exception": false,
     "start_time": "2024-04-28T04:33:06.700890",
     "status": "completed"
    },
    "tags": []
   },
   "outputs": [],
   "source": [
    "features = [f for f in test.columns]\n",
    "cat_features = ['model', 'motor_type', 'color', 'type', 'status']"
   ]
  },
  {
   "cell_type": "code",
   "execution_count": 65,
   "id": "f464866b",
   "metadata": {
    "execution": {
     "iopub.execute_input": "2024-04-28T04:33:06.817428Z",
     "iopub.status.busy": "2024-04-28T04:33:06.817032Z",
     "iopub.status.idle": "2024-04-28T04:33:06.824178Z",
     "shell.execute_reply": "2024-04-28T04:33:06.822903Z"
    },
    "papermill": {
     "duration": 0.047236,
     "end_time": "2024-04-28T04:33:06.827043",
     "exception": false,
     "start_time": "2024-04-28T04:33:06.779807",
     "status": "completed"
    },
    "tags": []
   },
   "outputs": [],
   "source": [
    "# LightGBM dataset\n",
    "dtrain = lgb.Dataset(\n",
    "    data=train[features],\n",
    "    label=train[TARGET],\n",
    "    feature_name=features,\n",
    "    categorical_feature=cat_features)"
   ]
  },
  {
   "cell_type": "code",
   "execution_count": 66,
   "id": "611c9922",
   "metadata": {
    "execution": {
     "iopub.execute_input": "2024-04-28T04:33:06.896859Z",
     "iopub.status.busy": "2024-04-28T04:33:06.896438Z",
     "iopub.status.idle": "2024-04-28T04:33:06.902745Z",
     "shell.execute_reply": "2024-04-28T04:33:06.901284Z"
    },
    "papermill": {
     "duration": 0.044318,
     "end_time": "2024-04-28T04:33:06.905227",
     "exception": false,
     "start_time": "2024-04-28T04:33:06.860909",
     "status": "completed"
    },
    "tags": []
   },
   "outputs": [],
   "source": [
    "base_params = {\n",
    "    'objective': 'regression',\n",
    "    'metric': 'mae',\n",
    "    'learning_rate': 0.01,\n",
    "    'boosting_type': 'gbdt',\n",
    "    'force_row_wise': True,\n",
    "    'verbosity': -1,\n",
    "    'n_jobs': -1,\n",
    "    'deterministic': True,\n",
    "    'random_state': SEED\n",
    "}"
   ]
  },
  {
   "cell_type": "code",
   "execution_count": 67,
   "id": "fbdb8338",
   "metadata": {
    "execution": {
     "iopub.execute_input": "2024-04-28T04:33:06.974987Z",
     "iopub.status.busy": "2024-04-28T04:33:06.973813Z",
     "iopub.status.idle": "2024-04-28T04:33:06.980118Z",
     "shell.execute_reply": "2024-04-28T04:33:06.978889Z"
    },
    "papermill": {
     "duration": 0.044214,
     "end_time": "2024-04-28T04:33:06.982826",
     "exception": false,
     "start_time": "2024-04-28T04:33:06.938612",
     "status": "completed"
    },
    "tags": []
   },
   "outputs": [],
   "source": [
    "early_stopping = lgb.early_stopping(\n",
    "    stopping_rounds=100,\n",
    "    first_metric_only=True,\n",
    "    verbose=False,\n",
    "    min_delta=1e-4)"
   ]
  },
  {
   "cell_type": "code",
   "execution_count": 68,
   "id": "42427c0b",
   "metadata": {
    "execution": {
     "iopub.execute_input": "2024-04-28T04:33:07.053300Z",
     "iopub.status.busy": "2024-04-28T04:33:07.052638Z",
     "iopub.status.idle": "2024-04-28T04:33:07.061061Z",
     "shell.execute_reply": "2024-04-28T04:33:07.059442Z"
    },
    "papermill": {
     "duration": 0.046319,
     "end_time": "2024-04-28T04:33:07.063480",
     "exception": false,
     "start_time": "2024-04-28T04:33:07.017161",
     "status": "completed"
    },
    "tags": []
   },
   "outputs": [
    {
     "name": "stderr",
     "output_type": "stream",
     "text": [
      "[I 2024-04-28 04:33:07,057] A new study created in memory with name: no-name-5cd00353-12de-4946-816f-cd2e87341856\n"
     ]
    }
   ],
   "source": [
    "BUDGET = 60 * 60 * 2\n",
    "NUM_FOLDS = 7\n",
    "\n",
    "tuner = lgb.LightGBMTunerCV(\n",
    "    time_budget=BUDGET,\n",
    "    optuna_seed=SEED,\n",
    "    params=base_params,\n",
    "    train_set=dtrain,\n",
    "    num_boost_round=10000,\n",
    "    folds=KFold(n_splits=NUM_FOLDS, shuffle=True, random_state=SEED),\n",
    "    feature_name=features,\n",
    "    categorical_feature=cat_features,\n",
    "    callbacks=[early_stopping],\n",
    "    seed=SEED)"
   ]
  },
  {
   "cell_type": "code",
   "execution_count": 69,
   "id": "f4d564d3",
   "metadata": {
    "execution": {
     "iopub.execute_input": "2024-04-28T04:33:07.136641Z",
     "iopub.status.busy": "2024-04-28T04:33:07.135468Z",
     "iopub.status.idle": "2024-04-28T05:04:15.699044Z",
     "shell.execute_reply": "2024-04-28T05:04:15.697470Z"
    },
    "papermill": {
     "duration": 1868.666563,
     "end_time": "2024-04-28T05:04:15.765727",
     "exception": false,
     "start_time": "2024-04-28T04:33:07.099164",
     "status": "completed"
    },
    "tags": []
   },
   "outputs": [
    {
     "name": "stderr",
     "output_type": "stream",
     "text": [
      "feature_fraction, val_score: 2115.519510:  14%|#4        | 1/7 [01:19<07:55, 79.24s/it][I 2024-04-28 04:34:26,382] Trial 0 finished with value: 2115.519510167192 and parameters: {'feature_fraction': 0.5}. Best is trial 0 with value: 2115.519510167192.\n",
      "feature_fraction, val_score: 2063.054101:  29%|##8       | 2/7 [01:52<04:20, 52.11s/it][I 2024-04-28 04:34:59,505] Trial 1 finished with value: 2063.054101271612 and parameters: {'feature_fraction': 0.8999999999999999}. Best is trial 1 with value: 2063.054101271612.\n",
      "feature_fraction, val_score: 2063.054101:  43%|####2     | 3/7 [02:39<03:19, 49.83s/it][I 2024-04-28 04:35:46,616] Trial 2 finished with value: 2080.7707374610254 and parameters: {'feature_fraction': 0.7}. Best is trial 1 with value: 2063.054101271612.\n",
      "feature_fraction, val_score: 2063.054101:  57%|#####7    | 4/7 [03:24<02:24, 48.08s/it][I 2024-04-28 04:36:32,025] Trial 3 finished with value: 2080.7707374610254 and parameters: {'feature_fraction': 0.8}. Best is trial 1 with value: 2063.054101271612.\n",
      "feature_fraction, val_score: 2063.054101:  71%|#######1  | 5/7 [03:55<01:23, 41.86s/it][I 2024-04-28 04:37:02,848] Trial 4 finished with value: 2066.5881503649293 and parameters: {'feature_fraction': 1.0}. Best is trial 1 with value: 2063.054101271612.\n",
      "feature_fraction, val_score: 2063.054101:  86%|########5 | 6/7 [04:45<00:44, 44.52s/it][I 2024-04-28 04:37:52,540] Trial 5 finished with value: 2093.2789853203008 and parameters: {'feature_fraction': 0.6}. Best is trial 1 with value: 2063.054101271612.\n",
      "feature_fraction, val_score: 2063.054101: 100%|##########| 7/7 [06:17<00:00, 59.97s/it][I 2024-04-28 04:39:24,302] Trial 6 finished with value: 2147.126568791944 and parameters: {'feature_fraction': 0.4}. Best is trial 1 with value: 2063.054101271612.\n",
      "feature_fraction, val_score: 2063.054101: 100%|##########| 7/7 [06:17<00:00, 53.88s/it]\n",
      "num_leaves, val_score: 2063.054101:   5%|5         | 1/20 [00:48<15:20, 48.43s/it][I 2024-04-28 04:40:12,745] Trial 7 finished with value: 2085.317660712179 and parameters: {'num_leaves': 151}. Best is trial 7 with value: 2085.317660712179.\n",
      "num_leaves, val_score: 2063.054101:  10%|#         | 2/20 [01:36<14:25, 48.11s/it][I 2024-04-28 04:41:00,627] Trial 8 finished with value: 2085.317660712179 and parameters: {'num_leaves': 180}. Best is trial 7 with value: 2085.317660712179.\n",
      "num_leaves, val_score: 2063.054101:  15%|#5        | 3/20 [02:22<13:22, 47.23s/it][I 2024-04-28 04:41:46,821] Trial 9 finished with value: 2083.5553726529242 and parameters: {'num_leaves': 49}. Best is trial 9 with value: 2083.5553726529242.\n",
      "num_leaves, val_score: 2033.710787:  20%|##        | 4/20 [02:45<10:05, 37.82s/it][I 2024-04-28 04:42:10,208] Trial 10 finished with value: 2033.7107870359291 and parameters: {'num_leaves': 19}. Best is trial 10 with value: 2033.7107870359291.\n",
      "num_leaves, val_score: 2030.902057:  25%|##5       | 5/20 [03:07<08:01, 32.12s/it][I 2024-04-28 04:42:32,224] Trial 11 finished with value: 2030.9020566114516 and parameters: {'num_leaves': 18}. Best is trial 11 with value: 2030.9020566114516.\n",
      "num_leaves, val_score: 2030.902057:  30%|###       | 6/20 [03:48<08:09, 34.94s/it][I 2024-04-28 04:43:12,627] Trial 12 finished with value: 2047.1468169006528 and parameters: {'num_leaves': 24}. Best is trial 11 with value: 2030.9020566114516.\n",
      "num_leaves, val_score: 2011.779528:  35%|###5      | 7/20 [04:04<06:13, 28.75s/it][I 2024-04-28 04:43:28,629] Trial 13 finished with value: 2011.7795280967289 and parameters: {'num_leaves': 6}. Best is trial 13 with value: 2011.7795280967289.\n",
      "num_leaves, val_score: 2011.779528:  40%|####      | 8/20 [04:52<06:58, 34.89s/it][I 2024-04-28 04:44:16,671] Trial 14 finished with value: 2085.317660712179 and parameters: {'num_leaves': 89}. Best is trial 13 with value: 2011.7795280967289.\n",
      "num_leaves, val_score: 2011.779528:  45%|####5     | 9/20 [05:13<05:35, 30.49s/it][I 2024-04-28 04:44:37,477] Trial 15 finished with value: 2050.715130631096 and parameters: {'num_leaves': 3}. Best is trial 13 with value: 2011.7795280967289.\n",
      "num_leaves, val_score: 2011.779528:  50%|#####     | 10/20 [06:02<06:03, 36.39s/it][I 2024-04-28 04:45:27,096] Trial 16 finished with value: 2085.317660712179 and parameters: {'num_leaves': 226}. Best is trial 13 with value: 2011.7795280967289.\n",
      "num_leaves, val_score: 2011.779528:  55%|#####5    | 11/20 [06:50<05:59, 39.99s/it][I 2024-04-28 04:46:15,249] Trial 17 finished with value: 2085.317660712179 and parameters: {'num_leaves': 80}. Best is trial 13 with value: 2011.7795280967289.\n",
      "num_leaves, val_score: 2011.779528:  60%|######    | 12/20 [07:39<05:41, 42.72s/it][I 2024-04-28 04:47:04,205] Trial 18 finished with value: 2085.317660712179 and parameters: {'num_leaves': 81}. Best is trial 13 with value: 2011.7795280967289.\n",
      "num_leaves, val_score: 2011.779528:  65%|######5   | 13/20 [08:27<05:09, 44.26s/it][I 2024-04-28 04:47:51,996] Trial 19 finished with value: 2084.963507061163 and parameters: {'num_leaves': 53}. Best is trial 13 with value: 2011.7795280967289.\n",
      "num_leaves, val_score: 2011.779528:  70%|#######   | 14/20 [09:15<04:32, 45.34s/it][I 2024-04-28 04:48:39,834] Trial 20 finished with value: 2085.317660712179 and parameters: {'num_leaves': 115}. Best is trial 13 with value: 2011.7795280967289.\n",
      "num_leaves, val_score: 2011.779528:  75%|#######5  | 15/20 [09:43<03:20, 40.15s/it][I 2024-04-28 04:49:07,975] Trial 21 finished with value: 2345.274387460256 and parameters: {'num_leaves': 2}. Best is trial 13 with value: 2011.7795280967289.\n",
      "num_leaves, val_score: 2011.779528:  80%|########  | 16/20 [10:19<02:35, 38.80s/it][I 2024-04-28 04:49:43,636] Trial 22 finished with value: 2074.6572454225907 and parameters: {'num_leaves': 39}. Best is trial 13 with value: 2011.7795280967289.\n",
      "num_leaves, val_score: 2011.779528:  85%|########5 | 17/20 [10:42<01:42, 34.10s/it][I 2024-04-28 04:50:06,816] Trial 23 finished with value: 2040.9366283208035 and parameters: {'num_leaves': 21}. Best is trial 13 with value: 2011.7795280967289.\n",
      "num_leaves, val_score: 2011.779528:  90%|######### | 18/20 [11:39<01:22, 41.04s/it][I 2024-04-28 04:51:04,006] Trial 24 finished with value: 2084.8457171396863 and parameters: {'num_leaves': 52}. Best is trial 13 with value: 2011.7795280967289.\n",
      "num_leaves, val_score: 2011.779528:  95%|#########5| 19/20 [12:11<00:38, 38.12s/it][I 2024-04-28 04:51:35,316] Trial 25 finished with value: 2049.1822810799376 and parameters: {'num_leaves': 23}. Best is trial 13 with value: 2011.7795280967289.\n",
      "num_leaves, val_score: 2011.779528: 100%|##########| 20/20 [13:07<00:00, 43.54s/it][I 2024-04-28 04:52:31,512] Trial 26 finished with value: 2085.317660712179 and parameters: {'num_leaves': 67}. Best is trial 13 with value: 2011.7795280967289.\n",
      "num_leaves, val_score: 2011.779528: 100%|##########| 20/20 [13:07<00:00, 39.36s/it]\n",
      "bagging, val_score: 2011.779528:  10%|#         | 1/10 [00:12<01:48, 12.02s/it][I 2024-04-28 04:52:43,549] Trial 27 finished with value: 2032.6399347447434 and parameters: {'bagging_fraction': 0.5736183015264869, 'bagging_freq': 3}. Best is trial 27 with value: 2032.6399347447434.\n",
      "bagging, val_score: 2011.779528:  20%|##        | 2/10 [00:30<02:06, 15.76s/it][I 2024-04-28 04:53:01,926] Trial 28 finished with value: 2022.1085532273814 and parameters: {'bagging_fraction': 0.569487074468038, 'bagging_freq': 3}. Best is trial 28 with value: 2022.1085532273814.\n",
      "bagging, val_score: 2011.779528:  30%|###       | 3/10 [00:46<01:50, 15.77s/it][I 2024-04-28 04:53:17,698] Trial 29 finished with value: 2034.5721584580272 and parameters: {'bagging_fraction': 0.4259941696887872, 'bagging_freq': 3}. Best is trial 28 with value: 2022.1085532273814.\n",
      "bagging, val_score: 2006.761903:  40%|####      | 4/10 [01:01<01:34, 15.77s/it][I 2024-04-28 04:53:33,466] Trial 30 finished with value: 2006.7619025285592 and parameters: {'bagging_fraction': 0.928412772698898, 'bagging_freq': 7}. Best is trial 30 with value: 2006.7619025285592.\n",
      "bagging, val_score: 2006.761903:  50%|#####     | 5/10 [01:15<01:15, 15.13s/it][I 2024-04-28 04:53:47,460] Trial 31 finished with value: 2009.0583652050668 and parameters: {'bagging_fraction': 0.9918553998641372, 'bagging_freq': 7}. Best is trial 30 with value: 2006.7619025285592.\n",
      "bagging, val_score: 2006.761903:  60%|######    | 6/10 [01:30<00:59, 14.87s/it][I 2024-04-28 04:54:01,823] Trial 32 finished with value: 2007.1908096469747 and parameters: {'bagging_fraction': 0.9444160695125263, 'bagging_freq': 7}. Best is trial 30 with value: 2006.7619025285592.\n",
      "bagging, val_score: 2006.761903:  70%|#######   | 7/10 [01:43<00:43, 14.40s/it][I 2024-04-28 04:54:15,276] Trial 33 finished with value: 2008.859998571121 and parameters: {'bagging_fraction': 0.9938745316035801, 'bagging_freq': 7}. Best is trial 30 with value: 2006.7619025285592.\n",
      "bagging, val_score: 2006.323958:  80%|########  | 8/10 [01:57<00:28, 14.26s/it][I 2024-04-28 04:54:29,241] Trial 34 finished with value: 2006.3239580019504 and parameters: {'bagging_fraction': 0.985994291293045, 'bagging_freq': 7}. Best is trial 34 with value: 2006.3239580019504.\n",
      "bagging, val_score: 2006.323958:  90%|######### | 9/10 [02:12<00:14, 14.44s/it][I 2024-04-28 04:54:44,052] Trial 35 finished with value: 2007.8040416735873 and parameters: {'bagging_fraction': 0.9869664298270467, 'bagging_freq': 7}. Best is trial 34 with value: 2006.3239580019504.\n",
      "bagging, val_score: 2006.193244: 100%|##########| 10/10 [02:27<00:00, 14.53s/it][I 2024-04-28 04:54:58,787] Trial 36 finished with value: 2006.1932441083486 and parameters: {'bagging_fraction': 0.8985724258081224, 'bagging_freq': 7}. Best is trial 36 with value: 2006.1932441083486.\n",
      "bagging, val_score: 2006.193244: 100%|##########| 10/10 [02:27<00:00, 14.73s/it]\n",
      "feature_fraction_stage2, val_score: 2006.193244:  17%|#6        | 1/6 [00:19<01:38, 19.77s/it][I 2024-04-28 04:55:18,570] Trial 37 finished with value: 2006.1932441083486 and parameters: {'feature_fraction': 0.8839999999999999}. Best is trial 37 with value: 2006.1932441083486.\n",
      "feature_fraction_stage2, val_score: 2006.193244:  33%|###3      | 2/6 [00:35<01:10, 17.68s/it][I 2024-04-28 04:55:34,784] Trial 38 finished with value: 2006.1932441083486 and parameters: {'feature_fraction': 0.852}. Best is trial 37 with value: 2006.1932441083486.\n",
      "feature_fraction_stage2, val_score: 2006.193244:  50%|#####     | 3/6 [00:52<00:51, 17.08s/it][I 2024-04-28 04:55:51,146] Trial 39 finished with value: 2006.1932441083486 and parameters: {'feature_fraction': 0.82}. Best is trial 37 with value: 2006.1932441083486.\n",
      "feature_fraction_stage2, val_score: 2006.193244:  67%|######6   | 4/6 [01:09<00:33, 16.95s/it][I 2024-04-28 04:56:07,896] Trial 40 finished with value: 2006.1932441083486 and parameters: {'feature_fraction': 0.9159999999999999}. Best is trial 37 with value: 2006.1932441083486.\n",
      "feature_fraction_stage2, val_score: 2006.193244:  83%|########3 | 5/6 [01:30<00:18, 18.57s/it][I 2024-04-28 04:56:29,329] Trial 41 finished with value: 2012.6373708599417 and parameters: {'feature_fraction': 0.948}. Best is trial 37 with value: 2006.1932441083486.\n",
      "feature_fraction_stage2, val_score: 2006.193244: 100%|##########| 6/6 [01:50<00:00, 18.95s/it][I 2024-04-28 04:56:49,028] Trial 42 finished with value: 2012.6373708599417 and parameters: {'feature_fraction': 0.9799999999999999}. Best is trial 37 with value: 2006.1932441083486.\n",
      "feature_fraction_stage2, val_score: 2006.193244: 100%|##########| 6/6 [01:50<00:00, 18.37s/it]\n",
      "regularization_factors, val_score: 2006.193238:   5%|5         | 1/20 [00:14<04:42, 14.89s/it][I 2024-04-28 04:57:03,928] Trial 43 finished with value: 2006.193237889772 and parameters: {'lambda_l1': 4.020448680588366e-06, 'lambda_l2': 5.063045298563952e-06}. Best is trial 43 with value: 2006.193237889772.\n",
      "regularization_factors, val_score: 2006.193238:  10%|#         | 2/20 [00:32<04:55, 16.41s/it][I 2024-04-28 04:57:21,409] Trial 44 finished with value: 2006.1932406639207 and parameters: {'lambda_l1': 3.485829307948253e-06, 'lambda_l2': 2.816150674907995e-06}. Best is trial 43 with value: 2006.193237889772.\n",
      "regularization_factors, val_score: 2006.193238:  15%|#5        | 3/20 [00:46<04:24, 15.56s/it][I 2024-04-28 04:57:35,947] Trial 45 finished with value: 2006.193239927691 and parameters: {'lambda_l1': 1.1432519221803943e-06, 'lambda_l2': 3.427460308826897e-06}. Best is trial 43 with value: 2006.193237889772.\n",
      "regularization_factors, val_score: 2006.193238:  20%|##        | 4/20 [01:02<04:07, 15.45s/it][I 2024-04-28 04:57:51,219] Trial 46 finished with value: 2006.1932413955772 and parameters: {'lambda_l1': 1.7176936549689955e-06, 'lambda_l2': 2.182990511409827e-06}. Best is trial 43 with value: 2006.193237889772.\n",
      "regularization_factors, val_score: 2006.193238:  25%|##5       | 5/20 [01:15<03:41, 14.80s/it][I 2024-04-28 04:58:04,873] Trial 47 finished with value: 2006.193240946653 and parameters: {'lambda_l1': 1.6265148955346925e-06, 'lambda_l2': 2.6117776612598577e-06}. Best is trial 43 with value: 2006.193237889772.\n",
      "regularization_factors, val_score: 2006.193238:  30%|###       | 6/20 [01:30<03:28, 14.90s/it][I 2024-04-28 04:58:19,958] Trial 48 finished with value: 2006.1932407942968 and parameters: {'lambda_l1': 1.5777540521924177e-06, 'lambda_l2': 2.7053417350420476e-06}. Best is trial 43 with value: 2006.193237889772.\n",
      "regularization_factors, val_score: 2006.193238:  35%|###5      | 7/20 [01:44<03:07, 14.39s/it][I 2024-04-28 04:58:33,292] Trial 49 finished with value: 2006.1932403150993 and parameters: {'lambda_l1': 1.7699483442712814e-06, 'lambda_l2': 3.139074580698343e-06}. Best is trial 43 with value: 2006.193237889772.\n",
      "regularization_factors, val_score: 2006.193237:  40%|####      | 8/20 [01:57<02:48, 14.07s/it][I 2024-04-28 04:58:46,672] Trial 50 finished with value: 2006.1932369271885 and parameters: {'lambda_l1': 1.7428955097452355e-06, 'lambda_l2': 5.858185546297467e-06}. Best is trial 50 with value: 2006.1932369271885.\n",
      "regularization_factors, val_score: 2006.193237:  45%|####5     | 9/20 [02:11<02:33, 13.98s/it][I 2024-04-28 04:59:00,450] Trial 51 finished with value: 2006.1932392260733 and parameters: {'lambda_l1': 2.17363715439928e-06, 'lambda_l2': 3.947390062713971e-06}. Best is trial 50 with value: 2006.1932369271885.\n",
      "regularization_factors, val_score: 2006.193237:  50%|#####     | 10/20 [02:24<02:17, 13.74s/it][I 2024-04-28 04:59:13,648] Trial 52 finished with value: 2006.1932395594445 and parameters: {'lambda_l1': 2.191430852252822e-06, 'lambda_l2': 3.7150944373160727e-06}. Best is trial 50 with value: 2006.1932369271885.\n",
      "regularization_factors, val_score: 2006.193237:  55%|#####5    | 11/20 [02:38<02:04, 13.83s/it][I 2024-04-28 04:59:27,691] Trial 53 finished with value: 2006.1932380406845 and parameters: {'lambda_l1': 1.9619859226095685e-06, 'lambda_l2': 4.937687841546715e-06}. Best is trial 50 with value: 2006.1932369271885.\n",
      "regularization_factors, val_score: 2006.193226:  60%|######    | 12/20 [02:51<01:48, 13.59s/it][I 2024-04-28 04:59:40,739] Trial 54 finished with value: 2006.1932255055685 and parameters: {'lambda_l1': 3.6238455570347787e-06, 'lambda_l2': 1.5225381987681287e-05}. Best is trial 54 with value: 2006.1932255055685.\n",
      "regularization_factors, val_score: 2001.591976:  65%|######5   | 13/20 [03:11<01:49, 15.60s/it][I 2024-04-28 05:00:00,954] Trial 55 finished with value: 2001.5919762099036 and parameters: {'lambda_l1': 5.0527092855282314e-05, 'lambda_l2': 0.0004141907859513237}. Best is trial 55 with value: 2001.5919762099036.\n",
      "regularization_factors, val_score: 2001.591976:  70%|#######   | 14/20 [03:28<01:35, 15.86s/it][I 2024-04-28 05:00:17,405] Trial 56 finished with value: 2003.6643769116924 and parameters: {'lambda_l1': 0.001053242634195612, 'lambda_l2': 0.0006011402239003269}. Best is trial 55 with value: 2001.5919762099036.\n",
      "regularization_factors, val_score: 2001.227942:  75%|#######5  | 15/20 [03:53<01:33, 18.73s/it][I 2024-04-28 05:00:42,791] Trial 57 finished with value: 2001.2279420816735 and parameters: {'lambda_l1': 0.006729839084572564, 'lambda_l2': 0.0031520042724419817}. Best is trial 57 with value: 2001.2279420816735.\n",
      "regularization_factors, val_score: 2001.227942:  80%|########  | 16/20 [04:15<01:18, 19.65s/it][I 2024-04-28 05:01:04,570] Trial 58 finished with value: 2003.6021671995877 and parameters: {'lambda_l1': 0.005581495260181786, 'lambda_l2': 0.0014928017711835714}. Best is trial 57 with value: 2001.2279420816735.\n",
      "regularization_factors, val_score: 2001.227942:  85%|########5 | 17/20 [04:35<00:59, 19.72s/it][I 2024-04-28 05:01:24,455] Trial 59 finished with value: 2006.5397052903038 and parameters: {'lambda_l1': 0.007802079731303507, 'lambda_l2': 0.016131509398171966}. Best is trial 57 with value: 2001.2279420816735.\n",
      "regularization_factors, val_score: 2001.227942:  90%|######### | 18/20 [04:59<00:41, 20.88s/it][I 2024-04-28 05:01:48,042] Trial 60 finished with value: 2003.5267783304164 and parameters: {'lambda_l1': 0.001125071073153438, 'lambda_l2': 0.0008781712478717758}. Best is trial 57 with value: 2001.2279420816735.\n",
      "regularization_factors, val_score: 2001.227942:  95%|#########5| 19/20 [05:19<00:20, 20.88s/it][I 2024-04-28 05:02:08,910] Trial 61 finished with value: 2003.6022165463396 and parameters: {'lambda_l1': 0.0014910772002368468, 'lambda_l2': 0.001466438400944569}. Best is trial 57 with value: 2001.2279420816735.\n",
      "regularization_factors, val_score: 2001.227942: 100%|##########| 20/20 [05:39<00:00, 20.59s/it][I 2024-04-28 05:02:28,817] Trial 62 finished with value: 2003.611025236059 and parameters: {'lambda_l1': 0.0009201983771162018, 'lambda_l2': 0.0009640620523945894}. Best is trial 57 with value: 2001.2279420816735.\n",
      "regularization_factors, val_score: 2001.227942: 100%|##########| 20/20 [05:39<00:00, 16.99s/it]\n",
      "min_child_samples, val_score: 1999.410310:  20%|##        | 1/5 [00:19<01:17, 19.47s/it][I 2024-04-28 05:02:48,296] Trial 63 finished with value: 1999.4103104764106 and parameters: {'min_child_samples': 25}. Best is trial 63 with value: 1999.4103104764106.\n",
      "min_child_samples, val_score: 1988.721503:  40%|####      | 2/5 [00:33<00:48, 16.15s/it][I 2024-04-28 05:03:02,116] Trial 64 finished with value: 1988.7215033239197 and parameters: {'min_child_samples': 10}. Best is trial 64 with value: 1988.7215033239197.\n",
      "min_child_samples, val_score: 1988.721503:  60%|######    | 3/5 [00:53<00:36, 18.21s/it][I 2024-04-28 05:03:22,780] Trial 65 finished with value: 2003.5232973545847 and parameters: {'min_child_samples': 5}. Best is trial 64 with value: 1988.7215033239197.\n",
      "min_child_samples, val_score: 1988.721503:  80%|########  | 4/5 [01:23<00:22, 22.60s/it][I 2024-04-28 05:03:52,114] Trial 66 finished with value: 2104.4856467992545 and parameters: {'min_child_samples': 100}. Best is trial 64 with value: 1988.7215033239197.\n",
      "min_child_samples, val_score: 1985.123001: 100%|##########| 5/5 [01:46<00:00, 22.95s/it][I 2024-04-28 05:04:15,690] Trial 67 finished with value: 1985.1230012927092 and parameters: {'min_child_samples': 50}. Best is trial 67 with value: 1985.1230012927092.\n",
      "min_child_samples, val_score: 1985.123001: 100%|##########| 5/5 [01:46<00:00, 21.37s/it]"
     ]
    },
    {
     "name": "stdout",
     "output_type": "stream",
     "text": [
      "CPU times: user 20min 3s, sys: 20min 17s, total: 40min 21s\n",
      "Wall time: 31min 8s\n"
     ]
    },
    {
     "name": "stderr",
     "output_type": "stream",
     "text": [
      "\n"
     ]
    }
   ],
   "source": [
    "%%time\n",
    "tuner.run()"
   ]
  },
  {
   "cell_type": "code",
   "execution_count": 70,
   "id": "3b392736",
   "metadata": {
    "execution": {
     "iopub.execute_input": "2024-04-28T05:04:15.889339Z",
     "iopub.status.busy": "2024-04-28T05:04:15.888813Z",
     "iopub.status.idle": "2024-04-28T05:04:15.897699Z",
     "shell.execute_reply": "2024-04-28T05:04:15.896300Z"
    },
    "papermill": {
     "duration": 0.074415,
     "end_time": "2024-04-28T05:04:15.900570",
     "exception": false,
     "start_time": "2024-04-28T05:04:15.826155",
     "status": "completed"
    },
    "tags": []
   },
   "outputs": [
    {
     "name": "stdout",
     "output_type": "stream",
     "text": [
      "Best score: 1985.12300\n",
      "Best hyperparameters:\n",
      "objective            - regression\n",
      "metric               - l1\n",
      "learning_rate        - 0.01\n",
      "boosting_type        - gbdt\n",
      "force_row_wise       - True\n",
      "verbosity            - -1\n",
      "n_jobs               - -1\n",
      "deterministic        - True\n",
      "random_state         - 2024\n",
      "feature_pre_filter   - False\n",
      "lambda_l1            - 0.006729839084572564\n",
      "lambda_l2            - 0.0031520042724419817\n",
      "num_leaves           - 6\n",
      "feature_fraction     - 0.8999999999999999\n",
      "bagging_fraction     - 0.8985724258081224\n",
      "bagging_freq         - 7\n",
      "min_child_samples    - 50\n"
     ]
    }
   ],
   "source": [
    "print(f'Best score: {tuner.best_score:.5f}')\n",
    "print(f'Best hyperparameters:')\n",
    "for k, v in tuner.best_params.items():\n",
    "    print(f'{k:20} - {v}')"
   ]
  },
  {
   "cell_type": "markdown",
   "id": "32374438",
   "metadata": {
    "papermill": {
     "duration": 0.063692,
     "end_time": "2024-04-28T05:04:16.026522",
     "exception": false,
     "start_time": "2024-04-28T05:04:15.962830",
     "status": "completed"
    },
    "tags": []
   },
   "source": [
    "# Cross-validation"
   ]
  },
  {
   "cell_type": "code",
   "execution_count": 71,
   "id": "582403ab",
   "metadata": {
    "execution": {
     "iopub.execute_input": "2024-04-28T05:04:16.157709Z",
     "iopub.status.busy": "2024-04-28T05:04:16.156753Z",
     "iopub.status.idle": "2024-04-28T05:04:16.174155Z",
     "shell.execute_reply": "2024-04-28T05:04:16.172311Z"
    },
    "papermill": {
     "duration": 0.083446,
     "end_time": "2024-04-28T05:04:16.176963",
     "exception": false,
     "start_time": "2024-04-28T05:04:16.093517",
     "status": "completed"
    },
    "tags": []
   },
   "outputs": [],
   "source": [
    "def comp_metric(y_true, y_pred):\n",
    "    return mean_absolute_error(y_true, y_pred)\n",
    "\n",
    "def custom_cv(estimator, seed=SEED, verbose=True):\n",
    "    X_test = test[features]\n",
    "    \n",
    "    oof_preds, test_preds = {}, {}\n",
    "    scores = []\n",
    "\n",
    "    cv = KFold(n_splits=NUM_FOLDS, shuffle=True, random_state=seed)\n",
    "    for fold, (train_ids, val_ids) in enumerate(cv.split(train)):\n",
    "        X_train, y_train = train[features].iloc[train_ids], train[TARGET].iloc[train_ids]\n",
    "        X_val, y_val = train[features].iloc[val_ids], train[TARGET].iloc[val_ids]\n",
    "        \n",
    "        model = clone(estimator)\n",
    "        model.fit(\n",
    "            X_train, y_train,\n",
    "            eval_set=[(X_val, y_val)],\n",
    "            callbacks=[early_stopping])\n",
    "\n",
    "        val_preds = model.predict(X_val)\n",
    "        oof_preds.update(dict(zip(val_ids, val_preds)))\n",
    "        test_preds[f'fold{fold}'] = model.predict(X_test)\n",
    "\n",
    "        score = comp_metric(y_val, val_preds)\n",
    "        scores.append(score)\n",
    "        if verbose:\n",
    "            print(f'Fold #{fold:>2}: {score:.5f} ({model.best_iteration_:>4} rounds)')\n",
    "        _ = gc.collect()\n",
    "\n",
    "    test_preds = pd.DataFrame.from_dict(test_preds)\n",
    "    test_preds['mean'] = test_preds.mean(axis=1) # mean of fold-wise predictions\n",
    "    \n",
    "    oof_preds = pd.Series(oof_preds).sort_index()\n",
    "    print(f'\\nAvg score: {np.mean(scores):.5f} +/- {np.std(scores):.5f}')\n",
    "    print(f'OOF score: {comp_metric(train[TARGET], oof_preds):.5f}\\n')\n",
    "    \n",
    "    return oof_preds, test_preds"
   ]
  },
  {
   "cell_type": "code",
   "execution_count": 72,
   "id": "21c7ba69",
   "metadata": {
    "execution": {
     "iopub.execute_input": "2024-04-28T05:04:16.304489Z",
     "iopub.status.busy": "2024-04-28T05:04:16.303984Z",
     "iopub.status.idle": "2024-04-28T05:04:19.859694Z",
     "shell.execute_reply": "2024-04-28T05:04:19.858246Z"
    },
    "papermill": {
     "duration": 3.622214,
     "end_time": "2024-04-28T05:04:19.862265",
     "exception": false,
     "start_time": "2024-04-28T05:04:16.240051",
     "status": "completed"
    },
    "tags": []
   },
   "outputs": [
    {
     "name": "stdout",
     "output_type": "stream",
     "text": [
      "Fold # 0: 1897.67032 (1092 rounds)\n",
      "Fold # 1: 1810.57678 ( 672 rounds)\n",
      "Fold # 2: 1901.07885 (1337 rounds)\n",
      "Fold # 3: 2263.82534 ( 980 rounds)\n",
      "Fold # 4: 1909.46613 ( 679 rounds)\n",
      "Fold # 5: 1845.78131 ( 602 rounds)\n",
      "Fold # 6: 2297.57880 ( 679 rounds)\n",
      "\n",
      "Avg score: 1989.42536 +/- 187.27058\n",
      "OOF score: 1989.23712\n",
      "\n",
      "CPU times: user 3.55 s, sys: 0 ns, total: 3.55 s\n",
      "Wall time: 3.55 s\n"
     ]
    }
   ],
   "source": [
    "%%time\n",
    "model = LGBMRegressor(**tuner.best_params, n_estimators=10000)\n",
    "op, tp = custom_cv(model)"
   ]
  },
  {
   "cell_type": "code",
   "execution_count": 73,
   "id": "c3743d6f",
   "metadata": {
    "execution": {
     "iopub.execute_input": "2024-04-28T05:04:19.990842Z",
     "iopub.status.busy": "2024-04-28T05:04:19.990300Z",
     "iopub.status.idle": "2024-04-28T05:04:19.997700Z",
     "shell.execute_reply": "2024-04-28T05:04:19.996412Z"
    },
    "papermill": {
     "duration": 0.075321,
     "end_time": "2024-04-28T05:04:20.000241",
     "exception": false,
     "start_time": "2024-04-28T05:04:19.924920",
     "status": "completed"
    },
    "tags": []
   },
   "outputs": [],
   "source": [
    "def create_submission_files(preds, notebook='00'):\n",
    "    for col in preds.columns:\n",
    "        sub = sample_sub.copy()\n",
    "        sub[TARGET] = preds[col]\n",
    "        sub.to_csv(f'nb{notebook}_{col}.csv', index=False)"
   ]
  },
  {
   "cell_type": "code",
   "execution_count": 74,
   "id": "18d1f506",
   "metadata": {
    "execution": {
     "iopub.execute_input": "2024-04-28T05:04:20.126655Z",
     "iopub.status.busy": "2024-04-28T05:04:20.126117Z",
     "iopub.status.idle": "2024-04-28T05:04:20.158248Z",
     "shell.execute_reply": "2024-04-28T05:04:20.156983Z"
    },
    "papermill": {
     "duration": 0.099235,
     "end_time": "2024-04-28T05:04:20.161074",
     "exception": false,
     "start_time": "2024-04-28T05:04:20.061839",
     "status": "completed"
    },
    "tags": []
   },
   "outputs": [],
   "source": [
    "create_submission_files(tp)"
   ]
  },
  {
   "cell_type": "code",
   "execution_count": 75,
   "id": "72bd59ea",
   "metadata": {
    "execution": {
     "iopub.execute_input": "2024-04-28T05:04:20.292669Z",
     "iopub.status.busy": "2024-04-28T05:04:20.291345Z",
     "iopub.status.idle": "2024-04-28T05:04:21.403140Z",
     "shell.execute_reply": "2024-04-28T05:04:21.401901Z"
    },
    "papermill": {
     "duration": 1.181629,
     "end_time": "2024-04-28T05:04:21.406415",
     "exception": false,
     "start_time": "2024-04-28T05:04:20.224786",
     "status": "completed"
    },
    "tags": []
   },
   "outputs": [
    {
     "name": "stdout",
     "output_type": "stream",
     "text": [
      "Id,price\r\n",
      "0,17542.875702776153\r\n",
      "1,16818.511345517465\r\n",
      "2,23533.398880564917\r\n",
      "3,14226.752161175793\r\n",
      "4,5648.17432276279\r\n",
      "5,25219.07107164767\r\n",
      "6,6037.605066101942\r\n",
      "7,7097.757281052524\r\n",
      "8,17331.913713058406\r\n"
     ]
    }
   ],
   "source": [
    "!head nb00_mean.csv"
   ]
  }
 ],
 "metadata": {
  "kaggle": {
   "accelerator": "none",
   "dataSources": [
    {
     "databundleVersionId": 7270400,
     "sourceId": 65472,
     "sourceType": "competition"
    }
   ],
   "dockerImageVersionId": 30698,
   "isGpuEnabled": false,
   "isInternetEnabled": true,
   "language": "python",
   "sourceType": "notebook"
  },
  "kernelspec": {
   "display_name": "Python 3",
   "language": "python",
   "name": "python3"
  },
  "language_info": {
   "codemirror_mode": {
    "name": "ipython",
    "version": 3
   },
   "file_extension": ".py",
   "mimetype": "text/x-python",
   "name": "python",
   "nbconvert_exporter": "python",
   "pygments_lexer": "ipython3",
   "version": "3.10.13"
  },
  "papermill": {
   "default_parameters": {},
   "duration": 1907.289248,
   "end_time": "2024-04-28T05:04:22.400517",
   "environment_variables": {},
   "exception": null,
   "input_path": "__notebook__.ipynb",
   "output_path": "__notebook__.ipynb",
   "parameters": {},
   "start_time": "2024-04-28T04:32:35.111269",
   "version": "2.5.0"
  }
 },
 "nbformat": 4,
 "nbformat_minor": 5
}
