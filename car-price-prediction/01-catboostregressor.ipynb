{
 "cells": [
  {
   "cell_type": "markdown",
   "id": "b8750a7e",
   "metadata": {
    "papermill": {
     "duration": 0.007883,
     "end_time": "2024-04-28T04:30:38.489394",
     "exception": false,
     "start_time": "2024-04-28T04:30:38.481511",
     "status": "completed"
    },
    "tags": []
   },
   "source": [
    "# Setup"
   ]
  },
  {
   "cell_type": "code",
   "execution_count": 1,
   "id": "4b864cfa",
   "metadata": {
    "_cell_guid": "b1076dfc-b9ad-4769-8c92-a6c4dae69d19",
    "_uuid": "8f2839f25d086af736a60e9eeb907d3b93b6e0e5",
    "execution": {
     "iopub.execute_input": "2024-04-28T04:30:38.504747Z",
     "iopub.status.busy": "2024-04-28T04:30:38.504345Z",
     "iopub.status.idle": "2024-04-28T04:30:42.163871Z",
     "shell.execute_reply": "2024-04-28T04:30:42.162532Z"
    },
    "papermill": {
     "duration": 3.670484,
     "end_time": "2024-04-28T04:30:42.166821",
     "exception": false,
     "start_time": "2024-04-28T04:30:38.496337",
     "status": "completed"
    },
    "tags": []
   },
   "outputs": [],
   "source": [
    "import gc\n",
    "gc.enable()\n",
    "\n",
    "import warnings\n",
    "warnings.filterwarnings('ignore')\n",
    "\n",
    "import numpy as np\n",
    "import pandas as pd\n",
    "pd.set_option('display.max_columns', None)\n",
    "pd.set_option('display.precision', 4)\n",
    "\n",
    "import catboost as cb\n",
    "from sklearn.model_selection import KFold\n",
    "from sklearn.metrics import mean_absolute_error\n",
    "from sklearn.base import clone\n",
    "\n",
    "SEED = np.random.randint(1, 1e5)"
   ]
  },
  {
   "cell_type": "code",
   "execution_count": 2,
   "id": "f742d4e4",
   "metadata": {
    "execution": {
     "iopub.execute_input": "2024-04-28T04:30:42.182550Z",
     "iopub.status.busy": "2024-04-28T04:30:42.182002Z",
     "iopub.status.idle": "2024-04-28T04:30:45.515203Z",
     "shell.execute_reply": "2024-04-28T04:30:45.513413Z"
    },
    "papermill": {
     "duration": 3.344505,
     "end_time": "2024-04-28T04:30:45.518221",
     "exception": false,
     "start_time": "2024-04-28T04:30:42.173716",
     "status": "completed"
    },
    "tags": []
   },
   "outputs": [],
   "source": [
    "!mkdir -p ~/.kaggle\n",
    "!cp /kaggle/input/kaggle-api-key/kaggle.json ~/.kaggle/\n",
    "!chmod 600 ~/.kaggle/kaggle.json"
   ]
  },
  {
   "cell_type": "markdown",
   "id": "2cb0d4ab",
   "metadata": {
    "papermill": {
     "duration": 0.006366,
     "end_time": "2024-04-28T04:30:45.531435",
     "exception": false,
     "start_time": "2024-04-28T04:30:45.525069",
     "status": "completed"
    },
    "tags": []
   },
   "source": [
    "# Data preparation"
   ]
  },
  {
   "cell_type": "code",
   "execution_count": 3,
   "id": "199c51f5",
   "metadata": {
    "execution": {
     "iopub.execute_input": "2024-04-28T04:30:45.547544Z",
     "iopub.status.busy": "2024-04-28T04:30:45.547110Z",
     "iopub.status.idle": "2024-04-28T04:30:45.594108Z",
     "shell.execute_reply": "2024-04-28T04:30:45.593031Z"
    },
    "papermill": {
     "duration": 0.058583,
     "end_time": "2024-04-28T04:30:45.596742",
     "exception": false,
     "start_time": "2024-04-28T04:30:45.538159",
     "status": "completed"
    },
    "tags": []
   },
   "outputs": [],
   "source": [
    "DATA_DIR = '/kaggle/input/autoam-car-price-prediction'\n",
    "\n",
    "train = pd.read_csv(f'{DATA_DIR}/train.csv')\n",
    "test = pd.read_csv(f'{DATA_DIR}/test.csv')\n",
    "sample_sub = pd.read_csv(f'{DATA_DIR}/sample_submission.csv')"
   ]
  },
  {
   "cell_type": "code",
   "execution_count": 4,
   "id": "bca6853d",
   "metadata": {
    "execution": {
     "iopub.execute_input": "2024-04-28T04:30:45.612677Z",
     "iopub.status.busy": "2024-04-28T04:30:45.611905Z",
     "iopub.status.idle": "2024-04-28T04:30:45.632436Z",
     "shell.execute_reply": "2024-04-28T04:30:45.630995Z"
    },
    "papermill": {
     "duration": 0.031693,
     "end_time": "2024-04-28T04:30:45.635193",
     "exception": false,
     "start_time": "2024-04-28T04:30:45.603500",
     "status": "completed"
    },
    "tags": []
   },
   "outputs": [],
   "source": [
    "TARGET = 'price'\n",
    "\n",
    "train = train.drop(['wheel'], axis=1)\n",
    "test = test.drop(['Id', 'wheel'], axis=1)"
   ]
  },
  {
   "cell_type": "code",
   "execution_count": 5,
   "id": "cef3caf1",
   "metadata": {
    "execution": {
     "iopub.execute_input": "2024-04-28T04:30:45.651077Z",
     "iopub.status.busy": "2024-04-28T04:30:45.650604Z",
     "iopub.status.idle": "2024-04-28T04:30:45.662554Z",
     "shell.execute_reply": "2024-04-28T04:30:45.661661Z"
    },
    "papermill": {
     "duration": 0.023011,
     "end_time": "2024-04-28T04:30:45.665015",
     "exception": false,
     "start_time": "2024-04-28T04:30:45.642004",
     "status": "completed"
    },
    "tags": []
   },
   "outputs": [],
   "source": [
    "def convert_miles_to_km(distance):\n",
    "    km_per_mile = 1.609344\n",
    "    if distance.endswith('miles'):\n",
    "        return int(distance.split(' ')[0]) * km_per_mile\n",
    "    else:\n",
    "        return int(distance.split(' ')[0])\n",
    "    \n",
    "train['running'] = train.running.apply(convert_miles_to_km)\n",
    "test['running'] = test.running.apply(convert_miles_to_km)"
   ]
  },
  {
   "cell_type": "code",
   "execution_count": 6,
   "id": "ec736d65",
   "metadata": {
    "execution": {
     "iopub.execute_input": "2024-04-28T04:30:45.680997Z",
     "iopub.status.busy": "2024-04-28T04:30:45.680226Z",
     "iopub.status.idle": "2024-04-28T04:30:45.685794Z",
     "shell.execute_reply": "2024-04-28T04:30:45.684147Z"
    },
    "papermill": {
     "duration": 0.016379,
     "end_time": "2024-04-28T04:30:45.688433",
     "exception": false,
     "start_time": "2024-04-28T04:30:45.672054",
     "status": "completed"
    },
    "tags": []
   },
   "outputs": [],
   "source": [
    "features = [f for f in test.columns]\n",
    "cat_features = ['model', 'motor_type', 'color', 'type', 'status']"
   ]
  },
  {
   "cell_type": "markdown",
   "id": "5f1c6784",
   "metadata": {
    "papermill": {
     "duration": 0.006499,
     "end_time": "2024-04-28T04:30:45.701688",
     "exception": false,
     "start_time": "2024-04-28T04:30:45.695189",
     "status": "completed"
    },
    "tags": []
   },
   "source": [
    "# Modeling"
   ]
  },
  {
   "cell_type": "code",
   "execution_count": 7,
   "id": "a72ebf03",
   "metadata": {
    "execution": {
     "iopub.execute_input": "2024-04-28T04:30:45.717306Z",
     "iopub.status.busy": "2024-04-28T04:30:45.716890Z",
     "iopub.status.idle": "2024-04-28T04:30:45.722678Z",
     "shell.execute_reply": "2024-04-28T04:30:45.721470Z"
    },
    "papermill": {
     "duration": 0.016218,
     "end_time": "2024-04-28T04:30:45.725001",
     "exception": false,
     "start_time": "2024-04-28T04:30:45.708783",
     "status": "completed"
    },
    "tags": []
   },
   "outputs": [],
   "source": [
    "def comp_metric(y_true, y_pred):\n",
    "    return mean_absolute_error(y_true, y_pred)"
   ]
  },
  {
   "cell_type": "code",
   "execution_count": 8,
   "id": "46619186",
   "metadata": {
    "execution": {
     "iopub.execute_input": "2024-04-28T04:30:45.741098Z",
     "iopub.status.busy": "2024-04-28T04:30:45.740694Z",
     "iopub.status.idle": "2024-04-28T04:30:45.754251Z",
     "shell.execute_reply": "2024-04-28T04:30:45.753061Z"
    },
    "papermill": {
     "duration": 0.024954,
     "end_time": "2024-04-28T04:30:45.757125",
     "exception": false,
     "start_time": "2024-04-28T04:30:45.732171",
     "status": "completed"
    },
    "tags": []
   },
   "outputs": [],
   "source": [
    "NUM_FOLDS = np.random.randint(5, 10)\n",
    "\n",
    "def custom_cv(estimator, num_folds=NUM_FOLDS, seed=SEED, verbose=True):\n",
    "    X_test = test[features]\n",
    "    \n",
    "    oof_preds, test_preds = {}, {}\n",
    "    scores = []\n",
    "\n",
    "    cv = KFold(n_splits=num_folds, shuffle=True, random_state=seed)\n",
    "    for fold, (train_ids, val_ids) in enumerate(cv.split(train)):\n",
    "        X_train, y_train = train[features].iloc[train_ids], train[TARGET].iloc[train_ids]\n",
    "        X_val, y_val = train[features].iloc[val_ids], train[TARGET].iloc[val_ids]\n",
    "        \n",
    "        model = clone(estimator)\n",
    "        model.fit(\n",
    "            X_train, y_train,\n",
    "            eval_set=[(X_val, y_val)],\n",
    "            cat_features=cat_features,\n",
    "            verbose=False)\n",
    "\n",
    "        val_preds = model.predict(X_val)\n",
    "        oof_preds.update(dict(zip(val_ids, val_preds)))\n",
    "        test_preds[f'fold{fold}'] = model.predict(X_test)\n",
    "\n",
    "        score = comp_metric(y_val, val_preds)\n",
    "        scores.append(score)\n",
    "        if verbose:\n",
    "            print(f'Fold #{fold:>2}: {score:.5f} ({model.best_iteration_:>4} rounds)')\n",
    "        _ = gc.collect()\n",
    "\n",
    "    test_preds = pd.DataFrame.from_dict(test_preds)\n",
    "    test_preds['mean'] = test_preds.mean(axis=1) # mean of fold-wise predictions\n",
    "    \n",
    "    oof_preds = pd.Series(oof_preds).sort_index()\n",
    "    print(f'\\nAvg score: {np.mean(scores):.5f} +/- {np.std(scores):.5f}')\n",
    "    print(f'OOF score: {comp_metric(train[TARGET], oof_preds):.5f}\\n')\n",
    "    \n",
    "    return oof_preds, test_preds"
   ]
  },
  {
   "cell_type": "code",
   "execution_count": 9,
   "id": "a4350025",
   "metadata": {
    "execution": {
     "iopub.execute_input": "2024-04-28T04:30:45.773162Z",
     "iopub.status.busy": "2024-04-28T04:30:45.771998Z",
     "iopub.status.idle": "2024-04-28T04:30:45.778640Z",
     "shell.execute_reply": "2024-04-28T04:30:45.777284Z"
    },
    "papermill": {
     "duration": 0.017766,
     "end_time": "2024-04-28T04:30:45.781656",
     "exception": false,
     "start_time": "2024-04-28T04:30:45.763890",
     "status": "completed"
    },
    "tags": []
   },
   "outputs": [],
   "source": [
    "BASE_PARAMS = {\n",
    "    'loss_function': 'MAE',\n",
    "    'eval_metric': 'MAE',\n",
    "    'metric_period': 1,\n",
    "    'iterations': 5000,\n",
    "    'learning_rate': 0.01,\n",
    "    'early_stopping_rounds': 100,\n",
    "    'use_best_model': True,\n",
    "    'task_type': 'CPU',\n",
    "    'thread_count': -1,\n",
    "    'random_seed': SEED\n",
    "}"
   ]
  },
  {
   "cell_type": "code",
   "execution_count": 10,
   "id": "128f6956",
   "metadata": {
    "execution": {
     "iopub.execute_input": "2024-04-28T04:30:45.798994Z",
     "iopub.status.busy": "2024-04-28T04:30:45.798528Z",
     "iopub.status.idle": "2024-04-28T04:30:45.804650Z",
     "shell.execute_reply": "2024-04-28T04:30:45.803783Z"
    },
    "papermill": {
     "duration": 0.018176,
     "end_time": "2024-04-28T04:30:45.806955",
     "exception": false,
     "start_time": "2024-04-28T04:30:45.788779",
     "status": "completed"
    },
    "tags": []
   },
   "outputs": [
    {
     "name": "stdout",
     "output_type": "stream",
     "text": [
      "NUM_FOLDS: 6, SEED: 56631\n"
     ]
    }
   ],
   "source": [
    "print(f'NUM_FOLDS: {NUM_FOLDS}, SEED: {SEED}')"
   ]
  },
  {
   "cell_type": "code",
   "execution_count": 11,
   "id": "2dae57bd",
   "metadata": {
    "execution": {
     "iopub.execute_input": "2024-04-28T04:30:45.822746Z",
     "iopub.status.busy": "2024-04-28T04:30:45.822298Z",
     "iopub.status.idle": "2024-04-28T04:31:21.065460Z",
     "shell.execute_reply": "2024-04-28T04:31:21.064096Z"
    },
    "papermill": {
     "duration": 35.261486,
     "end_time": "2024-04-28T04:31:21.075536",
     "exception": false,
     "start_time": "2024-04-28T04:30:45.814050",
     "status": "completed"
    },
    "tags": []
   },
   "outputs": [
    {
     "name": "stdout",
     "output_type": "stream",
     "text": [
      "Fold # 0: 2027.79660 (1183 rounds)\n",
      "Fold # 1: 1879.81817 (1231 rounds)\n",
      "Fold # 2: 1814.67850 (1049 rounds)\n",
      "Fold # 3: 2226.35555 (1826 rounds)\n",
      "Fold # 4: 1833.59599 (1831 rounds)\n",
      "Fold # 5: 1768.90657 (2117 rounds)\n",
      "\n",
      "Avg score: 1925.19190 +/- 157.22286\n",
      "OOF score: 1925.34286\n",
      "\n",
      "CPU times: user 1min 47s, sys: 19.3 s, total: 2min 7s\n",
      "Wall time: 35.2 s\n"
     ]
    }
   ],
   "source": [
    "%%time\n",
    "model = cb.CatBoostRegressor(**BASE_PARAMS)\n",
    "op, tp = custom_cv(model)"
   ]
  },
  {
   "cell_type": "markdown",
   "id": "3e4ac4a3",
   "metadata": {
    "papermill": {
     "duration": 0.007108,
     "end_time": "2024-04-28T04:31:21.090171",
     "exception": false,
     "start_time": "2024-04-28T04:31:21.083063",
     "status": "completed"
    },
    "tags": []
   },
   "source": [
    "# Submissions"
   ]
  },
  {
   "cell_type": "code",
   "execution_count": 12,
   "id": "71239051",
   "metadata": {
    "execution": {
     "iopub.execute_input": "2024-04-28T04:31:21.108081Z",
     "iopub.status.busy": "2024-04-28T04:31:21.106567Z",
     "iopub.status.idle": "2024-04-28T04:31:21.116044Z",
     "shell.execute_reply": "2024-04-28T04:31:21.114894Z"
    },
    "papermill": {
     "duration": 0.021065,
     "end_time": "2024-04-28T04:31:21.118824",
     "exception": false,
     "start_time": "2024-04-28T04:31:21.097759",
     "status": "completed"
    },
    "tags": []
   },
   "outputs": [
    {
     "data": {
      "text/plain": [
       "Timestamp('2024-04-28 04:31:21.109910')"
      ]
     },
     "execution_count": 12,
     "metadata": {},
     "output_type": "execute_result"
    }
   ],
   "source": [
    "pd.to_datetime('today')"
   ]
  },
  {
   "cell_type": "code",
   "execution_count": 13,
   "id": "5d08718b",
   "metadata": {
    "execution": {
     "iopub.execute_input": "2024-04-28T04:31:21.136116Z",
     "iopub.status.busy": "2024-04-28T04:31:21.135701Z",
     "iopub.status.idle": "2024-04-28T04:31:21.141811Z",
     "shell.execute_reply": "2024-04-28T04:31:21.140525Z"
    },
    "papermill": {
     "duration": 0.017646,
     "end_time": "2024-04-28T04:31:21.144260",
     "exception": false,
     "start_time": "2024-04-28T04:31:21.126614",
     "status": "completed"
    },
    "tags": []
   },
   "outputs": [],
   "source": [
    "DATE = pd.to_datetime('today').strftime('%Y_%m_%d')"
   ]
  },
  {
   "cell_type": "code",
   "execution_count": 14,
   "id": "d0f38419",
   "metadata": {
    "execution": {
     "iopub.execute_input": "2024-04-28T04:31:21.161567Z",
     "iopub.status.busy": "2024-04-28T04:31:21.161164Z",
     "iopub.status.idle": "2024-04-28T04:31:21.170363Z",
     "shell.execute_reply": "2024-04-28T04:31:21.169166Z"
    },
    "papermill": {
     "duration": 0.020857,
     "end_time": "2024-04-28T04:31:21.172949",
     "exception": false,
     "start_time": "2024-04-28T04:31:21.152092",
     "status": "completed"
    },
    "tags": []
   },
   "outputs": [],
   "source": [
    "def make_submissions(preds, notebook='01'):\n",
    "    for col in preds:\n",
    "        sub = sample_sub.copy()\n",
    "        sub[TARGET] = preds[col].clip(lower=0)\n",
    "        config = f\"catboost-folds{NUM_FOLDS}-seed{SEED}-{col}\"\n",
    "        filename = f\"nb{notebook}_date{DATE}_col{col}.csv\"\n",
    "        sub.to_csv(filename, index=False)\n",
    "        !kaggle competitions submit autoam-car-price-prediction -f $filename -m $config\n",
    "        print(f'\\nSubmitted file: {filename} with configuration: {config}')\n",
    "    print(f'\\nMade {NUM_FOLDS + 1} submissions.')"
   ]
  },
  {
   "cell_type": "code",
   "execution_count": 15,
   "id": "7f68bd65",
   "metadata": {
    "execution": {
     "iopub.execute_input": "2024-04-28T04:31:21.190191Z",
     "iopub.status.busy": "2024-04-28T04:31:21.189768Z",
     "iopub.status.idle": "2024-04-28T04:31:49.209663Z",
     "shell.execute_reply": "2024-04-28T04:31:49.208034Z"
    },
    "papermill": {
     "duration": 28.031546,
     "end_time": "2024-04-28T04:31:49.212368",
     "exception": false,
     "start_time": "2024-04-28T04:31:21.180822",
     "status": "completed"
    },
    "tags": []
   },
   "outputs": [
    {
     "name": "stdout",
     "output_type": "stream",
     "text": [
      "100%|██████████████████████████████████████| 8.95k/8.95k [00:00<00:00, 26.5kB/s]\r\n",
      "Successfully submitted to Car price prediction\n",
      "Submitted file: nb01_date2024_04_28_colfold0.csv with configuration: catboost-folds6-seed56631-fold0\n",
      "100%|██████████████████████████████████████| 8.95k/8.95k [00:00<00:00, 26.1kB/s]\r\n",
      "Successfully submitted to Car price prediction\n",
      "Submitted file: nb01_date2024_04_28_colfold1.csv with configuration: catboost-folds6-seed56631-fold1\n",
      "100%|██████████████████████████████████████| 8.97k/8.97k [00:00<00:00, 26.6kB/s]\r\n",
      "Successfully submitted to Car price prediction\n",
      "Submitted file: nb01_date2024_04_28_colfold2.csv with configuration: catboost-folds6-seed56631-fold2\n",
      "100%|██████████████████████████████████████| 8.95k/8.95k [00:00<00:00, 11.3kB/s]\r\n",
      "Successfully submitted to Car price prediction\n",
      "Submitted file: nb01_date2024_04_28_colfold3.csv with configuration: catboost-folds6-seed56631-fold3\n",
      "100%|██████████████████████████████████████| 8.93k/8.93k [00:00<00:00, 26.4kB/s]\r\n",
      "Successfully submitted to Car price prediction\n",
      "Submitted file: nb01_date2024_04_28_colfold4.csv with configuration: catboost-folds6-seed56631-fold4\n",
      "100%|██████████████████████████████████████| 8.92k/8.92k [00:00<00:00, 11.1kB/s]\r\n",
      "Successfully submitted to Car price prediction\n",
      "Submitted file: nb01_date2024_04_28_colfold5.csv with configuration: catboost-folds6-seed56631-fold5\n",
      "100%|██████████████████████████████████████| 8.95k/8.95k [00:00<00:00, 27.2kB/s]\r\n",
      "Successfully submitted to Car price prediction\n",
      "Submitted file: nb01_date2024_04_28_colmean.csv with configuration: catboost-folds6-seed56631-mean\n",
      "\n",
      "Made 7 submissions.\n"
     ]
    }
   ],
   "source": [
    "make_submissions(tp)"
   ]
  },
  {
   "cell_type": "markdown",
   "id": "00d83cad",
   "metadata": {
    "papermill": {
     "duration": 0.010023,
     "end_time": "2024-04-28T04:31:49.232997",
     "exception": false,
     "start_time": "2024-04-28T04:31:49.222974",
     "status": "completed"
    },
    "tags": []
   },
   "source": [
    "### ----- END -----"
   ]
  }
 ],
 "metadata": {
  "kaggle": {
   "accelerator": "none",
   "dataSources": [
    {
     "databundleVersionId": 7270400,
     "sourceId": 65472,
     "sourceType": "competition"
    },
    {
     "datasetId": 4885659,
     "sourceId": 8236903,
     "sourceType": "datasetVersion"
    }
   ],
   "dockerImageVersionId": 30698,
   "isGpuEnabled": false,
   "isInternetEnabled": true,
   "language": "python",
   "sourceType": "notebook"
  },
  "kernelspec": {
   "display_name": "Python 3",
   "language": "python",
   "name": "python3"
  },
  "language_info": {
   "codemirror_mode": {
    "name": "ipython",
    "version": 3
   },
   "file_extension": ".py",
   "mimetype": "text/x-python",
   "name": "python",
   "nbconvert_exporter": "python",
   "pygments_lexer": "ipython3",
   "version": "3.10.13"
  },
  "papermill": {
   "default_parameters": {},
   "duration": 74.915344,
   "end_time": "2024-04-28T04:31:49.967119",
   "environment_variables": {},
   "exception": null,
   "input_path": "__notebook__.ipynb",
   "output_path": "__notebook__.ipynb",
   "parameters": {},
   "start_time": "2024-04-28T04:30:35.051775",
   "version": "2.5.0"
  }
 },
 "nbformat": 4,
 "nbformat_minor": 5
}
