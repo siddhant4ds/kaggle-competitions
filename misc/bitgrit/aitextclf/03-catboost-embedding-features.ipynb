{
 "cells": [
  {
   "cell_type": "markdown",
   "id": "d67cfc61",
   "metadata": {
    "_cell_guid": "b1076dfc-b9ad-4769-8c92-a6c4dae69d19",
    "_uuid": "8f2839f25d086af736a60e9eeb907d3b93b6e0e5",
    "papermill": {
     "duration": 0.010214,
     "end_time": "2024-01-09T21:27:06.048718",
     "exception": false,
     "start_time": "2024-01-09T21:27:06.038504",
     "status": "completed"
    },
    "tags": []
   },
   "source": [
    "# Setup"
   ]
  },
  {
   "cell_type": "code",
   "execution_count": 1,
   "id": "a6e85d5d",
   "metadata": {
    "execution": {
     "iopub.execute_input": "2024-01-09T21:27:06.070612Z",
     "iopub.status.busy": "2024-01-09T21:27:06.069793Z",
     "iopub.status.idle": "2024-01-09T21:27:08.531361Z",
     "shell.execute_reply": "2024-01-09T21:27:08.530440Z"
    },
    "papermill": {
     "duration": 2.475419,
     "end_time": "2024-01-09T21:27:08.533817",
     "exception": false,
     "start_time": "2024-01-09T21:27:06.058398",
     "status": "completed"
    },
    "tags": []
   },
   "outputs": [],
   "source": [
    "import gc\n",
    "import warnings\n",
    "import subprocess\n",
    "\n",
    "gc.enable()\n",
    "warnings.filterwarnings('ignore')\n",
    "\n",
    "import numpy as np\n",
    "import pandas as pd\n",
    "\n",
    "pd.set_option('display.max_columns', None)\n",
    "\n",
    "from sklearn.metrics import f1_score\n",
    "from sklearn.model_selection import StratifiedKFold\n",
    "\n",
    "import catboost as cb\n",
    "# import optuna\n",
    "\n",
    "SEED = 55"
   ]
  },
  {
   "cell_type": "code",
   "execution_count": 2,
   "id": "48b3d017",
   "metadata": {
    "execution": {
     "iopub.execute_input": "2024-01-09T21:27:08.556045Z",
     "iopub.status.busy": "2024-01-09T21:27:08.555585Z",
     "iopub.status.idle": "2024-01-09T21:27:08.560183Z",
     "shell.execute_reply": "2024-01-09T21:27:08.559354Z"
    },
    "papermill": {
     "duration": 0.017922,
     "end_time": "2024-01-09T21:27:08.562231",
     "exception": false,
     "start_time": "2024-01-09T21:27:08.544309",
     "status": "completed"
    },
    "tags": []
   },
   "outputs": [],
   "source": [
    "assert cb.__version__ == '1.2.2', 'CatBoost version differs from original notebook.'"
   ]
  },
  {
   "cell_type": "code",
   "execution_count": 3,
   "id": "078350d0",
   "metadata": {
    "execution": {
     "iopub.execute_input": "2024-01-09T21:27:08.583117Z",
     "iopub.status.busy": "2024-01-09T21:27:08.582829Z",
     "iopub.status.idle": "2024-01-09T21:27:08.689269Z",
     "shell.execute_reply": "2024-01-09T21:27:08.688034Z"
    },
    "papermill": {
     "duration": 0.119523,
     "end_time": "2024-01-09T21:27:08.691496",
     "exception": false,
     "start_time": "2024-01-09T21:27:08.571973",
     "status": "completed"
    },
    "tags": []
   },
   "outputs": [
    {
     "name": "stdout",
     "output_type": "stream",
     "text": [
      "Available device: GPU\n"
     ]
    }
   ],
   "source": [
    "#Check GPU availability\n",
    "try:\n",
    "    subprocess.check_output('nvidia-smi')\n",
    "    DEVICE = 'GPU'\n",
    "except Exception:\n",
    "    DEVICE = 'CPU'\n",
    "\n",
    "print(f'Available device: {DEVICE}')"
   ]
  },
  {
   "cell_type": "markdown",
   "id": "54f66ae4",
   "metadata": {
    "papermill": {
     "duration": 0.010037,
     "end_time": "2024-01-09T21:27:08.712348",
     "exception": false,
     "start_time": "2024-01-09T21:27:08.702311",
     "status": "completed"
    },
    "tags": []
   },
   "source": [
    "# Data preparation"
   ]
  },
  {
   "cell_type": "code",
   "execution_count": 4,
   "id": "97318c69",
   "metadata": {
    "execution": {
     "iopub.execute_input": "2024-01-09T21:27:08.732769Z",
     "iopub.status.busy": "2024-01-09T21:27:08.732416Z",
     "iopub.status.idle": "2024-01-09T21:27:12.179983Z",
     "shell.execute_reply": "2024-01-09T21:27:12.178876Z"
    },
    "papermill": {
     "duration": 3.460633,
     "end_time": "2024-01-09T21:27:12.182527",
     "exception": false,
     "start_time": "2024-01-09T21:27:08.721894",
     "status": "completed"
    },
    "tags": []
   },
   "outputs": [],
   "source": [
    "DATA_DIR = '/kaggle/input/bitgrit-ai-generated-text-classification/ai-text-competition'\n",
    "train = pd.read_csv(f'{DATA_DIR}/training_set.csv')\n",
    "test = pd.read_csv(f'{DATA_DIR}/test_set.csv')\n",
    "sample_sub = pd.read_csv(f'{DATA_DIR}/solution_format.csv')"
   ]
  },
  {
   "cell_type": "code",
   "execution_count": 5,
   "id": "58b6d0e7",
   "metadata": {
    "execution": {
     "iopub.execute_input": "2024-01-09T21:27:12.204551Z",
     "iopub.status.busy": "2024-01-09T21:27:12.204238Z",
     "iopub.status.idle": "2024-01-09T21:27:12.250777Z",
     "shell.execute_reply": "2024-01-09T21:27:12.249932Z"
    },
    "papermill": {
     "duration": 0.059846,
     "end_time": "2024-01-09T21:27:12.252998",
     "exception": false,
     "start_time": "2024-01-09T21:27:12.193152",
     "status": "completed"
    },
    "tags": []
   },
   "outputs": [],
   "source": [
    "train = train.drop('ID', axis=1)\n",
    "test = test.drop('ID', axis=1)\n",
    "\n",
    "TARGET = 'ind'\n",
    "og_features = test.columns"
   ]
  },
  {
   "cell_type": "code",
   "execution_count": 6,
   "id": "c20584be",
   "metadata": {
    "execution": {
     "iopub.execute_input": "2024-01-09T21:27:12.274439Z",
     "iopub.status.busy": "2024-01-09T21:27:12.274142Z",
     "iopub.status.idle": "2024-01-09T21:27:12.284171Z",
     "shell.execute_reply": "2024-01-09T21:27:12.283482Z"
    },
    "papermill": {
     "duration": 0.022722,
     "end_time": "2024-01-09T21:27:12.285986",
     "exception": false,
     "start_time": "2024-01-09T21:27:12.263264",
     "status": "completed"
    },
    "tags": []
   },
   "outputs": [],
   "source": [
    "train['word_punc_ratio'] = (train['word_count'] / train['punc_num']).round(4)\n",
    "test['word_punc_ratio'] = (test['word_count'] / test['punc_num']).round(4)\n",
    "\n",
    "train['word_punc_diff'] = train['word_count'] - train['punc_num']\n",
    "test['word_punc_diff'] = test['word_count'] - test['punc_num']"
   ]
  },
  {
   "cell_type": "code",
   "execution_count": 7,
   "id": "b555ca0d",
   "metadata": {
    "execution": {
     "iopub.execute_input": "2024-01-09T21:27:12.306516Z",
     "iopub.status.busy": "2024-01-09T21:27:12.306225Z",
     "iopub.status.idle": "2024-01-09T21:27:12.344332Z",
     "shell.execute_reply": "2024-01-09T21:27:12.343506Z"
    },
    "papermill": {
     "duration": 0.051092,
     "end_time": "2024-01-09T21:27:12.346905",
     "exception": false,
     "start_time": "2024-01-09T21:27:12.295813",
     "status": "completed"
    },
    "tags": []
   },
   "outputs": [],
   "source": [
    "embeddings = [f'feature_{i}' for i in range(768)]\n",
    "\n",
    "train['embedding_vector'] = list(train[embeddings].values)\n",
    "test['embedding_vector'] = list(test[embeddings].values)"
   ]
  },
  {
   "cell_type": "code",
   "execution_count": 8,
   "id": "4796bbeb",
   "metadata": {
    "execution": {
     "iopub.execute_input": "2024-01-09T21:27:12.368837Z",
     "iopub.status.busy": "2024-01-09T21:27:12.368489Z",
     "iopub.status.idle": "2024-01-09T21:27:12.375510Z",
     "shell.execute_reply": "2024-01-09T21:27:12.374630Z"
    },
    "papermill": {
     "duration": 0.019364,
     "end_time": "2024-01-09T21:27:12.377438",
     "exception": false,
     "start_time": "2024-01-09T21:27:12.358074",
     "status": "completed"
    },
    "tags": []
   },
   "outputs": [
    {
     "data": {
      "text/plain": [
       "Index(['feature_767', 'word_count', 'punc_num', 'word_punc_ratio',\n",
       "       'word_punc_diff', 'embedding_vector'],\n",
       "      dtype='object')"
      ]
     },
     "execution_count": 8,
     "metadata": {},
     "output_type": "execute_result"
    }
   ],
   "source": [
    "features = test.columns\n",
    "features[-6:]"
   ]
  },
  {
   "cell_type": "markdown",
   "id": "81309262",
   "metadata": {
    "papermill": {
     "duration": 0.009366,
     "end_time": "2024-01-09T21:27:12.396378",
     "exception": false,
     "start_time": "2024-01-09T21:27:12.387012",
     "status": "completed"
    },
    "tags": []
   },
   "source": [
    "# Modeling framework"
   ]
  },
  {
   "cell_type": "code",
   "execution_count": 9,
   "id": "f35f8d1d",
   "metadata": {
    "execution": {
     "iopub.execute_input": "2024-01-09T21:27:12.416832Z",
     "iopub.status.busy": "2024-01-09T21:27:12.416552Z",
     "iopub.status.idle": "2024-01-09T21:27:12.420934Z",
     "shell.execute_reply": "2024-01-09T21:27:12.419951Z"
    },
    "papermill": {
     "duration": 0.01673,
     "end_time": "2024-01-09T21:27:12.422890",
     "exception": false,
     "start_time": "2024-01-09T21:27:12.406160",
     "status": "completed"
    },
    "tags": []
   },
   "outputs": [],
   "source": [
    "def probs_to_labels(probs, threshold=0.5):\n",
    "    return (probs >= threshold).astype('int')"
   ]
  },
  {
   "cell_type": "code",
   "execution_count": 10,
   "id": "280f3c26",
   "metadata": {
    "execution": {
     "iopub.execute_input": "2024-01-09T21:27:12.443416Z",
     "iopub.status.busy": "2024-01-09T21:27:12.443145Z",
     "iopub.status.idle": "2024-01-09T21:27:12.447945Z",
     "shell.execute_reply": "2024-01-09T21:27:12.447120Z"
    },
    "papermill": {
     "duration": 0.017124,
     "end_time": "2024-01-09T21:27:12.449880",
     "exception": false,
     "start_time": "2024-01-09T21:27:12.432756",
     "status": "completed"
    },
    "tags": []
   },
   "outputs": [],
   "source": [
    "def get_best_threshold(y_true, y_probs):\n",
    "    candidates = np.arange(0, 1, 0.0005)\n",
    "    scores = [f1_score(y_true, probs_to_labels(y_probs, t)) for t in candidates]\n",
    "    best_threshold = candidates[np.argmax(scores)]\n",
    "    return best_threshold"
   ]
  },
  {
   "cell_type": "code",
   "execution_count": 11,
   "id": "d050bead",
   "metadata": {
    "execution": {
     "iopub.execute_input": "2024-01-09T21:27:12.471092Z",
     "iopub.status.busy": "2024-01-09T21:27:12.470796Z",
     "iopub.status.idle": "2024-01-09T21:27:12.482287Z",
     "shell.execute_reply": "2024-01-09T21:27:12.481463Z"
    },
    "papermill": {
     "duration": 0.024491,
     "end_time": "2024-01-09T21:27:12.484411",
     "exception": false,
     "start_time": "2024-01-09T21:27:12.459920",
     "status": "completed"
    },
    "tags": []
   },
   "outputs": [],
   "source": [
    "def custom_cv(features, model, folds=7, seed=SEED):\n",
    "    X, y = train[features], train[TARGET]\n",
    "    X_test = test[features]\n",
    "    \n",
    "    oof_probs = {}\n",
    "    oof_preds = {}\n",
    "    test_probs = {}\n",
    "    test_preds = {}\n",
    "    scores = []\n",
    "\n",
    "    cv = StratifiedKFold(n_splits=folds, shuffle=True, random_state=seed)\n",
    "    for fold, (train_ids, val_ids) in enumerate(cv.split(X, y)):\n",
    "        X_train, y_train = X.iloc[train_ids], y.iloc[train_ids]\n",
    "        X_val, y_val = X.iloc[val_ids], y.iloc[val_ids]\n",
    "\n",
    "        model.fit(\n",
    "            X_train, y_train,\n",
    "            eval_set=[(X_val, y_val)],\n",
    "            embedding_features=['embedding_vector'],\n",
    "            verbose=False)\n",
    "\n",
    "        val_probs = model.predict_proba(X_val)[:, 1]\n",
    "        oof_probs.update(dict(zip(val_ids, val_probs)))\n",
    "        \n",
    "        best_threshold = get_best_threshold(y_val, val_probs)\n",
    "        val_preds = probs_to_labels(val_probs, best_threshold)\n",
    "        oof_preds.update(dict(zip(val_ids, val_preds)))\n",
    "        \n",
    "        test_probs[f'fold{fold}'] = model.predict_proba(X_test)[:, 1]\n",
    "        test_preds[f'fold{fold}'] = probs_to_labels(test_probs[f'fold{fold}'], best_threshold)\n",
    "\n",
    "        score = f1_score(y_val, val_preds)\n",
    "        scores.append(score)\n",
    "        print(f'Fold #{fold:>2}: {score:.5f} ({model.best_iteration_:>4} rounds, best threshold: {best_threshold:.4f})')\n",
    "        _ = gc.collect()\n",
    "\n",
    "    test_probs = pd.DataFrame.from_dict(test_probs)\n",
    "    test_probs['mean'] = test_probs.mean(axis=1) # mean of fold-wise probabilities\n",
    "    \n",
    "    test_preds = pd.DataFrame.from_dict(test_preds)\n",
    "    test_preds['mode'] = test_preds.mode(axis=1)[0].astype('int') # mode of fold-wise predictions\n",
    "    \n",
    "    oof_probs = pd.Series(oof_probs).sort_index()\n",
    "    oof_preds = pd.Series(oof_preds).sort_index()\n",
    "    print(f'\\nAvg. score: {np.mean(scores):.5f} +/- {np.std(scores):.5f}')\n",
    "    print(f'OOF score: {f1_score(y, oof_preds):.5f}\\n')\n",
    "    \n",
    "    return oof_probs, oof_preds, test_probs, test_preds"
   ]
  },
  {
   "cell_type": "code",
   "execution_count": 12,
   "id": "42769b2a",
   "metadata": {
    "execution": {
     "iopub.execute_input": "2024-01-09T21:27:12.505303Z",
     "iopub.status.busy": "2024-01-09T21:27:12.505031Z",
     "iopub.status.idle": "2024-01-09T21:27:12.510010Z",
     "shell.execute_reply": "2024-01-09T21:27:12.509150Z"
    },
    "papermill": {
     "duration": 0.017796,
     "end_time": "2024-01-09T21:27:12.512111",
     "exception": false,
     "start_time": "2024-01-09T21:27:12.494315",
     "status": "completed"
    },
    "tags": []
   },
   "outputs": [],
   "source": [
    "def oof_thresholding(oof_probs, test_probs):\n",
    "    # custom_cv has fold-wise thresholding, here we do it based on overall OOF preds\n",
    "    threshold = get_best_threshold(train[TARGET], oof_probs)\n",
    "    print(f'OOF best threshold: {threshold}')\n",
    "    oof_preds = probs_to_labels(oof_probs, threshold)\n",
    "    print(f'OOF score: {f1_score(train[TARGET], oof_preds):.5f}\\n')\n",
    "    test_preds = probs_to_labels(test_probs['mean'], threshold)\n",
    "    return oof_preds, test_preds"
   ]
  },
  {
   "cell_type": "markdown",
   "id": "29cd106b",
   "metadata": {
    "papermill": {
     "duration": 0.010247,
     "end_time": "2024-01-09T21:27:12.532489",
     "exception": false,
     "start_time": "2024-01-09T21:27:12.522242",
     "status": "completed"
    },
    "tags": []
   },
   "source": [
    "# Experiments"
   ]
  },
  {
   "cell_type": "code",
   "execution_count": 13,
   "id": "22f78b94",
   "metadata": {
    "execution": {
     "iopub.execute_input": "2024-01-09T21:27:12.554189Z",
     "iopub.status.busy": "2024-01-09T21:27:12.553908Z",
     "iopub.status.idle": "2024-01-09T21:27:12.558532Z",
     "shell.execute_reply": "2024-01-09T21:27:12.557624Z"
    },
    "papermill": {
     "duration": 0.018043,
     "end_time": "2024-01-09T21:27:12.560533",
     "exception": false,
     "start_time": "2024-01-09T21:27:12.542490",
     "status": "completed"
    },
    "tags": []
   },
   "outputs": [],
   "source": [
    "base_params = {\n",
    "    'random_seed': SEED,\n",
    "    'loss_function': 'Logloss',\n",
    "    'iterations': 10000,\n",
    "    'learning_rate': 0.01,\n",
    "    'early_stopping_rounds': 200,\n",
    "    'use_best_model': True,\n",
    "    'task_type': DEVICE,\n",
    "    'thread_count': -1\n",
    "}"
   ]
  },
  {
   "cell_type": "code",
   "execution_count": 14,
   "id": "6c09503f",
   "metadata": {
    "execution": {
     "iopub.execute_input": "2024-01-09T21:27:12.582075Z",
     "iopub.status.busy": "2024-01-09T21:27:12.581813Z",
     "iopub.status.idle": "2024-01-09T21:27:12.585516Z",
     "shell.execute_reply": "2024-01-09T21:27:12.584741Z"
    },
    "papermill": {
     "duration": 0.016792,
     "end_time": "2024-01-09T21:27:12.587460",
     "exception": false,
     "start_time": "2024-01-09T21:27:12.570668",
     "status": "completed"
    },
    "tags": []
   },
   "outputs": [],
   "source": [
    "fold_preds = {}\n",
    "ot_preds = {}"
   ]
  },
  {
   "cell_type": "markdown",
   "id": "3cba8fa9",
   "metadata": {
    "papermill": {
     "duration": 0.009417,
     "end_time": "2024-01-09T21:27:12.606451",
     "exception": false,
     "start_time": "2024-01-09T21:27:12.597034",
     "status": "completed"
    },
    "tags": []
   },
   "source": [
    "### Expt 1"
   ]
  },
  {
   "cell_type": "code",
   "execution_count": 15,
   "id": "2c52cf6b",
   "metadata": {
    "execution": {
     "iopub.execute_input": "2024-01-09T21:27:12.626516Z",
     "iopub.status.busy": "2024-01-09T21:27:12.626278Z",
     "iopub.status.idle": "2024-01-09T21:54:53.843210Z",
     "shell.execute_reply": "2024-01-09T21:54:53.842210Z"
    },
    "papermill": {
     "duration": 1661.229561,
     "end_time": "2024-01-09T21:54:53.845517",
     "exception": false,
     "start_time": "2024-01-09T21:27:12.615956",
     "status": "completed"
    },
    "tags": []
   },
   "outputs": [
    {
     "name": "stderr",
     "output_type": "stream",
     "text": [
      "Default metric period is 5 because PRAUC is/are not implemented for GPU\n",
      "Metric PRAUC:type=Classic is not implemented on GPU. Will use CPU for metric computation, this could significantly affect learning time\n"
     ]
    },
    {
     "name": "stdout",
     "output_type": "stream",
     "text": [
      "Fold # 0: 0.65600 (3202 rounds, best threshold: 0.5185)\n"
     ]
    },
    {
     "name": "stderr",
     "output_type": "stream",
     "text": [
      "Default metric period is 5 because PRAUC is/are not implemented for GPU\n",
      "Metric PRAUC:type=Classic is not implemented on GPU. Will use CPU for metric computation, this could significantly affect learning time\n"
     ]
    },
    {
     "name": "stdout",
     "output_type": "stream",
     "text": [
      "Fold # 1: 0.64057 (1935 rounds, best threshold: 0.2190)\n"
     ]
    },
    {
     "name": "stderr",
     "output_type": "stream",
     "text": [
      "Default metric period is 5 because PRAUC is/are not implemented for GPU\n",
      "Metric PRAUC:type=Classic is not implemented on GPU. Will use CPU for metric computation, this could significantly affect learning time\n"
     ]
    },
    {
     "name": "stdout",
     "output_type": "stream",
     "text": [
      "Fold # 2: 0.71587 (2785 rounds, best threshold: 0.3250)\n"
     ]
    },
    {
     "name": "stderr",
     "output_type": "stream",
     "text": [
      "Default metric period is 5 because PRAUC is/are not implemented for GPU\n",
      "Metric PRAUC:type=Classic is not implemented on GPU. Will use CPU for metric computation, this could significantly affect learning time\n"
     ]
    },
    {
     "name": "stdout",
     "output_type": "stream",
     "text": [
      "Fold # 3: 0.72727 (2532 rounds, best threshold: 0.1880)\n"
     ]
    },
    {
     "name": "stderr",
     "output_type": "stream",
     "text": [
      "Default metric period is 5 because PRAUC is/are not implemented for GPU\n",
      "Metric PRAUC:type=Classic is not implemented on GPU. Will use CPU for metric computation, this could significantly affect learning time\n"
     ]
    },
    {
     "name": "stdout",
     "output_type": "stream",
     "text": [
      "Fold # 4: 0.65714 (2259 rounds, best threshold: 0.2205)\n"
     ]
    },
    {
     "name": "stderr",
     "output_type": "stream",
     "text": [
      "Default metric period is 5 because PRAUC is/are not implemented for GPU\n",
      "Metric PRAUC:type=Classic is not implemented on GPU. Will use CPU for metric computation, this could significantly affect learning time\n"
     ]
    },
    {
     "name": "stdout",
     "output_type": "stream",
     "text": [
      "Fold # 5: 0.65134 (1119 rounds, best threshold: 0.2950)\n"
     ]
    },
    {
     "name": "stderr",
     "output_type": "stream",
     "text": [
      "Default metric period is 5 because PRAUC is/are not implemented for GPU\n",
      "Metric PRAUC:type=Classic is not implemented on GPU. Will use CPU for metric computation, this could significantly affect learning time\n"
     ]
    },
    {
     "name": "stdout",
     "output_type": "stream",
     "text": [
      "Fold # 6: 0.70470 (5281 rounds, best threshold: 0.1315)\n",
      "\n",
      "Avg. score: 0.67898 +/- 0.03295\n",
      "OOF score: 0.68035\n",
      "\n",
      "OOF best threshold: 0.221\n",
      "OOF score: 0.66467\n",
      "\n",
      "CPU times: user 48min 52s, sys: 1min 43s, total: 50min 36s\n",
      "Wall time: 27min 41s\n"
     ]
    }
   ],
   "source": [
    "%%time\n",
    "expt = '1'\n",
    "\n",
    "params = {\n",
    "    'eval_metric': 'PRAUC:type=Classic'\n",
    "}\n",
    "\n",
    "model = cb.CatBoostClassifier(**base_params, **params)\n",
    "\n",
    "fold_preds[expt] = custom_cv(features, model)\n",
    "\n",
    "ot_preds[expt] = oof_thresholding(fold_preds[expt][0], fold_preds[expt][2])"
   ]
  },
  {
   "cell_type": "markdown",
   "id": "c126ca4d",
   "metadata": {
    "papermill": {
     "duration": 0.01064,
     "end_time": "2024-01-09T21:54:53.867561",
     "exception": false,
     "start_time": "2024-01-09T21:54:53.856921",
     "status": "completed"
    },
    "tags": []
   },
   "source": [
    "### Expt 2: eval_metric"
   ]
  },
  {
   "cell_type": "code",
   "execution_count": 16,
   "id": "18160dd4",
   "metadata": {
    "execution": {
     "iopub.execute_input": "2024-01-09T21:54:53.891153Z",
     "iopub.status.busy": "2024-01-09T21:54:53.890583Z",
     "iopub.status.idle": "2024-01-09T22:08:46.914393Z",
     "shell.execute_reply": "2024-01-09T22:08:46.913348Z"
    },
    "papermill": {
     "duration": 833.037856,
     "end_time": "2024-01-09T22:08:46.916512",
     "exception": false,
     "start_time": "2024-01-09T21:54:53.878656",
     "status": "completed"
    },
    "tags": []
   },
   "outputs": [
    {
     "name": "stdout",
     "output_type": "stream",
     "text": [
      "Fold # 0: 0.63281 ( 676 rounds, best threshold: 0.4980)\n",
      "Fold # 1: 0.64234 ( 346 rounds, best threshold: 0.2210)\n",
      "Fold # 2: 0.69531 ( 662 rounds, best threshold: 0.4155)\n",
      "Fold # 3: 0.70552 ( 208 rounds, best threshold: 0.1430)\n",
      "Fold # 4: 0.63004 (   1 rounds, best threshold: 0.4935)\n",
      "Fold # 5: 0.64615 ( 420 rounds, best threshold: 0.2670)\n",
      "Fold # 6: 0.66463 ( 418 rounds, best threshold: 0.0925)\n",
      "\n",
      "Avg. score: 0.65954 +/- 0.02798\n",
      "OOF score: 0.66092\n",
      "\n",
      "OOF best threshold: 0.4935\n",
      "OOF score: 0.60468\n",
      "\n",
      "CPU times: user 20min 17s, sys: 25.6 s, total: 20min 42s\n",
      "Wall time: 13min 53s\n"
     ]
    }
   ],
   "source": [
    "%%time\n",
    "expt = '2_1'\n",
    "\n",
    "params = {\n",
    "    'eval_metric': 'F1'\n",
    "}\n",
    "\n",
    "model = cb.CatBoostClassifier(**base_params, **params)\n",
    "\n",
    "fold_preds[expt] = custom_cv(features, model)\n",
    "\n",
    "ot_preds[expt] = oof_thresholding(fold_preds[expt][0], fold_preds[expt][2])"
   ]
  },
  {
   "cell_type": "code",
   "execution_count": 17,
   "id": "3b8f1c7c",
   "metadata": {
    "execution": {
     "iopub.execute_input": "2024-01-09T22:08:46.942125Z",
     "iopub.status.busy": "2024-01-09T22:08:46.941842Z",
     "iopub.status.idle": "2024-01-09T22:34:41.514947Z",
     "shell.execute_reply": "2024-01-09T22:34:41.513921Z"
    },
    "papermill": {
     "duration": 1554.587662,
     "end_time": "2024-01-09T22:34:41.517095",
     "exception": false,
     "start_time": "2024-01-09T22:08:46.929433",
     "status": "completed"
    },
    "tags": []
   },
   "outputs": [
    {
     "name": "stdout",
     "output_type": "stream",
     "text": [
      "Fold # 0: 0.65600 (3048 rounds, best threshold: 0.5260)\n",
      "Fold # 1: 0.64286 (1710 rounds, best threshold: 0.2385)\n",
      "Fold # 2: 0.71380 (2427 rounds, best threshold: 0.2090)\n",
      "Fold # 3: 0.73139 (2698 rounds, best threshold: 0.1850)\n",
      "Fold # 4: 0.65714 (2269 rounds, best threshold: 0.2200)\n",
      "Fold # 5: 0.65152 (1963 rounds, best threshold: 0.2840)\n",
      "Fold # 6: 0.70130 (2783 rounds, best threshold: 0.1265)\n",
      "\n",
      "Avg. score: 0.67914 +/- 0.03278\n",
      "OOF score: 0.68109\n",
      "\n",
      "OOF best threshold: 0.2265\n",
      "OOF score: 0.66600\n",
      "\n",
      "CPU times: user 45min, sys: 1min 37s, total: 46min 37s\n",
      "Wall time: 25min 54s\n"
     ]
    }
   ],
   "source": [
    "%%time\n",
    "expt = '2_2'\n",
    "\n",
    "params = {\n",
    "    'eval_metric': 'Logloss'\n",
    "}\n",
    "\n",
    "model = cb.CatBoostClassifier(**base_params, **params)\n",
    "\n",
    "fold_preds[expt] = custom_cv(features, model)\n",
    "\n",
    "ot_preds[expt] = oof_thresholding(fold_preds[expt][0], fold_preds[expt][2])"
   ]
  },
  {
   "cell_type": "markdown",
   "id": "4908cbfb",
   "metadata": {
    "papermill": {
     "duration": 0.012794,
     "end_time": "2024-01-09T22:34:41.542458",
     "exception": false,
     "start_time": "2024-01-09T22:34:41.529664",
     "status": "completed"
    },
    "tags": []
   },
   "source": [
    "### Expt 3 - class balancing"
   ]
  },
  {
   "cell_type": "code",
   "execution_count": 18,
   "id": "ef0fa9d8",
   "metadata": {
    "execution": {
     "iopub.execute_input": "2024-01-09T22:34:41.569260Z",
     "iopub.status.busy": "2024-01-09T22:34:41.568946Z",
     "iopub.status.idle": "2024-01-09T22:50:33.635687Z",
     "shell.execute_reply": "2024-01-09T22:50:33.634722Z"
    },
    "papermill": {
     "duration": 952.082876,
     "end_time": "2024-01-09T22:50:33.637947",
     "exception": false,
     "start_time": "2024-01-09T22:34:41.555071",
     "status": "completed"
    },
    "tags": []
   },
   "outputs": [
    {
     "name": "stdout",
     "output_type": "stream",
     "text": [
      "Fold # 0: 0.64174 ( 787 rounds, best threshold: 0.6165)\n",
      "Fold # 1: 0.61433 ( 512 rounds, best threshold: 0.6735)\n",
      "Fold # 2: 0.68864 ( 696 rounds, best threshold: 0.7990)\n",
      "Fold # 3: 0.71622 (1046 rounds, best threshold: 0.6355)\n",
      "Fold # 4: 0.65068 ( 693 rounds, best threshold: 0.6725)\n",
      "Fold # 5: 0.64567 ( 864 rounds, best threshold: 0.7840)\n",
      "Fold # 6: 0.67361 ( 534 rounds, best threshold: 0.6265)\n",
      "\n",
      "Avg. score: 0.66156 +/- 0.03130\n",
      "OOF score: 0.66138\n",
      "\n",
      "OOF best threshold: 0.6775\n",
      "OOF score: 0.65141\n",
      "\n",
      "CPU times: user 24min 24s, sys: 36.1 s, total: 25min\n",
      "Wall time: 15min 52s\n"
     ]
    }
   ],
   "source": [
    "%%time\n",
    "expt = '3_1'\n",
    "\n",
    "params = {\n",
    "    'eval_metric': 'Logloss',\n",
    "    'auto_class_weights': 'Balanced'\n",
    "}\n",
    "\n",
    "model = cb.CatBoostClassifier(**base_params, **params)\n",
    "\n",
    "fold_preds[expt] = custom_cv(features, model)\n",
    "\n",
    "ot_preds[expt] = oof_thresholding(fold_preds[expt][0], fold_preds[expt][2])"
   ]
  },
  {
   "cell_type": "code",
   "execution_count": 19,
   "id": "263f3e1c",
   "metadata": {
    "execution": {
     "iopub.execute_input": "2024-01-09T22:50:33.667988Z",
     "iopub.status.busy": "2024-01-09T22:50:33.667593Z",
     "iopub.status.idle": "2024-01-09T23:09:57.923520Z",
     "shell.execute_reply": "2024-01-09T23:09:57.922479Z"
    },
    "papermill": {
     "duration": 1164.273813,
     "end_time": "2024-01-09T23:09:57.926289",
     "exception": false,
     "start_time": "2024-01-09T22:50:33.652476",
     "status": "completed"
    },
    "tags": []
   },
   "outputs": [
    {
     "name": "stdout",
     "output_type": "stream",
     "text": [
      "Fold # 0: 0.64495 (1504 rounds, best threshold: 0.3900)\n",
      "Fold # 1: 0.63345 ( 765 rounds, best threshold: 0.4310)\n",
      "Fold # 2: 0.70139 (1439 rounds, best threshold: 0.4355)\n",
      "Fold # 3: 0.71034 (1920 rounds, best threshold: 0.4335)\n",
      "Fold # 4: 0.65993 (1212 rounds, best threshold: 0.3665)\n",
      "Fold # 5: 0.65672 (1289 rounds, best threshold: 0.5130)\n",
      "Fold # 6: 0.67636 (1192 rounds, best threshold: 0.4020)\n",
      "\n",
      "Avg. score: 0.66902 +/- 0.02642\n",
      "OOF score: 0.66899\n",
      "\n",
      "OOF best threshold: 0.447\n",
      "OOF score: 0.65684\n",
      "\n",
      "CPU times: user 31min 42s, sys: 58 s, total: 32min 40s\n",
      "Wall time: 19min 24s\n"
     ]
    }
   ],
   "source": [
    "%%time\n",
    "expt = '3_2'\n",
    "\n",
    "params = {\n",
    "    'eval_metric': 'Logloss',\n",
    "    'auto_class_weights': 'SqrtBalanced'\n",
    "}\n",
    "\n",
    "model = cb.CatBoostClassifier(**base_params, **params)\n",
    "\n",
    "fold_preds[expt] = custom_cv(features, model)\n",
    "\n",
    "ot_preds[expt] = oof_thresholding(fold_preds[expt][0], fold_preds[expt][2])"
   ]
  },
  {
   "cell_type": "code",
   "execution_count": 20,
   "id": "a5ba0c5e",
   "metadata": {
    "execution": {
     "iopub.execute_input": "2024-01-09T23:09:57.956937Z",
     "iopub.status.busy": "2024-01-09T23:09:57.956603Z",
     "iopub.status.idle": "2024-01-09T23:25:42.714215Z",
     "shell.execute_reply": "2024-01-09T23:25:42.713226Z"
    },
    "papermill": {
     "duration": 944.774727,
     "end_time": "2024-01-09T23:25:42.716366",
     "exception": false,
     "start_time": "2024-01-09T23:09:57.941639",
     "status": "completed"
    },
    "tags": []
   },
   "outputs": [
    {
     "name": "stdout",
     "output_type": "stream",
     "text": [
      "Fold # 0: 0.64539 ( 865 rounds, best threshold: 0.7685)\n",
      "Fold # 1: 0.61484 ( 490 rounds, best threshold: 0.7125)\n",
      "Fold # 2: 0.70629 ( 806 rounds, best threshold: 0.7375)\n",
      "Fold # 3: 0.71186 ( 900 rounds, best threshold: 0.6525)\n",
      "Fold # 4: 0.65052 ( 692 rounds, best threshold: 0.6770)\n",
      "Fold # 5: 0.64286 ( 747 rounds, best threshold: 0.7105)\n",
      "Fold # 6: 0.66667 ( 579 rounds, best threshold: 0.6270)\n",
      "\n",
      "Avg. score: 0.66263 +/- 0.03266\n",
      "OOF score: 0.66300\n",
      "\n",
      "OOF best threshold: 0.6685\n",
      "OOF score: 0.65112\n",
      "\n",
      "CPU times: user 24min 15s, sys: 35.6 s, total: 24min 50s\n",
      "Wall time: 15min 44s\n"
     ]
    }
   ],
   "source": [
    "%%time\n",
    "expt = '3_3'\n",
    "\n",
    "class_ratio = train[TARGET].value_counts()[0] / train[TARGET].value_counts()[1]\n",
    "params = {\n",
    "    'eval_metric': 'Logloss',\n",
    "    'scale_pos_weight': class_ratio\n",
    "}\n",
    "\n",
    "model = cb.CatBoostClassifier(**base_params, **params)\n",
    "\n",
    "fold_preds[expt] = custom_cv(features, model)\n",
    "\n",
    "ot_preds[expt] = oof_thresholding(fold_preds[expt][0], fold_preds[expt][2])"
   ]
  },
  {
   "cell_type": "markdown",
   "id": "0e18824d",
   "metadata": {
    "papermill": {
     "duration": 0.013989,
     "end_time": "2024-01-09T23:25:42.744861",
     "exception": false,
     "start_time": "2024-01-09T23:25:42.730872",
     "status": "completed"
    },
    "tags": []
   },
   "source": [
    "### Exp 4 - folds"
   ]
  },
  {
   "cell_type": "code",
   "execution_count": 21,
   "id": "645187a4",
   "metadata": {
    "execution": {
     "iopub.execute_input": "2024-01-09T23:25:42.774433Z",
     "iopub.status.busy": "2024-01-09T23:25:42.774149Z",
     "iopub.status.idle": "2024-01-09T23:44:54.843459Z",
     "shell.execute_reply": "2024-01-09T23:44:54.842411Z"
    },
    "papermill": {
     "duration": 1152.086525,
     "end_time": "2024-01-09T23:44:54.845513",
     "exception": false,
     "start_time": "2024-01-09T23:25:42.758988",
     "status": "completed"
    },
    "tags": []
   },
   "outputs": [
    {
     "name": "stdout",
     "output_type": "stream",
     "text": [
      "Fold # 0: 0.62234 (1868 rounds, best threshold: 0.1465)\n",
      "Fold # 1: 0.69588 (3590 rounds, best threshold: 0.4365)\n",
      "Fold # 2: 0.71000 (2550 rounds, best threshold: 0.2415)\n",
      "Fold # 3: 0.66109 (2501 rounds, best threshold: 0.1130)\n",
      "Fold # 4: 0.64230 (2687 rounds, best threshold: 0.2605)\n",
      "\n",
      "Avg. score: 0.66632 +/- 0.03262\n",
      "OOF score: 0.66667\n",
      "\n",
      "OOF best threshold: 0.2705\n",
      "OOF score: 0.65779\n",
      "\n",
      "CPU times: user 33min 49s, sys: 1min 14s, total: 35min 4s\n",
      "Wall time: 19min 12s\n"
     ]
    }
   ],
   "source": [
    "%%time\n",
    "expt = '4_1'\n",
    "\n",
    "params = {\n",
    "    'eval_metric': 'Logloss'\n",
    "}\n",
    "\n",
    "model = cb.CatBoostClassifier(**base_params, **params)\n",
    "\n",
    "fold_preds[expt] = custom_cv(features, model, folds=5)\n",
    "\n",
    "ot_preds[expt] = oof_thresholding(fold_preds[expt][0], fold_preds[expt][2])"
   ]
  },
  {
   "cell_type": "code",
   "execution_count": 22,
   "id": "eb91aabf",
   "metadata": {
    "execution": {
     "iopub.execute_input": "2024-01-09T23:44:54.876974Z",
     "iopub.status.busy": "2024-01-09T23:44:54.876641Z",
     "iopub.status.idle": "2024-01-10T00:21:37.136628Z",
     "shell.execute_reply": "2024-01-10T00:21:37.135585Z"
    },
    "papermill": {
     "duration": 2202.277989,
     "end_time": "2024-01-10T00:21:37.138770",
     "exception": false,
     "start_time": "2024-01-09T23:44:54.860781",
     "status": "completed"
    },
    "tags": []
   },
   "outputs": [
    {
     "name": "stdout",
     "output_type": "stream",
     "text": [
      "Fold # 0: 0.65556 (2778 rounds, best threshold: 0.6240)\n",
      "Fold # 1: 0.62439 (2241 rounds, best threshold: 0.1435)\n",
      "Fold # 2: 0.67391 (2130 rounds, best threshold: 0.2230)\n",
      "Fold # 3: 0.73096 (2480 rounds, best threshold: 0.2810)\n",
      "Fold # 4: 0.67327 (2284 rounds, best threshold: 0.2265)\n",
      "Fold # 5: 0.72727 (2184 rounds, best threshold: 0.3315)\n",
      "Fold # 6: 0.66667 (2014 rounds, best threshold: 0.2600)\n",
      "Fold # 7: 0.68085 (1894 rounds, best threshold: 0.2540)\n",
      "Fold # 8: 0.61376 (2662 rounds, best threshold: 0.3355)\n",
      "Fold # 9: 0.71296 (3530 rounds, best threshold: 0.2580)\n",
      "\n",
      "Avg. score: 0.67596 +/- 0.03754\n",
      "OOF score: 0.67677\n",
      "\n",
      "OOF best threshold: 0.258\n",
      "OOF score: 0.66567\n",
      "\n",
      "CPU times: user 1h 3min 52s, sys: 2min 16s, total: 1h 6min 8s\n",
      "Wall time: 36min 42s\n"
     ]
    }
   ],
   "source": [
    "%%time\n",
    "expt = '4_2'\n",
    "\n",
    "params = {\n",
    "    'eval_metric': 'Logloss'\n",
    "}\n",
    "\n",
    "model = cb.CatBoostClassifier(**base_params, **params)\n",
    "\n",
    "fold_preds[expt] = custom_cv(features, model, folds=10)\n",
    "\n",
    "ot_preds[expt] = oof_thresholding(fold_preds[expt][0], fold_preds[expt][2])"
   ]
  },
  {
   "cell_type": "code",
   "execution_count": 23,
   "id": "4ba6b8b6",
   "metadata": {
    "execution": {
     "iopub.execute_input": "2024-01-10T00:21:37.175712Z",
     "iopub.status.busy": "2024-01-10T00:21:37.175415Z",
     "iopub.status.idle": "2024-01-10T01:17:14.657888Z",
     "shell.execute_reply": "2024-01-10T01:17:14.656819Z"
    },
    "papermill": {
     "duration": 3337.503604,
     "end_time": "2024-01-10T01:17:14.660185",
     "exception": false,
     "start_time": "2024-01-10T00:21:37.156581",
     "status": "completed"
    },
    "tags": []
   },
   "outputs": [
    {
     "name": "stdout",
     "output_type": "stream",
     "text": [
      "Fold # 0: 0.68293 (2520 rounds, best threshold: 0.3835)\n",
      "Fold # 1: 0.68852 (2585 rounds, best threshold: 0.3730)\n",
      "Fold # 2: 0.54098 ( 208 rounds, best threshold: 0.3055)\n",
      "Fold # 3: 0.65517 ( 608 rounds, best threshold: 0.4545)\n",
      "Fold # 4: 0.71429 (2977 rounds, best threshold: 0.2610)\n",
      "Fold # 5: 0.78322 (5030 rounds, best threshold: 0.2290)\n",
      "Fold # 6: 0.68613 (2305 rounds, best threshold: 0.2365)\n",
      "Fold # 7: 0.74809 (2886 rounds, best threshold: 0.2185)\n",
      "Fold # 8: 0.67797 (1997 rounds, best threshold: 0.4720)\n",
      "Fold # 9: 0.68966 (2386 rounds, best threshold: 0.1215)\n",
      "Fold #10: 0.64430 (2737 rounds, best threshold: 0.1335)\n",
      "Fold #11: 0.71533 (2061 rounds, best threshold: 0.2330)\n",
      "Fold #12: 0.60317 (2171 rounds, best threshold: 0.2945)\n",
      "Fold #13: 0.72727 (2504 rounds, best threshold: 0.3860)\n",
      "Fold #14: 0.69291 (3149 rounds, best threshold: 0.3065)\n",
      "\n",
      "Avg. score: 0.68333 +/- 0.05615\n",
      "OOF score: 0.68475\n",
      "\n",
      "OOF best threshold: 0.254\n",
      "OOF score: 0.66500\n",
      "\n",
      "CPU times: user 1h 35min 55s, sys: 3min 25s, total: 1h 39min 21s\n",
      "Wall time: 55min 37s\n"
     ]
    }
   ],
   "source": [
    "%%time\n",
    "expt = '4_3'\n",
    "\n",
    "params = {\n",
    "    'eval_metric': 'Logloss'\n",
    "}\n",
    "\n",
    "model = cb.CatBoostClassifier(**base_params, **params)\n",
    "\n",
    "fold_preds[expt] = custom_cv(features, model, folds=15)\n",
    "\n",
    "ot_preds[expt] = oof_thresholding(fold_preds[expt][0], fold_preds[expt][2])"
   ]
  },
  {
   "cell_type": "markdown",
   "id": "6d0eea7a",
   "metadata": {
    "papermill": {
     "duration": 0.017128,
     "end_time": "2024-01-10T01:17:14.696441",
     "exception": false,
     "start_time": "2024-01-10T01:17:14.679313",
     "status": "completed"
    },
    "tags": []
   },
   "source": [
    "### Exp 5 - feature set"
   ]
  },
  {
   "cell_type": "code",
   "execution_count": 24,
   "id": "f09bcc29",
   "metadata": {
    "execution": {
     "iopub.execute_input": "2024-01-10T01:17:14.733754Z",
     "iopub.status.busy": "2024-01-10T01:17:14.733428Z",
     "iopub.status.idle": "2024-01-10T01:45:17.533451Z",
     "shell.execute_reply": "2024-01-10T01:45:17.532470Z"
    },
    "papermill": {
     "duration": 1682.821937,
     "end_time": "2024-01-10T01:45:17.536062",
     "exception": false,
     "start_time": "2024-01-10T01:17:14.714125",
     "status": "completed"
    },
    "tags": []
   },
   "outputs": [
    {
     "name": "stdout",
     "output_type": "stream",
     "text": [
      "Fold # 0: 0.65625 ( 423 rounds, best threshold: 0.2210)\n",
      "Fold # 1: 0.68182 (1498 rounds, best threshold: 0.2310)\n",
      "Fold # 2: 0.55652 ( 200 rounds, best threshold: 0.3405)\n",
      "Fold # 3: 0.62712 ( 302 rounds, best threshold: 0.3615)\n",
      "Fold # 4: 0.67200 (1451 rounds, best threshold: 0.2825)\n",
      "Fold # 5: 0.74453 ( 781 rounds, best threshold: 0.3010)\n",
      "Fold # 6: 0.62411 ( 308 rounds, best threshold: 0.1835)\n",
      "Fold # 7: 0.72857 (1084 rounds, best threshold: 0.1830)\n",
      "Fold # 8: 0.66667 ( 364 rounds, best threshold: 0.5120)\n",
      "Fold # 9: 0.67606 ( 457 rounds, best threshold: 0.1490)\n",
      "Fold #10: 0.59302 ( 323 rounds, best threshold: 0.1050)\n",
      "Fold #11: 0.68750 ( 784 rounds, best threshold: 0.3045)\n",
      "Fold #12: 0.57325 ( 339 rounds, best threshold: 0.1255)\n",
      "Fold #13: 0.67550 ( 785 rounds, best threshold: 0.2270)\n",
      "Fold #14: 0.65693 ( 956 rounds, best threshold: 0.1685)\n",
      "\n",
      "Avg. score: 0.65466 +/- 0.05063\n",
      "OOF score: 0.65392\n",
      "\n",
      "OOF best threshold: 0.342\n",
      "OOF score: 0.63983\n",
      "\n",
      "CPU times: user 38min 46s, sys: 1min 8s, total: 39min 54s\n",
      "Wall time: 28min 2s\n"
     ]
    }
   ],
   "source": [
    "%%time\n",
    "expt = '5_1'\n",
    "\n",
    "params = {\n",
    "    'eval_metric': 'Logloss'\n",
    "}\n",
    "\n",
    "model = cb.CatBoostClassifier(**base_params, **params)\n",
    "\n",
    "fold_preds[expt] = custom_cv(['embedding_vector'], model, folds=15)\n",
    "\n",
    "ot_preds[expt] = oof_thresholding(fold_preds[expt][0], fold_preds[expt][2])"
   ]
  },
  {
   "cell_type": "code",
   "execution_count": 25,
   "id": "3ef1ae76",
   "metadata": {
    "execution": {
     "iopub.execute_input": "2024-01-10T01:45:17.578945Z",
     "iopub.status.busy": "2024-01-10T01:45:17.578610Z",
     "iopub.status.idle": "2024-01-10T02:38:07.186866Z",
     "shell.execute_reply": "2024-01-10T02:38:07.185670Z"
    },
    "papermill": {
     "duration": 3169.631123,
     "end_time": "2024-01-10T02:38:07.189169",
     "exception": false,
     "start_time": "2024-01-10T01:45:17.558046",
     "status": "completed"
    },
    "tags": []
   },
   "outputs": [
    {
     "name": "stdout",
     "output_type": "stream",
     "text": [
      "Fold # 0: 0.68800 (2830 rounds, best threshold: 0.3520)\n",
      "Fold # 1: 0.67769 (1915 rounds, best threshold: 0.3465)\n",
      "Fold # 2: 0.53333 ( 324 rounds, best threshold: 0.2960)\n",
      "Fold # 3: 0.66102 ( 990 rounds, best threshold: 0.4465)\n",
      "Fold # 4: 0.70677 (3169 rounds, best threshold: 0.1900)\n",
      "Fold # 5: 0.79389 (4125 rounds, best threshold: 0.3470)\n",
      "Fold # 6: 0.66667 (1975 rounds, best threshold: 0.1420)\n",
      "Fold # 7: 0.73600 (2525 rounds, best threshold: 0.4580)\n",
      "Fold # 8: 0.67606 (3221 rounds, best threshold: 0.2070)\n",
      "Fold # 9: 0.69065 (2324 rounds, best threshold: 0.1495)\n",
      "Fold #10: 0.64000 (2861 rounds, best threshold: 0.1295)\n",
      "Fold #11: 0.72180 (1453 rounds, best threshold: 0.2615)\n",
      "Fold #12: 0.60256 (1982 rounds, best threshold: 0.1280)\n",
      "Fold #13: 0.71318 (3358 rounds, best threshold: 0.3920)\n",
      "Fold #14: 0.68254 (1896 rounds, best threshold: 0.3570)\n",
      "\n",
      "Avg. score: 0.67934 +/- 0.05746\n",
      "OOF score: 0.67864\n",
      "\n",
      "OOF best threshold: 0.262\n",
      "OOF score: 0.66099\n",
      "\n",
      "CPU times: user 1h 30min 11s, sys: 3min 22s, total: 1h 33min 33s\n",
      "Wall time: 52min 49s\n"
     ]
    }
   ],
   "source": [
    "%%time\n",
    "expt = '5_2'\n",
    "\n",
    "params = {\n",
    "    'eval_metric': 'Logloss'\n",
    "}\n",
    "\n",
    "model = cb.CatBoostClassifier(**base_params, **params)\n",
    "\n",
    "fold_preds[expt] = custom_cv(['embedding_vector'] + embeddings, model, folds=15)\n",
    "\n",
    "ot_preds[expt] = oof_thresholding(fold_preds[expt][0], fold_preds[expt][2])"
   ]
  },
  {
   "cell_type": "code",
   "execution_count": 26,
   "id": "c9c7d5db",
   "metadata": {
    "execution": {
     "iopub.execute_input": "2024-01-10T02:38:07.232861Z",
     "iopub.status.busy": "2024-01-10T02:38:07.232517Z",
     "iopub.status.idle": "2024-01-10T03:09:36.412044Z",
     "shell.execute_reply": "2024-01-10T03:09:36.410850Z"
    },
    "papermill": {
     "duration": 1889.204077,
     "end_time": "2024-01-10T03:09:36.414364",
     "exception": false,
     "start_time": "2024-01-10T02:38:07.210287",
     "status": "completed"
    },
    "tags": []
   },
   "outputs": [
    {
     "name": "stdout",
     "output_type": "stream",
     "text": [
      "Fold # 0: 0.67647 (1306 rounds, best threshold: 0.2170)\n",
      "Fold # 1: 0.70423 (1198 rounds, best threshold: 0.1970)\n",
      "Fold # 2: 0.53846 ( 221 rounds, best threshold: 0.2470)\n",
      "Fold # 3: 0.61538 ( 732 rounds, best threshold: 0.4225)\n",
      "Fold # 4: 0.68493 (1811 rounds, best threshold: 0.1530)\n",
      "Fold # 5: 0.72593 ( 810 rounds, best threshold: 0.3795)\n",
      "Fold # 6: 0.62745 ( 334 rounds, best threshold: 0.1390)\n",
      "Fold # 7: 0.75758 (1739 rounds, best threshold: 0.2705)\n",
      "Fold # 8: 0.66667 ( 651 rounds, best threshold: 0.2775)\n",
      "Fold # 9: 0.68254 ( 537 rounds, best threshold: 0.3035)\n",
      "Fold #10: 0.58929 ( 277 rounds, best threshold: 0.4450)\n",
      "Fold #11: 0.69173 ( 466 rounds, best threshold: 0.2430)\n",
      "Fold #12: 0.58333 (2618 rounds, best threshold: 0.4260)\n",
      "Fold #13: 0.68148 ( 636 rounds, best threshold: 0.3430)\n",
      "Fold #14: 0.66165 (2508 rounds, best threshold: 0.1885)\n",
      "\n",
      "Avg. score: 0.65914 +/- 0.05623\n",
      "OOF score: 0.66096\n",
      "\n",
      "OOF best threshold: 0.2775\n",
      "OOF score: 0.64077\n",
      "\n",
      "CPU times: user 45min 52s, sys: 1min 38s, total: 47min 31s\n",
      "Wall time: 31min 29s\n"
     ]
    }
   ],
   "source": [
    "%%time\n",
    "expt = '5_3'\n",
    "\n",
    "params = {\n",
    "    'eval_metric': 'Logloss'\n",
    "}\n",
    "\n",
    "model = cb.CatBoostClassifier(**base_params, **params)\n",
    "\n",
    "fold_preds[expt] = custom_cv(['embedding_vector', 'word_count', 'punc_num', 'word_punc_ratio'], model, folds=15)\n",
    "\n",
    "ot_preds[expt] = oof_thresholding(fold_preds[expt][0], fold_preds[expt][2])"
   ]
  },
  {
   "cell_type": "markdown",
   "id": "2d1ef908",
   "metadata": {
    "papermill": {
     "duration": 0.020853,
     "end_time": "2024-01-10T03:09:36.457045",
     "exception": false,
     "start_time": "2024-01-10T03:09:36.436192",
     "status": "completed"
    },
    "tags": []
   },
   "source": [
    "# Submission files"
   ]
  },
  {
   "cell_type": "code",
   "execution_count": 27,
   "id": "a50226a1",
   "metadata": {
    "execution": {
     "iopub.execute_input": "2024-01-10T03:09:36.501773Z",
     "iopub.status.busy": "2024-01-10T03:09:36.500936Z",
     "iopub.status.idle": "2024-01-10T03:09:36.506284Z",
     "shell.execute_reply": "2024-01-10T03:09:36.505250Z"
    },
    "papermill": {
     "duration": 0.030441,
     "end_time": "2024-01-10T03:09:36.508398",
     "exception": false,
     "start_time": "2024-01-10T03:09:36.477957",
     "status": "completed"
    },
    "tags": []
   },
   "outputs": [],
   "source": [
    "def create_submission_files(preds, config):\n",
    "    sub = sample_sub.copy()\n",
    "    sub[TARGET] = preds\n",
    "    sub.to_csv(f'{config}.csv', index=False)"
   ]
  },
  {
   "cell_type": "code",
   "execution_count": 28,
   "id": "0bdfdeae",
   "metadata": {
    "execution": {
     "iopub.execute_input": "2024-01-10T03:09:36.556878Z",
     "iopub.status.busy": "2024-01-10T03:09:36.556489Z",
     "iopub.status.idle": "2024-01-10T03:09:36.714229Z",
     "shell.execute_reply": "2024-01-10T03:09:36.713376Z"
    },
    "papermill": {
     "duration": 0.18426,
     "end_time": "2024-01-10T03:09:36.716764",
     "exception": false,
     "start_time": "2024-01-10T03:09:36.532504",
     "status": "completed"
    },
    "tags": []
   },
   "outputs": [],
   "source": [
    "configs = ['1', '2_1', '2_2', '3_1', '3_2', '3_3', '4_1', '4_2', '4_3', '5_1', '5_2', '5_3']\n",
    "\n",
    "for expt in configs:\n",
    "    create_submission_files(fold_preds[expt][-1]['mode'], f'expt{expt}_fold')\n",
    "    create_submission_files(ot_preds[expt][1], f'expt{expt}_ot')"
   ]
  },
  {
   "cell_type": "markdown",
   "id": "ae6ab28c",
   "metadata": {
    "papermill": {
     "duration": 0.02255,
     "end_time": "2024-01-10T03:09:36.761887",
     "exception": false,
     "start_time": "2024-01-10T03:09:36.739337",
     "status": "completed"
    },
    "tags": []
   },
   "source": [
    "# ----------------------------------------"
   ]
  }
 ],
 "metadata": {
  "kaggle": {
   "accelerator": "nvidiaTeslaT4",
   "dataSources": [
    {
     "datasetId": 4267435,
     "sourceId": 7348890,
     "sourceType": "datasetVersion"
    }
   ],
   "dockerImageVersionId": 30626,
   "isGpuEnabled": true,
   "isInternetEnabled": true,
   "language": "python",
   "sourceType": "notebook"
  },
  "kernelspec": {
   "display_name": "Python 3",
   "language": "python",
   "name": "python3"
  },
  "language_info": {
   "codemirror_mode": {
    "name": "ipython",
    "version": 3
   },
   "file_extension": ".py",
   "mimetype": "text/x-python",
   "name": "python",
   "nbconvert_exporter": "python",
   "pygments_lexer": "ipython3",
   "version": "3.10.12"
  },
  "papermill": {
   "default_parameters": {},
   "duration": 20555.073511,
   "end_time": "2024-01-10T03:09:37.446246",
   "environment_variables": {},
   "exception": null,
   "input_path": "__notebook__.ipynb",
   "output_path": "__notebook__.ipynb",
   "parameters": {},
   "start_time": "2024-01-09T21:27:02.372735",
   "version": "2.4.0"
  }
 },
 "nbformat": 4,
 "nbformat_minor": 5
}
