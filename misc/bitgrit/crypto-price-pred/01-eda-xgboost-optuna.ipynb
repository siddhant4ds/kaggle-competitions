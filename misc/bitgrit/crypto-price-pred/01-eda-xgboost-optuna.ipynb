{
 "cells": [
  {
   "cell_type": "markdown",
   "id": "bc8c72c7",
   "metadata": {
    "_cell_guid": "b1076dfc-b9ad-4769-8c92-a6c4dae69d19",
    "_uuid": "8f2839f25d086af736a60e9eeb907d3b93b6e0e5",
    "papermill": {
     "duration": 0.039915,
     "end_time": "2024-04-12T10:08:35.950131",
     "exception": false,
     "start_time": "2024-04-12T10:08:35.910216",
     "status": "completed"
    },
    "tags": []
   },
   "source": [
    "# Setup"
   ]
  },
  {
   "cell_type": "code",
   "execution_count": 1,
   "id": "1e8d2a7f",
   "metadata": {
    "execution": {
     "iopub.execute_input": "2024-04-12T10:08:36.030130Z",
     "iopub.status.busy": "2024-04-12T10:08:36.029268Z",
     "iopub.status.idle": "2024-04-12T10:08:39.079053Z",
     "shell.execute_reply": "2024-04-12T10:08:39.078039Z"
    },
    "papermill": {
     "duration": 3.093396,
     "end_time": "2024-04-12T10:08:39.081901",
     "exception": false,
     "start_time": "2024-04-12T10:08:35.988505",
     "status": "completed"
    },
    "tags": []
   },
   "outputs": [],
   "source": [
    "import gc\n",
    "import time\n",
    "import warnings\n",
    "\n",
    "gc.enable()\n",
    "warnings.filterwarnings('ignore')\n",
    "\n",
    "import pandas as pd\n",
    "import numpy as np\n",
    "pd.set_option('display.precision', 4)\n",
    "pd.set_option('display.max_columns', None)\n",
    "\n",
    "import matplotlib.pyplot as plt\n",
    "import seaborn as sns\n",
    "%matplotlib inline\n",
    "\n",
    "from IPython.display import clear_output\n",
    "\n",
    "import optuna\n",
    "import xgboost as xgb\n",
    "from sklearn.model_selection import StratifiedKFold\n",
    "from sklearn.metrics import f1_score\n",
    "\n",
    "SEED = 2024"
   ]
  },
  {
   "cell_type": "code",
   "execution_count": 2,
   "id": "5713fdcb",
   "metadata": {
    "execution": {
     "iopub.execute_input": "2024-04-12T10:08:39.161879Z",
     "iopub.status.busy": "2024-04-12T10:08:39.161110Z",
     "iopub.status.idle": "2024-04-12T10:08:39.168317Z",
     "shell.execute_reply": "2024-04-12T10:08:39.167383Z"
    },
    "papermill": {
     "duration": 0.049788,
     "end_time": "2024-04-12T10:08:39.170914",
     "exception": false,
     "start_time": "2024-04-12T10:08:39.121126",
     "status": "completed"
    },
    "tags": []
   },
   "outputs": [
    {
     "name": "stdout",
     "output_type": "stream",
     "text": [
      "Available device: cpu\n"
     ]
    }
   ],
   "source": [
    "#Check GPU availability\n",
    "import subprocess\n",
    "try:\n",
    "    subprocess.check_output('nvidia-smi')\n",
    "    DEVICE = 'cuda'\n",
    "except Exception:\n",
    "    DEVICE = 'cpu'\n",
    "\n",
    "print(f'Available device: {DEVICE}')"
   ]
  },
  {
   "cell_type": "code",
   "execution_count": 3,
   "id": "99197d15",
   "metadata": {
    "execution": {
     "iopub.execute_input": "2024-04-12T10:08:39.252081Z",
     "iopub.status.busy": "2024-04-12T10:08:39.251486Z",
     "iopub.status.idle": "2024-04-12T10:08:39.356514Z",
     "shell.execute_reply": "2024-04-12T10:08:39.355313Z"
    },
    "papermill": {
     "duration": 0.148863,
     "end_time": "2024-04-12T10:08:39.359168",
     "exception": false,
     "start_time": "2024-04-12T10:08:39.210305",
     "status": "completed"
    },
    "tags": []
   },
   "outputs": [],
   "source": [
    "DATA_DIR = '/kaggle/input/bitgrit-crypto-price-prediction'\n",
    "\n",
    "train = pd.read_csv(f'{DATA_DIR}/train.csv')\n",
    "test = pd.read_csv(f'{DATA_DIR}/test.csv')\n",
    "sample_sub = pd.read_csv(f'{DATA_DIR}/solution_format.csv')"
   ]
  },
  {
   "cell_type": "code",
   "execution_count": 4,
   "id": "b7116251",
   "metadata": {
    "execution": {
     "iopub.execute_input": "2024-04-12T10:08:39.440069Z",
     "iopub.status.busy": "2024-04-12T10:08:39.439626Z",
     "iopub.status.idle": "2024-04-12T10:08:39.444177Z",
     "shell.execute_reply": "2024-04-12T10:08:39.443075Z"
    },
    "papermill": {
     "duration": 0.046473,
     "end_time": "2024-04-12T10:08:39.446322",
     "exception": false,
     "start_time": "2024-04-12T10:08:39.399849",
     "status": "completed"
    },
    "tags": []
   },
   "outputs": [],
   "source": [
    "TARGET = 'Target'"
   ]
  },
  {
   "cell_type": "code",
   "execution_count": 5,
   "id": "b241d2d0",
   "metadata": {
    "execution": {
     "iopub.execute_input": "2024-04-12T10:08:39.524632Z",
     "iopub.status.busy": "2024-04-12T10:08:39.524207Z",
     "iopub.status.idle": "2024-04-12T10:08:39.533758Z",
     "shell.execute_reply": "2024-04-12T10:08:39.532576Z"
    },
    "papermill": {
     "duration": 0.051661,
     "end_time": "2024-04-12T10:08:39.536145",
     "exception": false,
     "start_time": "2024-04-12T10:08:39.484484",
     "status": "completed"
    },
    "tags": []
   },
   "outputs": [
    {
     "data": {
      "text/plain": [
       "Index(['ID', 'TR_1_EventInd', 'TR_2_EventInd', 'TR_3_EventInd', 'feature_10_A',\n",
       "       'feature_10_B', 'feature_10_F', 'feature_10_G', 'feature_1_A',\n",
       "       'feature_1_B', 'feature_1_C', 'feature_1_D', 'feature_1_E',\n",
       "       'feature_1_F', 'feature_1_G', 'feature_2_A', 'feature_2_B',\n",
       "       'feature_2_C', 'feature_2_D', 'feature_2_E', 'feature_2_F',\n",
       "       'feature_2_G', 'feature_3_A', 'feature_3_B', 'feature_3_C',\n",
       "       'feature_3_D', 'feature_3_E', 'feature_3_F', 'feature_3_G',\n",
       "       'feature_4_A', 'feature_4_B', 'feature_4_C', 'feature_4_E',\n",
       "       'feature_4_F', 'feature_4_G', 'feature_5_A', 'feature_5_B',\n",
       "       'feature_5_C', 'feature_5_D', 'feature_5_E', 'feature_5_F',\n",
       "       'feature_5_G', 'feature_6_A', 'feature_6_B', 'feature_6_C',\n",
       "       'feature_6_D', 'feature_6_E', 'feature_6_F', 'feature_6_G',\n",
       "       'feature_7_A', 'feature_7_B', 'feature_7_C', 'feature_7_D',\n",
       "       'feature_7_E', 'feature_7_F', 'feature_7_G', 'feature_8_A',\n",
       "       'feature_8_B', 'feature_8_C', 'feature_8_D', 'feature_8_E',\n",
       "       'feature_8_F', 'feature_8_G', 'feature_9_A', 'feature_9_B',\n",
       "       'feature_9_C', 'feature_9_D', 'feature_9_E', 'feature_9_F',\n",
       "       'feature_9_G', 'feature_X_A', 'feature_X_B', 'feature_X_C',\n",
       "       'feature_X_D', 'index_1', 'index_2', 'index_3', 'Target'],\n",
       "      dtype='object')"
      ]
     },
     "execution_count": 5,
     "metadata": {},
     "output_type": "execute_result"
    }
   ],
   "source": [
    "train.columns"
   ]
  },
  {
   "cell_type": "markdown",
   "id": "ef46fbd1",
   "metadata": {
    "papermill": {
     "duration": 0.099156,
     "end_time": "2024-04-12T10:08:39.673677",
     "exception": false,
     "start_time": "2024-04-12T10:08:39.574521",
     "status": "completed"
    },
    "tags": []
   },
   "source": [
    "# Missing values"
   ]
  },
  {
   "cell_type": "code",
   "execution_count": 6,
   "id": "2716a1c9",
   "metadata": {
    "execution": {
     "iopub.execute_input": "2024-04-12T10:08:39.753753Z",
     "iopub.status.busy": "2024-04-12T10:08:39.753337Z",
     "iopub.status.idle": "2024-04-12T10:08:39.818572Z",
     "shell.execute_reply": "2024-04-12T10:08:39.817318Z"
    },
    "papermill": {
     "duration": 0.108096,
     "end_time": "2024-04-12T10:08:39.821222",
     "exception": false,
     "start_time": "2024-04-12T10:08:39.713126",
     "status": "completed"
    },
    "tags": []
   },
   "outputs": [
    {
     "data": {
      "text/html": [
       "<div>\n",
       "<style scoped>\n",
       "    .dataframe tbody tr th:only-of-type {\n",
       "        vertical-align: middle;\n",
       "    }\n",
       "\n",
       "    .dataframe tbody tr th {\n",
       "        vertical-align: top;\n",
       "    }\n",
       "\n",
       "    .dataframe thead th {\n",
       "        text-align: right;\n",
       "    }\n",
       "</style>\n",
       "<table border=\"1\" class=\"dataframe\">\n",
       "  <thead>\n",
       "    <tr style=\"text-align: right;\">\n",
       "      <th></th>\n",
       "      <th>ID</th>\n",
       "      <th>TR_1_EventInd</th>\n",
       "      <th>TR_2_EventInd</th>\n",
       "      <th>TR_3_EventInd</th>\n",
       "      <th>feature_10_A</th>\n",
       "      <th>feature_10_B</th>\n",
       "      <th>feature_10_F</th>\n",
       "      <th>feature_10_G</th>\n",
       "      <th>feature_1_A</th>\n",
       "      <th>feature_1_B</th>\n",
       "      <th>feature_1_C</th>\n",
       "      <th>feature_1_D</th>\n",
       "      <th>feature_1_E</th>\n",
       "      <th>feature_1_F</th>\n",
       "      <th>feature_1_G</th>\n",
       "      <th>feature_2_A</th>\n",
       "      <th>feature_2_B</th>\n",
       "      <th>feature_2_C</th>\n",
       "      <th>feature_2_D</th>\n",
       "      <th>feature_2_E</th>\n",
       "      <th>feature_2_F</th>\n",
       "      <th>feature_2_G</th>\n",
       "      <th>feature_3_A</th>\n",
       "      <th>feature_3_B</th>\n",
       "      <th>feature_3_C</th>\n",
       "      <th>feature_3_D</th>\n",
       "      <th>feature_3_E</th>\n",
       "      <th>feature_3_F</th>\n",
       "      <th>feature_3_G</th>\n",
       "      <th>feature_4_A</th>\n",
       "      <th>feature_4_B</th>\n",
       "      <th>feature_4_C</th>\n",
       "      <th>feature_4_E</th>\n",
       "      <th>feature_4_F</th>\n",
       "      <th>feature_4_G</th>\n",
       "      <th>feature_5_A</th>\n",
       "      <th>feature_5_B</th>\n",
       "      <th>feature_5_C</th>\n",
       "      <th>feature_5_D</th>\n",
       "      <th>feature_5_E</th>\n",
       "      <th>feature_5_F</th>\n",
       "      <th>feature_5_G</th>\n",
       "      <th>feature_6_A</th>\n",
       "      <th>feature_6_B</th>\n",
       "      <th>feature_6_C</th>\n",
       "      <th>feature_6_D</th>\n",
       "      <th>feature_6_E</th>\n",
       "      <th>feature_6_F</th>\n",
       "      <th>feature_6_G</th>\n",
       "      <th>feature_7_A</th>\n",
       "      <th>feature_7_B</th>\n",
       "      <th>feature_7_C</th>\n",
       "      <th>feature_7_D</th>\n",
       "      <th>feature_7_E</th>\n",
       "      <th>feature_7_F</th>\n",
       "      <th>feature_7_G</th>\n",
       "      <th>feature_8_A</th>\n",
       "      <th>feature_8_B</th>\n",
       "      <th>feature_8_C</th>\n",
       "      <th>feature_8_D</th>\n",
       "      <th>feature_8_E</th>\n",
       "      <th>feature_8_F</th>\n",
       "      <th>feature_8_G</th>\n",
       "      <th>feature_9_A</th>\n",
       "      <th>feature_9_B</th>\n",
       "      <th>feature_9_C</th>\n",
       "      <th>feature_9_D</th>\n",
       "      <th>feature_9_E</th>\n",
       "      <th>feature_9_F</th>\n",
       "      <th>feature_9_G</th>\n",
       "      <th>feature_X_A</th>\n",
       "      <th>feature_X_B</th>\n",
       "      <th>feature_X_C</th>\n",
       "      <th>feature_X_D</th>\n",
       "      <th>index_1</th>\n",
       "      <th>index_2</th>\n",
       "      <th>index_3</th>\n",
       "      <th>Target</th>\n",
       "    </tr>\n",
       "  </thead>\n",
       "  <tbody>\n",
       "    <tr>\n",
       "      <th>0</th>\n",
       "      <td>0.0</td>\n",
       "      <td>97.2556</td>\n",
       "      <td>97.7068</td>\n",
       "      <td>96.3534</td>\n",
       "      <td>16.8421</td>\n",
       "      <td>30.7143</td>\n",
       "      <td>16.8421</td>\n",
       "      <td>16.8421</td>\n",
       "      <td>30.6767</td>\n",
       "      <td>30.6767</td>\n",
       "      <td>30.8271</td>\n",
       "      <td>30.8271</td>\n",
       "      <td>34.5113</td>\n",
       "      <td>30.6767</td>\n",
       "      <td>30.6767</td>\n",
       "      <td>30.6767</td>\n",
       "      <td>30.6767</td>\n",
       "      <td>30.8271</td>\n",
       "      <td>30.8271</td>\n",
       "      <td>34.5113</td>\n",
       "      <td>30.6767</td>\n",
       "      <td>30.6767</td>\n",
       "      <td>30.6767</td>\n",
       "      <td>30.6767</td>\n",
       "      <td>30.8271</td>\n",
       "      <td>30.8271</td>\n",
       "      <td>34.5113</td>\n",
       "      <td>30.6767</td>\n",
       "      <td>30.6767</td>\n",
       "      <td>28.0075</td>\n",
       "      <td>28.1203</td>\n",
       "      <td>29.1729</td>\n",
       "      <td>43.1203</td>\n",
       "      <td>28.0075</td>\n",
       "      <td>28.0075</td>\n",
       "      <td>30.7143</td>\n",
       "      <td>30.7143</td>\n",
       "      <td>30.8647</td>\n",
       "      <td>30.8647</td>\n",
       "      <td>34.5489</td>\n",
       "      <td>30.7143</td>\n",
       "      <td>30.7143</td>\n",
       "      <td>30.6767</td>\n",
       "      <td>30.6767</td>\n",
       "      <td>30.8271</td>\n",
       "      <td>30.8271</td>\n",
       "      <td>34.5113</td>\n",
       "      <td>30.6767</td>\n",
       "      <td>30.6767</td>\n",
       "      <td>30.6767</td>\n",
       "      <td>30.6767</td>\n",
       "      <td>30.8271</td>\n",
       "      <td>30.8271</td>\n",
       "      <td>34.5113</td>\n",
       "      <td>30.6767</td>\n",
       "      <td>30.6767</td>\n",
       "      <td>30.6767</td>\n",
       "      <td>30.6767</td>\n",
       "      <td>30.8271</td>\n",
       "      <td>30.8271</td>\n",
       "      <td>34.5113</td>\n",
       "      <td>30.6767</td>\n",
       "      <td>30.6767</td>\n",
       "      <td>30.7143</td>\n",
       "      <td>30.7143</td>\n",
       "      <td>30.8647</td>\n",
       "      <td>30.8647</td>\n",
       "      <td>34.5489</td>\n",
       "      <td>30.7143</td>\n",
       "      <td>30.7143</td>\n",
       "      <td>0.0</td>\n",
       "      <td>0.0</td>\n",
       "      <td>0.0</td>\n",
       "      <td>0.0</td>\n",
       "      <td>96.4286</td>\n",
       "      <td>96.4286</td>\n",
       "      <td>96.4286</td>\n",
       "      <td>0.0</td>\n",
       "    </tr>\n",
       "  </tbody>\n",
       "</table>\n",
       "</div>"
      ],
      "text/plain": [
       "    ID  TR_1_EventInd  TR_2_EventInd  TR_3_EventInd  feature_10_A  \\\n",
       "0  0.0        97.2556        97.7068        96.3534       16.8421   \n",
       "\n",
       "   feature_10_B  feature_10_F  feature_10_G  feature_1_A  feature_1_B  \\\n",
       "0       30.7143       16.8421       16.8421      30.6767      30.6767   \n",
       "\n",
       "   feature_1_C  feature_1_D  feature_1_E  feature_1_F  feature_1_G  \\\n",
       "0      30.8271      30.8271      34.5113      30.6767      30.6767   \n",
       "\n",
       "   feature_2_A  feature_2_B  feature_2_C  feature_2_D  feature_2_E  \\\n",
       "0      30.6767      30.6767      30.8271      30.8271      34.5113   \n",
       "\n",
       "   feature_2_F  feature_2_G  feature_3_A  feature_3_B  feature_3_C  \\\n",
       "0      30.6767      30.6767      30.6767      30.6767      30.8271   \n",
       "\n",
       "   feature_3_D  feature_3_E  feature_3_F  feature_3_G  feature_4_A  \\\n",
       "0      30.8271      34.5113      30.6767      30.6767      28.0075   \n",
       "\n",
       "   feature_4_B  feature_4_C  feature_4_E  feature_4_F  feature_4_G  \\\n",
       "0      28.1203      29.1729      43.1203      28.0075      28.0075   \n",
       "\n",
       "   feature_5_A  feature_5_B  feature_5_C  feature_5_D  feature_5_E  \\\n",
       "0      30.7143      30.7143      30.8647      30.8647      34.5489   \n",
       "\n",
       "   feature_5_F  feature_5_G  feature_6_A  feature_6_B  feature_6_C  \\\n",
       "0      30.7143      30.7143      30.6767      30.6767      30.8271   \n",
       "\n",
       "   feature_6_D  feature_6_E  feature_6_F  feature_6_G  feature_7_A  \\\n",
       "0      30.8271      34.5113      30.6767      30.6767      30.6767   \n",
       "\n",
       "   feature_7_B  feature_7_C  feature_7_D  feature_7_E  feature_7_F  \\\n",
       "0      30.6767      30.8271      30.8271      34.5113      30.6767   \n",
       "\n",
       "   feature_7_G  feature_8_A  feature_8_B  feature_8_C  feature_8_D  \\\n",
       "0      30.6767      30.6767      30.6767      30.8271      30.8271   \n",
       "\n",
       "   feature_8_E  feature_8_F  feature_8_G  feature_9_A  feature_9_B  \\\n",
       "0      34.5113      30.6767      30.6767      30.7143      30.7143   \n",
       "\n",
       "   feature_9_C  feature_9_D  feature_9_E  feature_9_F  feature_9_G  \\\n",
       "0      30.8647      30.8647      34.5489      30.7143      30.7143   \n",
       "\n",
       "   feature_X_A  feature_X_B  feature_X_C  feature_X_D  index_1  index_2  \\\n",
       "0          0.0          0.0          0.0          0.0  96.4286  96.4286   \n",
       "\n",
       "   index_3  Target  \n",
       "0  96.4286     0.0  "
      ]
     },
     "execution_count": 6,
     "metadata": {},
     "output_type": "execute_result"
    }
   ],
   "source": [
    "(train.isna().sum() / len(train) * 100).to_frame().T"
   ]
  },
  {
   "cell_type": "code",
   "execution_count": 7,
   "id": "39784856",
   "metadata": {
    "execution": {
     "iopub.execute_input": "2024-04-12T10:08:39.901613Z",
     "iopub.status.busy": "2024-04-12T10:08:39.901209Z",
     "iopub.status.idle": "2024-04-12T10:08:39.959431Z",
     "shell.execute_reply": "2024-04-12T10:08:39.958150Z"
    },
    "papermill": {
     "duration": 0.101447,
     "end_time": "2024-04-12T10:08:39.961953",
     "exception": false,
     "start_time": "2024-04-12T10:08:39.860506",
     "status": "completed"
    },
    "tags": []
   },
   "outputs": [
    {
     "data": {
      "text/html": [
       "<div>\n",
       "<style scoped>\n",
       "    .dataframe tbody tr th:only-of-type {\n",
       "        vertical-align: middle;\n",
       "    }\n",
       "\n",
       "    .dataframe tbody tr th {\n",
       "        vertical-align: top;\n",
       "    }\n",
       "\n",
       "    .dataframe thead th {\n",
       "        text-align: right;\n",
       "    }\n",
       "</style>\n",
       "<table border=\"1\" class=\"dataframe\">\n",
       "  <thead>\n",
       "    <tr style=\"text-align: right;\">\n",
       "      <th></th>\n",
       "      <th>ID</th>\n",
       "      <th>TR_1_EventInd</th>\n",
       "      <th>TR_2_EventInd</th>\n",
       "      <th>TR_3_EventInd</th>\n",
       "      <th>feature_10_A</th>\n",
       "      <th>feature_10_B</th>\n",
       "      <th>feature_10_F</th>\n",
       "      <th>feature_10_G</th>\n",
       "      <th>feature_1_A</th>\n",
       "      <th>feature_1_B</th>\n",
       "      <th>feature_1_C</th>\n",
       "      <th>feature_1_D</th>\n",
       "      <th>feature_1_E</th>\n",
       "      <th>feature_1_F</th>\n",
       "      <th>feature_1_G</th>\n",
       "      <th>feature_2_A</th>\n",
       "      <th>feature_2_B</th>\n",
       "      <th>feature_2_C</th>\n",
       "      <th>feature_2_D</th>\n",
       "      <th>feature_2_E</th>\n",
       "      <th>feature_2_F</th>\n",
       "      <th>feature_2_G</th>\n",
       "      <th>feature_3_A</th>\n",
       "      <th>feature_3_B</th>\n",
       "      <th>feature_3_C</th>\n",
       "      <th>feature_3_D</th>\n",
       "      <th>feature_3_E</th>\n",
       "      <th>feature_3_F</th>\n",
       "      <th>feature_3_G</th>\n",
       "      <th>feature_4_A</th>\n",
       "      <th>feature_4_B</th>\n",
       "      <th>feature_4_C</th>\n",
       "      <th>feature_4_E</th>\n",
       "      <th>feature_4_F</th>\n",
       "      <th>feature_4_G</th>\n",
       "      <th>feature_5_A</th>\n",
       "      <th>feature_5_B</th>\n",
       "      <th>feature_5_C</th>\n",
       "      <th>feature_5_D</th>\n",
       "      <th>feature_5_E</th>\n",
       "      <th>feature_5_F</th>\n",
       "      <th>feature_5_G</th>\n",
       "      <th>feature_6_A</th>\n",
       "      <th>feature_6_B</th>\n",
       "      <th>feature_6_C</th>\n",
       "      <th>feature_6_D</th>\n",
       "      <th>feature_6_E</th>\n",
       "      <th>feature_6_F</th>\n",
       "      <th>feature_6_G</th>\n",
       "      <th>feature_7_A</th>\n",
       "      <th>feature_7_B</th>\n",
       "      <th>feature_7_C</th>\n",
       "      <th>feature_7_D</th>\n",
       "      <th>feature_7_E</th>\n",
       "      <th>feature_7_F</th>\n",
       "      <th>feature_7_G</th>\n",
       "      <th>feature_8_A</th>\n",
       "      <th>feature_8_B</th>\n",
       "      <th>feature_8_C</th>\n",
       "      <th>feature_8_D</th>\n",
       "      <th>feature_8_E</th>\n",
       "      <th>feature_8_F</th>\n",
       "      <th>feature_8_G</th>\n",
       "      <th>feature_9_A</th>\n",
       "      <th>feature_9_B</th>\n",
       "      <th>feature_9_C</th>\n",
       "      <th>feature_9_D</th>\n",
       "      <th>feature_9_E</th>\n",
       "      <th>feature_9_F</th>\n",
       "      <th>feature_9_G</th>\n",
       "      <th>feature_X_A</th>\n",
       "      <th>feature_X_B</th>\n",
       "      <th>feature_X_C</th>\n",
       "      <th>feature_X_D</th>\n",
       "      <th>index_1</th>\n",
       "      <th>index_2</th>\n",
       "      <th>index_3</th>\n",
       "    </tr>\n",
       "  </thead>\n",
       "  <tbody>\n",
       "    <tr>\n",
       "      <th>0</th>\n",
       "      <td>0.0</td>\n",
       "      <td>98.048</td>\n",
       "      <td>98.3483</td>\n",
       "      <td>95.3453</td>\n",
       "      <td>16.5165</td>\n",
       "      <td>33.033</td>\n",
       "      <td>16.5165</td>\n",
       "      <td>16.5165</td>\n",
       "      <td>32.8829</td>\n",
       "      <td>32.8829</td>\n",
       "      <td>33.033</td>\n",
       "      <td>33.033</td>\n",
       "      <td>37.2372</td>\n",
       "      <td>32.8829</td>\n",
       "      <td>32.8829</td>\n",
       "      <td>32.8829</td>\n",
       "      <td>32.8829</td>\n",
       "      <td>33.033</td>\n",
       "      <td>33.033</td>\n",
       "      <td>37.2372</td>\n",
       "      <td>32.8829</td>\n",
       "      <td>32.8829</td>\n",
       "      <td>32.8829</td>\n",
       "      <td>32.8829</td>\n",
       "      <td>33.033</td>\n",
       "      <td>33.033</td>\n",
       "      <td>37.2372</td>\n",
       "      <td>32.8829</td>\n",
       "      <td>32.8829</td>\n",
       "      <td>30.7808</td>\n",
       "      <td>30.7808</td>\n",
       "      <td>33.033</td>\n",
       "      <td>45.7958</td>\n",
       "      <td>30.7808</td>\n",
       "      <td>30.7808</td>\n",
       "      <td>32.8829</td>\n",
       "      <td>32.8829</td>\n",
       "      <td>33.033</td>\n",
       "      <td>33.033</td>\n",
       "      <td>37.2372</td>\n",
       "      <td>32.8829</td>\n",
       "      <td>32.8829</td>\n",
       "      <td>32.8829</td>\n",
       "      <td>32.8829</td>\n",
       "      <td>33.033</td>\n",
       "      <td>33.033</td>\n",
       "      <td>37.2372</td>\n",
       "      <td>32.8829</td>\n",
       "      <td>32.8829</td>\n",
       "      <td>32.8829</td>\n",
       "      <td>32.8829</td>\n",
       "      <td>33.033</td>\n",
       "      <td>33.033</td>\n",
       "      <td>37.2372</td>\n",
       "      <td>32.8829</td>\n",
       "      <td>32.8829</td>\n",
       "      <td>32.8829</td>\n",
       "      <td>32.8829</td>\n",
       "      <td>33.033</td>\n",
       "      <td>33.033</td>\n",
       "      <td>37.2372</td>\n",
       "      <td>32.8829</td>\n",
       "      <td>32.8829</td>\n",
       "      <td>32.8829</td>\n",
       "      <td>32.8829</td>\n",
       "      <td>33.033</td>\n",
       "      <td>33.033</td>\n",
       "      <td>37.2372</td>\n",
       "      <td>32.8829</td>\n",
       "      <td>32.8829</td>\n",
       "      <td>0.0</td>\n",
       "      <td>0.0</td>\n",
       "      <td>0.0</td>\n",
       "      <td>0.0</td>\n",
       "      <td>97.8979</td>\n",
       "      <td>97.8979</td>\n",
       "      <td>97.8979</td>\n",
       "    </tr>\n",
       "  </tbody>\n",
       "</table>\n",
       "</div>"
      ],
      "text/plain": [
       "    ID  TR_1_EventInd  TR_2_EventInd  TR_3_EventInd  feature_10_A  \\\n",
       "0  0.0         98.048        98.3483        95.3453       16.5165   \n",
       "\n",
       "   feature_10_B  feature_10_F  feature_10_G  feature_1_A  feature_1_B  \\\n",
       "0        33.033       16.5165       16.5165      32.8829      32.8829   \n",
       "\n",
       "   feature_1_C  feature_1_D  feature_1_E  feature_1_F  feature_1_G  \\\n",
       "0       33.033       33.033      37.2372      32.8829      32.8829   \n",
       "\n",
       "   feature_2_A  feature_2_B  feature_2_C  feature_2_D  feature_2_E  \\\n",
       "0      32.8829      32.8829       33.033       33.033      37.2372   \n",
       "\n",
       "   feature_2_F  feature_2_G  feature_3_A  feature_3_B  feature_3_C  \\\n",
       "0      32.8829      32.8829      32.8829      32.8829       33.033   \n",
       "\n",
       "   feature_3_D  feature_3_E  feature_3_F  feature_3_G  feature_4_A  \\\n",
       "0       33.033      37.2372      32.8829      32.8829      30.7808   \n",
       "\n",
       "   feature_4_B  feature_4_C  feature_4_E  feature_4_F  feature_4_G  \\\n",
       "0      30.7808       33.033      45.7958      30.7808      30.7808   \n",
       "\n",
       "   feature_5_A  feature_5_B  feature_5_C  feature_5_D  feature_5_E  \\\n",
       "0      32.8829      32.8829       33.033       33.033      37.2372   \n",
       "\n",
       "   feature_5_F  feature_5_G  feature_6_A  feature_6_B  feature_6_C  \\\n",
       "0      32.8829      32.8829      32.8829      32.8829       33.033   \n",
       "\n",
       "   feature_6_D  feature_6_E  feature_6_F  feature_6_G  feature_7_A  \\\n",
       "0       33.033      37.2372      32.8829      32.8829      32.8829   \n",
       "\n",
       "   feature_7_B  feature_7_C  feature_7_D  feature_7_E  feature_7_F  \\\n",
       "0      32.8829       33.033       33.033      37.2372      32.8829   \n",
       "\n",
       "   feature_7_G  feature_8_A  feature_8_B  feature_8_C  feature_8_D  \\\n",
       "0      32.8829      32.8829      32.8829       33.033       33.033   \n",
       "\n",
       "   feature_8_E  feature_8_F  feature_8_G  feature_9_A  feature_9_B  \\\n",
       "0      37.2372      32.8829      32.8829      32.8829      32.8829   \n",
       "\n",
       "   feature_9_C  feature_9_D  feature_9_E  feature_9_F  feature_9_G  \\\n",
       "0       33.033       33.033      37.2372      32.8829      32.8829   \n",
       "\n",
       "   feature_X_A  feature_X_B  feature_X_C  feature_X_D  index_1  index_2  \\\n",
       "0          0.0          0.0          0.0          0.0  97.8979  97.8979   \n",
       "\n",
       "   index_3  \n",
       "0  97.8979  "
      ]
     },
     "execution_count": 7,
     "metadata": {},
     "output_type": "execute_result"
    }
   ],
   "source": [
    "(test.isna().sum() / len(test) * 100).to_frame().T"
   ]
  },
  {
   "cell_type": "markdown",
   "id": "3bd5ff2b",
   "metadata": {
    "papermill": {
     "duration": 0.039713,
     "end_time": "2024-04-12T10:08:40.041386",
     "exception": false,
     "start_time": "2024-04-12T10:08:40.001673",
     "status": "completed"
    },
    "tags": []
   },
   "source": [
    "# Feature exploration"
   ]
  },
  {
   "cell_type": "code",
   "execution_count": 8,
   "id": "0b312daa",
   "metadata": {
    "execution": {
     "iopub.execute_input": "2024-04-12T10:08:40.122466Z",
     "iopub.status.busy": "2024-04-12T10:08:40.122059Z",
     "iopub.status.idle": "2024-04-12T10:08:40.128368Z",
     "shell.execute_reply": "2024-04-12T10:08:40.127254Z"
    },
    "papermill": {
     "duration": 0.04969,
     "end_time": "2024-04-12T10:08:40.130927",
     "exception": false,
     "start_time": "2024-04-12T10:08:40.081237",
     "status": "completed"
    },
    "tags": []
   },
   "outputs": [],
   "source": [
    "def cat_dist(f, norm=True):\n",
    "    display(pd.concat(\n",
    "        [\n",
    "            train[f].value_counts(normalize=norm, dropna=False).rename('train'),\n",
    "            test[f].value_counts(normalize=norm, dropna=False).rename('test')\n",
    "        ],\n",
    "        axis=1\n",
    "    ))"
   ]
  },
  {
   "cell_type": "code",
   "execution_count": 9,
   "id": "049c7a08",
   "metadata": {
    "execution": {
     "iopub.execute_input": "2024-04-12T10:08:40.212606Z",
     "iopub.status.busy": "2024-04-12T10:08:40.211744Z",
     "iopub.status.idle": "2024-04-12T10:08:40.221063Z",
     "shell.execute_reply": "2024-04-12T10:08:40.220065Z"
    },
    "papermill": {
     "duration": 0.052482,
     "end_time": "2024-04-12T10:08:40.223509",
     "exception": false,
     "start_time": "2024-04-12T10:08:40.171027",
     "status": "completed"
    },
    "tags": []
   },
   "outputs": [],
   "source": [
    "def cont_dist(f, clip=None):\n",
    "    fig, ax = plt.subplots(nrows=1, ncols=2, figsize=(16, 4))\n",
    "    ax[0].set_title('Train vs Test')\n",
    "    sns.kdeplot(x=f, data=train, cut=0, ax=ax[0], clip=clip, label='train')\n",
    "    sns.kdeplot(x=f, data=test, cut=0, ax=ax[0], clip=clip, label='test')\n",
    "    ax[0].legend()\n",
    "    \n",
    "    ax[1].set_title('Feature vs Target')\n",
    "    sns.kdeplot(x=f, data=train, hue=TARGET, cut=0, ax=ax[1], clip=clip)\n",
    "    \n",
    "    fig.tight_layout()\n",
    "    plt.show()"
   ]
  },
  {
   "cell_type": "markdown",
   "id": "e8c35c6e",
   "metadata": {
    "papermill": {
     "duration": 0.03939,
     "end_time": "2024-04-12T10:08:40.302591",
     "exception": false,
     "start_time": "2024-04-12T10:08:40.263201",
     "status": "completed"
    },
    "tags": []
   },
   "source": [
    "### TR_x_EventInd"
   ]
  },
  {
   "cell_type": "code",
   "execution_count": 10,
   "id": "d656e15f",
   "metadata": {
    "execution": {
     "iopub.execute_input": "2024-04-12T10:08:40.384777Z",
     "iopub.status.busy": "2024-04-12T10:08:40.384399Z",
     "iopub.status.idle": "2024-04-12T10:08:40.402493Z",
     "shell.execute_reply": "2024-04-12T10:08:40.401688Z"
    },
    "papermill": {
     "duration": 0.06165,
     "end_time": "2024-04-12T10:08:40.404423",
     "exception": false,
     "start_time": "2024-04-12T10:08:40.342773",
     "status": "completed"
    },
    "tags": []
   },
   "outputs": [
    {
     "data": {
      "text/html": [
       "<div>\n",
       "<style scoped>\n",
       "    .dataframe tbody tr th:only-of-type {\n",
       "        vertical-align: middle;\n",
       "    }\n",
       "\n",
       "    .dataframe tbody tr th {\n",
       "        vertical-align: top;\n",
       "    }\n",
       "\n",
       "    .dataframe thead th {\n",
       "        text-align: right;\n",
       "    }\n",
       "</style>\n",
       "<table border=\"1\" class=\"dataframe\">\n",
       "  <thead>\n",
       "    <tr style=\"text-align: right;\">\n",
       "      <th></th>\n",
       "      <th>train</th>\n",
       "      <th>test</th>\n",
       "    </tr>\n",
       "    <tr>\n",
       "      <th>TR_1_EventInd</th>\n",
       "      <th></th>\n",
       "      <th></th>\n",
       "    </tr>\n",
       "  </thead>\n",
       "  <tbody>\n",
       "    <tr>\n",
       "      <th>NaN</th>\n",
       "      <td>0.9726</td>\n",
       "      <td>0.9805</td>\n",
       "    </tr>\n",
       "    <tr>\n",
       "      <th>1.0</th>\n",
       "      <td>0.0274</td>\n",
       "      <td>0.0195</td>\n",
       "    </tr>\n",
       "  </tbody>\n",
       "</table>\n",
       "</div>"
      ],
      "text/plain": [
       "                train    test\n",
       "TR_1_EventInd                \n",
       "NaN            0.9726  0.9805\n",
       "1.0            0.0274  0.0195"
      ]
     },
     "metadata": {},
     "output_type": "display_data"
    }
   ],
   "source": [
    "cat_dist('TR_1_EventInd')"
   ]
  },
  {
   "cell_type": "code",
   "execution_count": 11,
   "id": "27360074",
   "metadata": {
    "execution": {
     "iopub.execute_input": "2024-04-12T10:08:40.486694Z",
     "iopub.status.busy": "2024-04-12T10:08:40.486315Z",
     "iopub.status.idle": "2024-04-12T10:08:40.499804Z",
     "shell.execute_reply": "2024-04-12T10:08:40.498692Z"
    },
    "papermill": {
     "duration": 0.057748,
     "end_time": "2024-04-12T10:08:40.502273",
     "exception": false,
     "start_time": "2024-04-12T10:08:40.444525",
     "status": "completed"
    },
    "tags": []
   },
   "outputs": [
    {
     "data": {
      "text/html": [
       "<div>\n",
       "<style scoped>\n",
       "    .dataframe tbody tr th:only-of-type {\n",
       "        vertical-align: middle;\n",
       "    }\n",
       "\n",
       "    .dataframe tbody tr th {\n",
       "        vertical-align: top;\n",
       "    }\n",
       "\n",
       "    .dataframe thead th {\n",
       "        text-align: right;\n",
       "    }\n",
       "</style>\n",
       "<table border=\"1\" class=\"dataframe\">\n",
       "  <thead>\n",
       "    <tr style=\"text-align: right;\">\n",
       "      <th></th>\n",
       "      <th>train</th>\n",
       "      <th>test</th>\n",
       "    </tr>\n",
       "    <tr>\n",
       "      <th>TR_2_EventInd</th>\n",
       "      <th></th>\n",
       "      <th></th>\n",
       "    </tr>\n",
       "  </thead>\n",
       "  <tbody>\n",
       "    <tr>\n",
       "      <th>NaN</th>\n",
       "      <td>0.9771</td>\n",
       "      <td>0.9835</td>\n",
       "    </tr>\n",
       "    <tr>\n",
       "      <th>1.0</th>\n",
       "      <td>0.0229</td>\n",
       "      <td>0.0165</td>\n",
       "    </tr>\n",
       "  </tbody>\n",
       "</table>\n",
       "</div>"
      ],
      "text/plain": [
       "                train    test\n",
       "TR_2_EventInd                \n",
       "NaN            0.9771  0.9835\n",
       "1.0            0.0229  0.0165"
      ]
     },
     "metadata": {},
     "output_type": "display_data"
    }
   ],
   "source": [
    "cat_dist('TR_2_EventInd')"
   ]
  },
  {
   "cell_type": "code",
   "execution_count": 12,
   "id": "bbc55edf",
   "metadata": {
    "execution": {
     "iopub.execute_input": "2024-04-12T10:08:40.584732Z",
     "iopub.status.busy": "2024-04-12T10:08:40.584301Z",
     "iopub.status.idle": "2024-04-12T10:08:40.597635Z",
     "shell.execute_reply": "2024-04-12T10:08:40.596511Z"
    },
    "papermill": {
     "duration": 0.057543,
     "end_time": "2024-04-12T10:08:40.600179",
     "exception": false,
     "start_time": "2024-04-12T10:08:40.542636",
     "status": "completed"
    },
    "tags": []
   },
   "outputs": [
    {
     "data": {
      "text/html": [
       "<div>\n",
       "<style scoped>\n",
       "    .dataframe tbody tr th:only-of-type {\n",
       "        vertical-align: middle;\n",
       "    }\n",
       "\n",
       "    .dataframe tbody tr th {\n",
       "        vertical-align: top;\n",
       "    }\n",
       "\n",
       "    .dataframe thead th {\n",
       "        text-align: right;\n",
       "    }\n",
       "</style>\n",
       "<table border=\"1\" class=\"dataframe\">\n",
       "  <thead>\n",
       "    <tr style=\"text-align: right;\">\n",
       "      <th></th>\n",
       "      <th>train</th>\n",
       "      <th>test</th>\n",
       "    </tr>\n",
       "    <tr>\n",
       "      <th>TR_3_EventInd</th>\n",
       "      <th></th>\n",
       "      <th></th>\n",
       "    </tr>\n",
       "  </thead>\n",
       "  <tbody>\n",
       "    <tr>\n",
       "      <th>NaN</th>\n",
       "      <td>0.9635</td>\n",
       "      <td>0.9535</td>\n",
       "    </tr>\n",
       "    <tr>\n",
       "      <th>1.0</th>\n",
       "      <td>0.0365</td>\n",
       "      <td>0.0465</td>\n",
       "    </tr>\n",
       "  </tbody>\n",
       "</table>\n",
       "</div>"
      ],
      "text/plain": [
       "                train    test\n",
       "TR_3_EventInd                \n",
       "NaN            0.9635  0.9535\n",
       "1.0            0.0365  0.0465"
      ]
     },
     "metadata": {},
     "output_type": "display_data"
    }
   ],
   "source": [
    "cat_dist('TR_3_EventInd')"
   ]
  },
  {
   "cell_type": "code",
   "execution_count": 13,
   "id": "6e583c53",
   "metadata": {
    "execution": {
     "iopub.execute_input": "2024-04-12T10:08:40.683724Z",
     "iopub.status.busy": "2024-04-12T10:08:40.683301Z",
     "iopub.status.idle": "2024-04-12T10:08:40.696915Z",
     "shell.execute_reply": "2024-04-12T10:08:40.695707Z"
    },
    "papermill": {
     "duration": 0.058862,
     "end_time": "2024-04-12T10:08:40.699713",
     "exception": false,
     "start_time": "2024-04-12T10:08:40.640851",
     "status": "completed"
    },
    "tags": []
   },
   "outputs": [],
   "source": [
    "train['TR_1_EventInd'] = train['TR_1_EventInd'].fillna(0).astype('int')\n",
    "test['TR_1_EventInd'] = test['TR_1_EventInd'].fillna(0).astype('int')\n",
    "\n",
    "train['TR_2_EventInd'] = train['TR_2_EventInd'].fillna(0).astype('int')\n",
    "test['TR_2_EventInd'] = test['TR_2_EventInd'].fillna(0).astype('int')\n",
    "\n",
    "train['TR_3_EventInd'] = train['TR_3_EventInd'].fillna(0).astype('int')\n",
    "test['TR_3_EventInd'] = test['TR_3_EventInd'].fillna(0).astype('int')"
   ]
  },
  {
   "cell_type": "code",
   "execution_count": 14,
   "id": "1dfe6c82",
   "metadata": {
    "execution": {
     "iopub.execute_input": "2024-04-12T10:08:40.782982Z",
     "iopub.status.busy": "2024-04-12T10:08:40.782521Z",
     "iopub.status.idle": "2024-04-12T10:08:40.805430Z",
     "shell.execute_reply": "2024-04-12T10:08:40.804589Z"
    },
    "papermill": {
     "duration": 0.067408,
     "end_time": "2024-04-12T10:08:40.808103",
     "exception": false,
     "start_time": "2024-04-12T10:08:40.740695",
     "status": "completed"
    },
    "tags": []
   },
   "outputs": [
    {
     "data": {
      "text/plain": [
       "TR_1_EventInd  Target\n",
       "0              1         0.5686\n",
       "               0         0.4314\n",
       "1              1         0.5342\n",
       "               0         0.4658\n",
       "Name: proportion, dtype: float64"
      ]
     },
     "execution_count": 14,
     "metadata": {},
     "output_type": "execute_result"
    }
   ],
   "source": [
    "train.groupby('TR_1_EventInd')[TARGET].value_counts(normalize=True)"
   ]
  },
  {
   "cell_type": "code",
   "execution_count": 15,
   "id": "d191afad",
   "metadata": {
    "execution": {
     "iopub.execute_input": "2024-04-12T10:08:40.897740Z",
     "iopub.status.busy": "2024-04-12T10:08:40.896783Z",
     "iopub.status.idle": "2024-04-12T10:08:40.911012Z",
     "shell.execute_reply": "2024-04-12T10:08:40.909736Z"
    },
    "papermill": {
     "duration": 0.059556,
     "end_time": "2024-04-12T10:08:40.913544",
     "exception": false,
     "start_time": "2024-04-12T10:08:40.853988",
     "status": "completed"
    },
    "tags": []
   },
   "outputs": [
    {
     "data": {
      "text/plain": [
       "TR_2_EventInd  Target\n",
       "0              1         0.5683\n",
       "               0         0.4317\n",
       "1              1         0.5410\n",
       "               0         0.4590\n",
       "Name: proportion, dtype: float64"
      ]
     },
     "execution_count": 15,
     "metadata": {},
     "output_type": "execute_result"
    }
   ],
   "source": [
    "train.groupby('TR_2_EventInd')[TARGET].value_counts(normalize=True)"
   ]
  },
  {
   "cell_type": "code",
   "execution_count": 16,
   "id": "469fa6fc",
   "metadata": {
    "execution": {
     "iopub.execute_input": "2024-04-12T10:08:40.997253Z",
     "iopub.status.busy": "2024-04-12T10:08:40.996850Z",
     "iopub.status.idle": "2024-04-12T10:08:41.009325Z",
     "shell.execute_reply": "2024-04-12T10:08:41.008250Z"
    },
    "papermill": {
     "duration": 0.057589,
     "end_time": "2024-04-12T10:08:41.011981",
     "exception": false,
     "start_time": "2024-04-12T10:08:40.954392",
     "status": "completed"
    },
    "tags": []
   },
   "outputs": [
    {
     "data": {
      "text/plain": [
       "TR_3_EventInd  Target\n",
       "0              1         0.5669\n",
       "               0         0.4331\n",
       "1              1         0.5876\n",
       "               0         0.4124\n",
       "Name: proportion, dtype: float64"
      ]
     },
     "execution_count": 16,
     "metadata": {},
     "output_type": "execute_result"
    }
   ],
   "source": [
    "train.groupby('TR_3_EventInd')[TARGET].value_counts(normalize=True)"
   ]
  },
  {
   "cell_type": "code",
   "execution_count": 17,
   "id": "26f832f0",
   "metadata": {
    "execution": {
     "iopub.execute_input": "2024-04-12T10:08:41.095992Z",
     "iopub.status.busy": "2024-04-12T10:08:41.095556Z",
     "iopub.status.idle": "2024-04-12T10:08:41.114225Z",
     "shell.execute_reply": "2024-04-12T10:08:41.113045Z"
    },
    "papermill": {
     "duration": 0.063366,
     "end_time": "2024-04-12T10:08:41.116964",
     "exception": false,
     "start_time": "2024-04-12T10:08:41.053598",
     "status": "completed"
    },
    "tags": []
   },
   "outputs": [
    {
     "data": {
      "text/plain": [
       "TR_1_EventInd  TR_2_EventInd  TR_3_EventInd  Target\n",
       "0              0              0              1         0.5693\n",
       "                                             0         0.4307\n",
       "                              1              1         0.5814\n",
       "                                             0         0.4186\n",
       "               1              0              1         0.5185\n",
       "                                             0         0.4815\n",
       "1              0              0              0         0.5091\n",
       "                                             1         0.4909\n",
       "                              1              1         0.6364\n",
       "                                             0         0.3636\n",
       "               1              0              1         0.7143\n",
       "                                             0         0.2857\n",
       "Name: proportion, dtype: float64"
      ]
     },
     "execution_count": 17,
     "metadata": {},
     "output_type": "execute_result"
    }
   ],
   "source": [
    "train.groupby(['TR_1_EventInd', 'TR_2_EventInd', 'TR_3_EventInd'])[TARGET].value_counts(normalize=True)"
   ]
  },
  {
   "cell_type": "code",
   "execution_count": 18,
   "id": "6f865330",
   "metadata": {
    "execution": {
     "iopub.execute_input": "2024-04-12T10:08:41.202242Z",
     "iopub.status.busy": "2024-04-12T10:08:41.201854Z",
     "iopub.status.idle": "2024-04-12T10:08:41.214771Z",
     "shell.execute_reply": "2024-04-12T10:08:41.213607Z"
    },
    "papermill": {
     "duration": 0.059186,
     "end_time": "2024-04-12T10:08:41.217199",
     "exception": false,
     "start_time": "2024-04-12T10:08:41.158013",
     "status": "completed"
    },
    "tags": []
   },
   "outputs": [
    {
     "data": {
      "text/plain": [
       "TR_1_EventInd  TR_2_EventInd  TR_3_EventInd  Target\n",
       "0              0              0              1         1393\n",
       "                                             0         1054\n",
       "                              1              1           50\n",
       "                                             0           36\n",
       "               1              0              1           28\n",
       "                                             0           26\n",
       "1              0              0              0           28\n",
       "                                             1           27\n",
       "                              1              1            7\n",
       "                                             0            4\n",
       "               1              0              1            5\n",
       "                                             0            2\n",
       "Name: count, dtype: int64"
      ]
     },
     "execution_count": 18,
     "metadata": {},
     "output_type": "execute_result"
    }
   ],
   "source": [
    "train.groupby(['TR_1_EventInd', 'TR_2_EventInd', 'TR_3_EventInd'])[TARGET].value_counts()"
   ]
  },
  {
   "cell_type": "markdown",
   "id": "d9fcc7a0",
   "metadata": {
    "papermill": {
     "duration": 0.041285,
     "end_time": "2024-04-12T10:08:41.301897",
     "exception": false,
     "start_time": "2024-04-12T10:08:41.260612",
     "status": "completed"
    },
    "tags": []
   },
   "source": [
    "### index_1-3"
   ]
  },
  {
   "cell_type": "code",
   "execution_count": 19,
   "id": "b2699438",
   "metadata": {
    "execution": {
     "iopub.execute_input": "2024-04-12T10:08:41.389464Z",
     "iopub.status.busy": "2024-04-12T10:08:41.388412Z",
     "iopub.status.idle": "2024-04-12T10:08:41.406018Z",
     "shell.execute_reply": "2024-04-12T10:08:41.404899Z"
    },
    "papermill": {
     "duration": 0.063519,
     "end_time": "2024-04-12T10:08:41.408438",
     "exception": false,
     "start_time": "2024-04-12T10:08:41.344919",
     "status": "completed"
    },
    "tags": []
   },
   "outputs": [
    {
     "data": {
      "text/html": [
       "<div>\n",
       "<style scoped>\n",
       "    .dataframe tbody tr th:only-of-type {\n",
       "        vertical-align: middle;\n",
       "    }\n",
       "\n",
       "    .dataframe tbody tr th {\n",
       "        vertical-align: top;\n",
       "    }\n",
       "\n",
       "    .dataframe thead th {\n",
       "        text-align: right;\n",
       "    }\n",
       "</style>\n",
       "<table border=\"1\" class=\"dataframe\">\n",
       "  <thead>\n",
       "    <tr style=\"text-align: right;\">\n",
       "      <th></th>\n",
       "      <th>train</th>\n",
       "      <th>test</th>\n",
       "    </tr>\n",
       "    <tr>\n",
       "      <th>index_1</th>\n",
       "      <th></th>\n",
       "      <th></th>\n",
       "    </tr>\n",
       "  </thead>\n",
       "  <tbody>\n",
       "    <tr>\n",
       "      <th>NaN</th>\n",
       "      <td>0.9643</td>\n",
       "      <td>0.9790</td>\n",
       "    </tr>\n",
       "    <tr>\n",
       "      <th>0.0</th>\n",
       "      <td>0.0214</td>\n",
       "      <td>0.0135</td>\n",
       "    </tr>\n",
       "    <tr>\n",
       "      <th>2.0</th>\n",
       "      <td>0.0056</td>\n",
       "      <td>0.0015</td>\n",
       "    </tr>\n",
       "    <tr>\n",
       "      <th>1.0</th>\n",
       "      <td>0.0026</td>\n",
       "      <td>0.0015</td>\n",
       "    </tr>\n",
       "    <tr>\n",
       "      <th>4.0</th>\n",
       "      <td>0.0026</td>\n",
       "      <td>0.0015</td>\n",
       "    </tr>\n",
       "    <tr>\n",
       "      <th>3.0</th>\n",
       "      <td>0.0023</td>\n",
       "      <td>0.0015</td>\n",
       "    </tr>\n",
       "    <tr>\n",
       "      <th>5.0</th>\n",
       "      <td>0.0008</td>\n",
       "      <td>NaN</td>\n",
       "    </tr>\n",
       "    <tr>\n",
       "      <th>7.0</th>\n",
       "      <td>0.0004</td>\n",
       "      <td>NaN</td>\n",
       "    </tr>\n",
       "    <tr>\n",
       "      <th>6.0</th>\n",
       "      <td>NaN</td>\n",
       "      <td>0.0015</td>\n",
       "    </tr>\n",
       "  </tbody>\n",
       "</table>\n",
       "</div>"
      ],
      "text/plain": [
       "          train    test\n",
       "index_1                \n",
       "NaN      0.9643  0.9790\n",
       "0.0      0.0214  0.0135\n",
       "2.0      0.0056  0.0015\n",
       "1.0      0.0026  0.0015\n",
       "4.0      0.0026  0.0015\n",
       "3.0      0.0023  0.0015\n",
       "5.0      0.0008     NaN\n",
       "7.0      0.0004     NaN\n",
       "6.0         NaN  0.0015"
      ]
     },
     "metadata": {},
     "output_type": "display_data"
    }
   ],
   "source": [
    "cat_dist('index_1')"
   ]
  },
  {
   "cell_type": "code",
   "execution_count": 20,
   "id": "100bf90f",
   "metadata": {
    "execution": {
     "iopub.execute_input": "2024-04-12T10:08:41.494172Z",
     "iopub.status.busy": "2024-04-12T10:08:41.492916Z",
     "iopub.status.idle": "2024-04-12T10:08:41.503694Z",
     "shell.execute_reply": "2024-04-12T10:08:41.502766Z"
    },
    "papermill": {
     "duration": 0.055813,
     "end_time": "2024-04-12T10:08:41.506112",
     "exception": false,
     "start_time": "2024-04-12T10:08:41.450299",
     "status": "completed"
    },
    "tags": []
   },
   "outputs": [
    {
     "data": {
      "text/plain": [
       "(array([  0.,  nan,   6.,  73.,  36.,   1.,  11.,  31.,   5.,  61.,   8.,\n",
       "         29.,   4.,  34.,  19.,   9., 100.,  38.,  21.,  15.,  12.,  82.,\n",
       "         18.,  22.,  26.,   7.]),\n",
       " array([nan,  7.,  0.,  9., 21.,  5.]))"
      ]
     },
     "execution_count": 20,
     "metadata": {},
     "output_type": "execute_result"
    }
   ],
   "source": [
    "train['index_2'].unique(), test['index_2'].unique()"
   ]
  },
  {
   "cell_type": "code",
   "execution_count": 21,
   "id": "a8447411",
   "metadata": {
    "execution": {
     "iopub.execute_input": "2024-04-12T10:08:41.590765Z",
     "iopub.status.busy": "2024-04-12T10:08:41.590331Z",
     "iopub.status.idle": "2024-04-12T10:08:41.599470Z",
     "shell.execute_reply": "2024-04-12T10:08:41.598289Z"
    },
    "papermill": {
     "duration": 0.054285,
     "end_time": "2024-04-12T10:08:41.601915",
     "exception": false,
     "start_time": "2024-04-12T10:08:41.547630",
     "status": "completed"
    },
    "tags": []
   },
   "outputs": [
    {
     "data": {
      "text/plain": [
       "(array([  1.,  nan,   6.,  13.,  42.,  31.,  50.,   9.,   8.,  37.,   4.,\n",
       "         27.,   7.,  55.,  20.,  19.,  56.,  25.,  10.,  16.,  43., 100.,\n",
       "         86.,  14.,   2.,  18.,  15.,  29.,  24.,  46.,  11.,   3.,   0.,\n",
       "         12.,  17.,  34.]),\n",
       " array([nan, 21., 19.,  1., 16., 10.,  8., 23., 13., 97., 14., 36., 24.]))"
      ]
     },
     "execution_count": 21,
     "metadata": {},
     "output_type": "execute_result"
    }
   ],
   "source": [
    "train['index_3'].unique(), test['index_3'].unique()"
   ]
  },
  {
   "cell_type": "markdown",
   "id": "440ec94d",
   "metadata": {
    "papermill": {
     "duration": 0.041422,
     "end_time": "2024-04-12T10:08:41.687445",
     "exception": false,
     "start_time": "2024-04-12T10:08:41.646023",
     "status": "completed"
    },
    "tags": []
   },
   "source": [
    "Possibly percentages since maximum value is exactly 100."
   ]
  },
  {
   "cell_type": "markdown",
   "id": "1c00f537",
   "metadata": {
    "papermill": {
     "duration": 0.041413,
     "end_time": "2024-04-12T10:08:41.771477",
     "exception": false,
     "start_time": "2024-04-12T10:08:41.730064",
     "status": "completed"
    },
    "tags": []
   },
   "source": [
    "### feature_X_x"
   ]
  },
  {
   "cell_type": "markdown",
   "id": "f4b39d8e",
   "metadata": {
    "papermill": {
     "duration": 0.04148,
     "end_time": "2024-04-12T10:08:41.854764",
     "exception": false,
     "start_time": "2024-04-12T10:08:41.813284",
     "status": "completed"
    },
    "tags": []
   },
   "source": [
    "**feature_X_A**"
   ]
  },
  {
   "cell_type": "code",
   "execution_count": 22,
   "id": "e5d59905",
   "metadata": {
    "execution": {
     "iopub.execute_input": "2024-04-12T10:08:41.942133Z",
     "iopub.status.busy": "2024-04-12T10:08:41.941343Z",
     "iopub.status.idle": "2024-04-12T10:08:41.948435Z",
     "shell.execute_reply": "2024-04-12T10:08:41.947573Z"
    },
    "papermill": {
     "duration": 0.05292,
     "end_time": "2024-04-12T10:08:41.950578",
     "exception": false,
     "start_time": "2024-04-12T10:08:41.897658",
     "status": "completed"
    },
    "tags": []
   },
   "outputs": [
    {
     "data": {
      "text/plain": [
       "2"
      ]
     },
     "execution_count": 22,
     "metadata": {},
     "output_type": "execute_result"
    }
   ],
   "source": [
    "train['feature_X_A'].nunique()"
   ]
  },
  {
   "cell_type": "code",
   "execution_count": 23,
   "id": "972f02d5",
   "metadata": {
    "execution": {
     "iopub.execute_input": "2024-04-12T10:08:42.037502Z",
     "iopub.status.busy": "2024-04-12T10:08:42.037099Z",
     "iopub.status.idle": "2024-04-12T10:08:42.052261Z",
     "shell.execute_reply": "2024-04-12T10:08:42.051157Z"
    },
    "papermill": {
     "duration": 0.061607,
     "end_time": "2024-04-12T10:08:42.054550",
     "exception": false,
     "start_time": "2024-04-12T10:08:41.992943",
     "status": "completed"
    },
    "tags": []
   },
   "outputs": [
    {
     "data": {
      "text/html": [
       "<div>\n",
       "<style scoped>\n",
       "    .dataframe tbody tr th:only-of-type {\n",
       "        vertical-align: middle;\n",
       "    }\n",
       "\n",
       "    .dataframe tbody tr th {\n",
       "        vertical-align: top;\n",
       "    }\n",
       "\n",
       "    .dataframe thead th {\n",
       "        text-align: right;\n",
       "    }\n",
       "</style>\n",
       "<table border=\"1\" class=\"dataframe\">\n",
       "  <thead>\n",
       "    <tr style=\"text-align: right;\">\n",
       "      <th></th>\n",
       "      <th>train</th>\n",
       "      <th>test</th>\n",
       "    </tr>\n",
       "    <tr>\n",
       "      <th>feature_X_A</th>\n",
       "      <th></th>\n",
       "      <th></th>\n",
       "    </tr>\n",
       "  </thead>\n",
       "  <tbody>\n",
       "    <tr>\n",
       "      <th>1</th>\n",
       "      <td>0.5256</td>\n",
       "      <td>0.5571</td>\n",
       "    </tr>\n",
       "    <tr>\n",
       "      <th>0</th>\n",
       "      <td>0.4744</td>\n",
       "      <td>0.4429</td>\n",
       "    </tr>\n",
       "  </tbody>\n",
       "</table>\n",
       "</div>"
      ],
      "text/plain": [
       "              train    test\n",
       "feature_X_A                \n",
       "1            0.5256  0.5571\n",
       "0            0.4744  0.4429"
      ]
     },
     "metadata": {},
     "output_type": "display_data"
    }
   ],
   "source": [
    "cat_dist('feature_X_A')"
   ]
  },
  {
   "cell_type": "code",
   "execution_count": 24,
   "id": "b823c16b",
   "metadata": {
    "execution": {
     "iopub.execute_input": "2024-04-12T10:08:42.140610Z",
     "iopub.status.busy": "2024-04-12T10:08:42.140231Z",
     "iopub.status.idle": "2024-04-12T10:08:42.153356Z",
     "shell.execute_reply": "2024-04-12T10:08:42.152203Z"
    },
    "papermill": {
     "duration": 0.058915,
     "end_time": "2024-04-12T10:08:42.155688",
     "exception": false,
     "start_time": "2024-04-12T10:08:42.096773",
     "status": "completed"
    },
    "tags": []
   },
   "outputs": [
    {
     "data": {
      "text/plain": [
       "feature_X_A  Target\n",
       "0            1         0.5666\n",
       "             0         0.4334\n",
       "1            1         0.5687\n",
       "             0         0.4313\n",
       "Name: proportion, dtype: float64"
      ]
     },
     "execution_count": 24,
     "metadata": {},
     "output_type": "execute_result"
    }
   ],
   "source": [
    "train.groupby('feature_X_A')[TARGET].value_counts(normalize=True)"
   ]
  },
  {
   "cell_type": "markdown",
   "id": "6b14836b",
   "metadata": {
    "papermill": {
     "duration": 0.042632,
     "end_time": "2024-04-12T10:08:42.241315",
     "exception": false,
     "start_time": "2024-04-12T10:08:42.198683",
     "status": "completed"
    },
    "tags": []
   },
   "source": [
    "No split based on this variable. Providing no information on its own."
   ]
  },
  {
   "cell_type": "markdown",
   "id": "b08ae9c8",
   "metadata": {
    "papermill": {
     "duration": 0.042313,
     "end_time": "2024-04-12T10:08:42.326076",
     "exception": false,
     "start_time": "2024-04-12T10:08:42.283763",
     "status": "completed"
    },
    "tags": []
   },
   "source": [
    "**feature_X_B**"
   ]
  },
  {
   "cell_type": "code",
   "execution_count": 25,
   "id": "01ffc663",
   "metadata": {
    "execution": {
     "iopub.execute_input": "2024-04-12T10:08:42.432616Z",
     "iopub.status.busy": "2024-04-12T10:08:42.432233Z",
     "iopub.status.idle": "2024-04-12T10:08:42.439524Z",
     "shell.execute_reply": "2024-04-12T10:08:42.438431Z"
    },
    "papermill": {
     "duration": 0.067103,
     "end_time": "2024-04-12T10:08:42.441794",
     "exception": false,
     "start_time": "2024-04-12T10:08:42.374691",
     "status": "completed"
    },
    "tags": []
   },
   "outputs": [
    {
     "data": {
      "text/plain": [
       "(189, 126)"
      ]
     },
     "execution_count": 25,
     "metadata": {},
     "output_type": "execute_result"
    }
   ],
   "source": [
    "train['feature_X_B'].nunique(), test['feature_X_B'].nunique()"
   ]
  },
  {
   "cell_type": "code",
   "execution_count": 26,
   "id": "e63ebdb2",
   "metadata": {
    "execution": {
     "iopub.execute_input": "2024-04-12T10:08:42.540806Z",
     "iopub.status.busy": "2024-04-12T10:08:42.539320Z",
     "iopub.status.idle": "2024-04-12T10:08:43.584677Z",
     "shell.execute_reply": "2024-04-12T10:08:43.583795Z"
    },
    "papermill": {
     "duration": 1.103033,
     "end_time": "2024-04-12T10:08:43.587091",
     "exception": false,
     "start_time": "2024-04-12T10:08:42.484058",
     "status": "completed"
    },
    "tags": []
   },
   "outputs": [
    {
     "data": {
      "image/png": "[encoded data removed]",
      "text/plain": [
       "<Figure size 1600x400 with 2 Axes>"
      ]
     },
     "metadata": {},
     "output_type": "display_data"
    }
   ],
   "source": [
    "cont_dist('feature_X_B')"
   ]
  },
  {
   "cell_type": "markdown",
   "id": "b5ccf678",
   "metadata": {
    "papermill": {
     "duration": 0.043116,
     "end_time": "2024-04-12T10:08:43.673623",
     "exception": false,
     "start_time": "2024-04-12T10:08:43.630507",
     "status": "completed"
    },
    "tags": []
   },
   "source": [
    "**feature_X_C**"
   ]
  },
  {
   "cell_type": "code",
   "execution_count": 27,
   "id": "acd5a9a0",
   "metadata": {
    "execution": {
     "iopub.execute_input": "2024-04-12T10:08:43.763732Z",
     "iopub.status.busy": "2024-04-12T10:08:43.761376Z",
     "iopub.status.idle": "2024-04-12T10:08:43.771001Z",
     "shell.execute_reply": "2024-04-12T10:08:43.769901Z"
    },
    "papermill": {
     "duration": 0.056228,
     "end_time": "2024-04-12T10:08:43.773253",
     "exception": false,
     "start_time": "2024-04-12T10:08:43.717025",
     "status": "completed"
    },
    "tags": []
   },
   "outputs": [
    {
     "data": {
      "text/plain": [
       "(2660, 2660)"
      ]
     },
     "execution_count": 27,
     "metadata": {},
     "output_type": "execute_result"
    }
   ],
   "source": [
    "train.shape[0], train['feature_X_C'].nunique()"
   ]
  },
  {
   "cell_type": "code",
   "execution_count": 28,
   "id": "f486abe9",
   "metadata": {
    "execution": {
     "iopub.execute_input": "2024-04-12T10:08:43.862103Z",
     "iopub.status.busy": "2024-04-12T10:08:43.861315Z",
     "iopub.status.idle": "2024-04-12T10:08:43.869531Z",
     "shell.execute_reply": "2024-04-12T10:08:43.868410Z"
    },
    "papermill": {
     "duration": 0.055197,
     "end_time": "2024-04-12T10:08:43.871777",
     "exception": false,
     "start_time": "2024-04-12T10:08:43.816580",
     "status": "completed"
    },
    "tags": []
   },
   "outputs": [
    {
     "data": {
      "text/plain": [
       "(666, 666)"
      ]
     },
     "execution_count": 28,
     "metadata": {},
     "output_type": "execute_result"
    }
   ],
   "source": [
    "test.shape[0], test['feature_X_C'].nunique()"
   ]
  },
  {
   "cell_type": "code",
   "execution_count": 29,
   "id": "7b8f6598",
   "metadata": {
    "execution": {
     "iopub.execute_input": "2024-04-12T10:08:43.963783Z",
     "iopub.status.busy": "2024-04-12T10:08:43.962643Z",
     "iopub.status.idle": "2024-04-12T10:08:43.971144Z",
     "shell.execute_reply": "2024-04-12T10:08:43.969956Z"
    },
    "papermill": {
     "duration": 0.056462,
     "end_time": "2024-04-12T10:08:43.973573",
     "exception": false,
     "start_time": "2024-04-12T10:08:43.917111",
     "status": "completed"
    },
    "tags": []
   },
   "outputs": [
    {
     "data": {
      "text/plain": [
       "array([ 1.54245568,  1.28747292,  0.25150108,  1.6737832 ,  0.26340646,\n",
       "        0.74578836,  0.81692102, -1.24439402,  0.08979781, -0.72765139])"
      ]
     },
     "execution_count": 29,
     "metadata": {},
     "output_type": "execute_result"
    }
   ],
   "source": [
    "train['feature_X_C'].unique()[:10]"
   ]
  },
  {
   "cell_type": "markdown",
   "id": "103f8e50",
   "metadata": {
    "papermill": {
     "duration": 0.045221,
     "end_time": "2024-04-12T10:08:44.062793",
     "exception": false,
     "start_time": "2024-04-12T10:08:44.017572",
     "status": "completed"
    },
    "tags": []
   },
   "source": [
    "All values are unique. Could be co-incidental due to continuous data, or obfuscated values for a unique identifier."
   ]
  },
  {
   "cell_type": "code",
   "execution_count": 30,
   "id": "a17335f3",
   "metadata": {
    "execution": {
     "iopub.execute_input": "2024-04-12T10:08:44.153252Z",
     "iopub.status.busy": "2024-04-12T10:08:44.152592Z",
     "iopub.status.idle": "2024-04-12T10:08:44.995468Z",
     "shell.execute_reply": "2024-04-12T10:08:44.994311Z"
    },
    "papermill": {
     "duration": 0.89157,
     "end_time": "2024-04-12T10:08:44.998743",
     "exception": false,
     "start_time": "2024-04-12T10:08:44.107173",
     "status": "completed"
    },
    "tags": []
   },
   "outputs": [
    {
     "data": {
      "image/png": "[encoded data removed]",
      "text/plain": [
       "<Figure size 1600x400 with 2 Axes>"
      ]
     },
     "metadata": {},
     "output_type": "display_data"
    }
   ],
   "source": [
    "cont_dist('feature_X_C')"
   ]
  },
  {
   "cell_type": "markdown",
   "id": "2905ed89",
   "metadata": {
    "papermill": {
     "duration": 0.045916,
     "end_time": "2024-04-12T10:08:45.090081",
     "exception": false,
     "start_time": "2024-04-12T10:08:45.044165",
     "status": "completed"
    },
    "tags": []
   },
   "source": [
    "**feature_X_D**"
   ]
  },
  {
   "cell_type": "code",
   "execution_count": 31,
   "id": "5d24ce86",
   "metadata": {
    "execution": {
     "iopub.execute_input": "2024-04-12T10:08:45.183252Z",
     "iopub.status.busy": "2024-04-12T10:08:45.182837Z",
     "iopub.status.idle": "2024-04-12T10:08:45.191351Z",
     "shell.execute_reply": "2024-04-12T10:08:45.190072Z"
    },
    "papermill": {
     "duration": 0.05815,
     "end_time": "2024-04-12T10:08:45.193679",
     "exception": false,
     "start_time": "2024-04-12T10:08:45.135529",
     "status": "completed"
    },
    "tags": []
   },
   "outputs": [
    {
     "data": {
      "text/plain": [
       "(2660, 2660)"
      ]
     },
     "execution_count": 31,
     "metadata": {},
     "output_type": "execute_result"
    }
   ],
   "source": [
    "train.shape[0], train['feature_X_D'].nunique()"
   ]
  },
  {
   "cell_type": "code",
   "execution_count": 32,
   "id": "a3e3d416",
   "metadata": {
    "execution": {
     "iopub.execute_input": "2024-04-12T10:08:45.286748Z",
     "iopub.status.busy": "2024-04-12T10:08:45.286328Z",
     "iopub.status.idle": "2024-04-12T10:08:45.294358Z",
     "shell.execute_reply": "2024-04-12T10:08:45.293292Z"
    },
    "papermill": {
     "duration": 0.057345,
     "end_time": "2024-04-12T10:08:45.296560",
     "exception": false,
     "start_time": "2024-04-12T10:08:45.239215",
     "status": "completed"
    },
    "tags": []
   },
   "outputs": [
    {
     "data": {
      "text/plain": [
       "(666, 666)"
      ]
     },
     "execution_count": 32,
     "metadata": {},
     "output_type": "execute_result"
    }
   ],
   "source": [
    "test.shape[0], test['feature_X_D'].nunique()"
   ]
  },
  {
   "cell_type": "code",
   "execution_count": 33,
   "id": "309a78b6",
   "metadata": {
    "execution": {
     "iopub.execute_input": "2024-04-12T10:08:45.391158Z",
     "iopub.status.busy": "2024-04-12T10:08:45.390734Z",
     "iopub.status.idle": "2024-04-12T10:08:45.398658Z",
     "shell.execute_reply": "2024-04-12T10:08:45.397583Z"
    },
    "papermill": {
     "duration": 0.058365,
     "end_time": "2024-04-12T10:08:45.400966",
     "exception": false,
     "start_time": "2024-04-12T10:08:45.342601",
     "status": "completed"
    },
    "tags": []
   },
   "outputs": [
    {
     "data": {
      "text/plain": [
       "array([-0.27472673, -1.1406259 , -1.22156692,  0.52779646, -0.301984  ,\n",
       "       -0.9628409 , -0.02849252, -0.6477786 , -1.17012439,  1.17614048])"
      ]
     },
     "execution_count": 33,
     "metadata": {},
     "output_type": "execute_result"
    }
   ],
   "source": [
    "train['feature_X_D'].unique()[:10]"
   ]
  },
  {
   "cell_type": "code",
   "execution_count": 34,
   "id": "c25be4b5",
   "metadata": {
    "execution": {
     "iopub.execute_input": "2024-04-12T10:08:45.494331Z",
     "iopub.status.busy": "2024-04-12T10:08:45.493958Z",
     "iopub.status.idle": "2024-04-12T10:08:46.313459Z",
     "shell.execute_reply": "2024-04-12T10:08:46.312347Z"
    },
    "papermill": {
     "duration": 0.869811,
     "end_time": "2024-04-12T10:08:46.316912",
     "exception": false,
     "start_time": "2024-04-12T10:08:45.447101",
     "status": "completed"
    },
    "tags": []
   },
   "outputs": [
    {
     "data": {
      "image/png": "[encoded data removed]",
      "text/plain": [
       "<Figure size 1600x400 with 2 Axes>"
      ]
     },
     "metadata": {},
     "output_type": "display_data"
    }
   ],
   "source": [
    "cont_dist('feature_X_D')"
   ]
  },
  {
   "cell_type": "markdown",
   "id": "dc7bd504",
   "metadata": {
    "papermill": {
     "duration": 0.046822,
     "end_time": "2024-04-12T10:08:46.411157",
     "exception": false,
     "start_time": "2024-04-12T10:08:46.364335",
     "status": "completed"
    },
    "tags": []
   },
   "source": [
    "Same situation as *feature_X_C*."
   ]
  },
  {
   "cell_type": "markdown",
   "id": "b194aeab",
   "metadata": {
    "papermill": {
     "duration": 0.046327,
     "end_time": "2024-04-12T10:08:46.505440",
     "exception": false,
     "start_time": "2024-04-12T10:08:46.459113",
     "status": "completed"
    },
    "tags": []
   },
   "source": [
    "### feature_10_x"
   ]
  },
  {
   "cell_type": "markdown",
   "id": "2f804269",
   "metadata": {
    "papermill": {
     "duration": 0.046415,
     "end_time": "2024-04-12T10:08:46.598899",
     "exception": false,
     "start_time": "2024-04-12T10:08:46.552484",
     "status": "completed"
    },
    "tags": []
   },
   "source": [
    "**feature_10_A**"
   ]
  },
  {
   "cell_type": "code",
   "execution_count": 35,
   "id": "88f17c68",
   "metadata": {
    "execution": {
     "iopub.execute_input": "2024-04-12T10:08:46.694642Z",
     "iopub.status.busy": "2024-04-12T10:08:46.694004Z",
     "iopub.status.idle": "2024-04-12T10:08:46.701491Z",
     "shell.execute_reply": "2024-04-12T10:08:46.700235Z"
    },
    "papermill": {
     "duration": 0.058345,
     "end_time": "2024-04-12T10:08:46.703966",
     "exception": false,
     "start_time": "2024-04-12T10:08:46.645621",
     "status": "completed"
    },
    "tags": []
   },
   "outputs": [
    {
     "data": {
      "text/plain": [
       "2"
      ]
     },
     "execution_count": 35,
     "metadata": {},
     "output_type": "execute_result"
    }
   ],
   "source": [
    "train['feature_10_A'].nunique()"
   ]
  },
  {
   "cell_type": "code",
   "execution_count": 36,
   "id": "6dfb0c56",
   "metadata": {
    "execution": {
     "iopub.execute_input": "2024-04-12T10:08:46.799770Z",
     "iopub.status.busy": "2024-04-12T10:08:46.799355Z",
     "iopub.status.idle": "2024-04-12T10:08:46.812836Z",
     "shell.execute_reply": "2024-04-12T10:08:46.811760Z"
    },
    "papermill": {
     "duration": 0.064174,
     "end_time": "2024-04-12T10:08:46.815157",
     "exception": false,
     "start_time": "2024-04-12T10:08:46.750983",
     "status": "completed"
    },
    "tags": []
   },
   "outputs": [
    {
     "data": {
      "text/html": [
       "<div>\n",
       "<style scoped>\n",
       "    .dataframe tbody tr th:only-of-type {\n",
       "        vertical-align: middle;\n",
       "    }\n",
       "\n",
       "    .dataframe tbody tr th {\n",
       "        vertical-align: top;\n",
       "    }\n",
       "\n",
       "    .dataframe thead th {\n",
       "        text-align: right;\n",
       "    }\n",
       "</style>\n",
       "<table border=\"1\" class=\"dataframe\">\n",
       "  <thead>\n",
       "    <tr style=\"text-align: right;\">\n",
       "      <th></th>\n",
       "      <th>train</th>\n",
       "      <th>test</th>\n",
       "    </tr>\n",
       "    <tr>\n",
       "      <th>feature_10_A</th>\n",
       "      <th></th>\n",
       "      <th></th>\n",
       "    </tr>\n",
       "  </thead>\n",
       "  <tbody>\n",
       "    <tr>\n",
       "      <th>0.0</th>\n",
       "      <td>0.5038</td>\n",
       "      <td>0.5135</td>\n",
       "    </tr>\n",
       "    <tr>\n",
       "      <th>1.0</th>\n",
       "      <td>0.3278</td>\n",
       "      <td>0.3213</td>\n",
       "    </tr>\n",
       "    <tr>\n",
       "      <th>NaN</th>\n",
       "      <td>0.1684</td>\n",
       "      <td>0.1652</td>\n",
       "    </tr>\n",
       "  </tbody>\n",
       "</table>\n",
       "</div>"
      ],
      "text/plain": [
       "               train    test\n",
       "feature_10_A                \n",
       "0.0           0.5038  0.5135\n",
       "1.0           0.3278  0.3213\n",
       "NaN           0.1684  0.1652"
      ]
     },
     "metadata": {},
     "output_type": "display_data"
    }
   ],
   "source": [
    "cat_dist('feature_10_A')"
   ]
  },
  {
   "cell_type": "code",
   "execution_count": 37,
   "id": "277b591f",
   "metadata": {
    "execution": {
     "iopub.execute_input": "2024-04-12T10:08:46.911373Z",
     "iopub.status.busy": "2024-04-12T10:08:46.910974Z",
     "iopub.status.idle": "2024-04-12T10:08:46.924464Z",
     "shell.execute_reply": "2024-04-12T10:08:46.923416Z"
    },
    "papermill": {
     "duration": 0.06448,
     "end_time": "2024-04-12T10:08:46.926834",
     "exception": false,
     "start_time": "2024-04-12T10:08:46.862354",
     "status": "completed"
    },
    "tags": []
   },
   "outputs": [
    {
     "data": {
      "text/plain": [
       "feature_10_A  Target\n",
       "0.0           1         0.5709\n",
       "              0         0.4291\n",
       "1.0           1         0.5573\n",
       "              0         0.4427\n",
       "NaN           1         0.5781\n",
       "              0         0.4219\n",
       "Name: proportion, dtype: float64"
      ]
     },
     "execution_count": 37,
     "metadata": {},
     "output_type": "execute_result"
    }
   ],
   "source": [
    "train.groupby('feature_10_A', dropna=False)[TARGET].value_counts(normalize=True)"
   ]
  },
  {
   "cell_type": "code",
   "execution_count": 38,
   "id": "21f67a60",
   "metadata": {
    "execution": {
     "iopub.execute_input": "2024-04-12T10:08:47.025671Z",
     "iopub.status.busy": "2024-04-12T10:08:47.025286Z",
     "iopub.status.idle": "2024-04-12T10:08:47.033449Z",
     "shell.execute_reply": "2024-04-12T10:08:47.032403Z"
    },
    "papermill": {
     "duration": 0.060722,
     "end_time": "2024-04-12T10:08:47.036446",
     "exception": false,
     "start_time": "2024-04-12T10:08:46.975724",
     "status": "completed"
    },
    "tags": []
   },
   "outputs": [],
   "source": [
    "train['feature_10_A'] = train['feature_10_A'].fillna(0).astype('int')\n",
    "test['feature_10_A'] = test['feature_10_A'].fillna(0).astype('int')"
   ]
  },
  {
   "cell_type": "markdown",
   "id": "04c2c090",
   "metadata": {
    "papermill": {
     "duration": 0.047497,
     "end_time": "2024-04-12T10:08:47.133239",
     "exception": false,
     "start_time": "2024-04-12T10:08:47.085742",
     "status": "completed"
    },
    "tags": []
   },
   "source": [
    "**feature_10_B**"
   ]
  },
  {
   "cell_type": "code",
   "execution_count": 39,
   "id": "dc0b5c5f",
   "metadata": {
    "execution": {
     "iopub.execute_input": "2024-04-12T10:08:47.230515Z",
     "iopub.status.busy": "2024-04-12T10:08:47.230132Z",
     "iopub.status.idle": "2024-04-12T10:08:47.238495Z",
     "shell.execute_reply": "2024-04-12T10:08:47.237395Z"
    },
    "papermill": {
     "duration": 0.060226,
     "end_time": "2024-04-12T10:08:47.241224",
     "exception": false,
     "start_time": "2024-04-12T10:08:47.180998",
     "status": "completed"
    },
    "tags": []
   },
   "outputs": [
    {
     "data": {
      "text/plain": [
       "110"
      ]
     },
     "execution_count": 39,
     "metadata": {},
     "output_type": "execute_result"
    }
   ],
   "source": [
    "train['feature_10_B'].nunique()"
   ]
  },
  {
   "cell_type": "code",
   "execution_count": 40,
   "id": "dab9f617",
   "metadata": {
    "execution": {
     "iopub.execute_input": "2024-04-12T10:08:47.339255Z",
     "iopub.status.busy": "2024-04-12T10:08:47.338816Z",
     "iopub.status.idle": "2024-04-12T10:08:48.153187Z",
     "shell.execute_reply": "2024-04-12T10:08:48.151946Z"
    },
    "papermill": {
     "duration": 0.866699,
     "end_time": "2024-04-12T10:08:48.155852",
     "exception": false,
     "start_time": "2024-04-12T10:08:47.289153",
     "status": "completed"
    },
    "tags": []
   },
   "outputs": [
    {
     "data": {
      "image/png": "[encoded data removed]",
      "text/plain": [
       "<Figure size 1600x400 with 2 Axes>"
      ]
     },
     "metadata": {},
     "output_type": "display_data"
    }
   ],
   "source": [
    "cont_dist('feature_10_B')"
   ]
  },
  {
   "cell_type": "code",
   "execution_count": 41,
   "id": "326f4685",
   "metadata": {
    "execution": {
     "iopub.execute_input": "2024-04-12T10:08:48.255736Z",
     "iopub.status.busy": "2024-04-12T10:08:48.255327Z",
     "iopub.status.idle": "2024-04-12T10:08:49.076338Z",
     "shell.execute_reply": "2024-04-12T10:08:49.075271Z"
    },
    "papermill": {
     "duration": 0.87359,
     "end_time": "2024-04-12T10:08:49.079125",
     "exception": false,
     "start_time": "2024-04-12T10:08:48.205535",
     "status": "completed"
    },
    "tags": []
   },
   "outputs": [
    {
     "data": {
      "image/png": "[encoded data removed]",
      "text/plain": [
       "<Figure size 1600x400 with 2 Axes>"
      ]
     },
     "metadata": {},
     "output_type": "display_data"
    }
   ],
   "source": [
    "cont_dist('feature_10_B', clip=(0, 0.1))"
   ]
  },
  {
   "cell_type": "code",
   "execution_count": 42,
   "id": "4aa02778",
   "metadata": {
    "execution": {
     "iopub.execute_input": "2024-04-12T10:08:49.182127Z",
     "iopub.status.busy": "2024-04-12T10:08:49.181730Z",
     "iopub.status.idle": "2024-04-12T10:08:50.058903Z",
     "shell.execute_reply": "2024-04-12T10:08:50.057735Z"
    },
    "papermill": {
     "duration": 0.931261,
     "end_time": "2024-04-12T10:08:50.061555",
     "exception": false,
     "start_time": "2024-04-12T10:08:49.130294",
     "status": "completed"
    },
    "tags": []
   },
   "outputs": [
    {
     "data": {
      "image/png": "[encoded data removed]",
      "text/plain": [
       "<Figure size 1600x400 with 2 Axes>"
      ]
     },
     "metadata": {},
     "output_type": "display_data"
    }
   ],
   "source": [
    "cont_dist('feature_10_B', clip=(0.1, 0.5))"
   ]
  },
  {
   "cell_type": "markdown",
   "id": "b305aeae",
   "metadata": {
    "papermill": {
     "duration": 0.050552,
     "end_time": "2024-04-12T10:08:50.163434",
     "exception": false,
     "start_time": "2024-04-12T10:08:50.112882",
     "status": "completed"
    },
    "tags": []
   },
   "source": [
    "**feature_10_F**"
   ]
  },
  {
   "cell_type": "code",
   "execution_count": 43,
   "id": "66ba72ad",
   "metadata": {
    "execution": {
     "iopub.execute_input": "2024-04-12T10:08:50.267504Z",
     "iopub.status.busy": "2024-04-12T10:08:50.267075Z",
     "iopub.status.idle": "2024-04-12T10:08:50.276074Z",
     "shell.execute_reply": "2024-04-12T10:08:50.274644Z"
    },
    "papermill": {
     "duration": 0.063749,
     "end_time": "2024-04-12T10:08:50.278539",
     "exception": false,
     "start_time": "2024-04-12T10:08:50.214790",
     "status": "completed"
    },
    "tags": []
   },
   "outputs": [
    {
     "data": {
      "text/plain": [
       "1"
      ]
     },
     "execution_count": 43,
     "metadata": {},
     "output_type": "execute_result"
    }
   ],
   "source": [
    "train['feature_10_F'].nunique()"
   ]
  },
  {
   "cell_type": "code",
   "execution_count": 44,
   "id": "4376105c",
   "metadata": {
    "execution": {
     "iopub.execute_input": "2024-04-12T10:08:50.383544Z",
     "iopub.status.busy": "2024-04-12T10:08:50.382586Z",
     "iopub.status.idle": "2024-04-12T10:08:50.395965Z",
     "shell.execute_reply": "2024-04-12T10:08:50.394812Z"
    },
    "papermill": {
     "duration": 0.068796,
     "end_time": "2024-04-12T10:08:50.398242",
     "exception": false,
     "start_time": "2024-04-12T10:08:50.329446",
     "status": "completed"
    },
    "tags": []
   },
   "outputs": [
    {
     "data": {
      "text/html": [
       "<div>\n",
       "<style scoped>\n",
       "    .dataframe tbody tr th:only-of-type {\n",
       "        vertical-align: middle;\n",
       "    }\n",
       "\n",
       "    .dataframe tbody tr th {\n",
       "        vertical-align: top;\n",
       "    }\n",
       "\n",
       "    .dataframe thead th {\n",
       "        text-align: right;\n",
       "    }\n",
       "</style>\n",
       "<table border=\"1\" class=\"dataframe\">\n",
       "  <thead>\n",
       "    <tr style=\"text-align: right;\">\n",
       "      <th></th>\n",
       "      <th>train</th>\n",
       "      <th>test</th>\n",
       "    </tr>\n",
       "    <tr>\n",
       "      <th>feature_10_F</th>\n",
       "      <th></th>\n",
       "      <th></th>\n",
       "    </tr>\n",
       "  </thead>\n",
       "  <tbody>\n",
       "    <tr>\n",
       "      <th>0.0</th>\n",
       "      <td>0.8316</td>\n",
       "      <td>0.8348</td>\n",
       "    </tr>\n",
       "    <tr>\n",
       "      <th>NaN</th>\n",
       "      <td>0.1684</td>\n",
       "      <td>0.1652</td>\n",
       "    </tr>\n",
       "  </tbody>\n",
       "</table>\n",
       "</div>"
      ],
      "text/plain": [
       "               train    test\n",
       "feature_10_F                \n",
       "0.0           0.8316  0.8348\n",
       "NaN           0.1684  0.1652"
      ]
     },
     "metadata": {},
     "output_type": "display_data"
    }
   ],
   "source": [
    "cat_dist('feature_10_F')"
   ]
  },
  {
   "cell_type": "code",
   "execution_count": 45,
   "id": "9e1941b5",
   "metadata": {
    "execution": {
     "iopub.execute_input": "2024-04-12T10:08:50.503106Z",
     "iopub.status.busy": "2024-04-12T10:08:50.501955Z",
     "iopub.status.idle": "2024-04-12T10:08:50.516176Z",
     "shell.execute_reply": "2024-04-12T10:08:50.515023Z"
    },
    "papermill": {
     "duration": 0.068781,
     "end_time": "2024-04-12T10:08:50.518568",
     "exception": false,
     "start_time": "2024-04-12T10:08:50.449787",
     "status": "completed"
    },
    "tags": []
   },
   "outputs": [
    {
     "data": {
      "text/plain": [
       "feature_10_F  Target\n",
       "0.0           1         0.5656\n",
       "              0         0.4344\n",
       "NaN           1         0.5781\n",
       "              0         0.4219\n",
       "Name: proportion, dtype: float64"
      ]
     },
     "execution_count": 45,
     "metadata": {},
     "output_type": "execute_result"
    }
   ],
   "source": [
    "train.groupby('feature_10_F', dropna=False)[TARGET].value_counts(normalize=True)"
   ]
  },
  {
   "cell_type": "code",
   "execution_count": 46,
   "id": "7f892ab1",
   "metadata": {
    "execution": {
     "iopub.execute_input": "2024-04-12T10:08:50.623720Z",
     "iopub.status.busy": "2024-04-12T10:08:50.622688Z",
     "iopub.status.idle": "2024-04-12T10:08:50.630168Z",
     "shell.execute_reply": "2024-04-12T10:08:50.629227Z"
    },
    "papermill": {
     "duration": 0.062573,
     "end_time": "2024-04-12T10:08:50.632600",
     "exception": false,
     "start_time": "2024-04-12T10:08:50.570027",
     "status": "completed"
    },
    "tags": []
   },
   "outputs": [],
   "source": [
    "train['feature_10_F_missing'] = train.feature_10_F.isna().astype('int')\n",
    "test['feature_10_F_missing'] = test.feature_10_F.isna().astype('int')"
   ]
  },
  {
   "cell_type": "markdown",
   "id": "dc887d9c",
   "metadata": {
    "papermill": {
     "duration": 0.050741,
     "end_time": "2024-04-12T10:08:50.734632",
     "exception": false,
     "start_time": "2024-04-12T10:08:50.683891",
     "status": "completed"
    },
    "tags": []
   },
   "source": [
    "**feature_10_G**"
   ]
  },
  {
   "cell_type": "code",
   "execution_count": 47,
   "id": "0c9f0021",
   "metadata": {
    "execution": {
     "iopub.execute_input": "2024-04-12T10:08:50.841985Z",
     "iopub.status.busy": "2024-04-12T10:08:50.840806Z",
     "iopub.status.idle": "2024-04-12T10:08:50.849315Z",
     "shell.execute_reply": "2024-04-12T10:08:50.848139Z"
    },
    "papermill": {
     "duration": 0.065519,
     "end_time": "2024-04-12T10:08:50.851880",
     "exception": false,
     "start_time": "2024-04-12T10:08:50.786361",
     "status": "completed"
    },
    "tags": []
   },
   "outputs": [
    {
     "data": {
      "text/plain": [
       "5"
      ]
     },
     "execution_count": 47,
     "metadata": {},
     "output_type": "execute_result"
    }
   ],
   "source": [
    "train['feature_10_G'].nunique()"
   ]
  },
  {
   "cell_type": "code",
   "execution_count": 48,
   "id": "b0586b2c",
   "metadata": {
    "execution": {
     "iopub.execute_input": "2024-04-12T10:08:50.964538Z",
     "iopub.status.busy": "2024-04-12T10:08:50.963461Z",
     "iopub.status.idle": "2024-04-12T10:08:50.978348Z",
     "shell.execute_reply": "2024-04-12T10:08:50.977213Z"
    },
    "papermill": {
     "duration": 0.073827,
     "end_time": "2024-04-12T10:08:50.980755",
     "exception": false,
     "start_time": "2024-04-12T10:08:50.906928",
     "status": "completed"
    },
    "tags": []
   },
   "outputs": [
    {
     "data": {
      "text/html": [
       "<div>\n",
       "<style scoped>\n",
       "    .dataframe tbody tr th:only-of-type {\n",
       "        vertical-align: middle;\n",
       "    }\n",
       "\n",
       "    .dataframe tbody tr th {\n",
       "        vertical-align: top;\n",
       "    }\n",
       "\n",
       "    .dataframe thead th {\n",
       "        text-align: right;\n",
       "    }\n",
       "</style>\n",
       "<table border=\"1\" class=\"dataframe\">\n",
       "  <thead>\n",
       "    <tr style=\"text-align: right;\">\n",
       "      <th></th>\n",
       "      <th>train</th>\n",
       "      <th>test</th>\n",
       "    </tr>\n",
       "    <tr>\n",
       "      <th>feature_10_G</th>\n",
       "      <th></th>\n",
       "      <th></th>\n",
       "    </tr>\n",
       "  </thead>\n",
       "  <tbody>\n",
       "    <tr>\n",
       "      <th>0.0</th>\n",
       "      <td>0.5692</td>\n",
       "      <td>0.5766</td>\n",
       "    </tr>\n",
       "    <tr>\n",
       "      <th>1.0</th>\n",
       "      <td>0.1767</td>\n",
       "      <td>0.1622</td>\n",
       "    </tr>\n",
       "    <tr>\n",
       "      <th>NaN</th>\n",
       "      <td>0.1684</td>\n",
       "      <td>0.1652</td>\n",
       "    </tr>\n",
       "    <tr>\n",
       "      <th>2.0</th>\n",
       "      <td>0.0594</td>\n",
       "      <td>0.0721</td>\n",
       "    </tr>\n",
       "    <tr>\n",
       "      <th>3.0</th>\n",
       "      <td>0.0207</td>\n",
       "      <td>0.0165</td>\n",
       "    </tr>\n",
       "    <tr>\n",
       "      <th>4.0</th>\n",
       "      <td>0.0056</td>\n",
       "      <td>0.0075</td>\n",
       "    </tr>\n",
       "  </tbody>\n",
       "</table>\n",
       "</div>"
      ],
      "text/plain": [
       "               train    test\n",
       "feature_10_G                \n",
       "0.0           0.5692  0.5766\n",
       "1.0           0.1767  0.1622\n",
       "NaN           0.1684  0.1652\n",
       "2.0           0.0594  0.0721\n",
       "3.0           0.0207  0.0165\n",
       "4.0           0.0056  0.0075"
      ]
     },
     "metadata": {},
     "output_type": "display_data"
    }
   ],
   "source": [
    "cat_dist('feature_10_G')"
   ]
  },
  {
   "cell_type": "code",
   "execution_count": 49,
   "id": "2df80c2c",
   "metadata": {
    "execution": {
     "iopub.execute_input": "2024-04-12T10:08:51.087914Z",
     "iopub.status.busy": "2024-04-12T10:08:51.087193Z",
     "iopub.status.idle": "2024-04-12T10:08:51.100078Z",
     "shell.execute_reply": "2024-04-12T10:08:51.099045Z"
    },
    "papermill": {
     "duration": 0.069844,
     "end_time": "2024-04-12T10:08:51.103058",
     "exception": false,
     "start_time": "2024-04-12T10:08:51.033214",
     "status": "completed"
    },
    "tags": []
   },
   "outputs": [
    {
     "data": {
      "text/plain": [
       "feature_10_G  Target\n",
       "0.0           1         0.5634\n",
       "              0         0.4366\n",
       "1.0           1         0.5766\n",
       "              0         0.4234\n",
       "2.0           1         0.5823\n",
       "              0         0.4177\n",
       "3.0           0         0.5273\n",
       "              1         0.4727\n",
       "4.0           1         0.6000\n",
       "              0         0.4000\n",
       "NaN           1         0.5781\n",
       "              0         0.4219\n",
       "Name: proportion, dtype: float64"
      ]
     },
     "execution_count": 49,
     "metadata": {},
     "output_type": "execute_result"
    }
   ],
   "source": [
    "train.groupby('feature_10_G', dropna=False)[TARGET].value_counts(normalize=True)"
   ]
  },
  {
   "cell_type": "markdown",
   "id": "9f46ca74",
   "metadata": {
    "papermill": {
     "duration": 0.051205,
     "end_time": "2024-04-12T10:08:51.206201",
     "exception": false,
     "start_time": "2024-04-12T10:08:51.154996",
     "status": "completed"
    },
    "tags": []
   },
   "source": [
    "### feature_[1 - 9]_A"
   ]
  },
  {
   "cell_type": "code",
   "execution_count": 50,
   "id": "9c26101b",
   "metadata": {
    "execution": {
     "iopub.execute_input": "2024-04-12T10:08:51.311845Z",
     "iopub.status.busy": "2024-04-12T10:08:51.311241Z",
     "iopub.status.idle": "2024-04-12T10:08:51.315458Z",
     "shell.execute_reply": "2024-04-12T10:08:51.314684Z"
    },
    "papermill": {
     "duration": 0.059745,
     "end_time": "2024-04-12T10:08:51.317677",
     "exception": false,
     "start_time": "2024-04-12T10:08:51.257932",
     "status": "completed"
    },
    "tags": []
   },
   "outputs": [],
   "source": [
    "feats_A = [f'feature_{i}_A' for i in range(1, 10)]"
   ]
  },
  {
   "cell_type": "code",
   "execution_count": 51,
   "id": "156e2e4d",
   "metadata": {
    "execution": {
     "iopub.execute_input": "2024-04-12T10:08:51.427758Z",
     "iopub.status.busy": "2024-04-12T10:08:51.427342Z",
     "iopub.status.idle": "2024-04-12T10:08:51.445590Z",
     "shell.execute_reply": "2024-04-12T10:08:51.444208Z"
    },
    "papermill": {
     "duration": 0.076814,
     "end_time": "2024-04-12T10:08:51.448031",
     "exception": false,
     "start_time": "2024-04-12T10:08:51.371217",
     "status": "completed"
    },
    "tags": []
   },
   "outputs": [
    {
     "data": {
      "text/html": [
       "<div>\n",
       "<style scoped>\n",
       "    .dataframe tbody tr th:only-of-type {\n",
       "        vertical-align: middle;\n",
       "    }\n",
       "\n",
       "    .dataframe tbody tr th {\n",
       "        vertical-align: top;\n",
       "    }\n",
       "\n",
       "    .dataframe thead th {\n",
       "        text-align: right;\n",
       "    }\n",
       "</style>\n",
       "<table border=\"1\" class=\"dataframe\">\n",
       "  <thead>\n",
       "    <tr style=\"text-align: right;\">\n",
       "      <th></th>\n",
       "      <th>feature_1_A</th>\n",
       "      <th>feature_2_A</th>\n",
       "      <th>feature_3_A</th>\n",
       "      <th>feature_4_A</th>\n",
       "      <th>feature_5_A</th>\n",
       "      <th>feature_6_A</th>\n",
       "      <th>feature_7_A</th>\n",
       "      <th>feature_8_A</th>\n",
       "      <th>feature_9_A</th>\n",
       "    </tr>\n",
       "  </thead>\n",
       "  <tbody>\n",
       "    <tr>\n",
       "      <th>0</th>\n",
       "      <td>2</td>\n",
       "      <td>2</td>\n",
       "      <td>2</td>\n",
       "      <td>2</td>\n",
       "      <td>2</td>\n",
       "      <td>2</td>\n",
       "      <td>2</td>\n",
       "      <td>2</td>\n",
       "      <td>2</td>\n",
       "    </tr>\n",
       "  </tbody>\n",
       "</table>\n",
       "</div>"
      ],
      "text/plain": [
       "   feature_1_A  feature_2_A  feature_3_A  feature_4_A  feature_5_A  \\\n",
       "0            2            2            2            2            2   \n",
       "\n",
       "   feature_6_A  feature_7_A  feature_8_A  feature_9_A  \n",
       "0            2            2            2            2  "
      ]
     },
     "execution_count": 51,
     "metadata": {},
     "output_type": "execute_result"
    }
   ],
   "source": [
    "train[feats_A].nunique().to_frame().T"
   ]
  },
  {
   "cell_type": "code",
   "execution_count": 52,
   "id": "dae51601",
   "metadata": {
    "execution": {
     "iopub.execute_input": "2024-04-12T10:08:51.554302Z",
     "iopub.status.busy": "2024-04-12T10:08:51.553413Z",
     "iopub.status.idle": "2024-04-12T10:08:51.569852Z",
     "shell.execute_reply": "2024-04-12T10:08:51.568604Z"
    },
    "papermill": {
     "duration": 0.07211,
     "end_time": "2024-04-12T10:08:51.572255",
     "exception": false,
     "start_time": "2024-04-12T10:08:51.500145",
     "status": "completed"
    },
    "tags": []
   },
   "outputs": [
    {
     "data": {
      "text/html": [
       "<div>\n",
       "<style scoped>\n",
       "    .dataframe tbody tr th:only-of-type {\n",
       "        vertical-align: middle;\n",
       "    }\n",
       "\n",
       "    .dataframe tbody tr th {\n",
       "        vertical-align: top;\n",
       "    }\n",
       "\n",
       "    .dataframe thead th {\n",
       "        text-align: right;\n",
       "    }\n",
       "</style>\n",
       "<table border=\"1\" class=\"dataframe\">\n",
       "  <thead>\n",
       "    <tr style=\"text-align: right;\">\n",
       "      <th></th>\n",
       "      <th>feature_1_A</th>\n",
       "      <th>feature_2_A</th>\n",
       "      <th>feature_3_A</th>\n",
       "      <th>feature_4_A</th>\n",
       "      <th>feature_5_A</th>\n",
       "      <th>feature_6_A</th>\n",
       "      <th>feature_7_A</th>\n",
       "      <th>feature_8_A</th>\n",
       "      <th>feature_9_A</th>\n",
       "    </tr>\n",
       "  </thead>\n",
       "  <tbody>\n",
       "    <tr>\n",
       "      <th>0</th>\n",
       "      <td>30.6767</td>\n",
       "      <td>30.6767</td>\n",
       "      <td>30.6767</td>\n",
       "      <td>28.0075</td>\n",
       "      <td>30.7143</td>\n",
       "      <td>30.6767</td>\n",
       "      <td>30.6767</td>\n",
       "      <td>30.6767</td>\n",
       "      <td>30.7143</td>\n",
       "    </tr>\n",
       "  </tbody>\n",
       "</table>\n",
       "</div>"
      ],
      "text/plain": [
       "   feature_1_A  feature_2_A  feature_3_A  feature_4_A  feature_5_A  \\\n",
       "0      30.6767      30.6767      30.6767      28.0075      30.7143   \n",
       "\n",
       "   feature_6_A  feature_7_A  feature_8_A  feature_9_A  \n",
       "0      30.6767      30.6767      30.6767      30.7143  "
      ]
     },
     "execution_count": 52,
     "metadata": {},
     "output_type": "execute_result"
    }
   ],
   "source": [
    "(train[feats_A].isna().sum() / len(train) * 100).to_frame().T"
   ]
  },
  {
   "cell_type": "code",
   "execution_count": 53,
   "id": "8f9ea68e",
   "metadata": {
    "execution": {
     "iopub.execute_input": "2024-04-12T10:08:51.679327Z",
     "iopub.status.busy": "2024-04-12T10:08:51.678436Z",
     "iopub.status.idle": "2024-04-12T10:08:51.688393Z",
     "shell.execute_reply": "2024-04-12T10:08:51.687322Z"
    },
    "papermill": {
     "duration": 0.066991,
     "end_time": "2024-04-12T10:08:51.691472",
     "exception": false,
     "start_time": "2024-04-12T10:08:51.624481",
     "status": "completed"
    },
    "tags": []
   },
   "outputs": [
    {
     "name": "stdout",
     "output_type": "stream",
     "text": [
      "feature_1_A: [nan  1.  0.]\n",
      "feature_2_A: [nan  0.  1.]\n",
      "feature_3_A: [nan  0.  1.]\n",
      "feature_4_A: [nan  0.  1.]\n",
      "feature_5_A: [nan  1.  0.]\n",
      "feature_6_A: [nan  1.  0.]\n",
      "feature_7_A: [nan  0.  1.]\n",
      "feature_8_A: [nan  1.  0.]\n",
      "feature_9_A: [nan  0.  1.]\n"
     ]
    }
   ],
   "source": [
    "for col in feats_A:\n",
    "    print(f'{col}: {train[col].unique()}')"
   ]
  },
  {
   "cell_type": "code",
   "execution_count": 54,
   "id": "1aee7c17",
   "metadata": {
    "execution": {
     "iopub.execute_input": "2024-04-12T10:08:51.800902Z",
     "iopub.status.busy": "2024-04-12T10:08:51.800143Z",
     "iopub.status.idle": "2024-04-12T10:08:51.813887Z",
     "shell.execute_reply": "2024-04-12T10:08:51.813030Z"
    },
    "papermill": {
     "duration": 0.070616,
     "end_time": "2024-04-12T10:08:51.816189",
     "exception": false,
     "start_time": "2024-04-12T10:08:51.745573",
     "status": "completed"
    },
    "tags": []
   },
   "outputs": [
    {
     "data": {
      "text/html": [
       "<div>\n",
       "<style scoped>\n",
       "    .dataframe tbody tr th:only-of-type {\n",
       "        vertical-align: middle;\n",
       "    }\n",
       "\n",
       "    .dataframe tbody tr th {\n",
       "        vertical-align: top;\n",
       "    }\n",
       "\n",
       "    .dataframe thead th {\n",
       "        text-align: right;\n",
       "    }\n",
       "</style>\n",
       "<table border=\"1\" class=\"dataframe\">\n",
       "  <thead>\n",
       "    <tr style=\"text-align: right;\">\n",
       "      <th></th>\n",
       "      <th>train</th>\n",
       "      <th>test</th>\n",
       "    </tr>\n",
       "    <tr>\n",
       "      <th>feature_1_A</th>\n",
       "      <th></th>\n",
       "      <th></th>\n",
       "    </tr>\n",
       "  </thead>\n",
       "  <tbody>\n",
       "    <tr>\n",
       "      <th>0.0</th>\n",
       "      <td>0.3602</td>\n",
       "      <td>0.3288</td>\n",
       "    </tr>\n",
       "    <tr>\n",
       "      <th>1.0</th>\n",
       "      <td>0.3331</td>\n",
       "      <td>0.3423</td>\n",
       "    </tr>\n",
       "    <tr>\n",
       "      <th>NaN</th>\n",
       "      <td>0.3068</td>\n",
       "      <td>0.3288</td>\n",
       "    </tr>\n",
       "  </tbody>\n",
       "</table>\n",
       "</div>"
      ],
      "text/plain": [
       "              train    test\n",
       "feature_1_A                \n",
       "0.0          0.3602  0.3288\n",
       "1.0          0.3331  0.3423\n",
       "NaN          0.3068  0.3288"
      ]
     },
     "metadata": {},
     "output_type": "display_data"
    }
   ],
   "source": [
    "cat_dist('feature_1_A')"
   ]
  },
  {
   "cell_type": "code",
   "execution_count": 55,
   "id": "6b7d23cc",
   "metadata": {
    "execution": {
     "iopub.execute_input": "2024-04-12T10:08:51.923751Z",
     "iopub.status.busy": "2024-04-12T10:08:51.922725Z",
     "iopub.status.idle": "2024-04-12T10:08:51.934959Z",
     "shell.execute_reply": "2024-04-12T10:08:51.934118Z"
    },
    "papermill": {
     "duration": 0.068502,
     "end_time": "2024-04-12T10:08:51.937196",
     "exception": false,
     "start_time": "2024-04-12T10:08:51.868694",
     "status": "completed"
    },
    "tags": []
   },
   "outputs": [
    {
     "data": {
      "text/plain": [
       "feature_1_A  Target\n",
       "0.0          1         0.5678\n",
       "             0         0.4322\n",
       "1.0          1         0.5632\n",
       "             0         0.4368\n",
       "NaN          1         0.5723\n",
       "             0         0.4277\n",
       "Name: proportion, dtype: float64"
      ]
     },
     "execution_count": 55,
     "metadata": {},
     "output_type": "execute_result"
    }
   ],
   "source": [
    "train.groupby('feature_1_A', dropna=False)[TARGET].value_counts(normalize=True)"
   ]
  },
  {
   "cell_type": "markdown",
   "id": "e168d20b",
   "metadata": {
    "papermill": {
     "duration": 0.05411,
     "end_time": "2024-04-12T10:08:52.045039",
     "exception": false,
     "start_time": "2024-04-12T10:08:51.990929",
     "status": "completed"
    },
    "tags": []
   },
   "source": [
    "### feature_[1 - 9]_B"
   ]
  },
  {
   "cell_type": "code",
   "execution_count": 56,
   "id": "d6d209d4",
   "metadata": {
    "execution": {
     "iopub.execute_input": "2024-04-12T10:08:52.155689Z",
     "iopub.status.busy": "2024-04-12T10:08:52.155067Z",
     "iopub.status.idle": "2024-04-12T10:08:52.159465Z",
     "shell.execute_reply": "2024-04-12T10:08:52.158549Z"
    },
    "papermill": {
     "duration": 0.0633,
     "end_time": "2024-04-12T10:08:52.161764",
     "exception": false,
     "start_time": "2024-04-12T10:08:52.098464",
     "status": "completed"
    },
    "tags": []
   },
   "outputs": [],
   "source": [
    "feats_B = [f'feature_{i}_B' for i in range(1, 10)]"
   ]
  },
  {
   "cell_type": "code",
   "execution_count": 57,
   "id": "80123775",
   "metadata": {
    "execution": {
     "iopub.execute_input": "2024-04-12T10:08:52.270745Z",
     "iopub.status.busy": "2024-04-12T10:08:52.269954Z",
     "iopub.status.idle": "2024-04-12T10:08:52.285824Z",
     "shell.execute_reply": "2024-04-12T10:08:52.284363Z"
    },
    "papermill": {
     "duration": 0.073488,
     "end_time": "2024-04-12T10:08:52.288587",
     "exception": false,
     "start_time": "2024-04-12T10:08:52.215099",
     "status": "completed"
    },
    "tags": []
   },
   "outputs": [
    {
     "data": {
      "text/html": [
       "<div>\n",
       "<style scoped>\n",
       "    .dataframe tbody tr th:only-of-type {\n",
       "        vertical-align: middle;\n",
       "    }\n",
       "\n",
       "    .dataframe tbody tr th {\n",
       "        vertical-align: top;\n",
       "    }\n",
       "\n",
       "    .dataframe thead th {\n",
       "        text-align: right;\n",
       "    }\n",
       "</style>\n",
       "<table border=\"1\" class=\"dataframe\">\n",
       "  <thead>\n",
       "    <tr style=\"text-align: right;\">\n",
       "      <th></th>\n",
       "      <th>feature_1_B</th>\n",
       "      <th>feature_2_B</th>\n",
       "      <th>feature_3_B</th>\n",
       "      <th>feature_4_B</th>\n",
       "      <th>feature_5_B</th>\n",
       "      <th>feature_6_B</th>\n",
       "      <th>feature_7_B</th>\n",
       "      <th>feature_8_B</th>\n",
       "      <th>feature_9_B</th>\n",
       "    </tr>\n",
       "  </thead>\n",
       "  <tbody>\n",
       "    <tr>\n",
       "      <th>0</th>\n",
       "      <td>34</td>\n",
       "      <td>45</td>\n",
       "      <td>66</td>\n",
       "      <td>35</td>\n",
       "      <td>101</td>\n",
       "      <td>61</td>\n",
       "      <td>56</td>\n",
       "      <td>124</td>\n",
       "      <td>164</td>\n",
       "    </tr>\n",
       "  </tbody>\n",
       "</table>\n",
       "</div>"
      ],
      "text/plain": [
       "   feature_1_B  feature_2_B  feature_3_B  feature_4_B  feature_5_B  \\\n",
       "0           34           45           66           35          101   \n",
       "\n",
       "   feature_6_B  feature_7_B  feature_8_B  feature_9_B  \n",
       "0           61           56          124          164  "
      ]
     },
     "execution_count": 57,
     "metadata": {},
     "output_type": "execute_result"
    }
   ],
   "source": [
    "train[feats_B].nunique().to_frame().T"
   ]
  },
  {
   "cell_type": "code",
   "execution_count": 58,
   "id": "4c6d884a",
   "metadata": {
    "execution": {
     "iopub.execute_input": "2024-04-12T10:08:52.403132Z",
     "iopub.status.busy": "2024-04-12T10:08:52.402350Z",
     "iopub.status.idle": "2024-04-12T10:08:52.419257Z",
     "shell.execute_reply": "2024-04-12T10:08:52.418237Z"
    },
    "papermill": {
     "duration": 0.078849,
     "end_time": "2024-04-12T10:08:52.421530",
     "exception": false,
     "start_time": "2024-04-12T10:08:52.342681",
     "status": "completed"
    },
    "tags": []
   },
   "outputs": [
    {
     "data": {
      "text/html": [
       "<div>\n",
       "<style scoped>\n",
       "    .dataframe tbody tr th:only-of-type {\n",
       "        vertical-align: middle;\n",
       "    }\n",
       "\n",
       "    .dataframe tbody tr th {\n",
       "        vertical-align: top;\n",
       "    }\n",
       "\n",
       "    .dataframe thead th {\n",
       "        text-align: right;\n",
       "    }\n",
       "</style>\n",
       "<table border=\"1\" class=\"dataframe\">\n",
       "  <thead>\n",
       "    <tr style=\"text-align: right;\">\n",
       "      <th></th>\n",
       "      <th>feature_1_B</th>\n",
       "      <th>feature_2_B</th>\n",
       "      <th>feature_3_B</th>\n",
       "      <th>feature_4_B</th>\n",
       "      <th>feature_5_B</th>\n",
       "      <th>feature_6_B</th>\n",
       "      <th>feature_7_B</th>\n",
       "      <th>feature_8_B</th>\n",
       "      <th>feature_9_B</th>\n",
       "    </tr>\n",
       "  </thead>\n",
       "  <tbody>\n",
       "    <tr>\n",
       "      <th>0</th>\n",
       "      <td>30.6767</td>\n",
       "      <td>30.6767</td>\n",
       "      <td>30.6767</td>\n",
       "      <td>28.1203</td>\n",
       "      <td>30.7143</td>\n",
       "      <td>30.6767</td>\n",
       "      <td>30.6767</td>\n",
       "      <td>30.6767</td>\n",
       "      <td>30.7143</td>\n",
       "    </tr>\n",
       "  </tbody>\n",
       "</table>\n",
       "</div>"
      ],
      "text/plain": [
       "   feature_1_B  feature_2_B  feature_3_B  feature_4_B  feature_5_B  \\\n",
       "0      30.6767      30.6767      30.6767      28.1203      30.7143   \n",
       "\n",
       "   feature_6_B  feature_7_B  feature_8_B  feature_9_B  \n",
       "0      30.6767      30.6767      30.6767      30.7143  "
      ]
     },
     "execution_count": 58,
     "metadata": {},
     "output_type": "execute_result"
    }
   ],
   "source": [
    "(train[feats_B].isna().sum() / len(train) * 100).to_frame().T"
   ]
  },
  {
   "cell_type": "code",
   "execution_count": 59,
   "id": "f8a7fa0b",
   "metadata": {
    "execution": {
     "iopub.execute_input": "2024-04-12T10:08:52.554502Z",
     "iopub.status.busy": "2024-04-12T10:08:52.553387Z",
     "iopub.status.idle": "2024-04-12T10:08:52.563407Z",
     "shell.execute_reply": "2024-04-12T10:08:52.561997Z"
    },
    "papermill": {
     "duration": 0.090186,
     "end_time": "2024-04-12T10:08:52.566938",
     "exception": false,
     "start_time": "2024-04-12T10:08:52.476752",
     "status": "completed"
    },
    "tags": []
   },
   "outputs": [
    {
     "data": {
      "text/plain": [
       "array([  nan, 0.004, 0.005, 0.014, 0.013, 0.006, 0.008, 0.01 , 0.011,\n",
       "       0.02 , 0.007, 0.003, 0.009, 0.015, 0.012, 0.016, 0.029, 0.018,\n",
       "       0.019, 0.021, 0.002, 0.017, 0.026, 0.05 , 0.025, 0.024, 0.031,\n",
       "       0.04 , 0.03 , 0.032, 0.023, 0.045, 0.022, 0.054, 0.037])"
      ]
     },
     "execution_count": 59,
     "metadata": {},
     "output_type": "execute_result"
    }
   ],
   "source": [
    "train['feature_1_B'].unique()"
   ]
  },
  {
   "cell_type": "code",
   "execution_count": 60,
   "id": "648c49db",
   "metadata": {
    "execution": {
     "iopub.execute_input": "2024-04-12T10:08:52.685032Z",
     "iopub.status.busy": "2024-04-12T10:08:52.684590Z",
     "iopub.status.idle": "2024-04-12T10:08:52.693269Z",
     "shell.execute_reply": "2024-04-12T10:08:52.692133Z"
    },
    "papermill": {
     "duration": 0.066813,
     "end_time": "2024-04-12T10:08:52.695659",
     "exception": false,
     "start_time": "2024-04-12T10:08:52.628846",
     "status": "completed"
    },
    "tags": []
   },
   "outputs": [
    {
     "data": {
      "text/plain": [
       "array([  nan, 0.032, 0.033, 0.084, 0.166, 0.042, 0.039, 0.056, 0.049,\n",
       "       0.082, 0.047, 0.05 , 0.093, 0.037, 0.065, 0.063, 0.052, 0.064,\n",
       "       0.104, 0.098, 0.04 , 0.077, 0.176, 0.057, 0.08 , 0.075, 0.088,\n",
       "       0.048, 0.027, 0.03 , 0.055, 0.059, 0.074, 0.026, 0.094, 0.114,\n",
       "       0.034, 0.058, 0.043, 0.038])"
      ]
     },
     "execution_count": 60,
     "metadata": {},
     "output_type": "execute_result"
    }
   ],
   "source": [
    "train['feature_9_B'].unique()[:40]"
   ]
  },
  {
   "cell_type": "markdown",
   "id": "c043f1cb",
   "metadata": {
    "papermill": {
     "duration": 0.053597,
     "end_time": "2024-04-12T10:08:52.803285",
     "exception": false,
     "start_time": "2024-04-12T10:08:52.749688",
     "status": "completed"
    },
    "tags": []
   },
   "source": [
    "### feature_[1 - 9]_C"
   ]
  },
  {
   "cell_type": "code",
   "execution_count": 61,
   "id": "0955b3d7",
   "metadata": {
    "execution": {
     "iopub.execute_input": "2024-04-12T10:08:52.913084Z",
     "iopub.status.busy": "2024-04-12T10:08:52.911950Z",
     "iopub.status.idle": "2024-04-12T10:08:52.916678Z",
     "shell.execute_reply": "2024-04-12T10:08:52.915938Z"
    },
    "papermill": {
     "duration": 0.062118,
     "end_time": "2024-04-12T10:08:52.919062",
     "exception": false,
     "start_time": "2024-04-12T10:08:52.856944",
     "status": "completed"
    },
    "tags": []
   },
   "outputs": [],
   "source": [
    "feats_C = [f'feature_{i}_C' for i in range(1, 10)]"
   ]
  },
  {
   "cell_type": "code",
   "execution_count": 62,
   "id": "97cae721",
   "metadata": {
    "execution": {
     "iopub.execute_input": "2024-04-12T10:08:53.028368Z",
     "iopub.status.busy": "2024-04-12T10:08:53.027952Z",
     "iopub.status.idle": "2024-04-12T10:08:53.044214Z",
     "shell.execute_reply": "2024-04-12T10:08:53.042987Z"
    },
    "papermill": {
     "duration": 0.074666,
     "end_time": "2024-04-12T10:08:53.047068",
     "exception": false,
     "start_time": "2024-04-12T10:08:52.972402",
     "status": "completed"
    },
    "tags": []
   },
   "outputs": [
    {
     "data": {
      "text/html": [
       "<div>\n",
       "<style scoped>\n",
       "    .dataframe tbody tr th:only-of-type {\n",
       "        vertical-align: middle;\n",
       "    }\n",
       "\n",
       "    .dataframe tbody tr th {\n",
       "        vertical-align: top;\n",
       "    }\n",
       "\n",
       "    .dataframe thead th {\n",
       "        text-align: right;\n",
       "    }\n",
       "</style>\n",
       "<table border=\"1\" class=\"dataframe\">\n",
       "  <thead>\n",
       "    <tr style=\"text-align: right;\">\n",
       "      <th></th>\n",
       "      <th>feature_1_C</th>\n",
       "      <th>feature_2_C</th>\n",
       "      <th>feature_3_C</th>\n",
       "      <th>feature_4_C</th>\n",
       "      <th>feature_5_C</th>\n",
       "      <th>feature_6_C</th>\n",
       "      <th>feature_7_C</th>\n",
       "      <th>feature_8_C</th>\n",
       "      <th>feature_9_C</th>\n",
       "    </tr>\n",
       "  </thead>\n",
       "  <tbody>\n",
       "    <tr>\n",
       "      <th>0</th>\n",
       "      <td>1840</td>\n",
       "      <td>1840</td>\n",
       "      <td>1840</td>\n",
       "      <td>1884</td>\n",
       "      <td>1839</td>\n",
       "      <td>1840</td>\n",
       "      <td>1840</td>\n",
       "      <td>1840</td>\n",
       "      <td>1838</td>\n",
       "    </tr>\n",
       "  </tbody>\n",
       "</table>\n",
       "</div>"
      ],
      "text/plain": [
       "   feature_1_C  feature_2_C  feature_3_C  feature_4_C  feature_5_C  \\\n",
       "0         1840         1840         1840         1884         1839   \n",
       "\n",
       "   feature_6_C  feature_7_C  feature_8_C  feature_9_C  \n",
       "0         1840         1840         1840         1838  "
      ]
     },
     "execution_count": 62,
     "metadata": {},
     "output_type": "execute_result"
    }
   ],
   "source": [
    "train[feats_C].nunique().to_frame().T"
   ]
  },
  {
   "cell_type": "code",
   "execution_count": 63,
   "id": "da70a94e",
   "metadata": {
    "execution": {
     "iopub.execute_input": "2024-04-12T10:08:53.157438Z",
     "iopub.status.busy": "2024-04-12T10:08:53.156963Z",
     "iopub.status.idle": "2024-04-12T10:08:53.175041Z",
     "shell.execute_reply": "2024-04-12T10:08:53.173854Z"
    },
    "papermill": {
     "duration": 0.076757,
     "end_time": "2024-04-12T10:08:53.177513",
     "exception": false,
     "start_time": "2024-04-12T10:08:53.100756",
     "status": "completed"
    },
    "tags": []
   },
   "outputs": [
    {
     "data": {
      "text/html": [
       "<div>\n",
       "<style scoped>\n",
       "    .dataframe tbody tr th:only-of-type {\n",
       "        vertical-align: middle;\n",
       "    }\n",
       "\n",
       "    .dataframe tbody tr th {\n",
       "        vertical-align: top;\n",
       "    }\n",
       "\n",
       "    .dataframe thead th {\n",
       "        text-align: right;\n",
       "    }\n",
       "</style>\n",
       "<table border=\"1\" class=\"dataframe\">\n",
       "  <thead>\n",
       "    <tr style=\"text-align: right;\">\n",
       "      <th></th>\n",
       "      <th>feature_1_C</th>\n",
       "      <th>feature_2_C</th>\n",
       "      <th>feature_3_C</th>\n",
       "      <th>feature_4_C</th>\n",
       "      <th>feature_5_C</th>\n",
       "      <th>feature_6_C</th>\n",
       "      <th>feature_7_C</th>\n",
       "      <th>feature_8_C</th>\n",
       "      <th>feature_9_C</th>\n",
       "    </tr>\n",
       "  </thead>\n",
       "  <tbody>\n",
       "    <tr>\n",
       "      <th>0</th>\n",
       "      <td>30.8271</td>\n",
       "      <td>30.8271</td>\n",
       "      <td>30.8271</td>\n",
       "      <td>29.1729</td>\n",
       "      <td>30.8647</td>\n",
       "      <td>30.8271</td>\n",
       "      <td>30.8271</td>\n",
       "      <td>30.8271</td>\n",
       "      <td>30.8647</td>\n",
       "    </tr>\n",
       "  </tbody>\n",
       "</table>\n",
       "</div>"
      ],
      "text/plain": [
       "   feature_1_C  feature_2_C  feature_3_C  feature_4_C  feature_5_C  \\\n",
       "0      30.8271      30.8271      30.8271      29.1729      30.8647   \n",
       "\n",
       "   feature_6_C  feature_7_C  feature_8_C  feature_9_C  \n",
       "0      30.8271      30.8271      30.8271      30.8647  "
      ]
     },
     "execution_count": 63,
     "metadata": {},
     "output_type": "execute_result"
    }
   ],
   "source": [
    "(train[feats_C].isna().sum() / len(train) * 100).to_frame().T"
   ]
  },
  {
   "cell_type": "code",
   "execution_count": 64,
   "id": "9c225369",
   "metadata": {
    "execution": {
     "iopub.execute_input": "2024-04-12T10:08:53.288073Z",
     "iopub.status.busy": "2024-04-12T10:08:53.287597Z",
     "iopub.status.idle": "2024-04-12T10:08:53.295461Z",
     "shell.execute_reply": "2024-04-12T10:08:53.294374Z"
    },
    "papermill": {
     "duration": 0.065777,
     "end_time": "2024-04-12T10:08:53.297812",
     "exception": false,
     "start_time": "2024-04-12T10:08:53.232035",
     "status": "completed"
    },
    "tags": []
   },
   "outputs": [
    {
     "data": {
      "text/plain": [
       "array([        nan, -0.22441409, -1.37254816,  1.66410753,  2.67888067,\n",
       "        1.86530158,  1.60413983,  0.54656567, -1.18263472, -0.66988578])"
      ]
     },
     "execution_count": 64,
     "metadata": {},
     "output_type": "execute_result"
    }
   ],
   "source": [
    "train['feature_1_C'].unique()[:10]"
   ]
  },
  {
   "cell_type": "code",
   "execution_count": 65,
   "id": "66095dc0",
   "metadata": {
    "execution": {
     "iopub.execute_input": "2024-04-12T10:08:53.410449Z",
     "iopub.status.busy": "2024-04-12T10:08:53.409677Z",
     "iopub.status.idle": "2024-04-12T10:08:53.416465Z",
     "shell.execute_reply": "2024-04-12T10:08:53.415512Z"
    },
    "papermill": {
     "duration": 0.065587,
     "end_time": "2024-04-12T10:08:53.418632",
     "exception": false,
     "start_time": "2024-04-12T10:08:53.353045",
     "status": "completed"
    },
    "tags": []
   },
   "outputs": [
    {
     "data": {
      "text/plain": [
       "1840"
      ]
     },
     "execution_count": 65,
     "metadata": {},
     "output_type": "execute_result"
    }
   ],
   "source": [
    "(~train.feature_1_C.isna()).sum()"
   ]
  },
  {
   "cell_type": "markdown",
   "id": "f0862974",
   "metadata": {
    "papermill": {
     "duration": 0.054514,
     "end_time": "2024-04-12T10:08:53.529305",
     "exception": false,
     "start_time": "2024-04-12T10:08:53.474791",
     "status": "completed"
    },
    "tags": []
   },
   "source": [
    "All non-missing values are unique. Same as feature_X_C and feature_X_D."
   ]
  },
  {
   "cell_type": "markdown",
   "id": "ddfe317b",
   "metadata": {
    "papermill": {
     "duration": 0.053835,
     "end_time": "2024-04-12T10:08:53.637920",
     "exception": false,
     "start_time": "2024-04-12T10:08:53.584085",
     "status": "completed"
    },
    "tags": []
   },
   "source": [
    "### feature_[1 - 9]_D"
   ]
  },
  {
   "cell_type": "code",
   "execution_count": 66,
   "id": "157ee6eb",
   "metadata": {
    "execution": {
     "iopub.execute_input": "2024-04-12T10:08:53.748348Z",
     "iopub.status.busy": "2024-04-12T10:08:53.747160Z",
     "iopub.status.idle": "2024-04-12T10:08:53.753002Z",
     "shell.execute_reply": "2024-04-12T10:08:53.751926Z"
    },
    "papermill": {
     "duration": 0.063983,
     "end_time": "2024-04-12T10:08:53.755714",
     "exception": false,
     "start_time": "2024-04-12T10:08:53.691731",
     "status": "completed"
    },
    "tags": []
   },
   "outputs": [],
   "source": [
    "feats_D = [f'feature_{i}_D' for i in range(1, 10)]\n",
    "feats_D.remove('feature_4_D')  # not in dataset"
   ]
  },
  {
   "cell_type": "code",
   "execution_count": 67,
   "id": "97bb0f0b",
   "metadata": {
    "execution": {
     "iopub.execute_input": "2024-04-12T10:08:53.868137Z",
     "iopub.status.busy": "2024-04-12T10:08:53.867390Z",
     "iopub.status.idle": "2024-04-12T10:08:53.881461Z",
     "shell.execute_reply": "2024-04-12T10:08:53.880479Z"
    },
    "papermill": {
     "duration": 0.073506,
     "end_time": "2024-04-12T10:08:53.883755",
     "exception": false,
     "start_time": "2024-04-12T10:08:53.810249",
     "status": "completed"
    },
    "tags": []
   },
   "outputs": [
    {
     "data": {
      "text/html": [
       "<div>\n",
       "<style scoped>\n",
       "    .dataframe tbody tr th:only-of-type {\n",
       "        vertical-align: middle;\n",
       "    }\n",
       "\n",
       "    .dataframe tbody tr th {\n",
       "        vertical-align: top;\n",
       "    }\n",
       "\n",
       "    .dataframe thead th {\n",
       "        text-align: right;\n",
       "    }\n",
       "</style>\n",
       "<table border=\"1\" class=\"dataframe\">\n",
       "  <thead>\n",
       "    <tr style=\"text-align: right;\">\n",
       "      <th></th>\n",
       "      <th>feature_1_D</th>\n",
       "      <th>feature_2_D</th>\n",
       "      <th>feature_3_D</th>\n",
       "      <th>feature_5_D</th>\n",
       "      <th>feature_6_D</th>\n",
       "      <th>feature_7_D</th>\n",
       "      <th>feature_8_D</th>\n",
       "      <th>feature_9_D</th>\n",
       "    </tr>\n",
       "  </thead>\n",
       "  <tbody>\n",
       "    <tr>\n",
       "      <th>0</th>\n",
       "      <td>1840</td>\n",
       "      <td>1840</td>\n",
       "      <td>1840</td>\n",
       "      <td>1839</td>\n",
       "      <td>1840</td>\n",
       "      <td>1840</td>\n",
       "      <td>1840</td>\n",
       "      <td>1839</td>\n",
       "    </tr>\n",
       "  </tbody>\n",
       "</table>\n",
       "</div>"
      ],
      "text/plain": [
       "   feature_1_D  feature_2_D  feature_3_D  feature_5_D  feature_6_D  \\\n",
       "0         1840         1840         1840         1839         1840   \n",
       "\n",
       "   feature_7_D  feature_8_D  feature_9_D  \n",
       "0         1840         1840         1839  "
      ]
     },
     "execution_count": 67,
     "metadata": {},
     "output_type": "execute_result"
    }
   ],
   "source": [
    "train[feats_D].nunique().to_frame().T"
   ]
  },
  {
   "cell_type": "code",
   "execution_count": 68,
   "id": "2a362530",
   "metadata": {
    "execution": {
     "iopub.execute_input": "2024-04-12T10:08:53.995277Z",
     "iopub.status.busy": "2024-04-12T10:08:53.994538Z",
     "iopub.status.idle": "2024-04-12T10:08:54.010905Z",
     "shell.execute_reply": "2024-04-12T10:08:54.009683Z"
    },
    "papermill": {
     "duration": 0.075121,
     "end_time": "2024-04-12T10:08:54.013514",
     "exception": false,
     "start_time": "2024-04-12T10:08:53.938393",
     "status": "completed"
    },
    "tags": []
   },
   "outputs": [
    {
     "data": {
      "text/html": [
       "<div>\n",
       "<style scoped>\n",
       "    .dataframe tbody tr th:only-of-type {\n",
       "        vertical-align: middle;\n",
       "    }\n",
       "\n",
       "    .dataframe tbody tr th {\n",
       "        vertical-align: top;\n",
       "    }\n",
       "\n",
       "    .dataframe thead th {\n",
       "        text-align: right;\n",
       "    }\n",
       "</style>\n",
       "<table border=\"1\" class=\"dataframe\">\n",
       "  <thead>\n",
       "    <tr style=\"text-align: right;\">\n",
       "      <th></th>\n",
       "      <th>feature_1_D</th>\n",
       "      <th>feature_2_D</th>\n",
       "      <th>feature_3_D</th>\n",
       "      <th>feature_5_D</th>\n",
       "      <th>feature_6_D</th>\n",
       "      <th>feature_7_D</th>\n",
       "      <th>feature_8_D</th>\n",
       "      <th>feature_9_D</th>\n",
       "    </tr>\n",
       "  </thead>\n",
       "  <tbody>\n",
       "    <tr>\n",
       "      <th>0</th>\n",
       "      <td>30.8271</td>\n",
       "      <td>30.8271</td>\n",
       "      <td>30.8271</td>\n",
       "      <td>30.8647</td>\n",
       "      <td>30.8271</td>\n",
       "      <td>30.8271</td>\n",
       "      <td>30.8271</td>\n",
       "      <td>30.8647</td>\n",
       "    </tr>\n",
       "  </tbody>\n",
       "</table>\n",
       "</div>"
      ],
      "text/plain": [
       "   feature_1_D  feature_2_D  feature_3_D  feature_5_D  feature_6_D  \\\n",
       "0      30.8271      30.8271      30.8271      30.8647      30.8271   \n",
       "\n",
       "   feature_7_D  feature_8_D  feature_9_D  \n",
       "0      30.8271      30.8271      30.8647  "
      ]
     },
     "execution_count": 68,
     "metadata": {},
     "output_type": "execute_result"
    }
   ],
   "source": [
    "(train[feats_D].isna().sum() / len(train) * 100).to_frame().T"
   ]
  },
  {
   "cell_type": "markdown",
   "id": "a6c84da3",
   "metadata": {
    "papermill": {
     "duration": 0.055399,
     "end_time": "2024-04-12T10:08:54.123721",
     "exception": false,
     "start_time": "2024-04-12T10:08:54.068322",
     "status": "completed"
    },
    "tags": []
   },
   "source": [
    "Same as previous."
   ]
  },
  {
   "cell_type": "markdown",
   "id": "3006b34e",
   "metadata": {
    "papermill": {
     "duration": 0.05459,
     "end_time": "2024-04-12T10:08:54.233269",
     "exception": false,
     "start_time": "2024-04-12T10:08:54.178679",
     "status": "completed"
    },
    "tags": []
   },
   "source": [
    "### feature_[1 - 9]_E"
   ]
  },
  {
   "cell_type": "code",
   "execution_count": 69,
   "id": "d74663b0",
   "metadata": {
    "execution": {
     "iopub.execute_input": "2024-04-12T10:08:54.345603Z",
     "iopub.status.busy": "2024-04-12T10:08:54.345164Z",
     "iopub.status.idle": "2024-04-12T10:08:54.350319Z",
     "shell.execute_reply": "2024-04-12T10:08:54.349253Z"
    },
    "papermill": {
     "duration": 0.064481,
     "end_time": "2024-04-12T10:08:54.352677",
     "exception": false,
     "start_time": "2024-04-12T10:08:54.288196",
     "status": "completed"
    },
    "tags": []
   },
   "outputs": [],
   "source": [
    "feats_E = [f'feature_{i}_E' for i in range(1, 10)]"
   ]
  },
  {
   "cell_type": "code",
   "execution_count": 70,
   "id": "c31ba452",
   "metadata": {
    "execution": {
     "iopub.execute_input": "2024-04-12T10:08:54.465595Z",
     "iopub.status.busy": "2024-04-12T10:08:54.464314Z",
     "iopub.status.idle": "2024-04-12T10:08:54.480680Z",
     "shell.execute_reply": "2024-04-12T10:08:54.479423Z"
    },
    "papermill": {
     "duration": 0.075952,
     "end_time": "2024-04-12T10:08:54.483293",
     "exception": false,
     "start_time": "2024-04-12T10:08:54.407341",
     "status": "completed"
    },
    "tags": []
   },
   "outputs": [
    {
     "data": {
      "text/html": [
       "<div>\n",
       "<style scoped>\n",
       "    .dataframe tbody tr th:only-of-type {\n",
       "        vertical-align: middle;\n",
       "    }\n",
       "\n",
       "    .dataframe tbody tr th {\n",
       "        vertical-align: top;\n",
       "    }\n",
       "\n",
       "    .dataframe thead th {\n",
       "        text-align: right;\n",
       "    }\n",
       "</style>\n",
       "<table border=\"1\" class=\"dataframe\">\n",
       "  <thead>\n",
       "    <tr style=\"text-align: right;\">\n",
       "      <th></th>\n",
       "      <th>feature_1_E</th>\n",
       "      <th>feature_2_E</th>\n",
       "      <th>feature_3_E</th>\n",
       "      <th>feature_4_E</th>\n",
       "      <th>feature_5_E</th>\n",
       "      <th>feature_6_E</th>\n",
       "      <th>feature_7_E</th>\n",
       "      <th>feature_8_E</th>\n",
       "      <th>feature_9_E</th>\n",
       "    </tr>\n",
       "  </thead>\n",
       "  <tbody>\n",
       "    <tr>\n",
       "      <th>0</th>\n",
       "      <td>1742</td>\n",
       "      <td>1742</td>\n",
       "      <td>1742</td>\n",
       "      <td>1513</td>\n",
       "      <td>1741</td>\n",
       "      <td>1742</td>\n",
       "      <td>1742</td>\n",
       "      <td>1741</td>\n",
       "      <td>1721</td>\n",
       "    </tr>\n",
       "  </tbody>\n",
       "</table>\n",
       "</div>"
      ],
      "text/plain": [
       "   feature_1_E  feature_2_E  feature_3_E  feature_4_E  feature_5_E  \\\n",
       "0         1742         1742         1742         1513         1741   \n",
       "\n",
       "   feature_6_E  feature_7_E  feature_8_E  feature_9_E  \n",
       "0         1742         1742         1741         1721  "
      ]
     },
     "execution_count": 70,
     "metadata": {},
     "output_type": "execute_result"
    }
   ],
   "source": [
    "train[feats_E].nunique().to_frame().T"
   ]
  },
  {
   "cell_type": "code",
   "execution_count": 71,
   "id": "6121bc69",
   "metadata": {
    "execution": {
     "iopub.execute_input": "2024-04-12T10:08:54.595785Z",
     "iopub.status.busy": "2024-04-12T10:08:54.595372Z",
     "iopub.status.idle": "2024-04-12T10:08:54.612301Z",
     "shell.execute_reply": "2024-04-12T10:08:54.611201Z"
    },
    "papermill": {
     "duration": 0.076002,
     "end_time": "2024-04-12T10:08:54.614502",
     "exception": false,
     "start_time": "2024-04-12T10:08:54.538500",
     "status": "completed"
    },
    "tags": []
   },
   "outputs": [
    {
     "data": {
      "text/html": [
       "<div>\n",
       "<style scoped>\n",
       "    .dataframe tbody tr th:only-of-type {\n",
       "        vertical-align: middle;\n",
       "    }\n",
       "\n",
       "    .dataframe tbody tr th {\n",
       "        vertical-align: top;\n",
       "    }\n",
       "\n",
       "    .dataframe thead th {\n",
       "        text-align: right;\n",
       "    }\n",
       "</style>\n",
       "<table border=\"1\" class=\"dataframe\">\n",
       "  <thead>\n",
       "    <tr style=\"text-align: right;\">\n",
       "      <th></th>\n",
       "      <th>feature_1_E</th>\n",
       "      <th>feature_2_E</th>\n",
       "      <th>feature_3_E</th>\n",
       "      <th>feature_4_E</th>\n",
       "      <th>feature_5_E</th>\n",
       "      <th>feature_6_E</th>\n",
       "      <th>feature_7_E</th>\n",
       "      <th>feature_8_E</th>\n",
       "      <th>feature_9_E</th>\n",
       "    </tr>\n",
       "  </thead>\n",
       "  <tbody>\n",
       "    <tr>\n",
       "      <th>0</th>\n",
       "      <td>34.5113</td>\n",
       "      <td>34.5113</td>\n",
       "      <td>34.5113</td>\n",
       "      <td>43.1203</td>\n",
       "      <td>34.5489</td>\n",
       "      <td>34.5113</td>\n",
       "      <td>34.5113</td>\n",
       "      <td>34.5113</td>\n",
       "      <td>34.5489</td>\n",
       "    </tr>\n",
       "  </tbody>\n",
       "</table>\n",
       "</div>"
      ],
      "text/plain": [
       "   feature_1_E  feature_2_E  feature_3_E  feature_4_E  feature_5_E  \\\n",
       "0      34.5113      34.5113      34.5113      43.1203      34.5489   \n",
       "\n",
       "   feature_6_E  feature_7_E  feature_8_E  feature_9_E  \n",
       "0      34.5113      34.5113      34.5113      34.5489  "
      ]
     },
     "execution_count": 71,
     "metadata": {},
     "output_type": "execute_result"
    }
   ],
   "source": [
    "(train[feats_E].isna().sum() / len(train) * 100).to_frame().T"
   ]
  },
  {
   "cell_type": "code",
   "execution_count": 72,
   "id": "ce73284b",
   "metadata": {
    "execution": {
     "iopub.execute_input": "2024-04-12T10:08:54.728601Z",
     "iopub.status.busy": "2024-04-12T10:08:54.727929Z",
     "iopub.status.idle": "2024-04-12T10:08:54.735216Z",
     "shell.execute_reply": "2024-04-12T10:08:54.733917Z"
    },
    "papermill": {
     "duration": 0.066717,
     "end_time": "2024-04-12T10:08:54.737529",
     "exception": false,
     "start_time": "2024-04-12T10:08:54.670812",
     "status": "completed"
    },
    "tags": []
   },
   "outputs": [
    {
     "data": {
      "text/plain": [
       "array([         nan, 122.79364306, 116.51550021, 123.70828588,\n",
       "       110.85007144, 133.7343569 , 166.36664246, 167.21085684,\n",
       "       118.67364314, 162.47799934])"
      ]
     },
     "execution_count": 72,
     "metadata": {},
     "output_type": "execute_result"
    }
   ],
   "source": [
    "train['feature_1_E'].unique()[:10]"
   ]
  },
  {
   "cell_type": "markdown",
   "id": "d6b8ba4e",
   "metadata": {
    "papermill": {
     "duration": 0.055401,
     "end_time": "2024-04-12T10:08:54.848989",
     "exception": false,
     "start_time": "2024-04-12T10:08:54.793588",
     "status": "completed"
    },
    "tags": []
   },
   "source": [
    "### feature_[1 - 9]_F"
   ]
  },
  {
   "cell_type": "code",
   "execution_count": 73,
   "id": "dbf87859",
   "metadata": {
    "execution": {
     "iopub.execute_input": "2024-04-12T10:08:54.963017Z",
     "iopub.status.busy": "2024-04-12T10:08:54.962571Z",
     "iopub.status.idle": "2024-04-12T10:08:54.968606Z",
     "shell.execute_reply": "2024-04-12T10:08:54.967396Z"
    },
    "papermill": {
     "duration": 0.066195,
     "end_time": "2024-04-12T10:08:54.971232",
     "exception": false,
     "start_time": "2024-04-12T10:08:54.905037",
     "status": "completed"
    },
    "tags": []
   },
   "outputs": [],
   "source": [
    "feats_F = [f'feature_{i}_F' for i in range(1, 10)]"
   ]
  },
  {
   "cell_type": "code",
   "execution_count": 74,
   "id": "28b2a605",
   "metadata": {
    "execution": {
     "iopub.execute_input": "2024-04-12T10:08:55.088926Z",
     "iopub.status.busy": "2024-04-12T10:08:55.088115Z",
     "iopub.status.idle": "2024-04-12T10:08:55.103024Z",
     "shell.execute_reply": "2024-04-12T10:08:55.101720Z"
    },
    "papermill": {
     "duration": 0.077424,
     "end_time": "2024-04-12T10:08:55.105809",
     "exception": false,
     "start_time": "2024-04-12T10:08:55.028385",
     "status": "completed"
    },
    "tags": []
   },
   "outputs": [
    {
     "data": {
      "text/html": [
       "<div>\n",
       "<style scoped>\n",
       "    .dataframe tbody tr th:only-of-type {\n",
       "        vertical-align: middle;\n",
       "    }\n",
       "\n",
       "    .dataframe tbody tr th {\n",
       "        vertical-align: top;\n",
       "    }\n",
       "\n",
       "    .dataframe thead th {\n",
       "        text-align: right;\n",
       "    }\n",
       "</style>\n",
       "<table border=\"1\" class=\"dataframe\">\n",
       "  <thead>\n",
       "    <tr style=\"text-align: right;\">\n",
       "      <th></th>\n",
       "      <th>feature_1_F</th>\n",
       "      <th>feature_2_F</th>\n",
       "      <th>feature_3_F</th>\n",
       "      <th>feature_4_F</th>\n",
       "      <th>feature_5_F</th>\n",
       "      <th>feature_6_F</th>\n",
       "      <th>feature_7_F</th>\n",
       "      <th>feature_8_F</th>\n",
       "      <th>feature_9_F</th>\n",
       "    </tr>\n",
       "  </thead>\n",
       "  <tbody>\n",
       "    <tr>\n",
       "      <th>0</th>\n",
       "      <td>2</td>\n",
       "      <td>2</td>\n",
       "      <td>2</td>\n",
       "      <td>2</td>\n",
       "      <td>2</td>\n",
       "      <td>2</td>\n",
       "      <td>2</td>\n",
       "      <td>2</td>\n",
       "      <td>2</td>\n",
       "    </tr>\n",
       "  </tbody>\n",
       "</table>\n",
       "</div>"
      ],
      "text/plain": [
       "   feature_1_F  feature_2_F  feature_3_F  feature_4_F  feature_5_F  \\\n",
       "0            2            2            2            2            2   \n",
       "\n",
       "   feature_6_F  feature_7_F  feature_8_F  feature_9_F  \n",
       "0            2            2            2            2  "
      ]
     },
     "execution_count": 74,
     "metadata": {},
     "output_type": "execute_result"
    }
   ],
   "source": [
    "train[feats_F].nunique().to_frame().T"
   ]
  },
  {
   "cell_type": "code",
   "execution_count": 75,
   "id": "743f44d6",
   "metadata": {
    "execution": {
     "iopub.execute_input": "2024-04-12T10:08:55.224418Z",
     "iopub.status.busy": "2024-04-12T10:08:55.223643Z",
     "iopub.status.idle": "2024-04-12T10:08:55.240483Z",
     "shell.execute_reply": "2024-04-12T10:08:55.239653Z"
    },
    "papermill": {
     "duration": 0.078319,
     "end_time": "2024-04-12T10:08:55.243078",
     "exception": false,
     "start_time": "2024-04-12T10:08:55.164759",
     "status": "completed"
    },
    "tags": []
   },
   "outputs": [
    {
     "data": {
      "text/html": [
       "<div>\n",
       "<style scoped>\n",
       "    .dataframe tbody tr th:only-of-type {\n",
       "        vertical-align: middle;\n",
       "    }\n",
       "\n",
       "    .dataframe tbody tr th {\n",
       "        vertical-align: top;\n",
       "    }\n",
       "\n",
       "    .dataframe thead th {\n",
       "        text-align: right;\n",
       "    }\n",
       "</style>\n",
       "<table border=\"1\" class=\"dataframe\">\n",
       "  <thead>\n",
       "    <tr style=\"text-align: right;\">\n",
       "      <th></th>\n",
       "      <th>feature_1_F</th>\n",
       "      <th>feature_2_F</th>\n",
       "      <th>feature_3_F</th>\n",
       "      <th>feature_4_F</th>\n",
       "      <th>feature_5_F</th>\n",
       "      <th>feature_6_F</th>\n",
       "      <th>feature_7_F</th>\n",
       "      <th>feature_8_F</th>\n",
       "      <th>feature_9_F</th>\n",
       "    </tr>\n",
       "  </thead>\n",
       "  <tbody>\n",
       "    <tr>\n",
       "      <th>0</th>\n",
       "      <td>30.6767</td>\n",
       "      <td>30.6767</td>\n",
       "      <td>30.6767</td>\n",
       "      <td>28.0075</td>\n",
       "      <td>30.7143</td>\n",
       "      <td>30.6767</td>\n",
       "      <td>30.6767</td>\n",
       "      <td>30.6767</td>\n",
       "      <td>30.7143</td>\n",
       "    </tr>\n",
       "  </tbody>\n",
       "</table>\n",
       "</div>"
      ],
      "text/plain": [
       "   feature_1_F  feature_2_F  feature_3_F  feature_4_F  feature_5_F  \\\n",
       "0      30.6767      30.6767      30.6767      28.0075      30.7143   \n",
       "\n",
       "   feature_6_F  feature_7_F  feature_8_F  feature_9_F  \n",
       "0      30.6767      30.6767      30.6767      30.7143  "
      ]
     },
     "execution_count": 75,
     "metadata": {},
     "output_type": "execute_result"
    }
   ],
   "source": [
    "(train[feats_F].isna().sum() / len(train) * 100).to_frame().T"
   ]
  },
  {
   "cell_type": "code",
   "execution_count": 76,
   "id": "43f280d1",
   "metadata": {
    "execution": {
     "iopub.execute_input": "2024-04-12T10:08:55.358279Z",
     "iopub.status.busy": "2024-04-12T10:08:55.357525Z",
     "iopub.status.idle": "2024-04-12T10:08:55.412738Z",
     "shell.execute_reply": "2024-04-12T10:08:55.411447Z"
    },
    "papermill": {
     "duration": 0.116078,
     "end_time": "2024-04-12T10:08:55.415321",
     "exception": false,
     "start_time": "2024-04-12T10:08:55.299243",
     "status": "completed"
    },
    "tags": []
   },
   "outputs": [
    {
     "data": {
      "text/html": [
       "<div>\n",
       "<style scoped>\n",
       "    .dataframe tbody tr th:only-of-type {\n",
       "        vertical-align: middle;\n",
       "    }\n",
       "\n",
       "    .dataframe tbody tr th {\n",
       "        vertical-align: top;\n",
       "    }\n",
       "\n",
       "    .dataframe thead th {\n",
       "        text-align: right;\n",
       "    }\n",
       "</style>\n",
       "<table border=\"1\" class=\"dataframe\">\n",
       "  <thead>\n",
       "    <tr style=\"text-align: right;\">\n",
       "      <th></th>\n",
       "      <th>ID</th>\n",
       "      <th>TR_1_EventInd</th>\n",
       "      <th>TR_2_EventInd</th>\n",
       "      <th>TR_3_EventInd</th>\n",
       "      <th>feature_10_A</th>\n",
       "      <th>feature_10_B</th>\n",
       "      <th>feature_10_F</th>\n",
       "      <th>feature_10_G</th>\n",
       "      <th>feature_1_A</th>\n",
       "      <th>feature_1_B</th>\n",
       "      <th>feature_1_C</th>\n",
       "      <th>feature_1_D</th>\n",
       "      <th>feature_1_E</th>\n",
       "      <th>feature_1_F</th>\n",
       "      <th>feature_1_G</th>\n",
       "      <th>feature_2_A</th>\n",
       "      <th>feature_2_B</th>\n",
       "      <th>feature_2_C</th>\n",
       "      <th>feature_2_D</th>\n",
       "      <th>feature_2_E</th>\n",
       "      <th>feature_2_F</th>\n",
       "      <th>feature_2_G</th>\n",
       "      <th>feature_3_A</th>\n",
       "      <th>feature_3_B</th>\n",
       "      <th>feature_3_C</th>\n",
       "      <th>feature_3_D</th>\n",
       "      <th>feature_3_E</th>\n",
       "      <th>feature_3_F</th>\n",
       "      <th>feature_3_G</th>\n",
       "      <th>feature_4_A</th>\n",
       "      <th>feature_4_B</th>\n",
       "      <th>feature_4_C</th>\n",
       "      <th>feature_4_E</th>\n",
       "      <th>feature_4_F</th>\n",
       "      <th>feature_4_G</th>\n",
       "      <th>feature_5_A</th>\n",
       "      <th>feature_5_B</th>\n",
       "      <th>feature_5_C</th>\n",
       "      <th>feature_5_D</th>\n",
       "      <th>feature_5_E</th>\n",
       "      <th>feature_5_F</th>\n",
       "      <th>feature_5_G</th>\n",
       "      <th>feature_6_A</th>\n",
       "      <th>feature_6_B</th>\n",
       "      <th>feature_6_C</th>\n",
       "      <th>feature_6_D</th>\n",
       "      <th>feature_6_E</th>\n",
       "      <th>feature_6_F</th>\n",
       "      <th>feature_6_G</th>\n",
       "      <th>feature_7_A</th>\n",
       "      <th>feature_7_B</th>\n",
       "      <th>feature_7_C</th>\n",
       "      <th>feature_7_D</th>\n",
       "      <th>feature_7_E</th>\n",
       "      <th>feature_7_F</th>\n",
       "      <th>feature_7_G</th>\n",
       "      <th>feature_8_A</th>\n",
       "      <th>feature_8_B</th>\n",
       "      <th>feature_8_C</th>\n",
       "      <th>feature_8_D</th>\n",
       "      <th>feature_8_E</th>\n",
       "      <th>feature_8_F</th>\n",
       "      <th>feature_8_G</th>\n",
       "      <th>feature_9_A</th>\n",
       "      <th>feature_9_B</th>\n",
       "      <th>feature_9_C</th>\n",
       "      <th>feature_9_D</th>\n",
       "      <th>feature_9_E</th>\n",
       "      <th>feature_9_F</th>\n",
       "      <th>feature_9_G</th>\n",
       "      <th>feature_X_A</th>\n",
       "      <th>feature_X_B</th>\n",
       "      <th>feature_X_C</th>\n",
       "      <th>feature_X_D</th>\n",
       "      <th>index_1</th>\n",
       "      <th>index_2</th>\n",
       "      <th>index_3</th>\n",
       "      <th>Target</th>\n",
       "      <th>feature_10_F_missing</th>\n",
       "    </tr>\n",
       "  </thead>\n",
       "  <tbody>\n",
       "    <tr>\n",
       "      <th>2429</th>\n",
       "      <td>2430</td>\n",
       "      <td>0</td>\n",
       "      <td>0</td>\n",
       "      <td>0</td>\n",
       "      <td>0</td>\n",
       "      <td>NaN</td>\n",
       "      <td>0.0</td>\n",
       "      <td>0.0</td>\n",
       "      <td>NaN</td>\n",
       "      <td>NaN</td>\n",
       "      <td>NaN</td>\n",
       "      <td>NaN</td>\n",
       "      <td>NaN</td>\n",
       "      <td>NaN</td>\n",
       "      <td>NaN</td>\n",
       "      <td>NaN</td>\n",
       "      <td>NaN</td>\n",
       "      <td>NaN</td>\n",
       "      <td>NaN</td>\n",
       "      <td>NaN</td>\n",
       "      <td>NaN</td>\n",
       "      <td>NaN</td>\n",
       "      <td>NaN</td>\n",
       "      <td>NaN</td>\n",
       "      <td>NaN</td>\n",
       "      <td>NaN</td>\n",
       "      <td>NaN</td>\n",
       "      <td>NaN</td>\n",
       "      <td>NaN</td>\n",
       "      <td>NaN</td>\n",
       "      <td>NaN</td>\n",
       "      <td>NaN</td>\n",
       "      <td>NaN</td>\n",
       "      <td>NaN</td>\n",
       "      <td>NaN</td>\n",
       "      <td>NaN</td>\n",
       "      <td>NaN</td>\n",
       "      <td>NaN</td>\n",
       "      <td>NaN</td>\n",
       "      <td>NaN</td>\n",
       "      <td>NaN</td>\n",
       "      <td>NaN</td>\n",
       "      <td>NaN</td>\n",
       "      <td>NaN</td>\n",
       "      <td>NaN</td>\n",
       "      <td>NaN</td>\n",
       "      <td>NaN</td>\n",
       "      <td>NaN</td>\n",
       "      <td>NaN</td>\n",
       "      <td>NaN</td>\n",
       "      <td>NaN</td>\n",
       "      <td>NaN</td>\n",
       "      <td>NaN</td>\n",
       "      <td>NaN</td>\n",
       "      <td>NaN</td>\n",
       "      <td>NaN</td>\n",
       "      <td>NaN</td>\n",
       "      <td>NaN</td>\n",
       "      <td>NaN</td>\n",
       "      <td>NaN</td>\n",
       "      <td>NaN</td>\n",
       "      <td>NaN</td>\n",
       "      <td>NaN</td>\n",
       "      <td>NaN</td>\n",
       "      <td>NaN</td>\n",
       "      <td>NaN</td>\n",
       "      <td>NaN</td>\n",
       "      <td>NaN</td>\n",
       "      <td>NaN</td>\n",
       "      <td>NaN</td>\n",
       "      <td>1</td>\n",
       "      <td>0.021</td>\n",
       "      <td>2.12</td>\n",
       "      <td>-0.6676</td>\n",
       "      <td>NaN</td>\n",
       "      <td>NaN</td>\n",
       "      <td>NaN</td>\n",
       "      <td>1</td>\n",
       "      <td>0</td>\n",
       "    </tr>\n",
       "  </tbody>\n",
       "</table>\n",
       "</div>"
      ],
      "text/plain": [
       "        ID  TR_1_EventInd  TR_2_EventInd  TR_3_EventInd  feature_10_A  \\\n",
       "2429  2430              0              0              0             0   \n",
       "\n",
       "      feature_10_B  feature_10_F  feature_10_G  feature_1_A  feature_1_B  \\\n",
       "2429           NaN           0.0           0.0          NaN          NaN   \n",
       "\n",
       "      feature_1_C  feature_1_D  feature_1_E  feature_1_F  feature_1_G  \\\n",
       "2429          NaN          NaN          NaN          NaN          NaN   \n",
       "\n",
       "      feature_2_A  feature_2_B  feature_2_C  feature_2_D  feature_2_E  \\\n",
       "2429          NaN          NaN          NaN          NaN          NaN   \n",
       "\n",
       "      feature_2_F  feature_2_G  feature_3_A  feature_3_B  feature_3_C  \\\n",
       "2429          NaN          NaN          NaN          NaN          NaN   \n",
       "\n",
       "      feature_3_D  feature_3_E  feature_3_F  feature_3_G  feature_4_A  \\\n",
       "2429          NaN          NaN          NaN          NaN          NaN   \n",
       "\n",
       "      feature_4_B  feature_4_C  feature_4_E  feature_4_F  feature_4_G  \\\n",
       "2429          NaN          NaN          NaN          NaN          NaN   \n",
       "\n",
       "      feature_5_A  feature_5_B  feature_5_C  feature_5_D  feature_5_E  \\\n",
       "2429          NaN          NaN          NaN          NaN          NaN   \n",
       "\n",
       "      feature_5_F  feature_5_G  feature_6_A  feature_6_B  feature_6_C  \\\n",
       "2429          NaN          NaN          NaN          NaN          NaN   \n",
       "\n",
       "      feature_6_D  feature_6_E  feature_6_F  feature_6_G  feature_7_A  \\\n",
       "2429          NaN          NaN          NaN          NaN          NaN   \n",
       "\n",
       "      feature_7_B  feature_7_C  feature_7_D  feature_7_E  feature_7_F  \\\n",
       "2429          NaN          NaN          NaN          NaN          NaN   \n",
       "\n",
       "      feature_7_G  feature_8_A  feature_8_B  feature_8_C  feature_8_D  \\\n",
       "2429          NaN          NaN          NaN          NaN          NaN   \n",
       "\n",
       "      feature_8_E  feature_8_F  feature_8_G  feature_9_A  feature_9_B  \\\n",
       "2429          NaN          NaN          NaN          NaN          NaN   \n",
       "\n",
       "      feature_9_C  feature_9_D  feature_9_E  feature_9_F  feature_9_G  \\\n",
       "2429          NaN          NaN          NaN          NaN          NaN   \n",
       "\n",
       "      feature_X_A  feature_X_B  feature_X_C  feature_X_D  index_1  index_2  \\\n",
       "2429            1        0.021         2.12      -0.6676      NaN      NaN   \n",
       "\n",
       "      index_3  Target  feature_10_F_missing  \n",
       "2429      NaN       1                     0  "
      ]
     },
     "execution_count": 76,
     "metadata": {},
     "output_type": "execute_result"
    }
   ],
   "source": [
    "train.loc[train.feature_1_F.isna()].sample()"
   ]
  },
  {
   "cell_type": "code",
   "execution_count": 77,
   "id": "1535e981",
   "metadata": {
    "execution": {
     "iopub.execute_input": "2024-04-12T10:08:55.533938Z",
     "iopub.status.busy": "2024-04-12T10:08:55.533219Z",
     "iopub.status.idle": "2024-04-12T10:08:55.542423Z",
     "shell.execute_reply": "2024-04-12T10:08:55.541428Z"
    },
    "papermill": {
     "duration": 0.07127,
     "end_time": "2024-04-12T10:08:55.544993",
     "exception": false,
     "start_time": "2024-04-12T10:08:55.473723",
     "status": "completed"
    },
    "tags": []
   },
   "outputs": [
    {
     "name": "stdout",
     "output_type": "stream",
     "text": [
      "feature_1_F: [nan  1.  0.]\n",
      "feature_2_F: [nan  1.  0.]\n",
      "feature_3_F: [nan  1.  0.]\n",
      "feature_4_F: [nan  0.  1.]\n",
      "feature_5_F: [nan  1.  0.]\n",
      "feature_6_F: [nan  1.  0.]\n",
      "feature_7_F: [nan  1.  0.]\n",
      "feature_8_F: [nan  0.  1.]\n",
      "feature_9_F: [nan  0.  1.]\n"
     ]
    }
   ],
   "source": [
    "for col in feats_F:\n",
    "    print(f'{col}: {train[col].unique()}')"
   ]
  },
  {
   "cell_type": "code",
   "execution_count": 78,
   "id": "0595adb0",
   "metadata": {
    "execution": {
     "iopub.execute_input": "2024-04-12T10:08:55.662172Z",
     "iopub.status.busy": "2024-04-12T10:08:55.661234Z",
     "iopub.status.idle": "2024-04-12T10:08:55.674568Z",
     "shell.execute_reply": "2024-04-12T10:08:55.673621Z"
    },
    "papermill": {
     "duration": 0.074997,
     "end_time": "2024-04-12T10:08:55.677022",
     "exception": false,
     "start_time": "2024-04-12T10:08:55.602025",
     "status": "completed"
    },
    "tags": []
   },
   "outputs": [
    {
     "data": {
      "text/html": [
       "<div>\n",
       "<style scoped>\n",
       "    .dataframe tbody tr th:only-of-type {\n",
       "        vertical-align: middle;\n",
       "    }\n",
       "\n",
       "    .dataframe tbody tr th {\n",
       "        vertical-align: top;\n",
       "    }\n",
       "\n",
       "    .dataframe thead th {\n",
       "        text-align: right;\n",
       "    }\n",
       "</style>\n",
       "<table border=\"1\" class=\"dataframe\">\n",
       "  <thead>\n",
       "    <tr style=\"text-align: right;\">\n",
       "      <th></th>\n",
       "      <th>train</th>\n",
       "      <th>test</th>\n",
       "    </tr>\n",
       "    <tr>\n",
       "      <th>feature_1_F</th>\n",
       "      <th></th>\n",
       "      <th></th>\n",
       "    </tr>\n",
       "  </thead>\n",
       "  <tbody>\n",
       "    <tr>\n",
       "      <th>1.0</th>\n",
       "      <td>0.4109</td>\n",
       "      <td>0.3874</td>\n",
       "    </tr>\n",
       "    <tr>\n",
       "      <th>NaN</th>\n",
       "      <td>0.3068</td>\n",
       "      <td>0.3288</td>\n",
       "    </tr>\n",
       "    <tr>\n",
       "      <th>0.0</th>\n",
       "      <td>0.2823</td>\n",
       "      <td>0.2838</td>\n",
       "    </tr>\n",
       "  </tbody>\n",
       "</table>\n",
       "</div>"
      ],
      "text/plain": [
       "              train    test\n",
       "feature_1_F                \n",
       "1.0          0.4109  0.3874\n",
       "NaN          0.3068  0.3288\n",
       "0.0          0.2823  0.2838"
      ]
     },
     "metadata": {},
     "output_type": "display_data"
    }
   ],
   "source": [
    "cat_dist('feature_1_F')"
   ]
  },
  {
   "cell_type": "code",
   "execution_count": 79,
   "id": "dbfcd1f1",
   "metadata": {
    "execution": {
     "iopub.execute_input": "2024-04-12T10:08:55.794452Z",
     "iopub.status.busy": "2024-04-12T10:08:55.793819Z",
     "iopub.status.idle": "2024-04-12T10:08:55.806423Z",
     "shell.execute_reply": "2024-04-12T10:08:55.805363Z"
    },
    "papermill": {
     "duration": 0.07396,
     "end_time": "2024-04-12T10:08:55.808992",
     "exception": false,
     "start_time": "2024-04-12T10:08:55.735032",
     "status": "completed"
    },
    "tags": []
   },
   "outputs": [
    {
     "data": {
      "text/plain": [
       "feature_1_F  Target\n",
       "0.0          1         0.5593\n",
       "             0         0.4407\n",
       "1.0          1         0.5700\n",
       "             0         0.4300\n",
       "NaN          1         0.5723\n",
       "             0         0.4277\n",
       "Name: proportion, dtype: float64"
      ]
     },
     "execution_count": 79,
     "metadata": {},
     "output_type": "execute_result"
    }
   ],
   "source": [
    "train.groupby('feature_1_F', dropna=False)[TARGET].value_counts(normalize=True)"
   ]
  },
  {
   "cell_type": "markdown",
   "id": "18352b57",
   "metadata": {
    "papermill": {
     "duration": 0.057034,
     "end_time": "2024-04-12T10:08:55.923073",
     "exception": false,
     "start_time": "2024-04-12T10:08:55.866039",
     "status": "completed"
    },
    "tags": []
   },
   "source": [
    "### feature_[1 - 9]_G"
   ]
  },
  {
   "cell_type": "code",
   "execution_count": 80,
   "id": "c5ec2d72",
   "metadata": {
    "execution": {
     "iopub.execute_input": "2024-04-12T10:08:56.040965Z",
     "iopub.status.busy": "2024-04-12T10:08:56.040175Z",
     "iopub.status.idle": "2024-04-12T10:08:56.045458Z",
     "shell.execute_reply": "2024-04-12T10:08:56.044342Z"
    },
    "papermill": {
     "duration": 0.067776,
     "end_time": "2024-04-12T10:08:56.048040",
     "exception": false,
     "start_time": "2024-04-12T10:08:55.980264",
     "status": "completed"
    },
    "tags": []
   },
   "outputs": [],
   "source": [
    "feats_G = [f'feature_{i}_G' for i in range(1, 10)]"
   ]
  },
  {
   "cell_type": "code",
   "execution_count": 81,
   "id": "c9a0e6fd",
   "metadata": {
    "execution": {
     "iopub.execute_input": "2024-04-12T10:08:56.164973Z",
     "iopub.status.busy": "2024-04-12T10:08:56.164523Z",
     "iopub.status.idle": "2024-04-12T10:08:56.181479Z",
     "shell.execute_reply": "2024-04-12T10:08:56.180327Z"
    },
    "papermill": {
     "duration": 0.078753,
     "end_time": "2024-04-12T10:08:56.184038",
     "exception": false,
     "start_time": "2024-04-12T10:08:56.105285",
     "status": "completed"
    },
    "tags": []
   },
   "outputs": [
    {
     "data": {
      "text/html": [
       "<div>\n",
       "<style scoped>\n",
       "    .dataframe tbody tr th:only-of-type {\n",
       "        vertical-align: middle;\n",
       "    }\n",
       "\n",
       "    .dataframe tbody tr th {\n",
       "        vertical-align: top;\n",
       "    }\n",
       "\n",
       "    .dataframe thead th {\n",
       "        text-align: right;\n",
       "    }\n",
       "</style>\n",
       "<table border=\"1\" class=\"dataframe\">\n",
       "  <thead>\n",
       "    <tr style=\"text-align: right;\">\n",
       "      <th></th>\n",
       "      <th>feature_1_G</th>\n",
       "      <th>feature_2_G</th>\n",
       "      <th>feature_3_G</th>\n",
       "      <th>feature_4_G</th>\n",
       "      <th>feature_5_G</th>\n",
       "      <th>feature_6_G</th>\n",
       "      <th>feature_7_G</th>\n",
       "      <th>feature_8_G</th>\n",
       "      <th>feature_9_G</th>\n",
       "    </tr>\n",
       "  </thead>\n",
       "  <tbody>\n",
       "    <tr>\n",
       "      <th>0</th>\n",
       "      <td>11</td>\n",
       "      <td>12</td>\n",
       "      <td>11</td>\n",
       "      <td>12</td>\n",
       "      <td>11</td>\n",
       "      <td>12</td>\n",
       "      <td>9</td>\n",
       "      <td>14</td>\n",
       "      <td>12</td>\n",
       "    </tr>\n",
       "  </tbody>\n",
       "</table>\n",
       "</div>"
      ],
      "text/plain": [
       "   feature_1_G  feature_2_G  feature_3_G  feature_4_G  feature_5_G  \\\n",
       "0           11           12           11           12           11   \n",
       "\n",
       "   feature_6_G  feature_7_G  feature_8_G  feature_9_G  \n",
       "0           12            9           14           12  "
      ]
     },
     "execution_count": 81,
     "metadata": {},
     "output_type": "execute_result"
    }
   ],
   "source": [
    "train[feats_G].nunique().to_frame().T"
   ]
  },
  {
   "cell_type": "code",
   "execution_count": 82,
   "id": "760a3eca",
   "metadata": {
    "execution": {
     "iopub.execute_input": "2024-04-12T10:08:56.301687Z",
     "iopub.status.busy": "2024-04-12T10:08:56.301304Z",
     "iopub.status.idle": "2024-04-12T10:08:56.319839Z",
     "shell.execute_reply": "2024-04-12T10:08:56.318667Z"
    },
    "papermill": {
     "duration": 0.07985,
     "end_time": "2024-04-12T10:08:56.322540",
     "exception": false,
     "start_time": "2024-04-12T10:08:56.242690",
     "status": "completed"
    },
    "tags": []
   },
   "outputs": [
    {
     "data": {
      "text/html": [
       "<div>\n",
       "<style scoped>\n",
       "    .dataframe tbody tr th:only-of-type {\n",
       "        vertical-align: middle;\n",
       "    }\n",
       "\n",
       "    .dataframe tbody tr th {\n",
       "        vertical-align: top;\n",
       "    }\n",
       "\n",
       "    .dataframe thead th {\n",
       "        text-align: right;\n",
       "    }\n",
       "</style>\n",
       "<table border=\"1\" class=\"dataframe\">\n",
       "  <thead>\n",
       "    <tr style=\"text-align: right;\">\n",
       "      <th></th>\n",
       "      <th>feature_1_G</th>\n",
       "      <th>feature_2_G</th>\n",
       "      <th>feature_3_G</th>\n",
       "      <th>feature_4_G</th>\n",
       "      <th>feature_5_G</th>\n",
       "      <th>feature_6_G</th>\n",
       "      <th>feature_7_G</th>\n",
       "      <th>feature_8_G</th>\n",
       "      <th>feature_9_G</th>\n",
       "    </tr>\n",
       "  </thead>\n",
       "  <tbody>\n",
       "    <tr>\n",
       "      <th>0</th>\n",
       "      <td>30.6767</td>\n",
       "      <td>30.6767</td>\n",
       "      <td>30.6767</td>\n",
       "      <td>28.0075</td>\n",
       "      <td>30.7143</td>\n",
       "      <td>30.6767</td>\n",
       "      <td>30.6767</td>\n",
       "      <td>30.6767</td>\n",
       "      <td>30.7143</td>\n",
       "    </tr>\n",
       "  </tbody>\n",
       "</table>\n",
       "</div>"
      ],
      "text/plain": [
       "   feature_1_G  feature_2_G  feature_3_G  feature_4_G  feature_5_G  \\\n",
       "0      30.6767      30.6767      30.6767      28.0075      30.7143   \n",
       "\n",
       "   feature_6_G  feature_7_G  feature_8_G  feature_9_G  \n",
       "0      30.6767      30.6767      30.6767      30.7143  "
      ]
     },
     "execution_count": 82,
     "metadata": {},
     "output_type": "execute_result"
    }
   ],
   "source": [
    "(train[feats_G].isna().sum() / len(train) * 100).to_frame().T"
   ]
  },
  {
   "cell_type": "code",
   "execution_count": 83,
   "id": "6b5b3f35",
   "metadata": {
    "execution": {
     "iopub.execute_input": "2024-04-12T10:08:56.441639Z",
     "iopub.status.busy": "2024-04-12T10:08:56.441248Z",
     "iopub.status.idle": "2024-04-12T10:08:56.453608Z",
     "shell.execute_reply": "2024-04-12T10:08:56.452078Z"
    },
    "papermill": {
     "duration": 0.075213,
     "end_time": "2024-04-12T10:08:56.456433",
     "exception": false,
     "start_time": "2024-04-12T10:08:56.381220",
     "status": "completed"
    },
    "tags": []
   },
   "outputs": [
    {
     "name": "stdout",
     "output_type": "stream",
     "text": [
      "feature_1_G: [nan  1.  0.  5.  3.  2.  4.  7.  9.  8.  6. 10.]\n",
      "feature_2_G: [nan  1.  2.  0.  3.  5.  6.  4. 10.  9.  7.  8. 11.]\n",
      "feature_3_G: [nan  1.  0.  2.  3.  4.  6.  5.  7.  8. 10.  9.]\n",
      "feature_4_G: [nan  1.  3.  2.  0.  7.  4.  5.  8.  6. 10.  9. 11.]\n",
      "feature_5_G: [nan  1.  2.  0.  3.  4.  5.  9.  7.  6.  8. 10.]\n",
      "feature_6_G: [nan  1.  5.  0.  3.  2.  4. 11. 10.  6.  7.  8.  9.]\n",
      "feature_7_G: [nan  0.  1.  4.  3.  2.  5.  6.  8.  7.]\n",
      "feature_8_G: [nan  1.  2.  0.  4.  3.  5. 10.  6.  8.  7. 13.  9. 11. 12.]\n",
      "feature_9_G: [nan  1.  0.  2.  3.  7.  6.  8.  5.  4. 10. 11. 12.]\n"
     ]
    }
   ],
   "source": [
    "for col in feats_G:\n",
    "    print(f'{col}: {train[col].unique()}')"
   ]
  },
  {
   "cell_type": "markdown",
   "id": "b3c164cd",
   "metadata": {
    "papermill": {
     "duration": 0.057139,
     "end_time": "2024-04-12T10:08:56.571458",
     "exception": false,
     "start_time": "2024-04-12T10:08:56.514319",
     "status": "completed"
    },
    "tags": []
   },
   "source": [
    "# Data preparation"
   ]
  },
  {
   "cell_type": "markdown",
   "id": "066b9fd8",
   "metadata": {
    "papermill": {
     "duration": 0.057696,
     "end_time": "2024-04-12T10:08:56.687619",
     "exception": false,
     "start_time": "2024-04-12T10:08:56.629923",
     "status": "completed"
    },
    "tags": []
   },
   "source": [
    "### Dropping irrelevant columns"
   ]
  },
  {
   "cell_type": "code",
   "execution_count": 84,
   "id": "2c124e61",
   "metadata": {
    "execution": {
     "iopub.execute_input": "2024-04-12T10:08:56.805949Z",
     "iopub.status.busy": "2024-04-12T10:08:56.805546Z",
     "iopub.status.idle": "2024-04-12T10:08:56.811339Z",
     "shell.execute_reply": "2024-04-12T10:08:56.810091Z"
    },
    "papermill": {
     "duration": 0.06785,
     "end_time": "2024-04-12T10:08:56.813915",
     "exception": false,
     "start_time": "2024-04-12T10:08:56.746065",
     "status": "completed"
    },
    "tags": []
   },
   "outputs": [],
   "source": [
    "BASE_FEATURES = [f for f in test.columns if f not in ('ID', 'feature_10_F')]"
   ]
  },
  {
   "cell_type": "markdown",
   "id": "88e28eca",
   "metadata": {
    "papermill": {
     "duration": 0.059079,
     "end_time": "2024-04-12T10:08:56.930245",
     "exception": false,
     "start_time": "2024-04-12T10:08:56.871166",
     "status": "completed"
    },
    "tags": []
   },
   "source": [
    "### Feature sets"
   ]
  },
  {
   "cell_type": "code",
   "execution_count": 85,
   "id": "7c114f4a",
   "metadata": {
    "execution": {
     "iopub.execute_input": "2024-04-12T10:08:57.046478Z",
     "iopub.status.busy": "2024-04-12T10:08:57.046080Z",
     "iopub.status.idle": "2024-04-12T10:08:57.051527Z",
     "shell.execute_reply": "2024-04-12T10:08:57.050364Z"
    },
    "papermill": {
     "duration": 0.066339,
     "end_time": "2024-04-12T10:08:57.053951",
     "exception": false,
     "start_time": "2024-04-12T10:08:56.987612",
     "status": "completed"
    },
    "tags": []
   },
   "outputs": [],
   "source": [
    "market_features = [f for f in BASE_FEATURES if f.startswith('feature_')]"
   ]
  },
  {
   "cell_type": "code",
   "execution_count": 86,
   "id": "de39ff3e",
   "metadata": {
    "execution": {
     "iopub.execute_input": "2024-04-12T10:08:57.174318Z",
     "iopub.status.busy": "2024-04-12T10:08:57.173923Z",
     "iopub.status.idle": "2024-04-12T10:08:57.179787Z",
     "shell.execute_reply": "2024-04-12T10:08:57.178479Z"
    },
    "papermill": {
     "duration": 0.069778,
     "end_time": "2024-04-12T10:08:57.182445",
     "exception": false,
     "start_time": "2024-04-12T10:08:57.112667",
     "status": "completed"
    },
    "tags": []
   },
   "outputs": [],
   "source": [
    "misc_features = [\n",
    "    'TR_1_EventInd', 'TR_2_EventInd', 'TR_3_EventInd', \n",
    "    'index_1', 'index_2', 'index_3',\n",
    "    'feature_X_A', 'feature_X_B', 'feature_X_C', 'feature_X_D'\n",
    "]"
   ]
  },
  {
   "cell_type": "markdown",
   "id": "9ba7f164",
   "metadata": {
    "papermill": {
     "duration": 0.059996,
     "end_time": "2024-04-12T10:08:57.300199",
     "exception": false,
     "start_time": "2024-04-12T10:08:57.240203",
     "status": "completed"
    },
    "tags": []
   },
   "source": [
    "### Missing values\n",
    "(not required explicitly for XGBoost)"
   ]
  },
  {
   "cell_type": "code",
   "execution_count": 87,
   "id": "1cdd9fc7",
   "metadata": {
    "execution": {
     "iopub.execute_input": "2024-04-12T10:08:57.417576Z",
     "iopub.status.busy": "2024-04-12T10:08:57.417194Z",
     "iopub.status.idle": "2024-04-12T10:08:57.424600Z",
     "shell.execute_reply": "2024-04-12T10:08:57.423458Z"
    },
    "papermill": {
     "duration": 0.068748,
     "end_time": "2024-04-12T10:08:57.426815",
     "exception": false,
     "start_time": "2024-04-12T10:08:57.358067",
     "status": "completed"
    },
    "tags": []
   },
   "outputs": [],
   "source": [
    "train_imp = train.fillna(-1)\n",
    "test_imp = test.fillna(-1)"
   ]
  },
  {
   "cell_type": "markdown",
   "id": "378e716e",
   "metadata": {
    "papermill": {
     "duration": 0.057247,
     "end_time": "2024-04-12T10:08:57.542687",
     "exception": false,
     "start_time": "2024-04-12T10:08:57.485440",
     "status": "completed"
    },
    "tags": []
   },
   "source": [
    "### Categorical features"
   ]
  },
  {
   "cell_type": "code",
   "execution_count": 88,
   "id": "5c7f9c9f",
   "metadata": {
    "execution": {
     "iopub.execute_input": "2024-04-12T10:08:57.659526Z",
     "iopub.status.busy": "2024-04-12T10:08:57.658454Z",
     "iopub.status.idle": "2024-04-12T10:08:57.663382Z",
     "shell.execute_reply": "2024-04-12T10:08:57.662511Z"
    },
    "papermill": {
     "duration": 0.065809,
     "end_time": "2024-04-12T10:08:57.665461",
     "exception": false,
     "start_time": "2024-04-12T10:08:57.599652",
     "status": "completed"
    },
    "tags": []
   },
   "outputs": [],
   "source": [
    "CAT_FEATURES = ['TR_1_EventInd', 'TR_2_EventInd', 'TR_3_EventInd', \n",
    "                'feature_X_A', 'feature_10_A', 'feature_10_F_missing', 'feature_10_G'] \\\n",
    "             + feats_A + feats_F"
   ]
  },
  {
   "cell_type": "code",
   "execution_count": 89,
   "id": "19b90b57",
   "metadata": {
    "execution": {
     "iopub.execute_input": "2024-04-12T10:08:57.782086Z",
     "iopub.status.busy": "2024-04-12T10:08:57.781348Z",
     "iopub.status.idle": "2024-04-12T10:08:57.963060Z",
     "shell.execute_reply": "2024-04-12T10:08:57.961922Z"
    },
    "papermill": {
     "duration": 0.243198,
     "end_time": "2024-04-12T10:08:57.965981",
     "exception": false,
     "start_time": "2024-04-12T10:08:57.722783",
     "status": "completed"
    },
    "tags": []
   },
   "outputs": [],
   "source": [
    "train[CAT_FEATURES] = train[CAT_FEATURES].astype('category')\n",
    "test[CAT_FEATURES] = test[CAT_FEATURES].astype('category')\n",
    "\n",
    "train_imp[CAT_FEATURES] = train_imp[CAT_FEATURES].astype('category')\n",
    "test_imp[CAT_FEATURES] = test_imp[CAT_FEATURES].astype('category')"
   ]
  },
  {
   "cell_type": "markdown",
   "id": "b1dc2521",
   "metadata": {
    "papermill": {
     "duration": 0.071566,
     "end_time": "2024-04-12T10:08:58.097573",
     "exception": false,
     "start_time": "2024-04-12T10:08:58.026007",
     "status": "completed"
    },
    "tags": []
   },
   "source": [
    "# Baseline"
   ]
  },
  {
   "cell_type": "code",
   "execution_count": 90,
   "id": "285ffd9e",
   "metadata": {
    "execution": {
     "iopub.execute_input": "2024-04-12T10:08:58.224772Z",
     "iopub.status.busy": "2024-04-12T10:08:58.223817Z",
     "iopub.status.idle": "2024-04-12T10:08:58.229495Z",
     "shell.execute_reply": "2024-04-12T10:08:58.228389Z"
    },
    "papermill": {
     "duration": 0.070762,
     "end_time": "2024-04-12T10:08:58.232030",
     "exception": false,
     "start_time": "2024-04-12T10:08:58.161268",
     "status": "completed"
    },
    "tags": []
   },
   "outputs": [],
   "source": [
    "# competition metric\n",
    "def comp_metric(y_true, y_pred):\n",
    "    return f1_score(y_true, y_pred)"
   ]
  },
  {
   "cell_type": "code",
   "execution_count": 91,
   "id": "838e803d",
   "metadata": {
    "execution": {
     "iopub.execute_input": "2024-04-12T10:08:58.354903Z",
     "iopub.status.busy": "2024-04-12T10:08:58.354079Z",
     "iopub.status.idle": "2024-04-12T10:09:11.088309Z",
     "shell.execute_reply": "2024-04-12T10:09:11.087024Z"
    },
    "papermill": {
     "duration": 12.796998,
     "end_time": "2024-04-12T10:09:11.090804",
     "exception": false,
     "start_time": "2024-04-12T10:08:58.293806",
     "status": "completed"
    },
    "tags": []
   },
   "outputs": [
    {
     "name": "stdout",
     "output_type": "stream",
     "text": [
      "Fold #0: 0.77850 (246 rounds)\n",
      "Fold #1: 0.77538 (133 rounds)\n",
      "Fold #2: 0.76160 (197 rounds)\n",
      "Fold #3: 0.73701 (233 rounds)\n",
      "Fold #4: 0.75591 (243 rounds)\n",
      "\n",
      "OOF score: 0.76163\n",
      "\n"
     ]
    }
   ],
   "source": [
    "X, y = train[BASE_FEATURES], train[TARGET]\n",
    "oof_preds = {}\n",
    "\n",
    "cv = StratifiedKFold(n_splits=5, shuffle=True, random_state=SEED)\n",
    "for fold, (train_ids, val_ids) in enumerate(cv.split(X, y)):\n",
    "    X_train, y_train = X.iloc[train_ids], y.iloc[train_ids]\n",
    "    X_val, y_val = X.iloc[val_ids], y.iloc[val_ids]\n",
    "    \n",
    "    model = xgb.XGBClassifier(\n",
    "        n_estimators=1000,\n",
    "        learning_rate=0.1,\n",
    "        early_stopping_rounds=100,\n",
    "        objective='binary:logistic',\n",
    "        eval_metric='auc',\n",
    "        booster='gbtree',\n",
    "        tree_method='hist',\n",
    "        device=DEVICE,\n",
    "        enable_categorical=True,\n",
    "        verbosity=0,\n",
    "        n_jobs=-1,\n",
    "        random_state=SEED)\n",
    "    \n",
    "    model.fit(\n",
    "        X_train, y_train,\n",
    "        eval_set=[(X_val, y_val)],\n",
    "        verbose=False)\n",
    "        \n",
    "    val_preds = model.predict(X_val)\n",
    "    oof_preds.update(dict(zip(val_ids, val_preds)))\n",
    "    \n",
    "    score = comp_metric(y_val, val_preds)\n",
    "    print(f'Fold #{fold}: {score:.5f} ({model.best_iteration} rounds)')        \n",
    "    _ = gc.collect()\n",
    "    \n",
    "oof_preds = pd.Series(oof_preds).sort_index()\n",
    "print(f'\\nOOF score: {comp_metric(y, oof_preds):.5f}\\n')"
   ]
  },
  {
   "cell_type": "code",
   "execution_count": 92,
   "id": "02ce4a9e",
   "metadata": {
    "execution": {
     "iopub.execute_input": "2024-04-12T10:09:11.210146Z",
     "iopub.status.busy": "2024-04-12T10:09:11.209400Z",
     "iopub.status.idle": "2024-04-12T10:09:18.318736Z",
     "shell.execute_reply": "2024-04-12T10:09:18.317423Z"
    },
    "papermill": {
     "duration": 7.17265,
     "end_time": "2024-04-12T10:09:18.321218",
     "exception": false,
     "start_time": "2024-04-12T10:09:11.148568",
     "status": "completed"
    },
    "tags": []
   },
   "outputs": [
    {
     "name": "stdout",
     "output_type": "stream",
     "text": [
      "Fold #0: 0.79380 (80 rounds)\n",
      "Fold #1: 0.78158 (80 rounds)\n",
      "Fold #2: 0.75227 (65 rounds)\n",
      "Fold #3: 0.75466 (126 rounds)\n",
      "Fold #4: 0.74062 (401 rounds)\n",
      "\n",
      "OOF score: 0.76491\n",
      "\n"
     ]
    }
   ],
   "source": [
    "X, y = train_imp[BASE_FEATURES], train_imp[TARGET]\n",
    "oof_preds = {}\n",
    "\n",
    "cv = StratifiedKFold(n_splits=5, shuffle=True, random_state=SEED)\n",
    "for fold, (train_ids, val_ids) in enumerate(cv.split(X, y)):\n",
    "    X_train, y_train = X.iloc[train_ids], y.iloc[train_ids]\n",
    "    X_val, y_val = X.iloc[val_ids], y.iloc[val_ids]\n",
    "    \n",
    "    model = xgb.XGBClassifier(\n",
    "        n_estimators=1000,\n",
    "        learning_rate=0.1,\n",
    "        early_stopping_rounds=100,\n",
    "        objective='binary:logistic',\n",
    "        eval_metric='auc',\n",
    "        booster='gbtree',\n",
    "        tree_method='hist',\n",
    "        device=DEVICE,\n",
    "        enable_categorical=True,\n",
    "        verbosity=0,\n",
    "        n_jobs=-1,\n",
    "        random_state=SEED)\n",
    "    \n",
    "    model.fit(\n",
    "        X_train, y_train,\n",
    "        eval_set=[(X_val, y_val)],\n",
    "        verbose=False)\n",
    "        \n",
    "    val_preds = model.predict(X_val)\n",
    "    oof_preds.update(dict(zip(val_ids, val_preds)))\n",
    "    \n",
    "    score = comp_metric(y_val, val_preds)\n",
    "    print(f'Fold #{fold}: {score:.5f} ({model.best_iteration} rounds)')        \n",
    "    _ = gc.collect()\n",
    "    \n",
    "oof_preds = pd.Series(oof_preds).sort_index()\n",
    "print(f'\\nOOF score: {comp_metric(y, oof_preds):.5f}\\n')"
   ]
  },
  {
   "cell_type": "markdown",
   "id": "b1320f40",
   "metadata": {
    "papermill": {
     "duration": 0.057967,
     "end_time": "2024-04-12T10:09:18.437548",
     "exception": false,
     "start_time": "2024-04-12T10:09:18.379581",
     "status": "completed"
    },
    "tags": []
   },
   "source": [
    "# Hyperparameter tuning"
   ]
  },
  {
   "cell_type": "code",
   "execution_count": 93,
   "id": "bb6c0dbd",
   "metadata": {
    "execution": {
     "iopub.execute_input": "2024-04-12T10:09:18.555887Z",
     "iopub.status.busy": "2024-04-12T10:09:18.555450Z",
     "iopub.status.idle": "2024-04-12T10:09:18.570353Z",
     "shell.execute_reply": "2024-04-12T10:09:18.569076Z"
    },
    "papermill": {
     "duration": 0.077388,
     "end_time": "2024-04-12T10:09:18.573160",
     "exception": false,
     "start_time": "2024-04-12T10:09:18.495772",
     "status": "completed"
    },
    "tags": []
   },
   "outputs": [],
   "source": [
    "def objective(trial, features, model, impute, folds, seed):\n",
    "    oof_preds = {}\n",
    "    \n",
    "    if impute:\n",
    "        X, y = train_imp[features], train_imp[TARGET]\n",
    "    else:\n",
    "        X, y = train[features], train[TARGET]\n",
    "    \n",
    "    param_grid = {\n",
    "#         'learning_rate': trial.suggest_float('learning_rate', 0.01, 0.1, step=0.01),\n",
    "        'max_depth': trial.suggest_int('max_depth', 3, 12),\n",
    "        'min_child_weight': trial.suggest_int('min_child_weight', 2, 64),\n",
    "        'subsample': trial.suggest_float('subsample', 0.6, 1.0, step=0.05),\n",
    "        'colsample_bytree': trial.suggest_float('colsample_bytree', 0.6, 1.0, step=0.05),\n",
    "        'gamma': trial.suggest_float('gamma', 0, 20, step=0.1), #complexity-control\n",
    "        'alpha': trial.suggest_float('alpha', 0, 5, step=0.1), #L1-reg\n",
    "        'lambda': trial.suggest_float('lambda', 5e-3, 5e3, log=True), #L2-reg\n",
    "        'max_cat_to_onehot': trial.suggest_categorical('max_cat_to_onehot', [1, 3, 6]),\n",
    "        'scale_pos_weight': trial.suggest_float('scale_pos_weight', 0.5, 1.5, step=0.05)\n",
    "    }\n",
    "    \n",
    "    cv = StratifiedKFold(n_splits=folds, shuffle=True, random_state=seed)\n",
    "    for fold, (train_ids, val_ids) in enumerate(cv.split(X, y)):\n",
    "        X_train, y_train = X.iloc[train_ids], y.iloc[train_ids]\n",
    "        X_val, y_val = X.iloc[val_ids], y.iloc[val_ids]\n",
    "        \n",
    "        model.set_params(**param_grid)\n",
    "        model.fit(\n",
    "            X_train, y_train,\n",
    "            eval_set=[(X_val, y_val)],\n",
    "            verbose=0)\n",
    "        \n",
    "        val_preds = model.predict(X_val)\n",
    "        oof_preds.update(dict(zip(val_ids, val_preds)))\n",
    "        \n",
    "    oof_preds = pd.Series(oof_preds).sort_index()\n",
    "    return comp_metric(y, oof_preds)"
   ]
  },
  {
   "cell_type": "code",
   "execution_count": 94,
   "id": "9e5de9d8",
   "metadata": {
    "execution": {
     "iopub.execute_input": "2024-04-12T10:09:18.692638Z",
     "iopub.status.busy": "2024-04-12T10:09:18.692220Z",
     "iopub.status.idle": "2024-04-12T10:09:18.699696Z",
     "shell.execute_reply": "2024-04-12T10:09:18.698528Z"
    },
    "papermill": {
     "duration": 0.070234,
     "end_time": "2024-04-12T10:09:18.702328",
     "exception": false,
     "start_time": "2024-04-12T10:09:18.632094",
     "status": "completed"
    },
    "tags": []
   },
   "outputs": [],
   "source": [
    "def tune_params(features, model, impute, folds, seed, n_trials, direction):\n",
    "    study = optuna.create_study(\n",
    "        sampler=optuna.samplers.TPESampler(\n",
    "            consider_endpoints=True,\n",
    "            multivariate=True,\n",
    "            group=True,\n",
    "            seed=seed),\n",
    "        pruner=optuna.pruners.HyperbandPruner(),\n",
    "        direction=direction)\n",
    "    study.optimize(\n",
    "        func=lambda trial: objective(\n",
    "            trial, features, model, impute, folds, seed),\n",
    "        n_trials=n_trials,\n",
    "        gc_after_trial=True)\n",
    "    \n",
    "    return study"
   ]
  },
  {
   "cell_type": "markdown",
   "id": "be77beb0",
   "metadata": {
    "papermill": {
     "duration": 0.059024,
     "end_time": "2024-04-12T10:09:18.819572",
     "exception": false,
     "start_time": "2024-04-12T10:09:18.760548",
     "status": "completed"
    },
    "tags": []
   },
   "source": [
    "# Cross-validation framework"
   ]
  },
  {
   "cell_type": "code",
   "execution_count": 95,
   "id": "7f018941",
   "metadata": {
    "execution": {
     "iopub.execute_input": "2024-04-12T10:09:18.937653Z",
     "iopub.status.busy": "2024-04-12T10:09:18.937249Z",
     "iopub.status.idle": "2024-04-12T10:09:18.951302Z",
     "shell.execute_reply": "2024-04-12T10:09:18.950163Z"
    },
    "papermill": {
     "duration": 0.076686,
     "end_time": "2024-04-12T10:09:18.954156",
     "exception": false,
     "start_time": "2024-04-12T10:09:18.877470",
     "status": "completed"
    },
    "tags": []
   },
   "outputs": [],
   "source": [
    "def custom_cv(features, model, impute, folds, seed, verbose=True):\n",
    "    oof_preds = {}\n",
    "    test_preds = {}\n",
    "    scores = []\n",
    "    \n",
    "    if impute:\n",
    "        X, y = train_imp[features], train_imp[TARGET]\n",
    "        X_test = test_imp[features]\n",
    "    else:\n",
    "        X, y = train[features], train[TARGET]\n",
    "        X_test = test[features]\n",
    "    \n",
    "    cv = StratifiedKFold(n_splits=folds, shuffle=True, random_state=seed)\n",
    "    for fold, (train_ids, val_ids) in enumerate(cv.split(X, y)):\n",
    "        X_train, y_train = X.iloc[train_ids], y.iloc[train_ids]\n",
    "        X_val, y_val = X.iloc[val_ids], y.iloc[val_ids]\n",
    "        \n",
    "        model.fit(\n",
    "            X_train, y_train,\n",
    "            eval_set=[(X_val, y_val)],\n",
    "            verbose=0)\n",
    "        \n",
    "        val_preds = model.predict(X_val)\n",
    "        oof_preds.update(dict(zip(val_ids, val_preds)))\n",
    "        test_preds[f'fold{fold}'] = model.predict(X_test)\n",
    "        \n",
    "        score = comp_metric(y_val, val_preds)\n",
    "        scores.append(score)\n",
    "        if verbose:\n",
    "            print(f'Fold #{fold}: {score:.5f} ({model.best_iteration} rounds)')\n",
    "            \n",
    "        _ = gc.collect()\n",
    "    \n",
    "    test_preds = pd.DataFrame.from_dict(test_preds)\n",
    "    test_preds['mode'] = test_preds.mode(axis=1)[0].astype('int')  # mode of fold-wise predictions\n",
    "    \n",
    "    oof_preds = pd.Series(oof_preds).sort_index()\n",
    "    print(f'\\nOOF score: {comp_metric(y, oof_preds):.5f}')\n",
    "    print(f'Avg score: {np.mean(scores):.5f} +/- {np.std(scores):.5f}')\n",
    "    \n",
    "    return oof_preds, test_preds"
   ]
  },
  {
   "cell_type": "code",
   "execution_count": 96,
   "id": "f153e4ea",
   "metadata": {
    "execution": {
     "iopub.execute_input": "2024-04-12T10:09:19.073106Z",
     "iopub.status.busy": "2024-04-12T10:09:19.072696Z",
     "iopub.status.idle": "2024-04-12T10:09:19.083486Z",
     "shell.execute_reply": "2024-04-12T10:09:19.082425Z"
    },
    "papermill": {
     "duration": 0.073378,
     "end_time": "2024-04-12T10:09:19.086017",
     "exception": false,
     "start_time": "2024-04-12T10:09:19.012639",
     "status": "completed"
    },
    "tags": []
   },
   "outputs": [],
   "source": [
    "def run_experiment(features, impute=False, folds=5, seed=SEED, n_trials=200):\n",
    "    \n",
    "    base_params = {\n",
    "        'booster': 'gbtree',\n",
    "        'tree_method': 'hist',\n",
    "        'objective': 'binary:logistic',\n",
    "        'eval_metric': 'auc',\n",
    "        'learning_rate': 0.01,\n",
    "        'n_estimators': 10000,\n",
    "        'early_stopping_rounds': 100,\n",
    "        'scale_pos_weight': (43.23 / 56.77),\n",
    "        'device': DEVICE,\n",
    "        'enable_categorical': True,\n",
    "        'verbosity': 0,\n",
    "        'n_jobs': -1,\n",
    "        'seed': seed\n",
    "    }\n",
    "    model = xgb.XGBClassifier(**base_params)\n",
    "    \n",
    "    start = time.time()\n",
    "    study = tune_params(features, model, impute, folds, seed, n_trials, direction='maximize') \n",
    "    # metric: f1_score -> higher is better\n",
    "    end = time.time()\n",
    "    clear_output(wait=True)\n",
    "    print(f'----------Hyperparameter tuning----------')\n",
    "    print(f'Best trial: {study.best_trial.number} -> Best value: {study.best_value:.5f}')\n",
    "    print(f'Best hyperparameters:')\n",
    "    for k, v in study.best_params.items():\n",
    "        print(f'{k:20} - {v}')\n",
    "    print(f'\\n[Time taken: {end - start:.2f}s]\\n')\n",
    "    \n",
    "    print(f'-----Cross-validation and prediction-----')\n",
    "    start = time.time()\n",
    "    \n",
    "    model.set_params(**study.best_params)\n",
    "    oof_preds, test_preds = custom_cv(features, model, impute, folds, seed)\n",
    "    \n",
    "    end = time.time()\n",
    "    print(f'\\n[Time taken: {end - start:.2f}s]\\n')\n",
    "    \n",
    "    return oof_preds, test_preds"
   ]
  },
  {
   "cell_type": "markdown",
   "id": "c2ee3e02",
   "metadata": {
    "papermill": {
     "duration": 0.058009,
     "end_time": "2024-04-12T10:09:19.202315",
     "exception": false,
     "start_time": "2024-04-12T10:09:19.144306",
     "status": "completed"
    },
    "tags": []
   },
   "source": [
    "**Submission files**"
   ]
  },
  {
   "cell_type": "code",
   "execution_count": 97,
   "id": "0f3d3c11",
   "metadata": {
    "execution": {
     "iopub.execute_input": "2024-04-12T10:09:19.321446Z",
     "iopub.status.busy": "2024-04-12T10:09:19.321028Z",
     "iopub.status.idle": "2024-04-12T10:09:19.327143Z",
     "shell.execute_reply": "2024-04-12T10:09:19.325938Z"
    },
    "papermill": {
     "duration": 0.068818,
     "end_time": "2024-04-12T10:09:19.329784",
     "exception": false,
     "start_time": "2024-04-12T10:09:19.260966",
     "status": "completed"
    },
    "tags": []
   },
   "outputs": [],
   "source": [
    "def create_submission_files(preds, config, notebook='01'):\n",
    "    sub = sample_sub.copy()\n",
    "    sub[TARGET] = preds['mode']\n",
    "    sub.to_csv(f'nb{notebook}_{config}.csv', index=False)"
   ]
  },
  {
   "cell_type": "code",
   "execution_count": 98,
   "id": "ad47bdd8",
   "metadata": {
    "execution": {
     "iopub.execute_input": "2024-04-12T10:09:19.449004Z",
     "iopub.status.busy": "2024-04-12T10:09:19.448349Z",
     "iopub.status.idle": "2024-04-12T10:09:19.453042Z",
     "shell.execute_reply": "2024-04-12T10:09:19.452169Z"
    },
    "papermill": {
     "duration": 0.066791,
     "end_time": "2024-04-12T10:09:19.455350",
     "exception": false,
     "start_time": "2024-04-12T10:09:19.388559",
     "status": "completed"
    },
    "tags": []
   },
   "outputs": [],
   "source": [
    "op = {}  # OOF preds\n",
    "tp = {}  # Test preds"
   ]
  },
  {
   "cell_type": "markdown",
   "id": "d2a4ef71",
   "metadata": {
    "papermill": {
     "duration": 0.059711,
     "end_time": "2024-04-12T10:09:19.573014",
     "exception": false,
     "start_time": "2024-04-12T10:09:19.513303",
     "status": "completed"
    },
    "tags": []
   },
   "source": [
    "# Experiments"
   ]
  },
  {
   "cell_type": "code",
   "execution_count": 99,
   "id": "bdcd0b63",
   "metadata": {
    "execution": {
     "iopub.execute_input": "2024-04-12T10:09:19.691998Z",
     "iopub.status.busy": "2024-04-12T10:09:19.691201Z",
     "iopub.status.idle": "2024-04-12T10:09:31.470849Z",
     "shell.execute_reply": "2024-04-12T10:09:31.469377Z"
    },
    "papermill": {
     "duration": 11.842807,
     "end_time": "2024-04-12T10:09:31.474201",
     "exception": false,
     "start_time": "2024-04-12T10:09:19.631394",
     "status": "completed"
    },
    "tags": []
   },
   "outputs": [
    {
     "name": "stdout",
     "output_type": "stream",
     "text": [
      "----------Hyperparameter tuning----------\n",
      "Best trial: 2 -> Best value: 0.53768\n",
      "Best hyperparameters:\n",
      "max_depth            - 12\n",
      "min_child_weight     - 17\n",
      "subsample            - 0.7\n",
      "colsample_bytree     - 0.9\n",
      "gamma                - 16.0\n",
      "alpha                - 2.7\n",
      "lambda               - 0.9890443998013065\n",
      "max_cat_to_onehot    - 6\n",
      "scale_pos_weight     - 0.75\n",
      "\n",
      "[Time taken: 7.38s]\n",
      "\n",
      "-----Cross-validation and prediction-----\n",
      "Fold #0: 0.38257 (42 rounds)\n",
      "Fold #1: 0.37438 (72 rounds)\n",
      "Fold #2: 0.44019 (169 rounds)\n",
      "Fold #3: 0.66964 (43 rounds)\n",
      "Fold #4: 0.66667 (25 rounds)\n",
      "\n",
      "OOF score: 0.53768\n",
      "Avg score: 0.50669 +/- 0.13378\n",
      "\n",
      "[Time taken: 4.39s]\n",
      "\n"
     ]
    }
   ],
   "source": [
    "optuna.logging.set_verbosity(optuna.logging.INFO)\n",
    "_ , _ = run_experiment(features=BASE_FEATURES, n_trials=3)"
   ]
  },
  {
   "cell_type": "markdown",
   "id": "50ca663e",
   "metadata": {
    "papermill": {
     "duration": 0.058845,
     "end_time": "2024-04-12T10:09:31.593408",
     "exception": false,
     "start_time": "2024-04-12T10:09:31.534563",
     "status": "completed"
    },
    "tags": []
   },
   "source": [
    "### Base (all) features"
   ]
  },
  {
   "cell_type": "code",
   "execution_count": 100,
   "id": "4f67635d",
   "metadata": {
    "execution": {
     "iopub.execute_input": "2024-04-12T10:09:31.718606Z",
     "iopub.status.busy": "2024-04-12T10:09:31.717501Z",
     "iopub.status.idle": "2024-04-12T11:29:32.317427Z",
     "shell.execute_reply": "2024-04-12T11:29:32.316314Z"
    },
    "papermill": {
     "duration": 4800.729315,
     "end_time": "2024-04-12T11:29:32.385219",
     "exception": false,
     "start_time": "2024-04-12T10:09:31.655904",
     "status": "completed"
    },
    "tags": []
   },
   "outputs": [
    {
     "name": "stdout",
     "output_type": "stream",
     "text": [
      "----------Hyperparameter tuning----------\n",
      "Best trial: 151 -> Best value: 0.79154\n",
      "Best hyperparameters:\n",
      "max_depth            - 11\n",
      "min_child_weight     - 2\n",
      "subsample            - 0.85\n",
      "colsample_bytree     - 0.75\n",
      "gamma                - 0.8\n",
      "alpha                - 0.0\n",
      "lambda               - 0.05392984299055147\n",
      "max_cat_to_onehot    - 1\n",
      "scale_pos_weight     - 1.15\n",
      "\n",
      "[Time taken: 4763.69s]\n",
      "\n",
      "-----Cross-validation and prediction-----\n",
      "Fold #0: 0.83156 (365 rounds)\n",
      "Fold #1: 0.78210 (89 rounds)\n",
      "Fold #2: 0.80943 (177 rounds)\n",
      "Fold #3: 0.78528 (236 rounds)\n",
      "Fold #4: 0.76559 (596 rounds)\n",
      "Fold #5: 0.77433 (280 rounds)\n",
      "Fold #6: 0.79245 (517 rounds)\n",
      "\n",
      "OOF score: 0.79154\n",
      "Avg score: 0.79153 +/- 0.02077\n",
      "\n",
      "[Time taken: 36.89s]\n",
      "\n",
      "CPU times: user 5h 8min 5s, sys: 1min 26s, total: 5h 9min 31s\n",
      "Wall time: 1h 20min\n"
     ]
    }
   ],
   "source": [
    "%%time\n",
    "imputed = 'N'\n",
    "feature_set = 'BASE'\n",
    "folds = 7\n",
    "seed = SEED\n",
    "config = f'feat{feature_set}_imp{imputed}_fold{folds}_seed{seed}'\n",
    "\n",
    "op[config], tp[config] = run_experiment(\n",
    "    features=BASE_FEATURES,  \n",
    "    impute=False,\n",
    "    folds=folds, \n",
    "    seed=seed)\n",
    "\n",
    "create_submission_files(tp[config], config)"
   ]
  },
  {
   "cell_type": "code",
   "execution_count": 101,
   "id": "8e65b4ed",
   "metadata": {
    "execution": {
     "iopub.execute_input": "2024-04-12T11:29:32.516276Z",
     "iopub.status.busy": "2024-04-12T11:29:32.515527Z",
     "iopub.status.idle": "2024-04-12T12:28:43.438079Z",
     "shell.execute_reply": "2024-04-12T12:28:43.436955Z"
    },
    "papermill": {
     "duration": 3550.995101,
     "end_time": "2024-04-12T12:28:43.440801",
     "exception": false,
     "start_time": "2024-04-12T11:29:32.445700",
     "status": "completed"
    },
    "tags": []
   },
   "outputs": [
    {
     "name": "stdout",
     "output_type": "stream",
     "text": [
      "----------Hyperparameter tuning----------\n",
      "Best trial: 152 -> Best value: 0.78177\n",
      "Best hyperparameters:\n",
      "max_depth            - 12\n",
      "min_child_weight     - 2\n",
      "subsample            - 0.75\n",
      "colsample_bytree     - 0.9\n",
      "gamma                - 2.5\n",
      "alpha                - 1.1\n",
      "lambda               - 0.031092846408068236\n",
      "max_cat_to_onehot    - 3\n",
      "scale_pos_weight     - 1.35\n",
      "\n",
      "[Time taken: 3533.76s]\n",
      "\n",
      "-----Cross-validation and prediction-----\n",
      "Fold #0: 0.79920 (236 rounds)\n",
      "Fold #1: 0.77879 (75 rounds)\n",
      "Fold #2: 0.79383 (416 rounds)\n",
      "Fold #3: 0.78346 (241 rounds)\n",
      "Fold #4: 0.76436 (359 rounds)\n",
      "Fold #5: 0.77358 (116 rounds)\n",
      "Fold #6: 0.77973 (242 rounds)\n",
      "\n",
      "OOF score: 0.78177\n",
      "Avg score: 0.78185 +/- 0.01092\n",
      "\n",
      "[Time taken: 17.15s]\n",
      "\n",
      "CPU times: user 3h 46min 39s, sys: 1min 15s, total: 3h 47min 55s\n",
      "Wall time: 59min 10s\n"
     ]
    }
   ],
   "source": [
    "%%time\n",
    "imputed = 'Y'\n",
    "feature_set = 'BASE'\n",
    "folds = 7\n",
    "seed = SEED\n",
    "config = f'feat{feature_set}_imp{imputed}_fold{folds}_seed{seed}'\n",
    "\n",
    "op[config], tp[config] = run_experiment(\n",
    "    features=BASE_FEATURES,  \n",
    "    impute=True,\n",
    "    folds=folds, \n",
    "    seed=seed)\n",
    "\n",
    "create_submission_files(tp[config], config)"
   ]
  },
  {
   "cell_type": "markdown",
   "id": "8b9f53e7",
   "metadata": {
    "papermill": {
     "duration": 0.060326,
     "end_time": "2024-04-12T12:28:43.562015",
     "exception": false,
     "start_time": "2024-04-12T12:28:43.501689",
     "status": "completed"
    },
    "tags": []
   },
   "source": [
    "### Market features"
   ]
  },
  {
   "cell_type": "code",
   "execution_count": 102,
   "id": "2eeb6233",
   "metadata": {
    "execution": {
     "iopub.execute_input": "2024-04-12T12:28:43.685408Z",
     "iopub.status.busy": "2024-04-12T12:28:43.685015Z",
     "iopub.status.idle": "2024-04-12T13:49:25.111039Z",
     "shell.execute_reply": "2024-04-12T13:49:25.109979Z"
    },
    "papermill": {
     "duration": 4841.491219,
     "end_time": "2024-04-12T13:49:25.113790",
     "exception": false,
     "start_time": "2024-04-12T12:28:43.622571",
     "status": "completed"
    },
    "tags": []
   },
   "outputs": [
    {
     "name": "stdout",
     "output_type": "stream",
     "text": [
      "----------Hyperparameter tuning----------\n",
      "Best trial: 153 -> Best value: 0.78876\n",
      "Best hyperparameters:\n",
      "max_depth            - 12\n",
      "min_child_weight     - 2\n",
      "subsample            - 1.0\n",
      "colsample_bytree     - 0.9\n",
      "gamma                - 3.9000000000000004\n",
      "alpha                - 0.5\n",
      "lambda               - 0.01529687322618184\n",
      "max_cat_to_onehot    - 6\n",
      "scale_pos_weight     - 1.5\n",
      "\n",
      "[Time taken: 4821.99s]\n",
      "\n",
      "-----Cross-validation and prediction-----\n",
      "Fold #0: 0.81855 (185 rounds)\n",
      "Fold #1: 0.78530 (92 rounds)\n",
      "Fold #2: 0.80851 (170 rounds)\n",
      "Fold #3: 0.80396 (175 rounds)\n",
      "Fold #4: 0.77419 (178 rounds)\n",
      "Fold #5: 0.76078 (185 rounds)\n",
      "Fold #6: 0.77071 (194 rounds)\n",
      "\n",
      "OOF score: 0.78876\n",
      "Avg score: 0.78886 +/- 0.02015\n",
      "\n",
      "[Time taken: 19.43s]\n",
      "\n",
      "CPU times: user 5h 11min 5s, sys: 1min 28s, total: 5h 12min 34s\n",
      "Wall time: 1h 20min 41s\n"
     ]
    }
   ],
   "source": [
    "%%time\n",
    "imputed = 'N'\n",
    "feature_set = 'MRKT'\n",
    "folds = 7\n",
    "seed = SEED\n",
    "config = f'feat{feature_set}_imp{imputed}_fold{folds}_seed{seed}'\n",
    "\n",
    "op[config], tp[config] = run_experiment(\n",
    "    features=market_features,  \n",
    "    impute=False,\n",
    "    folds=folds, \n",
    "    seed=seed)\n",
    "\n",
    "create_submission_files(tp[config], config)"
   ]
  },
  {
   "cell_type": "code",
   "execution_count": 103,
   "id": "e91c9f71",
   "metadata": {
    "execution": {
     "iopub.execute_input": "2024-04-12T13:49:25.335957Z",
     "iopub.status.busy": "2024-04-12T13:49:25.335543Z",
     "iopub.status.idle": "2024-04-12T14:41:12.049456Z",
     "shell.execute_reply": "2024-04-12T14:41:12.048261Z"
    },
    "papermill": {
     "duration": 3106.78049,
     "end_time": "2024-04-12T14:41:12.052060",
     "exception": false,
     "start_time": "2024-04-12T13:49:25.271570",
     "status": "completed"
    },
    "tags": []
   },
   "outputs": [
    {
     "name": "stdout",
     "output_type": "stream",
     "text": [
      "----------Hyperparameter tuning----------\n",
      "Best trial: 195 -> Best value: 0.78995\n",
      "Best hyperparameters:\n",
      "max_depth            - 9\n",
      "min_child_weight     - 2\n",
      "subsample            - 1.0\n",
      "colsample_bytree     - 0.6\n",
      "gamma                - 0.4\n",
      "alpha                - 0.7000000000000001\n",
      "lambda               - 0.05688754236648463\n",
      "max_cat_to_onehot    - 3\n",
      "scale_pos_weight     - 1.35\n",
      "\n",
      "[Time taken: 3085.09s]\n",
      "\n",
      "-----Cross-validation and prediction-----\n",
      "Fold #0: 0.81988 (466 rounds)\n",
      "Fold #1: 0.77407 (103 rounds)\n",
      "Fold #2: 0.80859 (306 rounds)\n",
      "Fold #3: 0.79365 (230 rounds)\n",
      "Fold #4: 0.78873 (596 rounds)\n",
      "Fold #5: 0.76134 (288 rounds)\n",
      "Fold #6: 0.78557 (544 rounds)\n",
      "\n",
      "OOF score: 0.78995\n",
      "Avg score: 0.79026 +/- 0.01831\n",
      "\n",
      "[Time taken: 21.61s]\n",
      "\n",
      "CPU times: user 3h 18min 9s, sys: 1min 7s, total: 3h 19min 17s\n",
      "Wall time: 51min 46s\n"
     ]
    }
   ],
   "source": [
    "%%time\n",
    "imputed = 'Y'\n",
    "feature_set = 'MRKT'\n",
    "folds = 7\n",
    "seed = SEED\n",
    "config = f'feat{feature_set}_imp{imputed}_fold{folds}_seed{seed}'\n",
    "\n",
    "op[config], tp[config] = run_experiment(\n",
    "    features=market_features,  \n",
    "    impute=True,\n",
    "    folds=folds, \n",
    "    seed=seed)\n",
    "\n",
    "create_submission_files(tp[config], config)"
   ]
  },
  {
   "cell_type": "markdown",
   "id": "2764913d",
   "metadata": {
    "papermill": {
     "duration": 0.064311,
     "end_time": "2024-04-12T14:41:12.194831",
     "exception": false,
     "start_time": "2024-04-12T14:41:12.130520",
     "status": "completed"
    },
    "tags": []
   },
   "source": [
    "### Misc features"
   ]
  },
  {
   "cell_type": "code",
   "execution_count": 104,
   "id": "f94aee0f",
   "metadata": {
    "execution": {
     "iopub.execute_input": "2024-04-12T14:41:12.328215Z",
     "iopub.status.busy": "2024-04-12T14:41:12.327318Z",
     "iopub.status.idle": "2024-04-12T14:44:50.372257Z",
     "shell.execute_reply": "2024-04-12T14:44:50.370623Z"
    },
    "papermill": {
     "duration": 218.114631,
     "end_time": "2024-04-12T14:44:50.374999",
     "exception": false,
     "start_time": "2024-04-12T14:41:12.260368",
     "status": "completed"
    },
    "tags": []
   },
   "outputs": [
    {
     "name": "stdout",
     "output_type": "stream",
     "text": [
      "----------Hyperparameter tuning----------\n",
      "Best trial: 3 -> Best value: 0.72422\n",
      "Best hyperparameters:\n",
      "max_depth            - 7\n",
      "min_child_weight     - 57\n",
      "subsample            - 0.7\n",
      "colsample_bytree     - 0.95\n",
      "gamma                - 15.200000000000001\n",
      "alpha                - 2.1\n",
      "lambda               - 0.11313125630182279\n",
      "max_cat_to_onehot    - 6\n",
      "scale_pos_weight     - 1.35\n",
      "\n",
      "[Time taken: 216.18s]\n",
      "\n",
      "-----Cross-validation and prediction-----\n",
      "Fold #0: 0.72269 (133 rounds)\n",
      "Fold #1: 0.72269 (52 rounds)\n",
      "Fold #2: 0.72483 (110 rounds)\n",
      "Fold #3: 0.72483 (149 rounds)\n",
      "Fold #4: 0.72483 (101 rounds)\n",
      "Fold #5: 0.72483 (15 rounds)\n",
      "Fold #6: 0.72483 (81 rounds)\n",
      "\n",
      "OOF score: 0.72422\n",
      "Avg score: 0.72422 +/- 0.00097\n",
      "\n",
      "[Time taken: 1.85s]\n",
      "\n",
      "CPU times: user 12min 11s, sys: 6.53 s, total: 12min 17s\n",
      "Wall time: 3min 38s\n"
     ]
    }
   ],
   "source": [
    "%%time\n",
    "imputed = 'N'\n",
    "feature_set = 'MISC'\n",
    "folds = 7\n",
    "seed = SEED\n",
    "config = f'feat{feature_set}_imp{imputed}_fold{folds}_seed{seed}'\n",
    "\n",
    "op[config], tp[config] = run_experiment(\n",
    "    features=misc_features,  \n",
    "    impute=False,\n",
    "    folds=folds, \n",
    "    seed=seed)\n",
    "\n",
    "create_submission_files(tp[config], config)"
   ]
  },
  {
   "cell_type": "code",
   "execution_count": 105,
   "id": "e3c5b150",
   "metadata": {
    "execution": {
     "iopub.execute_input": "2024-04-12T14:44:50.504775Z",
     "iopub.status.busy": "2024-04-12T14:44:50.504039Z",
     "iopub.status.idle": "2024-04-12T14:48:28.535395Z",
     "shell.execute_reply": "2024-04-12T14:48:28.533949Z"
    },
    "papermill": {
     "duration": 218.09974,
     "end_time": "2024-04-12T14:48:28.538256",
     "exception": false,
     "start_time": "2024-04-12T14:44:50.438516",
     "status": "completed"
    },
    "tags": []
   },
   "outputs": [
    {
     "name": "stdout",
     "output_type": "stream",
     "text": [
      "----------Hyperparameter tuning----------\n",
      "Best trial: 3 -> Best value: 0.72422\n",
      "Best hyperparameters:\n",
      "max_depth            - 7\n",
      "min_child_weight     - 57\n",
      "subsample            - 0.7\n",
      "colsample_bytree     - 0.95\n",
      "gamma                - 15.200000000000001\n",
      "alpha                - 2.1\n",
      "lambda               - 0.11313125630182279\n",
      "max_cat_to_onehot    - 6\n",
      "scale_pos_weight     - 1.35\n",
      "\n",
      "[Time taken: 216.12s]\n",
      "\n",
      "-----Cross-validation and prediction-----\n",
      "Fold #0: 0.72269 (133 rounds)\n",
      "Fold #1: 0.72269 (52 rounds)\n",
      "Fold #2: 0.72483 (110 rounds)\n",
      "Fold #3: 0.72483 (149 rounds)\n",
      "Fold #4: 0.72483 (101 rounds)\n",
      "Fold #5: 0.72483 (15 rounds)\n",
      "Fold #6: 0.72483 (81 rounds)\n",
      "\n",
      "OOF score: 0.72422\n",
      "Avg score: 0.72422 +/- 0.00097\n",
      "\n",
      "[Time taken: 1.89s]\n",
      "\n",
      "CPU times: user 12min 10s, sys: 6.56 s, total: 12min 17s\n",
      "Wall time: 3min 38s\n"
     ]
    }
   ],
   "source": [
    "%%time\n",
    "imputed = 'Y'\n",
    "feature_set = 'MISC'\n",
    "folds = 7\n",
    "seed = SEED\n",
    "config = f'feat{feature_set}_imp{imputed}_fold{folds}_seed{seed}'\n",
    "\n",
    "op[config], tp[config] = run_experiment(\n",
    "    features=misc_features,  \n",
    "    impute=True,\n",
    "    folds=folds, \n",
    "    seed=seed)\n",
    "\n",
    "create_submission_files(tp[config], config)"
   ]
  },
  {
   "cell_type": "code",
   "execution_count": null,
   "id": "2bc18017",
   "metadata": {
    "papermill": {
     "duration": 0.065029,
     "end_time": "2024-04-12T14:48:28.672345",
     "exception": false,
     "start_time": "2024-04-12T14:48:28.607316",
     "status": "completed"
    },
    "tags": []
   },
   "outputs": [],
   "source": []
  }
 ],
 "metadata": {
  "kaggle": {
   "accelerator": "none",
   "dataSources": [
    {
     "datasetId": 4749181,
     "sourceId": 8052859,
     "sourceType": "datasetVersion"
    }
   ],
   "dockerImageVersionId": 30684,
   "isGpuEnabled": false,
   "isInternetEnabled": true,
   "language": "python",
   "sourceType": "notebook"
  },
  "kernelspec": {
   "display_name": "Python 3",
   "language": "python",
   "name": "python3"
  },
  "language_info": {
   "codemirror_mode": {
    "name": "ipython",
    "version": 3
   },
   "file_extension": ".py",
   "mimetype": "text/x-python",
   "name": "python",
   "nbconvert_exporter": "python",
   "pygments_lexer": "ipython3",
   "version": "3.10.13"
  },
  "papermill": {
   "default_parameters": {},
   "duration": 16796.649092,
   "end_time": "2024-04-12T14:48:29.505375",
   "environment_variables": {},
   "exception": null,
   "input_path": "__notebook__.ipynb",
   "output_path": "__notebook__.ipynb",
   "parameters": {},
   "start_time": "2024-04-12T10:08:32.856283",
   "version": "2.5.0"
  }
 },
 "nbformat": 4,
 "nbformat_minor": 5
}
