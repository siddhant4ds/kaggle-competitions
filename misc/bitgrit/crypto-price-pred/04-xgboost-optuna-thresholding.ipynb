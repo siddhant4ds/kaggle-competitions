{
 "cells": [
  {
   "cell_type": "markdown",
   "id": "db91e5b3",
   "metadata": {
    "papermill": {
     "duration": 0.008771,
     "end_time": "2024-05-28T01:44:00.346381",
     "exception": false,
     "start_time": "2024-05-28T01:44:00.337610",
     "status": "completed"
    },
    "tags": []
   },
   "source": [
    "# Setup"
   ]
  },
  {
   "cell_type": "code",
   "execution_count": 1,
   "id": "672d39ff",
   "metadata": {
    "_cell_guid": "b1076dfc-b9ad-4769-8c92-a6c4dae69d19",
    "_uuid": "8f2839f25d086af736a60e9eeb907d3b93b6e0e5",
    "execution": {
     "iopub.execute_input": "2024-05-28T01:44:00.364676Z",
     "iopub.status.busy": "2024-05-28T01:44:00.363983Z",
     "iopub.status.idle": "2024-05-28T01:44:02.769225Z",
     "shell.execute_reply": "2024-05-28T01:44:02.768250Z"
    },
    "papermill": {
     "duration": 2.41708,
     "end_time": "2024-05-28T01:44:02.771643",
     "exception": false,
     "start_time": "2024-05-28T01:44:00.354563",
     "status": "completed"
    },
    "tags": []
   },
   "outputs": [],
   "source": [
    "import gc\n",
    "import time\n",
    "import warnings\n",
    "\n",
    "gc.enable()\n",
    "warnings.filterwarnings('ignore')\n",
    "\n",
    "import pandas as pd\n",
    "import numpy as np\n",
    "pd.set_option('display.precision', 4)\n",
    "pd.set_option('display.max_columns', None)\n",
    "\n",
    "import matplotlib.pyplot as plt\n",
    "import seaborn as sns\n",
    "%matplotlib inline\n",
    "\n",
    "from IPython.display import clear_output\n",
    "\n",
    "import optuna\n",
    "import xgboost as xgb\n",
    "from sklearn.model_selection import StratifiedKFold\n",
    "from sklearn.metrics import f1_score, roc_auc_score\n",
    "\n",
    "SEED = 2024"
   ]
  },
  {
   "cell_type": "code",
   "execution_count": 2,
   "id": "06e9e049",
   "metadata": {
    "execution": {
     "iopub.execute_input": "2024-05-28T01:44:02.789779Z",
     "iopub.status.busy": "2024-05-28T01:44:02.789366Z",
     "iopub.status.idle": "2024-05-28T01:44:02.837986Z",
     "shell.execute_reply": "2024-05-28T01:44:02.836942Z"
    },
    "papermill": {
     "duration": 0.059893,
     "end_time": "2024-05-28T01:44:02.839897",
     "exception": false,
     "start_time": "2024-05-28T01:44:02.780004",
     "status": "completed"
    },
    "tags": []
   },
   "outputs": [
    {
     "name": "stdout",
     "output_type": "stream",
     "text": [
      "Available device: cuda\n"
     ]
    }
   ],
   "source": [
    "# Check GPU availability\n",
    "import subprocess\n",
    "try:\n",
    "    subprocess.check_output('nvidia-smi')\n",
    "    DEVICE = 'cuda'\n",
    "except Exception:\n",
    "    DEVICE = 'cpu'\n",
    "\n",
    "print(f'Available device: {DEVICE}')"
   ]
  },
  {
   "cell_type": "code",
   "execution_count": 3,
   "id": "9bdb96db",
   "metadata": {
    "execution": {
     "iopub.execute_input": "2024-05-28T01:44:02.857674Z",
     "iopub.status.busy": "2024-05-28T01:44:02.857402Z",
     "iopub.status.idle": "2024-05-28T01:44:02.947578Z",
     "shell.execute_reply": "2024-05-28T01:44:02.946843Z"
    },
    "papermill": {
     "duration": 0.101375,
     "end_time": "2024-05-28T01:44:02.949679",
     "exception": false,
     "start_time": "2024-05-28T01:44:02.848304",
     "status": "completed"
    },
    "tags": []
   },
   "outputs": [],
   "source": [
    "DATA_DIR = '/kaggle/input/bitgrit-crypto-price-prediction'\n",
    "\n",
    "train = pd.read_csv(f'{DATA_DIR}/train.csv')\n",
    "test = pd.read_csv(f'{DATA_DIR}/test.csv')\n",
    "sample_sub = pd.read_csv(f'{DATA_DIR}/solution_format.csv')"
   ]
  },
  {
   "cell_type": "markdown",
   "id": "382061ea",
   "metadata": {
    "papermill": {
     "duration": 0.008171,
     "end_time": "2024-05-28T01:44:02.966385",
     "exception": false,
     "start_time": "2024-05-28T01:44:02.958214",
     "status": "completed"
    },
    "tags": []
   },
   "source": [
    "# Data preparation"
   ]
  },
  {
   "cell_type": "code",
   "execution_count": 4,
   "id": "323c254d",
   "metadata": {
    "execution": {
     "iopub.execute_input": "2024-05-28T01:44:02.983698Z",
     "iopub.status.busy": "2024-05-28T01:44:02.983404Z",
     "iopub.status.idle": "2024-05-28T01:44:02.987361Z",
     "shell.execute_reply": "2024-05-28T01:44:02.986524Z"
    },
    "papermill": {
     "duration": 0.014737,
     "end_time": "2024-05-28T01:44:02.989172",
     "exception": false,
     "start_time": "2024-05-28T01:44:02.974435",
     "status": "completed"
    },
    "tags": []
   },
   "outputs": [],
   "source": [
    "TARGET = 'Target'"
   ]
  },
  {
   "cell_type": "code",
   "execution_count": 5,
   "id": "a8ec02c5",
   "metadata": {
    "execution": {
     "iopub.execute_input": "2024-05-28T01:44:03.007376Z",
     "iopub.status.busy": "2024-05-28T01:44:03.006946Z",
     "iopub.status.idle": "2024-05-28T01:44:03.011768Z",
     "shell.execute_reply": "2024-05-28T01:44:03.010848Z"
    },
    "papermill": {
     "duration": 0.016481,
     "end_time": "2024-05-28T01:44:03.013731",
     "exception": false,
     "start_time": "2024-05-28T01:44:02.997250",
     "status": "completed"
    },
    "tags": []
   },
   "outputs": [],
   "source": [
    "BASE_FEATURES = [f for f in test.columns if f not in ('ID', 'feature_10_F')]"
   ]
  },
  {
   "cell_type": "code",
   "execution_count": 6,
   "id": "259bed14",
   "metadata": {
    "execution": {
     "iopub.execute_input": "2024-05-28T01:44:03.031430Z",
     "iopub.status.busy": "2024-05-28T01:44:03.031129Z",
     "iopub.status.idle": "2024-05-28T01:44:03.035842Z",
     "shell.execute_reply": "2024-05-28T01:44:03.034987Z"
    },
    "papermill": {
     "duration": 0.015685,
     "end_time": "2024-05-28T01:44:03.037758",
     "exception": false,
     "start_time": "2024-05-28T01:44:03.022073",
     "status": "completed"
    },
    "tags": []
   },
   "outputs": [],
   "source": [
    "feats_A = [f'feature_{i}_A' for i in range(1, 10)]\n",
    "feats_F = [f'feature_{i}_F' for i in range(1, 10)]\n",
    "\n",
    "CAT_FEATURES = [\n",
    "    'TR_1_EventInd', 'TR_2_EventInd', 'TR_3_EventInd', 'feature_X_A',\n",
    "    'feature_10_A', 'feature_10_F_missing', 'feature_10_G'\n",
    "] + feats_A + feats_F"
   ]
  },
  {
   "cell_type": "code",
   "execution_count": 7,
   "id": "3e91af6b",
   "metadata": {
    "execution": {
     "iopub.execute_input": "2024-05-28T01:44:03.054812Z",
     "iopub.status.busy": "2024-05-28T01:44:03.054579Z",
     "iopub.status.idle": "2024-05-28T01:44:03.101416Z",
     "shell.execute_reply": "2024-05-28T01:44:03.100724Z"
    },
    "papermill": {
     "duration": 0.057546,
     "end_time": "2024-05-28T01:44:03.103332",
     "exception": false,
     "start_time": "2024-05-28T01:44:03.045786",
     "status": "completed"
    },
    "tags": []
   },
   "outputs": [],
   "source": [
    "def preprocess_data(df):\n",
    "    fill_zero_cols = ['TR_1_EventInd', 'TR_2_EventInd', 'TR_3_EventInd']\n",
    "    df[fill_zero_cols] = df[fill_zero_cols].fillna(0).astype('int')\n",
    "    \n",
    "#     fill_neg1_cols = ['index_1', 'index_2', 'index_3']\n",
    "#     df[fill_neg1_cols] = df[fill_neg1_cols].fillna(-1).astype('int')\n",
    "    \n",
    "    df['feature_10_F_missing'] = df.feature_10_F.isna().astype('int')\n",
    "    \n",
    "    df[CAT_FEATURES] = df[CAT_FEATURES].astype('category')\n",
    "    \n",
    "    return df\n",
    "\n",
    "\n",
    "train = preprocess_data(train.copy())\n",
    "test = preprocess_data(test.copy())"
   ]
  },
  {
   "cell_type": "code",
   "execution_count": 8,
   "id": "e27590f5",
   "metadata": {
    "execution": {
     "iopub.execute_input": "2024-05-28T01:44:03.120430Z",
     "iopub.status.busy": "2024-05-28T01:44:03.120158Z",
     "iopub.status.idle": "2024-05-28T01:44:03.123988Z",
     "shell.execute_reply": "2024-05-28T01:44:03.123203Z"
    },
    "papermill": {
     "duration": 0.014392,
     "end_time": "2024-05-28T01:44:03.125847",
     "exception": false,
     "start_time": "2024-05-28T01:44:03.111455",
     "status": "completed"
    },
    "tags": []
   },
   "outputs": [],
   "source": [
    "market_features = [f for f in BASE_FEATURES if f.startswith('feature_')]"
   ]
  },
  {
   "cell_type": "markdown",
   "id": "a63bdd1e",
   "metadata": {
    "papermill": {
     "duration": 0.007833,
     "end_time": "2024-05-28T01:44:03.141623",
     "exception": false,
     "start_time": "2024-05-28T01:44:03.133790",
     "status": "completed"
    },
    "tags": []
   },
   "source": [
    "# Hyperparameter tuning"
   ]
  },
  {
   "cell_type": "code",
   "execution_count": 9,
   "id": "62b987a4",
   "metadata": {
    "execution": {
     "iopub.execute_input": "2024-05-28T01:44:03.158522Z",
     "iopub.status.busy": "2024-05-28T01:44:03.158258Z",
     "iopub.status.idle": "2024-05-28T01:44:03.161904Z",
     "shell.execute_reply": "2024-05-28T01:44:03.161233Z"
    },
    "papermill": {
     "duration": 0.014144,
     "end_time": "2024-05-28T01:44:03.163734",
     "exception": false,
     "start_time": "2024-05-28T01:44:03.149590",
     "status": "completed"
    },
    "tags": []
   },
   "outputs": [],
   "source": [
    "def comp_metric(y_true, y_pred):\n",
    "    return roc_auc_score(y_true, y_pred)"
   ]
  },
  {
   "cell_type": "code",
   "execution_count": 10,
   "id": "40c3987a",
   "metadata": {
    "execution": {
     "iopub.execute_input": "2024-05-28T01:44:03.180882Z",
     "iopub.status.busy": "2024-05-28T01:44:03.180628Z",
     "iopub.status.idle": "2024-05-28T01:44:03.190813Z",
     "shell.execute_reply": "2024-05-28T01:44:03.190101Z"
    },
    "papermill": {
     "duration": 0.020726,
     "end_time": "2024-05-28T01:44:03.192556",
     "exception": false,
     "start_time": "2024-05-28T01:44:03.171830",
     "status": "completed"
    },
    "tags": []
   },
   "outputs": [],
   "source": [
    "def objective(trial, features, model, folds, seed):\n",
    "    oof_preds = {}\n",
    "    X, y = train[features], train[TARGET]\n",
    "    \n",
    "    param_grid = {\n",
    "#         'learning_rate': trial.suggest_float('learning_rate', 0.01, 0.1, step=0.01),\n",
    "        'max_depth': trial.suggest_int('max_depth', 3, 12),\n",
    "        'min_child_weight': trial.suggest_int('min_child_weight', 2, 64),\n",
    "        'subsample': trial.suggest_float('subsample', 0.6, 1.0, step=0.05),\n",
    "        'colsample_bytree': trial.suggest_float('colsample_bytree', 0.6, 1.0, step=0.05),\n",
    "        'gamma': trial.suggest_float('gamma', 0, 20, step=0.1), #complexity-control\n",
    "        'alpha': trial.suggest_float('alpha', 0, 5, step=0.1), #L1-reg\n",
    "        'lambda': trial.suggest_float('lambda', 5e-3, 5e3, log=True), #L2-reg\n",
    "        'max_cat_to_onehot': trial.suggest_categorical('max_cat_to_onehot', [1, 2, 6]),\n",
    "        'scale_pos_weight': trial.suggest_float('scale_pos_weight', 0.5, 1.5, step=0.05)\n",
    "    }\n",
    "    \n",
    "    cv = StratifiedKFold(n_splits=folds, shuffle=True, random_state=seed)\n",
    "    for fold, (train_ids, val_ids) in enumerate(cv.split(X, y)):\n",
    "        X_train, y_train = X.iloc[train_ids], y.iloc[train_ids]\n",
    "        X_val, y_val = X.iloc[val_ids], y.iloc[val_ids]\n",
    "        \n",
    "        model.set_params(**param_grid)\n",
    "        model.fit(\n",
    "            X_train, y_train,\n",
    "            eval_set=[(X_val, y_val)],\n",
    "            verbose=0)\n",
    "        \n",
    "        val_preds = model.predict_proba(X_val)[:, 1]\n",
    "        oof_preds.update(dict(zip(val_ids, val_preds)))\n",
    "        \n",
    "    oof_preds = pd.Series(oof_preds).sort_index()\n",
    "    return comp_metric(y, oof_preds)"
   ]
  },
  {
   "cell_type": "code",
   "execution_count": 11,
   "id": "5c051b28",
   "metadata": {
    "execution": {
     "iopub.execute_input": "2024-05-28T01:44:03.209983Z",
     "iopub.status.busy": "2024-05-28T01:44:03.209706Z",
     "iopub.status.idle": "2024-05-28T01:44:03.215395Z",
     "shell.execute_reply": "2024-05-28T01:44:03.214619Z"
    },
    "papermill": {
     "duration": 0.01666,
     "end_time": "2024-05-28T01:44:03.217259",
     "exception": false,
     "start_time": "2024-05-28T01:44:03.200599",
     "status": "completed"
    },
    "tags": []
   },
   "outputs": [],
   "source": [
    "def tune_params(features, model, folds, seed, n_trials, direction):\n",
    "    study = optuna.create_study(\n",
    "        sampler=optuna.samplers.TPESampler(\n",
    "            consider_endpoints=True,\n",
    "            multivariate=True,\n",
    "            group=True,\n",
    "            seed=seed),\n",
    "        pruner=optuna.pruners.HyperbandPruner(),\n",
    "        direction=direction)\n",
    "    study.optimize(\n",
    "        func=lambda trial: objective(\n",
    "            trial, features, model, folds, seed),\n",
    "        n_trials=n_trials,\n",
    "        gc_after_trial=True)\n",
    "    \n",
    "    return study"
   ]
  },
  {
   "cell_type": "markdown",
   "id": "dc849fae",
   "metadata": {
    "papermill": {
     "duration": 0.007714,
     "end_time": "2024-05-28T01:44:03.232996",
     "exception": false,
     "start_time": "2024-05-28T01:44:03.225282",
     "status": "completed"
    },
    "tags": []
   },
   "source": [
    "# Cross-validation framework"
   ]
  },
  {
   "cell_type": "code",
   "execution_count": 12,
   "id": "94edafd5",
   "metadata": {
    "execution": {
     "iopub.execute_input": "2024-05-28T01:44:03.250089Z",
     "iopub.status.busy": "2024-05-28T01:44:03.249812Z",
     "iopub.status.idle": "2024-05-28T01:44:03.253858Z",
     "shell.execute_reply": "2024-05-28T01:44:03.252991Z"
    },
    "papermill": {
     "duration": 0.014706,
     "end_time": "2024-05-28T01:44:03.255751",
     "exception": false,
     "start_time": "2024-05-28T01:44:03.241045",
     "status": "completed"
    },
    "tags": []
   },
   "outputs": [],
   "source": [
    "def probs_to_labels(probs, threshold=0.5):\n",
    "    return (probs >= threshold).astype('int')"
   ]
  },
  {
   "cell_type": "code",
   "execution_count": 13,
   "id": "201dda22",
   "metadata": {
    "execution": {
     "iopub.execute_input": "2024-05-28T01:44:03.272800Z",
     "iopub.status.busy": "2024-05-28T01:44:03.272539Z",
     "iopub.status.idle": "2024-05-28T01:44:03.277041Z",
     "shell.execute_reply": "2024-05-28T01:44:03.276249Z"
    },
    "papermill": {
     "duration": 0.015203,
     "end_time": "2024-05-28T01:44:03.278853",
     "exception": false,
     "start_time": "2024-05-28T01:44:03.263650",
     "status": "completed"
    },
    "tags": []
   },
   "outputs": [],
   "source": [
    "def get_best_threshold(y_true, y_probs):\n",
    "    candidates = np.arange(0.001, 0.999, 0.001)\n",
    "    scores = [\n",
    "        f1_score(y_true, probs_to_labels(y_probs, t)) \n",
    "        for t in candidates]\n",
    "    \n",
    "    return candidates[np.argmax(scores)]"
   ]
  },
  {
   "cell_type": "code",
   "execution_count": 14,
   "id": "ff977b8e",
   "metadata": {
    "execution": {
     "iopub.execute_input": "2024-05-28T01:44:03.295943Z",
     "iopub.status.busy": "2024-05-28T01:44:03.295680Z",
     "iopub.status.idle": "2024-05-28T01:44:03.306736Z",
     "shell.execute_reply": "2024-05-28T01:44:03.305875Z"
    },
    "papermill": {
     "duration": 0.021515,
     "end_time": "2024-05-28T01:44:03.308519",
     "exception": false,
     "start_time": "2024-05-28T01:44:03.287004",
     "status": "completed"
    },
    "tags": []
   },
   "outputs": [],
   "source": [
    "def custom_cv(features, model, folds, seed, verbose=True):\n",
    "    oof_preds = {}\n",
    "    test_preds = {}\n",
    "    scores = []\n",
    "    \n",
    "    X, y = train[features], train[TARGET]\n",
    "    X_test = test[features]\n",
    "    \n",
    "    cv = StratifiedKFold(n_splits=folds, shuffle=True, random_state=seed)\n",
    "    for fold, (train_ids, val_ids) in enumerate(cv.split(X, y)):\n",
    "        X_train, y_train = X.iloc[train_ids], y.iloc[train_ids]\n",
    "        X_val, y_val = X.iloc[val_ids], y.iloc[val_ids]\n",
    "        \n",
    "        model.fit(\n",
    "            X_train, y_train,\n",
    "            eval_set=[(X_val, y_val)],\n",
    "            verbose=0)\n",
    "        \n",
    "        val_probs = model.predict_proba(X_val)[:, 1]\n",
    "        best_threshold = get_best_threshold(y_val, val_probs)\n",
    "        val_preds = probs_to_labels(val_probs, best_threshold)\n",
    "        oof_preds.update(dict(zip(val_ids, val_preds)))\n",
    "        \n",
    "        test_probs = model.predict_proba(X_test)[:, 1]\n",
    "        test_preds[f'fold{fold}'] = probs_to_labels(test_probs, best_threshold)\n",
    "        \n",
    "        \n",
    "        f1_best = f1_score(y_val, val_preds)\n",
    "        scores.append(f1_best)\n",
    "        if verbose:\n",
    "            auc = comp_metric(y_val, val_probs)\n",
    "            f1 = f1_score(y_val, probs_to_labels(val_probs, 0.5))\n",
    "            print(f'Fold #{fold}: AUC = {auc:.5f}, F1 @0.5 = {f1: .5f}, F1 @best = {f1_best:.5f}' \\\n",
    "                  f' ({model.best_iteration:>3} rounds, best threshold: {best_threshold:.3f})')\n",
    "            \n",
    "        _ = gc.collect()\n",
    "    \n",
    "    test_preds = pd.DataFrame.from_dict(test_preds)\n",
    "    test_preds['mode'] = test_preds.mode(axis=1)[0].astype('int')  # mode of fold-wise predictions\n",
    "    oof_preds = pd.Series(oof_preds).sort_index()\n",
    "    \n",
    "    print(f'\\nOOF F1 @best: {f1_score(y, oof_preds):.5f}, ' \\\n",
    "          f'Avg F1 @best: {np.mean(scores):.5f} +/- {np.std(scores):.5f}')\n",
    "    \n",
    "    return oof_preds, test_preds"
   ]
  },
  {
   "cell_type": "code",
   "execution_count": 15,
   "id": "582cdc7a",
   "metadata": {
    "execution": {
     "iopub.execute_input": "2024-05-28T01:44:03.325885Z",
     "iopub.status.busy": "2024-05-28T01:44:03.325624Z",
     "iopub.status.idle": "2024-05-28T01:44:03.334051Z",
     "shell.execute_reply": "2024-05-28T01:44:03.333233Z"
    },
    "papermill": {
     "duration": 0.019062,
     "end_time": "2024-05-28T01:44:03.335908",
     "exception": false,
     "start_time": "2024-05-28T01:44:03.316846",
     "status": "completed"
    },
    "tags": []
   },
   "outputs": [],
   "source": [
    "def run_experiment(eval_metric='auc', features=BASE_FEATURES, folds=5, seed=SEED, n_trials=200):\n",
    "    \n",
    "    base_params = {\n",
    "        'booster': 'gbtree',\n",
    "        'tree_method': 'hist',\n",
    "        'objective': 'binary:logistic',\n",
    "        'eval_metric': eval_metric,\n",
    "        'learning_rate': 0.01,\n",
    "        'n_estimators': 1000,\n",
    "        'early_stopping_rounds': 100,\n",
    "#         'scale_pos_weight': (43.23 / 56.77),\n",
    "        'device': DEVICE,\n",
    "        'enable_categorical': True,\n",
    "        'verbosity': 0,\n",
    "        'n_jobs': -1,\n",
    "        'seed': seed\n",
    "    }\n",
    "    model = xgb.XGBClassifier(**base_params)\n",
    "    \n",
    "    start = time.time()\n",
    "    study = tune_params(features, model, folds, seed, n_trials, direction='maximize') \n",
    "    # metric: auc/aucpr/f1_score -> higher is better\n",
    "    end = time.time()\n",
    "    clear_output(wait=True)\n",
    "    print(f'----------Hyperparameter tuning----------')\n",
    "    print(f'Best trial: {study.best_trial.number} -> Best value: {study.best_value:.5f}')\n",
    "    print(f'Best hyperparameters:')\n",
    "    for k, v in study.best_params.items():\n",
    "        print(f'{k:20} - {v}')\n",
    "    print(f'\\n[Time taken: {end - start:.2f}s]\\n')\n",
    "    \n",
    "    print(f'-----Cross-validation and prediction-----')\n",
    "    start = time.time()\n",
    "    \n",
    "    model.set_params(**study.best_params)\n",
    "    oof_preds, test_preds = custom_cv(features, model, folds, seed)\n",
    "    \n",
    "    end = time.time()\n",
    "    print(f'\\n[Time taken: {end - start:.2f}s]\\n')\n",
    "    \n",
    "    return oof_preds, test_preds"
   ]
  },
  {
   "cell_type": "markdown",
   "id": "fd30f38f",
   "metadata": {
    "papermill": {
     "duration": 0.007726,
     "end_time": "2024-05-28T01:44:03.351783",
     "exception": false,
     "start_time": "2024-05-28T01:44:03.344057",
     "status": "completed"
    },
    "tags": []
   },
   "source": [
    "**Submission files**"
   ]
  },
  {
   "cell_type": "code",
   "execution_count": 16,
   "id": "f19884a4",
   "metadata": {
    "execution": {
     "iopub.execute_input": "2024-05-28T01:44:03.368763Z",
     "iopub.status.busy": "2024-05-28T01:44:03.368500Z",
     "iopub.status.idle": "2024-05-28T01:44:03.372989Z",
     "shell.execute_reply": "2024-05-28T01:44:03.372116Z"
    },
    "papermill": {
     "duration": 0.015261,
     "end_time": "2024-05-28T01:44:03.374974",
     "exception": false,
     "start_time": "2024-05-28T01:44:03.359713",
     "status": "completed"
    },
    "tags": []
   },
   "outputs": [],
   "source": [
    "def create_submission_files(preds, config, notebook='04'):\n",
    "    sub = sample_sub.copy()\n",
    "    sub[TARGET] = preds['mode']\n",
    "    sub.to_csv(f'nb{notebook}_{config}.csv', index=False)"
   ]
  },
  {
   "cell_type": "code",
   "execution_count": 17,
   "id": "d6951569",
   "metadata": {
    "execution": {
     "iopub.execute_input": "2024-05-28T01:44:03.392054Z",
     "iopub.status.busy": "2024-05-28T01:44:03.391789Z",
     "iopub.status.idle": "2024-05-28T01:44:03.395458Z",
     "shell.execute_reply": "2024-05-28T01:44:03.394672Z"
    },
    "papermill": {
     "duration": 0.014257,
     "end_time": "2024-05-28T01:44:03.397313",
     "exception": false,
     "start_time": "2024-05-28T01:44:03.383056",
     "status": "completed"
    },
    "tags": []
   },
   "outputs": [],
   "source": [
    "op = {}  # OOF predictions\n",
    "tp = {}  # Test predictions"
   ]
  },
  {
   "cell_type": "markdown",
   "id": "e97c4599",
   "metadata": {
    "papermill": {
     "duration": 0.007831,
     "end_time": "2024-05-28T01:44:03.413253",
     "exception": false,
     "start_time": "2024-05-28T01:44:03.405422",
     "status": "completed"
    },
    "tags": []
   },
   "source": [
    "Trial run:"
   ]
  },
  {
   "cell_type": "code",
   "execution_count": 18,
   "id": "cd12022f",
   "metadata": {
    "execution": {
     "iopub.execute_input": "2024-05-28T01:44:03.430127Z",
     "iopub.status.busy": "2024-05-28T01:44:03.429878Z",
     "iopub.status.idle": "2024-05-28T01:44:25.026520Z",
     "shell.execute_reply": "2024-05-28T01:44:25.025245Z"
    },
    "papermill": {
     "duration": 21.607308,
     "end_time": "2024-05-28T01:44:25.028462",
     "exception": false,
     "start_time": "2024-05-28T01:44:03.421154",
     "status": "completed"
    },
    "tags": []
   },
   "outputs": [
    {
     "name": "stdout",
     "output_type": "stream",
     "text": [
      "----------Hyperparameter tuning----------\n",
      "Best trial: 2 -> Best value: 0.62580\n",
      "Best hyperparameters:\n",
      "max_depth            - 12\n",
      "min_child_weight     - 17\n",
      "subsample            - 0.7\n",
      "colsample_bytree     - 0.9\n",
      "gamma                - 16.0\n",
      "alpha                - 2.7\n",
      "lambda               - 0.9890443998013065\n",
      "max_cat_to_onehot    - 6\n",
      "scale_pos_weight     - 0.75\n",
      "\n",
      "[Time taken: 9.51s]\n",
      "\n",
      "-----Cross-validation and prediction-----\n",
      "Fold #0: AUC = 0.62839, F1 @0.5 =  0.39524, F1 @best = 0.73935 ( 51 rounds, best threshold: 0.444)\n",
      "Fold #1: AUC = 0.65571, F1 @0.5 =  0.37905, F1 @best = 0.73504 (106 rounds, best threshold: 0.486)\n",
      "Fold #2: AUC = 0.67492, F1 @0.5 =  0.35714, F1 @best = 0.74900 ( 64 rounds, best threshold: 0.454)\n",
      "Fold #3: AUC = 0.62411, F1 @0.5 =  0.66769, F1 @best = 0.72422 ( 87 rounds, best threshold: 0.001)\n",
      "Fold #4: AUC = 0.63784, F1 @0.5 =  0.68389, F1 @best = 0.72638 ( 58 rounds, best threshold: 0.434)\n",
      "\n",
      "OOF F1 @best: 0.73450, Avg F1 @best: 0.73480 +/- 0.00900\n",
      "\n",
      "[Time taken: 12.08s]\n",
      "\n"
     ]
    }
   ],
   "source": [
    "optuna.logging.set_verbosity(optuna.logging.INFO)\n",
    "_ , _ = run_experiment(n_trials=3)"
   ]
  },
  {
   "cell_type": "markdown",
   "id": "997bf8a8",
   "metadata": {
    "papermill": {
     "duration": 0.00836,
     "end_time": "2024-05-28T01:44:25.045748",
     "exception": false,
     "start_time": "2024-05-28T01:44:25.037388",
     "status": "completed"
    },
    "tags": []
   },
   "source": [
    "# Experiments"
   ]
  },
  {
   "cell_type": "code",
   "execution_count": 19,
   "id": "3e623a23",
   "metadata": {
    "execution": {
     "iopub.execute_input": "2024-05-28T01:44:25.064157Z",
     "iopub.status.busy": "2024-05-28T01:44:25.063842Z",
     "iopub.status.idle": "2024-05-28T02:30:31.170085Z",
     "shell.execute_reply": "2024-05-28T02:30:31.169010Z"
    },
    "papermill": {
     "duration": 2766.117988,
     "end_time": "2024-05-28T02:30:31.172222",
     "exception": false,
     "start_time": "2024-05-28T01:44:25.054234",
     "status": "completed"
    },
    "tags": []
   },
   "outputs": [
    {
     "name": "stdout",
     "output_type": "stream",
     "text": [
      "----------Hyperparameter tuning----------\n",
      "Best trial: 160 -> Best value: 0.80364\n",
      "Best hyperparameters:\n",
      "max_depth            - 12\n",
      "min_child_weight     - 2\n",
      "subsample            - 0.95\n",
      "colsample_bytree     - 1.0\n",
      "gamma                - 0.5\n",
      "alpha                - 0.1\n",
      "lambda               - 0.2356584595440954\n",
      "max_cat_to_onehot    - 1\n",
      "scale_pos_weight     - 1.15\n",
      "\n",
      "[Time taken: 2726.78s]\n",
      "\n",
      "-----Cross-validation and prediction-----\n",
      "Fold #0: AUC = 0.82836, F1 @0.5 =  0.79755, F1 @best = 0.81009 (381 rounds, best threshold: 0.450)\n",
      "Fold #1: AUC = 0.82489, F1 @0.5 =  0.78222, F1 @best = 0.80109 (335 rounds, best threshold: 0.386)\n",
      "Fold #2: AUC = 0.79489, F1 @0.5 =  0.78455, F1 @best = 0.78697 (281 rounds, best threshold: 0.367)\n",
      "Fold #3: AUC = 0.77730, F1 @0.5 =  0.74320, F1 @best = 0.77792 (345 rounds, best threshold: 0.300)\n",
      "Fold #4: AUC = 0.79542, F1 @0.5 =  0.75455, F1 @best = 0.77524 (479 rounds, best threshold: 0.341)\n",
      "\n",
      "OOF F1 @best: 0.78981, Avg F1 @best: 0.79026 +/- 0.01341\n",
      "\n",
      "[Time taken: 39.32s]\n",
      "\n",
      "CPU times: user 50min 34s, sys: 8.84 s, total: 50min 43s\n",
      "Wall time: 46min 6s\n"
     ]
    }
   ],
   "source": [
    "%%time\n",
    "eval_metric = 'auc'\n",
    "feature_set = 'BASE'\n",
    "folds = 5\n",
    "seed = SEED\n",
    "config = f'eval{eval_metric.upper()}_feat{feature_set}_folds{folds}_seed{seed}'\n",
    "\n",
    "op[config], tp[config] = run_experiment(\n",
    "    eval_metric=eval_metric,\n",
    "    features=BASE_FEATURES,\n",
    "    folds=folds, \n",
    "    seed=seed)\n",
    "\n",
    "create_submission_files(tp[config], config)"
   ]
  },
  {
   "cell_type": "code",
   "execution_count": 20,
   "id": "594beb52",
   "metadata": {
    "execution": {
     "iopub.execute_input": "2024-05-28T02:30:31.192037Z",
     "iopub.status.busy": "2024-05-28T02:30:31.191720Z",
     "iopub.status.idle": "2024-05-28T03:18:16.087754Z",
     "shell.execute_reply": "2024-05-28T03:18:16.086850Z"
    },
    "papermill": {
     "duration": 2864.917872,
     "end_time": "2024-05-28T03:18:16.099429",
     "exception": false,
     "start_time": "2024-05-28T02:30:31.181557",
     "status": "completed"
    },
    "tags": []
   },
   "outputs": [
    {
     "name": "stdout",
     "output_type": "stream",
     "text": [
      "----------Hyperparameter tuning----------\n",
      "Best trial: 150 -> Best value: 0.79803\n",
      "Best hyperparameters:\n",
      "max_depth            - 12\n",
      "min_child_weight     - 4\n",
      "subsample            - 0.95\n",
      "colsample_bytree     - 0.7\n",
      "gamma                - 0.0\n",
      "alpha                - 0.30000000000000004\n",
      "lambda               - 0.02322180676976179\n",
      "max_cat_to_onehot    - 2\n",
      "scale_pos_weight     - 0.8500000000000001\n",
      "\n",
      "[Time taken: 2820.31s]\n",
      "\n",
      "-----Cross-validation and prediction-----\n",
      "Fold #0: AUC = 0.83118, F1 @0.5 =  0.77796, F1 @best = 0.80290 (496 rounds, best threshold: 0.386)\n",
      "Fold #1: AUC = 0.81948, F1 @0.5 =  0.76656, F1 @best = 0.79614 (493 rounds, best threshold: 0.379)\n",
      "Fold #2: AUC = 0.79529, F1 @0.5 =  0.75329, F1 @best = 0.78680 (520 rounds, best threshold: 0.342)\n",
      "Fold #3: AUC = 0.76214, F1 @0.5 =  0.71242, F1 @best = 0.77124 (665 rounds, best threshold: 0.247)\n",
      "Fold #4: AUC = 0.79126, F1 @0.5 =  0.75520, F1 @best = 0.76923 (388 rounds, best threshold: 0.358)\n",
      "\n",
      "OOF F1 @best: 0.78487, Avg F1 @best: 0.78526 +/- 0.01331\n",
      "\n",
      "[Time taken: 44.57s]\n",
      "\n",
      "CPU times: user 52min 7s, sys: 8.57 s, total: 52min 15s\n",
      "Wall time: 47min 44s\n"
     ]
    }
   ],
   "source": [
    "%%time\n",
    "eval_metric = 'aucpr'\n",
    "feature_set = 'BASE'\n",
    "folds = 5\n",
    "seed = SEED\n",
    "config = f'eval{eval_metric.upper()}_feat{feature_set}_folds{folds}_seed{seed}'\n",
    "\n",
    "op[config], tp[config] = run_experiment(\n",
    "    eval_metric=eval_metric,\n",
    "    features=BASE_FEATURES,\n",
    "    folds=folds, \n",
    "    seed=seed)\n",
    "\n",
    "create_submission_files(tp[config], config)"
   ]
  },
  {
   "cell_type": "code",
   "execution_count": 21,
   "id": "340a2083",
   "metadata": {
    "execution": {
     "iopub.execute_input": "2024-05-28T03:18:16.120184Z",
     "iopub.status.busy": "2024-05-28T03:18:16.119334Z",
     "iopub.status.idle": "2024-05-28T04:11:13.435776Z",
     "shell.execute_reply": "2024-05-28T04:11:13.434782Z"
    },
    "papermill": {
     "duration": 3177.339163,
     "end_time": "2024-05-28T04:11:13.448096",
     "exception": false,
     "start_time": "2024-05-28T03:18:16.108933",
     "status": "completed"
    },
    "tags": []
   },
   "outputs": [
    {
     "name": "stdout",
     "output_type": "stream",
     "text": [
      "----------Hyperparameter tuning----------\n",
      "Best trial: 112 -> Best value: 0.80477\n",
      "Best hyperparameters:\n",
      "max_depth            - 11\n",
      "min_child_weight     - 2\n",
      "subsample            - 0.95\n",
      "colsample_bytree     - 0.85\n",
      "gamma                - 0.4\n",
      "alpha                - 0.8\n",
      "lambda               - 0.08478755463963011\n",
      "max_cat_to_onehot    - 2\n",
      "scale_pos_weight     - 1.3\n",
      "\n",
      "[Time taken: 3140.05s]\n",
      "\n",
      "-----Cross-validation and prediction-----\n",
      "Fold #0: AUC = 0.82974, F1 @0.5 =  0.80775, F1 @best = 0.80952 (321 rounds, best threshold: 0.496)\n",
      "Fold #1: AUC = 0.82390, F1 @0.5 =  0.79886, F1 @best = 0.80668 (322 rounds, best threshold: 0.467)\n",
      "Fold #2: AUC = 0.79643, F1 @0.5 =  0.77485, F1 @best = 0.78378 (332 rounds, best threshold: 0.525)\n",
      "Fold #3: AUC = 0.77661, F1 @0.5 =  0.76968, F1 @best = 0.77714 (320 rounds, best threshold: 0.476)\n",
      "Fold #4: AUC = 0.80062, F1 @0.5 =  0.75780, F1 @best = 0.77657 (544 rounds, best threshold: 0.387)\n",
      "\n",
      "OOF F1 @best: 0.79060, Avg F1 @best: 0.79074 +/- 0.01443\n",
      "\n",
      "[Time taken: 37.25s]\n",
      "\n",
      "CPU times: user 57min 24s, sys: 9.21 s, total: 57min 33s\n",
      "Wall time: 52min 57s\n"
     ]
    }
   ],
   "source": [
    "%%time\n",
    "eval_metric = 'auc'\n",
    "feature_set = 'MRKT'\n",
    "folds = 5\n",
    "seed = SEED\n",
    "config = f'eval{eval_metric.upper()}_feat{feature_set}_folds{folds}_seed{seed}'\n",
    "\n",
    "op[config], tp[config] = run_experiment(\n",
    "    eval_metric=eval_metric,\n",
    "    features=market_features,\n",
    "    folds=folds, \n",
    "    seed=seed)\n",
    "\n",
    "create_submission_files(tp[config], config)"
   ]
  },
  {
   "cell_type": "code",
   "execution_count": 22,
   "id": "b28b8e97",
   "metadata": {
    "execution": {
     "iopub.execute_input": "2024-05-28T04:11:13.469507Z",
     "iopub.status.busy": "2024-05-28T04:11:13.469202Z",
     "iopub.status.idle": "2024-05-28T05:05:02.166103Z",
     "shell.execute_reply": "2024-05-28T05:05:02.165226Z"
    },
    "papermill": {
     "duration": 3228.71032,
     "end_time": "2024-05-28T05:05:02.168499",
     "exception": false,
     "start_time": "2024-05-28T04:11:13.458179",
     "status": "completed"
    },
    "tags": []
   },
   "outputs": [
    {
     "name": "stdout",
     "output_type": "stream",
     "text": [
      "----------Hyperparameter tuning----------\n",
      "Best trial: 180 -> Best value: 0.80145\n",
      "Best hyperparameters:\n",
      "max_depth            - 10\n",
      "min_child_weight     - 2\n",
      "subsample            - 0.9\n",
      "colsample_bytree     - 0.75\n",
      "gamma                - 0.2\n",
      "alpha                - 0.2\n",
      "lambda               - 0.4192195606443289\n",
      "max_cat_to_onehot    - 1\n",
      "scale_pos_weight     - 1.25\n",
      "\n",
      "[Time taken: 3189.34s]\n",
      "\n",
      "-----Cross-validation and prediction-----\n",
      "Fold #0: AUC = 0.82627, F1 @0.5 =  0.80120, F1 @best = 0.80519 (353 rounds, best threshold: 0.458)\n",
      "Fold #1: AUC = 0.82312, F1 @0.5 =  0.79480, F1 @best = 0.80614 (464 rounds, best threshold: 0.461)\n",
      "Fold #2: AUC = 0.79401, F1 @0.5 =  0.78499, F1 @best = 0.78904 (320 rounds, best threshold: 0.427)\n",
      "Fold #3: AUC = 0.76955, F1 @0.5 =  0.74854, F1 @best = 0.78411 (327 rounds, best threshold: 0.349)\n",
      "Fold #4: AUC = 0.79886, F1 @0.5 =  0.75188, F1 @best = 0.77188 (773 rounds, best threshold: 0.297)\n",
      "\n",
      "OOF F1 @best: 0.79090, Avg F1 @best: 0.79127 +/- 0.01302\n",
      "\n",
      "[Time taken: 39.35s]\n",
      "\n",
      "CPU times: user 58min 16s, sys: 9.16 s, total: 58min 25s\n",
      "Wall time: 53min 48s\n"
     ]
    }
   ],
   "source": [
    "%%time\n",
    "eval_metric = 'aucpr'\n",
    "feature_set = 'MRKT'\n",
    "folds = 5\n",
    "seed = SEED\n",
    "config = f'eval{eval_metric.upper()}_feat{feature_set}_folds{folds}_seed{seed}'\n",
    "\n",
    "op[config], tp[config] = run_experiment(\n",
    "    eval_metric=eval_metric,\n",
    "    features=market_features,\n",
    "    folds=folds, \n",
    "    seed=seed)\n",
    "\n",
    "create_submission_files(tp[config], config)"
   ]
  },
  {
   "cell_type": "code",
   "execution_count": 23,
   "id": "39da53fc",
   "metadata": {
    "execution": {
     "iopub.execute_input": "2024-05-28T05:05:02.191290Z",
     "iopub.status.busy": "2024-05-28T05:05:02.190954Z",
     "iopub.status.idle": "2024-05-28T05:58:17.433139Z",
     "shell.execute_reply": "2024-05-28T05:58:17.432235Z"
    },
    "papermill": {
     "duration": 3195.267332,
     "end_time": "2024-05-28T05:58:17.446758",
     "exception": false,
     "start_time": "2024-05-28T05:05:02.179426",
     "status": "completed"
    },
    "tags": []
   },
   "outputs": [
    {
     "name": "stdout",
     "output_type": "stream",
     "text": [
      "----------Hyperparameter tuning----------\n",
      "Best trial: 152 -> Best value: 0.80624\n",
      "Best hyperparameters:\n",
      "max_depth            - 8\n",
      "min_child_weight     - 2\n",
      "subsample            - 1.0\n",
      "colsample_bytree     - 0.6\n",
      "gamma                - 0.4\n",
      "alpha                - 0.0\n",
      "lambda               - 0.008744495514163888\n",
      "max_cat_to_onehot    - 1\n",
      "scale_pos_weight     - 0.95\n",
      "\n",
      "[Time taken: 3164.51s]\n",
      "\n",
      "-----Cross-validation and prediction-----\n",
      "Fold #0: AUC = 0.82032, F1 @0.5 =  0.78684, F1 @best = 0.79635 (203 rounds, best threshold: 0.537)\n",
      "Fold #1: AUC = 0.80131, F1 @0.5 =  0.75851, F1 @best = 0.79888 (564 rounds, best threshold: 0.369)\n",
      "Fold #2: AUC = 0.81465, F1 @0.5 =  0.77895, F1 @best = 0.79096 (214 rounds, best threshold: 0.442)\n",
      "Fold #3: AUC = 0.82276, F1 @0.5 =  0.77691, F1 @best = 0.80580 (370 rounds, best threshold: 0.435)\n",
      "Fold #4: AUC = 0.79755, F1 @0.5 =  0.76543, F1 @best = 0.77616 (678 rounds, best threshold: 0.305)\n",
      "\n",
      "OOF F1 @best: 0.79331, Avg F1 @best: 0.79363 +/- 0.00995\n",
      "\n",
      "[Time taken: 30.72s]\n",
      "\n",
      "CPU times: user 57min 37s, sys: 9.04 s, total: 57min 46s\n",
      "Wall time: 53min 15s\n"
     ]
    }
   ],
   "source": [
    "%%time\n",
    "eval_metric = 'aucpr'\n",
    "feature_set = 'MRKT'\n",
    "folds = 5\n",
    "seed = 808\n",
    "config = f'eval{eval_metric.upper()}_feat{feature_set}_folds{folds}_seed{seed}'\n",
    "\n",
    "op[config], tp[config] = run_experiment(\n",
    "    eval_metric=eval_metric,\n",
    "    features=market_features,\n",
    "    folds=folds, \n",
    "    seed=seed)\n",
    "\n",
    "create_submission_files(tp[config], config)"
   ]
  },
  {
   "cell_type": "code",
   "execution_count": 24,
   "id": "c229008a",
   "metadata": {
    "execution": {
     "iopub.execute_input": "2024-05-28T05:58:17.470050Z",
     "iopub.status.busy": "2024-05-28T05:58:17.469731Z",
     "iopub.status.idle": "2024-05-28T07:00:16.802521Z",
     "shell.execute_reply": "2024-05-28T07:00:16.801378Z"
    },
    "papermill": {
     "duration": 3719.346969,
     "end_time": "2024-05-28T07:00:16.804703",
     "exception": false,
     "start_time": "2024-05-28T05:58:17.457734",
     "status": "completed"
    },
    "tags": []
   },
   "outputs": [
    {
     "name": "stdout",
     "output_type": "stream",
     "text": [
      "----------Hyperparameter tuning----------\n",
      "Best trial: 126 -> Best value: 0.81367\n",
      "Best hyperparameters:\n",
      "max_depth            - 12\n",
      "min_child_weight     - 3\n",
      "subsample            - 0.9\n",
      "colsample_bytree     - 0.8\n",
      "gamma                - 0.8\n",
      "alpha                - 0.5\n",
      "lambda               - 0.01033338273929496\n",
      "max_cat_to_onehot    - 6\n",
      "scale_pos_weight     - 0.9\n",
      "\n",
      "[Time taken: 3690.48s]\n",
      "\n",
      "-----Cross-validation and prediction-----\n",
      "Fold #0: AUC = 0.87095, F1 @0.5 =  0.80556, F1 @best = 0.83156 (389 rounds, best threshold: 0.449)\n",
      "Fold #1: AUC = 0.77646, F1 @0.5 =  0.76231, F1 @best = 0.78835 (161 rounds, best threshold: 0.416)\n",
      "Fold #2: AUC = 0.83954, F1 @0.5 =  0.78959, F1 @best = 0.80608 (258 rounds, best threshold: 0.367)\n",
      "Fold #3: AUC = 0.82450, F1 @0.5 =  0.77263, F1 @best = 0.79619 (282 rounds, best threshold: 0.361)\n",
      "Fold #4: AUC = 0.79398, F1 @0.5 =  0.75785, F1 @best = 0.78491 (364 rounds, best threshold: 0.317)\n",
      "Fold #5: AUC = 0.77501, F1 @0.5 =  0.71163, F1 @best = 0.76983 (472 rounds, best threshold: 0.336)\n",
      "Fold #6: AUC = 0.82345, F1 @0.5 =  0.77434, F1 @best = 0.80233 (507 rounds, best threshold: 0.376)\n",
      "\n",
      "OOF F1 @best: 0.79655, Avg F1 @best: 0.79703 +/- 0.01799\n",
      "\n",
      "[Time taken: 28.84s]\n",
      "\n",
      "CPU times: user 1h 8min 5s, sys: 11.6 s, total: 1h 8min 17s\n",
      "Wall time: 1h 1min 59s\n"
     ]
    }
   ],
   "source": [
    "%%time\n",
    "eval_metric = 'aucpr'\n",
    "feature_set = 'MRKT'\n",
    "folds = 7\n",
    "seed = SEED\n",
    "config = f'eval{eval_metric.upper()}_feat{feature_set}_folds{folds}_seed{seed}'\n",
    "\n",
    "op[config], tp[config] = run_experiment(\n",
    "    eval_metric=eval_metric,\n",
    "    features=market_features,\n",
    "    folds=folds, \n",
    "    seed=seed)\n",
    "\n",
    "create_submission_files(tp[config], config)"
   ]
  },
  {
   "cell_type": "code",
   "execution_count": 25,
   "id": "ddd54fdd",
   "metadata": {
    "execution": {
     "iopub.execute_input": "2024-05-28T07:00:16.829923Z",
     "iopub.status.busy": "2024-05-28T07:00:16.829623Z",
     "iopub.status.idle": "2024-05-28T08:25:24.962154Z",
     "shell.execute_reply": "2024-05-28T08:25:24.961037Z"
    },
    "papermill": {
     "duration": 5108.147357,
     "end_time": "2024-05-28T08:25:24.964160",
     "exception": false,
     "start_time": "2024-05-28T07:00:16.816803",
     "status": "completed"
    },
    "tags": []
   },
   "outputs": [
    {
     "name": "stdout",
     "output_type": "stream",
     "text": [
      "----------Hyperparameter tuning----------\n",
      "Best trial: 122 -> Best value: 0.81466\n",
      "Best hyperparameters:\n",
      "max_depth            - 12\n",
      "min_child_weight     - 3\n",
      "subsample            - 0.95\n",
      "colsample_bytree     - 0.9\n",
      "gamma                - 0.4\n",
      "alpha                - 0.2\n",
      "lambda               - 0.08371954962359997\n",
      "max_cat_to_onehot    - 1\n",
      "scale_pos_weight     - 1.4500000000000002\n",
      "\n",
      "[Time taken: 5035.66s]\n",
      "\n",
      "-----Cross-validation and prediction-----\n",
      "Fold #0: AUC = 0.85799, F1 @0.5 =  0.80851, F1 @best = 0.82799 (512 rounds, best threshold: 0.448)\n",
      "Fold #1: AUC = 0.83899, F1 @0.5 =  0.79202, F1 @best = 0.81553 (155 rounds, best threshold: 0.624)\n",
      "Fold #2: AUC = 0.81676, F1 @0.5 =  0.79452, F1 @best = 0.80109 (152 rounds, best threshold: 0.494)\n",
      "Fold #3: AUC = 0.84331, F1 @0.5 =  0.82486, F1 @best = 0.82486 (216 rounds, best threshold: 0.487)\n",
      "Fold #4: AUC = 0.83945, F1 @0.5 =  0.80115, F1 @best = 0.80347 (319 rounds, best threshold: 0.503)\n",
      "Fold #5: AUC = 0.81515, F1 @0.5 =  0.79656, F1 @best = 0.80000 (254 rounds, best threshold: 0.482)\n",
      "Fold #6: AUC = 0.77875, F1 @0.5 =  0.76000, F1 @best = 0.79032 (333 rounds, best threshold: 0.403)\n",
      "Fold #7: AUC = 0.79084, F1 @0.5 =  0.76522, F1 @best = 0.78167 (326 rounds, best threshold: 0.375)\n",
      "Fold #8: AUC = 0.78226, F1 @0.5 =  0.74233, F1 @best = 0.79467 (556 rounds, best threshold: 0.341)\n",
      "Fold #9: AUC = 0.82971, F1 @0.5 =  0.78992, F1 @best = 0.79661 (456 rounds, best threshold: 0.506)\n",
      "\n",
      "OOF F1 @best: 0.80316, Avg F1 @best: 0.80362 +/- 0.01412\n",
      "\n",
      "[Time taken: 72.47s]\n",
      "\n",
      "CPU times: user 1h 33min 52s, sys: 16.4 s, total: 1h 34min 8s\n",
      "Wall time: 1h 25min 8s\n"
     ]
    }
   ],
   "source": [
    "%%time\n",
    "eval_metric = 'aucpr'\n",
    "feature_set = 'MRKT'\n",
    "folds = 10\n",
    "seed = SEED\n",
    "config = f'eval{eval_metric.upper()}_feat{feature_set}_folds{folds}_seed{seed}'\n",
    "\n",
    "op[config], tp[config] = run_experiment(\n",
    "    eval_metric=eval_metric,\n",
    "    features=market_features,\n",
    "    folds=folds, \n",
    "    seed=seed)\n",
    "\n",
    "create_submission_files(tp[config], config)"
   ]
  }
 ],
 "metadata": {
  "kaggle": {
   "accelerator": "gpu",
   "dataSources": [
    {
     "datasetId": 4749181,
     "sourceId": 8052859,
     "sourceType": "datasetVersion"
    }
   ],
   "dockerImageVersionId": 30699,
   "isGpuEnabled": true,
   "isInternetEnabled": true,
   "language": "python",
   "sourceType": "notebook"
  },
  "kernelspec": {
   "display_name": "Python 3",
   "language": "python",
   "name": "python3"
  },
  "language_info": {
   "codemirror_mode": {
    "name": "ipython",
    "version": 3
   },
   "file_extension": ".py",
   "mimetype": "text/x-python",
   "name": "python",
   "nbconvert_exporter": "python",
   "pygments_lexer": "ipython3",
   "version": "3.10.13"
  },
  "papermill": {
   "default_parameters": {},
   "duration": 24087.904433,
   "end_time": "2024-05-28T08:25:25.548857",
   "environment_variables": {},
   "exception": null,
   "input_path": "__notebook__.ipynb",
   "output_path": "__notebook__.ipynb",
   "parameters": {},
   "start_time": "2024-05-28T01:43:57.644424",
   "version": "2.5.0"
  }
 },
 "nbformat": 4,
 "nbformat_minor": 5
}
