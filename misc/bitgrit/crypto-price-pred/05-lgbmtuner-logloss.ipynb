{
 "cells": [
  {
   "cell_type": "markdown",
   "id": "b8174550",
   "metadata": {
    "papermill": {
     "duration": 0.008064,
     "end_time": "2024-05-29T15:18:50.894909",
     "exception": false,
     "start_time": "2024-05-29T15:18:50.886845",
     "status": "completed"
    },
    "tags": []
   },
   "source": [
    "# Setup"
   ]
  },
  {
   "cell_type": "code",
   "execution_count": 1,
   "id": "a8d60c27",
   "metadata": {
    "execution": {
     "iopub.execute_input": "2024-05-29T15:18:50.912401Z",
     "iopub.status.busy": "2024-05-29T15:18:50.911987Z",
     "iopub.status.idle": "2024-05-29T15:19:07.819609Z",
     "shell.execute_reply": "2024-05-29T15:19:07.818188Z"
    },
    "papermill": {
     "duration": 16.919836,
     "end_time": "2024-05-29T15:19:07.822676",
     "exception": false,
     "start_time": "2024-05-29T15:18:50.902840",
     "status": "completed"
    },
    "tags": []
   },
   "outputs": [],
   "source": [
    "%%capture\n",
    "!pip install --upgrade optuna_integration"
   ]
  },
  {
   "cell_type": "code",
   "execution_count": 2,
   "id": "81529f19",
   "metadata": {
    "_cell_guid": "b1076dfc-b9ad-4769-8c92-a6c4dae69d19",
    "_uuid": "8f2839f25d086af736a60e9eeb907d3b93b6e0e5",
    "execution": {
     "iopub.execute_input": "2024-05-29T15:19:07.840203Z",
     "iopub.status.busy": "2024-05-29T15:19:07.839747Z",
     "iopub.status.idle": "2024-05-29T15:19:11.911645Z",
     "shell.execute_reply": "2024-05-29T15:19:11.910380Z"
    },
    "papermill": {
     "duration": 4.084448,
     "end_time": "2024-05-29T15:19:11.914951",
     "exception": false,
     "start_time": "2024-05-29T15:19:07.830503",
     "status": "completed"
    },
    "tags": []
   },
   "outputs": [],
   "source": [
    "import gc\n",
    "gc.enable()\n",
    "\n",
    "import warnings\n",
    "warnings.filterwarnings('ignore')\n",
    "\n",
    "import numpy as np\n",
    "import pandas as pd\n",
    "pd.set_option('display.max_columns', None)\n",
    "\n",
    "import optuna.integration.lightgbm as lgb\n",
    "from sklearn.model_selection import StratifiedKFold\n",
    "from sklearn.metrics import f1_score, roc_auc_score\n",
    "from sklearn.base import clone\n",
    "from lightgbm import LGBMClassifier\n",
    "\n",
    "SEED = 2024"
   ]
  },
  {
   "cell_type": "code",
   "execution_count": 3,
   "id": "9db2c448",
   "metadata": {
    "execution": {
     "iopub.execute_input": "2024-05-29T15:19:11.932846Z",
     "iopub.status.busy": "2024-05-29T15:19:11.932212Z",
     "iopub.status.idle": "2024-05-29T15:19:12.049357Z",
     "shell.execute_reply": "2024-05-29T15:19:12.048185Z"
    },
    "papermill": {
     "duration": 0.129474,
     "end_time": "2024-05-29T15:19:12.052125",
     "exception": false,
     "start_time": "2024-05-29T15:19:11.922651",
     "status": "completed"
    },
    "tags": []
   },
   "outputs": [],
   "source": [
    "DATA_DIR = '/kaggle/input/bitgrit-crypto-price-prediction'\n",
    "\n",
    "train = pd.read_csv(f'{DATA_DIR}/train.csv')\n",
    "test = pd.read_csv(f'{DATA_DIR}/test.csv')\n",
    "sample_sub = pd.read_csv(f'{DATA_DIR}/solution_format.csv')"
   ]
  },
  {
   "cell_type": "markdown",
   "id": "73713355",
   "metadata": {
    "papermill": {
     "duration": 0.007286,
     "end_time": "2024-05-29T15:19:12.067145",
     "exception": false,
     "start_time": "2024-05-29T15:19:12.059859",
     "status": "completed"
    },
    "tags": []
   },
   "source": [
    "# Data preparation"
   ]
  },
  {
   "cell_type": "code",
   "execution_count": 4,
   "id": "a212ddf4",
   "metadata": {
    "execution": {
     "iopub.execute_input": "2024-05-29T15:19:12.084408Z",
     "iopub.status.busy": "2024-05-29T15:19:12.083965Z",
     "iopub.status.idle": "2024-05-29T15:19:12.089541Z",
     "shell.execute_reply": "2024-05-29T15:19:12.088186Z"
    },
    "papermill": {
     "duration": 0.01722,
     "end_time": "2024-05-29T15:19:12.092075",
     "exception": false,
     "start_time": "2024-05-29T15:19:12.074855",
     "status": "completed"
    },
    "tags": []
   },
   "outputs": [],
   "source": [
    "TARGET = 'Target'"
   ]
  },
  {
   "cell_type": "code",
   "execution_count": 5,
   "id": "0170dd33",
   "metadata": {
    "execution": {
     "iopub.execute_input": "2024-05-29T15:19:12.110126Z",
     "iopub.status.busy": "2024-05-29T15:19:12.109704Z",
     "iopub.status.idle": "2024-05-29T15:19:12.116803Z",
     "shell.execute_reply": "2024-05-29T15:19:12.115233Z"
    },
    "papermill": {
     "duration": 0.019134,
     "end_time": "2024-05-29T15:19:12.119321",
     "exception": false,
     "start_time": "2024-05-29T15:19:12.100187",
     "status": "completed"
    },
    "tags": []
   },
   "outputs": [],
   "source": [
    "feats_A = [f'feature_{i}_A' for i in range(1, 10)]\n",
    "feats_F = [f'feature_{i}_F' for i in range(1, 10)]\n",
    "\n",
    "CAT_FEATURES = [\n",
    "    'TR_1_EventInd', 'TR_2_EventInd', 'TR_3_EventInd', 'feature_X_A',\n",
    "    'feature_10_A', 'feature_10_F_missing', 'feature_10_G'\n",
    "] + feats_A + feats_F"
   ]
  },
  {
   "cell_type": "code",
   "execution_count": 6,
   "id": "bd823fed",
   "metadata": {
    "execution": {
     "iopub.execute_input": "2024-05-29T15:19:12.136217Z",
     "iopub.status.busy": "2024-05-29T15:19:12.135814Z",
     "iopub.status.idle": "2024-05-29T15:19:12.170831Z",
     "shell.execute_reply": "2024-05-29T15:19:12.169838Z"
    },
    "papermill": {
     "duration": 0.04657,
     "end_time": "2024-05-29T15:19:12.173516",
     "exception": false,
     "start_time": "2024-05-29T15:19:12.126946",
     "status": "completed"
    },
    "tags": []
   },
   "outputs": [],
   "source": [
    "def preprocess_data(df):\n",
    "    fill_zero_cols = ['TR_1_EventInd', 'TR_2_EventInd', 'TR_3_EventInd']\n",
    "    df[fill_zero_cols] = df[fill_zero_cols].fillna(0).astype('int')\n",
    "    \n",
    "#     fill_neg1_cols = ['index_1', 'index_2', 'index_3']\n",
    "#     df[fill_neg1_cols] = df[fill_neg1_cols].fillna(-1).astype('int')\n",
    "    \n",
    "    df['feature_10_F_missing'] = df.feature_10_F.isna().astype('int')\n",
    "    df['feats_A_sum'] = df[feats_A].sum(axis=1)\n",
    "    df['feats_F_sum'] = df[feats_F].sum(axis=1)\n",
    "    \n",
    "    return df\n",
    "\n",
    "\n",
    "train = preprocess_data(train.copy())\n",
    "test = preprocess_data(test.copy())"
   ]
  },
  {
   "cell_type": "code",
   "execution_count": 7,
   "id": "bd605af6",
   "metadata": {
    "execution": {
     "iopub.execute_input": "2024-05-29T15:19:12.190483Z",
     "iopub.status.busy": "2024-05-29T15:19:12.190075Z",
     "iopub.status.idle": "2024-05-29T15:19:12.196357Z",
     "shell.execute_reply": "2024-05-29T15:19:12.195087Z"
    },
    "papermill": {
     "duration": 0.017749,
     "end_time": "2024-05-29T15:19:12.198953",
     "exception": false,
     "start_time": "2024-05-29T15:19:12.181204",
     "status": "completed"
    },
    "tags": []
   },
   "outputs": [],
   "source": [
    "FEATURES = [f for f in test.columns if f not in ('ID', 'feature_10_F')]"
   ]
  },
  {
   "cell_type": "code",
   "execution_count": 8,
   "id": "8a54b05a",
   "metadata": {
    "execution": {
     "iopub.execute_input": "2024-05-29T15:19:12.217490Z",
     "iopub.status.busy": "2024-05-29T15:19:12.217040Z",
     "iopub.status.idle": "2024-05-29T15:19:12.225227Z",
     "shell.execute_reply": "2024-05-29T15:19:12.223842Z"
    },
    "papermill": {
     "duration": 0.020821,
     "end_time": "2024-05-29T15:19:12.227923",
     "exception": false,
     "start_time": "2024-05-29T15:19:12.207102",
     "status": "completed"
    },
    "tags": []
   },
   "outputs": [],
   "source": [
    "# LightGBM dataset\n",
    "dtrain = lgb.Dataset(\n",
    "    data=train[FEATURES],\n",
    "    label=train[TARGET],\n",
    "    feature_name=FEATURES,\n",
    "    categorical_feature=CAT_FEATURES)"
   ]
  },
  {
   "cell_type": "markdown",
   "id": "7af00757",
   "metadata": {
    "papermill": {
     "duration": 0.00733,
     "end_time": "2024-05-29T15:19:12.243077",
     "exception": false,
     "start_time": "2024-05-29T15:19:12.235747",
     "status": "completed"
    },
    "tags": []
   },
   "source": [
    "# LightGBMTuner - tuning"
   ]
  },
  {
   "cell_type": "code",
   "execution_count": 9,
   "id": "0b8e0bc9",
   "metadata": {
    "execution": {
     "iopub.execute_input": "2024-05-29T15:19:12.260169Z",
     "iopub.status.busy": "2024-05-29T15:19:12.259713Z",
     "iopub.status.idle": "2024-05-29T15:19:12.266767Z",
     "shell.execute_reply": "2024-05-29T15:19:12.265640Z"
    },
    "papermill": {
     "duration": 0.018382,
     "end_time": "2024-05-29T15:19:12.269348",
     "exception": false,
     "start_time": "2024-05-29T15:19:12.250966",
     "status": "completed"
    },
    "tags": []
   },
   "outputs": [],
   "source": [
    "base_params = {\n",
    "    'objective': 'binary',\n",
    "    'metric': 'binary_logloss',\n",
    "    'learning_rate': 0.01,\n",
    "    'boosting_type': 'gbdt',\n",
    "    'force_row_wise': True,\n",
    "    'verbosity': -1,\n",
    "    'n_jobs': -1,\n",
    "    'deterministic': True,\n",
    "    'random_state': SEED\n",
    "}\n",
    "\n",
    "early_stopping = lgb.early_stopping(\n",
    "    stopping_rounds=100,\n",
    "    first_metric_only=True,\n",
    "    verbose=False,\n",
    "    min_delta=1e-4)"
   ]
  },
  {
   "cell_type": "code",
   "execution_count": 10,
   "id": "8ecb29ed",
   "metadata": {
    "execution": {
     "iopub.execute_input": "2024-05-29T15:19:12.286981Z",
     "iopub.status.busy": "2024-05-29T15:19:12.286540Z",
     "iopub.status.idle": "2024-05-29T15:19:12.296339Z",
     "shell.execute_reply": "2024-05-29T15:19:12.295093Z"
    },
    "papermill": {
     "duration": 0.022589,
     "end_time": "2024-05-29T15:19:12.299846",
     "exception": false,
     "start_time": "2024-05-29T15:19:12.277257",
     "status": "completed"
    },
    "tags": []
   },
   "outputs": [
    {
     "name": "stderr",
     "output_type": "stream",
     "text": [
      "[I 2024-05-29 15:19:12,290] A new study created in memory with name: no-name-c09481a6-9e04-4817-90c9-2c2cc27d2030\n"
     ]
    }
   ],
   "source": [
    "BUDGET = 60 * 60 * 4\n",
    "NUM_FOLDS = 7\n",
    "\n",
    "tuner = lgb.LightGBMTunerCV(\n",
    "    time_budget=BUDGET,\n",
    "    optuna_seed=SEED,\n",
    "    params=base_params,\n",
    "    train_set=dtrain,\n",
    "    num_boost_round=10000,\n",
    "    folds=StratifiedKFold(n_splits=NUM_FOLDS, shuffle=True, random_state=SEED),\n",
    "    seed=SEED,\n",
    "    feature_name=FEATURES,\n",
    "    categorical_feature=CAT_FEATURES,\n",
    "    callbacks=[early_stopping])"
   ]
  },
  {
   "cell_type": "code",
   "execution_count": 11,
   "id": "4fded115",
   "metadata": {
    "execution": {
     "iopub.execute_input": "2024-05-29T15:19:12.317422Z",
     "iopub.status.busy": "2024-05-29T15:19:12.317020Z",
     "iopub.status.idle": "2024-05-29T16:54:00.952766Z",
     "shell.execute_reply": "2024-05-29T16:54:00.951752Z"
    },
    "papermill": {
     "duration": 5688.682396,
     "end_time": "2024-05-29T16:54:00.990209",
     "exception": false,
     "start_time": "2024-05-29T15:19:12.307813",
     "status": "completed"
    },
    "tags": []
   },
   "outputs": [
    {
     "name": "stderr",
     "output_type": "stream",
     "text": [
      "feature_fraction, val_score: 0.508910:  14%|#4        | 1/7 [01:14<07:25, 74.32s/it][I 2024-05-29 15:20:26,649] Trial 0 finished with value: 0.5089096428748899 and parameters: {'feature_fraction': 0.5}. Best is trial 0 with value: 0.5089096428748899.\n",
      "feature_fraction, val_score: 0.508910:  29%|##8       | 2/7 [02:24<05:59, 71.99s/it][I 2024-05-29 15:21:36,999] Trial 1 finished with value: 0.5129290804572283 and parameters: {'feature_fraction': 0.8999999999999999}. Best is trial 0 with value: 0.5089096428748899.\n",
      "feature_fraction, val_score: 0.508910:  43%|####2     | 3/7 [03:40<04:55, 73.85s/it][I 2024-05-29 15:22:53,075] Trial 2 finished with value: 0.5109832895726438 and parameters: {'feature_fraction': 0.7}. Best is trial 0 with value: 0.5089096428748899.\n",
      "feature_fraction, val_score: 0.508910:  57%|#####7    | 4/7 [04:54<03:41, 73.89s/it][I 2024-05-29 15:24:07,028] Trial 3 finished with value: 0.5112281837784274 and parameters: {'feature_fraction': 0.8}. Best is trial 0 with value: 0.5089096428748899.\n",
      "feature_fraction, val_score: 0.508910:  71%|#######1  | 5/7 [06:04<02:25, 72.54s/it][I 2024-05-29 15:25:17,179] Trial 4 finished with value: 0.5169706089979802 and parameters: {'feature_fraction': 1.0}. Best is trial 0 with value: 0.5089096428748899.\n",
      "feature_fraction, val_score: 0.507956:  86%|########5 | 6/7 [07:24<01:14, 74.89s/it][I 2024-05-29 15:26:36,635] Trial 5 finished with value: 0.5079559112016375 and parameters: {'feature_fraction': 0.6}. Best is trial 5 with value: 0.5079559112016375.\n",
      "feature_fraction, val_score: 0.507699: 100%|##########| 7/7 [08:40<00:00, 75.42s/it][I 2024-05-29 15:27:53,125] Trial 6 finished with value: 0.5076994297549214 and parameters: {'feature_fraction': 0.4}. Best is trial 6 with value: 0.5076994297549214.\n",
      "feature_fraction, val_score: 0.507699: 100%|##########| 7/7 [08:40<00:00, 74.40s/it]\n",
      "num_leaves, val_score: 0.507699:   5%|5         | 1/20 [01:38<31:14, 98.68s/it][I 2024-05-29 15:29:31,814] Trial 7 finished with value: 0.5092336322393164 and parameters: {'num_leaves': 151}. Best is trial 7 with value: 0.5092336322393164.\n",
      "num_leaves, val_score: 0.507699:  10%|#         | 2/20 [03:19<29:53, 99.66s/it][I 2024-05-29 15:31:12,156] Trial 8 finished with value: 0.5092336322393164 and parameters: {'num_leaves': 180}. Best is trial 7 with value: 0.5092336322393164.\n",
      "num_leaves, val_score: 0.501844:  15%|#5        | 3/20 [04:42<26:08, 92.24s/it][I 2024-05-29 15:32:35,568] Trial 9 finished with value: 0.5018438219699253 and parameters: {'num_leaves': 49}. Best is trial 9 with value: 0.5018438219699253.\n",
      "num_leaves, val_score: 0.501844:  20%|##        | 4/20 [05:48<21:49, 81.82s/it][I 2024-05-29 15:33:41,406] Trial 10 finished with value: 0.5179086714478721 and parameters: {'num_leaves': 12}. Best is trial 9 with value: 0.5018438219699253.\n",
      "num_leaves, val_score: 0.501844:  25%|##5       | 5/20 [07:10<20:29, 81.97s/it][I 2024-05-29 15:35:03,648] Trial 11 finished with value: 0.5111443097796512 and parameters: {'num_leaves': 18}. Best is trial 9 with value: 0.5018438219699253.\n",
      "num_leaves, val_score: 0.501844:  30%|###       | 6/20 [08:42<19:56, 85.47s/it][I 2024-05-29 15:36:35,920] Trial 12 finished with value: 0.5072007931760586 and parameters: {'num_leaves': 81}. Best is trial 9 with value: 0.5018438219699253.\n",
      "num_leaves, val_score: 0.501844:  35%|###5      | 7/20 [10:17<19:08, 88.37s/it][I 2024-05-29 15:38:10,258] Trial 13 finished with value: 0.5072007931760585 and parameters: {'num_leaves': 81}. Best is trial 9 with value: 0.5018438219699253.\n",
      "num_leaves, val_score: 0.501844:  40%|####      | 8/20 [11:55<18:16, 91.41s/it][I 2024-05-29 15:39:48,176] Trial 14 finished with value: 0.5072029371667871 and parameters: {'num_leaves': 89}. Best is trial 9 with value: 0.5018438219699253.\n",
      "num_leaves, val_score: 0.501844:  45%|####5     | 9/20 [13:37<17:25, 95.01s/it][I 2024-05-29 15:41:31,102] Trial 15 finished with value: 0.5080516720628727 and parameters: {'num_leaves': 80}. Best is trial 9 with value: 0.5018438219699253.\n",
      "num_leaves, val_score: 0.501844:  50%|#####     | 10/20 [15:20<16:12, 97.27s/it][I 2024-05-29 15:43:13,431] Trial 16 finished with value: 0.5092336322393164 and parameters: {'num_leaves': 226}. Best is trial 9 with value: 0.5018438219699253.\n",
      "num_leaves, val_score: 0.501844:  55%|#####5    | 11/20 [16:50<14:16, 95.12s/it][I 2024-05-29 15:44:43,679] Trial 17 finished with value: 0.5025920036067946 and parameters: {'num_leaves': 52}. Best is trial 9 with value: 0.5018438219699253.\n",
      "num_leaves, val_score: 0.501844:  60%|######    | 12/20 [18:07<11:57, 89.73s/it][I 2024-05-29 15:46:01,063] Trial 18 finished with value: 0.5047541631543749 and parameters: {'num_leaves': 42}. Best is trial 9 with value: 0.5018438219699253.\n",
      "num_leaves, val_score: 0.501844:  65%|######5   | 13/20 [19:49<10:53, 93.30s/it][I 2024-05-29 15:47:42,573] Trial 19 finished with value: 0.5092336322393164 and parameters: {'num_leaves': 125}. Best is trial 9 with value: 0.5018438219699253.\n",
      "num_leaves, val_score: 0.501844:  70%|#######   | 14/20 [21:11<08:58, 89.80s/it][I 2024-05-29 15:49:04,303] Trial 20 finished with value: 0.5022082615180168 and parameters: {'num_leaves': 44}. Best is trial 9 with value: 0.5018438219699253.\n",
      "num_leaves, val_score: 0.501844:  75%|#######5  | 15/20 [22:35<07:20, 88.07s/it][I 2024-05-29 15:50:28,357] Trial 21 finished with value: 0.5018438219699253 and parameters: {'num_leaves': 49}. Best is trial 9 with value: 0.5018438219699253.\n",
      "num_leaves, val_score: 0.501844:  80%|########  | 16/20 [23:55<05:43, 85.84s/it][I 2024-05-29 15:51:49,034] Trial 22 finished with value: 0.5036175585375066 and parameters: {'num_leaves': 45}. Best is trial 9 with value: 0.5018438219699253.\n",
      "num_leaves, val_score: 0.501844:  85%|########5 | 17/20 [25:17<04:13, 84.43s/it][I 2024-05-29 15:53:10,173] Trial 23 finished with value: 0.5211935266260724 and parameters: {'num_leaves': 8}. Best is trial 9 with value: 0.5018438219699253.\n",
      "num_leaves, val_score: 0.501844:  90%|######### | 18/20 [26:55<02:57, 88.64s/it][I 2024-05-29 15:54:48,620] Trial 24 finished with value: 0.5092336322393164 and parameters: {'num_leaves': 109}. Best is trial 9 with value: 0.5018438219699253.\n",
      "num_leaves, val_score: 0.501844:  95%|#########5| 19/20 [28:23<01:28, 88.43s/it][I 2024-05-29 15:56:16,566] Trial 25 finished with value: 0.5018438219699253 and parameters: {'num_leaves': 49}. Best is trial 9 with value: 0.5018438219699253.\n",
      "num_leaves, val_score: 0.501844: 100%|##########| 20/20 [30:00<00:00, 90.95s/it][I 2024-05-29 15:57:53,390] Trial 26 finished with value: 0.5030529165628927 and parameters: {'num_leaves': 59}. Best is trial 9 with value: 0.5018438219699253.\n",
      "num_leaves, val_score: 0.501844: 100%|##########| 20/20 [30:00<00:00, 90.01s/it]\n",
      "bagging, val_score: 0.501844:  10%|#         | 1/10 [01:25<12:47, 85.27s/it][I 2024-05-29 15:59:18,667] Trial 27 finished with value: 0.5443007173006237 and parameters: {'bagging_fraction': 0.5736183015264869, 'bagging_freq': 3}. Best is trial 27 with value: 0.5443007173006237.\n",
      "bagging, val_score: 0.501844:  20%|##        | 2/10 [02:51<11:27, 85.99s/it][I 2024-05-29 16:00:45,158] Trial 28 finished with value: 0.505998347014688 and parameters: {'bagging_fraction': 0.967363692250022, 'bagging_freq': 7}. Best is trial 28 with value: 0.505998347014688.\n",
      "bagging, val_score: 0.501844:  30%|###       | 3/10 [04:00<09:06, 78.07s/it][I 2024-05-29 16:01:53,805] Trial 29 finished with value: 0.5600012969329238 and parameters: {'bagging_fraction': 0.4259941696887872, 'bagging_freq': 1}. Best is trial 28 with value: 0.505998347014688.\n",
      "bagging, val_score: 0.501844:  40%|####      | 4/10 [05:23<08:01, 80.22s/it][I 2024-05-29 16:03:17,329] Trial 30 finished with value: 0.5087489269839653 and parameters: {'bagging_fraction': 0.928412772698898, 'bagging_freq': 7}. Best is trial 28 with value: 0.505998347014688.\n",
      "bagging, val_score: 0.501844:  50%|#####     | 5/10 [06:41<06:36, 79.30s/it][I 2024-05-29 16:04:34,992] Trial 31 finished with value: 0.5272805000837872 and parameters: {'bagging_fraction': 0.7174170554172974, 'bagging_freq': 4}. Best is trial 28 with value: 0.505998347014688.\n",
      "bagging, val_score: 0.501844:  60%|######    | 6/10 [08:00<05:17, 79.29s/it][I 2024-05-29 16:05:54,266] Trial 32 finished with value: 0.522027045765994 and parameters: {'bagging_fraction': 0.7636024167117853, 'bagging_freq': 1}. Best is trial 28 with value: 0.505998347014688.\n",
      "bagging, val_score: 0.501844:  70%|#######   | 7/10 [09:05<03:43, 74.60s/it][I 2024-05-29 16:06:59,194] Trial 33 finished with value: 0.5613039611548148 and parameters: {'bagging_fraction': 0.4110344481005057, 'bagging_freq': 5}. Best is trial 28 with value: 0.505998347014688.\n",
      "bagging, val_score: 0.501844:  80%|########  | 8/10 [10:27<02:33, 76.91s/it][I 2024-05-29 16:08:21,045] Trial 34 finished with value: 0.5178251129438546 and parameters: {'bagging_fraction': 0.8361931210788806, 'bagging_freq': 3}. Best is trial 28 with value: 0.505998347014688.\n",
      "bagging, val_score: 0.501844:  90%|######### | 9/10 [11:47<01:17, 77.73s/it][I 2024-05-29 16:09:40,576] Trial 35 finished with value: 0.5410899875515452 and parameters: {'bagging_fraction': 0.5891842491039101, 'bagging_freq': 5}. Best is trial 28 with value: 0.505998347014688.\n",
      "bagging, val_score: 0.501844: 100%|##########| 10/10 [13:03<00:00, 77.30s/it][I 2024-05-29 16:10:56,928] Trial 36 finished with value: 0.5442796499365729 and parameters: {'bagging_fraction': 0.6085830064799577, 'bagging_freq': 6}. Best is trial 28 with value: 0.505998347014688.\n",
      "bagging, val_score: 0.501844: 100%|##########| 10/10 [13:03<00:00, 78.35s/it]\n",
      "feature_fraction_stage2, val_score: 0.501844:  33%|###3      | 1/3 [01:31<03:02, 91.29s/it][I 2024-05-29 16:12:28,232] Trial 37 finished with value: 0.5036780723507455 and parameters: {'feature_fraction': 0.44800000000000006}. Best is trial 37 with value: 0.5036780723507455.\n",
      "feature_fraction_stage2, val_score: 0.501844:  67%|######6   | 2/3 [02:54<01:26, 86.74s/it][I 2024-05-29 16:13:51,781] Trial 38 finished with value: 0.5041737894169136 and parameters: {'feature_fraction': 0.48000000000000004}. Best is trial 37 with value: 0.5036780723507455.\n",
      "feature_fraction_stage2, val_score: 0.501844: 100%|##########| 3/3 [04:15<00:00, 84.17s/it][I 2024-05-29 16:15:12,895] Trial 39 finished with value: 0.5029187480645847 and parameters: {'feature_fraction': 0.41600000000000004}. Best is trial 39 with value: 0.5029187480645847.\n",
      "feature_fraction_stage2, val_score: 0.501844: 100%|##########| 3/3 [04:15<00:00, 85.32s/it]\n",
      "regularization_factors, val_score: 0.501844:   5%|5         | 1/20 [01:28<27:55, 88.16s/it][I 2024-05-29 16:16:41,066] Trial 40 finished with value: 0.5020093709835987 and parameters: {'lambda_l1': 4.020448680588366e-06, 'lambda_l2': 5.063045298563952e-06}. Best is trial 40 with value: 0.5020093709835987.\n",
      "regularization_factors, val_score: 0.501844:  10%|#         | 2/20 [02:57<26:38, 88.79s/it][I 2024-05-29 16:18:10,297] Trial 41 finished with value: 0.5020791734814735 and parameters: {'lambda_l1': 3.485829307948253e-06, 'lambda_l2': 2.816150674907995e-06}. Best is trial 40 with value: 0.5020093709835987.\n",
      "regularization_factors, val_score: 0.501844:  15%|#5        | 3/20 [04:24<24:58, 88.14s/it][I 2024-05-29 16:19:37,668] Trial 42 finished with value: 0.5024661602975232 and parameters: {'lambda_l1': 1.1432519221803943e-06, 'lambda_l2': 3.427460308826897e-06}. Best is trial 40 with value: 0.5020093709835987.\n",
      "regularization_factors, val_score: 0.501844:  20%|##        | 4/20 [05:53<23:36, 88.52s/it][I 2024-05-29 16:21:06,760] Trial 43 finished with value: 0.5028766344093868 and parameters: {'lambda_l1': 8.420233601645312e-06, 'lambda_l2': 4.26732019886612e-06}. Best is trial 40 with value: 0.5020093709835987.\n",
      "regularization_factors, val_score: 0.501844:  25%|##5       | 5/20 [07:21<22:04, 88.32s/it][I 2024-05-29 16:22:34,734] Trial 44 finished with value: 0.5031454057047547 and parameters: {'lambda_l1': 0.000704279226600795, 'lambda_l2': 1.4308036822355162e-08}. Best is trial 40 with value: 0.5020093709835987.\n",
      "regularization_factors, val_score: 0.501844:  30%|###       | 6/20 [08:48<20:26, 87.61s/it][I 2024-05-29 16:24:00,969] Trial 45 finished with value: 0.5029898999025121 and parameters: {'lambda_l1': 2.3309730334864895e-08, 'lambda_l2': 0.035888926765117644}. Best is trial 40 with value: 0.5020093709835987.\n",
      "regularization_factors, val_score: 0.501844:  35%|###5      | 7/20 [10:16<19:03, 87.98s/it][I 2024-05-29 16:25:29,722] Trial 46 finished with value: 0.5045461486124905 and parameters: {'lambda_l1': 0.04001860851029987, 'lambda_l2': 2.219698951303457e-05}. Best is trial 40 with value: 0.5020093709835987.\n",
      "regularization_factors, val_score: 0.501841:  40%|####      | 8/20 [11:45<17:37, 88.12s/it][I 2024-05-29 16:26:58,118] Trial 47 finished with value: 0.5018413067233153 and parameters: {'lambda_l1': 2.396140386897739e-05, 'lambda_l2': 6.841937338140487e-08}. Best is trial 47 with value: 0.5018413067233153.\n",
      "regularization_factors, val_score: 0.501841:  45%|####5     | 9/20 [13:12<16:06, 87.90s/it][I 2024-05-29 16:28:25,555] Trial 48 finished with value: 0.5032345401513014 and parameters: {'lambda_l1': 0.00035587774441202036, 'lambda_l2': 5.4270411751019325e-08}. Best is trial 47 with value: 0.5018413067233153.\n",
      "regularization_factors, val_score: 0.501841:  50%|#####     | 10/20 [15:09<16:09, 96.92s/it][I 2024-05-29 16:30:22,655] Trial 49 finished with value: 0.5428406222473613 and parameters: {'lambda_l1': 4.763082155458475, 'lambda_l2': 0.002157113963850063}. Best is trial 47 with value: 0.5018413067233153.\n",
      "regularization_factors, val_score: 0.501841:  55%|#####5    | 11/20 [17:25<16:20, 108.89s/it][I 2024-05-29 16:32:38,705] Trial 50 finished with value: 0.5184990311611352 and parameters: {'lambda_l1': 3.7964644119980174e-08, 'lambda_l2': 4.854689599585725}. Best is trial 47 with value: 0.5018413067233153.\n",
      "regularization_factors, val_score: 0.501841:  60%|######    | 12/20 [18:56<13:46, 103.30s/it][I 2024-05-29 16:34:09,224] Trial 51 finished with value: 0.502894650123071 and parameters: {'lambda_l1': 8.784841350771334e-06, 'lambda_l2': 4.450509581223722e-07}. Best is trial 47 with value: 0.5018413067233153.\n",
      "regularization_factors, val_score: 0.501841:  65%|######5   | 13/20 [20:25<11:33, 99.03s/it] [I 2024-05-29 16:35:38,427] Trial 52 finished with value: 0.5021045250292249 and parameters: {'lambda_l1': 2.050683422983279e-06, 'lambda_l2': 4.911495819833409e-05}. Best is trial 47 with value: 0.5018413067233153.\n",
      "regularization_factors, val_score: 0.501841:  70%|#######   | 14/20 [21:55<09:37, 96.31s/it][I 2024-05-29 16:37:08,437] Trial 53 finished with value: 0.5023489847002695 and parameters: {'lambda_l1': 5.002806781391875e-05, 'lambda_l2': 3.793515490578443e-07}. Best is trial 47 with value: 0.5018413067233153.\n",
      "regularization_factors, val_score: 0.501841:  75%|#######5  | 15/20 [23:23<07:48, 93.72s/it][I 2024-05-29 16:38:36,152] Trial 54 finished with value: 0.5025392369501215 and parameters: {'lambda_l1': 3.4241233206009783e-07, 'lambda_l2': 4.0321771530095536e-07}. Best is trial 47 with value: 0.5018413067233153.\n",
      "regularization_factors, val_score: 0.501841:  80%|########  | 16/20 [24:53<06:10, 92.68s/it][I 2024-05-29 16:40:06,431] Trial 55 finished with value: 0.5019715768414942 and parameters: {'lambda_l1': 0.004187382509919877, 'lambda_l2': 0.0009200890379063492}. Best is trial 47 with value: 0.5018413067233153.\n",
      "regularization_factors, val_score: 0.501841:  85%|########5 | 17/20 [26:27<04:39, 93.04s/it][I 2024-05-29 16:41:40,311] Trial 56 finished with value: 0.503110758920084 and parameters: {'lambda_l1': 0.007802079731303507, 'lambda_l2': 0.0006121334950042734}. Best is trial 47 with value: 0.5018413067233153.\n",
      "regularization_factors, val_score: 0.501841:  90%|######### | 18/20 [27:58<03:04, 92.41s/it][I 2024-05-29 16:43:11,258] Trial 57 finished with value: 0.5029543770420701 and parameters: {'lambda_l1': 0.011281149668532137, 'lambda_l2': 0.017640113938845323}. Best is trial 47 with value: 0.5018413067233153.\n",
      "regularization_factors, val_score: 0.501841:  95%|#########5| 19/20 [29:28<01:31, 91.62s/it][I 2024-05-29 16:44:41,036] Trial 58 finished with value: 0.5029950609968002 and parameters: {'lambda_l1': 5.758777393101634e-05, 'lambda_l2': 5.936958261651047e-05}. Best is trial 47 with value: 0.5018413067233153.\n",
      "regularization_factors, val_score: 0.501841: 100%|##########| 20/20 [30:56<00:00, 90.75s/it][I 2024-05-29 16:46:09,768] Trial 59 finished with value: 0.5035837253764227 and parameters: {'lambda_l1': 0.0012855800988330367, 'lambda_l2': 0.0063919600483371124}. Best is trial 47 with value: 0.5018413067233153.\n",
      "regularization_factors, val_score: 0.501841: 100%|##########| 20/20 [30:56<00:00, 92.84s/it]\n",
      "min_child_samples, val_score: 0.501841:  20%|##        | 1/5 [01:30<06:01, 90.38s/it][I 2024-05-29 16:47:40,153] Trial 60 finished with value: 0.5090618584009163 and parameters: {'min_child_samples': 25}. Best is trial 60 with value: 0.5090618584009163.\n",
      "min_child_samples, val_score: 0.495069:  40%|####      | 2/5 [03:03<04:35, 91.92s/it][I 2024-05-29 16:49:13,147] Trial 61 finished with value: 0.49506941651465397 and parameters: {'min_child_samples': 10}. Best is trial 61 with value: 0.49506941651465397.\n",
      "min_child_samples, val_score: 0.493851:  60%|######    | 3/5 [04:44<03:12, 96.13s/it][I 2024-05-29 16:50:54,280] Trial 62 finished with value: 0.49385070742482196 and parameters: {'min_child_samples': 5}. Best is trial 62 with value: 0.49385070742482196.\n",
      "min_child_samples, val_score: 0.493851:  80%|########  | 4/5 [06:21<01:36, 96.65s/it][I 2024-05-29 16:52:31,731] Trial 63 finished with value: 0.5475213646726933 and parameters: {'min_child_samples': 100}. Best is trial 62 with value: 0.49385070742482196.\n",
      "min_child_samples, val_score: 0.493851: 100%|##########| 5/5 [07:51<00:00, 93.97s/it][I 2024-05-29 16:54:00,946] Trial 64 finished with value: 0.5325141618689335 and parameters: {'min_child_samples': 50}. Best is trial 62 with value: 0.49385070742482196.\n",
      "min_child_samples, val_score: 0.493851: 100%|##########| 5/5 [07:51<00:00, 94.23s/it]"
     ]
    },
    {
     "name": "stdout",
     "output_type": "stream",
     "text": [
      "CPU times: user 1h 38min 33s, sys: 51min 21s, total: 2h 29min 54s\n",
      "Wall time: 1h 34min 48s\n"
     ]
    },
    {
     "name": "stderr",
     "output_type": "stream",
     "text": [
      "\n"
     ]
    }
   ],
   "source": [
    "%%time\n",
    "tuner.run()"
   ]
  },
  {
   "cell_type": "markdown",
   "id": "2751ed24",
   "metadata": {
    "papermill": {
     "duration": 0.034922,
     "end_time": "2024-05-29T16:54:01.060148",
     "exception": false,
     "start_time": "2024-05-29T16:54:01.025226",
     "status": "completed"
    },
    "tags": []
   },
   "source": [
    "# Cross validation + Thresholding"
   ]
  },
  {
   "cell_type": "code",
   "execution_count": 12,
   "id": "b3a519b7",
   "metadata": {
    "execution": {
     "iopub.execute_input": "2024-05-29T16:54:01.130312Z",
     "iopub.status.busy": "2024-05-29T16:54:01.129899Z",
     "iopub.status.idle": "2024-05-29T16:54:01.135729Z",
     "shell.execute_reply": "2024-05-29T16:54:01.134473Z"
    },
    "papermill": {
     "duration": 0.04453,
     "end_time": "2024-05-29T16:54:01.138265",
     "exception": false,
     "start_time": "2024-05-29T16:54:01.093735",
     "status": "completed"
    },
    "tags": []
   },
   "outputs": [],
   "source": [
    "def probs_to_labels(probs, threshold=0.5):\n",
    "    return (probs >= threshold).astype('int')"
   ]
  },
  {
   "cell_type": "code",
   "execution_count": 13,
   "id": "4f2cb5c9",
   "metadata": {
    "execution": {
     "iopub.execute_input": "2024-05-29T16:54:01.208311Z",
     "iopub.status.busy": "2024-05-29T16:54:01.207885Z",
     "iopub.status.idle": "2024-05-29T16:54:01.216121Z",
     "shell.execute_reply": "2024-05-29T16:54:01.214947Z"
    },
    "papermill": {
     "duration": 0.045915,
     "end_time": "2024-05-29T16:54:01.218537",
     "exception": false,
     "start_time": "2024-05-29T16:54:01.172622",
     "status": "completed"
    },
    "tags": []
   },
   "outputs": [],
   "source": [
    "def get_best_threshold(y_true, y_probs):\n",
    "    candidates = np.arange(0.001, 0.999, 0.001)\n",
    "    scores = [\n",
    "        f1_score(y_true, probs_to_labels(y_probs, t)) \n",
    "        for t in candidates\n",
    "    ]\n",
    "    \n",
    "    return candidates[np.argmax(scores)]"
   ]
  },
  {
   "cell_type": "code",
   "execution_count": 14,
   "id": "b1af9ed3",
   "metadata": {
    "execution": {
     "iopub.execute_input": "2024-05-29T16:54:01.287686Z",
     "iopub.status.busy": "2024-05-29T16:54:01.287225Z",
     "iopub.status.idle": "2024-05-29T16:54:01.302184Z",
     "shell.execute_reply": "2024-05-29T16:54:01.301052Z"
    },
    "papermill": {
     "duration": 0.053024,
     "end_time": "2024-05-29T16:54:01.304959",
     "exception": false,
     "start_time": "2024-05-29T16:54:01.251935",
     "status": "completed"
    },
    "tags": []
   },
   "outputs": [],
   "source": [
    "def custom_cv(estimator, seed=SEED, verbose=True):\n",
    "    oof_preds = {}\n",
    "    test_preds = {}\n",
    "    scores = []\n",
    "    \n",
    "    X, y = train[FEATURES], train[TARGET]\n",
    "    X_test = test[FEATURES]\n",
    "    \n",
    "    cv = StratifiedKFold(n_splits=NUM_FOLDS, shuffle=True, random_state=seed)\n",
    "    for fold, (train_ids, val_ids) in enumerate(cv.split(X, y)):\n",
    "        X_train, y_train = X.iloc[train_ids], y.iloc[train_ids]\n",
    "        X_val, y_val = X.iloc[val_ids], y.iloc[val_ids]\n",
    "        \n",
    "        model = clone(estimator)\n",
    "        model.fit(\n",
    "            X_train, y_train,\n",
    "            eval_set=[(X_val, y_val)],\n",
    "            callbacks=[early_stopping])\n",
    "        \n",
    "        val_probs = model.predict_proba(X_val)[:, 1]\n",
    "        best_threshold = get_best_threshold(y_val, val_probs)\n",
    "        val_preds = probs_to_labels(val_probs, best_threshold)\n",
    "        oof_preds.update(dict(zip(val_ids, val_preds)))\n",
    "        \n",
    "        test_probs = model.predict_proba(X_test)[:, 1]\n",
    "        test_preds[f'fold{fold}'] = probs_to_labels(test_probs, best_threshold)\n",
    "        \n",
    "        \n",
    "        f1_best = f1_score(y_val, val_preds)\n",
    "        scores.append(f1_best)\n",
    "        if verbose:\n",
    "            auc = roc_auc_score(y_val, val_probs)\n",
    "            f1 = f1_score(y_val, probs_to_labels(val_probs, 0.5))\n",
    "            print(f'Fold #{fold}: AUC = {auc:.5f}, F1 @0.5 = {f1: .5f}, F1 @best = {f1_best:.5f}' \\\n",
    "                  f' ({model.best_iteration_:>4} rounds, best threshold: {best_threshold:.3f})')\n",
    "            \n",
    "        _ = gc.collect()\n",
    "    \n",
    "    test_preds = pd.DataFrame.from_dict(test_preds)\n",
    "    test_preds['mode'] = test_preds.mode(axis=1)[0].astype('int')  # mode of fold-wise predictions\n",
    "    oof_preds = pd.Series(oof_preds).sort_index()\n",
    "    \n",
    "    print(f'\\nOOF F1 @best: {f1_score(y, oof_preds):.5f}, ' \\\n",
    "          f'Avg F1 @best: {np.mean(scores):.5f} +/- {np.std(scores):.5f}')\n",
    "    \n",
    "    return oof_preds, test_preds"
   ]
  },
  {
   "cell_type": "code",
   "execution_count": 15,
   "id": "00856e25",
   "metadata": {
    "execution": {
     "iopub.execute_input": "2024-05-29T16:54:01.374082Z",
     "iopub.status.busy": "2024-05-29T16:54:01.373519Z",
     "iopub.status.idle": "2024-05-29T16:55:00.999027Z",
     "shell.execute_reply": "2024-05-29T16:55:00.997586Z"
    },
    "papermill": {
     "duration": 59.663464,
     "end_time": "2024-05-29T16:55:01.002355",
     "exception": false,
     "start_time": "2024-05-29T16:54:01.338891",
     "status": "completed"
    },
    "tags": []
   },
   "outputs": [
    {
     "name": "stdout",
     "output_type": "stream",
     "text": [
      "Fold #0: AUC = 0.89387, F1 @0.5 =  0.82488, F1 @best = 0.84739 (1273 rounds, best threshold: 0.270)\n",
      "Fold #1: AUC = 0.79703, F1 @0.5 =  0.75687, F1 @best = 0.78530 ( 338 rounds, best threshold: 0.400)\n",
      "Fold #2: AUC = 0.83686, F1 @0.5 =  0.78879, F1 @best = 0.80868 ( 610 rounds, best threshold: 0.390)\n",
      "Fold #3: AUC = 0.84005, F1 @0.5 =  0.79287, F1 @best = 0.80519 ( 646 rounds, best threshold: 0.466)\n",
      "Fold #4: AUC = 0.82707, F1 @0.5 =  0.78146, F1 @best = 0.81262 ( 797 rounds, best threshold: 0.324)\n",
      "Fold #5: AUC = 0.80572, F1 @0.5 =  0.75506, F1 @best = 0.78824 ( 828 rounds, best threshold: 0.356)\n",
      "Fold #6: AUC = 0.84951, F1 @0.5 =  0.77802, F1 @best = 0.80825 (1145 rounds, best threshold: 0.415)\n",
      "\n",
      "OOF F1 @best: 0.80780, Avg F1 @best: 0.80795 +/- 0.01885\n",
      "CPU times: user 59.6 s, sys: 0 ns, total: 59.6 s\n",
      "Wall time: 59.6 s\n"
     ]
    }
   ],
   "source": [
    "%%time\n",
    "model = LGBMClassifier(**tuner.best_params, n_estimators=10000)\n",
    "op, tp = custom_cv(model)"
   ]
  },
  {
   "cell_type": "code",
   "execution_count": 16,
   "id": "1454ac59",
   "metadata": {
    "execution": {
     "iopub.execute_input": "2024-05-29T16:55:01.075422Z",
     "iopub.status.busy": "2024-05-29T16:55:01.075049Z",
     "iopub.status.idle": "2024-05-29T16:55:01.081580Z",
     "shell.execute_reply": "2024-05-29T16:55:01.080332Z"
    },
    "papermill": {
     "duration": 0.045215,
     "end_time": "2024-05-29T16:55:01.083962",
     "exception": false,
     "start_time": "2024-05-29T16:55:01.038747",
     "status": "completed"
    },
    "tags": []
   },
   "outputs": [],
   "source": [
    "def create_submission_files(preds, notebook='05'):\n",
    "    for col in preds.columns:\n",
    "        sub = sample_sub.copy()\n",
    "        sub[TARGET] = preds[col]\n",
    "        sub.to_csv(f'nb{notebook}_{col}.csv', index=False)"
   ]
  },
  {
   "cell_type": "code",
   "execution_count": 17,
   "id": "9a590c48",
   "metadata": {
    "execution": {
     "iopub.execute_input": "2024-05-29T16:55:01.155120Z",
     "iopub.status.busy": "2024-05-29T16:55:01.154728Z",
     "iopub.status.idle": "2024-05-29T16:55:01.176969Z",
     "shell.execute_reply": "2024-05-29T16:55:01.175674Z"
    },
    "papermill": {
     "duration": 0.061438,
     "end_time": "2024-05-29T16:55:01.180015",
     "exception": false,
     "start_time": "2024-05-29T16:55:01.118577",
     "status": "completed"
    },
    "tags": []
   },
   "outputs": [],
   "source": [
    "create_submission_files(tp)"
   ]
  },
  {
   "cell_type": "code",
   "execution_count": 18,
   "id": "87205469",
   "metadata": {
    "execution": {
     "iopub.execute_input": "2024-05-29T16:55:01.250589Z",
     "iopub.status.busy": "2024-05-29T16:55:01.250211Z",
     "iopub.status.idle": "2024-05-29T16:55:02.383248Z",
     "shell.execute_reply": "2024-05-29T16:55:02.381907Z"
    },
    "papermill": {
     "duration": 1.171577,
     "end_time": "2024-05-29T16:55:02.386211",
     "exception": false,
     "start_time": "2024-05-29T16:55:01.214634",
     "status": "completed"
    },
    "tags": []
   },
   "outputs": [
    {
     "name": "stdout",
     "output_type": "stream",
     "text": [
      "ID,Target\r\n",
      "2661,1\r\n",
      "2662,1\r\n",
      "2663,1\r\n",
      "2664,1\r\n",
      "2665,1\r\n",
      "2666,1\r\n",
      "2667,1\r\n",
      "2668,1\r\n",
      "2669,1\r\n"
     ]
    }
   ],
   "source": [
    "!head nb05_mode.csv"
   ]
  }
 ],
 "metadata": {
  "kaggle": {
   "accelerator": "none",
   "dataSources": [
    {
     "datasetId": 4749181,
     "sourceId": 8052859,
     "sourceType": "datasetVersion"
    }
   ],
   "dockerImageVersionId": 30698,
   "isGpuEnabled": false,
   "isInternetEnabled": true,
   "language": "python",
   "sourceType": "notebook"
  },
  "kernelspec": {
   "display_name": "Python 3",
   "language": "python",
   "name": "python3"
  },
  "language_info": {
   "codemirror_mode": {
    "name": "ipython",
    "version": 3
   },
   "file_extension": ".py",
   "mimetype": "text/x-python",
   "name": "python",
   "nbconvert_exporter": "python",
   "pygments_lexer": "ipython3",
   "version": "3.10.13"
  },
  "papermill": {
   "default_parameters": {},
   "duration": 5775.52493,
   "end_time": "2024-05-29T16:55:03.259139",
   "environment_variables": {},
   "exception": null,
   "input_path": "__notebook__.ipynb",
   "output_path": "__notebook__.ipynb",
   "parameters": {},
   "start_time": "2024-05-29T15:18:47.734209",
   "version": "2.5.0"
  }
 },
 "nbformat": 4,
 "nbformat_minor": 5
}
