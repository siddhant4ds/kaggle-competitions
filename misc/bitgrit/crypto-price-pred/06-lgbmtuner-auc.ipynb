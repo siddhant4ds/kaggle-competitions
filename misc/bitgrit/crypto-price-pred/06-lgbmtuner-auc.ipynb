{
 "cells": [
  {
   "cell_type": "markdown",
   "id": "175623ed",
   "metadata": {
    "papermill": {
     "duration": 0.00854,
     "end_time": "2024-05-29T17:33:16.564150",
     "exception": false,
     "start_time": "2024-05-29T17:33:16.555610",
     "status": "completed"
    },
    "tags": []
   },
   "source": [
    "# Setup"
   ]
  },
  {
   "cell_type": "code",
   "execution_count": 1,
   "id": "9ef3bb62",
   "metadata": {
    "execution": {
     "iopub.execute_input": "2024-05-29T17:33:16.582863Z",
     "iopub.status.busy": "2024-05-29T17:33:16.582119Z",
     "iopub.status.idle": "2024-05-29T17:33:34.946459Z",
     "shell.execute_reply": "2024-05-29T17:33:34.944929Z"
    },
    "papermill": {
     "duration": 18.377408,
     "end_time": "2024-05-29T17:33:34.949658",
     "exception": false,
     "start_time": "2024-05-29T17:33:16.572250",
     "status": "completed"
    },
    "tags": []
   },
   "outputs": [],
   "source": [
    "%%capture\n",
    "!pip install --upgrade optuna_integration"
   ]
  },
  {
   "cell_type": "code",
   "execution_count": 2,
   "id": "64d0020f",
   "metadata": {
    "_cell_guid": "b1076dfc-b9ad-4769-8c92-a6c4dae69d19",
    "_uuid": "8f2839f25d086af736a60e9eeb907d3b93b6e0e5",
    "execution": {
     "iopub.execute_input": "2024-05-29T17:33:34.967666Z",
     "iopub.status.busy": "2024-05-29T17:33:34.967143Z",
     "iopub.status.idle": "2024-05-29T17:33:39.223805Z",
     "shell.execute_reply": "2024-05-29T17:33:39.222305Z"
    },
    "papermill": {
     "duration": 4.270599,
     "end_time": "2024-05-29T17:33:39.228148",
     "exception": false,
     "start_time": "2024-05-29T17:33:34.957549",
     "status": "completed"
    },
    "tags": []
   },
   "outputs": [],
   "source": [
    "import gc\n",
    "gc.enable()\n",
    "\n",
    "import warnings\n",
    "warnings.filterwarnings('ignore')\n",
    "\n",
    "import numpy as np\n",
    "import pandas as pd\n",
    "pd.set_option('display.max_columns', None)\n",
    "\n",
    "import optuna.integration.lightgbm as lgb\n",
    "from sklearn.model_selection import StratifiedKFold\n",
    "from sklearn.metrics import f1_score, roc_auc_score\n",
    "from sklearn.base import clone\n",
    "from lightgbm import LGBMClassifier\n",
    "\n",
    "SEED = 2024"
   ]
  },
  {
   "cell_type": "code",
   "execution_count": 3,
   "id": "c0310aa4",
   "metadata": {
    "execution": {
     "iopub.execute_input": "2024-05-29T17:33:39.246712Z",
     "iopub.status.busy": "2024-05-29T17:33:39.245969Z",
     "iopub.status.idle": "2024-05-29T17:33:39.395187Z",
     "shell.execute_reply": "2024-05-29T17:33:39.393827Z"
    },
    "papermill": {
     "duration": 0.161784,
     "end_time": "2024-05-29T17:33:39.398192",
     "exception": false,
     "start_time": "2024-05-29T17:33:39.236408",
     "status": "completed"
    },
    "tags": []
   },
   "outputs": [],
   "source": [
    "DATA_DIR = '/kaggle/input/bitgrit-crypto-price-prediction'\n",
    "\n",
    "train = pd.read_csv(f'{DATA_DIR}/train.csv')\n",
    "test = pd.read_csv(f'{DATA_DIR}/test.csv')\n",
    "sample_sub = pd.read_csv(f'{DATA_DIR}/solution_format.csv')"
   ]
  },
  {
   "cell_type": "markdown",
   "id": "678daad7",
   "metadata": {
    "papermill": {
     "duration": 0.007262,
     "end_time": "2024-05-29T17:33:39.413208",
     "exception": false,
     "start_time": "2024-05-29T17:33:39.405946",
     "status": "completed"
    },
    "tags": []
   },
   "source": [
    "# Data preparation"
   ]
  },
  {
   "cell_type": "code",
   "execution_count": 4,
   "id": "33a77607",
   "metadata": {
    "execution": {
     "iopub.execute_input": "2024-05-29T17:33:39.430981Z",
     "iopub.status.busy": "2024-05-29T17:33:39.430121Z",
     "iopub.status.idle": "2024-05-29T17:33:39.435523Z",
     "shell.execute_reply": "2024-05-29T17:33:39.434690Z"
    },
    "papermill": {
     "duration": 0.017244,
     "end_time": "2024-05-29T17:33:39.438040",
     "exception": false,
     "start_time": "2024-05-29T17:33:39.420796",
     "status": "completed"
    },
    "tags": []
   },
   "outputs": [],
   "source": [
    "TARGET = 'Target'"
   ]
  },
  {
   "cell_type": "code",
   "execution_count": 5,
   "id": "2fe3787b",
   "metadata": {
    "execution": {
     "iopub.execute_input": "2024-05-29T17:33:39.455626Z",
     "iopub.status.busy": "2024-05-29T17:33:39.454775Z",
     "iopub.status.idle": "2024-05-29T17:33:39.461205Z",
     "shell.execute_reply": "2024-05-29T17:33:39.460372Z"
    },
    "papermill": {
     "duration": 0.018007,
     "end_time": "2024-05-29T17:33:39.463668",
     "exception": false,
     "start_time": "2024-05-29T17:33:39.445661",
     "status": "completed"
    },
    "tags": []
   },
   "outputs": [],
   "source": [
    "feats_A = [f'feature_{i}_A' for i in range(1, 10)]\n",
    "feats_F = [f'feature_{i}_F' for i in range(1, 10)]\n",
    "\n",
    "CAT_FEATURES = [\n",
    "    'TR_1_EventInd', 'TR_2_EventInd', 'TR_3_EventInd', 'feature_X_A',\n",
    "    'feature_10_A', 'feature_10_F_missing', 'feature_10_G'\n",
    "] + feats_A + feats_F"
   ]
  },
  {
   "cell_type": "code",
   "execution_count": 6,
   "id": "669fba4b",
   "metadata": {
    "execution": {
     "iopub.execute_input": "2024-05-29T17:33:39.481182Z",
     "iopub.status.busy": "2024-05-29T17:33:39.480376Z",
     "iopub.status.idle": "2024-05-29T17:33:39.518924Z",
     "shell.execute_reply": "2024-05-29T17:33:39.517368Z"
    },
    "papermill": {
     "duration": 0.050655,
     "end_time": "2024-05-29T17:33:39.521896",
     "exception": false,
     "start_time": "2024-05-29T17:33:39.471241",
     "status": "completed"
    },
    "tags": []
   },
   "outputs": [],
   "source": [
    "def preprocess_data(df):\n",
    "    fill_zero_cols = ['TR_1_EventInd', 'TR_2_EventInd', 'TR_3_EventInd']\n",
    "    df[fill_zero_cols] = df[fill_zero_cols].fillna(0).astype('int')\n",
    "    \n",
    "#     fill_neg1_cols = ['index_1', 'index_2', 'index_3']\n",
    "#     df[fill_neg1_cols] = df[fill_neg1_cols].fillna(-1).astype('int')\n",
    "    \n",
    "    df['feature_10_F_missing'] = df.feature_10_F.isna().astype('int')\n",
    "    df['feats_A_sum'] = df[feats_A].sum(axis=1)\n",
    "    df['feats_F_sum'] = df[feats_F].sum(axis=1)\n",
    "    \n",
    "    return df\n",
    "\n",
    "\n",
    "train = preprocess_data(train.copy())\n",
    "test = preprocess_data(test.copy())"
   ]
  },
  {
   "cell_type": "code",
   "execution_count": 7,
   "id": "641a71dd",
   "metadata": {
    "execution": {
     "iopub.execute_input": "2024-05-29T17:33:39.538998Z",
     "iopub.status.busy": "2024-05-29T17:33:39.538540Z",
     "iopub.status.idle": "2024-05-29T17:33:39.545229Z",
     "shell.execute_reply": "2024-05-29T17:33:39.543692Z"
    },
    "papermill": {
     "duration": 0.01834,
     "end_time": "2024-05-29T17:33:39.547717",
     "exception": false,
     "start_time": "2024-05-29T17:33:39.529377",
     "status": "completed"
    },
    "tags": []
   },
   "outputs": [],
   "source": [
    "FEATURES = [f for f in test.columns if f not in ('ID', 'feature_10_F')]"
   ]
  },
  {
   "cell_type": "code",
   "execution_count": 8,
   "id": "39de998e",
   "metadata": {
    "execution": {
     "iopub.execute_input": "2024-05-29T17:33:39.565965Z",
     "iopub.status.busy": "2024-05-29T17:33:39.565456Z",
     "iopub.status.idle": "2024-05-29T17:33:39.574356Z",
     "shell.execute_reply": "2024-05-29T17:33:39.573111Z"
    },
    "papermill": {
     "duration": 0.021705,
     "end_time": "2024-05-29T17:33:39.576851",
     "exception": false,
     "start_time": "2024-05-29T17:33:39.555146",
     "status": "completed"
    },
    "tags": []
   },
   "outputs": [],
   "source": [
    "# LightGBM dataset\n",
    "dtrain = lgb.Dataset(\n",
    "    data=train[FEATURES],\n",
    "    label=train[TARGET],\n",
    "    feature_name=FEATURES,\n",
    "    categorical_feature=CAT_FEATURES)"
   ]
  },
  {
   "cell_type": "markdown",
   "id": "7228482b",
   "metadata": {
    "papermill": {
     "duration": 0.007081,
     "end_time": "2024-05-29T17:33:39.591400",
     "exception": false,
     "start_time": "2024-05-29T17:33:39.584319",
     "status": "completed"
    },
    "tags": []
   },
   "source": [
    "# LightGBMTuner - tuning"
   ]
  },
  {
   "cell_type": "code",
   "execution_count": 9,
   "id": "2a0403c0",
   "metadata": {
    "execution": {
     "iopub.execute_input": "2024-05-29T17:33:39.609122Z",
     "iopub.status.busy": "2024-05-29T17:33:39.608555Z",
     "iopub.status.idle": "2024-05-29T17:33:39.616354Z",
     "shell.execute_reply": "2024-05-29T17:33:39.615097Z"
    },
    "papermill": {
     "duration": 0.019848,
     "end_time": "2024-05-29T17:33:39.618841",
     "exception": false,
     "start_time": "2024-05-29T17:33:39.598993",
     "status": "completed"
    },
    "tags": []
   },
   "outputs": [],
   "source": [
    "base_params = {\n",
    "    'objective': 'binary',\n",
    "    'metric': 'auc',\n",
    "    'learning_rate': 0.01,\n",
    "    'boosting_type': 'gbdt',\n",
    "    'force_row_wise': True,\n",
    "    'verbosity': -1,\n",
    "    'n_jobs': -1,\n",
    "    'deterministic': True,\n",
    "    'random_state': SEED\n",
    "}\n",
    "\n",
    "early_stopping = lgb.early_stopping(\n",
    "    stopping_rounds=100,\n",
    "    first_metric_only=True,\n",
    "    verbose=False,\n",
    "    min_delta=1e-4)"
   ]
  },
  {
   "cell_type": "code",
   "execution_count": 10,
   "id": "72347934",
   "metadata": {
    "execution": {
     "iopub.execute_input": "2024-05-29T17:33:39.636265Z",
     "iopub.status.busy": "2024-05-29T17:33:39.635449Z",
     "iopub.status.idle": "2024-05-29T17:33:39.645792Z",
     "shell.execute_reply": "2024-05-29T17:33:39.644236Z"
    },
    "papermill": {
     "duration": 0.021983,
     "end_time": "2024-05-29T17:33:39.648220",
     "exception": false,
     "start_time": "2024-05-29T17:33:39.626237",
     "status": "completed"
    },
    "tags": []
   },
   "outputs": [
    {
     "name": "stderr",
     "output_type": "stream",
     "text": [
      "[I 2024-05-29 17:33:39,639] A new study created in memory with name: no-name-0285906c-a0c6-4dca-a7e5-1ba3fe9fec7d\n"
     ]
    }
   ],
   "source": [
    "BUDGET = 60 * 60 * 4\n",
    "NUM_FOLDS = 7\n",
    "\n",
    "tuner = lgb.LightGBMTunerCV(\n",
    "    time_budget=BUDGET,\n",
    "    optuna_seed=SEED,\n",
    "    params=base_params,\n",
    "    train_set=dtrain,\n",
    "    num_boost_round=10000,\n",
    "    folds=StratifiedKFold(n_splits=NUM_FOLDS, shuffle=True, random_state=SEED),\n",
    "    seed=SEED,\n",
    "    feature_name=FEATURES,\n",
    "    categorical_feature=CAT_FEATURES,\n",
    "    callbacks=[early_stopping])"
   ]
  },
  {
   "cell_type": "code",
   "execution_count": 11,
   "id": "a624b8e9",
   "metadata": {
    "execution": {
     "iopub.execute_input": "2024-05-29T17:33:39.665679Z",
     "iopub.status.busy": "2024-05-29T17:33:39.665177Z",
     "iopub.status.idle": "2024-05-29T19:36:28.473790Z",
     "shell.execute_reply": "2024-05-29T19:36:28.471855Z"
    },
    "papermill": {
     "duration": 7368.85847,
     "end_time": "2024-05-29T19:36:28.514235",
     "exception": false,
     "start_time": "2024-05-29T17:33:39.655765",
     "status": "completed"
    },
    "tags": []
   },
   "outputs": [
    {
     "name": "stderr",
     "output_type": "stream",
     "text": [
      "feature_fraction, val_score: 0.819847:  14%|#4        | 1/7 [01:55<11:31, 115.27s/it][I 2024-05-29 17:35:34,945] Trial 0 finished with value: 0.8198465477506883 and parameters: {'feature_fraction': 0.5}. Best is trial 0 with value: 0.8198465477506883.\n",
      "feature_fraction, val_score: 0.819847:  29%|##8       | 2/7 [03:38<09:02, 108.46s/it][I 2024-05-29 17:37:18,645] Trial 1 finished with value: 0.8158854722985467 and parameters: {'feature_fraction': 0.8999999999999999}. Best is trial 0 with value: 0.8198465477506883.\n",
      "feature_fraction, val_score: 0.819847:  43%|####2     | 3/7 [05:41<07:40, 115.06s/it][I 2024-05-29 17:39:21,559] Trial 2 finished with value: 0.8190717441001046 and parameters: {'feature_fraction': 0.7}. Best is trial 0 with value: 0.8198465477506883.\n",
      "feature_fraction, val_score: 0.819847:  57%|#####7    | 4/7 [07:38<05:47, 115.76s/it][I 2024-05-29 17:41:18,396] Trial 3 finished with value: 0.8189023036321676 and parameters: {'feature_fraction': 0.8}. Best is trial 0 with value: 0.8198465477506883.\n",
      "feature_fraction, val_score: 0.819847:  71%|#######1  | 5/7 [09:31<03:49, 114.84s/it][I 2024-05-29 17:43:11,586] Trial 4 finished with value: 0.8140918135245986 and parameters: {'feature_fraction': 1.0}. Best is trial 0 with value: 0.8198465477506883.\n",
      "feature_fraction, val_score: 0.819847:  86%|########5 | 6/7 [11:02<01:46, 106.55s/it][I 2024-05-29 17:44:42,048] Trial 5 finished with value: 0.8189539122827553 and parameters: {'feature_fraction': 0.6}. Best is trial 0 with value: 0.8198465477506883.\n",
      "feature_fraction, val_score: 0.819847: 100%|##########| 7/7 [12:22<00:00, 97.99s/it] [I 2024-05-29 17:46:02,429] Trial 6 finished with value: 0.818071435323988 and parameters: {'feature_fraction': 0.4}. Best is trial 0 with value: 0.8198465477506883.\n",
      "feature_fraction, val_score: 0.819847: 100%|##########| 7/7 [12:22<00:00, 106.11s/it]\n",
      "num_leaves, val_score: 0.819847:   5%|5         | 1/20 [01:21<25:45, 81.35s/it][I 2024-05-29 17:47:23,786] Trial 7 finished with value: 0.8189320786669058 and parameters: {'num_leaves': 151}. Best is trial 7 with value: 0.8189320786669058.\n",
      "num_leaves, val_score: 0.819847:  10%|#         | 2/20 [02:45<24:53, 82.98s/it][I 2024-05-29 17:48:47,916] Trial 8 finished with value: 0.8189320786669058 and parameters: {'num_leaves': 180}. Best is trial 7 with value: 0.8189320786669058.\n",
      "num_leaves, val_score: 0.820711:  15%|#5        | 3/20 [04:33<26:44, 94.40s/it][I 2024-05-29 17:50:35,911] Trial 9 finished with value: 0.8207112064790737 and parameters: {'num_leaves': 49}. Best is trial 9 with value: 0.8207112064790737.\n",
      "num_leaves, val_score: 0.820711:  20%|##        | 4/20 [06:31<27:41, 103.83s/it][I 2024-05-29 17:52:34,177] Trial 10 finished with value: 0.8122441192712039 and parameters: {'num_leaves': 12}. Best is trial 9 with value: 0.8207112064790737.\n",
      "num_leaves, val_score: 0.820711:  25%|##5       | 5/20 [08:17<26:07, 104.49s/it][I 2024-05-29 17:54:19,843] Trial 11 finished with value: 0.8185294467512279 and parameters: {'num_leaves': 18}. Best is trial 9 with value: 0.8207112064790737.\n",
      "num_leaves, val_score: 0.820794:  30%|###       | 6/20 [09:53<23:44, 101.73s/it][I 2024-05-29 17:55:56,214] Trial 12 finished with value: 0.8207940279820597 and parameters: {'num_leaves': 81}. Best is trial 12 with value: 0.8207940279820597.\n",
      "num_leaves, val_score: 0.820794:  35%|###5      | 7/20 [11:28<21:31, 99.38s/it] [I 2024-05-29 17:57:30,745] Trial 13 finished with value: 0.8207940279820597 and parameters: {'num_leaves': 81}. Best is trial 12 with value: 0.8207940279820597.\n",
      "num_leaves, val_score: 0.820794:  40%|####      | 8/20 [12:54<19:00, 95.03s/it][I 2024-05-29 17:58:56,479] Trial 14 finished with value: 0.8184320315354064 and parameters: {'num_leaves': 89}. Best is trial 12 with value: 0.8207940279820597.\n",
      "num_leaves, val_score: 0.820794:  45%|####5     | 9/20 [14:18<16:48, 91.66s/it][I 2024-05-29 18:00:20,731] Trial 15 finished with value: 0.8189320786669058 and parameters: {'num_leaves': 99}. Best is trial 12 with value: 0.8207940279820597.\n",
      "num_leaves, val_score: 0.820794:  50%|#####     | 10/20 [15:44<14:59, 89.91s/it][I 2024-05-29 18:01:46,708] Trial 16 finished with value: 0.8189320786669058 and parameters: {'num_leaves': 226}. Best is trial 12 with value: 0.8207940279820597.\n",
      "num_leaves, val_score: 0.823140:  55%|#####5    | 11/20 [18:04<15:46, 105.21s/it][I 2024-05-29 18:04:06,611] Trial 17 finished with value: 0.8231403745201249 and parameters: {'num_leaves': 78}. Best is trial 17 with value: 0.8231403745201249.\n",
      "num_leaves, val_score: 0.823140:  60%|######    | 12/20 [19:23<12:59, 97.43s/it] [I 2024-05-29 18:05:26,235] Trial 18 finished with value: 0.8189320786669058 and parameters: {'num_leaves': 131}. Best is trial 17 with value: 0.8231403745201249.\n",
      "num_leaves, val_score: 0.823339:  65%|######5   | 13/20 [20:33<10:23, 89.03s/it][I 2024-05-29 18:06:35,946] Trial 19 finished with value: 0.8233390358354908 and parameters: {'num_leaves': 65}. Best is trial 19 with value: 0.8233390358354908.\n",
      "num_leaves, val_score: 0.823339:  70%|#######   | 14/20 [22:02<08:54, 89.16s/it][I 2024-05-29 18:08:05,409] Trial 20 finished with value: 0.8218595395382122 and parameters: {'num_leaves': 52}. Best is trial 19 with value: 0.8233390358354908.\n",
      "num_leaves, val_score: 0.823339:  75%|#######5  | 15/20 [23:31<07:25, 89.11s/it][I 2024-05-29 18:09:34,414] Trial 21 finished with value: 0.8230741189547203 and parameters: {'num_leaves': 50}. Best is trial 19 with value: 0.8233390358354908.\n",
      "num_leaves, val_score: 0.823339:  80%|########  | 16/20 [25:11<06:09, 92.29s/it][I 2024-05-29 18:11:14,089] Trial 22 finished with value: 0.822711655899404 and parameters: {'num_leaves': 51}. Best is trial 19 with value: 0.8233390358354908.\n",
      "num_leaves, val_score: 0.823339:  85%|########5 | 17/20 [26:49<04:41, 93.92s/it][I 2024-05-29 18:12:51,783] Trial 23 finished with value: 0.8194137012018464 and parameters: {'num_leaves': 40}. Best is trial 19 with value: 0.8233390358354908.\n",
      "num_leaves, val_score: 0.823339:  90%|######### | 18/20 [28:07<02:58, 89.08s/it][I 2024-05-29 18:14:09,586] Trial 24 finished with value: 0.8189320786669058 and parameters: {'num_leaves': 114}. Best is trial 19 with value: 0.8233390358354908.\n",
      "num_leaves, val_score: 0.823339:  95%|#########5| 19/20 [30:12<01:39, 99.89s/it][I 2024-05-29 18:16:14,660] Trial 25 finished with value: 0.8230746059574762 and parameters: {'num_leaves': 54}. Best is trial 19 with value: 0.8233390358354908.\n",
      "num_leaves, val_score: 0.823339: 100%|##########| 20/20 [32:06<00:00, 104.10s/it][I 2024-05-29 18:18:08,574] Trial 26 finished with value: 0.8232906077085034 and parameters: {'num_leaves': 73}. Best is trial 19 with value: 0.8233390358354908.\n",
      "num_leaves, val_score: 0.823339: 100%|##########| 20/20 [32:06<00:00, 96.31s/it] \n",
      "bagging, val_score: 0.823339:  10%|#         | 1/10 [00:45<06:51, 45.73s/it][I 2024-05-29 18:18:54,318] Trial 27 finished with value: 0.784812591244809 and parameters: {'bagging_fraction': 0.5736183015264869, 'bagging_freq': 3}. Best is trial 27 with value: 0.784812591244809.\n",
      "bagging, val_score: 0.823339:  20%|##        | 2/10 [02:38<11:19, 84.90s/it][I 2024-05-29 18:20:46,626] Trial 28 finished with value: 0.8212826551035569 and parameters: {'bagging_fraction': 0.967363692250022, 'bagging_freq': 7}. Best is trial 28 with value: 0.8212826551035569.\n",
      "bagging, val_score: 0.823339:  30%|###       | 3/10 [04:13<10:28, 89.79s/it][I 2024-05-29 18:22:22,256] Trial 29 finished with value: 0.7741548646937189 and parameters: {'bagging_fraction': 0.4259941696887872, 'bagging_freq': 1}. Best is trial 28 with value: 0.8212826551035569.\n",
      "bagging, val_score: 0.823339:  40%|####      | 4/10 [05:35<08:39, 86.57s/it][I 2024-05-29 18:23:43,889] Trial 30 finished with value: 0.8186908366680062 and parameters: {'bagging_fraction': 0.928412772698898, 'bagging_freq': 7}. Best is trial 28 with value: 0.8212826551035569.\n",
      "bagging, val_score: 0.823339:  50%|#####     | 5/10 [06:59<07:09, 85.88s/it][I 2024-05-29 18:25:08,529] Trial 31 finished with value: 0.8000153170551639 and parameters: {'bagging_fraction': 0.7174170554172974, 'bagging_freq': 4}. Best is trial 28 with value: 0.8212826551035569.\n",
      "bagging, val_score: 0.823339:  60%|######    | 6/10 [08:00<05:08, 77.18s/it][I 2024-05-29 18:26:08,827] Trial 32 finished with value: 0.8030248341394115 and parameters: {'bagging_fraction': 0.7636024167117853, 'bagging_freq': 1}. Best is trial 28 with value: 0.8212826551035569.\n",
      "bagging, val_score: 0.823339:  70%|#######   | 7/10 [09:32<04:06, 82.00s/it][I 2024-05-29 18:27:40,758] Trial 33 finished with value: 0.7685305674032278 and parameters: {'bagging_fraction': 0.4110344481005057, 'bagging_freq': 5}. Best is trial 28 with value: 0.8212826551035569.\n",
      "bagging, val_score: 0.823339:  80%|########  | 8/10 [10:39<02:34, 77.43s/it][I 2024-05-29 18:28:48,390] Trial 34 finished with value: 0.8103631226234743 and parameters: {'bagging_fraction': 0.8361931210788806, 'bagging_freq': 3}. Best is trial 28 with value: 0.8212826551035569.\n",
      "bagging, val_score: 0.823339:  90%|######### | 9/10 [12:13<01:22, 82.63s/it][I 2024-05-29 18:30:22,457] Trial 35 finished with value: 0.7886184383199415 and parameters: {'bagging_fraction': 0.5891842491039101, 'bagging_freq': 5}. Best is trial 28 with value: 0.8212826551035569.\n",
      "bagging, val_score: 0.823339: 100%|##########| 10/10 [13:40<00:00, 83.82s/it][I 2024-05-29 18:31:48,941] Trial 36 finished with value: 0.7907711303265756 and parameters: {'bagging_fraction': 0.6085830064799577, 'bagging_freq': 6}. Best is trial 28 with value: 0.8212826551035569.\n",
      "bagging, val_score: 0.823339: 100%|##########| 10/10 [13:40<00:00, 82.04s/it]\n",
      "feature_fraction_stage2, val_score: 0.823626:  17%|#6        | 1/6 [02:03<10:19, 123.86s/it][I 2024-05-29 18:33:52,815] Trial 37 finished with value: 0.8236256066049032 and parameters: {'feature_fraction': 0.484}. Best is trial 37 with value: 0.8236256066049032.\n",
      "feature_fraction_stage2, val_score: 0.824076:  33%|###3      | 2/6 [03:14<06:09, 92.27s/it] [I 2024-05-29 18:35:02,973] Trial 38 finished with value: 0.824076222615644 and parameters: {'feature_fraction': 0.45199999999999996}. Best is trial 38 with value: 0.824076222615644.\n",
      "feature_fraction_stage2, val_score: 0.824508:  50%|#####     | 3/6 [04:59<04:54, 98.30s/it][I 2024-05-29 18:36:48,440] Trial 39 finished with value: 0.8245084488157374 and parameters: {'feature_fraction': 0.42}. Best is trial 39 with value: 0.8245084488157374.\n",
      "feature_fraction_stage2, val_score: 0.824508:  67%|######6   | 4/6 [06:11<02:56, 88.11s/it][I 2024-05-29 18:38:00,927] Trial 40 finished with value: 0.8230527201627597 and parameters: {'feature_fraction': 0.516}. Best is trial 39 with value: 0.8245084488157374.\n",
      "feature_fraction_stage2, val_score: 0.824995:  83%|########3 | 5/6 [08:15<01:40, 100.89s/it][I 2024-05-29 18:40:04,482] Trial 41 finished with value: 0.8249954873806262 and parameters: {'feature_fraction': 0.5479999999999999}. Best is trial 41 with value: 0.8249954873806262.\n",
      "feature_fraction_stage2, val_score: 0.825186: 100%|##########| 6/6 [10:11<00:00, 106.11s/it][I 2024-05-29 18:42:00,711] Trial 42 finished with value: 0.8251861295203611 and parameters: {'feature_fraction': 0.58}. Best is trial 42 with value: 0.8251861295203611.\n",
      "feature_fraction_stage2, val_score: 0.825186: 100%|##########| 6/6 [10:11<00:00, 101.96s/it]\n",
      "regularization_factors, val_score: 0.825623:   5%|5         | 1/20 [02:30<47:47, 150.91s/it][I 2024-05-29 18:44:31,629] Trial 43 finished with value: 0.8256226493932111 and parameters: {'lambda_l1': 4.020448680588366e-06, 'lambda_l2': 5.063045298563952e-06}. Best is trial 43 with value: 0.8256226493932111.\n",
      "regularization_factors, val_score: 0.825623:  10%|#         | 2/20 [04:52<43:33, 145.21s/it][I 2024-05-29 18:46:52,852] Trial 44 finished with value: 0.8245937053325029 and parameters: {'lambda_l1': 3.485829307948253e-06, 'lambda_l2': 2.816150674907995e-06}. Best is trial 43 with value: 0.8256226493932111.\n",
      "regularization_factors, val_score: 0.825623:  15%|#5        | 3/20 [06:57<38:35, 136.22s/it][I 2024-05-29 18:48:58,379] Trial 45 finished with value: 0.8247305878928114 and parameters: {'lambda_l1': 1.1432519221803943e-06, 'lambda_l2': 3.427460308826897e-06}. Best is trial 43 with value: 0.8256226493932111.\n",
      "regularization_factors, val_score: 0.825623:  20%|##        | 4/20 [09:14<36:23, 136.44s/it][I 2024-05-29 18:51:15,146] Trial 46 finished with value: 0.8245651917986008 and parameters: {'lambda_l1': 1.7176936549689955e-06, 'lambda_l2': 2.182990511409827e-06}. Best is trial 43 with value: 0.8256226493932111.\n",
      "regularization_factors, val_score: 0.825623:  25%|##5       | 5/20 [11:23<33:25, 133.71s/it][I 2024-05-29 18:53:24,013] Trial 47 finished with value: 0.8244603685478614 and parameters: {'lambda_l1': 2.3201630619432114e-06, 'lambda_l2': 4.501151953885885e-06}. Best is trial 43 with value: 0.8256226493932111.\n",
      "regularization_factors, val_score: 0.825921:  30%|###       | 6/20 [13:58<32:52, 140.87s/it][I 2024-05-29 18:55:58,802] Trial 48 finished with value: 0.8259205879937588 and parameters: {'lambda_l1': 3.352563430088431e-06, 'lambda_l2': 8.314051227577427e-06}. Best is trial 48 with value: 0.8259205879937588.\n",
      "regularization_factors, val_score: 0.825921:  35%|###5      | 7/20 [16:09<29:51, 137.83s/it][I 2024-05-29 18:58:10,363] Trial 49 finished with value: 0.8250170485068385 and parameters: {'lambda_l1': 8.547870548176594e-05, 'lambda_l2': 0.004453558211087381}. Best is trial 48 with value: 0.8259205879937588.\n",
      "regularization_factors, val_score: 0.825921:  40%|####      | 8/20 [17:57<25:39, 128.32s/it][I 2024-05-29 18:59:58,317] Trial 50 finished with value: 0.8245566972155175 and parameters: {'lambda_l1': 0.011725678185483656, 'lambda_l2': 0.02489256162941836}. Best is trial 48 with value: 0.8259205879937588.\n",
      "regularization_factors, val_score: 0.826247:  45%|####5     | 9/20 [20:14<24:01, 131.08s/it][I 2024-05-29 19:02:15,463] Trial 51 finished with value: 0.8262469995446456 and parameters: {'lambda_l1': 2.0305666960785824e-05, 'lambda_l2': 0.0008674298680837414}. Best is trial 51 with value: 0.8262469995446456.\n",
      "regularization_factors, val_score: 0.826247:  50%|#####     | 10/20 [22:13<21:12, 127.29s/it][I 2024-05-29 19:04:14,258] Trial 52 finished with value: 0.823283632110206 and parameters: {'lambda_l1': 0.00025042445547993677, 'lambda_l2': 0.0033419172191931634}. Best is trial 51 with value: 0.8262469995446456.\n",
      "regularization_factors, val_score: 0.826247:  55%|#####5    | 11/20 [24:27<19:24, 129.40s/it][I 2024-05-29 19:06:28,461] Trial 53 finished with value: 0.8241743833412866 and parameters: {'lambda_l1': 0.00015887836642152175, 'lambda_l2': 0.00037170809809780066}. Best is trial 51 with value: 0.8262469995446456.\n",
      "regularization_factors, val_score: 0.826247:  60%|######    | 12/20 [26:17<16:27, 123.46s/it][I 2024-05-29 19:08:18,323] Trial 54 finished with value: 0.8253834341851926 and parameters: {'lambda_l1': 5.532676822800863e-05, 'lambda_l2': 0.00025732053767102853}. Best is trial 51 with value: 0.8262469995446456.\n",
      "regularization_factors, val_score: 0.826247:  65%|######5   | 13/20 [28:04<13:49, 118.50s/it][I 2024-05-29 19:10:05,415] Trial 55 finished with value: 0.8248590918230737 and parameters: {'lambda_l1': 4.624586988423874e-05, 'lambda_l2': 0.0002905560269313722}. Best is trial 51 with value: 0.8262469995446456.\n",
      "regularization_factors, val_score: 0.826247:  70%|#######   | 14/20 [29:49<11:27, 114.51s/it][I 2024-05-29 19:11:50,697] Trial 56 finished with value: 0.8251255218909784 and parameters: {'lambda_l1': 1.1907765936737759e-08, 'lambda_l2': 0.0002817207941385853}. Best is trial 51 with value: 0.8262469995446456.\n",
      "regularization_factors, val_score: 0.826247:  75%|#######5  | 15/20 [32:01<09:58, 119.78s/it][I 2024-05-29 19:14:02,695] Trial 57 finished with value: 0.8246785444183345 and parameters: {'lambda_l1': 3.2354290824127515e-08, 'lambda_l2': 0.00010809302369095104}. Best is trial 51 with value: 0.8262469995446456.\n",
      "regularization_factors, val_score: 0.826247:  80%|########  | 16/20 [34:19<08:19, 124.97s/it][I 2024-05-29 19:16:19,725] Trial 58 finished with value: 0.8247587477699503 and parameters: {'lambda_l1': 1.1101684350966936e-08, 'lambda_l2': 6.886643346021118e-05}. Best is trial 51 with value: 0.8262469995446456.\n",
      "regularization_factors, val_score: 0.826247:  85%|########5 | 17/20 [36:31<06:22, 127.37s/it][I 2024-05-29 19:18:32,664] Trial 59 finished with value: 0.8234493818611801 and parameters: {'lambda_l1': 0.007802079731303507, 'lambda_l2': 1.1474449208557858e-08}. Best is trial 51 with value: 0.8262469995446456.\n",
      "regularization_factors, val_score: 0.826247:  90%|######### | 18/20 [38:43<04:17, 128.55s/it][I 2024-05-29 19:20:43,963] Trial 60 finished with value: 0.8122504629254488 and parameters: {'lambda_l1': 1.6126438036017616, 'lambda_l2': 4.517544559596942e-05}. Best is trial 51 with value: 0.8262469995446456.\n",
      "regularization_factors, val_score: 0.826247:  95%|#########5| 19/20 [41:45<02:24, 144.77s/it][I 2024-05-29 19:23:46,517] Trial 61 finished with value: 0.8144790704085939 and parameters: {'lambda_l1': 1.574101754138286e-05, 'lambda_l2': 2.1743545341631774}. Best is trial 51 with value: 0.8262469995446456.\n",
      "regularization_factors, val_score: 0.826247: 100%|##########| 20/20 [43:59<00:00, 141.52s/it][I 2024-05-29 19:26:00,477] Trial 62 finished with value: 0.8248917946719988 and parameters: {'lambda_l1': 2.8640101170378556e-05, 'lambda_l2': 0.0062192024275302205}. Best is trial 51 with value: 0.8262469995446456.\n",
      "regularization_factors, val_score: 0.826247: 100%|##########| 20/20 [43:59<00:00, 131.99s/it]\n",
      "min_child_samples, val_score: 0.826247:  20%|##        | 1/5 [02:16<09:06, 136.71s/it][I 2024-05-29 19:28:17,201] Trial 63 finished with value: 0.8167003022554639 and parameters: {'min_child_samples': 25}. Best is trial 63 with value: 0.8167003022554639.\n",
      "min_child_samples, val_score: 0.828709:  40%|####      | 2/5 [03:54<05:41, 113.72s/it][I 2024-05-29 19:29:54,829] Trial 64 finished with value: 0.8287085979449849 and parameters: {'min_child_samples': 10}. Best is trial 64 with value: 0.8287085979449849.\n",
      "min_child_samples, val_score: 0.834031:  60%|######    | 3/5 [05:25<03:26, 103.46s/it][I 2024-05-29 19:31:26,074] Trial 65 finished with value: 0.8340309320414256 and parameters: {'min_child_samples': 5}. Best is trial 65 with value: 0.8340309320414256.\n",
      "min_child_samples, val_score: 0.834031:  80%|########  | 4/5 [08:34<02:17, 137.05s/it][I 2024-05-29 19:34:34,609] Trial 66 finished with value: 0.7837044724041321 and parameters: {'min_child_samples': 100}. Best is trial 65 with value: 0.8340309320414256.\n",
      "min_child_samples, val_score: 0.834031: 100%|##########| 5/5 [10:27<00:00, 128.68s/it][I 2024-05-29 19:36:28,466] Trial 67 finished with value: 0.792874524558444 and parameters: {'min_child_samples': 50}. Best is trial 65 with value: 0.8340309320414256.\n",
      "min_child_samples, val_score: 0.834031: 100%|##########| 5/5 [10:27<00:00, 125.60s/it]"
     ]
    },
    {
     "name": "stdout",
     "output_type": "stream",
     "text": [
      "CPU times: user 2h 3min 50s, sys: 1h 3min 8s, total: 3h 6min 59s\n",
      "Wall time: 2h 2min 48s\n"
     ]
    },
    {
     "name": "stderr",
     "output_type": "stream",
     "text": [
      "\n"
     ]
    }
   ],
   "source": [
    "%%time\n",
    "tuner.run()"
   ]
  },
  {
   "cell_type": "markdown",
   "id": "3f1f293c",
   "metadata": {
    "papermill": {
     "duration": 0.036669,
     "end_time": "2024-05-29T19:36:28.586360",
     "exception": false,
     "start_time": "2024-05-29T19:36:28.549691",
     "status": "completed"
    },
    "tags": []
   },
   "source": [
    "# Cross validation + Thresholding"
   ]
  },
  {
   "cell_type": "code",
   "execution_count": 12,
   "id": "1a5d91ae",
   "metadata": {
    "execution": {
     "iopub.execute_input": "2024-05-29T19:36:28.660608Z",
     "iopub.status.busy": "2024-05-29T19:36:28.660148Z",
     "iopub.status.idle": "2024-05-29T19:36:28.667549Z",
     "shell.execute_reply": "2024-05-29T19:36:28.665861Z"
    },
    "papermill": {
     "duration": 0.048038,
     "end_time": "2024-05-29T19:36:28.670625",
     "exception": false,
     "start_time": "2024-05-29T19:36:28.622587",
     "status": "completed"
    },
    "tags": []
   },
   "outputs": [],
   "source": [
    "def probs_to_labels(probs, threshold=0.5):\n",
    "    return (probs >= threshold).astype('int')"
   ]
  },
  {
   "cell_type": "code",
   "execution_count": 13,
   "id": "01b07044",
   "metadata": {
    "execution": {
     "iopub.execute_input": "2024-05-29T19:36:28.745392Z",
     "iopub.status.busy": "2024-05-29T19:36:28.744902Z",
     "iopub.status.idle": "2024-05-29T19:36:28.752198Z",
     "shell.execute_reply": "2024-05-29T19:36:28.750597Z"
    },
    "papermill": {
     "duration": 0.048304,
     "end_time": "2024-05-29T19:36:28.754938",
     "exception": false,
     "start_time": "2024-05-29T19:36:28.706634",
     "status": "completed"
    },
    "tags": []
   },
   "outputs": [],
   "source": [
    "def get_best_threshold(y_true, y_probs):\n",
    "    candidates = np.arange(0.001, 0.999, 0.001)\n",
    "    scores = [\n",
    "        f1_score(y_true, probs_to_labels(y_probs, t)) \n",
    "        for t in candidates\n",
    "    ]\n",
    "    \n",
    "    return candidates[np.argmax(scores)]"
   ]
  },
  {
   "cell_type": "code",
   "execution_count": 14,
   "id": "1637ce8c",
   "metadata": {
    "execution": {
     "iopub.execute_input": "2024-05-29T19:36:28.830856Z",
     "iopub.status.busy": "2024-05-29T19:36:28.830342Z",
     "iopub.status.idle": "2024-05-29T19:36:28.847179Z",
     "shell.execute_reply": "2024-05-29T19:36:28.845600Z"
    },
    "papermill": {
     "duration": 0.057841,
     "end_time": "2024-05-29T19:36:28.849982",
     "exception": false,
     "start_time": "2024-05-29T19:36:28.792141",
     "status": "completed"
    },
    "tags": []
   },
   "outputs": [],
   "source": [
    "def custom_cv(estimator, seed=SEED, verbose=True):\n",
    "    oof_preds = {}\n",
    "    test_preds = {}\n",
    "    scores = []\n",
    "    \n",
    "    X, y = train[FEATURES], train[TARGET]\n",
    "    X_test = test[FEATURES]\n",
    "    \n",
    "    cv = StratifiedKFold(n_splits=NUM_FOLDS, shuffle=True, random_state=seed)\n",
    "    for fold, (train_ids, val_ids) in enumerate(cv.split(X, y)):\n",
    "        X_train, y_train = X.iloc[train_ids], y.iloc[train_ids]\n",
    "        X_val, y_val = X.iloc[val_ids], y.iloc[val_ids]\n",
    "        \n",
    "        model = clone(estimator)\n",
    "        model.fit(\n",
    "            X_train, y_train,\n",
    "            eval_set=[(X_val, y_val)],\n",
    "            callbacks=[early_stopping])\n",
    "        \n",
    "        val_probs = model.predict_proba(X_val)[:, 1]\n",
    "        best_threshold = get_best_threshold(y_val, val_probs)\n",
    "        val_preds = probs_to_labels(val_probs, best_threshold)\n",
    "        oof_preds.update(dict(zip(val_ids, val_preds)))\n",
    "        \n",
    "        test_probs = model.predict_proba(X_test)[:, 1]\n",
    "        test_preds[f'fold{fold}'] = probs_to_labels(test_probs, best_threshold)\n",
    "        \n",
    "        \n",
    "        f1_best = f1_score(y_val, val_preds)\n",
    "        scores.append(f1_best)\n",
    "        if verbose:\n",
    "            auc = roc_auc_score(y_val, val_probs)\n",
    "            f1 = f1_score(y_val, probs_to_labels(val_probs, 0.5))\n",
    "            print(f'Fold #{fold}: AUC = {auc:.5f}, F1 @0.5 = {f1: .5f}, F1 @best = {f1_best:.5f}' \\\n",
    "                  f' ({model.best_iteration_:>4} rounds, best threshold: {best_threshold:.3f})')\n",
    "            \n",
    "        _ = gc.collect()\n",
    "    \n",
    "    test_preds = pd.DataFrame.from_dict(test_preds)\n",
    "    test_preds['mode'] = test_preds.mode(axis=1)[0].astype('int')  # mode of fold-wise predictions\n",
    "    oof_preds = pd.Series(oof_preds).sort_index()\n",
    "    \n",
    "    print(f'\\nOOF F1 @best: {f1_score(y, oof_preds):.5f}, ' \\\n",
    "          f'Avg F1 @best: {np.mean(scores):.5f} +/- {np.std(scores):.5f}')\n",
    "    \n",
    "    return oof_preds, test_preds"
   ]
  },
  {
   "cell_type": "code",
   "execution_count": 15,
   "id": "8862171d",
   "metadata": {
    "execution": {
     "iopub.execute_input": "2024-05-29T19:36:28.927313Z",
     "iopub.status.busy": "2024-05-29T19:36:28.926814Z",
     "iopub.status.idle": "2024-05-29T19:37:25.917706Z",
     "shell.execute_reply": "2024-05-29T19:37:25.915615Z"
    },
    "papermill": {
     "duration": 57.032858,
     "end_time": "2024-05-29T19:37:25.920529",
     "exception": false,
     "start_time": "2024-05-29T19:36:28.887671",
     "status": "completed"
    },
    "tags": []
   },
   "outputs": [
    {
     "name": "stdout",
     "output_type": "stream",
     "text": [
      "Fold #0: AUC = 0.89112, F1 @0.5 =  0.83660, F1 @best = 0.83857 ( 233 rounds, best threshold: 0.459)\n",
      "Fold #1: AUC = 0.80290, F1 @0.5 =  0.78170, F1 @best = 0.79238 ( 154 rounds, best threshold: 0.386)\n",
      "Fold #2: AUC = 0.84505, F1 @0.5 =  0.81466, F1 @best = 0.81616 ( 161 rounds, best threshold: 0.490)\n",
      "Fold #3: AUC = 0.84748, F1 @0.5 =  0.79303, F1 @best = 0.80913 ( 281 rounds, best threshold: 0.465)\n",
      "Fold #4: AUC = 0.83226, F1 @0.5 =  0.78242, F1 @best = 0.81363 ( 377 rounds, best threshold: 0.360)\n",
      "Fold #5: AUC = 0.80062, F1 @0.5 =  0.75274, F1 @best = 0.78131 ( 249 rounds, best threshold: 0.343)\n",
      "Fold #6: AUC = 0.84429, F1 @0.5 =  0.77996, F1 @best = 0.80233 ( 793 rounds, best threshold: 0.293)\n",
      "\n",
      "OOF F1 @best: 0.80703, Avg F1 @best: 0.80764 +/- 0.01700\n",
      "CPU times: user 56.9 s, sys: 0 ns, total: 56.9 s\n",
      "Wall time: 57 s\n"
     ]
    }
   ],
   "source": [
    "%%time\n",
    "model = LGBMClassifier(**tuner.best_params, n_estimators=10000)\n",
    "op, tp = custom_cv(model)"
   ]
  },
  {
   "cell_type": "code",
   "execution_count": 16,
   "id": "ccf6d348",
   "metadata": {
    "execution": {
     "iopub.execute_input": "2024-05-29T19:37:25.993743Z",
     "iopub.status.busy": "2024-05-29T19:37:25.993241Z",
     "iopub.status.idle": "2024-05-29T19:37:26.001137Z",
     "shell.execute_reply": "2024-05-29T19:37:25.999705Z"
    },
    "papermill": {
     "duration": 0.048121,
     "end_time": "2024-05-29T19:37:26.004545",
     "exception": false,
     "start_time": "2024-05-29T19:37:25.956424",
     "status": "completed"
    },
    "tags": []
   },
   "outputs": [],
   "source": [
    "def create_submission_files(preds, notebook='06'):\n",
    "    for col in preds.columns:\n",
    "        sub = sample_sub.copy()\n",
    "        sub[TARGET] = preds[col]\n",
    "        sub.to_csv(f'nb{notebook}_{col}.csv', index=False)"
   ]
  },
  {
   "cell_type": "code",
   "execution_count": 17,
   "id": "952b0cfe",
   "metadata": {
    "execution": {
     "iopub.execute_input": "2024-05-29T19:37:26.081437Z",
     "iopub.status.busy": "2024-05-29T19:37:26.080955Z",
     "iopub.status.idle": "2024-05-29T19:37:26.107437Z",
     "shell.execute_reply": "2024-05-29T19:37:26.105515Z"
    },
    "papermill": {
     "duration": 0.06894,
     "end_time": "2024-05-29T19:37:26.111104",
     "exception": false,
     "start_time": "2024-05-29T19:37:26.042164",
     "status": "completed"
    },
    "tags": []
   },
   "outputs": [],
   "source": [
    "create_submission_files(tp)"
   ]
  },
  {
   "cell_type": "code",
   "execution_count": 18,
   "id": "ee22a63c",
   "metadata": {
    "execution": {
     "iopub.execute_input": "2024-05-29T19:37:26.189396Z",
     "iopub.status.busy": "2024-05-29T19:37:26.188913Z",
     "iopub.status.idle": "2024-05-29T19:37:27.334749Z",
     "shell.execute_reply": "2024-05-29T19:37:27.333024Z"
    },
    "papermill": {
     "duration": 1.188474,
     "end_time": "2024-05-29T19:37:27.338242",
     "exception": false,
     "start_time": "2024-05-29T19:37:26.149768",
     "status": "completed"
    },
    "tags": []
   },
   "outputs": [
    {
     "name": "stdout",
     "output_type": "stream",
     "text": [
      "ID,Target\r\n",
      "2661,1\r\n",
      "2662,1\r\n",
      "2663,1\r\n",
      "2664,1\r\n",
      "2665,1\r\n",
      "2666,1\r\n",
      "2667,1\r\n",
      "2668,1\r\n",
      "2669,1\r\n"
     ]
    }
   ],
   "source": [
    "!head nb06_mode.csv"
   ]
  }
 ],
 "metadata": {
  "kaggle": {
   "accelerator": "none",
   "dataSources": [
    {
     "datasetId": 4749181,
     "sourceId": 8052859,
     "sourceType": "datasetVersion"
    }
   ],
   "dockerImageVersionId": 30698,
   "isGpuEnabled": false,
   "isInternetEnabled": true,
   "language": "python",
   "sourceType": "notebook"
  },
  "kernelspec": {
   "display_name": "Python 3",
   "language": "python",
   "name": "python3"
  },
  "language_info": {
   "codemirror_mode": {
    "name": "ipython",
    "version": 3
   },
   "file_extension": ".py",
   "mimetype": "text/x-python",
   "name": "python",
   "nbconvert_exporter": "python",
   "pygments_lexer": "ipython3",
   "version": "3.10.13"
  },
  "papermill": {
   "default_parameters": {},
   "duration": 7455.651889,
   "end_time": "2024-05-29T19:37:28.622410",
   "environment_variables": {},
   "exception": null,
   "input_path": "__notebook__.ipynb",
   "output_path": "__notebook__.ipynb",
   "parameters": {},
   "start_time": "2024-05-29T17:33:12.970521",
   "version": "2.5.0"
  }
 },
 "nbformat": 4,
 "nbformat_minor": 5
}
