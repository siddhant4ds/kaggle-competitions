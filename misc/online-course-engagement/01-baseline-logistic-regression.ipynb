{
 "cells": [
  {
   "cell_type": "markdown",
   "id": "941f122d",
   "metadata": {
    "_cell_guid": "b1076dfc-b9ad-4769-8c92-a6c4dae69d19",
    "_uuid": "8f2839f25d086af736a60e9eeb907d3b93b6e0e5",
    "papermill": {
     "duration": 0.009318,
     "end_time": "2024-07-13T07:28:18.961211",
     "exception": false,
     "start_time": "2024-07-13T07:28:18.951893",
     "status": "completed"
    },
    "tags": []
   },
   "source": [
    "# Setup"
   ]
  },
  {
   "cell_type": "code",
   "execution_count": 1,
   "id": "b7665216",
   "metadata": {
    "execution": {
     "iopub.execute_input": "2024-07-13T07:28:18.980106Z",
     "iopub.status.busy": "2024-07-13T07:28:18.979714Z",
     "iopub.status.idle": "2024-07-13T07:28:21.573678Z",
     "shell.execute_reply": "2024-07-13T07:28:21.572501Z"
    },
    "papermill": {
     "duration": 2.605393,
     "end_time": "2024-07-13T07:28:21.576294",
     "exception": false,
     "start_time": "2024-07-13T07:28:18.970901",
     "status": "completed"
    },
    "tags": []
   },
   "outputs": [],
   "source": [
    "import gc\n",
    "gc.enable()\n",
    "\n",
    "import warnings\n",
    "warnings.filterwarnings(category=FutureWarning, action='ignore')\n",
    "\n",
    "import time\n",
    "import joblib\n",
    "import numpy as np\n",
    "import pandas as pd\n",
    "pd.set_option('display.max_columns', None)\n",
    "pd.set_option('display.precision', 4)\n",
    "\n",
    "import seaborn as sns\n",
    "import matplotlib.pyplot as plt\n",
    "%matplotlib inline\n",
    "\n",
    "from sklearn.base import clone\n",
    "from sklearn.pipeline import make_pipeline\n",
    "from sklearn.preprocessing import StandardScaler\n",
    "from sklearn.linear_model import LogisticRegression\n",
    "from sklearn.model_selection import train_test_split, StratifiedKFold\n",
    "from sklearn.metrics import (\n",
    "    accuracy_score,\n",
    "    roc_auc_score,\n",
    "    confusion_matrix\n",
    ")\n",
    "\n",
    "SEED = 2024"
   ]
  },
  {
   "cell_type": "markdown",
   "id": "53d6dd47",
   "metadata": {
    "papermill": {
     "duration": 0.007249,
     "end_time": "2024-07-13T07:28:21.591465",
     "exception": false,
     "start_time": "2024-07-13T07:28:21.584216",
     "status": "completed"
    },
    "tags": []
   },
   "source": [
    "# Data preparation"
   ]
  },
  {
   "cell_type": "code",
   "execution_count": 2,
   "id": "0da5a82e",
   "metadata": {
    "execution": {
     "iopub.execute_input": "2024-07-13T07:28:21.609931Z",
     "iopub.status.busy": "2024-07-13T07:28:21.609313Z",
     "iopub.status.idle": "2024-07-13T07:28:21.668706Z",
     "shell.execute_reply": "2024-07-13T07:28:21.667403Z"
    },
    "papermill": {
     "duration": 0.072506,
     "end_time": "2024-07-13T07:28:21.671630",
     "exception": false,
     "start_time": "2024-07-13T07:28:21.599124",
     "status": "completed"
    },
    "tags": []
   },
   "outputs": [],
   "source": [
    "data = pd.read_csv('/kaggle/input/predict-online-course-engagement-dataset/online_course_engagement_data.csv')"
   ]
  },
  {
   "cell_type": "code",
   "execution_count": 3,
   "id": "608a5e54",
   "metadata": {
    "execution": {
     "iopub.execute_input": "2024-07-13T07:28:21.688510Z",
     "iopub.status.busy": "2024-07-13T07:28:21.688085Z",
     "iopub.status.idle": "2024-07-13T07:28:21.694302Z",
     "shell.execute_reply": "2024-07-13T07:28:21.693226Z"
    },
    "papermill": {
     "duration": 0.017497,
     "end_time": "2024-07-13T07:28:21.696717",
     "exception": false,
     "start_time": "2024-07-13T07:28:21.679220",
     "status": "completed"
    },
    "tags": []
   },
   "outputs": [],
   "source": [
    "TARGET = 'CourseCompletion'\n",
    "features = [f for f in data.columns if f not in ('UserID', TARGET)]\n",
    "cat_features = ['DeviceType', 'CourseCategory']\n",
    "num_features = [f for f in features if f not in cat_features]"
   ]
  },
  {
   "cell_type": "markdown",
   "id": "44be70eb",
   "metadata": {
    "papermill": {
     "duration": 0.007194,
     "end_time": "2024-07-13T07:28:21.711437",
     "exception": false,
     "start_time": "2024-07-13T07:28:21.704243",
     "status": "completed"
    },
    "tags": []
   },
   "source": [
    "### Preprocessing\n",
    "**Source**: [Online Course Engagement - Comprehensive EDA](https://www.kaggle.com/code/sid4ds/online-course-engagement-comprehensive-eda/notebook)"
   ]
  },
  {
   "cell_type": "code",
   "execution_count": 4,
   "id": "df088dc2",
   "metadata": {
    "execution": {
     "iopub.execute_input": "2024-07-13T07:28:21.728161Z",
     "iopub.status.busy": "2024-07-13T07:28:21.727775Z",
     "iopub.status.idle": "2024-07-13T07:28:21.736109Z",
     "shell.execute_reply": "2024-07-13T07:28:21.734990Z"
    },
    "papermill": {
     "duration": 0.019478,
     "end_time": "2024-07-13T07:28:21.738298",
     "exception": false,
     "start_time": "2024-07-13T07:28:21.718820",
     "status": "completed"
    },
    "tags": []
   },
   "outputs": [],
   "source": [
    "def preprocess_dataset(df):\n",
    "    # remove duplicates\n",
    "    df = df.drop_duplicates(ignore_index=True)\n",
    "    \n",
    "    # one-hot encoding nominal variable\n",
    "    df = pd.get_dummies(df, columns=['CourseCategory'], dtype='int8')\n",
    "    \n",
    "    df['DeviceType'] = df['DeviceType'].astype('int8')\n",
    "    \n",
    "    # binarize numerical features\n",
    "    df['time_spent_above_threshold'] = (df['TimeSpentOnCourse'] > 20).astype('int8')\n",
    "    df['num_videos_above_threshold'] = (df['NumberOfVideosWatched'] > 5).astype('int8')\n",
    "    df['num_quizzes_above_threshold'] = (df['NumberOfQuizzesTaken'] > 3).astype('int8')\n",
    "    df['quiz_scores_above_threshold'] = (df['QuizScores'] > 68).astype('int8')\n",
    "    df['completion_above_threshold'] = (df['CompletionRate'] > 60).astype('int8')\n",
    "    \n",
    "    return df"
   ]
  },
  {
   "cell_type": "code",
   "execution_count": 5,
   "id": "a5d03732",
   "metadata": {
    "execution": {
     "iopub.execute_input": "2024-07-13T07:28:21.754737Z",
     "iopub.status.busy": "2024-07-13T07:28:21.754326Z",
     "iopub.status.idle": "2024-07-13T07:28:21.798150Z",
     "shell.execute_reply": "2024-07-13T07:28:21.796963Z"
    },
    "papermill": {
     "duration": 0.054969,
     "end_time": "2024-07-13T07:28:21.800781",
     "exception": false,
     "start_time": "2024-07-13T07:28:21.745812",
     "status": "completed"
    },
    "tags": []
   },
   "outputs": [],
   "source": [
    "data = preprocess_dataset(data.copy())"
   ]
  },
  {
   "cell_type": "markdown",
   "id": "6b01d5c1",
   "metadata": {
    "papermill": {
     "duration": 0.00726,
     "end_time": "2024-07-13T07:28:21.815705",
     "exception": false,
     "start_time": "2024-07-13T07:28:21.808445",
     "status": "completed"
    },
    "tags": []
   },
   "source": [
    "### Feature sets"
   ]
  },
  {
   "cell_type": "code",
   "execution_count": 6,
   "id": "ca05709a",
   "metadata": {
    "execution": {
     "iopub.execute_input": "2024-07-13T07:28:21.832378Z",
     "iopub.status.busy": "2024-07-13T07:28:21.831976Z",
     "iopub.status.idle": "2024-07-13T07:28:21.838687Z",
     "shell.execute_reply": "2024-07-13T07:28:21.837547Z"
    },
    "papermill": {
     "duration": 0.018027,
     "end_time": "2024-07-13T07:28:21.841237",
     "exception": false,
     "start_time": "2024-07-13T07:28:21.823210",
     "status": "completed"
    },
    "tags": []
   },
   "outputs": [],
   "source": [
    "extended_features = [f for f in data.columns if f not in ('UserID', TARGET)]\n",
    "original_features = [f for f in extended_features if not f.endswith('threshold')]\n",
    "binary_features = [f for f in extended_features if f not in num_features]\n",
    "minimal_features = [f for f in extended_features if f.endswith('threshold')]"
   ]
  },
  {
   "cell_type": "code",
   "execution_count": 7,
   "id": "863220f4",
   "metadata": {
    "execution": {
     "iopub.execute_input": "2024-07-13T07:28:21.857949Z",
     "iopub.status.busy": "2024-07-13T07:28:21.857519Z",
     "iopub.status.idle": "2024-07-13T07:28:21.862918Z",
     "shell.execute_reply": "2024-07-13T07:28:21.861811Z"
    },
    "papermill": {
     "duration": 0.016514,
     "end_time": "2024-07-13T07:28:21.865408",
     "exception": false,
     "start_time": "2024-07-13T07:28:21.848894",
     "status": "completed"
    },
    "tags": []
   },
   "outputs": [],
   "source": [
    "feature_sets = {\n",
    "    'Original': original_features,\n",
    "    'Extended': extended_features,\n",
    "    'Binary': binary_features,\n",
    "    'Minimal': minimal_features\n",
    "}"
   ]
  },
  {
   "cell_type": "code",
   "execution_count": 8,
   "id": "404b734b",
   "metadata": {
    "execution": {
     "iopub.execute_input": "2024-07-13T07:28:21.883181Z",
     "iopub.status.busy": "2024-07-13T07:28:21.882081Z",
     "iopub.status.idle": "2024-07-13T07:28:21.888705Z",
     "shell.execute_reply": "2024-07-13T07:28:21.887584Z"
    },
    "papermill": {
     "duration": 0.018746,
     "end_time": "2024-07-13T07:28:21.891781",
     "exception": false,
     "start_time": "2024-07-13T07:28:21.873035",
     "status": "completed"
    },
    "tags": []
   },
   "outputs": [
    {
     "name": "stdout",
     "output_type": "stream",
     "text": [
      "Original: ['TimeSpentOnCourse', 'NumberOfVideosWatched', 'NumberOfQuizzesTaken', 'QuizScores', 'CompletionRate', 'DeviceType', 'CourseCategory_Arts', 'CourseCategory_Business', 'CourseCategory_Health', 'CourseCategory_Programming', 'CourseCategory_Science']\n",
      "\n",
      "Extended: ['TimeSpentOnCourse', 'NumberOfVideosWatched', 'NumberOfQuizzesTaken', 'QuizScores', 'CompletionRate', 'DeviceType', 'CourseCategory_Arts', 'CourseCategory_Business', 'CourseCategory_Health', 'CourseCategory_Programming', 'CourseCategory_Science', 'time_spent_above_threshold', 'num_videos_above_threshold', 'num_quizzes_above_threshold', 'quiz_scores_above_threshold', 'completion_above_threshold']\n",
      "\n",
      "Binary: ['DeviceType', 'CourseCategory_Arts', 'CourseCategory_Business', 'CourseCategory_Health', 'CourseCategory_Programming', 'CourseCategory_Science', 'time_spent_above_threshold', 'num_videos_above_threshold', 'num_quizzes_above_threshold', 'quiz_scores_above_threshold', 'completion_above_threshold']\n",
      "\n",
      "Minimal: ['time_spent_above_threshold', 'num_videos_above_threshold', 'num_quizzes_above_threshold', 'quiz_scores_above_threshold', 'completion_above_threshold']\n",
      "\n"
     ]
    }
   ],
   "source": [
    "for fname, fset in feature_sets.items():\n",
    "    print(f'{fname}: {fset}\\n')"
   ]
  },
  {
   "cell_type": "markdown",
   "id": "6d0acd98",
   "metadata": {
    "papermill": {
     "duration": 0.007466,
     "end_time": "2024-07-13T07:28:21.907799",
     "exception": false,
     "start_time": "2024-07-13T07:28:21.900333",
     "status": "completed"
    },
    "tags": []
   },
   "source": [
    "### Holdout set for model-testing\n",
    "(10% of the dataset)"
   ]
  },
  {
   "cell_type": "code",
   "execution_count": 9,
   "id": "d2b892a5",
   "metadata": {
    "execution": {
     "iopub.execute_input": "2024-07-13T07:28:21.924913Z",
     "iopub.status.busy": "2024-07-13T07:28:21.924490Z",
     "iopub.status.idle": "2024-07-13T07:28:21.939100Z",
     "shell.execute_reply": "2024-07-13T07:28:21.938004Z"
    },
    "papermill": {
     "duration": 0.026296,
     "end_time": "2024-07-13T07:28:21.941798",
     "exception": false,
     "start_time": "2024-07-13T07:28:21.915502",
     "status": "completed"
    },
    "tags": []
   },
   "outputs": [],
   "source": [
    "train, test, _, _ = train_test_split(\n",
    "    data, data[TARGET],\n",
    "    stratify=data[TARGET],\n",
    "    test_size=0.1,\n",
    "    shuffle=True,\n",
    "    random_state=SEED\n",
    ")"
   ]
  },
  {
   "cell_type": "markdown",
   "id": "7eed36fb",
   "metadata": {
    "papermill": {
     "duration": 0.007511,
     "end_time": "2024-07-13T07:28:21.958024",
     "exception": false,
     "start_time": "2024-07-13T07:28:21.950513",
     "status": "completed"
    },
    "tags": []
   },
   "source": [
    "# Modeling framework"
   ]
  },
  {
   "cell_type": "code",
   "execution_count": 10,
   "id": "770c70bd",
   "metadata": {
    "execution": {
     "iopub.execute_input": "2024-07-13T07:28:21.975144Z",
     "iopub.status.busy": "2024-07-13T07:28:21.974768Z",
     "iopub.status.idle": "2024-07-13T07:28:21.985080Z",
     "shell.execute_reply": "2024-07-13T07:28:21.983965Z"
    },
    "papermill": {
     "duration": 0.021699,
     "end_time": "2024-07-13T07:28:21.987453",
     "exception": false,
     "start_time": "2024-07-13T07:28:21.965754",
     "status": "completed"
    },
    "tags": []
   },
   "outputs": [],
   "source": [
    "def cross_validate(estimator, feature_set, num_folds=9):\n",
    "    global train, TARGET\n",
    "    \n",
    "    scores_auc, scores_acc = [], []\n",
    "    X, y = train[feature_set], train[TARGET]\n",
    "    \n",
    "    cv = StratifiedKFold(n_splits=num_folds, shuffle=True, random_state=SEED)\n",
    "    for fold, (train_ids, val_ids) in enumerate(cv.split(X, y)):\n",
    "        X_train, y_train = X.iloc[train_ids], y.iloc[train_ids]\n",
    "        X_val, y_val = X.iloc[val_ids], y.iloc[val_ids]\n",
    "        \n",
    "        model = clone(estimator)\n",
    "        model.fit(X_train, y_train)\n",
    "        probs = model.predict_proba(X_val)[:, 1]\n",
    "        scores_auc.append(roc_auc_score(y_val, probs))\n",
    "        preds = model.predict(X_val)\n",
    "        scores_acc.append(accuracy_score(y_val, preds))\n",
    "        \n",
    "    scores_df = pd.DataFrame(\n",
    "        data={'Accuracy': scores_acc, 'ROC-AUC': scores_auc}, \n",
    "        index=[f'Fold #{i+1}' for i in range(9)]\n",
    "    )\n",
    "    display(scores_df.T)"
   ]
  },
  {
   "cell_type": "code",
   "execution_count": 11,
   "id": "fcc9015d",
   "metadata": {
    "execution": {
     "iopub.execute_input": "2024-07-13T07:28:22.005352Z",
     "iopub.status.busy": "2024-07-13T07:28:22.004636Z",
     "iopub.status.idle": "2024-07-13T07:28:22.014174Z",
     "shell.execute_reply": "2024-07-13T07:28:22.012890Z"
    },
    "papermill": {
     "duration": 0.021537,
     "end_time": "2024-07-13T07:28:22.016669",
     "exception": false,
     "start_time": "2024-07-13T07:28:21.995132",
     "status": "completed"
    },
    "tags": []
   },
   "outputs": [],
   "source": [
    "def refit_full_and_evaluate(model, feature_set):\n",
    "    global train, TARGET\n",
    "    \n",
    "    model.fit(train[feature_set], train[TARGET])\n",
    "    probs = model.predict_proba(test[feature_set])[:, 1]\n",
    "    preds = model.predict(test[feature_set])\n",
    "    \n",
    "    accuracy = accuracy_score(test[TARGET], preds)\n",
    "    auc = roc_auc_score(test[TARGET], probs)\n",
    "    print(f'|| Accuracy: {accuracy:.4f} || ROC-AUC: {auc:.4f} ||\\n')\n",
    "    \n",
    "    fig, ax = plt.subplots(figsize=(4, 3))\n",
    "    ax.set_title('Normalized Confusion Matrix')\n",
    "    sns.heatmap(\n",
    "        data=confusion_matrix(test[TARGET], preds, normalize='true'),\n",
    "        annot=True, fmt='.4f', linewidths=0.1, cmap=plt.cm.Blues\n",
    "    )\n",
    "    plt.xlabel('Prediction')\n",
    "    plt.ylabel('True label')\n",
    "    plt.show()\n",
    "    \n",
    "    return model"
   ]
  },
  {
   "cell_type": "code",
   "execution_count": 12,
   "id": "7062bccf",
   "metadata": {
    "execution": {
     "iopub.execute_input": "2024-07-13T07:28:22.034294Z",
     "iopub.status.busy": "2024-07-13T07:28:22.033333Z",
     "iopub.status.idle": "2024-07-13T07:28:22.039092Z",
     "shell.execute_reply": "2024-07-13T07:28:22.037833Z"
    },
    "papermill": {
     "duration": 0.017419,
     "end_time": "2024-07-13T07:28:22.041572",
     "exception": false,
     "start_time": "2024-07-13T07:28:22.024153",
     "status": "completed"
    },
    "tags": []
   },
   "outputs": [],
   "source": [
    "def save_model(model, config, notebook='01'):\n",
    "    save_path = f'{notebook}_{config}.joblib'\n",
    "    joblib.dump(model, save_path)"
   ]
  },
  {
   "cell_type": "code",
   "execution_count": 13,
   "id": "d2cdc0bc",
   "metadata": {
    "execution": {
     "iopub.execute_input": "2024-07-13T07:28:22.058803Z",
     "iopub.status.busy": "2024-07-13T07:28:22.058085Z",
     "iopub.status.idle": "2024-07-13T07:28:22.065392Z",
     "shell.execute_reply": "2024-07-13T07:28:22.064303Z"
    },
    "papermill": {
     "duration": 0.018605,
     "end_time": "2024-07-13T07:28:22.067819",
     "exception": false,
     "start_time": "2024-07-13T07:28:22.049214",
     "status": "completed"
    },
    "tags": []
   },
   "outputs": [],
   "source": [
    "def run_experiment(estimator, model_name, save=True):\n",
    "    global feature_sets\n",
    "    \n",
    "    for fname, fset in feature_sets.items():\n",
    "        print('\\n', '-'*25, fname, '-'*25)\n",
    "        start_time = time.time()\n",
    "        print('Cross-validation:')\n",
    "        cross_validate(estimator, fset)\n",
    "        print('Refit to full training data and evaluate:\\n')\n",
    "        model = refit_full_and_evaluate(estimator, fset)\n",
    "        end_time = time.time()\n",
    "        print(f'\\n(Time taken: {end_time - start_time:.2f} secs)')\n",
    "        \n",
    "        if save:\n",
    "            save_model(model, f'{model_name}_{fname}')"
   ]
  },
  {
   "cell_type": "markdown",
   "id": "4b101359",
   "metadata": {
    "papermill": {
     "duration": 0.007279,
     "end_time": "2024-07-13T07:28:22.082966",
     "exception": false,
     "start_time": "2024-07-13T07:28:22.075687",
     "status": "completed"
    },
    "tags": []
   },
   "source": [
    "# Baseline model: Logistic Regression"
   ]
  },
  {
   "cell_type": "code",
   "execution_count": 14,
   "id": "591a8cae",
   "metadata": {
    "execution": {
     "iopub.execute_input": "2024-07-13T07:28:22.099849Z",
     "iopub.status.busy": "2024-07-13T07:28:22.099435Z",
     "iopub.status.idle": "2024-07-13T07:28:22.104821Z",
     "shell.execute_reply": "2024-07-13T07:28:22.103644Z"
    },
    "papermill": {
     "duration": 0.01647,
     "end_time": "2024-07-13T07:28:22.107128",
     "exception": false,
     "start_time": "2024-07-13T07:28:22.090658",
     "status": "completed"
    },
    "tags": []
   },
   "outputs": [],
   "source": [
    "estimator = make_pipeline(\n",
    "    StandardScaler(),\n",
    "    LogisticRegression(penalty=None, random_state=SEED)\n",
    ")"
   ]
  },
  {
   "cell_type": "code",
   "execution_count": 15,
   "id": "028dcde0",
   "metadata": {
    "execution": {
     "iopub.execute_input": "2024-07-13T07:28:22.123929Z",
     "iopub.status.busy": "2024-07-13T07:28:22.123501Z",
     "iopub.status.idle": "2024-07-13T07:28:25.318116Z",
     "shell.execute_reply": "2024-07-13T07:28:25.316880Z"
    },
    "papermill": {
     "duration": 3.206152,
     "end_time": "2024-07-13T07:28:25.320819",
     "exception": false,
     "start_time": "2024-07-13T07:28:22.114667",
     "status": "completed"
    },
    "tags": []
   },
   "outputs": [
    {
     "name": "stdout",
     "output_type": "stream",
     "text": [
      "\n",
      " ------------------------- Original -------------------------\n",
      "Cross-validation:\n"
     ]
    },
    {
     "data": {
      "text/html": [
       "<div>\n",
       "<style scoped>\n",
       "    .dataframe tbody tr th:only-of-type {\n",
       "        vertical-align: middle;\n",
       "    }\n",
       "\n",
       "    .dataframe tbody tr th {\n",
       "        vertical-align: top;\n",
       "    }\n",
       "\n",
       "    .dataframe thead th {\n",
       "        text-align: right;\n",
       "    }\n",
       "</style>\n",
       "<table border=\"1\" class=\"dataframe\">\n",
       "  <thead>\n",
       "    <tr style=\"text-align: right;\">\n",
       "      <th></th>\n",
       "      <th>Fold #1</th>\n",
       "      <th>Fold #2</th>\n",
       "      <th>Fold #3</th>\n",
       "      <th>Fold #4</th>\n",
       "      <th>Fold #5</th>\n",
       "      <th>Fold #6</th>\n",
       "      <th>Fold #7</th>\n",
       "      <th>Fold #8</th>\n",
       "      <th>Fold #9</th>\n",
       "    </tr>\n",
       "  </thead>\n",
       "  <tbody>\n",
       "    <tr>\n",
       "      <th>Accuracy</th>\n",
       "      <td>0.7774</td>\n",
       "      <td>0.7970</td>\n",
       "      <td>0.7980</td>\n",
       "      <td>0.7894</td>\n",
       "      <td>0.7808</td>\n",
       "      <td>0.7820</td>\n",
       "      <td>0.8054</td>\n",
       "      <td>0.7943</td>\n",
       "      <td>0.8153</td>\n",
       "    </tr>\n",
       "    <tr>\n",
       "      <th>ROC-AUC</th>\n",
       "      <td>0.8568</td>\n",
       "      <td>0.8584</td>\n",
       "      <td>0.8686</td>\n",
       "      <td>0.8703</td>\n",
       "      <td>0.8580</td>\n",
       "      <td>0.8578</td>\n",
       "      <td>0.8858</td>\n",
       "      <td>0.8720</td>\n",
       "      <td>0.8921</td>\n",
       "    </tr>\n",
       "  </tbody>\n",
       "</table>\n",
       "</div>"
      ],
      "text/plain": [
       "          Fold #1  Fold #2  Fold #3  Fold #4  Fold #5  Fold #6  Fold #7  \\\n",
       "Accuracy   0.7774   0.7970   0.7980   0.7894   0.7808   0.7820   0.8054   \n",
       "ROC-AUC    0.8568   0.8584   0.8686   0.8703   0.8580   0.8578   0.8858   \n",
       "\n",
       "          Fold #8  Fold #9  \n",
       "Accuracy   0.7943   0.8153  \n",
       "ROC-AUC    0.8720   0.8921  "
      ]
     },
     "metadata": {},
     "output_type": "display_data"
    },
    {
     "name": "stdout",
     "output_type": "stream",
     "text": [
      "Refit to full training data and evaluate:\n",
      "\n",
      "|| Accuracy: 0.7835 || ROC-AUC: 0.8666 ||\n",
      "\n"
     ]
    },
    {
     "data": {
      "image/png": "[encoded data removed]",
      "text/plain": [
       "<Figure size 400x300 with 2 Axes>"
      ]
     },
     "metadata": {},
     "output_type": "display_data"
    },
    {
     "name": "stdout",
     "output_type": "stream",
     "text": [
      "\n",
      "(Time taken: 0.81 secs)\n",
      "\n",
      " ------------------------- Extended -------------------------\n",
      "Cross-validation:\n"
     ]
    },
    {
     "data": {
      "text/html": [
       "<div>\n",
       "<style scoped>\n",
       "    .dataframe tbody tr th:only-of-type {\n",
       "        vertical-align: middle;\n",
       "    }\n",
       "\n",
       "    .dataframe tbody tr th {\n",
       "        vertical-align: top;\n",
       "    }\n",
       "\n",
       "    .dataframe thead th {\n",
       "        text-align: right;\n",
       "    }\n",
       "</style>\n",
       "<table border=\"1\" class=\"dataframe\">\n",
       "  <thead>\n",
       "    <tr style=\"text-align: right;\">\n",
       "      <th></th>\n",
       "      <th>Fold #1</th>\n",
       "      <th>Fold #2</th>\n",
       "      <th>Fold #3</th>\n",
       "      <th>Fold #4</th>\n",
       "      <th>Fold #5</th>\n",
       "      <th>Fold #6</th>\n",
       "      <th>Fold #7</th>\n",
       "      <th>Fold #8</th>\n",
       "      <th>Fold #9</th>\n",
       "    </tr>\n",
       "  </thead>\n",
       "  <tbody>\n",
       "    <tr>\n",
       "      <th>Accuracy</th>\n",
       "      <td>0.9410</td>\n",
       "      <td>0.9299</td>\n",
       "      <td>0.9446</td>\n",
       "      <td>0.9409</td>\n",
       "      <td>0.9433</td>\n",
       "      <td>0.9384</td>\n",
       "      <td>0.9372</td>\n",
       "      <td>0.9569</td>\n",
       "      <td>0.9557</td>\n",
       "    </tr>\n",
       "    <tr>\n",
       "      <th>ROC-AUC</th>\n",
       "      <td>0.9583</td>\n",
       "      <td>0.9422</td>\n",
       "      <td>0.9494</td>\n",
       "      <td>0.9477</td>\n",
       "      <td>0.9531</td>\n",
       "      <td>0.9429</td>\n",
       "      <td>0.9536</td>\n",
       "      <td>0.9632</td>\n",
       "      <td>0.9679</td>\n",
       "    </tr>\n",
       "  </tbody>\n",
       "</table>\n",
       "</div>"
      ],
      "text/plain": [
       "          Fold #1  Fold #2  Fold #3  Fold #4  Fold #5  Fold #6  Fold #7  \\\n",
       "Accuracy   0.9410   0.9299   0.9446   0.9409   0.9433   0.9384   0.9372   \n",
       "ROC-AUC    0.9583   0.9422   0.9494   0.9477   0.9531   0.9429   0.9536   \n",
       "\n",
       "          Fold #8  Fold #9  \n",
       "Accuracy   0.9569   0.9557  \n",
       "ROC-AUC    0.9632   0.9679  "
      ]
     },
     "metadata": {},
     "output_type": "display_data"
    },
    {
     "name": "stdout",
     "output_type": "stream",
     "text": [
      "Refit to full training data and evaluate:\n",
      "\n",
      "|| Accuracy: 0.9483 || ROC-AUC: 0.9630 ||\n",
      "\n"
     ]
    },
    {
     "data": {
      "image/png": "[encoded data removed]",
      "text/plain": [
       "<Figure size 400x300 with 2 Axes>"
      ]
     },
     "metadata": {},
     "output_type": "display_data"
    },
    {
     "name": "stdout",
     "output_type": "stream",
     "text": [
      "\n",
      "(Time taken: 0.93 secs)\n",
      "\n",
      " ------------------------- Binary -------------------------\n",
      "Cross-validation:\n"
     ]
    },
    {
     "data": {
      "text/html": [
       "<div>\n",
       "<style scoped>\n",
       "    .dataframe tbody tr th:only-of-type {\n",
       "        vertical-align: middle;\n",
       "    }\n",
       "\n",
       "    .dataframe tbody tr th {\n",
       "        vertical-align: top;\n",
       "    }\n",
       "\n",
       "    .dataframe thead th {\n",
       "        text-align: right;\n",
       "    }\n",
       "</style>\n",
       "<table border=\"1\" class=\"dataframe\">\n",
       "  <thead>\n",
       "    <tr style=\"text-align: right;\">\n",
       "      <th></th>\n",
       "      <th>Fold #1</th>\n",
       "      <th>Fold #2</th>\n",
       "      <th>Fold #3</th>\n",
       "      <th>Fold #4</th>\n",
       "      <th>Fold #5</th>\n",
       "      <th>Fold #6</th>\n",
       "      <th>Fold #7</th>\n",
       "      <th>Fold #8</th>\n",
       "      <th>Fold #9</th>\n",
       "    </tr>\n",
       "  </thead>\n",
       "  <tbody>\n",
       "    <tr>\n",
       "      <th>Accuracy</th>\n",
       "      <td>0.9410</td>\n",
       "      <td>0.9299</td>\n",
       "      <td>0.9446</td>\n",
       "      <td>0.9409</td>\n",
       "      <td>0.9433</td>\n",
       "      <td>0.9384</td>\n",
       "      <td>0.9372</td>\n",
       "      <td>0.9569</td>\n",
       "      <td>0.9557</td>\n",
       "    </tr>\n",
       "    <tr>\n",
       "      <th>ROC-AUC</th>\n",
       "      <td>0.9473</td>\n",
       "      <td>0.9337</td>\n",
       "      <td>0.9392</td>\n",
       "      <td>0.9421</td>\n",
       "      <td>0.9514</td>\n",
       "      <td>0.9369</td>\n",
       "      <td>0.9429</td>\n",
       "      <td>0.9574</td>\n",
       "      <td>0.9584</td>\n",
       "    </tr>\n",
       "  </tbody>\n",
       "</table>\n",
       "</div>"
      ],
      "text/plain": [
       "          Fold #1  Fold #2  Fold #3  Fold #4  Fold #5  Fold #6  Fold #7  \\\n",
       "Accuracy   0.9410   0.9299   0.9446   0.9409   0.9433   0.9384   0.9372   \n",
       "ROC-AUC    0.9473   0.9337   0.9392   0.9421   0.9514   0.9369   0.9429   \n",
       "\n",
       "          Fold #8  Fold #9  \n",
       "Accuracy   0.9569   0.9557  \n",
       "ROC-AUC    0.9574   0.9584  "
      ]
     },
     "metadata": {},
     "output_type": "display_data"
    },
    {
     "name": "stdout",
     "output_type": "stream",
     "text": [
      "Refit to full training data and evaluate:\n",
      "\n",
      "|| Accuracy: 0.9483 || ROC-AUC: 0.9553 ||\n",
      "\n"
     ]
    },
    {
     "data": {
      "image/png": "[encoded data removed]",
      "text/plain": [
       "<Figure size 400x300 with 2 Axes>"
      ]
     },
     "metadata": {},
     "output_type": "display_data"
    },
    {
     "name": "stdout",
     "output_type": "stream",
     "text": [
      "\n",
      "(Time taken: 0.76 secs)\n",
      "\n",
      " ------------------------- Minimal -------------------------\n",
      "Cross-validation:\n"
     ]
    },
    {
     "data": {
      "text/html": [
       "<div>\n",
       "<style scoped>\n",
       "    .dataframe tbody tr th:only-of-type {\n",
       "        vertical-align: middle;\n",
       "    }\n",
       "\n",
       "    .dataframe tbody tr th {\n",
       "        vertical-align: top;\n",
       "    }\n",
       "\n",
       "    .dataframe thead th {\n",
       "        text-align: right;\n",
       "    }\n",
       "</style>\n",
       "<table border=\"1\" class=\"dataframe\">\n",
       "  <thead>\n",
       "    <tr style=\"text-align: right;\">\n",
       "      <th></th>\n",
       "      <th>Fold #1</th>\n",
       "      <th>Fold #2</th>\n",
       "      <th>Fold #3</th>\n",
       "      <th>Fold #4</th>\n",
       "      <th>Fold #5</th>\n",
       "      <th>Fold #6</th>\n",
       "      <th>Fold #7</th>\n",
       "      <th>Fold #8</th>\n",
       "      <th>Fold #9</th>\n",
       "    </tr>\n",
       "  </thead>\n",
       "  <tbody>\n",
       "    <tr>\n",
       "      <th>Accuracy</th>\n",
       "      <td>0.9410</td>\n",
       "      <td>0.9299</td>\n",
       "      <td>0.9446</td>\n",
       "      <td>0.9409</td>\n",
       "      <td>0.9433</td>\n",
       "      <td>0.9384</td>\n",
       "      <td>0.9372</td>\n",
       "      <td>0.9569</td>\n",
       "      <td>0.9557</td>\n",
       "    </tr>\n",
       "    <tr>\n",
       "      <th>ROC-AUC</th>\n",
       "      <td>0.9465</td>\n",
       "      <td>0.9311</td>\n",
       "      <td>0.9403</td>\n",
       "      <td>0.9446</td>\n",
       "      <td>0.9501</td>\n",
       "      <td>0.9368</td>\n",
       "      <td>0.9472</td>\n",
       "      <td>0.9566</td>\n",
       "      <td>0.9579</td>\n",
       "    </tr>\n",
       "  </tbody>\n",
       "</table>\n",
       "</div>"
      ],
      "text/plain": [
       "          Fold #1  Fold #2  Fold #3  Fold #4  Fold #5  Fold #6  Fold #7  \\\n",
       "Accuracy   0.9410   0.9299   0.9446   0.9409   0.9433   0.9384   0.9372   \n",
       "ROC-AUC    0.9465   0.9311   0.9403   0.9446   0.9501   0.9368   0.9472   \n",
       "\n",
       "          Fold #8  Fold #9  \n",
       "Accuracy   0.9569   0.9557  \n",
       "ROC-AUC    0.9566   0.9579  "
      ]
     },
     "metadata": {},
     "output_type": "display_data"
    },
    {
     "name": "stdout",
     "output_type": "stream",
     "text": [
      "Refit to full training data and evaluate:\n",
      "\n",
      "|| Accuracy: 0.9483 || ROC-AUC: 0.9545 ||\n",
      "\n"
     ]
    },
    {
     "data": {
      "image/png": "[encoded data removed]",
      "text/plain": [
       "<Figure size 400x300 with 2 Axes>"
      ]
     },
     "metadata": {},
     "output_type": "display_data"
    },
    {
     "name": "stdout",
     "output_type": "stream",
     "text": [
      "\n",
      "(Time taken: 0.68 secs)\n"
     ]
    }
   ],
   "source": [
    "run_experiment(estimator, 'logreg')"
   ]
  },
  {
   "cell_type": "markdown",
   "id": "c0ef122e",
   "metadata": {
    "papermill": {
     "duration": 0.010796,
     "end_time": "2024-07-13T07:28:25.342824",
     "exception": false,
     "start_time": "2024-07-13T07:28:25.332028",
     "status": "completed"
    },
    "tags": []
   },
   "source": [
    "# Summary"
   ]
  },
  {
   "cell_type": "markdown",
   "id": "ddf7f61f",
   "metadata": {
    "papermill": {
     "duration": 0.010598,
     "end_time": "2024-07-13T07:28:25.364614",
     "exception": false,
     "start_time": "2024-07-13T07:28:25.354016",
     "status": "completed"
    },
    "tags": []
   },
   "source": [
    "* Created four feature sets based on previous EDA: Original, Extended, Binary, Minimal\n",
    "* Evaluated their performance using a simple model as baseline: Logistic Regression \n",
    "* Significant increase in accuracy between Original to Extended feature sets.  \n",
    "  This confirms that our engineered features are important.\n",
    "* Exactly the same accuracy for Extended, Binary and Minimal feature sets.  \n",
    "  Training time is reduced for fewer features (Minimal) but ROC-AUC improves slightly for more features (Extended).\n",
    "* If accurate predictions are enough, we should go with the Minimal feature set to reduce training time.  \n",
    "  If we need better probabilities at the cost of more training time, we should go with the Extended feature set."
   ]
  }
 ],
 "metadata": {
  "kaggle": {
   "accelerator": "none",
   "dataSources": [
    {
     "datasetId": 5236308,
     "sourceId": 8725325,
     "sourceType": "datasetVersion"
    }
   ],
   "dockerImageVersionId": 30746,
   "isGpuEnabled": false,
   "isInternetEnabled": true,
   "language": "python",
   "sourceType": "notebook"
  },
  "kernelspec": {
   "display_name": "Python 3",
   "language": "python",
   "name": "python3"
  },
  "language_info": {
   "codemirror_mode": {
    "name": "ipython",
    "version": 3
   },
   "file_extension": ".py",
   "mimetype": "text/x-python",
   "name": "python",
   "nbconvert_exporter": "python",
   "pygments_lexer": "ipython3",
   "version": "3.10.13"
  },
  "papermill": {
   "default_parameters": {},
   "duration": 9.928444,
   "end_time": "2024-07-13T07:28:25.996205",
   "environment_variables": {},
   "exception": null,
   "input_path": "__notebook__.ipynb",
   "output_path": "__notebook__.ipynb",
   "parameters": {},
   "start_time": "2024-07-13T07:28:16.067761",
   "version": "2.5.0"
  }
 },
 "nbformat": 4,
 "nbformat_minor": 5
}
