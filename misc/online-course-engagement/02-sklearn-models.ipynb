{
 "cells": [
  {
   "cell_type": "markdown",
   "id": "9e7bf39d",
   "metadata": {
    "_cell_guid": "b1076dfc-b9ad-4769-8c92-a6c4dae69d19",
    "_uuid": "8f2839f25d086af736a60e9eeb907d3b93b6e0e5",
    "papermill": {
     "duration": 0.009768,
     "end_time": "2024-07-15T11:48:41.121772",
     "exception": false,
     "start_time": "2024-07-15T11:48:41.112004",
     "status": "completed"
    },
    "tags": []
   },
   "source": [
    "# Setup"
   ]
  },
  {
   "cell_type": "code",
   "execution_count": 1,
   "id": "acc69929",
   "metadata": {
    "execution": {
     "iopub.execute_input": "2024-07-15T11:48:41.143383Z",
     "iopub.status.busy": "2024-07-15T11:48:41.143010Z",
     "iopub.status.idle": "2024-07-15T11:48:43.455037Z",
     "shell.execute_reply": "2024-07-15T11:48:43.454095Z"
    },
    "papermill": {
     "duration": 2.325111,
     "end_time": "2024-07-15T11:48:43.457549",
     "exception": false,
     "start_time": "2024-07-15T11:48:41.132438",
     "status": "completed"
    },
    "tags": []
   },
   "outputs": [],
   "source": [
    "import gc\n",
    "gc.enable()\n",
    "\n",
    "import warnings\n",
    "warnings.filterwarnings(category=FutureWarning, action='ignore')\n",
    "warnings.filterwarnings(category=UserWarning, action='ignore')\n",
    "\n",
    "import time\n",
    "import joblib\n",
    "import numpy as np\n",
    "import pandas as pd\n",
    "pd.set_option('display.max_columns', None)\n",
    "pd.set_option('display.precision', 4)\n",
    "\n",
    "import seaborn as sns\n",
    "import matplotlib.pyplot as plt\n",
    "%matplotlib inline\n",
    "\n",
    "from sklearn.base import clone\n",
    "from sklearn.pipeline import make_pipeline\n",
    "from sklearn.preprocessing import StandardScaler\n",
    "from sklearn.discriminant_analysis import (\n",
    "    LinearDiscriminantAnalysis,\n",
    "    QuadraticDiscriminantAnalysis\n",
    ")\n",
    "from sklearn.naive_bayes import BernoulliNB\n",
    "from sklearn.neighbors import KNeighborsClassifier\n",
    "from sklearn.tree import DecisionTreeClassifier\n",
    "from sklearn.ensemble import (\n",
    "    RandomForestClassifier, \n",
    "    AdaBoostClassifier,\n",
    "    HistGradientBoostingClassifier\n",
    ")\n",
    "from sklearn.neural_network import MLPClassifier\n",
    "from sklearn.model_selection import (\n",
    "    train_test_split, \n",
    "    StratifiedKFold\n",
    ")\n",
    "from sklearn.metrics import (\n",
    "    make_scorer,\n",
    "    accuracy_score,\n",
    "    roc_auc_score,\n",
    "    confusion_matrix\n",
    ")\n",
    "\n",
    "SEED = 2024"
   ]
  },
  {
   "cell_type": "markdown",
   "id": "04e14282",
   "metadata": {
    "papermill": {
     "duration": 0.008934,
     "end_time": "2024-07-15T11:48:43.475953",
     "exception": false,
     "start_time": "2024-07-15T11:48:43.467019",
     "status": "completed"
    },
    "tags": []
   },
   "source": [
    "# Data preparation"
   ]
  },
  {
   "cell_type": "code",
   "execution_count": 2,
   "id": "fa17754e",
   "metadata": {
    "execution": {
     "iopub.execute_input": "2024-07-15T11:48:43.495608Z",
     "iopub.status.busy": "2024-07-15T11:48:43.495105Z",
     "iopub.status.idle": "2024-07-15T11:48:43.537220Z",
     "shell.execute_reply": "2024-07-15T11:48:43.536358Z"
    },
    "papermill": {
     "duration": 0.054889,
     "end_time": "2024-07-15T11:48:43.539858",
     "exception": false,
     "start_time": "2024-07-15T11:48:43.484969",
     "status": "completed"
    },
    "tags": []
   },
   "outputs": [],
   "source": [
    "data = pd.read_csv('/kaggle/input/predict-online-course-engagement-dataset/online_course_engagement_data.csv')"
   ]
  },
  {
   "cell_type": "code",
   "execution_count": 3,
   "id": "9a03a962",
   "metadata": {
    "execution": {
     "iopub.execute_input": "2024-07-15T11:48:43.561316Z",
     "iopub.status.busy": "2024-07-15T11:48:43.560939Z",
     "iopub.status.idle": "2024-07-15T11:48:43.566143Z",
     "shell.execute_reply": "2024-07-15T11:48:43.565223Z"
    },
    "papermill": {
     "duration": 0.017908,
     "end_time": "2024-07-15T11:48:43.568097",
     "exception": false,
     "start_time": "2024-07-15T11:48:43.550189",
     "status": "completed"
    },
    "tags": []
   },
   "outputs": [],
   "source": [
    "TARGET = 'CourseCompletion'\n",
    "features = [f for f in data.columns if f not in ('UserID', TARGET)]\n",
    "cat_features = ['DeviceType', 'CourseCategory']\n",
    "num_features = [f for f in features if f not in cat_features]"
   ]
  },
  {
   "cell_type": "markdown",
   "id": "9f964339",
   "metadata": {
    "papermill": {
     "duration": 0.008905,
     "end_time": "2024-07-15T11:48:43.586284",
     "exception": false,
     "start_time": "2024-07-15T11:48:43.577379",
     "status": "completed"
    },
    "tags": []
   },
   "source": [
    "### Preprocessing"
   ]
  },
  {
   "cell_type": "code",
   "execution_count": 4,
   "id": "bd22cc21",
   "metadata": {
    "execution": {
     "iopub.execute_input": "2024-07-15T11:48:43.606177Z",
     "iopub.status.busy": "2024-07-15T11:48:43.605536Z",
     "iopub.status.idle": "2024-07-15T11:48:43.612677Z",
     "shell.execute_reply": "2024-07-15T11:48:43.611612Z"
    },
    "papermill": {
     "duration": 0.019428,
     "end_time": "2024-07-15T11:48:43.614735",
     "exception": false,
     "start_time": "2024-07-15T11:48:43.595307",
     "status": "completed"
    },
    "tags": []
   },
   "outputs": [],
   "source": [
    "def preprocess_dataset(df):\n",
    "    # remove duplicates\n",
    "    df = df.drop_duplicates(ignore_index=True)\n",
    "    \n",
    "    # one-hot encoding nominal variable\n",
    "    df = pd.get_dummies(df, columns=['CourseCategory'], dtype='int8')\n",
    "    \n",
    "    df['DeviceType'] = df['DeviceType'].astype('int8')\n",
    "    \n",
    "    # binarize numerical features\n",
    "    df['time_spent_above_threshold'] = (df['TimeSpentOnCourse'] > 20).astype('int8')\n",
    "    df['num_videos_above_threshold'] = (df['NumberOfVideosWatched'] > 5).astype('int8')\n",
    "    df['num_quizzes_above_threshold'] = (df['NumberOfQuizzesTaken'] > 3).astype('int8')\n",
    "    df['quiz_scores_above_threshold'] = (df['QuizScores'] > 68).astype('int8')\n",
    "    df['completion_above_threshold'] = (df['CompletionRate'] > 60).astype('int8')\n",
    "    \n",
    "    return df"
   ]
  },
  {
   "cell_type": "code",
   "execution_count": 5,
   "id": "b229e465",
   "metadata": {
    "execution": {
     "iopub.execute_input": "2024-07-15T11:48:43.635364Z",
     "iopub.status.busy": "2024-07-15T11:48:43.634542Z",
     "iopub.status.idle": "2024-07-15T11:48:43.665276Z",
     "shell.execute_reply": "2024-07-15T11:48:43.664481Z"
    },
    "papermill": {
     "duration": 0.043618,
     "end_time": "2024-07-15T11:48:43.667674",
     "exception": false,
     "start_time": "2024-07-15T11:48:43.624056",
     "status": "completed"
    },
    "tags": []
   },
   "outputs": [],
   "source": [
    "data = preprocess_dataset(data.copy())"
   ]
  },
  {
   "cell_type": "markdown",
   "id": "aea1d104",
   "metadata": {
    "papermill": {
     "duration": 0.008991,
     "end_time": "2024-07-15T11:48:43.686123",
     "exception": false,
     "start_time": "2024-07-15T11:48:43.677132",
     "status": "completed"
    },
    "tags": []
   },
   "source": [
    "### Feature sets\n",
    "\n",
    "Generated in: [Online Course Engagement - Logistic Regression](https://www.kaggle.com/code/sid4ds/online-course-engagement-logistic-regression)"
   ]
  },
  {
   "cell_type": "code",
   "execution_count": 6,
   "id": "60fdaaa2",
   "metadata": {
    "execution": {
     "iopub.execute_input": "2024-07-15T11:48:43.708256Z",
     "iopub.status.busy": "2024-07-15T11:48:43.707855Z",
     "iopub.status.idle": "2024-07-15T11:48:43.714260Z",
     "shell.execute_reply": "2024-07-15T11:48:43.713351Z"
    },
    "papermill": {
     "duration": 0.020136,
     "end_time": "2024-07-15T11:48:43.716502",
     "exception": false,
     "start_time": "2024-07-15T11:48:43.696366",
     "status": "completed"
    },
    "tags": []
   },
   "outputs": [],
   "source": [
    "original_features = [\n",
    "    'TimeSpentOnCourse', 'NumberOfVideosWatched', 'NumberOfQuizzesTaken', \n",
    "    'QuizScores', 'CompletionRate', 'DeviceType', 'CourseCategory_Arts', \n",
    "    'CourseCategory_Business', 'CourseCategory_Health', \n",
    "    'CourseCategory_Programming', 'CourseCategory_Science'\n",
    "]\n",
    "\n",
    "extended_features = [\n",
    "    'TimeSpentOnCourse', 'NumberOfVideosWatched', 'NumberOfQuizzesTaken', \n",
    "    'QuizScores', 'CompletionRate', 'DeviceType', 'CourseCategory_Arts', \n",
    "    'CourseCategory_Business', 'CourseCategory_Health', \n",
    "    'CourseCategory_Programming', 'CourseCategory_Science', \n",
    "    'time_spent_above_threshold', 'num_videos_above_threshold', \n",
    "    'num_quizzes_above_threshold', 'quiz_scores_above_threshold', \n",
    "    'completion_above_threshold'\n",
    "]\n",
    "\n",
    "binary_features = [\n",
    "    'DeviceType', 'CourseCategory_Arts', 'CourseCategory_Business', \n",
    "    'CourseCategory_Health', 'CourseCategory_Programming', \n",
    "    'CourseCategory_Science', 'time_spent_above_threshold', \n",
    "    'num_videos_above_threshold', 'num_quizzes_above_threshold', \n",
    "    'quiz_scores_above_threshold', 'completion_above_threshold'\n",
    "]\n",
    "\n",
    "minimal_features = [\n",
    "    'time_spent_above_threshold', 'num_videos_above_threshold', \n",
    "    'num_quizzes_above_threshold', 'quiz_scores_above_threshold', \n",
    "    'completion_above_threshold'\n",
    "]"
   ]
  },
  {
   "cell_type": "code",
   "execution_count": 7,
   "id": "c019996f",
   "metadata": {
    "execution": {
     "iopub.execute_input": "2024-07-15T11:48:43.736921Z",
     "iopub.status.busy": "2024-07-15T11:48:43.736567Z",
     "iopub.status.idle": "2024-07-15T11:48:43.741269Z",
     "shell.execute_reply": "2024-07-15T11:48:43.740174Z"
    },
    "papermill": {
     "duration": 0.017305,
     "end_time": "2024-07-15T11:48:43.743357",
     "exception": false,
     "start_time": "2024-07-15T11:48:43.726052",
     "status": "completed"
    },
    "tags": []
   },
   "outputs": [],
   "source": [
    "feature_sets = {\n",
    "    'Original': original_features,\n",
    "    'Extended': extended_features,\n",
    "    'Binary': binary_features,\n",
    "    'Minimal': minimal_features\n",
    "}"
   ]
  },
  {
   "cell_type": "markdown",
   "id": "91498d51",
   "metadata": {
    "papermill": {
     "duration": 0.008979,
     "end_time": "2024-07-15T11:48:43.761297",
     "exception": false,
     "start_time": "2024-07-15T11:48:43.752318",
     "status": "completed"
    },
    "tags": []
   },
   "source": [
    "### Holdout set for model-testing\n",
    "(exactly the same as used in previous modeling experiments)"
   ]
  },
  {
   "cell_type": "code",
   "execution_count": 8,
   "id": "36bd41aa",
   "metadata": {
    "execution": {
     "iopub.execute_input": "2024-07-15T11:48:43.781038Z",
     "iopub.status.busy": "2024-07-15T11:48:43.780418Z",
     "iopub.status.idle": "2024-07-15T11:48:43.792061Z",
     "shell.execute_reply": "2024-07-15T11:48:43.791136Z"
    },
    "papermill": {
     "duration": 0.023799,
     "end_time": "2024-07-15T11:48:43.794102",
     "exception": false,
     "start_time": "2024-07-15T11:48:43.770303",
     "status": "completed"
    },
    "tags": []
   },
   "outputs": [],
   "source": [
    "train, test, _, _ = train_test_split(\n",
    "    data, data[TARGET],\n",
    "    stratify=data[TARGET],\n",
    "    test_size=0.1,  # same size\n",
    "    shuffle=True,\n",
    "    random_state=SEED  # same sampling\n",
    ")"
   ]
  },
  {
   "cell_type": "markdown",
   "id": "24eec5f2",
   "metadata": {
    "papermill": {
     "duration": 0.008766,
     "end_time": "2024-07-15T11:48:43.811807",
     "exception": false,
     "start_time": "2024-07-15T11:48:43.803041",
     "status": "completed"
    },
    "tags": []
   },
   "source": [
    "# Modeling framework"
   ]
  },
  {
   "cell_type": "code",
   "execution_count": 9,
   "id": "07522976",
   "metadata": {
    "execution": {
     "iopub.execute_input": "2024-07-15T11:48:43.831676Z",
     "iopub.status.busy": "2024-07-15T11:48:43.831003Z",
     "iopub.status.idle": "2024-07-15T11:48:43.839012Z",
     "shell.execute_reply": "2024-07-15T11:48:43.838095Z"
    },
    "papermill": {
     "duration": 0.020219,
     "end_time": "2024-07-15T11:48:43.841019",
     "exception": false,
     "start_time": "2024-07-15T11:48:43.820800",
     "status": "completed"
    },
    "tags": []
   },
   "outputs": [],
   "source": [
    "def cross_validate(estimator, feature_set, num_folds=9):\n",
    "    global train, TARGET\n",
    "    \n",
    "    scores_auc, scores_acc = [], []\n",
    "    X, y = train[feature_set], train[TARGET]\n",
    "    \n",
    "    cv = StratifiedKFold(n_splits=num_folds, shuffle=True, random_state=SEED)\n",
    "    for fold, (train_ids, val_ids) in enumerate(cv.split(X, y)):\n",
    "        X_train, y_train = X.iloc[train_ids], y.iloc[train_ids]\n",
    "        X_val, y_val = X.iloc[val_ids], y.iloc[val_ids]\n",
    "        \n",
    "        model = clone(estimator)\n",
    "        model.fit(X_train, y_train)\n",
    "        probs = model.predict_proba(X_val)[:, 1]\n",
    "        scores_auc.append(roc_auc_score(y_val, probs))\n",
    "        preds = model.predict(X_val)\n",
    "        scores_acc.append(accuracy_score(y_val, preds))\n",
    "        \n",
    "    scores_df = pd.DataFrame(\n",
    "        data={'Accuracy': scores_acc, 'ROC-AUC': scores_auc}, \n",
    "        index=[f'Fold #{i+1}' for i in range(9)]\n",
    "    )\n",
    "    display(scores_df.T)"
   ]
  },
  {
   "cell_type": "code",
   "execution_count": 10,
   "id": "75313a99",
   "metadata": {
    "execution": {
     "iopub.execute_input": "2024-07-15T11:48:43.860601Z",
     "iopub.status.busy": "2024-07-15T11:48:43.860260Z",
     "iopub.status.idle": "2024-07-15T11:48:43.867238Z",
     "shell.execute_reply": "2024-07-15T11:48:43.866341Z"
    },
    "papermill": {
     "duration": 0.019225,
     "end_time": "2024-07-15T11:48:43.869239",
     "exception": false,
     "start_time": "2024-07-15T11:48:43.850014",
     "status": "completed"
    },
    "tags": []
   },
   "outputs": [],
   "source": [
    "def refit_full_and_evaluate(model, feature_set):\n",
    "    global train, TARGET\n",
    "    \n",
    "    model.fit(train[feature_set], train[TARGET])\n",
    "    probs = model.predict_proba(test[feature_set])[:, 1]\n",
    "    preds = model.predict(test[feature_set])\n",
    "    \n",
    "    accuracy = accuracy_score(test[TARGET], preds)\n",
    "    auc = roc_auc_score(test[TARGET], probs)\n",
    "    print(f'|| Accuracy: {accuracy:.4f} || ROC-AUC: {auc:.4f} ||\\n')\n",
    "    \n",
    "    fig, ax = plt.subplots(figsize=(4, 3))\n",
    "    ax.set_title('Normalized Confusion Matrix')\n",
    "    sns.heatmap(\n",
    "        data=confusion_matrix(test[TARGET], preds, normalize='true'),\n",
    "        annot=True, fmt='.4f', linewidths=0.1, cmap=plt.cm.Blues\n",
    "    )\n",
    "    plt.xlabel('Prediction')\n",
    "    plt.ylabel('True label')\n",
    "    plt.show()\n",
    "    \n",
    "    return model"
   ]
  },
  {
   "cell_type": "code",
   "execution_count": 11,
   "id": "8d6bb0c5",
   "metadata": {
    "execution": {
     "iopub.execute_input": "2024-07-15T11:48:43.888977Z",
     "iopub.status.busy": "2024-07-15T11:48:43.888267Z",
     "iopub.status.idle": "2024-07-15T11:48:43.892877Z",
     "shell.execute_reply": "2024-07-15T11:48:43.891872Z"
    },
    "papermill": {
     "duration": 0.016501,
     "end_time": "2024-07-15T11:48:43.894931",
     "exception": false,
     "start_time": "2024-07-15T11:48:43.878430",
     "status": "completed"
    },
    "tags": []
   },
   "outputs": [],
   "source": [
    "def save_model(model, config, notebook='02'):\n",
    "    save_path = f'{notebook}_{config}.joblib'\n",
    "    joblib.dump(model, save_path)"
   ]
  },
  {
   "cell_type": "code",
   "execution_count": 12,
   "id": "721abc4c",
   "metadata": {
    "execution": {
     "iopub.execute_input": "2024-07-15T11:48:43.914472Z",
     "iopub.status.busy": "2024-07-15T11:48:43.913867Z",
     "iopub.status.idle": "2024-07-15T11:48:43.919894Z",
     "shell.execute_reply": "2024-07-15T11:48:43.918963Z"
    },
    "papermill": {
     "duration": 0.018052,
     "end_time": "2024-07-15T11:48:43.921877",
     "exception": false,
     "start_time": "2024-07-15T11:48:43.903825",
     "status": "completed"
    },
    "tags": []
   },
   "outputs": [],
   "source": [
    "def run_experiment(estimator, model_name, save=True):\n",
    "    global feature_sets\n",
    "    \n",
    "    for fname, fset in feature_sets.items():\n",
    "        print('\\n', '-'*25, fname, '-'*25)\n",
    "        start_time = time.time()\n",
    "        print('Cross-validation:')\n",
    "        cross_validate(estimator, fset)\n",
    "        print('Refit to full training data and evaluate:\\n')\n",
    "        model = refit_full_and_evaluate(estimator, fset)\n",
    "        end_time = time.time()\n",
    "        print(f'\\n(Time taken: {end_time - start_time:.2f} secs)')\n",
    "        \n",
    "        if save:\n",
    "            save_model(model, f'{model_name}_{fname}')"
   ]
  },
  {
   "cell_type": "markdown",
   "id": "2441d741",
   "metadata": {
    "papermill": {
     "duration": 0.008893,
     "end_time": "2024-07-15T11:48:43.939868",
     "exception": false,
     "start_time": "2024-07-15T11:48:43.930975",
     "status": "completed"
    },
    "tags": []
   },
   "source": [
    "# Discriminant Analysis"
   ]
  },
  {
   "cell_type": "markdown",
   "id": "08db2134",
   "metadata": {
    "papermill": {
     "duration": 0.008754,
     "end_time": "2024-07-15T11:48:43.957580",
     "exception": false,
     "start_time": "2024-07-15T11:48:43.948826",
     "status": "completed"
    },
    "tags": []
   },
   "source": [
    "## Linear"
   ]
  },
  {
   "cell_type": "code",
   "execution_count": 13,
   "id": "75744b42",
   "metadata": {
    "execution": {
     "iopub.execute_input": "2024-07-15T11:48:43.977638Z",
     "iopub.status.busy": "2024-07-15T11:48:43.976722Z",
     "iopub.status.idle": "2024-07-15T11:48:43.981657Z",
     "shell.execute_reply": "2024-07-15T11:48:43.980762Z"
    },
    "papermill": {
     "duration": 0.017319,
     "end_time": "2024-07-15T11:48:43.983863",
     "exception": false,
     "start_time": "2024-07-15T11:48:43.966544",
     "status": "completed"
    },
    "tags": []
   },
   "outputs": [],
   "source": [
    "model = make_pipeline(\n",
    "    StandardScaler(), \n",
    "    LinearDiscriminantAnalysis(solver='svd', tol=1e-4)\n",
    ")"
   ]
  },
  {
   "cell_type": "code",
   "execution_count": 14,
   "id": "03b87def",
   "metadata": {
    "execution": {
     "iopub.execute_input": "2024-07-15T11:48:44.003300Z",
     "iopub.status.busy": "2024-07-15T11:48:44.002679Z",
     "iopub.status.idle": "2024-07-15T11:48:46.409374Z",
     "shell.execute_reply": "2024-07-15T11:48:46.408080Z"
    },
    "papermill": {
     "duration": 2.41878,
     "end_time": "2024-07-15T11:48:46.411580",
     "exception": false,
     "start_time": "2024-07-15T11:48:43.992800",
     "status": "completed"
    },
    "tags": []
   },
   "outputs": [
    {
     "name": "stdout",
     "output_type": "stream",
     "text": [
      "\n",
      " ------------------------- Original -------------------------\n",
      "Cross-validation:\n"
     ]
    },
    {
     "data": {
      "text/html": [
       "<div>\n",
       "<style scoped>\n",
       "    .dataframe tbody tr th:only-of-type {\n",
       "        vertical-align: middle;\n",
       "    }\n",
       "\n",
       "    .dataframe tbody tr th {\n",
       "        vertical-align: top;\n",
       "    }\n",
       "\n",
       "    .dataframe thead th {\n",
       "        text-align: right;\n",
       "    }\n",
       "</style>\n",
       "<table border=\"1\" class=\"dataframe\">\n",
       "  <thead>\n",
       "    <tr style=\"text-align: right;\">\n",
       "      <th></th>\n",
       "      <th>Fold #1</th>\n",
       "      <th>Fold #2</th>\n",
       "      <th>Fold #3</th>\n",
       "      <th>Fold #4</th>\n",
       "      <th>Fold #5</th>\n",
       "      <th>Fold #6</th>\n",
       "      <th>Fold #7</th>\n",
       "      <th>Fold #8</th>\n",
       "      <th>Fold #9</th>\n",
       "    </tr>\n",
       "  </thead>\n",
       "  <tbody>\n",
       "    <tr>\n",
       "      <th>Accuracy</th>\n",
       "      <td>0.7823</td>\n",
       "      <td>0.7934</td>\n",
       "      <td>0.7956</td>\n",
       "      <td>0.7857</td>\n",
       "      <td>0.7808</td>\n",
       "      <td>0.7833</td>\n",
       "      <td>0.8030</td>\n",
       "      <td>0.7968</td>\n",
       "      <td>0.8091</td>\n",
       "    </tr>\n",
       "    <tr>\n",
       "      <th>ROC-AUC</th>\n",
       "      <td>0.8569</td>\n",
       "      <td>0.8583</td>\n",
       "      <td>0.8686</td>\n",
       "      <td>0.8707</td>\n",
       "      <td>0.8581</td>\n",
       "      <td>0.8576</td>\n",
       "      <td>0.8858</td>\n",
       "      <td>0.8720</td>\n",
       "      <td>0.8921</td>\n",
       "    </tr>\n",
       "  </tbody>\n",
       "</table>\n",
       "</div>"
      ],
      "text/plain": [
       "          Fold #1  Fold #2  Fold #3  Fold #4  Fold #5  Fold #6  Fold #7  \\\n",
       "Accuracy   0.7823   0.7934   0.7956   0.7857   0.7808   0.7833   0.8030   \n",
       "ROC-AUC    0.8569   0.8583   0.8686   0.8707   0.8581   0.8576   0.8858   \n",
       "\n",
       "          Fold #8  Fold #9  \n",
       "Accuracy   0.7968   0.8091  \n",
       "ROC-AUC    0.8720   0.8921  "
      ]
     },
     "metadata": {},
     "output_type": "display_data"
    },
    {
     "name": "stdout",
     "output_type": "stream",
     "text": [
      "Refit to full training data and evaluate:\n",
      "\n",
      "|| Accuracy: 0.7798 || ROC-AUC: 0.8665 ||\n",
      "\n"
     ]
    },
    {
     "data": {
      "image/png": "[encoded data removed]",
      "text/plain": [
       "<Figure size 400x300 with 2 Axes>"
      ]
     },
     "metadata": {},
     "output_type": "display_data"
    },
    {
     "name": "stdout",
     "output_type": "stream",
     "text": [
      "\n",
      "(Time taken: 0.59 secs)\n",
      "\n",
      " ------------------------- Extended -------------------------\n",
      "Cross-validation:\n"
     ]
    },
    {
     "data": {
      "text/html": [
       "<div>\n",
       "<style scoped>\n",
       "    .dataframe tbody tr th:only-of-type {\n",
       "        vertical-align: middle;\n",
       "    }\n",
       "\n",
       "    .dataframe tbody tr th {\n",
       "        vertical-align: top;\n",
       "    }\n",
       "\n",
       "    .dataframe thead th {\n",
       "        text-align: right;\n",
       "    }\n",
       "</style>\n",
       "<table border=\"1\" class=\"dataframe\">\n",
       "  <thead>\n",
       "    <tr style=\"text-align: right;\">\n",
       "      <th></th>\n",
       "      <th>Fold #1</th>\n",
       "      <th>Fold #2</th>\n",
       "      <th>Fold #3</th>\n",
       "      <th>Fold #4</th>\n",
       "      <th>Fold #5</th>\n",
       "      <th>Fold #6</th>\n",
       "      <th>Fold #7</th>\n",
       "      <th>Fold #8</th>\n",
       "      <th>Fold #9</th>\n",
       "    </tr>\n",
       "  </thead>\n",
       "  <tbody>\n",
       "    <tr>\n",
       "      <th>Accuracy</th>\n",
       "      <td>0.9410</td>\n",
       "      <td>0.9299</td>\n",
       "      <td>0.9446</td>\n",
       "      <td>0.9409</td>\n",
       "      <td>0.9433</td>\n",
       "      <td>0.9384</td>\n",
       "      <td>0.9372</td>\n",
       "      <td>0.9569</td>\n",
       "      <td>0.9557</td>\n",
       "    </tr>\n",
       "    <tr>\n",
       "      <th>ROC-AUC</th>\n",
       "      <td>0.9557</td>\n",
       "      <td>0.9398</td>\n",
       "      <td>0.9466</td>\n",
       "      <td>0.9482</td>\n",
       "      <td>0.9546</td>\n",
       "      <td>0.9419</td>\n",
       "      <td>0.9527</td>\n",
       "      <td>0.9626</td>\n",
       "      <td>0.9644</td>\n",
       "    </tr>\n",
       "  </tbody>\n",
       "</table>\n",
       "</div>"
      ],
      "text/plain": [
       "          Fold #1  Fold #2  Fold #3  Fold #4  Fold #5  Fold #6  Fold #7  \\\n",
       "Accuracy   0.9410   0.9299   0.9446   0.9409   0.9433   0.9384   0.9372   \n",
       "ROC-AUC    0.9557   0.9398   0.9466   0.9482   0.9546   0.9419   0.9527   \n",
       "\n",
       "          Fold #8  Fold #9  \n",
       "Accuracy   0.9569   0.9557  \n",
       "ROC-AUC    0.9626   0.9644  "
      ]
     },
     "metadata": {},
     "output_type": "display_data"
    },
    {
     "name": "stdout",
     "output_type": "stream",
     "text": [
      "Refit to full training data and evaluate:\n",
      "\n",
      "|| Accuracy: 0.9483 || ROC-AUC: 0.9597 ||\n",
      "\n"
     ]
    },
    {
     "data": {
      "image/png": "[encoded data removed]",
      "text/plain": [
       "<Figure size 400x300 with 2 Axes>"
      ]
     },
     "metadata": {},
     "output_type": "display_data"
    },
    {
     "name": "stdout",
     "output_type": "stream",
     "text": [
      "\n",
      "(Time taken: 0.96 secs)\n",
      "\n",
      " ------------------------- Binary -------------------------\n",
      "Cross-validation:\n"
     ]
    },
    {
     "data": {
      "text/html": [
       "<div>\n",
       "<style scoped>\n",
       "    .dataframe tbody tr th:only-of-type {\n",
       "        vertical-align: middle;\n",
       "    }\n",
       "\n",
       "    .dataframe tbody tr th {\n",
       "        vertical-align: top;\n",
       "    }\n",
       "\n",
       "    .dataframe thead th {\n",
       "        text-align: right;\n",
       "    }\n",
       "</style>\n",
       "<table border=\"1\" class=\"dataframe\">\n",
       "  <thead>\n",
       "    <tr style=\"text-align: right;\">\n",
       "      <th></th>\n",
       "      <th>Fold #1</th>\n",
       "      <th>Fold #2</th>\n",
       "      <th>Fold #3</th>\n",
       "      <th>Fold #4</th>\n",
       "      <th>Fold #5</th>\n",
       "      <th>Fold #6</th>\n",
       "      <th>Fold #7</th>\n",
       "      <th>Fold #8</th>\n",
       "      <th>Fold #9</th>\n",
       "    </tr>\n",
       "  </thead>\n",
       "  <tbody>\n",
       "    <tr>\n",
       "      <th>Accuracy</th>\n",
       "      <td>0.9410</td>\n",
       "      <td>0.9299</td>\n",
       "      <td>0.9446</td>\n",
       "      <td>0.9409</td>\n",
       "      <td>0.9433</td>\n",
       "      <td>0.9384</td>\n",
       "      <td>0.9372</td>\n",
       "      <td>0.9569</td>\n",
       "      <td>0.9557</td>\n",
       "    </tr>\n",
       "    <tr>\n",
       "      <th>ROC-AUC</th>\n",
       "      <td>0.9461</td>\n",
       "      <td>0.9325</td>\n",
       "      <td>0.9377</td>\n",
       "      <td>0.9444</td>\n",
       "      <td>0.9531</td>\n",
       "      <td>0.9367</td>\n",
       "      <td>0.9447</td>\n",
       "      <td>0.9567</td>\n",
       "      <td>0.9545</td>\n",
       "    </tr>\n",
       "  </tbody>\n",
       "</table>\n",
       "</div>"
      ],
      "text/plain": [
       "          Fold #1  Fold #2  Fold #3  Fold #4  Fold #5  Fold #6  Fold #7  \\\n",
       "Accuracy   0.9410   0.9299   0.9446   0.9409   0.9433   0.9384   0.9372   \n",
       "ROC-AUC    0.9461   0.9325   0.9377   0.9444   0.9531   0.9367   0.9447   \n",
       "\n",
       "          Fold #8  Fold #9  \n",
       "Accuracy   0.9569   0.9557  \n",
       "ROC-AUC    0.9567   0.9545  "
      ]
     },
     "metadata": {},
     "output_type": "display_data"
    },
    {
     "name": "stdout",
     "output_type": "stream",
     "text": [
      "Refit to full training data and evaluate:\n",
      "\n",
      "|| Accuracy: 0.9483 || ROC-AUC: 0.9514 ||\n",
      "\n"
     ]
    },
    {
     "data": {
      "image/png": "[encoded data removed]",
      "text/plain": [
       "<Figure size 400x300 with 2 Axes>"
      ]
     },
     "metadata": {},
     "output_type": "display_data"
    },
    {
     "name": "stdout",
     "output_type": "stream",
     "text": [
      "\n",
      "(Time taken: 0.51 secs)\n",
      "\n",
      " ------------------------- Minimal -------------------------\n",
      "Cross-validation:\n"
     ]
    },
    {
     "data": {
      "text/html": [
       "<div>\n",
       "<style scoped>\n",
       "    .dataframe tbody tr th:only-of-type {\n",
       "        vertical-align: middle;\n",
       "    }\n",
       "\n",
       "    .dataframe tbody tr th {\n",
       "        vertical-align: top;\n",
       "    }\n",
       "\n",
       "    .dataframe thead th {\n",
       "        text-align: right;\n",
       "    }\n",
       "</style>\n",
       "<table border=\"1\" class=\"dataframe\">\n",
       "  <thead>\n",
       "    <tr style=\"text-align: right;\">\n",
       "      <th></th>\n",
       "      <th>Fold #1</th>\n",
       "      <th>Fold #2</th>\n",
       "      <th>Fold #3</th>\n",
       "      <th>Fold #4</th>\n",
       "      <th>Fold #5</th>\n",
       "      <th>Fold #6</th>\n",
       "      <th>Fold #7</th>\n",
       "      <th>Fold #8</th>\n",
       "      <th>Fold #9</th>\n",
       "    </tr>\n",
       "  </thead>\n",
       "  <tbody>\n",
       "    <tr>\n",
       "      <th>Accuracy</th>\n",
       "      <td>0.9410</td>\n",
       "      <td>0.9299</td>\n",
       "      <td>0.9446</td>\n",
       "      <td>0.9409</td>\n",
       "      <td>0.9433</td>\n",
       "      <td>0.9384</td>\n",
       "      <td>0.9372</td>\n",
       "      <td>0.9569</td>\n",
       "      <td>0.9557</td>\n",
       "    </tr>\n",
       "    <tr>\n",
       "      <th>ROC-AUC</th>\n",
       "      <td>0.9464</td>\n",
       "      <td>0.9295</td>\n",
       "      <td>0.9385</td>\n",
       "      <td>0.9448</td>\n",
       "      <td>0.9536</td>\n",
       "      <td>0.9377</td>\n",
       "      <td>0.9498</td>\n",
       "      <td>0.9562</td>\n",
       "      <td>0.9538</td>\n",
       "    </tr>\n",
       "  </tbody>\n",
       "</table>\n",
       "</div>"
      ],
      "text/plain": [
       "          Fold #1  Fold #2  Fold #3  Fold #4  Fold #5  Fold #6  Fold #7  \\\n",
       "Accuracy   0.9410   0.9299   0.9446   0.9409   0.9433   0.9384   0.9372   \n",
       "ROC-AUC    0.9464   0.9295   0.9385   0.9448   0.9536   0.9377   0.9498   \n",
       "\n",
       "          Fold #8  Fold #9  \n",
       "Accuracy   0.9569   0.9557  \n",
       "ROC-AUC    0.9562   0.9538  "
      ]
     },
     "metadata": {},
     "output_type": "display_data"
    },
    {
     "name": "stdout",
     "output_type": "stream",
     "text": [
      "Refit to full training data and evaluate:\n",
      "\n",
      "|| Accuracy: 0.9483 || ROC-AUC: 0.9517 ||\n",
      "\n"
     ]
    },
    {
     "data": {
      "image/png": "[encoded data removed]",
      "text/plain": [
       "<Figure size 400x300 with 2 Axes>"
      ]
     },
     "metadata": {},
     "output_type": "display_data"
    },
    {
     "name": "stdout",
     "output_type": "stream",
     "text": [
      "\n",
      "(Time taken: 0.33 secs)\n"
     ]
    }
   ],
   "source": [
    "run_experiment(model, 'lda')"
   ]
  },
  {
   "cell_type": "markdown",
   "id": "46c230b0",
   "metadata": {
    "papermill": {
     "duration": 0.011585,
     "end_time": "2024-07-15T11:48:46.435120",
     "exception": false,
     "start_time": "2024-07-15T11:48:46.423535",
     "status": "completed"
    },
    "tags": []
   },
   "source": [
    "## Quadratic"
   ]
  },
  {
   "cell_type": "code",
   "execution_count": 15,
   "id": "36e3f3b3",
   "metadata": {
    "execution": {
     "iopub.execute_input": "2024-07-15T11:48:46.460223Z",
     "iopub.status.busy": "2024-07-15T11:48:46.459578Z",
     "iopub.status.idle": "2024-07-15T11:48:46.464222Z",
     "shell.execute_reply": "2024-07-15T11:48:46.463302Z"
    },
    "papermill": {
     "duration": 0.019404,
     "end_time": "2024-07-15T11:48:46.466166",
     "exception": false,
     "start_time": "2024-07-15T11:48:46.446762",
     "status": "completed"
    },
    "tags": []
   },
   "outputs": [],
   "source": [
    "model = make_pipeline(\n",
    "    StandardScaler(),\n",
    "    QuadraticDiscriminantAnalysis(reg_param=0.5, tol=1e-4)\n",
    ")"
   ]
  },
  {
   "cell_type": "code",
   "execution_count": 16,
   "id": "8ccbc35f",
   "metadata": {
    "execution": {
     "iopub.execute_input": "2024-07-15T11:48:46.490495Z",
     "iopub.status.busy": "2024-07-15T11:48:46.490191Z",
     "iopub.status.idle": "2024-07-15T11:48:48.618794Z",
     "shell.execute_reply": "2024-07-15T11:48:48.617510Z"
    },
    "papermill": {
     "duration": 2.14359,
     "end_time": "2024-07-15T11:48:48.621361",
     "exception": false,
     "start_time": "2024-07-15T11:48:46.477771",
     "status": "completed"
    },
    "tags": []
   },
   "outputs": [
    {
     "name": "stdout",
     "output_type": "stream",
     "text": [
      "\n",
      " ------------------------- Original -------------------------\n",
      "Cross-validation:\n"
     ]
    },
    {
     "data": {
      "text/html": [
       "<div>\n",
       "<style scoped>\n",
       "    .dataframe tbody tr th:only-of-type {\n",
       "        vertical-align: middle;\n",
       "    }\n",
       "\n",
       "    .dataframe tbody tr th {\n",
       "        vertical-align: top;\n",
       "    }\n",
       "\n",
       "    .dataframe thead th {\n",
       "        text-align: right;\n",
       "    }\n",
       "</style>\n",
       "<table border=\"1\" class=\"dataframe\">\n",
       "  <thead>\n",
       "    <tr style=\"text-align: right;\">\n",
       "      <th></th>\n",
       "      <th>Fold #1</th>\n",
       "      <th>Fold #2</th>\n",
       "      <th>Fold #3</th>\n",
       "      <th>Fold #4</th>\n",
       "      <th>Fold #5</th>\n",
       "      <th>Fold #6</th>\n",
       "      <th>Fold #7</th>\n",
       "      <th>Fold #8</th>\n",
       "      <th>Fold #9</th>\n",
       "    </tr>\n",
       "  </thead>\n",
       "  <tbody>\n",
       "    <tr>\n",
       "      <th>Accuracy</th>\n",
       "      <td>0.8057</td>\n",
       "      <td>0.7970</td>\n",
       "      <td>0.8128</td>\n",
       "      <td>0.8153</td>\n",
       "      <td>0.8079</td>\n",
       "      <td>0.7968</td>\n",
       "      <td>0.8202</td>\n",
       "      <td>0.8128</td>\n",
       "      <td>0.8362</td>\n",
       "    </tr>\n",
       "    <tr>\n",
       "      <th>ROC-AUC</th>\n",
       "      <td>0.8746</td>\n",
       "      <td>0.8722</td>\n",
       "      <td>0.8837</td>\n",
       "      <td>0.8884</td>\n",
       "      <td>0.8734</td>\n",
       "      <td>0.8761</td>\n",
       "      <td>0.8993</td>\n",
       "      <td>0.8881</td>\n",
       "      <td>0.9080</td>\n",
       "    </tr>\n",
       "  </tbody>\n",
       "</table>\n",
       "</div>"
      ],
      "text/plain": [
       "          Fold #1  Fold #2  Fold #3  Fold #4  Fold #5  Fold #6  Fold #7  \\\n",
       "Accuracy   0.8057   0.7970   0.8128   0.8153   0.8079   0.7968   0.8202   \n",
       "ROC-AUC    0.8746   0.8722   0.8837   0.8884   0.8734   0.8761   0.8993   \n",
       "\n",
       "          Fold #8  Fold #9  \n",
       "Accuracy   0.8128   0.8362  \n",
       "ROC-AUC    0.8881   0.9080  "
      ]
     },
     "metadata": {},
     "output_type": "display_data"
    },
    {
     "name": "stdout",
     "output_type": "stream",
     "text": [
      "Refit to full training data and evaluate:\n",
      "\n",
      "|| Accuracy: 0.8057 || ROC-AUC: 0.8835 ||\n",
      "\n"
     ]
    },
    {
     "data": {
      "image/png": "[encoded data removed]",
      "text/plain": [
       "<Figure size 400x300 with 2 Axes>"
      ]
     },
     "metadata": {},
     "output_type": "display_data"
    },
    {
     "name": "stdout",
     "output_type": "stream",
     "text": [
      "\n",
      "(Time taken: 0.50 secs)\n",
      "\n",
      " ------------------------- Extended -------------------------\n",
      "Cross-validation:\n"
     ]
    },
    {
     "data": {
      "text/html": [
       "<div>\n",
       "<style scoped>\n",
       "    .dataframe tbody tr th:only-of-type {\n",
       "        vertical-align: middle;\n",
       "    }\n",
       "\n",
       "    .dataframe tbody tr th {\n",
       "        vertical-align: top;\n",
       "    }\n",
       "\n",
       "    .dataframe thead th {\n",
       "        text-align: right;\n",
       "    }\n",
       "</style>\n",
       "<table border=\"1\" class=\"dataframe\">\n",
       "  <thead>\n",
       "    <tr style=\"text-align: right;\">\n",
       "      <th></th>\n",
       "      <th>Fold #1</th>\n",
       "      <th>Fold #2</th>\n",
       "      <th>Fold #3</th>\n",
       "      <th>Fold #4</th>\n",
       "      <th>Fold #5</th>\n",
       "      <th>Fold #6</th>\n",
       "      <th>Fold #7</th>\n",
       "      <th>Fold #8</th>\n",
       "      <th>Fold #9</th>\n",
       "    </tr>\n",
       "  </thead>\n",
       "  <tbody>\n",
       "    <tr>\n",
       "      <th>Accuracy</th>\n",
       "      <td>0.9410</td>\n",
       "      <td>0.9237</td>\n",
       "      <td>0.9384</td>\n",
       "      <td>0.9310</td>\n",
       "      <td>0.9236</td>\n",
       "      <td>0.9286</td>\n",
       "      <td>0.9335</td>\n",
       "      <td>0.9495</td>\n",
       "      <td>0.9507</td>\n",
       "    </tr>\n",
       "    <tr>\n",
       "      <th>ROC-AUC</th>\n",
       "      <td>0.9484</td>\n",
       "      <td>0.9311</td>\n",
       "      <td>0.9453</td>\n",
       "      <td>0.9449</td>\n",
       "      <td>0.9452</td>\n",
       "      <td>0.9452</td>\n",
       "      <td>0.9450</td>\n",
       "      <td>0.9598</td>\n",
       "      <td>0.9700</td>\n",
       "    </tr>\n",
       "  </tbody>\n",
       "</table>\n",
       "</div>"
      ],
      "text/plain": [
       "          Fold #1  Fold #2  Fold #3  Fold #4  Fold #5  Fold #6  Fold #7  \\\n",
       "Accuracy   0.9410   0.9237   0.9384   0.9310   0.9236   0.9286   0.9335   \n",
       "ROC-AUC    0.9484   0.9311   0.9453   0.9449   0.9452   0.9452   0.9450   \n",
       "\n",
       "          Fold #8  Fold #9  \n",
       "Accuracy   0.9495   0.9507  \n",
       "ROC-AUC    0.9598   0.9700  "
      ]
     },
     "metadata": {},
     "output_type": "display_data"
    },
    {
     "name": "stdout",
     "output_type": "stream",
     "text": [
      "Refit to full training data and evaluate:\n",
      "\n",
      "|| Accuracy: 0.9434 || ROC-AUC: 0.9595 ||\n",
      "\n"
     ]
    },
    {
     "data": {
      "image/png": "[encoded data removed]",
      "text/plain": [
       "<Figure size 400x300 with 2 Axes>"
      ]
     },
     "metadata": {},
     "output_type": "display_data"
    },
    {
     "name": "stdout",
     "output_type": "stream",
     "text": [
      "\n",
      "(Time taken: 0.55 secs)\n",
      "\n",
      " ------------------------- Binary -------------------------\n",
      "Cross-validation:\n"
     ]
    },
    {
     "data": {
      "text/html": [
       "<div>\n",
       "<style scoped>\n",
       "    .dataframe tbody tr th:only-of-type {\n",
       "        vertical-align: middle;\n",
       "    }\n",
       "\n",
       "    .dataframe tbody tr th {\n",
       "        vertical-align: top;\n",
       "    }\n",
       "\n",
       "    .dataframe thead th {\n",
       "        text-align: right;\n",
       "    }\n",
       "</style>\n",
       "<table border=\"1\" class=\"dataframe\">\n",
       "  <thead>\n",
       "    <tr style=\"text-align: right;\">\n",
       "      <th></th>\n",
       "      <th>Fold #1</th>\n",
       "      <th>Fold #2</th>\n",
       "      <th>Fold #3</th>\n",
       "      <th>Fold #4</th>\n",
       "      <th>Fold #5</th>\n",
       "      <th>Fold #6</th>\n",
       "      <th>Fold #7</th>\n",
       "      <th>Fold #8</th>\n",
       "      <th>Fold #9</th>\n",
       "    </tr>\n",
       "  </thead>\n",
       "  <tbody>\n",
       "    <tr>\n",
       "      <th>Accuracy</th>\n",
       "      <td>0.9410</td>\n",
       "      <td>0.9299</td>\n",
       "      <td>0.9433</td>\n",
       "      <td>0.9409</td>\n",
       "      <td>0.936</td>\n",
       "      <td>0.9347</td>\n",
       "      <td>0.9372</td>\n",
       "      <td>0.9544</td>\n",
       "      <td>0.9557</td>\n",
       "    </tr>\n",
       "    <tr>\n",
       "      <th>ROC-AUC</th>\n",
       "      <td>0.9449</td>\n",
       "      <td>0.9341</td>\n",
       "      <td>0.9437</td>\n",
       "      <td>0.9364</td>\n",
       "      <td>0.947</td>\n",
       "      <td>0.9427</td>\n",
       "      <td>0.9373</td>\n",
       "      <td>0.9564</td>\n",
       "      <td>0.9664</td>\n",
       "    </tr>\n",
       "  </tbody>\n",
       "</table>\n",
       "</div>"
      ],
      "text/plain": [
       "          Fold #1  Fold #2  Fold #3  Fold #4  Fold #5  Fold #6  Fold #7  \\\n",
       "Accuracy   0.9410   0.9299   0.9433   0.9409    0.936   0.9347   0.9372   \n",
       "ROC-AUC    0.9449   0.9341   0.9437   0.9364    0.947   0.9427   0.9373   \n",
       "\n",
       "          Fold #8  Fold #9  \n",
       "Accuracy   0.9544   0.9557  \n",
       "ROC-AUC    0.9564   0.9664  "
      ]
     },
     "metadata": {},
     "output_type": "display_data"
    },
    {
     "name": "stdout",
     "output_type": "stream",
     "text": [
      "Refit to full training data and evaluate:\n",
      "\n",
      "|| Accuracy: 0.9483 || ROC-AUC: 0.9573 ||\n",
      "\n"
     ]
    },
    {
     "data": {
      "image/png": "[encoded data removed]",
      "text/plain": [
       "<Figure size 400x300 with 2 Axes>"
      ]
     },
     "metadata": {},
     "output_type": "display_data"
    },
    {
     "name": "stdout",
     "output_type": "stream",
     "text": [
      "\n",
      "(Time taken: 0.66 secs)\n",
      "\n",
      " ------------------------- Minimal -------------------------\n",
      "Cross-validation:\n"
     ]
    },
    {
     "data": {
      "text/html": [
       "<div>\n",
       "<style scoped>\n",
       "    .dataframe tbody tr th:only-of-type {\n",
       "        vertical-align: middle;\n",
       "    }\n",
       "\n",
       "    .dataframe tbody tr th {\n",
       "        vertical-align: top;\n",
       "    }\n",
       "\n",
       "    .dataframe thead th {\n",
       "        text-align: right;\n",
       "    }\n",
       "</style>\n",
       "<table border=\"1\" class=\"dataframe\">\n",
       "  <thead>\n",
       "    <tr style=\"text-align: right;\">\n",
       "      <th></th>\n",
       "      <th>Fold #1</th>\n",
       "      <th>Fold #2</th>\n",
       "      <th>Fold #3</th>\n",
       "      <th>Fold #4</th>\n",
       "      <th>Fold #5</th>\n",
       "      <th>Fold #6</th>\n",
       "      <th>Fold #7</th>\n",
       "      <th>Fold #8</th>\n",
       "      <th>Fold #9</th>\n",
       "    </tr>\n",
       "  </thead>\n",
       "  <tbody>\n",
       "    <tr>\n",
       "      <th>Accuracy</th>\n",
       "      <td>0.941</td>\n",
       "      <td>0.9299</td>\n",
       "      <td>0.9446</td>\n",
       "      <td>0.9409</td>\n",
       "      <td>0.9433</td>\n",
       "      <td>0.9384</td>\n",
       "      <td>0.9372</td>\n",
       "      <td>0.9569</td>\n",
       "      <td>0.9557</td>\n",
       "    </tr>\n",
       "    <tr>\n",
       "      <th>ROC-AUC</th>\n",
       "      <td>0.945</td>\n",
       "      <td>0.9304</td>\n",
       "      <td>0.9430</td>\n",
       "      <td>0.9337</td>\n",
       "      <td>0.9442</td>\n",
       "      <td>0.9434</td>\n",
       "      <td>0.9385</td>\n",
       "      <td>0.9561</td>\n",
       "      <td>0.9657</td>\n",
       "    </tr>\n",
       "  </tbody>\n",
       "</table>\n",
       "</div>"
      ],
      "text/plain": [
       "          Fold #1  Fold #2  Fold #3  Fold #4  Fold #5  Fold #6  Fold #7  \\\n",
       "Accuracy    0.941   0.9299   0.9446   0.9409   0.9433   0.9384   0.9372   \n",
       "ROC-AUC     0.945   0.9304   0.9430   0.9337   0.9442   0.9434   0.9385   \n",
       "\n",
       "          Fold #8  Fold #9  \n",
       "Accuracy   0.9569   0.9557  \n",
       "ROC-AUC    0.9561   0.9657  "
      ]
     },
     "metadata": {},
     "output_type": "display_data"
    },
    {
     "name": "stdout",
     "output_type": "stream",
     "text": [
      "Refit to full training data and evaluate:\n",
      "\n",
      "|| Accuracy: 0.9483 || ROC-AUC: 0.9560 ||\n",
      "\n"
     ]
    },
    {
     "data": {
      "image/png": "[encoded data removed]",
      "text/plain": [
       "<Figure size 400x300 with 2 Axes>"
      ]
     },
     "metadata": {},
     "output_type": "display_data"
    },
    {
     "name": "stdout",
     "output_type": "stream",
     "text": [
      "\n",
      "(Time taken: 0.40 secs)\n"
     ]
    }
   ],
   "source": [
    "run_experiment(model, 'qda')"
   ]
  },
  {
   "cell_type": "markdown",
   "id": "01d293d2",
   "metadata": {
    "papermill": {
     "duration": 0.014368,
     "end_time": "2024-07-15T11:48:48.655196",
     "exception": false,
     "start_time": "2024-07-15T11:48:48.640828",
     "status": "completed"
    },
    "tags": []
   },
   "source": [
    "# Naive Bayes - BernoulliNB\n",
    "(Works only for binary features)"
   ]
  },
  {
   "cell_type": "code",
   "execution_count": 17,
   "id": "26833251",
   "metadata": {
    "execution": {
     "iopub.execute_input": "2024-07-15T11:48:48.686314Z",
     "iopub.status.busy": "2024-07-15T11:48:48.685322Z",
     "iopub.status.idle": "2024-07-15T11:48:48.690524Z",
     "shell.execute_reply": "2024-07-15T11:48:48.689515Z"
    },
    "papermill": {
     "duration": 0.023064,
     "end_time": "2024-07-15T11:48:48.692683",
     "exception": false,
     "start_time": "2024-07-15T11:48:48.669619",
     "status": "completed"
    },
    "tags": []
   },
   "outputs": [],
   "source": [
    "bnb_model = BernoulliNB(alpha=0.5)"
   ]
  },
  {
   "cell_type": "code",
   "execution_count": 18,
   "id": "e8bc1c3a",
   "metadata": {
    "execution": {
     "iopub.execute_input": "2024-07-15T11:48:48.723451Z",
     "iopub.status.busy": "2024-07-15T11:48:48.722666Z",
     "iopub.status.idle": "2024-07-15T11:48:49.109932Z",
     "shell.execute_reply": "2024-07-15T11:48:49.108810Z"
    },
    "papermill": {
     "duration": 0.404939,
     "end_time": "2024-07-15T11:48:49.112073",
     "exception": false,
     "start_time": "2024-07-15T11:48:48.707134",
     "status": "completed"
    },
    "tags": []
   },
   "outputs": [
    {
     "name": "stdout",
     "output_type": "stream",
     "text": [
      "------------------------- Binary -------------------------\n",
      "Cross-validation:\n"
     ]
    },
    {
     "data": {
      "text/html": [
       "<div>\n",
       "<style scoped>\n",
       "    .dataframe tbody tr th:only-of-type {\n",
       "        vertical-align: middle;\n",
       "    }\n",
       "\n",
       "    .dataframe tbody tr th {\n",
       "        vertical-align: top;\n",
       "    }\n",
       "\n",
       "    .dataframe thead th {\n",
       "        text-align: right;\n",
       "    }\n",
       "</style>\n",
       "<table border=\"1\" class=\"dataframe\">\n",
       "  <thead>\n",
       "    <tr style=\"text-align: right;\">\n",
       "      <th></th>\n",
       "      <th>Fold #1</th>\n",
       "      <th>Fold #2</th>\n",
       "      <th>Fold #3</th>\n",
       "      <th>Fold #4</th>\n",
       "      <th>Fold #5</th>\n",
       "      <th>Fold #6</th>\n",
       "      <th>Fold #7</th>\n",
       "      <th>Fold #8</th>\n",
       "      <th>Fold #9</th>\n",
       "    </tr>\n",
       "  </thead>\n",
       "  <tbody>\n",
       "    <tr>\n",
       "      <th>Accuracy</th>\n",
       "      <td>0.9410</td>\n",
       "      <td>0.9299</td>\n",
       "      <td>0.9446</td>\n",
       "      <td>0.9409</td>\n",
       "      <td>0.9433</td>\n",
       "      <td>0.9384</td>\n",
       "      <td>0.9372</td>\n",
       "      <td>0.9569</td>\n",
       "      <td>0.9557</td>\n",
       "    </tr>\n",
       "    <tr>\n",
       "      <th>ROC-AUC</th>\n",
       "      <td>0.9491</td>\n",
       "      <td>0.9340</td>\n",
       "      <td>0.9417</td>\n",
       "      <td>0.9437</td>\n",
       "      <td>0.9503</td>\n",
       "      <td>0.9366</td>\n",
       "      <td>0.9422</td>\n",
       "      <td>0.9564</td>\n",
       "      <td>0.9604</td>\n",
       "    </tr>\n",
       "  </tbody>\n",
       "</table>\n",
       "</div>"
      ],
      "text/plain": [
       "          Fold #1  Fold #2  Fold #3  Fold #4  Fold #5  Fold #6  Fold #7  \\\n",
       "Accuracy   0.9410   0.9299   0.9446   0.9409   0.9433   0.9384   0.9372   \n",
       "ROC-AUC    0.9491   0.9340   0.9417   0.9437   0.9503   0.9366   0.9422   \n",
       "\n",
       "          Fold #8  Fold #9  \n",
       "Accuracy   0.9569   0.9557  \n",
       "ROC-AUC    0.9564   0.9604  "
      ]
     },
     "metadata": {},
     "output_type": "display_data"
    },
    {
     "name": "stdout",
     "output_type": "stream",
     "text": [
      "Refit to full training data and evaluate:\n",
      "\n",
      "|| Accuracy: 0.9483 || ROC-AUC: 0.9582 ||\n",
      "\n"
     ]
    },
    {
     "data": {
      "image/png": "[encoded data removed]",
      "text/plain": [
       "<Figure size 400x300 with 2 Axes>"
      ]
     },
     "metadata": {},
     "output_type": "display_data"
    },
    {
     "name": "stdout",
     "output_type": "stream",
     "text": [
      "\n",
      "(Time taken: 0.38 secs)\n"
     ]
    }
   ],
   "source": [
    "print('-'*25, 'Binary', '-'*25)\n",
    "start_time = time.time()\n",
    "print('Cross-validation:')\n",
    "cross_validate(bnb_model, binary_features)\n",
    "print('Refit to full training data and evaluate:\\n')\n",
    "bnb_model = refit_full_and_evaluate(bnb_model, binary_features)\n",
    "end_time = time.time()\n",
    "print(f'\\n(Time taken: {end_time - start_time:.2f} secs)')\n",
    "\n",
    "save_model(bnb_model, 'bernoullinb_Binary')"
   ]
  },
  {
   "cell_type": "code",
   "execution_count": 19,
   "id": "da30832b",
   "metadata": {
    "execution": {
     "iopub.execute_input": "2024-07-15T11:48:49.144273Z",
     "iopub.status.busy": "2024-07-15T11:48:49.143639Z",
     "iopub.status.idle": "2024-07-15T11:48:49.502625Z",
     "shell.execute_reply": "2024-07-15T11:48:49.501695Z"
    },
    "papermill": {
     "duration": 0.37771,
     "end_time": "2024-07-15T11:48:49.505143",
     "exception": false,
     "start_time": "2024-07-15T11:48:49.127433",
     "status": "completed"
    },
    "tags": []
   },
   "outputs": [
    {
     "name": "stdout",
     "output_type": "stream",
     "text": [
      "------------------------- Minimal -------------------------\n",
      "Cross-validation:\n"
     ]
    },
    {
     "data": {
      "text/html": [
       "<div>\n",
       "<style scoped>\n",
       "    .dataframe tbody tr th:only-of-type {\n",
       "        vertical-align: middle;\n",
       "    }\n",
       "\n",
       "    .dataframe tbody tr th {\n",
       "        vertical-align: top;\n",
       "    }\n",
       "\n",
       "    .dataframe thead th {\n",
       "        text-align: right;\n",
       "    }\n",
       "</style>\n",
       "<table border=\"1\" class=\"dataframe\">\n",
       "  <thead>\n",
       "    <tr style=\"text-align: right;\">\n",
       "      <th></th>\n",
       "      <th>Fold #1</th>\n",
       "      <th>Fold #2</th>\n",
       "      <th>Fold #3</th>\n",
       "      <th>Fold #4</th>\n",
       "      <th>Fold #5</th>\n",
       "      <th>Fold #6</th>\n",
       "      <th>Fold #7</th>\n",
       "      <th>Fold #8</th>\n",
       "      <th>Fold #9</th>\n",
       "    </tr>\n",
       "  </thead>\n",
       "  <tbody>\n",
       "    <tr>\n",
       "      <th>Accuracy</th>\n",
       "      <td>0.9410</td>\n",
       "      <td>0.9299</td>\n",
       "      <td>0.9446</td>\n",
       "      <td>0.9409</td>\n",
       "      <td>0.9433</td>\n",
       "      <td>0.9384</td>\n",
       "      <td>0.9372</td>\n",
       "      <td>0.9569</td>\n",
       "      <td>0.9557</td>\n",
       "    </tr>\n",
       "    <tr>\n",
       "      <th>ROC-AUC</th>\n",
       "      <td>0.9467</td>\n",
       "      <td>0.9321</td>\n",
       "      <td>0.9406</td>\n",
       "      <td>0.9436</td>\n",
       "      <td>0.9459</td>\n",
       "      <td>0.9365</td>\n",
       "      <td>0.9468</td>\n",
       "      <td>0.9568</td>\n",
       "      <td>0.9588</td>\n",
       "    </tr>\n",
       "  </tbody>\n",
       "</table>\n",
       "</div>"
      ],
      "text/plain": [
       "          Fold #1  Fold #2  Fold #3  Fold #4  Fold #5  Fold #6  Fold #7  \\\n",
       "Accuracy   0.9410   0.9299   0.9446   0.9409   0.9433   0.9384   0.9372   \n",
       "ROC-AUC    0.9467   0.9321   0.9406   0.9436   0.9459   0.9365   0.9468   \n",
       "\n",
       "          Fold #8  Fold #9  \n",
       "Accuracy   0.9569   0.9557  \n",
       "ROC-AUC    0.9568   0.9588  "
      ]
     },
     "metadata": {},
     "output_type": "display_data"
    },
    {
     "name": "stdout",
     "output_type": "stream",
     "text": [
      "Refit to full training data and evaluate:\n",
      "\n",
      "|| Accuracy: 0.9483 || ROC-AUC: 0.9546 ||\n",
      "\n"
     ]
    },
    {
     "data": {
      "image/png": "[encoded data removed]",
      "text/plain": [
       "<Figure size 400x300 with 2 Axes>"
      ]
     },
     "metadata": {},
     "output_type": "display_data"
    },
    {
     "name": "stdout",
     "output_type": "stream",
     "text": [
      "\n",
      "(Time taken: 0.35 secs)\n"
     ]
    }
   ],
   "source": [
    "print('-'*25, 'Minimal', '-'*25)\n",
    "start_time = time.time()\n",
    "print('Cross-validation:')\n",
    "cross_validate(bnb_model, minimal_features)\n",
    "print('Refit to full training data and evaluate:\\n')\n",
    "model = refit_full_and_evaluate(bnb_model, minimal_features)\n",
    "end_time = time.time()\n",
    "print(f'\\n(Time taken: {end_time - start_time:.2f} secs)')\n",
    "\n",
    "save_model(bnb_model, 'bernoullinb_Minimal')"
   ]
  },
  {
   "cell_type": "markdown",
   "id": "66c77519",
   "metadata": {
    "papermill": {
     "duration": 0.015499,
     "end_time": "2024-07-15T11:48:49.536978",
     "exception": false,
     "start_time": "2024-07-15T11:48:49.521479",
     "status": "completed"
    },
    "tags": []
   },
   "source": [
    "# K-Nearest Neighbors"
   ]
  },
  {
   "cell_type": "code",
   "execution_count": 20,
   "id": "1e0b4a20",
   "metadata": {
    "execution": {
     "iopub.execute_input": "2024-07-15T11:48:49.613021Z",
     "iopub.status.busy": "2024-07-15T11:48:49.612296Z",
     "iopub.status.idle": "2024-07-15T11:48:49.617045Z",
     "shell.execute_reply": "2024-07-15T11:48:49.616131Z"
    },
    "papermill": {
     "duration": 0.066287,
     "end_time": "2024-07-15T11:48:49.619073",
     "exception": false,
     "start_time": "2024-07-15T11:48:49.552786",
     "status": "completed"
    },
    "tags": []
   },
   "outputs": [],
   "source": [
    "model = make_pipeline(\n",
    "    StandardScaler(),\n",
    "    KNeighborsClassifier(\n",
    "        n_neighbors=5, \n",
    "        weights='distance', \n",
    "        n_jobs=-1\n",
    "    )\n",
    ")"
   ]
  },
  {
   "cell_type": "code",
   "execution_count": 21,
   "id": "bd5d69e3",
   "metadata": {
    "execution": {
     "iopub.execute_input": "2024-07-15T11:48:49.652607Z",
     "iopub.status.busy": "2024-07-15T11:48:49.651911Z",
     "iopub.status.idle": "2024-07-15T11:48:53.538858Z",
     "shell.execute_reply": "2024-07-15T11:48:53.537674Z"
    },
    "papermill": {
     "duration": 3.906082,
     "end_time": "2024-07-15T11:48:53.541108",
     "exception": false,
     "start_time": "2024-07-15T11:48:49.635026",
     "status": "completed"
    },
    "tags": []
   },
   "outputs": [
    {
     "name": "stdout",
     "output_type": "stream",
     "text": [
      "\n",
      " ------------------------- Original -------------------------\n",
      "Cross-validation:\n"
     ]
    },
    {
     "data": {
      "text/html": [
       "<div>\n",
       "<style scoped>\n",
       "    .dataframe tbody tr th:only-of-type {\n",
       "        vertical-align: middle;\n",
       "    }\n",
       "\n",
       "    .dataframe tbody tr th {\n",
       "        vertical-align: top;\n",
       "    }\n",
       "\n",
       "    .dataframe thead th {\n",
       "        text-align: right;\n",
       "    }\n",
       "</style>\n",
       "<table border=\"1\" class=\"dataframe\">\n",
       "  <thead>\n",
       "    <tr style=\"text-align: right;\">\n",
       "      <th></th>\n",
       "      <th>Fold #1</th>\n",
       "      <th>Fold #2</th>\n",
       "      <th>Fold #3</th>\n",
       "      <th>Fold #4</th>\n",
       "      <th>Fold #5</th>\n",
       "      <th>Fold #6</th>\n",
       "      <th>Fold #7</th>\n",
       "      <th>Fold #8</th>\n",
       "      <th>Fold #9</th>\n",
       "    </tr>\n",
       "  </thead>\n",
       "  <tbody>\n",
       "    <tr>\n",
       "      <th>Accuracy</th>\n",
       "      <td>0.8426</td>\n",
       "      <td>0.8303</td>\n",
       "      <td>0.8596</td>\n",
       "      <td>0.8559</td>\n",
       "      <td>0.8411</td>\n",
       "      <td>0.8424</td>\n",
       "      <td>0.8448</td>\n",
       "      <td>0.8633</td>\n",
       "      <td>0.8547</td>\n",
       "    </tr>\n",
       "    <tr>\n",
       "      <th>ROC-AUC</th>\n",
       "      <td>0.9062</td>\n",
       "      <td>0.8915</td>\n",
       "      <td>0.9013</td>\n",
       "      <td>0.9108</td>\n",
       "      <td>0.9090</td>\n",
       "      <td>0.8917</td>\n",
       "      <td>0.9152</td>\n",
       "      <td>0.9188</td>\n",
       "      <td>0.9280</td>\n",
       "    </tr>\n",
       "  </tbody>\n",
       "</table>\n",
       "</div>"
      ],
      "text/plain": [
       "          Fold #1  Fold #2  Fold #3  Fold #4  Fold #5  Fold #6  Fold #7  \\\n",
       "Accuracy   0.8426   0.8303   0.8596   0.8559   0.8411   0.8424   0.8448   \n",
       "ROC-AUC    0.9062   0.8915   0.9013   0.9108   0.9090   0.8917   0.9152   \n",
       "\n",
       "          Fold #8  Fold #9  \n",
       "Accuracy   0.8633   0.8547  \n",
       "ROC-AUC    0.9188   0.9280  "
      ]
     },
     "metadata": {},
     "output_type": "display_data"
    },
    {
     "name": "stdout",
     "output_type": "stream",
     "text": [
      "Refit to full training data and evaluate:\n",
      "\n",
      "|| Accuracy: 0.8438 || ROC-AUC: 0.9086 ||\n",
      "\n"
     ]
    },
    {
     "data": {
      "image/png": "[encoded data removed]",
      "text/plain": [
       "<Figure size 400x300 with 2 Axes>"
      ]
     },
     "metadata": {},
     "output_type": "display_data"
    },
    {
     "name": "stdout",
     "output_type": "stream",
     "text": [
      "\n",
      "(Time taken: 1.04 secs)\n",
      "\n",
      " ------------------------- Extended -------------------------\n",
      "Cross-validation:\n"
     ]
    },
    {
     "data": {
      "text/html": [
       "<div>\n",
       "<style scoped>\n",
       "    .dataframe tbody tr th:only-of-type {\n",
       "        vertical-align: middle;\n",
       "    }\n",
       "\n",
       "    .dataframe tbody tr th {\n",
       "        vertical-align: top;\n",
       "    }\n",
       "\n",
       "    .dataframe thead th {\n",
       "        text-align: right;\n",
       "    }\n",
       "</style>\n",
       "<table border=\"1\" class=\"dataframe\">\n",
       "  <thead>\n",
       "    <tr style=\"text-align: right;\">\n",
       "      <th></th>\n",
       "      <th>Fold #1</th>\n",
       "      <th>Fold #2</th>\n",
       "      <th>Fold #3</th>\n",
       "      <th>Fold #4</th>\n",
       "      <th>Fold #5</th>\n",
       "      <th>Fold #6</th>\n",
       "      <th>Fold #7</th>\n",
       "      <th>Fold #8</th>\n",
       "      <th>Fold #9</th>\n",
       "    </tr>\n",
       "  </thead>\n",
       "  <tbody>\n",
       "    <tr>\n",
       "      <th>Accuracy</th>\n",
       "      <td>0.9385</td>\n",
       "      <td>0.9262</td>\n",
       "      <td>0.9421</td>\n",
       "      <td>0.9372</td>\n",
       "      <td>0.9409</td>\n",
       "      <td>0.9335</td>\n",
       "      <td>0.9347</td>\n",
       "      <td>0.9483</td>\n",
       "      <td>0.9557</td>\n",
       "    </tr>\n",
       "    <tr>\n",
       "      <th>ROC-AUC</th>\n",
       "      <td>0.9443</td>\n",
       "      <td>0.9309</td>\n",
       "      <td>0.9481</td>\n",
       "      <td>0.9408</td>\n",
       "      <td>0.9464</td>\n",
       "      <td>0.9318</td>\n",
       "      <td>0.9527</td>\n",
       "      <td>0.9563</td>\n",
       "      <td>0.9584</td>\n",
       "    </tr>\n",
       "  </tbody>\n",
       "</table>\n",
       "</div>"
      ],
      "text/plain": [
       "          Fold #1  Fold #2  Fold #3  Fold #4  Fold #5  Fold #6  Fold #7  \\\n",
       "Accuracy   0.9385   0.9262   0.9421   0.9372   0.9409   0.9335   0.9347   \n",
       "ROC-AUC    0.9443   0.9309   0.9481   0.9408   0.9464   0.9318   0.9527   \n",
       "\n",
       "          Fold #8  Fold #9  \n",
       "Accuracy   0.9483   0.9557  \n",
       "ROC-AUC    0.9563   0.9584  "
      ]
     },
     "metadata": {},
     "output_type": "display_data"
    },
    {
     "name": "stdout",
     "output_type": "stream",
     "text": [
      "Refit to full training data and evaluate:\n",
      "\n",
      "|| Accuracy: 0.9471 || ROC-AUC: 0.9468 ||\n",
      "\n"
     ]
    },
    {
     "data": {
      "image/png": "[encoded data removed]",
      "text/plain": [
       "<Figure size 400x300 with 2 Axes>"
      ]
     },
     "metadata": {},
     "output_type": "display_data"
    },
    {
     "name": "stdout",
     "output_type": "stream",
     "text": [
      "\n",
      "(Time taken: 0.72 secs)\n",
      "\n",
      " ------------------------- Binary -------------------------\n",
      "Cross-validation:\n"
     ]
    },
    {
     "data": {
      "text/html": [
       "<div>\n",
       "<style scoped>\n",
       "    .dataframe tbody tr th:only-of-type {\n",
       "        vertical-align: middle;\n",
       "    }\n",
       "\n",
       "    .dataframe tbody tr th {\n",
       "        vertical-align: top;\n",
       "    }\n",
       "\n",
       "    .dataframe thead th {\n",
       "        text-align: right;\n",
       "    }\n",
       "</style>\n",
       "<table border=\"1\" class=\"dataframe\">\n",
       "  <thead>\n",
       "    <tr style=\"text-align: right;\">\n",
       "      <th></th>\n",
       "      <th>Fold #1</th>\n",
       "      <th>Fold #2</th>\n",
       "      <th>Fold #3</th>\n",
       "      <th>Fold #4</th>\n",
       "      <th>Fold #5</th>\n",
       "      <th>Fold #6</th>\n",
       "      <th>Fold #7</th>\n",
       "      <th>Fold #8</th>\n",
       "      <th>Fold #9</th>\n",
       "    </tr>\n",
       "  </thead>\n",
       "  <tbody>\n",
       "    <tr>\n",
       "      <th>Accuracy</th>\n",
       "      <td>0.9397</td>\n",
       "      <td>0.9299</td>\n",
       "      <td>0.9409</td>\n",
       "      <td>0.9409</td>\n",
       "      <td>0.9409</td>\n",
       "      <td>0.9384</td>\n",
       "      <td>0.9372</td>\n",
       "      <td>0.9569</td>\n",
       "      <td>0.9544</td>\n",
       "    </tr>\n",
       "    <tr>\n",
       "      <th>ROC-AUC</th>\n",
       "      <td>0.9402</td>\n",
       "      <td>0.9341</td>\n",
       "      <td>0.9449</td>\n",
       "      <td>0.9414</td>\n",
       "      <td>0.9506</td>\n",
       "      <td>0.9312</td>\n",
       "      <td>0.9455</td>\n",
       "      <td>0.9613</td>\n",
       "      <td>0.9589</td>\n",
       "    </tr>\n",
       "  </tbody>\n",
       "</table>\n",
       "</div>"
      ],
      "text/plain": [
       "          Fold #1  Fold #2  Fold #3  Fold #4  Fold #5  Fold #6  Fold #7  \\\n",
       "Accuracy   0.9397   0.9299   0.9409   0.9409   0.9409   0.9384   0.9372   \n",
       "ROC-AUC    0.9402   0.9341   0.9449   0.9414   0.9506   0.9312   0.9455   \n",
       "\n",
       "          Fold #8  Fold #9  \n",
       "Accuracy   0.9569   0.9544  \n",
       "ROC-AUC    0.9613   0.9589  "
      ]
     },
     "metadata": {},
     "output_type": "display_data"
    },
    {
     "name": "stdout",
     "output_type": "stream",
     "text": [
      "Refit to full training data and evaluate:\n",
      "\n",
      "|| Accuracy: 0.9483 || ROC-AUC: 0.9464 ||\n",
      "\n"
     ]
    },
    {
     "data": {
      "image/png": "[encoded data removed]",
      "text/plain": [
       "<Figure size 400x300 with 2 Axes>"
      ]
     },
     "metadata": {},
     "output_type": "display_data"
    },
    {
     "name": "stdout",
     "output_type": "stream",
     "text": [
      "\n",
      "(Time taken: 1.08 secs)\n",
      "\n",
      " ------------------------- Minimal -------------------------\n",
      "Cross-validation:\n"
     ]
    },
    {
     "data": {
      "text/html": [
       "<div>\n",
       "<style scoped>\n",
       "    .dataframe tbody tr th:only-of-type {\n",
       "        vertical-align: middle;\n",
       "    }\n",
       "\n",
       "    .dataframe tbody tr th {\n",
       "        vertical-align: top;\n",
       "    }\n",
       "\n",
       "    .dataframe thead th {\n",
       "        text-align: right;\n",
       "    }\n",
       "</style>\n",
       "<table border=\"1\" class=\"dataframe\">\n",
       "  <thead>\n",
       "    <tr style=\"text-align: right;\">\n",
       "      <th></th>\n",
       "      <th>Fold #1</th>\n",
       "      <th>Fold #2</th>\n",
       "      <th>Fold #3</th>\n",
       "      <th>Fold #4</th>\n",
       "      <th>Fold #5</th>\n",
       "      <th>Fold #6</th>\n",
       "      <th>Fold #7</th>\n",
       "      <th>Fold #8</th>\n",
       "      <th>Fold #9</th>\n",
       "    </tr>\n",
       "  </thead>\n",
       "  <tbody>\n",
       "    <tr>\n",
       "      <th>Accuracy</th>\n",
       "      <td>0.9410</td>\n",
       "      <td>0.9299</td>\n",
       "      <td>0.9446</td>\n",
       "      <td>0.9409</td>\n",
       "      <td>0.9433</td>\n",
       "      <td>0.9384</td>\n",
       "      <td>0.9360</td>\n",
       "      <td>0.9569</td>\n",
       "      <td>0.9557</td>\n",
       "    </tr>\n",
       "    <tr>\n",
       "      <th>ROC-AUC</th>\n",
       "      <td>0.9496</td>\n",
       "      <td>0.9269</td>\n",
       "      <td>0.9439</td>\n",
       "      <td>0.9429</td>\n",
       "      <td>0.9462</td>\n",
       "      <td>0.9377</td>\n",
       "      <td>0.9468</td>\n",
       "      <td>0.9533</td>\n",
       "      <td>0.9537</td>\n",
       "    </tr>\n",
       "  </tbody>\n",
       "</table>\n",
       "</div>"
      ],
      "text/plain": [
       "          Fold #1  Fold #2  Fold #3  Fold #4  Fold #5  Fold #6  Fold #7  \\\n",
       "Accuracy   0.9410   0.9299   0.9446   0.9409   0.9433   0.9384   0.9360   \n",
       "ROC-AUC    0.9496   0.9269   0.9439   0.9429   0.9462   0.9377   0.9468   \n",
       "\n",
       "          Fold #8  Fold #9  \n",
       "Accuracy   0.9569   0.9557  \n",
       "ROC-AUC    0.9533   0.9537  "
      ]
     },
     "metadata": {},
     "output_type": "display_data"
    },
    {
     "name": "stdout",
     "output_type": "stream",
     "text": [
      "Refit to full training data and evaluate:\n",
      "\n",
      "|| Accuracy: 0.9483 || ROC-AUC: 0.9522 ||\n",
      "\n"
     ]
    },
    {
     "data": {
      "image/png": "[encoded data removed]",
      "text/plain": [
       "<Figure size 400x300 with 2 Axes>"
      ]
     },
     "metadata": {},
     "output_type": "display_data"
    },
    {
     "name": "stdout",
     "output_type": "stream",
     "text": [
      "\n",
      "(Time taken: 1.03 secs)\n"
     ]
    }
   ],
   "source": [
    "run_experiment(model, 'knn')"
   ]
  },
  {
   "cell_type": "markdown",
   "id": "771ac976",
   "metadata": {
    "papermill": {
     "duration": 0.018166,
     "end_time": "2024-07-15T11:48:53.578031",
     "exception": false,
     "start_time": "2024-07-15T11:48:53.559865",
     "status": "completed"
    },
    "tags": []
   },
   "source": [
    "# Decision Tree"
   ]
  },
  {
   "cell_type": "code",
   "execution_count": 22,
   "id": "0633f88e",
   "metadata": {
    "execution": {
     "iopub.execute_input": "2024-07-15T11:48:53.616995Z",
     "iopub.status.busy": "2024-07-15T11:48:53.616118Z",
     "iopub.status.idle": "2024-07-15T11:48:53.621343Z",
     "shell.execute_reply": "2024-07-15T11:48:53.620378Z"
    },
    "papermill": {
     "duration": 0.026994,
     "end_time": "2024-07-15T11:48:53.623327",
     "exception": false,
     "start_time": "2024-07-15T11:48:53.596333",
     "status": "completed"
    },
    "tags": []
   },
   "outputs": [],
   "source": [
    "model = DecisionTreeClassifier(\n",
    "    max_depth=4, \n",
    "    class_weight='balanced',\n",
    "    random_state=SEED\n",
    ")"
   ]
  },
  {
   "cell_type": "code",
   "execution_count": 23,
   "id": "a95a16b1",
   "metadata": {
    "execution": {
     "iopub.execute_input": "2024-07-15T11:48:53.663188Z",
     "iopub.status.busy": "2024-07-15T11:48:53.662317Z",
     "iopub.status.idle": "2024-07-15T11:48:55.464712Z",
     "shell.execute_reply": "2024-07-15T11:48:55.463531Z"
    },
    "papermill": {
     "duration": 1.825033,
     "end_time": "2024-07-15T11:48:55.467196",
     "exception": false,
     "start_time": "2024-07-15T11:48:53.642163",
     "status": "completed"
    },
    "tags": []
   },
   "outputs": [
    {
     "name": "stdout",
     "output_type": "stream",
     "text": [
      "\n",
      " ------------------------- Original -------------------------\n",
      "Cross-validation:\n"
     ]
    },
    {
     "data": {
      "text/html": [
       "<div>\n",
       "<style scoped>\n",
       "    .dataframe tbody tr th:only-of-type {\n",
       "        vertical-align: middle;\n",
       "    }\n",
       "\n",
       "    .dataframe tbody tr th {\n",
       "        vertical-align: top;\n",
       "    }\n",
       "\n",
       "    .dataframe thead th {\n",
       "        text-align: right;\n",
       "    }\n",
       "</style>\n",
       "<table border=\"1\" class=\"dataframe\">\n",
       "  <thead>\n",
       "    <tr style=\"text-align: right;\">\n",
       "      <th></th>\n",
       "      <th>Fold #1</th>\n",
       "      <th>Fold #2</th>\n",
       "      <th>Fold #3</th>\n",
       "      <th>Fold #4</th>\n",
       "      <th>Fold #5</th>\n",
       "      <th>Fold #6</th>\n",
       "      <th>Fold #7</th>\n",
       "      <th>Fold #8</th>\n",
       "      <th>Fold #9</th>\n",
       "    </tr>\n",
       "  </thead>\n",
       "  <tbody>\n",
       "    <tr>\n",
       "      <th>Accuracy</th>\n",
       "      <td>0.8770</td>\n",
       "      <td>0.8831</td>\n",
       "      <td>0.9002</td>\n",
       "      <td>0.8929</td>\n",
       "      <td>0.8879</td>\n",
       "      <td>0.8892</td>\n",
       "      <td>0.9187</td>\n",
       "      <td>0.9015</td>\n",
       "      <td>0.9039</td>\n",
       "    </tr>\n",
       "    <tr>\n",
       "      <th>ROC-AUC</th>\n",
       "      <td>0.9299</td>\n",
       "      <td>0.9145</td>\n",
       "      <td>0.9270</td>\n",
       "      <td>0.9267</td>\n",
       "      <td>0.9333</td>\n",
       "      <td>0.9218</td>\n",
       "      <td>0.9526</td>\n",
       "      <td>0.9378</td>\n",
       "      <td>0.9424</td>\n",
       "    </tr>\n",
       "  </tbody>\n",
       "</table>\n",
       "</div>"
      ],
      "text/plain": [
       "          Fold #1  Fold #2  Fold #3  Fold #4  Fold #5  Fold #6  Fold #7  \\\n",
       "Accuracy   0.8770   0.8831   0.9002   0.8929   0.8879   0.8892   0.9187   \n",
       "ROC-AUC    0.9299   0.9145   0.9270   0.9267   0.9333   0.9218   0.9526   \n",
       "\n",
       "          Fold #8  Fold #9  \n",
       "Accuracy   0.9015   0.9039  \n",
       "ROC-AUC    0.9378   0.9424  "
      ]
     },
     "metadata": {},
     "output_type": "display_data"
    },
    {
     "name": "stdout",
     "output_type": "stream",
     "text": [
      "Refit to full training data and evaluate:\n",
      "\n",
      "|| Accuracy: 0.8905 || ROC-AUC: 0.9309 ||\n",
      "\n"
     ]
    },
    {
     "data": {
      "image/png": "[encoded data removed]",
      "text/plain": [
       "<Figure size 400x300 with 2 Axes>"
      ]
     },
     "metadata": {},
     "output_type": "display_data"
    },
    {
     "name": "stdout",
     "output_type": "stream",
     "text": [
      "\n",
      "(Time taken: 0.49 secs)\n",
      "\n",
      " ------------------------- Extended -------------------------\n",
      "Cross-validation:\n"
     ]
    },
    {
     "data": {
      "text/html": [
       "<div>\n",
       "<style scoped>\n",
       "    .dataframe tbody tr th:only-of-type {\n",
       "        vertical-align: middle;\n",
       "    }\n",
       "\n",
       "    .dataframe tbody tr th {\n",
       "        vertical-align: top;\n",
       "    }\n",
       "\n",
       "    .dataframe thead th {\n",
       "        text-align: right;\n",
       "    }\n",
       "</style>\n",
       "<table border=\"1\" class=\"dataframe\">\n",
       "  <thead>\n",
       "    <tr style=\"text-align: right;\">\n",
       "      <th></th>\n",
       "      <th>Fold #1</th>\n",
       "      <th>Fold #2</th>\n",
       "      <th>Fold #3</th>\n",
       "      <th>Fold #4</th>\n",
       "      <th>Fold #5</th>\n",
       "      <th>Fold #6</th>\n",
       "      <th>Fold #7</th>\n",
       "      <th>Fold #8</th>\n",
       "      <th>Fold #9</th>\n",
       "    </tr>\n",
       "  </thead>\n",
       "  <tbody>\n",
       "    <tr>\n",
       "      <th>Accuracy</th>\n",
       "      <td>0.8770</td>\n",
       "      <td>0.8831</td>\n",
       "      <td>0.9002</td>\n",
       "      <td>0.8929</td>\n",
       "      <td>0.8879</td>\n",
       "      <td>0.8892</td>\n",
       "      <td>0.9187</td>\n",
       "      <td>0.9015</td>\n",
       "      <td>0.9039</td>\n",
       "    </tr>\n",
       "    <tr>\n",
       "      <th>ROC-AUC</th>\n",
       "      <td>0.9299</td>\n",
       "      <td>0.9145</td>\n",
       "      <td>0.9270</td>\n",
       "      <td>0.9267</td>\n",
       "      <td>0.9333</td>\n",
       "      <td>0.9218</td>\n",
       "      <td>0.9526</td>\n",
       "      <td>0.9378</td>\n",
       "      <td>0.9424</td>\n",
       "    </tr>\n",
       "  </tbody>\n",
       "</table>\n",
       "</div>"
      ],
      "text/plain": [
       "          Fold #1  Fold #2  Fold #3  Fold #4  Fold #5  Fold #6  Fold #7  \\\n",
       "Accuracy   0.8770   0.8831   0.9002   0.8929   0.8879   0.8892   0.9187   \n",
       "ROC-AUC    0.9299   0.9145   0.9270   0.9267   0.9333   0.9218   0.9526   \n",
       "\n",
       "          Fold #8  Fold #9  \n",
       "Accuracy   0.9015   0.9039  \n",
       "ROC-AUC    0.9378   0.9424  "
      ]
     },
     "metadata": {},
     "output_type": "display_data"
    },
    {
     "name": "stdout",
     "output_type": "stream",
     "text": [
      "Refit to full training data and evaluate:\n",
      "\n",
      "|| Accuracy: 0.8905 || ROC-AUC: 0.9309 ||\n",
      "\n"
     ]
    },
    {
     "data": {
      "image/png": "[encoded data removed]",
      "text/plain": [
       "<Figure size 400x300 with 2 Axes>"
      ]
     },
     "metadata": {},
     "output_type": "display_data"
    },
    {
     "name": "stdout",
     "output_type": "stream",
     "text": [
      "\n",
      "(Time taken: 0.53 secs)\n",
      "\n",
      " ------------------------- Binary -------------------------\n",
      "Cross-validation:\n"
     ]
    },
    {
     "data": {
      "text/html": [
       "<div>\n",
       "<style scoped>\n",
       "    .dataframe tbody tr th:only-of-type {\n",
       "        vertical-align: middle;\n",
       "    }\n",
       "\n",
       "    .dataframe tbody tr th {\n",
       "        vertical-align: top;\n",
       "    }\n",
       "\n",
       "    .dataframe thead th {\n",
       "        text-align: right;\n",
       "    }\n",
       "</style>\n",
       "<table border=\"1\" class=\"dataframe\">\n",
       "  <thead>\n",
       "    <tr style=\"text-align: right;\">\n",
       "      <th></th>\n",
       "      <th>Fold #1</th>\n",
       "      <th>Fold #2</th>\n",
       "      <th>Fold #3</th>\n",
       "      <th>Fold #4</th>\n",
       "      <th>Fold #5</th>\n",
       "      <th>Fold #6</th>\n",
       "      <th>Fold #7</th>\n",
       "      <th>Fold #8</th>\n",
       "      <th>Fold #9</th>\n",
       "    </tr>\n",
       "  </thead>\n",
       "  <tbody>\n",
       "    <tr>\n",
       "      <th>Accuracy</th>\n",
       "      <td>0.8610</td>\n",
       "      <td>0.8708</td>\n",
       "      <td>0.8867</td>\n",
       "      <td>0.8768</td>\n",
       "      <td>0.8768</td>\n",
       "      <td>0.8768</td>\n",
       "      <td>0.8978</td>\n",
       "      <td>0.8904</td>\n",
       "      <td>0.8855</td>\n",
       "    </tr>\n",
       "    <tr>\n",
       "      <th>ROC-AUC</th>\n",
       "      <td>0.9162</td>\n",
       "      <td>0.9062</td>\n",
       "      <td>0.9245</td>\n",
       "      <td>0.9152</td>\n",
       "      <td>0.9224</td>\n",
       "      <td>0.9153</td>\n",
       "      <td>0.9364</td>\n",
       "      <td>0.9344</td>\n",
       "      <td>0.9287</td>\n",
       "    </tr>\n",
       "  </tbody>\n",
       "</table>\n",
       "</div>"
      ],
      "text/plain": [
       "          Fold #1  Fold #2  Fold #3  Fold #4  Fold #5  Fold #6  Fold #7  \\\n",
       "Accuracy   0.8610   0.8708   0.8867   0.8768   0.8768   0.8768   0.8978   \n",
       "ROC-AUC    0.9162   0.9062   0.9245   0.9152   0.9224   0.9153   0.9364   \n",
       "\n",
       "          Fold #8  Fold #9  \n",
       "Accuracy   0.8904   0.8855  \n",
       "ROC-AUC    0.9344   0.9287  "
      ]
     },
     "metadata": {},
     "output_type": "display_data"
    },
    {
     "name": "stdout",
     "output_type": "stream",
     "text": [
      "Refit to full training data and evaluate:\n",
      "\n",
      "|| Accuracy: 0.8782 || ROC-AUC: 0.9203 ||\n",
      "\n"
     ]
    },
    {
     "data": {
      "image/png": "[encoded data removed]",
      "text/plain": [
       "<Figure size 400x300 with 2 Axes>"
      ]
     },
     "metadata": {},
     "output_type": "display_data"
    },
    {
     "name": "stdout",
     "output_type": "stream",
     "text": [
      "\n",
      "(Time taken: 0.39 secs)\n",
      "\n",
      " ------------------------- Minimal -------------------------\n",
      "Cross-validation:\n"
     ]
    },
    {
     "data": {
      "text/html": [
       "<div>\n",
       "<style scoped>\n",
       "    .dataframe tbody tr th:only-of-type {\n",
       "        vertical-align: middle;\n",
       "    }\n",
       "\n",
       "    .dataframe tbody tr th {\n",
       "        vertical-align: top;\n",
       "    }\n",
       "\n",
       "    .dataframe thead th {\n",
       "        text-align: right;\n",
       "    }\n",
       "</style>\n",
       "<table border=\"1\" class=\"dataframe\">\n",
       "  <thead>\n",
       "    <tr style=\"text-align: right;\">\n",
       "      <th></th>\n",
       "      <th>Fold #1</th>\n",
       "      <th>Fold #2</th>\n",
       "      <th>Fold #3</th>\n",
       "      <th>Fold #4</th>\n",
       "      <th>Fold #5</th>\n",
       "      <th>Fold #6</th>\n",
       "      <th>Fold #7</th>\n",
       "      <th>Fold #8</th>\n",
       "      <th>Fold #9</th>\n",
       "    </tr>\n",
       "  </thead>\n",
       "  <tbody>\n",
       "    <tr>\n",
       "      <th>Accuracy</th>\n",
       "      <td>0.8610</td>\n",
       "      <td>0.8708</td>\n",
       "      <td>0.8867</td>\n",
       "      <td>0.8768</td>\n",
       "      <td>0.8768</td>\n",
       "      <td>0.8768</td>\n",
       "      <td>0.8978</td>\n",
       "      <td>0.8904</td>\n",
       "      <td>0.8855</td>\n",
       "    </tr>\n",
       "    <tr>\n",
       "      <th>ROC-AUC</th>\n",
       "      <td>0.9168</td>\n",
       "      <td>0.9020</td>\n",
       "      <td>0.9229</td>\n",
       "      <td>0.9097</td>\n",
       "      <td>0.9177</td>\n",
       "      <td>0.9135</td>\n",
       "      <td>0.9364</td>\n",
       "      <td>0.9335</td>\n",
       "      <td>0.9291</td>\n",
       "    </tr>\n",
       "  </tbody>\n",
       "</table>\n",
       "</div>"
      ],
      "text/plain": [
       "          Fold #1  Fold #2  Fold #3  Fold #4  Fold #5  Fold #6  Fold #7  \\\n",
       "Accuracy   0.8610   0.8708   0.8867   0.8768   0.8768   0.8768   0.8978   \n",
       "ROC-AUC    0.9168   0.9020   0.9229   0.9097   0.9177   0.9135   0.9364   \n",
       "\n",
       "          Fold #8  Fold #9  \n",
       "Accuracy   0.8904   0.8855  \n",
       "ROC-AUC    0.9335   0.9291  "
      ]
     },
     "metadata": {},
     "output_type": "display_data"
    },
    {
     "name": "stdout",
     "output_type": "stream",
     "text": [
      "Refit to full training data and evaluate:\n",
      "\n",
      "|| Accuracy: 0.8782 || ROC-AUC: 0.9209 ||\n",
      "\n"
     ]
    },
    {
     "data": {
      "image/png": "[encoded data removed]",
      "text/plain": [
       "<Figure size 400x300 with 2 Axes>"
      ]
     },
     "metadata": {},
     "output_type": "display_data"
    },
    {
     "name": "stdout",
     "output_type": "stream",
     "text": [
      "\n",
      "(Time taken: 0.37 secs)\n"
     ]
    }
   ],
   "source": [
    "run_experiment(model, 'dtree')"
   ]
  },
  {
   "cell_type": "markdown",
   "id": "e954cce8",
   "metadata": {
    "papermill": {
     "duration": 0.021333,
     "end_time": "2024-07-15T11:48:55.510593",
     "exception": false,
     "start_time": "2024-07-15T11:48:55.489260",
     "status": "completed"
    },
    "tags": []
   },
   "source": [
    "# Random Forest"
   ]
  },
  {
   "cell_type": "code",
   "execution_count": 24,
   "id": "c8ddda8d",
   "metadata": {
    "execution": {
     "iopub.execute_input": "2024-07-15T11:48:55.555918Z",
     "iopub.status.busy": "2024-07-15T11:48:55.555270Z",
     "iopub.status.idle": "2024-07-15T11:48:55.560006Z",
     "shell.execute_reply": "2024-07-15T11:48:55.559046Z"
    },
    "papermill": {
     "duration": 0.029352,
     "end_time": "2024-07-15T11:48:55.562064",
     "exception": false,
     "start_time": "2024-07-15T11:48:55.532712",
     "status": "completed"
    },
    "tags": []
   },
   "outputs": [],
   "source": [
    "model = RandomForestClassifier(\n",
    "    n_estimators=100, \n",
    "    max_depth=6, \n",
    "    class_weight='balanced',\n",
    "    random_state=SEED,\n",
    "    n_jobs=1\n",
    ")"
   ]
  },
  {
   "cell_type": "code",
   "execution_count": 25,
   "id": "ef096141",
   "metadata": {
    "execution": {
     "iopub.execute_input": "2024-07-15T11:48:55.606000Z",
     "iopub.status.busy": "2024-07-15T11:48:55.605345Z",
     "iopub.status.idle": "2024-07-15T11:49:17.066806Z",
     "shell.execute_reply": "2024-07-15T11:49:17.065803Z"
    },
    "papermill": {
     "duration": 21.485845,
     "end_time": "2024-07-15T11:49:17.069108",
     "exception": false,
     "start_time": "2024-07-15T11:48:55.583263",
     "status": "completed"
    },
    "tags": []
   },
   "outputs": [
    {
     "name": "stdout",
     "output_type": "stream",
     "text": [
      "\n",
      " ------------------------- Original -------------------------\n",
      "Cross-validation:\n"
     ]
    },
    {
     "data": {
      "text/html": [
       "<div>\n",
       "<style scoped>\n",
       "    .dataframe tbody tr th:only-of-type {\n",
       "        vertical-align: middle;\n",
       "    }\n",
       "\n",
       "    .dataframe tbody tr th {\n",
       "        vertical-align: top;\n",
       "    }\n",
       "\n",
       "    .dataframe thead th {\n",
       "        text-align: right;\n",
       "    }\n",
       "</style>\n",
       "<table border=\"1\" class=\"dataframe\">\n",
       "  <thead>\n",
       "    <tr style=\"text-align: right;\">\n",
       "      <th></th>\n",
       "      <th>Fold #1</th>\n",
       "      <th>Fold #2</th>\n",
       "      <th>Fold #3</th>\n",
       "      <th>Fold #4</th>\n",
       "      <th>Fold #5</th>\n",
       "      <th>Fold #6</th>\n",
       "      <th>Fold #7</th>\n",
       "      <th>Fold #8</th>\n",
       "      <th>Fold #9</th>\n",
       "    </tr>\n",
       "  </thead>\n",
       "  <tbody>\n",
       "    <tr>\n",
       "      <th>Accuracy</th>\n",
       "      <td>0.9582</td>\n",
       "      <td>0.9422</td>\n",
       "      <td>0.9544</td>\n",
       "      <td>0.9569</td>\n",
       "      <td>0.9544</td>\n",
       "      <td>0.9483</td>\n",
       "      <td>0.9594</td>\n",
       "      <td>0.9643</td>\n",
       "      <td>0.9692</td>\n",
       "    </tr>\n",
       "    <tr>\n",
       "      <th>ROC-AUC</th>\n",
       "      <td>0.9582</td>\n",
       "      <td>0.9361</td>\n",
       "      <td>0.9462</td>\n",
       "      <td>0.9447</td>\n",
       "      <td>0.9548</td>\n",
       "      <td>0.9477</td>\n",
       "      <td>0.9575</td>\n",
       "      <td>0.9642</td>\n",
       "      <td>0.9671</td>\n",
       "    </tr>\n",
       "  </tbody>\n",
       "</table>\n",
       "</div>"
      ],
      "text/plain": [
       "          Fold #1  Fold #2  Fold #3  Fold #4  Fold #5  Fold #6  Fold #7  \\\n",
       "Accuracy   0.9582   0.9422   0.9544   0.9569   0.9544   0.9483   0.9594   \n",
       "ROC-AUC    0.9582   0.9361   0.9462   0.9447   0.9548   0.9477   0.9575   \n",
       "\n",
       "          Fold #8  Fold #9  \n",
       "Accuracy   0.9643   0.9692  \n",
       "ROC-AUC    0.9642   0.9671  "
      ]
     },
     "metadata": {},
     "output_type": "display_data"
    },
    {
     "name": "stdout",
     "output_type": "stream",
     "text": [
      "Refit to full training data and evaluate:\n",
      "\n",
      "|| Accuracy: 0.9643 || ROC-AUC: 0.9617 ||\n",
      "\n"
     ]
    },
    {
     "data": {
      "image/png": "[encoded data removed]",
      "text/plain": [
       "<Figure size 400x300 with 2 Axes>"
      ]
     },
     "metadata": {},
     "output_type": "display_data"
    },
    {
     "name": "stdout",
     "output_type": "stream",
     "text": [
      "\n",
      "(Time taken: 6.94 secs)\n",
      "\n",
      " ------------------------- Extended -------------------------\n",
      "Cross-validation:\n"
     ]
    },
    {
     "data": {
      "text/html": [
       "<div>\n",
       "<style scoped>\n",
       "    .dataframe tbody tr th:only-of-type {\n",
       "        vertical-align: middle;\n",
       "    }\n",
       "\n",
       "    .dataframe tbody tr th {\n",
       "        vertical-align: top;\n",
       "    }\n",
       "\n",
       "    .dataframe thead th {\n",
       "        text-align: right;\n",
       "    }\n",
       "</style>\n",
       "<table border=\"1\" class=\"dataframe\">\n",
       "  <thead>\n",
       "    <tr style=\"text-align: right;\">\n",
       "      <th></th>\n",
       "      <th>Fold #1</th>\n",
       "      <th>Fold #2</th>\n",
       "      <th>Fold #3</th>\n",
       "      <th>Fold #4</th>\n",
       "      <th>Fold #5</th>\n",
       "      <th>Fold #6</th>\n",
       "      <th>Fold #7</th>\n",
       "      <th>Fold #8</th>\n",
       "      <th>Fold #9</th>\n",
       "    </tr>\n",
       "  </thead>\n",
       "  <tbody>\n",
       "    <tr>\n",
       "      <th>Accuracy</th>\n",
       "      <td>0.9582</td>\n",
       "      <td>0.9446</td>\n",
       "      <td>0.9581</td>\n",
       "      <td>0.9557</td>\n",
       "      <td>0.9557</td>\n",
       "      <td>0.9495</td>\n",
       "      <td>0.9594</td>\n",
       "      <td>0.9655</td>\n",
       "      <td>0.9717</td>\n",
       "    </tr>\n",
       "    <tr>\n",
       "      <th>ROC-AUC</th>\n",
       "      <td>0.9579</td>\n",
       "      <td>0.9411</td>\n",
       "      <td>0.9438</td>\n",
       "      <td>0.9499</td>\n",
       "      <td>0.9577</td>\n",
       "      <td>0.9475</td>\n",
       "      <td>0.9616</td>\n",
       "      <td>0.9623</td>\n",
       "      <td>0.9678</td>\n",
       "    </tr>\n",
       "  </tbody>\n",
       "</table>\n",
       "</div>"
      ],
      "text/plain": [
       "          Fold #1  Fold #2  Fold #3  Fold #4  Fold #5  Fold #6  Fold #7  \\\n",
       "Accuracy   0.9582   0.9446   0.9581   0.9557   0.9557   0.9495   0.9594   \n",
       "ROC-AUC    0.9579   0.9411   0.9438   0.9499   0.9577   0.9475   0.9616   \n",
       "\n",
       "          Fold #8  Fold #9  \n",
       "Accuracy   0.9655   0.9717  \n",
       "ROC-AUC    0.9623   0.9678  "
      ]
     },
     "metadata": {},
     "output_type": "display_data"
    },
    {
     "name": "stdout",
     "output_type": "stream",
     "text": [
      "Refit to full training data and evaluate:\n",
      "\n",
      "|| Accuracy: 0.9619 || ROC-AUC: 0.9608 ||\n",
      "\n"
     ]
    },
    {
     "data": {
      "image/png": "[encoded data removed]",
      "text/plain": [
       "<Figure size 400x300 with 2 Axes>"
      ]
     },
     "metadata": {},
     "output_type": "display_data"
    },
    {
     "name": "stdout",
     "output_type": "stream",
     "text": [
      "\n",
      "(Time taken: 6.86 secs)\n",
      "\n",
      " ------------------------- Binary -------------------------\n",
      "Cross-validation:\n"
     ]
    },
    {
     "data": {
      "text/html": [
       "<div>\n",
       "<style scoped>\n",
       "    .dataframe tbody tr th:only-of-type {\n",
       "        vertical-align: middle;\n",
       "    }\n",
       "\n",
       "    .dataframe tbody tr th {\n",
       "        vertical-align: top;\n",
       "    }\n",
       "\n",
       "    .dataframe thead th {\n",
       "        text-align: right;\n",
       "    }\n",
       "</style>\n",
       "<table border=\"1\" class=\"dataframe\">\n",
       "  <thead>\n",
       "    <tr style=\"text-align: right;\">\n",
       "      <th></th>\n",
       "      <th>Fold #1</th>\n",
       "      <th>Fold #2</th>\n",
       "      <th>Fold #3</th>\n",
       "      <th>Fold #4</th>\n",
       "      <th>Fold #5</th>\n",
       "      <th>Fold #6</th>\n",
       "      <th>Fold #7</th>\n",
       "      <th>Fold #8</th>\n",
       "      <th>Fold #9</th>\n",
       "    </tr>\n",
       "  </thead>\n",
       "  <tbody>\n",
       "    <tr>\n",
       "      <th>Accuracy</th>\n",
       "      <td>0.941</td>\n",
       "      <td>0.9299</td>\n",
       "      <td>0.9446</td>\n",
       "      <td>0.9409</td>\n",
       "      <td>0.9433</td>\n",
       "      <td>0.9384</td>\n",
       "      <td>0.9372</td>\n",
       "      <td>0.9569</td>\n",
       "      <td>0.9557</td>\n",
       "    </tr>\n",
       "    <tr>\n",
       "      <th>ROC-AUC</th>\n",
       "      <td>0.946</td>\n",
       "      <td>0.9324</td>\n",
       "      <td>0.9386</td>\n",
       "      <td>0.9345</td>\n",
       "      <td>0.9515</td>\n",
       "      <td>0.9421</td>\n",
       "      <td>0.9385</td>\n",
       "      <td>0.9606</td>\n",
       "      <td>0.9614</td>\n",
       "    </tr>\n",
       "  </tbody>\n",
       "</table>\n",
       "</div>"
      ],
      "text/plain": [
       "          Fold #1  Fold #2  Fold #3  Fold #4  Fold #5  Fold #6  Fold #7  \\\n",
       "Accuracy    0.941   0.9299   0.9446   0.9409   0.9433   0.9384   0.9372   \n",
       "ROC-AUC     0.946   0.9324   0.9386   0.9345   0.9515   0.9421   0.9385   \n",
       "\n",
       "          Fold #8  Fold #9  \n",
       "Accuracy   0.9569   0.9557  \n",
       "ROC-AUC    0.9606   0.9614  "
      ]
     },
     "metadata": {},
     "output_type": "display_data"
    },
    {
     "name": "stdout",
     "output_type": "stream",
     "text": [
      "Refit to full training data and evaluate:\n",
      "\n",
      "|| Accuracy: 0.9483 || ROC-AUC: 0.9512 ||\n",
      "\n"
     ]
    },
    {
     "data": {
      "image/png": "[encoded data removed]",
      "text/plain": [
       "<Figure size 400x300 with 2 Axes>"
      ]
     },
     "metadata": {},
     "output_type": "display_data"
    },
    {
     "name": "stdout",
     "output_type": "stream",
     "text": [
      "\n",
      "(Time taken: 3.95 secs)\n",
      "\n",
      " ------------------------- Minimal -------------------------\n",
      "Cross-validation:\n"
     ]
    },
    {
     "data": {
      "text/html": [
       "<div>\n",
       "<style scoped>\n",
       "    .dataframe tbody tr th:only-of-type {\n",
       "        vertical-align: middle;\n",
       "    }\n",
       "\n",
       "    .dataframe tbody tr th {\n",
       "        vertical-align: top;\n",
       "    }\n",
       "\n",
       "    .dataframe thead th {\n",
       "        text-align: right;\n",
       "    }\n",
       "</style>\n",
       "<table border=\"1\" class=\"dataframe\">\n",
       "  <thead>\n",
       "    <tr style=\"text-align: right;\">\n",
       "      <th></th>\n",
       "      <th>Fold #1</th>\n",
       "      <th>Fold #2</th>\n",
       "      <th>Fold #3</th>\n",
       "      <th>Fold #4</th>\n",
       "      <th>Fold #5</th>\n",
       "      <th>Fold #6</th>\n",
       "      <th>Fold #7</th>\n",
       "      <th>Fold #8</th>\n",
       "      <th>Fold #9</th>\n",
       "    </tr>\n",
       "  </thead>\n",
       "  <tbody>\n",
       "    <tr>\n",
       "      <th>Accuracy</th>\n",
       "      <td>0.9410</td>\n",
       "      <td>0.9299</td>\n",
       "      <td>0.9446</td>\n",
       "      <td>0.9409</td>\n",
       "      <td>0.9433</td>\n",
       "      <td>0.9384</td>\n",
       "      <td>0.9372</td>\n",
       "      <td>0.9569</td>\n",
       "      <td>0.9557</td>\n",
       "    </tr>\n",
       "    <tr>\n",
       "      <th>ROC-AUC</th>\n",
       "      <td>0.9514</td>\n",
       "      <td>0.9303</td>\n",
       "      <td>0.9474</td>\n",
       "      <td>0.9467</td>\n",
       "      <td>0.9462</td>\n",
       "      <td>0.9421</td>\n",
       "      <td>0.9542</td>\n",
       "      <td>0.9583</td>\n",
       "      <td>0.9628</td>\n",
       "    </tr>\n",
       "  </tbody>\n",
       "</table>\n",
       "</div>"
      ],
      "text/plain": [
       "          Fold #1  Fold #2  Fold #3  Fold #4  Fold #5  Fold #6  Fold #7  \\\n",
       "Accuracy   0.9410   0.9299   0.9446   0.9409   0.9433   0.9384   0.9372   \n",
       "ROC-AUC    0.9514   0.9303   0.9474   0.9467   0.9462   0.9421   0.9542   \n",
       "\n",
       "          Fold #8  Fold #9  \n",
       "Accuracy   0.9569   0.9557  \n",
       "ROC-AUC    0.9583   0.9628  "
      ]
     },
     "metadata": {},
     "output_type": "display_data"
    },
    {
     "name": "stdout",
     "output_type": "stream",
     "text": [
      "Refit to full training data and evaluate:\n",
      "\n",
      "|| Accuracy: 0.9483 || ROC-AUC: 0.9529 ||\n",
      "\n"
     ]
    },
    {
     "data": {
      "image/png": "[encoded data removed]",
      "text/plain": [
       "<Figure size 400x300 with 2 Axes>"
      ]
     },
     "metadata": {},
     "output_type": "display_data"
    },
    {
     "name": "stdout",
     "output_type": "stream",
     "text": [
      "\n",
      "(Time taken: 3.48 secs)\n"
     ]
    }
   ],
   "source": [
    "run_experiment(model, 'rforest')"
   ]
  },
  {
   "cell_type": "markdown",
   "id": "ca991cb8",
   "metadata": {
    "papermill": {
     "duration": 0.023871,
     "end_time": "2024-07-15T11:49:17.118122",
     "exception": false,
     "start_time": "2024-07-15T11:49:17.094251",
     "status": "completed"
    },
    "tags": []
   },
   "source": [
    "# AdaBoost"
   ]
  },
  {
   "cell_type": "code",
   "execution_count": 26,
   "id": "1c243790",
   "metadata": {
    "execution": {
     "iopub.execute_input": "2024-07-15T11:49:17.167840Z",
     "iopub.status.busy": "2024-07-15T11:49:17.167437Z",
     "iopub.status.idle": "2024-07-15T11:49:17.172774Z",
     "shell.execute_reply": "2024-07-15T11:49:17.171849Z"
    },
    "papermill": {
     "duration": 0.032582,
     "end_time": "2024-07-15T11:49:17.174836",
     "exception": false,
     "start_time": "2024-07-15T11:49:17.142254",
     "status": "completed"
    },
    "tags": []
   },
   "outputs": [],
   "source": [
    "base_estimator = DecisionTreeClassifier(\n",
    "    max_depth=5, \n",
    "    class_weight='balanced',\n",
    "    random_state=SEED\n",
    ")\n",
    "\n",
    "model = AdaBoostClassifier(\n",
    "    estimator=base_estimator, \n",
    "    n_estimators=50, \n",
    "    learning_rate=0.05,\n",
    "    algorithm='SAMME',\n",
    "    random_state=SEED\n",
    ")"
   ]
  },
  {
   "cell_type": "code",
   "execution_count": 27,
   "id": "78d16001",
   "metadata": {
    "execution": {
     "iopub.execute_input": "2024-07-15T11:49:17.225302Z",
     "iopub.status.busy": "2024-07-15T11:49:17.224424Z",
     "iopub.status.idle": "2024-07-15T11:49:49.821644Z",
     "shell.execute_reply": "2024-07-15T11:49:49.820496Z"
    },
    "papermill": {
     "duration": 32.624857,
     "end_time": "2024-07-15T11:49:49.823862",
     "exception": false,
     "start_time": "2024-07-15T11:49:17.199005",
     "status": "completed"
    },
    "tags": []
   },
   "outputs": [
    {
     "name": "stdout",
     "output_type": "stream",
     "text": [
      "\n",
      " ------------------------- Original -------------------------\n",
      "Cross-validation:\n"
     ]
    },
    {
     "data": {
      "text/html": [
       "<div>\n",
       "<style scoped>\n",
       "    .dataframe tbody tr th:only-of-type {\n",
       "        vertical-align: middle;\n",
       "    }\n",
       "\n",
       "    .dataframe tbody tr th {\n",
       "        vertical-align: top;\n",
       "    }\n",
       "\n",
       "    .dataframe thead th {\n",
       "        text-align: right;\n",
       "    }\n",
       "</style>\n",
       "<table border=\"1\" class=\"dataframe\">\n",
       "  <thead>\n",
       "    <tr style=\"text-align: right;\">\n",
       "      <th></th>\n",
       "      <th>Fold #1</th>\n",
       "      <th>Fold #2</th>\n",
       "      <th>Fold #3</th>\n",
       "      <th>Fold #4</th>\n",
       "      <th>Fold #5</th>\n",
       "      <th>Fold #6</th>\n",
       "      <th>Fold #7</th>\n",
       "      <th>Fold #8</th>\n",
       "      <th>Fold #9</th>\n",
       "    </tr>\n",
       "  </thead>\n",
       "  <tbody>\n",
       "    <tr>\n",
       "      <th>Accuracy</th>\n",
       "      <td>0.9594</td>\n",
       "      <td>0.9446</td>\n",
       "      <td>0.9569</td>\n",
       "      <td>0.9569</td>\n",
       "      <td>0.9557</td>\n",
       "      <td>0.9483</td>\n",
       "      <td>0.9581</td>\n",
       "      <td>0.9655</td>\n",
       "      <td>0.9717</td>\n",
       "    </tr>\n",
       "    <tr>\n",
       "      <th>ROC-AUC</th>\n",
       "      <td>0.9550</td>\n",
       "      <td>0.9410</td>\n",
       "      <td>0.9561</td>\n",
       "      <td>0.9523</td>\n",
       "      <td>0.9562</td>\n",
       "      <td>0.9439</td>\n",
       "      <td>0.9616</td>\n",
       "      <td>0.9626</td>\n",
       "      <td>0.9681</td>\n",
       "    </tr>\n",
       "  </tbody>\n",
       "</table>\n",
       "</div>"
      ],
      "text/plain": [
       "          Fold #1  Fold #2  Fold #3  Fold #4  Fold #5  Fold #6  Fold #7  \\\n",
       "Accuracy   0.9594   0.9446   0.9569   0.9569   0.9557   0.9483   0.9581   \n",
       "ROC-AUC    0.9550   0.9410   0.9561   0.9523   0.9562   0.9439   0.9616   \n",
       "\n",
       "          Fold #8  Fold #9  \n",
       "Accuracy   0.9655   0.9717  \n",
       "ROC-AUC    0.9626   0.9681  "
      ]
     },
     "metadata": {},
     "output_type": "display_data"
    },
    {
     "name": "stdout",
     "output_type": "stream",
     "text": [
      "Refit to full training data and evaluate:\n",
      "\n",
      "|| Accuracy: 0.9631 || ROC-AUC: 0.9644 ||\n",
      "\n"
     ]
    },
    {
     "data": {
      "image/png": "[encoded data removed]",
      "text/plain": [
       "<Figure size 400x300 with 2 Axes>"
      ]
     },
     "metadata": {},
     "output_type": "display_data"
    },
    {
     "name": "stdout",
     "output_type": "stream",
     "text": [
      "\n",
      "(Time taken: 11.96 secs)\n",
      "\n",
      " ------------------------- Extended -------------------------\n",
      "Cross-validation:\n"
     ]
    },
    {
     "data": {
      "text/html": [
       "<div>\n",
       "<style scoped>\n",
       "    .dataframe tbody tr th:only-of-type {\n",
       "        vertical-align: middle;\n",
       "    }\n",
       "\n",
       "    .dataframe tbody tr th {\n",
       "        vertical-align: top;\n",
       "    }\n",
       "\n",
       "    .dataframe thead th {\n",
       "        text-align: right;\n",
       "    }\n",
       "</style>\n",
       "<table border=\"1\" class=\"dataframe\">\n",
       "  <thead>\n",
       "    <tr style=\"text-align: right;\">\n",
       "      <th></th>\n",
       "      <th>Fold #1</th>\n",
       "      <th>Fold #2</th>\n",
       "      <th>Fold #3</th>\n",
       "      <th>Fold #4</th>\n",
       "      <th>Fold #5</th>\n",
       "      <th>Fold #6</th>\n",
       "      <th>Fold #7</th>\n",
       "      <th>Fold #8</th>\n",
       "      <th>Fold #9</th>\n",
       "    </tr>\n",
       "  </thead>\n",
       "  <tbody>\n",
       "    <tr>\n",
       "      <th>Accuracy</th>\n",
       "      <td>0.9594</td>\n",
       "      <td>0.9446</td>\n",
       "      <td>0.9569</td>\n",
       "      <td>0.9569</td>\n",
       "      <td>0.9557</td>\n",
       "      <td>0.9483</td>\n",
       "      <td>0.9581</td>\n",
       "      <td>0.9655</td>\n",
       "      <td>0.9717</td>\n",
       "    </tr>\n",
       "    <tr>\n",
       "      <th>ROC-AUC</th>\n",
       "      <td>0.9550</td>\n",
       "      <td>0.9410</td>\n",
       "      <td>0.9561</td>\n",
       "      <td>0.9523</td>\n",
       "      <td>0.9562</td>\n",
       "      <td>0.9447</td>\n",
       "      <td>0.9616</td>\n",
       "      <td>0.9626</td>\n",
       "      <td>0.9681</td>\n",
       "    </tr>\n",
       "  </tbody>\n",
       "</table>\n",
       "</div>"
      ],
      "text/plain": [
       "          Fold #1  Fold #2  Fold #3  Fold #4  Fold #5  Fold #6  Fold #7  \\\n",
       "Accuracy   0.9594   0.9446   0.9569   0.9569   0.9557   0.9483   0.9581   \n",
       "ROC-AUC    0.9550   0.9410   0.9561   0.9523   0.9562   0.9447   0.9616   \n",
       "\n",
       "          Fold #8  Fold #9  \n",
       "Accuracy   0.9655   0.9717  \n",
       "ROC-AUC    0.9626   0.9681  "
      ]
     },
     "metadata": {},
     "output_type": "display_data"
    },
    {
     "name": "stdout",
     "output_type": "stream",
     "text": [
      "Refit to full training data and evaluate:\n",
      "\n",
      "|| Accuracy: 0.9643 || ROC-AUC: 0.9645 ||\n",
      "\n"
     ]
    },
    {
     "data": {
      "image/png": "[encoded data removed]",
      "text/plain": [
       "<Figure size 400x300 with 2 Axes>"
      ]
     },
     "metadata": {},
     "output_type": "display_data"
    },
    {
     "name": "stdout",
     "output_type": "stream",
     "text": [
      "\n",
      "(Time taken: 12.67 secs)\n",
      "\n",
      " ------------------------- Binary -------------------------\n",
      "Cross-validation:\n"
     ]
    },
    {
     "data": {
      "text/html": [
       "<div>\n",
       "<style scoped>\n",
       "    .dataframe tbody tr th:only-of-type {\n",
       "        vertical-align: middle;\n",
       "    }\n",
       "\n",
       "    .dataframe tbody tr th {\n",
       "        vertical-align: top;\n",
       "    }\n",
       "\n",
       "    .dataframe thead th {\n",
       "        text-align: right;\n",
       "    }\n",
       "</style>\n",
       "<table border=\"1\" class=\"dataframe\">\n",
       "  <thead>\n",
       "    <tr style=\"text-align: right;\">\n",
       "      <th></th>\n",
       "      <th>Fold #1</th>\n",
       "      <th>Fold #2</th>\n",
       "      <th>Fold #3</th>\n",
       "      <th>Fold #4</th>\n",
       "      <th>Fold #5</th>\n",
       "      <th>Fold #6</th>\n",
       "      <th>Fold #7</th>\n",
       "      <th>Fold #8</th>\n",
       "      <th>Fold #9</th>\n",
       "    </tr>\n",
       "  </thead>\n",
       "  <tbody>\n",
       "    <tr>\n",
       "      <th>Accuracy</th>\n",
       "      <td>0.9410</td>\n",
       "      <td>0.9299</td>\n",
       "      <td>0.9446</td>\n",
       "      <td>0.9409</td>\n",
       "      <td>0.9433</td>\n",
       "      <td>0.9384</td>\n",
       "      <td>0.9372</td>\n",
       "      <td>0.9569</td>\n",
       "      <td>0.9557</td>\n",
       "    </tr>\n",
       "    <tr>\n",
       "      <th>ROC-AUC</th>\n",
       "      <td>0.9464</td>\n",
       "      <td>0.9300</td>\n",
       "      <td>0.9443</td>\n",
       "      <td>0.9400</td>\n",
       "      <td>0.9433</td>\n",
       "      <td>0.9347</td>\n",
       "      <td>0.9467</td>\n",
       "      <td>0.9597</td>\n",
       "      <td>0.9614</td>\n",
       "    </tr>\n",
       "  </tbody>\n",
       "</table>\n",
       "</div>"
      ],
      "text/plain": [
       "          Fold #1  Fold #2  Fold #3  Fold #4  Fold #5  Fold #6  Fold #7  \\\n",
       "Accuracy   0.9410   0.9299   0.9446   0.9409   0.9433   0.9384   0.9372   \n",
       "ROC-AUC    0.9464   0.9300   0.9443   0.9400   0.9433   0.9347   0.9467   \n",
       "\n",
       "          Fold #8  Fold #9  \n",
       "Accuracy   0.9569   0.9557  \n",
       "ROC-AUC    0.9597   0.9614  "
      ]
     },
     "metadata": {},
     "output_type": "display_data"
    },
    {
     "name": "stdout",
     "output_type": "stream",
     "text": [
      "Refit to full training data and evaluate:\n",
      "\n",
      "|| Accuracy: 0.9483 || ROC-AUC: 0.9500 ||\n",
      "\n"
     ]
    },
    {
     "data": {
      "image/png": "[encoded data removed]",
      "text/plain": [
       "<Figure size 400x300 with 2 Axes>"
      ]
     },
     "metadata": {},
     "output_type": "display_data"
    },
    {
     "name": "stdout",
     "output_type": "stream",
     "text": [
      "\n",
      "(Time taken: 4.43 secs)\n",
      "\n",
      " ------------------------- Minimal -------------------------\n",
      "Cross-validation:\n"
     ]
    },
    {
     "data": {
      "text/html": [
       "<div>\n",
       "<style scoped>\n",
       "    .dataframe tbody tr th:only-of-type {\n",
       "        vertical-align: middle;\n",
       "    }\n",
       "\n",
       "    .dataframe tbody tr th {\n",
       "        vertical-align: top;\n",
       "    }\n",
       "\n",
       "    .dataframe thead th {\n",
       "        text-align: right;\n",
       "    }\n",
       "</style>\n",
       "<table border=\"1\" class=\"dataframe\">\n",
       "  <thead>\n",
       "    <tr style=\"text-align: right;\">\n",
       "      <th></th>\n",
       "      <th>Fold #1</th>\n",
       "      <th>Fold #2</th>\n",
       "      <th>Fold #3</th>\n",
       "      <th>Fold #4</th>\n",
       "      <th>Fold #5</th>\n",
       "      <th>Fold #6</th>\n",
       "      <th>Fold #7</th>\n",
       "      <th>Fold #8</th>\n",
       "      <th>Fold #9</th>\n",
       "    </tr>\n",
       "  </thead>\n",
       "  <tbody>\n",
       "    <tr>\n",
       "      <th>Accuracy</th>\n",
       "      <td>0.9410</td>\n",
       "      <td>0.9299</td>\n",
       "      <td>0.9446</td>\n",
       "      <td>0.9409</td>\n",
       "      <td>0.9433</td>\n",
       "      <td>0.9384</td>\n",
       "      <td>0.9372</td>\n",
       "      <td>0.9569</td>\n",
       "      <td>0.9557</td>\n",
       "    </tr>\n",
       "    <tr>\n",
       "      <th>ROC-AUC</th>\n",
       "      <td>0.9425</td>\n",
       "      <td>0.9255</td>\n",
       "      <td>0.9438</td>\n",
       "      <td>0.9406</td>\n",
       "      <td>0.9401</td>\n",
       "      <td>0.9373</td>\n",
       "      <td>0.9433</td>\n",
       "      <td>0.9599</td>\n",
       "      <td>0.9592</td>\n",
       "    </tr>\n",
       "  </tbody>\n",
       "</table>\n",
       "</div>"
      ],
      "text/plain": [
       "          Fold #1  Fold #2  Fold #3  Fold #4  Fold #5  Fold #6  Fold #7  \\\n",
       "Accuracy   0.9410   0.9299   0.9446   0.9409   0.9433   0.9384   0.9372   \n",
       "ROC-AUC    0.9425   0.9255   0.9438   0.9406   0.9401   0.9373   0.9433   \n",
       "\n",
       "          Fold #8  Fold #9  \n",
       "Accuracy   0.9569   0.9557  \n",
       "ROC-AUC    0.9599   0.9592  "
      ]
     },
     "metadata": {},
     "output_type": "display_data"
    },
    {
     "name": "stdout",
     "output_type": "stream",
     "text": [
      "Refit to full training data and evaluate:\n",
      "\n",
      "|| Accuracy: 0.9483 || ROC-AUC: 0.9456 ||\n",
      "\n"
     ]
    },
    {
     "data": {
      "image/png": "[encoded data removed]",
      "text/plain": [
       "<Figure size 400x300 with 2 Axes>"
      ]
     },
     "metadata": {},
     "output_type": "display_data"
    },
    {
     "name": "stdout",
     "output_type": "stream",
     "text": [
      "\n",
      "(Time taken: 3.41 secs)\n"
     ]
    }
   ],
   "source": [
    "run_experiment(model, 'adaboost')"
   ]
  },
  {
   "cell_type": "markdown",
   "id": "d7bf55b2",
   "metadata": {
    "papermill": {
     "duration": 0.026819,
     "end_time": "2024-07-15T11:49:49.878343",
     "exception": false,
     "start_time": "2024-07-15T11:49:49.851524",
     "status": "completed"
    },
    "tags": []
   },
   "source": [
    "# Hist-Gradient Boosting"
   ]
  },
  {
   "cell_type": "code",
   "execution_count": 28,
   "id": "702b9584",
   "metadata": {
    "execution": {
     "iopub.execute_input": "2024-07-15T11:49:49.934205Z",
     "iopub.status.busy": "2024-07-15T11:49:49.933839Z",
     "iopub.status.idle": "2024-07-15T11:49:49.952745Z",
     "shell.execute_reply": "2024-07-15T11:49:49.951744Z"
    },
    "papermill": {
     "duration": 0.049306,
     "end_time": "2024-07-15T11:49:49.955004",
     "exception": false,
     "start_time": "2024-07-15T11:49:49.905698",
     "status": "completed"
    },
    "tags": []
   },
   "outputs": [],
   "source": [
    "categorical_features = [f for f in extended_features if f not in num_features]\n",
    "train[categorical_features] = train[categorical_features].astype('category')\n",
    "test[categorical_features] = test[categorical_features].astype('category')"
   ]
  },
  {
   "cell_type": "code",
   "execution_count": 29,
   "id": "0c9c83a7",
   "metadata": {
    "execution": {
     "iopub.execute_input": "2024-07-15T11:49:50.011213Z",
     "iopub.status.busy": "2024-07-15T11:49:50.010847Z",
     "iopub.status.idle": "2024-07-15T11:49:50.022132Z",
     "shell.execute_reply": "2024-07-15T11:49:50.021181Z"
    },
    "papermill": {
     "duration": 0.041223,
     "end_time": "2024-07-15T11:49:50.024076",
     "exception": false,
     "start_time": "2024-07-15T11:49:49.982853",
     "status": "completed"
    },
    "tags": []
   },
   "outputs": [
    {
     "data": {
      "text/html": [
       "<style>#sk-container-id-1 {color: black;background-color: white;}#sk-container-id-1 pre{padding: 0;}#sk-container-id-1 div.sk-toggleable {background-color: white;}#sk-container-id-1 label.sk-toggleable__label {cursor: pointer;display: block;width: 100%;margin-bottom: 0;padding: 0.3em;box-sizing: border-box;text-align: center;}#sk-container-id-1 label.sk-toggleable__label-arrow:before {content: \"▸\";float: left;margin-right: 0.25em;color: #696969;}#sk-container-id-1 label.sk-toggleable__label-arrow:hover:before {color: black;}#sk-container-id-1 div.sk-estimator:hover label.sk-toggleable__label-arrow:before {color: black;}#sk-container-id-1 div.sk-toggleable__content {max-height: 0;max-width: 0;overflow: hidden;text-align: left;background-color: #f0f8ff;}#sk-container-id-1 div.sk-toggleable__content pre {margin: 0.2em;color: black;border-radius: 0.25em;background-color: #f0f8ff;}#sk-container-id-1 input.sk-toggleable__control:checked~div.sk-toggleable__content {max-height: 200px;max-width: 100%;overflow: auto;}#sk-container-id-1 input.sk-toggleable__control:checked~label.sk-toggleable__label-arrow:before {content: \"▾\";}#sk-container-id-1 div.sk-estimator input.sk-toggleable__control:checked~label.sk-toggleable__label {background-color: #d4ebff;}#sk-container-id-1 div.sk-label input.sk-toggleable__control:checked~label.sk-toggleable__label {background-color: #d4ebff;}#sk-container-id-1 input.sk-hidden--visually {border: 0;clip: rect(1px 1px 1px 1px);clip: rect(1px, 1px, 1px, 1px);height: 1px;margin: -1px;overflow: hidden;padding: 0;position: absolute;width: 1px;}#sk-container-id-1 div.sk-estimator {font-family: monospace;background-color: #f0f8ff;border: 1px dotted black;border-radius: 0.25em;box-sizing: border-box;margin-bottom: 0.5em;}#sk-container-id-1 div.sk-estimator:hover {background-color: #d4ebff;}#sk-container-id-1 div.sk-parallel-item::after {content: \"\";width: 100%;border-bottom: 1px solid gray;flex-grow: 1;}#sk-container-id-1 div.sk-label:hover label.sk-toggleable__label {background-color: #d4ebff;}#sk-container-id-1 div.sk-serial::before {content: \"\";position: absolute;border-left: 1px solid gray;box-sizing: border-box;top: 0;bottom: 0;left: 50%;z-index: 0;}#sk-container-id-1 div.sk-serial {display: flex;flex-direction: column;align-items: center;background-color: white;padding-right: 0.2em;padding-left: 0.2em;position: relative;}#sk-container-id-1 div.sk-item {position: relative;z-index: 1;}#sk-container-id-1 div.sk-parallel {display: flex;align-items: stretch;justify-content: center;background-color: white;position: relative;}#sk-container-id-1 div.sk-item::before, #sk-container-id-1 div.sk-parallel-item::before {content: \"\";position: absolute;border-left: 1px solid gray;box-sizing: border-box;top: 0;bottom: 0;left: 50%;z-index: -1;}#sk-container-id-1 div.sk-parallel-item {display: flex;flex-direction: column;z-index: 1;position: relative;background-color: white;}#sk-container-id-1 div.sk-parallel-item:first-child::after {align-self: flex-end;width: 50%;}#sk-container-id-1 div.sk-parallel-item:last-child::after {align-self: flex-start;width: 50%;}#sk-container-id-1 div.sk-parallel-item:only-child::after {width: 0;}#sk-container-id-1 div.sk-dashed-wrapped {border: 1px dashed gray;margin: 0 0.4em 0.5em 0.4em;box-sizing: border-box;padding-bottom: 0.4em;background-color: white;}#sk-container-id-1 div.sk-label label {font-family: monospace;font-weight: bold;display: inline-block;line-height: 1.2em;}#sk-container-id-1 div.sk-label-container {text-align: center;}#sk-container-id-1 div.sk-container {/* jupyter's `normalize.less` sets `[hidden] { display: none; }` but bootstrap.min.css set `[hidden] { display: none !important; }` so we also need the `!important` here to be able to override the default hidden behavior on the sphinx rendered scikit-learn.org. See: https://github.com/scikit-learn/scikit-learn/issues/21755 */display: inline-block !important;position: relative;}#sk-container-id-1 div.sk-text-repr-fallback {display: none;}</style><div id=\"sk-container-id-1\" class=\"sk-top-container\"><div class=\"sk-text-repr-fallback\"><pre>HistGradientBoostingClassifier(categorical_features=&#x27;from_dtype&#x27;,\n",
       "                               class_weight=&#x27;balanced&#x27;, early_stopping=True,\n",
       "                               max_depth=5, max_iter=1000, n_iter_no_change=20,\n",
       "                               random_state=2024,\n",
       "                               scoring=make_scorer(roc_auc_score), tol=0.0001)</pre><b>In a Jupyter environment, please rerun this cell to show the HTML representation or trust the notebook. <br />On GitHub, the HTML representation is unable to render, please try loading this page with nbviewer.org.</b></div><div class=\"sk-container\" hidden><div class=\"sk-item\"><div class=\"sk-estimator sk-toggleable\"><input class=\"sk-toggleable__control sk-hidden--visually\" id=\"sk-estimator-id-1\" type=\"checkbox\" checked><label for=\"sk-estimator-id-1\" class=\"sk-toggleable__label sk-toggleable__label-arrow\">HistGradientBoostingClassifier</label><div class=\"sk-toggleable__content\"><pre>HistGradientBoostingClassifier(categorical_features=&#x27;from_dtype&#x27;,\n",
       "                               class_weight=&#x27;balanced&#x27;, early_stopping=True,\n",
       "                               max_depth=5, max_iter=1000, n_iter_no_change=20,\n",
       "                               random_state=2024,\n",
       "                               scoring=make_scorer(roc_auc_score), tol=0.0001)</pre></div></div></div></div></div>"
      ],
      "text/plain": [
       "HistGradientBoostingClassifier(categorical_features='from_dtype',\n",
       "                               class_weight='balanced', early_stopping=True,\n",
       "                               max_depth=5, max_iter=1000, n_iter_no_change=20,\n",
       "                               random_state=2024,\n",
       "                               scoring=make_scorer(roc_auc_score), tol=0.0001)"
      ]
     },
     "execution_count": 29,
     "metadata": {},
     "output_type": "execute_result"
    }
   ],
   "source": [
    "HistGradientBoostingClassifier(\n",
    "    learning_rate=0.1,\n",
    "    max_iter=1000,\n",
    "    max_depth=5,\n",
    "    tol=1e-4,\n",
    "    early_stopping=True,\n",
    "    n_iter_no_change=20,\n",
    "    validation_fraction=0.1,\n",
    "    categorical_features=\"from_dtype\",\n",
    "    scoring=make_scorer(roc_auc_score),\n",
    "    class_weight='balanced',\n",
    "    random_state=SEED\n",
    ")"
   ]
  },
  {
   "cell_type": "code",
   "execution_count": 30,
   "id": "2de70377",
   "metadata": {
    "execution": {
     "iopub.execute_input": "2024-07-15T11:49:50.081962Z",
     "iopub.status.busy": "2024-07-15T11:49:50.081595Z",
     "iopub.status.idle": "2024-07-15T11:50:27.946108Z",
     "shell.execute_reply": "2024-07-15T11:50:27.945312Z"
    },
    "papermill": {
     "duration": 37.89584,
     "end_time": "2024-07-15T11:50:27.948198",
     "exception": false,
     "start_time": "2024-07-15T11:49:50.052358",
     "status": "completed"
    },
    "tags": []
   },
   "outputs": [
    {
     "name": "stdout",
     "output_type": "stream",
     "text": [
      "\n",
      " ------------------------- Original -------------------------\n",
      "Cross-validation:\n"
     ]
    },
    {
     "data": {
      "text/html": [
       "<div>\n",
       "<style scoped>\n",
       "    .dataframe tbody tr th:only-of-type {\n",
       "        vertical-align: middle;\n",
       "    }\n",
       "\n",
       "    .dataframe tbody tr th {\n",
       "        vertical-align: top;\n",
       "    }\n",
       "\n",
       "    .dataframe thead th {\n",
       "        text-align: right;\n",
       "    }\n",
       "</style>\n",
       "<table border=\"1\" class=\"dataframe\">\n",
       "  <thead>\n",
       "    <tr style=\"text-align: right;\">\n",
       "      <th></th>\n",
       "      <th>Fold #1</th>\n",
       "      <th>Fold #2</th>\n",
       "      <th>Fold #3</th>\n",
       "      <th>Fold #4</th>\n",
       "      <th>Fold #5</th>\n",
       "      <th>Fold #6</th>\n",
       "      <th>Fold #7</th>\n",
       "      <th>Fold #8</th>\n",
       "      <th>Fold #9</th>\n",
       "    </tr>\n",
       "  </thead>\n",
       "  <tbody>\n",
       "    <tr>\n",
       "      <th>Accuracy</th>\n",
       "      <td>0.9594</td>\n",
       "      <td>0.9446</td>\n",
       "      <td>0.9569</td>\n",
       "      <td>0.9569</td>\n",
       "      <td>0.9557</td>\n",
       "      <td>0.9483</td>\n",
       "      <td>0.9581</td>\n",
       "      <td>0.9655</td>\n",
       "      <td>0.9717</td>\n",
       "    </tr>\n",
       "    <tr>\n",
       "      <th>ROC-AUC</th>\n",
       "      <td>0.9550</td>\n",
       "      <td>0.9410</td>\n",
       "      <td>0.9561</td>\n",
       "      <td>0.9523</td>\n",
       "      <td>0.9562</td>\n",
       "      <td>0.9439</td>\n",
       "      <td>0.9616</td>\n",
       "      <td>0.9626</td>\n",
       "      <td>0.9681</td>\n",
       "    </tr>\n",
       "  </tbody>\n",
       "</table>\n",
       "</div>"
      ],
      "text/plain": [
       "          Fold #1  Fold #2  Fold #3  Fold #4  Fold #5  Fold #6  Fold #7  \\\n",
       "Accuracy   0.9594   0.9446   0.9569   0.9569   0.9557   0.9483   0.9581   \n",
       "ROC-AUC    0.9550   0.9410   0.9561   0.9523   0.9562   0.9439   0.9616   \n",
       "\n",
       "          Fold #8  Fold #9  \n",
       "Accuracy   0.9655   0.9717  \n",
       "ROC-AUC    0.9626   0.9681  "
      ]
     },
     "metadata": {},
     "output_type": "display_data"
    },
    {
     "name": "stdout",
     "output_type": "stream",
     "text": [
      "Refit to full training data and evaluate:\n",
      "\n",
      "|| Accuracy: 0.9631 || ROC-AUC: 0.9644 ||\n",
      "\n"
     ]
    },
    {
     "data": {
      "image/png": "[encoded data removed]",
      "text/plain": [
       "<Figure size 400x300 with 2 Axes>"
      ]
     },
     "metadata": {},
     "output_type": "display_data"
    },
    {
     "name": "stdout",
     "output_type": "stream",
     "text": [
      "\n",
      "(Time taken: 11.98 secs)\n",
      "\n",
      " ------------------------- Extended -------------------------\n",
      "Cross-validation:\n"
     ]
    },
    {
     "data": {
      "text/html": [
       "<div>\n",
       "<style scoped>\n",
       "    .dataframe tbody tr th:only-of-type {\n",
       "        vertical-align: middle;\n",
       "    }\n",
       "\n",
       "    .dataframe tbody tr th {\n",
       "        vertical-align: top;\n",
       "    }\n",
       "\n",
       "    .dataframe thead th {\n",
       "        text-align: right;\n",
       "    }\n",
       "</style>\n",
       "<table border=\"1\" class=\"dataframe\">\n",
       "  <thead>\n",
       "    <tr style=\"text-align: right;\">\n",
       "      <th></th>\n",
       "      <th>Fold #1</th>\n",
       "      <th>Fold #2</th>\n",
       "      <th>Fold #3</th>\n",
       "      <th>Fold #4</th>\n",
       "      <th>Fold #5</th>\n",
       "      <th>Fold #6</th>\n",
       "      <th>Fold #7</th>\n",
       "      <th>Fold #8</th>\n",
       "      <th>Fold #9</th>\n",
       "    </tr>\n",
       "  </thead>\n",
       "  <tbody>\n",
       "    <tr>\n",
       "      <th>Accuracy</th>\n",
       "      <td>0.9594</td>\n",
       "      <td>0.9446</td>\n",
       "      <td>0.9569</td>\n",
       "      <td>0.9569</td>\n",
       "      <td>0.9557</td>\n",
       "      <td>0.9483</td>\n",
       "      <td>0.9581</td>\n",
       "      <td>0.9655</td>\n",
       "      <td>0.9717</td>\n",
       "    </tr>\n",
       "    <tr>\n",
       "      <th>ROC-AUC</th>\n",
       "      <td>0.9550</td>\n",
       "      <td>0.9410</td>\n",
       "      <td>0.9561</td>\n",
       "      <td>0.9523</td>\n",
       "      <td>0.9562</td>\n",
       "      <td>0.9447</td>\n",
       "      <td>0.9616</td>\n",
       "      <td>0.9626</td>\n",
       "      <td>0.9681</td>\n",
       "    </tr>\n",
       "  </tbody>\n",
       "</table>\n",
       "</div>"
      ],
      "text/plain": [
       "          Fold #1  Fold #2  Fold #3  Fold #4  Fold #5  Fold #6  Fold #7  \\\n",
       "Accuracy   0.9594   0.9446   0.9569   0.9569   0.9557   0.9483   0.9581   \n",
       "ROC-AUC    0.9550   0.9410   0.9561   0.9523   0.9562   0.9447   0.9616   \n",
       "\n",
       "          Fold #8  Fold #9  \n",
       "Accuracy   0.9655   0.9717  \n",
       "ROC-AUC    0.9626   0.9681  "
      ]
     },
     "metadata": {},
     "output_type": "display_data"
    },
    {
     "name": "stdout",
     "output_type": "stream",
     "text": [
      "Refit to full training data and evaluate:\n",
      "\n",
      "|| Accuracy: 0.9643 || ROC-AUC: 0.9645 ||\n",
      "\n"
     ]
    },
    {
     "data": {
      "image/png": "[encoded data removed]",
      "text/plain": [
       "<Figure size 400x300 with 2 Axes>"
      ]
     },
     "metadata": {},
     "output_type": "display_data"
    },
    {
     "name": "stdout",
     "output_type": "stream",
     "text": [
      "\n",
      "(Time taken: 12.65 secs)\n",
      "\n",
      " ------------------------- Binary -------------------------\n",
      "Cross-validation:\n"
     ]
    },
    {
     "data": {
      "text/html": [
       "<div>\n",
       "<style scoped>\n",
       "    .dataframe tbody tr th:only-of-type {\n",
       "        vertical-align: middle;\n",
       "    }\n",
       "\n",
       "    .dataframe tbody tr th {\n",
       "        vertical-align: top;\n",
       "    }\n",
       "\n",
       "    .dataframe thead th {\n",
       "        text-align: right;\n",
       "    }\n",
       "</style>\n",
       "<table border=\"1\" class=\"dataframe\">\n",
       "  <thead>\n",
       "    <tr style=\"text-align: right;\">\n",
       "      <th></th>\n",
       "      <th>Fold #1</th>\n",
       "      <th>Fold #2</th>\n",
       "      <th>Fold #3</th>\n",
       "      <th>Fold #4</th>\n",
       "      <th>Fold #5</th>\n",
       "      <th>Fold #6</th>\n",
       "      <th>Fold #7</th>\n",
       "      <th>Fold #8</th>\n",
       "      <th>Fold #9</th>\n",
       "    </tr>\n",
       "  </thead>\n",
       "  <tbody>\n",
       "    <tr>\n",
       "      <th>Accuracy</th>\n",
       "      <td>0.9410</td>\n",
       "      <td>0.9299</td>\n",
       "      <td>0.9446</td>\n",
       "      <td>0.9409</td>\n",
       "      <td>0.9433</td>\n",
       "      <td>0.9384</td>\n",
       "      <td>0.9372</td>\n",
       "      <td>0.9569</td>\n",
       "      <td>0.9557</td>\n",
       "    </tr>\n",
       "    <tr>\n",
       "      <th>ROC-AUC</th>\n",
       "      <td>0.9464</td>\n",
       "      <td>0.9300</td>\n",
       "      <td>0.9443</td>\n",
       "      <td>0.9400</td>\n",
       "      <td>0.9433</td>\n",
       "      <td>0.9347</td>\n",
       "      <td>0.9467</td>\n",
       "      <td>0.9597</td>\n",
       "      <td>0.9614</td>\n",
       "    </tr>\n",
       "  </tbody>\n",
       "</table>\n",
       "</div>"
      ],
      "text/plain": [
       "          Fold #1  Fold #2  Fold #3  Fold #4  Fold #5  Fold #6  Fold #7  \\\n",
       "Accuracy   0.9410   0.9299   0.9446   0.9409   0.9433   0.9384   0.9372   \n",
       "ROC-AUC    0.9464   0.9300   0.9443   0.9400   0.9433   0.9347   0.9467   \n",
       "\n",
       "          Fold #8  Fold #9  \n",
       "Accuracy   0.9569   0.9557  \n",
       "ROC-AUC    0.9597   0.9614  "
      ]
     },
     "metadata": {},
     "output_type": "display_data"
    },
    {
     "name": "stdout",
     "output_type": "stream",
     "text": [
      "Refit to full training data and evaluate:\n",
      "\n",
      "|| Accuracy: 0.9483 || ROC-AUC: 0.9500 ||\n",
      "\n"
     ]
    },
    {
     "data": {
      "image/png": "[encoded data removed]",
      "text/plain": [
       "<Figure size 400x300 with 2 Axes>"
      ]
     },
     "metadata": {},
     "output_type": "display_data"
    },
    {
     "name": "stdout",
     "output_type": "stream",
     "text": [
      "\n",
      "(Time taken: 8.13 secs)\n",
      "\n",
      " ------------------------- Minimal -------------------------\n",
      "Cross-validation:\n"
     ]
    },
    {
     "data": {
      "text/html": [
       "<div>\n",
       "<style scoped>\n",
       "    .dataframe tbody tr th:only-of-type {\n",
       "        vertical-align: middle;\n",
       "    }\n",
       "\n",
       "    .dataframe tbody tr th {\n",
       "        vertical-align: top;\n",
       "    }\n",
       "\n",
       "    .dataframe thead th {\n",
       "        text-align: right;\n",
       "    }\n",
       "</style>\n",
       "<table border=\"1\" class=\"dataframe\">\n",
       "  <thead>\n",
       "    <tr style=\"text-align: right;\">\n",
       "      <th></th>\n",
       "      <th>Fold #1</th>\n",
       "      <th>Fold #2</th>\n",
       "      <th>Fold #3</th>\n",
       "      <th>Fold #4</th>\n",
       "      <th>Fold #5</th>\n",
       "      <th>Fold #6</th>\n",
       "      <th>Fold #7</th>\n",
       "      <th>Fold #8</th>\n",
       "      <th>Fold #9</th>\n",
       "    </tr>\n",
       "  </thead>\n",
       "  <tbody>\n",
       "    <tr>\n",
       "      <th>Accuracy</th>\n",
       "      <td>0.9410</td>\n",
       "      <td>0.9299</td>\n",
       "      <td>0.9446</td>\n",
       "      <td>0.9409</td>\n",
       "      <td>0.9433</td>\n",
       "      <td>0.9384</td>\n",
       "      <td>0.9372</td>\n",
       "      <td>0.9569</td>\n",
       "      <td>0.9557</td>\n",
       "    </tr>\n",
       "    <tr>\n",
       "      <th>ROC-AUC</th>\n",
       "      <td>0.9425</td>\n",
       "      <td>0.9255</td>\n",
       "      <td>0.9438</td>\n",
       "      <td>0.9406</td>\n",
       "      <td>0.9401</td>\n",
       "      <td>0.9373</td>\n",
       "      <td>0.9433</td>\n",
       "      <td>0.9599</td>\n",
       "      <td>0.9592</td>\n",
       "    </tr>\n",
       "  </tbody>\n",
       "</table>\n",
       "</div>"
      ],
      "text/plain": [
       "          Fold #1  Fold #2  Fold #3  Fold #4  Fold #5  Fold #6  Fold #7  \\\n",
       "Accuracy   0.9410   0.9299   0.9446   0.9409   0.9433   0.9384   0.9372   \n",
       "ROC-AUC    0.9425   0.9255   0.9438   0.9406   0.9401   0.9373   0.9433   \n",
       "\n",
       "          Fold #8  Fold #9  \n",
       "Accuracy   0.9569   0.9557  \n",
       "ROC-AUC    0.9599   0.9592  "
      ]
     },
     "metadata": {},
     "output_type": "display_data"
    },
    {
     "name": "stdout",
     "output_type": "stream",
     "text": [
      "Refit to full training data and evaluate:\n",
      "\n",
      "|| Accuracy: 0.9483 || ROC-AUC: 0.9456 ||\n",
      "\n"
     ]
    },
    {
     "data": {
      "image/png": "[encoded data removed]",
      "text/plain": [
       "<Figure size 400x300 with 2 Axes>"
      ]
     },
     "metadata": {},
     "output_type": "display_data"
    },
    {
     "name": "stdout",
     "output_type": "stream",
     "text": [
      "\n",
      "(Time taken: 4.98 secs)\n"
     ]
    }
   ],
   "source": [
    "run_experiment(model, 'histgradient')"
   ]
  },
  {
   "cell_type": "markdown",
   "id": "292da17e",
   "metadata": {
    "papermill": {
     "duration": 0.030366,
     "end_time": "2024-07-15T11:50:28.009936",
     "exception": false,
     "start_time": "2024-07-15T11:50:27.979570",
     "status": "completed"
    },
    "tags": []
   },
   "source": [
    "# Multi-Layer Perceptron"
   ]
  },
  {
   "cell_type": "code",
   "execution_count": 31,
   "id": "cda74e77",
   "metadata": {
    "execution": {
     "iopub.execute_input": "2024-07-15T11:50:28.073280Z",
     "iopub.status.busy": "2024-07-15T11:50:28.072378Z",
     "iopub.status.idle": "2024-07-15T11:50:28.077857Z",
     "shell.execute_reply": "2024-07-15T11:50:28.076982Z"
    },
    "papermill": {
     "duration": 0.03915,
     "end_time": "2024-07-15T11:50:28.079879",
     "exception": false,
     "start_time": "2024-07-15T11:50:28.040729",
     "status": "completed"
    },
    "tags": []
   },
   "outputs": [],
   "source": [
    "mlpnn = MLPClassifier(\n",
    "    activation='relu',\n",
    "    solver='adam',\n",
    "    alpha=1e-3,\n",
    "    learning_rate_init=1e-3,\n",
    "    max_iter=1000,\n",
    "    tol=1e-4,\n",
    "    early_stopping=True,\n",
    "    validation_fraction=0.1,\n",
    "    n_iter_no_change=20,\n",
    "    random_state=SEED\n",
    ")\n",
    "\n",
    "model = make_pipeline(\n",
    "    StandardScaler(),\n",
    "    mlpnn\n",
    ")"
   ]
  },
  {
   "cell_type": "code",
   "execution_count": 32,
   "id": "8449ed2a",
   "metadata": {
    "execution": {
     "iopub.execute_input": "2024-07-15T11:50:28.147872Z",
     "iopub.status.busy": "2024-07-15T11:50:28.147234Z",
     "iopub.status.idle": "2024-07-15T11:51:29.707867Z",
     "shell.execute_reply": "2024-07-15T11:51:29.706729Z"
    },
    "papermill": {
     "duration": 61.598342,
     "end_time": "2024-07-15T11:51:29.709902",
     "exception": false,
     "start_time": "2024-07-15T11:50:28.111560",
     "status": "completed"
    },
    "tags": []
   },
   "outputs": [
    {
     "name": "stdout",
     "output_type": "stream",
     "text": [
      "\n",
      " ------------------------- Original -------------------------\n",
      "Cross-validation:\n"
     ]
    },
    {
     "data": {
      "text/html": [
       "<div>\n",
       "<style scoped>\n",
       "    .dataframe tbody tr th:only-of-type {\n",
       "        vertical-align: middle;\n",
       "    }\n",
       "\n",
       "    .dataframe tbody tr th {\n",
       "        vertical-align: top;\n",
       "    }\n",
       "\n",
       "    .dataframe thead th {\n",
       "        text-align: right;\n",
       "    }\n",
       "</style>\n",
       "<table border=\"1\" class=\"dataframe\">\n",
       "  <thead>\n",
       "    <tr style=\"text-align: right;\">\n",
       "      <th></th>\n",
       "      <th>Fold #1</th>\n",
       "      <th>Fold #2</th>\n",
       "      <th>Fold #3</th>\n",
       "      <th>Fold #4</th>\n",
       "      <th>Fold #5</th>\n",
       "      <th>Fold #6</th>\n",
       "      <th>Fold #7</th>\n",
       "      <th>Fold #8</th>\n",
       "      <th>Fold #9</th>\n",
       "    </tr>\n",
       "  </thead>\n",
       "  <tbody>\n",
       "    <tr>\n",
       "      <th>Accuracy</th>\n",
       "      <td>0.8807</td>\n",
       "      <td>0.8708</td>\n",
       "      <td>0.8436</td>\n",
       "      <td>0.8658</td>\n",
       "      <td>0.8781</td>\n",
       "      <td>0.8288</td>\n",
       "      <td>0.8633</td>\n",
       "      <td>0.8719</td>\n",
       "      <td>0.8608</td>\n",
       "    </tr>\n",
       "    <tr>\n",
       "      <th>ROC-AUC</th>\n",
       "      <td>0.9360</td>\n",
       "      <td>0.9176</td>\n",
       "      <td>0.9115</td>\n",
       "      <td>0.9232</td>\n",
       "      <td>0.9268</td>\n",
       "      <td>0.9048</td>\n",
       "      <td>0.9282</td>\n",
       "      <td>0.9351</td>\n",
       "      <td>0.9330</td>\n",
       "    </tr>\n",
       "  </tbody>\n",
       "</table>\n",
       "</div>"
      ],
      "text/plain": [
       "          Fold #1  Fold #2  Fold #3  Fold #4  Fold #5  Fold #6  Fold #7  \\\n",
       "Accuracy   0.8807   0.8708   0.8436   0.8658   0.8781   0.8288   0.8633   \n",
       "ROC-AUC    0.9360   0.9176   0.9115   0.9232   0.9268   0.9048   0.9282   \n",
       "\n",
       "          Fold #8  Fold #9  \n",
       "Accuracy   0.8719   0.8608  \n",
       "ROC-AUC    0.9351   0.9330  "
      ]
     },
     "metadata": {},
     "output_type": "display_data"
    },
    {
     "name": "stdout",
     "output_type": "stream",
     "text": [
      "Refit to full training data and evaluate:\n",
      "\n",
      "|| Accuracy: 0.8536 || ROC-AUC: 0.9210 ||\n",
      "\n"
     ]
    },
    {
     "data": {
      "image/png": "[encoded data removed]",
      "text/plain": [
       "<Figure size 400x300 with 2 Axes>"
      ]
     },
     "metadata": {},
     "output_type": "display_data"
    },
    {
     "name": "stdout",
     "output_type": "stream",
     "text": [
      "\n",
      "(Time taken: 34.85 secs)\n",
      "\n",
      " ------------------------- Extended -------------------------\n",
      "Cross-validation:\n"
     ]
    },
    {
     "data": {
      "text/html": [
       "<div>\n",
       "<style scoped>\n",
       "    .dataframe tbody tr th:only-of-type {\n",
       "        vertical-align: middle;\n",
       "    }\n",
       "\n",
       "    .dataframe tbody tr th {\n",
       "        vertical-align: top;\n",
       "    }\n",
       "\n",
       "    .dataframe thead th {\n",
       "        text-align: right;\n",
       "    }\n",
       "</style>\n",
       "<table border=\"1\" class=\"dataframe\">\n",
       "  <thead>\n",
       "    <tr style=\"text-align: right;\">\n",
       "      <th></th>\n",
       "      <th>Fold #1</th>\n",
       "      <th>Fold #2</th>\n",
       "      <th>Fold #3</th>\n",
       "      <th>Fold #4</th>\n",
       "      <th>Fold #5</th>\n",
       "      <th>Fold #6</th>\n",
       "      <th>Fold #7</th>\n",
       "      <th>Fold #8</th>\n",
       "      <th>Fold #9</th>\n",
       "    </tr>\n",
       "  </thead>\n",
       "  <tbody>\n",
       "    <tr>\n",
       "      <th>Accuracy</th>\n",
       "      <td>0.9410</td>\n",
       "      <td>0.9299</td>\n",
       "      <td>0.9433</td>\n",
       "      <td>0.9409</td>\n",
       "      <td>0.9433</td>\n",
       "      <td>0.936</td>\n",
       "      <td>0.9360</td>\n",
       "      <td>0.9569</td>\n",
       "      <td>0.9532</td>\n",
       "    </tr>\n",
       "    <tr>\n",
       "      <th>ROC-AUC</th>\n",
       "      <td>0.9529</td>\n",
       "      <td>0.9324</td>\n",
       "      <td>0.9461</td>\n",
       "      <td>0.9459</td>\n",
       "      <td>0.9489</td>\n",
       "      <td>0.946</td>\n",
       "      <td>0.9495</td>\n",
       "      <td>0.9619</td>\n",
       "      <td>0.9661</td>\n",
       "    </tr>\n",
       "  </tbody>\n",
       "</table>\n",
       "</div>"
      ],
      "text/plain": [
       "          Fold #1  Fold #2  Fold #3  Fold #4  Fold #5  Fold #6  Fold #7  \\\n",
       "Accuracy   0.9410   0.9299   0.9433   0.9409   0.9433    0.936   0.9360   \n",
       "ROC-AUC    0.9529   0.9324   0.9461   0.9459   0.9489    0.946   0.9495   \n",
       "\n",
       "          Fold #8  Fold #9  \n",
       "Accuracy   0.9569   0.9532  \n",
       "ROC-AUC    0.9619   0.9661  "
      ]
     },
     "metadata": {},
     "output_type": "display_data"
    },
    {
     "name": "stdout",
     "output_type": "stream",
     "text": [
      "Refit to full training data and evaluate:\n",
      "\n",
      "|| Accuracy: 0.9496 || ROC-AUC: 0.9577 ||\n",
      "\n"
     ]
    },
    {
     "data": {
      "image/png": "[encoded data removed]",
      "text/plain": [
       "<Figure size 400x300 with 2 Axes>"
      ]
     },
     "metadata": {},
     "output_type": "display_data"
    },
    {
     "name": "stdout",
     "output_type": "stream",
     "text": [
      "\n",
      "(Time taken: 9.65 secs)\n",
      "\n",
      " ------------------------- Binary -------------------------\n",
      "Cross-validation:\n"
     ]
    },
    {
     "data": {
      "text/html": [
       "<div>\n",
       "<style scoped>\n",
       "    .dataframe tbody tr th:only-of-type {\n",
       "        vertical-align: middle;\n",
       "    }\n",
       "\n",
       "    .dataframe tbody tr th {\n",
       "        vertical-align: top;\n",
       "    }\n",
       "\n",
       "    .dataframe thead th {\n",
       "        text-align: right;\n",
       "    }\n",
       "</style>\n",
       "<table border=\"1\" class=\"dataframe\">\n",
       "  <thead>\n",
       "    <tr style=\"text-align: right;\">\n",
       "      <th></th>\n",
       "      <th>Fold #1</th>\n",
       "      <th>Fold #2</th>\n",
       "      <th>Fold #3</th>\n",
       "      <th>Fold #4</th>\n",
       "      <th>Fold #5</th>\n",
       "      <th>Fold #6</th>\n",
       "      <th>Fold #7</th>\n",
       "      <th>Fold #8</th>\n",
       "      <th>Fold #9</th>\n",
       "    </tr>\n",
       "  </thead>\n",
       "  <tbody>\n",
       "    <tr>\n",
       "      <th>Accuracy</th>\n",
       "      <td>0.9410</td>\n",
       "      <td>0.9299</td>\n",
       "      <td>0.9446</td>\n",
       "      <td>0.9409</td>\n",
       "      <td>0.9433</td>\n",
       "      <td>0.9384</td>\n",
       "      <td>0.9372</td>\n",
       "      <td>0.9569</td>\n",
       "      <td>0.9557</td>\n",
       "    </tr>\n",
       "    <tr>\n",
       "      <th>ROC-AUC</th>\n",
       "      <td>0.9489</td>\n",
       "      <td>0.9348</td>\n",
       "      <td>0.9407</td>\n",
       "      <td>0.9452</td>\n",
       "      <td>0.9535</td>\n",
       "      <td>0.9380</td>\n",
       "      <td>0.9457</td>\n",
       "      <td>0.9600</td>\n",
       "      <td>0.9636</td>\n",
       "    </tr>\n",
       "  </tbody>\n",
       "</table>\n",
       "</div>"
      ],
      "text/plain": [
       "          Fold #1  Fold #2  Fold #3  Fold #4  Fold #5  Fold #6  Fold #7  \\\n",
       "Accuracy   0.9410   0.9299   0.9446   0.9409   0.9433   0.9384   0.9372   \n",
       "ROC-AUC    0.9489   0.9348   0.9407   0.9452   0.9535   0.9380   0.9457   \n",
       "\n",
       "          Fold #8  Fold #9  \n",
       "Accuracy   0.9569   0.9557  \n",
       "ROC-AUC    0.9600   0.9636  "
      ]
     },
     "metadata": {},
     "output_type": "display_data"
    },
    {
     "name": "stdout",
     "output_type": "stream",
     "text": [
      "Refit to full training data and evaluate:\n",
      "\n",
      "|| Accuracy: 0.9483 || ROC-AUC: 0.9555 ||\n",
      "\n"
     ]
    },
    {
     "data": {
      "image/png": "[encoded data removed]",
      "text/plain": [
       "<Figure size 400x300 with 2 Axes>"
      ]
     },
     "metadata": {},
     "output_type": "display_data"
    },
    {
     "name": "stdout",
     "output_type": "stream",
     "text": [
      "\n",
      "(Time taken: 8.80 secs)\n",
      "\n",
      " ------------------------- Minimal -------------------------\n",
      "Cross-validation:\n"
     ]
    },
    {
     "data": {
      "text/html": [
       "<div>\n",
       "<style scoped>\n",
       "    .dataframe tbody tr th:only-of-type {\n",
       "        vertical-align: middle;\n",
       "    }\n",
       "\n",
       "    .dataframe tbody tr th {\n",
       "        vertical-align: top;\n",
       "    }\n",
       "\n",
       "    .dataframe thead th {\n",
       "        text-align: right;\n",
       "    }\n",
       "</style>\n",
       "<table border=\"1\" class=\"dataframe\">\n",
       "  <thead>\n",
       "    <tr style=\"text-align: right;\">\n",
       "      <th></th>\n",
       "      <th>Fold #1</th>\n",
       "      <th>Fold #2</th>\n",
       "      <th>Fold #3</th>\n",
       "      <th>Fold #4</th>\n",
       "      <th>Fold #5</th>\n",
       "      <th>Fold #6</th>\n",
       "      <th>Fold #7</th>\n",
       "      <th>Fold #8</th>\n",
       "      <th>Fold #9</th>\n",
       "    </tr>\n",
       "  </thead>\n",
       "  <tbody>\n",
       "    <tr>\n",
       "      <th>Accuracy</th>\n",
       "      <td>0.9410</td>\n",
       "      <td>0.9299</td>\n",
       "      <td>0.9446</td>\n",
       "      <td>0.9409</td>\n",
       "      <td>0.9433</td>\n",
       "      <td>0.9384</td>\n",
       "      <td>0.9372</td>\n",
       "      <td>0.9569</td>\n",
       "      <td>0.9557</td>\n",
       "    </tr>\n",
       "    <tr>\n",
       "      <th>ROC-AUC</th>\n",
       "      <td>0.9475</td>\n",
       "      <td>0.9315</td>\n",
       "      <td>0.9449</td>\n",
       "      <td>0.9421</td>\n",
       "      <td>0.9503</td>\n",
       "      <td>0.9389</td>\n",
       "      <td>0.9472</td>\n",
       "      <td>0.9566</td>\n",
       "      <td>0.9633</td>\n",
       "    </tr>\n",
       "  </tbody>\n",
       "</table>\n",
       "</div>"
      ],
      "text/plain": [
       "          Fold #1  Fold #2  Fold #3  Fold #4  Fold #5  Fold #6  Fold #7  \\\n",
       "Accuracy   0.9410   0.9299   0.9446   0.9409   0.9433   0.9384   0.9372   \n",
       "ROC-AUC    0.9475   0.9315   0.9449   0.9421   0.9503   0.9389   0.9472   \n",
       "\n",
       "          Fold #8  Fold #9  \n",
       "Accuracy   0.9569   0.9557  \n",
       "ROC-AUC    0.9566   0.9633  "
      ]
     },
     "metadata": {},
     "output_type": "display_data"
    },
    {
     "name": "stdout",
     "output_type": "stream",
     "text": [
      "Refit to full training data and evaluate:\n",
      "\n",
      "|| Accuracy: 0.9483 || ROC-AUC: 0.9544 ||\n",
      "\n"
     ]
    },
    {
     "data": {
      "image/png": "[encoded data removed]",
      "text/plain": [
       "<Figure size 400x300 with 2 Axes>"
      ]
     },
     "metadata": {},
     "output_type": "display_data"
    },
    {
     "name": "stdout",
     "output_type": "stream",
     "text": [
      "\n",
      "(Time taken: 8.24 secs)\n"
     ]
    }
   ],
   "source": [
    "run_experiment(model, 'mlpnn')"
   ]
  }
 ],
 "metadata": {
  "kaggle": {
   "accelerator": "none",
   "dataSources": [
    {
     "datasetId": 5236308,
     "sourceId": 8725325,
     "sourceType": "datasetVersion"
    }
   ],
   "dockerImageVersionId": 30746,
   "isGpuEnabled": false,
   "isInternetEnabled": true,
   "language": "python",
   "sourceType": "notebook"
  },
  "kernelspec": {
   "display_name": "Python 3",
   "language": "python",
   "name": "python3"
  },
  "language_info": {
   "codemirror_mode": {
    "name": "ipython",
    "version": 3
   },
   "file_extension": ".py",
   "mimetype": "text/x-python",
   "name": "python",
   "nbconvert_exporter": "python",
   "pygments_lexer": "ipython3",
   "version": "3.10.13"
  },
  "papermill": {
   "default_parameters": {},
   "duration": 171.651087,
   "end_time": "2024-07-15T11:51:30.264018",
   "environment_variables": {},
   "exception": null,
   "input_path": "__notebook__.ipynb",
   "output_path": "__notebook__.ipynb",
   "parameters": {},
   "start_time": "2024-07-15T11:48:38.612931",
   "version": "2.5.0"
  }
 },
 "nbformat": 4,
 "nbformat_minor": 5
}
