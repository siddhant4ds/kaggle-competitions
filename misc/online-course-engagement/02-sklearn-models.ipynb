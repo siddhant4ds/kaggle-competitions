{
 "cells": [
  {
   "cell_type": "markdown",
   "id": "bdfbcad2",
   "metadata": {
    "_cell_guid": "b1076dfc-b9ad-4769-8c92-a6c4dae69d19",
    "_uuid": "8f2839f25d086af736a60e9eeb907d3b93b6e0e5",
    "papermill": {
     "duration": 0.010376,
     "end_time": "2024-07-15T14:01:40.795342",
     "exception": false,
     "start_time": "2024-07-15T14:01:40.784966",
     "status": "completed"
    },
    "tags": []
   },
   "source": [
    "# Setup"
   ]
  },
  {
   "cell_type": "code",
   "execution_count": 1,
   "id": "7a0de12f",
   "metadata": {
    "execution": {
     "iopub.execute_input": "2024-07-15T14:01:40.817307Z",
     "iopub.status.busy": "2024-07-15T14:01:40.816819Z",
     "iopub.status.idle": "2024-07-15T14:01:43.904295Z",
     "shell.execute_reply": "2024-07-15T14:01:43.903018Z"
    },
    "papermill": {
     "duration": 3.10151,
     "end_time": "2024-07-15T14:01:43.907030",
     "exception": false,
     "start_time": "2024-07-15T14:01:40.805520",
     "status": "completed"
    },
    "tags": []
   },
   "outputs": [],
   "source": [
    "import gc\n",
    "gc.enable()\n",
    "\n",
    "import warnings\n",
    "warnings.filterwarnings(category=FutureWarning, action='ignore')\n",
    "warnings.filterwarnings(category=UserWarning, action='ignore')\n",
    "\n",
    "import time\n",
    "import joblib\n",
    "import numpy as np\n",
    "import pandas as pd\n",
    "pd.set_option('display.max_columns', None)\n",
    "pd.set_option('display.precision', 4)\n",
    "\n",
    "import seaborn as sns\n",
    "import matplotlib.pyplot as plt\n",
    "%matplotlib inline\n",
    "\n",
    "from sklearn.base import clone\n",
    "from sklearn.pipeline import make_pipeline\n",
    "from sklearn.preprocessing import StandardScaler\n",
    "from sklearn.discriminant_analysis import (\n",
    "    LinearDiscriminantAnalysis,\n",
    "    QuadraticDiscriminantAnalysis\n",
    ")\n",
    "from sklearn.naive_bayes import BernoulliNB\n",
    "from sklearn.neighbors import KNeighborsClassifier\n",
    "from sklearn.tree import DecisionTreeClassifier\n",
    "from sklearn.ensemble import (\n",
    "    RandomForestClassifier, \n",
    "    AdaBoostClassifier,\n",
    "    HistGradientBoostingClassifier\n",
    ")\n",
    "from sklearn.neural_network import MLPClassifier\n",
    "from sklearn.model_selection import (\n",
    "    train_test_split, \n",
    "    StratifiedKFold\n",
    ")\n",
    "from sklearn.metrics import (\n",
    "    make_scorer,\n",
    "    accuracy_score,\n",
    "    roc_auc_score,\n",
    "    confusion_matrix\n",
    ")\n",
    "\n",
    "SEED = 2024"
   ]
  },
  {
   "cell_type": "markdown",
   "id": "9ecd9ed4",
   "metadata": {
    "papermill": {
     "duration": 0.009623,
     "end_time": "2024-07-15T14:01:43.927301",
     "exception": false,
     "start_time": "2024-07-15T14:01:43.917678",
     "status": "completed"
    },
    "tags": []
   },
   "source": [
    "# Data preparation"
   ]
  },
  {
   "cell_type": "code",
   "execution_count": 2,
   "id": "4821823a",
   "metadata": {
    "execution": {
     "iopub.execute_input": "2024-07-15T14:01:43.949350Z",
     "iopub.status.busy": "2024-07-15T14:01:43.948750Z",
     "iopub.status.idle": "2024-07-15T14:01:44.011715Z",
     "shell.execute_reply": "2024-07-15T14:01:44.010640Z"
    },
    "papermill": {
     "duration": 0.076958,
     "end_time": "2024-07-15T14:01:44.014450",
     "exception": false,
     "start_time": "2024-07-15T14:01:43.937492",
     "status": "completed"
    },
    "tags": []
   },
   "outputs": [],
   "source": [
    "data = pd.read_csv('/kaggle/input/predict-online-course-engagement-dataset/online_course_engagement_data.csv')"
   ]
  },
  {
   "cell_type": "code",
   "execution_count": 3,
   "id": "bb04c4a6",
   "metadata": {
    "execution": {
     "iopub.execute_input": "2024-07-15T14:01:44.038007Z",
     "iopub.status.busy": "2024-07-15T14:01:44.036673Z",
     "iopub.status.idle": "2024-07-15T14:01:44.043307Z",
     "shell.execute_reply": "2024-07-15T14:01:44.042078Z"
    },
    "papermill": {
     "duration": 0.020297,
     "end_time": "2024-07-15T14:01:44.045669",
     "exception": false,
     "start_time": "2024-07-15T14:01:44.025372",
     "status": "completed"
    },
    "tags": []
   },
   "outputs": [],
   "source": [
    "TARGET = 'CourseCompletion'\n",
    "features = [f for f in data.columns if f not in ('UserID', TARGET)]\n",
    "cat_features = ['DeviceType', 'CourseCategory']\n",
    "num_features = [f for f in features if f not in cat_features]"
   ]
  },
  {
   "cell_type": "markdown",
   "id": "5473b5fe",
   "metadata": {
    "papermill": {
     "duration": 0.009491,
     "end_time": "2024-07-15T14:01:44.064848",
     "exception": false,
     "start_time": "2024-07-15T14:01:44.055357",
     "status": "completed"
    },
    "tags": []
   },
   "source": [
    "### Preprocessing"
   ]
  },
  {
   "cell_type": "code",
   "execution_count": 4,
   "id": "5cd2100e",
   "metadata": {
    "execution": {
     "iopub.execute_input": "2024-07-15T14:01:44.086252Z",
     "iopub.status.busy": "2024-07-15T14:01:44.085798Z",
     "iopub.status.idle": "2024-07-15T14:01:44.093966Z",
     "shell.execute_reply": "2024-07-15T14:01:44.092770Z"
    },
    "papermill": {
     "duration": 0.021821,
     "end_time": "2024-07-15T14:01:44.096377",
     "exception": false,
     "start_time": "2024-07-15T14:01:44.074556",
     "status": "completed"
    },
    "tags": []
   },
   "outputs": [],
   "source": [
    "def preprocess_dataset(df):\n",
    "    # remove duplicates\n",
    "    df = df.drop_duplicates(ignore_index=True)\n",
    "    \n",
    "    # one-hot encoding nominal variable\n",
    "    df = pd.get_dummies(df, columns=['CourseCategory'], dtype='int8')\n",
    "    \n",
    "    df['DeviceType'] = df['DeviceType'].astype('int8')\n",
    "    \n",
    "    # binarize numerical features\n",
    "    df['time_spent_above_threshold'] = (df['TimeSpentOnCourse'] > 20).astype('int8')\n",
    "    df['num_videos_above_threshold'] = (df['NumberOfVideosWatched'] > 5).astype('int8')\n",
    "    df['num_quizzes_above_threshold'] = (df['NumberOfQuizzesTaken'] > 3).astype('int8')\n",
    "    df['quiz_scores_above_threshold'] = (df['QuizScores'] > 68).astype('int8')\n",
    "    df['completion_above_threshold'] = (df['CompletionRate'] > 60).astype('int8')\n",
    "    \n",
    "    return df"
   ]
  },
  {
   "cell_type": "code",
   "execution_count": 5,
   "id": "716f3d1b",
   "metadata": {
    "execution": {
     "iopub.execute_input": "2024-07-15T14:01:44.117583Z",
     "iopub.status.busy": "2024-07-15T14:01:44.117146Z",
     "iopub.status.idle": "2024-07-15T14:01:44.156275Z",
     "shell.execute_reply": "2024-07-15T14:01:44.155067Z"
    },
    "papermill": {
     "duration": 0.053225,
     "end_time": "2024-07-15T14:01:44.159269",
     "exception": false,
     "start_time": "2024-07-15T14:01:44.106044",
     "status": "completed"
    },
    "tags": []
   },
   "outputs": [],
   "source": [
    "data = preprocess_dataset(data.copy())"
   ]
  },
  {
   "cell_type": "markdown",
   "id": "50921c72",
   "metadata": {
    "papermill": {
     "duration": 0.009933,
     "end_time": "2024-07-15T14:01:44.179513",
     "exception": false,
     "start_time": "2024-07-15T14:01:44.169580",
     "status": "completed"
    },
    "tags": []
   },
   "source": [
    "### Feature sets\n",
    "\n",
    "Generated in: [Online Course Engagement - Logistic Regression](https://www.kaggle.com/code/sid4ds/online-course-engagement-logistic-regression)"
   ]
  },
  {
   "cell_type": "code",
   "execution_count": 6,
   "id": "89a3a82c",
   "metadata": {
    "execution": {
     "iopub.execute_input": "2024-07-15T14:01:44.201321Z",
     "iopub.status.busy": "2024-07-15T14:01:44.200862Z",
     "iopub.status.idle": "2024-07-15T14:01:44.208258Z",
     "shell.execute_reply": "2024-07-15T14:01:44.206976Z"
    },
    "papermill": {
     "duration": 0.021196,
     "end_time": "2024-07-15T14:01:44.210996",
     "exception": false,
     "start_time": "2024-07-15T14:01:44.189800",
     "status": "completed"
    },
    "tags": []
   },
   "outputs": [],
   "source": [
    "original_features = [\n",
    "    'TimeSpentOnCourse', 'NumberOfVideosWatched', 'NumberOfQuizzesTaken', \n",
    "    'QuizScores', 'CompletionRate', 'DeviceType', 'CourseCategory_Arts', \n",
    "    'CourseCategory_Business', 'CourseCategory_Health', \n",
    "    'CourseCategory_Programming', 'CourseCategory_Science'\n",
    "]\n",
    "\n",
    "extended_features = [\n",
    "    'TimeSpentOnCourse', 'NumberOfVideosWatched', 'NumberOfQuizzesTaken', \n",
    "    'QuizScores', 'CompletionRate', 'DeviceType', 'CourseCategory_Arts', \n",
    "    'CourseCategory_Business', 'CourseCategory_Health', \n",
    "    'CourseCategory_Programming', 'CourseCategory_Science', \n",
    "    'time_spent_above_threshold', 'num_videos_above_threshold', \n",
    "    'num_quizzes_above_threshold', 'quiz_scores_above_threshold', \n",
    "    'completion_above_threshold'\n",
    "]\n",
    "\n",
    "binary_features = [\n",
    "    'DeviceType', 'CourseCategory_Arts', 'CourseCategory_Business', \n",
    "    'CourseCategory_Health', 'CourseCategory_Programming', \n",
    "    'CourseCategory_Science', 'time_spent_above_threshold', \n",
    "    'num_videos_above_threshold', 'num_quizzes_above_threshold', \n",
    "    'quiz_scores_above_threshold', 'completion_above_threshold'\n",
    "]\n",
    "\n",
    "minimal_features = [\n",
    "    'time_spent_above_threshold', 'num_videos_above_threshold', \n",
    "    'num_quizzes_above_threshold', 'quiz_scores_above_threshold', \n",
    "    'completion_above_threshold'\n",
    "]"
   ]
  },
  {
   "cell_type": "code",
   "execution_count": 7,
   "id": "a13e9b5a",
   "metadata": {
    "execution": {
     "iopub.execute_input": "2024-07-15T14:01:44.232265Z",
     "iopub.status.busy": "2024-07-15T14:01:44.231797Z",
     "iopub.status.idle": "2024-07-15T14:01:44.237192Z",
     "shell.execute_reply": "2024-07-15T14:01:44.236098Z"
    },
    "papermill": {
     "duration": 0.018843,
     "end_time": "2024-07-15T14:01:44.239556",
     "exception": false,
     "start_time": "2024-07-15T14:01:44.220713",
     "status": "completed"
    },
    "tags": []
   },
   "outputs": [],
   "source": [
    "feature_sets = {\n",
    "    'Original': original_features,\n",
    "    'Extended': extended_features,\n",
    "    'Binary': binary_features,\n",
    "    'Minimal': minimal_features\n",
    "}"
   ]
  },
  {
   "cell_type": "markdown",
   "id": "97c8970d",
   "metadata": {
    "papermill": {
     "duration": 0.009617,
     "end_time": "2024-07-15T14:01:44.258946",
     "exception": false,
     "start_time": "2024-07-15T14:01:44.249329",
     "status": "completed"
    },
    "tags": []
   },
   "source": [
    "### Holdout set for model-testing\n",
    "(exactly the same as used in previous modeling experiments)"
   ]
  },
  {
   "cell_type": "code",
   "execution_count": 8,
   "id": "bbecc5d8",
   "metadata": {
    "execution": {
     "iopub.execute_input": "2024-07-15T14:01:44.280582Z",
     "iopub.status.busy": "2024-07-15T14:01:44.280103Z",
     "iopub.status.idle": "2024-07-15T14:01:44.293727Z",
     "shell.execute_reply": "2024-07-15T14:01:44.292367Z"
    },
    "papermill": {
     "duration": 0.027812,
     "end_time": "2024-07-15T14:01:44.296663",
     "exception": false,
     "start_time": "2024-07-15T14:01:44.268851",
     "status": "completed"
    },
    "tags": []
   },
   "outputs": [],
   "source": [
    "train, test, _, _ = train_test_split(\n",
    "    data, data[TARGET],\n",
    "    stratify=data[TARGET],\n",
    "    test_size=0.1,  # same size\n",
    "    shuffle=True,\n",
    "    random_state=SEED  # same sampling\n",
    ")"
   ]
  },
  {
   "cell_type": "markdown",
   "id": "482ee03d",
   "metadata": {
    "papermill": {
     "duration": 0.009392,
     "end_time": "2024-07-15T14:01:44.315798",
     "exception": false,
     "start_time": "2024-07-15T14:01:44.306406",
     "status": "completed"
    },
    "tags": []
   },
   "source": [
    "# Modeling framework"
   ]
  },
  {
   "cell_type": "code",
   "execution_count": 9,
   "id": "6a2a8bcc",
   "metadata": {
    "execution": {
     "iopub.execute_input": "2024-07-15T14:01:44.337705Z",
     "iopub.status.busy": "2024-07-15T14:01:44.337307Z",
     "iopub.status.idle": "2024-07-15T14:01:44.346483Z",
     "shell.execute_reply": "2024-07-15T14:01:44.345087Z"
    },
    "papermill": {
     "duration": 0.023268,
     "end_time": "2024-07-15T14:01:44.348916",
     "exception": false,
     "start_time": "2024-07-15T14:01:44.325648",
     "status": "completed"
    },
    "tags": []
   },
   "outputs": [],
   "source": [
    "def cross_validate(estimator, feature_set, num_folds=9):\n",
    "    global train, TARGET\n",
    "    \n",
    "    scores_auc, scores_acc = [], []\n",
    "    X, y = train[feature_set], train[TARGET]\n",
    "    \n",
    "    cv = StratifiedKFold(n_splits=num_folds, shuffle=True, random_state=SEED)\n",
    "    for fold, (train_ids, val_ids) in enumerate(cv.split(X, y)):\n",
    "        X_train, y_train = X.iloc[train_ids], y.iloc[train_ids]\n",
    "        X_val, y_val = X.iloc[val_ids], y.iloc[val_ids]\n",
    "        \n",
    "        model = clone(estimator)\n",
    "        model.fit(X_train, y_train)\n",
    "        probs = model.predict_proba(X_val)[:, 1]\n",
    "        scores_auc.append(roc_auc_score(y_val, probs))\n",
    "        preds = model.predict(X_val)\n",
    "        scores_acc.append(accuracy_score(y_val, preds))\n",
    "        \n",
    "    scores_df = pd.DataFrame(\n",
    "        data={'Accuracy': scores_acc, 'ROC-AUC': scores_auc}, \n",
    "        index=[f'Fold #{i+1}' for i in range(9)]\n",
    "    )\n",
    "    display(scores_df.T)"
   ]
  },
  {
   "cell_type": "code",
   "execution_count": 10,
   "id": "324c3f95",
   "metadata": {
    "execution": {
     "iopub.execute_input": "2024-07-15T14:01:44.370074Z",
     "iopub.status.busy": "2024-07-15T14:01:44.369699Z",
     "iopub.status.idle": "2024-07-15T14:01:44.377861Z",
     "shell.execute_reply": "2024-07-15T14:01:44.376543Z"
    },
    "papermill": {
     "duration": 0.021723,
     "end_time": "2024-07-15T14:01:44.380466",
     "exception": false,
     "start_time": "2024-07-15T14:01:44.358743",
     "status": "completed"
    },
    "tags": []
   },
   "outputs": [],
   "source": [
    "def refit_full_and_evaluate(model, feature_set):\n",
    "    global train, TARGET\n",
    "    \n",
    "    model.fit(train[feature_set], train[TARGET])\n",
    "    probs = model.predict_proba(test[feature_set])[:, 1]\n",
    "    preds = model.predict(test[feature_set])\n",
    "    \n",
    "    accuracy = accuracy_score(test[TARGET], preds)\n",
    "    auc = roc_auc_score(test[TARGET], probs)\n",
    "    print(f'|| Accuracy: {accuracy:.4f} || ROC-AUC: {auc:.4f} ||\\n')\n",
    "    \n",
    "    fig, ax = plt.subplots(figsize=(4, 3))\n",
    "    ax.set_title('Normalized Confusion Matrix')\n",
    "    sns.heatmap(\n",
    "        data=confusion_matrix(test[TARGET], preds, normalize='true'),\n",
    "        annot=True, fmt='.4f', linewidths=0.1, cmap=plt.cm.Blues\n",
    "    )\n",
    "    plt.xlabel('Prediction')\n",
    "    plt.ylabel('True label')\n",
    "    plt.show()\n",
    "    \n",
    "    return model"
   ]
  },
  {
   "cell_type": "code",
   "execution_count": 11,
   "id": "00330ae1",
   "metadata": {
    "execution": {
     "iopub.execute_input": "2024-07-15T14:01:44.402395Z",
     "iopub.status.busy": "2024-07-15T14:01:44.402000Z",
     "iopub.status.idle": "2024-07-15T14:01:44.407876Z",
     "shell.execute_reply": "2024-07-15T14:01:44.406414Z"
    },
    "papermill": {
     "duration": 0.020135,
     "end_time": "2024-07-15T14:01:44.410362",
     "exception": false,
     "start_time": "2024-07-15T14:01:44.390227",
     "status": "completed"
    },
    "tags": []
   },
   "outputs": [],
   "source": [
    "def save_model(model, config, notebook='02'):\n",
    "    save_path = f'{notebook}_{config}.joblib'\n",
    "    joblib.dump(model, save_path)"
   ]
  },
  {
   "cell_type": "code",
   "execution_count": 12,
   "id": "10839f77",
   "metadata": {
    "execution": {
     "iopub.execute_input": "2024-07-15T14:01:44.432217Z",
     "iopub.status.busy": "2024-07-15T14:01:44.431798Z",
     "iopub.status.idle": "2024-07-15T14:01:44.439283Z",
     "shell.execute_reply": "2024-07-15T14:01:44.437979Z"
    },
    "papermill": {
     "duration": 0.021736,
     "end_time": "2024-07-15T14:01:44.441767",
     "exception": false,
     "start_time": "2024-07-15T14:01:44.420031",
     "status": "completed"
    },
    "tags": []
   },
   "outputs": [],
   "source": [
    "def run_experiment(estimator, model_name, save=True):\n",
    "    global feature_sets\n",
    "    \n",
    "    for fname, fset in feature_sets.items():\n",
    "        print('\\n', '-'*25, fname, '-'*25)\n",
    "        start_time = time.time()\n",
    "        print('Cross-validation:')\n",
    "        cross_validate(estimator, fset)\n",
    "        print('Refit to full training data and evaluate:\\n')\n",
    "        model = refit_full_and_evaluate(estimator, fset)\n",
    "        end_time = time.time()\n",
    "        print(f'\\n(Time taken: {end_time - start_time:.2f} secs)')\n",
    "        \n",
    "        if save:\n",
    "            save_model(model, f'{model_name}_{fname}')"
   ]
  },
  {
   "cell_type": "markdown",
   "id": "ee2b389b",
   "metadata": {
    "papermill": {
     "duration": 0.009455,
     "end_time": "2024-07-15T14:01:44.460802",
     "exception": false,
     "start_time": "2024-07-15T14:01:44.451347",
     "status": "completed"
    },
    "tags": []
   },
   "source": [
    "# Discriminant Analysis"
   ]
  },
  {
   "cell_type": "markdown",
   "id": "11304605",
   "metadata": {
    "papermill": {
     "duration": 0.009436,
     "end_time": "2024-07-15T14:01:44.480220",
     "exception": false,
     "start_time": "2024-07-15T14:01:44.470784",
     "status": "completed"
    },
    "tags": []
   },
   "source": [
    "## Linear"
   ]
  },
  {
   "cell_type": "code",
   "execution_count": 13,
   "id": "c2041bd9",
   "metadata": {
    "execution": {
     "iopub.execute_input": "2024-07-15T14:01:44.501118Z",
     "iopub.status.busy": "2024-07-15T14:01:44.500690Z",
     "iopub.status.idle": "2024-07-15T14:01:44.506152Z",
     "shell.execute_reply": "2024-07-15T14:01:44.505036Z"
    },
    "papermill": {
     "duration": 0.018769,
     "end_time": "2024-07-15T14:01:44.508494",
     "exception": false,
     "start_time": "2024-07-15T14:01:44.489725",
     "status": "completed"
    },
    "tags": []
   },
   "outputs": [],
   "source": [
    "model = make_pipeline(\n",
    "    StandardScaler(), \n",
    "    LinearDiscriminantAnalysis(solver='svd', tol=1e-4)\n",
    ")"
   ]
  },
  {
   "cell_type": "code",
   "execution_count": 14,
   "id": "d797409b",
   "metadata": {
    "execution": {
     "iopub.execute_input": "2024-07-15T14:01:44.529972Z",
     "iopub.status.busy": "2024-07-15T14:01:44.529560Z",
     "iopub.status.idle": "2024-07-15T14:01:47.377454Z",
     "shell.execute_reply": "2024-07-15T14:01:47.375924Z"
    },
    "papermill": {
     "duration": 2.862789,
     "end_time": "2024-07-15T14:01:47.381214",
     "exception": false,
     "start_time": "2024-07-15T14:01:44.518425",
     "status": "completed"
    },
    "tags": []
   },
   "outputs": [
    {
     "name": "stdout",
     "output_type": "stream",
     "text": [
      "\n",
      " ------------------------- Original -------------------------\n",
      "Cross-validation:\n"
     ]
    },
    {
     "data": {
      "text/html": [
       "<div>\n",
       "<style scoped>\n",
       "    .dataframe tbody tr th:only-of-type {\n",
       "        vertical-align: middle;\n",
       "    }\n",
       "\n",
       "    .dataframe tbody tr th {\n",
       "        vertical-align: top;\n",
       "    }\n",
       "\n",
       "    .dataframe thead th {\n",
       "        text-align: right;\n",
       "    }\n",
       "</style>\n",
       "<table border=\"1\" class=\"dataframe\">\n",
       "  <thead>\n",
       "    <tr style=\"text-align: right;\">\n",
       "      <th></th>\n",
       "      <th>Fold #1</th>\n",
       "      <th>Fold #2</th>\n",
       "      <th>Fold #3</th>\n",
       "      <th>Fold #4</th>\n",
       "      <th>Fold #5</th>\n",
       "      <th>Fold #6</th>\n",
       "      <th>Fold #7</th>\n",
       "      <th>Fold #8</th>\n",
       "      <th>Fold #9</th>\n",
       "    </tr>\n",
       "  </thead>\n",
       "  <tbody>\n",
       "    <tr>\n",
       "      <th>Accuracy</th>\n",
       "      <td>0.7823</td>\n",
       "      <td>0.7934</td>\n",
       "      <td>0.7956</td>\n",
       "      <td>0.7857</td>\n",
       "      <td>0.7808</td>\n",
       "      <td>0.7833</td>\n",
       "      <td>0.8030</td>\n",
       "      <td>0.7968</td>\n",
       "      <td>0.8091</td>\n",
       "    </tr>\n",
       "    <tr>\n",
       "      <th>ROC-AUC</th>\n",
       "      <td>0.8569</td>\n",
       "      <td>0.8583</td>\n",
       "      <td>0.8686</td>\n",
       "      <td>0.8707</td>\n",
       "      <td>0.8581</td>\n",
       "      <td>0.8576</td>\n",
       "      <td>0.8858</td>\n",
       "      <td>0.8720</td>\n",
       "      <td>0.8921</td>\n",
       "    </tr>\n",
       "  </tbody>\n",
       "</table>\n",
       "</div>"
      ],
      "text/plain": [
       "          Fold #1  Fold #2  Fold #3  Fold #4  Fold #5  Fold #6  Fold #7  \\\n",
       "Accuracy   0.7823   0.7934   0.7956   0.7857   0.7808   0.7833   0.8030   \n",
       "ROC-AUC    0.8569   0.8583   0.8686   0.8707   0.8581   0.8576   0.8858   \n",
       "\n",
       "          Fold #8  Fold #9  \n",
       "Accuracy   0.7968   0.8091  \n",
       "ROC-AUC    0.8720   0.8921  "
      ]
     },
     "metadata": {},
     "output_type": "display_data"
    },
    {
     "name": "stdout",
     "output_type": "stream",
     "text": [
      "Refit to full training data and evaluate:\n",
      "\n",
      "|| Accuracy: 0.7798 || ROC-AUC: 0.8665 ||\n",
      "\n"
     ]
    },
    {
     "data": {
      "image/png": "[encoded data removed]",
      "text/plain": [
       "<Figure size 400x300 with 2 Axes>"
      ]
     },
     "metadata": {},
     "output_type": "display_data"
    },
    {
     "name": "stdout",
     "output_type": "stream",
     "text": [
      "\n",
      "(Time taken: 0.69 secs)\n",
      "\n",
      " ------------------------- Extended -------------------------\n",
      "Cross-validation:\n"
     ]
    },
    {
     "data": {
      "text/html": [
       "<div>\n",
       "<style scoped>\n",
       "    .dataframe tbody tr th:only-of-type {\n",
       "        vertical-align: middle;\n",
       "    }\n",
       "\n",
       "    .dataframe tbody tr th {\n",
       "        vertical-align: top;\n",
       "    }\n",
       "\n",
       "    .dataframe thead th {\n",
       "        text-align: right;\n",
       "    }\n",
       "</style>\n",
       "<table border=\"1\" class=\"dataframe\">\n",
       "  <thead>\n",
       "    <tr style=\"text-align: right;\">\n",
       "      <th></th>\n",
       "      <th>Fold #1</th>\n",
       "      <th>Fold #2</th>\n",
       "      <th>Fold #3</th>\n",
       "      <th>Fold #4</th>\n",
       "      <th>Fold #5</th>\n",
       "      <th>Fold #6</th>\n",
       "      <th>Fold #7</th>\n",
       "      <th>Fold #8</th>\n",
       "      <th>Fold #9</th>\n",
       "    </tr>\n",
       "  </thead>\n",
       "  <tbody>\n",
       "    <tr>\n",
       "      <th>Accuracy</th>\n",
       "      <td>0.9410</td>\n",
       "      <td>0.9299</td>\n",
       "      <td>0.9446</td>\n",
       "      <td>0.9409</td>\n",
       "      <td>0.9433</td>\n",
       "      <td>0.9384</td>\n",
       "      <td>0.9372</td>\n",
       "      <td>0.9569</td>\n",
       "      <td>0.9557</td>\n",
       "    </tr>\n",
       "    <tr>\n",
       "      <th>ROC-AUC</th>\n",
       "      <td>0.9557</td>\n",
       "      <td>0.9398</td>\n",
       "      <td>0.9466</td>\n",
       "      <td>0.9482</td>\n",
       "      <td>0.9546</td>\n",
       "      <td>0.9419</td>\n",
       "      <td>0.9527</td>\n",
       "      <td>0.9626</td>\n",
       "      <td>0.9644</td>\n",
       "    </tr>\n",
       "  </tbody>\n",
       "</table>\n",
       "</div>"
      ],
      "text/plain": [
       "          Fold #1  Fold #2  Fold #3  Fold #4  Fold #5  Fold #6  Fold #7  \\\n",
       "Accuracy   0.9410   0.9299   0.9446   0.9409   0.9433   0.9384   0.9372   \n",
       "ROC-AUC    0.9557   0.9398   0.9466   0.9482   0.9546   0.9419   0.9527   \n",
       "\n",
       "          Fold #8  Fold #9  \n",
       "Accuracy   0.9569   0.9557  \n",
       "ROC-AUC    0.9626   0.9644  "
      ]
     },
     "metadata": {},
     "output_type": "display_data"
    },
    {
     "name": "stdout",
     "output_type": "stream",
     "text": [
      "Refit to full training data and evaluate:\n",
      "\n",
      "|| Accuracy: 0.9483 || ROC-AUC: 0.9597 ||\n",
      "\n"
     ]
    },
    {
     "data": {
      "image/png": "[encoded data removed]",
      "text/plain": [
       "<Figure size 400x300 with 2 Axes>"
      ]
     },
     "metadata": {},
     "output_type": "display_data"
    },
    {
     "name": "stdout",
     "output_type": "stream",
     "text": [
      "\n",
      "(Time taken: 1.13 secs)\n",
      "\n",
      " ------------------------- Binary -------------------------\n",
      "Cross-validation:\n"
     ]
    },
    {
     "data": {
      "text/html": [
       "<div>\n",
       "<style scoped>\n",
       "    .dataframe tbody tr th:only-of-type {\n",
       "        vertical-align: middle;\n",
       "    }\n",
       "\n",
       "    .dataframe tbody tr th {\n",
       "        vertical-align: top;\n",
       "    }\n",
       "\n",
       "    .dataframe thead th {\n",
       "        text-align: right;\n",
       "    }\n",
       "</style>\n",
       "<table border=\"1\" class=\"dataframe\">\n",
       "  <thead>\n",
       "    <tr style=\"text-align: right;\">\n",
       "      <th></th>\n",
       "      <th>Fold #1</th>\n",
       "      <th>Fold #2</th>\n",
       "      <th>Fold #3</th>\n",
       "      <th>Fold #4</th>\n",
       "      <th>Fold #5</th>\n",
       "      <th>Fold #6</th>\n",
       "      <th>Fold #7</th>\n",
       "      <th>Fold #8</th>\n",
       "      <th>Fold #9</th>\n",
       "    </tr>\n",
       "  </thead>\n",
       "  <tbody>\n",
       "    <tr>\n",
       "      <th>Accuracy</th>\n",
       "      <td>0.9410</td>\n",
       "      <td>0.9299</td>\n",
       "      <td>0.9446</td>\n",
       "      <td>0.9409</td>\n",
       "      <td>0.9433</td>\n",
       "      <td>0.9384</td>\n",
       "      <td>0.9372</td>\n",
       "      <td>0.9569</td>\n",
       "      <td>0.9557</td>\n",
       "    </tr>\n",
       "    <tr>\n",
       "      <th>ROC-AUC</th>\n",
       "      <td>0.9461</td>\n",
       "      <td>0.9325</td>\n",
       "      <td>0.9377</td>\n",
       "      <td>0.9444</td>\n",
       "      <td>0.9531</td>\n",
       "      <td>0.9367</td>\n",
       "      <td>0.9447</td>\n",
       "      <td>0.9567</td>\n",
       "      <td>0.9545</td>\n",
       "    </tr>\n",
       "  </tbody>\n",
       "</table>\n",
       "</div>"
      ],
      "text/plain": [
       "          Fold #1  Fold #2  Fold #3  Fold #4  Fold #5  Fold #6  Fold #7  \\\n",
       "Accuracy   0.9410   0.9299   0.9446   0.9409   0.9433   0.9384   0.9372   \n",
       "ROC-AUC    0.9461   0.9325   0.9377   0.9444   0.9531   0.9367   0.9447   \n",
       "\n",
       "          Fold #8  Fold #9  \n",
       "Accuracy   0.9569   0.9557  \n",
       "ROC-AUC    0.9567   0.9545  "
      ]
     },
     "metadata": {},
     "output_type": "display_data"
    },
    {
     "name": "stdout",
     "output_type": "stream",
     "text": [
      "Refit to full training data and evaluate:\n",
      "\n",
      "|| Accuracy: 0.9483 || ROC-AUC: 0.9514 ||\n",
      "\n"
     ]
    },
    {
     "data": {
      "image/png": "[encoded data removed]",
      "text/plain": [
       "<Figure size 400x300 with 2 Axes>"
      ]
     },
     "metadata": {},
     "output_type": "display_data"
    },
    {
     "name": "stdout",
     "output_type": "stream",
     "text": [
      "\n",
      "(Time taken: 0.59 secs)\n",
      "\n",
      " ------------------------- Minimal -------------------------\n",
      "Cross-validation:\n"
     ]
    },
    {
     "data": {
      "text/html": [
       "<div>\n",
       "<style scoped>\n",
       "    .dataframe tbody tr th:only-of-type {\n",
       "        vertical-align: middle;\n",
       "    }\n",
       "\n",
       "    .dataframe tbody tr th {\n",
       "        vertical-align: top;\n",
       "    }\n",
       "\n",
       "    .dataframe thead th {\n",
       "        text-align: right;\n",
       "    }\n",
       "</style>\n",
       "<table border=\"1\" class=\"dataframe\">\n",
       "  <thead>\n",
       "    <tr style=\"text-align: right;\">\n",
       "      <th></th>\n",
       "      <th>Fold #1</th>\n",
       "      <th>Fold #2</th>\n",
       "      <th>Fold #3</th>\n",
       "      <th>Fold #4</th>\n",
       "      <th>Fold #5</th>\n",
       "      <th>Fold #6</th>\n",
       "      <th>Fold #7</th>\n",
       "      <th>Fold #8</th>\n",
       "      <th>Fold #9</th>\n",
       "    </tr>\n",
       "  </thead>\n",
       "  <tbody>\n",
       "    <tr>\n",
       "      <th>Accuracy</th>\n",
       "      <td>0.9410</td>\n",
       "      <td>0.9299</td>\n",
       "      <td>0.9446</td>\n",
       "      <td>0.9409</td>\n",
       "      <td>0.9433</td>\n",
       "      <td>0.9384</td>\n",
       "      <td>0.9372</td>\n",
       "      <td>0.9569</td>\n",
       "      <td>0.9557</td>\n",
       "    </tr>\n",
       "    <tr>\n",
       "      <th>ROC-AUC</th>\n",
       "      <td>0.9464</td>\n",
       "      <td>0.9295</td>\n",
       "      <td>0.9385</td>\n",
       "      <td>0.9448</td>\n",
       "      <td>0.9536</td>\n",
       "      <td>0.9377</td>\n",
       "      <td>0.9498</td>\n",
       "      <td>0.9562</td>\n",
       "      <td>0.9538</td>\n",
       "    </tr>\n",
       "  </tbody>\n",
       "</table>\n",
       "</div>"
      ],
      "text/plain": [
       "          Fold #1  Fold #2  Fold #3  Fold #4  Fold #5  Fold #6  Fold #7  \\\n",
       "Accuracy   0.9410   0.9299   0.9446   0.9409   0.9433   0.9384   0.9372   \n",
       "ROC-AUC    0.9464   0.9295   0.9385   0.9448   0.9536   0.9377   0.9498   \n",
       "\n",
       "          Fold #8  Fold #9  \n",
       "Accuracy   0.9569   0.9557  \n",
       "ROC-AUC    0.9562   0.9538  "
      ]
     },
     "metadata": {},
     "output_type": "display_data"
    },
    {
     "name": "stdout",
     "output_type": "stream",
     "text": [
      "Refit to full training data and evaluate:\n",
      "\n",
      "|| Accuracy: 0.9483 || ROC-AUC: 0.9517 ||\n",
      "\n"
     ]
    },
    {
     "data": {
      "image/png": "[encoded data removed]",
      "text/plain": [
       "<Figure size 400x300 with 2 Axes>"
      ]
     },
     "metadata": {},
     "output_type": "display_data"
    },
    {
     "name": "stdout",
     "output_type": "stream",
     "text": [
      "\n",
      "(Time taken: 0.42 secs)\n"
     ]
    }
   ],
   "source": [
    "run_experiment(model, 'lda')"
   ]
  },
  {
   "cell_type": "markdown",
   "id": "bba34097",
   "metadata": {
    "papermill": {
     "duration": 0.016586,
     "end_time": "2024-07-15T14:01:47.417001",
     "exception": false,
     "start_time": "2024-07-15T14:01:47.400415",
     "status": "completed"
    },
    "tags": []
   },
   "source": [
    "## Quadratic"
   ]
  },
  {
   "cell_type": "code",
   "execution_count": 15,
   "id": "be805295",
   "metadata": {
    "execution": {
     "iopub.execute_input": "2024-07-15T14:01:47.451935Z",
     "iopub.status.busy": "2024-07-15T14:01:47.450874Z",
     "iopub.status.idle": "2024-07-15T14:01:47.457701Z",
     "shell.execute_reply": "2024-07-15T14:01:47.456413Z"
    },
    "papermill": {
     "duration": 0.024246,
     "end_time": "2024-07-15T14:01:47.460147",
     "exception": false,
     "start_time": "2024-07-15T14:01:47.435901",
     "status": "completed"
    },
    "tags": []
   },
   "outputs": [],
   "source": [
    "model = make_pipeline(\n",
    "    StandardScaler(),\n",
    "    QuadraticDiscriminantAnalysis(reg_param=0.25, tol=1e-4)\n",
    ")"
   ]
  },
  {
   "cell_type": "code",
   "execution_count": 16,
   "id": "c637fc8d",
   "metadata": {
    "execution": {
     "iopub.execute_input": "2024-07-15T14:01:47.488472Z",
     "iopub.status.busy": "2024-07-15T14:01:47.487914Z",
     "iopub.status.idle": "2024-07-15T14:01:49.845749Z",
     "shell.execute_reply": "2024-07-15T14:01:49.844255Z"
    },
    "papermill": {
     "duration": 2.37528,
     "end_time": "2024-07-15T14:01:49.848220",
     "exception": false,
     "start_time": "2024-07-15T14:01:47.472940",
     "status": "completed"
    },
    "tags": []
   },
   "outputs": [
    {
     "name": "stdout",
     "output_type": "stream",
     "text": [
      "\n",
      " ------------------------- Original -------------------------\n",
      "Cross-validation:\n"
     ]
    },
    {
     "data": {
      "text/html": [
       "<div>\n",
       "<style scoped>\n",
       "    .dataframe tbody tr th:only-of-type {\n",
       "        vertical-align: middle;\n",
       "    }\n",
       "\n",
       "    .dataframe tbody tr th {\n",
       "        vertical-align: top;\n",
       "    }\n",
       "\n",
       "    .dataframe thead th {\n",
       "        text-align: right;\n",
       "    }\n",
       "</style>\n",
       "<table border=\"1\" class=\"dataframe\">\n",
       "  <thead>\n",
       "    <tr style=\"text-align: right;\">\n",
       "      <th></th>\n",
       "      <th>Fold #1</th>\n",
       "      <th>Fold #2</th>\n",
       "      <th>Fold #3</th>\n",
       "      <th>Fold #4</th>\n",
       "      <th>Fold #5</th>\n",
       "      <th>Fold #6</th>\n",
       "      <th>Fold #7</th>\n",
       "      <th>Fold #8</th>\n",
       "      <th>Fold #9</th>\n",
       "    </tr>\n",
       "  </thead>\n",
       "  <tbody>\n",
       "    <tr>\n",
       "      <th>Accuracy</th>\n",
       "      <td>0.8069</td>\n",
       "      <td>0.8020</td>\n",
       "      <td>0.8165</td>\n",
       "      <td>0.8276</td>\n",
       "      <td>0.8140</td>\n",
       "      <td>0.8067</td>\n",
       "      <td>0.8276</td>\n",
       "      <td>0.8165</td>\n",
       "      <td>0.8424</td>\n",
       "    </tr>\n",
       "    <tr>\n",
       "      <th>ROC-AUC</th>\n",
       "      <td>0.8803</td>\n",
       "      <td>0.8768</td>\n",
       "      <td>0.8882</td>\n",
       "      <td>0.8933</td>\n",
       "      <td>0.8775</td>\n",
       "      <td>0.8814</td>\n",
       "      <td>0.9029</td>\n",
       "      <td>0.8925</td>\n",
       "      <td>0.9123</td>\n",
       "    </tr>\n",
       "  </tbody>\n",
       "</table>\n",
       "</div>"
      ],
      "text/plain": [
       "          Fold #1  Fold #2  Fold #3  Fold #4  Fold #5  Fold #6  Fold #7  \\\n",
       "Accuracy   0.8069   0.8020   0.8165   0.8276   0.8140   0.8067   0.8276   \n",
       "ROC-AUC    0.8803   0.8768   0.8882   0.8933   0.8775   0.8814   0.9029   \n",
       "\n",
       "          Fold #8  Fold #9  \n",
       "Accuracy   0.8165   0.8424  \n",
       "ROC-AUC    0.8925   0.9123  "
      ]
     },
     "metadata": {},
     "output_type": "display_data"
    },
    {
     "name": "stdout",
     "output_type": "stream",
     "text": [
      "Refit to full training data and evaluate:\n",
      "\n",
      "|| Accuracy: 0.8093 || ROC-AUC: 0.8883 ||\n",
      "\n"
     ]
    },
    {
     "data": {
      "image/png": "[encoded data removed]",
      "text/plain": [
       "<Figure size 400x300 with 2 Axes>"
      ]
     },
     "metadata": {},
     "output_type": "display_data"
    },
    {
     "name": "stdout",
     "output_type": "stream",
     "text": [
      "\n",
      "(Time taken: 0.67 secs)\n",
      "\n",
      " ------------------------- Extended -------------------------\n",
      "Cross-validation:\n"
     ]
    },
    {
     "data": {
      "text/html": [
       "<div>\n",
       "<style scoped>\n",
       "    .dataframe tbody tr th:only-of-type {\n",
       "        vertical-align: middle;\n",
       "    }\n",
       "\n",
       "    .dataframe tbody tr th {\n",
       "        vertical-align: top;\n",
       "    }\n",
       "\n",
       "    .dataframe thead th {\n",
       "        text-align: right;\n",
       "    }\n",
       "</style>\n",
       "<table border=\"1\" class=\"dataframe\">\n",
       "  <thead>\n",
       "    <tr style=\"text-align: right;\">\n",
       "      <th></th>\n",
       "      <th>Fold #1</th>\n",
       "      <th>Fold #2</th>\n",
       "      <th>Fold #3</th>\n",
       "      <th>Fold #4</th>\n",
       "      <th>Fold #5</th>\n",
       "      <th>Fold #6</th>\n",
       "      <th>Fold #7</th>\n",
       "      <th>Fold #8</th>\n",
       "      <th>Fold #9</th>\n",
       "    </tr>\n",
       "  </thead>\n",
       "  <tbody>\n",
       "    <tr>\n",
       "      <th>Accuracy</th>\n",
       "      <td>0.9274</td>\n",
       "      <td>0.9188</td>\n",
       "      <td>0.9335</td>\n",
       "      <td>0.9261</td>\n",
       "      <td>0.9126</td>\n",
       "      <td>0.9249</td>\n",
       "      <td>0.9249</td>\n",
       "      <td>0.9409</td>\n",
       "      <td>0.9483</td>\n",
       "    </tr>\n",
       "    <tr>\n",
       "      <th>ROC-AUC</th>\n",
       "      <td>0.9476</td>\n",
       "      <td>0.9320</td>\n",
       "      <td>0.9460</td>\n",
       "      <td>0.9428</td>\n",
       "      <td>0.9428</td>\n",
       "      <td>0.9442</td>\n",
       "      <td>0.9433</td>\n",
       "      <td>0.9578</td>\n",
       "      <td>0.9697</td>\n",
       "    </tr>\n",
       "  </tbody>\n",
       "</table>\n",
       "</div>"
      ],
      "text/plain": [
       "          Fold #1  Fold #2  Fold #3  Fold #4  Fold #5  Fold #6  Fold #7  \\\n",
       "Accuracy   0.9274   0.9188   0.9335   0.9261   0.9126   0.9249   0.9249   \n",
       "ROC-AUC    0.9476   0.9320   0.9460   0.9428   0.9428   0.9442   0.9433   \n",
       "\n",
       "          Fold #8  Fold #9  \n",
       "Accuracy   0.9409   0.9483  \n",
       "ROC-AUC    0.9578   0.9697  "
      ]
     },
     "metadata": {},
     "output_type": "display_data"
    },
    {
     "name": "stdout",
     "output_type": "stream",
     "text": [
      "Refit to full training data and evaluate:\n",
      "\n",
      "|| Accuracy: 0.9348 || ROC-AUC: 0.9593 ||\n",
      "\n"
     ]
    },
    {
     "data": {
      "image/png": "[encoded data removed]",
      "text/plain": [
       "<Figure size 400x300 with 2 Axes>"
      ]
     },
     "metadata": {},
     "output_type": "display_data"
    },
    {
     "name": "stdout",
     "output_type": "stream",
     "text": [
      "\n",
      "(Time taken: 0.70 secs)\n",
      "\n",
      " ------------------------- Binary -------------------------\n",
      "Cross-validation:\n"
     ]
    },
    {
     "data": {
      "text/html": [
       "<div>\n",
       "<style scoped>\n",
       "    .dataframe tbody tr th:only-of-type {\n",
       "        vertical-align: middle;\n",
       "    }\n",
       "\n",
       "    .dataframe tbody tr th {\n",
       "        vertical-align: top;\n",
       "    }\n",
       "\n",
       "    .dataframe thead th {\n",
       "        text-align: right;\n",
       "    }\n",
       "</style>\n",
       "<table border=\"1\" class=\"dataframe\">\n",
       "  <thead>\n",
       "    <tr style=\"text-align: right;\">\n",
       "      <th></th>\n",
       "      <th>Fold #1</th>\n",
       "      <th>Fold #2</th>\n",
       "      <th>Fold #3</th>\n",
       "      <th>Fold #4</th>\n",
       "      <th>Fold #5</th>\n",
       "      <th>Fold #6</th>\n",
       "      <th>Fold #7</th>\n",
       "      <th>Fold #8</th>\n",
       "      <th>Fold #9</th>\n",
       "    </tr>\n",
       "  </thead>\n",
       "  <tbody>\n",
       "    <tr>\n",
       "      <th>Accuracy</th>\n",
       "      <td>0.9250</td>\n",
       "      <td>0.9139</td>\n",
       "      <td>0.9273</td>\n",
       "      <td>0.9224</td>\n",
       "      <td>0.9150</td>\n",
       "      <td>0.9200</td>\n",
       "      <td>0.9236</td>\n",
       "      <td>0.9372</td>\n",
       "      <td>0.9421</td>\n",
       "    </tr>\n",
       "    <tr>\n",
       "      <th>ROC-AUC</th>\n",
       "      <td>0.9453</td>\n",
       "      <td>0.9346</td>\n",
       "      <td>0.9443</td>\n",
       "      <td>0.9344</td>\n",
       "      <td>0.9458</td>\n",
       "      <td>0.9428</td>\n",
       "      <td>0.9366</td>\n",
       "      <td>0.9564</td>\n",
       "      <td>0.9661</td>\n",
       "    </tr>\n",
       "  </tbody>\n",
       "</table>\n",
       "</div>"
      ],
      "text/plain": [
       "          Fold #1  Fold #2  Fold #3  Fold #4  Fold #5  Fold #6  Fold #7  \\\n",
       "Accuracy   0.9250   0.9139   0.9273   0.9224   0.9150   0.9200   0.9236   \n",
       "ROC-AUC    0.9453   0.9346   0.9443   0.9344   0.9458   0.9428   0.9366   \n",
       "\n",
       "          Fold #8  Fold #9  \n",
       "Accuracy   0.9372   0.9421  \n",
       "ROC-AUC    0.9564   0.9661  "
      ]
     },
     "metadata": {},
     "output_type": "display_data"
    },
    {
     "name": "stdout",
     "output_type": "stream",
     "text": [
      "Refit to full training data and evaluate:\n",
      "\n",
      "|| Accuracy: 0.9287 || ROC-AUC: 0.9568 ||\n",
      "\n"
     ]
    },
    {
     "data": {
      "image/png": "[encoded data removed]",
      "text/plain": [
       "<Figure size 400x300 with 2 Axes>"
      ]
     },
     "metadata": {},
     "output_type": "display_data"
    },
    {
     "name": "stdout",
     "output_type": "stream",
     "text": [
      "\n",
      "(Time taken: 0.62 secs)\n",
      "\n",
      " ------------------------- Minimal -------------------------\n",
      "Cross-validation:\n"
     ]
    },
    {
     "data": {
      "text/html": [
       "<div>\n",
       "<style scoped>\n",
       "    .dataframe tbody tr th:only-of-type {\n",
       "        vertical-align: middle;\n",
       "    }\n",
       "\n",
       "    .dataframe tbody tr th {\n",
       "        vertical-align: top;\n",
       "    }\n",
       "\n",
       "    .dataframe thead th {\n",
       "        text-align: right;\n",
       "    }\n",
       "</style>\n",
       "<table border=\"1\" class=\"dataframe\">\n",
       "  <thead>\n",
       "    <tr style=\"text-align: right;\">\n",
       "      <th></th>\n",
       "      <th>Fold #1</th>\n",
       "      <th>Fold #2</th>\n",
       "      <th>Fold #3</th>\n",
       "      <th>Fold #4</th>\n",
       "      <th>Fold #5</th>\n",
       "      <th>Fold #6</th>\n",
       "      <th>Fold #7</th>\n",
       "      <th>Fold #8</th>\n",
       "      <th>Fold #9</th>\n",
       "    </tr>\n",
       "  </thead>\n",
       "  <tbody>\n",
       "    <tr>\n",
       "      <th>Accuracy</th>\n",
       "      <td>0.9250</td>\n",
       "      <td>0.9139</td>\n",
       "      <td>0.9273</td>\n",
       "      <td>0.9224</td>\n",
       "      <td>0.9150</td>\n",
       "      <td>0.9200</td>\n",
       "      <td>0.9236</td>\n",
       "      <td>0.9372</td>\n",
       "      <td>0.9421</td>\n",
       "    </tr>\n",
       "    <tr>\n",
       "      <th>ROC-AUC</th>\n",
       "      <td>0.9457</td>\n",
       "      <td>0.9315</td>\n",
       "      <td>0.9432</td>\n",
       "      <td>0.9337</td>\n",
       "      <td>0.9442</td>\n",
       "      <td>0.9438</td>\n",
       "      <td>0.9384</td>\n",
       "      <td>0.9561</td>\n",
       "      <td>0.9659</td>\n",
       "    </tr>\n",
       "  </tbody>\n",
       "</table>\n",
       "</div>"
      ],
      "text/plain": [
       "          Fold #1  Fold #2  Fold #3  Fold #4  Fold #5  Fold #6  Fold #7  \\\n",
       "Accuracy   0.9250   0.9139   0.9273   0.9224   0.9150   0.9200   0.9236   \n",
       "ROC-AUC    0.9457   0.9315   0.9432   0.9337   0.9442   0.9438   0.9384   \n",
       "\n",
       "          Fold #8  Fold #9  \n",
       "Accuracy   0.9372   0.9421  \n",
       "ROC-AUC    0.9561   0.9659  "
      ]
     },
     "metadata": {},
     "output_type": "display_data"
    },
    {
     "name": "stdout",
     "output_type": "stream",
     "text": [
      "Refit to full training data and evaluate:\n",
      "\n",
      "|| Accuracy: 0.9287 || ROC-AUC: 0.9561 ||\n",
      "\n"
     ]
    },
    {
     "data": {
      "image/png": "[encoded data removed]",
      "text/plain": [
       "<Figure size 400x300 with 2 Axes>"
      ]
     },
     "metadata": {},
     "output_type": "display_data"
    },
    {
     "name": "stdout",
     "output_type": "stream",
     "text": [
      "\n",
      "(Time taken: 0.36 secs)\n"
     ]
    }
   ],
   "source": [
    "run_experiment(model, 'qda')"
   ]
  },
  {
   "cell_type": "markdown",
   "id": "55ccaba6",
   "metadata": {
    "papermill": {
     "duration": 0.015924,
     "end_time": "2024-07-15T14:01:49.879476",
     "exception": false,
     "start_time": "2024-07-15T14:01:49.863552",
     "status": "completed"
    },
    "tags": []
   },
   "source": [
    "# Naive Bayes - BernoulliNB\n",
    "(Works only for binary features)"
   ]
  },
  {
   "cell_type": "code",
   "execution_count": 17,
   "id": "418a4924",
   "metadata": {
    "execution": {
     "iopub.execute_input": "2024-07-15T14:01:49.915421Z",
     "iopub.status.busy": "2024-07-15T14:01:49.915004Z",
     "iopub.status.idle": "2024-07-15T14:01:49.920455Z",
     "shell.execute_reply": "2024-07-15T14:01:49.919298Z"
    },
    "papermill": {
     "duration": 0.027649,
     "end_time": "2024-07-15T14:01:49.922920",
     "exception": false,
     "start_time": "2024-07-15T14:01:49.895271",
     "status": "completed"
    },
    "tags": []
   },
   "outputs": [],
   "source": [
    "bnb_model = BernoulliNB(alpha=0.5)"
   ]
  },
  {
   "cell_type": "code",
   "execution_count": 18,
   "id": "59da47b2",
   "metadata": {
    "execution": {
     "iopub.execute_input": "2024-07-15T14:01:49.956330Z",
     "iopub.status.busy": "2024-07-15T14:01:49.955078Z",
     "iopub.status.idle": "2024-07-15T14:01:50.358643Z",
     "shell.execute_reply": "2024-07-15T14:01:50.357251Z"
    },
    "papermill": {
     "duration": 0.422814,
     "end_time": "2024-07-15T14:01:50.361506",
     "exception": false,
     "start_time": "2024-07-15T14:01:49.938692",
     "status": "completed"
    },
    "tags": []
   },
   "outputs": [
    {
     "name": "stdout",
     "output_type": "stream",
     "text": [
      "------------------------- Binary -------------------------\n",
      "Cross-validation:\n"
     ]
    },
    {
     "data": {
      "text/html": [
       "<div>\n",
       "<style scoped>\n",
       "    .dataframe tbody tr th:only-of-type {\n",
       "        vertical-align: middle;\n",
       "    }\n",
       "\n",
       "    .dataframe tbody tr th {\n",
       "        vertical-align: top;\n",
       "    }\n",
       "\n",
       "    .dataframe thead th {\n",
       "        text-align: right;\n",
       "    }\n",
       "</style>\n",
       "<table border=\"1\" class=\"dataframe\">\n",
       "  <thead>\n",
       "    <tr style=\"text-align: right;\">\n",
       "      <th></th>\n",
       "      <th>Fold #1</th>\n",
       "      <th>Fold #2</th>\n",
       "      <th>Fold #3</th>\n",
       "      <th>Fold #4</th>\n",
       "      <th>Fold #5</th>\n",
       "      <th>Fold #6</th>\n",
       "      <th>Fold #7</th>\n",
       "      <th>Fold #8</th>\n",
       "      <th>Fold #9</th>\n",
       "    </tr>\n",
       "  </thead>\n",
       "  <tbody>\n",
       "    <tr>\n",
       "      <th>Accuracy</th>\n",
       "      <td>0.9410</td>\n",
       "      <td>0.9299</td>\n",
       "      <td>0.9446</td>\n",
       "      <td>0.9409</td>\n",
       "      <td>0.9433</td>\n",
       "      <td>0.9384</td>\n",
       "      <td>0.9372</td>\n",
       "      <td>0.9569</td>\n",
       "      <td>0.9557</td>\n",
       "    </tr>\n",
       "    <tr>\n",
       "      <th>ROC-AUC</th>\n",
       "      <td>0.9491</td>\n",
       "      <td>0.9340</td>\n",
       "      <td>0.9417</td>\n",
       "      <td>0.9437</td>\n",
       "      <td>0.9503</td>\n",
       "      <td>0.9366</td>\n",
       "      <td>0.9422</td>\n",
       "      <td>0.9564</td>\n",
       "      <td>0.9604</td>\n",
       "    </tr>\n",
       "  </tbody>\n",
       "</table>\n",
       "</div>"
      ],
      "text/plain": [
       "          Fold #1  Fold #2  Fold #3  Fold #4  Fold #5  Fold #6  Fold #7  \\\n",
       "Accuracy   0.9410   0.9299   0.9446   0.9409   0.9433   0.9384   0.9372   \n",
       "ROC-AUC    0.9491   0.9340   0.9417   0.9437   0.9503   0.9366   0.9422   \n",
       "\n",
       "          Fold #8  Fold #9  \n",
       "Accuracy   0.9569   0.9557  \n",
       "ROC-AUC    0.9564   0.9604  "
      ]
     },
     "metadata": {},
     "output_type": "display_data"
    },
    {
     "name": "stdout",
     "output_type": "stream",
     "text": [
      "Refit to full training data and evaluate:\n",
      "\n",
      "|| Accuracy: 0.9483 || ROC-AUC: 0.9582 ||\n",
      "\n"
     ]
    },
    {
     "data": {
      "image/png": "[encoded data removed]",
      "text/plain": [
       "<Figure size 400x300 with 2 Axes>"
      ]
     },
     "metadata": {},
     "output_type": "display_data"
    },
    {
     "name": "stdout",
     "output_type": "stream",
     "text": [
      "\n",
      "(Time taken: 0.39 secs)\n"
     ]
    }
   ],
   "source": [
    "print('-'*25, 'Binary', '-'*25)\n",
    "start_time = time.time()\n",
    "print('Cross-validation:')\n",
    "cross_validate(bnb_model, binary_features)\n",
    "print('Refit to full training data and evaluate:\\n')\n",
    "bnb_model = refit_full_and_evaluate(bnb_model, binary_features)\n",
    "end_time = time.time()\n",
    "print(f'\\n(Time taken: {end_time - start_time:.2f} secs)')\n",
    "\n",
    "save_model(bnb_model, 'bernoullinb_Binary')"
   ]
  },
  {
   "cell_type": "code",
   "execution_count": 19,
   "id": "15c844f1",
   "metadata": {
    "execution": {
     "iopub.execute_input": "2024-07-15T14:01:50.395314Z",
     "iopub.status.busy": "2024-07-15T14:01:50.394930Z",
     "iopub.status.idle": "2024-07-15T14:01:50.793673Z",
     "shell.execute_reply": "2024-07-15T14:01:50.792109Z"
    },
    "papermill": {
     "duration": 0.41894,
     "end_time": "2024-07-15T14:01:50.796398",
     "exception": false,
     "start_time": "2024-07-15T14:01:50.377458",
     "status": "completed"
    },
    "tags": []
   },
   "outputs": [
    {
     "name": "stdout",
     "output_type": "stream",
     "text": [
      "------------------------- Minimal -------------------------\n",
      "Cross-validation:\n"
     ]
    },
    {
     "data": {
      "text/html": [
       "<div>\n",
       "<style scoped>\n",
       "    .dataframe tbody tr th:only-of-type {\n",
       "        vertical-align: middle;\n",
       "    }\n",
       "\n",
       "    .dataframe tbody tr th {\n",
       "        vertical-align: top;\n",
       "    }\n",
       "\n",
       "    .dataframe thead th {\n",
       "        text-align: right;\n",
       "    }\n",
       "</style>\n",
       "<table border=\"1\" class=\"dataframe\">\n",
       "  <thead>\n",
       "    <tr style=\"text-align: right;\">\n",
       "      <th></th>\n",
       "      <th>Fold #1</th>\n",
       "      <th>Fold #2</th>\n",
       "      <th>Fold #3</th>\n",
       "      <th>Fold #4</th>\n",
       "      <th>Fold #5</th>\n",
       "      <th>Fold #6</th>\n",
       "      <th>Fold #7</th>\n",
       "      <th>Fold #8</th>\n",
       "      <th>Fold #9</th>\n",
       "    </tr>\n",
       "  </thead>\n",
       "  <tbody>\n",
       "    <tr>\n",
       "      <th>Accuracy</th>\n",
       "      <td>0.9410</td>\n",
       "      <td>0.9299</td>\n",
       "      <td>0.9446</td>\n",
       "      <td>0.9409</td>\n",
       "      <td>0.9433</td>\n",
       "      <td>0.9384</td>\n",
       "      <td>0.9372</td>\n",
       "      <td>0.9569</td>\n",
       "      <td>0.9557</td>\n",
       "    </tr>\n",
       "    <tr>\n",
       "      <th>ROC-AUC</th>\n",
       "      <td>0.9467</td>\n",
       "      <td>0.9321</td>\n",
       "      <td>0.9406</td>\n",
       "      <td>0.9436</td>\n",
       "      <td>0.9459</td>\n",
       "      <td>0.9365</td>\n",
       "      <td>0.9468</td>\n",
       "      <td>0.9568</td>\n",
       "      <td>0.9588</td>\n",
       "    </tr>\n",
       "  </tbody>\n",
       "</table>\n",
       "</div>"
      ],
      "text/plain": [
       "          Fold #1  Fold #2  Fold #3  Fold #4  Fold #5  Fold #6  Fold #7  \\\n",
       "Accuracy   0.9410   0.9299   0.9446   0.9409   0.9433   0.9384   0.9372   \n",
       "ROC-AUC    0.9467   0.9321   0.9406   0.9436   0.9459   0.9365   0.9468   \n",
       "\n",
       "          Fold #8  Fold #9  \n",
       "Accuracy   0.9569   0.9557  \n",
       "ROC-AUC    0.9568   0.9588  "
      ]
     },
     "metadata": {},
     "output_type": "display_data"
    },
    {
     "name": "stdout",
     "output_type": "stream",
     "text": [
      "Refit to full training data and evaluate:\n",
      "\n",
      "|| Accuracy: 0.9483 || ROC-AUC: 0.9546 ||\n",
      "\n"
     ]
    },
    {
     "data": {
      "image/png": "[encoded data removed]",
      "text/plain": [
       "<Figure size 400x300 with 2 Axes>"
      ]
     },
     "metadata": {},
     "output_type": "display_data"
    },
    {
     "name": "stdout",
     "output_type": "stream",
     "text": [
      "\n",
      "(Time taken: 0.39 secs)\n"
     ]
    }
   ],
   "source": [
    "print('-'*25, 'Minimal', '-'*25)\n",
    "start_time = time.time()\n",
    "print('Cross-validation:')\n",
    "cross_validate(bnb_model, minimal_features)\n",
    "print('Refit to full training data and evaluate:\\n')\n",
    "model = refit_full_and_evaluate(bnb_model, minimal_features)\n",
    "end_time = time.time()\n",
    "print(f'\\n(Time taken: {end_time - start_time:.2f} secs)')\n",
    "\n",
    "save_model(bnb_model, 'bernoullinb_Minimal')"
   ]
  },
  {
   "cell_type": "markdown",
   "id": "c1133232",
   "metadata": {
    "papermill": {
     "duration": 0.016672,
     "end_time": "2024-07-15T14:01:50.830875",
     "exception": false,
     "start_time": "2024-07-15T14:01:50.814203",
     "status": "completed"
    },
    "tags": []
   },
   "source": [
    "# K-Nearest Neighbors"
   ]
  },
  {
   "cell_type": "code",
   "execution_count": 20,
   "id": "2bc7bfe1",
   "metadata": {
    "execution": {
     "iopub.execute_input": "2024-07-15T14:01:50.927733Z",
     "iopub.status.busy": "2024-07-15T14:01:50.927291Z",
     "iopub.status.idle": "2024-07-15T14:01:50.933255Z",
     "shell.execute_reply": "2024-07-15T14:01:50.932073Z"
    },
    "papermill": {
     "duration": 0.088037,
     "end_time": "2024-07-15T14:01:50.935811",
     "exception": false,
     "start_time": "2024-07-15T14:01:50.847774",
     "status": "completed"
    },
    "tags": []
   },
   "outputs": [],
   "source": [
    "model = make_pipeline(\n",
    "    StandardScaler(),\n",
    "    KNeighborsClassifier(\n",
    "        n_neighbors=10, \n",
    "        weights='distance', \n",
    "        n_jobs=-1\n",
    "    )\n",
    ")"
   ]
  },
  {
   "cell_type": "code",
   "execution_count": 21,
   "id": "f63449d3",
   "metadata": {
    "execution": {
     "iopub.execute_input": "2024-07-15T14:01:50.971207Z",
     "iopub.status.busy": "2024-07-15T14:01:50.970819Z",
     "iopub.status.idle": "2024-07-15T14:01:56.102470Z",
     "shell.execute_reply": "2024-07-15T14:01:56.101106Z"
    },
    "papermill": {
     "duration": 5.152253,
     "end_time": "2024-07-15T14:01:56.105006",
     "exception": false,
     "start_time": "2024-07-15T14:01:50.952753",
     "status": "completed"
    },
    "tags": []
   },
   "outputs": [
    {
     "name": "stdout",
     "output_type": "stream",
     "text": [
      "\n",
      " ------------------------- Original -------------------------\n",
      "Cross-validation:\n"
     ]
    },
    {
     "data": {
      "text/html": [
       "<div>\n",
       "<style scoped>\n",
       "    .dataframe tbody tr th:only-of-type {\n",
       "        vertical-align: middle;\n",
       "    }\n",
       "\n",
       "    .dataframe tbody tr th {\n",
       "        vertical-align: top;\n",
       "    }\n",
       "\n",
       "    .dataframe thead th {\n",
       "        text-align: right;\n",
       "    }\n",
       "</style>\n",
       "<table border=\"1\" class=\"dataframe\">\n",
       "  <thead>\n",
       "    <tr style=\"text-align: right;\">\n",
       "      <th></th>\n",
       "      <th>Fold #1</th>\n",
       "      <th>Fold #2</th>\n",
       "      <th>Fold #3</th>\n",
       "      <th>Fold #4</th>\n",
       "      <th>Fold #5</th>\n",
       "      <th>Fold #6</th>\n",
       "      <th>Fold #7</th>\n",
       "      <th>Fold #8</th>\n",
       "      <th>Fold #9</th>\n",
       "    </tr>\n",
       "  </thead>\n",
       "  <tbody>\n",
       "    <tr>\n",
       "      <th>Accuracy</th>\n",
       "      <td>0.8561</td>\n",
       "      <td>0.8475</td>\n",
       "      <td>0.8707</td>\n",
       "      <td>0.8695</td>\n",
       "      <td>0.8448</td>\n",
       "      <td>0.8436</td>\n",
       "      <td>0.8670</td>\n",
       "      <td>0.8571</td>\n",
       "      <td>0.8793</td>\n",
       "    </tr>\n",
       "    <tr>\n",
       "      <th>ROC-AUC</th>\n",
       "      <td>0.9188</td>\n",
       "      <td>0.9117</td>\n",
       "      <td>0.9176</td>\n",
       "      <td>0.9200</td>\n",
       "      <td>0.9193</td>\n",
       "      <td>0.9080</td>\n",
       "      <td>0.9246</td>\n",
       "      <td>0.9231</td>\n",
       "      <td>0.9392</td>\n",
       "    </tr>\n",
       "  </tbody>\n",
       "</table>\n",
       "</div>"
      ],
      "text/plain": [
       "          Fold #1  Fold #2  Fold #3  Fold #4  Fold #5  Fold #6  Fold #7  \\\n",
       "Accuracy   0.8561   0.8475   0.8707   0.8695   0.8448   0.8436   0.8670   \n",
       "ROC-AUC    0.9188   0.9117   0.9176   0.9200   0.9193   0.9080   0.9246   \n",
       "\n",
       "          Fold #8  Fold #9  \n",
       "Accuracy   0.8571   0.8793  \n",
       "ROC-AUC    0.9231   0.9392  "
      ]
     },
     "metadata": {},
     "output_type": "display_data"
    },
    {
     "name": "stdout",
     "output_type": "stream",
     "text": [
      "Refit to full training data and evaluate:\n",
      "\n",
      "|| Accuracy: 0.8438 || ROC-AUC: 0.9146 ||\n",
      "\n"
     ]
    },
    {
     "data": {
      "image/png": "[encoded data removed]",
      "text/plain": [
       "<Figure size 400x300 with 2 Axes>"
      ]
     },
     "metadata": {},
     "output_type": "display_data"
    },
    {
     "name": "stdout",
     "output_type": "stream",
     "text": [
      "\n",
      "(Time taken: 1.52 secs)\n",
      "\n",
      " ------------------------- Extended -------------------------\n",
      "Cross-validation:\n"
     ]
    },
    {
     "data": {
      "text/html": [
       "<div>\n",
       "<style scoped>\n",
       "    .dataframe tbody tr th:only-of-type {\n",
       "        vertical-align: middle;\n",
       "    }\n",
       "\n",
       "    .dataframe tbody tr th {\n",
       "        vertical-align: top;\n",
       "    }\n",
       "\n",
       "    .dataframe thead th {\n",
       "        text-align: right;\n",
       "    }\n",
       "</style>\n",
       "<table border=\"1\" class=\"dataframe\">\n",
       "  <thead>\n",
       "    <tr style=\"text-align: right;\">\n",
       "      <th></th>\n",
       "      <th>Fold #1</th>\n",
       "      <th>Fold #2</th>\n",
       "      <th>Fold #3</th>\n",
       "      <th>Fold #4</th>\n",
       "      <th>Fold #5</th>\n",
       "      <th>Fold #6</th>\n",
       "      <th>Fold #7</th>\n",
       "      <th>Fold #8</th>\n",
       "      <th>Fold #9</th>\n",
       "    </tr>\n",
       "  </thead>\n",
       "  <tbody>\n",
       "    <tr>\n",
       "      <th>Accuracy</th>\n",
       "      <td>0.9422</td>\n",
       "      <td>0.9299</td>\n",
       "      <td>0.9446</td>\n",
       "      <td>0.9409</td>\n",
       "      <td>0.9433</td>\n",
       "      <td>0.9372</td>\n",
       "      <td>0.9360</td>\n",
       "      <td>0.9557</td>\n",
       "      <td>0.9557</td>\n",
       "    </tr>\n",
       "    <tr>\n",
       "      <th>ROC-AUC</th>\n",
       "      <td>0.9441</td>\n",
       "      <td>0.9380</td>\n",
       "      <td>0.9500</td>\n",
       "      <td>0.9467</td>\n",
       "      <td>0.9476</td>\n",
       "      <td>0.9339</td>\n",
       "      <td>0.9536</td>\n",
       "      <td>0.9605</td>\n",
       "      <td>0.9573</td>\n",
       "    </tr>\n",
       "  </tbody>\n",
       "</table>\n",
       "</div>"
      ],
      "text/plain": [
       "          Fold #1  Fold #2  Fold #3  Fold #4  Fold #5  Fold #6  Fold #7  \\\n",
       "Accuracy   0.9422   0.9299   0.9446   0.9409   0.9433   0.9372   0.9360   \n",
       "ROC-AUC    0.9441   0.9380   0.9500   0.9467   0.9476   0.9339   0.9536   \n",
       "\n",
       "          Fold #8  Fold #9  \n",
       "Accuracy   0.9557   0.9557  \n",
       "ROC-AUC    0.9605   0.9573  "
      ]
     },
     "metadata": {},
     "output_type": "display_data"
    },
    {
     "name": "stdout",
     "output_type": "stream",
     "text": [
      "Refit to full training data and evaluate:\n",
      "\n",
      "|| Accuracy: 0.9483 || ROC-AUC: 0.9462 ||\n",
      "\n"
     ]
    },
    {
     "data": {
      "image/png": "[encoded data removed]",
      "text/plain": [
       "<Figure size 400x300 with 2 Axes>"
      ]
     },
     "metadata": {},
     "output_type": "display_data"
    },
    {
     "name": "stdout",
     "output_type": "stream",
     "text": [
      "\n",
      "(Time taken: 0.81 secs)\n",
      "\n",
      " ------------------------- Binary -------------------------\n",
      "Cross-validation:\n"
     ]
    },
    {
     "data": {
      "text/html": [
       "<div>\n",
       "<style scoped>\n",
       "    .dataframe tbody tr th:only-of-type {\n",
       "        vertical-align: middle;\n",
       "    }\n",
       "\n",
       "    .dataframe tbody tr th {\n",
       "        vertical-align: top;\n",
       "    }\n",
       "\n",
       "    .dataframe thead th {\n",
       "        text-align: right;\n",
       "    }\n",
       "</style>\n",
       "<table border=\"1\" class=\"dataframe\">\n",
       "  <thead>\n",
       "    <tr style=\"text-align: right;\">\n",
       "      <th></th>\n",
       "      <th>Fold #1</th>\n",
       "      <th>Fold #2</th>\n",
       "      <th>Fold #3</th>\n",
       "      <th>Fold #4</th>\n",
       "      <th>Fold #5</th>\n",
       "      <th>Fold #6</th>\n",
       "      <th>Fold #7</th>\n",
       "      <th>Fold #8</th>\n",
       "      <th>Fold #9</th>\n",
       "    </tr>\n",
       "  </thead>\n",
       "  <tbody>\n",
       "    <tr>\n",
       "      <th>Accuracy</th>\n",
       "      <td>0.9397</td>\n",
       "      <td>0.9299</td>\n",
       "      <td>0.9446</td>\n",
       "      <td>0.9409</td>\n",
       "      <td>0.9433</td>\n",
       "      <td>0.9384</td>\n",
       "      <td>0.9372</td>\n",
       "      <td>0.9569</td>\n",
       "      <td>0.9557</td>\n",
       "    </tr>\n",
       "    <tr>\n",
       "      <th>ROC-AUC</th>\n",
       "      <td>0.9427</td>\n",
       "      <td>0.9329</td>\n",
       "      <td>0.9475</td>\n",
       "      <td>0.9438</td>\n",
       "      <td>0.9497</td>\n",
       "      <td>0.9309</td>\n",
       "      <td>0.9446</td>\n",
       "      <td>0.9599</td>\n",
       "      <td>0.9608</td>\n",
       "    </tr>\n",
       "  </tbody>\n",
       "</table>\n",
       "</div>"
      ],
      "text/plain": [
       "          Fold #1  Fold #2  Fold #3  Fold #4  Fold #5  Fold #6  Fold #7  \\\n",
       "Accuracy   0.9397   0.9299   0.9446   0.9409   0.9433   0.9384   0.9372   \n",
       "ROC-AUC    0.9427   0.9329   0.9475   0.9438   0.9497   0.9309   0.9446   \n",
       "\n",
       "          Fold #8  Fold #9  \n",
       "Accuracy   0.9569   0.9557  \n",
       "ROC-AUC    0.9599   0.9608  "
      ]
     },
     "metadata": {},
     "output_type": "display_data"
    },
    {
     "name": "stdout",
     "output_type": "stream",
     "text": [
      "Refit to full training data and evaluate:\n",
      "\n",
      "|| Accuracy: 0.9483 || ROC-AUC: 0.9452 ||\n",
      "\n"
     ]
    },
    {
     "data": {
      "image/png": "[encoded data removed]",
      "text/plain": [
       "<Figure size 400x300 with 2 Axes>"
      ]
     },
     "metadata": {},
     "output_type": "display_data"
    },
    {
     "name": "stdout",
     "output_type": "stream",
     "text": [
      "\n",
      "(Time taken: 1.63 secs)\n",
      "\n",
      " ------------------------- Minimal -------------------------\n",
      "Cross-validation:\n"
     ]
    },
    {
     "data": {
      "text/html": [
       "<div>\n",
       "<style scoped>\n",
       "    .dataframe tbody tr th:only-of-type {\n",
       "        vertical-align: middle;\n",
       "    }\n",
       "\n",
       "    .dataframe tbody tr th {\n",
       "        vertical-align: top;\n",
       "    }\n",
       "\n",
       "    .dataframe thead th {\n",
       "        text-align: right;\n",
       "    }\n",
       "</style>\n",
       "<table border=\"1\" class=\"dataframe\">\n",
       "  <thead>\n",
       "    <tr style=\"text-align: right;\">\n",
       "      <th></th>\n",
       "      <th>Fold #1</th>\n",
       "      <th>Fold #2</th>\n",
       "      <th>Fold #3</th>\n",
       "      <th>Fold #4</th>\n",
       "      <th>Fold #5</th>\n",
       "      <th>Fold #6</th>\n",
       "      <th>Fold #7</th>\n",
       "      <th>Fold #8</th>\n",
       "      <th>Fold #9</th>\n",
       "    </tr>\n",
       "  </thead>\n",
       "  <tbody>\n",
       "    <tr>\n",
       "      <th>Accuracy</th>\n",
       "      <td>0.9410</td>\n",
       "      <td>0.9299</td>\n",
       "      <td>0.9446</td>\n",
       "      <td>0.9409</td>\n",
       "      <td>0.9433</td>\n",
       "      <td>0.9384</td>\n",
       "      <td>0.9372</td>\n",
       "      <td>0.9569</td>\n",
       "      <td>0.9557</td>\n",
       "    </tr>\n",
       "    <tr>\n",
       "      <th>ROC-AUC</th>\n",
       "      <td>0.9471</td>\n",
       "      <td>0.9279</td>\n",
       "      <td>0.9456</td>\n",
       "      <td>0.9440</td>\n",
       "      <td>0.9434</td>\n",
       "      <td>0.9381</td>\n",
       "      <td>0.9460</td>\n",
       "      <td>0.9545</td>\n",
       "      <td>0.9546</td>\n",
       "    </tr>\n",
       "  </tbody>\n",
       "</table>\n",
       "</div>"
      ],
      "text/plain": [
       "          Fold #1  Fold #2  Fold #3  Fold #4  Fold #5  Fold #6  Fold #7  \\\n",
       "Accuracy   0.9410   0.9299   0.9446   0.9409   0.9433   0.9384   0.9372   \n",
       "ROC-AUC    0.9471   0.9279   0.9456   0.9440   0.9434   0.9381   0.9460   \n",
       "\n",
       "          Fold #8  Fold #9  \n",
       "Accuracy   0.9569   0.9557  \n",
       "ROC-AUC    0.9545   0.9546  "
      ]
     },
     "metadata": {},
     "output_type": "display_data"
    },
    {
     "name": "stdout",
     "output_type": "stream",
     "text": [
      "Refit to full training data and evaluate:\n",
      "\n",
      "|| Accuracy: 0.9483 || ROC-AUC: 0.9496 ||\n",
      "\n"
     ]
    },
    {
     "data": {
      "image/png": "[encoded data removed]",
      "text/plain": [
       "<Figure size 400x300 with 2 Axes>"
      ]
     },
     "metadata": {},
     "output_type": "display_data"
    },
    {
     "name": "stdout",
     "output_type": "stream",
     "text": [
      "\n",
      "(Time taken: 1.15 secs)\n"
     ]
    }
   ],
   "source": [
    "run_experiment(model, 'knn')"
   ]
  },
  {
   "cell_type": "markdown",
   "id": "fb6f22fe",
   "metadata": {
    "papermill": {
     "duration": 0.019558,
     "end_time": "2024-07-15T14:01:56.144640",
     "exception": false,
     "start_time": "2024-07-15T14:01:56.125082",
     "status": "completed"
    },
    "tags": []
   },
   "source": [
    "# Decision Tree"
   ]
  },
  {
   "cell_type": "code",
   "execution_count": 22,
   "id": "dd33d62d",
   "metadata": {
    "execution": {
     "iopub.execute_input": "2024-07-15T14:01:56.185777Z",
     "iopub.status.busy": "2024-07-15T14:01:56.185360Z",
     "iopub.status.idle": "2024-07-15T14:01:56.190835Z",
     "shell.execute_reply": "2024-07-15T14:01:56.189507Z"
    },
    "papermill": {
     "duration": 0.028808,
     "end_time": "2024-07-15T14:01:56.193188",
     "exception": false,
     "start_time": "2024-07-15T14:01:56.164380",
     "status": "completed"
    },
    "tags": []
   },
   "outputs": [],
   "source": [
    "model = DecisionTreeClassifier(\n",
    "    max_depth=6, \n",
    "    class_weight='balanced',\n",
    "    random_state=SEED\n",
    ")"
   ]
  },
  {
   "cell_type": "code",
   "execution_count": 23,
   "id": "090115f4",
   "metadata": {
    "execution": {
     "iopub.execute_input": "2024-07-15T14:01:56.234408Z",
     "iopub.status.busy": "2024-07-15T14:01:56.234007Z",
     "iopub.status.idle": "2024-07-15T14:01:58.336799Z",
     "shell.execute_reply": "2024-07-15T14:01:58.335265Z"
    },
    "papermill": {
     "duration": 2.126468,
     "end_time": "2024-07-15T14:01:58.339431",
     "exception": false,
     "start_time": "2024-07-15T14:01:56.212963",
     "status": "completed"
    },
    "tags": []
   },
   "outputs": [
    {
     "name": "stdout",
     "output_type": "stream",
     "text": [
      "\n",
      " ------------------------- Original -------------------------\n",
      "Cross-validation:\n"
     ]
    },
    {
     "data": {
      "text/html": [
       "<div>\n",
       "<style scoped>\n",
       "    .dataframe tbody tr th:only-of-type {\n",
       "        vertical-align: middle;\n",
       "    }\n",
       "\n",
       "    .dataframe tbody tr th {\n",
       "        vertical-align: top;\n",
       "    }\n",
       "\n",
       "    .dataframe thead th {\n",
       "        text-align: right;\n",
       "    }\n",
       "</style>\n",
       "<table border=\"1\" class=\"dataframe\">\n",
       "  <thead>\n",
       "    <tr style=\"text-align: right;\">\n",
       "      <th></th>\n",
       "      <th>Fold #1</th>\n",
       "      <th>Fold #2</th>\n",
       "      <th>Fold #3</th>\n",
       "      <th>Fold #4</th>\n",
       "      <th>Fold #5</th>\n",
       "      <th>Fold #6</th>\n",
       "      <th>Fold #7</th>\n",
       "      <th>Fold #8</th>\n",
       "      <th>Fold #9</th>\n",
       "    </tr>\n",
       "  </thead>\n",
       "  <tbody>\n",
       "    <tr>\n",
       "      <th>Accuracy</th>\n",
       "      <td>0.9545</td>\n",
       "      <td>0.9397</td>\n",
       "      <td>0.9495</td>\n",
       "      <td>0.9520</td>\n",
       "      <td>0.9569</td>\n",
       "      <td>0.9470</td>\n",
       "      <td>0.9507</td>\n",
       "      <td>0.9643</td>\n",
       "      <td>0.9704</td>\n",
       "    </tr>\n",
       "    <tr>\n",
       "      <th>ROC-AUC</th>\n",
       "      <td>0.9444</td>\n",
       "      <td>0.9388</td>\n",
       "      <td>0.9451</td>\n",
       "      <td>0.9562</td>\n",
       "      <td>0.9584</td>\n",
       "      <td>0.9413</td>\n",
       "      <td>0.9486</td>\n",
       "      <td>0.9621</td>\n",
       "      <td>0.9720</td>\n",
       "    </tr>\n",
       "  </tbody>\n",
       "</table>\n",
       "</div>"
      ],
      "text/plain": [
       "          Fold #1  Fold #2  Fold #3  Fold #4  Fold #5  Fold #6  Fold #7  \\\n",
       "Accuracy   0.9545   0.9397   0.9495   0.9520   0.9569   0.9470   0.9507   \n",
       "ROC-AUC    0.9444   0.9388   0.9451   0.9562   0.9584   0.9413   0.9486   \n",
       "\n",
       "          Fold #8  Fold #9  \n",
       "Accuracy   0.9643   0.9704  \n",
       "ROC-AUC    0.9621   0.9720  "
      ]
     },
     "metadata": {},
     "output_type": "display_data"
    },
    {
     "name": "stdout",
     "output_type": "stream",
     "text": [
      "Refit to full training data and evaluate:\n",
      "\n",
      "|| Accuracy: 0.9582 || ROC-AUC: 0.9641 ||\n",
      "\n"
     ]
    },
    {
     "data": {
      "image/png": "[encoded data removed]",
      "text/plain": [
       "<Figure size 400x300 with 2 Axes>"
      ]
     },
     "metadata": {},
     "output_type": "display_data"
    },
    {
     "name": "stdout",
     "output_type": "stream",
     "text": [
      "\n",
      "(Time taken: 0.62 secs)\n",
      "\n",
      " ------------------------- Extended -------------------------\n",
      "Cross-validation:\n"
     ]
    },
    {
     "data": {
      "text/html": [
       "<div>\n",
       "<style scoped>\n",
       "    .dataframe tbody tr th:only-of-type {\n",
       "        vertical-align: middle;\n",
       "    }\n",
       "\n",
       "    .dataframe tbody tr th {\n",
       "        vertical-align: top;\n",
       "    }\n",
       "\n",
       "    .dataframe thead th {\n",
       "        text-align: right;\n",
       "    }\n",
       "</style>\n",
       "<table border=\"1\" class=\"dataframe\">\n",
       "  <thead>\n",
       "    <tr style=\"text-align: right;\">\n",
       "      <th></th>\n",
       "      <th>Fold #1</th>\n",
       "      <th>Fold #2</th>\n",
       "      <th>Fold #3</th>\n",
       "      <th>Fold #4</th>\n",
       "      <th>Fold #5</th>\n",
       "      <th>Fold #6</th>\n",
       "      <th>Fold #7</th>\n",
       "      <th>Fold #8</th>\n",
       "      <th>Fold #9</th>\n",
       "    </tr>\n",
       "  </thead>\n",
       "  <tbody>\n",
       "    <tr>\n",
       "      <th>Accuracy</th>\n",
       "      <td>0.9545</td>\n",
       "      <td>0.941</td>\n",
       "      <td>0.9495</td>\n",
       "      <td>0.9520</td>\n",
       "      <td>0.9569</td>\n",
       "      <td>0.9483</td>\n",
       "      <td>0.9520</td>\n",
       "      <td>0.9643</td>\n",
       "      <td>0.9704</td>\n",
       "    </tr>\n",
       "    <tr>\n",
       "      <th>ROC-AUC</th>\n",
       "      <td>0.9444</td>\n",
       "      <td>0.941</td>\n",
       "      <td>0.9451</td>\n",
       "      <td>0.9562</td>\n",
       "      <td>0.9584</td>\n",
       "      <td>0.9420</td>\n",
       "      <td>0.9506</td>\n",
       "      <td>0.9621</td>\n",
       "      <td>0.9720</td>\n",
       "    </tr>\n",
       "  </tbody>\n",
       "</table>\n",
       "</div>"
      ],
      "text/plain": [
       "          Fold #1  Fold #2  Fold #3  Fold #4  Fold #5  Fold #6  Fold #7  \\\n",
       "Accuracy   0.9545    0.941   0.9495   0.9520   0.9569   0.9483   0.9520   \n",
       "ROC-AUC    0.9444    0.941   0.9451   0.9562   0.9584   0.9420   0.9506   \n",
       "\n",
       "          Fold #8  Fold #9  \n",
       "Accuracy   0.9643   0.9704  \n",
       "ROC-AUC    0.9621   0.9720  "
      ]
     },
     "metadata": {},
     "output_type": "display_data"
    },
    {
     "name": "stdout",
     "output_type": "stream",
     "text": [
      "Refit to full training data and evaluate:\n",
      "\n",
      "|| Accuracy: 0.9594 || ROC-AUC: 0.9660 ||\n",
      "\n"
     ]
    },
    {
     "data": {
      "image/png": "[encoded data removed]",
      "text/plain": [
       "<Figure size 400x300 with 2 Axes>"
      ]
     },
     "metadata": {},
     "output_type": "display_data"
    },
    {
     "name": "stdout",
     "output_type": "stream",
     "text": [
      "\n",
      "(Time taken: 0.65 secs)\n",
      "\n",
      " ------------------------- Binary -------------------------\n",
      "Cross-validation:\n"
     ]
    },
    {
     "data": {
      "text/html": [
       "<div>\n",
       "<style scoped>\n",
       "    .dataframe tbody tr th:only-of-type {\n",
       "        vertical-align: middle;\n",
       "    }\n",
       "\n",
       "    .dataframe tbody tr th {\n",
       "        vertical-align: top;\n",
       "    }\n",
       "\n",
       "    .dataframe thead th {\n",
       "        text-align: right;\n",
       "    }\n",
       "</style>\n",
       "<table border=\"1\" class=\"dataframe\">\n",
       "  <thead>\n",
       "    <tr style=\"text-align: right;\">\n",
       "      <th></th>\n",
       "      <th>Fold #1</th>\n",
       "      <th>Fold #2</th>\n",
       "      <th>Fold #3</th>\n",
       "      <th>Fold #4</th>\n",
       "      <th>Fold #5</th>\n",
       "      <th>Fold #6</th>\n",
       "      <th>Fold #7</th>\n",
       "      <th>Fold #8</th>\n",
       "      <th>Fold #9</th>\n",
       "    </tr>\n",
       "  </thead>\n",
       "  <tbody>\n",
       "    <tr>\n",
       "      <th>Accuracy</th>\n",
       "      <td>0.9410</td>\n",
       "      <td>0.9299</td>\n",
       "      <td>0.9446</td>\n",
       "      <td>0.9409</td>\n",
       "      <td>0.9433</td>\n",
       "      <td>0.9384</td>\n",
       "      <td>0.9372</td>\n",
       "      <td>0.9569</td>\n",
       "      <td>0.9557</td>\n",
       "    </tr>\n",
       "    <tr>\n",
       "      <th>ROC-AUC</th>\n",
       "      <td>0.9454</td>\n",
       "      <td>0.9327</td>\n",
       "      <td>0.9496</td>\n",
       "      <td>0.9436</td>\n",
       "      <td>0.9456</td>\n",
       "      <td>0.9370</td>\n",
       "      <td>0.9440</td>\n",
       "      <td>0.9608</td>\n",
       "      <td>0.9583</td>\n",
       "    </tr>\n",
       "  </tbody>\n",
       "</table>\n",
       "</div>"
      ],
      "text/plain": [
       "          Fold #1  Fold #2  Fold #3  Fold #4  Fold #5  Fold #6  Fold #7  \\\n",
       "Accuracy   0.9410   0.9299   0.9446   0.9409   0.9433   0.9384   0.9372   \n",
       "ROC-AUC    0.9454   0.9327   0.9496   0.9436   0.9456   0.9370   0.9440   \n",
       "\n",
       "          Fold #8  Fold #9  \n",
       "Accuracy   0.9569   0.9557  \n",
       "ROC-AUC    0.9608   0.9583  "
      ]
     },
     "metadata": {},
     "output_type": "display_data"
    },
    {
     "name": "stdout",
     "output_type": "stream",
     "text": [
      "Refit to full training data and evaluate:\n",
      "\n",
      "|| Accuracy: 0.9483 || ROC-AUC: 0.9503 ||\n",
      "\n"
     ]
    },
    {
     "data": {
      "image/png": "[encoded data removed]",
      "text/plain": [
       "<Figure size 400x300 with 2 Axes>"
      ]
     },
     "metadata": {},
     "output_type": "display_data"
    },
    {
     "name": "stdout",
     "output_type": "stream",
     "text": [
      "\n",
      "(Time taken: 0.44 secs)\n",
      "\n",
      " ------------------------- Minimal -------------------------\n",
      "Cross-validation:\n"
     ]
    },
    {
     "data": {
      "text/html": [
       "<div>\n",
       "<style scoped>\n",
       "    .dataframe tbody tr th:only-of-type {\n",
       "        vertical-align: middle;\n",
       "    }\n",
       "\n",
       "    .dataframe tbody tr th {\n",
       "        vertical-align: top;\n",
       "    }\n",
       "\n",
       "    .dataframe thead th {\n",
       "        text-align: right;\n",
       "    }\n",
       "</style>\n",
       "<table border=\"1\" class=\"dataframe\">\n",
       "  <thead>\n",
       "    <tr style=\"text-align: right;\">\n",
       "      <th></th>\n",
       "      <th>Fold #1</th>\n",
       "      <th>Fold #2</th>\n",
       "      <th>Fold #3</th>\n",
       "      <th>Fold #4</th>\n",
       "      <th>Fold #5</th>\n",
       "      <th>Fold #6</th>\n",
       "      <th>Fold #7</th>\n",
       "      <th>Fold #8</th>\n",
       "      <th>Fold #9</th>\n",
       "    </tr>\n",
       "  </thead>\n",
       "  <tbody>\n",
       "    <tr>\n",
       "      <th>Accuracy</th>\n",
       "      <td>0.9410</td>\n",
       "      <td>0.9299</td>\n",
       "      <td>0.9446</td>\n",
       "      <td>0.9409</td>\n",
       "      <td>0.9433</td>\n",
       "      <td>0.9384</td>\n",
       "      <td>0.9372</td>\n",
       "      <td>0.9569</td>\n",
       "      <td>0.9557</td>\n",
       "    </tr>\n",
       "    <tr>\n",
       "      <th>ROC-AUC</th>\n",
       "      <td>0.9507</td>\n",
       "      <td>0.9308</td>\n",
       "      <td>0.9470</td>\n",
       "      <td>0.9465</td>\n",
       "      <td>0.9430</td>\n",
       "      <td>0.9418</td>\n",
       "      <td>0.9546</td>\n",
       "      <td>0.9592</td>\n",
       "      <td>0.9624</td>\n",
       "    </tr>\n",
       "  </tbody>\n",
       "</table>\n",
       "</div>"
      ],
      "text/plain": [
       "          Fold #1  Fold #2  Fold #3  Fold #4  Fold #5  Fold #6  Fold #7  \\\n",
       "Accuracy   0.9410   0.9299   0.9446   0.9409   0.9433   0.9384   0.9372   \n",
       "ROC-AUC    0.9507   0.9308   0.9470   0.9465   0.9430   0.9418   0.9546   \n",
       "\n",
       "          Fold #8  Fold #9  \n",
       "Accuracy   0.9569   0.9557  \n",
       "ROC-AUC    0.9592   0.9624  "
      ]
     },
     "metadata": {},
     "output_type": "display_data"
    },
    {
     "name": "stdout",
     "output_type": "stream",
     "text": [
      "Refit to full training data and evaluate:\n",
      "\n",
      "|| Accuracy: 0.9483 || ROC-AUC: 0.9527 ||\n",
      "\n"
     ]
    },
    {
     "data": {
      "image/png": "[encoded data removed]",
      "text/plain": [
       "<Figure size 400x300 with 2 Axes>"
      ]
     },
     "metadata": {},
     "output_type": "display_data"
    },
    {
     "name": "stdout",
     "output_type": "stream",
     "text": [
      "\n",
      "(Time taken: 0.38 secs)\n"
     ]
    }
   ],
   "source": [
    "run_experiment(model, 'dtree')"
   ]
  },
  {
   "cell_type": "markdown",
   "id": "6ae4e3c2",
   "metadata": {
    "papermill": {
     "duration": 0.022709,
     "end_time": "2024-07-15T14:01:58.385412",
     "exception": false,
     "start_time": "2024-07-15T14:01:58.362703",
     "status": "completed"
    },
    "tags": []
   },
   "source": [
    "# Random Forest"
   ]
  },
  {
   "cell_type": "code",
   "execution_count": 24,
   "id": "c083294c",
   "metadata": {
    "execution": {
     "iopub.execute_input": "2024-07-15T14:01:58.433355Z",
     "iopub.status.busy": "2024-07-15T14:01:58.432956Z",
     "iopub.status.idle": "2024-07-15T14:01:58.438924Z",
     "shell.execute_reply": "2024-07-15T14:01:58.437583Z"
    },
    "papermill": {
     "duration": 0.033119,
     "end_time": "2024-07-15T14:01:58.441624",
     "exception": false,
     "start_time": "2024-07-15T14:01:58.408505",
     "status": "completed"
    },
    "tags": []
   },
   "outputs": [],
   "source": [
    "model = RandomForestClassifier(\n",
    "    n_estimators=150, \n",
    "    max_depth=6, \n",
    "    class_weight='balanced',\n",
    "    random_state=SEED,\n",
    "    n_jobs=1\n",
    ")"
   ]
  },
  {
   "cell_type": "code",
   "execution_count": 25,
   "id": "a46e134a",
   "metadata": {
    "execution": {
     "iopub.execute_input": "2024-07-15T14:01:58.490468Z",
     "iopub.status.busy": "2024-07-15T14:01:58.490067Z",
     "iopub.status.idle": "2024-07-15T14:02:33.256961Z",
     "shell.execute_reply": "2024-07-15T14:02:33.255285Z"
    },
    "papermill": {
     "duration": 34.794555,
     "end_time": "2024-07-15T14:02:33.259554",
     "exception": false,
     "start_time": "2024-07-15T14:01:58.464999",
     "status": "completed"
    },
    "tags": []
   },
   "outputs": [
    {
     "name": "stdout",
     "output_type": "stream",
     "text": [
      "\n",
      " ------------------------- Original -------------------------\n",
      "Cross-validation:\n"
     ]
    },
    {
     "data": {
      "text/html": [
       "<div>\n",
       "<style scoped>\n",
       "    .dataframe tbody tr th:only-of-type {\n",
       "        vertical-align: middle;\n",
       "    }\n",
       "\n",
       "    .dataframe tbody tr th {\n",
       "        vertical-align: top;\n",
       "    }\n",
       "\n",
       "    .dataframe thead th {\n",
       "        text-align: right;\n",
       "    }\n",
       "</style>\n",
       "<table border=\"1\" class=\"dataframe\">\n",
       "  <thead>\n",
       "    <tr style=\"text-align: right;\">\n",
       "      <th></th>\n",
       "      <th>Fold #1</th>\n",
       "      <th>Fold #2</th>\n",
       "      <th>Fold #3</th>\n",
       "      <th>Fold #4</th>\n",
       "      <th>Fold #5</th>\n",
       "      <th>Fold #6</th>\n",
       "      <th>Fold #7</th>\n",
       "      <th>Fold #8</th>\n",
       "      <th>Fold #9</th>\n",
       "    </tr>\n",
       "  </thead>\n",
       "  <tbody>\n",
       "    <tr>\n",
       "      <th>Accuracy</th>\n",
       "      <td>0.9569</td>\n",
       "      <td>0.9422</td>\n",
       "      <td>0.9557</td>\n",
       "      <td>0.9557</td>\n",
       "      <td>0.9544</td>\n",
       "      <td>0.9483</td>\n",
       "      <td>0.9594</td>\n",
       "      <td>0.9643</td>\n",
       "      <td>0.9704</td>\n",
       "    </tr>\n",
       "    <tr>\n",
       "      <th>ROC-AUC</th>\n",
       "      <td>0.9588</td>\n",
       "      <td>0.9364</td>\n",
       "      <td>0.9465</td>\n",
       "      <td>0.9444</td>\n",
       "      <td>0.9566</td>\n",
       "      <td>0.9470</td>\n",
       "      <td>0.9593</td>\n",
       "      <td>0.9643</td>\n",
       "      <td>0.9681</td>\n",
       "    </tr>\n",
       "  </tbody>\n",
       "</table>\n",
       "</div>"
      ],
      "text/plain": [
       "          Fold #1  Fold #2  Fold #3  Fold #4  Fold #5  Fold #6  Fold #7  \\\n",
       "Accuracy   0.9569   0.9422   0.9557   0.9557   0.9544   0.9483   0.9594   \n",
       "ROC-AUC    0.9588   0.9364   0.9465   0.9444   0.9566   0.9470   0.9593   \n",
       "\n",
       "          Fold #8  Fold #9  \n",
       "Accuracy   0.9643   0.9704  \n",
       "ROC-AUC    0.9643   0.9681  "
      ]
     },
     "metadata": {},
     "output_type": "display_data"
    },
    {
     "name": "stdout",
     "output_type": "stream",
     "text": [
      "Refit to full training data and evaluate:\n",
      "\n",
      "|| Accuracy: 0.9643 || ROC-AUC: 0.9612 ||\n",
      "\n"
     ]
    },
    {
     "data": {
      "image/png": "[encoded data removed]",
      "text/plain": [
       "<Figure size 400x300 with 2 Axes>"
      ]
     },
     "metadata": {},
     "output_type": "display_data"
    },
    {
     "name": "stdout",
     "output_type": "stream",
     "text": [
      "\n",
      "(Time taken: 11.21 secs)\n",
      "\n",
      " ------------------------- Extended -------------------------\n",
      "Cross-validation:\n"
     ]
    },
    {
     "data": {
      "text/html": [
       "<div>\n",
       "<style scoped>\n",
       "    .dataframe tbody tr th:only-of-type {\n",
       "        vertical-align: middle;\n",
       "    }\n",
       "\n",
       "    .dataframe tbody tr th {\n",
       "        vertical-align: top;\n",
       "    }\n",
       "\n",
       "    .dataframe thead th {\n",
       "        text-align: right;\n",
       "    }\n",
       "</style>\n",
       "<table border=\"1\" class=\"dataframe\">\n",
       "  <thead>\n",
       "    <tr style=\"text-align: right;\">\n",
       "      <th></th>\n",
       "      <th>Fold #1</th>\n",
       "      <th>Fold #2</th>\n",
       "      <th>Fold #3</th>\n",
       "      <th>Fold #4</th>\n",
       "      <th>Fold #5</th>\n",
       "      <th>Fold #6</th>\n",
       "      <th>Fold #7</th>\n",
       "      <th>Fold #8</th>\n",
       "      <th>Fold #9</th>\n",
       "    </tr>\n",
       "  </thead>\n",
       "  <tbody>\n",
       "    <tr>\n",
       "      <th>Accuracy</th>\n",
       "      <td>0.9582</td>\n",
       "      <td>0.9446</td>\n",
       "      <td>0.9581</td>\n",
       "      <td>0.9557</td>\n",
       "      <td>0.9557</td>\n",
       "      <td>0.9495</td>\n",
       "      <td>0.9594</td>\n",
       "      <td>0.9655</td>\n",
       "      <td>0.9717</td>\n",
       "    </tr>\n",
       "    <tr>\n",
       "      <th>ROC-AUC</th>\n",
       "      <td>0.9576</td>\n",
       "      <td>0.9398</td>\n",
       "      <td>0.9450</td>\n",
       "      <td>0.9484</td>\n",
       "      <td>0.9578</td>\n",
       "      <td>0.9470</td>\n",
       "      <td>0.9637</td>\n",
       "      <td>0.9633</td>\n",
       "      <td>0.9689</td>\n",
       "    </tr>\n",
       "  </tbody>\n",
       "</table>\n",
       "</div>"
      ],
      "text/plain": [
       "          Fold #1  Fold #2  Fold #3  Fold #4  Fold #5  Fold #6  Fold #7  \\\n",
       "Accuracy   0.9582   0.9446   0.9581   0.9557   0.9557   0.9495   0.9594   \n",
       "ROC-AUC    0.9576   0.9398   0.9450   0.9484   0.9578   0.9470   0.9637   \n",
       "\n",
       "          Fold #8  Fold #9  \n",
       "Accuracy   0.9655   0.9717  \n",
       "ROC-AUC    0.9633   0.9689  "
      ]
     },
     "metadata": {},
     "output_type": "display_data"
    },
    {
     "name": "stdout",
     "output_type": "stream",
     "text": [
      "Refit to full training data and evaluate:\n",
      "\n",
      "|| Accuracy: 0.9631 || ROC-AUC: 0.9610 ||\n",
      "\n"
     ]
    },
    {
     "data": {
      "image/png": "[encoded data removed]",
      "text/plain": [
       "<Figure size 400x300 with 2 Axes>"
      ]
     },
     "metadata": {},
     "output_type": "display_data"
    },
    {
     "name": "stdout",
     "output_type": "stream",
     "text": [
      "\n",
      "(Time taken: 11.12 secs)\n",
      "\n",
      " ------------------------- Binary -------------------------\n",
      "Cross-validation:\n"
     ]
    },
    {
     "data": {
      "text/html": [
       "<div>\n",
       "<style scoped>\n",
       "    .dataframe tbody tr th:only-of-type {\n",
       "        vertical-align: middle;\n",
       "    }\n",
       "\n",
       "    .dataframe tbody tr th {\n",
       "        vertical-align: top;\n",
       "    }\n",
       "\n",
       "    .dataframe thead th {\n",
       "        text-align: right;\n",
       "    }\n",
       "</style>\n",
       "<table border=\"1\" class=\"dataframe\">\n",
       "  <thead>\n",
       "    <tr style=\"text-align: right;\">\n",
       "      <th></th>\n",
       "      <th>Fold #1</th>\n",
       "      <th>Fold #2</th>\n",
       "      <th>Fold #3</th>\n",
       "      <th>Fold #4</th>\n",
       "      <th>Fold #5</th>\n",
       "      <th>Fold #6</th>\n",
       "      <th>Fold #7</th>\n",
       "      <th>Fold #8</th>\n",
       "      <th>Fold #9</th>\n",
       "    </tr>\n",
       "  </thead>\n",
       "  <tbody>\n",
       "    <tr>\n",
       "      <th>Accuracy</th>\n",
       "      <td>0.9410</td>\n",
       "      <td>0.9299</td>\n",
       "      <td>0.9446</td>\n",
       "      <td>0.9409</td>\n",
       "      <td>0.9433</td>\n",
       "      <td>0.9384</td>\n",
       "      <td>0.9372</td>\n",
       "      <td>0.9569</td>\n",
       "      <td>0.9557</td>\n",
       "    </tr>\n",
       "    <tr>\n",
       "      <th>ROC-AUC</th>\n",
       "      <td>0.9475</td>\n",
       "      <td>0.9299</td>\n",
       "      <td>0.9381</td>\n",
       "      <td>0.9350</td>\n",
       "      <td>0.9515</td>\n",
       "      <td>0.9404</td>\n",
       "      <td>0.9376</td>\n",
       "      <td>0.9618</td>\n",
       "      <td>0.9613</td>\n",
       "    </tr>\n",
       "  </tbody>\n",
       "</table>\n",
       "</div>"
      ],
      "text/plain": [
       "          Fold #1  Fold #2  Fold #3  Fold #4  Fold #5  Fold #6  Fold #7  \\\n",
       "Accuracy   0.9410   0.9299   0.9446   0.9409   0.9433   0.9384   0.9372   \n",
       "ROC-AUC    0.9475   0.9299   0.9381   0.9350   0.9515   0.9404   0.9376   \n",
       "\n",
       "          Fold #8  Fold #9  \n",
       "Accuracy   0.9569   0.9557  \n",
       "ROC-AUC    0.9618   0.9613  "
      ]
     },
     "metadata": {},
     "output_type": "display_data"
    },
    {
     "name": "stdout",
     "output_type": "stream",
     "text": [
      "Refit to full training data and evaluate:\n",
      "\n",
      "|| Accuracy: 0.9483 || ROC-AUC: 0.9513 ||\n",
      "\n"
     ]
    },
    {
     "data": {
      "image/png": "[encoded data removed]",
      "text/plain": [
       "<Figure size 400x300 with 2 Axes>"
      ]
     },
     "metadata": {},
     "output_type": "display_data"
    },
    {
     "name": "stdout",
     "output_type": "stream",
     "text": [
      "\n",
      "(Time taken: 6.42 secs)\n",
      "\n",
      " ------------------------- Minimal -------------------------\n",
      "Cross-validation:\n"
     ]
    },
    {
     "data": {
      "text/html": [
       "<div>\n",
       "<style scoped>\n",
       "    .dataframe tbody tr th:only-of-type {\n",
       "        vertical-align: middle;\n",
       "    }\n",
       "\n",
       "    .dataframe tbody tr th {\n",
       "        vertical-align: top;\n",
       "    }\n",
       "\n",
       "    .dataframe thead th {\n",
       "        text-align: right;\n",
       "    }\n",
       "</style>\n",
       "<table border=\"1\" class=\"dataframe\">\n",
       "  <thead>\n",
       "    <tr style=\"text-align: right;\">\n",
       "      <th></th>\n",
       "      <th>Fold #1</th>\n",
       "      <th>Fold #2</th>\n",
       "      <th>Fold #3</th>\n",
       "      <th>Fold #4</th>\n",
       "      <th>Fold #5</th>\n",
       "      <th>Fold #6</th>\n",
       "      <th>Fold #7</th>\n",
       "      <th>Fold #8</th>\n",
       "      <th>Fold #9</th>\n",
       "    </tr>\n",
       "  </thead>\n",
       "  <tbody>\n",
       "    <tr>\n",
       "      <th>Accuracy</th>\n",
       "      <td>0.9410</td>\n",
       "      <td>0.9299</td>\n",
       "      <td>0.9446</td>\n",
       "      <td>0.9409</td>\n",
       "      <td>0.9433</td>\n",
       "      <td>0.9384</td>\n",
       "      <td>0.9372</td>\n",
       "      <td>0.9569</td>\n",
       "      <td>0.9557</td>\n",
       "    </tr>\n",
       "    <tr>\n",
       "      <th>ROC-AUC</th>\n",
       "      <td>0.9511</td>\n",
       "      <td>0.9307</td>\n",
       "      <td>0.9476</td>\n",
       "      <td>0.9467</td>\n",
       "      <td>0.9446</td>\n",
       "      <td>0.9420</td>\n",
       "      <td>0.9543</td>\n",
       "      <td>0.9593</td>\n",
       "      <td>0.9627</td>\n",
       "    </tr>\n",
       "  </tbody>\n",
       "</table>\n",
       "</div>"
      ],
      "text/plain": [
       "          Fold #1  Fold #2  Fold #3  Fold #4  Fold #5  Fold #6  Fold #7  \\\n",
       "Accuracy   0.9410   0.9299   0.9446   0.9409   0.9433   0.9384   0.9372   \n",
       "ROC-AUC    0.9511   0.9307   0.9476   0.9467   0.9446   0.9420   0.9543   \n",
       "\n",
       "          Fold #8  Fold #9  \n",
       "Accuracy   0.9569   0.9557  \n",
       "ROC-AUC    0.9593   0.9627  "
      ]
     },
     "metadata": {},
     "output_type": "display_data"
    },
    {
     "name": "stdout",
     "output_type": "stream",
     "text": [
      "Refit to full training data and evaluate:\n",
      "\n",
      "|| Accuracy: 0.9483 || ROC-AUC: 0.9531 ||\n",
      "\n"
     ]
    },
    {
     "data": {
      "image/png": "[encoded data removed]",
      "text/plain": [
       "<Figure size 400x300 with 2 Axes>"
      ]
     },
     "metadata": {},
     "output_type": "display_data"
    },
    {
     "name": "stdout",
     "output_type": "stream",
     "text": [
      "\n",
      "(Time taken: 5.68 secs)\n"
     ]
    }
   ],
   "source": [
    "run_experiment(model, 'rforest')"
   ]
  },
  {
   "cell_type": "markdown",
   "id": "d86c57ef",
   "metadata": {
    "papermill": {
     "duration": 0.02492,
     "end_time": "2024-07-15T14:02:33.309425",
     "exception": false,
     "start_time": "2024-07-15T14:02:33.284505",
     "status": "completed"
    },
    "tags": []
   },
   "source": [
    "# AdaBoost"
   ]
  },
  {
   "cell_type": "code",
   "execution_count": 26,
   "id": "0e8f988d",
   "metadata": {
    "execution": {
     "iopub.execute_input": "2024-07-15T14:02:33.362721Z",
     "iopub.status.busy": "2024-07-15T14:02:33.362267Z",
     "iopub.status.idle": "2024-07-15T14:02:33.368648Z",
     "shell.execute_reply": "2024-07-15T14:02:33.367422Z"
    },
    "papermill": {
     "duration": 0.036227,
     "end_time": "2024-07-15T14:02:33.370911",
     "exception": false,
     "start_time": "2024-07-15T14:02:33.334684",
     "status": "completed"
    },
    "tags": []
   },
   "outputs": [],
   "source": [
    "base_estimator = DecisionTreeClassifier(\n",
    "    max_depth=6, \n",
    "    class_weight='balanced',\n",
    "    random_state=SEED\n",
    ")\n",
    "\n",
    "model = AdaBoostClassifier(\n",
    "    estimator=base_estimator, \n",
    "    n_estimators=50, \n",
    "    learning_rate=0.05,\n",
    "    algorithm='SAMME',\n",
    "    random_state=SEED\n",
    ")"
   ]
  },
  {
   "cell_type": "code",
   "execution_count": 27,
   "id": "a004d03a",
   "metadata": {
    "execution": {
     "iopub.execute_input": "2024-07-15T14:02:33.426802Z",
     "iopub.status.busy": "2024-07-15T14:02:33.426356Z",
     "iopub.status.idle": "2024-07-15T14:03:12.031753Z",
     "shell.execute_reply": "2024-07-15T14:03:12.030217Z"
    },
    "papermill": {
     "duration": 38.638052,
     "end_time": "2024-07-15T14:03:12.034341",
     "exception": false,
     "start_time": "2024-07-15T14:02:33.396289",
     "status": "completed"
    },
    "tags": []
   },
   "outputs": [
    {
     "name": "stdout",
     "output_type": "stream",
     "text": [
      "\n",
      " ------------------------- Original -------------------------\n",
      "Cross-validation:\n"
     ]
    },
    {
     "data": {
      "text/html": [
       "<div>\n",
       "<style scoped>\n",
       "    .dataframe tbody tr th:only-of-type {\n",
       "        vertical-align: middle;\n",
       "    }\n",
       "\n",
       "    .dataframe tbody tr th {\n",
       "        vertical-align: top;\n",
       "    }\n",
       "\n",
       "    .dataframe thead th {\n",
       "        text-align: right;\n",
       "    }\n",
       "</style>\n",
       "<table border=\"1\" class=\"dataframe\">\n",
       "  <thead>\n",
       "    <tr style=\"text-align: right;\">\n",
       "      <th></th>\n",
       "      <th>Fold #1</th>\n",
       "      <th>Fold #2</th>\n",
       "      <th>Fold #3</th>\n",
       "      <th>Fold #4</th>\n",
       "      <th>Fold #5</th>\n",
       "      <th>Fold #6</th>\n",
       "      <th>Fold #7</th>\n",
       "      <th>Fold #8</th>\n",
       "      <th>Fold #9</th>\n",
       "    </tr>\n",
       "  </thead>\n",
       "  <tbody>\n",
       "    <tr>\n",
       "      <th>Accuracy</th>\n",
       "      <td>0.9582</td>\n",
       "      <td>0.9446</td>\n",
       "      <td>0.9569</td>\n",
       "      <td>0.9557</td>\n",
       "      <td>0.9557</td>\n",
       "      <td>0.947</td>\n",
       "      <td>0.9581</td>\n",
       "      <td>0.9655</td>\n",
       "      <td>0.9717</td>\n",
       "    </tr>\n",
       "    <tr>\n",
       "      <th>ROC-AUC</th>\n",
       "      <td>0.9610</td>\n",
       "      <td>0.9367</td>\n",
       "      <td>0.9525</td>\n",
       "      <td>0.9526</td>\n",
       "      <td>0.9571</td>\n",
       "      <td>0.945</td>\n",
       "      <td>0.9647</td>\n",
       "      <td>0.9623</td>\n",
       "      <td>0.9702</td>\n",
       "    </tr>\n",
       "  </tbody>\n",
       "</table>\n",
       "</div>"
      ],
      "text/plain": [
       "          Fold #1  Fold #2  Fold #3  Fold #4  Fold #5  Fold #6  Fold #7  \\\n",
       "Accuracy   0.9582   0.9446   0.9569   0.9557   0.9557    0.947   0.9581   \n",
       "ROC-AUC    0.9610   0.9367   0.9525   0.9526   0.9571    0.945   0.9647   \n",
       "\n",
       "          Fold #8  Fold #9  \n",
       "Accuracy   0.9655   0.9717  \n",
       "ROC-AUC    0.9623   0.9702  "
      ]
     },
     "metadata": {},
     "output_type": "display_data"
    },
    {
     "name": "stdout",
     "output_type": "stream",
     "text": [
      "Refit to full training data and evaluate:\n",
      "\n",
      "|| Accuracy: 0.9631 || ROC-AUC: 0.9659 ||\n",
      "\n"
     ]
    },
    {
     "data": {
      "image/png": "[encoded data removed]",
      "text/plain": [
       "<Figure size 400x300 with 2 Axes>"
      ]
     },
     "metadata": {},
     "output_type": "display_data"
    },
    {
     "name": "stdout",
     "output_type": "stream",
     "text": [
      "\n",
      "(Time taken: 14.23 secs)\n",
      "\n",
      " ------------------------- Extended -------------------------\n",
      "Cross-validation:\n"
     ]
    },
    {
     "data": {
      "text/html": [
       "<div>\n",
       "<style scoped>\n",
       "    .dataframe tbody tr th:only-of-type {\n",
       "        vertical-align: middle;\n",
       "    }\n",
       "\n",
       "    .dataframe tbody tr th {\n",
       "        vertical-align: top;\n",
       "    }\n",
       "\n",
       "    .dataframe thead th {\n",
       "        text-align: right;\n",
       "    }\n",
       "</style>\n",
       "<table border=\"1\" class=\"dataframe\">\n",
       "  <thead>\n",
       "    <tr style=\"text-align: right;\">\n",
       "      <th></th>\n",
       "      <th>Fold #1</th>\n",
       "      <th>Fold #2</th>\n",
       "      <th>Fold #3</th>\n",
       "      <th>Fold #4</th>\n",
       "      <th>Fold #5</th>\n",
       "      <th>Fold #6</th>\n",
       "      <th>Fold #7</th>\n",
       "      <th>Fold #8</th>\n",
       "      <th>Fold #9</th>\n",
       "    </tr>\n",
       "  </thead>\n",
       "  <tbody>\n",
       "    <tr>\n",
       "      <th>Accuracy</th>\n",
       "      <td>0.9582</td>\n",
       "      <td>0.9446</td>\n",
       "      <td>0.9569</td>\n",
       "      <td>0.9557</td>\n",
       "      <td>0.9557</td>\n",
       "      <td>0.947</td>\n",
       "      <td>0.9581</td>\n",
       "      <td>0.9655</td>\n",
       "      <td>0.9717</td>\n",
       "    </tr>\n",
       "    <tr>\n",
       "      <th>ROC-AUC</th>\n",
       "      <td>0.9615</td>\n",
       "      <td>0.9367</td>\n",
       "      <td>0.9513</td>\n",
       "      <td>0.9526</td>\n",
       "      <td>0.9566</td>\n",
       "      <td>0.948</td>\n",
       "      <td>0.9638</td>\n",
       "      <td>0.9622</td>\n",
       "      <td>0.9702</td>\n",
       "    </tr>\n",
       "  </tbody>\n",
       "</table>\n",
       "</div>"
      ],
      "text/plain": [
       "          Fold #1  Fold #2  Fold #3  Fold #4  Fold #5  Fold #6  Fold #7  \\\n",
       "Accuracy   0.9582   0.9446   0.9569   0.9557   0.9557    0.947   0.9581   \n",
       "ROC-AUC    0.9615   0.9367   0.9513   0.9526   0.9566    0.948   0.9638   \n",
       "\n",
       "          Fold #8  Fold #9  \n",
       "Accuracy   0.9655   0.9717  \n",
       "ROC-AUC    0.9622   0.9702  "
      ]
     },
     "metadata": {},
     "output_type": "display_data"
    },
    {
     "name": "stdout",
     "output_type": "stream",
     "text": [
      "Refit to full training data and evaluate:\n",
      "\n",
      "|| Accuracy: 0.9643 || ROC-AUC: 0.9660 ||\n",
      "\n"
     ]
    },
    {
     "data": {
      "image/png": "[encoded data removed]",
      "text/plain": [
       "<Figure size 400x300 with 2 Axes>"
      ]
     },
     "metadata": {},
     "output_type": "display_data"
    },
    {
     "name": "stdout",
     "output_type": "stream",
     "text": [
      "\n",
      "(Time taken: 15.11 secs)\n",
      "\n",
      " ------------------------- Binary -------------------------\n",
      "Cross-validation:\n"
     ]
    },
    {
     "data": {
      "text/html": [
       "<div>\n",
       "<style scoped>\n",
       "    .dataframe tbody tr th:only-of-type {\n",
       "        vertical-align: middle;\n",
       "    }\n",
       "\n",
       "    .dataframe tbody tr th {\n",
       "        vertical-align: top;\n",
       "    }\n",
       "\n",
       "    .dataframe thead th {\n",
       "        text-align: right;\n",
       "    }\n",
       "</style>\n",
       "<table border=\"1\" class=\"dataframe\">\n",
       "  <thead>\n",
       "    <tr style=\"text-align: right;\">\n",
       "      <th></th>\n",
       "      <th>Fold #1</th>\n",
       "      <th>Fold #2</th>\n",
       "      <th>Fold #3</th>\n",
       "      <th>Fold #4</th>\n",
       "      <th>Fold #5</th>\n",
       "      <th>Fold #6</th>\n",
       "      <th>Fold #7</th>\n",
       "      <th>Fold #8</th>\n",
       "      <th>Fold #9</th>\n",
       "    </tr>\n",
       "  </thead>\n",
       "  <tbody>\n",
       "    <tr>\n",
       "      <th>Accuracy</th>\n",
       "      <td>0.9410</td>\n",
       "      <td>0.9299</td>\n",
       "      <td>0.9446</td>\n",
       "      <td>0.9409</td>\n",
       "      <td>0.9433</td>\n",
       "      <td>0.9384</td>\n",
       "      <td>0.9372</td>\n",
       "      <td>0.9569</td>\n",
       "      <td>0.9557</td>\n",
       "    </tr>\n",
       "    <tr>\n",
       "      <th>ROC-AUC</th>\n",
       "      <td>0.9503</td>\n",
       "      <td>0.9340</td>\n",
       "      <td>0.9537</td>\n",
       "      <td>0.9414</td>\n",
       "      <td>0.9453</td>\n",
       "      <td>0.9349</td>\n",
       "      <td>0.9428</td>\n",
       "      <td>0.9595</td>\n",
       "      <td>0.9608</td>\n",
       "    </tr>\n",
       "  </tbody>\n",
       "</table>\n",
       "</div>"
      ],
      "text/plain": [
       "          Fold #1  Fold #2  Fold #3  Fold #4  Fold #5  Fold #6  Fold #7  \\\n",
       "Accuracy   0.9410   0.9299   0.9446   0.9409   0.9433   0.9384   0.9372   \n",
       "ROC-AUC    0.9503   0.9340   0.9537   0.9414   0.9453   0.9349   0.9428   \n",
       "\n",
       "          Fold #8  Fold #9  \n",
       "Accuracy   0.9569   0.9557  \n",
       "ROC-AUC    0.9595   0.9608  "
      ]
     },
     "metadata": {},
     "output_type": "display_data"
    },
    {
     "name": "stdout",
     "output_type": "stream",
     "text": [
      "Refit to full training data and evaluate:\n",
      "\n",
      "|| Accuracy: 0.9483 || ROC-AUC: 0.9431 ||\n",
      "\n"
     ]
    },
    {
     "data": {
      "image/png": "[encoded data removed]",
      "text/plain": [
       "<Figure size 400x300 with 2 Axes>"
      ]
     },
     "metadata": {},
     "output_type": "display_data"
    },
    {
     "name": "stdout",
     "output_type": "stream",
     "text": [
      "\n",
      "(Time taken: 5.38 secs)\n",
      "\n",
      " ------------------------- Minimal -------------------------\n",
      "Cross-validation:\n"
     ]
    },
    {
     "data": {
      "text/html": [
       "<div>\n",
       "<style scoped>\n",
       "    .dataframe tbody tr th:only-of-type {\n",
       "        vertical-align: middle;\n",
       "    }\n",
       "\n",
       "    .dataframe tbody tr th {\n",
       "        vertical-align: top;\n",
       "    }\n",
       "\n",
       "    .dataframe thead th {\n",
       "        text-align: right;\n",
       "    }\n",
       "</style>\n",
       "<table border=\"1\" class=\"dataframe\">\n",
       "  <thead>\n",
       "    <tr style=\"text-align: right;\">\n",
       "      <th></th>\n",
       "      <th>Fold #1</th>\n",
       "      <th>Fold #2</th>\n",
       "      <th>Fold #3</th>\n",
       "      <th>Fold #4</th>\n",
       "      <th>Fold #5</th>\n",
       "      <th>Fold #6</th>\n",
       "      <th>Fold #7</th>\n",
       "      <th>Fold #8</th>\n",
       "      <th>Fold #9</th>\n",
       "    </tr>\n",
       "  </thead>\n",
       "  <tbody>\n",
       "    <tr>\n",
       "      <th>Accuracy</th>\n",
       "      <td>0.9410</td>\n",
       "      <td>0.9299</td>\n",
       "      <td>0.9446</td>\n",
       "      <td>0.9409</td>\n",
       "      <td>0.9433</td>\n",
       "      <td>0.9384</td>\n",
       "      <td>0.9372</td>\n",
       "      <td>0.9569</td>\n",
       "      <td>0.9557</td>\n",
       "    </tr>\n",
       "    <tr>\n",
       "      <th>ROC-AUC</th>\n",
       "      <td>0.9425</td>\n",
       "      <td>0.9255</td>\n",
       "      <td>0.9438</td>\n",
       "      <td>0.9406</td>\n",
       "      <td>0.9401</td>\n",
       "      <td>0.9373</td>\n",
       "      <td>0.9433</td>\n",
       "      <td>0.9599</td>\n",
       "      <td>0.9592</td>\n",
       "    </tr>\n",
       "  </tbody>\n",
       "</table>\n",
       "</div>"
      ],
      "text/plain": [
       "          Fold #1  Fold #2  Fold #3  Fold #4  Fold #5  Fold #6  Fold #7  \\\n",
       "Accuracy   0.9410   0.9299   0.9446   0.9409   0.9433   0.9384   0.9372   \n",
       "ROC-AUC    0.9425   0.9255   0.9438   0.9406   0.9401   0.9373   0.9433   \n",
       "\n",
       "          Fold #8  Fold #9  \n",
       "Accuracy   0.9569   0.9557  \n",
       "ROC-AUC    0.9599   0.9592  "
      ]
     },
     "metadata": {},
     "output_type": "display_data"
    },
    {
     "name": "stdout",
     "output_type": "stream",
     "text": [
      "Refit to full training data and evaluate:\n",
      "\n",
      "|| Accuracy: 0.9483 || ROC-AUC: 0.9456 ||\n",
      "\n"
     ]
    },
    {
     "data": {
      "image/png": "[encoded data removed]",
      "text/plain": [
       "<Figure size 400x300 with 2 Axes>"
      ]
     },
     "metadata": {},
     "output_type": "display_data"
    },
    {
     "name": "stdout",
     "output_type": "stream",
     "text": [
      "\n",
      "(Time taken: 3.76 secs)\n"
     ]
    }
   ],
   "source": [
    "run_experiment(model, 'adaboost')"
   ]
  },
  {
   "cell_type": "markdown",
   "id": "e8e17ef9",
   "metadata": {
    "papermill": {
     "duration": 0.027635,
     "end_time": "2024-07-15T14:03:12.090655",
     "exception": false,
     "start_time": "2024-07-15T14:03:12.063020",
     "status": "completed"
    },
    "tags": []
   },
   "source": [
    "# Hist-Gradient Boosting"
   ]
  },
  {
   "cell_type": "code",
   "execution_count": 28,
   "id": "a41aa24a",
   "metadata": {
    "execution": {
     "iopub.execute_input": "2024-07-15T14:03:12.148692Z",
     "iopub.status.busy": "2024-07-15T14:03:12.148294Z",
     "iopub.status.idle": "2024-07-15T14:03:12.169286Z",
     "shell.execute_reply": "2024-07-15T14:03:12.167876Z"
    },
    "papermill": {
     "duration": 0.053166,
     "end_time": "2024-07-15T14:03:12.171924",
     "exception": false,
     "start_time": "2024-07-15T14:03:12.118758",
     "status": "completed"
    },
    "tags": []
   },
   "outputs": [],
   "source": [
    "categorical_features = [f for f in extended_features if f not in num_features]\n",
    "train[categorical_features] = train[categorical_features].astype('category')\n",
    "test[categorical_features] = test[categorical_features].astype('category')"
   ]
  },
  {
   "cell_type": "code",
   "execution_count": 29,
   "id": "5b727624",
   "metadata": {
    "execution": {
     "iopub.execute_input": "2024-07-15T14:03:12.231555Z",
     "iopub.status.busy": "2024-07-15T14:03:12.231146Z",
     "iopub.status.idle": "2024-07-15T14:03:12.243890Z",
     "shell.execute_reply": "2024-07-15T14:03:12.242617Z"
    },
    "papermill": {
     "duration": 0.045085,
     "end_time": "2024-07-15T14:03:12.246483",
     "exception": false,
     "start_time": "2024-07-15T14:03:12.201398",
     "status": "completed"
    },
    "tags": []
   },
   "outputs": [
    {
     "data": {
      "text/html": [
       "<style>#sk-container-id-1 {color: black;background-color: white;}#sk-container-id-1 pre{padding: 0;}#sk-container-id-1 div.sk-toggleable {background-color: white;}#sk-container-id-1 label.sk-toggleable__label {cursor: pointer;display: block;width: 100%;margin-bottom: 0;padding: 0.3em;box-sizing: border-box;text-align: center;}#sk-container-id-1 label.sk-toggleable__label-arrow:before {content: \"▸\";float: left;margin-right: 0.25em;color: #696969;}#sk-container-id-1 label.sk-toggleable__label-arrow:hover:before {color: black;}#sk-container-id-1 div.sk-estimator:hover label.sk-toggleable__label-arrow:before {color: black;}#sk-container-id-1 div.sk-toggleable__content {max-height: 0;max-width: 0;overflow: hidden;text-align: left;background-color: #f0f8ff;}#sk-container-id-1 div.sk-toggleable__content pre {margin: 0.2em;color: black;border-radius: 0.25em;background-color: #f0f8ff;}#sk-container-id-1 input.sk-toggleable__control:checked~div.sk-toggleable__content {max-height: 200px;max-width: 100%;overflow: auto;}#sk-container-id-1 input.sk-toggleable__control:checked~label.sk-toggleable__label-arrow:before {content: \"▾\";}#sk-container-id-1 div.sk-estimator input.sk-toggleable__control:checked~label.sk-toggleable__label {background-color: #d4ebff;}#sk-container-id-1 div.sk-label input.sk-toggleable__control:checked~label.sk-toggleable__label {background-color: #d4ebff;}#sk-container-id-1 input.sk-hidden--visually {border: 0;clip: rect(1px 1px 1px 1px);clip: rect(1px, 1px, 1px, 1px);height: 1px;margin: -1px;overflow: hidden;padding: 0;position: absolute;width: 1px;}#sk-container-id-1 div.sk-estimator {font-family: monospace;background-color: #f0f8ff;border: 1px dotted black;border-radius: 0.25em;box-sizing: border-box;margin-bottom: 0.5em;}#sk-container-id-1 div.sk-estimator:hover {background-color: #d4ebff;}#sk-container-id-1 div.sk-parallel-item::after {content: \"\";width: 100%;border-bottom: 1px solid gray;flex-grow: 1;}#sk-container-id-1 div.sk-label:hover label.sk-toggleable__label {background-color: #d4ebff;}#sk-container-id-1 div.sk-serial::before {content: \"\";position: absolute;border-left: 1px solid gray;box-sizing: border-box;top: 0;bottom: 0;left: 50%;z-index: 0;}#sk-container-id-1 div.sk-serial {display: flex;flex-direction: column;align-items: center;background-color: white;padding-right: 0.2em;padding-left: 0.2em;position: relative;}#sk-container-id-1 div.sk-item {position: relative;z-index: 1;}#sk-container-id-1 div.sk-parallel {display: flex;align-items: stretch;justify-content: center;background-color: white;position: relative;}#sk-container-id-1 div.sk-item::before, #sk-container-id-1 div.sk-parallel-item::before {content: \"\";position: absolute;border-left: 1px solid gray;box-sizing: border-box;top: 0;bottom: 0;left: 50%;z-index: -1;}#sk-container-id-1 div.sk-parallel-item {display: flex;flex-direction: column;z-index: 1;position: relative;background-color: white;}#sk-container-id-1 div.sk-parallel-item:first-child::after {align-self: flex-end;width: 50%;}#sk-container-id-1 div.sk-parallel-item:last-child::after {align-self: flex-start;width: 50%;}#sk-container-id-1 div.sk-parallel-item:only-child::after {width: 0;}#sk-container-id-1 div.sk-dashed-wrapped {border: 1px dashed gray;margin: 0 0.4em 0.5em 0.4em;box-sizing: border-box;padding-bottom: 0.4em;background-color: white;}#sk-container-id-1 div.sk-label label {font-family: monospace;font-weight: bold;display: inline-block;line-height: 1.2em;}#sk-container-id-1 div.sk-label-container {text-align: center;}#sk-container-id-1 div.sk-container {/* jupyter's `normalize.less` sets `[hidden] { display: none; }` but bootstrap.min.css set `[hidden] { display: none !important; }` so we also need the `!important` here to be able to override the default hidden behavior on the sphinx rendered scikit-learn.org. See: https://github.com/scikit-learn/scikit-learn/issues/21755 */display: inline-block !important;position: relative;}#sk-container-id-1 div.sk-text-repr-fallback {display: none;}</style><div id=\"sk-container-id-1\" class=\"sk-top-container\"><div class=\"sk-text-repr-fallback\"><pre>HistGradientBoostingClassifier(categorical_features=&#x27;from_dtype&#x27;,\n",
       "                               class_weight=&#x27;balanced&#x27;, early_stopping=True,\n",
       "                               learning_rate=0.02, max_depth=6, max_iter=1000,\n",
       "                               n_iter_no_change=25, random_state=2024,\n",
       "                               scoring=make_scorer(accuracy_score), tol=0.0002)</pre><b>In a Jupyter environment, please rerun this cell to show the HTML representation or trust the notebook. <br />On GitHub, the HTML representation is unable to render, please try loading this page with nbviewer.org.</b></div><div class=\"sk-container\" hidden><div class=\"sk-item\"><div class=\"sk-estimator sk-toggleable\"><input class=\"sk-toggleable__control sk-hidden--visually\" id=\"sk-estimator-id-1\" type=\"checkbox\" checked><label for=\"sk-estimator-id-1\" class=\"sk-toggleable__label sk-toggleable__label-arrow\">HistGradientBoostingClassifier</label><div class=\"sk-toggleable__content\"><pre>HistGradientBoostingClassifier(categorical_features=&#x27;from_dtype&#x27;,\n",
       "                               class_weight=&#x27;balanced&#x27;, early_stopping=True,\n",
       "                               learning_rate=0.02, max_depth=6, max_iter=1000,\n",
       "                               n_iter_no_change=25, random_state=2024,\n",
       "                               scoring=make_scorer(accuracy_score), tol=0.0002)</pre></div></div></div></div></div>"
      ],
      "text/plain": [
       "HistGradientBoostingClassifier(categorical_features='from_dtype',\n",
       "                               class_weight='balanced', early_stopping=True,\n",
       "                               learning_rate=0.02, max_depth=6, max_iter=1000,\n",
       "                               n_iter_no_change=25, random_state=2024,\n",
       "                               scoring=make_scorer(accuracy_score), tol=0.0002)"
      ]
     },
     "execution_count": 29,
     "metadata": {},
     "output_type": "execute_result"
    }
   ],
   "source": [
    "HistGradientBoostingClassifier(\n",
    "    learning_rate=0.02,\n",
    "    max_iter=1000,\n",
    "    max_depth=6,\n",
    "    tol=2e-4,\n",
    "    early_stopping=True,\n",
    "    n_iter_no_change=25,\n",
    "    validation_fraction=0.1,\n",
    "    categorical_features=\"from_dtype\",\n",
    "    scoring=make_scorer(accuracy_score),\n",
    "    class_weight='balanced',\n",
    "    random_state=SEED\n",
    ")"
   ]
  },
  {
   "cell_type": "code",
   "execution_count": 30,
   "id": "d6776361",
   "metadata": {
    "execution": {
     "iopub.execute_input": "2024-07-15T14:03:12.309010Z",
     "iopub.status.busy": "2024-07-15T14:03:12.308572Z",
     "iopub.status.idle": "2024-07-15T14:03:56.115755Z",
     "shell.execute_reply": "2024-07-15T14:03:56.114493Z"
    },
    "papermill": {
     "duration": 43.840363,
     "end_time": "2024-07-15T14:03:56.118462",
     "exception": false,
     "start_time": "2024-07-15T14:03:12.278099",
     "status": "completed"
    },
    "tags": []
   },
   "outputs": [
    {
     "name": "stdout",
     "output_type": "stream",
     "text": [
      "\n",
      " ------------------------- Original -------------------------\n",
      "Cross-validation:\n"
     ]
    },
    {
     "data": {
      "text/html": [
       "<div>\n",
       "<style scoped>\n",
       "    .dataframe tbody tr th:only-of-type {\n",
       "        vertical-align: middle;\n",
       "    }\n",
       "\n",
       "    .dataframe tbody tr th {\n",
       "        vertical-align: top;\n",
       "    }\n",
       "\n",
       "    .dataframe thead th {\n",
       "        text-align: right;\n",
       "    }\n",
       "</style>\n",
       "<table border=\"1\" class=\"dataframe\">\n",
       "  <thead>\n",
       "    <tr style=\"text-align: right;\">\n",
       "      <th></th>\n",
       "      <th>Fold #1</th>\n",
       "      <th>Fold #2</th>\n",
       "      <th>Fold #3</th>\n",
       "      <th>Fold #4</th>\n",
       "      <th>Fold #5</th>\n",
       "      <th>Fold #6</th>\n",
       "      <th>Fold #7</th>\n",
       "      <th>Fold #8</th>\n",
       "      <th>Fold #9</th>\n",
       "    </tr>\n",
       "  </thead>\n",
       "  <tbody>\n",
       "    <tr>\n",
       "      <th>Accuracy</th>\n",
       "      <td>0.9582</td>\n",
       "      <td>0.9446</td>\n",
       "      <td>0.9569</td>\n",
       "      <td>0.9557</td>\n",
       "      <td>0.9557</td>\n",
       "      <td>0.947</td>\n",
       "      <td>0.9581</td>\n",
       "      <td>0.9655</td>\n",
       "      <td>0.9717</td>\n",
       "    </tr>\n",
       "    <tr>\n",
       "      <th>ROC-AUC</th>\n",
       "      <td>0.9610</td>\n",
       "      <td>0.9367</td>\n",
       "      <td>0.9525</td>\n",
       "      <td>0.9526</td>\n",
       "      <td>0.9571</td>\n",
       "      <td>0.945</td>\n",
       "      <td>0.9647</td>\n",
       "      <td>0.9623</td>\n",
       "      <td>0.9702</td>\n",
       "    </tr>\n",
       "  </tbody>\n",
       "</table>\n",
       "</div>"
      ],
      "text/plain": [
       "          Fold #1  Fold #2  Fold #3  Fold #4  Fold #5  Fold #6  Fold #7  \\\n",
       "Accuracy   0.9582   0.9446   0.9569   0.9557   0.9557    0.947   0.9581   \n",
       "ROC-AUC    0.9610   0.9367   0.9525   0.9526   0.9571    0.945   0.9647   \n",
       "\n",
       "          Fold #8  Fold #9  \n",
       "Accuracy   0.9655   0.9717  \n",
       "ROC-AUC    0.9623   0.9702  "
      ]
     },
     "metadata": {},
     "output_type": "display_data"
    },
    {
     "name": "stdout",
     "output_type": "stream",
     "text": [
      "Refit to full training data and evaluate:\n",
      "\n",
      "|| Accuracy: 0.9631 || ROC-AUC: 0.9659 ||\n",
      "\n"
     ]
    },
    {
     "data": {
      "image/png": "[encoded data removed]",
      "text/plain": [
       "<Figure size 400x300 with 2 Axes>"
      ]
     },
     "metadata": {},
     "output_type": "display_data"
    },
    {
     "name": "stdout",
     "output_type": "stream",
     "text": [
      "\n",
      "(Time taken: 14.23 secs)\n",
      "\n",
      " ------------------------- Extended -------------------------\n",
      "Cross-validation:\n"
     ]
    },
    {
     "data": {
      "text/html": [
       "<div>\n",
       "<style scoped>\n",
       "    .dataframe tbody tr th:only-of-type {\n",
       "        vertical-align: middle;\n",
       "    }\n",
       "\n",
       "    .dataframe tbody tr th {\n",
       "        vertical-align: top;\n",
       "    }\n",
       "\n",
       "    .dataframe thead th {\n",
       "        text-align: right;\n",
       "    }\n",
       "</style>\n",
       "<table border=\"1\" class=\"dataframe\">\n",
       "  <thead>\n",
       "    <tr style=\"text-align: right;\">\n",
       "      <th></th>\n",
       "      <th>Fold #1</th>\n",
       "      <th>Fold #2</th>\n",
       "      <th>Fold #3</th>\n",
       "      <th>Fold #4</th>\n",
       "      <th>Fold #5</th>\n",
       "      <th>Fold #6</th>\n",
       "      <th>Fold #7</th>\n",
       "      <th>Fold #8</th>\n",
       "      <th>Fold #9</th>\n",
       "    </tr>\n",
       "  </thead>\n",
       "  <tbody>\n",
       "    <tr>\n",
       "      <th>Accuracy</th>\n",
       "      <td>0.9582</td>\n",
       "      <td>0.9446</td>\n",
       "      <td>0.9569</td>\n",
       "      <td>0.9557</td>\n",
       "      <td>0.9557</td>\n",
       "      <td>0.947</td>\n",
       "      <td>0.9581</td>\n",
       "      <td>0.9655</td>\n",
       "      <td>0.9717</td>\n",
       "    </tr>\n",
       "    <tr>\n",
       "      <th>ROC-AUC</th>\n",
       "      <td>0.9615</td>\n",
       "      <td>0.9367</td>\n",
       "      <td>0.9513</td>\n",
       "      <td>0.9526</td>\n",
       "      <td>0.9566</td>\n",
       "      <td>0.948</td>\n",
       "      <td>0.9638</td>\n",
       "      <td>0.9622</td>\n",
       "      <td>0.9702</td>\n",
       "    </tr>\n",
       "  </tbody>\n",
       "</table>\n",
       "</div>"
      ],
      "text/plain": [
       "          Fold #1  Fold #2  Fold #3  Fold #4  Fold #5  Fold #6  Fold #7  \\\n",
       "Accuracy   0.9582   0.9446   0.9569   0.9557   0.9557    0.947   0.9581   \n",
       "ROC-AUC    0.9615   0.9367   0.9513   0.9526   0.9566    0.948   0.9638   \n",
       "\n",
       "          Fold #8  Fold #9  \n",
       "Accuracy   0.9655   0.9717  \n",
       "ROC-AUC    0.9622   0.9702  "
      ]
     },
     "metadata": {},
     "output_type": "display_data"
    },
    {
     "name": "stdout",
     "output_type": "stream",
     "text": [
      "Refit to full training data and evaluate:\n",
      "\n",
      "|| Accuracy: 0.9643 || ROC-AUC: 0.9660 ||\n",
      "\n"
     ]
    },
    {
     "data": {
      "image/png": "[encoded data removed]",
      "text/plain": [
       "<Figure size 400x300 with 2 Axes>"
      ]
     },
     "metadata": {},
     "output_type": "display_data"
    },
    {
     "name": "stdout",
     "output_type": "stream",
     "text": [
      "\n",
      "(Time taken: 15.02 secs)\n",
      "\n",
      " ------------------------- Binary -------------------------\n",
      "Cross-validation:\n"
     ]
    },
    {
     "data": {
      "text/html": [
       "<div>\n",
       "<style scoped>\n",
       "    .dataframe tbody tr th:only-of-type {\n",
       "        vertical-align: middle;\n",
       "    }\n",
       "\n",
       "    .dataframe tbody tr th {\n",
       "        vertical-align: top;\n",
       "    }\n",
       "\n",
       "    .dataframe thead th {\n",
       "        text-align: right;\n",
       "    }\n",
       "</style>\n",
       "<table border=\"1\" class=\"dataframe\">\n",
       "  <thead>\n",
       "    <tr style=\"text-align: right;\">\n",
       "      <th></th>\n",
       "      <th>Fold #1</th>\n",
       "      <th>Fold #2</th>\n",
       "      <th>Fold #3</th>\n",
       "      <th>Fold #4</th>\n",
       "      <th>Fold #5</th>\n",
       "      <th>Fold #6</th>\n",
       "      <th>Fold #7</th>\n",
       "      <th>Fold #8</th>\n",
       "      <th>Fold #9</th>\n",
       "    </tr>\n",
       "  </thead>\n",
       "  <tbody>\n",
       "    <tr>\n",
       "      <th>Accuracy</th>\n",
       "      <td>0.9410</td>\n",
       "      <td>0.9299</td>\n",
       "      <td>0.9446</td>\n",
       "      <td>0.9409</td>\n",
       "      <td>0.9433</td>\n",
       "      <td>0.9384</td>\n",
       "      <td>0.9372</td>\n",
       "      <td>0.9569</td>\n",
       "      <td>0.9557</td>\n",
       "    </tr>\n",
       "    <tr>\n",
       "      <th>ROC-AUC</th>\n",
       "      <td>0.9503</td>\n",
       "      <td>0.9340</td>\n",
       "      <td>0.9537</td>\n",
       "      <td>0.9414</td>\n",
       "      <td>0.9453</td>\n",
       "      <td>0.9349</td>\n",
       "      <td>0.9428</td>\n",
       "      <td>0.9595</td>\n",
       "      <td>0.9608</td>\n",
       "    </tr>\n",
       "  </tbody>\n",
       "</table>\n",
       "</div>"
      ],
      "text/plain": [
       "          Fold #1  Fold #2  Fold #3  Fold #4  Fold #5  Fold #6  Fold #7  \\\n",
       "Accuracy   0.9410   0.9299   0.9446   0.9409   0.9433   0.9384   0.9372   \n",
       "ROC-AUC    0.9503   0.9340   0.9537   0.9414   0.9453   0.9349   0.9428   \n",
       "\n",
       "          Fold #8  Fold #9  \n",
       "Accuracy   0.9569   0.9557  \n",
       "ROC-AUC    0.9595   0.9608  "
      ]
     },
     "metadata": {},
     "output_type": "display_data"
    },
    {
     "name": "stdout",
     "output_type": "stream",
     "text": [
      "Refit to full training data and evaluate:\n",
      "\n",
      "|| Accuracy: 0.9483 || ROC-AUC: 0.9431 ||\n",
      "\n"
     ]
    },
    {
     "data": {
      "image/png": "[encoded data removed]",
      "text/plain": [
       "<Figure size 400x300 with 2 Axes>"
      ]
     },
     "metadata": {},
     "output_type": "display_data"
    },
    {
     "name": "stdout",
     "output_type": "stream",
     "text": [
      "\n",
      "(Time taken: 8.92 secs)\n",
      "\n",
      " ------------------------- Minimal -------------------------\n",
      "Cross-validation:\n"
     ]
    },
    {
     "data": {
      "text/html": [
       "<div>\n",
       "<style scoped>\n",
       "    .dataframe tbody tr th:only-of-type {\n",
       "        vertical-align: middle;\n",
       "    }\n",
       "\n",
       "    .dataframe tbody tr th {\n",
       "        vertical-align: top;\n",
       "    }\n",
       "\n",
       "    .dataframe thead th {\n",
       "        text-align: right;\n",
       "    }\n",
       "</style>\n",
       "<table border=\"1\" class=\"dataframe\">\n",
       "  <thead>\n",
       "    <tr style=\"text-align: right;\">\n",
       "      <th></th>\n",
       "      <th>Fold #1</th>\n",
       "      <th>Fold #2</th>\n",
       "      <th>Fold #3</th>\n",
       "      <th>Fold #4</th>\n",
       "      <th>Fold #5</th>\n",
       "      <th>Fold #6</th>\n",
       "      <th>Fold #7</th>\n",
       "      <th>Fold #8</th>\n",
       "      <th>Fold #9</th>\n",
       "    </tr>\n",
       "  </thead>\n",
       "  <tbody>\n",
       "    <tr>\n",
       "      <th>Accuracy</th>\n",
       "      <td>0.9410</td>\n",
       "      <td>0.9299</td>\n",
       "      <td>0.9446</td>\n",
       "      <td>0.9409</td>\n",
       "      <td>0.9433</td>\n",
       "      <td>0.9384</td>\n",
       "      <td>0.9372</td>\n",
       "      <td>0.9569</td>\n",
       "      <td>0.9557</td>\n",
       "    </tr>\n",
       "    <tr>\n",
       "      <th>ROC-AUC</th>\n",
       "      <td>0.9425</td>\n",
       "      <td>0.9255</td>\n",
       "      <td>0.9438</td>\n",
       "      <td>0.9406</td>\n",
       "      <td>0.9401</td>\n",
       "      <td>0.9373</td>\n",
       "      <td>0.9433</td>\n",
       "      <td>0.9599</td>\n",
       "      <td>0.9592</td>\n",
       "    </tr>\n",
       "  </tbody>\n",
       "</table>\n",
       "</div>"
      ],
      "text/plain": [
       "          Fold #1  Fold #2  Fold #3  Fold #4  Fold #5  Fold #6  Fold #7  \\\n",
       "Accuracy   0.9410   0.9299   0.9446   0.9409   0.9433   0.9384   0.9372   \n",
       "ROC-AUC    0.9425   0.9255   0.9438   0.9406   0.9401   0.9373   0.9433   \n",
       "\n",
       "          Fold #8  Fold #9  \n",
       "Accuracy   0.9569   0.9557  \n",
       "ROC-AUC    0.9599   0.9592  "
      ]
     },
     "metadata": {},
     "output_type": "display_data"
    },
    {
     "name": "stdout",
     "output_type": "stream",
     "text": [
      "Refit to full training data and evaluate:\n",
      "\n",
      "|| Accuracy: 0.9483 || ROC-AUC: 0.9456 ||\n",
      "\n"
     ]
    },
    {
     "data": {
      "image/png": "[encoded data removed]",
      "text/plain": [
       "<Figure size 400x300 with 2 Axes>"
      ]
     },
     "metadata": {},
     "output_type": "display_data"
    },
    {
     "name": "stdout",
     "output_type": "stream",
     "text": [
      "\n",
      "(Time taken: 5.52 secs)\n"
     ]
    }
   ],
   "source": [
    "run_experiment(model, 'histgradient')"
   ]
  },
  {
   "cell_type": "markdown",
   "id": "edda7b56",
   "metadata": {
    "papermill": {
     "duration": 0.031797,
     "end_time": "2024-07-15T14:03:56.182796",
     "exception": false,
     "start_time": "2024-07-15T14:03:56.150999",
     "status": "completed"
    },
    "tags": []
   },
   "source": [
    "# Multi-Layer Perceptron"
   ]
  },
  {
   "cell_type": "code",
   "execution_count": 31,
   "id": "de465057",
   "metadata": {
    "execution": {
     "iopub.execute_input": "2024-07-15T14:03:56.249548Z",
     "iopub.status.busy": "2024-07-15T14:03:56.249165Z",
     "iopub.status.idle": "2024-07-15T14:03:56.255269Z",
     "shell.execute_reply": "2024-07-15T14:03:56.254178Z"
    },
    "papermill": {
     "duration": 0.042311,
     "end_time": "2024-07-15T14:03:56.257857",
     "exception": false,
     "start_time": "2024-07-15T14:03:56.215546",
     "status": "completed"
    },
    "tags": []
   },
   "outputs": [],
   "source": [
    "mlpnn = MLPClassifier(\n",
    "    activation='relu',\n",
    "    solver='adam',\n",
    "    alpha=1e-4,\n",
    "    learning_rate_init=2e-4,\n",
    "    max_iter=1000,\n",
    "    tol=1e-4,\n",
    "    early_stopping=True,\n",
    "    validation_fraction=0.1,\n",
    "    n_iter_no_change=25,\n",
    "    random_state=SEED\n",
    ")\n",
    "\n",
    "model = make_pipeline(\n",
    "    StandardScaler(),\n",
    "    mlpnn\n",
    ")"
   ]
  },
  {
   "cell_type": "code",
   "execution_count": 32,
   "id": "a5c7ecab",
   "metadata": {
    "execution": {
     "iopub.execute_input": "2024-07-15T14:03:56.324752Z",
     "iopub.status.busy": "2024-07-15T14:03:56.324328Z",
     "iopub.status.idle": "2024-07-15T14:05:45.913450Z",
     "shell.execute_reply": "2024-07-15T14:05:45.911999Z"
    },
    "papermill": {
     "duration": 109.625663,
     "end_time": "2024-07-15T14:05:45.916049",
     "exception": false,
     "start_time": "2024-07-15T14:03:56.290386",
     "status": "completed"
    },
    "tags": []
   },
   "outputs": [
    {
     "name": "stdout",
     "output_type": "stream",
     "text": [
      "\n",
      " ------------------------- Original -------------------------\n",
      "Cross-validation:\n"
     ]
    },
    {
     "data": {
      "text/html": [
       "<div>\n",
       "<style scoped>\n",
       "    .dataframe tbody tr th:only-of-type {\n",
       "        vertical-align: middle;\n",
       "    }\n",
       "\n",
       "    .dataframe tbody tr th {\n",
       "        vertical-align: top;\n",
       "    }\n",
       "\n",
       "    .dataframe thead th {\n",
       "        text-align: right;\n",
       "    }\n",
       "</style>\n",
       "<table border=\"1\" class=\"dataframe\">\n",
       "  <thead>\n",
       "    <tr style=\"text-align: right;\">\n",
       "      <th></th>\n",
       "      <th>Fold #1</th>\n",
       "      <th>Fold #2</th>\n",
       "      <th>Fold #3</th>\n",
       "      <th>Fold #4</th>\n",
       "      <th>Fold #5</th>\n",
       "      <th>Fold #6</th>\n",
       "      <th>Fold #7</th>\n",
       "      <th>Fold #8</th>\n",
       "      <th>Fold #9</th>\n",
       "    </tr>\n",
       "  </thead>\n",
       "  <tbody>\n",
       "    <tr>\n",
       "      <th>Accuracy</th>\n",
       "      <td>0.8180</td>\n",
       "      <td>0.8364</td>\n",
       "      <td>0.8300</td>\n",
       "      <td>0.8608</td>\n",
       "      <td>0.8128</td>\n",
       "      <td>0.8313</td>\n",
       "      <td>0.8424</td>\n",
       "      <td>0.8608</td>\n",
       "      <td>0.8658</td>\n",
       "    </tr>\n",
       "    <tr>\n",
       "      <th>ROC-AUC</th>\n",
       "      <td>0.9043</td>\n",
       "      <td>0.8991</td>\n",
       "      <td>0.9021</td>\n",
       "      <td>0.9214</td>\n",
       "      <td>0.8828</td>\n",
       "      <td>0.9051</td>\n",
       "      <td>0.9097</td>\n",
       "      <td>0.9266</td>\n",
       "      <td>0.9338</td>\n",
       "    </tr>\n",
       "  </tbody>\n",
       "</table>\n",
       "</div>"
      ],
      "text/plain": [
       "          Fold #1  Fold #2  Fold #3  Fold #4  Fold #5  Fold #6  Fold #7  \\\n",
       "Accuracy   0.8180   0.8364   0.8300   0.8608   0.8128   0.8313   0.8424   \n",
       "ROC-AUC    0.9043   0.8991   0.9021   0.9214   0.8828   0.9051   0.9097   \n",
       "\n",
       "          Fold #8  Fold #9  \n",
       "Accuracy   0.8608   0.8658  \n",
       "ROC-AUC    0.9266   0.9338  "
      ]
     },
     "metadata": {},
     "output_type": "display_data"
    },
    {
     "name": "stdout",
     "output_type": "stream",
     "text": [
      "Refit to full training data and evaluate:\n",
      "\n",
      "|| Accuracy: 0.8462 || ROC-AUC: 0.9129 ||\n",
      "\n"
     ]
    },
    {
     "data": {
      "image/png": "[encoded data removed]",
      "text/plain": [
       "<Figure size 400x300 with 2 Axes>"
      ]
     },
     "metadata": {},
     "output_type": "display_data"
    },
    {
     "name": "stdout",
     "output_type": "stream",
     "text": [
      "\n",
      "(Time taken: 62.40 secs)\n",
      "\n",
      " ------------------------- Extended -------------------------\n",
      "Cross-validation:\n"
     ]
    },
    {
     "data": {
      "text/html": [
       "<div>\n",
       "<style scoped>\n",
       "    .dataframe tbody tr th:only-of-type {\n",
       "        vertical-align: middle;\n",
       "    }\n",
       "\n",
       "    .dataframe tbody tr th {\n",
       "        vertical-align: top;\n",
       "    }\n",
       "\n",
       "    .dataframe thead th {\n",
       "        text-align: right;\n",
       "    }\n",
       "</style>\n",
       "<table border=\"1\" class=\"dataframe\">\n",
       "  <thead>\n",
       "    <tr style=\"text-align: right;\">\n",
       "      <th></th>\n",
       "      <th>Fold #1</th>\n",
       "      <th>Fold #2</th>\n",
       "      <th>Fold #3</th>\n",
       "      <th>Fold #4</th>\n",
       "      <th>Fold #5</th>\n",
       "      <th>Fold #6</th>\n",
       "      <th>Fold #7</th>\n",
       "      <th>Fold #8</th>\n",
       "      <th>Fold #9</th>\n",
       "    </tr>\n",
       "  </thead>\n",
       "  <tbody>\n",
       "    <tr>\n",
       "      <th>Accuracy</th>\n",
       "      <td>0.941</td>\n",
       "      <td>0.9299</td>\n",
       "      <td>0.9433</td>\n",
       "      <td>0.9409</td>\n",
       "      <td>0.9397</td>\n",
       "      <td>0.9347</td>\n",
       "      <td>0.9372</td>\n",
       "      <td>0.9557</td>\n",
       "      <td>0.9532</td>\n",
       "    </tr>\n",
       "    <tr>\n",
       "      <th>ROC-AUC</th>\n",
       "      <td>0.953</td>\n",
       "      <td>0.9317</td>\n",
       "      <td>0.9451</td>\n",
       "      <td>0.9459</td>\n",
       "      <td>0.9489</td>\n",
       "      <td>0.9461</td>\n",
       "      <td>0.9491</td>\n",
       "      <td>0.9622</td>\n",
       "      <td>0.9663</td>\n",
       "    </tr>\n",
       "  </tbody>\n",
       "</table>\n",
       "</div>"
      ],
      "text/plain": [
       "          Fold #1  Fold #2  Fold #3  Fold #4  Fold #5  Fold #6  Fold #7  \\\n",
       "Accuracy    0.941   0.9299   0.9433   0.9409   0.9397   0.9347   0.9372   \n",
       "ROC-AUC     0.953   0.9317   0.9451   0.9459   0.9489   0.9461   0.9491   \n",
       "\n",
       "          Fold #8  Fold #9  \n",
       "Accuracy   0.9557   0.9532  \n",
       "ROC-AUC    0.9622   0.9663  "
      ]
     },
     "metadata": {},
     "output_type": "display_data"
    },
    {
     "name": "stdout",
     "output_type": "stream",
     "text": [
      "Refit to full training data and evaluate:\n",
      "\n",
      "|| Accuracy: 0.9496 || ROC-AUC: 0.9578 ||\n",
      "\n"
     ]
    },
    {
     "data": {
      "image/png": "[encoded data removed]",
      "text/plain": [
       "<Figure size 400x300 with 2 Axes>"
      ]
     },
     "metadata": {},
     "output_type": "display_data"
    },
    {
     "name": "stdout",
     "output_type": "stream",
     "text": [
      "\n",
      "(Time taken: 18.90 secs)\n",
      "\n",
      " ------------------------- Binary -------------------------\n",
      "Cross-validation:\n"
     ]
    },
    {
     "data": {
      "text/html": [
       "<div>\n",
       "<style scoped>\n",
       "    .dataframe tbody tr th:only-of-type {\n",
       "        vertical-align: middle;\n",
       "    }\n",
       "\n",
       "    .dataframe tbody tr th {\n",
       "        vertical-align: top;\n",
       "    }\n",
       "\n",
       "    .dataframe thead th {\n",
       "        text-align: right;\n",
       "    }\n",
       "</style>\n",
       "<table border=\"1\" class=\"dataframe\">\n",
       "  <thead>\n",
       "    <tr style=\"text-align: right;\">\n",
       "      <th></th>\n",
       "      <th>Fold #1</th>\n",
       "      <th>Fold #2</th>\n",
       "      <th>Fold #3</th>\n",
       "      <th>Fold #4</th>\n",
       "      <th>Fold #5</th>\n",
       "      <th>Fold #6</th>\n",
       "      <th>Fold #7</th>\n",
       "      <th>Fold #8</th>\n",
       "      <th>Fold #9</th>\n",
       "    </tr>\n",
       "  </thead>\n",
       "  <tbody>\n",
       "    <tr>\n",
       "      <th>Accuracy</th>\n",
       "      <td>0.9410</td>\n",
       "      <td>0.9299</td>\n",
       "      <td>0.9446</td>\n",
       "      <td>0.9360</td>\n",
       "      <td>0.9433</td>\n",
       "      <td>0.9372</td>\n",
       "      <td>0.9261</td>\n",
       "      <td>0.9569</td>\n",
       "      <td>0.9557</td>\n",
       "    </tr>\n",
       "    <tr>\n",
       "      <th>ROC-AUC</th>\n",
       "      <td>0.9493</td>\n",
       "      <td>0.9349</td>\n",
       "      <td>0.9400</td>\n",
       "      <td>0.9455</td>\n",
       "      <td>0.9539</td>\n",
       "      <td>0.9383</td>\n",
       "      <td>0.9473</td>\n",
       "      <td>0.9600</td>\n",
       "      <td>0.9632</td>\n",
       "    </tr>\n",
       "  </tbody>\n",
       "</table>\n",
       "</div>"
      ],
      "text/plain": [
       "          Fold #1  Fold #2  Fold #3  Fold #4  Fold #5  Fold #6  Fold #7  \\\n",
       "Accuracy   0.9410   0.9299   0.9446   0.9360   0.9433   0.9372   0.9261   \n",
       "ROC-AUC    0.9493   0.9349   0.9400   0.9455   0.9539   0.9383   0.9473   \n",
       "\n",
       "          Fold #8  Fold #9  \n",
       "Accuracy   0.9569   0.9557  \n",
       "ROC-AUC    0.9600   0.9632  "
      ]
     },
     "metadata": {},
     "output_type": "display_data"
    },
    {
     "name": "stdout",
     "output_type": "stream",
     "text": [
      "Refit to full training data and evaluate:\n",
      "\n",
      "|| Accuracy: 0.9483 || ROC-AUC: 0.9550 ||\n",
      "\n"
     ]
    },
    {
     "data": {
      "image/png": "[encoded data removed]",
      "text/plain": [
       "<Figure size 400x300 with 2 Axes>"
      ]
     },
     "metadata": {},
     "output_type": "display_data"
    },
    {
     "name": "stdout",
     "output_type": "stream",
     "text": [
      "\n",
      "(Time taken: 15.23 secs)\n",
      "\n",
      " ------------------------- Minimal -------------------------\n",
      "Cross-validation:\n"
     ]
    },
    {
     "data": {
      "text/html": [
       "<div>\n",
       "<style scoped>\n",
       "    .dataframe tbody tr th:only-of-type {\n",
       "        vertical-align: middle;\n",
       "    }\n",
       "\n",
       "    .dataframe tbody tr th {\n",
       "        vertical-align: top;\n",
       "    }\n",
       "\n",
       "    .dataframe thead th {\n",
       "        text-align: right;\n",
       "    }\n",
       "</style>\n",
       "<table border=\"1\" class=\"dataframe\">\n",
       "  <thead>\n",
       "    <tr style=\"text-align: right;\">\n",
       "      <th></th>\n",
       "      <th>Fold #1</th>\n",
       "      <th>Fold #2</th>\n",
       "      <th>Fold #3</th>\n",
       "      <th>Fold #4</th>\n",
       "      <th>Fold #5</th>\n",
       "      <th>Fold #6</th>\n",
       "      <th>Fold #7</th>\n",
       "      <th>Fold #8</th>\n",
       "      <th>Fold #9</th>\n",
       "    </tr>\n",
       "  </thead>\n",
       "  <tbody>\n",
       "    <tr>\n",
       "      <th>Accuracy</th>\n",
       "      <td>0.9410</td>\n",
       "      <td>0.9299</td>\n",
       "      <td>0.9446</td>\n",
       "      <td>0.9409</td>\n",
       "      <td>0.9433</td>\n",
       "      <td>0.9384</td>\n",
       "      <td>0.9372</td>\n",
       "      <td>0.9569</td>\n",
       "      <td>0.9557</td>\n",
       "    </tr>\n",
       "    <tr>\n",
       "      <th>ROC-AUC</th>\n",
       "      <td>0.9473</td>\n",
       "      <td>0.9321</td>\n",
       "      <td>0.9445</td>\n",
       "      <td>0.9426</td>\n",
       "      <td>0.9493</td>\n",
       "      <td>0.9383</td>\n",
       "      <td>0.9472</td>\n",
       "      <td>0.9562</td>\n",
       "      <td>0.9633</td>\n",
       "    </tr>\n",
       "  </tbody>\n",
       "</table>\n",
       "</div>"
      ],
      "text/plain": [
       "          Fold #1  Fold #2  Fold #3  Fold #4  Fold #5  Fold #6  Fold #7  \\\n",
       "Accuracy   0.9410   0.9299   0.9446   0.9409   0.9433   0.9384   0.9372   \n",
       "ROC-AUC    0.9473   0.9321   0.9445   0.9426   0.9493   0.9383   0.9472   \n",
       "\n",
       "          Fold #8  Fold #9  \n",
       "Accuracy   0.9569   0.9557  \n",
       "ROC-AUC    0.9562   0.9633  "
      ]
     },
     "metadata": {},
     "output_type": "display_data"
    },
    {
     "name": "stdout",
     "output_type": "stream",
     "text": [
      "Refit to full training data and evaluate:\n",
      "\n",
      "|| Accuracy: 0.9483 || ROC-AUC: 0.9544 ||\n",
      "\n"
     ]
    },
    {
     "data": {
      "image/png": "[encoded data removed]",
      "text/plain": [
       "<Figure size 400x300 with 2 Axes>"
      ]
     },
     "metadata": {},
     "output_type": "display_data"
    },
    {
     "name": "stdout",
     "output_type": "stream",
     "text": [
      "\n",
      "(Time taken: 13.02 secs)\n"
     ]
    }
   ],
   "source": [
    "run_experiment(model, 'mlpnn')"
   ]
  }
 ],
 "metadata": {
  "kaggle": {
   "accelerator": "none",
   "dataSources": [
    {
     "datasetId": 5236308,
     "sourceId": 8725325,
     "sourceType": "datasetVersion"
    }
   ],
   "dockerImageVersionId": 30746,
   "isGpuEnabled": false,
   "isInternetEnabled": true,
   "language": "python",
   "sourceType": "notebook"
  },
  "kernelspec": {
   "display_name": "Python 3",
   "language": "python",
   "name": "python3"
  },
  "language_info": {
   "codemirror_mode": {
    "name": "ipython",
    "version": 3
   },
   "file_extension": ".py",
   "mimetype": "text/x-python",
   "name": "python",
   "nbconvert_exporter": "python",
   "pygments_lexer": "ipython3",
   "version": "3.10.13"
  },
  "papermill": {
   "default_parameters": {},
   "duration": 248.854629,
   "end_time": "2024-07-15T14:05:46.676961",
   "environment_variables": {},
   "exception": null,
   "input_path": "__notebook__.ipynb",
   "output_path": "__notebook__.ipynb",
   "parameters": {},
   "start_time": "2024-07-15T14:01:37.822332",
   "version": "2.5.0"
  }
 },
 "nbformat": 4,
 "nbformat_minor": 5
}
