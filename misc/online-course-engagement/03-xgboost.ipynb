{
 "cells": [
  {
   "cell_type": "markdown",
   "id": "73cc0aa1",
   "metadata": {
    "_cell_guid": "b1076dfc-b9ad-4769-8c92-a6c4dae69d19",
    "_uuid": "8f2839f25d086af736a60e9eeb907d3b93b6e0e5",
    "papermill": {
     "duration": 0.007692,
     "end_time": "2024-07-18T11:16:56.677456",
     "exception": false,
     "start_time": "2024-07-18T11:16:56.669764",
     "status": "completed"
    },
    "tags": []
   },
   "source": [
    "# Setup"
   ]
  },
  {
   "cell_type": "code",
   "execution_count": 1,
   "id": "3cddf930",
   "metadata": {
    "execution": {
     "iopub.execute_input": "2024-07-18T11:16:56.693797Z",
     "iopub.status.busy": "2024-07-18T11:16:56.693345Z",
     "iopub.status.idle": "2024-07-18T11:16:59.898650Z",
     "shell.execute_reply": "2024-07-18T11:16:59.897333Z"
    },
    "papermill": {
     "duration": 3.216831,
     "end_time": "2024-07-18T11:16:59.901611",
     "exception": false,
     "start_time": "2024-07-18T11:16:56.684780",
     "status": "completed"
    },
    "tags": []
   },
   "outputs": [],
   "source": [
    "import gc\n",
    "gc.enable()\n",
    "\n",
    "import warnings\n",
    "warnings.filterwarnings('ignore')\n",
    "\n",
    "import time\n",
    "import joblib\n",
    "import numpy as np\n",
    "import pandas as pd\n",
    "pd.set_option('display.max_columns', None)\n",
    "pd.set_option('display.precision', 4)\n",
    "\n",
    "import seaborn as sns\n",
    "import matplotlib.pyplot as plt\n",
    "%matplotlib inline\n",
    "\n",
    "from sklearn.base import clone\n",
    "from sklearn.model_selection import (\n",
    "    train_test_split, \n",
    "    StratifiedKFold\n",
    ")\n",
    "from sklearn.metrics import (\n",
    "    accuracy_score,\n",
    "    roc_auc_score,\n",
    "    confusion_matrix\n",
    ")\n",
    "from xgboost import XGBClassifier\n",
    "\n",
    "SEED = 2024"
   ]
  },
  {
   "cell_type": "markdown",
   "id": "4cdeefcb",
   "metadata": {
    "papermill": {
     "duration": 0.006781,
     "end_time": "2024-07-18T11:16:59.915647",
     "exception": false,
     "start_time": "2024-07-18T11:16:59.908866",
     "status": "completed"
    },
    "tags": []
   },
   "source": [
    "# Data preparation"
   ]
  },
  {
   "cell_type": "code",
   "execution_count": 2,
   "id": "0bb6a71d",
   "metadata": {
    "execution": {
     "iopub.execute_input": "2024-07-18T11:16:59.933197Z",
     "iopub.status.busy": "2024-07-18T11:16:59.931648Z",
     "iopub.status.idle": "2024-07-18T11:16:59.987980Z",
     "shell.execute_reply": "2024-07-18T11:16:59.986904Z"
    },
    "papermill": {
     "duration": 0.06804,
     "end_time": "2024-07-18T11:16:59.990861",
     "exception": false,
     "start_time": "2024-07-18T11:16:59.922821",
     "status": "completed"
    },
    "tags": []
   },
   "outputs": [],
   "source": [
    "data = pd.read_csv('/kaggle/input/predict-online-course-engagement-dataset/online_course_engagement_data.csv')"
   ]
  },
  {
   "cell_type": "code",
   "execution_count": 3,
   "id": "8721fac0",
   "metadata": {
    "execution": {
     "iopub.execute_input": "2024-07-18T11:17:00.007791Z",
     "iopub.status.busy": "2024-07-18T11:17:00.007326Z",
     "iopub.status.idle": "2024-07-18T11:17:00.014267Z",
     "shell.execute_reply": "2024-07-18T11:17:00.012988Z"
    },
    "papermill": {
     "duration": 0.018935,
     "end_time": "2024-07-18T11:17:00.017129",
     "exception": false,
     "start_time": "2024-07-18T11:16:59.998194",
     "status": "completed"
    },
    "tags": []
   },
   "outputs": [],
   "source": [
    "TARGET = 'CourseCompletion'\n",
    "features = [f for f in data.columns if f not in ('UserID', TARGET)]\n",
    "cat_features = ['DeviceType', 'CourseCategory']\n",
    "num_features = [f for f in features if f not in cat_features]"
   ]
  },
  {
   "cell_type": "markdown",
   "id": "4e46fbb1",
   "metadata": {
    "papermill": {
     "duration": 0.007199,
     "end_time": "2024-07-18T11:17:00.032073",
     "exception": false,
     "start_time": "2024-07-18T11:17:00.024874",
     "status": "completed"
    },
    "tags": []
   },
   "source": [
    "### Preprocessing"
   ]
  },
  {
   "cell_type": "code",
   "execution_count": 4,
   "id": "4f740979",
   "metadata": {
    "execution": {
     "iopub.execute_input": "2024-07-18T11:17:00.050151Z",
     "iopub.status.busy": "2024-07-18T11:17:00.049698Z",
     "iopub.status.idle": "2024-07-18T11:17:00.058926Z",
     "shell.execute_reply": "2024-07-18T11:17:00.057619Z"
    },
    "papermill": {
     "duration": 0.020832,
     "end_time": "2024-07-18T11:17:00.061640",
     "exception": false,
     "start_time": "2024-07-18T11:17:00.040808",
     "status": "completed"
    },
    "tags": []
   },
   "outputs": [],
   "source": [
    "def preprocess_dataset(df):\n",
    "    # remove duplicates\n",
    "    df = df.drop_duplicates(ignore_index=True)\n",
    "    \n",
    "    # one-hot encoding nominal variable\n",
    "    df = pd.get_dummies(df, columns=['CourseCategory'], dtype='category')\n",
    "    \n",
    "    df['DeviceType'] = df['DeviceType'].astype('category')\n",
    "    \n",
    "    # binarize numerical features\n",
    "    df['time_spent_above_threshold'] = (df['TimeSpentOnCourse'] > 20).astype('category')\n",
    "    df['num_videos_above_threshold'] = (df['NumberOfVideosWatched'] > 5).astype('category')\n",
    "    df['num_quizzes_above_threshold'] = (df['NumberOfQuizzesTaken'] > 3).astype('category')\n",
    "    df['quiz_scores_above_threshold'] = (df['QuizScores'] > 68).astype('category')\n",
    "    df['completion_above_threshold'] = (df['CompletionRate'] > 60).astype('category')\n",
    "    \n",
    "    return df"
   ]
  },
  {
   "cell_type": "code",
   "execution_count": 5,
   "id": "8c7c8d0b",
   "metadata": {
    "execution": {
     "iopub.execute_input": "2024-07-18T11:17:00.077764Z",
     "iopub.status.busy": "2024-07-18T11:17:00.077339Z",
     "iopub.status.idle": "2024-07-18T11:17:00.121446Z",
     "shell.execute_reply": "2024-07-18T11:17:00.120314Z"
    },
    "papermill": {
     "duration": 0.055801,
     "end_time": "2024-07-18T11:17:00.124570",
     "exception": false,
     "start_time": "2024-07-18T11:17:00.068769",
     "status": "completed"
    },
    "tags": []
   },
   "outputs": [],
   "source": [
    "data = preprocess_dataset(data.copy())"
   ]
  },
  {
   "cell_type": "markdown",
   "id": "c551b50f",
   "metadata": {
    "papermill": {
     "duration": 0.006828,
     "end_time": "2024-07-18T11:17:00.138827",
     "exception": false,
     "start_time": "2024-07-18T11:17:00.131999",
     "status": "completed"
    },
    "tags": []
   },
   "source": [
    "### Feature sets"
   ]
  },
  {
   "cell_type": "code",
   "execution_count": 6,
   "id": "b398e055",
   "metadata": {
    "execution": {
     "iopub.execute_input": "2024-07-18T11:17:00.155170Z",
     "iopub.status.busy": "2024-07-18T11:17:00.154670Z",
     "iopub.status.idle": "2024-07-18T11:17:00.163551Z",
     "shell.execute_reply": "2024-07-18T11:17:00.162231Z"
    },
    "papermill": {
     "duration": 0.020186,
     "end_time": "2024-07-18T11:17:00.166376",
     "exception": false,
     "start_time": "2024-07-18T11:17:00.146190",
     "status": "completed"
    },
    "tags": []
   },
   "outputs": [],
   "source": [
    "original_features = [\n",
    "    'TimeSpentOnCourse', 'NumberOfVideosWatched', 'NumberOfQuizzesTaken', \n",
    "    'QuizScores', 'CompletionRate', 'DeviceType', 'CourseCategory_Arts', \n",
    "    'CourseCategory_Business', 'CourseCategory_Health', \n",
    "    'CourseCategory_Programming', 'CourseCategory_Science'\n",
    "]\n",
    "\n",
    "extended_features = [\n",
    "    'TimeSpentOnCourse', 'NumberOfVideosWatched', 'NumberOfQuizzesTaken', \n",
    "    'QuizScores', 'CompletionRate', 'DeviceType', 'CourseCategory_Arts', \n",
    "    'CourseCategory_Business', 'CourseCategory_Health', \n",
    "    'CourseCategory_Programming', 'CourseCategory_Science', \n",
    "    'time_spent_above_threshold', 'num_videos_above_threshold', \n",
    "    'num_quizzes_above_threshold', 'quiz_scores_above_threshold', \n",
    "    'completion_above_threshold'\n",
    "]\n",
    "\n",
    "binary_features = [\n",
    "    'DeviceType', 'CourseCategory_Arts', 'CourseCategory_Business', \n",
    "    'CourseCategory_Health', 'CourseCategory_Programming', \n",
    "    'CourseCategory_Science', 'time_spent_above_threshold', \n",
    "    'num_videos_above_threshold', 'num_quizzes_above_threshold', \n",
    "    'quiz_scores_above_threshold', 'completion_above_threshold'\n",
    "]\n",
    "\n",
    "minimal_features = [\n",
    "    'time_spent_above_threshold', 'num_videos_above_threshold', \n",
    "    'num_quizzes_above_threshold', 'quiz_scores_above_threshold', \n",
    "    'completion_above_threshold'\n",
    "]"
   ]
  },
  {
   "cell_type": "code",
   "execution_count": 7,
   "id": "d604515d",
   "metadata": {
    "execution": {
     "iopub.execute_input": "2024-07-18T11:17:00.182932Z",
     "iopub.status.busy": "2024-07-18T11:17:00.182477Z",
     "iopub.status.idle": "2024-07-18T11:17:00.188479Z",
     "shell.execute_reply": "2024-07-18T11:17:00.187294Z"
    },
    "papermill": {
     "duration": 0.017851,
     "end_time": "2024-07-18T11:17:00.191564",
     "exception": false,
     "start_time": "2024-07-18T11:17:00.173713",
     "status": "completed"
    },
    "tags": []
   },
   "outputs": [],
   "source": [
    "feature_sets = {\n",
    "    'Original': original_features,\n",
    "    'Extended': extended_features,\n",
    "    'Binary': binary_features,\n",
    "    'Minimal': minimal_features\n",
    "}"
   ]
  },
  {
   "cell_type": "markdown",
   "id": "ca480092",
   "metadata": {
    "papermill": {
     "duration": 0.006723,
     "end_time": "2024-07-18T11:17:00.205507",
     "exception": false,
     "start_time": "2024-07-18T11:17:00.198784",
     "status": "completed"
    },
    "tags": []
   },
   "source": [
    "### Holdout set for model-testing"
   ]
  },
  {
   "cell_type": "code",
   "execution_count": 8,
   "id": "b43577ba",
   "metadata": {
    "execution": {
     "iopub.execute_input": "2024-07-18T11:17:00.221718Z",
     "iopub.status.busy": "2024-07-18T11:17:00.221309Z",
     "iopub.status.idle": "2024-07-18T11:17:00.237937Z",
     "shell.execute_reply": "2024-07-18T11:17:00.236630Z"
    },
    "papermill": {
     "duration": 0.028311,
     "end_time": "2024-07-18T11:17:00.241060",
     "exception": false,
     "start_time": "2024-07-18T11:17:00.212749",
     "status": "completed"
    },
    "tags": []
   },
   "outputs": [],
   "source": [
    "train, test, _, _ = train_test_split(\n",
    "    data, data[TARGET],\n",
    "    stratify=data[TARGET],\n",
    "    test_size=0.1,  # same size\n",
    "    shuffle=True,\n",
    "    random_state=SEED  # same sampling\n",
    ")"
   ]
  },
  {
   "cell_type": "markdown",
   "id": "1e8b3118",
   "metadata": {
    "papermill": {
     "duration": 0.006884,
     "end_time": "2024-07-18T11:17:00.255161",
     "exception": false,
     "start_time": "2024-07-18T11:17:00.248277",
     "status": "completed"
    },
    "tags": []
   },
   "source": [
    "# Modeling framework"
   ]
  },
  {
   "cell_type": "code",
   "execution_count": 9,
   "id": "1a1cc5f3",
   "metadata": {
    "execution": {
     "iopub.execute_input": "2024-07-18T11:17:00.271396Z",
     "iopub.status.busy": "2024-07-18T11:17:00.270910Z",
     "iopub.status.idle": "2024-07-18T11:17:00.282748Z",
     "shell.execute_reply": "2024-07-18T11:17:00.281415Z"
    },
    "papermill": {
     "duration": 0.023146,
     "end_time": "2024-07-18T11:17:00.285454",
     "exception": false,
     "start_time": "2024-07-18T11:17:00.262308",
     "status": "completed"
    },
    "tags": []
   },
   "outputs": [],
   "source": [
    "def cross_validate(estimator, feature_set, verbose=True, num_folds=9):\n",
    "    global train, test, TARGET\n",
    "    \n",
    "    scores_auc, scores_acc = [], []\n",
    "    X, y = train[feature_set], train[TARGET]\n",
    "    \n",
    "    cv = StratifiedKFold(n_splits=num_folds, shuffle=True, random_state=SEED)\n",
    "    for fold, (train_ids, val_ids) in enumerate(cv.split(X, y)):\n",
    "        X_train, y_train = X.iloc[train_ids], y.iloc[train_ids]\n",
    "        X_val, y_val = X.iloc[val_ids], y.iloc[val_ids]\n",
    "        \n",
    "        model = clone(estimator)\n",
    "        model.fit(\n",
    "            X_train, y_train,\n",
    "            eval_set=[(X_val, y_val)],\n",
    "            verbose=False\n",
    "        )\n",
    "        probs = model.predict_proba(X_val)[:, 1]\n",
    "        auc = roc_auc_score(y_val, probs)\n",
    "        scores_auc.append(auc)\n",
    "        preds = model.predict(X_val)\n",
    "        acc = accuracy_score(y_val, preds)\n",
    "        scores_acc.append(acc)\n",
    "        \n",
    "        if verbose:\n",
    "            print(f'Fold #{fold}: Accuracy: {acc:.4f}, ROC-AUC: {auc:.4f} ({model.best_iteration:>4} rounds)')\n",
    "        \n",
    "    print(f'\\nAvg. Accuracy: {np.mean(scores_acc):.4f} +/- {np.std(scores_acc):.4f}')\n",
    "    print(f'Avg. ROC-AUC: {np.mean(scores_auc):.4f} +/- {np.std(scores_auc):.4f}\\n')"
   ]
  },
  {
   "cell_type": "code",
   "execution_count": 10,
   "id": "a366a926",
   "metadata": {
    "execution": {
     "iopub.execute_input": "2024-07-18T11:17:00.301578Z",
     "iopub.status.busy": "2024-07-18T11:17:00.301171Z",
     "iopub.status.idle": "2024-07-18T11:17:00.312735Z",
     "shell.execute_reply": "2024-07-18T11:17:00.311604Z"
    },
    "papermill": {
     "duration": 0.023003,
     "end_time": "2024-07-18T11:17:00.315671",
     "exception": false,
     "start_time": "2024-07-18T11:17:00.292668",
     "status": "completed"
    },
    "tags": []
   },
   "outputs": [],
   "source": [
    "def refit_full_and_evaluate(model, feature_set):\n",
    "    global train, test, TARGET    \n",
    "    \n",
    "    X_train, X_val, y_train, y_val = train_test_split(\n",
    "        train[feature_set], train[TARGET], \n",
    "        test_size=0.05, # just for early stopping check\n",
    "        stratify=train[TARGET],\n",
    "        shuffle=True, \n",
    "        random_state=SEED\n",
    "    )\n",
    "    model.fit(\n",
    "        X_train, y_train,\n",
    "        eval_set=[(X_val, y_val)],\n",
    "        verbose=False\n",
    "    )\n",
    "    \n",
    "    probs = model.predict_proba(test[feature_set])[:, 1]\n",
    "    preds = model.predict(test[feature_set])\n",
    "    accuracy = accuracy_score(test[TARGET], preds)\n",
    "    auc = roc_auc_score(test[TARGET], probs)\n",
    "    print(f'|| Accuracy: {accuracy:.4f} || ROC-AUC: {auc:.4f} ||\\n')\n",
    "    \n",
    "    fig, ax = plt.subplots(figsize=(4, 3))\n",
    "    ax.set_title('Normalized Confusion Matrix')\n",
    "    sns.heatmap(\n",
    "        data=confusion_matrix(test[TARGET], preds, normalize='true'),\n",
    "        annot=True, fmt='.4f', linewidths=0.1, cmap=plt.cm.Blues\n",
    "    )\n",
    "    plt.xlabel('Prediction')\n",
    "    plt.ylabel('True label')\n",
    "    plt.show()\n",
    "    \n",
    "    return model"
   ]
  },
  {
   "cell_type": "code",
   "execution_count": 11,
   "id": "c1343d94",
   "metadata": {
    "execution": {
     "iopub.execute_input": "2024-07-18T11:17:00.331637Z",
     "iopub.status.busy": "2024-07-18T11:17:00.331247Z",
     "iopub.status.idle": "2024-07-18T11:17:00.337340Z",
     "shell.execute_reply": "2024-07-18T11:17:00.336170Z"
    },
    "papermill": {
     "duration": 0.017259,
     "end_time": "2024-07-18T11:17:00.340017",
     "exception": false,
     "start_time": "2024-07-18T11:17:00.322758",
     "status": "completed"
    },
    "tags": []
   },
   "outputs": [],
   "source": [
    "def save_model(model, config, notebook='03'):\n",
    "    save_path = f'{notebook}_{config}.joblib'\n",
    "    joblib.dump(model, save_path)"
   ]
  },
  {
   "cell_type": "code",
   "execution_count": 12,
   "id": "07bdddf0",
   "metadata": {
    "execution": {
     "iopub.execute_input": "2024-07-18T11:17:00.355976Z",
     "iopub.status.busy": "2024-07-18T11:17:00.355546Z",
     "iopub.status.idle": "2024-07-18T11:17:00.364179Z",
     "shell.execute_reply": "2024-07-18T11:17:00.362928Z"
    },
    "papermill": {
     "duration": 0.019611,
     "end_time": "2024-07-18T11:17:00.366760",
     "exception": false,
     "start_time": "2024-07-18T11:17:00.347149",
     "status": "completed"
    },
    "tags": []
   },
   "outputs": [],
   "source": [
    "def run_experiment(estimator, model_name, verbose=True, save=True):\n",
    "    global feature_sets\n",
    "    \n",
    "    for fname, fset in feature_sets.items():\n",
    "        print('\\n', '-'*25, fname, '-'*25)\n",
    "        start_time = time.time()\n",
    "        print('Cross-validation:')\n",
    "        cross_validate(estimator, fset, verbose)\n",
    "        print('Refit to full training data and evaluate:\\n')\n",
    "        model = refit_full_and_evaluate(estimator, fset)\n",
    "        end_time = time.time()\n",
    "        print(f'\\n(Time taken: {end_time - start_time:.2f} secs)')\n",
    "        \n",
    "        if save:\n",
    "            save_model(model, f'{model_name}_{fname}')"
   ]
  },
  {
   "cell_type": "markdown",
   "id": "e35d0ccc",
   "metadata": {
    "papermill": {
     "duration": 0.006676,
     "end_time": "2024-07-18T11:17:00.381301",
     "exception": false,
     "start_time": "2024-07-18T11:17:00.374625",
     "status": "completed"
    },
    "tags": []
   },
   "source": [
    "# Experiments"
   ]
  },
  {
   "cell_type": "code",
   "execution_count": 13,
   "id": "279393c3",
   "metadata": {
    "execution": {
     "iopub.execute_input": "2024-07-18T11:17:00.397809Z",
     "iopub.status.busy": "2024-07-18T11:17:00.396719Z",
     "iopub.status.idle": "2024-07-18T11:17:00.409663Z",
     "shell.execute_reply": "2024-07-18T11:17:00.408634Z"
    },
    "papermill": {
     "duration": 0.024023,
     "end_time": "2024-07-18T11:17:00.412274",
     "exception": false,
     "start_time": "2024-07-18T11:17:00.388251",
     "status": "completed"
    },
    "tags": []
   },
   "outputs": [],
   "source": [
    "class_ratio = train[TARGET].value_counts()[1] / train[TARGET].value_counts()[0]\n",
    "\n",
    "PARAMS = {\n",
    "    'booster': 'gbtree',\n",
    "    'tree_method': 'hist',\n",
    "    'objective': 'binary:logistic',\n",
    "    'eval_metric': 'error',\n",
    "    'scale_pos_weight': class_ratio,\n",
    "    'learning_rate': 0.01,\n",
    "    'n_estimators': 2000,\n",
    "    'early_stopping_rounds': 100,\n",
    "    'device': 'cpu',\n",
    "    'enable_categorical': True,\n",
    "    'max_cat_to_onehot': 2,\n",
    "    'verbosity': 0,\n",
    "    'n_jobs': None,\n",
    "    'seed': SEED\n",
    "}"
   ]
  },
  {
   "cell_type": "code",
   "execution_count": 14,
   "id": "fbc4edea",
   "metadata": {
    "execution": {
     "iopub.execute_input": "2024-07-18T11:17:00.428326Z",
     "iopub.status.busy": "2024-07-18T11:17:00.427903Z",
     "iopub.status.idle": "2024-07-18T11:17:14.329684Z",
     "shell.execute_reply": "2024-07-18T11:17:14.328698Z"
    },
    "papermill": {
     "duration": 13.912811,
     "end_time": "2024-07-18T11:17:14.332169",
     "exception": false,
     "start_time": "2024-07-18T11:17:00.419358",
     "status": "completed"
    },
    "tags": []
   },
   "outputs": [
    {
     "name": "stdout",
     "output_type": "stream",
     "text": [
      "\n",
      " ------------------------- Original -------------------------\n",
      "Cross-validation:\n",
      "\n",
      "Avg. Accuracy: 0.9564 +/- 0.0076\n",
      "Avg. ROC-AUC: 0.9544 +/- 0.0070\n",
      "\n",
      "Refit to full training data and evaluate:\n",
      "\n",
      "|| Accuracy: 0.9643 || ROC-AUC: 0.9599 ||\n",
      "\n"
     ]
    },
    {
     "data": {
      "image/png": "[encoded data removed]",
      "text/plain": [
       "<Figure size 400x300 with 2 Axes>"
      ]
     },
     "metadata": {},
     "output_type": "display_data"
    },
    {
     "name": "stdout",
     "output_type": "stream",
     "text": [
      "\n",
      "(Time taken: 4.19 secs)\n",
      "\n",
      " ------------------------- Extended -------------------------\n",
      "Cross-validation:\n",
      "\n",
      "Avg. Accuracy: 0.9575 +/- 0.0075\n",
      "Avg. ROC-AUC: 0.9540 +/- 0.0085\n",
      "\n",
      "Refit to full training data and evaluate:\n",
      "\n",
      "|| Accuracy: 0.9643 || ROC-AUC: 0.9599 ||\n",
      "\n"
     ]
    },
    {
     "data": {
      "image/png": "[encoded data removed]",
      "text/plain": [
       "<Figure size 400x300 with 2 Axes>"
      ]
     },
     "metadata": {},
     "output_type": "display_data"
    },
    {
     "name": "stdout",
     "output_type": "stream",
     "text": [
      "\n",
      "(Time taken: 4.09 secs)\n",
      "\n",
      " ------------------------- Binary -------------------------\n",
      "Cross-validation:\n",
      "\n",
      "Avg. Accuracy: 0.9431 +/- 0.0081\n",
      "Avg. ROC-AUC: 0.9457 +/- 0.0108\n",
      "\n",
      "Refit to full training data and evaluate:\n",
      "\n",
      "|| Accuracy: 0.9483 || ROC-AUC: 0.9490 ||\n",
      "\n"
     ]
    },
    {
     "data": {
      "image/png": "[encoded data removed]",
      "text/plain": [
       "<Figure size 400x300 with 2 Axes>"
      ]
     },
     "metadata": {},
     "output_type": "display_data"
    },
    {
     "name": "stdout",
     "output_type": "stream",
     "text": [
      "\n",
      "(Time taken: 3.16 secs)\n",
      "\n",
      " ------------------------- Minimal -------------------------\n",
      "Cross-validation:\n",
      "\n",
      "Avg. Accuracy: 0.9431 +/- 0.0081\n",
      "Avg. ROC-AUC: 0.9456 +/- 0.0109\n",
      "\n",
      "Refit to full training data and evaluate:\n",
      "\n",
      "|| Accuracy: 0.9483 || ROC-AUC: 0.9497 ||\n",
      "\n"
     ]
    },
    {
     "data": {
      "image/png": "[encoded data removed]",
      "text/plain": [
       "<Figure size 400x300 with 2 Axes>"
      ]
     },
     "metadata": {},
     "output_type": "display_data"
    },
    {
     "name": "stdout",
     "output_type": "stream",
     "text": [
      "\n",
      "(Time taken: 2.44 secs)\n"
     ]
    }
   ],
   "source": [
    "model = XGBClassifier(**PARAMS)\n",
    "\n",
    "run_experiment(model, 'xgb', verbose=False)"
   ]
  }
 ],
 "metadata": {
  "kaggle": {
   "accelerator": "none",
   "dataSources": [
    {
     "datasetId": 5236308,
     "sourceId": 8725325,
     "sourceType": "datasetVersion"
    }
   ],
   "dockerImageVersionId": 30746,
   "isGpuEnabled": false,
   "isInternetEnabled": true,
   "language": "python",
   "sourceType": "notebook"
  },
  "kernelspec": {
   "display_name": "Python 3",
   "language": "python",
   "name": "python3"
  },
  "language_info": {
   "codemirror_mode": {
    "name": "ipython",
    "version": 3
   },
   "file_extension": ".py",
   "mimetype": "text/x-python",
   "name": "python",
   "nbconvert_exporter": "python",
   "pygments_lexer": "ipython3",
   "version": "3.10.13"
  },
  "papermill": {
   "default_parameters": {},
   "duration": 21.741088,
   "end_time": "2024-07-18T11:17:15.065027",
   "environment_variables": {},
   "exception": null,
   "input_path": "__notebook__.ipynb",
   "output_path": "__notebook__.ipynb",
   "parameters": {},
   "start_time": "2024-07-18T11:16:53.323939",
   "version": "2.5.0"
  }
 },
 "nbformat": 4,
 "nbformat_minor": 5
}
