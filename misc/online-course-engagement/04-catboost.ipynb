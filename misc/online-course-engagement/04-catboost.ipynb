{
 "cells": [
  {
   "cell_type": "markdown",
   "id": "b8e950ca",
   "metadata": {
    "_cell_guid": "b1076dfc-b9ad-4769-8c92-a6c4dae69d19",
    "_uuid": "8f2839f25d086af736a60e9eeb907d3b93b6e0e5",
    "papermill": {
     "duration": 0.00948,
     "end_time": "2024-07-18T14:33:36.098938",
     "exception": false,
     "start_time": "2024-07-18T14:33:36.089458",
     "status": "completed"
    },
    "tags": []
   },
   "source": [
    "# Setup"
   ]
  },
  {
   "cell_type": "code",
   "execution_count": 1,
   "id": "d64298d2",
   "metadata": {
    "execution": {
     "iopub.execute_input": "2024-07-18T14:33:36.116214Z",
     "iopub.status.busy": "2024-07-18T14:33:36.115751Z",
     "iopub.status.idle": "2024-07-18T14:33:39.769402Z",
     "shell.execute_reply": "2024-07-18T14:33:39.768273Z"
    },
    "papermill": {
     "duration": 3.665361,
     "end_time": "2024-07-18T14:33:39.772535",
     "exception": false,
     "start_time": "2024-07-18T14:33:36.107174",
     "status": "completed"
    },
    "tags": []
   },
   "outputs": [],
   "source": [
    "import gc\n",
    "gc.enable()\n",
    "\n",
    "import warnings\n",
    "warnings.filterwarnings('ignore')\n",
    "\n",
    "import time\n",
    "import joblib\n",
    "import numpy as np\n",
    "import pandas as pd\n",
    "pd.set_option('display.max_columns', None)\n",
    "pd.set_option('display.precision', 4)\n",
    "\n",
    "import seaborn as sns\n",
    "import matplotlib.pyplot as plt\n",
    "%matplotlib inline\n",
    "\n",
    "from sklearn.base import clone\n",
    "from sklearn.model_selection import (\n",
    "    train_test_split, \n",
    "    StratifiedKFold\n",
    ")\n",
    "from sklearn.metrics import (\n",
    "    accuracy_score,\n",
    "    roc_auc_score,\n",
    "    confusion_matrix\n",
    ")\n",
    "from catboost import CatBoostClassifier\n",
    "\n",
    "SEED = 2024"
   ]
  },
  {
   "cell_type": "markdown",
   "id": "56867379",
   "metadata": {
    "papermill": {
     "duration": 0.006689,
     "end_time": "2024-07-18T14:33:39.786542",
     "exception": false,
     "start_time": "2024-07-18T14:33:39.779853",
     "status": "completed"
    },
    "tags": []
   },
   "source": [
    "# Data preparation"
   ]
  },
  {
   "cell_type": "code",
   "execution_count": 2,
   "id": "a86ea130",
   "metadata": {
    "execution": {
     "iopub.execute_input": "2024-07-18T14:33:39.802542Z",
     "iopub.status.busy": "2024-07-18T14:33:39.801970Z",
     "iopub.status.idle": "2024-07-18T14:33:39.852971Z",
     "shell.execute_reply": "2024-07-18T14:33:39.851716Z"
    },
    "papermill": {
     "duration": 0.062599,
     "end_time": "2024-07-18T14:33:39.856097",
     "exception": false,
     "start_time": "2024-07-18T14:33:39.793498",
     "status": "completed"
    },
    "tags": []
   },
   "outputs": [],
   "source": [
    "data = pd.read_csv('/kaggle/input/predict-online-course-engagement-dataset/online_course_engagement_data.csv')"
   ]
  },
  {
   "cell_type": "code",
   "execution_count": 3,
   "id": "804d5af3",
   "metadata": {
    "execution": {
     "iopub.execute_input": "2024-07-18T14:33:39.873968Z",
     "iopub.status.busy": "2024-07-18T14:33:39.872666Z",
     "iopub.status.idle": "2024-07-18T14:33:39.880558Z",
     "shell.execute_reply": "2024-07-18T14:33:39.879283Z"
    },
    "papermill": {
     "duration": 0.01996,
     "end_time": "2024-07-18T14:33:39.883585",
     "exception": false,
     "start_time": "2024-07-18T14:33:39.863625",
     "status": "completed"
    },
    "tags": []
   },
   "outputs": [],
   "source": [
    "TARGET = 'CourseCompletion'\n",
    "features = [f for f in data.columns if f not in ('UserID', TARGET)]\n",
    "cat_features = ['DeviceType', 'CourseCategory']\n",
    "num_features = [f for f in features if f not in cat_features]"
   ]
  },
  {
   "cell_type": "markdown",
   "id": "23f2e37b",
   "metadata": {
    "papermill": {
     "duration": 0.007158,
     "end_time": "2024-07-18T14:33:39.898063",
     "exception": false,
     "start_time": "2024-07-18T14:33:39.890905",
     "status": "completed"
    },
    "tags": []
   },
   "source": [
    "### Preprocessing"
   ]
  },
  {
   "cell_type": "code",
   "execution_count": 4,
   "id": "29e8c6db",
   "metadata": {
    "execution": {
     "iopub.execute_input": "2024-07-18T14:33:39.913969Z",
     "iopub.status.busy": "2024-07-18T14:33:39.913556Z",
     "iopub.status.idle": "2024-07-18T14:33:39.923563Z",
     "shell.execute_reply": "2024-07-18T14:33:39.922208Z"
    },
    "papermill": {
     "duration": 0.021494,
     "end_time": "2024-07-18T14:33:39.926624",
     "exception": false,
     "start_time": "2024-07-18T14:33:39.905130",
     "status": "completed"
    },
    "tags": []
   },
   "outputs": [],
   "source": [
    "def preprocess_dataset(df):\n",
    "    # remove duplicates\n",
    "    df = df.drop_duplicates(ignore_index=True)\n",
    "    \n",
    "    # one-hot encoding nominal variable\n",
    "    df = pd.get_dummies(df, columns=['CourseCategory'], dtype='category')\n",
    "    \n",
    "    df['DeviceType'] = df['DeviceType'].astype('category')\n",
    "    \n",
    "    # binarize numerical features\n",
    "    df['time_spent_above_threshold'] = (df['TimeSpentOnCourse'] > 20).astype('category')\n",
    "    df['num_videos_above_threshold'] = (df['NumberOfVideosWatched'] > 5).astype('category')\n",
    "    df['num_quizzes_above_threshold'] = (df['NumberOfQuizzesTaken'] > 3).astype('category')\n",
    "    df['quiz_scores_above_threshold'] = (df['QuizScores'] > 68).astype('category')\n",
    "    df['completion_above_threshold'] = (df['CompletionRate'] > 60).astype('category')\n",
    "    \n",
    "    return df"
   ]
  },
  {
   "cell_type": "code",
   "execution_count": 5,
   "id": "e32a8edd",
   "metadata": {
    "execution": {
     "iopub.execute_input": "2024-07-18T14:33:39.942595Z",
     "iopub.status.busy": "2024-07-18T14:33:39.942203Z",
     "iopub.status.idle": "2024-07-18T14:33:39.990392Z",
     "shell.execute_reply": "2024-07-18T14:33:39.989155Z"
    },
    "papermill": {
     "duration": 0.059254,
     "end_time": "2024-07-18T14:33:39.993101",
     "exception": false,
     "start_time": "2024-07-18T14:33:39.933847",
     "status": "completed"
    },
    "tags": []
   },
   "outputs": [],
   "source": [
    "data = preprocess_dataset(data.copy())"
   ]
  },
  {
   "cell_type": "markdown",
   "id": "733a3f07",
   "metadata": {
    "papermill": {
     "duration": 0.007009,
     "end_time": "2024-07-18T14:33:40.007368",
     "exception": false,
     "start_time": "2024-07-18T14:33:40.000359",
     "status": "completed"
    },
    "tags": []
   },
   "source": [
    "### Feature sets"
   ]
  },
  {
   "cell_type": "code",
   "execution_count": 6,
   "id": "2c9e810c",
   "metadata": {
    "execution": {
     "iopub.execute_input": "2024-07-18T14:33:40.024269Z",
     "iopub.status.busy": "2024-07-18T14:33:40.023723Z",
     "iopub.status.idle": "2024-07-18T14:33:40.032226Z",
     "shell.execute_reply": "2024-07-18T14:33:40.030990Z"
    },
    "papermill": {
     "duration": 0.019756,
     "end_time": "2024-07-18T14:33:40.034755",
     "exception": false,
     "start_time": "2024-07-18T14:33:40.014999",
     "status": "completed"
    },
    "tags": []
   },
   "outputs": [],
   "source": [
    "original_features = [\n",
    "    'TimeSpentOnCourse', 'NumberOfVideosWatched', 'NumberOfQuizzesTaken', \n",
    "    'QuizScores', 'CompletionRate', 'DeviceType', 'CourseCategory_Arts', \n",
    "    'CourseCategory_Business', 'CourseCategory_Health', \n",
    "    'CourseCategory_Programming', 'CourseCategory_Science'\n",
    "]\n",
    "\n",
    "extended_features = [\n",
    "    'TimeSpentOnCourse', 'NumberOfVideosWatched', 'NumberOfQuizzesTaken', \n",
    "    'QuizScores', 'CompletionRate', 'DeviceType', 'CourseCategory_Arts', \n",
    "    'CourseCategory_Business', 'CourseCategory_Health', \n",
    "    'CourseCategory_Programming', 'CourseCategory_Science', \n",
    "    'time_spent_above_threshold', 'num_videos_above_threshold', \n",
    "    'num_quizzes_above_threshold', 'quiz_scores_above_threshold', \n",
    "    'completion_above_threshold'\n",
    "]\n",
    "\n",
    "binary_features = [\n",
    "    'DeviceType', 'CourseCategory_Arts', 'CourseCategory_Business', \n",
    "    'CourseCategory_Health', 'CourseCategory_Programming', \n",
    "    'CourseCategory_Science', 'time_spent_above_threshold', \n",
    "    'num_videos_above_threshold', 'num_quizzes_above_threshold', \n",
    "    'quiz_scores_above_threshold', 'completion_above_threshold'\n",
    "]\n",
    "\n",
    "minimal_features = [\n",
    "    'time_spent_above_threshold', 'num_videos_above_threshold', \n",
    "    'num_quizzes_above_threshold', 'quiz_scores_above_threshold', \n",
    "    'completion_above_threshold'\n",
    "]"
   ]
  },
  {
   "cell_type": "code",
   "execution_count": 7,
   "id": "2ccb4f6b",
   "metadata": {
    "execution": {
     "iopub.execute_input": "2024-07-18T14:33:40.051393Z",
     "iopub.status.busy": "2024-07-18T14:33:40.050980Z",
     "iopub.status.idle": "2024-07-18T14:33:40.057163Z",
     "shell.execute_reply": "2024-07-18T14:33:40.055564Z"
    },
    "papermill": {
     "duration": 0.017916,
     "end_time": "2024-07-18T14:33:40.059984",
     "exception": false,
     "start_time": "2024-07-18T14:33:40.042068",
     "status": "completed"
    },
    "tags": []
   },
   "outputs": [],
   "source": [
    "feature_sets = {\n",
    "    'Original': original_features,\n",
    "    'Extended': extended_features,\n",
    "    'Binary': binary_features,\n",
    "    'Minimal': minimal_features\n",
    "}"
   ]
  },
  {
   "cell_type": "markdown",
   "id": "7faeaf65",
   "metadata": {
    "papermill": {
     "duration": 0.006777,
     "end_time": "2024-07-18T14:33:40.074210",
     "exception": false,
     "start_time": "2024-07-18T14:33:40.067433",
     "status": "completed"
    },
    "tags": []
   },
   "source": [
    "### Holdout set for model-testing"
   ]
  },
  {
   "cell_type": "code",
   "execution_count": 8,
   "id": "313a51c3",
   "metadata": {
    "execution": {
     "iopub.execute_input": "2024-07-18T14:33:40.090116Z",
     "iopub.status.busy": "2024-07-18T14:33:40.089693Z",
     "iopub.status.idle": "2024-07-18T14:33:40.104962Z",
     "shell.execute_reply": "2024-07-18T14:33:40.103982Z"
    },
    "papermill": {
     "duration": 0.026297,
     "end_time": "2024-07-18T14:33:40.107685",
     "exception": false,
     "start_time": "2024-07-18T14:33:40.081388",
     "status": "completed"
    },
    "tags": []
   },
   "outputs": [],
   "source": [
    "train, test, _, _ = train_test_split(\n",
    "    data, data[TARGET],\n",
    "    stratify=data[TARGET],\n",
    "    test_size=0.1,  # same size\n",
    "    shuffle=True,\n",
    "    random_state=SEED  # same sampling\n",
    ")"
   ]
  },
  {
   "cell_type": "markdown",
   "id": "6b924ed2",
   "metadata": {
    "papermill": {
     "duration": 0.006659,
     "end_time": "2024-07-18T14:33:40.121486",
     "exception": false,
     "start_time": "2024-07-18T14:33:40.114827",
     "status": "completed"
    },
    "tags": []
   },
   "source": [
    "# Modeling framework"
   ]
  },
  {
   "cell_type": "code",
   "execution_count": 9,
   "id": "5a7fe793",
   "metadata": {
    "execution": {
     "iopub.execute_input": "2024-07-18T14:33:40.137842Z",
     "iopub.status.busy": "2024-07-18T14:33:40.137432Z",
     "iopub.status.idle": "2024-07-18T14:33:40.149482Z",
     "shell.execute_reply": "2024-07-18T14:33:40.148262Z"
    },
    "papermill": {
     "duration": 0.023415,
     "end_time": "2024-07-18T14:33:40.152497",
     "exception": false,
     "start_time": "2024-07-18T14:33:40.129082",
     "status": "completed"
    },
    "tags": []
   },
   "outputs": [],
   "source": [
    "def cross_validate(estimator, feature_set, verbose=True, num_folds=9):\n",
    "    global train, test, TARGET\n",
    "    \n",
    "    scores_auc, scores_acc = [], []\n",
    "    X, y = train[feature_set], train[TARGET]\n",
    "    cat_feats = [f for f in feature_set if train[f].dtype == 'category']\n",
    "    \n",
    "    cv = StratifiedKFold(n_splits=num_folds, shuffle=True, random_state=SEED)\n",
    "    for fold, (train_ids, val_ids) in enumerate(cv.split(X, y)):\n",
    "        X_train, y_train = X.iloc[train_ids], y.iloc[train_ids]\n",
    "        X_val, y_val = X.iloc[val_ids], y.iloc[val_ids]\n",
    "        \n",
    "        model = clone(estimator)\n",
    "        model.fit(\n",
    "            X_train, y_train,\n",
    "            eval_set=[(X_val, y_val)],\n",
    "            cat_features=cat_feats,\n",
    "            verbose=False\n",
    "        )\n",
    "        probs = model.predict_proba(X_val)[:, 1]\n",
    "        auc = roc_auc_score(y_val, probs)\n",
    "        scores_auc.append(auc)\n",
    "        preds = model.predict(X_val)\n",
    "        acc = accuracy_score(y_val, preds)\n",
    "        scores_acc.append(acc)\n",
    "        \n",
    "        if verbose:\n",
    "            print(f'Fold #{fold}: Accuracy: {acc:.4f}, ROC-AUC: {auc:.4f} ({model.best_iteration_:>4} rounds)')\n",
    "        \n",
    "    print(f'\\nAvg. Accuracy: {np.mean(scores_acc):.4f} +/- {np.std(scores_acc):.4f}')\n",
    "    print(f'Avg. ROC-AUC: {np.mean(scores_auc):.4f} +/- {np.std(scores_auc):.4f}\\n')"
   ]
  },
  {
   "cell_type": "code",
   "execution_count": 10,
   "id": "291978be",
   "metadata": {
    "execution": {
     "iopub.execute_input": "2024-07-18T14:33:40.168908Z",
     "iopub.status.busy": "2024-07-18T14:33:40.168373Z",
     "iopub.status.idle": "2024-07-18T14:33:40.180057Z",
     "shell.execute_reply": "2024-07-18T14:33:40.178829Z"
    },
    "papermill": {
     "duration": 0.022764,
     "end_time": "2024-07-18T14:33:40.182604",
     "exception": false,
     "start_time": "2024-07-18T14:33:40.159840",
     "status": "completed"
    },
    "tags": []
   },
   "outputs": [],
   "source": [
    "def refit_full_and_evaluate(model, feature_set):\n",
    "    global train, test, TARGET    \n",
    "    \n",
    "    X_train, X_val, y_train, y_val = train_test_split(\n",
    "        train[feature_set], train[TARGET], \n",
    "        test_size=0.05, # just for early stopping check\n",
    "        stratify=train[TARGET],\n",
    "        shuffle=True, \n",
    "        random_state=SEED\n",
    "    )\n",
    "    cat_feats = [f for f in feature_set if train[f].dtype == 'category']\n",
    "    model.fit(\n",
    "        X_train, y_train,\n",
    "        eval_set=[(X_val, y_val)],\n",
    "        cat_features=cat_feats,\n",
    "        verbose=False\n",
    "    )\n",
    "    \n",
    "    probs = model.predict_proba(test[feature_set])[:, 1]\n",
    "    preds = model.predict(test[feature_set])\n",
    "    accuracy = accuracy_score(test[TARGET], preds)\n",
    "    auc = roc_auc_score(test[TARGET], probs)\n",
    "    print(f'|| Accuracy: {accuracy:.4f} || ROC-AUC: {auc:.4f} ||\\n')\n",
    "    \n",
    "    fig, ax = plt.subplots(figsize=(4, 3))\n",
    "    ax.set_title('Normalized Confusion Matrix')\n",
    "    sns.heatmap(\n",
    "        data=confusion_matrix(test[TARGET], preds, normalize='true'),\n",
    "        annot=True, fmt='.4f', linewidths=0.1, cmap=plt.cm.Blues\n",
    "    )\n",
    "    plt.xlabel('Prediction')\n",
    "    plt.ylabel('True label')\n",
    "    plt.show()\n",
    "    \n",
    "    return model"
   ]
  },
  {
   "cell_type": "code",
   "execution_count": 11,
   "id": "30206ae1",
   "metadata": {
    "execution": {
     "iopub.execute_input": "2024-07-18T14:33:40.198629Z",
     "iopub.status.busy": "2024-07-18T14:33:40.198225Z",
     "iopub.status.idle": "2024-07-18T14:33:40.203859Z",
     "shell.execute_reply": "2024-07-18T14:33:40.202776Z"
    },
    "papermill": {
     "duration": 0.01649,
     "end_time": "2024-07-18T14:33:40.206343",
     "exception": false,
     "start_time": "2024-07-18T14:33:40.189853",
     "status": "completed"
    },
    "tags": []
   },
   "outputs": [],
   "source": [
    "def save_model(model, config, notebook='04'):\n",
    "    save_path = f'{notebook}_{config}.joblib'\n",
    "    joblib.dump(model, save_path)"
   ]
  },
  {
   "cell_type": "code",
   "execution_count": 12,
   "id": "e2251bb7",
   "metadata": {
    "execution": {
     "iopub.execute_input": "2024-07-18T14:33:40.222137Z",
     "iopub.status.busy": "2024-07-18T14:33:40.221646Z",
     "iopub.status.idle": "2024-07-18T14:33:40.230009Z",
     "shell.execute_reply": "2024-07-18T14:33:40.228792Z"
    },
    "papermill": {
     "duration": 0.019128,
     "end_time": "2024-07-18T14:33:40.232511",
     "exception": false,
     "start_time": "2024-07-18T14:33:40.213383",
     "status": "completed"
    },
    "tags": []
   },
   "outputs": [],
   "source": [
    "def run_experiment(estimator, model_name, verbose=True, save=True):\n",
    "    global feature_sets\n",
    "    \n",
    "    for fname, fset in feature_sets.items():\n",
    "        print('\\n', '-'*25, fname, '-'*25)\n",
    "        start_time = time.time()\n",
    "        print('Cross-validation:')\n",
    "        cross_validate(estimator, fset, verbose)\n",
    "        print('Refit to full training data and evaluate:\\n')\n",
    "        model = refit_full_and_evaluate(estimator, fset)\n",
    "        end_time = time.time()\n",
    "        print(f'\\n(Time taken: {end_time - start_time:.2f} secs)')\n",
    "        \n",
    "        if save:\n",
    "            save_model(model, f'{model_name}_{fname}')"
   ]
  },
  {
   "cell_type": "markdown",
   "id": "bcf8c661",
   "metadata": {
    "papermill": {
     "duration": 0.006768,
     "end_time": "2024-07-18T14:33:40.247426",
     "exception": false,
     "start_time": "2024-07-18T14:33:40.240658",
     "status": "completed"
    },
    "tags": []
   },
   "source": [
    "# Experiments"
   ]
  },
  {
   "cell_type": "code",
   "execution_count": 13,
   "id": "0c9e4131",
   "metadata": {
    "execution": {
     "iopub.execute_input": "2024-07-18T14:33:40.263658Z",
     "iopub.status.busy": "2024-07-18T14:33:40.262753Z",
     "iopub.status.idle": "2024-07-18T14:33:40.269128Z",
     "shell.execute_reply": "2024-07-18T14:33:40.267938Z"
    },
    "papermill": {
     "duration": 0.017598,
     "end_time": "2024-07-18T14:33:40.271973",
     "exception": false,
     "start_time": "2024-07-18T14:33:40.254375",
     "status": "completed"
    },
    "tags": []
   },
   "outputs": [],
   "source": [
    "PARAMS = {\n",
    "    'loss_function': 'Logloss',\n",
    "    'eval_metric': 'Logloss',\n",
    "    'metric_period': 1,\n",
    "    'iterations': 5000,\n",
    "    'learning_rate': 0.01,\n",
    "    'early_stopping_rounds': 100,\n",
    "    'auto_class_weights': 'Balanced',\n",
    "    'use_best_model': True,\n",
    "    'task_type': 'CPU',\n",
    "    'thread_count': -1,\n",
    "    'random_state': SEED\n",
    "}"
   ]
  },
  {
   "cell_type": "code",
   "execution_count": 14,
   "id": "dd3ac046",
   "metadata": {
    "execution": {
     "iopub.execute_input": "2024-07-18T14:33:40.288132Z",
     "iopub.status.busy": "2024-07-18T14:33:40.287658Z",
     "iopub.status.idle": "2024-07-18T14:35:25.043436Z",
     "shell.execute_reply": "2024-07-18T14:35:25.041988Z"
    },
    "papermill": {
     "duration": 104.766898,
     "end_time": "2024-07-18T14:35:25.046177",
     "exception": false,
     "start_time": "2024-07-18T14:33:40.279279",
     "status": "completed"
    },
    "tags": []
   },
   "outputs": [
    {
     "name": "stdout",
     "output_type": "stream",
     "text": [
      "\n",
      " ------------------------- Original -------------------------\n",
      "Cross-validation:\n",
      "Fold #0: Accuracy: 0.9569, ROC-AUC: 0.9568 ( 552 rounds)\n",
      "Fold #1: Accuracy: 0.9434, ROC-AUC: 0.9423 ( 326 rounds)\n",
      "Fold #2: Accuracy: 0.9569, ROC-AUC: 0.9499 ( 361 rounds)\n",
      "Fold #3: Accuracy: 0.9544, ROC-AUC: 0.9511 ( 449 rounds)\n",
      "Fold #4: Accuracy: 0.9544, ROC-AUC: 0.9541 ( 462 rounds)\n",
      "Fold #5: Accuracy: 0.9470, ROC-AUC: 0.9490 ( 604 rounds)\n",
      "Fold #6: Accuracy: 0.9594, ROC-AUC: 0.9640 ( 550 rounds)\n",
      "Fold #7: Accuracy: 0.9618, ROC-AUC: 0.9622 ( 475 rounds)\n",
      "Fold #8: Accuracy: 0.9680, ROC-AUC: 0.9801 (3396 rounds)\n",
      "\n",
      "Avg. Accuracy: 0.9558 +/- 0.0069\n",
      "Avg. ROC-AUC: 0.9566 +/- 0.0104\n",
      "\n",
      "Refit to full training data and evaluate:\n",
      "\n",
      "|| Accuracy: 0.9631 || ROC-AUC: 0.9635 ||\n",
      "\n"
     ]
    },
    {
     "data": {
      "image/png": "[encoded data removed]",
      "text/plain": [
       "<Figure size 400x300 with 2 Axes>"
      ]
     },
     "metadata": {},
     "output_type": "display_data"
    },
    {
     "name": "stdout",
     "output_type": "stream",
     "text": [
      "\n",
      "(Time taken: 38.76 secs)\n",
      "\n",
      " ------------------------- Extended -------------------------\n",
      "Cross-validation:\n",
      "Fold #0: Accuracy: 0.9582, ROC-AUC: 0.9581 ( 608 rounds)\n",
      "Fold #1: Accuracy: 0.9446, ROC-AUC: 0.9438 ( 309 rounds)\n",
      "Fold #2: Accuracy: 0.9581, ROC-AUC: 0.9501 ( 309 rounds)\n",
      "Fold #3: Accuracy: 0.9557, ROC-AUC: 0.9503 ( 366 rounds)\n",
      "Fold #4: Accuracy: 0.9544, ROC-AUC: 0.9552 ( 493 rounds)\n",
      "Fold #5: Accuracy: 0.9495, ROC-AUC: 0.9470 ( 406 rounds)\n",
      "Fold #6: Accuracy: 0.9594, ROC-AUC: 0.9630 ( 620 rounds)\n",
      "Fold #7: Accuracy: 0.9655, ROC-AUC: 0.9619 ( 516 rounds)\n",
      "Fold #8: Accuracy: 0.9704, ROC-AUC: 0.9795 (2508 rounds)\n",
      "\n",
      "Avg. Accuracy: 0.9573 +/- 0.0073\n",
      "Avg. ROC-AUC: 0.9566 +/- 0.0102\n",
      "\n",
      "Refit to full training data and evaluate:\n",
      "\n",
      "|| Accuracy: 0.9643 || ROC-AUC: 0.9625 ||\n",
      "\n"
     ]
    },
    {
     "data": {
      "image/png": "[encoded data removed]",
      "text/plain": [
       "<Figure size 400x300 with 2 Axes>"
      ]
     },
     "metadata": {},
     "output_type": "display_data"
    },
    {
     "name": "stdout",
     "output_type": "stream",
     "text": [
      "\n",
      "(Time taken: 31.99 secs)\n",
      "\n",
      " ------------------------- Binary -------------------------\n",
      "Cross-validation:\n",
      "Fold #0: Accuracy: 0.9410, ROC-AUC: 0.9497 ( 310 rounds)\n",
      "Fold #1: Accuracy: 0.9299, ROC-AUC: 0.9378 ( 330 rounds)\n",
      "Fold #2: Accuracy: 0.9446, ROC-AUC: 0.9489 ( 281 rounds)\n",
      "Fold #3: Accuracy: 0.9409, ROC-AUC: 0.9446 ( 297 rounds)\n",
      "Fold #4: Accuracy: 0.9433, ROC-AUC: 0.9427 ( 325 rounds)\n",
      "Fold #5: Accuracy: 0.9384, ROC-AUC: 0.9358 ( 254 rounds)\n",
      "Fold #6: Accuracy: 0.9372, ROC-AUC: 0.9473 ( 243 rounds)\n",
      "Fold #7: Accuracy: 0.9569, ROC-AUC: 0.9596 ( 502 rounds)\n",
      "Fold #8: Accuracy: 0.9557, ROC-AUC: 0.9611 ( 527 rounds)\n",
      "\n",
      "Avg. Accuracy: 0.9431 +/- 0.0081\n",
      "Avg. ROC-AUC: 0.9475 +/- 0.0082\n",
      "\n",
      "Refit to full training data and evaluate:\n",
      "\n",
      "|| Accuracy: 0.9483 || ROC-AUC: 0.9498 ||\n",
      "\n"
     ]
    },
    {
     "data": {
      "image/png": "[encoded data removed]",
      "text/plain": [
       "<Figure size 400x300 with 2 Axes>"
      ]
     },
     "metadata": {},
     "output_type": "display_data"
    },
    {
     "name": "stdout",
     "output_type": "stream",
     "text": [
      "\n",
      "(Time taken: 15.54 secs)\n",
      "\n",
      " ------------------------- Minimal -------------------------\n",
      "Cross-validation:\n",
      "Fold #0: Accuracy: 0.9410, ROC-AUC: 0.9508 ( 467 rounds)\n",
      "Fold #1: Accuracy: 0.9299, ROC-AUC: 0.9315 ( 284 rounds)\n",
      "Fold #2: Accuracy: 0.9446, ROC-AUC: 0.9467 ( 437 rounds)\n",
      "Fold #3: Accuracy: 0.9409, ROC-AUC: 0.9434 ( 570 rounds)\n",
      "Fold #4: Accuracy: 0.9433, ROC-AUC: 0.9457 ( 466 rounds)\n",
      "Fold #5: Accuracy: 0.9384, ROC-AUC: 0.9413 ( 358 rounds)\n",
      "Fold #6: Accuracy: 0.9372, ROC-AUC: 0.9534 ( 431 rounds)\n",
      "Fold #7: Accuracy: 0.9569, ROC-AUC: 0.9592 ( 936 rounds)\n",
      "Fold #8: Accuracy: 0.9557, ROC-AUC: 0.9625 (1217 rounds)\n",
      "\n",
      "Avg. Accuracy: 0.9431 +/- 0.0081\n",
      "Avg. ROC-AUC: 0.9483 +/- 0.0089\n",
      "\n",
      "Refit to full training data and evaluate:\n",
      "\n",
      "|| Accuracy: 0.9483 || ROC-AUC: 0.9517 ||\n",
      "\n"
     ]
    },
    {
     "data": {
      "image/png": "[encoded data removed]",
      "text/plain": [
       "<Figure size 400x300 with 2 Axes>"
      ]
     },
     "metadata": {},
     "output_type": "display_data"
    },
    {
     "name": "stdout",
     "output_type": "stream",
     "text": [
      "\n",
      "(Time taken: 18.42 secs)\n"
     ]
    }
   ],
   "source": [
    "model = CatBoostClassifier(**PARAMS)\n",
    "\n",
    "run_experiment(model, 'catb', verbose=True)"
   ]
  }
 ],
 "metadata": {
  "kaggle": {
   "accelerator": "none",
   "dataSources": [
    {
     "datasetId": 5236308,
     "sourceId": 8725325,
     "sourceType": "datasetVersion"
    }
   ],
   "dockerImageVersionId": 30746,
   "isGpuEnabled": false,
   "isInternetEnabled": true,
   "language": "python",
   "sourceType": "notebook"
  },
  "kernelspec": {
   "display_name": "Python 3",
   "language": "python",
   "name": "python3"
  },
  "language_info": {
   "codemirror_mode": {
    "name": "ipython",
    "version": 3
   },
   "file_extension": ".py",
   "mimetype": "text/x-python",
   "name": "python",
   "nbconvert_exporter": "python",
   "pygments_lexer": "ipython3",
   "version": "3.10.13"
  },
  "papermill": {
   "default_parameters": {},
   "duration": 113.012681,
   "end_time": "2024-07-18T14:35:25.782805",
   "environment_variables": {},
   "exception": null,
   "input_path": "__notebook__.ipynb",
   "output_path": "__notebook__.ipynb",
   "parameters": {},
   "start_time": "2024-07-18T14:33:32.770124",
   "version": "2.5.0"
  }
 },
 "nbformat": 4,
 "nbformat_minor": 5
}
