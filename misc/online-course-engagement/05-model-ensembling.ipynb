{
 "cells": [
  {
   "cell_type": "markdown",
   "id": "25f6a3e1",
   "metadata": {
    "_cell_guid": "b1076dfc-b9ad-4769-8c92-a6c4dae69d19",
    "_uuid": "8f2839f25d086af736a60e9eeb907d3b93b6e0e5",
    "papermill": {
     "duration": 0.009979,
     "end_time": "2024-07-19T15:39:22.428090",
     "exception": false,
     "start_time": "2024-07-19T15:39:22.418111",
     "status": "completed"
    },
    "tags": []
   },
   "source": [
    "# Setup"
   ]
  },
  {
   "cell_type": "code",
   "execution_count": 1,
   "id": "966dc32a",
   "metadata": {
    "execution": {
     "iopub.execute_input": "2024-07-19T15:39:22.449329Z",
     "iopub.status.busy": "2024-07-19T15:39:22.448881Z",
     "iopub.status.idle": "2024-07-19T15:39:26.379178Z",
     "shell.execute_reply": "2024-07-19T15:39:26.377780Z"
    },
    "papermill": {
     "duration": 3.944784,
     "end_time": "2024-07-19T15:39:26.382534",
     "exception": false,
     "start_time": "2024-07-19T15:39:22.437750",
     "status": "completed"
    },
    "tags": []
   },
   "outputs": [],
   "source": [
    "import gc\n",
    "gc.enable()\n",
    "\n",
    "import warnings\n",
    "warnings.filterwarnings(category=FutureWarning, action='ignore')\n",
    "warnings.filterwarnings(category=UserWarning, action='ignore')\n",
    "warnings.filterwarnings(category=DeprecationWarning, action='ignore')\n",
    "\n",
    "import time\n",
    "import joblib\n",
    "import numpy as np\n",
    "import pandas as pd\n",
    "pd.set_option('display.max_columns', None)\n",
    "pd.set_option('display.precision', 4)\n",
    "\n",
    "import seaborn as sns\n",
    "import matplotlib.pyplot as plt\n",
    "%matplotlib inline\n",
    "\n",
    "from sklearn.base import clone\n",
    "from sklearn.model_selection import (\n",
    "    train_test_split, \n",
    "    StratifiedKFold\n",
    ")\n",
    "from sklearn.metrics import (\n",
    "    make_scorer,\n",
    "    accuracy_score,\n",
    "    roc_auc_score,\n",
    "    confusion_matrix\n",
    ")\n",
    "from sklearn.pipeline import make_pipeline\n",
    "from sklearn.preprocessing import StandardScaler\n",
    "from sklearn.linear_model import (\n",
    "    LogisticRegression,\n",
    "    RidgeClassifier\n",
    ")\n",
    "from sklearn.discriminant_analysis import (\n",
    "    LinearDiscriminantAnalysis,\n",
    "    QuadraticDiscriminantAnalysis\n",
    ")\n",
    "from sklearn.naive_bayes import GaussianNB, BernoulliNB\n",
    "from sklearn.neighbors import KNeighborsClassifier\n",
    "from sklearn.tree import DecisionTreeClassifier\n",
    "from sklearn.neural_network import MLPClassifier\n",
    "from sklearn.ensemble import (\n",
    "    RandomForestClassifier, \n",
    "    AdaBoostClassifier,\n",
    "    HistGradientBoostingClassifier,\n",
    "    VotingClassifier,\n",
    "    StackingClassifier\n",
    ")\n",
    "from xgboost import XGBClassifier\n",
    "from catboost import CatBoostClassifier\n",
    "\n",
    "SEED = 2024"
   ]
  },
  {
   "cell_type": "markdown",
   "id": "bb9754ff",
   "metadata": {
    "papermill": {
     "duration": 0.009337,
     "end_time": "2024-07-19T15:39:26.401625",
     "exception": false,
     "start_time": "2024-07-19T15:39:26.392288",
     "status": "completed"
    },
    "tags": []
   },
   "source": [
    "# Data preparation"
   ]
  },
  {
   "cell_type": "code",
   "execution_count": 2,
   "id": "429e5298",
   "metadata": {
    "execution": {
     "iopub.execute_input": "2024-07-19T15:39:26.423157Z",
     "iopub.status.busy": "2024-07-19T15:39:26.422472Z",
     "iopub.status.idle": "2024-07-19T15:39:26.482430Z",
     "shell.execute_reply": "2024-07-19T15:39:26.480594Z"
    },
    "papermill": {
     "duration": 0.074226,
     "end_time": "2024-07-19T15:39:26.485511",
     "exception": false,
     "start_time": "2024-07-19T15:39:26.411285",
     "status": "completed"
    },
    "tags": []
   },
   "outputs": [],
   "source": [
    "data = pd.read_csv('/kaggle/input/predict-online-course-engagement-dataset/online_course_engagement_data.csv')"
   ]
  },
  {
   "cell_type": "code",
   "execution_count": 3,
   "id": "69d20754",
   "metadata": {
    "execution": {
     "iopub.execute_input": "2024-07-19T15:39:26.511419Z",
     "iopub.status.busy": "2024-07-19T15:39:26.510369Z",
     "iopub.status.idle": "2024-07-19T15:39:26.517694Z",
     "shell.execute_reply": "2024-07-19T15:39:26.516299Z"
    },
    "papermill": {
     "duration": 0.024421,
     "end_time": "2024-07-19T15:39:26.520916",
     "exception": false,
     "start_time": "2024-07-19T15:39:26.496495",
     "status": "completed"
    },
    "tags": []
   },
   "outputs": [],
   "source": [
    "TARGET = 'CourseCompletion'\n",
    "features = [f for f in data.columns if f not in ('UserID', TARGET)]\n",
    "cat_features = ['DeviceType', 'CourseCategory']\n",
    "num_features = [f for f in features if f not in cat_features]"
   ]
  },
  {
   "cell_type": "markdown",
   "id": "8ce39eb6",
   "metadata": {
    "papermill": {
     "duration": 0.010175,
     "end_time": "2024-07-19T15:39:26.544844",
     "exception": false,
     "start_time": "2024-07-19T15:39:26.534669",
     "status": "completed"
    },
    "tags": []
   },
   "source": [
    "### Preprocessing"
   ]
  },
  {
   "cell_type": "code",
   "execution_count": 4,
   "id": "363fa929",
   "metadata": {
    "execution": {
     "iopub.execute_input": "2024-07-19T15:39:26.568602Z",
     "iopub.status.busy": "2024-07-19T15:39:26.568162Z",
     "iopub.status.idle": "2024-07-19T15:39:26.577292Z",
     "shell.execute_reply": "2024-07-19T15:39:26.576019Z"
    },
    "papermill": {
     "duration": 0.022975,
     "end_time": "2024-07-19T15:39:26.579845",
     "exception": false,
     "start_time": "2024-07-19T15:39:26.556870",
     "status": "completed"
    },
    "tags": []
   },
   "outputs": [],
   "source": [
    "def preprocess_dataset(df):\n",
    "    # remove duplicates\n",
    "    df = df.drop_duplicates(ignore_index=True)\n",
    "    \n",
    "    # one-hot encoding nominal variable\n",
    "    df = pd.get_dummies(df, columns=['CourseCategory'], dtype='int8')\n",
    "    \n",
    "    df['DeviceType'] = df['DeviceType'].astype('int8')\n",
    "    \n",
    "    # binarize numerical features\n",
    "    df['time_spent_above_threshold'] = (df['TimeSpentOnCourse'] > 20).astype('int8')\n",
    "    df['num_videos_above_threshold'] = (df['NumberOfVideosWatched'] > 5).astype('int8')\n",
    "    df['num_quizzes_above_threshold'] = (df['NumberOfQuizzesTaken'] > 3).astype('int8')\n",
    "    df['quiz_scores_above_threshold'] = (df['QuizScores'] > 68).astype('int8')\n",
    "    df['completion_above_threshold'] = (df['CompletionRate'] > 60).astype('int8')\n",
    "    \n",
    "    return df"
   ]
  },
  {
   "cell_type": "code",
   "execution_count": 5,
   "id": "2cad80dd",
   "metadata": {
    "execution": {
     "iopub.execute_input": "2024-07-19T15:39:26.602380Z",
     "iopub.status.busy": "2024-07-19T15:39:26.601346Z",
     "iopub.status.idle": "2024-07-19T15:39:26.643664Z",
     "shell.execute_reply": "2024-07-19T15:39:26.642573Z"
    },
    "papermill": {
     "duration": 0.056986,
     "end_time": "2024-07-19T15:39:26.646476",
     "exception": false,
     "start_time": "2024-07-19T15:39:26.589490",
     "status": "completed"
    },
    "tags": []
   },
   "outputs": [],
   "source": [
    "data = preprocess_dataset(data.copy())"
   ]
  },
  {
   "cell_type": "markdown",
   "id": "7abfb233",
   "metadata": {
    "papermill": {
     "duration": 0.009237,
     "end_time": "2024-07-19T15:39:26.665365",
     "exception": false,
     "start_time": "2024-07-19T15:39:26.656128",
     "status": "completed"
    },
    "tags": []
   },
   "source": [
    "### Feature sets"
   ]
  },
  {
   "cell_type": "code",
   "execution_count": 6,
   "id": "435a48bc",
   "metadata": {
    "execution": {
     "iopub.execute_input": "2024-07-19T15:39:26.686719Z",
     "iopub.status.busy": "2024-07-19T15:39:26.686309Z",
     "iopub.status.idle": "2024-07-19T15:39:26.695338Z",
     "shell.execute_reply": "2024-07-19T15:39:26.693924Z"
    },
    "papermill": {
     "duration": 0.02273,
     "end_time": "2024-07-19T15:39:26.698041",
     "exception": false,
     "start_time": "2024-07-19T15:39:26.675311",
     "status": "completed"
    },
    "tags": []
   },
   "outputs": [],
   "source": [
    "original_features = [\n",
    "    'TimeSpentOnCourse', 'NumberOfVideosWatched', 'NumberOfQuizzesTaken', \n",
    "    'QuizScores', 'CompletionRate', 'DeviceType', 'CourseCategory_Arts', \n",
    "    'CourseCategory_Business', 'CourseCategory_Health', \n",
    "    'CourseCategory_Programming', 'CourseCategory_Science'\n",
    "]\n",
    "\n",
    "extended_features = [\n",
    "    'TimeSpentOnCourse', 'NumberOfVideosWatched', 'NumberOfQuizzesTaken', \n",
    "    'QuizScores', 'CompletionRate', 'DeviceType', 'CourseCategory_Arts', \n",
    "    'CourseCategory_Business', 'CourseCategory_Health', \n",
    "    'CourseCategory_Programming', 'CourseCategory_Science', \n",
    "    'time_spent_above_threshold', 'num_videos_above_threshold', \n",
    "    'num_quizzes_above_threshold', 'quiz_scores_above_threshold', \n",
    "    'completion_above_threshold'\n",
    "]\n",
    "\n",
    "binary_features = [\n",
    "    'DeviceType', 'CourseCategory_Arts', 'CourseCategory_Business', \n",
    "    'CourseCategory_Health', 'CourseCategory_Programming', \n",
    "    'CourseCategory_Science', 'time_spent_above_threshold', \n",
    "    'num_videos_above_threshold', 'num_quizzes_above_threshold', \n",
    "    'quiz_scores_above_threshold', 'completion_above_threshold'\n",
    "]\n",
    "\n",
    "minimal_features = [\n",
    "    'time_spent_above_threshold', 'num_videos_above_threshold', \n",
    "    'num_quizzes_above_threshold', 'quiz_scores_above_threshold', \n",
    "    'completion_above_threshold'\n",
    "]"
   ]
  },
  {
   "cell_type": "code",
   "execution_count": 7,
   "id": "ca0b38f0",
   "metadata": {
    "execution": {
     "iopub.execute_input": "2024-07-19T15:39:26.719240Z",
     "iopub.status.busy": "2024-07-19T15:39:26.718807Z",
     "iopub.status.idle": "2024-07-19T15:39:26.724481Z",
     "shell.execute_reply": "2024-07-19T15:39:26.723224Z"
    },
    "papermill": {
     "duration": 0.01941,
     "end_time": "2024-07-19T15:39:26.727164",
     "exception": false,
     "start_time": "2024-07-19T15:39:26.707754",
     "status": "completed"
    },
    "tags": []
   },
   "outputs": [],
   "source": [
    "feature_sets = {\n",
    "    'Original': original_features,\n",
    "    'Extended': extended_features,\n",
    "    'Binary': binary_features,\n",
    "    'Minimal': minimal_features\n",
    "}"
   ]
  },
  {
   "cell_type": "markdown",
   "id": "b088b51a",
   "metadata": {
    "papermill": {
     "duration": 0.00936,
     "end_time": "2024-07-19T15:39:26.746408",
     "exception": false,
     "start_time": "2024-07-19T15:39:26.737048",
     "status": "completed"
    },
    "tags": []
   },
   "source": [
    "### Holdout set for model-testing"
   ]
  },
  {
   "cell_type": "code",
   "execution_count": 8,
   "id": "3b756aaf",
   "metadata": {
    "execution": {
     "iopub.execute_input": "2024-07-19T15:39:26.767524Z",
     "iopub.status.busy": "2024-07-19T15:39:26.767041Z",
     "iopub.status.idle": "2024-07-19T15:39:26.783007Z",
     "shell.execute_reply": "2024-07-19T15:39:26.781653Z"
    },
    "papermill": {
     "duration": 0.029947,
     "end_time": "2024-07-19T15:39:26.786030",
     "exception": false,
     "start_time": "2024-07-19T15:39:26.756083",
     "status": "completed"
    },
    "tags": []
   },
   "outputs": [],
   "source": [
    "train, test, _, _ = train_test_split(\n",
    "    data, data[TARGET],\n",
    "    stratify=data[TARGET],\n",
    "    test_size=0.1,  # same size\n",
    "    shuffle=True,\n",
    "    random_state=SEED  # same sampling\n",
    ")"
   ]
  },
  {
   "cell_type": "markdown",
   "id": "2d05b8de",
   "metadata": {
    "papermill": {
     "duration": 0.009189,
     "end_time": "2024-07-19T15:39:26.804911",
     "exception": false,
     "start_time": "2024-07-19T15:39:26.795722",
     "status": "completed"
    },
    "tags": []
   },
   "source": [
    "# Base models"
   ]
  },
  {
   "cell_type": "code",
   "execution_count": 9,
   "id": "2f459dd7",
   "metadata": {
    "execution": {
     "iopub.execute_input": "2024-07-19T15:39:26.826339Z",
     "iopub.status.busy": "2024-07-19T15:39:26.825860Z",
     "iopub.status.idle": "2024-07-19T15:39:26.835437Z",
     "shell.execute_reply": "2024-07-19T15:39:26.833893Z"
    },
    "papermill": {
     "duration": 0.023739,
     "end_time": "2024-07-19T15:39:26.838265",
     "exception": false,
     "start_time": "2024-07-19T15:39:26.814526",
     "status": "completed"
    },
    "tags": []
   },
   "outputs": [],
   "source": [
    "preprocessor = StandardScaler()\n",
    "\n",
    "lda = make_pipeline(\n",
    "    preprocessor,\n",
    "    LinearDiscriminantAnalysis(solver='svd', tol=1e-4)\n",
    ")\n",
    "\n",
    "qda = make_pipeline(\n",
    "    preprocessor,\n",
    "    QuadraticDiscriminantAnalysis(reg_param=0.25, tol=1e-4)\n",
    ")\n",
    "\n",
    "gaussiannb = make_pipeline(preprocessor, GaussianNB())\n",
    "\n",
    "knn = make_pipeline(\n",
    "    preprocessor,\n",
    "    KNeighborsClassifier(\n",
    "        n_neighbors=10, \n",
    "        weights='distance', \n",
    "        n_jobs=-1\n",
    "    )\n",
    ")\n",
    "\n",
    "mlpnn = make_pipeline(\n",
    "    preprocessor,\n",
    "    MLPClassifier(\n",
    "        activation='relu',\n",
    "        solver='adam',\n",
    "        alpha=1e-4,\n",
    "        learning_rate_init=2e-4,\n",
    "        max_iter=1000,\n",
    "        tol=1e-4,\n",
    "        early_stopping=True,\n",
    "        validation_fraction=0.1,\n",
    "        n_iter_no_change=25,\n",
    "        random_state=SEED\n",
    "    )\n",
    ")"
   ]
  },
  {
   "cell_type": "code",
   "execution_count": 10,
   "id": "0f64fa20",
   "metadata": {
    "execution": {
     "iopub.execute_input": "2024-07-19T15:39:26.860556Z",
     "iopub.status.busy": "2024-07-19T15:39:26.858999Z",
     "iopub.status.idle": "2024-07-19T15:39:26.869178Z",
     "shell.execute_reply": "2024-07-19T15:39:26.867940Z"
    },
    "papermill": {
     "duration": 0.024049,
     "end_time": "2024-07-19T15:39:26.872030",
     "exception": false,
     "start_time": "2024-07-19T15:39:26.847981",
     "status": "completed"
    },
    "tags": []
   },
   "outputs": [],
   "source": [
    "dtree = DecisionTreeClassifier(\n",
    "    max_depth=6, \n",
    "    class_weight='balanced',\n",
    "    random_state=SEED\n",
    ")\n",
    "\n",
    "adaboost = AdaBoostClassifier(\n",
    "    estimator=dtree, \n",
    "    n_estimators=50, \n",
    "    learning_rate=0.05,\n",
    "    algorithm='SAMME',\n",
    "    random_state=SEED\n",
    ")\n",
    "\n",
    "rforest = RandomForestClassifier(\n",
    "    n_estimators=150, \n",
    "    max_depth=6, \n",
    "    class_weight='balanced',\n",
    "    random_state=SEED,\n",
    "    n_jobs=-1\n",
    ")\n",
    "\n",
    "histgradient = HistGradientBoostingClassifier(\n",
    "    learning_rate=0.02,\n",
    "    max_iter=1000,\n",
    "    max_depth=6,\n",
    "    tol=2e-4,\n",
    "    early_stopping=True,\n",
    "    n_iter_no_change=25,\n",
    "    validation_fraction=0.1,\n",
    "    scoring=make_scorer(accuracy_score),\n",
    "    class_weight='balanced',\n",
    "    random_state=SEED\n",
    ")"
   ]
  },
  {
   "cell_type": "code",
   "execution_count": 11,
   "id": "3830fcd7",
   "metadata": {
    "execution": {
     "iopub.execute_input": "2024-07-19T15:39:26.893324Z",
     "iopub.status.busy": "2024-07-19T15:39:26.892855Z",
     "iopub.status.idle": "2024-07-19T15:39:26.906374Z",
     "shell.execute_reply": "2024-07-19T15:39:26.905117Z"
    },
    "papermill": {
     "duration": 0.027073,
     "end_time": "2024-07-19T15:39:26.909018",
     "exception": false,
     "start_time": "2024-07-19T15:39:26.881945",
     "status": "completed"
    },
    "tags": []
   },
   "outputs": [],
   "source": [
    "class_ratio = train[TARGET].value_counts()[0] / train[TARGET].value_counts()[1]\n",
    "\n",
    "XGB_PARAMS = {\n",
    "    'booster': 'gbtree',\n",
    "    'tree_method': 'hist',\n",
    "    'objective': 'binary:logistic',\n",
    "    'eval_metric': 'error',\n",
    "    'scale_pos_weight': class_ratio,\n",
    "    'learning_rate': 0.01,\n",
    "    'n_estimators': 500,\n",
    "    'device': 'cpu',\n",
    "    'enable_categorical': True,\n",
    "    'max_cat_to_onehot': 2,\n",
    "    'verbosity': 0,\n",
    "    'n_jobs': None,\n",
    "    'seed': SEED\n",
    "}\n",
    "\n",
    "xgb = XGBClassifier(**XGB_PARAMS)"
   ]
  },
  {
   "cell_type": "code",
   "execution_count": 12,
   "id": "2261f381",
   "metadata": {
    "execution": {
     "iopub.execute_input": "2024-07-19T15:39:26.929850Z",
     "iopub.status.busy": "2024-07-19T15:39:26.929412Z",
     "iopub.status.idle": "2024-07-19T15:39:26.939247Z",
     "shell.execute_reply": "2024-07-19T15:39:26.938108Z"
    },
    "papermill": {
     "duration": 0.023244,
     "end_time": "2024-07-19T15:39:26.941925",
     "exception": false,
     "start_time": "2024-07-19T15:39:26.918681",
     "status": "completed"
    },
    "tags": []
   },
   "outputs": [],
   "source": [
    "CB_PARAMS = {\n",
    "    'loss_function': 'Logloss',\n",
    "    'eval_metric': 'Logloss',\n",
    "    'metric_period': 1,\n",
    "    'iterations': 500,\n",
    "    'learning_rate': 0.01,\n",
    "    'auto_class_weights': 'Balanced',\n",
    "    'task_type': 'CPU',\n",
    "    'thread_count': -1,\n",
    "    'verbose': False,\n",
    "    'random_state': SEED\n",
    "}\n",
    "\n",
    "catb = CatBoostClassifier(**CB_PARAMS)"
   ]
  },
  {
   "cell_type": "code",
   "execution_count": 13,
   "id": "1226201c",
   "metadata": {
    "execution": {
     "iopub.execute_input": "2024-07-19T15:39:26.962953Z",
     "iopub.status.busy": "2024-07-19T15:39:26.962110Z",
     "iopub.status.idle": "2024-07-19T15:39:26.969502Z",
     "shell.execute_reply": "2024-07-19T15:39:26.968244Z"
    },
    "papermill": {
     "duration": 0.02085,
     "end_time": "2024-07-19T15:39:26.972187",
     "exception": false,
     "start_time": "2024-07-19T15:39:26.951337",
     "status": "completed"
    },
    "tags": []
   },
   "outputs": [],
   "source": [
    "base_models = [\n",
    "#     ('lda', lda),\n",
    "#     ('qda', qda),\n",
    "    ('gaussiannb', gaussiannb),\n",
    "    ('knn', knn),\n",
    "    ('mlpnn', mlpnn),\n",
    "    ('dtree', dtree),\n",
    "    ('rforest', rforest),\n",
    "    ('adaboost', adaboost),\n",
    "    ('histgradient', histgradient),\n",
    "    ('xgboost', xgb),\n",
    "    ('catboost', catb)\n",
    "]"
   ]
  },
  {
   "cell_type": "markdown",
   "id": "e0a1ec93",
   "metadata": {
    "papermill": {
     "duration": 0.009117,
     "end_time": "2024-07-19T15:39:26.990910",
     "exception": false,
     "start_time": "2024-07-19T15:39:26.981793",
     "status": "completed"
    },
    "tags": []
   },
   "source": [
    "# Modeling framework"
   ]
  },
  {
   "cell_type": "code",
   "execution_count": 14,
   "id": "6a3574a8",
   "metadata": {
    "execution": {
     "iopub.execute_input": "2024-07-19T15:39:27.012446Z",
     "iopub.status.busy": "2024-07-19T15:39:27.011491Z",
     "iopub.status.idle": "2024-07-19T15:39:27.023903Z",
     "shell.execute_reply": "2024-07-19T15:39:27.022717Z"
    },
    "papermill": {
     "duration": 0.026279,
     "end_time": "2024-07-19T15:39:27.026773",
     "exception": false,
     "start_time": "2024-07-19T15:39:27.000494",
     "status": "completed"
    },
    "tags": []
   },
   "outputs": [],
   "source": [
    "def cross_validate(estimator, feature_set, num_folds=9):\n",
    "    global train, TARGET\n",
    "    \n",
    "    scores_auc, scores_acc = [], []\n",
    "    X, y = train[feature_set], train[TARGET]\n",
    "    \n",
    "    cv = StratifiedKFold(n_splits=num_folds, shuffle=True, random_state=SEED)\n",
    "    for fold, (train_ids, val_ids) in enumerate(cv.split(X, y)):\n",
    "        X_train, y_train = X.iloc[train_ids], y.iloc[train_ids]\n",
    "        X_val, y_val = X.iloc[val_ids], y.iloc[val_ids]\n",
    "        \n",
    "        model = clone(estimator)\n",
    "        model.fit(X_train, y_train)\n",
    "        probs = model.predict_proba(X_val)[:, 1]\n",
    "        scores_auc.append(roc_auc_score(y_val, probs))\n",
    "        preds = model.predict(X_val)\n",
    "        scores_acc.append(accuracy_score(y_val, preds))\n",
    "        \n",
    "    scores_df = pd.DataFrame(\n",
    "        data={'Accuracy': scores_acc, 'ROC-AUC': scores_auc}, \n",
    "        index=[f'Fold #{i+1}' for i in range(9)]\n",
    "    )\n",
    "    display(scores_df.T)"
   ]
  },
  {
   "cell_type": "code",
   "execution_count": 15,
   "id": "6b46dad5",
   "metadata": {
    "execution": {
     "iopub.execute_input": "2024-07-19T15:39:27.047871Z",
     "iopub.status.busy": "2024-07-19T15:39:27.047438Z",
     "iopub.status.idle": "2024-07-19T15:39:27.058394Z",
     "shell.execute_reply": "2024-07-19T15:39:27.056971Z"
    },
    "papermill": {
     "duration": 0.024836,
     "end_time": "2024-07-19T15:39:27.061298",
     "exception": false,
     "start_time": "2024-07-19T15:39:27.036462",
     "status": "completed"
    },
    "tags": []
   },
   "outputs": [],
   "source": [
    "def refit_full_and_evaluate(model, feature_set):\n",
    "    global train, test, TARGET\n",
    "    \n",
    "    model.fit(train[feature_set], train[TARGET])\n",
    "    probs = model.predict_proba(test[feature_set])[:, 1]\n",
    "    preds = model.predict(test[feature_set])\n",
    "    \n",
    "    accuracy = accuracy_score(test[TARGET], preds)\n",
    "    auc = roc_auc_score(test[TARGET], probs)\n",
    "    print(f'|| Accuracy: {accuracy:.4f} || ROC-AUC: {auc:.4f} ||\\n')\n",
    "    \n",
    "    fig, ax = plt.subplots(figsize=(4, 3))\n",
    "    ax.set_title('Normalized Confusion Matrix')\n",
    "    sns.heatmap(\n",
    "        data=confusion_matrix(test[TARGET], preds, normalize='true'),\n",
    "        annot=True, fmt='.4f', linewidths=0.1, cmap=plt.cm.Blues\n",
    "    )\n",
    "    plt.xlabel('Prediction')\n",
    "    plt.ylabel('True label')\n",
    "    plt.show()\n",
    "    \n",
    "    return model"
   ]
  },
  {
   "cell_type": "code",
   "execution_count": 16,
   "id": "4b840855",
   "metadata": {
    "execution": {
     "iopub.execute_input": "2024-07-19T15:39:27.082206Z",
     "iopub.status.busy": "2024-07-19T15:39:27.081753Z",
     "iopub.status.idle": "2024-07-19T15:39:27.087787Z",
     "shell.execute_reply": "2024-07-19T15:39:27.086459Z"
    },
    "papermill": {
     "duration": 0.01974,
     "end_time": "2024-07-19T15:39:27.090527",
     "exception": false,
     "start_time": "2024-07-19T15:39:27.070787",
     "status": "completed"
    },
    "tags": []
   },
   "outputs": [],
   "source": [
    "def save_model(model, config, notebook='05'):\n",
    "    save_path = f'{notebook}_{config}.joblib'\n",
    "    joblib.dump(model, save_path)"
   ]
  },
  {
   "cell_type": "code",
   "execution_count": 17,
   "id": "c415d764",
   "metadata": {
    "execution": {
     "iopub.execute_input": "2024-07-19T15:39:27.111490Z",
     "iopub.status.busy": "2024-07-19T15:39:27.111008Z",
     "iopub.status.idle": "2024-07-19T15:39:27.120017Z",
     "shell.execute_reply": "2024-07-19T15:39:27.118453Z"
    },
    "papermill": {
     "duration": 0.02237,
     "end_time": "2024-07-19T15:39:27.122571",
     "exception": false,
     "start_time": "2024-07-19T15:39:27.100201",
     "status": "completed"
    },
    "tags": []
   },
   "outputs": [],
   "source": [
    "def run_experiment(estimator, model_name, save=True):\n",
    "    global feature_sets\n",
    "    \n",
    "    for fname, fset in feature_sets.items():\n",
    "        print('\\n', '-'*25, fname, '-'*25)\n",
    "        start_time = time.time()\n",
    "        print('Cross-validation:')\n",
    "        cross_validate(estimator, fset)\n",
    "        print('Refit to full training data and evaluate:\\n')\n",
    "        model = refit_full_and_evaluate(estimator, fset)\n",
    "        end_time = time.time()\n",
    "        print(f'\\n(Time taken: {end_time - start_time:.2f} secs)')\n",
    "        \n",
    "        if save:\n",
    "            save_model(model, f'{model_name}_{fname}')"
   ]
  },
  {
   "cell_type": "markdown",
   "id": "061f23f8",
   "metadata": {
    "papermill": {
     "duration": 0.009208,
     "end_time": "2024-07-19T15:39:27.141621",
     "exception": false,
     "start_time": "2024-07-19T15:39:27.132413",
     "status": "completed"
    },
    "tags": []
   },
   "source": [
    "# Voting Classifier - Soft\n",
    "(predicted probabilities)"
   ]
  },
  {
   "cell_type": "code",
   "execution_count": 18,
   "id": "db83ca5a",
   "metadata": {
    "execution": {
     "iopub.execute_input": "2024-07-19T15:39:27.162599Z",
     "iopub.status.busy": "2024-07-19T15:39:27.162203Z",
     "iopub.status.idle": "2024-07-19T15:45:19.253659Z",
     "shell.execute_reply": "2024-07-19T15:45:19.252356Z"
    },
    "papermill": {
     "duration": 352.105411,
     "end_time": "2024-07-19T15:45:19.256793",
     "exception": false,
     "start_time": "2024-07-19T15:39:27.151382",
     "status": "completed"
    },
    "tags": []
   },
   "outputs": [
    {
     "name": "stdout",
     "output_type": "stream",
     "text": [
      "\n",
      " ------------------------- Original -------------------------\n",
      "Cross-validation:\n"
     ]
    },
    {
     "data": {
      "text/html": [
       "<div>\n",
       "<style scoped>\n",
       "    .dataframe tbody tr th:only-of-type {\n",
       "        vertical-align: middle;\n",
       "    }\n",
       "\n",
       "    .dataframe tbody tr th {\n",
       "        vertical-align: top;\n",
       "    }\n",
       "\n",
       "    .dataframe thead th {\n",
       "        text-align: right;\n",
       "    }\n",
       "</style>\n",
       "<table border=\"1\" class=\"dataframe\">\n",
       "  <thead>\n",
       "    <tr style=\"text-align: right;\">\n",
       "      <th></th>\n",
       "      <th>Fold #1</th>\n",
       "      <th>Fold #2</th>\n",
       "      <th>Fold #3</th>\n",
       "      <th>Fold #4</th>\n",
       "      <th>Fold #5</th>\n",
       "      <th>Fold #6</th>\n",
       "      <th>Fold #7</th>\n",
       "      <th>Fold #8</th>\n",
       "      <th>Fold #9</th>\n",
       "    </tr>\n",
       "  </thead>\n",
       "  <tbody>\n",
       "    <tr>\n",
       "      <th>Accuracy</th>\n",
       "      <td>0.9582</td>\n",
       "      <td>0.9422</td>\n",
       "      <td>0.9557</td>\n",
       "      <td>0.9557</td>\n",
       "      <td>0.9557</td>\n",
       "      <td>0.9495</td>\n",
       "      <td>0.9569</td>\n",
       "      <td>0.9643</td>\n",
       "      <td>0.9704</td>\n",
       "    </tr>\n",
       "    <tr>\n",
       "      <th>ROC-AUC</th>\n",
       "      <td>0.9579</td>\n",
       "      <td>0.9372</td>\n",
       "      <td>0.9458</td>\n",
       "      <td>0.9502</td>\n",
       "      <td>0.9537</td>\n",
       "      <td>0.9478</td>\n",
       "      <td>0.9598</td>\n",
       "      <td>0.9615</td>\n",
       "      <td>0.9712</td>\n",
       "    </tr>\n",
       "  </tbody>\n",
       "</table>\n",
       "</div>"
      ],
      "text/plain": [
       "          Fold #1  Fold #2  Fold #3  Fold #4  Fold #5  Fold #6  Fold #7  \\\n",
       "Accuracy   0.9582   0.9422   0.9557   0.9557   0.9557   0.9495   0.9569   \n",
       "ROC-AUC    0.9579   0.9372   0.9458   0.9502   0.9537   0.9478   0.9598   \n",
       "\n",
       "          Fold #8  Fold #9  \n",
       "Accuracy   0.9643   0.9704  \n",
       "ROC-AUC    0.9615   0.9712  "
      ]
     },
     "metadata": {},
     "output_type": "display_data"
    },
    {
     "name": "stdout",
     "output_type": "stream",
     "text": [
      "Refit to full training data and evaluate:\n",
      "\n",
      "|| Accuracy: 0.9631 || ROC-AUC: 0.9636 ||\n",
      "\n"
     ]
    },
    {
     "data": {
      "image/png": "[encoded data removed]",
      "text/plain": [
       "<Figure size 400x300 with 2 Axes>"
      ]
     },
     "metadata": {},
     "output_type": "display_data"
    },
    {
     "name": "stdout",
     "output_type": "stream",
     "text": [
      "\n",
      "(Time taken: 147.27 secs)\n",
      "\n",
      " ------------------------- Extended -------------------------\n",
      "Cross-validation:\n"
     ]
    },
    {
     "data": {
      "text/html": [
       "<div>\n",
       "<style scoped>\n",
       "    .dataframe tbody tr th:only-of-type {\n",
       "        vertical-align: middle;\n",
       "    }\n",
       "\n",
       "    .dataframe tbody tr th {\n",
       "        vertical-align: top;\n",
       "    }\n",
       "\n",
       "    .dataframe thead th {\n",
       "        text-align: right;\n",
       "    }\n",
       "</style>\n",
       "<table border=\"1\" class=\"dataframe\">\n",
       "  <thead>\n",
       "    <tr style=\"text-align: right;\">\n",
       "      <th></th>\n",
       "      <th>Fold #1</th>\n",
       "      <th>Fold #2</th>\n",
       "      <th>Fold #3</th>\n",
       "      <th>Fold #4</th>\n",
       "      <th>Fold #5</th>\n",
       "      <th>Fold #6</th>\n",
       "      <th>Fold #7</th>\n",
       "      <th>Fold #8</th>\n",
       "      <th>Fold #9</th>\n",
       "    </tr>\n",
       "  </thead>\n",
       "  <tbody>\n",
       "    <tr>\n",
       "      <th>Accuracy</th>\n",
       "      <td>0.9569</td>\n",
       "      <td>0.9446</td>\n",
       "      <td>0.9581</td>\n",
       "      <td>0.9557</td>\n",
       "      <td>0.9557</td>\n",
       "      <td>0.9495</td>\n",
       "      <td>0.9594</td>\n",
       "      <td>0.9643</td>\n",
       "      <td>0.9729</td>\n",
       "    </tr>\n",
       "    <tr>\n",
       "      <th>ROC-AUC</th>\n",
       "      <td>0.9572</td>\n",
       "      <td>0.9390</td>\n",
       "      <td>0.9451</td>\n",
       "      <td>0.9510</td>\n",
       "      <td>0.9525</td>\n",
       "      <td>0.9469</td>\n",
       "      <td>0.9612</td>\n",
       "      <td>0.9617</td>\n",
       "      <td>0.9705</td>\n",
       "    </tr>\n",
       "  </tbody>\n",
       "</table>\n",
       "</div>"
      ],
      "text/plain": [
       "          Fold #1  Fold #2  Fold #3  Fold #4  Fold #5  Fold #6  Fold #7  \\\n",
       "Accuracy   0.9569   0.9446   0.9581   0.9557   0.9557   0.9495   0.9594   \n",
       "ROC-AUC    0.9572   0.9390   0.9451   0.9510   0.9525   0.9469   0.9612   \n",
       "\n",
       "          Fold #8  Fold #9  \n",
       "Accuracy   0.9643   0.9729  \n",
       "ROC-AUC    0.9617   0.9705  "
      ]
     },
     "metadata": {},
     "output_type": "display_data"
    },
    {
     "name": "stdout",
     "output_type": "stream",
     "text": [
      "Refit to full training data and evaluate:\n",
      "\n",
      "|| Accuracy: 0.9643 || ROC-AUC: 0.9643 ||\n",
      "\n"
     ]
    },
    {
     "data": {
      "image/png": "[encoded data removed]",
      "text/plain": [
       "<Figure size 400x300 with 2 Axes>"
      ]
     },
     "metadata": {},
     "output_type": "display_data"
    },
    {
     "name": "stdout",
     "output_type": "stream",
     "text": [
      "\n",
      "(Time taken: 86.58 secs)\n",
      "\n",
      " ------------------------- Binary -------------------------\n",
      "Cross-validation:\n"
     ]
    },
    {
     "data": {
      "text/html": [
       "<div>\n",
       "<style scoped>\n",
       "    .dataframe tbody tr th:only-of-type {\n",
       "        vertical-align: middle;\n",
       "    }\n",
       "\n",
       "    .dataframe tbody tr th {\n",
       "        vertical-align: top;\n",
       "    }\n",
       "\n",
       "    .dataframe thead th {\n",
       "        text-align: right;\n",
       "    }\n",
       "</style>\n",
       "<table border=\"1\" class=\"dataframe\">\n",
       "  <thead>\n",
       "    <tr style=\"text-align: right;\">\n",
       "      <th></th>\n",
       "      <th>Fold #1</th>\n",
       "      <th>Fold #2</th>\n",
       "      <th>Fold #3</th>\n",
       "      <th>Fold #4</th>\n",
       "      <th>Fold #5</th>\n",
       "      <th>Fold #6</th>\n",
       "      <th>Fold #7</th>\n",
       "      <th>Fold #8</th>\n",
       "      <th>Fold #9</th>\n",
       "    </tr>\n",
       "  </thead>\n",
       "  <tbody>\n",
       "    <tr>\n",
       "      <th>Accuracy</th>\n",
       "      <td>0.9410</td>\n",
       "      <td>0.9299</td>\n",
       "      <td>0.9446</td>\n",
       "      <td>0.9409</td>\n",
       "      <td>0.9433</td>\n",
       "      <td>0.9384</td>\n",
       "      <td>0.9372</td>\n",
       "      <td>0.9569</td>\n",
       "      <td>0.9557</td>\n",
       "    </tr>\n",
       "    <tr>\n",
       "      <th>ROC-AUC</th>\n",
       "      <td>0.9495</td>\n",
       "      <td>0.9340</td>\n",
       "      <td>0.9437</td>\n",
       "      <td>0.9403</td>\n",
       "      <td>0.9466</td>\n",
       "      <td>0.9382</td>\n",
       "      <td>0.9434</td>\n",
       "      <td>0.9601</td>\n",
       "      <td>0.9653</td>\n",
       "    </tr>\n",
       "  </tbody>\n",
       "</table>\n",
       "</div>"
      ],
      "text/plain": [
       "          Fold #1  Fold #2  Fold #3  Fold #4  Fold #5  Fold #6  Fold #7  \\\n",
       "Accuracy   0.9410   0.9299   0.9446   0.9409   0.9433   0.9384   0.9372   \n",
       "ROC-AUC    0.9495   0.9340   0.9437   0.9403   0.9466   0.9382   0.9434   \n",
       "\n",
       "          Fold #8  Fold #9  \n",
       "Accuracy   0.9569   0.9557  \n",
       "ROC-AUC    0.9601   0.9653  "
      ]
     },
     "metadata": {},
     "output_type": "display_data"
    },
    {
     "name": "stdout",
     "output_type": "stream",
     "text": [
      "Refit to full training data and evaluate:\n",
      "\n",
      "|| Accuracy: 0.9483 || ROC-AUC: 0.9552 ||\n",
      "\n"
     ]
    },
    {
     "data": {
      "image/png": "[encoded data removed]",
      "text/plain": [
       "<Figure size 400x300 with 2 Axes>"
      ]
     },
     "metadata": {},
     "output_type": "display_data"
    },
    {
     "name": "stdout",
     "output_type": "stream",
     "text": [
      "\n",
      "(Time taken: 62.79 secs)\n",
      "\n",
      " ------------------------- Minimal -------------------------\n",
      "Cross-validation:\n"
     ]
    },
    {
     "data": {
      "text/html": [
       "<div>\n",
       "<style scoped>\n",
       "    .dataframe tbody tr th:only-of-type {\n",
       "        vertical-align: middle;\n",
       "    }\n",
       "\n",
       "    .dataframe tbody tr th {\n",
       "        vertical-align: top;\n",
       "    }\n",
       "\n",
       "    .dataframe thead th {\n",
       "        text-align: right;\n",
       "    }\n",
       "</style>\n",
       "<table border=\"1\" class=\"dataframe\">\n",
       "  <thead>\n",
       "    <tr style=\"text-align: right;\">\n",
       "      <th></th>\n",
       "      <th>Fold #1</th>\n",
       "      <th>Fold #2</th>\n",
       "      <th>Fold #3</th>\n",
       "      <th>Fold #4</th>\n",
       "      <th>Fold #5</th>\n",
       "      <th>Fold #6</th>\n",
       "      <th>Fold #7</th>\n",
       "      <th>Fold #8</th>\n",
       "      <th>Fold #9</th>\n",
       "    </tr>\n",
       "  </thead>\n",
       "  <tbody>\n",
       "    <tr>\n",
       "      <th>Accuracy</th>\n",
       "      <td>0.9410</td>\n",
       "      <td>0.9299</td>\n",
       "      <td>0.9446</td>\n",
       "      <td>0.9409</td>\n",
       "      <td>0.9433</td>\n",
       "      <td>0.9384</td>\n",
       "      <td>0.9372</td>\n",
       "      <td>0.9569</td>\n",
       "      <td>0.9557</td>\n",
       "    </tr>\n",
       "    <tr>\n",
       "      <th>ROC-AUC</th>\n",
       "      <td>0.9503</td>\n",
       "      <td>0.9291</td>\n",
       "      <td>0.9427</td>\n",
       "      <td>0.9402</td>\n",
       "      <td>0.9418</td>\n",
       "      <td>0.9438</td>\n",
       "      <td>0.9457</td>\n",
       "      <td>0.9533</td>\n",
       "      <td>0.9642</td>\n",
       "    </tr>\n",
       "  </tbody>\n",
       "</table>\n",
       "</div>"
      ],
      "text/plain": [
       "          Fold #1  Fold #2  Fold #3  Fold #4  Fold #5  Fold #6  Fold #7  \\\n",
       "Accuracy   0.9410   0.9299   0.9446   0.9409   0.9433   0.9384   0.9372   \n",
       "ROC-AUC    0.9503   0.9291   0.9427   0.9402   0.9418   0.9438   0.9457   \n",
       "\n",
       "          Fold #8  Fold #9  \n",
       "Accuracy   0.9569   0.9557  \n",
       "ROC-AUC    0.9533   0.9642  "
      ]
     },
     "metadata": {},
     "output_type": "display_data"
    },
    {
     "name": "stdout",
     "output_type": "stream",
     "text": [
      "Refit to full training data and evaluate:\n",
      "\n",
      "|| Accuracy: 0.9483 || ROC-AUC: 0.9589 ||\n",
      "\n"
     ]
    },
    {
     "data": {
      "image/png": "[encoded data removed]",
      "text/plain": [
       "<Figure size 400x300 with 2 Axes>"
      ]
     },
     "metadata": {},
     "output_type": "display_data"
    },
    {
     "name": "stdout",
     "output_type": "stream",
     "text": [
      "\n",
      "(Time taken: 54.62 secs)\n"
     ]
    }
   ],
   "source": [
    "model = VotingClassifier(estimators=base_models, voting='soft')\n",
    "run_experiment(model, 'softvoting')"
   ]
  },
  {
   "cell_type": "markdown",
   "id": "da13fa83",
   "metadata": {
    "papermill": {
     "duration": 0.013077,
     "end_time": "2024-07-19T15:45:19.283375",
     "exception": false,
     "start_time": "2024-07-19T15:45:19.270298",
     "status": "completed"
    },
    "tags": []
   },
   "source": [
    "# Stacking Classifier - No passthrough \n",
    "(only predictions used for stacking)"
   ]
  },
  {
   "cell_type": "code",
   "execution_count": 19,
   "id": "87ff396a",
   "metadata": {
    "execution": {
     "iopub.execute_input": "2024-07-19T15:45:19.311795Z",
     "iopub.status.busy": "2024-07-19T15:45:19.311399Z",
     "iopub.status.idle": "2024-07-19T16:01:58.330746Z",
     "shell.execute_reply": "2024-07-19T16:01:58.329241Z"
    },
    "papermill": {
     "duration": 999.037249,
     "end_time": "2024-07-19T16:01:58.333789",
     "exception": false,
     "start_time": "2024-07-19T15:45:19.296540",
     "status": "completed"
    },
    "tags": []
   },
   "outputs": [
    {
     "name": "stdout",
     "output_type": "stream",
     "text": [
      "\n",
      " ------------------------- Original -------------------------\n",
      "Cross-validation:\n"
     ]
    },
    {
     "data": {
      "text/html": [
       "<div>\n",
       "<style scoped>\n",
       "    .dataframe tbody tr th:only-of-type {\n",
       "        vertical-align: middle;\n",
       "    }\n",
       "\n",
       "    .dataframe tbody tr th {\n",
       "        vertical-align: top;\n",
       "    }\n",
       "\n",
       "    .dataframe thead th {\n",
       "        text-align: right;\n",
       "    }\n",
       "</style>\n",
       "<table border=\"1\" class=\"dataframe\">\n",
       "  <thead>\n",
       "    <tr style=\"text-align: right;\">\n",
       "      <th></th>\n",
       "      <th>Fold #1</th>\n",
       "      <th>Fold #2</th>\n",
       "      <th>Fold #3</th>\n",
       "      <th>Fold #4</th>\n",
       "      <th>Fold #5</th>\n",
       "      <th>Fold #6</th>\n",
       "      <th>Fold #7</th>\n",
       "      <th>Fold #8</th>\n",
       "      <th>Fold #9</th>\n",
       "    </tr>\n",
       "  </thead>\n",
       "  <tbody>\n",
       "    <tr>\n",
       "      <th>Accuracy</th>\n",
       "      <td>0.9582</td>\n",
       "      <td>0.9422</td>\n",
       "      <td>0.9557</td>\n",
       "      <td>0.9544</td>\n",
       "      <td>0.9557</td>\n",
       "      <td>0.9483</td>\n",
       "      <td>0.9581</td>\n",
       "      <td>0.9643</td>\n",
       "      <td>0.9717</td>\n",
       "    </tr>\n",
       "    <tr>\n",
       "      <th>ROC-AUC</th>\n",
       "      <td>0.9554</td>\n",
       "      <td>0.9487</td>\n",
       "      <td>0.9521</td>\n",
       "      <td>0.9513</td>\n",
       "      <td>0.9600</td>\n",
       "      <td>0.9434</td>\n",
       "      <td>0.9631</td>\n",
       "      <td>0.9628</td>\n",
       "      <td>0.9725</td>\n",
       "    </tr>\n",
       "  </tbody>\n",
       "</table>\n",
       "</div>"
      ],
      "text/plain": [
       "          Fold #1  Fold #2  Fold #3  Fold #4  Fold #5  Fold #6  Fold #7  \\\n",
       "Accuracy   0.9582   0.9422   0.9557   0.9544   0.9557   0.9483   0.9581   \n",
       "ROC-AUC    0.9554   0.9487   0.9521   0.9513   0.9600   0.9434   0.9631   \n",
       "\n",
       "          Fold #8  Fold #9  \n",
       "Accuracy   0.9643   0.9717  \n",
       "ROC-AUC    0.9628   0.9725  "
      ]
     },
     "metadata": {},
     "output_type": "display_data"
    },
    {
     "name": "stdout",
     "output_type": "stream",
     "text": [
      "Refit to full training data and evaluate:\n",
      "\n",
      "|| Accuracy: 0.9631 || ROC-AUC: 0.9648 ||\n",
      "\n"
     ]
    },
    {
     "data": {
      "image/png": "[encoded data removed]",
      "text/plain": [
       "<Figure size 400x300 with 2 Axes>"
      ]
     },
     "metadata": {},
     "output_type": "display_data"
    },
    {
     "name": "stdout",
     "output_type": "stream",
     "text": [
      "\n",
      "(Time taken: 421.39 secs)\n",
      "\n",
      " ------------------------- Extended -------------------------\n",
      "Cross-validation:\n"
     ]
    },
    {
     "name": "stderr",
     "output_type": "stream",
     "text": [
      "/opt/conda/lib/python3.10/site-packages/pandas/core/algorithms.py:1743: DeprecationWarning: is_sparse is deprecated and will be removed in a future version. Check `isinstance(dtype, pd.SparseDtype)` instead.\n",
      "  return lib.map_infer(values, mapper, convert=convert)\n"
     ]
    },
    {
     "data": {
      "text/html": [
       "<div>\n",
       "<style scoped>\n",
       "    .dataframe tbody tr th:only-of-type {\n",
       "        vertical-align: middle;\n",
       "    }\n",
       "\n",
       "    .dataframe tbody tr th {\n",
       "        vertical-align: top;\n",
       "    }\n",
       "\n",
       "    .dataframe thead th {\n",
       "        text-align: right;\n",
       "    }\n",
       "</style>\n",
       "<table border=\"1\" class=\"dataframe\">\n",
       "  <thead>\n",
       "    <tr style=\"text-align: right;\">\n",
       "      <th></th>\n",
       "      <th>Fold #1</th>\n",
       "      <th>Fold #2</th>\n",
       "      <th>Fold #3</th>\n",
       "      <th>Fold #4</th>\n",
       "      <th>Fold #5</th>\n",
       "      <th>Fold #6</th>\n",
       "      <th>Fold #7</th>\n",
       "      <th>Fold #8</th>\n",
       "      <th>Fold #9</th>\n",
       "    </tr>\n",
       "  </thead>\n",
       "  <tbody>\n",
       "    <tr>\n",
       "      <th>Accuracy</th>\n",
       "      <td>0.9594</td>\n",
       "      <td>0.9446</td>\n",
       "      <td>0.9581</td>\n",
       "      <td>0.9557</td>\n",
       "      <td>0.9557</td>\n",
       "      <td>0.9495</td>\n",
       "      <td>0.9594</td>\n",
       "      <td>0.9655</td>\n",
       "      <td>0.9729</td>\n",
       "    </tr>\n",
       "    <tr>\n",
       "      <th>ROC-AUC</th>\n",
       "      <td>0.9571</td>\n",
       "      <td>0.9473</td>\n",
       "      <td>0.9502</td>\n",
       "      <td>0.9552</td>\n",
       "      <td>0.9601</td>\n",
       "      <td>0.9475</td>\n",
       "      <td>0.9614</td>\n",
       "      <td>0.9584</td>\n",
       "      <td>0.9748</td>\n",
       "    </tr>\n",
       "  </tbody>\n",
       "</table>\n",
       "</div>"
      ],
      "text/plain": [
       "          Fold #1  Fold #2  Fold #3  Fold #4  Fold #5  Fold #6  Fold #7  \\\n",
       "Accuracy   0.9594   0.9446   0.9581   0.9557   0.9557   0.9495   0.9594   \n",
       "ROC-AUC    0.9571   0.9473   0.9502   0.9552   0.9601   0.9475   0.9614   \n",
       "\n",
       "          Fold #8  Fold #9  \n",
       "Accuracy   0.9655   0.9729  \n",
       "ROC-AUC    0.9584   0.9748  "
      ]
     },
     "metadata": {},
     "output_type": "display_data"
    },
    {
     "name": "stdout",
     "output_type": "stream",
     "text": [
      "Refit to full training data and evaluate:\n",
      "\n",
      "|| Accuracy: 0.9643 || ROC-AUC: 0.9644 ||\n",
      "\n"
     ]
    },
    {
     "data": {
      "image/png": "[encoded data removed]",
      "text/plain": [
       "<Figure size 400x300 with 2 Axes>"
      ]
     },
     "metadata": {},
     "output_type": "display_data"
    },
    {
     "name": "stdout",
     "output_type": "stream",
     "text": [
      "\n",
      "(Time taken: 258.67 secs)\n",
      "\n",
      " ------------------------- Binary -------------------------\n",
      "Cross-validation:\n"
     ]
    },
    {
     "name": "stderr",
     "output_type": "stream",
     "text": [
      "/opt/conda/lib/python3.10/site-packages/pandas/core/algorithms.py:1743: DeprecationWarning: is_sparse is deprecated and will be removed in a future version. Check `isinstance(dtype, pd.SparseDtype)` instead.\n",
      "  return lib.map_infer(values, mapper, convert=convert)\n",
      "/opt/conda/lib/python3.10/site-packages/pandas/core/algorithms.py:1743: DeprecationWarning: is_sparse is deprecated and will be removed in a future version. Check `isinstance(dtype, pd.SparseDtype)` instead.\n",
      "  return lib.map_infer(values, mapper, convert=convert)\n",
      "/opt/conda/lib/python3.10/site-packages/pandas/core/algorithms.py:1743: DeprecationWarning: is_sparse is deprecated and will be removed in a future version. Check `isinstance(dtype, pd.SparseDtype)` instead.\n",
      "  return lib.map_infer(values, mapper, convert=convert)\n",
      "/opt/conda/lib/python3.10/site-packages/pandas/core/algorithms.py:1743: DeprecationWarning: is_sparse is deprecated and will be removed in a future version. Check `isinstance(dtype, pd.SparseDtype)` instead.\n",
      "  return lib.map_infer(values, mapper, convert=convert)\n",
      "/opt/conda/lib/python3.10/site-packages/pandas/core/algorithms.py:1743: DeprecationWarning: is_sparse is deprecated and will be removed in a future version. Check `isinstance(dtype, pd.SparseDtype)` instead.\n",
      "  return lib.map_infer(values, mapper, convert=convert)\n",
      "/opt/conda/lib/python3.10/site-packages/pandas/core/algorithms.py:1743: DeprecationWarning: is_sparse is deprecated and will be removed in a future version. Check `isinstance(dtype, pd.SparseDtype)` instead.\n",
      "  return lib.map_infer(values, mapper, convert=convert)\n",
      "/opt/conda/lib/python3.10/site-packages/pandas/core/algorithms.py:1743: DeprecationWarning: is_sparse is deprecated and will be removed in a future version. Check `isinstance(dtype, pd.SparseDtype)` instead.\n",
      "  return lib.map_infer(values, mapper, convert=convert)\n",
      "/opt/conda/lib/python3.10/site-packages/pandas/core/algorithms.py:1743: DeprecationWarning: is_sparse is deprecated and will be removed in a future version. Check `isinstance(dtype, pd.SparseDtype)` instead.\n",
      "  return lib.map_infer(values, mapper, convert=convert)\n",
      "/opt/conda/lib/python3.10/site-packages/pandas/core/algorithms.py:1743: DeprecationWarning: is_sparse is deprecated and will be removed in a future version. Check `isinstance(dtype, pd.SparseDtype)` instead.\n",
      "  return lib.map_infer(values, mapper, convert=convert)\n",
      "/opt/conda/lib/python3.10/site-packages/pandas/core/algorithms.py:1743: DeprecationWarning: is_sparse is deprecated and will be removed in a future version. Check `isinstance(dtype, pd.SparseDtype)` instead.\n",
      "  return lib.map_infer(values, mapper, convert=convert)\n",
      "/opt/conda/lib/python3.10/site-packages/pandas/core/algorithms.py:1743: DeprecationWarning: is_sparse is deprecated and will be removed in a future version. Check `isinstance(dtype, pd.SparseDtype)` instead.\n",
      "  return lib.map_infer(values, mapper, convert=convert)\n",
      "/opt/conda/lib/python3.10/site-packages/pandas/core/algorithms.py:1743: DeprecationWarning: is_sparse is deprecated and will be removed in a future version. Check `isinstance(dtype, pd.SparseDtype)` instead.\n",
      "  return lib.map_infer(values, mapper, convert=convert)\n",
      "/opt/conda/lib/python3.10/site-packages/sklearn/utils/validation.py:605: DeprecationWarning: is_sparse is deprecated and will be removed in a future version. Check `isinstance(dtype, pd.SparseDtype)` instead.\n",
      "  if is_sparse(pd_dtype):\n"
     ]
    },
    {
     "data": {
      "text/html": [
       "<div>\n",
       "<style scoped>\n",
       "    .dataframe tbody tr th:only-of-type {\n",
       "        vertical-align: middle;\n",
       "    }\n",
       "\n",
       "    .dataframe tbody tr th {\n",
       "        vertical-align: top;\n",
       "    }\n",
       "\n",
       "    .dataframe thead th {\n",
       "        text-align: right;\n",
       "    }\n",
       "</style>\n",
       "<table border=\"1\" class=\"dataframe\">\n",
       "  <thead>\n",
       "    <tr style=\"text-align: right;\">\n",
       "      <th></th>\n",
       "      <th>Fold #1</th>\n",
       "      <th>Fold #2</th>\n",
       "      <th>Fold #3</th>\n",
       "      <th>Fold #4</th>\n",
       "      <th>Fold #5</th>\n",
       "      <th>Fold #6</th>\n",
       "      <th>Fold #7</th>\n",
       "      <th>Fold #8</th>\n",
       "      <th>Fold #9</th>\n",
       "    </tr>\n",
       "  </thead>\n",
       "  <tbody>\n",
       "    <tr>\n",
       "      <th>Accuracy</th>\n",
       "      <td>0.941</td>\n",
       "      <td>0.9299</td>\n",
       "      <td>0.9446</td>\n",
       "      <td>0.9409</td>\n",
       "      <td>0.9433</td>\n",
       "      <td>0.9384</td>\n",
       "      <td>0.9372</td>\n",
       "      <td>0.9569</td>\n",
       "      <td>0.9557</td>\n",
       "    </tr>\n",
       "    <tr>\n",
       "      <th>ROC-AUC</th>\n",
       "      <td>0.948</td>\n",
       "      <td>0.9367</td>\n",
       "      <td>0.9476</td>\n",
       "      <td>0.9469</td>\n",
       "      <td>0.9450</td>\n",
       "      <td>0.9326</td>\n",
       "      <td>0.9485</td>\n",
       "      <td>0.9600</td>\n",
       "      <td>0.9648</td>\n",
       "    </tr>\n",
       "  </tbody>\n",
       "</table>\n",
       "</div>"
      ],
      "text/plain": [
       "          Fold #1  Fold #2  Fold #3  Fold #4  Fold #5  Fold #6  Fold #7  \\\n",
       "Accuracy    0.941   0.9299   0.9446   0.9409   0.9433   0.9384   0.9372   \n",
       "ROC-AUC     0.948   0.9367   0.9476   0.9469   0.9450   0.9326   0.9485   \n",
       "\n",
       "          Fold #8  Fold #9  \n",
       "Accuracy   0.9569   0.9557  \n",
       "ROC-AUC    0.9600   0.9648  "
      ]
     },
     "metadata": {},
     "output_type": "display_data"
    },
    {
     "name": "stdout",
     "output_type": "stream",
     "text": [
      "Refit to full training data and evaluate:\n",
      "\n",
      "|| Accuracy: 0.9483 || ROC-AUC: 0.9525 ||\n",
      "\n"
     ]
    },
    {
     "data": {
      "image/png": "[encoded data removed]",
      "text/plain": [
       "<Figure size 400x300 with 2 Axes>"
      ]
     },
     "metadata": {},
     "output_type": "display_data"
    },
    {
     "name": "stdout",
     "output_type": "stream",
     "text": [
      "\n",
      "(Time taken: 170.85 secs)\n",
      "\n",
      " ------------------------- Minimal -------------------------\n",
      "Cross-validation:\n"
     ]
    },
    {
     "data": {
      "text/html": [
       "<div>\n",
       "<style scoped>\n",
       "    .dataframe tbody tr th:only-of-type {\n",
       "        vertical-align: middle;\n",
       "    }\n",
       "\n",
       "    .dataframe tbody tr th {\n",
       "        vertical-align: top;\n",
       "    }\n",
       "\n",
       "    .dataframe thead th {\n",
       "        text-align: right;\n",
       "    }\n",
       "</style>\n",
       "<table border=\"1\" class=\"dataframe\">\n",
       "  <thead>\n",
       "    <tr style=\"text-align: right;\">\n",
       "      <th></th>\n",
       "      <th>Fold #1</th>\n",
       "      <th>Fold #2</th>\n",
       "      <th>Fold #3</th>\n",
       "      <th>Fold #4</th>\n",
       "      <th>Fold #5</th>\n",
       "      <th>Fold #6</th>\n",
       "      <th>Fold #7</th>\n",
       "      <th>Fold #8</th>\n",
       "      <th>Fold #9</th>\n",
       "    </tr>\n",
       "  </thead>\n",
       "  <tbody>\n",
       "    <tr>\n",
       "      <th>Accuracy</th>\n",
       "      <td>0.9410</td>\n",
       "      <td>0.9299</td>\n",
       "      <td>0.9446</td>\n",
       "      <td>0.9409</td>\n",
       "      <td>0.9433</td>\n",
       "      <td>0.9384</td>\n",
       "      <td>0.9372</td>\n",
       "      <td>0.9569</td>\n",
       "      <td>0.9557</td>\n",
       "    </tr>\n",
       "    <tr>\n",
       "      <th>ROC-AUC</th>\n",
       "      <td>0.9522</td>\n",
       "      <td>0.9293</td>\n",
       "      <td>0.9437</td>\n",
       "      <td>0.9413</td>\n",
       "      <td>0.9396</td>\n",
       "      <td>0.9397</td>\n",
       "      <td>0.9478</td>\n",
       "      <td>0.9538</td>\n",
       "      <td>0.9611</td>\n",
       "    </tr>\n",
       "  </tbody>\n",
       "</table>\n",
       "</div>"
      ],
      "text/plain": [
       "          Fold #1  Fold #2  Fold #3  Fold #4  Fold #5  Fold #6  Fold #7  \\\n",
       "Accuracy   0.9410   0.9299   0.9446   0.9409   0.9433   0.9384   0.9372   \n",
       "ROC-AUC    0.9522   0.9293   0.9437   0.9413   0.9396   0.9397   0.9478   \n",
       "\n",
       "          Fold #8  Fold #9  \n",
       "Accuracy   0.9569   0.9557  \n",
       "ROC-AUC    0.9538   0.9611  "
      ]
     },
     "metadata": {},
     "output_type": "display_data"
    },
    {
     "name": "stdout",
     "output_type": "stream",
     "text": [
      "Refit to full training data and evaluate:\n",
      "\n",
      "|| Accuracy: 0.9483 || ROC-AUC: 0.9574 ||\n",
      "\n"
     ]
    },
    {
     "data": {
      "image/png": "[encoded data removed]",
      "text/plain": [
       "<Figure size 400x300 with 2 Axes>"
      ]
     },
     "metadata": {},
     "output_type": "display_data"
    },
    {
     "name": "stdout",
     "output_type": "stream",
     "text": [
      "\n",
      "(Time taken: 147.09 secs)\n"
     ]
    }
   ],
   "source": [
    "logreg = make_pipeline(\n",
    "    preprocessor, \n",
    "    LogisticRegression(\n",
    "        solver='saga', max_iter=1000, penalty='elasticnet', l1_ratio=0.5, random_state=SEED)\n",
    ")\n",
    "\n",
    "model = StackingClassifier(\n",
    "    estimators=base_models,\n",
    "    final_estimator=logreg,\n",
    "    cv=StratifiedKFold(n_splits=7, shuffle=True, random_state=SEED),\n",
    "    stack_method='predict_proba',\n",
    "    passthrough=False,\n",
    "    n_jobs=-1\n",
    ")\n",
    "\n",
    "run_experiment(model, 'stackingnopass')"
   ]
  },
  {
   "cell_type": "markdown",
   "id": "e30a62fe",
   "metadata": {
    "papermill": {
     "duration": 0.018269,
     "end_time": "2024-07-19T16:01:58.370119",
     "exception": false,
     "start_time": "2024-07-19T16:01:58.351850",
     "status": "completed"
    },
    "tags": []
   },
   "source": [
    "# Stacking Classifier - Passthrough\n",
    "(predictions + features used for stacking)"
   ]
  },
  {
   "cell_type": "code",
   "execution_count": 20,
   "id": "d8008116",
   "metadata": {
    "execution": {
     "iopub.execute_input": "2024-07-19T16:01:58.409102Z",
     "iopub.status.busy": "2024-07-19T16:01:58.407943Z",
     "iopub.status.idle": "2024-07-19T16:19:06.761089Z",
     "shell.execute_reply": "2024-07-19T16:19:06.759920Z"
    },
    "papermill": {
     "duration": 1028.375879,
     "end_time": "2024-07-19T16:19:06.763994",
     "exception": false,
     "start_time": "2024-07-19T16:01:58.388115",
     "status": "completed"
    },
    "tags": []
   },
   "outputs": [
    {
     "name": "stdout",
     "output_type": "stream",
     "text": [
      "\n",
      " ------------------------- Original -------------------------\n",
      "Cross-validation:\n"
     ]
    },
    {
     "name": "stderr",
     "output_type": "stream",
     "text": [
      "/opt/conda/lib/python3.10/site-packages/pandas/core/algorithms.py:1743: DeprecationWarning: is_sparse is deprecated and will be removed in a future version. Check `isinstance(dtype, pd.SparseDtype)` instead.\n",
      "  return lib.map_infer(values, mapper, convert=convert)\n",
      "/opt/conda/lib/python3.10/site-packages/pandas/core/algorithms.py:1743: DeprecationWarning: is_sparse is deprecated and will be removed in a future version. Check `isinstance(dtype, pd.SparseDtype)` instead.\n",
      "  return lib.map_infer(values, mapper, convert=convert)\n",
      "/opt/conda/lib/python3.10/site-packages/pandas/core/algorithms.py:1743: DeprecationWarning: is_sparse is deprecated and will be removed in a future version. Check `isinstance(dtype, pd.SparseDtype)` instead.\n",
      "  return lib.map_infer(values, mapper, convert=convert)\n",
      "/opt/conda/lib/python3.10/site-packages/pandas/core/algorithms.py:1743: DeprecationWarning: is_sparse is deprecated and will be removed in a future version. Check `isinstance(dtype, pd.SparseDtype)` instead.\n",
      "  return lib.map_infer(values, mapper, convert=convert)\n",
      "/opt/conda/lib/python3.10/site-packages/pandas/core/algorithms.py:1743: DeprecationWarning: is_sparse is deprecated and will be removed in a future version. Check `isinstance(dtype, pd.SparseDtype)` instead.\n",
      "  return lib.map_infer(values, mapper, convert=convert)\n",
      "/opt/conda/lib/python3.10/site-packages/pandas/core/algorithms.py:1743: DeprecationWarning: is_sparse is deprecated and will be removed in a future version. Check `isinstance(dtype, pd.SparseDtype)` instead.\n",
      "  return lib.map_infer(values, mapper, convert=convert)\n",
      "/opt/conda/lib/python3.10/site-packages/pandas/core/algorithms.py:1743: DeprecationWarning: is_sparse is deprecated and will be removed in a future version. Check `isinstance(dtype, pd.SparseDtype)` instead.\n",
      "  return lib.map_infer(values, mapper, convert=convert)\n",
      "/opt/conda/lib/python3.10/site-packages/pandas/core/algorithms.py:1743: DeprecationWarning: is_sparse is deprecated and will be removed in a future version. Check `isinstance(dtype, pd.SparseDtype)` instead.\n",
      "  return lib.map_infer(values, mapper, convert=convert)\n",
      "/opt/conda/lib/python3.10/site-packages/pandas/core/algorithms.py:1743: DeprecationWarning: is_sparse is deprecated and will be removed in a future version. Check `isinstance(dtype, pd.SparseDtype)` instead.\n",
      "  return lib.map_infer(values, mapper, convert=convert)\n",
      "/opt/conda/lib/python3.10/site-packages/pandas/core/algorithms.py:1743: DeprecationWarning: is_sparse is deprecated and will be removed in a future version. Check `isinstance(dtype, pd.SparseDtype)` instead.\n",
      "  return lib.map_infer(values, mapper, convert=convert)\n",
      "/opt/conda/lib/python3.10/site-packages/pandas/core/algorithms.py:1743: DeprecationWarning: is_sparse is deprecated and will be removed in a future version. Check `isinstance(dtype, pd.SparseDtype)` instead.\n",
      "  return lib.map_infer(values, mapper, convert=convert)\n",
      "/opt/conda/lib/python3.10/site-packages/sklearn/utils/validation.py:605: DeprecationWarning: is_sparse is deprecated and will be removed in a future version. Check `isinstance(dtype, pd.SparseDtype)` instead.\n",
      "  if is_sparse(pd_dtype):\n",
      "/opt/conda/lib/python3.10/site-packages/sklearn/utils/validation.py:614: DeprecationWarning: is_sparse is deprecated and will be removed in a future version. Check `isinstance(dtype, pd.SparseDtype)` instead.\n",
      "  if is_sparse(pd_dtype) or not is_extension_array_dtype(pd_dtype):\n",
      "/opt/conda/lib/python3.10/site-packages/sklearn/utils/validation.py:605: DeprecationWarning: is_sparse is deprecated and will be removed in a future version. Check `isinstance(dtype, pd.SparseDtype)` instead.\n",
      "  if is_sparse(pd_dtype):\n",
      "/opt/conda/lib/python3.10/site-packages/sklearn/utils/validation.py:614: DeprecationWarning: is_sparse is deprecated and will be removed in a future version. Check `isinstance(dtype, pd.SparseDtype)` instead.\n",
      "  if is_sparse(pd_dtype) or not is_extension_array_dtype(pd_dtype):\n",
      "/opt/conda/lib/python3.10/site-packages/sklearn/utils/validation.py:605: DeprecationWarning: is_sparse is deprecated and will be removed in a future version. Check `isinstance(dtype, pd.SparseDtype)` instead.\n",
      "  if is_sparse(pd_dtype):\n",
      "/opt/conda/lib/python3.10/site-packages/sklearn/utils/validation.py:614: DeprecationWarning: is_sparse is deprecated and will be removed in a future version. Check `isinstance(dtype, pd.SparseDtype)` instead.\n",
      "  if is_sparse(pd_dtype) or not is_extension_array_dtype(pd_dtype):\n",
      "/opt/conda/lib/python3.10/site-packages/sklearn/utils/validation.py:605: DeprecationWarning: is_sparse is deprecated and will be removed in a future version. Check `isinstance(dtype, pd.SparseDtype)` instead.\n",
      "  if is_sparse(pd_dtype):\n",
      "/opt/conda/lib/python3.10/site-packages/sklearn/utils/validation.py:614: DeprecationWarning: is_sparse is deprecated and will be removed in a future version. Check `isinstance(dtype, pd.SparseDtype)` instead.\n",
      "  if is_sparse(pd_dtype) or not is_extension_array_dtype(pd_dtype):\n",
      "/opt/conda/lib/python3.10/site-packages/sklearn/utils/validation.py:605: DeprecationWarning: is_sparse is deprecated and will be removed in a future version. Check `isinstance(dtype, pd.SparseDtype)` instead.\n",
      "  if is_sparse(pd_dtype):\n",
      "/opt/conda/lib/python3.10/site-packages/sklearn/utils/validation.py:614: DeprecationWarning: is_sparse is deprecated and will be removed in a future version. Check `isinstance(dtype, pd.SparseDtype)` instead.\n",
      "  if is_sparse(pd_dtype) or not is_extension_array_dtype(pd_dtype):\n",
      "/opt/conda/lib/python3.10/site-packages/sklearn/utils/validation.py:605: DeprecationWarning: is_sparse is deprecated and will be removed in a future version. Check `isinstance(dtype, pd.SparseDtype)` instead.\n",
      "  if is_sparse(pd_dtype):\n",
      "/opt/conda/lib/python3.10/site-packages/sklearn/utils/validation.py:614: DeprecationWarning: is_sparse is deprecated and will be removed in a future version. Check `isinstance(dtype, pd.SparseDtype)` instead.\n",
      "  if is_sparse(pd_dtype) or not is_extension_array_dtype(pd_dtype):\n",
      "/opt/conda/lib/python3.10/site-packages/sklearn/utils/validation.py:605: DeprecationWarning: is_sparse is deprecated and will be removed in a future version. Check `isinstance(dtype, pd.SparseDtype)` instead.\n",
      "  if is_sparse(pd_dtype):\n",
      "/opt/conda/lib/python3.10/site-packages/sklearn/utils/validation.py:614: DeprecationWarning: is_sparse is deprecated and will be removed in a future version. Check `isinstance(dtype, pd.SparseDtype)` instead.\n",
      "  if is_sparse(pd_dtype) or not is_extension_array_dtype(pd_dtype):\n",
      "/opt/conda/lib/python3.10/site-packages/sklearn/utils/validation.py:605: DeprecationWarning: is_sparse is deprecated and will be removed in a future version. Check `isinstance(dtype, pd.SparseDtype)` instead.\n",
      "  if is_sparse(pd_dtype):\n",
      "/opt/conda/lib/python3.10/site-packages/sklearn/utils/validation.py:614: DeprecationWarning: is_sparse is deprecated and will be removed in a future version. Check `isinstance(dtype, pd.SparseDtype)` instead.\n",
      "  if is_sparse(pd_dtype) or not is_extension_array_dtype(pd_dtype):\n",
      "/opt/conda/lib/python3.10/site-packages/sklearn/utils/validation.py:605: DeprecationWarning: is_sparse is deprecated and will be removed in a future version. Check `isinstance(dtype, pd.SparseDtype)` instead.\n",
      "  if is_sparse(pd_dtype):\n",
      "/opt/conda/lib/python3.10/site-packages/sklearn/utils/validation.py:614: DeprecationWarning: is_sparse is deprecated and will be removed in a future version. Check `isinstance(dtype, pd.SparseDtype)` instead.\n",
      "  if is_sparse(pd_dtype) or not is_extension_array_dtype(pd_dtype):\n",
      "/opt/conda/lib/python3.10/site-packages/sklearn/utils/validation.py:605: DeprecationWarning: is_sparse is deprecated and will be removed in a future version. Check `isinstance(dtype, pd.SparseDtype)` instead.\n",
      "  if is_sparse(pd_dtype):\n",
      "/opt/conda/lib/python3.10/site-packages/sklearn/utils/validation.py:614: DeprecationWarning: is_sparse is deprecated and will be removed in a future version. Check `isinstance(dtype, pd.SparseDtype)` instead.\n",
      "  if is_sparse(pd_dtype) or not is_extension_array_dtype(pd_dtype):\n",
      "/opt/conda/lib/python3.10/site-packages/sklearn/utils/validation.py:605: DeprecationWarning: is_sparse is deprecated and will be removed in a future version. Check `isinstance(dtype, pd.SparseDtype)` instead.\n",
      "  if is_sparse(pd_dtype):\n",
      "/opt/conda/lib/python3.10/site-packages/sklearn/utils/validation.py:614: DeprecationWarning: is_sparse is deprecated and will be removed in a future version. Check `isinstance(dtype, pd.SparseDtype)` instead.\n",
      "  if is_sparse(pd_dtype) or not is_extension_array_dtype(pd_dtype):\n",
      "/opt/conda/lib/python3.10/site-packages/pandas/core/algorithms.py:1743: DeprecationWarning: is_sparse is deprecated and will be removed in a future version. Check `isinstance(dtype, pd.SparseDtype)` instead.\n",
      "  return lib.map_infer(values, mapper, convert=convert)\n",
      "/opt/conda/lib/python3.10/site-packages/pandas/core/algorithms.py:1743: DeprecationWarning: is_sparse is deprecated and will be removed in a future version. Check `isinstance(dtype, pd.SparseDtype)` instead.\n",
      "  return lib.map_infer(values, mapper, convert=convert)\n"
     ]
    },
    {
     "data": {
      "text/html": [
       "<div>\n",
       "<style scoped>\n",
       "    .dataframe tbody tr th:only-of-type {\n",
       "        vertical-align: middle;\n",
       "    }\n",
       "\n",
       "    .dataframe tbody tr th {\n",
       "        vertical-align: top;\n",
       "    }\n",
       "\n",
       "    .dataframe thead th {\n",
       "        text-align: right;\n",
       "    }\n",
       "</style>\n",
       "<table border=\"1\" class=\"dataframe\">\n",
       "  <thead>\n",
       "    <tr style=\"text-align: right;\">\n",
       "      <th></th>\n",
       "      <th>Fold #1</th>\n",
       "      <th>Fold #2</th>\n",
       "      <th>Fold #3</th>\n",
       "      <th>Fold #4</th>\n",
       "      <th>Fold #5</th>\n",
       "      <th>Fold #6</th>\n",
       "      <th>Fold #7</th>\n",
       "      <th>Fold #8</th>\n",
       "      <th>Fold #9</th>\n",
       "    </tr>\n",
       "  </thead>\n",
       "  <tbody>\n",
       "    <tr>\n",
       "      <th>Accuracy</th>\n",
       "      <td>0.9582</td>\n",
       "      <td>0.9422</td>\n",
       "      <td>0.9557</td>\n",
       "      <td>0.9544</td>\n",
       "      <td>0.9557</td>\n",
       "      <td>0.9483</td>\n",
       "      <td>0.9581</td>\n",
       "      <td>0.9643</td>\n",
       "      <td>0.9717</td>\n",
       "    </tr>\n",
       "    <tr>\n",
       "      <th>ROC-AUC</th>\n",
       "      <td>0.9584</td>\n",
       "      <td>0.9517</td>\n",
       "      <td>0.9523</td>\n",
       "      <td>0.9558</td>\n",
       "      <td>0.9597</td>\n",
       "      <td>0.9433</td>\n",
       "      <td>0.9618</td>\n",
       "      <td>0.9626</td>\n",
       "      <td>0.9727</td>\n",
       "    </tr>\n",
       "  </tbody>\n",
       "</table>\n",
       "</div>"
      ],
      "text/plain": [
       "          Fold #1  Fold #2  Fold #3  Fold #4  Fold #5  Fold #6  Fold #7  \\\n",
       "Accuracy   0.9582   0.9422   0.9557   0.9544   0.9557   0.9483   0.9581   \n",
       "ROC-AUC    0.9584   0.9517   0.9523   0.9558   0.9597   0.9433   0.9618   \n",
       "\n",
       "          Fold #8  Fold #9  \n",
       "Accuracy   0.9643   0.9717  \n",
       "ROC-AUC    0.9626   0.9727  "
      ]
     },
     "metadata": {},
     "output_type": "display_data"
    },
    {
     "name": "stdout",
     "output_type": "stream",
     "text": [
      "Refit to full training data and evaluate:\n",
      "\n",
      "|| Accuracy: 0.9631 || ROC-AUC: 0.9629 ||\n",
      "\n"
     ]
    },
    {
     "data": {
      "image/png": "[encoded data removed]",
      "text/plain": [
       "<Figure size 400x300 with 2 Axes>"
      ]
     },
     "metadata": {},
     "output_type": "display_data"
    },
    {
     "name": "stdout",
     "output_type": "stream",
     "text": [
      "\n",
      "(Time taken: 438.26 secs)\n",
      "\n",
      " ------------------------- Extended -------------------------\n",
      "Cross-validation:\n"
     ]
    },
    {
     "data": {
      "text/html": [
       "<div>\n",
       "<style scoped>\n",
       "    .dataframe tbody tr th:only-of-type {\n",
       "        vertical-align: middle;\n",
       "    }\n",
       "\n",
       "    .dataframe tbody tr th {\n",
       "        vertical-align: top;\n",
       "    }\n",
       "\n",
       "    .dataframe thead th {\n",
       "        text-align: right;\n",
       "    }\n",
       "</style>\n",
       "<table border=\"1\" class=\"dataframe\">\n",
       "  <thead>\n",
       "    <tr style=\"text-align: right;\">\n",
       "      <th></th>\n",
       "      <th>Fold #1</th>\n",
       "      <th>Fold #2</th>\n",
       "      <th>Fold #3</th>\n",
       "      <th>Fold #4</th>\n",
       "      <th>Fold #5</th>\n",
       "      <th>Fold #6</th>\n",
       "      <th>Fold #7</th>\n",
       "      <th>Fold #8</th>\n",
       "      <th>Fold #9</th>\n",
       "    </tr>\n",
       "  </thead>\n",
       "  <tbody>\n",
       "    <tr>\n",
       "      <th>Accuracy</th>\n",
       "      <td>0.9594</td>\n",
       "      <td>0.9446</td>\n",
       "      <td>0.9581</td>\n",
       "      <td>0.9557</td>\n",
       "      <td>0.9557</td>\n",
       "      <td>0.9495</td>\n",
       "      <td>0.9594</td>\n",
       "      <td>0.9655</td>\n",
       "      <td>0.9729</td>\n",
       "    </tr>\n",
       "    <tr>\n",
       "      <th>ROC-AUC</th>\n",
       "      <td>0.9573</td>\n",
       "      <td>0.9511</td>\n",
       "      <td>0.9541</td>\n",
       "      <td>0.9555</td>\n",
       "      <td>0.9578</td>\n",
       "      <td>0.9418</td>\n",
       "      <td>0.9590</td>\n",
       "      <td>0.9578</td>\n",
       "      <td>0.9764</td>\n",
       "    </tr>\n",
       "  </tbody>\n",
       "</table>\n",
       "</div>"
      ],
      "text/plain": [
       "          Fold #1  Fold #2  Fold #3  Fold #4  Fold #5  Fold #6  Fold #7  \\\n",
       "Accuracy   0.9594   0.9446   0.9581   0.9557   0.9557   0.9495   0.9594   \n",
       "ROC-AUC    0.9573   0.9511   0.9541   0.9555   0.9578   0.9418   0.9590   \n",
       "\n",
       "          Fold #8  Fold #9  \n",
       "Accuracy   0.9655   0.9729  \n",
       "ROC-AUC    0.9578   0.9764  "
      ]
     },
     "metadata": {},
     "output_type": "display_data"
    },
    {
     "name": "stdout",
     "output_type": "stream",
     "text": [
      "Refit to full training data and evaluate:\n",
      "\n",
      "|| Accuracy: 0.9643 || ROC-AUC: 0.9632 ||\n",
      "\n"
     ]
    },
    {
     "data": {
      "image/png": "[encoded data removed]",
      "text/plain": [
       "<Figure size 400x300 with 2 Axes>"
      ]
     },
     "metadata": {},
     "output_type": "display_data"
    },
    {
     "name": "stdout",
     "output_type": "stream",
     "text": [
      "\n",
      "(Time taken: 264.94 secs)\n",
      "\n",
      " ------------------------- Binary -------------------------\n",
      "Cross-validation:\n"
     ]
    },
    {
     "data": {
      "text/html": [
       "<div>\n",
       "<style scoped>\n",
       "    .dataframe tbody tr th:only-of-type {\n",
       "        vertical-align: middle;\n",
       "    }\n",
       "\n",
       "    .dataframe tbody tr th {\n",
       "        vertical-align: top;\n",
       "    }\n",
       "\n",
       "    .dataframe thead th {\n",
       "        text-align: right;\n",
       "    }\n",
       "</style>\n",
       "<table border=\"1\" class=\"dataframe\">\n",
       "  <thead>\n",
       "    <tr style=\"text-align: right;\">\n",
       "      <th></th>\n",
       "      <th>Fold #1</th>\n",
       "      <th>Fold #2</th>\n",
       "      <th>Fold #3</th>\n",
       "      <th>Fold #4</th>\n",
       "      <th>Fold #5</th>\n",
       "      <th>Fold #6</th>\n",
       "      <th>Fold #7</th>\n",
       "      <th>Fold #8</th>\n",
       "      <th>Fold #9</th>\n",
       "    </tr>\n",
       "  </thead>\n",
       "  <tbody>\n",
       "    <tr>\n",
       "      <th>Accuracy</th>\n",
       "      <td>0.9410</td>\n",
       "      <td>0.9299</td>\n",
       "      <td>0.9446</td>\n",
       "      <td>0.9409</td>\n",
       "      <td>0.9433</td>\n",
       "      <td>0.9384</td>\n",
       "      <td>0.9372</td>\n",
       "      <td>0.9569</td>\n",
       "      <td>0.9557</td>\n",
       "    </tr>\n",
       "    <tr>\n",
       "      <th>ROC-AUC</th>\n",
       "      <td>0.9492</td>\n",
       "      <td>0.9337</td>\n",
       "      <td>0.9454</td>\n",
       "      <td>0.9501</td>\n",
       "      <td>0.9414</td>\n",
       "      <td>0.9307</td>\n",
       "      <td>0.9466</td>\n",
       "      <td>0.9597</td>\n",
       "      <td>0.9661</td>\n",
       "    </tr>\n",
       "  </tbody>\n",
       "</table>\n",
       "</div>"
      ],
      "text/plain": [
       "          Fold #1  Fold #2  Fold #3  Fold #4  Fold #5  Fold #6  Fold #7  \\\n",
       "Accuracy   0.9410   0.9299   0.9446   0.9409   0.9433   0.9384   0.9372   \n",
       "ROC-AUC    0.9492   0.9337   0.9454   0.9501   0.9414   0.9307   0.9466   \n",
       "\n",
       "          Fold #8  Fold #9  \n",
       "Accuracy   0.9569   0.9557  \n",
       "ROC-AUC    0.9597   0.9661  "
      ]
     },
     "metadata": {},
     "output_type": "display_data"
    },
    {
     "name": "stdout",
     "output_type": "stream",
     "text": [
      "Refit to full training data and evaluate:\n",
      "\n",
      "|| Accuracy: 0.9483 || ROC-AUC: 0.9512 ||\n",
      "\n"
     ]
    },
    {
     "data": {
      "image/png": "[encoded data removed]",
      "text/plain": [
       "<Figure size 400x300 with 2 Axes>"
      ]
     },
     "metadata": {},
     "output_type": "display_data"
    },
    {
     "name": "stdout",
     "output_type": "stream",
     "text": [
      "\n",
      "(Time taken: 175.50 secs)\n",
      "\n",
      " ------------------------- Minimal -------------------------\n",
      "Cross-validation:\n"
     ]
    },
    {
     "data": {
      "text/html": [
       "<div>\n",
       "<style scoped>\n",
       "    .dataframe tbody tr th:only-of-type {\n",
       "        vertical-align: middle;\n",
       "    }\n",
       "\n",
       "    .dataframe tbody tr th {\n",
       "        vertical-align: top;\n",
       "    }\n",
       "\n",
       "    .dataframe thead th {\n",
       "        text-align: right;\n",
       "    }\n",
       "</style>\n",
       "<table border=\"1\" class=\"dataframe\">\n",
       "  <thead>\n",
       "    <tr style=\"text-align: right;\">\n",
       "      <th></th>\n",
       "      <th>Fold #1</th>\n",
       "      <th>Fold #2</th>\n",
       "      <th>Fold #3</th>\n",
       "      <th>Fold #4</th>\n",
       "      <th>Fold #5</th>\n",
       "      <th>Fold #6</th>\n",
       "      <th>Fold #7</th>\n",
       "      <th>Fold #8</th>\n",
       "      <th>Fold #9</th>\n",
       "    </tr>\n",
       "  </thead>\n",
       "  <tbody>\n",
       "    <tr>\n",
       "      <th>Accuracy</th>\n",
       "      <td>0.9410</td>\n",
       "      <td>0.9299</td>\n",
       "      <td>0.9446</td>\n",
       "      <td>0.9409</td>\n",
       "      <td>0.9433</td>\n",
       "      <td>0.9384</td>\n",
       "      <td>0.9372</td>\n",
       "      <td>0.9569</td>\n",
       "      <td>0.9557</td>\n",
       "    </tr>\n",
       "    <tr>\n",
       "      <th>ROC-AUC</th>\n",
       "      <td>0.9482</td>\n",
       "      <td>0.9256</td>\n",
       "      <td>0.9431</td>\n",
       "      <td>0.9451</td>\n",
       "      <td>0.9384</td>\n",
       "      <td>0.9351</td>\n",
       "      <td>0.9506</td>\n",
       "      <td>0.9549</td>\n",
       "      <td>0.9630</td>\n",
       "    </tr>\n",
       "  </tbody>\n",
       "</table>\n",
       "</div>"
      ],
      "text/plain": [
       "          Fold #1  Fold #2  Fold #3  Fold #4  Fold #5  Fold #6  Fold #7  \\\n",
       "Accuracy   0.9410   0.9299   0.9446   0.9409   0.9433   0.9384   0.9372   \n",
       "ROC-AUC    0.9482   0.9256   0.9431   0.9451   0.9384   0.9351   0.9506   \n",
       "\n",
       "          Fold #8  Fold #9  \n",
       "Accuracy   0.9569   0.9557  \n",
       "ROC-AUC    0.9549   0.9630  "
      ]
     },
     "metadata": {},
     "output_type": "display_data"
    },
    {
     "name": "stdout",
     "output_type": "stream",
     "text": [
      "Refit to full training data and evaluate:\n",
      "\n",
      "|| Accuracy: 0.9483 || ROC-AUC: 0.9566 ||\n",
      "\n"
     ]
    },
    {
     "data": {
      "image/png": "[encoded data removed]",
      "text/plain": [
       "<Figure size 400x300 with 2 Axes>"
      ]
     },
     "metadata": {},
     "output_type": "display_data"
    },
    {
     "name": "stdout",
     "output_type": "stream",
     "text": [
      "\n",
      "(Time taken: 148.64 secs)\n"
     ]
    }
   ],
   "source": [
    "model = StackingClassifier(\n",
    "    estimators=base_models,\n",
    "    final_estimator=logreg,\n",
    "    cv=StratifiedKFold(n_splits=7, shuffle=True, random_state=SEED),\n",
    "    stack_method='predict_proba',\n",
    "    passthrough=True,\n",
    "    n_jobs=-1\n",
    ")\n",
    "\n",
    "run_experiment(model, 'stackingpass')"
   ]
  }
 ],
 "metadata": {
  "kaggle": {
   "accelerator": "none",
   "dataSources": [
    {
     "datasetId": 5236308,
     "sourceId": 8725325,
     "sourceType": "datasetVersion"
    }
   ],
   "dockerImageVersionId": 30746,
   "isGpuEnabled": false,
   "isInternetEnabled": true,
   "language": "python",
   "sourceType": "notebook"
  },
  "kernelspec": {
   "display_name": "Python 3",
   "language": "python",
   "name": "python3"
  },
  "language_info": {
   "codemirror_mode": {
    "name": "ipython",
    "version": 3
   },
   "file_extension": ".py",
   "mimetype": "text/x-python",
   "name": "python",
   "nbconvert_exporter": "python",
   "pygments_lexer": "ipython3",
   "version": "3.10.13"
  },
  "papermill": {
   "default_parameters": {},
   "duration": 2390.75765,
   "end_time": "2024-07-19T16:19:09.416537",
   "environment_variables": {},
   "exception": null,
   "input_path": "__notebook__.ipynb",
   "output_path": "__notebook__.ipynb",
   "parameters": {},
   "start_time": "2024-07-19T15:39:18.658887",
   "version": "2.5.0"
  }
 },
 "nbformat": 4,
 "nbformat_minor": 5
}
