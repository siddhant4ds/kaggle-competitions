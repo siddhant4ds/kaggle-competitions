{
 "cells": [
  {
   "cell_type": "markdown",
   "id": "de7fc862",
   "metadata": {
    "_cell_guid": "b1076dfc-b9ad-4769-8c92-a6c4dae69d19",
    "_uuid": "8f2839f25d086af736a60e9eeb907d3b93b6e0e5",
    "papermill": {
     "duration": 0.005669,
     "end_time": "2024-03-08T05:07:14.041662",
     "exception": false,
     "start_time": "2024-03-08T05:07:14.035993",
     "status": "completed"
    },
    "tags": []
   },
   "source": [
    "# Setup"
   ]
  },
  {
   "cell_type": "code",
   "execution_count": 1,
   "id": "b520effd",
   "metadata": {
    "execution": {
     "iopub.execute_input": "2024-03-08T05:07:14.054722Z",
     "iopub.status.busy": "2024-03-08T05:07:14.053484Z",
     "iopub.status.idle": "2024-03-08T05:07:17.051794Z",
     "shell.execute_reply": "2024-03-08T05:07:17.050461Z"
    },
    "papermill": {
     "duration": 3.007387,
     "end_time": "2024-03-08T05:07:17.054269",
     "exception": false,
     "start_time": "2024-03-08T05:07:14.046882",
     "status": "completed"
    },
    "tags": []
   },
   "outputs": [],
   "source": [
    "import gc\n",
    "gc.enable()\n",
    "\n",
    "import warnings\n",
    "warnings.filterwarnings('ignore')\n",
    "\n",
    "import numpy as np\n",
    "import pandas as pd\n",
    "pd.set_option('display.max_columns', None)\n",
    "pd.set_option('display.max_rows', None)\n",
    "\n",
    "from sklearn.metrics import roc_auc_score\n",
    "from sklearn.model_selection import StratifiedKFold\n",
    "import catboost as cb\n",
    "\n",
    "SEED = 2024"
   ]
  },
  {
   "cell_type": "code",
   "execution_count": 2,
   "id": "fa0f4b42",
   "metadata": {
    "execution": {
     "iopub.execute_input": "2024-03-08T05:07:17.065532Z",
     "iopub.status.busy": "2024-03-08T05:07:17.065063Z",
     "iopub.status.idle": "2024-03-08T05:07:17.072975Z",
     "shell.execute_reply": "2024-03-08T05:07:17.071932Z"
    },
    "papermill": {
     "duration": 0.015763,
     "end_time": "2024-03-08T05:07:17.075157",
     "exception": false,
     "start_time": "2024-03-08T05:07:17.059394",
     "status": "completed"
    },
    "tags": []
   },
   "outputs": [
    {
     "name": "stdout",
     "output_type": "stream",
     "text": [
      "Available device: CPU\n"
     ]
    }
   ],
   "source": [
    "#Check GPU availability\n",
    "import subprocess\n",
    "\n",
    "try:\n",
    "    subprocess.check_output('nvidia-smi')\n",
    "    DEVICE = 'GPU'\n",
    "except Exception:\n",
    "    DEVICE = 'CPU'\n",
    "\n",
    "print(f'Available device: {DEVICE}')"
   ]
  },
  {
   "cell_type": "code",
   "execution_count": 3,
   "id": "213dac5b",
   "metadata": {
    "execution": {
     "iopub.execute_input": "2024-03-08T05:07:17.087035Z",
     "iopub.status.busy": "2024-03-08T05:07:17.086706Z",
     "iopub.status.idle": "2024-03-08T05:07:17.663816Z",
     "shell.execute_reply": "2024-03-08T05:07:17.662223Z"
    },
    "papermill": {
     "duration": 0.585981,
     "end_time": "2024-03-08T05:07:17.666261",
     "exception": false,
     "start_time": "2024-03-08T05:07:17.080280",
     "status": "completed"
    },
    "tags": []
   },
   "outputs": [],
   "source": [
    "DATA_DIR = '/kaggle/input/ml-olympiad-smoking'\n",
    "\n",
    "train = pd.read_csv(f'{DATA_DIR}/train.csv')\n",
    "test = pd.read_csv(f'{DATA_DIR}/test.csv')\n",
    "sample_sub = pd.read_csv(f'{DATA_DIR}/sample_submission.csv')"
   ]
  },
  {
   "cell_type": "markdown",
   "id": "d93750d8",
   "metadata": {
    "papermill": {
     "duration": 0.004946,
     "end_time": "2024-03-08T05:07:17.676487",
     "exception": false,
     "start_time": "2024-03-08T05:07:17.671541",
     "status": "completed"
    },
    "tags": []
   },
   "source": [
    "# Data overview"
   ]
  },
  {
   "cell_type": "code",
   "execution_count": 4,
   "id": "071194df",
   "metadata": {
    "execution": {
     "iopub.execute_input": "2024-03-08T05:07:17.689134Z",
     "iopub.status.busy": "2024-03-08T05:07:17.688200Z",
     "iopub.status.idle": "2024-03-08T05:07:17.723214Z",
     "shell.execute_reply": "2024-03-08T05:07:17.722076Z"
    },
    "papermill": {
     "duration": 0.044152,
     "end_time": "2024-03-08T05:07:17.725737",
     "exception": false,
     "start_time": "2024-03-08T05:07:17.681585",
     "status": "completed"
    },
    "tags": []
   },
   "outputs": [
    {
     "name": "stdout",
     "output_type": "stream",
     "text": [
      "<class 'pandas.core.frame.DataFrame'>\n",
      "RangeIndex: 159256 entries, 0 to 159255\n",
      "Data columns (total 24 columns):\n",
      " #   Column               Non-Null Count   Dtype  \n",
      "---  ------               --------------   -----  \n",
      " 0   id                   159256 non-null  int64  \n",
      " 1   age                  159256 non-null  int64  \n",
      " 2   height(cm)           159256 non-null  int64  \n",
      " 3   weight(kg)           159256 non-null  int64  \n",
      " 4   waist(cm)            159256 non-null  float64\n",
      " 5   eyesight(left)       159256 non-null  float64\n",
      " 6   eyesight(right)      159256 non-null  float64\n",
      " 7   hearing(left)        159256 non-null  int64  \n",
      " 8   hearing(right)       159256 non-null  int64  \n",
      " 9   systolic             159256 non-null  int64  \n",
      " 10  relaxation           159256 non-null  int64  \n",
      " 11  fasting blood sugar  159256 non-null  int64  \n",
      " 12  Cholesterol          159256 non-null  int64  \n",
      " 13  triglyceride         159256 non-null  int64  \n",
      " 14  HDL                  159256 non-null  int64  \n",
      " 15  LDL                  159256 non-null  int64  \n",
      " 16  hemoglobin           159256 non-null  float64\n",
      " 17  Urine protein        159256 non-null  int64  \n",
      " 18  serum creatinine     159256 non-null  float64\n",
      " 19  AST                  159256 non-null  int64  \n",
      " 20  ALT                  159256 non-null  int64  \n",
      " 21  Gtp                  159256 non-null  int64  \n",
      " 22  dental caries        159256 non-null  int64  \n",
      " 23  smoking              159256 non-null  int64  \n",
      "dtypes: float64(5), int64(19)\n",
      "memory usage: 29.2 MB\n"
     ]
    }
   ],
   "source": [
    "train.info()"
   ]
  },
  {
   "cell_type": "code",
   "execution_count": 5,
   "id": "d1760956",
   "metadata": {
    "execution": {
     "iopub.execute_input": "2024-03-08T05:07:17.738902Z",
     "iopub.status.busy": "2024-03-08T05:07:17.738506Z",
     "iopub.status.idle": "2024-03-08T05:07:17.753387Z",
     "shell.execute_reply": "2024-03-08T05:07:17.752073Z"
    },
    "papermill": {
     "duration": 0.02404,
     "end_time": "2024-03-08T05:07:17.755797",
     "exception": false,
     "start_time": "2024-03-08T05:07:17.731757",
     "status": "completed"
    },
    "tags": []
   },
   "outputs": [
    {
     "data": {
      "text/plain": [
       "smoking\n",
       "0    0.562635\n",
       "1    0.437365\n",
       "Name: proportion, dtype: float64"
      ]
     },
     "execution_count": 5,
     "metadata": {},
     "output_type": "execute_result"
    }
   ],
   "source": [
    "TARGET = 'smoking'\n",
    "train[TARGET].value_counts(normalize=True)"
   ]
  },
  {
   "cell_type": "code",
   "execution_count": 6,
   "id": "a7f4fddc",
   "metadata": {
    "execution": {
     "iopub.execute_input": "2024-03-08T05:07:17.769135Z",
     "iopub.status.busy": "2024-03-08T05:07:17.768725Z",
     "iopub.status.idle": "2024-03-08T05:07:17.773843Z",
     "shell.execute_reply": "2024-03-08T05:07:17.772664Z"
    },
    "papermill": {
     "duration": 0.014584,
     "end_time": "2024-03-08T05:07:17.775864",
     "exception": false,
     "start_time": "2024-03-08T05:07:17.761280",
     "status": "completed"
    },
    "tags": []
   },
   "outputs": [],
   "source": [
    "FEATURES = [f for f in test.columns if f != 'id']"
   ]
  },
  {
   "cell_type": "code",
   "execution_count": 7,
   "id": "6e10506f",
   "metadata": {
    "execution": {
     "iopub.execute_input": "2024-03-08T05:07:17.788877Z",
     "iopub.status.busy": "2024-03-08T05:07:17.788492Z",
     "iopub.status.idle": "2024-03-08T05:07:17.827610Z",
     "shell.execute_reply": "2024-03-08T05:07:17.825668Z"
    },
    "papermill": {
     "duration": 0.048396,
     "end_time": "2024-03-08T05:07:17.830007",
     "exception": false,
     "start_time": "2024-03-08T05:07:17.781611",
     "status": "completed"
    },
    "tags": []
   },
   "outputs": [
    {
     "data": {
      "text/plain": [
       "age                     18\n",
       "height(cm)              14\n",
       "weight(kg)              28\n",
       "waist(cm)              531\n",
       "eyesight(left)          20\n",
       "eyesight(right)         17\n",
       "hearing(left)            2\n",
       "hearing(right)           2\n",
       "systolic               112\n",
       "relaxation              75\n",
       "fasting blood sugar    229\n",
       "Cholesterol            227\n",
       "triglyceride           392\n",
       "HDL                    108\n",
       "LDL                    222\n",
       "hemoglobin             134\n",
       "Urine protein            6\n",
       "serum creatinine        28\n",
       "AST                    140\n",
       "ALT                    188\n",
       "Gtp                    362\n",
       "dental caries            2\n",
       "dtype: int64"
      ]
     },
     "execution_count": 7,
     "metadata": {},
     "output_type": "execute_result"
    }
   ],
   "source": [
    "train[FEATURES].nunique()"
   ]
  },
  {
   "cell_type": "code",
   "execution_count": 8,
   "id": "085dd931",
   "metadata": {
    "execution": {
     "iopub.execute_input": "2024-03-08T05:07:17.842006Z",
     "iopub.status.busy": "2024-03-08T05:07:17.841684Z",
     "iopub.status.idle": "2024-03-08T05:07:17.846790Z",
     "shell.execute_reply": "2024-03-08T05:07:17.845623Z"
    },
    "papermill": {
     "duration": 0.013226,
     "end_time": "2024-03-08T05:07:17.848539",
     "exception": false,
     "start_time": "2024-03-08T05:07:17.835313",
     "status": "completed"
    },
    "tags": []
   },
   "outputs": [],
   "source": [
    "CAT_FEATURES = ['hearing(left)', 'hearing(right)', 'dental caries']"
   ]
  },
  {
   "cell_type": "markdown",
   "id": "ae9bd226",
   "metadata": {
    "papermill": {
     "duration": 0.005082,
     "end_time": "2024-03-08T05:07:17.859147",
     "exception": false,
     "start_time": "2024-03-08T05:07:17.854065",
     "status": "completed"
    },
    "tags": []
   },
   "source": [
    "# Modeling"
   ]
  },
  {
   "cell_type": "code",
   "execution_count": 9,
   "id": "4afb0c83",
   "metadata": {
    "execution": {
     "iopub.execute_input": "2024-03-08T05:07:17.871726Z",
     "iopub.status.busy": "2024-03-08T05:07:17.871389Z",
     "iopub.status.idle": "2024-03-08T05:07:17.876779Z",
     "shell.execute_reply": "2024-03-08T05:07:17.875449Z"
    },
    "papermill": {
     "duration": 0.014751,
     "end_time": "2024-03-08T05:07:17.879278",
     "exception": false,
     "start_time": "2024-03-08T05:07:17.864527",
     "status": "completed"
    },
    "tags": []
   },
   "outputs": [],
   "source": [
    "def comp_metric(y_true, y_pred):\n",
    "    return roc_auc_score(y_true, y_pred)"
   ]
  },
  {
   "cell_type": "markdown",
   "id": "9fc0a7b8",
   "metadata": {
    "papermill": {
     "duration": 0.005267,
     "end_time": "2024-03-08T05:07:17.891523",
     "exception": false,
     "start_time": "2024-03-08T05:07:17.886256",
     "status": "completed"
    },
    "tags": []
   },
   "source": [
    "**Cross-validation setup**"
   ]
  },
  {
   "cell_type": "code",
   "execution_count": 10,
   "id": "a4b0099c",
   "metadata": {
    "execution": {
     "iopub.execute_input": "2024-03-08T05:07:17.904091Z",
     "iopub.status.busy": "2024-03-08T05:07:17.903707Z",
     "iopub.status.idle": "2024-03-08T05:07:17.914117Z",
     "shell.execute_reply": "2024-03-08T05:07:17.912894Z"
    },
    "papermill": {
     "duration": 0.019911,
     "end_time": "2024-03-08T05:07:17.916746",
     "exception": false,
     "start_time": "2024-03-08T05:07:17.896835",
     "status": "completed"
    },
    "tags": []
   },
   "outputs": [],
   "source": [
    "def custom_cv(features, model, folds=7, seed=SEED):\n",
    "    X, y = train[features], train[TARGET]\n",
    "    X_test = test[features]\n",
    "    cat_features = [f for f in features if f in CAT_FEATURES]\n",
    "    \n",
    "    oof_probs = {}\n",
    "    test_probs = {}\n",
    "    scores = []\n",
    "\n",
    "    cv = StratifiedKFold(n_splits=folds, shuffle=True, random_state=seed)\n",
    "    for fold, (train_ids, val_ids) in enumerate(cv.split(X, y)):\n",
    "        X_train, y_train = X.iloc[train_ids], y.iloc[train_ids]\n",
    "        X_val, y_val = X.iloc[val_ids], y.iloc[val_ids]\n",
    "\n",
    "        model.fit(\n",
    "            X_train, y_train,\n",
    "            eval_set=[(X_val, y_val)],\n",
    "            cat_features=cat_features,\n",
    "            verbose=False)\n",
    "\n",
    "        val_probs = model.predict_proba(X_val)[:, 1]\n",
    "        oof_probs.update(dict(zip(val_ids, val_probs)))\n",
    "        test_probs[f'fold{fold}'] = model.predict_proba(X_test)[:, 1]\n",
    "\n",
    "        score = comp_metric(y_val, val_probs)\n",
    "        scores.append(score)\n",
    "        print(f'Fold #{fold:>2}: {score:.5f} ({model.best_iteration_:>4} rounds)')\n",
    "        _ = gc.collect()\n",
    "\n",
    "    test_probs = pd.DataFrame.from_dict(test_probs)\n",
    "    test_probs['mean'] = test_probs.mean(axis=1) # mean of fold-wise probabilities\n",
    "    \n",
    "    oof_probs = pd.Series(oof_probs).sort_index()\n",
    "    print(f'\\nAvg. score: {np.mean(scores):.5f} +/- {np.std(scores):.5f}')\n",
    "    print(f'OOF score: {comp_metric(y, oof_probs):.5f}\\n')\n",
    "    \n",
    "    return oof_probs, test_probs"
   ]
  },
  {
   "cell_type": "markdown",
   "id": "2bdd362a",
   "metadata": {
    "papermill": {
     "duration": 0.005443,
     "end_time": "2024-03-08T05:07:17.927924",
     "exception": false,
     "start_time": "2024-03-08T05:07:17.922481",
     "status": "completed"
    },
    "tags": []
   },
   "source": [
    "**Submission files**"
   ]
  },
  {
   "cell_type": "code",
   "execution_count": 11,
   "id": "8e1d3a24",
   "metadata": {
    "execution": {
     "iopub.execute_input": "2024-03-08T05:07:17.940891Z",
     "iopub.status.busy": "2024-03-08T05:07:17.940516Z",
     "iopub.status.idle": "2024-03-08T05:07:17.946492Z",
     "shell.execute_reply": "2024-03-08T05:07:17.944848Z"
    },
    "papermill": {
     "duration": 0.015403,
     "end_time": "2024-03-08T05:07:17.949031",
     "exception": false,
     "start_time": "2024-03-08T05:07:17.933628",
     "status": "completed"
    },
    "tags": []
   },
   "outputs": [],
   "source": [
    "def create_submission_files(preds, config, notebook='00'):\n",
    "    sub = sample_sub.copy()\n",
    "    sub[TARGET] = preds['mean']\n",
    "    sub.to_csv(f'{notebook}_{config}.csv', index=False)"
   ]
  },
  {
   "cell_type": "code",
   "execution_count": 12,
   "id": "68389ce8",
   "metadata": {
    "execution": {
     "iopub.execute_input": "2024-03-08T05:07:17.961840Z",
     "iopub.status.busy": "2024-03-08T05:07:17.961495Z",
     "iopub.status.idle": "2024-03-08T05:07:17.966357Z",
     "shell.execute_reply": "2024-03-08T05:07:17.965201Z"
    },
    "papermill": {
     "duration": 0.014409,
     "end_time": "2024-03-08T05:07:17.969068",
     "exception": false,
     "start_time": "2024-03-08T05:07:17.954659",
     "status": "completed"
    },
    "tags": []
   },
   "outputs": [],
   "source": [
    "op = {}\n",
    "tp = {}"
   ]
  },
  {
   "cell_type": "code",
   "execution_count": 13,
   "id": "74b11282",
   "metadata": {
    "execution": {
     "iopub.execute_input": "2024-03-08T05:07:17.981877Z",
     "iopub.status.busy": "2024-03-08T05:07:17.981497Z",
     "iopub.status.idle": "2024-03-08T05:07:17.987400Z",
     "shell.execute_reply": "2024-03-08T05:07:17.985956Z"
    },
    "papermill": {
     "duration": 0.015652,
     "end_time": "2024-03-08T05:07:17.990436",
     "exception": false,
     "start_time": "2024-03-08T05:07:17.974784",
     "status": "completed"
    },
    "tags": []
   },
   "outputs": [],
   "source": [
    "BASE_PARAMS = {\n",
    "    'loss_function': 'Logloss',\n",
    "    'eval_metric': 'AUC',\n",
    "    'metric_period': 1,\n",
    "    'iterations': 10000,\n",
    "    'learning_rate': 0.1,\n",
    "    'early_stopping_rounds': 100,\n",
    "    'use_best_model': True,\n",
    "    'task_type': DEVICE,\n",
    "    'thread_count': -1\n",
    "}"
   ]
  },
  {
   "cell_type": "code",
   "execution_count": 14,
   "id": "25adc57b",
   "metadata": {
    "execution": {
     "iopub.execute_input": "2024-03-08T05:07:18.002936Z",
     "iopub.status.busy": "2024-03-08T05:07:18.002549Z",
     "iopub.status.idle": "2024-03-08T05:09:41.168456Z",
     "shell.execute_reply": "2024-03-08T05:09:41.167532Z"
    },
    "papermill": {
     "duration": 143.175472,
     "end_time": "2024-03-08T05:09:41.171398",
     "exception": false,
     "start_time": "2024-03-08T05:07:17.995926",
     "status": "completed"
    },
    "tags": []
   },
   "outputs": [
    {
     "name": "stdout",
     "output_type": "stream",
     "text": [
      "Fold # 0: 0.86977 ( 645 rounds)\n",
      "Fold # 1: 0.86888 (1550 rounds)\n",
      "Fold # 2: 0.86968 (1559 rounds)\n",
      "Fold # 3: 0.86580 ( 907 rounds)\n",
      "Fold # 4: 0.86948 ( 829 rounds)\n",
      "\n",
      "Avg. score: 0.86872 +/- 0.00149\n",
      "OOF score: 0.86868\n",
      "\n",
      "CPU times: user 8min 29s, sys: 21.1 s, total: 8min 50s\n",
      "Wall time: 2min 23s\n"
     ]
    }
   ],
   "source": [
    "%%time\n",
    "config = 'f05_s2024'\n",
    "model = cb.CatBoostClassifier(**BASE_PARAMS, random_state=SEED)\n",
    "op[config], tp[config] = custom_cv(FEATURES, model, folds=5, seed=SEED)\n",
    "\n",
    "create_submission_files(tp[config], config)"
   ]
  },
  {
   "cell_type": "code",
   "execution_count": 15,
   "id": "9437e09c",
   "metadata": {
    "execution": {
     "iopub.execute_input": "2024-03-08T05:09:41.184660Z",
     "iopub.status.busy": "2024-03-08T05:09:41.184207Z",
     "iopub.status.idle": "2024-03-08T05:13:09.396485Z",
     "shell.execute_reply": "2024-03-08T05:13:09.395092Z"
    },
    "papermill": {
     "duration": 208.221527,
     "end_time": "2024-03-08T05:13:09.398751",
     "exception": false,
     "start_time": "2024-03-08T05:09:41.177224",
     "status": "completed"
    },
    "tags": []
   },
   "outputs": [
    {
     "name": "stdout",
     "output_type": "stream",
     "text": [
      "Fold # 0: 0.86859 (1134 rounds)\n",
      "Fold # 1: 0.87155 (1077 rounds)\n",
      "Fold # 2: 0.86967 (1316 rounds)\n",
      "Fold # 3: 0.87052 ( 962 rounds)\n",
      "Fold # 4: 0.86804 (1299 rounds)\n",
      "Fold # 5: 0.86985 ( 761 rounds)\n",
      "Fold # 6: 0.86908 (1288 rounds)\n",
      "\n",
      "Avg. score: 0.86962 +/- 0.00110\n",
      "OOF score: 0.86960\n",
      "\n",
      "CPU times: user 12min 27s, sys: 30.5 s, total: 12min 57s\n",
      "Wall time: 3min 28s\n"
     ]
    }
   ],
   "source": [
    "%%time\n",
    "config = 'f07_s2024'\n",
    "model = cb.CatBoostClassifier(**BASE_PARAMS, random_state=SEED)\n",
    "op[config], tp[config] = custom_cv(FEATURES, model, folds=7, seed=SEED)\n",
    "\n",
    "create_submission_files(tp[config], config)"
   ]
  },
  {
   "cell_type": "code",
   "execution_count": 16,
   "id": "4f20eb82",
   "metadata": {
    "execution": {
     "iopub.execute_input": "2024-03-08T05:13:09.413780Z",
     "iopub.status.busy": "2024-03-08T05:13:09.413446Z",
     "iopub.status.idle": "2024-03-08T05:17:49.314519Z",
     "shell.execute_reply": "2024-03-08T05:17:49.313016Z"
    },
    "papermill": {
     "duration": 279.911324,
     "end_time": "2024-03-08T05:17:49.316906",
     "exception": false,
     "start_time": "2024-03-08T05:13:09.405582",
     "status": "completed"
    },
    "tags": []
   },
   "outputs": [
    {
     "name": "stdout",
     "output_type": "stream",
     "text": [
      "Fold # 0: 0.86793 ( 963 rounds)\n",
      "Fold # 1: 0.87349 ( 712 rounds)\n",
      "Fold # 2: 0.86744 ( 859 rounds)\n",
      "Fold # 3: 0.87065 ( 816 rounds)\n",
      "Fold # 4: 0.86981 (1609 rounds)\n",
      "Fold # 5: 0.87294 (1462 rounds)\n",
      "Fold # 6: 0.86493 (1021 rounds)\n",
      "Fold # 7: 0.86797 ( 764 rounds)\n",
      "Fold # 8: 0.87242 ( 703 rounds)\n",
      "Fold # 9: 0.86771 (1376 rounds)\n",
      "\n",
      "Avg. score: 0.86953 +/- 0.00266\n",
      "OOF score: 0.86950\n",
      "\n",
      "CPU times: user 16min 45s, sys: 40.7 s, total: 17min 25s\n",
      "Wall time: 4min 39s\n"
     ]
    }
   ],
   "source": [
    "%%time\n",
    "config = 'f10_s2024'\n",
    "model = cb.CatBoostClassifier(**BASE_PARAMS, random_state=SEED)\n",
    "op[config], tp[config] = custom_cv(FEATURES, model, folds=10, seed=SEED)\n",
    "\n",
    "create_submission_files(tp[config], config)"
   ]
  },
  {
   "cell_type": "code",
   "execution_count": 17,
   "id": "830170d8",
   "metadata": {
    "execution": {
     "iopub.execute_input": "2024-03-08T05:17:49.332842Z",
     "iopub.status.busy": "2024-03-08T05:17:49.332525Z",
     "iopub.status.idle": "2024-03-08T05:24:43.914917Z",
     "shell.execute_reply": "2024-03-08T05:24:43.913514Z"
    },
    "papermill": {
     "duration": 414.593154,
     "end_time": "2024-03-08T05:24:43.917306",
     "exception": false,
     "start_time": "2024-03-08T05:17:49.324152",
     "status": "completed"
    },
    "tags": []
   },
   "outputs": [
    {
     "name": "stdout",
     "output_type": "stream",
     "text": [
      "Fold # 0: 0.86800 (1229 rounds)\n",
      "Fold # 1: 0.87047 ( 716 rounds)\n",
      "Fold # 2: 0.87565 (1216 rounds)\n",
      "Fold # 3: 0.86790 ( 974 rounds)\n",
      "Fold # 4: 0.86774 (1000 rounds)\n",
      "Fold # 5: 0.87260 (1210 rounds)\n",
      "Fold # 6: 0.86603 ( 795 rounds)\n",
      "Fold # 7: 0.87428 (1006 rounds)\n",
      "Fold # 8: 0.87001 ( 932 rounds)\n",
      "Fold # 9: 0.86402 ( 751 rounds)\n",
      "Fold #10: 0.86551 ( 956 rounds)\n",
      "Fold #11: 0.87023 (1230 rounds)\n",
      "Fold #12: 0.87461 ( 965 rounds)\n",
      "Fold #13: 0.86931 (1041 rounds)\n",
      "Fold #14: 0.86856 (1156 rounds)\n",
      "\n",
      "Avg. score: 0.86966 +/- 0.00331\n",
      "OOF score: 0.86967\n",
      "\n",
      "CPU times: user 24min 56s, sys: 58.4 s, total: 25min 54s\n",
      "Wall time: 6min 54s\n"
     ]
    }
   ],
   "source": [
    "%%time\n",
    "config = 'f15_s2024'\n",
    "model = cb.CatBoostClassifier(**BASE_PARAMS, random_state=SEED)\n",
    "op[config], tp[config] = custom_cv(FEATURES, model, folds=15, seed=SEED)\n",
    "\n",
    "create_submission_files(tp[config], config)"
   ]
  },
  {
   "cell_type": "code",
   "execution_count": 18,
   "id": "102e1853",
   "metadata": {
    "execution": {
     "iopub.execute_input": "2024-03-08T05:24:43.935127Z",
     "iopub.status.busy": "2024-03-08T05:24:43.934763Z",
     "iopub.status.idle": "2024-03-08T05:24:44.260253Z",
     "shell.execute_reply": "2024-03-08T05:24:44.258762Z"
    },
    "papermill": {
     "duration": 0.337154,
     "end_time": "2024-03-08T05:24:44.262787",
     "exception": false,
     "start_time": "2024-03-08T05:24:43.925633",
     "status": "completed"
    },
    "tags": []
   },
   "outputs": [
    {
     "name": "stdout",
     "output_type": "stream",
     "text": [
      "id,smoking\r\n",
      "159256,0.5857696103986312\r\n",
      "159257,0.2969399356423675\r\n",
      "159258,0.39862431727908937\r\n",
      "159259,0.01761013120731015\r\n",
      "159260,0.5594316786546193\r\n",
      "159261,0.9256777108144242\r\n",
      "159262,0.5094217369105534\r\n",
      "159263,0.053544465616838934\r\n",
      "159264,0.12749131541443878\r\n"
     ]
    }
   ],
   "source": [
    "!head 00_f10_s2024.csv"
   ]
  },
  {
   "cell_type": "markdown",
   "id": "cb5eb39a",
   "metadata": {
    "papermill": {
     "duration": 0.007546,
     "end_time": "2024-03-08T05:24:44.278573",
     "exception": false,
     "start_time": "2024-03-08T05:24:44.271027",
     "status": "completed"
    },
    "tags": []
   },
   "source": [
    "**Time to submit!**"
   ]
  }
 ],
 "metadata": {
  "kaggle": {
   "accelerator": "none",
   "dataSources": [
    {
     "databundleVersionId": 7669326,
     "sourceId": 70052,
     "sourceType": "competition"
    }
   ],
   "dockerImageVersionId": 30664,
   "isGpuEnabled": false,
   "isInternetEnabled": true,
   "language": "python",
   "sourceType": "notebook"
  },
  "kernelspec": {
   "display_name": "Python 3",
   "language": "python",
   "name": "python3"
  },
  "language_info": {
   "codemirror_mode": {
    "name": "ipython",
    "version": 3
   },
   "file_extension": ".py",
   "mimetype": "text/x-python",
   "name": "python",
   "nbconvert_exporter": "python",
   "pygments_lexer": "ipython3",
   "version": "3.10.13"
  },
  "papermill": {
   "default_parameters": {},
   "duration": 1053.69129,
   "end_time": "2024-03-08T05:24:45.011633",
   "environment_variables": {},
   "exception": null,
   "input_path": "__notebook__.ipynb",
   "output_path": "__notebook__.ipynb",
   "parameters": {},
   "start_time": "2024-03-08T05:07:11.320343",
   "version": "2.5.0"
  }
 },
 "nbformat": 4,
 "nbformat_minor": 5
}
