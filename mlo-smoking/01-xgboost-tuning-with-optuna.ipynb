{
 "cells": [
  {
   "cell_type": "markdown",
   "id": "bd6935fc",
   "metadata": {
    "papermill": {
     "duration": 0.008713,
     "end_time": "2024-03-08T18:05:08.540314",
     "exception": false,
     "start_time": "2024-03-08T18:05:08.531601",
     "status": "completed"
    },
    "tags": []
   },
   "source": [
    "# Setup"
   ]
  },
  {
   "cell_type": "code",
   "execution_count": 1,
   "id": "b483da9c",
   "metadata": {
    "_cell_guid": "b1076dfc-b9ad-4769-8c92-a6c4dae69d19",
    "_kg_hide-input": true,
    "_uuid": "8f2839f25d086af736a60e9eeb907d3b93b6e0e5",
    "execution": {
     "iopub.execute_input": "2024-03-08T18:05:08.558877Z",
     "iopub.status.busy": "2024-03-08T18:05:08.558194Z",
     "iopub.status.idle": "2024-03-08T18:05:11.685994Z",
     "shell.execute_reply": "2024-03-08T18:05:11.685223Z"
    },
    "papermill": {
     "duration": 3.139792,
     "end_time": "2024-03-08T18:05:11.688302",
     "exception": false,
     "start_time": "2024-03-08T18:05:08.548510",
     "status": "completed"
    },
    "tags": []
   },
   "outputs": [],
   "source": [
    "import gc\n",
    "import time\n",
    "import warnings\n",
    "import subprocess\n",
    "\n",
    "gc.enable()\n",
    "warnings.filterwarnings('ignore')\n",
    "\n",
    "import numpy as np\n",
    "import pandas as pd\n",
    "\n",
    "pd.set_option('display.max_columns', None)\n",
    "\n",
    "from sklearn.metrics import roc_auc_score\n",
    "from sklearn.model_selection import StratifiedKFold\n",
    "\n",
    "import xgboost as xgb\n",
    "import optuna\n",
    "\n",
    "SEED = 55"
   ]
  },
  {
   "cell_type": "code",
   "execution_count": 2,
   "id": "7c1eca0a",
   "metadata": {
    "execution": {
     "iopub.execute_input": "2024-03-08T18:05:11.706030Z",
     "iopub.status.busy": "2024-03-08T18:05:11.705624Z",
     "iopub.status.idle": "2024-03-08T18:05:11.712018Z",
     "shell.execute_reply": "2024-03-08T18:05:11.711220Z"
    },
    "papermill": {
     "duration": 0.017164,
     "end_time": "2024-03-08T18:05:11.713837",
     "exception": false,
     "start_time": "2024-03-08T18:05:11.696673",
     "status": "completed"
    },
    "tags": []
   },
   "outputs": [
    {
     "data": {
      "text/plain": [
       "'2.0.3'"
      ]
     },
     "execution_count": 2,
     "metadata": {},
     "output_type": "execute_result"
    }
   ],
   "source": [
    "xgb.__version__"
   ]
  },
  {
   "cell_type": "code",
   "execution_count": 3,
   "id": "2bc08570",
   "metadata": {
    "_kg_hide-input": true,
    "execution": {
     "iopub.execute_input": "2024-03-08T18:05:11.731283Z",
     "iopub.status.busy": "2024-03-08T18:05:11.730987Z",
     "iopub.status.idle": "2024-03-08T18:05:11.780003Z",
     "shell.execute_reply": "2024-03-08T18:05:11.779013Z"
    },
    "papermill": {
     "duration": 0.059938,
     "end_time": "2024-03-08T18:05:11.781909",
     "exception": false,
     "start_time": "2024-03-08T18:05:11.721971",
     "status": "completed"
    },
    "tags": []
   },
   "outputs": [
    {
     "name": "stdout",
     "output_type": "stream",
     "text": [
      "Available device: cuda\n"
     ]
    }
   ],
   "source": [
    "#Check GPU availability\n",
    "try:\n",
    "    subprocess.check_output('nvidia-smi')\n",
    "    DEVICE = 'cuda'\n",
    "except Exception:\n",
    "    DEVICE = 'cpu'\n",
    "\n",
    "print(f'Available device: {DEVICE}')"
   ]
  },
  {
   "cell_type": "markdown",
   "id": "3b831443",
   "metadata": {
    "papermill": {
     "duration": 0.008166,
     "end_time": "2024-03-08T18:05:11.798344",
     "exception": false,
     "start_time": "2024-03-08T18:05:11.790178",
     "status": "completed"
    },
    "tags": []
   },
   "source": [
    "# Data preparation"
   ]
  },
  {
   "cell_type": "code",
   "execution_count": 4,
   "id": "f79da910",
   "metadata": {
    "execution": {
     "iopub.execute_input": "2024-03-08T18:05:11.815915Z",
     "iopub.status.busy": "2024-03-08T18:05:11.815613Z",
     "iopub.status.idle": "2024-03-08T18:05:12.895992Z",
     "shell.execute_reply": "2024-03-08T18:05:12.895217Z"
    },
    "papermill": {
     "duration": 1.092127,
     "end_time": "2024-03-08T18:05:12.898572",
     "exception": false,
     "start_time": "2024-03-08T18:05:11.806445",
     "status": "completed"
    },
    "tags": []
   },
   "outputs": [],
   "source": [
    "DATA_DIR = '/kaggle/input/ml-olympiad-smoking'\n",
    "\n",
    "train = pd.read_csv(f'{DATA_DIR}/train.csv')\n",
    "test = pd.read_csv(f'{DATA_DIR}/test.csv')\n",
    "sample_sub = pd.read_csv(f'{DATA_DIR}/sample_submission.csv')\n",
    "\n",
    "original = pd.read_csv('/kaggle/input/smoker-status-prediction-using-biosignals/train_dataset.csv')"
   ]
  },
  {
   "cell_type": "code",
   "execution_count": 5,
   "id": "fe2a8dc2",
   "metadata": {
    "execution": {
     "iopub.execute_input": "2024-03-08T18:05:12.918509Z",
     "iopub.status.busy": "2024-03-08T18:05:12.917945Z",
     "iopub.status.idle": "2024-03-08T18:05:12.923342Z",
     "shell.execute_reply": "2024-03-08T18:05:12.922103Z"
    },
    "papermill": {
     "duration": 0.01757,
     "end_time": "2024-03-08T18:05:12.925321",
     "exception": false,
     "start_time": "2024-03-08T18:05:12.907751",
     "status": "completed"
    },
    "tags": []
   },
   "outputs": [],
   "source": [
    "TARGET = 'smoking'\n",
    "FEATURES = [f for f in test.columns if f != 'id']\n",
    "CAT_FEATURES = ['hearing(left)', 'hearing(right)', 'dental caries']"
   ]
  },
  {
   "cell_type": "code",
   "execution_count": 6,
   "id": "f6bb8f6b",
   "metadata": {
    "execution": {
     "iopub.execute_input": "2024-03-08T18:05:12.943885Z",
     "iopub.status.busy": "2024-03-08T18:05:12.943130Z",
     "iopub.status.idle": "2024-03-08T18:05:12.971121Z",
     "shell.execute_reply": "2024-03-08T18:05:12.970330Z"
    },
    "papermill": {
     "duration": 0.039267,
     "end_time": "2024-03-08T18:05:12.973086",
     "exception": false,
     "start_time": "2024-03-08T18:05:12.933819",
     "status": "completed"
    },
    "tags": []
   },
   "outputs": [],
   "source": [
    "train[CAT_FEATURES] = train[CAT_FEATURES].astype('category')\n",
    "test[CAT_FEATURES] = test[CAT_FEATURES].astype('category')\n",
    "original[CAT_FEATURES] = original[CAT_FEATURES].astype('category')"
   ]
  },
  {
   "cell_type": "markdown",
   "id": "a79cfed7",
   "metadata": {
    "papermill": {
     "duration": 0.007988,
     "end_time": "2024-03-08T18:05:12.989669",
     "exception": false,
     "start_time": "2024-03-08T18:05:12.981681",
     "status": "completed"
    },
    "tags": []
   },
   "source": [
    "# Baseline"
   ]
  },
  {
   "cell_type": "code",
   "execution_count": 7,
   "id": "ddd5c7a4",
   "metadata": {
    "execution": {
     "iopub.execute_input": "2024-03-08T18:05:13.009680Z",
     "iopub.status.busy": "2024-03-08T18:05:13.009234Z",
     "iopub.status.idle": "2024-03-08T18:05:13.014201Z",
     "shell.execute_reply": "2024-03-08T18:05:13.013224Z"
    },
    "papermill": {
     "duration": 0.018935,
     "end_time": "2024-03-08T18:05:13.016839",
     "exception": false,
     "start_time": "2024-03-08T18:05:12.997904",
     "status": "completed"
    },
    "tags": []
   },
   "outputs": [],
   "source": [
    "# competition metric\n",
    "def comp_metric(y_true, y_pred):\n",
    "    return roc_auc_score(y_true, y_pred)"
   ]
  },
  {
   "cell_type": "code",
   "execution_count": 8,
   "id": "81532067",
   "metadata": {
    "execution": {
     "iopub.execute_input": "2024-03-08T18:05:13.042017Z",
     "iopub.status.busy": "2024-03-08T18:05:13.040807Z",
     "iopub.status.idle": "2024-03-08T18:05:29.092544Z",
     "shell.execute_reply": "2024-03-08T18:05:29.090922Z"
    },
    "papermill": {
     "duration": 16.066882,
     "end_time": "2024-03-08T18:05:29.094931",
     "exception": false,
     "start_time": "2024-03-08T18:05:13.028049",
     "status": "completed"
    },
    "tags": []
   },
   "outputs": [
    {
     "name": "stdout",
     "output_type": "stream",
     "text": [
      "Fold #0: 0.86828 (593 rounds)\n",
      "Fold #1: 0.86782 (569 rounds)\n",
      "Fold #2: 0.86962 (522 rounds)\n",
      "Fold #3: 0.87113 (585 rounds)\n",
      "Fold #4: 0.86764 (589 rounds)\n",
      "\n",
      "OOF score: 0.86889\n",
      "\n"
     ]
    }
   ],
   "source": [
    "X, y = train[FEATURES], train[TARGET]\n",
    "oof_preds = {}\n",
    "\n",
    "cv = StratifiedKFold(n_splits=5, shuffle=True, random_state=SEED)\n",
    "for fold, (train_ids, val_ids) in enumerate(cv.split(X, y)):\n",
    "    X_train, y_train = X.iloc[train_ids], y.iloc[train_ids]\n",
    "    X_val, y_val = X.iloc[val_ids], y.iloc[val_ids]\n",
    "    \n",
    "    model = xgb.XGBClassifier(\n",
    "        n_estimators=1000,\n",
    "        learning_rate=0.1,\n",
    "        early_stopping_rounds=100,\n",
    "        objective='binary:logistic',\n",
    "        eval_metric='auc',\n",
    "        booster='gbtree',\n",
    "        tree_method='hist',\n",
    "        device=DEVICE,\n",
    "        enable_categorical=True,\n",
    "        verbosity=0,\n",
    "        n_jobs=-1,\n",
    "        random_state=SEED)\n",
    "    \n",
    "    model.fit(\n",
    "        X_train, y_train,\n",
    "        eval_set=[(X_val, y_val)],\n",
    "        verbose=False)\n",
    "        \n",
    "    val_preds = model.predict_proba(X_val)[:, 1]\n",
    "    oof_preds.update(dict(zip(val_ids, val_preds)))\n",
    "    \n",
    "    score = comp_metric(y_val, val_preds)\n",
    "    print(f'Fold #{fold}: {score:.5f} ({model.best_iteration} rounds)')        \n",
    "    _ = gc.collect()\n",
    "    \n",
    "oof_preds = pd.Series(oof_preds).sort_index()\n",
    "print(f'\\nOOF score: {comp_metric(y, oof_preds):.5f}\\n')"
   ]
  },
  {
   "cell_type": "markdown",
   "id": "3f193572",
   "metadata": {
    "papermill": {
     "duration": 0.008568,
     "end_time": "2024-03-08T18:05:29.112799",
     "exception": false,
     "start_time": "2024-03-08T18:05:29.104231",
     "status": "completed"
    },
    "tags": []
   },
   "source": [
    "# Hyperparameter tuning"
   ]
  },
  {
   "cell_type": "code",
   "execution_count": 9,
   "id": "849809bb",
   "metadata": {
    "execution": {
     "iopub.execute_input": "2024-03-08T18:05:29.131448Z",
     "iopub.status.busy": "2024-03-08T18:05:29.131109Z",
     "iopub.status.idle": "2024-03-08T18:05:29.143332Z",
     "shell.execute_reply": "2024-03-08T18:05:29.142612Z"
    },
    "papermill": {
     "duration": 0.023668,
     "end_time": "2024-03-08T18:05:29.145197",
     "exception": false,
     "start_time": "2024-03-08T18:05:29.121529",
     "status": "completed"
    },
    "tags": []
   },
   "outputs": [],
   "source": [
    "def objective(trial, features, model, extend, folds, seed):\n",
    "    oof_preds = {}\n",
    "    X, y = train[features], train[TARGET]\n",
    "    \n",
    "    param_grid = {\n",
    "        'learning_rate': trial.suggest_float('learning_rate', 0.05, 0.3, step=0.025),\n",
    "        'max_depth': trial.suggest_int('max_depth', 3, 12),\n",
    "        'min_child_weight': trial.suggest_int('min_child_weight', 2, 64),\n",
    "        'subsample': trial.suggest_float('subsample', 0.6, 1.0, step=0.05),\n",
    "        'colsample_bytree': trial.suggest_float('colsample_bytree', 0.6, 1.0, step=0.05),\n",
    "        'gamma': trial.suggest_float('gamma', 0, 20, step=0.1), #complexity-control\n",
    "        'alpha': trial.suggest_float('alpha', 0, 5, step=0.1), #L1-reg\n",
    "        'lambda': trial.suggest_float('lambda', 5e-3, 5e3, log=True), #L2-reg\n",
    "#         'max_delta_step': trial.suggest_float('max_delta_step', 0, 10, step=0.5),\n",
    "        'scale_pos_weight': trial.suggest_float('scale_pos_weight', 1, 1.5, step=0.05)\n",
    "    }\n",
    "    \n",
    "    cv = StratifiedKFold(n_splits=folds, shuffle=True, random_state=seed)\n",
    "    for fold, (train_ids, val_ids) in enumerate(cv.split(train, train[TARGET])):\n",
    "        X_train, y_train = X.iloc[train_ids], y.iloc[train_ids]\n",
    "        X_val, y_val = X.iloc[val_ids], y.iloc[val_ids]\n",
    "        \n",
    "        if extend: # original data added only to training folds\n",
    "            X_train = pd.concat([X_train, original[features]], axis=0, ignore_index=True)\n",
    "            y_train = pd.concat([y_train, original[TARGET]], axis=0, ignore_index=True)\n",
    "        \n",
    "        model.set_params(**param_grid)\n",
    "        model.fit(\n",
    "            X_train, y_train,\n",
    "            eval_set=[(X_val, y_val)],\n",
    "            verbose=0)\n",
    "        \n",
    "        val_preds = model.predict_proba(X_val)[:, 1]\n",
    "        oof_preds.update(dict(zip(val_ids, val_preds)))\n",
    "        \n",
    "    oof_preds = pd.Series(oof_preds).sort_index()\n",
    "    return comp_metric(train[TARGET], oof_preds)"
   ]
  },
  {
   "cell_type": "code",
   "execution_count": 10,
   "id": "b2efdf80",
   "metadata": {
    "execution": {
     "iopub.execute_input": "2024-03-08T18:05:29.164268Z",
     "iopub.status.busy": "2024-03-08T18:05:29.163991Z",
     "iopub.status.idle": "2024-03-08T18:05:29.169606Z",
     "shell.execute_reply": "2024-03-08T18:05:29.168787Z"
    },
    "papermill": {
     "duration": 0.017127,
     "end_time": "2024-03-08T18:05:29.171575",
     "exception": false,
     "start_time": "2024-03-08T18:05:29.154448",
     "status": "completed"
    },
    "tags": []
   },
   "outputs": [],
   "source": [
    "def tune_params(features, model, extend, folds, seed, n_trials, direction):\n",
    "    study = optuna.create_study(\n",
    "        sampler=optuna.samplers.TPESampler(\n",
    "            consider_endpoints=True,\n",
    "            multivariate=True,\n",
    "            group=True,\n",
    "            seed=seed),\n",
    "        pruner=optuna.pruners.HyperbandPruner(),\n",
    "        direction=direction)\n",
    "    study.optimize(\n",
    "        func=lambda trial: objective(\n",
    "            trial, features, model, extend, folds, seed),\n",
    "        n_trials=n_trials,\n",
    "        gc_after_trial=True)\n",
    "    \n",
    "    return study"
   ]
  },
  {
   "cell_type": "markdown",
   "id": "aa8e7909",
   "metadata": {
    "papermill": {
     "duration": 0.008315,
     "end_time": "2024-03-08T18:05:29.189007",
     "exception": false,
     "start_time": "2024-03-08T18:05:29.180692",
     "status": "completed"
    },
    "tags": []
   },
   "source": [
    "# Cross-validation framework"
   ]
  },
  {
   "cell_type": "code",
   "execution_count": 11,
   "id": "529b7fbf",
   "metadata": {
    "execution": {
     "iopub.execute_input": "2024-03-08T18:05:29.207572Z",
     "iopub.status.busy": "2024-03-08T18:05:29.206847Z",
     "iopub.status.idle": "2024-03-08T18:05:29.218498Z",
     "shell.execute_reply": "2024-03-08T18:05:29.217621Z"
    },
    "papermill": {
     "duration": 0.023012,
     "end_time": "2024-03-08T18:05:29.220469",
     "exception": false,
     "start_time": "2024-03-08T18:05:29.197457",
     "status": "completed"
    },
    "tags": []
   },
   "outputs": [],
   "source": [
    "def custom_cv(features, model, extend, folds, seed, verbose=True):\n",
    "    oof_preds = {}\n",
    "    test_preds = {}\n",
    "    scores = []\n",
    "    \n",
    "    X, y = train[features], train[TARGET]\n",
    "    X_test = test[features]\n",
    "    \n",
    "    cv = StratifiedKFold(n_splits=folds, shuffle=True, random_state=seed)\n",
    "    for fold, (train_ids, val_ids) in enumerate(cv.split(train, train[TARGET])):\n",
    "        X_train, y_train = X.iloc[train_ids], y.iloc[train_ids]\n",
    "        X_val, y_val = X.iloc[val_ids], y.iloc[val_ids]\n",
    "        \n",
    "        if extend: # original data added only to training folds\n",
    "            X_train = pd.concat([X_train, original[features]], axis=0, ignore_index=True)\n",
    "            y_train = pd.concat([y_train, original[TARGET]], axis=0, ignore_index=True)\n",
    "        \n",
    "        model.fit(\n",
    "            X_train, y_train,\n",
    "            eval_set=[(X_val, y_val)],\n",
    "            verbose=0)\n",
    "        \n",
    "        val_preds = model.predict_proba(X_val)[:, 1]\n",
    "        oof_preds.update(dict(zip(val_ids, val_preds)))\n",
    "        test_preds[f'fold{fold}'] = model.predict_proba(X_test)[:, 1]\n",
    "        \n",
    "        score = comp_metric(y_val, val_preds)\n",
    "        scores.append(score)\n",
    "        if verbose:\n",
    "            print(f'Fold #{fold}: {score:.5f} ({model.best_iteration} rounds)')\n",
    "            \n",
    "        _ = gc.collect()\n",
    "    \n",
    "    test_preds = pd.DataFrame.from_dict(test_preds)\n",
    "    test_preds['mean'] = test_preds.mean(axis=1) # mean of fold-wise predictions\n",
    "    \n",
    "    oof_preds = pd.Series(oof_preds).sort_index()\n",
    "    print(f'\\nOOF score: {comp_metric(train[TARGET], oof_preds):.5f}')\n",
    "    print(f'Avg. score: {np.mean(scores):.5f} +/- {np.std(scores):.5f}')\n",
    "    \n",
    "    return oof_preds, test_preds"
   ]
  },
  {
   "cell_type": "code",
   "execution_count": 12,
   "id": "714c51ed",
   "metadata": {
    "execution": {
     "iopub.execute_input": "2024-03-08T18:05:29.239040Z",
     "iopub.status.busy": "2024-03-08T18:05:29.238725Z",
     "iopub.status.idle": "2024-03-08T18:05:29.247631Z",
     "shell.execute_reply": "2024-03-08T18:05:29.246788Z"
    },
    "papermill": {
     "duration": 0.020333,
     "end_time": "2024-03-08T18:05:29.249485",
     "exception": false,
     "start_time": "2024-03-08T18:05:29.229152",
     "status": "completed"
    },
    "tags": []
   },
   "outputs": [],
   "source": [
    "def run_experiment(features, extend=False, folds=5, seed=SEED, n_trials=50):\n",
    "    \n",
    "    base_params = {\n",
    "        'booster': 'gbtree',\n",
    "        'tree_method': 'hist',\n",
    "        'objective': 'binary:logistic',\n",
    "        'eval_metric': 'auc',\n",
    "        'n_estimators': 10000,\n",
    "        'early_stopping_rounds': 100,\n",
    "        'device': DEVICE,\n",
    "        'enable_categorical': True,\n",
    "        'max_cat_to_onehot': 2,\n",
    "        'verbosity': 0,\n",
    "        'n_jobs': -1,\n",
    "        'seed': seed\n",
    "    }\n",
    "    model = xgb.XGBClassifier(**base_params)\n",
    "    \n",
    "    print(f'----------Hyperparameter tuning----------')\n",
    "    start = time.time()\n",
    "    \n",
    "    study = tune_params(features, model, extend, folds, seed, n_trials, direction='maximize') \n",
    "    # metric: AUC -> higher is better\n",
    "    \n",
    "    end = time.time()\n",
    "    \n",
    "    print(f'Best trial: {study.best_trial.number} -> Best value: {study.best_value:.5f}')\n",
    "    print(f'Best hyperparameters:')\n",
    "    for k, v in study.best_params.items():\n",
    "        print(f'{k:20} - {v}')\n",
    "    print(f'\\n[Time taken: {end - start:.2f}s]\\n')\n",
    "    \n",
    "    print(f'-----Cross-validation and prediction-----')\n",
    "    start = time.time()\n",
    "    \n",
    "    model.set_params(**study.best_params)\n",
    "    oof_preds, test_preds = custom_cv(features, model, extend, folds, seed)\n",
    "    \n",
    "    end = time.time()\n",
    "    print(f'\\n[Time taken: {end - start:.2f}s]\\n')\n",
    "    \n",
    "    return oof_preds, test_preds"
   ]
  },
  {
   "cell_type": "markdown",
   "id": "62fc81ac",
   "metadata": {
    "papermill": {
     "duration": 0.008447,
     "end_time": "2024-03-08T18:05:29.266394",
     "exception": false,
     "start_time": "2024-03-08T18:05:29.257947",
     "status": "completed"
    },
    "tags": []
   },
   "source": [
    "**Submission files**"
   ]
  },
  {
   "cell_type": "code",
   "execution_count": 13,
   "id": "1daceb21",
   "metadata": {
    "execution": {
     "iopub.execute_input": "2024-03-08T18:05:29.284592Z",
     "iopub.status.busy": "2024-03-08T18:05:29.284068Z",
     "iopub.status.idle": "2024-03-08T18:05:29.288633Z",
     "shell.execute_reply": "2024-03-08T18:05:29.287800Z"
    },
    "papermill": {
     "duration": 0.015734,
     "end_time": "2024-03-08T18:05:29.290501",
     "exception": false,
     "start_time": "2024-03-08T18:05:29.274767",
     "status": "completed"
    },
    "tags": []
   },
   "outputs": [],
   "source": [
    "def create_submission_files(preds, config, notebook='01'):\n",
    "    sub = sample_sub.copy()\n",
    "    sub[TARGET] = preds['mean']\n",
    "    sub.to_csv(f'{notebook}_{config}.csv', index=False)"
   ]
  },
  {
   "cell_type": "markdown",
   "id": "190aa0bc",
   "metadata": {
    "papermill": {
     "duration": 0.008163,
     "end_time": "2024-03-08T18:05:29.307296",
     "exception": false,
     "start_time": "2024-03-08T18:05:29.299133",
     "status": "completed"
    },
    "tags": []
   },
   "source": [
    "**Trial run:**"
   ]
  },
  {
   "cell_type": "code",
   "execution_count": 14,
   "id": "f8f1df3a",
   "metadata": {
    "execution": {
     "iopub.execute_input": "2024-03-08T18:05:29.325507Z",
     "iopub.status.busy": "2024-03-08T18:05:29.325211Z",
     "iopub.status.idle": "2024-03-08T18:05:29.329297Z",
     "shell.execute_reply": "2024-03-08T18:05:29.328472Z"
    },
    "papermill": {
     "duration": 0.015379,
     "end_time": "2024-03-08T18:05:29.331207",
     "exception": false,
     "start_time": "2024-03-08T18:05:29.315828",
     "status": "completed"
    },
    "tags": []
   },
   "outputs": [],
   "source": [
    "optuna.logging.set_verbosity(optuna.logging.INFO)"
   ]
  },
  {
   "cell_type": "code",
   "execution_count": 15,
   "id": "e5c91a1f",
   "metadata": {
    "execution": {
     "iopub.execute_input": "2024-03-08T18:05:29.349369Z",
     "iopub.status.busy": "2024-03-08T18:05:29.349111Z",
     "iopub.status.idle": "2024-03-08T18:07:16.073716Z",
     "shell.execute_reply": "2024-03-08T18:07:16.072566Z"
    },
    "papermill": {
     "duration": 106.736271,
     "end_time": "2024-03-08T18:07:16.075937",
     "exception": false,
     "start_time": "2024-03-08T18:05:29.339666",
     "status": "completed"
    },
    "tags": []
   },
   "outputs": [
    {
     "name": "stderr",
     "output_type": "stream",
     "text": [
      "[I 2024-03-08 18:05:29,351] A new study created in memory with name: no-name-9e888eb0-84db-4bc6-826e-04ffaf5bc4bc\n"
     ]
    },
    {
     "name": "stdout",
     "output_type": "stream",
     "text": [
      "----------Hyperparameter tuning----------\n"
     ]
    },
    {
     "name": "stderr",
     "output_type": "stream",
     "text": [
      "[I 2024-03-08 18:06:09,753] Trial 0 finished with value: 0.8695097050002643 and parameters: {'learning_rate': 0.07500000000000001, 'max_depth': 12, 'min_child_weight': 32, 'subsample': 0.7, 'colsample_bytree': 0.8, 'gamma': 5.7, 'alpha': 4.3, 'lambda': 0.008822078646927935, 'scale_pos_weight': 1.05}. Best is trial 0 with value: 0.8695097050002643.\n",
      "[I 2024-03-08 18:06:22,715] Trial 1 finished with value: 0.8579173074853048 and parameters: {'learning_rate': 0.25, 'max_depth': 3, 'min_child_weight': 50, 'subsample': 0.6, 'colsample_bytree': 0.85, 'gamma': 16.400000000000002, 'alpha': 4.5, 'lambda': 4098.637364141357, 'scale_pos_weight': 1.25}. Best is trial 0 with value: 0.8695097050002643.\n",
      "[I 2024-03-08 18:06:34,834] Trial 2 finished with value: 0.8650116225118322 and parameters: {'learning_rate': 0.125, 'max_depth': 11, 'min_child_weight': 27, 'subsample': 0.85, 'colsample_bytree': 0.6, 'gamma': 16.2, 'alpha': 2.1, 'lambda': 11.226623011877013, 'scale_pos_weight': 1.4}. Best is trial 0 with value: 0.8695097050002643.\n"
     ]
    },
    {
     "name": "stdout",
     "output_type": "stream",
     "text": [
      "Best trial: 0 -> Best value: 0.86951\n",
      "Best hyperparameters:\n",
      "learning_rate        - 0.07500000000000001\n",
      "max_depth            - 12\n",
      "min_child_weight     - 32\n",
      "subsample            - 0.7\n",
      "colsample_bytree     - 0.8\n",
      "gamma                - 5.7\n",
      "alpha                - 4.3\n",
      "lambda               - 0.008822078646927935\n",
      "scale_pos_weight     - 1.05\n",
      "\n",
      "[Time taken: 65.57s]\n",
      "\n",
      "-----Cross-validation and prediction-----\n",
      "Fold #0: 0.86911 (1490 rounds)\n",
      "Fold #1: 0.86789 (1206 rounds)\n",
      "Fold #2: 0.87082 (2317 rounds)\n",
      "Fold #3: 0.87157 (2375 rounds)\n",
      "Fold #4: 0.86822 (1812 rounds)\n",
      "\n",
      "OOF score: 0.86951\n",
      "Avg. score: 0.86952 +/- 0.00144\n",
      "\n",
      "[Time taken: 41.15s]\n",
      "\n"
     ]
    }
   ],
   "source": [
    "_ , _ = run_experiment(features=FEATURES, extend=True, n_trials=3)"
   ]
  },
  {
   "cell_type": "code",
   "execution_count": 16,
   "id": "084bf92a",
   "metadata": {
    "execution": {
     "iopub.execute_input": "2024-03-08T18:07:16.096638Z",
     "iopub.status.busy": "2024-03-08T18:07:16.096305Z",
     "iopub.status.idle": "2024-03-08T18:07:16.100657Z",
     "shell.execute_reply": "2024-03-08T18:07:16.099803Z"
    },
    "papermill": {
     "duration": 0.016712,
     "end_time": "2024-03-08T18:07:16.102509",
     "exception": false,
     "start_time": "2024-03-08T18:07:16.085797",
     "status": "completed"
    },
    "tags": []
   },
   "outputs": [],
   "source": [
    "optuna.logging.set_verbosity(optuna.logging.ERROR)"
   ]
  },
  {
   "cell_type": "markdown",
   "id": "172e25d7",
   "metadata": {
    "papermill": {
     "duration": 0.009288,
     "end_time": "2024-03-08T18:07:16.121369",
     "exception": false,
     "start_time": "2024-03-08T18:07:16.112081",
     "status": "completed"
    },
    "tags": []
   },
   "source": [
    "# Experiments"
   ]
  },
  {
   "cell_type": "code",
   "execution_count": 17,
   "id": "e5646832",
   "metadata": {
    "execution": {
     "iopub.execute_input": "2024-03-08T18:07:16.142123Z",
     "iopub.status.busy": "2024-03-08T18:07:16.141513Z",
     "iopub.status.idle": "2024-03-08T18:07:16.145741Z",
     "shell.execute_reply": "2024-03-08T18:07:16.144864Z"
    },
    "papermill": {
     "duration": 0.016775,
     "end_time": "2024-03-08T18:07:16.147548",
     "exception": false,
     "start_time": "2024-03-08T18:07:16.130773",
     "status": "completed"
    },
    "tags": []
   },
   "outputs": [],
   "source": [
    "op = {} # Train-set OOF predictions\n",
    "tp = {} # Test-set predictions"
   ]
  },
  {
   "cell_type": "markdown",
   "id": "82d6b9fc",
   "metadata": {
    "papermill": {
     "duration": 0.009407,
     "end_time": "2024-03-08T18:07:16.166557",
     "exception": false,
     "start_time": "2024-03-08T18:07:16.157150",
     "status": "completed"
    },
    "tags": []
   },
   "source": [
    "### number of folds"
   ]
  },
  {
   "cell_type": "code",
   "execution_count": 18,
   "id": "29b3e8be",
   "metadata": {
    "execution": {
     "iopub.execute_input": "2024-03-08T18:07:16.187646Z",
     "iopub.status.busy": "2024-03-08T18:07:16.186896Z",
     "iopub.status.idle": "2024-03-08T18:51:13.509559Z",
     "shell.execute_reply": "2024-03-08T18:51:13.508473Z"
    },
    "papermill": {
     "duration": 2637.335487,
     "end_time": "2024-03-08T18:51:13.511711",
     "exception": false,
     "start_time": "2024-03-08T18:07:16.176224",
     "status": "completed"
    },
    "tags": []
   },
   "outputs": [
    {
     "name": "stdout",
     "output_type": "stream",
     "text": [
      "----------Hyperparameter tuning----------\n",
      "Best trial: 36 -> Best value: 0.87184\n",
      "Best hyperparameters:\n",
      "learning_rate        - 0.05\n",
      "max_depth            - 5\n",
      "min_child_weight     - 26\n",
      "subsample            - 0.65\n",
      "colsample_bytree     - 0.85\n",
      "gamma                - 1.3\n",
      "alpha                - 2.6\n",
      "lambda               - 55.11308203855102\n",
      "scale_pos_weight     - 1.0\n",
      "\n",
      "[Time taken: 2548.71s]\n",
      "\n",
      "-----Cross-validation and prediction-----\n",
      "Fold #0: 0.87097 (1704 rounds)\n",
      "Fold #1: 0.87117 (1874 rounds)\n",
      "Fold #2: 0.86932 (1614 rounds)\n",
      "Fold #3: 0.87547 (2114 rounds)\n",
      "Fold #4: 0.87207 (1624 rounds)\n",
      "Fold #5: 0.87325 (1587 rounds)\n",
      "Fold #6: 0.87070 (2119 rounds)\n",
      "\n",
      "OOF score: 0.87184\n",
      "Avg. score: 0.87185 +/- 0.00186\n",
      "\n",
      "[Time taken: 88.38s]\n",
      "\n",
      "CPU times: user 48min 20s, sys: 21.6 s, total: 48min 41s\n",
      "Wall time: 43min 57s\n"
     ]
    }
   ],
   "source": [
    "%%time\n",
    "dataset = 'trn'\n",
    "feature_set = 'all'\n",
    "folds = 7\n",
    "seed = SEED\n",
    "config = f'{dataset}_{feature_set}_f{folds}_s{seed}'\n",
    "\n",
    "op[config], tp[config] = run_experiment(\n",
    "    features=FEATURES,  \n",
    "    extend=False,\n",
    "    folds=folds, \n",
    "    seed=seed)\n",
    "\n",
    "create_submission_files(tp[config], config)"
   ]
  },
  {
   "cell_type": "code",
   "execution_count": 19,
   "id": "a48964b7",
   "metadata": {
    "execution": {
     "iopub.execute_input": "2024-03-08T18:51:13.534506Z",
     "iopub.status.busy": "2024-03-08T18:51:13.534187Z",
     "iopub.status.idle": "2024-03-08T20:18:15.902001Z",
     "shell.execute_reply": "2024-03-08T20:18:15.900987Z"
    },
    "papermill": {
     "duration": 5222.381474,
     "end_time": "2024-03-08T20:18:15.904006",
     "exception": false,
     "start_time": "2024-03-08T18:51:13.522532",
     "status": "completed"
    },
    "tags": []
   },
   "outputs": [
    {
     "name": "stdout",
     "output_type": "stream",
     "text": [
      "----------Hyperparameter tuning----------\n",
      "Best trial: 41 -> Best value: 0.87246\n",
      "Best hyperparameters:\n",
      "learning_rate        - 0.05\n",
      "max_depth            - 9\n",
      "min_child_weight     - 53\n",
      "subsample            - 0.75\n",
      "colsample_bytree     - 0.6\n",
      "gamma                - 2.0\n",
      "alpha                - 4.800000000000001\n",
      "lambda               - 72.1987075080367\n",
      "scale_pos_weight     - 1.1\n",
      "\n",
      "[Time taken: 5030.60s]\n",
      "\n",
      "-----Cross-validation and prediction-----\n",
      "Fold #0: 0.87127 (1419 rounds)\n",
      "Fold #1: 0.87396 (1410 rounds)\n",
      "Fold #2: 0.87122 (1307 rounds)\n",
      "Fold #3: 0.87011 (1406 rounds)\n",
      "Fold #4: 0.87207 (1255 rounds)\n",
      "Fold #5: 0.87028 (2664 rounds)\n",
      "Fold #6: 0.87244 (1808 rounds)\n",
      "Fold #7: 0.87326 (1232 rounds)\n",
      "Fold #8: 0.87564 (1688 rounds)\n",
      "Fold #9: 0.87328 (1381 rounds)\n",
      "Fold #10: 0.87439 (1388 rounds)\n",
      "Fold #11: 0.87646 (1418 rounds)\n",
      "Fold #12: 0.87090 (1665 rounds)\n",
      "Fold #13: 0.86473 (1352 rounds)\n",
      "Fold #14: 0.87739 (2061 rounds)\n",
      "\n",
      "OOF score: 0.87246\n",
      "Avg. score: 0.87249 +/- 0.00298\n",
      "\n",
      "[Time taken: 191.54s]\n",
      "\n",
      "CPU times: user 1h 36min 52s, sys: 10.8 s, total: 1h 37min 3s\n",
      "Wall time: 1h 27min 2s\n"
     ]
    }
   ],
   "source": [
    "%%time\n",
    "dataset = 'trn'\n",
    "feature_set = 'all'\n",
    "folds = 15\n",
    "seed = SEED\n",
    "config = f'{dataset}_{feature_set}_f{folds}_s{seed}'\n",
    "\n",
    "op[config], tp[config] = run_experiment(\n",
    "    features=FEATURES,  \n",
    "    extend=False,\n",
    "    folds=folds, \n",
    "    seed=seed)\n",
    "\n",
    "create_submission_files(tp[config], config)"
   ]
  },
  {
   "cell_type": "markdown",
   "id": "413d7204",
   "metadata": {
    "papermill": {
     "duration": 0.012022,
     "end_time": "2024-03-08T20:18:15.928269",
     "exception": false,
     "start_time": "2024-03-08T20:18:15.916247",
     "status": "completed"
    },
    "tags": []
   },
   "source": [
    "### extend data using original"
   ]
  },
  {
   "cell_type": "code",
   "execution_count": 20,
   "id": "29694e89",
   "metadata": {
    "execution": {
     "iopub.execute_input": "2024-03-08T20:18:15.953497Z",
     "iopub.status.busy": "2024-03-08T20:18:15.953164Z",
     "iopub.status.idle": "2024-03-08T21:09:57.948371Z",
     "shell.execute_reply": "2024-03-08T21:09:57.947373Z"
    },
    "papermill": {
     "duration": 3102.010164,
     "end_time": "2024-03-08T21:09:57.950428",
     "exception": false,
     "start_time": "2024-03-08T20:18:15.940264",
     "status": "completed"
    },
    "tags": []
   },
   "outputs": [
    {
     "name": "stdout",
     "output_type": "stream",
     "text": [
      "----------Hyperparameter tuning----------\n",
      "Best trial: 47 -> Best value: 0.87429\n",
      "Best hyperparameters:\n",
      "learning_rate        - 0.05\n",
      "max_depth            - 8\n",
      "min_child_weight     - 61\n",
      "subsample            - 0.65\n",
      "colsample_bytree     - 0.65\n",
      "gamma                - 1.5\n",
      "alpha                - 3.7\n",
      "lambda               - 8.687426597336362\n",
      "scale_pos_weight     - 1.1\n",
      "\n",
      "[Time taken: 3006.65s]\n",
      "\n",
      "-----Cross-validation and prediction-----\n",
      "Fold #0: 0.87363 (985 rounds)\n",
      "Fold #1: 0.87352 (1151 rounds)\n",
      "Fold #2: 0.87274 (1248 rounds)\n",
      "Fold #3: 0.87725 (1289 rounds)\n",
      "Fold #4: 0.87424 (1454 rounds)\n",
      "Fold #5: 0.87571 (1291 rounds)\n",
      "Fold #6: 0.87301 (1151 rounds)\n",
      "\n",
      "OOF score: 0.87429\n",
      "Avg. score: 0.87430 +/- 0.00150\n",
      "\n",
      "[Time taken: 95.11s]\n",
      "\n",
      "CPU times: user 56min 56s, sys: 12.4 s, total: 57min 8s\n",
      "Wall time: 51min 41s\n"
     ]
    }
   ],
   "source": [
    "%%time\n",
    "dataset = 'ext'\n",
    "feature_set = 'all'\n",
    "folds = 7\n",
    "seed = SEED\n",
    "config = f'{dataset}_{feature_set}_f{folds}_s{seed}'\n",
    "\n",
    "op[config], tp[config] = run_experiment(\n",
    "    features=FEATURES,  \n",
    "    extend=True,\n",
    "    folds=folds, \n",
    "    seed=seed)\n",
    "\n",
    "create_submission_files(tp[config], config)"
   ]
  },
  {
   "cell_type": "markdown",
   "id": "740a7f01",
   "metadata": {
    "papermill": {
     "duration": 0.012766,
     "end_time": "2024-03-08T21:09:57.976602",
     "exception": false,
     "start_time": "2024-03-08T21:09:57.963836",
     "status": "completed"
    },
    "tags": []
   },
   "source": [
    "### reduced feature set"
   ]
  },
  {
   "cell_type": "code",
   "execution_count": 21,
   "id": "f113ab91",
   "metadata": {
    "execution": {
     "iopub.execute_input": "2024-03-08T21:09:58.003850Z",
     "iopub.status.busy": "2024-03-08T21:09:58.003148Z",
     "iopub.status.idle": "2024-03-08T21:09:58.007506Z",
     "shell.execute_reply": "2024-03-08T21:09:58.006812Z"
    },
    "papermill": {
     "duration": 0.019814,
     "end_time": "2024-03-08T21:09:58.009235",
     "exception": false,
     "start_time": "2024-03-08T21:09:57.989421",
     "status": "completed"
    },
    "tags": []
   },
   "outputs": [],
   "source": [
    "reduced_features = [f for f in FEATURES if f not in \n",
    "                    ('hearing(left)', 'hearing(right)', 'Urine protein', 'AST', 'Systolic', 'Cholesterol')]"
   ]
  },
  {
   "cell_type": "code",
   "execution_count": 22,
   "id": "24a33578",
   "metadata": {
    "execution": {
     "iopub.execute_input": "2024-03-08T21:09:58.036174Z",
     "iopub.status.busy": "2024-03-08T21:09:58.035746Z",
     "iopub.status.idle": "2024-03-08T21:51:35.174738Z",
     "shell.execute_reply": "2024-03-08T21:51:35.173811Z"
    },
    "papermill": {
     "duration": 2497.155049,
     "end_time": "2024-03-08T21:51:35.177163",
     "exception": false,
     "start_time": "2024-03-08T21:09:58.022114",
     "status": "completed"
    },
    "tags": []
   },
   "outputs": [
    {
     "name": "stdout",
     "output_type": "stream",
     "text": [
      "----------Hyperparameter tuning----------\n",
      "Best trial: 48 -> Best value: 0.87278\n",
      "Best hyperparameters:\n",
      "learning_rate        - 0.05\n",
      "max_depth            - 7\n",
      "min_child_weight     - 8\n",
      "subsample            - 0.75\n",
      "colsample_bytree     - 0.8\n",
      "gamma                - 1.8\n",
      "alpha                - 3.2\n",
      "lambda               - 1.1825650047713019\n",
      "scale_pos_weight     - 1.1\n",
      "\n",
      "[Time taken: 2420.62s]\n",
      "\n",
      "-----Cross-validation and prediction-----\n",
      "Fold #0: 0.87160 (1407 rounds)\n",
      "Fold #1: 0.87202 (1125 rounds)\n",
      "Fold #2: 0.87080 (1183 rounds)\n",
      "Fold #3: 0.87595 (1506 rounds)\n",
      "Fold #4: 0.87288 (1347 rounds)\n",
      "Fold #5: 0.87441 (1095 rounds)\n",
      "Fold #6: 0.87188 (1173 rounds)\n",
      "\n",
      "OOF score: 0.87278\n",
      "Avg. score: 0.87279 +/- 0.00166\n",
      "\n",
      "[Time taken: 76.29s]\n",
      "\n",
      "CPU times: user 45min 59s, sys: 6.41 s, total: 46min 5s\n",
      "Wall time: 41min 37s\n"
     ]
    }
   ],
   "source": [
    "%%time\n",
    "dataset = 'ext'\n",
    "feature_set = 'red'\n",
    "folds = 7\n",
    "seed = SEED\n",
    "config = f'{dataset}_{feature_set}_f{folds}_s{seed}'\n",
    "\n",
    "op[config], tp[config] = run_experiment(\n",
    "    features=reduced_features,  \n",
    "    extend=True,\n",
    "    folds=folds, \n",
    "    seed=seed)\n",
    "\n",
    "create_submission_files(tp[config], config)"
   ]
  },
  {
   "cell_type": "markdown",
   "id": "80226d39",
   "metadata": {
    "papermill": {
     "duration": 0.013791,
     "end_time": "2024-03-08T21:51:35.205231",
     "exception": false,
     "start_time": "2024-03-08T21:51:35.191440",
     "status": "completed"
    },
    "tags": []
   },
   "source": [
    "**Time to submit!**"
   ]
  }
 ],
 "metadata": {
  "kaggle": {
   "accelerator": "gpu",
   "dataSources": [
    {
     "databundleVersionId": 7669326,
     "sourceId": 70052,
     "sourceType": "competition"
    },
    {
     "datasetId": 2367101,
     "sourceId": 3989074,
     "sourceType": "datasetVersion"
    }
   ],
   "dockerImageVersionId": 30664,
   "isGpuEnabled": true,
   "isInternetEnabled": true,
   "language": "python",
   "sourceType": "notebook"
  },
  "kernelspec": {
   "display_name": "Python 3",
   "language": "python",
   "name": "python3"
  },
  "language_info": {
   "codemirror_mode": {
    "name": "ipython",
    "version": 3
   },
   "file_extension": ".py",
   "mimetype": "text/x-python",
   "name": "python",
   "nbconvert_exporter": "python",
   "pygments_lexer": "ipython3",
   "version": "3.10.13"
  },
  "papermill": {
   "default_parameters": {},
   "duration": 13589.951562,
   "end_time": "2024-03-08T21:51:35.765099",
   "environment_variables": {},
   "exception": null,
   "input_path": "__notebook__.ipynb",
   "output_path": "__notebook__.ipynb",
   "parameters": {},
   "start_time": "2024-03-08T18:05:05.813537",
   "version": "2.4.0"
  }
 },
 "nbformat": 4,
 "nbformat_minor": 5
}
