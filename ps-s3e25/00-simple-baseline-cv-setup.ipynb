{
 "cells": [
  {
   "cell_type": "markdown",
   "id": "bd4d295a",
   "metadata": {
    "papermill": {
     "duration": 0.007489,
     "end_time": "2023-11-14T15:15:58.056731",
     "exception": false,
     "start_time": "2023-11-14T15:15:58.049242",
     "status": "completed"
    },
    "tags": []
   },
   "source": [
    "# Setup"
   ]
  },
  {
   "cell_type": "code",
   "execution_count": 1,
   "id": "3066339a",
   "metadata": {
    "_cell_guid": "b1076dfc-b9ad-4769-8c92-a6c4dae69d19",
    "_uuid": "8f2839f25d086af736a60e9eeb907d3b93b6e0e5",
    "execution": {
     "iopub.execute_input": "2023-11-14T15:15:58.073010Z",
     "iopub.status.busy": "2023-11-14T15:15:58.072557Z",
     "iopub.status.idle": "2023-11-14T15:15:59.985230Z",
     "shell.execute_reply": "2023-11-14T15:15:59.984088Z"
    },
    "papermill": {
     "duration": 1.924123,
     "end_time": "2023-11-14T15:15:59.988051",
     "exception": false,
     "start_time": "2023-11-14T15:15:58.063928",
     "status": "completed"
    },
    "tags": []
   },
   "outputs": [],
   "source": [
    "import gc\n",
    "import pandas as pd\n",
    "pd.set_option('display.max_columns', None)\n",
    "\n",
    "from sklearn.metrics import median_absolute_error\n",
    "from sklearn.model_selection import KFold\n",
    "from sklearn.ensemble import ExtraTreesRegressor\n",
    "\n",
    "SEED = 55"
   ]
  },
  {
   "cell_type": "code",
   "execution_count": 2,
   "id": "80b30f44",
   "metadata": {
    "execution": {
     "iopub.execute_input": "2023-11-14T15:16:00.004373Z",
     "iopub.status.busy": "2023-11-14T15:16:00.003799Z",
     "iopub.status.idle": "2023-11-14T15:16:00.108676Z",
     "shell.execute_reply": "2023-11-14T15:16:00.107706Z"
    },
    "papermill": {
     "duration": 0.115798,
     "end_time": "2023-11-14T15:16:00.110991",
     "exception": false,
     "start_time": "2023-11-14T15:15:59.995193",
     "status": "completed"
    },
    "tags": []
   },
   "outputs": [],
   "source": [
    "DATA_DIR = '/kaggle/input/playground-series-s3e25'\n",
    "train = pd.read_csv(f'{DATA_DIR}/train.csv')\n",
    "test = pd.read_csv(f'{DATA_DIR}/test.csv')\n",
    "sample_sub = pd.read_csv(f'{DATA_DIR}/sample_submission.csv')\n",
    "\n",
    "original_train = pd.read_csv(f'/kaggle/input/prediction-of-mohs-hardness-with-machine-learning/jm79zfps6b-1/Mineral_Dataset_Supplementary_Info.csv')\n",
    "original_val = pd.read_csv(f'/kaggle/input/prediction-of-mohs-hardness-with-machine-learning/jm79zfps6b-1/Artificial_Crystals_Dataset.csv')"
   ]
  },
  {
   "cell_type": "markdown",
   "id": "4bd9a884",
   "metadata": {
    "papermill": {
     "duration": 0.006946,
     "end_time": "2023-11-14T15:16:00.125105",
     "exception": false,
     "start_time": "2023-11-14T15:16:00.118159",
     "status": "completed"
    },
    "tags": []
   },
   "source": [
    "# Data overview"
   ]
  },
  {
   "cell_type": "code",
   "execution_count": 3,
   "id": "55495e61",
   "metadata": {
    "execution": {
     "iopub.execute_input": "2023-11-14T15:16:00.141468Z",
     "iopub.status.busy": "2023-11-14T15:16:00.140743Z",
     "iopub.status.idle": "2023-11-14T15:16:00.172502Z",
     "shell.execute_reply": "2023-11-14T15:16:00.171724Z"
    },
    "papermill": {
     "duration": 0.042414,
     "end_time": "2023-11-14T15:16:00.174572",
     "exception": false,
     "start_time": "2023-11-14T15:16:00.132158",
     "status": "completed"
    },
    "tags": []
   },
   "outputs": [
    {
     "data": {
      "text/html": [
       "<div>\n",
       "<style scoped>\n",
       "    .dataframe tbody tr th:only-of-type {\n",
       "        vertical-align: middle;\n",
       "    }\n",
       "\n",
       "    .dataframe tbody tr th {\n",
       "        vertical-align: top;\n",
       "    }\n",
       "\n",
       "    .dataframe thead th {\n",
       "        text-align: right;\n",
       "    }\n",
       "</style>\n",
       "<table border=\"1\" class=\"dataframe\">\n",
       "  <thead>\n",
       "    <tr style=\"text-align: right;\">\n",
       "      <th></th>\n",
       "      <th>id</th>\n",
       "      <th>allelectrons_Total</th>\n",
       "      <th>density_Total</th>\n",
       "      <th>allelectrons_Average</th>\n",
       "      <th>val_e_Average</th>\n",
       "      <th>atomicweight_Average</th>\n",
       "      <th>ionenergy_Average</th>\n",
       "      <th>el_neg_chi_Average</th>\n",
       "      <th>R_vdw_element_Average</th>\n",
       "      <th>R_cov_element_Average</th>\n",
       "      <th>zaratio_Average</th>\n",
       "      <th>density_Average</th>\n",
       "      <th>Hardness</th>\n",
       "    </tr>\n",
       "  </thead>\n",
       "  <tbody>\n",
       "    <tr>\n",
       "      <th>6232</th>\n",
       "      <td>6232</td>\n",
       "      <td>106.0</td>\n",
       "      <td>8.337992</td>\n",
       "      <td>10.4</td>\n",
       "      <td>4.8</td>\n",
       "      <td>21.989312</td>\n",
       "      <td>11.33044</td>\n",
       "      <td>2.502</td>\n",
       "      <td>1.708</td>\n",
       "      <td>0.944</td>\n",
       "      <td>0.495936</td>\n",
       "      <td>0.82753</td>\n",
       "      <td>6.0</td>\n",
       "    </tr>\n",
       "  </tbody>\n",
       "</table>\n",
       "</div>"
      ],
      "text/plain": [
       "        id  allelectrons_Total  density_Total  allelectrons_Average  \\\n",
       "6232  6232               106.0       8.337992                  10.4   \n",
       "\n",
       "      val_e_Average  atomicweight_Average  ionenergy_Average  \\\n",
       "6232            4.8             21.989312           11.33044   \n",
       "\n",
       "      el_neg_chi_Average  R_vdw_element_Average  R_cov_element_Average  \\\n",
       "6232               2.502                  1.708                  0.944   \n",
       "\n",
       "      zaratio_Average  density_Average  Hardness  \n",
       "6232         0.495936          0.82753       6.0  "
      ]
     },
     "execution_count": 3,
     "metadata": {},
     "output_type": "execute_result"
    }
   ],
   "source": [
    "train.sample(random_state=SEED)"
   ]
  },
  {
   "cell_type": "code",
   "execution_count": 4,
   "id": "828bf4f5",
   "metadata": {
    "execution": {
     "iopub.execute_input": "2023-11-14T15:16:00.191207Z",
     "iopub.status.busy": "2023-11-14T15:16:00.190507Z",
     "iopub.status.idle": "2023-11-14T15:16:00.206959Z",
     "shell.execute_reply": "2023-11-14T15:16:00.205834Z"
    },
    "papermill": {
     "duration": 0.027271,
     "end_time": "2023-11-14T15:16:00.209152",
     "exception": false,
     "start_time": "2023-11-14T15:16:00.181881",
     "status": "completed"
    },
    "tags": []
   },
   "outputs": [
    {
     "data": {
      "text/html": [
       "<div>\n",
       "<style scoped>\n",
       "    .dataframe tbody tr th:only-of-type {\n",
       "        vertical-align: middle;\n",
       "    }\n",
       "\n",
       "    .dataframe tbody tr th {\n",
       "        vertical-align: top;\n",
       "    }\n",
       "\n",
       "    .dataframe thead th {\n",
       "        text-align: right;\n",
       "    }\n",
       "</style>\n",
       "<table border=\"1\" class=\"dataframe\">\n",
       "  <thead>\n",
       "    <tr style=\"text-align: right;\">\n",
       "      <th></th>\n",
       "      <th>id</th>\n",
       "      <th>allelectrons_Total</th>\n",
       "      <th>density_Total</th>\n",
       "      <th>allelectrons_Average</th>\n",
       "      <th>val_e_Average</th>\n",
       "      <th>atomicweight_Average</th>\n",
       "      <th>ionenergy_Average</th>\n",
       "      <th>el_neg_chi_Average</th>\n",
       "      <th>R_vdw_element_Average</th>\n",
       "      <th>R_cov_element_Average</th>\n",
       "      <th>zaratio_Average</th>\n",
       "      <th>density_Average</th>\n",
       "    </tr>\n",
       "  </thead>\n",
       "  <tbody>\n",
       "    <tr>\n",
       "      <th>1805</th>\n",
       "      <td>12212</td>\n",
       "      <td>50.0</td>\n",
       "      <td>3.253996</td>\n",
       "      <td>10.0</td>\n",
       "      <td>4.8</td>\n",
       "      <td>20.016938</td>\n",
       "      <td>11.64556</td>\n",
       "      <td>2.774</td>\n",
       "      <td>1.714</td>\n",
       "      <td>0.882</td>\n",
       "      <td>0.499726</td>\n",
       "      <td>0.77105</td>\n",
       "    </tr>\n",
       "  </tbody>\n",
       "</table>\n",
       "</div>"
      ],
      "text/plain": [
       "         id  allelectrons_Total  density_Total  allelectrons_Average  \\\n",
       "1805  12212                50.0       3.253996                  10.0   \n",
       "\n",
       "      val_e_Average  atomicweight_Average  ionenergy_Average  \\\n",
       "1805            4.8             20.016938           11.64556   \n",
       "\n",
       "      el_neg_chi_Average  R_vdw_element_Average  R_cov_element_Average  \\\n",
       "1805               2.774                  1.714                  0.882   \n",
       "\n",
       "      zaratio_Average  density_Average  \n",
       "1805         0.499726          0.77105  "
      ]
     },
     "execution_count": 4,
     "metadata": {},
     "output_type": "execute_result"
    }
   ],
   "source": [
    "test.sample(random_state=SEED)"
   ]
  },
  {
   "cell_type": "code",
   "execution_count": 5,
   "id": "b2f8d69e",
   "metadata": {
    "execution": {
     "iopub.execute_input": "2023-11-14T15:16:00.225675Z",
     "iopub.status.busy": "2023-11-14T15:16:00.225237Z",
     "iopub.status.idle": "2023-11-14T15:16:00.242196Z",
     "shell.execute_reply": "2023-11-14T15:16:00.241224Z"
    },
    "papermill": {
     "duration": 0.027775,
     "end_time": "2023-11-14T15:16:00.244429",
     "exception": false,
     "start_time": "2023-11-14T15:16:00.216654",
     "status": "completed"
    },
    "tags": []
   },
   "outputs": [
    {
     "data": {
      "text/html": [
       "<div>\n",
       "<style scoped>\n",
       "    .dataframe tbody tr th:only-of-type {\n",
       "        vertical-align: middle;\n",
       "    }\n",
       "\n",
       "    .dataframe tbody tr th {\n",
       "        vertical-align: top;\n",
       "    }\n",
       "\n",
       "    .dataframe thead th {\n",
       "        text-align: right;\n",
       "    }\n",
       "</style>\n",
       "<table border=\"1\" class=\"dataframe\">\n",
       "  <thead>\n",
       "    <tr style=\"text-align: right;\">\n",
       "      <th></th>\n",
       "      <th>Unnamed: 0</th>\n",
       "      <th>Hardness</th>\n",
       "      <th>allelectrons_Total</th>\n",
       "      <th>density_Total</th>\n",
       "      <th>allelectrons_Average</th>\n",
       "      <th>val_e_Average</th>\n",
       "      <th>atomicweight_Average</th>\n",
       "      <th>ionenergy_Average</th>\n",
       "      <th>el_neg_chi_Average</th>\n",
       "      <th>R_vdw_element_Average</th>\n",
       "      <th>R_cov_element_Average</th>\n",
       "      <th>zaratio_Average</th>\n",
       "      <th>density_Average</th>\n",
       "    </tr>\n",
       "  </thead>\n",
       "  <tbody>\n",
       "    <tr>\n",
       "      <th>63</th>\n",
       "      <td>64</td>\n",
       "      <td>2.3</td>\n",
       "      <td>110.0</td>\n",
       "      <td>23.0</td>\n",
       "      <td>36.666667</td>\n",
       "      <td>2.666667</td>\n",
       "      <td>82.598467</td>\n",
       "      <td>8.504133</td>\n",
       "      <td>2.146667</td>\n",
       "      <td>2.006667</td>\n",
       "      <td>1.253333</td>\n",
       "      <td>0.456803</td>\n",
       "      <td>7.666667</td>\n",
       "    </tr>\n",
       "  </tbody>\n",
       "</table>\n",
       "</div>"
      ],
      "text/plain": [
       "    Unnamed: 0  Hardness  allelectrons_Total  density_Total  \\\n",
       "63          64       2.3               110.0           23.0   \n",
       "\n",
       "    allelectrons_Average  val_e_Average  atomicweight_Average  \\\n",
       "63             36.666667       2.666667             82.598467   \n",
       "\n",
       "    ionenergy_Average  el_neg_chi_Average  R_vdw_element_Average  \\\n",
       "63           8.504133            2.146667               2.006667   \n",
       "\n",
       "    R_cov_element_Average  zaratio_Average  density_Average  \n",
       "63               1.253333         0.456803         7.666667  "
      ]
     },
     "execution_count": 5,
     "metadata": {},
     "output_type": "execute_result"
    }
   ],
   "source": [
    "original_train.sample(random_state=SEED)"
   ]
  },
  {
   "cell_type": "code",
   "execution_count": 6,
   "id": "9c2702b2",
   "metadata": {
    "execution": {
     "iopub.execute_input": "2023-11-14T15:16:00.261758Z",
     "iopub.status.busy": "2023-11-14T15:16:00.260996Z",
     "iopub.status.idle": "2023-11-14T15:16:00.281671Z",
     "shell.execute_reply": "2023-11-14T15:16:00.280453Z"
    },
    "papermill": {
     "duration": 0.031866,
     "end_time": "2023-11-14T15:16:00.283996",
     "exception": false,
     "start_time": "2023-11-14T15:16:00.252130",
     "status": "completed"
    },
    "tags": []
   },
   "outputs": [
    {
     "data": {
      "text/html": [
       "<div>\n",
       "<style scoped>\n",
       "    .dataframe tbody tr th:only-of-type {\n",
       "        vertical-align: middle;\n",
       "    }\n",
       "\n",
       "    .dataframe tbody tr th {\n",
       "        vertical-align: top;\n",
       "    }\n",
       "\n",
       "    .dataframe thead th {\n",
       "        text-align: right;\n",
       "    }\n",
       "</style>\n",
       "<table border=\"1\" class=\"dataframe\">\n",
       "  <thead>\n",
       "    <tr style=\"text-align: right;\">\n",
       "      <th></th>\n",
       "      <th>Unnamed: 0</th>\n",
       "      <th>Formula</th>\n",
       "      <th>Crystal structure</th>\n",
       "      <th>Hardness (Mohs)</th>\n",
       "      <th>allelectrons_Total</th>\n",
       "      <th>density_Total</th>\n",
       "      <th>allelectrons_Average</th>\n",
       "      <th>val_e_Average</th>\n",
       "      <th>atomicweight_Average</th>\n",
       "      <th>ionenergy_Average</th>\n",
       "      <th>el_neg_chi_Average</th>\n",
       "      <th>R_vdw_element_Average</th>\n",
       "      <th>R_cov_element_Average</th>\n",
       "      <th>zaratio_Average</th>\n",
       "      <th>density_Average</th>\n",
       "    </tr>\n",
       "  </thead>\n",
       "  <tbody>\n",
       "    <tr>\n",
       "      <th>6</th>\n",
       "      <td>6</td>\n",
       "      <td>BiB3O6</td>\n",
       "      <td>monoclinic</td>\n",
       "      <td>5.75</td>\n",
       "      <td>146.0</td>\n",
       "      <td>16.864992</td>\n",
       "      <td>14.6</td>\n",
       "      <td>5.0</td>\n",
       "      <td>33.739258</td>\n",
       "      <td>11.38881</td>\n",
       "      <td>2.866</td>\n",
       "      <td>1.695</td>\n",
       "      <td>0.786</td>\n",
       "      <td>0.478464</td>\n",
       "      <td>1.686499</td>\n",
       "    </tr>\n",
       "  </tbody>\n",
       "</table>\n",
       "</div>"
      ],
      "text/plain": [
       "   Unnamed: 0 Formula Crystal structure  Hardness (Mohs)  allelectrons_Total  \\\n",
       "6           6  BiB3O6        monoclinic             5.75               146.0   \n",
       "\n",
       "   density_Total  allelectrons_Average  val_e_Average  atomicweight_Average  \\\n",
       "6      16.864992                  14.6            5.0             33.739258   \n",
       "\n",
       "   ionenergy_Average  el_neg_chi_Average  R_vdw_element_Average  \\\n",
       "6           11.38881               2.866                  1.695   \n",
       "\n",
       "   R_cov_element_Average  zaratio_Average  density_Average  \n",
       "6                  0.786         0.478464         1.686499  "
      ]
     },
     "execution_count": 6,
     "metadata": {},
     "output_type": "execute_result"
    }
   ],
   "source": [
    "original_val.sample(random_state=SEED)"
   ]
  },
  {
   "cell_type": "code",
   "execution_count": 7,
   "id": "464f68a3",
   "metadata": {
    "execution": {
     "iopub.execute_input": "2023-11-14T15:16:00.302150Z",
     "iopub.status.busy": "2023-11-14T15:16:00.301109Z",
     "iopub.status.idle": "2023-11-14T15:16:00.326584Z",
     "shell.execute_reply": "2023-11-14T15:16:00.324829Z"
    },
    "papermill": {
     "duration": 0.037523,
     "end_time": "2023-11-14T15:16:00.329414",
     "exception": false,
     "start_time": "2023-11-14T15:16:00.291891",
     "status": "completed"
    },
    "tags": []
   },
   "outputs": [
    {
     "name": "stdout",
     "output_type": "stream",
     "text": [
      "<class 'pandas.core.frame.DataFrame'>\n",
      "RangeIndex: 10407 entries, 0 to 10406\n",
      "Data columns (total 13 columns):\n",
      " #   Column                 Non-Null Count  Dtype  \n",
      "---  ------                 --------------  -----  \n",
      " 0   id                     10407 non-null  int64  \n",
      " 1   allelectrons_Total     10407 non-null  float64\n",
      " 2   density_Total          10407 non-null  float64\n",
      " 3   allelectrons_Average   10407 non-null  float64\n",
      " 4   val_e_Average          10407 non-null  float64\n",
      " 5   atomicweight_Average   10407 non-null  float64\n",
      " 6   ionenergy_Average      10407 non-null  float64\n",
      " 7   el_neg_chi_Average     10407 non-null  float64\n",
      " 8   R_vdw_element_Average  10407 non-null  float64\n",
      " 9   R_cov_element_Average  10407 non-null  float64\n",
      " 10  zaratio_Average        10407 non-null  float64\n",
      " 11  density_Average        10407 non-null  float64\n",
      " 12  Hardness               10407 non-null  float64\n",
      "dtypes: float64(12), int64(1)\n",
      "memory usage: 1.0 MB\n"
     ]
    }
   ],
   "source": [
    "train.info()"
   ]
  },
  {
   "cell_type": "code",
   "execution_count": 8,
   "id": "dbd7f586",
   "metadata": {
    "execution": {
     "iopub.execute_input": "2023-11-14T15:16:00.347770Z",
     "iopub.status.busy": "2023-11-14T15:16:00.347004Z",
     "iopub.status.idle": "2023-11-14T15:16:00.354032Z",
     "shell.execute_reply": "2023-11-14T15:16:00.353179Z"
    },
    "papermill": {
     "duration": 0.018176,
     "end_time": "2023-11-14T15:16:00.355940",
     "exception": false,
     "start_time": "2023-11-14T15:16:00.337764",
     "status": "completed"
    },
    "tags": []
   },
   "outputs": [
    {
     "data": {
      "text/plain": [
       "((622, 13), (52, 15), (10407, 13), (6939, 12), (6939, 2))"
      ]
     },
     "execution_count": 8,
     "metadata": {},
     "output_type": "execute_result"
    }
   ],
   "source": [
    "original_train.shape, original_val.shape, train.shape, test.shape, sample_sub.shape"
   ]
  },
  {
   "cell_type": "markdown",
   "id": "a402cb0b",
   "metadata": {
    "papermill": {
     "duration": 0.008024,
     "end_time": "2023-11-14T15:16:00.371996",
     "exception": false,
     "start_time": "2023-11-14T15:16:00.363972",
     "status": "completed"
    },
    "tags": []
   },
   "source": [
    "**Missing values**"
   ]
  },
  {
   "cell_type": "code",
   "execution_count": 9,
   "id": "7a825687",
   "metadata": {
    "execution": {
     "iopub.execute_input": "2023-11-14T15:16:00.390325Z",
     "iopub.status.busy": "2023-11-14T15:16:00.389198Z",
     "iopub.status.idle": "2023-11-14T15:16:00.400325Z",
     "shell.execute_reply": "2023-11-14T15:16:00.399234Z"
    },
    "papermill": {
     "duration": 0.02262,
     "end_time": "2023-11-14T15:16:00.402670",
     "exception": false,
     "start_time": "2023-11-14T15:16:00.380050",
     "status": "completed"
    },
    "tags": []
   },
   "outputs": [
    {
     "data": {
      "text/plain": [
       "(0, 1, 0, 0)"
      ]
     },
     "execution_count": 9,
     "metadata": {},
     "output_type": "execute_result"
    }
   ],
   "source": [
    "original_train.isna().any().sum(), original_val.isna().any().sum(), train.isna().any().sum(), test.isna().any().sum()"
   ]
  },
  {
   "cell_type": "code",
   "execution_count": 10,
   "id": "f9020ed0",
   "metadata": {
    "execution": {
     "iopub.execute_input": "2023-11-14T15:16:00.421458Z",
     "iopub.status.busy": "2023-11-14T15:16:00.420738Z",
     "iopub.status.idle": "2023-11-14T15:16:00.438659Z",
     "shell.execute_reply": "2023-11-14T15:16:00.437469Z"
    },
    "papermill": {
     "duration": 0.029919,
     "end_time": "2023-11-14T15:16:00.441152",
     "exception": false,
     "start_time": "2023-11-14T15:16:00.411233",
     "status": "completed"
    },
    "tags": []
   },
   "outputs": [
    {
     "data": {
      "text/html": [
       "<div>\n",
       "<style scoped>\n",
       "    .dataframe tbody tr th:only-of-type {\n",
       "        vertical-align: middle;\n",
       "    }\n",
       "\n",
       "    .dataframe tbody tr th {\n",
       "        vertical-align: top;\n",
       "    }\n",
       "\n",
       "    .dataframe thead th {\n",
       "        text-align: right;\n",
       "    }\n",
       "</style>\n",
       "<table border=\"1\" class=\"dataframe\">\n",
       "  <thead>\n",
       "    <tr style=\"text-align: right;\">\n",
       "      <th></th>\n",
       "      <th>Unnamed: 0</th>\n",
       "      <th>Formula</th>\n",
       "      <th>Crystal structure</th>\n",
       "      <th>Hardness (Mohs)</th>\n",
       "      <th>allelectrons_Total</th>\n",
       "      <th>density_Total</th>\n",
       "      <th>allelectrons_Average</th>\n",
       "      <th>val_e_Average</th>\n",
       "      <th>atomicweight_Average</th>\n",
       "      <th>ionenergy_Average</th>\n",
       "      <th>el_neg_chi_Average</th>\n",
       "      <th>R_vdw_element_Average</th>\n",
       "      <th>R_cov_element_Average</th>\n",
       "      <th>zaratio_Average</th>\n",
       "      <th>density_Average</th>\n",
       "    </tr>\n",
       "  </thead>\n",
       "  <tbody>\n",
       "    <tr>\n",
       "      <th>15</th>\n",
       "      <td>15</td>\n",
       "      <td>BaWF8</td>\n",
       "      <td>NaN</td>\n",
       "      <td>3.0</td>\n",
       "      <td>202.0</td>\n",
       "      <td>22.81264</td>\n",
       "      <td>20.2</td>\n",
       "      <td>6.0</td>\n",
       "      <td>47.315423</td>\n",
       "      <td>15.24581</td>\n",
       "      <td>3.443</td>\n",
       "      <td>1.662</td>\n",
       "      <td>0.836</td>\n",
       "      <td>0.460005</td>\n",
       "      <td>2.281264</td>\n",
       "    </tr>\n",
       "  </tbody>\n",
       "</table>\n",
       "</div>"
      ],
      "text/plain": [
       "    Unnamed: 0 Formula Crystal structure  Hardness (Mohs)  allelectrons_Total  \\\n",
       "15          15   BaWF8               NaN              3.0               202.0   \n",
       "\n",
       "    density_Total  allelectrons_Average  val_e_Average  atomicweight_Average  \\\n",
       "15       22.81264                  20.2            6.0             47.315423   \n",
       "\n",
       "    ionenergy_Average  el_neg_chi_Average  R_vdw_element_Average  \\\n",
       "15           15.24581               3.443                  1.662   \n",
       "\n",
       "    R_cov_element_Average  zaratio_Average  density_Average  \n",
       "15                  0.836         0.460005         2.281264  "
      ]
     },
     "execution_count": 10,
     "metadata": {},
     "output_type": "execute_result"
    }
   ],
   "source": [
    "original_val[original_val.isna().any(axis=1)]"
   ]
  },
  {
   "cell_type": "markdown",
   "id": "46c74d81",
   "metadata": {
    "papermill": {
     "duration": 0.008171,
     "end_time": "2023-11-14T15:16:00.457745",
     "exception": false,
     "start_time": "2023-11-14T15:16:00.449574",
     "status": "completed"
    },
    "tags": []
   },
   "source": [
    "We can keep this row since we do not care about crystal structure based on other datasets."
   ]
  },
  {
   "cell_type": "markdown",
   "id": "27f95714",
   "metadata": {
    "papermill": {
     "duration": 0.008174,
     "end_time": "2023-11-14T15:16:00.474231",
     "exception": false,
     "start_time": "2023-11-14T15:16:00.466057",
     "status": "completed"
    },
    "tags": []
   },
   "source": [
    "**Fixing column names and removing irrelevant columns**"
   ]
  },
  {
   "cell_type": "code",
   "execution_count": 11,
   "id": "0d1c799a",
   "metadata": {
    "execution": {
     "iopub.execute_input": "2023-11-14T15:16:00.492964Z",
     "iopub.status.busy": "2023-11-14T15:16:00.492506Z",
     "iopub.status.idle": "2023-11-14T15:16:00.498701Z",
     "shell.execute_reply": "2023-11-14T15:16:00.497886Z"
    },
    "papermill": {
     "duration": 0.017864,
     "end_time": "2023-11-14T15:16:00.500735",
     "exception": false,
     "start_time": "2023-11-14T15:16:00.482871",
     "status": "completed"
    },
    "tags": []
   },
   "outputs": [],
   "source": [
    "original_val.rename({'Hardness (Mohs)': 'Hardness'}, axis=1, inplace=True)"
   ]
  },
  {
   "cell_type": "code",
   "execution_count": 12,
   "id": "e451c24a",
   "metadata": {
    "execution": {
     "iopub.execute_input": "2023-11-14T15:16:00.519773Z",
     "iopub.status.busy": "2023-11-14T15:16:00.519022Z",
     "iopub.status.idle": "2023-11-14T15:16:00.531244Z",
     "shell.execute_reply": "2023-11-14T15:16:00.530271Z"
    },
    "papermill": {
     "duration": 0.025016,
     "end_time": "2023-11-14T15:16:00.534079",
     "exception": false,
     "start_time": "2023-11-14T15:16:00.509063",
     "status": "completed"
    },
    "tags": []
   },
   "outputs": [],
   "source": [
    "train.drop('id', axis=1, inplace=True)\n",
    "test.drop('id', axis=1, inplace=True)\n",
    "original_train.drop('Unnamed: 0', axis=1, inplace=True)\n",
    "original_val.drop(['Unnamed: 0', 'Formula', 'Crystal structure'], axis=1, inplace=True)"
   ]
  },
  {
   "cell_type": "code",
   "execution_count": 13,
   "id": "24f438f9",
   "metadata": {
    "execution": {
     "iopub.execute_input": "2023-11-14T15:16:00.552796Z",
     "iopub.status.busy": "2023-11-14T15:16:00.552009Z",
     "iopub.status.idle": "2023-11-14T15:16:00.559411Z",
     "shell.execute_reply": "2023-11-14T15:16:00.558595Z"
    },
    "papermill": {
     "duration": 0.019396,
     "end_time": "2023-11-14T15:16:00.561846",
     "exception": false,
     "start_time": "2023-11-14T15:16:00.542450",
     "status": "completed"
    },
    "tags": []
   },
   "outputs": [],
   "source": [
    "column_order = list(train.columns)\n",
    "\n",
    "original_train = original_train[column_order]\n",
    "original_val = original_val[column_order]"
   ]
  },
  {
   "cell_type": "markdown",
   "id": "3ed00cd6",
   "metadata": {
    "papermill": {
     "duration": 0.00805,
     "end_time": "2023-11-14T15:16:00.578451",
     "exception": false,
     "start_time": "2023-11-14T15:16:00.570401",
     "status": "completed"
    },
    "tags": []
   },
   "source": [
    "**Target distribution**"
   ]
  },
  {
   "cell_type": "code",
   "execution_count": 14,
   "id": "2a39006c",
   "metadata": {
    "execution": {
     "iopub.execute_input": "2023-11-14T15:16:00.597488Z",
     "iopub.status.busy": "2023-11-14T15:16:00.596605Z",
     "iopub.status.idle": "2023-11-14T15:16:00.620575Z",
     "shell.execute_reply": "2023-11-14T15:16:00.619483Z"
    },
    "papermill": {
     "duration": 0.036098,
     "end_time": "2023-11-14T15:16:00.622965",
     "exception": false,
     "start_time": "2023-11-14T15:16:00.586867",
     "status": "completed"
    },
    "tags": []
   },
   "outputs": [
    {
     "data": {
      "text/html": [
       "<div>\n",
       "<style scoped>\n",
       "    .dataframe tbody tr th:only-of-type {\n",
       "        vertical-align: middle;\n",
       "    }\n",
       "\n",
       "    .dataframe tbody tr th {\n",
       "        vertical-align: top;\n",
       "    }\n",
       "\n",
       "    .dataframe thead th {\n",
       "        text-align: right;\n",
       "    }\n",
       "</style>\n",
       "<table border=\"1\" class=\"dataframe\">\n",
       "  <thead>\n",
       "    <tr style=\"text-align: right;\">\n",
       "      <th></th>\n",
       "      <th>train</th>\n",
       "      <th>original_train</th>\n",
       "      <th>original_val</th>\n",
       "    </tr>\n",
       "  </thead>\n",
       "  <tbody>\n",
       "    <tr>\n",
       "      <th>count</th>\n",
       "      <td>10407.000000</td>\n",
       "      <td>622.000000</td>\n",
       "      <td>52.000000</td>\n",
       "    </tr>\n",
       "    <tr>\n",
       "      <th>mean</th>\n",
       "      <td>4.647126</td>\n",
       "      <td>4.613987</td>\n",
       "      <td>5.448462</td>\n",
       "    </tr>\n",
       "    <tr>\n",
       "      <th>std</th>\n",
       "      <td>1.680525</td>\n",
       "      <td>1.729636</td>\n",
       "      <td>1.523433</td>\n",
       "    </tr>\n",
       "    <tr>\n",
       "      <th>min</th>\n",
       "      <td>1.000000</td>\n",
       "      <td>1.000000</td>\n",
       "      <td>2.500000</td>\n",
       "    </tr>\n",
       "    <tr>\n",
       "      <th>25%</th>\n",
       "      <td>3.000000</td>\n",
       "      <td>3.000000</td>\n",
       "      <td>4.500000</td>\n",
       "    </tr>\n",
       "    <tr>\n",
       "      <th>50%</th>\n",
       "      <td>5.500000</td>\n",
       "      <td>5.500000</td>\n",
       "      <td>5.500000</td>\n",
       "    </tr>\n",
       "    <tr>\n",
       "      <th>75%</th>\n",
       "      <td>6.000000</td>\n",
       "      <td>5.950000</td>\n",
       "      <td>6.500000</td>\n",
       "    </tr>\n",
       "    <tr>\n",
       "      <th>max</th>\n",
       "      <td>10.000000</td>\n",
       "      <td>10.000000</td>\n",
       "      <td>9.000000</td>\n",
       "    </tr>\n",
       "  </tbody>\n",
       "</table>\n",
       "</div>"
      ],
      "text/plain": [
       "              train  original_train  original_val\n",
       "count  10407.000000      622.000000     52.000000\n",
       "mean       4.647126        4.613987      5.448462\n",
       "std        1.680525        1.729636      1.523433\n",
       "min        1.000000        1.000000      2.500000\n",
       "25%        3.000000        3.000000      4.500000\n",
       "50%        5.500000        5.500000      5.500000\n",
       "75%        6.000000        5.950000      6.500000\n",
       "max       10.000000       10.000000      9.000000"
      ]
     },
     "execution_count": 14,
     "metadata": {},
     "output_type": "execute_result"
    }
   ],
   "source": [
    "TARGET = 'Hardness'\n",
    "\n",
    "pd.DataFrame({\n",
    "    'train': train[TARGET], \n",
    "    'original_train': original_train[TARGET], \n",
    "    'original_val': original_val[TARGET]\n",
    "}).describe()"
   ]
  },
  {
   "cell_type": "markdown",
   "id": "61fb317d",
   "metadata": {
    "papermill": {
     "duration": 0.008201,
     "end_time": "2023-11-14T15:16:00.639833",
     "exception": false,
     "start_time": "2023-11-14T15:16:00.631632",
     "status": "completed"
    },
    "tags": []
   },
   "source": [
    "**Combining original train and validation datasets**"
   ]
  },
  {
   "cell_type": "code",
   "execution_count": 15,
   "id": "45043489",
   "metadata": {
    "execution": {
     "iopub.execute_input": "2023-11-14T15:16:00.658445Z",
     "iopub.status.busy": "2023-11-14T15:16:00.658023Z",
     "iopub.status.idle": "2023-11-14T15:16:00.663848Z",
     "shell.execute_reply": "2023-11-14T15:16:00.662737Z"
    },
    "papermill": {
     "duration": 0.017519,
     "end_time": "2023-11-14T15:16:00.665924",
     "exception": false,
     "start_time": "2023-11-14T15:16:00.648405",
     "status": "completed"
    },
    "tags": []
   },
   "outputs": [],
   "source": [
    "original = pd.concat([original_train, original_val], axis=0, ignore_index=True)"
   ]
  },
  {
   "cell_type": "code",
   "execution_count": 16,
   "id": "d81b1fb9",
   "metadata": {
    "execution": {
     "iopub.execute_input": "2023-11-14T15:16:00.685212Z",
     "iopub.status.busy": "2023-11-14T15:16:00.684559Z",
     "iopub.status.idle": "2023-11-14T15:16:00.689887Z",
     "shell.execute_reply": "2023-11-14T15:16:00.689163Z"
    },
    "papermill": {
     "duration": 0.017378,
     "end_time": "2023-11-14T15:16:00.691843",
     "exception": false,
     "start_time": "2023-11-14T15:16:00.674465",
     "status": "completed"
    },
    "tags": []
   },
   "outputs": [
    {
     "data": {
      "text/plain": [
       "(674, 12)"
      ]
     },
     "execution_count": 16,
     "metadata": {},
     "output_type": "execute_result"
    }
   ],
   "source": [
    "original.shape"
   ]
  },
  {
   "cell_type": "markdown",
   "id": "e79b117b",
   "metadata": {
    "papermill": {
     "duration": 0.008548,
     "end_time": "2023-11-14T15:16:00.709612",
     "exception": false,
     "start_time": "2023-11-14T15:16:00.701064",
     "status": "completed"
    },
    "tags": []
   },
   "source": [
    "# Cross-validation framework"
   ]
  },
  {
   "cell_type": "code",
   "execution_count": 17,
   "id": "b0936f19",
   "metadata": {
    "execution": {
     "iopub.execute_input": "2023-11-14T15:16:00.729056Z",
     "iopub.status.busy": "2023-11-14T15:16:00.728363Z",
     "iopub.status.idle": "2023-11-14T15:16:00.732573Z",
     "shell.execute_reply": "2023-11-14T15:16:00.731794Z"
    },
    "papermill": {
     "duration": 0.016258,
     "end_time": "2023-11-14T15:16:00.734627",
     "exception": false,
     "start_time": "2023-11-14T15:16:00.718369",
     "status": "completed"
    },
    "tags": []
   },
   "outputs": [],
   "source": [
    "def eval_metric(y_true, y_pred):\n",
    "    return median_absolute_error(y_true, y_pred)"
   ]
  },
  {
   "cell_type": "code",
   "execution_count": 18,
   "id": "87bf2b6c",
   "metadata": {
    "execution": {
     "iopub.execute_input": "2023-11-14T15:16:00.753994Z",
     "iopub.status.busy": "2023-11-14T15:16:00.753066Z",
     "iopub.status.idle": "2023-11-14T15:16:00.762648Z",
     "shell.execute_reply": "2023-11-14T15:16:00.761803Z"
    },
    "papermill": {
     "duration": 0.02171,
     "end_time": "2023-11-14T15:16:00.764911",
     "exception": false,
     "start_time": "2023-11-14T15:16:00.743201",
     "status": "completed"
    },
    "tags": []
   },
   "outputs": [],
   "source": [
    "def custom_cv(features, model, folds=7, extend=False, seed=SEED, verbose=True):\n",
    "    oof_preds = {}\n",
    "    test_preds = {}\n",
    "    \n",
    "    X, y = train[features], train[TARGET]\n",
    "    X_test = test[features]\n",
    "    \n",
    "    cv = KFold(n_splits=folds, shuffle=True, random_state=seed)\n",
    "    for fold, (train_ids, val_ids) in enumerate(cv.split(X, y)):\n",
    "        X_train, y_train = X.iloc[train_ids], y.iloc[train_ids]\n",
    "        X_val, y_val = X.iloc[val_ids], y.iloc[val_ids]\n",
    "        if extend: # original dataset added only to training folds\n",
    "            X_train = pd.concat([X_train, original[features]], axis=0, ignore_index=True)\n",
    "            y_train = pd.concat([y_train, original[TARGET]], axis=0, ignore_index=True)\n",
    "        \n",
    "        model.fit(X_train, y_train)\n",
    "        \n",
    "        val_preds = model.predict(X_val)\n",
    "        oof_preds.update(dict(zip(val_ids, val_preds)))\n",
    "        test_preds[f'fold{fold}'] = model.predict(X_test)\n",
    "        \n",
    "        if verbose:\n",
    "            score = eval_metric(y_val, val_preds)\n",
    "            print(f'Fold #{fold}: {score:.4f}', end = ' | ')\n",
    "            \n",
    "        _ = gc.collect()\n",
    "        \n",
    "    test_preds = pd.DataFrame.from_dict(test_preds)\n",
    "    test_preds['mean'] = test_preds.mean(axis=1) # mean of fold-wise predictions\n",
    "    oof_preds = pd.Series(oof_preds).sort_index()\n",
    "    print(f'OOF score: {eval_metric(y, oof_preds):.4f}\\n')\n",
    "    \n",
    "    return oof_preds, test_preds"
   ]
  },
  {
   "cell_type": "code",
   "execution_count": 19,
   "id": "2455bc45",
   "metadata": {
    "execution": {
     "iopub.execute_input": "2023-11-14T15:16:00.785547Z",
     "iopub.status.busy": "2023-11-14T15:16:00.785117Z",
     "iopub.status.idle": "2023-11-14T15:16:00.790100Z",
     "shell.execute_reply": "2023-11-14T15:16:00.789070Z"
    },
    "papermill": {
     "duration": 0.017268,
     "end_time": "2023-11-14T15:16:00.792471",
     "exception": false,
     "start_time": "2023-11-14T15:16:00.775203",
     "status": "completed"
    },
    "tags": []
   },
   "outputs": [],
   "source": [
    "model = ExtraTreesRegressor(\n",
    "    n_estimators=200,\n",
    "    max_depth=12,\n",
    "    max_features=None,\n",
    "    n_jobs = 4,\n",
    "    random_state=SEED)\n",
    "\n",
    "features = test.columns"
   ]
  },
  {
   "cell_type": "code",
   "execution_count": 20,
   "id": "64da3e9a",
   "metadata": {
    "execution": {
     "iopub.execute_input": "2023-11-14T15:16:00.812147Z",
     "iopub.status.busy": "2023-11-14T15:16:00.811346Z",
     "iopub.status.idle": "2023-11-14T15:16:08.877127Z",
     "shell.execute_reply": "2023-11-14T15:16:08.875592Z"
    },
    "papermill": {
     "duration": 8.07827,
     "end_time": "2023-11-14T15:16:08.879552",
     "exception": false,
     "start_time": "2023-11-14T15:16:00.801282",
     "status": "completed"
    },
    "tags": []
   },
   "outputs": [
    {
     "name": "stdout",
     "output_type": "stream",
     "text": [
      "Fold #0: 0.7329 | Fold #1: 0.6679 | Fold #2: 0.6439 | Fold #3: 0.6484 | Fold #4: 0.6424 | Fold #5: 0.7567 | Fold #6: 0.7244 | OOF score: 0.6889\n",
      "\n",
      "CPU times: user 22.1 s, sys: 535 ms, total: 22.6 s\n",
      "Wall time: 8.06 s\n"
     ]
    }
   ],
   "source": [
    "%%time\n",
    "oof_preds_trn, test_preds_trn = custom_cv(features, model)"
   ]
  },
  {
   "cell_type": "code",
   "execution_count": 21,
   "id": "03c45386",
   "metadata": {
    "execution": {
     "iopub.execute_input": "2023-11-14T15:16:08.900592Z",
     "iopub.status.busy": "2023-11-14T15:16:08.899766Z",
     "iopub.status.idle": "2023-11-14T15:16:17.129458Z",
     "shell.execute_reply": "2023-11-14T15:16:17.128242Z"
    },
    "papermill": {
     "duration": 8.243074,
     "end_time": "2023-11-14T15:16:17.131960",
     "exception": false,
     "start_time": "2023-11-14T15:16:08.888886",
     "status": "completed"
    },
    "tags": []
   },
   "outputs": [
    {
     "name": "stdout",
     "output_type": "stream",
     "text": [
      "Fold #0: 0.7183 | Fold #1: 0.6687 | Fold #2: 0.6480 | Fold #3: 0.6473 | Fold #4: 0.6317 | Fold #5: 0.7496 | Fold #6: 0.7155 | OOF score: 0.6761\n",
      "\n",
      "CPU times: user 23.2 s, sys: 439 ms, total: 23.6 s\n",
      "Wall time: 8.22 s\n"
     ]
    }
   ],
   "source": [
    "%%time\n",
    "oof_preds_ext, test_preds_ext = custom_cv(features, model, extend=True)"
   ]
  },
  {
   "cell_type": "markdown",
   "id": "ba8d369c",
   "metadata": {
    "papermill": {
     "duration": 0.009246,
     "end_time": "2023-11-14T15:16:17.150967",
     "exception": false,
     "start_time": "2023-11-14T15:16:17.141721",
     "status": "completed"
    },
    "tags": []
   },
   "source": [
    "# Submission files"
   ]
  },
  {
   "cell_type": "code",
   "execution_count": 22,
   "id": "42179f55",
   "metadata": {
    "execution": {
     "iopub.execute_input": "2023-11-14T15:16:17.236187Z",
     "iopub.status.busy": "2023-11-14T15:16:17.235560Z",
     "iopub.status.idle": "2023-11-14T15:16:17.241085Z",
     "shell.execute_reply": "2023-11-14T15:16:17.240033Z"
    },
    "papermill": {
     "duration": 0.018756,
     "end_time": "2023-11-14T15:16:17.243426",
     "exception": false,
     "start_time": "2023-11-14T15:16:17.224670",
     "status": "completed"
    },
    "tags": []
   },
   "outputs": [],
   "source": [
    "def create_submission_files(test_preds, config, notebook='00'):\n",
    "    for col in test_preds.columns:\n",
    "        sub = sample_sub.copy()\n",
    "        sub[TARGET] = test_preds[col].round(4)\n",
    "        sub.to_csv(f'{notebook}_{config}_{col}.csv', index=False)"
   ]
  },
  {
   "cell_type": "code",
   "execution_count": 23,
   "id": "ba823a20",
   "metadata": {
    "execution": {
     "iopub.execute_input": "2023-11-14T15:16:17.264905Z",
     "iopub.status.busy": "2023-11-14T15:16:17.264164Z",
     "iopub.status.idle": "2023-11-14T15:16:17.492168Z",
     "shell.execute_reply": "2023-11-14T15:16:17.491038Z"
    },
    "papermill": {
     "duration": 0.241445,
     "end_time": "2023-11-14T15:16:17.494708",
     "exception": false,
     "start_time": "2023-11-14T15:16:17.253263",
     "status": "completed"
    },
    "tags": []
   },
   "outputs": [],
   "source": [
    "create_submission_files(test_preds_trn, 'baseline_trn')\n",
    "create_submission_files(test_preds_ext, 'baseline_ext')"
   ]
  },
  {
   "cell_type": "code",
   "execution_count": 24,
   "id": "bf2b36e9",
   "metadata": {
    "execution": {
     "iopub.execute_input": "2023-11-14T15:16:17.516314Z",
     "iopub.status.busy": "2023-11-14T15:16:17.515886Z",
     "iopub.status.idle": "2023-11-14T15:16:18.538991Z",
     "shell.execute_reply": "2023-11-14T15:16:18.537587Z"
    },
    "papermill": {
     "duration": 1.037046,
     "end_time": "2023-11-14T15:16:18.541713",
     "exception": false,
     "start_time": "2023-11-14T15:16:17.504667",
     "status": "completed"
    },
    "tags": []
   },
   "outputs": [
    {
     "name": "stdout",
     "output_type": "stream",
     "text": [
      "id,Hardness\r\n",
      "10407,2.6496\r\n",
      "10408,2.9135\r\n",
      "10409,5.6374\r\n",
      "10410,4.781\r\n",
      "10411,5.2682\r\n",
      "10412,4.7735\r\n",
      "10413,3.7642\r\n",
      "10414,5.415\r\n",
      "10415,3.3609\r\n"
     ]
    }
   ],
   "source": [
    "!head 00_baseline_trn_mean.csv"
   ]
  },
  {
   "cell_type": "markdown",
   "id": "50ae1032",
   "metadata": {
    "papermill": {
     "duration": 0.009551,
     "end_time": "2023-11-14T15:16:18.561206",
     "exception": false,
     "start_time": "2023-11-14T15:16:18.551655",
     "status": "completed"
    },
    "tags": []
   },
   "source": [
    "**Time to submit!**"
   ]
  }
 ],
 "metadata": {
  "kernelspec": {
   "display_name": "Python 3",
   "language": "python",
   "name": "python3"
  },
  "language_info": {
   "codemirror_mode": {
    "name": "ipython",
    "version": 3
   },
   "file_extension": ".py",
   "mimetype": "text/x-python",
   "name": "python",
   "nbconvert_exporter": "python",
   "pygments_lexer": "ipython3",
   "version": "3.10.12"
  },
  "papermill": {
   "default_parameters": {},
   "duration": 24.264758,
   "end_time": "2023-11-14T15:16:19.293780",
   "environment_variables": {},
   "exception": null,
   "input_path": "__notebook__.ipynb",
   "output_path": "__notebook__.ipynb",
   "parameters": {},
   "start_time": "2023-11-14T15:15:55.029022",
   "version": "2.4.0"
  }
 },
 "nbformat": 4,
 "nbformat_minor": 5
}
