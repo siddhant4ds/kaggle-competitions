{
 "cells": [
  {
   "cell_type": "markdown",
   "id": "31b04643",
   "metadata": {
    "papermill": {
     "duration": 0.011325,
     "end_time": "2023-11-14T15:00:52.962727",
     "exception": false,
     "start_time": "2023-11-14T15:00:52.951402",
     "status": "completed"
    },
    "tags": []
   },
   "source": [
    "# Setup"
   ]
  },
  {
   "cell_type": "code",
   "execution_count": 1,
   "id": "018e9e99",
   "metadata": {
    "_cell_guid": "b1076dfc-b9ad-4769-8c92-a6c4dae69d19",
    "_uuid": "8f2839f25d086af736a60e9eeb907d3b93b6e0e5",
    "execution": {
     "iopub.execute_input": "2023-11-14T15:00:52.986782Z",
     "iopub.status.busy": "2023-11-14T15:00:52.986115Z",
     "iopub.status.idle": "2023-11-14T15:00:55.436746Z",
     "shell.execute_reply": "2023-11-14T15:00:55.435153Z"
    },
    "papermill": {
     "duration": 2.466886,
     "end_time": "2023-11-14T15:00:55.440345",
     "exception": false,
     "start_time": "2023-11-14T15:00:52.973459",
     "status": "completed"
    },
    "tags": []
   },
   "outputs": [],
   "source": [
    "import gc\n",
    "import pandas as pd\n",
    "pd.set_option('display.max_columns', None)\n",
    "\n",
    "from sklearn.metrics import median_absolute_error\n",
    "from sklearn.model_selection import KFold\n",
    "from sklearn.ensemble import ExtraTreesRegressor\n",
    "\n",
    "SEED = 55"
   ]
  },
  {
   "cell_type": "code",
   "execution_count": 2,
   "id": "783c1172",
   "metadata": {
    "execution": {
     "iopub.execute_input": "2023-11-14T15:00:55.465633Z",
     "iopub.status.busy": "2023-11-14T15:00:55.464734Z",
     "iopub.status.idle": "2023-11-14T15:00:55.595414Z",
     "shell.execute_reply": "2023-11-14T15:00:55.593775Z"
    },
    "papermill": {
     "duration": 0.147731,
     "end_time": "2023-11-14T15:00:55.599231",
     "exception": false,
     "start_time": "2023-11-14T15:00:55.451500",
     "status": "completed"
    },
    "tags": []
   },
   "outputs": [],
   "source": [
    "DATA_DIR = '/kaggle/input/playground-series-s3e25'\n",
    "train = pd.read_csv(f'{DATA_DIR}/train.csv')\n",
    "test = pd.read_csv(f'{DATA_DIR}/test.csv')\n",
    "sample_sub = pd.read_csv(f'{DATA_DIR}/sample_submission.csv')\n",
    "\n",
    "original_train = pd.read_csv(f'/kaggle/input/prediction-of-mohs-hardness-with-machine-learning/jm79zfps6b-1/Mineral_Dataset_Supplementary_Info.csv')\n",
    "original_val = pd.read_csv(f'/kaggle/input/prediction-of-mohs-hardness-with-machine-learning/jm79zfps6b-1/Artificial_Crystals_Dataset.csv')"
   ]
  },
  {
   "cell_type": "markdown",
   "id": "d1186b08",
   "metadata": {
    "papermill": {
     "duration": 0.010366,
     "end_time": "2023-11-14T15:00:55.620583",
     "exception": false,
     "start_time": "2023-11-14T15:00:55.610217",
     "status": "completed"
    },
    "tags": []
   },
   "source": [
    "# Data overview"
   ]
  },
  {
   "cell_type": "code",
   "execution_count": 3,
   "id": "211919d6",
   "metadata": {
    "execution": {
     "iopub.execute_input": "2023-11-14T15:00:55.644943Z",
     "iopub.status.busy": "2023-11-14T15:00:55.644427Z",
     "iopub.status.idle": "2023-11-14T15:00:55.683677Z",
     "shell.execute_reply": "2023-11-14T15:00:55.682687Z"
    },
    "papermill": {
     "duration": 0.054572,
     "end_time": "2023-11-14T15:00:55.686271",
     "exception": false,
     "start_time": "2023-11-14T15:00:55.631699",
     "status": "completed"
    },
    "tags": []
   },
   "outputs": [
    {
     "data": {
      "text/html": [
       "<div>\n",
       "<style scoped>\n",
       "    .dataframe tbody tr th:only-of-type {\n",
       "        vertical-align: middle;\n",
       "    }\n",
       "\n",
       "    .dataframe tbody tr th {\n",
       "        vertical-align: top;\n",
       "    }\n",
       "\n",
       "    .dataframe thead th {\n",
       "        text-align: right;\n",
       "    }\n",
       "</style>\n",
       "<table border=\"1\" class=\"dataframe\">\n",
       "  <thead>\n",
       "    <tr style=\"text-align: right;\">\n",
       "      <th></th>\n",
       "      <th>id</th>\n",
       "      <th>allelectrons_Total</th>\n",
       "      <th>density_Total</th>\n",
       "      <th>allelectrons_Average</th>\n",
       "      <th>val_e_Average</th>\n",
       "      <th>atomicweight_Average</th>\n",
       "      <th>ionenergy_Average</th>\n",
       "      <th>el_neg_chi_Average</th>\n",
       "      <th>R_vdw_element_Average</th>\n",
       "      <th>R_cov_element_Average</th>\n",
       "      <th>zaratio_Average</th>\n",
       "      <th>density_Average</th>\n",
       "      <th>Hardness</th>\n",
       "    </tr>\n",
       "  </thead>\n",
       "  <tbody>\n",
       "    <tr>\n",
       "      <th>6232</th>\n",
       "      <td>6232</td>\n",
       "      <td>106.0</td>\n",
       "      <td>8.337992</td>\n",
       "      <td>10.4</td>\n",
       "      <td>4.8</td>\n",
       "      <td>21.989312</td>\n",
       "      <td>11.33044</td>\n",
       "      <td>2.502</td>\n",
       "      <td>1.708</td>\n",
       "      <td>0.944</td>\n",
       "      <td>0.495936</td>\n",
       "      <td>0.82753</td>\n",
       "      <td>6.0</td>\n",
       "    </tr>\n",
       "  </tbody>\n",
       "</table>\n",
       "</div>"
      ],
      "text/plain": [
       "        id  allelectrons_Total  density_Total  allelectrons_Average  \\\n",
       "6232  6232               106.0       8.337992                  10.4   \n",
       "\n",
       "      val_e_Average  atomicweight_Average  ionenergy_Average  \\\n",
       "6232            4.8             21.989312           11.33044   \n",
       "\n",
       "      el_neg_chi_Average  R_vdw_element_Average  R_cov_element_Average  \\\n",
       "6232               2.502                  1.708                  0.944   \n",
       "\n",
       "      zaratio_Average  density_Average  Hardness  \n",
       "6232         0.495936          0.82753       6.0  "
      ]
     },
     "execution_count": 3,
     "metadata": {},
     "output_type": "execute_result"
    }
   ],
   "source": [
    "train.sample(random_state=SEED)"
   ]
  },
  {
   "cell_type": "code",
   "execution_count": 4,
   "id": "997218b5",
   "metadata": {
    "execution": {
     "iopub.execute_input": "2023-11-14T15:00:55.711488Z",
     "iopub.status.busy": "2023-11-14T15:00:55.710194Z",
     "iopub.status.idle": "2023-11-14T15:00:55.731801Z",
     "shell.execute_reply": "2023-11-14T15:00:55.730464Z"
    },
    "papermill": {
     "duration": 0.037817,
     "end_time": "2023-11-14T15:00:55.734969",
     "exception": false,
     "start_time": "2023-11-14T15:00:55.697152",
     "status": "completed"
    },
    "tags": []
   },
   "outputs": [
    {
     "data": {
      "text/html": [
       "<div>\n",
       "<style scoped>\n",
       "    .dataframe tbody tr th:only-of-type {\n",
       "        vertical-align: middle;\n",
       "    }\n",
       "\n",
       "    .dataframe tbody tr th {\n",
       "        vertical-align: top;\n",
       "    }\n",
       "\n",
       "    .dataframe thead th {\n",
       "        text-align: right;\n",
       "    }\n",
       "</style>\n",
       "<table border=\"1\" class=\"dataframe\">\n",
       "  <thead>\n",
       "    <tr style=\"text-align: right;\">\n",
       "      <th></th>\n",
       "      <th>id</th>\n",
       "      <th>allelectrons_Total</th>\n",
       "      <th>density_Total</th>\n",
       "      <th>allelectrons_Average</th>\n",
       "      <th>val_e_Average</th>\n",
       "      <th>atomicweight_Average</th>\n",
       "      <th>ionenergy_Average</th>\n",
       "      <th>el_neg_chi_Average</th>\n",
       "      <th>R_vdw_element_Average</th>\n",
       "      <th>R_cov_element_Average</th>\n",
       "      <th>zaratio_Average</th>\n",
       "      <th>density_Average</th>\n",
       "    </tr>\n",
       "  </thead>\n",
       "  <tbody>\n",
       "    <tr>\n",
       "      <th>1805</th>\n",
       "      <td>12212</td>\n",
       "      <td>50.0</td>\n",
       "      <td>3.253996</td>\n",
       "      <td>10.0</td>\n",
       "      <td>4.8</td>\n",
       "      <td>20.016938</td>\n",
       "      <td>11.64556</td>\n",
       "      <td>2.774</td>\n",
       "      <td>1.714</td>\n",
       "      <td>0.882</td>\n",
       "      <td>0.499726</td>\n",
       "      <td>0.77105</td>\n",
       "    </tr>\n",
       "  </tbody>\n",
       "</table>\n",
       "</div>"
      ],
      "text/plain": [
       "         id  allelectrons_Total  density_Total  allelectrons_Average  \\\n",
       "1805  12212                50.0       3.253996                  10.0   \n",
       "\n",
       "      val_e_Average  atomicweight_Average  ionenergy_Average  \\\n",
       "1805            4.8             20.016938           11.64556   \n",
       "\n",
       "      el_neg_chi_Average  R_vdw_element_Average  R_cov_element_Average  \\\n",
       "1805               2.774                  1.714                  0.882   \n",
       "\n",
       "      zaratio_Average  density_Average  \n",
       "1805         0.499726          0.77105  "
      ]
     },
     "execution_count": 4,
     "metadata": {},
     "output_type": "execute_result"
    }
   ],
   "source": [
    "test.sample(random_state=SEED)"
   ]
  },
  {
   "cell_type": "code",
   "execution_count": 5,
   "id": "1ccdc14e",
   "metadata": {
    "execution": {
     "iopub.execute_input": "2023-11-14T15:00:55.761446Z",
     "iopub.status.busy": "2023-11-14T15:00:55.759861Z",
     "iopub.status.idle": "2023-11-14T15:00:55.781622Z",
     "shell.execute_reply": "2023-11-14T15:00:55.780346Z"
    },
    "papermill": {
     "duration": 0.037826,
     "end_time": "2023-11-14T15:00:55.784149",
     "exception": false,
     "start_time": "2023-11-14T15:00:55.746323",
     "status": "completed"
    },
    "tags": []
   },
   "outputs": [
    {
     "data": {
      "text/html": [
       "<div>\n",
       "<style scoped>\n",
       "    .dataframe tbody tr th:only-of-type {\n",
       "        vertical-align: middle;\n",
       "    }\n",
       "\n",
       "    .dataframe tbody tr th {\n",
       "        vertical-align: top;\n",
       "    }\n",
       "\n",
       "    .dataframe thead th {\n",
       "        text-align: right;\n",
       "    }\n",
       "</style>\n",
       "<table border=\"1\" class=\"dataframe\">\n",
       "  <thead>\n",
       "    <tr style=\"text-align: right;\">\n",
       "      <th></th>\n",
       "      <th>Unnamed: 0</th>\n",
       "      <th>Hardness</th>\n",
       "      <th>allelectrons_Total</th>\n",
       "      <th>density_Total</th>\n",
       "      <th>allelectrons_Average</th>\n",
       "      <th>val_e_Average</th>\n",
       "      <th>atomicweight_Average</th>\n",
       "      <th>ionenergy_Average</th>\n",
       "      <th>el_neg_chi_Average</th>\n",
       "      <th>R_vdw_element_Average</th>\n",
       "      <th>R_cov_element_Average</th>\n",
       "      <th>zaratio_Average</th>\n",
       "      <th>density_Average</th>\n",
       "    </tr>\n",
       "  </thead>\n",
       "  <tbody>\n",
       "    <tr>\n",
       "      <th>63</th>\n",
       "      <td>64</td>\n",
       "      <td>2.3</td>\n",
       "      <td>110.0</td>\n",
       "      <td>23.0</td>\n",
       "      <td>36.666667</td>\n",
       "      <td>2.666667</td>\n",
       "      <td>82.598467</td>\n",
       "      <td>8.504133</td>\n",
       "      <td>2.146667</td>\n",
       "      <td>2.006667</td>\n",
       "      <td>1.253333</td>\n",
       "      <td>0.456803</td>\n",
       "      <td>7.666667</td>\n",
       "    </tr>\n",
       "  </tbody>\n",
       "</table>\n",
       "</div>"
      ],
      "text/plain": [
       "    Unnamed: 0  Hardness  allelectrons_Total  density_Total  \\\n",
       "63          64       2.3               110.0           23.0   \n",
       "\n",
       "    allelectrons_Average  val_e_Average  atomicweight_Average  \\\n",
       "63             36.666667       2.666667             82.598467   \n",
       "\n",
       "    ionenergy_Average  el_neg_chi_Average  R_vdw_element_Average  \\\n",
       "63           8.504133            2.146667               2.006667   \n",
       "\n",
       "    R_cov_element_Average  zaratio_Average  density_Average  \n",
       "63               1.253333         0.456803         7.666667  "
      ]
     },
     "execution_count": 5,
     "metadata": {},
     "output_type": "execute_result"
    }
   ],
   "source": [
    "original_train.sample(random_state=SEED)"
   ]
  },
  {
   "cell_type": "code",
   "execution_count": 6,
   "id": "3b11ca2b",
   "metadata": {
    "execution": {
     "iopub.execute_input": "2023-11-14T15:00:55.810037Z",
     "iopub.status.busy": "2023-11-14T15:00:55.809089Z",
     "iopub.status.idle": "2023-11-14T15:00:55.837791Z",
     "shell.execute_reply": "2023-11-14T15:00:55.836247Z"
    },
    "papermill": {
     "duration": 0.04521,
     "end_time": "2023-11-14T15:00:55.840828",
     "exception": false,
     "start_time": "2023-11-14T15:00:55.795618",
     "status": "completed"
    },
    "tags": []
   },
   "outputs": [
    {
     "data": {
      "text/html": [
       "<div>\n",
       "<style scoped>\n",
       "    .dataframe tbody tr th:only-of-type {\n",
       "        vertical-align: middle;\n",
       "    }\n",
       "\n",
       "    .dataframe tbody tr th {\n",
       "        vertical-align: top;\n",
       "    }\n",
       "\n",
       "    .dataframe thead th {\n",
       "        text-align: right;\n",
       "    }\n",
       "</style>\n",
       "<table border=\"1\" class=\"dataframe\">\n",
       "  <thead>\n",
       "    <tr style=\"text-align: right;\">\n",
       "      <th></th>\n",
       "      <th>Unnamed: 0</th>\n",
       "      <th>Formula</th>\n",
       "      <th>Crystal structure</th>\n",
       "      <th>Hardness (Mohs)</th>\n",
       "      <th>allelectrons_Total</th>\n",
       "      <th>density_Total</th>\n",
       "      <th>allelectrons_Average</th>\n",
       "      <th>val_e_Average</th>\n",
       "      <th>atomicweight_Average</th>\n",
       "      <th>ionenergy_Average</th>\n",
       "      <th>el_neg_chi_Average</th>\n",
       "      <th>R_vdw_element_Average</th>\n",
       "      <th>R_cov_element_Average</th>\n",
       "      <th>zaratio_Average</th>\n",
       "      <th>density_Average</th>\n",
       "    </tr>\n",
       "  </thead>\n",
       "  <tbody>\n",
       "    <tr>\n",
       "      <th>6</th>\n",
       "      <td>6</td>\n",
       "      <td>BiB3O6</td>\n",
       "      <td>monoclinic</td>\n",
       "      <td>5.75</td>\n",
       "      <td>146.0</td>\n",
       "      <td>16.864992</td>\n",
       "      <td>14.6</td>\n",
       "      <td>5.0</td>\n",
       "      <td>33.739258</td>\n",
       "      <td>11.38881</td>\n",
       "      <td>2.866</td>\n",
       "      <td>1.695</td>\n",
       "      <td>0.786</td>\n",
       "      <td>0.478464</td>\n",
       "      <td>1.686499</td>\n",
       "    </tr>\n",
       "  </tbody>\n",
       "</table>\n",
       "</div>"
      ],
      "text/plain": [
       "   Unnamed: 0 Formula Crystal structure  Hardness (Mohs)  allelectrons_Total  \\\n",
       "6           6  BiB3O6        monoclinic             5.75               146.0   \n",
       "\n",
       "   density_Total  allelectrons_Average  val_e_Average  atomicweight_Average  \\\n",
       "6      16.864992                  14.6            5.0             33.739258   \n",
       "\n",
       "   ionenergy_Average  el_neg_chi_Average  R_vdw_element_Average  \\\n",
       "6           11.38881               2.866                  1.695   \n",
       "\n",
       "   R_cov_element_Average  zaratio_Average  density_Average  \n",
       "6                  0.786         0.478464         1.686499  "
      ]
     },
     "execution_count": 6,
     "metadata": {},
     "output_type": "execute_result"
    }
   ],
   "source": [
    "original_val.sample(random_state=SEED)"
   ]
  },
  {
   "cell_type": "code",
   "execution_count": 7,
   "id": "886b70a8",
   "metadata": {
    "execution": {
     "iopub.execute_input": "2023-11-14T15:00:55.869640Z",
     "iopub.status.busy": "2023-11-14T15:00:55.868237Z",
     "iopub.status.idle": "2023-11-14T15:00:55.900748Z",
     "shell.execute_reply": "2023-11-14T15:00:55.899223Z"
    },
    "papermill": {
     "duration": 0.050765,
     "end_time": "2023-11-14T15:00:55.904648",
     "exception": false,
     "start_time": "2023-11-14T15:00:55.853883",
     "status": "completed"
    },
    "tags": []
   },
   "outputs": [
    {
     "name": "stdout",
     "output_type": "stream",
     "text": [
      "<class 'pandas.core.frame.DataFrame'>\n",
      "RangeIndex: 10407 entries, 0 to 10406\n",
      "Data columns (total 13 columns):\n",
      " #   Column                 Non-Null Count  Dtype  \n",
      "---  ------                 --------------  -----  \n",
      " 0   id                     10407 non-null  int64  \n",
      " 1   allelectrons_Total     10407 non-null  float64\n",
      " 2   density_Total          10407 non-null  float64\n",
      " 3   allelectrons_Average   10407 non-null  float64\n",
      " 4   val_e_Average          10407 non-null  float64\n",
      " 5   atomicweight_Average   10407 non-null  float64\n",
      " 6   ionenergy_Average      10407 non-null  float64\n",
      " 7   el_neg_chi_Average     10407 non-null  float64\n",
      " 8   R_vdw_element_Average  10407 non-null  float64\n",
      " 9   R_cov_element_Average  10407 non-null  float64\n",
      " 10  zaratio_Average        10407 non-null  float64\n",
      " 11  density_Average        10407 non-null  float64\n",
      " 12  Hardness               10407 non-null  float64\n",
      "dtypes: float64(12), int64(1)\n",
      "memory usage: 1.0 MB\n"
     ]
    }
   ],
   "source": [
    "train.info()"
   ]
  },
  {
   "cell_type": "code",
   "execution_count": 8,
   "id": "0062c1bf",
   "metadata": {
    "execution": {
     "iopub.execute_input": "2023-11-14T15:00:55.934116Z",
     "iopub.status.busy": "2023-11-14T15:00:55.932835Z",
     "iopub.status.idle": "2023-11-14T15:00:55.943687Z",
     "shell.execute_reply": "2023-11-14T15:00:55.942178Z"
    },
    "papermill": {
     "duration": 0.029798,
     "end_time": "2023-11-14T15:00:55.947414",
     "exception": false,
     "start_time": "2023-11-14T15:00:55.917616",
     "status": "completed"
    },
    "tags": []
   },
   "outputs": [
    {
     "data": {
      "text/plain": [
       "((622, 13), (52, 15), (10407, 13), (6939, 12), (6939, 2))"
      ]
     },
     "execution_count": 8,
     "metadata": {},
     "output_type": "execute_result"
    }
   ],
   "source": [
    "original_train.shape, original_val.shape, train.shape, test.shape, sample_sub.shape"
   ]
  },
  {
   "cell_type": "markdown",
   "id": "b0eb91d6",
   "metadata": {
    "papermill": {
     "duration": 0.011936,
     "end_time": "2023-11-14T15:00:55.971701",
     "exception": false,
     "start_time": "2023-11-14T15:00:55.959765",
     "status": "completed"
    },
    "tags": []
   },
   "source": [
    "**Missing values**"
   ]
  },
  {
   "cell_type": "code",
   "execution_count": 9,
   "id": "ea6806bf",
   "metadata": {
    "execution": {
     "iopub.execute_input": "2023-11-14T15:00:55.998381Z",
     "iopub.status.busy": "2023-11-14T15:00:55.997794Z",
     "iopub.status.idle": "2023-11-14T15:00:56.013645Z",
     "shell.execute_reply": "2023-11-14T15:00:56.012281Z"
    },
    "papermill": {
     "duration": 0.032918,
     "end_time": "2023-11-14T15:00:56.016599",
     "exception": false,
     "start_time": "2023-11-14T15:00:55.983681",
     "status": "completed"
    },
    "tags": []
   },
   "outputs": [
    {
     "data": {
      "text/plain": [
       "(0, 1, 0, 0)"
      ]
     },
     "execution_count": 9,
     "metadata": {},
     "output_type": "execute_result"
    }
   ],
   "source": [
    "original_train.isna().any().sum(), original_val.isna().any().sum(), train.isna().any().sum(), test.isna().any().sum()"
   ]
  },
  {
   "cell_type": "code",
   "execution_count": 10,
   "id": "46b8cade",
   "metadata": {
    "execution": {
     "iopub.execute_input": "2023-11-14T15:00:56.047223Z",
     "iopub.status.busy": "2023-11-14T15:00:56.045910Z",
     "iopub.status.idle": "2023-11-14T15:00:56.071648Z",
     "shell.execute_reply": "2023-11-14T15:00:56.070188Z"
    },
    "papermill": {
     "duration": 0.044149,
     "end_time": "2023-11-14T15:00:56.074747",
     "exception": false,
     "start_time": "2023-11-14T15:00:56.030598",
     "status": "completed"
    },
    "tags": []
   },
   "outputs": [
    {
     "data": {
      "text/html": [
       "<div>\n",
       "<style scoped>\n",
       "    .dataframe tbody tr th:only-of-type {\n",
       "        vertical-align: middle;\n",
       "    }\n",
       "\n",
       "    .dataframe tbody tr th {\n",
       "        vertical-align: top;\n",
       "    }\n",
       "\n",
       "    .dataframe thead th {\n",
       "        text-align: right;\n",
       "    }\n",
       "</style>\n",
       "<table border=\"1\" class=\"dataframe\">\n",
       "  <thead>\n",
       "    <tr style=\"text-align: right;\">\n",
       "      <th></th>\n",
       "      <th>Unnamed: 0</th>\n",
       "      <th>Formula</th>\n",
       "      <th>Crystal structure</th>\n",
       "      <th>Hardness (Mohs)</th>\n",
       "      <th>allelectrons_Total</th>\n",
       "      <th>density_Total</th>\n",
       "      <th>allelectrons_Average</th>\n",
       "      <th>val_e_Average</th>\n",
       "      <th>atomicweight_Average</th>\n",
       "      <th>ionenergy_Average</th>\n",
       "      <th>el_neg_chi_Average</th>\n",
       "      <th>R_vdw_element_Average</th>\n",
       "      <th>R_cov_element_Average</th>\n",
       "      <th>zaratio_Average</th>\n",
       "      <th>density_Average</th>\n",
       "    </tr>\n",
       "  </thead>\n",
       "  <tbody>\n",
       "    <tr>\n",
       "      <th>15</th>\n",
       "      <td>15</td>\n",
       "      <td>BaWF8</td>\n",
       "      <td>NaN</td>\n",
       "      <td>3.0</td>\n",
       "      <td>202.0</td>\n",
       "      <td>22.81264</td>\n",
       "      <td>20.2</td>\n",
       "      <td>6.0</td>\n",
       "      <td>47.315423</td>\n",
       "      <td>15.24581</td>\n",
       "      <td>3.443</td>\n",
       "      <td>1.662</td>\n",
       "      <td>0.836</td>\n",
       "      <td>0.460005</td>\n",
       "      <td>2.281264</td>\n",
       "    </tr>\n",
       "  </tbody>\n",
       "</table>\n",
       "</div>"
      ],
      "text/plain": [
       "    Unnamed: 0 Formula Crystal structure  Hardness (Mohs)  allelectrons_Total  \\\n",
       "15          15   BaWF8               NaN              3.0               202.0   \n",
       "\n",
       "    density_Total  allelectrons_Average  val_e_Average  atomicweight_Average  \\\n",
       "15       22.81264                  20.2            6.0             47.315423   \n",
       "\n",
       "    ionenergy_Average  el_neg_chi_Average  R_vdw_element_Average  \\\n",
       "15           15.24581               3.443                  1.662   \n",
       "\n",
       "    R_cov_element_Average  zaratio_Average  density_Average  \n",
       "15                  0.836         0.460005         2.281264  "
      ]
     },
     "execution_count": 10,
     "metadata": {},
     "output_type": "execute_result"
    }
   ],
   "source": [
    "original_val[original_val.isna().any(axis=1)]"
   ]
  },
  {
   "cell_type": "markdown",
   "id": "f79d1962",
   "metadata": {
    "papermill": {
     "duration": 0.012707,
     "end_time": "2023-11-14T15:00:56.100543",
     "exception": false,
     "start_time": "2023-11-14T15:00:56.087836",
     "status": "completed"
    },
    "tags": []
   },
   "source": [
    "We can keep this row since we do not care about crystal structure based on other datasets."
   ]
  },
  {
   "cell_type": "markdown",
   "id": "10a514db",
   "metadata": {
    "papermill": {
     "duration": 0.012246,
     "end_time": "2023-11-14T15:00:56.125594",
     "exception": false,
     "start_time": "2023-11-14T15:00:56.113348",
     "status": "completed"
    },
    "tags": []
   },
   "source": [
    "**Fixing column names and removing irrelevant columns**"
   ]
  },
  {
   "cell_type": "code",
   "execution_count": 11,
   "id": "d27b2d74",
   "metadata": {
    "execution": {
     "iopub.execute_input": "2023-11-14T15:00:56.154999Z",
     "iopub.status.busy": "2023-11-14T15:00:56.153772Z",
     "iopub.status.idle": "2023-11-14T15:00:56.165296Z",
     "shell.execute_reply": "2023-11-14T15:00:56.163197Z"
    },
    "papermill": {
     "duration": 0.031013,
     "end_time": "2023-11-14T15:00:56.169525",
     "exception": false,
     "start_time": "2023-11-14T15:00:56.138512",
     "status": "completed"
    },
    "tags": []
   },
   "outputs": [],
   "source": [
    "original_val.rename({'Hardness (Mohs)': 'Hardness'}, axis=1, inplace=True)"
   ]
  },
  {
   "cell_type": "code",
   "execution_count": 12,
   "id": "8e7ae335",
   "metadata": {
    "execution": {
     "iopub.execute_input": "2023-11-14T15:00:56.200485Z",
     "iopub.status.busy": "2023-11-14T15:00:56.199061Z",
     "iopub.status.idle": "2023-11-14T15:00:56.216362Z",
     "shell.execute_reply": "2023-11-14T15:00:56.214372Z"
    },
    "papermill": {
     "duration": 0.036568,
     "end_time": "2023-11-14T15:00:56.219833",
     "exception": false,
     "start_time": "2023-11-14T15:00:56.183265",
     "status": "completed"
    },
    "tags": []
   },
   "outputs": [],
   "source": [
    "train.drop('id', axis=1, inplace=True)\n",
    "test.drop('id', axis=1, inplace=True)\n",
    "original_train.drop('Unnamed: 0', axis=1, inplace=True)\n",
    "original_val.drop(['Unnamed: 0', 'Formula', 'Crystal structure'], axis=1, inplace=True)"
   ]
  },
  {
   "cell_type": "code",
   "execution_count": 13,
   "id": "94c9c7e2",
   "metadata": {
    "execution": {
     "iopub.execute_input": "2023-11-14T15:00:56.248847Z",
     "iopub.status.busy": "2023-11-14T15:00:56.248220Z",
     "iopub.status.idle": "2023-11-14T15:00:56.259045Z",
     "shell.execute_reply": "2023-11-14T15:00:56.257565Z"
    },
    "papermill": {
     "duration": 0.028782,
     "end_time": "2023-11-14T15:00:56.261770",
     "exception": false,
     "start_time": "2023-11-14T15:00:56.232988",
     "status": "completed"
    },
    "tags": []
   },
   "outputs": [],
   "source": [
    "column_order = list(train.columns)\n",
    "\n",
    "original_train = original_train[column_order]\n",
    "original_val = original_val[column_order]"
   ]
  },
  {
   "cell_type": "markdown",
   "id": "30fa242e",
   "metadata": {
    "papermill": {
     "duration": 0.012018,
     "end_time": "2023-11-14T15:00:56.286739",
     "exception": false,
     "start_time": "2023-11-14T15:00:56.274721",
     "status": "completed"
    },
    "tags": []
   },
   "source": [
    "**Target distribution**"
   ]
  },
  {
   "cell_type": "code",
   "execution_count": 14,
   "id": "69618d74",
   "metadata": {
    "execution": {
     "iopub.execute_input": "2023-11-14T15:00:56.314796Z",
     "iopub.status.busy": "2023-11-14T15:00:56.313738Z",
     "iopub.status.idle": "2023-11-14T15:00:56.346012Z",
     "shell.execute_reply": "2023-11-14T15:00:56.344835Z"
    },
    "papermill": {
     "duration": 0.049348,
     "end_time": "2023-11-14T15:00:56.348517",
     "exception": false,
     "start_time": "2023-11-14T15:00:56.299169",
     "status": "completed"
    },
    "tags": []
   },
   "outputs": [
    {
     "data": {
      "text/html": [
       "<div>\n",
       "<style scoped>\n",
       "    .dataframe tbody tr th:only-of-type {\n",
       "        vertical-align: middle;\n",
       "    }\n",
       "\n",
       "    .dataframe tbody tr th {\n",
       "        vertical-align: top;\n",
       "    }\n",
       "\n",
       "    .dataframe thead th {\n",
       "        text-align: right;\n",
       "    }\n",
       "</style>\n",
       "<table border=\"1\" class=\"dataframe\">\n",
       "  <thead>\n",
       "    <tr style=\"text-align: right;\">\n",
       "      <th></th>\n",
       "      <th>train</th>\n",
       "      <th>original_train</th>\n",
       "      <th>original_val</th>\n",
       "    </tr>\n",
       "  </thead>\n",
       "  <tbody>\n",
       "    <tr>\n",
       "      <th>count</th>\n",
       "      <td>10407.000000</td>\n",
       "      <td>622.000000</td>\n",
       "      <td>52.000000</td>\n",
       "    </tr>\n",
       "    <tr>\n",
       "      <th>mean</th>\n",
       "      <td>4.647126</td>\n",
       "      <td>4.613987</td>\n",
       "      <td>5.448462</td>\n",
       "    </tr>\n",
       "    <tr>\n",
       "      <th>std</th>\n",
       "      <td>1.680525</td>\n",
       "      <td>1.729636</td>\n",
       "      <td>1.523433</td>\n",
       "    </tr>\n",
       "    <tr>\n",
       "      <th>min</th>\n",
       "      <td>1.000000</td>\n",
       "      <td>1.000000</td>\n",
       "      <td>2.500000</td>\n",
       "    </tr>\n",
       "    <tr>\n",
       "      <th>25%</th>\n",
       "      <td>3.000000</td>\n",
       "      <td>3.000000</td>\n",
       "      <td>4.500000</td>\n",
       "    </tr>\n",
       "    <tr>\n",
       "      <th>50%</th>\n",
       "      <td>5.500000</td>\n",
       "      <td>5.500000</td>\n",
       "      <td>5.500000</td>\n",
       "    </tr>\n",
       "    <tr>\n",
       "      <th>75%</th>\n",
       "      <td>6.000000</td>\n",
       "      <td>5.950000</td>\n",
       "      <td>6.500000</td>\n",
       "    </tr>\n",
       "    <tr>\n",
       "      <th>max</th>\n",
       "      <td>10.000000</td>\n",
       "      <td>10.000000</td>\n",
       "      <td>9.000000</td>\n",
       "    </tr>\n",
       "  </tbody>\n",
       "</table>\n",
       "</div>"
      ],
      "text/plain": [
       "              train  original_train  original_val\n",
       "count  10407.000000      622.000000     52.000000\n",
       "mean       4.647126        4.613987      5.448462\n",
       "std        1.680525        1.729636      1.523433\n",
       "min        1.000000        1.000000      2.500000\n",
       "25%        3.000000        3.000000      4.500000\n",
       "50%        5.500000        5.500000      5.500000\n",
       "75%        6.000000        5.950000      6.500000\n",
       "max       10.000000       10.000000      9.000000"
      ]
     },
     "execution_count": 14,
     "metadata": {},
     "output_type": "execute_result"
    }
   ],
   "source": [
    "TARGET = 'Hardness'\n",
    "\n",
    "pd.DataFrame({\n",
    "    'train': train[TARGET], \n",
    "    'original_train': original_train[TARGET], \n",
    "    'original_val': original_val[TARGET]\n",
    "}).describe()"
   ]
  },
  {
   "cell_type": "markdown",
   "id": "5684ea8a",
   "metadata": {
    "papermill": {
     "duration": 0.013198,
     "end_time": "2023-11-14T15:00:56.374350",
     "exception": false,
     "start_time": "2023-11-14T15:00:56.361152",
     "status": "completed"
    },
    "tags": []
   },
   "source": [
    "**Combining original train and validation datasets**"
   ]
  },
  {
   "cell_type": "code",
   "execution_count": 15,
   "id": "2bebf540",
   "metadata": {
    "execution": {
     "iopub.execute_input": "2023-11-14T15:00:56.402608Z",
     "iopub.status.busy": "2023-11-14T15:00:56.402014Z",
     "iopub.status.idle": "2023-11-14T15:00:56.409635Z",
     "shell.execute_reply": "2023-11-14T15:00:56.408208Z"
    },
    "papermill": {
     "duration": 0.024802,
     "end_time": "2023-11-14T15:00:56.412352",
     "exception": false,
     "start_time": "2023-11-14T15:00:56.387550",
     "status": "completed"
    },
    "tags": []
   },
   "outputs": [],
   "source": [
    "original = pd.concat([original_train, original_val], axis=0, ignore_index=True)"
   ]
  },
  {
   "cell_type": "code",
   "execution_count": 16,
   "id": "116fe2f7",
   "metadata": {
    "execution": {
     "iopub.execute_input": "2023-11-14T15:00:56.442175Z",
     "iopub.status.busy": "2023-11-14T15:00:56.441104Z",
     "iopub.status.idle": "2023-11-14T15:00:56.449238Z",
     "shell.execute_reply": "2023-11-14T15:00:56.448033Z"
    },
    "papermill": {
     "duration": 0.026456,
     "end_time": "2023-11-14T15:00:56.451706",
     "exception": false,
     "start_time": "2023-11-14T15:00:56.425250",
     "status": "completed"
    },
    "tags": []
   },
   "outputs": [
    {
     "data": {
      "text/plain": [
       "(674, 12)"
      ]
     },
     "execution_count": 16,
     "metadata": {},
     "output_type": "execute_result"
    }
   ],
   "source": [
    "original.shape"
   ]
  },
  {
   "cell_type": "markdown",
   "id": "7b74079f",
   "metadata": {
    "papermill": {
     "duration": 0.012837,
     "end_time": "2023-11-14T15:00:56.477179",
     "exception": false,
     "start_time": "2023-11-14T15:00:56.464342",
     "status": "completed"
    },
    "tags": []
   },
   "source": [
    "# Cross-validation framework"
   ]
  },
  {
   "cell_type": "code",
   "execution_count": 17,
   "id": "61f8509b",
   "metadata": {
    "execution": {
     "iopub.execute_input": "2023-11-14T15:00:56.506363Z",
     "iopub.status.busy": "2023-11-14T15:00:56.505510Z",
     "iopub.status.idle": "2023-11-14T15:00:56.512070Z",
     "shell.execute_reply": "2023-11-14T15:00:56.510746Z"
    },
    "papermill": {
     "duration": 0.024748,
     "end_time": "2023-11-14T15:00:56.514719",
     "exception": false,
     "start_time": "2023-11-14T15:00:56.489971",
     "status": "completed"
    },
    "tags": []
   },
   "outputs": [],
   "source": [
    "def eval_metric(y_true, y_pred):\n",
    "    return median_absolute_error(y_true, y_pred)"
   ]
  },
  {
   "cell_type": "code",
   "execution_count": 18,
   "id": "808af3fb",
   "metadata": {
    "execution": {
     "iopub.execute_input": "2023-11-14T15:00:56.543508Z",
     "iopub.status.busy": "2023-11-14T15:00:56.542710Z",
     "iopub.status.idle": "2023-11-14T15:00:56.557020Z",
     "shell.execute_reply": "2023-11-14T15:00:56.555890Z"
    },
    "papermill": {
     "duration": 0.032755,
     "end_time": "2023-11-14T15:00:56.560488",
     "exception": false,
     "start_time": "2023-11-14T15:00:56.527733",
     "status": "completed"
    },
    "tags": []
   },
   "outputs": [],
   "source": [
    "def custom_cv(features, model, fit_params=None, folds=7, extend=False, seed=SEED, verbose=True):\n",
    "    oof_preds = {}\n",
    "    test_preds = {}\n",
    "    \n",
    "    X, y = train[features], train[TARGET]\n",
    "    X_test = test[features]\n",
    "    \n",
    "    cv = KFold(n_splits=folds, shuffle=True, random_state=seed)\n",
    "    for fold, (train_ids, val_ids) in enumerate(cv.split(X, y)):\n",
    "        X_train, y_train = X.iloc[train_ids], y.iloc[train_ids]\n",
    "        X_val, y_val = X.iloc[val_ids], y.iloc[val_ids]\n",
    "        if extend: # original dataset added only to training folds\n",
    "            X_train = pd.concat([X_train, original[features]], axis=0, ignore_index=True)\n",
    "            y_train = pd.concat([y_train, original[TARGET]], axis=0, ignore_index=True)\n",
    "        \n",
    "        if fit_params:\n",
    "            model.fit(X_train, y_train, **fit_params) # for models like XGBoost or LightGBM\n",
    "        else:\n",
    "            model.fit(X_train, y_train) # for most sklearn models\n",
    "        \n",
    "        val_preds = model.predict(X_val)\n",
    "        oof_preds.update(dict(zip(val_ids, val_preds)))\n",
    "        test_preds[f'fold{fold}'] = model.predict(X_test)\n",
    "        \n",
    "        if verbose:\n",
    "            score = eval_metric(y_val, val_preds)\n",
    "            print(f'Fold #{fold}: {score:.4f}', end = ' | ')\n",
    "            \n",
    "        _ = gc.collect()\n",
    "        \n",
    "    test_preds = pd.DataFrame.from_dict(test_preds)\n",
    "    test_preds['mean'] = test_preds.mean(axis=1) # mean of fold-wise predictions\n",
    "    oof_preds = pd.Series(oof_preds).sort_index()\n",
    "    print(f'OOF score: {eval_metric(y, oof_preds):.4f}\\n')\n",
    "    \n",
    "    return oof_preds, test_preds"
   ]
  },
  {
   "cell_type": "code",
   "execution_count": 19,
   "id": "02e60098",
   "metadata": {
    "execution": {
     "iopub.execute_input": "2023-11-14T15:00:56.590334Z",
     "iopub.status.busy": "2023-11-14T15:00:56.589310Z",
     "iopub.status.idle": "2023-11-14T15:00:56.596328Z",
     "shell.execute_reply": "2023-11-14T15:00:56.595249Z"
    },
    "papermill": {
     "duration": 0.025567,
     "end_time": "2023-11-14T15:00:56.599524",
     "exception": false,
     "start_time": "2023-11-14T15:00:56.573957",
     "status": "completed"
    },
    "tags": []
   },
   "outputs": [],
   "source": [
    "model = ExtraTreesRegressor(\n",
    "    n_estimators=250,\n",
    "    max_depth=12,\n",
    "    max_features=None,\n",
    "    n_jobs = 4,\n",
    "    random_state=SEED)\n",
    "\n",
    "features = test.columns"
   ]
  },
  {
   "cell_type": "code",
   "execution_count": 20,
   "id": "5038c2e3",
   "metadata": {
    "execution": {
     "iopub.execute_input": "2023-11-14T15:00:56.629020Z",
     "iopub.status.busy": "2023-11-14T15:00:56.628274Z",
     "iopub.status.idle": "2023-11-14T15:01:08.820055Z",
     "shell.execute_reply": "2023-11-14T15:01:08.817113Z"
    },
    "papermill": {
     "duration": 12.210542,
     "end_time": "2023-11-14T15:01:08.823411",
     "exception": false,
     "start_time": "2023-11-14T15:00:56.612869",
     "status": "completed"
    },
    "tags": []
   },
   "outputs": [
    {
     "name": "stdout",
     "output_type": "stream",
     "text": [
      "Fold #0: 0.7319 | Fold #1: 0.6764 | Fold #2: 0.6463 | Fold #3: 0.6457 | Fold #4: 0.6415 | Fold #5: 0.7548 | Fold #6: 0.7277 | OOF score: 0.6883\n",
      "\n",
      "CPU times: user 30.6 s, sys: 786 ms, total: 31.4 s\n",
      "Wall time: 12.2 s\n"
     ]
    }
   ],
   "source": [
    "%%time\n",
    "oof_preds_trn, test_preds_trn = custom_cv(features, model)"
   ]
  },
  {
   "cell_type": "code",
   "execution_count": 21,
   "id": "e10c2a91",
   "metadata": {
    "execution": {
     "iopub.execute_input": "2023-11-14T15:01:08.854064Z",
     "iopub.status.busy": "2023-11-14T15:01:08.853456Z",
     "iopub.status.idle": "2023-11-14T15:01:21.959366Z",
     "shell.execute_reply": "2023-11-14T15:01:21.957747Z"
    },
    "papermill": {
     "duration": 13.125346,
     "end_time": "2023-11-14T15:01:21.962976",
     "exception": false,
     "start_time": "2023-11-14T15:01:08.837630",
     "status": "completed"
    },
    "tags": []
   },
   "outputs": [
    {
     "name": "stdout",
     "output_type": "stream",
     "text": [
      "Fold #0: 0.7171 | Fold #1: 0.6738 | Fold #2: 0.6497 | Fold #3: 0.6494 | Fold #4: 0.6401 | Fold #5: 0.7487 | Fold #6: 0.7159 | OOF score: 0.6785\n",
      "\n",
      "CPU times: user 32.8 s, sys: 724 ms, total: 33.6 s\n",
      "Wall time: 13.1 s\n"
     ]
    }
   ],
   "source": [
    "%%time\n",
    "oof_preds_ext, test_preds_ext = custom_cv(features, model, extend=True)"
   ]
  },
  {
   "cell_type": "markdown",
   "id": "bd1af79c",
   "metadata": {
    "papermill": {
     "duration": 0.013824,
     "end_time": "2023-11-14T15:01:21.991564",
     "exception": false,
     "start_time": "2023-11-14T15:01:21.977740",
     "status": "completed"
    },
    "tags": []
   },
   "source": [
    "# Submission files"
   ]
  },
  {
   "cell_type": "code",
   "execution_count": 22,
   "id": "f13c6c42",
   "metadata": {
    "execution": {
     "iopub.execute_input": "2023-11-14T15:01:22.152958Z",
     "iopub.status.busy": "2023-11-14T15:01:22.152385Z",
     "iopub.status.idle": "2023-11-14T15:01:22.160179Z",
     "shell.execute_reply": "2023-11-14T15:01:22.158722Z"
    },
    "papermill": {
     "duration": 0.026735,
     "end_time": "2023-11-14T15:01:22.162851",
     "exception": false,
     "start_time": "2023-11-14T15:01:22.136116",
     "status": "completed"
    },
    "tags": []
   },
   "outputs": [],
   "source": [
    "def create_submission_files(test_preds, config, notebook='00'):\n",
    "    for col in test_preds.columns:\n",
    "        sub = sample_sub.copy()\n",
    "        sub[TARGET] = test_preds[col].round(4)\n",
    "        sub.to_csv(f'{notebook}_{config}_{col}.csv', index=False)"
   ]
  },
  {
   "cell_type": "code",
   "execution_count": 23,
   "id": "0b95cb33",
   "metadata": {
    "execution": {
     "iopub.execute_input": "2023-11-14T15:01:22.195125Z",
     "iopub.status.busy": "2023-11-14T15:01:22.194393Z",
     "iopub.status.idle": "2023-11-14T15:01:22.611628Z",
     "shell.execute_reply": "2023-11-14T15:01:22.610157Z"
    },
    "papermill": {
     "duration": 0.438551,
     "end_time": "2023-11-14T15:01:22.615895",
     "exception": false,
     "start_time": "2023-11-14T15:01:22.177344",
     "status": "completed"
    },
    "tags": []
   },
   "outputs": [],
   "source": [
    "create_submission_files(test_preds_trn, 'baseline_trn')\n",
    "create_submission_files(test_preds_ext, 'baseline_ext')"
   ]
  },
  {
   "cell_type": "code",
   "execution_count": 24,
   "id": "0710c36b",
   "metadata": {
    "execution": {
     "iopub.execute_input": "2023-11-14T15:01:22.652317Z",
     "iopub.status.busy": "2023-11-14T15:01:22.651588Z",
     "iopub.status.idle": "2023-11-14T15:01:23.761630Z",
     "shell.execute_reply": "2023-11-14T15:01:23.759632Z"
    },
    "papermill": {
     "duration": 1.133575,
     "end_time": "2023-11-14T15:01:23.765488",
     "exception": false,
     "start_time": "2023-11-14T15:01:22.631913",
     "status": "completed"
    },
    "tags": []
   },
   "outputs": [
    {
     "name": "stdout",
     "output_type": "stream",
     "text": [
      "id,Hardness\r\n",
      "10407,2.65\r\n",
      "10408,2.9092\r\n",
      "10409,5.6402\r\n",
      "10410,4.7828\r\n",
      "10411,5.2723\r\n",
      "10412,4.7614\r\n",
      "10413,3.7718\r\n",
      "10414,5.4142\r\n",
      "10415,3.3939\r\n"
     ]
    }
   ],
   "source": [
    "!head 00_baseline_trn_mean.csv"
   ]
  },
  {
   "cell_type": "markdown",
   "id": "b994bbb7",
   "metadata": {
    "papermill": {
     "duration": 0.015105,
     "end_time": "2023-11-14T15:01:23.795477",
     "exception": false,
     "start_time": "2023-11-14T15:01:23.780372",
     "status": "completed"
    },
    "tags": []
   },
   "source": [
    "**Time to submit!**"
   ]
  }
 ],
 "metadata": {
  "kernelspec": {
   "display_name": "Python 3",
   "language": "python",
   "name": "python3"
  },
  "language_info": {
   "codemirror_mode": {
    "name": "ipython",
    "version": 3
   },
   "file_extension": ".py",
   "mimetype": "text/x-python",
   "name": "python",
   "nbconvert_exporter": "python",
   "pygments_lexer": "ipython3",
   "version": "3.10.12"
  },
  "papermill": {
   "default_parameters": {},
   "duration": 36.333304,
   "end_time": "2023-11-14T15:01:25.141241",
   "environment_variables": {},
   "exception": null,
   "input_path": "__notebook__.ipynb",
   "output_path": "__notebook__.ipynb",
   "parameters": {},
   "start_time": "2023-11-14T15:00:48.807937",
   "version": "2.4.0"
  }
 },
 "nbformat": 4,
 "nbformat_minor": 5
}
