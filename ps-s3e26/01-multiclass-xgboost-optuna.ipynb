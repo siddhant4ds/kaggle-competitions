{
 "cells": [
  {
   "cell_type": "markdown",
   "id": "9dc4da5e",
   "metadata": {
    "papermill": {
     "duration": 0.010813,
     "end_time": "2024-01-05T05:16:19.377348",
     "exception": false,
     "start_time": "2024-01-05T05:16:19.366535",
     "status": "completed"
    },
    "tags": []
   },
   "source": [
    "# Setup"
   ]
  },
  {
   "cell_type": "code",
   "execution_count": 1,
   "id": "d29e9963",
   "metadata": {
    "_cell_guid": "b1076dfc-b9ad-4769-8c92-a6c4dae69d19",
    "_kg_hide-input": true,
    "_uuid": "8f2839f25d086af736a60e9eeb907d3b93b6e0e5",
    "execution": {
     "iopub.execute_input": "2024-01-05T05:16:19.400709Z",
     "iopub.status.busy": "2024-01-05T05:16:19.400311Z",
     "iopub.status.idle": "2024-01-05T05:16:22.145755Z",
     "shell.execute_reply": "2024-01-05T05:16:22.144779Z"
    },
    "papermill": {
     "duration": 2.760419,
     "end_time": "2024-01-05T05:16:22.148134",
     "exception": false,
     "start_time": "2024-01-05T05:16:19.387715",
     "status": "completed"
    },
    "tags": []
   },
   "outputs": [],
   "source": [
    "import gc\n",
    "import time\n",
    "import warnings\n",
    "import subprocess\n",
    "\n",
    "gc.enable()\n",
    "warnings.filterwarnings('ignore')\n",
    "\n",
    "import numpy as np\n",
    "import pandas as pd\n",
    "\n",
    "pd.set_option('display.max_columns', None)\n",
    "\n",
    "from sklearn.metrics import log_loss\n",
    "from sklearn.model_selection import StratifiedKFold\n",
    "\n",
    "import xgboost as xgb\n",
    "import optuna\n",
    "\n",
    "SEED = 55"
   ]
  },
  {
   "cell_type": "code",
   "execution_count": 2,
   "id": "ee2394c8",
   "metadata": {
    "_kg_hide-input": true,
    "execution": {
     "iopub.execute_input": "2024-01-05T05:16:22.170639Z",
     "iopub.status.busy": "2024-01-05T05:16:22.170218Z",
     "iopub.status.idle": "2024-01-05T05:16:22.174401Z",
     "shell.execute_reply": "2024-01-05T05:16:22.173588Z"
    },
    "papermill": {
     "duration": 0.017323,
     "end_time": "2024-01-05T05:16:22.176319",
     "exception": false,
     "start_time": "2024-01-05T05:16:22.158996",
     "status": "completed"
    },
    "tags": []
   },
   "outputs": [],
   "source": [
    "assert xgb.__version__ == '2.0.2', 'XGBoost version differs from original notebook.' "
   ]
  },
  {
   "cell_type": "code",
   "execution_count": 3,
   "id": "8c779e2b",
   "metadata": {
    "_kg_hide-input": true,
    "execution": {
     "iopub.execute_input": "2024-01-05T05:16:22.198529Z",
     "iopub.status.busy": "2024-01-05T05:16:22.197669Z",
     "iopub.status.idle": "2024-01-05T05:16:22.246933Z",
     "shell.execute_reply": "2024-01-05T05:16:22.246071Z"
    },
    "papermill": {
     "duration": 0.062417,
     "end_time": "2024-01-05T05:16:22.249000",
     "exception": false,
     "start_time": "2024-01-05T05:16:22.186583",
     "status": "completed"
    },
    "tags": []
   },
   "outputs": [
    {
     "name": "stdout",
     "output_type": "stream",
     "text": [
      "Available device: cuda\n"
     ]
    }
   ],
   "source": [
    "#Check GPU availability\n",
    "try:\n",
    "    subprocess.check_output('nvidia-smi')\n",
    "    DEVICE = 'cuda'\n",
    "except Exception:\n",
    "    DEVICE = 'cpu'\n",
    "\n",
    "print(f'Available device: {DEVICE}')"
   ]
  },
  {
   "cell_type": "markdown",
   "id": "d78d3827",
   "metadata": {
    "papermill": {
     "duration": 0.010855,
     "end_time": "2024-01-05T05:16:22.270582",
     "exception": false,
     "start_time": "2024-01-05T05:16:22.259727",
     "status": "completed"
    },
    "tags": []
   },
   "source": [
    "# Data preparation"
   ]
  },
  {
   "cell_type": "code",
   "execution_count": 4,
   "id": "514e6bb2",
   "metadata": {
    "execution": {
     "iopub.execute_input": "2024-01-05T05:16:22.292390Z",
     "iopub.status.busy": "2024-01-05T05:16:22.292103Z",
     "iopub.status.idle": "2024-01-05T05:16:22.381171Z",
     "shell.execute_reply": "2024-01-05T05:16:22.380394Z"
    },
    "papermill": {
     "duration": 0.1024,
     "end_time": "2024-01-05T05:16:22.383299",
     "exception": false,
     "start_time": "2024-01-05T05:16:22.280899",
     "status": "completed"
    },
    "tags": []
   },
   "outputs": [],
   "source": [
    "DATA_DIR = '/kaggle/input/playground-series-s3e26'\n",
    "train = pd.read_csv(f'{DATA_DIR}/train.csv')\n",
    "test = pd.read_csv(f'{DATA_DIR}/test.csv')\n",
    "sample_sub = pd.read_csv(f'{DATA_DIR}/sample_submission.csv')\n",
    "\n",
    "original = pd.read_csv('/kaggle/input/cirrhosis-patient-survival-prediction/cirrhosis.csv')"
   ]
  },
  {
   "cell_type": "markdown",
   "id": "4f28f995",
   "metadata": {
    "papermill": {
     "duration": 0.01014,
     "end_time": "2024-01-05T05:16:22.404556",
     "exception": false,
     "start_time": "2024-01-05T05:16:22.394416",
     "status": "completed"
    },
    "tags": []
   },
   "source": [
    "### Reference: [EDA + Linear Model](https://www.kaggle.com/code/sid4ds/ps-s3e26-eda-linear-model)"
   ]
  },
  {
   "cell_type": "code",
   "execution_count": 5,
   "id": "f08c7f32",
   "metadata": {
    "execution": {
     "iopub.execute_input": "2024-01-05T05:16:22.427640Z",
     "iopub.status.busy": "2024-01-05T05:16:22.427273Z",
     "iopub.status.idle": "2024-01-05T05:16:22.437437Z",
     "shell.execute_reply": "2024-01-05T05:16:22.436626Z"
    },
    "papermill": {
     "duration": 0.0233,
     "end_time": "2024-01-05T05:16:22.439212",
     "exception": false,
     "start_time": "2024-01-05T05:16:22.415912",
     "status": "completed"
    },
    "tags": []
   },
   "outputs": [],
   "source": [
    "# trial-specific portion of original data\n",
    "trial = original.loc[~original.Drug.isna()].reset_index(drop=True)"
   ]
  },
  {
   "cell_type": "code",
   "execution_count": 6,
   "id": "6d9f1062",
   "metadata": {
    "execution": {
     "iopub.execute_input": "2024-01-05T05:16:22.460852Z",
     "iopub.status.busy": "2024-01-05T05:16:22.460584Z",
     "iopub.status.idle": "2024-01-05T05:16:22.467726Z",
     "shell.execute_reply": "2024-01-05T05:16:22.467003Z"
    },
    "papermill": {
     "duration": 0.020121,
     "end_time": "2024-01-05T05:16:22.469525",
     "exception": false,
     "start_time": "2024-01-05T05:16:22.449404",
     "status": "completed"
    },
    "tags": []
   },
   "outputs": [],
   "source": [
    "original['Drug'] = original['Drug'].fillna('Non_trial')"
   ]
  },
  {
   "cell_type": "markdown",
   "id": "b083b1d7",
   "metadata": {
    "papermill": {
     "duration": 0.01117,
     "end_time": "2024-01-05T05:16:22.490863",
     "exception": false,
     "start_time": "2024-01-05T05:16:22.479693",
     "status": "completed"
    },
    "tags": []
   },
   "source": [
    "**Engineered features:**"
   ]
  },
  {
   "cell_type": "code",
   "execution_count": 7,
   "id": "5273424a",
   "metadata": {
    "execution": {
     "iopub.execute_input": "2024-01-05T05:16:22.512624Z",
     "iopub.status.busy": "2024-01-05T05:16:22.512367Z",
     "iopub.status.idle": "2024-01-05T05:16:22.556831Z",
     "shell.execute_reply": "2024-01-05T05:16:22.556151Z"
    },
    "papermill": {
     "duration": 0.057514,
     "end_time": "2024-01-05T05:16:22.558651",
     "exception": false,
     "start_time": "2024-01-05T05:16:22.501137",
     "status": "completed"
    },
    "tags": []
   },
   "outputs": [],
   "source": [
    "def create_cat(df):\n",
    "    df['N_Days_cat'] = (df['N_Days'] < 1000).astype('category')\n",
    "    df['Age_cat'] = (df['Age'] > 22000).astype('category')\n",
    "    df['Bilirubin_cat'] = (df['Bilirubin'] > 2).astype('category')\n",
    "    df['Cholesterol_cat'] = (df['Cholesterol'] > 400).astype('category')\n",
    "    df['Albumin_cat'] = (df['Albumin'] < 3.2).astype('category')\n",
    "    df['Copper_cat'] = (df['Copper'] > 90).astype('category')\n",
    "    df['Alk_Phos_cat'] = (df['Alk_Phos'] > 2000).astype('category')\n",
    "    df['SGOT_cat'] = (df['SGOT'] > 130).astype('category')\n",
    "    df['Tryglicerides_cat'] = (df['Tryglicerides'] > 150).astype('category')\n",
    "    df['Platelets_cat'] = (df['Platelets'] < 175).astype('category')\n",
    "    df['Prothrombin_cat'] = (df['Prothrombin'] > 11).astype('category')\n",
    "    return df\n",
    "\n",
    "\n",
    "train = create_cat(train.copy())\n",
    "test = create_cat(test.copy())\n",
    "original = create_cat(original.copy())\n",
    "trial = create_cat(trial.copy())"
   ]
  },
  {
   "cell_type": "markdown",
   "id": "ea767c9e",
   "metadata": {
    "papermill": {
     "duration": 0.010112,
     "end_time": "2024-01-05T05:16:22.579216",
     "exception": false,
     "start_time": "2024-01-05T05:16:22.569104",
     "status": "completed"
    },
    "tags": []
   },
   "source": [
    "**Encoding categorical columns:**"
   ]
  },
  {
   "cell_type": "code",
   "execution_count": 8,
   "id": "03862d5c",
   "metadata": {
    "execution": {
     "iopub.execute_input": "2024-01-05T05:16:22.600819Z",
     "iopub.status.busy": "2024-01-05T05:16:22.600563Z",
     "iopub.status.idle": "2024-01-05T05:16:22.685241Z",
     "shell.execute_reply": "2024-01-05T05:16:22.684347Z"
    },
    "papermill": {
     "duration": 0.097856,
     "end_time": "2024-01-05T05:16:22.687261",
     "exception": false,
     "start_time": "2024-01-05T05:16:22.589405",
     "status": "completed"
    },
    "tags": []
   },
   "outputs": [],
   "source": [
    "def encode_cat(df):\n",
    "    df['Drug'] = df['Drug'].replace({'Non_trial': -1, 'Placebo': 0, 'D-penicillamine': 1}) \\\n",
    "                           .astype('category')\n",
    "    df['Sex'] = df['Sex'].replace({'F': 0, 'M': 1}).astype('category')\n",
    "    df['Ascites'] = df['Ascites'].replace({'N': 0, 'Y': 1}).astype('category')\n",
    "    df['Hepatomegaly'] = df['Hepatomegaly'].replace({'N': 0, 'Y': 1}).astype('category')\n",
    "    df['Spiders'] = df['Spiders'].replace({'N': 0, 'Y': 1}).astype('category')\n",
    "    df['Edema'] = df['Edema'].replace({'N': 0, 'S': 1, 'Y': 2}).astype('category')\n",
    "    df['Stage'] = df['Stage'].astype('category')\n",
    "    return df\n",
    "\n",
    "\n",
    "train = encode_cat(train.copy())\n",
    "test = encode_cat(test.copy())\n",
    "original = encode_cat(original.copy())\n",
    "trial = encode_cat(trial.copy())"
   ]
  },
  {
   "cell_type": "markdown",
   "id": "01cbb643",
   "metadata": {
    "papermill": {
     "duration": 0.010082,
     "end_time": "2024-01-05T05:16:22.707721",
     "exception": false,
     "start_time": "2024-01-05T05:16:22.697639",
     "status": "completed"
    },
    "tags": []
   },
   "source": [
    "**Encoding target:**"
   ]
  },
  {
   "cell_type": "code",
   "execution_count": 9,
   "id": "7d8ba23f",
   "metadata": {
    "execution": {
     "iopub.execute_input": "2024-01-05T05:16:22.729377Z",
     "iopub.status.busy": "2024-01-05T05:16:22.729087Z",
     "iopub.status.idle": "2024-01-05T05:16:22.742596Z",
     "shell.execute_reply": "2024-01-05T05:16:22.741741Z"
    },
    "papermill": {
     "duration": 0.026677,
     "end_time": "2024-01-05T05:16:22.744513",
     "exception": false,
     "start_time": "2024-01-05T05:16:22.717836",
     "status": "completed"
    },
    "tags": []
   },
   "outputs": [],
   "source": [
    "TARGET = 'Status'\n",
    "target_mapping = {'C': 0, 'CL': 1, 'D': 2}\n",
    "\n",
    "train[TARGET] = train[TARGET].replace(target_mapping)\n",
    "original[TARGET] = original[TARGET].replace(target_mapping)\n",
    "trial[TARGET] = trial[TARGET].replace(target_mapping)"
   ]
  },
  {
   "cell_type": "markdown",
   "id": "f0b9cbf7",
   "metadata": {
    "papermill": {
     "duration": 0.010046,
     "end_time": "2024-01-05T05:16:22.764738",
     "exception": false,
     "start_time": "2024-01-05T05:16:22.754692",
     "status": "completed"
    },
    "tags": []
   },
   "source": [
    "**Feature sets:**"
   ]
  },
  {
   "cell_type": "code",
   "execution_count": 10,
   "id": "b702900d",
   "metadata": {
    "execution": {
     "iopub.execute_input": "2024-01-05T05:16:22.826630Z",
     "iopub.status.busy": "2024-01-05T05:16:22.826286Z",
     "iopub.status.idle": "2024-01-05T05:16:22.832464Z",
     "shell.execute_reply": "2024-01-05T05:16:22.831643Z"
    },
    "papermill": {
     "duration": 0.059447,
     "end_time": "2024-01-05T05:16:22.834334",
     "exception": false,
     "start_time": "2024-01-05T05:16:22.774887",
     "status": "completed"
    },
    "tags": []
   },
   "outputs": [],
   "source": [
    "base_features = [\n",
    "    'N_Days', 'Drug', 'Age', 'Sex', 'Ascites', 'Hepatomegaly', 'Spiders', \n",
    "    'Edema', 'Bilirubin', 'Cholesterol', 'Albumin', 'Copper', 'Alk_Phos', \n",
    "    'SGOT', 'Tryglicerides', 'Platelets', 'Prothrombin', 'Stage'\n",
    "]\n",
    "\n",
    "cat_features = test.select_dtypes(include='category').columns\n",
    "\n",
    "all_features = test.columns"
   ]
  },
  {
   "cell_type": "markdown",
   "id": "6c175c01",
   "metadata": {
    "papermill": {
     "duration": 0.010467,
     "end_time": "2024-01-05T05:16:22.855510",
     "exception": false,
     "start_time": "2024-01-05T05:16:22.845043",
     "status": "completed"
    },
    "tags": []
   },
   "source": [
    "# Baseline"
   ]
  },
  {
   "cell_type": "code",
   "execution_count": 11,
   "id": "4fd1ae15",
   "metadata": {
    "execution": {
     "iopub.execute_input": "2024-01-05T05:16:22.878374Z",
     "iopub.status.busy": "2024-01-05T05:16:22.877734Z",
     "iopub.status.idle": "2024-01-05T05:16:22.882007Z",
     "shell.execute_reply": "2024-01-05T05:16:22.881143Z"
    },
    "papermill": {
     "duration": 0.017669,
     "end_time": "2024-01-05T05:16:22.884117",
     "exception": false,
     "start_time": "2024-01-05T05:16:22.866448",
     "status": "completed"
    },
    "tags": []
   },
   "outputs": [],
   "source": [
    "# competition metric\n",
    "def comp_metric(y_true, y_pred):\n",
    "    return log_loss(y_true, y_pred)"
   ]
  },
  {
   "cell_type": "code",
   "execution_count": 12,
   "id": "0f497837",
   "metadata": {
    "execution": {
     "iopub.execute_input": "2024-01-05T05:16:22.906297Z",
     "iopub.status.busy": "2024-01-05T05:16:22.905733Z",
     "iopub.status.idle": "2024-01-05T05:16:37.758707Z",
     "shell.execute_reply": "2024-01-05T05:16:37.757745Z"
    },
    "papermill": {
     "duration": 14.866454,
     "end_time": "2024-01-05T05:16:37.760883",
     "exception": false,
     "start_time": "2024-01-05T05:16:22.894429",
     "status": "completed"
    },
    "tags": []
   },
   "outputs": [
    {
     "name": "stdout",
     "output_type": "stream",
     "text": [
      "Fold #0: 0.4413 | Fold #1: 0.4459 | Fold #2: 0.4769 | Fold #3: 0.4617 | Fold #4: 0.4302 | OOF score: 0.4512\n",
      "\n"
     ]
    }
   ],
   "source": [
    "X, y = train[base_features], train[TARGET]\n",
    "oof_preds = {}\n",
    "\n",
    "cv = StratifiedKFold(n_splits=5, shuffle=True, random_state=SEED)\n",
    "for fold, (train_ids, val_ids) in enumerate(cv.split(X, y)):\n",
    "    X_train, y_train = X.iloc[train_ids], y.iloc[train_ids]\n",
    "    X_val, y_val = X.iloc[val_ids], y.iloc[val_ids]\n",
    "    \n",
    "    model = xgb.XGBClassifier(\n",
    "        n_estimators=1000,\n",
    "        learning_rate=0.1,\n",
    "        early_stopping_rounds=100,\n",
    "        objective='multi:softprob',\n",
    "        eval_metric=comp_metric,\n",
    "        booster='gbtree',\n",
    "        tree_method='hist',\n",
    "        device=DEVICE,\n",
    "        enable_categorical=True,\n",
    "        verbosity=0,\n",
    "        n_jobs=-1,\n",
    "        random_state=SEED)\n",
    "    \n",
    "    model.fit(\n",
    "        X_train, y_train,\n",
    "        eval_set=[(X_val, y_val)],\n",
    "        verbose=False)\n",
    "        \n",
    "    val_preds = model.predict_proba(X_val)\n",
    "    oof_preds.update(dict(zip(val_ids, val_preds)))\n",
    "    \n",
    "    score = comp_metric(y_val, val_preds)\n",
    "    print(f'Fold #{fold}: {score:.4f}', end = ' | ')        \n",
    "    _ = gc.collect()\n",
    "    \n",
    "oof_preds = pd.DataFrame.from_dict(oof_preds, orient='index').sort_index()\n",
    "print(f'OOF score: {comp_metric(y, oof_preds):.4f}\\n')"
   ]
  },
  {
   "cell_type": "markdown",
   "id": "1b12de9c",
   "metadata": {
    "papermill": {
     "duration": 0.010876,
     "end_time": "2024-01-05T05:16:37.782999",
     "exception": false,
     "start_time": "2024-01-05T05:16:37.772123",
     "status": "completed"
    },
    "tags": []
   },
   "source": [
    "# Hyperparameter tuning"
   ]
  },
  {
   "cell_type": "code",
   "execution_count": 13,
   "id": "a8289f91",
   "metadata": {
    "execution": {
     "iopub.execute_input": "2024-01-05T05:16:37.805721Z",
     "iopub.status.busy": "2024-01-05T05:16:37.805450Z",
     "iopub.status.idle": "2024-01-05T05:16:37.816902Z",
     "shell.execute_reply": "2024-01-05T05:16:37.816116Z"
    },
    "papermill": {
     "duration": 0.025076,
     "end_time": "2024-01-05T05:16:37.818893",
     "exception": false,
     "start_time": "2024-01-05T05:16:37.793817",
     "status": "completed"
    },
    "tags": []
   },
   "outputs": [],
   "source": [
    "def objective(trial, features, model, extend, folds, seed):\n",
    "    oof_preds = {}\n",
    "    \n",
    "    param_grid = {\n",
    "        'learning_rate': trial.suggest_float('learning_rate', 0.01, 0.1, step=0.01),\n",
    "        'max_depth': trial.suggest_int('max_depth', 3, 12),\n",
    "        'min_child_weight': trial.suggest_int('min_child_weight', 2, 15),\n",
    "        'subsample': trial.suggest_float('subsample', 0.6, 1.0, step=0.05),\n",
    "        'colsample_bytree': trial.suggest_float('colsample_bytree', 0.6, 1.0, step=0.05),\n",
    "        'gamma': trial.suggest_float('gamma', 0, 20, step=0.1), #complexity-control\n",
    "        'alpha': trial.suggest_float('alpha', 0, 5, step=0.1), #L1-reg\n",
    "        'lambda': trial.suggest_float('lambda', 5e-3, 5e3, log=True), #L2-reg\n",
    "        'max_cat_to_onehot': trial.suggest_categorical('max_cat_to_onehot', [2, 3, 4]),\n",
    "        'max_delta_step': trial.suggest_float('max_delta_step', 0, 10, step=0.5),\n",
    "        'grow_policy': trial.suggest_categorical('grow_policy', ['depthwise', 'lossguide'])\n",
    "    }\n",
    "    \n",
    "    cv = StratifiedKFold(n_splits=folds, shuffle=True, random_state=seed)\n",
    "    for fold, (train_ids, val_ids) in enumerate(cv.split(train, train[TARGET])):\n",
    "        X_train, X_val = train.iloc[train_ids], train.iloc[val_ids]\n",
    "        if extend is not None:\n",
    "            X_train = pd.concat([X_train, extend], axis=0) \\\n",
    "                        .drop_duplicates(keep='last', ignore_index=True)\n",
    "        \n",
    "        y_train, y_val = X_train.pop(TARGET), X_val.pop(TARGET)\n",
    "        X_train, X_val = X_train[features], X_val[features]\n",
    "        \n",
    "        model.set_params(**param_grid)\n",
    "        model.fit(\n",
    "            X_train, y_train,\n",
    "            eval_set=[(X_val, y_val)],\n",
    "            verbose=0)\n",
    "        \n",
    "        val_preds = model.predict_proba(X_val)\n",
    "        oof_preds.update(dict(zip(val_ids, val_preds)))\n",
    "        \n",
    "    oof_preds = pd.DataFrame.from_dict(oof_preds, orient='index').sort_index()\n",
    "    return comp_metric(train[TARGET], oof_preds)"
   ]
  },
  {
   "cell_type": "code",
   "execution_count": 14,
   "id": "094f146a",
   "metadata": {
    "execution": {
     "iopub.execute_input": "2024-01-05T05:16:37.841309Z",
     "iopub.status.busy": "2024-01-05T05:16:37.841024Z",
     "iopub.status.idle": "2024-01-05T05:16:37.846680Z",
     "shell.execute_reply": "2024-01-05T05:16:37.845901Z"
    },
    "papermill": {
     "duration": 0.018908,
     "end_time": "2024-01-05T05:16:37.848464",
     "exception": false,
     "start_time": "2024-01-05T05:16:37.829556",
     "status": "completed"
    },
    "tags": []
   },
   "outputs": [],
   "source": [
    "def tune_params(features, model, extend, folds, seed, n_trials, direction):\n",
    "    study = optuna.create_study(\n",
    "        sampler=optuna.samplers.TPESampler(\n",
    "            consider_endpoints=True,\n",
    "            multivariate=True,\n",
    "            group=True,\n",
    "            seed=seed),\n",
    "        pruner=optuna.pruners.HyperbandPruner(),\n",
    "        direction=direction\n",
    "    )\n",
    "    study.optimize(\n",
    "        func=lambda trial: objective(\n",
    "            trial, features, model, extend, folds, seed),\n",
    "        n_trials=n_trials,\n",
    "        gc_after_trial=True\n",
    "    )\n",
    "    return study"
   ]
  },
  {
   "cell_type": "markdown",
   "id": "172f10ff",
   "metadata": {
    "papermill": {
     "duration": 0.010351,
     "end_time": "2024-01-05T05:16:37.869421",
     "exception": false,
     "start_time": "2024-01-05T05:16:37.859070",
     "status": "completed"
    },
    "tags": []
   },
   "source": [
    "# Cross-validation framework"
   ]
  },
  {
   "cell_type": "code",
   "execution_count": 15,
   "id": "7c223b91",
   "metadata": {
    "execution": {
     "iopub.execute_input": "2024-01-05T05:16:37.891711Z",
     "iopub.status.busy": "2024-01-05T05:16:37.891449Z",
     "iopub.status.idle": "2024-01-05T05:16:37.901012Z",
     "shell.execute_reply": "2024-01-05T05:16:37.900168Z"
    },
    "papermill": {
     "duration": 0.022878,
     "end_time": "2024-01-05T05:16:37.902953",
     "exception": false,
     "start_time": "2024-01-05T05:16:37.880075",
     "status": "completed"
    },
    "tags": []
   },
   "outputs": [],
   "source": [
    "def custom_cv(features, model, extend, folds, seed, verbose=True):\n",
    "    oof_preds = {}\n",
    "    test_preds = {}\n",
    "    \n",
    "    X_test = test[features]\n",
    "    \n",
    "    cv = StratifiedKFold(n_splits=folds, shuffle=True, random_state=seed)\n",
    "    for fold, (train_ids, val_ids) in enumerate(cv.split(train, train[TARGET])):\n",
    "        X_train, X_val = train.iloc[train_ids], train.iloc[val_ids]\n",
    "        if extend is not None:\n",
    "            X_train = pd.concat([X_train, extend], axis=0) \\\n",
    "                        .drop_duplicates(keep='last', ignore_index=True)\n",
    "        \n",
    "        y_train, y_val = X_train.pop(TARGET), X_val.pop(TARGET)\n",
    "        X_train, X_val = X_train[features], X_val[features]\n",
    "        \n",
    "        model.fit(\n",
    "            X_train, y_train,\n",
    "            eval_set=[(X_val, y_val)],\n",
    "            verbose=0)\n",
    "        \n",
    "        val_preds = model.predict_proba(X_val)\n",
    "        oof_preds.update(dict(zip(val_ids, val_preds)))\n",
    "        test_preds[f'fold{fold}'] = model.predict_proba(X_test)\n",
    "        \n",
    "        if verbose:\n",
    "            score = comp_metric(y_val, val_preds)\n",
    "            print(f'Fold #{fold}: {score:.5f} ({model.best_iteration} rounds)')\n",
    "            \n",
    "        _ = gc.collect()\n",
    "    \n",
    "    test_preds['mean'] = sum(test_preds.values()) / folds  # mean of fold-wise predictions\n",
    "    oof_preds = pd.DataFrame.from_dict(oof_preds, orient='index').sort_index()\n",
    "    print(f'\\nOOF score: {comp_metric(train[TARGET], oof_preds):.5f}')\n",
    "    \n",
    "    return oof_preds, test_preds"
   ]
  },
  {
   "cell_type": "code",
   "execution_count": 16,
   "id": "cef6123d",
   "metadata": {
    "execution": {
     "iopub.execute_input": "2024-01-05T05:16:37.925241Z",
     "iopub.status.busy": "2024-01-05T05:16:37.925002Z",
     "iopub.status.idle": "2024-01-05T05:16:37.933049Z",
     "shell.execute_reply": "2024-01-05T05:16:37.932250Z"
    },
    "papermill": {
     "duration": 0.021402,
     "end_time": "2024-01-05T05:16:37.934912",
     "exception": false,
     "start_time": "2024-01-05T05:16:37.913510",
     "status": "completed"
    },
    "tags": []
   },
   "outputs": [],
   "source": [
    "def run_experiment(features, extend=None, folds=7, seed=SEED, n_trials=50):\n",
    "    \n",
    "    base_params = {\n",
    "        'booster': 'gbtree',\n",
    "        'tree_method': 'hist',\n",
    "        'objective': 'multi:softprob',\n",
    "        'num_class': 3,\n",
    "        'n_estimators': 5000,\n",
    "        'eval_metric': comp_metric,\n",
    "        'early_stopping_rounds': 100,\n",
    "        'device': DEVICE,\n",
    "        'enable_categorical': True,\n",
    "        'verbosity': 0,\n",
    "        'n_jobs': -1,\n",
    "        'seed': seed\n",
    "    }\n",
    "    model = xgb.XGBClassifier(**base_params)\n",
    "    \n",
    "    print(f'----------Hyperparameter tuning----------')\n",
    "    start = time.time()\n",
    "    \n",
    "    study = tune_params(features, model, extend, folds, seed, n_trials, direction='minimize') \n",
    "    #metric: Logloss -> lower is better\n",
    "    \n",
    "    end = time.time()\n",
    "    \n",
    "    print(f'Best trial: {study.best_trial.number} -> Best value: {study.best_value:.5f}')\n",
    "    print(f'Best hyperparameters:')\n",
    "    for k, v in study.best_params.items():\n",
    "        print(f'{k:15} - {v}')\n",
    "    print(f'\\n[Time taken: {end - start:.2f}s]\\n')\n",
    "    \n",
    "    print(f'-----Cross-validation and prediction-----')\n",
    "    start = time.time()\n",
    "    \n",
    "    model.set_params(**study.best_params)\n",
    "    oof_preds, test_preds = custom_cv(features, model, extend, folds, seed)\n",
    "    \n",
    "    end = time.time()\n",
    "    print(f'\\n[Time taken: {end - start:.2f}s]\\n')\n",
    "    \n",
    "    return oof_preds, test_preds"
   ]
  },
  {
   "cell_type": "code",
   "execution_count": 17,
   "id": "45ce62d0",
   "metadata": {
    "execution": {
     "iopub.execute_input": "2024-01-05T05:16:37.957371Z",
     "iopub.status.busy": "2024-01-05T05:16:37.957131Z",
     "iopub.status.idle": "2024-01-05T05:16:37.962030Z",
     "shell.execute_reply": "2024-01-05T05:16:37.961205Z"
    },
    "papermill": {
     "duration": 0.018153,
     "end_time": "2024-01-05T05:16:37.963806",
     "exception": false,
     "start_time": "2024-01-05T05:16:37.945653",
     "status": "completed"
    },
    "tags": []
   },
   "outputs": [],
   "source": [
    "def create_submission_files(test_preds, config, notebook='01'):\n",
    "    sub = sample_sub.copy()\n",
    "    sub['Status_C'] = test_preds['mean'][:, 0]\n",
    "    sub['Status_CL'] = test_preds['mean'][:, 1]\n",
    "    sub['Status_D'] = test_preds['mean'][:, 2]\n",
    "    sub.to_csv(f'{notebook}_{config}.csv', index=False)"
   ]
  },
  {
   "cell_type": "markdown",
   "id": "1a3ba7ce",
   "metadata": {
    "papermill": {
     "duration": 0.010339,
     "end_time": "2024-01-05T05:16:37.984726",
     "exception": false,
     "start_time": "2024-01-05T05:16:37.974387",
     "status": "completed"
    },
    "tags": []
   },
   "source": [
    "**Trial run:**"
   ]
  },
  {
   "cell_type": "code",
   "execution_count": 18,
   "id": "de11acca",
   "metadata": {
    "execution": {
     "iopub.execute_input": "2024-01-05T05:16:38.007165Z",
     "iopub.status.busy": "2024-01-05T05:16:38.006650Z",
     "iopub.status.idle": "2024-01-05T05:16:38.010595Z",
     "shell.execute_reply": "2024-01-05T05:16:38.009797Z"
    },
    "papermill": {
     "duration": 0.017053,
     "end_time": "2024-01-05T05:16:38.012379",
     "exception": false,
     "start_time": "2024-01-05T05:16:37.995326",
     "status": "completed"
    },
    "tags": []
   },
   "outputs": [],
   "source": [
    "optuna.logging.set_verbosity(optuna.logging.INFO)"
   ]
  },
  {
   "cell_type": "code",
   "execution_count": 19,
   "id": "98feb7ed",
   "metadata": {
    "execution": {
     "iopub.execute_input": "2024-01-05T05:16:38.034691Z",
     "iopub.status.busy": "2024-01-05T05:16:38.034451Z",
     "iopub.status.idle": "2024-01-05T05:20:46.184178Z",
     "shell.execute_reply": "2024-01-05T05:20:46.183228Z"
    },
    "papermill": {
     "duration": 248.163284,
     "end_time": "2024-01-05T05:20:46.186379",
     "exception": false,
     "start_time": "2024-01-05T05:16:38.023095",
     "status": "completed"
    },
    "tags": []
   },
   "outputs": [
    {
     "name": "stderr",
     "output_type": "stream",
     "text": [
      "[I 2024-01-05 05:16:38,036] A new study created in memory with name: no-name-825e5789-0f67-452a-ab18-9038dcbf6d0b\n"
     ]
    },
    {
     "name": "stdout",
     "output_type": "stream",
     "text": [
      "----------Hyperparameter tuning----------\n"
     ]
    },
    {
     "name": "stderr",
     "output_type": "stream",
     "text": [
      "[I 2024-01-05 05:19:28,267] Trial 0 finished with value: 0.46348371170781844 and parameters: {'learning_rate': 0.01, 'max_depth': 12, 'min_child_weight': 8, 'subsample': 0.7, 'colsample_bytree': 0.8, 'gamma': 5.7, 'alpha': 4.3, 'lambda': 0.008822078646927935, 'max_cat_to_onehot': 3, 'max_delta_step': 8.0, 'grow_policy': 'lossguide'}. Best is trial 0 with value: 0.46348371170781844.\n",
      "[I 2024-01-05 05:19:53,661] Trial 1 finished with value: 0.4980331016721894 and parameters: {'learning_rate': 0.09, 'max_depth': 11, 'min_child_weight': 15, 'subsample': 0.8, 'colsample_bytree': 0.75, 'gamma': 17.400000000000002, 'alpha': 2.0, 'lambda': 36.38424097673977, 'max_cat_to_onehot': 3, 'max_delta_step': 5.5, 'grow_policy': 'depthwise'}. Best is trial 0 with value: 0.46348371170781844.\n",
      "[I 2024-01-05 05:20:19,616] Trial 2 finished with value: 0.4398730414827313 and parameters: {'learning_rate': 0.09999999999999999, 'max_depth': 9, 'min_child_weight': 12, 'subsample': 0.95, 'colsample_bytree': 0.75, 'gamma': 0.30000000000000004, 'alpha': 1.8, 'lambda': 0.3298547272191968, 'max_cat_to_onehot': 2, 'max_delta_step': 9.5, 'grow_policy': 'depthwise'}. Best is trial 2 with value: 0.4398730414827313.\n"
     ]
    },
    {
     "name": "stdout",
     "output_type": "stream",
     "text": [
      "Best trial: 2 -> Best value: 0.43987\n",
      "Best hyperparameters:\n",
      "learning_rate   - 0.09999999999999999\n",
      "max_depth       - 9\n",
      "min_child_weight - 12\n",
      "subsample       - 0.95\n",
      "colsample_bytree - 0.75\n",
      "gamma           - 0.30000000000000004\n",
      "alpha           - 1.8\n",
      "lambda          - 0.3298547272191968\n",
      "max_cat_to_onehot - 2\n",
      "max_delta_step  - 9.5\n",
      "grow_policy     - depthwise\n",
      "\n",
      "[Time taken: 221.65s]\n",
      "\n",
      "-----Cross-validation and prediction-----\n",
      "Fold #0: 0.45283 (74 rounds)\n",
      "Fold #1: 0.41575 (131 rounds)\n",
      "Fold #2: 0.41146 (131 rounds)\n",
      "Fold #3: 0.46147 (101 rounds)\n",
      "Fold #4: 0.47259 (117 rounds)\n",
      "Fold #5: 0.42874 (72 rounds)\n",
      "Fold #6: 0.43628 (121 rounds)\n",
      "\n",
      "OOF score: 0.43987\n",
      "\n",
      "[Time taken: 26.49s]\n",
      "\n"
     ]
    }
   ],
   "source": [
    "_ , _ = run_experiment(features=base_features, n_trials=3)"
   ]
  },
  {
   "cell_type": "code",
   "execution_count": 20,
   "id": "a26d0167",
   "metadata": {
    "execution": {
     "iopub.execute_input": "2024-01-05T05:20:46.211316Z",
     "iopub.status.busy": "2024-01-05T05:20:46.211037Z",
     "iopub.status.idle": "2024-01-05T05:20:46.215107Z",
     "shell.execute_reply": "2024-01-05T05:20:46.214393Z"
    },
    "papermill": {
     "duration": 0.018522,
     "end_time": "2024-01-05T05:20:46.216977",
     "exception": false,
     "start_time": "2024-01-05T05:20:46.198455",
     "status": "completed"
    },
    "tags": []
   },
   "outputs": [],
   "source": [
    "optuna.logging.set_verbosity(optuna.logging.ERROR)"
   ]
  },
  {
   "cell_type": "markdown",
   "id": "87afd808",
   "metadata": {
    "papermill": {
     "duration": 0.011375,
     "end_time": "2024-01-05T05:20:46.240192",
     "exception": false,
     "start_time": "2024-01-05T05:20:46.228817",
     "status": "completed"
    },
    "tags": []
   },
   "source": [
    "# Experiments"
   ]
  },
  {
   "cell_type": "code",
   "execution_count": 21,
   "id": "adb51ed7",
   "metadata": {
    "execution": {
     "iopub.execute_input": "2024-01-05T05:20:46.264569Z",
     "iopub.status.busy": "2024-01-05T05:20:46.264313Z",
     "iopub.status.idle": "2024-01-05T05:20:46.268095Z",
     "shell.execute_reply": "2024-01-05T05:20:46.267318Z"
    },
    "papermill": {
     "duration": 0.017795,
     "end_time": "2024-01-05T05:20:46.269809",
     "exception": false,
     "start_time": "2024-01-05T05:20:46.252014",
     "status": "completed"
    },
    "tags": []
   },
   "outputs": [],
   "source": [
    "op = {} # Train-set OOF predictions\n",
    "tp = {} # Test-set predictions"
   ]
  },
  {
   "cell_type": "code",
   "execution_count": 22,
   "id": "3ce7bd35",
   "metadata": {
    "execution": {
     "iopub.execute_input": "2024-01-05T05:20:46.294450Z",
     "iopub.status.busy": "2024-01-05T05:20:46.294172Z",
     "iopub.status.idle": "2024-01-05T06:23:34.283263Z",
     "shell.execute_reply": "2024-01-05T06:23:34.282215Z"
    },
    "papermill": {
     "duration": 3768.003801,
     "end_time": "2024-01-05T06:23:34.285524",
     "exception": false,
     "start_time": "2024-01-05T05:20:46.281723",
     "status": "completed"
    },
    "tags": []
   },
   "outputs": [
    {
     "name": "stdout",
     "output_type": "stream",
     "text": [
      "----------Hyperparameter tuning----------\n",
      "Best trial: 44 -> Best value: 0.43332\n",
      "Best hyperparameters:\n",
      "learning_rate   - 0.02\n",
      "max_depth       - 7\n",
      "min_child_weight - 13\n",
      "subsample       - 0.9\n",
      "colsample_bytree - 0.6\n",
      "gamma           - 0.30000000000000004\n",
      "alpha           - 2.7\n",
      "lambda          - 2.389553140880608\n",
      "max_cat_to_onehot - 4\n",
      "max_delta_step  - 5.0\n",
      "grow_policy     - depthwise\n",
      "\n",
      "[Time taken: 3660.03s]\n",
      "\n",
      "-----Cross-validation and prediction-----\n",
      "Fold #0: 0.44889 (554 rounds)\n",
      "Fold #1: 0.40856 (823 rounds)\n",
      "Fold #2: 0.40653 (1157 rounds)\n",
      "Fold #3: 0.45874 (701 rounds)\n",
      "Fold #4: 0.46474 (879 rounds)\n",
      "Fold #5: 0.42467 (470 rounds)\n",
      "Fold #6: 0.42114 (1212 rounds)\n",
      "\n",
      "OOF score: 0.43332\n",
      "\n",
      "[Time taken: 107.92s]\n",
      "\n"
     ]
    }
   ],
   "source": [
    "feature_set = 'base'\n",
    "model_name = 'xgb'\n",
    "extension = 'noext'\n",
    "folds = 7\n",
    "seed = SEED\n",
    "config = f'{feature_set}_{model_name}_{extension}_f{folds}_s{seed}'\n",
    "\n",
    "op[config], tp[config] = run_experiment(\n",
    "    features=base_features, \n",
    "    extend=None, \n",
    "    folds=folds, \n",
    "    seed=seed)\n",
    "\n",
    "create_submission_files(tp[config], config)"
   ]
  },
  {
   "cell_type": "code",
   "execution_count": 23,
   "id": "f3da7d28",
   "metadata": {
    "execution": {
     "iopub.execute_input": "2024-01-05T06:23:34.312597Z",
     "iopub.status.busy": "2024-01-05T06:23:34.312071Z",
     "iopub.status.idle": "2024-01-05T07:18:39.406814Z",
     "shell.execute_reply": "2024-01-05T07:18:39.405860Z"
    },
    "papermill": {
     "duration": 3305.110689,
     "end_time": "2024-01-05T07:18:39.409017",
     "exception": false,
     "start_time": "2024-01-05T06:23:34.298328",
     "status": "completed"
    },
    "tags": []
   },
   "outputs": [
    {
     "name": "stdout",
     "output_type": "stream",
     "text": [
      "----------Hyperparameter tuning----------\n",
      "Best trial: 26 -> Best value: 0.43340\n",
      "Best hyperparameters:\n",
      "learning_rate   - 0.05\n",
      "max_depth       - 5\n",
      "min_child_weight - 13\n",
      "subsample       - 0.75\n",
      "colsample_bytree - 0.7\n",
      "gamma           - 0.2\n",
      "alpha           - 1.4000000000000001\n",
      "lambda          - 0.3886414456448555\n",
      "max_cat_to_onehot - 3\n",
      "max_delta_step  - 7.5\n",
      "grow_policy     - lossguide\n",
      "\n",
      "[Time taken: 3248.75s]\n",
      "\n",
      "-----Cross-validation and prediction-----\n",
      "Fold #0: 0.45088 (231 rounds)\n",
      "Fold #1: 0.41015 (350 rounds)\n",
      "Fold #2: 0.40823 (609 rounds)\n",
      "Fold #3: 0.45960 (244 rounds)\n",
      "Fold #4: 0.46352 (358 rounds)\n",
      "Fold #5: 0.42293 (191 rounds)\n",
      "Fold #6: 0.41850 (583 rounds)\n",
      "\n",
      "OOF score: 0.43340\n",
      "\n",
      "[Time taken: 56.30s]\n",
      "\n"
     ]
    }
   ],
   "source": [
    "feature_set = 'nodrugbase'\n",
    "model_name = 'xgb'\n",
    "extension = 'noext'\n",
    "folds = 7\n",
    "seed = SEED\n",
    "config = f'{feature_set}_{model_name}_{extension}_f{folds}_s{seed}'\n",
    "\n",
    "op[config], tp[config] = run_experiment(\n",
    "    features=[f for f in base_features if f != 'Drug'], \n",
    "    extend=None, \n",
    "    folds=folds, \n",
    "    seed=seed)\n",
    "\n",
    "create_submission_files(tp[config], config)"
   ]
  },
  {
   "cell_type": "code",
   "execution_count": 24,
   "id": "8fa322ce",
   "metadata": {
    "execution": {
     "iopub.execute_input": "2024-01-05T07:18:39.437098Z",
     "iopub.status.busy": "2024-01-05T07:18:39.436785Z",
     "iopub.status.idle": "2024-01-05T08:29:16.219446Z",
     "shell.execute_reply": "2024-01-05T08:29:16.218449Z"
    },
    "papermill": {
     "duration": 4236.814703,
     "end_time": "2024-01-05T08:29:16.237376",
     "exception": false,
     "start_time": "2024-01-05T07:18:39.422673",
     "status": "completed"
    },
    "tags": []
   },
   "outputs": [
    {
     "name": "stdout",
     "output_type": "stream",
     "text": [
      "----------Hyperparameter tuning----------\n",
      "Best trial: 43 -> Best value: 0.42799\n",
      "Best hyperparameters:\n",
      "learning_rate   - 0.01\n",
      "max_depth       - 3\n",
      "min_child_weight - 13\n",
      "subsample       - 0.8\n",
      "colsample_bytree - 0.6\n",
      "gamma           - 0.30000000000000004\n",
      "alpha           - 2.7\n",
      "lambda          - 0.38074949176073125\n",
      "max_cat_to_onehot - 3\n",
      "max_delta_step  - 9.5\n",
      "grow_policy     - depthwise\n",
      "\n",
      "[Time taken: 4009.81s]\n",
      "\n",
      "-----Cross-validation and prediction-----\n",
      "Fold #0: 0.44300 (2635 rounds)\n",
      "Fold #1: 0.40555 (4007 rounds)\n",
      "Fold #2: 0.40526 (4993 rounds)\n",
      "Fold #3: 0.45376 (3666 rounds)\n",
      "Fold #4: 0.45529 (4238 rounds)\n",
      "Fold #5: 0.42407 (2010 rounds)\n",
      "Fold #6: 0.40898 (4999 rounds)\n",
      "\n",
      "OOF score: 0.42799\n",
      "\n",
      "[Time taken: 226.93s]\n",
      "\n"
     ]
    }
   ],
   "source": [
    "feature_set = 'base'\n",
    "model_name = 'xgb'\n",
    "extension = 'orig'\n",
    "folds = 7\n",
    "seed = SEED\n",
    "config = f'{feature_set}_{model_name}_{extension}_f{folds}_s{seed}'\n",
    "\n",
    "op[config], tp[config] = run_experiment(\n",
    "    features=base_features, \n",
    "    extend=original, \n",
    "    folds=folds, \n",
    "    seed=seed)\n",
    "\n",
    "create_submission_files(tp[config], config)"
   ]
  },
  {
   "cell_type": "code",
   "execution_count": 25,
   "id": "69bb5691",
   "metadata": {
    "execution": {
     "iopub.execute_input": "2024-01-05T08:29:16.268160Z",
     "iopub.status.busy": "2024-01-05T08:29:16.267291Z",
     "iopub.status.idle": "2024-01-05T09:37:07.924144Z",
     "shell.execute_reply": "2024-01-05T09:37:07.923160Z"
    },
    "papermill": {
     "duration": 4071.68843,
     "end_time": "2024-01-05T09:37:07.940485",
     "exception": false,
     "start_time": "2024-01-05T08:29:16.252055",
     "status": "completed"
    },
    "tags": []
   },
   "outputs": [
    {
     "name": "stdout",
     "output_type": "stream",
     "text": [
      "----------Hyperparameter tuning----------\n",
      "Best trial: 49 -> Best value: 0.42849\n",
      "Best hyperparameters:\n",
      "learning_rate   - 0.01\n",
      "max_depth       - 6\n",
      "min_child_weight - 15\n",
      "subsample       - 0.8\n",
      "colsample_bytree - 0.65\n",
      "gamma           - 0.0\n",
      "alpha           - 2.5\n",
      "lambda          - 0.04120355473583373\n",
      "max_cat_to_onehot - 2\n",
      "max_delta_step  - 8.0\n",
      "grow_policy     - depthwise\n",
      "\n",
      "[Time taken: 3905.21s]\n",
      "\n",
      "-----Cross-validation and prediction-----\n",
      "Fold #0: 0.44547 (1066 rounds)\n",
      "Fold #1: 0.40555 (1582 rounds)\n",
      "Fold #2: 0.40067 (2220 rounds)\n",
      "Fold #3: 0.45246 (1362 rounds)\n",
      "Fold #4: 0.45829 (2032 rounds)\n",
      "Fold #5: 0.42043 (999 rounds)\n",
      "Fold #6: 0.41658 (1954 rounds)\n",
      "\n",
      "OOF score: 0.42849\n",
      "\n",
      "[Time taken: 166.41s]\n",
      "\n"
     ]
    }
   ],
   "source": [
    "feature_set = 'base'\n",
    "model_name = 'xgb'\n",
    "extension = 'trial'\n",
    "folds = 7\n",
    "seed = SEED\n",
    "config = f'{feature_set}_{model_name}_{extension}_f{folds}_s{seed}'\n",
    "\n",
    "op[config], tp[config] = run_experiment(\n",
    "    features=base_features, \n",
    "    extend=trial, \n",
    "    folds=folds, \n",
    "    seed=seed)\n",
    "\n",
    "create_submission_files(tp[config], config)"
   ]
  },
  {
   "cell_type": "code",
   "execution_count": 26,
   "id": "6b3cae0a",
   "metadata": {
    "execution": {
     "iopub.execute_input": "2024-01-05T09:37:07.971164Z",
     "iopub.status.busy": "2024-01-05T09:37:07.970858Z",
     "iopub.status.idle": "2024-01-05T09:58:44.846851Z",
     "shell.execute_reply": "2024-01-05T09:58:44.845830Z"
    },
    "papermill": {
     "duration": 1296.893832,
     "end_time": "2024-01-05T09:58:44.849061",
     "exception": false,
     "start_time": "2024-01-05T09:37:07.955229",
     "status": "completed"
    },
    "tags": []
   },
   "outputs": [
    {
     "name": "stdout",
     "output_type": "stream",
     "text": [
      "----------Hyperparameter tuning----------\n",
      "Best trial: 14 -> Best value: 0.49194\n",
      "Best hyperparameters:\n",
      "learning_rate   - 0.09\n",
      "max_depth       - 8\n",
      "min_child_weight - 9\n",
      "subsample       - 0.95\n",
      "colsample_bytree - 0.6\n",
      "gamma           - 0.2\n",
      "alpha           - 1.3\n",
      "lambda          - 0.01913834677877739\n",
      "max_cat_to_onehot - 3\n",
      "max_delta_step  - 9.0\n",
      "grow_policy     - depthwise\n",
      "\n",
      "[Time taken: 1280.07s]\n",
      "\n",
      "-----Cross-validation and prediction-----\n",
      "Fold #0: 0.49502 (125 rounds)\n",
      "Fold #1: 0.46168 (311 rounds)\n",
      "Fold #2: 0.47837 (103 rounds)\n",
      "Fold #3: 0.51485 (157 rounds)\n",
      "Fold #4: 0.52364 (97 rounds)\n",
      "Fold #5: 0.47028 (74 rounds)\n",
      "Fold #6: 0.49973 (345 rounds)\n",
      "\n",
      "OOF score: 0.49194\n",
      "\n",
      "[Time taken: 16.77s]\n",
      "\n"
     ]
    }
   ],
   "source": [
    "feature_set = 'cat'\n",
    "model_name = 'xgb'\n",
    "extension = 'orig'\n",
    "folds = 7\n",
    "seed = SEED\n",
    "config = f'{feature_set}_{model_name}_{extension}_f{folds}_s{seed}'\n",
    "\n",
    "op[config], tp[config] = run_experiment(\n",
    "    features=cat_features,\n",
    "    extend=original, \n",
    "    folds=folds, \n",
    "    seed=seed)\n",
    "\n",
    "create_submission_files(tp[config], config)"
   ]
  },
  {
   "cell_type": "code",
   "execution_count": 27,
   "id": "87cdbdf2",
   "metadata": {
    "execution": {
     "iopub.execute_input": "2024-01-05T09:58:44.881815Z",
     "iopub.status.busy": "2024-01-05T09:58:44.881521Z",
     "iopub.status.idle": "2024-01-05T10:20:05.919414Z",
     "shell.execute_reply": "2024-01-05T10:20:05.918345Z"
    },
    "papermill": {
     "duration": 1281.056956,
     "end_time": "2024-01-05T10:20:05.921626",
     "exception": false,
     "start_time": "2024-01-05T09:58:44.864670",
     "status": "completed"
    },
    "tags": []
   },
   "outputs": [
    {
     "name": "stdout",
     "output_type": "stream",
     "text": [
      "----------Hyperparameter tuning----------\n",
      "Best trial: 14 -> Best value: 0.49187\n",
      "Best hyperparameters:\n",
      "learning_rate   - 0.09\n",
      "max_depth       - 8\n",
      "min_child_weight - 9\n",
      "subsample       - 0.95\n",
      "colsample_bytree - 0.6\n",
      "gamma           - 0.2\n",
      "alpha           - 1.3\n",
      "lambda          - 0.01913834677877739\n",
      "max_cat_to_onehot - 3\n",
      "max_delta_step  - 9.0\n",
      "grow_policy     - depthwise\n",
      "\n",
      "[Time taken: 1265.22s]\n",
      "\n",
      "-----Cross-validation and prediction-----\n",
      "Fold #0: 0.49542 (125 rounds)\n",
      "Fold #1: 0.46209 (437 rounds)\n",
      "Fold #2: 0.47718 (101 rounds)\n",
      "Fold #3: 0.51525 (107 rounds)\n",
      "Fold #4: 0.52406 (84 rounds)\n",
      "Fold #5: 0.46931 (81 rounds)\n",
      "Fold #6: 0.49981 (170 rounds)\n",
      "\n",
      "OOF score: 0.49187\n",
      "\n",
      "[Time taken: 15.78s]\n",
      "\n"
     ]
    }
   ],
   "source": [
    "feature_set = 'cat'\n",
    "model_name = 'xgb'\n",
    "extension = 'trial'\n",
    "folds = 7\n",
    "seed = SEED\n",
    "config = f'{feature_set}_{model_name}_{extension}_f{folds}_s{seed}'\n",
    "\n",
    "op[config], tp[config] = run_experiment(\n",
    "    features=cat_features,\n",
    "    extend=trial, \n",
    "    folds=folds, \n",
    "    seed=seed)\n",
    "\n",
    "create_submission_files(tp[config], config)"
   ]
  },
  {
   "cell_type": "code",
   "execution_count": 28,
   "id": "e37dccb7",
   "metadata": {
    "execution": {
     "iopub.execute_input": "2024-01-05T10:20:05.955219Z",
     "iopub.status.busy": "2024-01-05T10:20:05.954668Z",
     "iopub.status.idle": "2024-01-05T11:02:00.310971Z",
     "shell.execute_reply": "2024-01-05T11:02:00.310071Z"
    },
    "papermill": {
     "duration": 2514.391517,
     "end_time": "2024-01-05T11:02:00.329415",
     "exception": false,
     "start_time": "2024-01-05T10:20:05.937898",
     "status": "completed"
    },
    "tags": []
   },
   "outputs": [
    {
     "name": "stdout",
     "output_type": "stream",
     "text": [
      "----------Hyperparameter tuning----------\n",
      "Best trial: 47 -> Best value: 0.43215\n",
      "Best hyperparameters:\n",
      "learning_rate   - 0.08\n",
      "max_depth       - 3\n",
      "min_child_weight - 15\n",
      "subsample       - 0.7\n",
      "colsample_bytree - 0.8\n",
      "gamma           - 0.0\n",
      "alpha           - 1.5\n",
      "lambda          - 0.0733271850212784\n",
      "max_cat_to_onehot - 2\n",
      "max_delta_step  - 10.0\n",
      "grow_policy     - depthwise\n",
      "\n",
      "[Time taken: 2483.24s]\n",
      "\n",
      "-----Cross-validation and prediction-----\n",
      "Fold #0: 0.44495 (406 rounds)\n",
      "Fold #1: 0.40195 (396 rounds)\n",
      "Fold #2: 0.41323 (564 rounds)\n",
      "Fold #3: 0.45704 (276 rounds)\n",
      "Fold #4: 0.46040 (493 rounds)\n",
      "Fold #5: 0.42775 (206 rounds)\n",
      "Fold #6: 0.41979 (551 rounds)\n",
      "\n",
      "OOF score: 0.43215\n",
      "\n",
      "[Time taken: 31.08s]\n",
      "\n"
     ]
    }
   ],
   "source": [
    "feature_set = 'all'\n",
    "model_name = 'xgb'\n",
    "extension = 'orig'\n",
    "folds = 7\n",
    "seed = SEED\n",
    "config = f'{feature_set}_{model_name}_{extension}_f{folds}_s{seed}'\n",
    "\n",
    "op[config], tp[config] = run_experiment(\n",
    "    features=all_features,\n",
    "    extend=original, \n",
    "    folds=folds, \n",
    "    seed=seed)\n",
    "\n",
    "create_submission_files(tp[config], config)"
   ]
  },
  {
   "cell_type": "code",
   "execution_count": 29,
   "id": "21992808",
   "metadata": {
    "execution": {
     "iopub.execute_input": "2024-01-05T11:02:00.363812Z",
     "iopub.status.busy": "2024-01-05T11:02:00.363215Z",
     "iopub.status.idle": "2024-01-05T11:54:54.670688Z",
     "shell.execute_reply": "2024-01-05T11:54:54.669723Z"
    },
    "papermill": {
     "duration": 3174.326786,
     "end_time": "2024-01-05T11:54:54.672718",
     "exception": false,
     "start_time": "2024-01-05T11:02:00.345932",
     "status": "completed"
    },
    "tags": []
   },
   "outputs": [
    {
     "name": "stdout",
     "output_type": "stream",
     "text": [
      "----------Hyperparameter tuning----------\n",
      "Best trial: 49 -> Best value: 0.43108\n",
      "Best hyperparameters:\n",
      "learning_rate   - 0.05\n",
      "max_depth       - 4\n",
      "min_child_weight - 13\n",
      "subsample       - 0.65\n",
      "colsample_bytree - 0.65\n",
      "gamma           - 0.8\n",
      "alpha           - 0.9\n",
      "lambda          - 0.16350101478775597\n",
      "max_cat_to_onehot - 3\n",
      "max_delta_step  - 9.5\n",
      "grow_policy     - depthwise\n",
      "\n",
      "[Time taken: 3137.56s]\n",
      "\n",
      "-----Cross-validation and prediction-----\n",
      "Fold #0: 0.44861 (230 rounds)\n",
      "Fold #1: 0.40385 (496 rounds)\n",
      "Fold #2: 0.40809 (606 rounds)\n",
      "Fold #3: 0.45338 (335 rounds)\n",
      "Fold #4: 0.46178 (390 rounds)\n",
      "Fold #5: 0.42079 (275 rounds)\n",
      "Fold #6: 0.42105 (516 rounds)\n",
      "\n",
      "OOF score: 0.43108\n",
      "\n",
      "[Time taken: 36.71s]\n",
      "\n"
     ]
    }
   ],
   "source": [
    "feature_set = 'all'\n",
    "model_name = 'xgb'\n",
    "extension = 'trial'\n",
    "folds = 7\n",
    "seed = SEED\n",
    "config = f'{feature_set}_{model_name}_{extension}_f{folds}_s{seed}'\n",
    "\n",
    "op[config], tp[config] = run_experiment(\n",
    "    features=all_features,\n",
    "    extend=trial, \n",
    "    folds=folds, \n",
    "    seed=seed)\n",
    "\n",
    "create_submission_files(tp[config], config)"
   ]
  },
  {
   "cell_type": "code",
   "execution_count": 30,
   "id": "6858ec93",
   "metadata": {
    "execution": {
     "iopub.execute_input": "2024-01-05T11:54:54.709465Z",
     "iopub.status.busy": "2024-01-05T11:54:54.709159Z",
     "iopub.status.idle": "2024-01-05T12:44:27.726540Z",
     "shell.execute_reply": "2024-01-05T12:44:27.725563Z"
    },
    "papermill": {
     "duration": 2973.037709,
     "end_time": "2024-01-05T12:44:27.728486",
     "exception": false,
     "start_time": "2024-01-05T11:54:54.690777",
     "status": "completed"
    },
    "tags": []
   },
   "outputs": [
    {
     "name": "stdout",
     "output_type": "stream",
     "text": [
      "----------Hyperparameter tuning----------\n",
      "Best trial: 39 -> Best value: 0.42976\n",
      "Best hyperparameters:\n",
      "learning_rate   - 0.05\n",
      "max_depth       - 4\n",
      "min_child_weight - 10\n",
      "subsample       - 0.65\n",
      "colsample_bytree - 0.65\n",
      "gamma           - 0.1\n",
      "alpha           - 0.5\n",
      "lambda          - 0.032190301192523495\n",
      "max_cat_to_onehot - 4\n",
      "max_delta_step  - 8.5\n",
      "grow_policy     - depthwise\n",
      "\n",
      "[Time taken: 2925.24s]\n",
      "\n",
      "-----Cross-validation and prediction-----\n",
      "Fold #0: 0.44440 (407 rounds)\n",
      "Fold #1: 0.40898 (236 rounds)\n",
      "Fold #2: 0.42136 (484 rounds)\n",
      "Fold #3: 0.42217 (410 rounds)\n",
      "Fold #4: 0.43174 (428 rounds)\n",
      "Fold #5: 0.47541 (291 rounds)\n",
      "Fold #6: 0.44237 (541 rounds)\n",
      "Fold #7: 0.43435 (173 rounds)\n",
      "Fold #8: 0.38929 (442 rounds)\n",
      "Fold #9: 0.42753 (356 rounds)\n",
      "\n",
      "OOF score: 0.42976\n",
      "\n",
      "[Time taken: 47.74s]\n",
      "\n"
     ]
    }
   ],
   "source": [
    "feature_set = 'base'\n",
    "model_name = 'xgb'\n",
    "extension = 'orig'\n",
    "folds = 10\n",
    "seed = SEED\n",
    "config = f'{feature_set}_{model_name}_{extension}_f{folds}_s{seed}'\n",
    "\n",
    "op[config], tp[config] = run_experiment(\n",
    "    features=base_features,\n",
    "    extend=original, \n",
    "    folds=folds, \n",
    "    seed=seed)\n",
    "\n",
    "create_submission_files(tp[config], config)"
   ]
  },
  {
   "cell_type": "code",
   "execution_count": 31,
   "id": "5f0b1fed",
   "metadata": {
    "execution": {
     "iopub.execute_input": "2024-01-05T12:44:27.767331Z",
     "iopub.status.busy": "2024-01-05T12:44:27.767048Z",
     "iopub.status.idle": "2024-01-05T14:47:10.481432Z",
     "shell.execute_reply": "2024-01-05T14:47:10.480518Z"
    },
    "papermill": {
     "duration": 7362.754487,
     "end_time": "2024-01-05T14:47:10.502443",
     "exception": false,
     "start_time": "2024-01-05T12:44:27.747956",
     "status": "completed"
    },
    "tags": []
   },
   "outputs": [
    {
     "name": "stdout",
     "output_type": "stream",
     "text": [
      "----------Hyperparameter tuning----------\n",
      "Best trial: 34 -> Best value: 0.42786\n",
      "Best hyperparameters:\n",
      "learning_rate   - 0.04\n",
      "max_depth       - 4\n",
      "min_child_weight - 13\n",
      "subsample       - 0.6\n",
      "colsample_bytree - 0.6\n",
      "gamma           - 0.1\n",
      "alpha           - 1.5\n",
      "lambda          - 0.6981343670385046\n",
      "max_cat_to_onehot - 3\n",
      "max_delta_step  - 10.0\n",
      "grow_policy     - lossguide\n",
      "\n",
      "[Time taken: 7221.80s]\n",
      "\n",
      "-----Cross-validation and prediction-----\n",
      "Fold #0: 0.43241 (474 rounds)\n",
      "Fold #1: 0.44528 (440 rounds)\n",
      "Fold #2: 0.39255 (386 rounds)\n",
      "Fold #3: 0.44182 (674 rounds)\n",
      "Fold #4: 0.39601 (836 rounds)\n",
      "Fold #5: 0.41317 (466 rounds)\n",
      "Fold #6: 0.40206 (862 rounds)\n",
      "Fold #7: 0.46257 (720 rounds)\n",
      "Fold #8: 0.48249 (514 rounds)\n",
      "Fold #9: 0.44971 (710 rounds)\n",
      "Fold #10: 0.42472 (693 rounds)\n",
      "Fold #11: 0.45452 (328 rounds)\n",
      "Fold #12: 0.39241 (544 rounds)\n",
      "Fold #13: 0.38429 (1038 rounds)\n",
      "Fold #14: 0.44394 (692 rounds)\n",
      "\n",
      "OOF score: 0.42786\n",
      "\n",
      "[Time taken: 140.88s]\n",
      "\n"
     ]
    }
   ],
   "source": [
    "feature_set = 'base'\n",
    "model_name = 'xgb'\n",
    "extension = 'orig'\n",
    "folds = 15\n",
    "seed = SEED\n",
    "config = f'{feature_set}_{model_name}_{extension}_f{folds}_s{seed}'\n",
    "\n",
    "op[config], tp[config] = run_experiment(\n",
    "    features=base_features,\n",
    "    extend=original, \n",
    "    folds=folds, \n",
    "    seed=seed)\n",
    "\n",
    "create_submission_files(tp[config], config)"
   ]
  }
 ],
 "metadata": {
  "kaggle": {
   "accelerator": "none",
   "dataSources": [
    {
     "databundleVersionId": 7000181,
     "sourceId": 60893,
     "sourceType": "competition"
    },
    {
     "datasetId": 3873965,
     "sourceId": 6724823,
     "sourceType": "datasetVersion"
    }
   ],
   "dockerImageVersionId": 30626,
   "isGpuEnabled": false,
   "isInternetEnabled": true,
   "language": "python",
   "sourceType": "notebook"
  },
  "kernelspec": {
   "display_name": "Python 3",
   "language": "python",
   "name": "python3"
  },
  "language_info": {
   "codemirror_mode": {
    "name": "ipython",
    "version": 3
   },
   "file_extension": ".py",
   "mimetype": "text/x-python",
   "name": "python",
   "nbconvert_exporter": "python",
   "pygments_lexer": "ipython3",
   "version": "3.10.12"
  },
  "papermill": {
   "default_parameters": {},
   "duration": 34255.057695,
   "end_time": "2024-01-05T14:47:11.107468",
   "environment_variables": {},
   "exception": null,
   "input_path": "__notebook__.ipynb",
   "output_path": "__notebook__.ipynb",
   "parameters": {},
   "start_time": "2024-01-05T05:16:16.049773",
   "version": "2.4.0"
  }
 },
 "nbformat": 4,
 "nbformat_minor": 5
}
