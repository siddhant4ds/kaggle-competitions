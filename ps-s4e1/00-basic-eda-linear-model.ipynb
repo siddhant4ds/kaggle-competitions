{
 "cells": [
  {
   "cell_type": "markdown",
   "id": "b72a43eb",
   "metadata": {
    "papermill": {
     "duration": 0.0222,
     "end_time": "2024-01-02T04:55:24.383686",
     "exception": false,
     "start_time": "2024-01-02T04:55:24.361486",
     "status": "completed"
    },
    "tags": []
   },
   "source": [
    "# Setup"
   ]
  },
  {
   "cell_type": "code",
   "execution_count": 1,
   "id": "a347ab14",
   "metadata": {
    "_cell_guid": "b1076dfc-b9ad-4769-8c92-a6c4dae69d19",
    "_uuid": "8f2839f25d086af736a60e9eeb907d3b93b6e0e5",
    "execution": {
     "iopub.execute_input": "2024-01-02T04:55:24.430105Z",
     "iopub.status.busy": "2024-01-02T04:55:24.429672Z",
     "iopub.status.idle": "2024-01-02T04:55:26.617649Z",
     "shell.execute_reply": "2024-01-02T04:55:26.616087Z"
    },
    "papermill": {
     "duration": 2.214555,
     "end_time": "2024-01-02T04:55:26.620660",
     "exception": false,
     "start_time": "2024-01-02T04:55:24.406105",
     "status": "completed"
    },
    "tags": []
   },
   "outputs": [],
   "source": [
    "import gc\n",
    "import numpy as np\n",
    "import pandas as pd\n",
    "\n",
    "gc.enable()\n",
    "pd.set_option('display.max_columns', None)\n",
    "\n",
    "from sklearn.metrics import roc_auc_score\n",
    "from sklearn.model_selection import StratifiedKFold\n",
    "from sklearn.preprocessing import RobustScaler, MinMaxScaler\n",
    "from sklearn.linear_model import LogisticRegression\n",
    "from sklearn.compose import make_column_transformer, make_column_selector\n",
    "from sklearn.pipeline import make_pipeline\n",
    "\n",
    "SEED = 55"
   ]
  },
  {
   "cell_type": "code",
   "execution_count": 2,
   "id": "c9c45354",
   "metadata": {
    "execution": {
     "iopub.execute_input": "2024-01-02T04:55:26.665750Z",
     "iopub.status.busy": "2024-01-02T04:55:26.665133Z",
     "iopub.status.idle": "2024-01-02T04:55:27.538599Z",
     "shell.execute_reply": "2024-01-02T04:55:27.537595Z"
    },
    "papermill": {
     "duration": 0.899456,
     "end_time": "2024-01-02T04:55:27.541638",
     "exception": false,
     "start_time": "2024-01-02T04:55:26.642182",
     "status": "completed"
    },
    "tags": []
   },
   "outputs": [],
   "source": [
    "DATA_DIR = '/kaggle/input/playground-series-s4e1'\n",
    "train = pd.read_csv(f'{DATA_DIR}/train.csv')\n",
    "test = pd.read_csv(f'{DATA_DIR}/test.csv')\n",
    "sample_sub = pd.read_csv(f'{DATA_DIR}/sample_submission.csv')\n",
    "\n",
    "original = pd.read_csv('/kaggle/input/bank-customer-churn-prediction/Churn_Modelling.csv')"
   ]
  },
  {
   "cell_type": "markdown",
   "id": "a9d65b54",
   "metadata": {
    "papermill": {
     "duration": 0.022244,
     "end_time": "2024-01-02T04:55:27.585768",
     "exception": false,
     "start_time": "2024-01-02T04:55:27.563524",
     "status": "completed"
    },
    "tags": []
   },
   "source": [
    "# Data exploration"
   ]
  },
  {
   "cell_type": "code",
   "execution_count": 3,
   "id": "2625e472",
   "metadata": {
    "execution": {
     "iopub.execute_input": "2024-01-02T04:55:27.632048Z",
     "iopub.status.busy": "2024-01-02T04:55:27.631052Z",
     "iopub.status.idle": "2024-01-02T04:55:27.640359Z",
     "shell.execute_reply": "2024-01-02T04:55:27.639111Z"
    },
    "papermill": {
     "duration": 0.035431,
     "end_time": "2024-01-02T04:55:27.643069",
     "exception": false,
     "start_time": "2024-01-02T04:55:27.607638",
     "status": "completed"
    },
    "tags": []
   },
   "outputs": [
    {
     "data": {
      "text/plain": [
       "((165034, 14), (110023, 13), (10002, 14))"
      ]
     },
     "execution_count": 3,
     "metadata": {},
     "output_type": "execute_result"
    }
   ],
   "source": [
    "train.shape, test.shape, original.shape"
   ]
  },
  {
   "cell_type": "code",
   "execution_count": 4,
   "id": "e1fbab56",
   "metadata": {
    "execution": {
     "iopub.execute_input": "2024-01-02T04:55:27.687717Z",
     "iopub.status.busy": "2024-01-02T04:55:27.687329Z",
     "iopub.status.idle": "2024-01-02T04:55:27.730984Z",
     "shell.execute_reply": "2024-01-02T04:55:27.730035Z"
    },
    "papermill": {
     "duration": 0.068947,
     "end_time": "2024-01-02T04:55:27.733442",
     "exception": false,
     "start_time": "2024-01-02T04:55:27.664495",
     "status": "completed"
    },
    "tags": []
   },
   "outputs": [
    {
     "data": {
      "text/html": [
       "<div>\n",
       "<style scoped>\n",
       "    .dataframe tbody tr th:only-of-type {\n",
       "        vertical-align: middle;\n",
       "    }\n",
       "\n",
       "    .dataframe tbody tr th {\n",
       "        vertical-align: top;\n",
       "    }\n",
       "\n",
       "    .dataframe thead th {\n",
       "        text-align: right;\n",
       "    }\n",
       "</style>\n",
       "<table border=\"1\" class=\"dataframe\">\n",
       "  <thead>\n",
       "    <tr style=\"text-align: right;\">\n",
       "      <th></th>\n",
       "      <th>id</th>\n",
       "      <th>CustomerId</th>\n",
       "      <th>Surname</th>\n",
       "      <th>CreditScore</th>\n",
       "      <th>Geography</th>\n",
       "      <th>Gender</th>\n",
       "      <th>Age</th>\n",
       "      <th>Tenure</th>\n",
       "      <th>Balance</th>\n",
       "      <th>NumOfProducts</th>\n",
       "      <th>HasCrCard</th>\n",
       "      <th>IsActiveMember</th>\n",
       "      <th>EstimatedSalary</th>\n",
       "      <th>Exited</th>\n",
       "    </tr>\n",
       "  </thead>\n",
       "  <tbody>\n",
       "    <tr>\n",
       "      <th>91586</th>\n",
       "      <td>91586</td>\n",
       "      <td>15697567</td>\n",
       "      <td>Trevisani</td>\n",
       "      <td>762</td>\n",
       "      <td>France</td>\n",
       "      <td>Female</td>\n",
       "      <td>36.0</td>\n",
       "      <td>8</td>\n",
       "      <td>0.0</td>\n",
       "      <td>2</td>\n",
       "      <td>1.0</td>\n",
       "      <td>1.0</td>\n",
       "      <td>151325.24</td>\n",
       "      <td>0</td>\n",
       "    </tr>\n",
       "  </tbody>\n",
       "</table>\n",
       "</div>"
      ],
      "text/plain": [
       "          id  CustomerId    Surname  CreditScore Geography  Gender   Age  \\\n",
       "91586  91586    15697567  Trevisani          762    France  Female  36.0   \n",
       "\n",
       "       Tenure  Balance  NumOfProducts  HasCrCard  IsActiveMember  \\\n",
       "91586       8      0.0              2        1.0             1.0   \n",
       "\n",
       "       EstimatedSalary  Exited  \n",
       "91586        151325.24       0  "
      ]
     },
     "execution_count": 4,
     "metadata": {},
     "output_type": "execute_result"
    }
   ],
   "source": [
    "train.sample(random_state=SEED)"
   ]
  },
  {
   "cell_type": "code",
   "execution_count": 5,
   "id": "8279adf3",
   "metadata": {
    "execution": {
     "iopub.execute_input": "2024-01-02T04:55:27.779159Z",
     "iopub.status.busy": "2024-01-02T04:55:27.778689Z",
     "iopub.status.idle": "2024-01-02T04:55:27.797776Z",
     "shell.execute_reply": "2024-01-02T04:55:27.796641Z"
    },
    "papermill": {
     "duration": 0.045177,
     "end_time": "2024-01-02T04:55:27.800405",
     "exception": false,
     "start_time": "2024-01-02T04:55:27.755228",
     "status": "completed"
    },
    "tags": []
   },
   "outputs": [
    {
     "data": {
      "text/html": [
       "<div>\n",
       "<style scoped>\n",
       "    .dataframe tbody tr th:only-of-type {\n",
       "        vertical-align: middle;\n",
       "    }\n",
       "\n",
       "    .dataframe tbody tr th {\n",
       "        vertical-align: top;\n",
       "    }\n",
       "\n",
       "    .dataframe thead th {\n",
       "        text-align: right;\n",
       "    }\n",
       "</style>\n",
       "<table border=\"1\" class=\"dataframe\">\n",
       "  <thead>\n",
       "    <tr style=\"text-align: right;\">\n",
       "      <th></th>\n",
       "      <th>RowNumber</th>\n",
       "      <th>CustomerId</th>\n",
       "      <th>Surname</th>\n",
       "      <th>CreditScore</th>\n",
       "      <th>Geography</th>\n",
       "      <th>Gender</th>\n",
       "      <th>Age</th>\n",
       "      <th>Tenure</th>\n",
       "      <th>Balance</th>\n",
       "      <th>NumOfProducts</th>\n",
       "      <th>HasCrCard</th>\n",
       "      <th>IsActiveMember</th>\n",
       "      <th>EstimatedSalary</th>\n",
       "      <th>Exited</th>\n",
       "    </tr>\n",
       "  </thead>\n",
       "  <tbody>\n",
       "    <tr>\n",
       "      <th>8776</th>\n",
       "      <td>8777</td>\n",
       "      <td>15695383</td>\n",
       "      <td>Griffin</td>\n",
       "      <td>567</td>\n",
       "      <td>Spain</td>\n",
       "      <td>Male</td>\n",
       "      <td>44.0</td>\n",
       "      <td>9</td>\n",
       "      <td>0.0</td>\n",
       "      <td>2</td>\n",
       "      <td>1.0</td>\n",
       "      <td>0.0</td>\n",
       "      <td>87677.15</td>\n",
       "      <td>0</td>\n",
       "    </tr>\n",
       "  </tbody>\n",
       "</table>\n",
       "</div>"
      ],
      "text/plain": [
       "      RowNumber  CustomerId  Surname  CreditScore Geography Gender   Age  \\\n",
       "8776       8777    15695383  Griffin          567     Spain   Male  44.0   \n",
       "\n",
       "      Tenure  Balance  NumOfProducts  HasCrCard  IsActiveMember  \\\n",
       "8776       9      0.0              2        1.0             0.0   \n",
       "\n",
       "      EstimatedSalary  Exited  \n",
       "8776         87677.15       0  "
      ]
     },
     "execution_count": 5,
     "metadata": {},
     "output_type": "execute_result"
    }
   ],
   "source": [
    "original.sample(random_state=SEED)"
   ]
  },
  {
   "cell_type": "markdown",
   "id": "193841d3",
   "metadata": {
    "papermill": {
     "duration": 0.021275,
     "end_time": "2024-01-02T04:55:27.843470",
     "exception": false,
     "start_time": "2024-01-02T04:55:27.822195",
     "status": "completed"
    },
    "tags": []
   },
   "source": [
    "**Target distribution:**"
   ]
  },
  {
   "cell_type": "code",
   "execution_count": 6,
   "id": "6e1472a7",
   "metadata": {
    "execution": {
     "iopub.execute_input": "2024-01-02T04:55:27.890072Z",
     "iopub.status.busy": "2024-01-02T04:55:27.888783Z",
     "iopub.status.idle": "2024-01-02T04:55:27.911802Z",
     "shell.execute_reply": "2024-01-02T04:55:27.910904Z"
    },
    "papermill": {
     "duration": 0.048801,
     "end_time": "2024-01-02T04:55:27.914264",
     "exception": false,
     "start_time": "2024-01-02T04:55:27.865463",
     "status": "completed"
    },
    "tags": []
   },
   "outputs": [
    {
     "data": {
      "text/html": [
       "<div>\n",
       "<style scoped>\n",
       "    .dataframe tbody tr th:only-of-type {\n",
       "        vertical-align: middle;\n",
       "    }\n",
       "\n",
       "    .dataframe tbody tr th {\n",
       "        vertical-align: top;\n",
       "    }\n",
       "\n",
       "    .dataframe thead th {\n",
       "        text-align: right;\n",
       "    }\n",
       "</style>\n",
       "<table border=\"1\" class=\"dataframe\">\n",
       "  <thead>\n",
       "    <tr style=\"text-align: right;\">\n",
       "      <th></th>\n",
       "      <th>Train</th>\n",
       "      <th>Original</th>\n",
       "    </tr>\n",
       "    <tr>\n",
       "      <th>Exited</th>\n",
       "      <th></th>\n",
       "      <th></th>\n",
       "    </tr>\n",
       "  </thead>\n",
       "  <tbody>\n",
       "    <tr>\n",
       "      <th>0</th>\n",
       "      <td>0.788</td>\n",
       "      <td>0.796</td>\n",
       "    </tr>\n",
       "    <tr>\n",
       "      <th>1</th>\n",
       "      <td>0.212</td>\n",
       "      <td>0.204</td>\n",
       "    </tr>\n",
       "  </tbody>\n",
       "</table>\n",
       "</div>"
      ],
      "text/plain": [
       "        Train  Original\n",
       "Exited                 \n",
       "0       0.788     0.796\n",
       "1       0.212     0.204"
      ]
     },
     "metadata": {},
     "output_type": "display_data"
    }
   ],
   "source": [
    "TARGET = 'Exited'\n",
    "\n",
    "with pd.option_context('display.precision', 3):\n",
    "    display(pd.concat(\n",
    "        [\n",
    "            train[TARGET].value_counts(normalize=True).rename('Train'),\n",
    "            original[TARGET].value_counts(normalize=True).rename('Original')\n",
    "        ],\n",
    "        axis=1\n",
    "    ))"
   ]
  },
  {
   "cell_type": "markdown",
   "id": "83695196",
   "metadata": {
    "papermill": {
     "duration": 0.021784,
     "end_time": "2024-01-02T04:55:27.958056",
     "exception": false,
     "start_time": "2024-01-02T04:55:27.936272",
     "status": "completed"
    },
    "tags": []
   },
   "source": [
    "**Dropping irrelevant column(s):**"
   ]
  },
  {
   "cell_type": "code",
   "execution_count": 7,
   "id": "65695056",
   "metadata": {
    "execution": {
     "iopub.execute_input": "2024-01-02T04:55:28.065926Z",
     "iopub.status.busy": "2024-01-02T04:55:28.065505Z",
     "iopub.status.idle": "2024-01-02T04:55:28.087074Z",
     "shell.execute_reply": "2024-01-02T04:55:28.085493Z"
    },
    "papermill": {
     "duration": 0.047856,
     "end_time": "2024-01-02T04:55:28.089552",
     "exception": false,
     "start_time": "2024-01-02T04:55:28.041696",
     "status": "completed"
    },
    "tags": []
   },
   "outputs": [
    {
     "data": {
      "text/plain": [
       "(165034, 110023, 10000)"
      ]
     },
     "execution_count": 7,
     "metadata": {},
     "output_type": "execute_result"
    }
   ],
   "source": [
    "train.id.nunique(), test.id.nunique(), original.RowNumber.nunique()"
   ]
  },
  {
   "cell_type": "markdown",
   "id": "214bebe9",
   "metadata": {
    "papermill": {
     "duration": 0.022089,
     "end_time": "2024-01-02T04:55:28.134034",
     "exception": false,
     "start_time": "2024-01-02T04:55:28.111945",
     "status": "completed"
    },
    "tags": []
   },
   "source": [
    "Same as number of rows i.e, all unique values."
   ]
  },
  {
   "cell_type": "code",
   "execution_count": 8,
   "id": "dbcd555e",
   "metadata": {
    "execution": {
     "iopub.execute_input": "2024-01-02T04:55:28.181108Z",
     "iopub.status.busy": "2024-01-02T04:55:28.180595Z",
     "iopub.status.idle": "2024-01-02T04:55:28.210334Z",
     "shell.execute_reply": "2024-01-02T04:55:28.209055Z"
    },
    "papermill": {
     "duration": 0.056783,
     "end_time": "2024-01-02T04:55:28.213142",
     "exception": false,
     "start_time": "2024-01-02T04:55:28.156359",
     "status": "completed"
    },
    "tags": []
   },
   "outputs": [],
   "source": [
    "train = train.drop('id', axis=1)\n",
    "test = test.drop('id', axis=1)\n",
    "original = original.drop('RowNumber', axis=1)"
   ]
  },
  {
   "cell_type": "code",
   "execution_count": 9,
   "id": "af99306d",
   "metadata": {
    "execution": {
     "iopub.execute_input": "2024-01-02T04:55:28.263314Z",
     "iopub.status.busy": "2024-01-02T04:55:28.262203Z",
     "iopub.status.idle": "2024-01-02T04:55:28.277497Z",
     "shell.execute_reply": "2024-01-02T04:55:28.276081Z"
    },
    "papermill": {
     "duration": 0.044298,
     "end_time": "2024-01-02T04:55:28.279845",
     "exception": false,
     "start_time": "2024-01-02T04:55:28.235547",
     "status": "completed"
    },
    "tags": []
   },
   "outputs": [
    {
     "data": {
      "text/plain": [
       "(23221, 19698, 10000)"
      ]
     },
     "execution_count": 9,
     "metadata": {},
     "output_type": "execute_result"
    }
   ],
   "source": [
    "train.CustomerId.nunique(), test.CustomerId.nunique(), original.CustomerId.nunique()"
   ]
  },
  {
   "cell_type": "markdown",
   "id": "ae867d08",
   "metadata": {
    "papermill": {
     "duration": 0.022341,
     "end_time": "2024-01-02T04:55:28.324771",
     "exception": false,
     "start_time": "2024-01-02T04:55:28.302430",
     "status": "completed"
    },
    "tags": []
   },
   "source": [
    "Repeats in train and test."
   ]
  },
  {
   "cell_type": "code",
   "execution_count": 10,
   "id": "28f6b3c9",
   "metadata": {
    "execution": {
     "iopub.execute_input": "2024-01-02T04:55:28.372383Z",
     "iopub.status.busy": "2024-01-02T04:55:28.371556Z",
     "iopub.status.idle": "2024-01-02T04:55:28.386061Z",
     "shell.execute_reply": "2024-01-02T04:55:28.385155Z"
    },
    "papermill": {
     "duration": 0.041547,
     "end_time": "2024-01-02T04:55:28.388818",
     "exception": false,
     "start_time": "2024-01-02T04:55:28.347271",
     "status": "completed"
    },
    "tags": []
   },
   "outputs": [
    {
     "data": {
      "text/plain": [
       "CustomerId\n",
       "15682355    121\n",
       "15570194     99\n",
       "15585835     98\n",
       "15595588     91\n",
       "15648067     90\n",
       "Name: count, dtype: int64"
      ]
     },
     "execution_count": 10,
     "metadata": {},
     "output_type": "execute_result"
    }
   ],
   "source": [
    "train.CustomerId.value_counts()[:5]"
   ]
  },
  {
   "cell_type": "code",
   "execution_count": 11,
   "id": "ede022c6",
   "metadata": {
    "execution": {
     "iopub.execute_input": "2024-01-02T04:55:28.437316Z",
     "iopub.status.busy": "2024-01-02T04:55:28.436498Z",
     "iopub.status.idle": "2024-01-02T04:55:28.461392Z",
     "shell.execute_reply": "2024-01-02T04:55:28.460100Z"
    },
    "papermill": {
     "duration": 0.052581,
     "end_time": "2024-01-02T04:55:28.464312",
     "exception": false,
     "start_time": "2024-01-02T04:55:28.411731",
     "status": "completed"
    },
    "tags": []
   },
   "outputs": [
    {
     "data": {
      "text/html": [
       "<div>\n",
       "<style scoped>\n",
       "    .dataframe tbody tr th:only-of-type {\n",
       "        vertical-align: middle;\n",
       "    }\n",
       "\n",
       "    .dataframe tbody tr th {\n",
       "        vertical-align: top;\n",
       "    }\n",
       "\n",
       "    .dataframe thead th {\n",
       "        text-align: right;\n",
       "    }\n",
       "</style>\n",
       "<table border=\"1\" class=\"dataframe\">\n",
       "  <thead>\n",
       "    <tr style=\"text-align: right;\">\n",
       "      <th></th>\n",
       "      <th>CustomerId</th>\n",
       "      <th>Surname</th>\n",
       "      <th>CreditScore</th>\n",
       "      <th>Geography</th>\n",
       "      <th>Gender</th>\n",
       "      <th>Age</th>\n",
       "      <th>Tenure</th>\n",
       "      <th>Balance</th>\n",
       "      <th>NumOfProducts</th>\n",
       "      <th>HasCrCard</th>\n",
       "      <th>IsActiveMember</th>\n",
       "      <th>EstimatedSalary</th>\n",
       "      <th>Exited</th>\n",
       "    </tr>\n",
       "  </thead>\n",
       "  <tbody>\n",
       "    <tr>\n",
       "      <th>95668</th>\n",
       "      <td>15682355</td>\n",
       "      <td>Chienezie</td>\n",
       "      <td>775</td>\n",
       "      <td>France</td>\n",
       "      <td>Female</td>\n",
       "      <td>56.0</td>\n",
       "      <td>9</td>\n",
       "      <td>124049.80</td>\n",
       "      <td>4</td>\n",
       "      <td>0.0</td>\n",
       "      <td>1.0</td>\n",
       "      <td>163801.53</td>\n",
       "      <td>1</td>\n",
       "    </tr>\n",
       "    <tr>\n",
       "      <th>50768</th>\n",
       "      <td>15682355</td>\n",
       "      <td>Chuang</td>\n",
       "      <td>684</td>\n",
       "      <td>France</td>\n",
       "      <td>Male</td>\n",
       "      <td>36.0</td>\n",
       "      <td>3</td>\n",
       "      <td>128770.86</td>\n",
       "      <td>1</td>\n",
       "      <td>0.0</td>\n",
       "      <td>1.0</td>\n",
       "      <td>81723.80</td>\n",
       "      <td>0</td>\n",
       "    </tr>\n",
       "    <tr>\n",
       "      <th>160819</th>\n",
       "      <td>15682355</td>\n",
       "      <td>L?</td>\n",
       "      <td>773</td>\n",
       "      <td>Spain</td>\n",
       "      <td>Male</td>\n",
       "      <td>38.0</td>\n",
       "      <td>6</td>\n",
       "      <td>138597.54</td>\n",
       "      <td>1</td>\n",
       "      <td>1.0</td>\n",
       "      <td>0.0</td>\n",
       "      <td>52314.71</td>\n",
       "      <td>0</td>\n",
       "    </tr>\n",
       "    <tr>\n",
       "      <th>141112</th>\n",
       "      <td>15682355</td>\n",
       "      <td>Hsiung</td>\n",
       "      <td>586</td>\n",
       "      <td>Spain</td>\n",
       "      <td>Male</td>\n",
       "      <td>42.0</td>\n",
       "      <td>1</td>\n",
       "      <td>0.00</td>\n",
       "      <td>2</td>\n",
       "      <td>1.0</td>\n",
       "      <td>0.0</td>\n",
       "      <td>137571.05</td>\n",
       "      <td>0</td>\n",
       "    </tr>\n",
       "    <tr>\n",
       "      <th>103658</th>\n",
       "      <td>15682355</td>\n",
       "      <td>K?</td>\n",
       "      <td>662</td>\n",
       "      <td>France</td>\n",
       "      <td>Male</td>\n",
       "      <td>28.0</td>\n",
       "      <td>9</td>\n",
       "      <td>0.00</td>\n",
       "      <td>2</td>\n",
       "      <td>1.0</td>\n",
       "      <td>1.0</td>\n",
       "      <td>10928.30</td>\n",
       "      <td>0</td>\n",
       "    </tr>\n",
       "  </tbody>\n",
       "</table>\n",
       "</div>"
      ],
      "text/plain": [
       "        CustomerId    Surname  CreditScore Geography  Gender   Age  Tenure  \\\n",
       "95668     15682355  Chienezie          775    France  Female  56.0       9   \n",
       "50768     15682355     Chuang          684    France    Male  36.0       3   \n",
       "160819    15682355         L?          773     Spain    Male  38.0       6   \n",
       "141112    15682355     Hsiung          586     Spain    Male  42.0       1   \n",
       "103658    15682355         K?          662    France    Male  28.0       9   \n",
       "\n",
       "          Balance  NumOfProducts  HasCrCard  IsActiveMember  EstimatedSalary  \\\n",
       "95668   124049.80              4        0.0             1.0        163801.53   \n",
       "50768   128770.86              1        0.0             1.0         81723.80   \n",
       "160819  138597.54              1        1.0             0.0         52314.71   \n",
       "141112       0.00              2        1.0             0.0        137571.05   \n",
       "103658       0.00              2        1.0             1.0         10928.30   \n",
       "\n",
       "        Exited  \n",
       "95668        1  \n",
       "50768        0  \n",
       "160819       0  \n",
       "141112       0  \n",
       "103658       0  "
      ]
     },
     "execution_count": 11,
     "metadata": {},
     "output_type": "execute_result"
    }
   ],
   "source": [
    "train.loc[train.CustomerId == 15682355].sample(5, random_state=SEED)"
   ]
  },
  {
   "cell_type": "markdown",
   "id": "effeb827",
   "metadata": {
    "papermill": {
     "duration": 0.024861,
     "end_time": "2024-01-02T04:55:28.512406",
     "exception": false,
     "start_time": "2024-01-02T04:55:28.487545",
     "status": "completed"
    },
    "tags": []
   },
   "source": [
    "Different customers with same CustomerId. Most probably a result of synthetic data creation (since original data has all unique CustomerIds).  \n",
    "We should focus on the customer's account information instead of their identity."
   ]
  },
  {
   "cell_type": "code",
   "execution_count": 12,
   "id": "099cc62c",
   "metadata": {
    "execution": {
     "iopub.execute_input": "2024-01-02T04:55:28.565126Z",
     "iopub.status.busy": "2024-01-02T04:55:28.563556Z",
     "iopub.status.idle": "2024-01-02T04:55:28.587812Z",
     "shell.execute_reply": "2024-01-02T04:55:28.586847Z"
    },
    "papermill": {
     "duration": 0.0533,
     "end_time": "2024-01-02T04:55:28.590993",
     "exception": false,
     "start_time": "2024-01-02T04:55:28.537693",
     "status": "completed"
    },
    "tags": []
   },
   "outputs": [],
   "source": [
    "train = train.drop(['CustomerId', 'Surname'], axis=1)\n",
    "test = test.drop(['CustomerId', 'Surname'], axis=1)\n",
    "original = original.drop(['CustomerId', 'Surname'], axis=1)"
   ]
  },
  {
   "cell_type": "markdown",
   "id": "a125494e",
   "metadata": {
    "papermill": {
     "duration": 0.02369,
     "end_time": "2024-01-02T04:55:28.638809",
     "exception": false,
     "start_time": "2024-01-02T04:55:28.615119",
     "status": "completed"
    },
    "tags": []
   },
   "source": [
    "**Feature types (unique values):**"
   ]
  },
  {
   "cell_type": "code",
   "execution_count": 13,
   "id": "cb95db64",
   "metadata": {
    "execution": {
     "iopub.execute_input": "2024-01-02T04:55:28.689444Z",
     "iopub.status.busy": "2024-01-02T04:55:28.689020Z",
     "iopub.status.idle": "2024-01-02T04:55:28.694216Z",
     "shell.execute_reply": "2024-01-02T04:55:28.692846Z"
    },
    "papermill": {
     "duration": 0.033947,
     "end_time": "2024-01-02T04:55:28.696798",
     "exception": false,
     "start_time": "2024-01-02T04:55:28.662851",
     "status": "completed"
    },
    "tags": []
   },
   "outputs": [],
   "source": [
    "features = test.columns"
   ]
  },
  {
   "cell_type": "code",
   "execution_count": 14,
   "id": "0adfb745",
   "metadata": {
    "execution": {
     "iopub.execute_input": "2024-01-02T04:55:28.748594Z",
     "iopub.status.busy": "2024-01-02T04:55:28.748184Z",
     "iopub.status.idle": "2024-01-02T04:55:28.872733Z",
     "shell.execute_reply": "2024-01-02T04:55:28.871254Z"
    },
    "papermill": {
     "duration": 0.154048,
     "end_time": "2024-01-02T04:55:28.875635",
     "exception": false,
     "start_time": "2024-01-02T04:55:28.721587",
     "status": "completed"
    },
    "tags": []
   },
   "outputs": [
    {
     "data": {
      "text/html": [
       "<div>\n",
       "<style scoped>\n",
       "    .dataframe tbody tr th:only-of-type {\n",
       "        vertical-align: middle;\n",
       "    }\n",
       "\n",
       "    .dataframe tbody tr th {\n",
       "        vertical-align: top;\n",
       "    }\n",
       "\n",
       "    .dataframe thead th {\n",
       "        text-align: right;\n",
       "    }\n",
       "</style>\n",
       "<table border=\"1\" class=\"dataframe\">\n",
       "  <thead>\n",
       "    <tr style=\"text-align: right;\">\n",
       "      <th></th>\n",
       "      <th>CreditScore</th>\n",
       "      <th>Geography</th>\n",
       "      <th>Gender</th>\n",
       "      <th>Age</th>\n",
       "      <th>Tenure</th>\n",
       "      <th>Balance</th>\n",
       "      <th>NumOfProducts</th>\n",
       "      <th>HasCrCard</th>\n",
       "      <th>IsActiveMember</th>\n",
       "      <th>EstimatedSalary</th>\n",
       "    </tr>\n",
       "  </thead>\n",
       "  <tbody>\n",
       "    <tr>\n",
       "      <th>Train</th>\n",
       "      <td>457</td>\n",
       "      <td>3</td>\n",
       "      <td>2</td>\n",
       "      <td>71</td>\n",
       "      <td>11</td>\n",
       "      <td>30075</td>\n",
       "      <td>4</td>\n",
       "      <td>2</td>\n",
       "      <td>2</td>\n",
       "      <td>55298</td>\n",
       "    </tr>\n",
       "    <tr>\n",
       "      <th>Test</th>\n",
       "      <td>454</td>\n",
       "      <td>3</td>\n",
       "      <td>2</td>\n",
       "      <td>74</td>\n",
       "      <td>11</td>\n",
       "      <td>22513</td>\n",
       "      <td>4</td>\n",
       "      <td>2</td>\n",
       "      <td>2</td>\n",
       "      <td>41670</td>\n",
       "    </tr>\n",
       "    <tr>\n",
       "      <th>Original</th>\n",
       "      <td>460</td>\n",
       "      <td>3</td>\n",
       "      <td>2</td>\n",
       "      <td>73</td>\n",
       "      <td>11</td>\n",
       "      <td>6382</td>\n",
       "      <td>4</td>\n",
       "      <td>2</td>\n",
       "      <td>2</td>\n",
       "      <td>9999</td>\n",
       "    </tr>\n",
       "  </tbody>\n",
       "</table>\n",
       "</div>"
      ],
      "text/plain": [
       "          CreditScore  Geography  Gender  Age  Tenure  Balance  NumOfProducts  \\\n",
       "Train             457          3       2   71      11    30075              4   \n",
       "Test              454          3       2   74      11    22513              4   \n",
       "Original          460          3       2   73      11     6382              4   \n",
       "\n",
       "          HasCrCard  IsActiveMember  EstimatedSalary  \n",
       "Train             2               2            55298  \n",
       "Test              2               2            41670  \n",
       "Original          2               2             9999  "
      ]
     },
     "execution_count": 14,
     "metadata": {},
     "output_type": "execute_result"
    }
   ],
   "source": [
    "pd.concat(\n",
    "    [\n",
    "        train[features].nunique().rename('Train'),\n",
    "        test[features].nunique().rename('Test'),\n",
    "        original[features].nunique().rename('Original')\n",
    "    ],\n",
    "    axis=1\n",
    ").T"
   ]
  },
  {
   "cell_type": "code",
   "execution_count": 15,
   "id": "b4a1c091",
   "metadata": {
    "execution": {
     "iopub.execute_input": "2024-01-02T04:55:28.925949Z",
     "iopub.status.busy": "2024-01-02T04:55:28.925496Z",
     "iopub.status.idle": "2024-01-02T04:55:28.931838Z",
     "shell.execute_reply": "2024-01-02T04:55:28.930352Z"
    },
    "papermill": {
     "duration": 0.034631,
     "end_time": "2024-01-02T04:55:28.934238",
     "exception": false,
     "start_time": "2024-01-02T04:55:28.899607",
     "status": "completed"
    },
    "tags": []
   },
   "outputs": [],
   "source": [
    "cat_features = ['Geography', 'Gender', 'HasCrCard', 'IsActiveMember']\n",
    "num_features = [f for f in features if f not in cat_features]"
   ]
  },
  {
   "cell_type": "code",
   "execution_count": 16,
   "id": "8600220b",
   "metadata": {
    "execution": {
     "iopub.execute_input": "2024-01-02T04:55:28.984097Z",
     "iopub.status.busy": "2024-01-02T04:55:28.983584Z",
     "iopub.status.idle": "2024-01-02T04:55:29.087425Z",
     "shell.execute_reply": "2024-01-02T04:55:29.086183Z"
    },
    "papermill": {
     "duration": 0.132042,
     "end_time": "2024-01-02T04:55:29.090650",
     "exception": false,
     "start_time": "2024-01-02T04:55:28.958608",
     "status": "completed"
    },
    "tags": []
   },
   "outputs": [],
   "source": [
    "train[cat_features] = train[cat_features].astype('category')\n",
    "test[cat_features] = test[cat_features].astype('category')\n",
    "original[cat_features] = original[cat_features].astype('category')"
   ]
  },
  {
   "cell_type": "markdown",
   "id": "8e962165",
   "metadata": {
    "papermill": {
     "duration": 0.02372,
     "end_time": "2024-01-02T04:55:29.138397",
     "exception": false,
     "start_time": "2024-01-02T04:55:29.114677",
     "status": "completed"
    },
    "tags": []
   },
   "source": [
    "**Missing values:**"
   ]
  },
  {
   "cell_type": "code",
   "execution_count": 17,
   "id": "5e8eda6f",
   "metadata": {
    "execution": {
     "iopub.execute_input": "2024-01-02T04:55:29.189591Z",
     "iopub.status.busy": "2024-01-02T04:55:29.189153Z",
     "iopub.status.idle": "2024-01-02T04:55:29.208223Z",
     "shell.execute_reply": "2024-01-02T04:55:29.207122Z"
    },
    "papermill": {
     "duration": 0.048947,
     "end_time": "2024-01-02T04:55:29.211545",
     "exception": false,
     "start_time": "2024-01-02T04:55:29.162598",
     "status": "completed"
    },
    "tags": []
   },
   "outputs": [
    {
     "data": {
      "text/plain": [
       "(0, 0, 4)"
      ]
     },
     "execution_count": 17,
     "metadata": {},
     "output_type": "execute_result"
    }
   ],
   "source": [
    "train.isna().sum().sum(), test.isna().sum().sum(), original.isna().sum().sum()"
   ]
  },
  {
   "cell_type": "code",
   "execution_count": 18,
   "id": "6fa42971",
   "metadata": {
    "execution": {
     "iopub.execute_input": "2024-01-02T04:55:29.274629Z",
     "iopub.status.busy": "2024-01-02T04:55:29.274243Z",
     "iopub.status.idle": "2024-01-02T04:55:29.298278Z",
     "shell.execute_reply": "2024-01-02T04:55:29.297164Z"
    },
    "papermill": {
     "duration": 0.059939,
     "end_time": "2024-01-02T04:55:29.301085",
     "exception": false,
     "start_time": "2024-01-02T04:55:29.241146",
     "status": "completed"
    },
    "tags": []
   },
   "outputs": [
    {
     "data": {
      "text/html": [
       "<div>\n",
       "<style scoped>\n",
       "    .dataframe tbody tr th:only-of-type {\n",
       "        vertical-align: middle;\n",
       "    }\n",
       "\n",
       "    .dataframe tbody tr th {\n",
       "        vertical-align: top;\n",
       "    }\n",
       "\n",
       "    .dataframe thead th {\n",
       "        text-align: right;\n",
       "    }\n",
       "</style>\n",
       "<table border=\"1\" class=\"dataframe\">\n",
       "  <thead>\n",
       "    <tr style=\"text-align: right;\">\n",
       "      <th></th>\n",
       "      <th>CreditScore</th>\n",
       "      <th>Geography</th>\n",
       "      <th>Gender</th>\n",
       "      <th>Age</th>\n",
       "      <th>Tenure</th>\n",
       "      <th>Balance</th>\n",
       "      <th>NumOfProducts</th>\n",
       "      <th>HasCrCard</th>\n",
       "      <th>IsActiveMember</th>\n",
       "      <th>EstimatedSalary</th>\n",
       "      <th>Exited</th>\n",
       "    </tr>\n",
       "  </thead>\n",
       "  <tbody>\n",
       "    <tr>\n",
       "      <th>4</th>\n",
       "      <td>850</td>\n",
       "      <td>Spain</td>\n",
       "      <td>Female</td>\n",
       "      <td>43.0</td>\n",
       "      <td>2</td>\n",
       "      <td>125510.82</td>\n",
       "      <td>1</td>\n",
       "      <td>NaN</td>\n",
       "      <td>1.0</td>\n",
       "      <td>79084.10</td>\n",
       "      <td>0</td>\n",
       "    </tr>\n",
       "    <tr>\n",
       "      <th>6</th>\n",
       "      <td>822</td>\n",
       "      <td>NaN</td>\n",
       "      <td>Male</td>\n",
       "      <td>50.0</td>\n",
       "      <td>7</td>\n",
       "      <td>0.00</td>\n",
       "      <td>2</td>\n",
       "      <td>1.0</td>\n",
       "      <td>1.0</td>\n",
       "      <td>10062.80</td>\n",
       "      <td>0</td>\n",
       "    </tr>\n",
       "    <tr>\n",
       "      <th>8</th>\n",
       "      <td>501</td>\n",
       "      <td>France</td>\n",
       "      <td>Male</td>\n",
       "      <td>44.0</td>\n",
       "      <td>4</td>\n",
       "      <td>142051.07</td>\n",
       "      <td>2</td>\n",
       "      <td>0.0</td>\n",
       "      <td>NaN</td>\n",
       "      <td>74940.50</td>\n",
       "      <td>0</td>\n",
       "    </tr>\n",
       "    <tr>\n",
       "      <th>9</th>\n",
       "      <td>684</td>\n",
       "      <td>France</td>\n",
       "      <td>Male</td>\n",
       "      <td>NaN</td>\n",
       "      <td>2</td>\n",
       "      <td>134603.88</td>\n",
       "      <td>1</td>\n",
       "      <td>1.0</td>\n",
       "      <td>1.0</td>\n",
       "      <td>71725.73</td>\n",
       "      <td>0</td>\n",
       "    </tr>\n",
       "  </tbody>\n",
       "</table>\n",
       "</div>"
      ],
      "text/plain": [
       "   CreditScore Geography  Gender   Age  Tenure    Balance  NumOfProducts  \\\n",
       "4          850     Spain  Female  43.0       2  125510.82              1   \n",
       "6          822       NaN    Male  50.0       7       0.00              2   \n",
       "8          501    France    Male  44.0       4  142051.07              2   \n",
       "9          684    France    Male   NaN       2  134603.88              1   \n",
       "\n",
       "  HasCrCard IsActiveMember  EstimatedSalary  Exited  \n",
       "4       NaN            1.0         79084.10       0  \n",
       "6       1.0            1.0         10062.80       0  \n",
       "8       0.0            NaN         74940.50       0  \n",
       "9       1.0            1.0         71725.73       0  "
      ]
     },
     "execution_count": 18,
     "metadata": {},
     "output_type": "execute_result"
    }
   ],
   "source": [
    "missing_rows = original.isna().any(axis=1)\n",
    "original[missing_rows]"
   ]
  },
  {
   "cell_type": "markdown",
   "id": "8f11e636",
   "metadata": {
    "papermill": {
     "duration": 0.023442,
     "end_time": "2024-01-02T04:55:29.348390",
     "exception": false,
     "start_time": "2024-01-02T04:55:29.324948",
     "status": "completed"
    },
    "tags": []
   },
   "source": [
    "* Only 4 values missing over all three datasets\n",
    "* Original dataset has values missing completely at random\n",
    "* For categorical columns -> fill with target-grouped most frequent\n",
    "* For numerical column -> fill with target-grouped median"
   ]
  },
  {
   "cell_type": "code",
   "execution_count": 19,
   "id": "0df9256c",
   "metadata": {
    "execution": {
     "iopub.execute_input": "2024-01-02T04:55:29.406903Z",
     "iopub.status.busy": "2024-01-02T04:55:29.406351Z",
     "iopub.status.idle": "2024-01-02T04:55:29.476925Z",
     "shell.execute_reply": "2024-01-02T04:55:29.475463Z"
    },
    "papermill": {
     "duration": 0.106531,
     "end_time": "2024-01-02T04:55:29.481523",
     "exception": false,
     "start_time": "2024-01-02T04:55:29.374992",
     "status": "completed"
    },
    "tags": []
   },
   "outputs": [
    {
     "data": {
      "text/html": [
       "<div>\n",
       "<style scoped>\n",
       "    .dataframe tbody tr th:only-of-type {\n",
       "        vertical-align: middle;\n",
       "    }\n",
       "\n",
       "    .dataframe tbody tr th {\n",
       "        vertical-align: top;\n",
       "    }\n",
       "\n",
       "    .dataframe thead tr th {\n",
       "        text-align: left;\n",
       "    }\n",
       "\n",
       "    .dataframe thead tr:last-of-type th {\n",
       "        text-align: right;\n",
       "    }\n",
       "</style>\n",
       "<table border=\"1\" class=\"dataframe\">\n",
       "  <thead>\n",
       "    <tr>\n",
       "      <th></th>\n",
       "      <th colspan=\"4\" halign=\"left\">Geography</th>\n",
       "      <th colspan=\"4\" halign=\"left\">Gender</th>\n",
       "      <th colspan=\"4\" halign=\"left\">HasCrCard</th>\n",
       "      <th colspan=\"4\" halign=\"left\">IsActiveMember</th>\n",
       "    </tr>\n",
       "    <tr>\n",
       "      <th></th>\n",
       "      <th>count</th>\n",
       "      <th>unique</th>\n",
       "      <th>top</th>\n",
       "      <th>freq</th>\n",
       "      <th>count</th>\n",
       "      <th>unique</th>\n",
       "      <th>top</th>\n",
       "      <th>freq</th>\n",
       "      <th>count</th>\n",
       "      <th>unique</th>\n",
       "      <th>top</th>\n",
       "      <th>freq</th>\n",
       "      <th>count</th>\n",
       "      <th>unique</th>\n",
       "      <th>top</th>\n",
       "      <th>freq</th>\n",
       "    </tr>\n",
       "    <tr>\n",
       "      <th>Exited</th>\n",
       "      <th></th>\n",
       "      <th></th>\n",
       "      <th></th>\n",
       "      <th></th>\n",
       "      <th></th>\n",
       "      <th></th>\n",
       "      <th></th>\n",
       "      <th></th>\n",
       "      <th></th>\n",
       "      <th></th>\n",
       "      <th></th>\n",
       "      <th></th>\n",
       "      <th></th>\n",
       "      <th></th>\n",
       "      <th></th>\n",
       "      <th></th>\n",
       "    </tr>\n",
       "  </thead>\n",
       "  <tbody>\n",
       "    <tr>\n",
       "      <th>0</th>\n",
       "      <td>7963</td>\n",
       "      <td>3</td>\n",
       "      <td>France</td>\n",
       "      <td>4204</td>\n",
       "      <td>7964</td>\n",
       "      <td>2</td>\n",
       "      <td>Male</td>\n",
       "      <td>4559</td>\n",
       "      <td>7963.0</td>\n",
       "      <td>2.0</td>\n",
       "      <td>1.0</td>\n",
       "      <td>5631.0</td>\n",
       "      <td>7963.0</td>\n",
       "      <td>2.0</td>\n",
       "      <td>1.0</td>\n",
       "      <td>4415.0</td>\n",
       "    </tr>\n",
       "    <tr>\n",
       "      <th>1</th>\n",
       "      <td>2038</td>\n",
       "      <td>3</td>\n",
       "      <td>Germany</td>\n",
       "      <td>815</td>\n",
       "      <td>2038</td>\n",
       "      <td>2</td>\n",
       "      <td>Female</td>\n",
       "      <td>1139</td>\n",
       "      <td>2038.0</td>\n",
       "      <td>2.0</td>\n",
       "      <td>1.0</td>\n",
       "      <td>1425.0</td>\n",
       "      <td>2038.0</td>\n",
       "      <td>2.0</td>\n",
       "      <td>0.0</td>\n",
       "      <td>1303.0</td>\n",
       "    </tr>\n",
       "  </tbody>\n",
       "</table>\n",
       "</div>"
      ],
      "text/plain": [
       "       Geography                       Gender                      HasCrCard  \\\n",
       "           count unique      top  freq  count unique     top  freq     count   \n",
       "Exited                                                                         \n",
       "0           7963      3   France  4204   7964      2    Male  4559    7963.0   \n",
       "1           2038      3  Germany   815   2038      2  Female  1139    2038.0   \n",
       "\n",
       "                           IsActiveMember                      \n",
       "       unique  top    freq          count unique  top    freq  \n",
       "Exited                                                         \n",
       "0         2.0  1.0  5631.0         7963.0    2.0  1.0  4415.0  \n",
       "1         2.0  1.0  1425.0         2038.0    2.0  0.0  1303.0  "
      ]
     },
     "execution_count": 19,
     "metadata": {},
     "output_type": "execute_result"
    }
   ],
   "source": [
    "original.groupby(TARGET)[cat_features].describe()"
   ]
  },
  {
   "cell_type": "code",
   "execution_count": 20,
   "id": "5f213c9d",
   "metadata": {
    "execution": {
     "iopub.execute_input": "2024-01-02T04:55:29.539113Z",
     "iopub.status.busy": "2024-01-02T04:55:29.538660Z",
     "iopub.status.idle": "2024-01-02T04:55:29.547261Z",
     "shell.execute_reply": "2024-01-02T04:55:29.546169Z"
    },
    "papermill": {
     "duration": 0.039402,
     "end_time": "2024-01-02T04:55:29.549787",
     "exception": false,
     "start_time": "2024-01-02T04:55:29.510385",
     "status": "completed"
    },
    "tags": []
   },
   "outputs": [],
   "source": [
    "original['HasCrCard'].fillna(value=1, inplace=True)\n",
    "original['Geography'].fillna(value='France', inplace=True)\n",
    "original['IsActiveMember'].fillna(value=1, inplace=True)"
   ]
  },
  {
   "cell_type": "code",
   "execution_count": 21,
   "id": "9371473c",
   "metadata": {
    "execution": {
     "iopub.execute_input": "2024-01-02T04:55:29.600411Z",
     "iopub.status.busy": "2024-01-02T04:55:29.600018Z",
     "iopub.status.idle": "2024-01-02T04:55:29.628956Z",
     "shell.execute_reply": "2024-01-02T04:55:29.627582Z"
    },
    "papermill": {
     "duration": 0.057852,
     "end_time": "2024-01-02T04:55:29.631545",
     "exception": false,
     "start_time": "2024-01-02T04:55:29.573693",
     "status": "completed"
    },
    "tags": []
   },
   "outputs": [
    {
     "data": {
      "text/html": [
       "<div>\n",
       "<style scoped>\n",
       "    .dataframe tbody tr th:only-of-type {\n",
       "        vertical-align: middle;\n",
       "    }\n",
       "\n",
       "    .dataframe tbody tr th {\n",
       "        vertical-align: top;\n",
       "    }\n",
       "\n",
       "    .dataframe thead th {\n",
       "        text-align: right;\n",
       "    }\n",
       "</style>\n",
       "<table border=\"1\" class=\"dataframe\">\n",
       "  <thead>\n",
       "    <tr style=\"text-align: right;\">\n",
       "      <th></th>\n",
       "      <th>count</th>\n",
       "      <th>mean</th>\n",
       "      <th>std</th>\n",
       "      <th>min</th>\n",
       "      <th>25%</th>\n",
       "      <th>50%</th>\n",
       "      <th>75%</th>\n",
       "      <th>max</th>\n",
       "    </tr>\n",
       "    <tr>\n",
       "      <th>Exited</th>\n",
       "      <th></th>\n",
       "      <th></th>\n",
       "      <th></th>\n",
       "      <th></th>\n",
       "      <th></th>\n",
       "      <th></th>\n",
       "      <th></th>\n",
       "      <th></th>\n",
       "    </tr>\n",
       "  </thead>\n",
       "  <tbody>\n",
       "    <tr>\n",
       "      <th>0</th>\n",
       "      <td>7963.0</td>\n",
       "      <td>37.408644</td>\n",
       "      <td>10.125235</td>\n",
       "      <td>18.0</td>\n",
       "      <td>31.0</td>\n",
       "      <td>36.0</td>\n",
       "      <td>41.0</td>\n",
       "      <td>92.0</td>\n",
       "    </tr>\n",
       "    <tr>\n",
       "      <th>1</th>\n",
       "      <td>2038.0</td>\n",
       "      <td>44.836605</td>\n",
       "      <td>9.759368</td>\n",
       "      <td>18.0</td>\n",
       "      <td>38.0</td>\n",
       "      <td>45.0</td>\n",
       "      <td>51.0</td>\n",
       "      <td>84.0</td>\n",
       "    </tr>\n",
       "  </tbody>\n",
       "</table>\n",
       "</div>"
      ],
      "text/plain": [
       "         count       mean        std   min   25%   50%   75%   max\n",
       "Exited                                                            \n",
       "0       7963.0  37.408644  10.125235  18.0  31.0  36.0  41.0  92.0\n",
       "1       2038.0  44.836605   9.759368  18.0  38.0  45.0  51.0  84.0"
      ]
     },
     "execution_count": 21,
     "metadata": {},
     "output_type": "execute_result"
    }
   ],
   "source": [
    "original.groupby(TARGET)['Age'].describe()"
   ]
  },
  {
   "cell_type": "code",
   "execution_count": 22,
   "id": "22eadf7c",
   "metadata": {
    "execution": {
     "iopub.execute_input": "2024-01-02T04:55:29.691372Z",
     "iopub.status.busy": "2024-01-02T04:55:29.690215Z",
     "iopub.status.idle": "2024-01-02T04:55:29.696540Z",
     "shell.execute_reply": "2024-01-02T04:55:29.695694Z"
    },
    "papermill": {
     "duration": 0.038707,
     "end_time": "2024-01-02T04:55:29.699020",
     "exception": false,
     "start_time": "2024-01-02T04:55:29.660313",
     "status": "completed"
    },
    "tags": []
   },
   "outputs": [],
   "source": [
    "original['Age'].fillna(value=36, inplace=True)"
   ]
  },
  {
   "cell_type": "markdown",
   "id": "039ea03e",
   "metadata": {
    "papermill": {
     "duration": 0.024104,
     "end_time": "2024-01-02T04:55:29.750506",
     "exception": false,
     "start_time": "2024-01-02T04:55:29.726402",
     "status": "completed"
    },
    "tags": []
   },
   "source": [
    "**Duplicates:**"
   ]
  },
  {
   "cell_type": "markdown",
   "id": "a260d530",
   "metadata": {
    "papermill": {
     "duration": 0.024676,
     "end_time": "2024-01-02T04:55:29.799525",
     "exception": false,
     "start_time": "2024-01-02T04:55:29.774849",
     "status": "completed"
    },
    "tags": []
   },
   "source": [
    "Within train dataset -"
   ]
  },
  {
   "cell_type": "code",
   "execution_count": 23,
   "id": "e1b4c1e6",
   "metadata": {
    "execution": {
     "iopub.execute_input": "2024-01-02T04:55:29.850809Z",
     "iopub.status.busy": "2024-01-02T04:55:29.850042Z",
     "iopub.status.idle": "2024-01-02T04:55:29.943416Z",
     "shell.execute_reply": "2024-01-02T04:55:29.942050Z"
    },
    "papermill": {
     "duration": 0.122731,
     "end_time": "2024-01-02T04:55:29.946476",
     "exception": false,
     "start_time": "2024-01-02T04:55:29.823745",
     "status": "completed"
    },
    "tags": []
   },
   "outputs": [
    {
     "data": {
      "text/plain": [
       "(123, 175)"
      ]
     },
     "execution_count": 23,
     "metadata": {},
     "output_type": "execute_result"
    }
   ],
   "source": [
    "train.duplicated().sum(), train.drop(TARGET, axis=1).duplicated().sum()"
   ]
  },
  {
   "cell_type": "code",
   "execution_count": 24,
   "id": "3ac9641d",
   "metadata": {
    "execution": {
     "iopub.execute_input": "2024-01-02T04:55:30.000450Z",
     "iopub.status.busy": "2024-01-02T04:55:29.999934Z",
     "iopub.status.idle": "2024-01-02T04:55:30.055748Z",
     "shell.execute_reply": "2024-01-02T04:55:30.054504Z"
    },
    "papermill": {
     "duration": 0.086439,
     "end_time": "2024-01-02T04:55:30.058910",
     "exception": false,
     "start_time": "2024-01-02T04:55:29.972471",
     "status": "completed"
    },
    "tags": []
   },
   "outputs": [],
   "source": [
    "train = train.drop_duplicates(keep='first', ignore_index=True)"
   ]
  },
  {
   "cell_type": "code",
   "execution_count": 25,
   "id": "341cbbb0",
   "metadata": {
    "execution": {
     "iopub.execute_input": "2024-01-02T04:55:30.111797Z",
     "iopub.status.busy": "2024-01-02T04:55:30.111325Z",
     "iopub.status.idle": "2024-01-02T04:55:30.176439Z",
     "shell.execute_reply": "2024-01-02T04:55:30.175438Z"
    },
    "papermill": {
     "duration": 0.09557,
     "end_time": "2024-01-02T04:55:30.179832",
     "exception": false,
     "start_time": "2024-01-02T04:55:30.084262",
     "status": "completed"
    },
    "tags": []
   },
   "outputs": [
    {
     "data": {
      "text/html": [
       "<div>\n",
       "<style scoped>\n",
       "    .dataframe tbody tr th:only-of-type {\n",
       "        vertical-align: middle;\n",
       "    }\n",
       "\n",
       "    .dataframe tbody tr th {\n",
       "        vertical-align: top;\n",
       "    }\n",
       "\n",
       "    .dataframe thead th {\n",
       "        text-align: right;\n",
       "    }\n",
       "</style>\n",
       "<table border=\"1\" class=\"dataframe\">\n",
       "  <thead>\n",
       "    <tr style=\"text-align: right;\">\n",
       "      <th></th>\n",
       "      <th>CreditScore</th>\n",
       "      <th>Geography</th>\n",
       "      <th>Gender</th>\n",
       "      <th>Age</th>\n",
       "      <th>Tenure</th>\n",
       "      <th>Balance</th>\n",
       "      <th>NumOfProducts</th>\n",
       "      <th>HasCrCard</th>\n",
       "      <th>IsActiveMember</th>\n",
       "      <th>EstimatedSalary</th>\n",
       "      <th>Exited</th>\n",
       "    </tr>\n",
       "  </thead>\n",
       "  <tbody>\n",
       "    <tr>\n",
       "      <th>39850</th>\n",
       "      <td>468</td>\n",
       "      <td>Spain</td>\n",
       "      <td>Male</td>\n",
       "      <td>26.0</td>\n",
       "      <td>1</td>\n",
       "      <td>131643.25</td>\n",
       "      <td>1</td>\n",
       "      <td>1.0</td>\n",
       "      <td>0.0</td>\n",
       "      <td>64436.16</td>\n",
       "      <td>0</td>\n",
       "    </tr>\n",
       "    <tr>\n",
       "      <th>111582</th>\n",
       "      <td>468</td>\n",
       "      <td>Spain</td>\n",
       "      <td>Male</td>\n",
       "      <td>26.0</td>\n",
       "      <td>1</td>\n",
       "      <td>131643.25</td>\n",
       "      <td>1</td>\n",
       "      <td>1.0</td>\n",
       "      <td>0.0</td>\n",
       "      <td>64436.16</td>\n",
       "      <td>1</td>\n",
       "    </tr>\n",
       "    <tr>\n",
       "      <th>127331</th>\n",
       "      <td>498</td>\n",
       "      <td>Germany</td>\n",
       "      <td>Male</td>\n",
       "      <td>25.0</td>\n",
       "      <td>8</td>\n",
       "      <td>121702.73</td>\n",
       "      <td>1</td>\n",
       "      <td>1.0</td>\n",
       "      <td>1.0</td>\n",
       "      <td>132210.49</td>\n",
       "      <td>1</td>\n",
       "    </tr>\n",
       "    <tr>\n",
       "      <th>152754</th>\n",
       "      <td>498</td>\n",
       "      <td>Germany</td>\n",
       "      <td>Male</td>\n",
       "      <td>25.0</td>\n",
       "      <td>8</td>\n",
       "      <td>121702.73</td>\n",
       "      <td>1</td>\n",
       "      <td>1.0</td>\n",
       "      <td>1.0</td>\n",
       "      <td>132210.49</td>\n",
       "      <td>0</td>\n",
       "    </tr>\n",
       "    <tr>\n",
       "      <th>61518</th>\n",
       "      <td>504</td>\n",
       "      <td>Germany</td>\n",
       "      <td>Female</td>\n",
       "      <td>43.0</td>\n",
       "      <td>7</td>\n",
       "      <td>102365.49</td>\n",
       "      <td>1</td>\n",
       "      <td>1.0</td>\n",
       "      <td>1.0</td>\n",
       "      <td>194690.77</td>\n",
       "      <td>1</td>\n",
       "    </tr>\n",
       "    <tr>\n",
       "      <th>68681</th>\n",
       "      <td>504</td>\n",
       "      <td>Germany</td>\n",
       "      <td>Female</td>\n",
       "      <td>43.0</td>\n",
       "      <td>7</td>\n",
       "      <td>102365.49</td>\n",
       "      <td>1</td>\n",
       "      <td>1.0</td>\n",
       "      <td>1.0</td>\n",
       "      <td>194690.77</td>\n",
       "      <td>0</td>\n",
       "    </tr>\n",
       "  </tbody>\n",
       "</table>\n",
       "</div>"
      ],
      "text/plain": [
       "        CreditScore Geography  Gender   Age  Tenure    Balance  NumOfProducts  \\\n",
       "39850           468     Spain    Male  26.0       1  131643.25              1   \n",
       "111582          468     Spain    Male  26.0       1  131643.25              1   \n",
       "127331          498   Germany    Male  25.0       8  121702.73              1   \n",
       "152754          498   Germany    Male  25.0       8  121702.73              1   \n",
       "61518           504   Germany  Female  43.0       7  102365.49              1   \n",
       "68681           504   Germany  Female  43.0       7  102365.49              1   \n",
       "\n",
       "       HasCrCard IsActiveMember  EstimatedSalary  Exited  \n",
       "39850        1.0            0.0         64436.16       0  \n",
       "111582       1.0            0.0         64436.16       1  \n",
       "127331       1.0            1.0        132210.49       1  \n",
       "152754       1.0            1.0        132210.49       0  \n",
       "61518        1.0            1.0        194690.77       1  \n",
       "68681        1.0            1.0        194690.77       0  "
      ]
     },
     "execution_count": 25,
     "metadata": {},
     "output_type": "execute_result"
    }
   ],
   "source": [
    "dup_rows = train.drop(TARGET, axis=1).duplicated(keep=False)\n",
    "train[dup_rows].sort_values(by='CreditScore')[:6]"
   ]
  },
  {
   "cell_type": "code",
   "execution_count": 26,
   "id": "60f4ac6d",
   "metadata": {
    "execution": {
     "iopub.execute_input": "2024-01-02T04:55:30.233399Z",
     "iopub.status.busy": "2024-01-02T04:55:30.232904Z",
     "iopub.status.idle": "2024-01-02T04:55:30.289609Z",
     "shell.execute_reply": "2024-01-02T04:55:30.288245Z"
    },
    "papermill": {
     "duration": 0.087344,
     "end_time": "2024-01-02T04:55:30.292790",
     "exception": false,
     "start_time": "2024-01-02T04:55:30.205446",
     "status": "completed"
    },
    "tags": []
   },
   "outputs": [],
   "source": [
    "train = train.drop_duplicates(subset=features, keep=False, ignore_index=True)"
   ]
  },
  {
   "cell_type": "markdown",
   "id": "3328c2e0",
   "metadata": {
    "papermill": {
     "duration": 0.025155,
     "end_time": "2024-01-02T04:55:30.343698",
     "exception": false,
     "start_time": "2024-01-02T04:55:30.318543",
     "status": "completed"
    },
    "tags": []
   },
   "source": [
    "Within original dataset -"
   ]
  },
  {
   "cell_type": "code",
   "execution_count": 27,
   "id": "ef9d24c3",
   "metadata": {
    "execution": {
     "iopub.execute_input": "2024-01-02T04:55:30.398446Z",
     "iopub.status.busy": "2024-01-02T04:55:30.397999Z",
     "iopub.status.idle": "2024-01-02T04:55:30.419876Z",
     "shell.execute_reply": "2024-01-02T04:55:30.418403Z"
    },
    "papermill": {
     "duration": 0.053592,
     "end_time": "2024-01-02T04:55:30.423033",
     "exception": false,
     "start_time": "2024-01-02T04:55:30.369441",
     "status": "completed"
    },
    "tags": []
   },
   "outputs": [
    {
     "data": {
      "text/plain": [
       "(2, 2)"
      ]
     },
     "execution_count": 27,
     "metadata": {},
     "output_type": "execute_result"
    }
   ],
   "source": [
    "original.duplicated().sum(), original.drop(TARGET, axis=1).duplicated().sum()"
   ]
  },
  {
   "cell_type": "code",
   "execution_count": 28,
   "id": "45a68c16",
   "metadata": {
    "execution": {
     "iopub.execute_input": "2024-01-02T04:55:30.476015Z",
     "iopub.status.busy": "2024-01-02T04:55:30.475512Z",
     "iopub.status.idle": "2024-01-02T04:55:30.502208Z",
     "shell.execute_reply": "2024-01-02T04:55:30.500751Z"
    },
    "papermill": {
     "duration": 0.055932,
     "end_time": "2024-01-02T04:55:30.504673",
     "exception": false,
     "start_time": "2024-01-02T04:55:30.448741",
     "status": "completed"
    },
    "tags": []
   },
   "outputs": [
    {
     "data": {
      "text/html": [
       "<div>\n",
       "<style scoped>\n",
       "    .dataframe tbody tr th:only-of-type {\n",
       "        vertical-align: middle;\n",
       "    }\n",
       "\n",
       "    .dataframe tbody tr th {\n",
       "        vertical-align: top;\n",
       "    }\n",
       "\n",
       "    .dataframe thead th {\n",
       "        text-align: right;\n",
       "    }\n",
       "</style>\n",
       "<table border=\"1\" class=\"dataframe\">\n",
       "  <thead>\n",
       "    <tr style=\"text-align: right;\">\n",
       "      <th></th>\n",
       "      <th>CreditScore</th>\n",
       "      <th>Geography</th>\n",
       "      <th>Gender</th>\n",
       "      <th>Age</th>\n",
       "      <th>Tenure</th>\n",
       "      <th>Balance</th>\n",
       "      <th>NumOfProducts</th>\n",
       "      <th>HasCrCard</th>\n",
       "      <th>IsActiveMember</th>\n",
       "      <th>EstimatedSalary</th>\n",
       "      <th>Exited</th>\n",
       "    </tr>\n",
       "  </thead>\n",
       "  <tbody>\n",
       "    <tr>\n",
       "      <th>9998</th>\n",
       "      <td>772</td>\n",
       "      <td>Germany</td>\n",
       "      <td>Male</td>\n",
       "      <td>42.0</td>\n",
       "      <td>3</td>\n",
       "      <td>75075.31</td>\n",
       "      <td>2</td>\n",
       "      <td>1.0</td>\n",
       "      <td>0.0</td>\n",
       "      <td>92888.52</td>\n",
       "      <td>1</td>\n",
       "    </tr>\n",
       "    <tr>\n",
       "      <th>9999</th>\n",
       "      <td>772</td>\n",
       "      <td>Germany</td>\n",
       "      <td>Male</td>\n",
       "      <td>42.0</td>\n",
       "      <td>3</td>\n",
       "      <td>75075.31</td>\n",
       "      <td>2</td>\n",
       "      <td>1.0</td>\n",
       "      <td>0.0</td>\n",
       "      <td>92888.52</td>\n",
       "      <td>1</td>\n",
       "    </tr>\n",
       "    <tr>\n",
       "      <th>10000</th>\n",
       "      <td>792</td>\n",
       "      <td>France</td>\n",
       "      <td>Female</td>\n",
       "      <td>28.0</td>\n",
       "      <td>4</td>\n",
       "      <td>130142.79</td>\n",
       "      <td>1</td>\n",
       "      <td>1.0</td>\n",
       "      <td>0.0</td>\n",
       "      <td>38190.78</td>\n",
       "      <td>0</td>\n",
       "    </tr>\n",
       "    <tr>\n",
       "      <th>10001</th>\n",
       "      <td>792</td>\n",
       "      <td>France</td>\n",
       "      <td>Female</td>\n",
       "      <td>28.0</td>\n",
       "      <td>4</td>\n",
       "      <td>130142.79</td>\n",
       "      <td>1</td>\n",
       "      <td>1.0</td>\n",
       "      <td>0.0</td>\n",
       "      <td>38190.78</td>\n",
       "      <td>0</td>\n",
       "    </tr>\n",
       "  </tbody>\n",
       "</table>\n",
       "</div>"
      ],
      "text/plain": [
       "       CreditScore Geography  Gender   Age  Tenure    Balance  NumOfProducts  \\\n",
       "9998           772   Germany    Male  42.0       3   75075.31              2   \n",
       "9999           772   Germany    Male  42.0       3   75075.31              2   \n",
       "10000          792    France  Female  28.0       4  130142.79              1   \n",
       "10001          792    France  Female  28.0       4  130142.79              1   \n",
       "\n",
       "      HasCrCard IsActiveMember  EstimatedSalary  Exited  \n",
       "9998        1.0            0.0         92888.52       1  \n",
       "9999        1.0            0.0         92888.52       1  \n",
       "10000       1.0            0.0         38190.78       0  \n",
       "10001       1.0            0.0         38190.78       0  "
      ]
     },
     "execution_count": 28,
     "metadata": {},
     "output_type": "execute_result"
    }
   ],
   "source": [
    "dup_rows = original.duplicated(keep=False)\n",
    "original[dup_rows]"
   ]
  },
  {
   "cell_type": "code",
   "execution_count": 29,
   "id": "e0e739f4",
   "metadata": {
    "execution": {
     "iopub.execute_input": "2024-01-02T04:55:30.559074Z",
     "iopub.status.busy": "2024-01-02T04:55:30.558625Z",
     "iopub.status.idle": "2024-01-02T04:55:30.571061Z",
     "shell.execute_reply": "2024-01-02T04:55:30.569619Z"
    },
    "papermill": {
     "duration": 0.044182,
     "end_time": "2024-01-02T04:55:30.573937",
     "exception": false,
     "start_time": "2024-01-02T04:55:30.529755",
     "status": "completed"
    },
    "tags": []
   },
   "outputs": [],
   "source": [
    "original = original.drop_duplicates(keep='first', ignore_index=True)"
   ]
  },
  {
   "cell_type": "markdown",
   "id": "47a6ee97",
   "metadata": {
    "papermill": {
     "duration": 0.025797,
     "end_time": "2024-01-02T04:55:30.626669",
     "exception": false,
     "start_time": "2024-01-02T04:55:30.600872",
     "status": "completed"
    },
    "tags": []
   },
   "source": [
    "Between train and original:"
   ]
  },
  {
   "cell_type": "code",
   "execution_count": 30,
   "id": "483a806a",
   "metadata": {
    "execution": {
     "iopub.execute_input": "2024-01-02T04:55:30.682263Z",
     "iopub.status.busy": "2024-01-02T04:55:30.681289Z",
     "iopub.status.idle": "2024-01-02T04:55:30.739488Z",
     "shell.execute_reply": "2024-01-02T04:55:30.738071Z"
    },
    "papermill": {
     "duration": 0.089697,
     "end_time": "2024-01-02T04:55:30.742334",
     "exception": false,
     "start_time": "2024-01-02T04:55:30.652637",
     "status": "completed"
    },
    "tags": []
   },
   "outputs": [
    {
     "data": {
      "text/plain": [
       "416"
      ]
     },
     "execution_count": 30,
     "metadata": {},
     "output_type": "execute_result"
    }
   ],
   "source": [
    "pd.concat([train, original]).duplicated().sum()"
   ]
  },
  {
   "cell_type": "code",
   "execution_count": 31,
   "id": "9f42ece6",
   "metadata": {
    "execution": {
     "iopub.execute_input": "2024-01-02T04:55:30.796543Z",
     "iopub.status.busy": "2024-01-02T04:55:30.796153Z",
     "iopub.status.idle": "2024-01-02T04:55:30.855926Z",
     "shell.execute_reply": "2024-01-02T04:55:30.854381Z"
    },
    "papermill": {
     "duration": 0.090524,
     "end_time": "2024-01-02T04:55:30.858804",
     "exception": false,
     "start_time": "2024-01-02T04:55:30.768280",
     "status": "completed"
    },
    "tags": []
   },
   "outputs": [
    {
     "data": {
      "text/plain": [
       "1082"
      ]
     },
     "execution_count": 31,
     "metadata": {},
     "output_type": "execute_result"
    }
   ],
   "source": [
    "pd.concat([train.drop(TARGET, axis=1), original.drop(TARGET, axis=1)]).duplicated().sum()"
   ]
  },
  {
   "cell_type": "code",
   "execution_count": 32,
   "id": "bd711ba8",
   "metadata": {
    "execution": {
     "iopub.execute_input": "2024-01-02T04:55:30.917482Z",
     "iopub.status.busy": "2024-01-02T04:55:30.917087Z",
     "iopub.status.idle": "2024-01-02T04:55:30.994647Z",
     "shell.execute_reply": "2024-01-02T04:55:30.993320Z"
    },
    "papermill": {
     "duration": 0.108441,
     "end_time": "2024-01-02T04:55:30.997255",
     "exception": false,
     "start_time": "2024-01-02T04:55:30.888814",
     "status": "completed"
    },
    "tags": []
   },
   "outputs": [
    {
     "data": {
      "text/html": [
       "<div>\n",
       "<style scoped>\n",
       "    .dataframe tbody tr th:only-of-type {\n",
       "        vertical-align: middle;\n",
       "    }\n",
       "\n",
       "    .dataframe tbody tr th {\n",
       "        vertical-align: top;\n",
       "    }\n",
       "\n",
       "    .dataframe thead th {\n",
       "        text-align: right;\n",
       "    }\n",
       "</style>\n",
       "<table border=\"1\" class=\"dataframe\">\n",
       "  <thead>\n",
       "    <tr style=\"text-align: right;\">\n",
       "      <th></th>\n",
       "      <th>CreditScore</th>\n",
       "      <th>Geography</th>\n",
       "      <th>Gender</th>\n",
       "      <th>Age</th>\n",
       "      <th>Tenure</th>\n",
       "      <th>Balance</th>\n",
       "      <th>NumOfProducts</th>\n",
       "      <th>HasCrCard</th>\n",
       "      <th>IsActiveMember</th>\n",
       "      <th>EstimatedSalary</th>\n",
       "      <th>Exited</th>\n",
       "    </tr>\n",
       "  </thead>\n",
       "  <tbody>\n",
       "    <tr>\n",
       "      <th>174431</th>\n",
       "      <td>350</td>\n",
       "      <td>France</td>\n",
       "      <td>Female</td>\n",
       "      <td>40.0</td>\n",
       "      <td>0</td>\n",
       "      <td>111098.85</td>\n",
       "      <td>1</td>\n",
       "      <td>1.0</td>\n",
       "      <td>1.0</td>\n",
       "      <td>172321.21</td>\n",
       "      <td>1</td>\n",
       "    </tr>\n",
       "    <tr>\n",
       "      <th>106540</th>\n",
       "      <td>350</td>\n",
       "      <td>France</td>\n",
       "      <td>Female</td>\n",
       "      <td>40.0</td>\n",
       "      <td>0</td>\n",
       "      <td>111098.85</td>\n",
       "      <td>1</td>\n",
       "      <td>1.0</td>\n",
       "      <td>1.0</td>\n",
       "      <td>172321.21</td>\n",
       "      <td>0</td>\n",
       "    </tr>\n",
       "    <tr>\n",
       "      <th>172961</th>\n",
       "      <td>367</td>\n",
       "      <td>Spain</td>\n",
       "      <td>Male</td>\n",
       "      <td>42.0</td>\n",
       "      <td>6</td>\n",
       "      <td>93608.28</td>\n",
       "      <td>1</td>\n",
       "      <td>1.0</td>\n",
       "      <td>0.0</td>\n",
       "      <td>168816.73</td>\n",
       "      <td>1</td>\n",
       "    </tr>\n",
       "    <tr>\n",
       "      <th>39342</th>\n",
       "      <td>367</td>\n",
       "      <td>Spain</td>\n",
       "      <td>Male</td>\n",
       "      <td>42.0</td>\n",
       "      <td>6</td>\n",
       "      <td>93608.28</td>\n",
       "      <td>1</td>\n",
       "      <td>1.0</td>\n",
       "      <td>0.0</td>\n",
       "      <td>168816.73</td>\n",
       "      <td>0</td>\n",
       "    </tr>\n",
       "    <tr>\n",
       "      <th>165749</th>\n",
       "      <td>376</td>\n",
       "      <td>France</td>\n",
       "      <td>Female</td>\n",
       "      <td>46.0</td>\n",
       "      <td>6</td>\n",
       "      <td>0.00</td>\n",
       "      <td>1</td>\n",
       "      <td>1.0</td>\n",
       "      <td>0.0</td>\n",
       "      <td>157333.69</td>\n",
       "      <td>1</td>\n",
       "    </tr>\n",
       "    <tr>\n",
       "      <th>105905</th>\n",
       "      <td>376</td>\n",
       "      <td>France</td>\n",
       "      <td>Female</td>\n",
       "      <td>46.0</td>\n",
       "      <td>6</td>\n",
       "      <td>0.00</td>\n",
       "      <td>1</td>\n",
       "      <td>1.0</td>\n",
       "      <td>0.0</td>\n",
       "      <td>157333.69</td>\n",
       "      <td>0</td>\n",
       "    </tr>\n",
       "    <tr>\n",
       "      <th>174017</th>\n",
       "      <td>382</td>\n",
       "      <td>Spain</td>\n",
       "      <td>Male</td>\n",
       "      <td>36.0</td>\n",
       "      <td>0</td>\n",
       "      <td>0.00</td>\n",
       "      <td>1</td>\n",
       "      <td>1.0</td>\n",
       "      <td>1.0</td>\n",
       "      <td>179540.73</td>\n",
       "      <td>1</td>\n",
       "    </tr>\n",
       "    <tr>\n",
       "      <th>146664</th>\n",
       "      <td>382</td>\n",
       "      <td>Spain</td>\n",
       "      <td>Male</td>\n",
       "      <td>36.0</td>\n",
       "      <td>0</td>\n",
       "      <td>0.00</td>\n",
       "      <td>1</td>\n",
       "      <td>1.0</td>\n",
       "      <td>1.0</td>\n",
       "      <td>179540.73</td>\n",
       "      <td>0</td>\n",
       "    </tr>\n",
       "    <tr>\n",
       "      <th>168338</th>\n",
       "      <td>408</td>\n",
       "      <td>France</td>\n",
       "      <td>Female</td>\n",
       "      <td>84.0</td>\n",
       "      <td>8</td>\n",
       "      <td>87873.39</td>\n",
       "      <td>1</td>\n",
       "      <td>0.0</td>\n",
       "      <td>0.0</td>\n",
       "      <td>188484.52</td>\n",
       "      <td>1</td>\n",
       "    </tr>\n",
       "    <tr>\n",
       "      <th>147244</th>\n",
       "      <td>408</td>\n",
       "      <td>France</td>\n",
       "      <td>Female</td>\n",
       "      <td>84.0</td>\n",
       "      <td>8</td>\n",
       "      <td>87873.39</td>\n",
       "      <td>1</td>\n",
       "      <td>0.0</td>\n",
       "      <td>0.0</td>\n",
       "      <td>188484.52</td>\n",
       "      <td>0</td>\n",
       "    </tr>\n",
       "  </tbody>\n",
       "</table>\n",
       "</div>"
      ],
      "text/plain": [
       "        CreditScore Geography  Gender   Age  Tenure    Balance  NumOfProducts  \\\n",
       "174431          350    France  Female  40.0       0  111098.85              1   \n",
       "106540          350    France  Female  40.0       0  111098.85              1   \n",
       "172961          367     Spain    Male  42.0       6   93608.28              1   \n",
       "39342           367     Spain    Male  42.0       6   93608.28              1   \n",
       "165749          376    France  Female  46.0       6       0.00              1   \n",
       "105905          376    France  Female  46.0       6       0.00              1   \n",
       "174017          382     Spain    Male  36.0       0       0.00              1   \n",
       "146664          382     Spain    Male  36.0       0       0.00              1   \n",
       "168338          408    France  Female  84.0       8   87873.39              1   \n",
       "147244          408    France  Female  84.0       8   87873.39              1   \n",
       "\n",
       "       HasCrCard IsActiveMember  EstimatedSalary  Exited  \n",
       "174431       1.0            1.0        172321.21       1  \n",
       "106540       1.0            1.0        172321.21       0  \n",
       "172961       1.0            0.0        168816.73       1  \n",
       "39342        1.0            0.0        168816.73       0  \n",
       "165749       1.0            0.0        157333.69       1  \n",
       "105905       1.0            0.0        157333.69       0  \n",
       "174017       1.0            1.0        179540.73       1  \n",
       "146664       1.0            1.0        179540.73       0  \n",
       "168338       0.0            0.0        188484.52       1  \n",
       "147244       0.0            0.0        188484.52       0  "
      ]
     },
     "execution_count": 32,
     "metadata": {},
     "output_type": "execute_result"
    }
   ],
   "source": [
    "labeled = pd.concat([train, original], axis=0, ignore_index=True)\n",
    "dup_rows = labeled.duplicated(subset=features, keep=False)\n",
    "labeled[dup_rows].sort_values(by='CreditScore')[:10]"
   ]
  },
  {
   "cell_type": "markdown",
   "id": "0716075a",
   "metadata": {
    "papermill": {
     "duration": 0.026804,
     "end_time": "2024-01-02T04:55:31.053112",
     "exception": false,
     "start_time": "2024-01-02T04:55:31.026308",
     "status": "completed"
    },
    "tags": []
   },
   "source": [
    "These need to be removed if we include original data for training our model.  \n",
    "Can be handled in our cross-validation framework."
   ]
  },
  {
   "cell_type": "markdown",
   "id": "ab8e435f",
   "metadata": {
    "papermill": {
     "duration": 0.026487,
     "end_time": "2024-01-02T04:55:31.106336",
     "exception": false,
     "start_time": "2024-01-02T04:55:31.079849",
     "status": "completed"
    },
    "tags": []
   },
   "source": [
    "# Preprocessing"
   ]
  },
  {
   "cell_type": "code",
   "execution_count": 33,
   "id": "501610f6",
   "metadata": {
    "execution": {
     "iopub.execute_input": "2024-01-02T04:55:31.162395Z",
     "iopub.status.busy": "2024-01-02T04:55:31.161957Z",
     "iopub.status.idle": "2024-01-02T04:55:31.177279Z",
     "shell.execute_reply": "2024-01-02T04:55:31.176076Z"
    },
    "papermill": {
     "duration": 0.047084,
     "end_time": "2024-01-02T04:55:31.180373",
     "exception": false,
     "start_time": "2024-01-02T04:55:31.133289",
     "status": "completed"
    },
    "tags": []
   },
   "outputs": [],
   "source": [
    "gender_mapping = {'Female': 0, 'Male': 1}\n",
    "\n",
    "train['Gender'] = train['Gender'].replace(gender_mapping).astype('int8')\n",
    "test['Gender'] = test['Gender'].replace(gender_mapping).astype('int8')\n",
    "original['Gender'] = original['Gender'].replace(gender_mapping).astype('int8')"
   ]
  },
  {
   "cell_type": "code",
   "execution_count": 34,
   "id": "5cfbd439",
   "metadata": {
    "execution": {
     "iopub.execute_input": "2024-01-02T04:55:31.237410Z",
     "iopub.status.busy": "2024-01-02T04:55:31.237025Z",
     "iopub.status.idle": "2024-01-02T04:55:31.272508Z",
     "shell.execute_reply": "2024-01-02T04:55:31.271346Z"
    },
    "papermill": {
     "duration": 0.067345,
     "end_time": "2024-01-02T04:55:31.275638",
     "exception": false,
     "start_time": "2024-01-02T04:55:31.208293",
     "status": "completed"
    },
    "tags": []
   },
   "outputs": [],
   "source": [
    "train = pd.get_dummies(train, columns=['Geography'], dtype='int8')\n",
    "test = pd.get_dummies(test, columns=['Geography'], dtype='int8')\n",
    "original = pd.get_dummies(original, columns=['Geography'], dtype='int8')"
   ]
  },
  {
   "cell_type": "code",
   "execution_count": 35,
   "id": "2da0147a",
   "metadata": {
    "execution": {
     "iopub.execute_input": "2024-01-02T04:55:31.332767Z",
     "iopub.status.busy": "2024-01-02T04:55:31.332379Z",
     "iopub.status.idle": "2024-01-02T04:55:31.353388Z",
     "shell.execute_reply": "2024-01-02T04:55:31.352072Z"
    },
    "papermill": {
     "duration": 0.052978,
     "end_time": "2024-01-02T04:55:31.356543",
     "exception": false,
     "start_time": "2024-01-02T04:55:31.303565",
     "status": "completed"
    },
    "tags": []
   },
   "outputs": [],
   "source": [
    "features = list(test.columns)\n",
    "cat_features = [f for f in features if f not in num_features]\n",
    "\n",
    "train[cat_features] = train[cat_features].astype('int8')\n",
    "test[cat_features] = test[cat_features].astype('int8')\n",
    "original[cat_features] = original[cat_features].astype('int8')"
   ]
  },
  {
   "cell_type": "markdown",
   "id": "3faf5c4e",
   "metadata": {
    "papermill": {
     "duration": 0.026949,
     "end_time": "2024-01-02T04:55:31.410420",
     "exception": false,
     "start_time": "2024-01-02T04:55:31.383471",
     "status": "completed"
    },
    "tags": []
   },
   "source": [
    "# Cross-validation framework"
   ]
  },
  {
   "cell_type": "code",
   "execution_count": 36,
   "id": "e97ea475",
   "metadata": {
    "execution": {
     "iopub.execute_input": "2024-01-02T04:55:31.466418Z",
     "iopub.status.busy": "2024-01-02T04:55:31.465942Z",
     "iopub.status.idle": "2024-01-02T04:55:31.471397Z",
     "shell.execute_reply": "2024-01-02T04:55:31.470395Z"
    },
    "papermill": {
     "duration": 0.03599,
     "end_time": "2024-01-02T04:55:31.473680",
     "exception": false,
     "start_time": "2024-01-02T04:55:31.437690",
     "status": "completed"
    },
    "tags": []
   },
   "outputs": [],
   "source": [
    "def comp_metric(y_true, y_pred):\n",
    "    return roc_auc_score(y_true, y_pred)"
   ]
  },
  {
   "cell_type": "code",
   "execution_count": 37,
   "id": "952a8760",
   "metadata": {
    "execution": {
     "iopub.execute_input": "2024-01-02T04:55:31.530851Z",
     "iopub.status.busy": "2024-01-02T04:55:31.530422Z",
     "iopub.status.idle": "2024-01-02T04:55:31.544128Z",
     "shell.execute_reply": "2024-01-02T04:55:31.542569Z"
    },
    "papermill": {
     "duration": 0.045611,
     "end_time": "2024-01-02T04:55:31.546806",
     "exception": false,
     "start_time": "2024-01-02T04:55:31.501195",
     "status": "completed"
    },
    "tags": []
   },
   "outputs": [],
   "source": [
    "def custom_cv(features, model, extend=False, folds=7, seed=SEED, verbose=True):\n",
    "    oof_preds = {}\n",
    "    test_preds = {}\n",
    "    \n",
    "    X_test = test[features]\n",
    "    \n",
    "    cv = StratifiedKFold(n_splits=folds, shuffle=True, random_state=seed)\n",
    "    for fold, (train_ids, val_ids) in enumerate(cv.split(train, train[TARGET])):\n",
    "        X_train, X_val = train.iloc[train_ids], train.iloc[val_ids]\n",
    "        if extend:\n",
    "            X_train = pd.concat([X_train, original], axis=0) \\\n",
    "                        .drop_duplicates(keep=False, ignore_index=True)\n",
    "        \n",
    "        y_train, y_val = X_train.pop(TARGET), X_val.pop(TARGET)\n",
    "        X_train, X_val = X_train[features], X_val[features]\n",
    "        \n",
    "        model.fit(X_train, y_train)\n",
    "        \n",
    "        val_preds = model.predict_proba(X_val)[:, 1]\n",
    "        oof_preds.update(dict(zip(val_ids, val_preds)))\n",
    "        test_preds[f'fold{fold}'] = model.predict_proba(X_test)[:, 1]\n",
    "        \n",
    "        if verbose:\n",
    "            score = comp_metric(y_val, val_preds)\n",
    "            print(f'Fold #{fold}: {score:.4f}', end=' | ')\n",
    "            \n",
    "        _ = gc.collect()\n",
    "    \n",
    "    test_preds = pd.DataFrame.from_dict(test_preds)\n",
    "    test_preds['mean'] = test_preds.mean(axis=1) # mean of fold-wise predictions\n",
    "    oof_preds = pd.Series(oof_preds).sort_index()\n",
    "    print(f'OOF score: {comp_metric(train[TARGET], oof_preds):.4f}\\n')\n",
    "    \n",
    "    return oof_preds, test_preds"
   ]
  },
  {
   "cell_type": "markdown",
   "id": "303af378",
   "metadata": {
    "papermill": {
     "duration": 0.028,
     "end_time": "2024-01-02T04:55:31.601637",
     "exception": false,
     "start_time": "2024-01-02T04:55:31.573637",
     "status": "completed"
    },
    "tags": []
   },
   "source": [
    "**Submission files:**"
   ]
  },
  {
   "cell_type": "code",
   "execution_count": 38,
   "id": "48f981fd",
   "metadata": {
    "execution": {
     "iopub.execute_input": "2024-01-02T04:55:31.657897Z",
     "iopub.status.busy": "2024-01-02T04:55:31.656793Z",
     "iopub.status.idle": "2024-01-02T04:55:31.663530Z",
     "shell.execute_reply": "2024-01-02T04:55:31.662362Z"
    },
    "papermill": {
     "duration": 0.038179,
     "end_time": "2024-01-02T04:55:31.666630",
     "exception": false,
     "start_time": "2024-01-02T04:55:31.628451",
     "status": "completed"
    },
    "tags": []
   },
   "outputs": [],
   "source": [
    "def create_submission_files(test_preds, config, notebook='00'):\n",
    "    sub = sample_sub.copy()\n",
    "    sub[TARGET] = test_preds['mean']\n",
    "    sub.to_csv(f'{notebook}_{config}.csv', index=False)"
   ]
  },
  {
   "cell_type": "markdown",
   "id": "bc088840",
   "metadata": {
    "papermill": {
     "duration": 0.027318,
     "end_time": "2024-01-02T04:55:31.721481",
     "exception": false,
     "start_time": "2024-01-02T04:55:31.694163",
     "status": "completed"
    },
    "tags": []
   },
   "source": [
    "**Model:**"
   ]
  },
  {
   "cell_type": "code",
   "execution_count": 39,
   "id": "ca6ea27e",
   "metadata": {
    "execution": {
     "iopub.execute_input": "2024-01-02T04:55:31.777861Z",
     "iopub.status.busy": "2024-01-02T04:55:31.777419Z",
     "iopub.status.idle": "2024-01-02T04:55:31.785197Z",
     "shell.execute_reply": "2024-01-02T04:55:31.783764Z"
    },
    "papermill": {
     "duration": 0.038796,
     "end_time": "2024-01-02T04:55:31.787687",
     "exception": false,
     "start_time": "2024-01-02T04:55:31.748891",
     "status": "completed"
    },
    "tags": []
   },
   "outputs": [],
   "source": [
    "num_preprocessor = make_pipeline(RobustScaler(), MinMaxScaler())\n",
    "preprocessor = make_column_transformer(\n",
    "    # numerical only; binary categorical does not need any preprocessing \n",
    "    (num_preprocessor, make_column_selector(dtype_exclude='int8')),\n",
    "    remainder='passthrough',\n",
    "    n_jobs=-1)\n",
    "\n",
    "classifier = LogisticRegression(\n",
    "    C=0.1, \n",
    "    max_iter=1000, \n",
    "    n_jobs=-1, \n",
    "    random_state=SEED)\n",
    "\n",
    "model = make_pipeline(preprocessor, classifier)"
   ]
  },
  {
   "cell_type": "markdown",
   "id": "83683d64",
   "metadata": {
    "papermill": {
     "duration": 0.0263,
     "end_time": "2024-01-02T04:55:31.840586",
     "exception": false,
     "start_time": "2024-01-02T04:55:31.814286",
     "status": "completed"
    },
    "tags": []
   },
   "source": [
    "# Experiments"
   ]
  },
  {
   "cell_type": "code",
   "execution_count": 40,
   "id": "4b3b9186",
   "metadata": {
    "execution": {
     "iopub.execute_input": "2024-01-02T04:55:31.896024Z",
     "iopub.status.busy": "2024-01-02T04:55:31.895580Z",
     "iopub.status.idle": "2024-01-02T04:55:31.900379Z",
     "shell.execute_reply": "2024-01-02T04:55:31.899216Z"
    },
    "papermill": {
     "duration": 0.035885,
     "end_time": "2024-01-02T04:55:31.903092",
     "exception": false,
     "start_time": "2024-01-02T04:55:31.867207",
     "status": "completed"
    },
    "tags": []
   },
   "outputs": [],
   "source": [
    "op = {} # Train-set OOF predictions\n",
    "tp = {} # Test-set predictions"
   ]
  },
  {
   "cell_type": "markdown",
   "id": "7b6ba5f1",
   "metadata": {
    "papermill": {
     "duration": 0.027069,
     "end_time": "2024-01-02T04:55:31.958430",
     "exception": false,
     "start_time": "2024-01-02T04:55:31.931361",
     "status": "completed"
    },
    "tags": []
   },
   "source": [
    "### Train-only vs Train + Original"
   ]
  },
  {
   "cell_type": "code",
   "execution_count": 41,
   "id": "95adf474",
   "metadata": {
    "execution": {
     "iopub.execute_input": "2024-01-02T04:55:32.015811Z",
     "iopub.status.busy": "2024-01-02T04:55:32.015365Z",
     "iopub.status.idle": "2024-01-02T04:55:51.749684Z",
     "shell.execute_reply": "2024-01-02T04:55:51.748619Z"
    },
    "papermill": {
     "duration": 19.766904,
     "end_time": "2024-01-02T04:55:51.752430",
     "exception": false,
     "start_time": "2024-01-02T04:55:31.985526",
     "status": "completed"
    },
    "tags": []
   },
   "outputs": [
    {
     "name": "stdout",
     "output_type": "stream",
     "text": [
      "Fold #0: 0.8183 | Fold #1: 0.8217 | Fold #2: 0.8109 | Fold #3: 0.8184 | Fold #4: 0.8191 | Fold #5: 0.8145 | Fold #6: 0.8216 | OOF score: 0.8178\n",
      "\n",
      "CPU times: user 5.86 s, sys: 3.5 s, total: 9.36 s\n",
      "Wall time: 19.7 s\n"
     ]
    }
   ],
   "source": [
    "%%time\n",
    "\n",
    "model_name = 'logreg'\n",
    "dataset = 'trn'\n",
    "folds = 7\n",
    "seed = SEED\n",
    "config = f'{model_name}_{dataset}_f{folds}_s{seed}'\n",
    "\n",
    "op[config], tp[config] = custom_cv(\n",
    "    features=features, \n",
    "    model=model, \n",
    "    extend=False,\n",
    "    folds=folds, \n",
    "    seed=seed)\n",
    "\n",
    "create_submission_files(tp[config], config)"
   ]
  },
  {
   "cell_type": "code",
   "execution_count": 42,
   "id": "b532f030",
   "metadata": {
    "execution": {
     "iopub.execute_input": "2024-01-02T04:55:51.810953Z",
     "iopub.status.busy": "2024-01-02T04:55:51.809749Z",
     "iopub.status.idle": "2024-01-02T04:56:09.737959Z",
     "shell.execute_reply": "2024-01-02T04:56:09.736342Z"
    },
    "papermill": {
     "duration": 17.961053,
     "end_time": "2024-01-02T04:56:09.741149",
     "exception": false,
     "start_time": "2024-01-02T04:55:51.780096",
     "status": "completed"
    },
    "tags": []
   },
   "outputs": [
    {
     "name": "stdout",
     "output_type": "stream",
     "text": [
      "Fold #0: 0.8185 | Fold #1: 0.8216 | Fold #2: 0.8109 | Fold #3: 0.8187 | Fold #4: 0.8191 | Fold #5: 0.8145 | Fold #6: 0.8217 | OOF score: 0.8179\n",
      "\n",
      "CPU times: user 6.43 s, sys: 3.35 s, total: 9.78 s\n",
      "Wall time: 17.9 s\n"
     ]
    }
   ],
   "source": [
    "%%time\n",
    "\n",
    "model_name = 'logreg'\n",
    "dataset = 'ext'\n",
    "folds = 7\n",
    "seed = SEED\n",
    "config = f'{model_name}_{dataset}_f{folds}_s{seed}'\n",
    "\n",
    "op[config], tp[config] = custom_cv(\n",
    "    features=features, \n",
    "    model=model, \n",
    "    extend=True,\n",
    "    folds=folds, \n",
    "    seed=seed)\n",
    "\n",
    "create_submission_files(tp[config], config)"
   ]
  },
  {
   "cell_type": "markdown",
   "id": "62717173",
   "metadata": {
    "papermill": {
     "duration": 0.028526,
     "end_time": "2024-01-02T04:56:09.798875",
     "exception": false,
     "start_time": "2024-01-02T04:56:09.770349",
     "status": "completed"
    },
    "tags": []
   },
   "source": [
    "**No significant gain after including original data.** (A lot of rows were removed from both train and original to eliminate conflicting duplicates. Other options can be explored.)"
   ]
  },
  {
   "cell_type": "markdown",
   "id": "29618982",
   "metadata": {
    "papermill": {
     "duration": 0.028547,
     "end_time": "2024-01-02T04:56:09.855752",
     "exception": false,
     "start_time": "2024-01-02T04:56:09.827205",
     "status": "completed"
    },
    "tags": []
   },
   "source": [
    "### Folds: 7, 10, 15"
   ]
  },
  {
   "cell_type": "code",
   "execution_count": 43,
   "id": "70fa3d3c",
   "metadata": {
    "execution": {
     "iopub.execute_input": "2024-01-02T04:56:09.917998Z",
     "iopub.status.busy": "2024-01-02T04:56:09.917390Z",
     "iopub.status.idle": "2024-01-02T04:56:34.931168Z",
     "shell.execute_reply": "2024-01-02T04:56:34.929505Z"
    },
    "papermill": {
     "duration": 25.048591,
     "end_time": "2024-01-02T04:56:34.934242",
     "exception": false,
     "start_time": "2024-01-02T04:56:09.885651",
     "status": "completed"
    },
    "tags": []
   },
   "outputs": [
    {
     "name": "stdout",
     "output_type": "stream",
     "text": [
      "Fold #0: 0.8203 | Fold #1: 0.8186 | Fold #2: 0.8184 | Fold #3: 0.8125 | Fold #4: 0.8188 | Fold #5: 0.8184 | Fold #6: 0.8197 | Fold #7: 0.8156 | Fold #8: 0.8142 | Fold #9: 0.8225 | OOF score: 0.8179\n",
      "\n",
      "CPU times: user 8.25 s, sys: 4.69 s, total: 12.9 s\n",
      "Wall time: 25 s\n"
     ]
    }
   ],
   "source": [
    "%%time\n",
    "\n",
    "model_name = 'logreg'\n",
    "dataset = 'ext'\n",
    "folds = 10\n",
    "seed = SEED\n",
    "config = f'{model_name}_{dataset}_f{folds}_s{seed}'\n",
    "\n",
    "op[config], tp[config] = custom_cv(\n",
    "    features=features, \n",
    "    model=model, \n",
    "    extend=True,\n",
    "    folds=folds, \n",
    "    seed=seed)\n",
    "\n",
    "create_submission_files(tp[config], config)"
   ]
  },
  {
   "cell_type": "code",
   "execution_count": 44,
   "id": "2aed2844",
   "metadata": {
    "execution": {
     "iopub.execute_input": "2024-01-02T04:56:34.995798Z",
     "iopub.status.busy": "2024-01-02T04:56:34.995314Z",
     "iopub.status.idle": "2024-01-02T04:57:11.059012Z",
     "shell.execute_reply": "2024-01-02T04:57:11.057302Z"
    },
    "papermill": {
     "duration": 36.097703,
     "end_time": "2024-01-02T04:57:11.061592",
     "exception": false,
     "start_time": "2024-01-02T04:56:34.963889",
     "status": "completed"
    },
    "tags": []
   },
   "outputs": [
    {
     "name": "stdout",
     "output_type": "stream",
     "text": [
      "Fold #0: 0.8224 | Fold #1: 0.8172 | Fold #2: 0.8188 | Fold #3: 0.8200 | Fold #4: 0.8073 | Fold #5: 0.8189 | Fold #6: 0.8225 | Fold #7: 0.8093 | Fold #8: 0.8237 | Fold #9: 0.8214 | Fold #10: 0.8154 | Fold #11: 0.8165 | Fold #12: 0.8119 | Fold #13: 0.8241 | Fold #14: 0.8187 | OOF score: 0.8179\n",
      "\n",
      "CPU times: user 11.8 s, sys: 6.86 s, total: 18.7 s\n",
      "Wall time: 36.1 s\n"
     ]
    }
   ],
   "source": [
    "%%time\n",
    "\n",
    "model_name = 'logreg'\n",
    "dataset = 'ext'\n",
    "folds = 15\n",
    "seed = SEED\n",
    "config = f'{model_name}_{dataset}_f{folds}_s{seed}'\n",
    "\n",
    "op[config], tp[config] = custom_cv(\n",
    "    features=features, \n",
    "    model=model, \n",
    "    extend=True,\n",
    "    folds=folds, \n",
    "    seed=seed)\n",
    "\n",
    "create_submission_files(tp[config], config)"
   ]
  },
  {
   "cell_type": "markdown",
   "id": "32e7c229",
   "metadata": {
    "papermill": {
     "duration": 0.029726,
     "end_time": "2024-01-02T04:57:11.121465",
     "exception": false,
     "start_time": "2024-01-02T04:57:11.091739",
     "status": "completed"
    },
    "tags": []
   },
   "source": [
    "**No difference in score on changing number of folds for CV.**"
   ]
  },
  {
   "cell_type": "markdown",
   "id": "23726ff8",
   "metadata": {
    "papermill": {
     "duration": 0.030014,
     "end_time": "2024-01-02T04:57:11.181583",
     "exception": false,
     "start_time": "2024-01-02T04:57:11.151569",
     "status": "completed"
    },
    "tags": []
   },
   "source": [
    "### Class weights default vs balanced:"
   ]
  },
  {
   "cell_type": "code",
   "execution_count": 45,
   "id": "732d6b97",
   "metadata": {
    "execution": {
     "iopub.execute_input": "2024-01-02T04:57:11.244019Z",
     "iopub.status.busy": "2024-01-02T04:57:11.243347Z",
     "iopub.status.idle": "2024-01-02T04:57:11.250529Z",
     "shell.execute_reply": "2024-01-02T04:57:11.249014Z"
    },
    "papermill": {
     "duration": 0.041521,
     "end_time": "2024-01-02T04:57:11.253131",
     "exception": false,
     "start_time": "2024-01-02T04:57:11.211610",
     "status": "completed"
    },
    "tags": []
   },
   "outputs": [],
   "source": [
    "bal_classifier = LogisticRegression(\n",
    "    C=0.1, \n",
    "    max_iter=1000, \n",
    "    n_jobs=-1, \n",
    "    random_state=SEED, \n",
    "    class_weight='balanced')\n",
    "\n",
    "bal_model = make_pipeline(preprocessor, bal_classifier)"
   ]
  },
  {
   "cell_type": "code",
   "execution_count": 46,
   "id": "3188aedc",
   "metadata": {
    "execution": {
     "iopub.execute_input": "2024-01-02T04:57:11.315737Z",
     "iopub.status.busy": "2024-01-02T04:57:11.315253Z",
     "iopub.status.idle": "2024-01-02T04:57:29.123543Z",
     "shell.execute_reply": "2024-01-02T04:57:29.122165Z"
    },
    "papermill": {
     "duration": 17.842841,
     "end_time": "2024-01-02T04:57:29.126143",
     "exception": false,
     "start_time": "2024-01-02T04:57:11.283302",
     "status": "completed"
    },
    "tags": []
   },
   "outputs": [
    {
     "name": "stdout",
     "output_type": "stream",
     "text": [
      "Fold #0: 0.8193 | Fold #1: 0.8222 | Fold #2: 0.8126 | Fold #3: 0.8205 | Fold #4: 0.8196 | Fold #5: 0.8154 | Fold #6: 0.8222 | OOF score: 0.8188\n",
      "\n",
      "CPU times: user 5.91 s, sys: 3.14 s, total: 9.05 s\n",
      "Wall time: 17.8 s\n"
     ]
    }
   ],
   "source": [
    "%%time\n",
    "\n",
    "model_name = 'bal_logreg'\n",
    "dataset = 'trn'\n",
    "folds = 7\n",
    "seed = SEED\n",
    "config = f'{model_name}_{dataset}_f{folds}_s{seed}'\n",
    "\n",
    "op[config], tp[config] = custom_cv(\n",
    "    features=features, \n",
    "    model=bal_model, \n",
    "    extend=False,\n",
    "    folds=folds, \n",
    "    seed=seed)\n",
    "\n",
    "create_submission_files(tp[config], config)"
   ]
  },
  {
   "cell_type": "code",
   "execution_count": 47,
   "id": "cc53e602",
   "metadata": {
    "execution": {
     "iopub.execute_input": "2024-01-02T04:57:29.193644Z",
     "iopub.status.busy": "2024-01-02T04:57:29.191312Z",
     "iopub.status.idle": "2024-01-02T04:57:47.857694Z",
     "shell.execute_reply": "2024-01-02T04:57:47.856209Z"
    },
    "papermill": {
     "duration": 18.703629,
     "end_time": "2024-01-02T04:57:47.861019",
     "exception": false,
     "start_time": "2024-01-02T04:57:29.157390",
     "status": "completed"
    },
    "tags": []
   },
   "outputs": [
    {
     "name": "stdout",
     "output_type": "stream",
     "text": [
      "Fold #0: 0.8192 | Fold #1: 0.8220 | Fold #2: 0.8125 | Fold #3: 0.8205 | Fold #4: 0.8194 | Fold #5: 0.8152 | Fold #6: 0.8221 | OOF score: 0.8187\n",
      "\n",
      "CPU times: user 6.54 s, sys: 3.16 s, total: 9.71 s\n",
      "Wall time: 18.7 s\n"
     ]
    }
   ],
   "source": [
    "%%time\n",
    "\n",
    "model_name = 'bal_logreg'\n",
    "dataset = 'ext'\n",
    "folds = 7\n",
    "seed = SEED\n",
    "config = f'{model_name}_{dataset}_f{folds}_s{seed}'\n",
    "\n",
    "op[config], tp[config] = custom_cv(\n",
    "    features=features, \n",
    "    model=bal_model, \n",
    "    extend=True,\n",
    "    folds=folds, \n",
    "    seed=seed)\n",
    "\n",
    "create_submission_files(tp[config], config)"
   ]
  },
  {
   "cell_type": "markdown",
   "id": "d7060b07",
   "metadata": {
    "papermill": {
     "duration": 0.034193,
     "end_time": "2024-01-02T04:57:47.929237",
     "exception": false,
     "start_time": "2024-01-02T04:57:47.895044",
     "status": "completed"
    },
    "tags": []
   },
   "source": [
    "**Balanced class weights perform better.**"
   ]
  },
  {
   "cell_type": "markdown",
   "id": "19f32d3c",
   "metadata": {
    "papermill": {
     "duration": 0.033844,
     "end_time": "2024-01-02T04:57:47.996190",
     "exception": false,
     "start_time": "2024-01-02T04:57:47.962346",
     "status": "completed"
    },
    "tags": []
   },
   "source": [
    "### Best config -> different seeds"
   ]
  },
  {
   "cell_type": "code",
   "execution_count": 48,
   "id": "7fb4a25e",
   "metadata": {
    "execution": {
     "iopub.execute_input": "2024-01-02T04:57:48.065955Z",
     "iopub.status.busy": "2024-01-02T04:57:48.065505Z",
     "iopub.status.idle": "2024-01-02T04:58:06.074354Z",
     "shell.execute_reply": "2024-01-02T04:58:06.073142Z"
    },
    "papermill": {
     "duration": 18.048107,
     "end_time": "2024-01-02T04:58:06.077211",
     "exception": false,
     "start_time": "2024-01-02T04:57:48.029104",
     "status": "completed"
    },
    "tags": []
   },
   "outputs": [
    {
     "name": "stdout",
     "output_type": "stream",
     "text": [
      "Fold #0: 0.8203 | Fold #1: 0.8187 | Fold #2: 0.8189 | Fold #3: 0.8193 | Fold #4: 0.8152 | Fold #5: 0.8188 | Fold #6: 0.8208 | OOF score: 0.8188\n",
      "\n",
      "CPU times: user 6.05 s, sys: 3.17 s, total: 9.22 s\n",
      "Wall time: 18 s\n"
     ]
    }
   ],
   "source": [
    "%%time\n",
    "\n",
    "model_name = 'bal_logreg'\n",
    "dataset = 'trn'\n",
    "folds = 7\n",
    "seed = 2311\n",
    "config = f'{model_name}_{dataset}_f{folds}_s{seed}'\n",
    "\n",
    "op[config], tp[config] = custom_cv(\n",
    "    features=features, \n",
    "    model=bal_model, \n",
    "    extend=False,\n",
    "    folds=folds, \n",
    "    seed=seed)\n",
    "\n",
    "create_submission_files(tp[config], config)"
   ]
  },
  {
   "cell_type": "code",
   "execution_count": 49,
   "id": "0e9eb344",
   "metadata": {
    "execution": {
     "iopub.execute_input": "2024-01-02T04:58:06.147277Z",
     "iopub.status.busy": "2024-01-02T04:58:06.146859Z",
     "iopub.status.idle": "2024-01-02T04:58:23.686703Z",
     "shell.execute_reply": "2024-01-02T04:58:23.685218Z"
    },
    "papermill": {
     "duration": 17.579124,
     "end_time": "2024-01-02T04:58:23.690217",
     "exception": false,
     "start_time": "2024-01-02T04:58:06.111093",
     "status": "completed"
    },
    "tags": []
   },
   "outputs": [
    {
     "name": "stdout",
     "output_type": "stream",
     "text": [
      "Fold #0: 0.8196 | Fold #1: 0.8199 | Fold #2: 0.8213 | Fold #3: 0.8211 | Fold #4: 0.8171 | Fold #5: 0.8141 | Fold #6: 0.8188 | OOF score: 0.8188\n",
      "\n",
      "CPU times: user 5.85 s, sys: 3.12 s, total: 8.97 s\n",
      "Wall time: 17.5 s\n"
     ]
    }
   ],
   "source": [
    "%%time\n",
    "\n",
    "model_name = 'bal_logreg'\n",
    "dataset = 'trn'\n",
    "folds = 7\n",
    "seed = 152\n",
    "config = f'{model_name}_{dataset}_f{folds}_s{seed}'\n",
    "\n",
    "op[config], tp[config] = custom_cv(\n",
    "    features=features, \n",
    "    model=bal_model, \n",
    "    extend=False,\n",
    "    folds=folds, \n",
    "    seed=seed)\n",
    "\n",
    "create_submission_files(tp[config], config)"
   ]
  },
  {
   "cell_type": "markdown",
   "id": "cf4148e5",
   "metadata": {
    "papermill": {
     "duration": 0.035408,
     "end_time": "2024-01-02T04:58:23.760963",
     "exception": false,
     "start_time": "2024-01-02T04:58:23.725555",
     "status": "completed"
    },
    "tags": []
   },
   "source": [
    "**Stable across different seeds.**"
   ]
  },
  {
   "cell_type": "code",
   "execution_count": 50,
   "id": "ba4d372b",
   "metadata": {
    "execution": {
     "iopub.execute_input": "2024-01-02T04:58:23.832715Z",
     "iopub.status.busy": "2024-01-02T04:58:23.832289Z",
     "iopub.status.idle": "2024-01-02T04:58:24.951170Z",
     "shell.execute_reply": "2024-01-02T04:58:24.949437Z"
    },
    "papermill": {
     "duration": 1.158567,
     "end_time": "2024-01-02T04:58:24.954281",
     "exception": false,
     "start_time": "2024-01-02T04:58:23.795714",
     "status": "completed"
    },
    "tags": []
   },
   "outputs": [
    {
     "name": "stdout",
     "output_type": "stream",
     "text": [
      "id,Exited\r\n",
      "165034,0.09227912938672819\r\n",
      "165035,0.7995017654969944\r\n",
      "165036,0.395045171646322\r\n",
      "165037,0.43139058793584933\r\n",
      "165038,0.7002709782720153\r\n",
      "165039,0.19640922101008423\r\n",
      "165040,0.24310314622415924\r\n",
      "165041,0.4353001497204647\r\n",
      "165042,0.7902257016124773\r\n"
     ]
    }
   ],
   "source": [
    "!head 00_bal_logreg_ext_f7_s55.csv"
   ]
  },
  {
   "cell_type": "markdown",
   "id": "f161bda1",
   "metadata": {
    "papermill": {
     "duration": 0.033726,
     "end_time": "2024-01-02T04:58:25.022283",
     "exception": false,
     "start_time": "2024-01-02T04:58:24.988557",
     "status": "completed"
    },
    "tags": []
   },
   "source": [
    "**Time to submit!**"
   ]
  }
 ],
 "metadata": {
  "kaggle": {
   "accelerator": "none",
   "dataSources": [
    {
     "databundleVersionId": 7405009,
     "sourceId": 65711,
     "sourceType": "competition"
    },
    {
     "datasetId": 3191230,
     "sourceId": 5536933,
     "sourceType": "datasetVersion"
    }
   ],
   "dockerImageVersionId": 30626,
   "isGpuEnabled": false,
   "isInternetEnabled": true,
   "language": "python",
   "sourceType": "notebook"
  },
  "kernelspec": {
   "display_name": "Python 3",
   "language": "python",
   "name": "python3"
  },
  "language_info": {
   "codemirror_mode": {
    "name": "ipython",
    "version": 3
   },
   "file_extension": ".py",
   "mimetype": "text/x-python",
   "name": "python",
   "nbconvert_exporter": "python",
   "pygments_lexer": "ipython3",
   "version": "3.10.12"
  },
  "papermill": {
   "default_parameters": {},
   "duration": 186.942248,
   "end_time": "2024-01-02T04:58:27.681637",
   "environment_variables": {},
   "exception": null,
   "input_path": "__notebook__.ipynb",
   "output_path": "__notebook__.ipynb",
   "parameters": {},
   "start_time": "2024-01-02T04:55:20.739389",
   "version": "2.4.0"
  }
 },
 "nbformat": 4,
 "nbformat_minor": 5
}
