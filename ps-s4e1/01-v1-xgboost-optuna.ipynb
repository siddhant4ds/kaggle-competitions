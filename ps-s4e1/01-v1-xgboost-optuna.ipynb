{
 "cells": [
  {
   "cell_type": "markdown",
   "id": "20edb308",
   "metadata": {
    "papermill": {
     "duration": 0.010139,
     "end_time": "2024-01-05T08:21:27.739809",
     "exception": false,
     "start_time": "2024-01-05T08:21:27.729670",
     "status": "completed"
    },
    "tags": []
   },
   "source": [
    "# Setup"
   ]
  },
  {
   "cell_type": "code",
   "execution_count": 1,
   "id": "2d9a21f6",
   "metadata": {
    "_cell_guid": "b1076dfc-b9ad-4769-8c92-a6c4dae69d19",
    "_kg_hide-input": true,
    "_uuid": "8f2839f25d086af736a60e9eeb907d3b93b6e0e5",
    "execution": {
     "iopub.execute_input": "2024-01-05T08:21:27.761354Z",
     "iopub.status.busy": "2024-01-05T08:21:27.760956Z",
     "iopub.status.idle": "2024-01-05T08:21:31.114002Z",
     "shell.execute_reply": "2024-01-05T08:21:31.112940Z"
    },
    "papermill": {
     "duration": 3.367234,
     "end_time": "2024-01-05T08:21:31.116872",
     "exception": false,
     "start_time": "2024-01-05T08:21:27.749638",
     "status": "completed"
    },
    "tags": []
   },
   "outputs": [],
   "source": [
    "import gc\n",
    "import time\n",
    "import warnings\n",
    "import subprocess\n",
    "\n",
    "gc.enable()\n",
    "warnings.filterwarnings('ignore')\n",
    "\n",
    "import numpy as np\n",
    "import pandas as pd\n",
    "\n",
    "pd.set_option('display.max_columns', None)\n",
    "\n",
    "from sklearn.metrics import roc_auc_score\n",
    "from sklearn.model_selection import StratifiedKFold, RepeatedStratifiedKFold\n",
    "\n",
    "import xgboost as xgb\n",
    "import optuna\n",
    "\n",
    "SEED = 55"
   ]
  },
  {
   "cell_type": "code",
   "execution_count": 2,
   "id": "c1063b8d",
   "metadata": {
    "_kg_hide-input": true,
    "execution": {
     "iopub.execute_input": "2024-01-05T08:21:31.138544Z",
     "iopub.status.busy": "2024-01-05T08:21:31.137988Z",
     "iopub.status.idle": "2024-01-05T08:21:31.143199Z",
     "shell.execute_reply": "2024-01-05T08:21:31.141935Z"
    },
    "papermill": {
     "duration": 0.018968,
     "end_time": "2024-01-05T08:21:31.145621",
     "exception": false,
     "start_time": "2024-01-05T08:21:31.126653",
     "status": "completed"
    },
    "tags": []
   },
   "outputs": [],
   "source": [
    "assert xgb.__version__ == '2.0.2', 'XGBoost version differs from original notebook.' "
   ]
  },
  {
   "cell_type": "code",
   "execution_count": 3,
   "id": "a80ddd53",
   "metadata": {
    "_kg_hide-input": true,
    "execution": {
     "iopub.execute_input": "2024-01-05T08:21:31.166899Z",
     "iopub.status.busy": "2024-01-05T08:21:31.166497Z",
     "iopub.status.idle": "2024-01-05T08:21:31.174407Z",
     "shell.execute_reply": "2024-01-05T08:21:31.173323Z"
    },
    "papermill": {
     "duration": 0.021541,
     "end_time": "2024-01-05T08:21:31.176853",
     "exception": false,
     "start_time": "2024-01-05T08:21:31.155312",
     "status": "completed"
    },
    "tags": []
   },
   "outputs": [
    {
     "name": "stdout",
     "output_type": "stream",
     "text": [
      "Available device: cpu\n"
     ]
    }
   ],
   "source": [
    "#Check GPU availability\n",
    "try:\n",
    "    subprocess.check_output('nvidia-smi')\n",
    "    DEVICE = 'cuda'\n",
    "except Exception:\n",
    "    DEVICE = 'cpu'\n",
    "\n",
    "print(f'Available device: {DEVICE}')"
   ]
  },
  {
   "cell_type": "markdown",
   "id": "c4882382",
   "metadata": {
    "papermill": {
     "duration": 0.009494,
     "end_time": "2024-01-05T08:21:31.196938",
     "exception": false,
     "start_time": "2024-01-05T08:21:31.187444",
     "status": "completed"
    },
    "tags": []
   },
   "source": [
    "# Data preparation"
   ]
  },
  {
   "cell_type": "code",
   "execution_count": 4,
   "id": "8a6e55a4",
   "metadata": {
    "execution": {
     "iopub.execute_input": "2024-01-05T08:21:31.218506Z",
     "iopub.status.busy": "2024-01-05T08:21:31.218101Z",
     "iopub.status.idle": "2024-01-05T08:21:32.159105Z",
     "shell.execute_reply": "2024-01-05T08:21:32.158236Z"
    },
    "papermill": {
     "duration": 0.955178,
     "end_time": "2024-01-05T08:21:32.161778",
     "exception": false,
     "start_time": "2024-01-05T08:21:31.206600",
     "status": "completed"
    },
    "tags": []
   },
   "outputs": [],
   "source": [
    "DATA_DIR = '/kaggle/input/playground-series-s4e1'\n",
    "train = pd.read_csv(f'{DATA_DIR}/train.csv')\n",
    "test = pd.read_csv(f'{DATA_DIR}/test.csv')\n",
    "sample_sub = pd.read_csv(f'{DATA_DIR}/sample_submission.csv')\n",
    "\n",
    "original = pd.read_csv('/kaggle/input/bank-customer-churn-prediction/Churn_Modelling.csv')"
   ]
  },
  {
   "cell_type": "code",
   "execution_count": 5,
   "id": "1614976d",
   "metadata": {
    "execution": {
     "iopub.execute_input": "2024-01-05T08:21:32.183843Z",
     "iopub.status.busy": "2024-01-05T08:21:32.182888Z",
     "iopub.status.idle": "2024-01-05T08:21:32.215676Z",
     "shell.execute_reply": "2024-01-05T08:21:32.214666Z"
    },
    "papermill": {
     "duration": 0.0469,
     "end_time": "2024-01-05T08:21:32.218538",
     "exception": false,
     "start_time": "2024-01-05T08:21:32.171638",
     "status": "completed"
    },
    "tags": []
   },
   "outputs": [],
   "source": [
    "train = train.drop(['id', 'CustomerId', 'Surname'], axis=1)\n",
    "test = test.drop(['id', 'CustomerId', 'Surname'], axis=1)\n",
    "original = original.drop(['RowNumber', 'CustomerId', 'Surname'], axis=1)"
   ]
  },
  {
   "cell_type": "code",
   "execution_count": 6,
   "id": "12ee62b9",
   "metadata": {
    "execution": {
     "iopub.execute_input": "2024-01-05T08:21:32.240181Z",
     "iopub.status.busy": "2024-01-05T08:21:32.239765Z",
     "iopub.status.idle": "2024-01-05T08:21:32.244846Z",
     "shell.execute_reply": "2024-01-05T08:21:32.243731Z"
    },
    "papermill": {
     "duration": 0.019013,
     "end_time": "2024-01-05T08:21:32.247375",
     "exception": false,
     "start_time": "2024-01-05T08:21:32.228362",
     "status": "completed"
    },
    "tags": []
   },
   "outputs": [],
   "source": [
    "features = list(test.columns)\n",
    "TARGET = 'Exited'"
   ]
  },
  {
   "cell_type": "code",
   "execution_count": 7,
   "id": "cbb3ddd0",
   "metadata": {
    "execution": {
     "iopub.execute_input": "2024-01-05T08:21:32.268957Z",
     "iopub.status.busy": "2024-01-05T08:21:32.268547Z",
     "iopub.status.idle": "2024-01-05T08:21:32.367882Z",
     "shell.execute_reply": "2024-01-05T08:21:32.366729Z"
    },
    "papermill": {
     "duration": 0.113736,
     "end_time": "2024-01-05T08:21:32.370830",
     "exception": false,
     "start_time": "2024-01-05T08:21:32.257094",
     "status": "completed"
    },
    "tags": []
   },
   "outputs": [],
   "source": [
    "cat_features = ['Geography', 'Gender', 'HasCrCard', 'IsActiveMember']\n",
    "\n",
    "train[cat_features] = train[cat_features].astype('category')\n",
    "test[cat_features] = test[cat_features].astype('category')\n",
    "original[cat_features] = original[cat_features].astype('category')"
   ]
  },
  {
   "cell_type": "code",
   "execution_count": 8,
   "id": "7f4d6261",
   "metadata": {
    "execution": {
     "iopub.execute_input": "2024-01-05T08:21:32.392416Z",
     "iopub.status.busy": "2024-01-05T08:21:32.392021Z",
     "iopub.status.idle": "2024-01-05T08:21:32.490220Z",
     "shell.execute_reply": "2024-01-05T08:21:32.489075Z"
    },
    "papermill": {
     "duration": 0.11185,
     "end_time": "2024-01-05T08:21:32.492907",
     "exception": false,
     "start_time": "2024-01-05T08:21:32.381057",
     "status": "completed"
    },
    "tags": []
   },
   "outputs": [],
   "source": [
    "train = train.drop_duplicates(keep='first', ignore_index=True) # repeating\n",
    "train = train.drop_duplicates(subset=features, keep=False, ignore_index=True) # contradictory\n",
    "\n",
    "original = original.drop_duplicates(keep='first', ignore_index=True)"
   ]
  },
  {
   "cell_type": "markdown",
   "id": "6c932957",
   "metadata": {
    "papermill": {
     "duration": 0.009766,
     "end_time": "2024-01-05T08:21:32.512364",
     "exception": false,
     "start_time": "2024-01-05T08:21:32.502598",
     "status": "completed"
    },
    "tags": []
   },
   "source": [
    "# Baseline"
   ]
  },
  {
   "cell_type": "code",
   "execution_count": 9,
   "id": "490a0495",
   "metadata": {
    "execution": {
     "iopub.execute_input": "2024-01-05T08:21:32.533564Z",
     "iopub.status.busy": "2024-01-05T08:21:32.533176Z",
     "iopub.status.idle": "2024-01-05T08:21:32.538533Z",
     "shell.execute_reply": "2024-01-05T08:21:32.537414Z"
    },
    "papermill": {
     "duration": 0.018532,
     "end_time": "2024-01-05T08:21:32.540815",
     "exception": false,
     "start_time": "2024-01-05T08:21:32.522283",
     "status": "completed"
    },
    "tags": []
   },
   "outputs": [],
   "source": [
    "# competition metric\n",
    "def comp_metric(y_true, y_pred):\n",
    "    return roc_auc_score(y_true, y_pred)"
   ]
  },
  {
   "cell_type": "code",
   "execution_count": 10,
   "id": "cf469d39",
   "metadata": {
    "execution": {
     "iopub.execute_input": "2024-01-05T08:21:32.562405Z",
     "iopub.status.busy": "2024-01-05T08:21:32.562013Z",
     "iopub.status.idle": "2024-01-05T08:21:51.837034Z",
     "shell.execute_reply": "2024-01-05T08:21:51.835855Z"
    },
    "papermill": {
     "duration": 19.289084,
     "end_time": "2024-01-05T08:21:51.839630",
     "exception": false,
     "start_time": "2024-01-05T08:21:32.550546",
     "status": "completed"
    },
    "tags": []
   },
   "outputs": [
    {
     "name": "stdout",
     "output_type": "stream",
     "text": [
      "Fold #0: 0.89082 (96 rounds)\n",
      "Fold #1: 0.89075 (104 rounds)\n",
      "Fold #2: 0.89020 (109 rounds)\n",
      "Fold #3: 0.88782 (114 rounds)\n",
      "Fold #4: 0.88751 (74 rounds)\n",
      "\n",
      "OOF score: 0.8894\n",
      "\n"
     ]
    }
   ],
   "source": [
    "X, y = train[features], train[TARGET]\n",
    "oof_preds = {}\n",
    "\n",
    "cv = StratifiedKFold(n_splits=5, shuffle=True, random_state=SEED)\n",
    "for fold, (train_ids, val_ids) in enumerate(cv.split(X, y)):\n",
    "    X_train, y_train = X.iloc[train_ids], y.iloc[train_ids]\n",
    "    X_val, y_val = X.iloc[val_ids], y.iloc[val_ids]\n",
    "    \n",
    "    model = xgb.XGBClassifier(\n",
    "        n_estimators=1000,\n",
    "        learning_rate=0.1,\n",
    "        early_stopping_rounds=100,\n",
    "        objective='binary:logistic',\n",
    "        eval_metric='auc',\n",
    "        booster='gbtree',\n",
    "        tree_method='hist',\n",
    "        device=DEVICE,\n",
    "        enable_categorical=True,\n",
    "        verbosity=0,\n",
    "        n_jobs=-1,\n",
    "        random_state=SEED)\n",
    "    \n",
    "    model.fit(\n",
    "        X_train, y_train,\n",
    "        eval_set=[(X_val, y_val)],\n",
    "        verbose=False)\n",
    "        \n",
    "    val_preds = model.predict_proba(X_val)[:, 1]\n",
    "    oof_preds.update(dict(zip(val_ids, val_preds)))\n",
    "    \n",
    "    score = comp_metric(y_val, val_preds)\n",
    "    print(f'Fold #{fold}: {score:.5f} ({model.best_iteration} rounds)')        \n",
    "    _ = gc.collect()\n",
    "    \n",
    "oof_preds = pd.Series(oof_preds).sort_index()\n",
    "print(f'\\nOOF score: {comp_metric(y, oof_preds):.4f}\\n')"
   ]
  },
  {
   "cell_type": "markdown",
   "id": "7e696b15",
   "metadata": {
    "papermill": {
     "duration": 0.010371,
     "end_time": "2024-01-05T08:21:51.861187",
     "exception": false,
     "start_time": "2024-01-05T08:21:51.850816",
     "status": "completed"
    },
    "tags": []
   },
   "source": [
    "# Hyperparameter tuning"
   ]
  },
  {
   "cell_type": "code",
   "execution_count": 11,
   "id": "7df4eed6",
   "metadata": {
    "execution": {
     "iopub.execute_input": "2024-01-05T08:21:51.883881Z",
     "iopub.status.busy": "2024-01-05T08:21:51.883499Z",
     "iopub.status.idle": "2024-01-05T08:21:51.897301Z",
     "shell.execute_reply": "2024-01-05T08:21:51.896050Z"
    },
    "papermill": {
     "duration": 0.028431,
     "end_time": "2024-01-05T08:21:51.899823",
     "exception": false,
     "start_time": "2024-01-05T08:21:51.871392",
     "status": "completed"
    },
    "tags": []
   },
   "outputs": [],
   "source": [
    "def objective(trial, features, model, extend, folds, seed):\n",
    "    oof_preds = {}\n",
    "    \n",
    "    param_grid = {\n",
    "        'learning_rate': trial.suggest_float('learning_rate', 0.01, 0.1, step=0.01),\n",
    "        'max_depth': trial.suggest_int('max_depth', 3, 12),\n",
    "        'min_child_weight': trial.suggest_int('min_child_weight', 2, 16),\n",
    "        'subsample': trial.suggest_float('subsample', 0.6, 1.0, step=0.05),\n",
    "        'colsample_bytree': trial.suggest_float('colsample_bytree', 0.6, 1.0, step=0.05),\n",
    "        'gamma': trial.suggest_float('gamma', 0, 20, step=0.1), #complexity-control\n",
    "        'alpha': trial.suggest_float('alpha', 0, 5, step=0.1), #L1-reg\n",
    "        'lambda': trial.suggest_float('lambda', 5e-3, 5e3, log=True), #L2-reg\n",
    "#         'max_delta_step': trial.suggest_float('max_delta_step', 0, 10, step=0.5),\n",
    "        'scale_pos_weight': trial.suggest_float('scale_pos_weight', 1, 5, step=0.1)\n",
    "    }\n",
    "    \n",
    "    cv = StratifiedKFold(n_splits=folds, shuffle=True, random_state=seed)\n",
    "    for fold, (train_ids, val_ids) in enumerate(cv.split(train, train[TARGET])):\n",
    "        X_train = train.iloc[train_ids]\n",
    "        X_val = train.iloc[val_ids]\n",
    "        if extend: # concat original dataset and remove duplicates, repeating followed by contradictory\n",
    "            X_train = pd.concat([X_train, original], axis=0) \\\n",
    "                        .drop_duplicates(keep='first') \\\n",
    "                        .drop_duplicates(subset=features, keep=False, ignore_index=True)\n",
    "        \n",
    "        y_train, y_val = X_train.pop(TARGET), X_val.pop(TARGET)\n",
    "        X_train, X_val = X_train[features], X_val[features]\n",
    "        \n",
    "        model.set_params(**param_grid)\n",
    "        model.fit(\n",
    "            X_train, y_train,\n",
    "            eval_set=[(X_val, y_val)],\n",
    "            verbose=0)\n",
    "        \n",
    "        val_preds = model.predict_proba(X_val)[:, 1]\n",
    "        oof_preds.update(dict(zip(val_ids, val_preds)))\n",
    "        \n",
    "    oof_preds = pd.Series(oof_preds).sort_index()\n",
    "    return comp_metric(train[TARGET], oof_preds)"
   ]
  },
  {
   "cell_type": "code",
   "execution_count": 12,
   "id": "f1771b17",
   "metadata": {
    "execution": {
     "iopub.execute_input": "2024-01-05T08:21:51.922504Z",
     "iopub.status.busy": "2024-01-05T08:21:51.922095Z",
     "iopub.status.idle": "2024-01-05T08:21:51.929753Z",
     "shell.execute_reply": "2024-01-05T08:21:51.928290Z"
    },
    "papermill": {
     "duration": 0.0221,
     "end_time": "2024-01-05T08:21:51.932460",
     "exception": false,
     "start_time": "2024-01-05T08:21:51.910360",
     "status": "completed"
    },
    "tags": []
   },
   "outputs": [],
   "source": [
    "def tune_params(features, model, extend, folds, seed, n_trials, direction):\n",
    "    study = optuna.create_study(\n",
    "        sampler=optuna.samplers.TPESampler(\n",
    "            consider_endpoints=True,\n",
    "            multivariate=True,\n",
    "            group=True,\n",
    "            seed=seed),\n",
    "        pruner=optuna.pruners.HyperbandPruner(),\n",
    "        direction=direction)\n",
    "    study.optimize(\n",
    "        func=lambda trial: objective(\n",
    "            trial, features, model, extend, folds, seed),\n",
    "        n_trials=n_trials,\n",
    "        gc_after_trial=True)\n",
    "    \n",
    "    return study"
   ]
  },
  {
   "cell_type": "markdown",
   "id": "ad392b22",
   "metadata": {
    "papermill": {
     "duration": 0.010424,
     "end_time": "2024-01-05T08:21:51.953191",
     "exception": false,
     "start_time": "2024-01-05T08:21:51.942767",
     "status": "completed"
    },
    "tags": []
   },
   "source": [
    "# Cross-validation framework"
   ]
  },
  {
   "cell_type": "code",
   "execution_count": 13,
   "id": "42ed3a08",
   "metadata": {
    "execution": {
     "iopub.execute_input": "2024-01-05T08:21:51.977443Z",
     "iopub.status.busy": "2024-01-05T08:21:51.976618Z",
     "iopub.status.idle": "2024-01-05T08:21:51.990349Z",
     "shell.execute_reply": "2024-01-05T08:21:51.989134Z"
    },
    "papermill": {
     "duration": 0.02955,
     "end_time": "2024-01-05T08:21:51.993127",
     "exception": false,
     "start_time": "2024-01-05T08:21:51.963577",
     "status": "completed"
    },
    "tags": []
   },
   "outputs": [],
   "source": [
    "def custom_cv(features, model, extend, folds, seed, verbose=True):\n",
    "    oof_preds = {}\n",
    "    test_preds = {}\n",
    "    scores = []\n",
    "    \n",
    "    X_test = test[features]\n",
    "    \n",
    "    cv = StratifiedKFold(n_splits=folds, shuffle=True, random_state=seed)\n",
    "    for fold, (train_ids, val_ids) in enumerate(cv.split(train, train[TARGET])):\n",
    "        X_train = train.iloc[train_ids]\n",
    "        X_val = train.iloc[val_ids]\n",
    "        if extend: # concat original dataset and remove duplicates, repeating followed by contradictory\n",
    "            X_train = pd.concat([X_train, original], axis=0) \\\n",
    "                        .drop_duplicates(keep='first') \\\n",
    "                        .drop_duplicates(subset=features, keep=False, ignore_index=True)\n",
    "        \n",
    "        y_train, y_val = X_train.pop(TARGET), X_val.pop(TARGET)\n",
    "        X_train, X_val = X_train[features], X_val[features]\n",
    "        \n",
    "        model.fit(\n",
    "            X_train, y_train,\n",
    "            eval_set=[(X_val, y_val)],\n",
    "            verbose=0)\n",
    "        \n",
    "        val_preds = model.predict_proba(X_val)[:, 1]\n",
    "        oof_preds.update(dict(zip(val_ids, val_preds)))\n",
    "        test_preds[f'fold{fold}'] = model.predict_proba(X_test)[:, 1]\n",
    "        \n",
    "        score = comp_metric(y_val, val_preds)\n",
    "        scores.append(score)\n",
    "        if verbose:\n",
    "            print(f'Fold #{fold}: {score:.5f} ({model.best_iteration} rounds)')\n",
    "            \n",
    "        _ = gc.collect()\n",
    "    \n",
    "    test_preds = pd.DataFrame.from_dict(test_preds)\n",
    "    test_preds['mean'] = test_preds.mean(axis=1) # mean of fold-wise predictions\n",
    "    \n",
    "    oof_preds = pd.Series(oof_preds).sort_index()\n",
    "    print(f'\\nOOF score: {comp_metric(train[TARGET], oof_preds):.5f}')\n",
    "    print(f'Avg. score: {np.mean(scores):.5f} +/- {np.std(scores):.5f}')\n",
    "    \n",
    "    return oof_preds, test_preds"
   ]
  },
  {
   "cell_type": "code",
   "execution_count": 14,
   "id": "9d8fc7a7",
   "metadata": {
    "execution": {
     "iopub.execute_input": "2024-01-05T08:21:52.016168Z",
     "iopub.status.busy": "2024-01-05T08:21:52.015729Z",
     "iopub.status.idle": "2024-01-05T08:21:52.026587Z",
     "shell.execute_reply": "2024-01-05T08:21:52.025390Z"
    },
    "papermill": {
     "duration": 0.025501,
     "end_time": "2024-01-05T08:21:52.029392",
     "exception": false,
     "start_time": "2024-01-05T08:21:52.003891",
     "status": "completed"
    },
    "tags": []
   },
   "outputs": [],
   "source": [
    "def run_experiment(features, extend=False, folds=5, seed=SEED, n_trials=50):\n",
    "    \n",
    "    base_params = {\n",
    "        'booster': 'gbtree',\n",
    "        'tree_method': 'hist',\n",
    "        'objective': 'binary:logistic',\n",
    "        'eval_metric': 'auc',\n",
    "        'n_estimators': 10000,\n",
    "        'early_stopping_rounds': 100,\n",
    "        'device': DEVICE,\n",
    "        'enable_categorical': True,\n",
    "        'max_cat_to_onehot': 3, # for Geography column\n",
    "        'verbosity': 0,\n",
    "        'n_jobs': -1,\n",
    "        'seed': seed\n",
    "    }\n",
    "    model = xgb.XGBClassifier(**base_params)\n",
    "    \n",
    "    print(f'----------Hyperparameter tuning----------')\n",
    "    start = time.time()\n",
    "    \n",
    "    study = tune_params(features, model, extend, folds, seed, n_trials, direction='maximize') \n",
    "    # metric: AUC -> higher is better\n",
    "    \n",
    "    end = time.time()\n",
    "    \n",
    "    print(f'Best trial: {study.best_trial.number} -> Best value: {study.best_value:.5f}')\n",
    "    print(f'Best hyperparameters:')\n",
    "    for k, v in study.best_params.items():\n",
    "        print(f'{k:20} - {v}')\n",
    "    print(f'\\n[Time taken: {end - start:.2f}s]\\n')\n",
    "    \n",
    "    print(f'-----Cross-validation and prediction-----')\n",
    "    start = time.time()\n",
    "    \n",
    "    model.set_params(**study.best_params)\n",
    "    oof_preds, test_preds = custom_cv(features, model, extend, folds, seed)\n",
    "    \n",
    "    end = time.time()\n",
    "    print(f'\\n[Time taken: {end - start:.2f}s]\\n')\n",
    "    \n",
    "    return oof_preds, test_preds"
   ]
  },
  {
   "cell_type": "code",
   "execution_count": 15,
   "id": "0421cd53",
   "metadata": {
    "execution": {
     "iopub.execute_input": "2024-01-05T08:21:52.052177Z",
     "iopub.status.busy": "2024-01-05T08:21:52.051421Z",
     "iopub.status.idle": "2024-01-05T08:21:52.056533Z",
     "shell.execute_reply": "2024-01-05T08:21:52.055768Z"
    },
    "papermill": {
     "duration": 0.019027,
     "end_time": "2024-01-05T08:21:52.058832",
     "exception": false,
     "start_time": "2024-01-05T08:21:52.039805",
     "status": "completed"
    },
    "tags": []
   },
   "outputs": [],
   "source": [
    "def create_submission_files(test_preds, config, notebook='01'):\n",
    "    sub = sample_sub.copy()\n",
    "    sub[TARGET] = test_preds['mean']\n",
    "    sub.to_csv(f'{notebook}_{config}.csv', index=False)"
   ]
  },
  {
   "cell_type": "markdown",
   "id": "b5fa608a",
   "metadata": {
    "papermill": {
     "duration": 0.009924,
     "end_time": "2024-01-05T08:21:52.079089",
     "exception": false,
     "start_time": "2024-01-05T08:21:52.069165",
     "status": "completed"
    },
    "tags": []
   },
   "source": [
    "**Trial run:**"
   ]
  },
  {
   "cell_type": "code",
   "execution_count": 16,
   "id": "796defe4",
   "metadata": {
    "execution": {
     "iopub.execute_input": "2024-01-05T08:21:52.102085Z",
     "iopub.status.busy": "2024-01-05T08:21:52.101321Z",
     "iopub.status.idle": "2024-01-05T08:21:52.105816Z",
     "shell.execute_reply": "2024-01-05T08:21:52.105059Z"
    },
    "papermill": {
     "duration": 0.018694,
     "end_time": "2024-01-05T08:21:52.108365",
     "exception": false,
     "start_time": "2024-01-05T08:21:52.089671",
     "status": "completed"
    },
    "tags": []
   },
   "outputs": [],
   "source": [
    "optuna.logging.set_verbosity(optuna.logging.INFO)"
   ]
  },
  {
   "cell_type": "code",
   "execution_count": 17,
   "id": "6277f27d",
   "metadata": {
    "execution": {
     "iopub.execute_input": "2024-01-05T08:21:52.131640Z",
     "iopub.status.busy": "2024-01-05T08:21:52.130803Z",
     "iopub.status.idle": "2024-01-05T08:28:36.139920Z",
     "shell.execute_reply": "2024-01-05T08:28:36.138484Z"
    },
    "papermill": {
     "duration": 404.024098,
     "end_time": "2024-01-05T08:28:36.142620",
     "exception": false,
     "start_time": "2024-01-05T08:21:52.118522",
     "status": "completed"
    },
    "tags": []
   },
   "outputs": [
    {
     "name": "stderr",
     "output_type": "stream",
     "text": [
      "[I 2024-01-05 08:21:52,135] A new study created in memory with name: no-name-bc3b82ec-1114-4b4c-8f5a-2a410886f8c1\n"
     ]
    },
    {
     "name": "stdout",
     "output_type": "stream",
     "text": [
      "----------Hyperparameter tuning----------\n"
     ]
    },
    {
     "name": "stderr",
     "output_type": "stream",
     "text": [
      "[I 2024-01-05 08:24:19,410] Trial 0 finished with value: 0.8898194420311876 and parameters: {'learning_rate': 0.01, 'max_depth': 12, 'min_child_weight': 9, 'subsample': 0.7, 'colsample_bytree': 0.8, 'gamma': 5.7, 'alpha': 4.3, 'lambda': 0.008822078646927935, 'scale_pos_weight': 1.4}. Best is trial 0 with value: 0.8898194420311876.\n",
      "[I 2024-01-05 08:25:08,739] Trial 1 finished with value: 0.8866572567037293 and parameters: {'learning_rate': 0.08, 'max_depth': 3, 'min_child_weight': 13, 'subsample': 0.6, 'colsample_bytree': 0.85, 'gamma': 16.400000000000002, 'alpha': 4.5, 'lambda': 4098.637364141357, 'scale_pos_weight': 3.0}. Best is trial 0 with value: 0.8898194420311876.\n",
      "[I 2024-01-05 08:25:56,274] Trial 2 finished with value: 0.8896588209577386 and parameters: {'learning_rate': 0.04, 'max_depth': 11, 'min_child_weight': 7, 'subsample': 0.85, 'colsample_bytree': 0.6, 'gamma': 16.2, 'alpha': 2.1, 'lambda': 11.226623011877013, 'scale_pos_weight': 4.1}. Best is trial 0 with value: 0.8898194420311876.\n"
     ]
    },
    {
     "name": "stdout",
     "output_type": "stream",
     "text": [
      "Best trial: 0 -> Best value: 0.88982\n",
      "Best hyperparameters:\n",
      "learning_rate        - 0.01\n",
      "max_depth            - 12\n",
      "min_child_weight     - 9\n",
      "subsample            - 0.7\n",
      "colsample_bytree     - 0.8\n",
      "gamma                - 5.7\n",
      "alpha                - 4.3\n",
      "lambda               - 0.008822078646927935\n",
      "scale_pos_weight     - 1.4\n",
      "\n",
      "[Time taken: 244.25s]\n",
      "\n",
      "-----Cross-validation and prediction-----\n",
      "Fold #0: 0.89147 (2635 rounds)\n",
      "Fold #1: 0.89098 (2278 rounds)\n",
      "Fold #2: 0.89050 (2936 rounds)\n",
      "Fold #3: 0.88821 (1443 rounds)\n",
      "Fold #4: 0.88811 (1835 rounds)\n",
      "\n",
      "OOF score: 0.88982\n",
      "Avg. score: 0.88985 +/- 0.00142\n",
      "\n",
      "[Time taken: 159.75s]\n",
      "\n"
     ]
    }
   ],
   "source": [
    "_ , _ = run_experiment(features=features, n_trials=3)"
   ]
  },
  {
   "cell_type": "code",
   "execution_count": 18,
   "id": "1d0e018e",
   "metadata": {
    "execution": {
     "iopub.execute_input": "2024-01-05T08:28:36.168672Z",
     "iopub.status.busy": "2024-01-05T08:28:36.167880Z",
     "iopub.status.idle": "2024-01-05T08:28:36.173148Z",
     "shell.execute_reply": "2024-01-05T08:28:36.172281Z"
    },
    "papermill": {
     "duration": 0.020846,
     "end_time": "2024-01-05T08:28:36.175482",
     "exception": false,
     "start_time": "2024-01-05T08:28:36.154636",
     "status": "completed"
    },
    "tags": []
   },
   "outputs": [],
   "source": [
    "optuna.logging.set_verbosity(optuna.logging.ERROR)"
   ]
  },
  {
   "cell_type": "markdown",
   "id": "a6f0e324",
   "metadata": {
    "papermill": {
     "duration": 0.011028,
     "end_time": "2024-01-05T08:28:36.198441",
     "exception": false,
     "start_time": "2024-01-05T08:28:36.187413",
     "status": "completed"
    },
    "tags": []
   },
   "source": [
    "# Experiments"
   ]
  },
  {
   "cell_type": "code",
   "execution_count": 19,
   "id": "eb3995ec",
   "metadata": {
    "execution": {
     "iopub.execute_input": "2024-01-05T08:28:36.290740Z",
     "iopub.status.busy": "2024-01-05T08:28:36.289960Z",
     "iopub.status.idle": "2024-01-05T08:28:36.294433Z",
     "shell.execute_reply": "2024-01-05T08:28:36.293504Z"
    },
    "papermill": {
     "duration": 0.086937,
     "end_time": "2024-01-05T08:28:36.296713",
     "exception": false,
     "start_time": "2024-01-05T08:28:36.209776",
     "status": "completed"
    },
    "tags": []
   },
   "outputs": [],
   "source": [
    "op = {} # Train-set OOF predictions\n",
    "tp = {} # Test-set predictions"
   ]
  },
  {
   "cell_type": "code",
   "execution_count": 20,
   "id": "d3dff8e8",
   "metadata": {
    "execution": {
     "iopub.execute_input": "2024-01-05T08:28:36.323218Z",
     "iopub.status.busy": "2024-01-05T08:28:36.322777Z",
     "iopub.status.idle": "2024-01-05T09:31:21.246059Z",
     "shell.execute_reply": "2024-01-05T09:31:21.244925Z"
    },
    "papermill": {
     "duration": 3764.939781,
     "end_time": "2024-01-05T09:31:21.248932",
     "exception": false,
     "start_time": "2024-01-05T08:28:36.309151",
     "status": "completed"
    },
    "tags": []
   },
   "outputs": [
    {
     "name": "stdout",
     "output_type": "stream",
     "text": [
      "----------Hyperparameter tuning----------\n",
      "Best trial: 49 -> Best value: 0.89024\n",
      "Best hyperparameters:\n",
      "learning_rate        - 0.01\n",
      "max_depth            - 4\n",
      "min_child_weight     - 11\n",
      "subsample            - 0.65\n",
      "colsample_bytree     - 0.95\n",
      "gamma                - 4.0\n",
      "alpha                - 1.3\n",
      "lambda               - 0.10912981345000111\n",
      "scale_pos_weight     - 1.7000000000000002\n",
      "\n",
      "[Time taken: 3598.92s]\n",
      "\n",
      "-----Cross-validation and prediction-----\n",
      "Fold #0: 0.89186 (2900 rounds)\n",
      "Fold #1: 0.89138 (1896 rounds)\n",
      "Fold #2: 0.89110 (2373 rounds)\n",
      "Fold #3: 0.88845 (1669 rounds)\n",
      "Fold #4: 0.88854 (2305 rounds)\n",
      "\n",
      "OOF score: 0.89024\n",
      "Avg. score: 0.89027 +/- 0.00147\n",
      "\n",
      "[Time taken: 165.60s]\n",
      "\n"
     ]
    }
   ],
   "source": [
    "model_name = 'xgbv1'\n",
    "dataset = 'trn'\n",
    "folds = 5\n",
    "seed = SEED\n",
    "config = f'{model_name}_{dataset}_f{folds}_s{seed}'\n",
    "\n",
    "op[config], tp[config] = run_experiment(\n",
    "    features=features,  \n",
    "    extend=False,\n",
    "    folds=folds, \n",
    "    seed=seed)\n",
    "\n",
    "create_submission_files(tp[config], config)"
   ]
  },
  {
   "cell_type": "code",
   "execution_count": 21,
   "id": "f2744c6b",
   "metadata": {
    "execution": {
     "iopub.execute_input": "2024-01-05T09:31:21.275532Z",
     "iopub.status.busy": "2024-01-05T09:31:21.275145Z",
     "iopub.status.idle": "2024-01-05T10:24:35.516245Z",
     "shell.execute_reply": "2024-01-05T10:24:35.515022Z"
    },
    "papermill": {
     "duration": 3194.258282,
     "end_time": "2024-01-05T10:24:35.519508",
     "exception": false,
     "start_time": "2024-01-05T09:31:21.261226",
     "status": "completed"
    },
    "tags": []
   },
   "outputs": [
    {
     "name": "stdout",
     "output_type": "stream",
     "text": [
      "----------Hyperparameter tuning----------\n",
      "Best trial: 48 -> Best value: 0.89034\n",
      "Best hyperparameters:\n",
      "learning_rate        - 0.09999999999999999\n",
      "max_depth            - 3\n",
      "min_child_weight     - 5\n",
      "subsample            - 0.85\n",
      "colsample_bytree     - 0.65\n",
      "gamma                - 0.8\n",
      "alpha                - 3.8000000000000003\n",
      "lambda               - 0.6534904967130574\n",
      "scale_pos_weight     - 2.4000000000000004\n",
      "\n",
      "[Time taken: 3146.50s]\n",
      "\n",
      "-----Cross-validation and prediction-----\n",
      "Fold #0: 0.89196 (515 rounds)\n",
      "Fold #1: 0.89086 (595 rounds)\n",
      "Fold #2: 0.89123 (584 rounds)\n",
      "Fold #3: 0.88875 (410 rounds)\n",
      "Fold #4: 0.88901 (744 rounds)\n",
      "\n",
      "OOF score: 0.89034\n",
      "Avg. score: 0.89036 +/- 0.00126\n",
      "\n",
      "[Time taken: 47.35s]\n",
      "\n"
     ]
    }
   ],
   "source": [
    "model_name = 'xgbv1'\n",
    "dataset = 'ext'\n",
    "folds = 5\n",
    "seed = SEED\n",
    "config = f'{model_name}_{dataset}_f{folds}_s{seed}'\n",
    "\n",
    "op[config], tp[config] = run_experiment(\n",
    "    features=features,  \n",
    "    extend=True,\n",
    "    folds=folds, \n",
    "    seed=seed)\n",
    "\n",
    "create_submission_files(tp[config], config)"
   ]
  },
  {
   "cell_type": "code",
   "execution_count": 22,
   "id": "9019f80b",
   "metadata": {
    "execution": {
     "iopub.execute_input": "2024-01-05T10:24:35.548575Z",
     "iopub.status.busy": "2024-01-05T10:24:35.547837Z",
     "iopub.status.idle": "2024-01-05T11:31:41.276249Z",
     "shell.execute_reply": "2024-01-05T11:31:41.274862Z"
    },
    "papermill": {
     "duration": 4025.745951,
     "end_time": "2024-01-05T11:31:41.278915",
     "exception": false,
     "start_time": "2024-01-05T10:24:35.532964",
     "status": "completed"
    },
    "tags": []
   },
   "outputs": [
    {
     "name": "stdout",
     "output_type": "stream",
     "text": [
      "----------Hyperparameter tuning----------\n",
      "Best trial: 33 -> Best value: 0.89036\n",
      "Best hyperparameters:\n",
      "learning_rate        - 0.060000000000000005\n",
      "max_depth            - 5\n",
      "min_child_weight     - 14\n",
      "subsample            - 0.65\n",
      "colsample_bytree     - 0.6\n",
      "gamma                - 0.1\n",
      "alpha                - 4.2\n",
      "lambda               - 0.43283394363421634\n",
      "scale_pos_weight     - 3.6\n",
      "\n",
      "[Time taken: 3971.43s]\n",
      "\n",
      "-----Cross-validation and prediction-----\n",
      "Fold #0: 0.88991 (300 rounds)\n",
      "Fold #1: 0.89554 (445 rounds)\n",
      "Fold #2: 0.88914 (231 rounds)\n",
      "Fold #3: 0.89058 (348 rounds)\n",
      "Fold #4: 0.89039 (295 rounds)\n",
      "Fold #5: 0.88422 (253 rounds)\n",
      "Fold #6: 0.89289 (404 rounds)\n",
      "\n",
      "OOF score: 0.89036\n",
      "Avg. score: 0.89038 +/- 0.00322\n",
      "\n",
      "[Time taken: 53.91s]\n",
      "\n"
     ]
    }
   ],
   "source": [
    "model_name = 'xgbv1'\n",
    "dataset = 'ext'\n",
    "folds = 7\n",
    "seed = SEED\n",
    "config = f'{model_name}_{dataset}_f{folds}_s{seed}'\n",
    "\n",
    "op[config], tp[config] = run_experiment(\n",
    "    features=features,  \n",
    "    extend=True,\n",
    "    folds=folds, \n",
    "    seed=seed)\n",
    "\n",
    "create_submission_files(tp[config], config)"
   ]
  },
  {
   "cell_type": "code",
   "execution_count": 23,
   "id": "7bc8cf59",
   "metadata": {
    "execution": {
     "iopub.execute_input": "2024-01-05T11:31:41.310037Z",
     "iopub.status.busy": "2024-01-05T11:31:41.309593Z",
     "iopub.status.idle": "2024-01-05T12:55:55.483001Z",
     "shell.execute_reply": "2024-01-05T12:55:55.481446Z"
    },
    "papermill": {
     "duration": 5054.192185,
     "end_time": "2024-01-05T12:55:55.485788",
     "exception": false,
     "start_time": "2024-01-05T11:31:41.293603",
     "status": "completed"
    },
    "tags": []
   },
   "outputs": [
    {
     "name": "stdout",
     "output_type": "stream",
     "text": [
      "----------Hyperparameter tuning----------\n",
      "Best trial: 38 -> Best value: 0.89043\n",
      "Best hyperparameters:\n",
      "learning_rate        - 0.06999999999999999\n",
      "max_depth            - 5\n",
      "min_child_weight     - 10\n",
      "subsample            - 0.7\n",
      "colsample_bytree     - 0.6\n",
      "gamma                - 2.4000000000000004\n",
      "alpha                - 4.1000000000000005\n",
      "lambda               - 0.16617122642544158\n",
      "scale_pos_weight     - 2.5\n",
      "\n",
      "[Time taken: 4982.90s]\n",
      "\n",
      "-----Cross-validation and prediction-----\n",
      "Fold #0: 0.89308 (388 rounds)\n",
      "Fold #1: 0.89075 (655 rounds)\n",
      "Fold #2: 0.89319 (346 rounds)\n",
      "Fold #3: 0.88956 (192 rounds)\n",
      "Fold #4: 0.89163 (301 rounds)\n",
      "Fold #5: 0.89080 (296 rounds)\n",
      "Fold #6: 0.89004 (263 rounds)\n",
      "Fold #7: 0.88774 (194 rounds)\n",
      "Fold #8: 0.88590 (508 rounds)\n",
      "Fold #9: 0.89200 (418 rounds)\n",
      "\n",
      "OOF score: 0.89043\n",
      "Avg. score: 0.89047 +/- 0.00218\n",
      "\n",
      "[Time taken: 70.89s]\n",
      "\n"
     ]
    }
   ],
   "source": [
    "model_name = 'xgbv1'\n",
    "dataset = 'ext'\n",
    "folds = 10\n",
    "seed = SEED\n",
    "config = f'{model_name}_{dataset}_f{folds}_s{seed}'\n",
    "\n",
    "op[config], tp[config] = run_experiment(\n",
    "    features=features,  \n",
    "    extend=True,\n",
    "    folds=folds, \n",
    "    seed=seed)\n",
    "\n",
    "create_submission_files(tp[config], config)"
   ]
  },
  {
   "cell_type": "code",
   "execution_count": 24,
   "id": "11e03a47",
   "metadata": {
    "execution": {
     "iopub.execute_input": "2024-01-05T12:55:55.518863Z",
     "iopub.status.busy": "2024-01-05T12:55:55.518407Z",
     "iopub.status.idle": "2024-01-05T15:12:14.842767Z",
     "shell.execute_reply": "2024-01-05T15:12:14.841730Z"
    },
    "papermill": {
     "duration": 8179.344203,
     "end_time": "2024-01-05T15:12:14.845508",
     "exception": false,
     "start_time": "2024-01-05T12:55:55.501305",
     "status": "completed"
    },
    "tags": []
   },
   "outputs": [
    {
     "name": "stdout",
     "output_type": "stream",
     "text": [
      "----------Hyperparameter tuning----------\n",
      "Best trial: 49 -> Best value: 0.89037\n",
      "Best hyperparameters:\n",
      "learning_rate        - 0.09999999999999999\n",
      "max_depth            - 9\n",
      "min_child_weight     - 10\n",
      "subsample            - 0.8\n",
      "colsample_bytree     - 0.6\n",
      "gamma                - 2.8000000000000003\n",
      "alpha                - 2.4000000000000004\n",
      "lambda               - 126.87181296328886\n",
      "scale_pos_weight     - 2.7\n",
      "\n",
      "[Time taken: 8104.80s]\n",
      "\n",
      "-----Cross-validation and prediction-----\n",
      "Fold #0: 0.89152 (111 rounds)\n",
      "Fold #1: 0.89072 (73 rounds)\n",
      "Fold #2: 0.89307 (754 rounds)\n",
      "Fold #3: 0.89339 (244 rounds)\n",
      "Fold #4: 0.88736 (102 rounds)\n",
      "Fold #5: 0.89286 (177 rounds)\n",
      "Fold #6: 0.89643 (227 rounds)\n",
      "Fold #7: 0.88081 (184 rounds)\n",
      "Fold #8: 0.89623 (176 rounds)\n",
      "Fold #9: 0.89231 (227 rounds)\n",
      "Fold #10: 0.88714 (131 rounds)\n",
      "Fold #11: 0.88814 (203 rounds)\n",
      "Fold #12: 0.88108 (138 rounds)\n",
      "Fold #13: 0.89520 (165 rounds)\n",
      "Fold #14: 0.88959 (266 rounds)\n",
      "\n",
      "OOF score: 0.89037\n",
      "Avg. score: 0.89039 +/- 0.00465\n",
      "\n",
      "[Time taken: 74.14s]\n",
      "\n"
     ]
    }
   ],
   "source": [
    "model_name = 'xgbv1'\n",
    "dataset = 'ext'\n",
    "folds = 15\n",
    "seed = SEED\n",
    "config = f'{model_name}_{dataset}_f{folds}_s{seed}'\n",
    "\n",
    "op[config], tp[config] = run_experiment(\n",
    "    features=features,  \n",
    "    extend=True,\n",
    "    folds=folds, \n",
    "    seed=seed)\n",
    "\n",
    "create_submission_files(tp[config], config)"
   ]
  }
 ],
 "metadata": {
  "kaggle": {
   "accelerator": "none",
   "dataSources": [
    {
     "databundleVersionId": 7405009,
     "sourceId": 65711,
     "sourceType": "competition"
    },
    {
     "datasetId": 3191230,
     "sourceId": 5536933,
     "sourceType": "datasetVersion"
    }
   ],
   "dockerImageVersionId": 30626,
   "isGpuEnabled": false,
   "isInternetEnabled": true,
   "language": "python",
   "sourceType": "notebook"
  },
  "kernelspec": {
   "display_name": "Python 3",
   "language": "python",
   "name": "python3"
  },
  "language_info": {
   "codemirror_mode": {
    "name": "ipython",
    "version": 3
   },
   "file_extension": ".py",
   "mimetype": "text/x-python",
   "name": "python",
   "nbconvert_exporter": "python",
   "pygments_lexer": "ipython3",
   "version": "3.10.12"
  },
  "papermill": {
   "default_parameters": {},
   "duration": 24651.47273,
   "end_time": "2024-01-05T15:12:15.742893",
   "environment_variables": {},
   "exception": null,
   "input_path": "__notebook__.ipynb",
   "output_path": "__notebook__.ipynb",
   "parameters": {},
   "start_time": "2024-01-05T08:21:24.270163",
   "version": "2.4.0"
  }
 },
 "nbformat": 4,
 "nbformat_minor": 5
}
