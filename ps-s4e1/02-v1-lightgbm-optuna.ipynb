{
 "cells": [
  {
   "cell_type": "markdown",
   "id": "f86248ff",
   "metadata": {
    "papermill": {
     "duration": 0.01034,
     "end_time": "2024-01-07T04:13:00.592956",
     "exception": false,
     "start_time": "2024-01-07T04:13:00.582616",
     "status": "completed"
    },
    "tags": []
   },
   "source": [
    "# Setup"
   ]
  },
  {
   "cell_type": "code",
   "execution_count": 1,
   "id": "6c496c5b",
   "metadata": {
    "execution": {
     "iopub.execute_input": "2024-01-07T04:13:00.615329Z",
     "iopub.status.busy": "2024-01-07T04:13:00.614289Z",
     "iopub.status.idle": "2024-01-07T04:13:16.615817Z",
     "shell.execute_reply": "2024-01-07T04:13:16.614084Z"
    },
    "papermill": {
     "duration": 16.015773,
     "end_time": "2024-01-07T04:13:16.618860",
     "exception": false,
     "start_time": "2024-01-07T04:13:00.603087",
     "status": "completed"
    },
    "tags": []
   },
   "outputs": [],
   "source": [
    "%%capture\n",
    "!pip install lightgbm --upgrade"
   ]
  },
  {
   "cell_type": "code",
   "execution_count": 2,
   "id": "103b7c0f",
   "metadata": {
    "_cell_guid": "b1076dfc-b9ad-4769-8c92-a6c4dae69d19",
    "_kg_hide-input": true,
    "_uuid": "8f2839f25d086af736a60e9eeb907d3b93b6e0e5",
    "execution": {
     "iopub.execute_input": "2024-01-07T04:13:16.641119Z",
     "iopub.status.busy": "2024-01-07T04:13:16.640443Z",
     "iopub.status.idle": "2024-01-07T04:13:21.495344Z",
     "shell.execute_reply": "2024-01-07T04:13:21.494221Z"
    },
    "papermill": {
     "duration": 4.86927,
     "end_time": "2024-01-07T04:13:21.498059",
     "exception": false,
     "start_time": "2024-01-07T04:13:16.628789",
     "status": "completed"
    },
    "tags": []
   },
   "outputs": [],
   "source": [
    "import gc\n",
    "import time\n",
    "import warnings\n",
    "\n",
    "gc.enable()\n",
    "warnings.filterwarnings('ignore')\n",
    "\n",
    "import numpy as np\n",
    "import pandas as pd\n",
    "\n",
    "pd.set_option('display.max_columns', None)\n",
    "\n",
    "from sklearn.metrics import roc_auc_score\n",
    "from sklearn.model_selection import StratifiedKFold, RepeatedStratifiedKFold\n",
    "\n",
    "import lightgbm as lgb\n",
    "import optuna\n",
    "\n",
    "SEED = 55"
   ]
  },
  {
   "cell_type": "code",
   "execution_count": 3,
   "id": "f7928a23",
   "metadata": {
    "_kg_hide-input": true,
    "execution": {
     "iopub.execute_input": "2024-01-07T04:13:21.521366Z",
     "iopub.status.busy": "2024-01-07T04:13:21.520157Z",
     "iopub.status.idle": "2024-01-07T04:13:21.526386Z",
     "shell.execute_reply": "2024-01-07T04:13:21.525329Z"
    },
    "papermill": {
     "duration": 0.020069,
     "end_time": "2024-01-07T04:13:21.529050",
     "exception": false,
     "start_time": "2024-01-07T04:13:21.508981",
     "status": "completed"
    },
    "tags": []
   },
   "outputs": [],
   "source": [
    "assert lgb.__version__ == '4.2.0', 'LightGBM version differs from original notebook.' "
   ]
  },
  {
   "cell_type": "markdown",
   "id": "5581d6e7",
   "metadata": {
    "papermill": {
     "duration": 0.009281,
     "end_time": "2024-01-07T04:13:21.547799",
     "exception": false,
     "start_time": "2024-01-07T04:13:21.538518",
     "status": "completed"
    },
    "tags": []
   },
   "source": [
    "# Data preparation"
   ]
  },
  {
   "cell_type": "code",
   "execution_count": 4,
   "id": "8a9422b6",
   "metadata": {
    "execution": {
     "iopub.execute_input": "2024-01-07T04:13:21.569101Z",
     "iopub.status.busy": "2024-01-07T04:13:21.568321Z",
     "iopub.status.idle": "2024-01-07T04:13:22.354583Z",
     "shell.execute_reply": "2024-01-07T04:13:22.353565Z"
    },
    "papermill": {
     "duration": 0.800371,
     "end_time": "2024-01-07T04:13:22.357614",
     "exception": false,
     "start_time": "2024-01-07T04:13:21.557243",
     "status": "completed"
    },
    "tags": []
   },
   "outputs": [],
   "source": [
    "DATA_DIR = '/kaggle/input/playground-series-s4e1'\n",
    "train = pd.read_csv(f'{DATA_DIR}/train.csv')\n",
    "test = pd.read_csv(f'{DATA_DIR}/test.csv')\n",
    "sample_sub = pd.read_csv(f'{DATA_DIR}/sample_submission.csv')\n",
    "\n",
    "original = pd.read_csv('/kaggle/input/bank-customer-churn-prediction/Churn_Modelling.csv')"
   ]
  },
  {
   "cell_type": "code",
   "execution_count": 5,
   "id": "82fc4c7e",
   "metadata": {
    "execution": {
     "iopub.execute_input": "2024-01-07T04:13:22.379567Z",
     "iopub.status.busy": "2024-01-07T04:13:22.379189Z",
     "iopub.status.idle": "2024-01-07T04:13:22.411415Z",
     "shell.execute_reply": "2024-01-07T04:13:22.410491Z"
    },
    "papermill": {
     "duration": 0.045996,
     "end_time": "2024-01-07T04:13:22.414011",
     "exception": false,
     "start_time": "2024-01-07T04:13:22.368015",
     "status": "completed"
    },
    "tags": []
   },
   "outputs": [],
   "source": [
    "train = train.drop(['id', 'CustomerId', 'Surname'], axis=1)\n",
    "test = test.drop(['id', 'CustomerId', 'Surname'], axis=1)\n",
    "original = original.drop(['RowNumber', 'CustomerId', 'Surname'], axis=1)"
   ]
  },
  {
   "cell_type": "code",
   "execution_count": 6,
   "id": "97a1a09f",
   "metadata": {
    "execution": {
     "iopub.execute_input": "2024-01-07T04:13:22.435481Z",
     "iopub.status.busy": "2024-01-07T04:13:22.435065Z",
     "iopub.status.idle": "2024-01-07T04:13:22.439492Z",
     "shell.execute_reply": "2024-01-07T04:13:22.438394Z"
    },
    "papermill": {
     "duration": 0.017946,
     "end_time": "2024-01-07T04:13:22.441832",
     "exception": false,
     "start_time": "2024-01-07T04:13:22.423886",
     "status": "completed"
    },
    "tags": []
   },
   "outputs": [],
   "source": [
    "features = list(test.columns)\n",
    "TARGET = 'Exited'"
   ]
  },
  {
   "cell_type": "code",
   "execution_count": 7,
   "id": "bcb1367e",
   "metadata": {
    "execution": {
     "iopub.execute_input": "2024-01-07T04:13:22.463019Z",
     "iopub.status.busy": "2024-01-07T04:13:22.462610Z",
     "iopub.status.idle": "2024-01-07T04:13:22.472488Z",
     "shell.execute_reply": "2024-01-07T04:13:22.471385Z"
    },
    "papermill": {
     "duration": 0.023255,
     "end_time": "2024-01-07T04:13:22.474813",
     "exception": false,
     "start_time": "2024-01-07T04:13:22.451558",
     "status": "completed"
    },
    "tags": []
   },
   "outputs": [],
   "source": [
    "original['HasCrCard'].fillna(value=1, inplace=True)\n",
    "original['Geography'].fillna(value='France', inplace=True)\n",
    "original['IsActiveMember'].fillna(value=1, inplace=True)\n",
    "original['Age'].fillna(value=36, inplace=True)"
   ]
  },
  {
   "cell_type": "code",
   "execution_count": 8,
   "id": "1cef0bc5",
   "metadata": {
    "execution": {
     "iopub.execute_input": "2024-01-07T04:13:22.495730Z",
     "iopub.status.busy": "2024-01-07T04:13:22.495344Z",
     "iopub.status.idle": "2024-01-07T04:13:22.980632Z",
     "shell.execute_reply": "2024-01-07T04:13:22.979487Z"
    },
    "papermill": {
     "duration": 0.499317,
     "end_time": "2024-01-07T04:13:22.983842",
     "exception": false,
     "start_time": "2024-01-07T04:13:22.484525",
     "status": "completed"
    },
    "tags": []
   },
   "outputs": [],
   "source": [
    "cat_features = ['Geography', 'Gender', 'HasCrCard', 'IsActiveMember']\n",
    "\n",
    "gender_mapping = {'Female': 0, 'Male': 1}\n",
    "train['Gender'] = train['Gender'].replace(gender_mapping)\n",
    "test['Gender'] = test['Gender'].replace(gender_mapping)\n",
    "original['Gender'] = original['Gender'].replace(gender_mapping)\n",
    "\n",
    "geo_mapping = {'Spain': 0, 'France': 1, 'Germany': 2}\n",
    "train['Geography'] = train['Geography'].replace(geo_mapping)\n",
    "test['Geography'] = test['Geography'].replace(geo_mapping)\n",
    "original['Geography'] = original['Geography'].replace(geo_mapping)\n",
    "\n",
    "train[cat_features] = train[cat_features].astype('category')\n",
    "test[cat_features] = test[cat_features].astype('category')\n",
    "original[cat_features] = original[cat_features].astype('category')"
   ]
  },
  {
   "cell_type": "code",
   "execution_count": 9,
   "id": "c74bbce9",
   "metadata": {
    "execution": {
     "iopub.execute_input": "2024-01-07T04:13:23.005873Z",
     "iopub.status.busy": "2024-01-07T04:13:23.005443Z",
     "iopub.status.idle": "2024-01-07T04:13:23.100282Z",
     "shell.execute_reply": "2024-01-07T04:13:23.099102Z"
    },
    "papermill": {
     "duration": 0.109515,
     "end_time": "2024-01-07T04:13:23.103434",
     "exception": false,
     "start_time": "2024-01-07T04:13:22.993919",
     "status": "completed"
    },
    "tags": []
   },
   "outputs": [],
   "source": [
    "train = train.drop_duplicates(keep='first', ignore_index=True) # repeating\n",
    "train = train.drop_duplicates(subset=features, keep=False, ignore_index=True) # contradictory\n",
    "\n",
    "original = original.drop_duplicates(keep='first', ignore_index=True)"
   ]
  },
  {
   "cell_type": "markdown",
   "id": "b2d31947",
   "metadata": {
    "papermill": {
     "duration": 0.010198,
     "end_time": "2024-01-07T04:13:23.123916",
     "exception": false,
     "start_time": "2024-01-07T04:13:23.113718",
     "status": "completed"
    },
    "tags": []
   },
   "source": [
    "# Baseline"
   ]
  },
  {
   "cell_type": "code",
   "execution_count": 10,
   "id": "ecb42db3",
   "metadata": {
    "execution": {
     "iopub.execute_input": "2024-01-07T04:13:23.146229Z",
     "iopub.status.busy": "2024-01-07T04:13:23.145793Z",
     "iopub.status.idle": "2024-01-07T04:13:23.151948Z",
     "shell.execute_reply": "2024-01-07T04:13:23.150655Z"
    },
    "papermill": {
     "duration": 0.020757,
     "end_time": "2024-01-07T04:13:23.154748",
     "exception": false,
     "start_time": "2024-01-07T04:13:23.133991",
     "status": "completed"
    },
    "tags": []
   },
   "outputs": [],
   "source": [
    "# competition metric\n",
    "def comp_metric(y_true, y_pred):\n",
    "    return roc_auc_score(y_true, y_pred)"
   ]
  },
  {
   "cell_type": "code",
   "execution_count": 11,
   "id": "c3cb575a",
   "metadata": {
    "execution": {
     "iopub.execute_input": "2024-01-07T04:13:23.177749Z",
     "iopub.status.busy": "2024-01-07T04:13:23.177347Z",
     "iopub.status.idle": "2024-01-07T04:13:44.739743Z",
     "shell.execute_reply": "2024-01-07T04:13:44.738578Z"
    },
    "papermill": {
     "duration": 21.576442,
     "end_time": "2024-01-07T04:13:44.742327",
     "exception": false,
     "start_time": "2024-01-07T04:13:23.165885",
     "status": "completed"
    },
    "tags": []
   },
   "outputs": [
    {
     "name": "stdout",
     "output_type": "stream",
     "text": [
      "Fold #0: 0.89046 (58 rounds)\n",
      "Fold #1: 0.88984 (39 rounds)\n",
      "Fold #2: 0.88885 (60 rounds)\n",
      "Fold #3: 0.88639 (66 rounds)\n",
      "Fold #4: 0.88688 (59 rounds)\n",
      "\n",
      "OOF score: 0.88830\n",
      "\n"
     ]
    }
   ],
   "source": [
    "X, y = train[features], train[TARGET]\n",
    "oof_preds = {}\n",
    "\n",
    "cv = StratifiedKFold(n_splits=5, shuffle=True, random_state=SEED)\n",
    "for fold, (train_ids, val_ids) in enumerate(cv.split(X, y)):\n",
    "    X_train, y_train = X.iloc[train_ids], y.iloc[train_ids]\n",
    "    X_val, y_val = X.iloc[val_ids], y.iloc[val_ids]\n",
    "    \n",
    "    model = lgb.LGBMClassifier(\n",
    "        objective='binary',\n",
    "        boosting_type='gbdt',\n",
    "        data_sample_strategy='goss',\n",
    "        force_row_wise=True,\n",
    "        verbosity=-1,\n",
    "        n_jobs=-1,\n",
    "        random_state=SEED)\n",
    "    \n",
    "    early_stopping_callback = lgb.early_stopping(\n",
    "        stopping_rounds=50, \n",
    "        first_metric_only=True, \n",
    "        verbose=False, \n",
    "        min_delta=5e-5)\n",
    "    \n",
    "    model.fit(\n",
    "        X_train, y_train,\n",
    "        eval_set=[(X_val, y_val)],\n",
    "        eval_metric='auc',\n",
    "        callbacks=[early_stopping_callback])\n",
    "        \n",
    "    val_preds = model.predict_proba(X_val)[:, 1]\n",
    "    oof_preds.update(dict(zip(val_ids, val_preds)))\n",
    "    \n",
    "    score = comp_metric(y_val, val_preds)\n",
    "    print(f'Fold #{fold}: {score:.5f} ({model.best_iteration_} rounds)')        \n",
    "    _ = gc.collect()\n",
    "    \n",
    "oof_preds = pd.Series(oof_preds).sort_index()\n",
    "print(f'\\nOOF score: {comp_metric(y, oof_preds):.5f}\\n')"
   ]
  },
  {
   "cell_type": "markdown",
   "id": "d45e9f52",
   "metadata": {
    "papermill": {
     "duration": 0.009875,
     "end_time": "2024-01-07T04:13:44.762886",
     "exception": false,
     "start_time": "2024-01-07T04:13:44.753011",
     "status": "completed"
    },
    "tags": []
   },
   "source": [
    "# Hyperparameter tuning"
   ]
  },
  {
   "cell_type": "code",
   "execution_count": 12,
   "id": "22a82bfe",
   "metadata": {
    "execution": {
     "iopub.execute_input": "2024-01-07T04:13:44.785535Z",
     "iopub.status.busy": "2024-01-07T04:13:44.785087Z",
     "iopub.status.idle": "2024-01-07T04:13:44.800916Z",
     "shell.execute_reply": "2024-01-07T04:13:44.799979Z"
    },
    "papermill": {
     "duration": 0.030359,
     "end_time": "2024-01-07T04:13:44.803330",
     "exception": false,
     "start_time": "2024-01-07T04:13:44.772971",
     "status": "completed"
    },
    "tags": []
   },
   "outputs": [],
   "source": [
    "def objective(trial, features, model, extend, folds, seed):\n",
    "    oof_preds = {}\n",
    "    \n",
    "    param_grid = {\n",
    "        'learning_rate': trial.suggest_float('learning_rate', 0.01, 0.1, step=0.01),\n",
    "        'reg_alpha': trial.suggest_float('reg_alpha', 0, 200, step=0.5),\n",
    "        'reg_lambda': trial.suggest_float('reg_lambda', 0, 200, step=0.5),\n",
    "        'max_depth': trial.suggest_int('max_depth', 3, 12),\n",
    "#         'min_child_samples': trial.suggest_int('min_child_samples', 2, 100, step=2),\n",
    "#         'min_split_gain': trial.suggest_float('min_split_gain', 0, 10, step=0.01),\n",
    "        'subsample': trial.suggest_float('subsample', 0.65, 1.0, step=0.05),\n",
    "        'colsample_bytree': trial.suggest_float('colsample_bytree', 0.65, 1.0, step=0.05),\n",
    "        'top_rate': trial.suggest_float('top_rate', 0.1, 0.5, step=0.05),\n",
    "        'other_rate': trial.suggest_float('other_rate', 0.05, 0.5, step=0.05),\n",
    "        'scale_pos_weight': trial.suggest_float('scale_pos_weight', 1, 4, step=0.1)\n",
    "    }\n",
    "    \n",
    "    cv = StratifiedKFold(n_splits=folds, shuffle=True, random_state=seed)\n",
    "    for fold, (train_ids, val_ids) in enumerate(cv.split(train, train[TARGET])):\n",
    "        X_train = train.iloc[train_ids]\n",
    "        X_val = train.iloc[val_ids]\n",
    "        if extend: # concat original dataset and remove duplicates, repeating followed by contradictory\n",
    "            X_train = pd.concat([X_train, original], axis=0) \\\n",
    "                        .drop_duplicates(keep='first') \\\n",
    "                        .drop_duplicates(subset=features, keep=False, ignore_index=True)\n",
    "        \n",
    "        y_train, y_val = X_train.pop(TARGET), X_val.pop(TARGET)\n",
    "        X_train, X_val = X_train[features], X_val[features]\n",
    "        \n",
    "        model.set_params(**param_grid)\n",
    "        \n",
    "        early_stopping_callback = lgb.early_stopping(\n",
    "            stopping_rounds=100, \n",
    "            first_metric_only=True, \n",
    "            verbose=False, \n",
    "            min_delta=5e-5)\n",
    "    \n",
    "        model.fit(\n",
    "            X_train, y_train,\n",
    "            eval_set=[(X_val, y_val)],\n",
    "            eval_metric='auc',\n",
    "            callbacks=[early_stopping_callback])\n",
    "        \n",
    "        val_preds = model.predict_proba(X_val)[:, 1]\n",
    "        oof_preds.update(dict(zip(val_ids, val_preds)))\n",
    "        \n",
    "    oof_preds = pd.Series(oof_preds).sort_index()\n",
    "    return comp_metric(train[TARGET], oof_preds)"
   ]
  },
  {
   "cell_type": "code",
   "execution_count": 13,
   "id": "5fe1ccb9",
   "metadata": {
    "execution": {
     "iopub.execute_input": "2024-01-07T04:13:44.825507Z",
     "iopub.status.busy": "2024-01-07T04:13:44.825082Z",
     "iopub.status.idle": "2024-01-07T04:13:44.832252Z",
     "shell.execute_reply": "2024-01-07T04:13:44.831167Z"
    },
    "papermill": {
     "duration": 0.021025,
     "end_time": "2024-01-07T04:13:44.834596",
     "exception": false,
     "start_time": "2024-01-07T04:13:44.813571",
     "status": "completed"
    },
    "tags": []
   },
   "outputs": [],
   "source": [
    "def tune_params(features, model, extend, folds, seed, n_trials, direction):\n",
    "    study = optuna.create_study(\n",
    "        sampler=optuna.samplers.TPESampler(\n",
    "            consider_endpoints=True,\n",
    "            multivariate=True,\n",
    "            group=True,\n",
    "            seed=seed),\n",
    "        pruner=optuna.pruners.HyperbandPruner(),\n",
    "        direction=direction)\n",
    "    study.optimize(\n",
    "        func=lambda trial: objective(\n",
    "            trial, features, model, extend, folds, seed),\n",
    "        n_trials=n_trials,\n",
    "        gc_after_trial=True)\n",
    "    \n",
    "    return study"
   ]
  },
  {
   "cell_type": "markdown",
   "id": "a4bacd38",
   "metadata": {
    "papermill": {
     "duration": 0.009942,
     "end_time": "2024-01-07T04:13:44.855010",
     "exception": false,
     "start_time": "2024-01-07T04:13:44.845068",
     "status": "completed"
    },
    "tags": []
   },
   "source": [
    "# Cross-validation framework"
   ]
  },
  {
   "cell_type": "code",
   "execution_count": 14,
   "id": "d4eaaac7",
   "metadata": {
    "execution": {
     "iopub.execute_input": "2024-01-07T04:13:44.878034Z",
     "iopub.status.busy": "2024-01-07T04:13:44.877607Z",
     "iopub.status.idle": "2024-01-07T04:13:44.891744Z",
     "shell.execute_reply": "2024-01-07T04:13:44.890513Z"
    },
    "papermill": {
     "duration": 0.028942,
     "end_time": "2024-01-07T04:13:44.894279",
     "exception": false,
     "start_time": "2024-01-07T04:13:44.865337",
     "status": "completed"
    },
    "tags": []
   },
   "outputs": [],
   "source": [
    "def custom_cv(features, model, extend, folds, seed, verbose=True):\n",
    "    oof_preds = {}\n",
    "    test_preds = {}\n",
    "    scores = []\n",
    "    \n",
    "    X_test = test[features]\n",
    "    \n",
    "    cv = StratifiedKFold(n_splits=folds, shuffle=True, random_state=seed)\n",
    "    for fold, (train_ids, val_ids) in enumerate(cv.split(train, train[TARGET])):\n",
    "        X_train = train.iloc[train_ids]\n",
    "        X_val = train.iloc[val_ids]\n",
    "        if extend: # concat original dataset and remove duplicates, repeating followed by contradictory\n",
    "            X_train = pd.concat([X_train, original], axis=0) \\\n",
    "                        .drop_duplicates(keep='first') \\\n",
    "                        .drop_duplicates(subset=features, keep=False, ignore_index=True)\n",
    "        \n",
    "        y_train, y_val = X_train.pop(TARGET), X_val.pop(TARGET)\n",
    "        X_train, X_val = X_train[features], X_val[features]\n",
    "        \n",
    "        early_stopping_callback = lgb.early_stopping(\n",
    "            stopping_rounds=100, \n",
    "            first_metric_only=True, \n",
    "            verbose=False, \n",
    "            min_delta=5e-5)\n",
    "    \n",
    "        model.fit(\n",
    "            X_train, y_train,\n",
    "            eval_set=[(X_val, y_val)],\n",
    "            eval_metric='auc',\n",
    "            callbacks=[early_stopping_callback])\n",
    "        \n",
    "        val_preds = model.predict_proba(X_val)[:, 1]\n",
    "        oof_preds.update(dict(zip(val_ids, val_preds)))\n",
    "        test_preds[f'fold{fold}'] = model.predict_proba(X_test)[:, 1]\n",
    "        \n",
    "        score = comp_metric(y_val, val_preds)\n",
    "        scores.append(score)\n",
    "        if verbose:\n",
    "            print(f'Fold #{fold}: {score:.5f} ({model.best_iteration_} rounds)')\n",
    "            \n",
    "        _ = gc.collect()\n",
    "    \n",
    "    test_preds = pd.DataFrame.from_dict(test_preds)\n",
    "    test_preds['mean'] = test_preds.mean(axis=1) # mean of fold-wise predictions\n",
    "    \n",
    "    oof_preds = pd.Series(oof_preds).sort_index()\n",
    "    print(f'\\nOOF score: {comp_metric(train[TARGET], oof_preds):.5f}')\n",
    "    print(f'Avg. score: {np.mean(scores):.5f} +/- {np.std(scores):.5f}')\n",
    "    \n",
    "    return oof_preds, test_preds"
   ]
  },
  {
   "cell_type": "code",
   "execution_count": 15,
   "id": "3edd85a2",
   "metadata": {
    "execution": {
     "iopub.execute_input": "2024-01-07T04:13:44.916787Z",
     "iopub.status.busy": "2024-01-07T04:13:44.916386Z",
     "iopub.status.idle": "2024-01-07T04:13:44.926790Z",
     "shell.execute_reply": "2024-01-07T04:13:44.925704Z"
    },
    "papermill": {
     "duration": 0.024287,
     "end_time": "2024-01-07T04:13:44.929096",
     "exception": false,
     "start_time": "2024-01-07T04:13:44.904809",
     "status": "completed"
    },
    "tags": []
   },
   "outputs": [],
   "source": [
    "def run_experiment(features, extend=False, folds=5, seed=SEED, n_trials=50):\n",
    "    \n",
    "    base_params = {\n",
    "        'boosting_type': 'gbdt',\n",
    "        'objective': 'binary',\n",
    "        'n_estimators': 10000,\n",
    "        'data_sample_strategy': 'goss',\n",
    "        'extra_trees': True,\n",
    "        'force_row_wise': True,\n",
    "        'max_cat_to_onehot': 3, # for Geography column\n",
    "        'verbosity': -1,\n",
    "        'n_jobs': -1,\n",
    "        'seed': seed\n",
    "    }\n",
    "    model = lgb.LGBMClassifier(**base_params)\n",
    "    \n",
    "    print(f'----------Hyperparameter tuning----------')\n",
    "    start = time.time()\n",
    "    \n",
    "    study = tune_params(features, model, extend, folds, seed, n_trials, direction='maximize') \n",
    "    # metric: AUC -> higher is better\n",
    "    \n",
    "    end = time.time()\n",
    "    \n",
    "    print(f'Best trial: {study.best_trial.number} -> Best value: {study.best_value:.5f}')\n",
    "    print(f'Best hyperparameters:')\n",
    "    for k, v in study.best_params.items():\n",
    "        print(f'{k:20} - {v}')\n",
    "    print(f'\\n[Time taken: {end - start:.2f}s]\\n')\n",
    "    \n",
    "    print(f'-----Cross-validation and prediction-----')\n",
    "    start = time.time()\n",
    "    \n",
    "    model.set_params(**study.best_params)\n",
    "    oof_preds, test_preds = custom_cv(features, model, extend, folds, seed)\n",
    "    \n",
    "    end = time.time()\n",
    "    print(f'\\n[Time taken: {end - start:.2f}s]\\n')\n",
    "    \n",
    "    return oof_preds, test_preds"
   ]
  },
  {
   "cell_type": "code",
   "execution_count": 16,
   "id": "a33f3389",
   "metadata": {
    "execution": {
     "iopub.execute_input": "2024-01-07T04:13:44.951652Z",
     "iopub.status.busy": "2024-01-07T04:13:44.951257Z",
     "iopub.status.idle": "2024-01-07T04:13:44.957346Z",
     "shell.execute_reply": "2024-01-07T04:13:44.956075Z"
    },
    "papermill": {
     "duration": 0.019995,
     "end_time": "2024-01-07T04:13:44.959705",
     "exception": false,
     "start_time": "2024-01-07T04:13:44.939710",
     "status": "completed"
    },
    "tags": []
   },
   "outputs": [],
   "source": [
    "def create_submission_files(test_preds, config, notebook='02'):\n",
    "    sub = sample_sub.copy()\n",
    "    sub[TARGET] = test_preds['mean']\n",
    "    sub.to_csv(f'{notebook}_{config}.csv', index=False)"
   ]
  },
  {
   "cell_type": "markdown",
   "id": "1952f08c",
   "metadata": {
    "papermill": {
     "duration": 0.009857,
     "end_time": "2024-01-07T04:13:44.979756",
     "exception": false,
     "start_time": "2024-01-07T04:13:44.969899",
     "status": "completed"
    },
    "tags": []
   },
   "source": [
    "**Trial run:**"
   ]
  },
  {
   "cell_type": "code",
   "execution_count": 17,
   "id": "8737ea82",
   "metadata": {
    "execution": {
     "iopub.execute_input": "2024-01-07T04:13:45.002102Z",
     "iopub.status.busy": "2024-01-07T04:13:45.001718Z",
     "iopub.status.idle": "2024-01-07T04:13:45.007148Z",
     "shell.execute_reply": "2024-01-07T04:13:45.006043Z"
    },
    "papermill": {
     "duration": 0.019382,
     "end_time": "2024-01-07T04:13:45.009372",
     "exception": false,
     "start_time": "2024-01-07T04:13:44.989990",
     "status": "completed"
    },
    "tags": []
   },
   "outputs": [],
   "source": [
    "optuna.logging.set_verbosity(optuna.logging.INFO)"
   ]
  },
  {
   "cell_type": "code",
   "execution_count": 18,
   "id": "0f4bd729",
   "metadata": {
    "execution": {
     "iopub.execute_input": "2024-01-07T04:13:45.031366Z",
     "iopub.status.busy": "2024-01-07T04:13:45.030885Z",
     "iopub.status.idle": "2024-01-07T04:24:28.020787Z",
     "shell.execute_reply": "2024-01-07T04:24:28.019572Z"
    },
    "papermill": {
     "duration": 643.004458,
     "end_time": "2024-01-07T04:24:28.024062",
     "exception": false,
     "start_time": "2024-01-07T04:13:45.019604",
     "status": "completed"
    },
    "tags": []
   },
   "outputs": [
    {
     "name": "stderr",
     "output_type": "stream",
     "text": [
      "[I 2024-01-07 04:13:45,033] A new study created in memory with name: no-name-460c61c0-d500-4199-8e56-639a2c55a072\n"
     ]
    },
    {
     "name": "stdout",
     "output_type": "stream",
     "text": [
      "----------Hyperparameter tuning----------\n"
     ]
    },
    {
     "name": "stderr",
     "output_type": "stream",
     "text": [
      "[I 2024-01-07 04:17:51,881] Trial 0 finished with value: 0.8838821627324207 and parameters: {'learning_rate': 0.01, 'reg_alpha': 194.5, 'reg_lambda': 97.0, 'max_depth': 5, 'subsample': 0.8500000000000001, 'colsample_bytree': 0.75, 'top_rate': 0.45000000000000007, 'other_rate': 0.05, 'scale_pos_weight': 1.3}. Best is trial 0 with value: 0.8838821627324207.\n",
      "[I 2024-01-07 04:19:53,069] Trial 1 finished with value: 0.888469019296484 and parameters: {'learning_rate': 0.08, 'reg_alpha': 10.0, 'reg_lambda': 155.5, 'max_depth': 3, 'subsample': 0.8500000000000001, 'colsample_bytree': 0.9500000000000001, 'top_rate': 0.5, 'other_rate': 0.5, 'scale_pos_weight': 2.5}. Best is trial 1 with value: 0.888469019296484.\n",
      "[I 2024-01-07 04:22:04,311] Trial 2 finished with value: 0.8865987191796201 and parameters: {'learning_rate': 0.04, 'reg_alpha': 173.5, 'reg_lambda': 79.5, 'max_depth': 9, 'subsample': 0.65, 'colsample_bytree': 0.9500000000000001, 'top_rate': 0.25, 'other_rate': 0.3, 'scale_pos_weight': 3.4000000000000004}. Best is trial 1 with value: 0.888469019296484.\n"
     ]
    },
    {
     "name": "stdout",
     "output_type": "stream",
     "text": [
      "Best trial: 1 -> Best value: 0.88847\n",
      "Best hyperparameters:\n",
      "learning_rate        - 0.08\n",
      "reg_alpha            - 10.0\n",
      "reg_lambda           - 155.5\n",
      "max_depth            - 3\n",
      "subsample            - 0.8500000000000001\n",
      "colsample_bytree     - 0.9500000000000001\n",
      "top_rate             - 0.5\n",
      "other_rate           - 0.5\n",
      "scale_pos_weight     - 2.5\n",
      "\n",
      "[Time taken: 499.41s]\n",
      "\n",
      "-----Cross-validation and prediction-----\n",
      "Fold #0: 0.89015 (807 rounds)\n",
      "Fold #1: 0.88949 (1052 rounds)\n",
      "Fold #2: 0.88930 (658 rounds)\n",
      "Fold #3: 0.88666 (609 rounds)\n",
      "Fold #4: 0.88682 (555 rounds)\n",
      "\n",
      "OOF score: 0.88847\n",
      "Avg. score: 0.88848 +/- 0.00145\n",
      "\n",
      "[Time taken: 143.57s]\n",
      "\n"
     ]
    }
   ],
   "source": [
    "_ , _ = run_experiment(features=features, n_trials=3)"
   ]
  },
  {
   "cell_type": "code",
   "execution_count": 19,
   "id": "9ff6fca7",
   "metadata": {
    "execution": {
     "iopub.execute_input": "2024-01-07T04:24:28.052071Z",
     "iopub.status.busy": "2024-01-07T04:24:28.051205Z",
     "iopub.status.idle": "2024-01-07T04:24:28.057442Z",
     "shell.execute_reply": "2024-01-07T04:24:28.056176Z"
    },
    "papermill": {
     "duration": 0.022356,
     "end_time": "2024-01-07T04:24:28.060067",
     "exception": false,
     "start_time": "2024-01-07T04:24:28.037711",
     "status": "completed"
    },
    "tags": []
   },
   "outputs": [],
   "source": [
    "optuna.logging.set_verbosity(optuna.logging.ERROR)"
   ]
  },
  {
   "cell_type": "markdown",
   "id": "431cad19",
   "metadata": {
    "papermill": {
     "duration": 0.01382,
     "end_time": "2024-01-07T04:24:28.085350",
     "exception": false,
     "start_time": "2024-01-07T04:24:28.071530",
     "status": "completed"
    },
    "tags": []
   },
   "source": [
    "# Experiments"
   ]
  },
  {
   "cell_type": "code",
   "execution_count": 20,
   "id": "9d2fe9b0",
   "metadata": {
    "execution": {
     "iopub.execute_input": "2024-01-07T04:24:28.110238Z",
     "iopub.status.busy": "2024-01-07T04:24:28.109719Z",
     "iopub.status.idle": "2024-01-07T04:24:28.117371Z",
     "shell.execute_reply": "2024-01-07T04:24:28.116198Z"
    },
    "papermill": {
     "duration": 0.023413,
     "end_time": "2024-01-07T04:24:28.120128",
     "exception": false,
     "start_time": "2024-01-07T04:24:28.096715",
     "status": "completed"
    },
    "tags": []
   },
   "outputs": [],
   "source": [
    "op = {} # Train-set OOF predictions\n",
    "tp = {} # Test-set predictions"
   ]
  },
  {
   "cell_type": "code",
   "execution_count": 21,
   "id": "d6a24c82",
   "metadata": {
    "execution": {
     "iopub.execute_input": "2024-01-07T04:24:28.149700Z",
     "iopub.status.busy": "2024-01-07T04:24:28.149192Z",
     "iopub.status.idle": "2024-01-07T07:23:04.334797Z",
     "shell.execute_reply": "2024-01-07T07:23:04.333732Z"
    },
    "papermill": {
     "duration": 10716.201345,
     "end_time": "2024-01-07T07:23:04.337467",
     "exception": false,
     "start_time": "2024-01-07T04:24:28.136122",
     "status": "completed"
    },
    "tags": []
   },
   "outputs": [
    {
     "name": "stdout",
     "output_type": "stream",
     "text": [
      "----------Hyperparameter tuning----------\n",
      "Best trial: 37 -> Best value: 0.88895\n",
      "Best hyperparameters:\n",
      "learning_rate        - 0.04\n",
      "reg_alpha            - 9.0\n",
      "reg_lambda           - 175.0\n",
      "max_depth            - 10\n",
      "subsample            - 0.65\n",
      "colsample_bytree     - 0.9500000000000001\n",
      "top_rate             - 0.5\n",
      "other_rate           - 0.35000000000000003\n",
      "scale_pos_weight     - 3.2\n",
      "\n",
      "[Time taken: 10381.39s]\n",
      "\n",
      "-----Cross-validation and prediction-----\n",
      "Fold #0: 0.88888 (984 rounds)\n",
      "Fold #1: 0.89359 (941 rounds)\n",
      "Fold #2: 0.88830 (1205 rounds)\n",
      "Fold #3: 0.88926 (787 rounds)\n",
      "Fold #4: 0.88872 (447 rounds)\n",
      "Fold #5: 0.88337 (927 rounds)\n",
      "Fold #6: 0.89076 (757 rounds)\n",
      "\n",
      "OOF score: 0.88895\n",
      "Avg. score: 0.88898 +/- 0.00284\n",
      "\n",
      "[Time taken: 334.31s]\n",
      "\n"
     ]
    }
   ],
   "source": [
    "model_name = 'lgbv1'\n",
    "dataset = 'trn'\n",
    "folds = 7\n",
    "seed = SEED\n",
    "config = f'{model_name}_{dataset}_f{folds}_s{seed}'\n",
    "\n",
    "op[config], tp[config] = run_experiment(\n",
    "    features=features,  \n",
    "    extend=False,\n",
    "    folds=folds, \n",
    "    seed=seed)\n",
    "\n",
    "create_submission_files(tp[config], config)"
   ]
  },
  {
   "cell_type": "code",
   "execution_count": 22,
   "id": "d19022c7",
   "metadata": {
    "execution": {
     "iopub.execute_input": "2024-01-07T07:23:04.365040Z",
     "iopub.status.busy": "2024-01-07T07:23:04.364380Z",
     "iopub.status.idle": "2024-01-07T10:05:01.749779Z",
     "shell.execute_reply": "2024-01-07T10:05:01.748553Z"
    },
    "papermill": {
     "duration": 9717.402907,
     "end_time": "2024-01-07T10:05:01.753179",
     "exception": false,
     "start_time": "2024-01-07T07:23:04.350272",
     "status": "completed"
    },
    "tags": []
   },
   "outputs": [
    {
     "name": "stdout",
     "output_type": "stream",
     "text": [
      "----------Hyperparameter tuning----------\n",
      "Best trial: 35 -> Best value: 0.88913\n",
      "Best hyperparameters:\n",
      "learning_rate        - 0.08\n",
      "reg_alpha            - 3.0\n",
      "reg_lambda           - 67.5\n",
      "max_depth            - 4\n",
      "subsample            - 0.9500000000000001\n",
      "colsample_bytree     - 0.9500000000000001\n",
      "top_rate             - 0.4\n",
      "other_rate           - 0.45\n",
      "scale_pos_weight     - 1.2\n",
      "\n",
      "[Time taken: 9516.90s]\n",
      "\n",
      "-----Cross-validation and prediction-----\n",
      "Fold #0: 0.88921 (635 rounds)\n",
      "Fold #1: 0.89388 (767 rounds)\n",
      "Fold #2: 0.88808 (511 rounds)\n",
      "Fold #3: 0.88951 (686 rounds)\n",
      "Fold #4: 0.88881 (491 rounds)\n",
      "Fold #5: 0.88340 (682 rounds)\n",
      "Fold #6: 0.89124 (462 rounds)\n",
      "\n",
      "OOF score: 0.88913\n",
      "Avg. score: 0.88916 +/- 0.00296\n",
      "\n",
      "[Time taken: 200.00s]\n",
      "\n"
     ]
    }
   ],
   "source": [
    "model_name = 'lgbv1'\n",
    "dataset = 'ext'\n",
    "folds = 7\n",
    "seed = SEED\n",
    "config = f'{model_name}_{dataset}_f{folds}_s{seed}'\n",
    "\n",
    "op[config], tp[config] = run_experiment(\n",
    "    features=features,  \n",
    "    extend=True,\n",
    "    folds=folds, \n",
    "    seed=seed)\n",
    "\n",
    "create_submission_files(tp[config], config)"
   ]
  },
  {
   "cell_type": "code",
   "execution_count": 23,
   "id": "d1d8d5df",
   "metadata": {
    "execution": {
     "iopub.execute_input": "2024-01-07T10:05:01.783552Z",
     "iopub.status.busy": "2024-01-07T10:05:01.783058Z",
     "iopub.status.idle": "2024-01-07T13:47:08.720007Z",
     "shell.execute_reply": "2024-01-07T13:47:08.718914Z"
    },
    "papermill": {
     "duration": 13326.955619,
     "end_time": "2024-01-07T13:47:08.722878",
     "exception": false,
     "start_time": "2024-01-07T10:05:01.767259",
     "status": "completed"
    },
    "tags": []
   },
   "outputs": [
    {
     "name": "stdout",
     "output_type": "stream",
     "text": [
      "----------Hyperparameter tuning----------\n",
      "Best trial: 22 -> Best value: 0.88910\n",
      "Best hyperparameters:\n",
      "learning_rate        - 0.09\n",
      "reg_alpha            - 0.5\n",
      "reg_lambda           - 42.0\n",
      "max_depth            - 5\n",
      "subsample            - 0.8\n",
      "colsample_bytree     - 1.0\n",
      "top_rate             - 0.45000000000000007\n",
      "other_rate           - 0.45\n",
      "scale_pos_weight     - 1.2\n",
      "\n",
      "[Time taken: 13068.22s]\n",
      "\n",
      "-----Cross-validation and prediction-----\n",
      "Fold #0: 0.89233 (352 rounds)\n",
      "Fold #1: 0.88934 (714 rounds)\n",
      "Fold #2: 0.89163 (573 rounds)\n",
      "Fold #3: 0.88850 (536 rounds)\n",
      "Fold #4: 0.89044 (401 rounds)\n",
      "Fold #5: 0.88930 (372 rounds)\n",
      "Fold #6: 0.88901 (331 rounds)\n",
      "Fold #7: 0.88616 (646 rounds)\n",
      "Fold #8: 0.88452 (413 rounds)\n",
      "Fold #9: 0.89016 (372 rounds)\n",
      "\n",
      "OOF score: 0.88910\n",
      "Avg. score: 0.88914 +/- 0.00223\n",
      "\n",
      "[Time taken: 258.23s]\n",
      "\n"
     ]
    }
   ],
   "source": [
    "model_name = 'lgbv1'\n",
    "dataset = 'ext'\n",
    "folds = 10\n",
    "seed = SEED\n",
    "config = f'{model_name}_{dataset}_f{folds}_s{seed}'\n",
    "\n",
    "op[config], tp[config] = run_experiment(\n",
    "    features=features,  \n",
    "    extend=True,\n",
    "    folds=folds, \n",
    "    seed=seed)\n",
    "\n",
    "create_submission_files(tp[config], config)"
   ]
  },
  {
   "cell_type": "markdown",
   "id": "41d311db",
   "metadata": {
    "papermill": {
     "duration": 0.014076,
     "end_time": "2024-01-07T13:47:08.752870",
     "exception": false,
     "start_time": "2024-01-07T13:47:08.738794",
     "status": "completed"
    },
    "tags": []
   },
   "source": [
    "**Time to submit!**"
   ]
  }
 ],
 "metadata": {
  "kaggle": {
   "accelerator": "none",
   "dataSources": [
    {
     "databundleVersionId": 7405009,
     "sourceId": 65711,
     "sourceType": "competition"
    },
    {
     "datasetId": 3191230,
     "sourceId": 5536933,
     "sourceType": "datasetVersion"
    }
   ],
   "dockerImageVersionId": 30626,
   "isGpuEnabled": false,
   "isInternetEnabled": true,
   "language": "python",
   "sourceType": "notebook"
  },
  "kernelspec": {
   "display_name": "Python 3",
   "language": "python",
   "name": "python3"
  },
  "language_info": {
   "codemirror_mode": {
    "name": "ipython",
    "version": 3
   },
   "file_extension": ".py",
   "mimetype": "text/x-python",
   "name": "python",
   "nbconvert_exporter": "python",
   "pygments_lexer": "ipython3",
   "version": "3.10.12"
  },
  "papermill": {
   "default_parameters": {},
   "duration": 34453.400042,
   "end_time": "2024-01-07T13:47:09.669164",
   "environment_variables": {},
   "exception": null,
   "input_path": "__notebook__.ipynb",
   "output_path": "__notebook__.ipynb",
   "parameters": {},
   "start_time": "2024-01-07T04:12:56.269122",
   "version": "2.4.0"
  }
 },
 "nbformat": 4,
 "nbformat_minor": 5
}
