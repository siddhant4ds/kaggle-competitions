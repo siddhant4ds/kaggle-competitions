{
 "cells": [
  {
   "cell_type": "markdown",
   "id": "27d6ac2c",
   "metadata": {
    "_cell_guid": "b1076dfc-b9ad-4769-8c92-a6c4dae69d19",
    "_uuid": "8f2839f25d086af736a60e9eeb907d3b93b6e0e5",
    "papermill": {
     "duration": 0.006059,
     "end_time": "2024-04-15T10:33:35.356543",
     "exception": false,
     "start_time": "2024-04-15T10:33:35.350484",
     "status": "completed"
    },
    "tags": []
   },
   "source": [
    "# Setup"
   ]
  },
  {
   "cell_type": "code",
   "execution_count": 1,
   "id": "2e762c9c",
   "metadata": {
    "execution": {
     "iopub.execute_input": "2024-04-15T10:33:35.369035Z",
     "iopub.status.busy": "2024-04-15T10:33:35.368710Z",
     "iopub.status.idle": "2024-04-15T10:33:37.621004Z",
     "shell.execute_reply": "2024-04-15T10:33:37.620254Z"
    },
    "papermill": {
     "duration": 2.260907,
     "end_time": "2024-04-15T10:33:37.623202",
     "exception": false,
     "start_time": "2024-04-15T10:33:35.362295",
     "status": "completed"
    },
    "tags": []
   },
   "outputs": [],
   "source": [
    "import gc\n",
    "import time\n",
    "import warnings\n",
    "\n",
    "gc.enable()\n",
    "warnings.filterwarnings('ignore')\n",
    "\n",
    "import numpy as np\n",
    "import pandas as pd\n",
    "from IPython.display import clear_output\n",
    "\n",
    "pd.set_option('display.max_columns', None)\n",
    "pd.set_option('display.precision', 4)\n",
    "\n",
    "from sklearn.metrics import mean_squared_log_error\n",
    "from sklearn.model_selection import StratifiedKFold, KFold\n",
    "\n",
    "import xgboost as xgb\n",
    "import optuna\n",
    "\n",
    "SEED = 2024"
   ]
  },
  {
   "cell_type": "code",
   "execution_count": 2,
   "id": "26f6c887",
   "metadata": {
    "execution": {
     "iopub.execute_input": "2024-04-15T10:33:37.636028Z",
     "iopub.status.busy": "2024-04-15T10:33:37.635614Z",
     "iopub.status.idle": "2024-04-15T10:33:37.684666Z",
     "shell.execute_reply": "2024-04-15T10:33:37.683768Z"
    },
    "papermill": {
     "duration": 0.057555,
     "end_time": "2024-04-15T10:33:37.686696",
     "exception": false,
     "start_time": "2024-04-15T10:33:37.629141",
     "status": "completed"
    },
    "tags": []
   },
   "outputs": [
    {
     "name": "stdout",
     "output_type": "stream",
     "text": [
      "Available device: cuda\n"
     ]
    }
   ],
   "source": [
    "# Check GPU availability\n",
    "import subprocess\n",
    "\n",
    "try:\n",
    "    subprocess.check_output('nvidia-smi')\n",
    "    DEVICE = 'cuda'\n",
    "except Exception:\n",
    "    DEVICE = 'cpu'\n",
    "\n",
    "print(f'Available device: {DEVICE}')"
   ]
  },
  {
   "cell_type": "code",
   "execution_count": 3,
   "id": "9d2795ca",
   "metadata": {
    "execution": {
     "iopub.execute_input": "2024-04-15T10:33:37.699518Z",
     "iopub.status.busy": "2024-04-15T10:33:37.699246Z",
     "iopub.status.idle": "2024-04-15T10:33:37.991893Z",
     "shell.execute_reply": "2024-04-15T10:33:37.991062Z"
    },
    "papermill": {
     "duration": 0.30251,
     "end_time": "2024-04-15T10:33:37.995196",
     "exception": false,
     "start_time": "2024-04-15T10:33:37.692686",
     "status": "completed"
    },
    "tags": []
   },
   "outputs": [],
   "source": [
    "DATA_DIR = '/kaggle/input/playground-series-s4e4'\n",
    "\n",
    "train = pd.read_csv(f'{DATA_DIR}/train.csv')\n",
    "test = pd.read_csv(f'{DATA_DIR}/test.csv')\n",
    "sample_sub = pd.read_csv(f'{DATA_DIR}/sample_submission.csv')"
   ]
  },
  {
   "cell_type": "markdown",
   "id": "4e09c266",
   "metadata": {
    "papermill": {
     "duration": 0.005705,
     "end_time": "2024-04-15T10:33:38.007097",
     "exception": false,
     "start_time": "2024-04-15T10:33:38.001392",
     "status": "completed"
    },
    "tags": []
   },
   "source": [
    "# Data preparation"
   ]
  },
  {
   "cell_type": "code",
   "execution_count": 4,
   "id": "f5d37be5",
   "metadata": {
    "execution": {
     "iopub.execute_input": "2024-04-15T10:33:38.019938Z",
     "iopub.status.busy": "2024-04-15T10:33:38.019619Z",
     "iopub.status.idle": "2024-04-15T10:33:38.037937Z",
     "shell.execute_reply": "2024-04-15T10:33:38.037036Z"
    },
    "papermill": {
     "duration": 0.026838,
     "end_time": "2024-04-15T10:33:38.039881",
     "exception": false,
     "start_time": "2024-04-15T10:33:38.013043",
     "status": "completed"
    },
    "tags": []
   },
   "outputs": [],
   "source": [
    "# dropping irrelevant columns\n",
    "cols_to_drop = ['id']\n",
    "\n",
    "train = train.drop(cols_to_drop, axis=1)\n",
    "test = test.drop(cols_to_drop, axis=1)"
   ]
  },
  {
   "cell_type": "code",
   "execution_count": 5,
   "id": "d8c7f586",
   "metadata": {
    "execution": {
     "iopub.execute_input": "2024-04-15T10:33:38.052976Z",
     "iopub.status.busy": "2024-04-15T10:33:38.052385Z",
     "iopub.status.idle": "2024-04-15T10:33:38.056369Z",
     "shell.execute_reply": "2024-04-15T10:33:38.055549Z"
    },
    "papermill": {
     "duration": 0.012464,
     "end_time": "2024-04-15T10:33:38.058201",
     "exception": false,
     "start_time": "2024-04-15T10:33:38.045737",
     "status": "completed"
    },
    "tags": []
   },
   "outputs": [],
   "source": [
    "TARGET = 'Rings'\n",
    "features = [f for f in test.columns]"
   ]
  },
  {
   "cell_type": "code",
   "execution_count": 6,
   "id": "f23b3ede",
   "metadata": {
    "execution": {
     "iopub.execute_input": "2024-04-15T10:33:38.070850Z",
     "iopub.status.busy": "2024-04-15T10:33:38.070580Z",
     "iopub.status.idle": "2024-04-15T10:33:38.096053Z",
     "shell.execute_reply": "2024-04-15T10:33:38.095377Z"
    },
    "papermill": {
     "duration": 0.033993,
     "end_time": "2024-04-15T10:33:38.097954",
     "exception": false,
     "start_time": "2024-04-15T10:33:38.063961",
     "status": "completed"
    },
    "tags": []
   },
   "outputs": [],
   "source": [
    "cat_features = ['Sex']\n",
    "train[cat_features] = train[cat_features].astype('category')\n",
    "test[cat_features] = test[cat_features].astype('category')"
   ]
  },
  {
   "cell_type": "markdown",
   "id": "17525757",
   "metadata": {
    "papermill": {
     "duration": 0.00598,
     "end_time": "2024-04-15T10:33:38.110258",
     "exception": false,
     "start_time": "2024-04-15T10:33:38.104278",
     "status": "completed"
    },
    "tags": []
   },
   "source": [
    "# Hyperparameter tuning"
   ]
  },
  {
   "cell_type": "code",
   "execution_count": 7,
   "id": "9af5a5df",
   "metadata": {
    "execution": {
     "iopub.execute_input": "2024-04-15T10:33:38.124346Z",
     "iopub.status.busy": "2024-04-15T10:33:38.124078Z",
     "iopub.status.idle": "2024-04-15T10:33:38.133558Z",
     "shell.execute_reply": "2024-04-15T10:33:38.132762Z"
    },
    "papermill": {
     "duration": 0.019296,
     "end_time": "2024-04-15T10:33:38.135525",
     "exception": false,
     "start_time": "2024-04-15T10:33:38.116229",
     "status": "completed"
    },
    "tags": []
   },
   "outputs": [],
   "source": [
    "def objective(trial, feature_set, model, cv, stratify_col):\n",
    "    scores = []\n",
    "    \n",
    "    param_grid = {\n",
    "#         'learning_rate': trial.suggest_float('learning_rate', 0.01, 0.2, step=0.01),\n",
    "        'max_depth': trial.suggest_int('max_depth', 3, 12),\n",
    "        'min_child_weight': trial.suggest_int('min_child_weight', 2, 64),\n",
    "        'subsample': trial.suggest_float('subsample', 0.6, 1.0, step=0.05),\n",
    "        'colsample_bytree': trial.suggest_float('colsample_bytree', 0.6, 1.0, step=0.05),\n",
    "        'gamma': trial.suggest_float('gamma', 0, 20, step=0.1), #complexity-control\n",
    "        'alpha': trial.suggest_float('alpha', 0, 5, step=0.1), #L1-reg\n",
    "        'lambda': trial.suggest_float('lambda', 5e-3, 5e3, log=True), #L2-reg\n",
    "#         'max_delta_step': trial.suggest_float('max_delta_step', 0, 10, step=0.5),\n",
    "        'max_cat_to_onehot': trial.suggest_categorical('max_cat_to_onehot', [1, 4])\n",
    "    }\n",
    "    \n",
    "    for fold, (train_ids, val_ids) in enumerate(cv.split(train, stratify_col)):\n",
    "        X_train, y_train = train[feature_set].iloc[train_ids], train[TARGET].iloc[train_ids]\n",
    "        X_val, y_val = train[feature_set].iloc[val_ids], train[TARGET].iloc[val_ids]\n",
    "        \n",
    "        model.set_params(**param_grid)\n",
    "        model.fit(\n",
    "            X_train, y_train,\n",
    "            eval_set=[(X_val, y_val)],\n",
    "            verbose=0)\n",
    "    \n",
    "        val_preds = model.predict(X_val)\n",
    "        scores.append(comp_metric(y_val, val_preds))\n",
    "        \n",
    "    return np.mean(scores)"
   ]
  },
  {
   "cell_type": "code",
   "execution_count": 8,
   "id": "f6a405fa",
   "metadata": {
    "execution": {
     "iopub.execute_input": "2024-04-15T10:33:38.148844Z",
     "iopub.status.busy": "2024-04-15T10:33:38.148134Z",
     "iopub.status.idle": "2024-04-15T10:33:38.154076Z",
     "shell.execute_reply": "2024-04-15T10:33:38.153268Z"
    },
    "papermill": {
     "duration": 0.014569,
     "end_time": "2024-04-15T10:33:38.156004",
     "exception": false,
     "start_time": "2024-04-15T10:33:38.141435",
     "status": "completed"
    },
    "tags": []
   },
   "outputs": [],
   "source": [
    "def tune_params(feature_set, model, cv, stratify_col, seed, n_trials, direction):\n",
    "    study = optuna.create_study(\n",
    "        sampler=optuna.samplers.TPESampler(\n",
    "            consider_endpoints=True,\n",
    "            multivariate=True,\n",
    "            group=True,\n",
    "            seed=seed),\n",
    "        pruner=optuna.pruners.HyperbandPruner(),\n",
    "        direction=direction)\n",
    "    \n",
    "    study.optimize(\n",
    "        func=lambda trial: objective(\n",
    "            trial, feature_set, model, cv, stratify_col),\n",
    "        n_trials=n_trials,\n",
    "        gc_after_trial=True)\n",
    "    \n",
    "    return study"
   ]
  },
  {
   "cell_type": "markdown",
   "id": "312acac2",
   "metadata": {
    "papermill": {
     "duration": 0.005909,
     "end_time": "2024-04-15T10:33:38.167922",
     "exception": false,
     "start_time": "2024-04-15T10:33:38.162013",
     "status": "completed"
    },
    "tags": []
   },
   "source": [
    "# Modeling framework"
   ]
  },
  {
   "cell_type": "code",
   "execution_count": 9,
   "id": "8ceab040",
   "metadata": {
    "execution": {
     "iopub.execute_input": "2024-04-15T10:33:38.181183Z",
     "iopub.status.busy": "2024-04-15T10:33:38.180710Z",
     "iopub.status.idle": "2024-04-15T10:33:38.184527Z",
     "shell.execute_reply": "2024-04-15T10:33:38.183780Z"
    },
    "papermill": {
     "duration": 0.012495,
     "end_time": "2024-04-15T10:33:38.186373",
     "exception": false,
     "start_time": "2024-04-15T10:33:38.173878",
     "status": "completed"
    },
    "tags": []
   },
   "outputs": [],
   "source": [
    "def comp_metric(y_true, y_pred):\n",
    "    return mean_squared_log_error(y_true, y_pred, squared=False)"
   ]
  },
  {
   "cell_type": "code",
   "execution_count": 10,
   "id": "3f5965a9",
   "metadata": {
    "execution": {
     "iopub.execute_input": "2024-04-15T10:33:38.199570Z",
     "iopub.status.busy": "2024-04-15T10:33:38.199333Z",
     "iopub.status.idle": "2024-04-15T10:33:38.208188Z",
     "shell.execute_reply": "2024-04-15T10:33:38.207438Z"
    },
    "papermill": {
     "duration": 0.017684,
     "end_time": "2024-04-15T10:33:38.210072",
     "exception": false,
     "start_time": "2024-04-15T10:33:38.192388",
     "status": "completed"
    },
    "tags": []
   },
   "outputs": [],
   "source": [
    "def custom_cv(feature_set, model, cv, stratify_col, verbose=True):\n",
    "    X_test = test[feature_set]\n",
    "    \n",
    "    oof_preds, test_preds = {}, {}\n",
    "    scores = []\n",
    "\n",
    "    for fold, (train_ids, val_ids) in enumerate(cv.split(train, stratify_col)):\n",
    "        X_train, y_train = train[feature_set].iloc[train_ids], train[TARGET].iloc[train_ids]\n",
    "        X_val, y_val = train[feature_set].iloc[val_ids], train[TARGET].iloc[val_ids]\n",
    "\n",
    "        model.fit(\n",
    "            X_train, y_train,\n",
    "            eval_set=[(X_val, y_val)],\n",
    "            verbose=False)\n",
    "\n",
    "        val_preds = model.predict(X_val)\n",
    "        oof_preds.update(dict(zip(val_ids, val_preds)))\n",
    "        test_preds[f'fold{fold}'] = model.predict(X_test)\n",
    "\n",
    "        score = comp_metric(y_val, val_preds)\n",
    "        scores.append(score)\n",
    "        if verbose:\n",
    "            print(f'Fold #{fold:>2}: {score:.5f} ({model.best_iteration:>4} rounds)')\n",
    "        _ = gc.collect()\n",
    "\n",
    "    test_preds = pd.DataFrame.from_dict(test_preds)\n",
    "    test_preds['mean'] = test_preds.mean(axis=1) # mean of fold-wise predictions\n",
    "    \n",
    "    oof_preds = pd.Series(oof_preds).sort_index()\n",
    "    print(f'\\nAvg score: {np.mean(scores):.5f} +/- {np.std(scores):.5f}')\n",
    "    print(f'OOF score: {comp_metric(train[TARGET], oof_preds):.5f}\\n')\n",
    "    \n",
    "    return oof_preds, test_preds"
   ]
  },
  {
   "cell_type": "code",
   "execution_count": 11,
   "id": "e6c792f3",
   "metadata": {
    "execution": {
     "iopub.execute_input": "2024-04-15T10:33:38.223537Z",
     "iopub.status.busy": "2024-04-15T10:33:38.222907Z",
     "iopub.status.idle": "2024-04-15T10:33:38.231467Z",
     "shell.execute_reply": "2024-04-15T10:33:38.230689Z"
    },
    "papermill": {
     "duration": 0.017197,
     "end_time": "2024-04-15T10:33:38.233326",
     "exception": false,
     "start_time": "2024-04-15T10:33:38.216129",
     "status": "completed"
    },
    "tags": []
   },
   "outputs": [],
   "source": [
    "def run_experiment(feature_set, cv, stratify_col=None, seed=SEED, n_trials=200):\n",
    "    \n",
    "    base_params = {\n",
    "        'booster': 'gbtree',\n",
    "        'tree_method': 'hist',\n",
    "        'objective': 'reg:squaredlogerror',\n",
    "        'eval_metric': 'rmsle',\n",
    "        'learning_rate': 0.02,\n",
    "        'n_estimators': 10000,\n",
    "        'early_stopping_rounds': 100,\n",
    "        'device': DEVICE,\n",
    "        'enable_categorical': True,\n",
    "        'verbosity': 0,\n",
    "        'n_jobs': -1,\n",
    "        'seed': seed\n",
    "    }\n",
    "    model = xgb.XGBRegressor(**base_params)\n",
    "    \n",
    "    start = time.time()\n",
    "    study = tune_params(\n",
    "        feature_set, model, cv, stratify_col, seed, n_trials, direction='minimize') \n",
    "    end = time.time()\n",
    "    \n",
    "    clear_output(wait=True)\n",
    "    print(f'----------Hyperparameter tuning----------')\n",
    "    print(f'Best trial: {study.best_trial.number} -> Best value: {study.best_value:.5f}')\n",
    "    print(f'Best hyperparameters:')\n",
    "    for k, v in study.best_params.items():\n",
    "        print(f'{k:20} - {v}')\n",
    "    print(f'\\n[Time taken: {end - start:.2f}s]\\n')\n",
    "    \n",
    "    print(f'-----Cross-validation and prediction-----')\n",
    "    start = time.time()\n",
    "    \n",
    "    model.set_params(**study.best_params)\n",
    "    oof_preds, test_preds = custom_cv(feature_set, model, cv, stratify_col)\n",
    "    \n",
    "    end = time.time()\n",
    "    print(f'\\n[Time taken: {end - start:.2f}s]\\n')\n",
    "    \n",
    "    return oof_preds, test_preds"
   ]
  },
  {
   "cell_type": "code",
   "execution_count": 12,
   "id": "c9a7a9be",
   "metadata": {
    "execution": {
     "iopub.execute_input": "2024-04-15T10:33:38.247001Z",
     "iopub.status.busy": "2024-04-15T10:33:38.246253Z",
     "iopub.status.idle": "2024-04-15T10:33:38.250838Z",
     "shell.execute_reply": "2024-04-15T10:33:38.250138Z"
    },
    "papermill": {
     "duration": 0.013166,
     "end_time": "2024-04-15T10:33:38.252603",
     "exception": false,
     "start_time": "2024-04-15T10:33:38.239437",
     "status": "completed"
    },
    "tags": []
   },
   "outputs": [],
   "source": [
    "def create_submission_files(preds, config, notebook='01'):\n",
    "    for col in preds.columns:\n",
    "        sub = sample_sub.copy()\n",
    "        sub[TARGET] = preds[col]  # include postprocessing\n",
    "        sub.to_csv(f'nb{notebook}_{config}_{col}.csv', index=False)"
   ]
  },
  {
   "cell_type": "code",
   "execution_count": 13,
   "id": "a3f80428",
   "metadata": {
    "execution": {
     "iopub.execute_input": "2024-04-15T10:33:38.265982Z",
     "iopub.status.busy": "2024-04-15T10:33:38.265712Z",
     "iopub.status.idle": "2024-04-15T10:33:38.269500Z",
     "shell.execute_reply": "2024-04-15T10:33:38.268675Z"
    },
    "papermill": {
     "duration": 0.012516,
     "end_time": "2024-04-15T10:33:38.271409",
     "exception": false,
     "start_time": "2024-04-15T10:33:38.258893",
     "status": "completed"
    },
    "tags": []
   },
   "outputs": [],
   "source": [
    "op = {}  # OOF preds\n",
    "tp = {}  # Test preds"
   ]
  },
  {
   "cell_type": "markdown",
   "id": "19f427ec",
   "metadata": {
    "papermill": {
     "duration": 0.005974,
     "end_time": "2024-04-15T10:33:38.283517",
     "exception": false,
     "start_time": "2024-04-15T10:33:38.277543",
     "status": "completed"
    },
    "tags": []
   },
   "source": [
    "# Experiments"
   ]
  },
  {
   "cell_type": "code",
   "execution_count": 14,
   "id": "0076c645",
   "metadata": {
    "execution": {
     "iopub.execute_input": "2024-04-15T10:33:38.297352Z",
     "iopub.status.busy": "2024-04-15T10:33:38.296645Z",
     "iopub.status.idle": "2024-04-15T10:34:43.837319Z",
     "shell.execute_reply": "2024-04-15T10:34:43.836251Z"
    },
    "papermill": {
     "duration": 65.549739,
     "end_time": "2024-04-15T10:34:43.839411",
     "exception": false,
     "start_time": "2024-04-15T10:33:38.289672",
     "status": "completed"
    },
    "tags": []
   },
   "outputs": [
    {
     "name": "stdout",
     "output_type": "stream",
     "text": [
      "----------Hyperparameter tuning----------\n",
      "Best trial: 0 -> Best value: 0.17434\n",
      "Best hyperparameters:\n",
      "max_depth            - 8\n",
      "min_child_weight     - 46\n",
      "subsample            - 0.65\n",
      "colsample_bytree     - 0.6\n",
      "gamma                - 4.1000000000000005\n",
      "alpha                - 0.5\n",
      "lambda               - 115.45450043256209\n",
      "max_cat_to_onehot    - 1\n",
      "\n",
      "[Time taken: 45.51s]\n",
      "\n",
      "-----Cross-validation and prediction-----\n",
      "Fold # 0: 0.17606 (1236 rounds)\n",
      "Fold # 1: 0.17368 ( 952 rounds)\n",
      "Fold # 2: 0.17503 (1877 rounds)\n",
      "Fold # 3: 0.17478 (1982 rounds)\n",
      "Fold # 4: 0.17217 (1630 rounds)\n",
      "\n",
      "Avg score: 0.17434 +/- 0.00132\n",
      "OOF score: 0.17435\n",
      "\n",
      "\n",
      "[Time taken: 20.02s]\n",
      "\n"
     ]
    }
   ],
   "source": [
    "optuna.logging.set_verbosity(optuna.logging.INFO)\n",
    "_ , _ = run_experiment(\n",
    "    feature_set=features,\n",
    "    cv= KFold(n_splits=5, shuffle=True, random_state=SEED),\n",
    "    n_trials=3)"
   ]
  },
  {
   "cell_type": "markdown",
   "id": "9148d29e",
   "metadata": {
    "papermill": {
     "duration": 0.007082,
     "end_time": "2024-04-15T10:34:43.854056",
     "exception": false,
     "start_time": "2024-04-15T10:34:43.846974",
     "status": "completed"
    },
    "tags": []
   },
   "source": [
    "### KFold"
   ]
  },
  {
   "cell_type": "code",
   "execution_count": 15,
   "id": "9231cb9a",
   "metadata": {
    "execution": {
     "iopub.execute_input": "2024-04-15T10:34:43.869299Z",
     "iopub.status.busy": "2024-04-15T10:34:43.868994Z",
     "iopub.status.idle": "2024-04-15T12:28:55.884571Z",
     "shell.execute_reply": "2024-04-15T12:28:55.883520Z"
    },
    "papermill": {
     "duration": 6852.025735,
     "end_time": "2024-04-15T12:28:55.886760",
     "exception": false,
     "start_time": "2024-04-15T10:34:43.861025",
     "status": "completed"
    },
    "tags": []
   },
   "outputs": [
    {
     "name": "stdout",
     "output_type": "stream",
     "text": [
      "----------Hyperparameter tuning----------\n",
      "Best trial: 71 -> Best value: 0.15006\n",
      "Best hyperparameters:\n",
      "max_depth            - 9\n",
      "min_child_weight     - 3\n",
      "subsample            - 0.95\n",
      "colsample_bytree     - 0.95\n",
      "gamma                - 0.0\n",
      "alpha                - 2.1\n",
      "lambda               - 0.2577647061346276\n",
      "max_cat_to_onehot    - 4\n",
      "\n",
      "[Time taken: 6631.59s]\n",
      "\n",
      "-----Cross-validation and prediction-----\n",
      "Fold # 0: 0.15308 (9122 rounds)\n",
      "Fold # 1: 0.15090 (9999 rounds)\n",
      "Fold # 2: 0.14976 (9996 rounds)\n",
      "Fold # 3: 0.14892 (9959 rounds)\n",
      "Fold # 4: 0.14992 (9999 rounds)\n",
      "Fold # 5: 0.14927 (9999 rounds)\n",
      "Fold # 6: 0.15110 (9972 rounds)\n",
      "Fold # 7: 0.15054 (9979 rounds)\n",
      "Fold # 8: 0.14697 (4446 rounds)\n",
      "Fold # 9: 0.15019 (7489 rounds)\n",
      "\n",
      "Avg score: 0.15006 +/- 0.00151\n",
      "OOF score: 0.15007\n",
      "\n",
      "\n",
      "[Time taken: 219.12s]\n",
      "\n",
      "CPU times: user 2h 6min 1s, sys: 29 s, total: 2h 6min 30s\n",
      "Wall time: 1h 54min 12s\n"
     ]
    }
   ],
   "source": [
    "%%time\n",
    "feature_set = 'ALL'\n",
    "folds = 10\n",
    "seed = SEED\n",
    "\n",
    "config = f'feat{feature_set}_fold{folds}_seed{seed}'\n",
    "\n",
    "cv = KFold(n_splits=folds, shuffle=True, random_state=seed)\n",
    "\n",
    "op[config], tp[config] = run_experiment(\n",
    "    feature_set=features,\n",
    "    cv=cv, \n",
    "    seed=seed)\n",
    "\n",
    "create_submission_files(tp[config], config)"
   ]
  },
  {
   "cell_type": "code",
   "execution_count": 16,
   "id": "8aa5cd0d",
   "metadata": {
    "execution": {
     "iopub.execute_input": "2024-04-15T12:28:55.904578Z",
     "iopub.status.busy": "2024-04-15T12:28:55.904019Z",
     "iopub.status.idle": "2024-04-15T15:46:31.594696Z",
     "shell.execute_reply": "2024-04-15T15:46:31.593813Z"
    },
    "papermill": {
     "duration": 11855.702144,
     "end_time": "2024-04-15T15:46:31.597070",
     "exception": false,
     "start_time": "2024-04-15T12:28:55.894926",
     "status": "completed"
    },
    "tags": []
   },
   "outputs": [
    {
     "name": "stdout",
     "output_type": "stream",
     "text": [
      "----------Hyperparameter tuning----------\n",
      "Best trial: 155 -> Best value: 0.14931\n",
      "Best hyperparameters:\n",
      "max_depth            - 7\n",
      "min_child_weight     - 3\n",
      "subsample            - 0.85\n",
      "colsample_bytree     - 0.6\n",
      "gamma                - 0.0\n",
      "alpha                - 1.0\n",
      "lambda               - 0.1408487297538937\n",
      "max_cat_to_onehot    - 4\n",
      "\n",
      "[Time taken: 11570.31s]\n",
      "\n",
      "-----Cross-validation and prediction-----\n",
      "Fold # 0: 0.15094 (5383 rounds)\n",
      "Fold # 1: 0.15372 (4521 rounds)\n",
      "Fold # 2: 0.14895 (6310 rounds)\n",
      "Fold # 3: 0.14764 (4848 rounds)\n",
      "Fold # 4: 0.15197 (8455 rounds)\n",
      "Fold # 5: 0.14587 (6262 rounds)\n",
      "Fold # 6: 0.14970 (5934 rounds)\n",
      "Fold # 7: 0.14828 (5930 rounds)\n",
      "Fold # 8: 0.14843 (6541 rounds)\n",
      "Fold # 9: 0.15050 (6630 rounds)\n",
      "Fold #10: 0.14635 (6279 rounds)\n",
      "Fold #11: 0.15272 (7526 rounds)\n",
      "Fold #12: 0.14495 (3680 rounds)\n",
      "Fold #13: 0.15070 (4989 rounds)\n",
      "Fold #14: 0.14895 (5604 rounds)\n",
      "\n",
      "Avg score: 0.14931 +/- 0.00243\n",
      "OOF score: 0.14933\n",
      "\n",
      "\n",
      "[Time taken: 283.43s]\n",
      "\n",
      "CPU times: user 3h 34min 45s, sys: 1min 26s, total: 3h 36min 11s\n",
      "Wall time: 3h 17min 35s\n"
     ]
    }
   ],
   "source": [
    "%%time\n",
    "feature_set = 'ALL'\n",
    "folds = 15\n",
    "seed = SEED\n",
    "\n",
    "config = f'feat{feature_set}_fold{folds}_seed{seed}'\n",
    "\n",
    "cv = KFold(n_splits=folds, shuffle=True, random_state=seed)\n",
    "\n",
    "op[config], tp[config] = run_experiment(\n",
    "    feature_set=features,\n",
    "    cv=cv, \n",
    "    seed=seed)\n",
    "\n",
    "create_submission_files(tp[config], config)"
   ]
  },
  {
   "cell_type": "markdown",
   "id": "249c6f42",
   "metadata": {
    "papermill": {
     "duration": 0.009291,
     "end_time": "2024-04-15T15:46:31.616245",
     "exception": false,
     "start_time": "2024-04-15T15:46:31.606954",
     "status": "completed"
    },
    "tags": []
   },
   "source": [
    "### StratifiedKFold"
   ]
  },
  {
   "cell_type": "code",
   "execution_count": 17,
   "id": "1a18aa23",
   "metadata": {
    "execution": {
     "iopub.execute_input": "2024-04-15T15:46:31.636800Z",
     "iopub.status.busy": "2024-04-15T15:46:31.636272Z",
     "iopub.status.idle": "2024-04-15T18:01:30.556005Z",
     "shell.execute_reply": "2024-04-15T18:01:30.554925Z"
    },
    "papermill": {
     "duration": 8098.932919,
     "end_time": "2024-04-15T18:01:30.558561",
     "exception": false,
     "start_time": "2024-04-15T15:46:31.625642",
     "status": "completed"
    },
    "tags": []
   },
   "outputs": [
    {
     "name": "stdout",
     "output_type": "stream",
     "text": [
      "----------Hyperparameter tuning----------\n",
      "Best trial: 171 -> Best value: 0.14915\n",
      "Best hyperparameters:\n",
      "max_depth            - 6\n",
      "min_child_weight     - 2\n",
      "subsample            - 1.0\n",
      "colsample_bytree     - 0.6\n",
      "gamma                - 0.0\n",
      "alpha                - 0.0\n",
      "lambda               - 0.05975753432641861\n",
      "max_cat_to_onehot    - 4\n",
      "\n",
      "[Time taken: 8024.47s]\n",
      "\n",
      "-----Cross-validation and prediction-----\n",
      "Fold # 0: 0.14673 (2153 rounds)\n",
      "Fold # 1: 0.14938 (2264 rounds)\n",
      "Fold # 2: 0.14968 (2967 rounds)\n",
      "Fold # 3: 0.15255 (2141 rounds)\n",
      "Fold # 4: 0.15060 (2104 rounds)\n",
      "Fold # 5: 0.14934 (3415 rounds)\n",
      "Fold # 6: 0.15098 (1602 rounds)\n",
      "Fold # 7: 0.14935 (2911 rounds)\n",
      "Fold # 8: 0.14486 (2507 rounds)\n",
      "Fold # 9: 0.14802 (2223 rounds)\n",
      "\n",
      "Avg score: 0.14915 +/- 0.00207\n",
      "OOF score: 0.14916\n",
      "\n",
      "\n",
      "[Time taken: 73.08s]\n",
      "\n",
      "CPU times: user 2h 26min 52s, sys: 27.8 s, total: 2h 27min 19s\n",
      "Wall time: 2h 14min 58s\n"
     ]
    }
   ],
   "source": [
    "%%time\n",
    "feature_set = 'ALL'\n",
    "folds = 10\n",
    "stratify = 'SEX'\n",
    "seed = SEED\n",
    "\n",
    "config = f'feat{feature_set}_fold{folds}_skf{stratify}_seed{seed}'\n",
    "\n",
    "cv = StratifiedKFold(n_splits=folds, shuffle=True, random_state=seed)\n",
    "\n",
    "op[config], tp[config] = run_experiment(\n",
    "    feature_set=features,\n",
    "    cv=cv,\n",
    "    stratify_col=train['Sex'],\n",
    "    seed=seed)\n",
    "\n",
    "create_submission_files(tp[config], config)"
   ]
  },
  {
   "cell_type": "code",
   "execution_count": 18,
   "id": "f1e92c3b",
   "metadata": {
    "execution": {
     "iopub.execute_input": "2024-04-15T18:01:30.585163Z",
     "iopub.status.busy": "2024-04-15T18:01:30.584838Z",
     "iopub.status.idle": "2024-04-15T21:18:58.366653Z",
     "shell.execute_reply": "2024-04-15T21:18:58.365666Z"
    },
    "papermill": {
     "duration": 11847.795731,
     "end_time": "2024-04-15T21:18:58.368787",
     "exception": false,
     "start_time": "2024-04-15T18:01:30.573056",
     "status": "completed"
    },
    "tags": []
   },
   "outputs": [
    {
     "name": "stdout",
     "output_type": "stream",
     "text": [
      "----------Hyperparameter tuning----------\n",
      "Best trial: 155 -> Best value: 0.14935\n",
      "Best hyperparameters:\n",
      "max_depth            - 7\n",
      "min_child_weight     - 3\n",
      "subsample            - 0.85\n",
      "colsample_bytree     - 0.6\n",
      "gamma                - 0.0\n",
      "alpha                - 1.0\n",
      "lambda               - 0.1408487297538937\n",
      "max_cat_to_onehot    - 4\n",
      "\n",
      "[Time taken: 11566.22s]\n",
      "\n",
      "-----Cross-validation and prediction-----\n",
      "Fold # 0: 0.14693 (5550 rounds)\n",
      "Fold # 1: 0.14864 (7953 rounds)\n",
      "Fold # 2: 0.14895 (5459 rounds)\n",
      "Fold # 3: 0.15129 (3809 rounds)\n",
      "Fold # 4: 0.14907 (9494 rounds)\n",
      "Fold # 5: 0.15362 (6918 rounds)\n",
      "Fold # 6: 0.15047 (4205 rounds)\n",
      "Fold # 7: 0.15190 (7616 rounds)\n",
      "Fold # 8: 0.14859 (7156 rounds)\n",
      "Fold # 9: 0.15115 (3820 rounds)\n",
      "Fold #10: 0.14934 (3359 rounds)\n",
      "Fold #11: 0.15020 (6516 rounds)\n",
      "Fold #12: 0.14705 (3691 rounds)\n",
      "Fold #13: 0.14363 (3671 rounds)\n",
      "Fold #14: 0.14935 (8619 rounds)\n",
      "\n",
      "Avg score: 0.14935 +/- 0.00229\n",
      "OOF score: 0.14936\n",
      "\n",
      "\n",
      "[Time taken: 279.66s]\n",
      "\n",
      "CPU times: user 3h 34min 26s, sys: 1min 41s, total: 3h 36min 8s\n",
      "Wall time: 3h 17min 27s\n"
     ]
    }
   ],
   "source": [
    "%%time\n",
    "feature_set = 'ALL'\n",
    "folds = 15\n",
    "stratify = 'SEX'\n",
    "seed = SEED\n",
    "\n",
    "config = f'feat{feature_set}_fold{folds}_skf{stratify}_seed{seed}'\n",
    "\n",
    "cv = StratifiedKFold(n_splits=folds, shuffle=True, random_state=seed)\n",
    "\n",
    "op[config], tp[config] = run_experiment(\n",
    "    feature_set=features,\n",
    "    cv=cv,\n",
    "    stratify_col=train['Sex'],\n",
    "    seed=seed)\n",
    "\n",
    "create_submission_files(tp[config], config)"
   ]
  }
 ],
 "metadata": {
  "kaggle": {
   "accelerator": "none",
   "dataSources": [
    {
     "databundleVersionId": 8096274,
     "sourceId": 72489,
     "sourceType": "competition"
    }
   ],
   "dockerImageVersionId": 30684,
   "isGpuEnabled": false,
   "isInternetEnabled": true,
   "language": "python",
   "sourceType": "notebook"
  },
  "kernelspec": {
   "display_name": "Python 3",
   "language": "python",
   "name": "python3"
  },
  "language_info": {
   "codemirror_mode": {
    "name": "ipython",
    "version": 3
   },
   "file_extension": ".py",
   "mimetype": "text/x-python",
   "name": "python",
   "nbconvert_exporter": "python",
   "pygments_lexer": "ipython3",
   "version": "3.10.13"
  },
  "papermill": {
   "default_parameters": {},
   "duration": 38726.307293,
   "end_time": "2024-04-15T21:18:58.877931",
   "environment_variables": {},
   "exception": null,
   "input_path": "__notebook__.ipynb",
   "output_path": "__notebook__.ipynb",
   "parameters": {},
   "start_time": "2024-04-15T10:33:32.570638",
   "version": "2.5.0"
  }
 },
 "nbformat": 4,
 "nbformat_minor": 5
}
