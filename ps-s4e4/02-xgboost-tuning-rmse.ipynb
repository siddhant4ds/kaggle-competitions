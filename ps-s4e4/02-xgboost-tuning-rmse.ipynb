{
 "cells": [
  {
   "cell_type": "markdown",
   "id": "984ad06f",
   "metadata": {
    "_cell_guid": "b1076dfc-b9ad-4769-8c92-a6c4dae69d19",
    "_uuid": "8f2839f25d086af736a60e9eeb907d3b93b6e0e5",
    "papermill": {
     "duration": 0.006259,
     "end_time": "2024-04-15T11:19:06.850996",
     "exception": false,
     "start_time": "2024-04-15T11:19:06.844737",
     "status": "completed"
    },
    "tags": []
   },
   "source": [
    "# Setup"
   ]
  },
  {
   "cell_type": "code",
   "execution_count": 1,
   "id": "9baaa53b",
   "metadata": {
    "execution": {
     "iopub.execute_input": "2024-04-15T11:19:06.864732Z",
     "iopub.status.busy": "2024-04-15T11:19:06.864291Z",
     "iopub.status.idle": "2024-04-15T11:19:09.213513Z",
     "shell.execute_reply": "2024-04-15T11:19:09.212711Z"
    },
    "papermill": {
     "duration": 2.359042,
     "end_time": "2024-04-15T11:19:09.215965",
     "exception": false,
     "start_time": "2024-04-15T11:19:06.856923",
     "status": "completed"
    },
    "tags": []
   },
   "outputs": [],
   "source": [
    "import gc\n",
    "import time\n",
    "import warnings\n",
    "\n",
    "gc.enable()\n",
    "warnings.filterwarnings('ignore')\n",
    "\n",
    "import numpy as np\n",
    "import pandas as pd\n",
    "from IPython.display import clear_output\n",
    "\n",
    "pd.set_option('display.max_columns', None)\n",
    "pd.set_option('display.precision', 4)\n",
    "\n",
    "from sklearn.metrics import mean_squared_error\n",
    "from sklearn.model_selection import StratifiedKFold, KFold\n",
    "\n",
    "import xgboost as xgb\n",
    "import optuna\n",
    "\n",
    "SEED = 2024"
   ]
  },
  {
   "cell_type": "code",
   "execution_count": 2,
   "id": "b183c43d",
   "metadata": {
    "execution": {
     "iopub.execute_input": "2024-04-15T11:19:09.230409Z",
     "iopub.status.busy": "2024-04-15T11:19:09.229460Z",
     "iopub.status.idle": "2024-04-15T11:19:09.280177Z",
     "shell.execute_reply": "2024-04-15T11:19:09.279179Z"
    },
    "papermill": {
     "duration": 0.060339,
     "end_time": "2024-04-15T11:19:09.282536",
     "exception": false,
     "start_time": "2024-04-15T11:19:09.222197",
     "status": "completed"
    },
    "tags": []
   },
   "outputs": [
    {
     "name": "stdout",
     "output_type": "stream",
     "text": [
      "Available device: cuda\n"
     ]
    }
   ],
   "source": [
    "# Check GPU availability\n",
    "import subprocess\n",
    "\n",
    "try:\n",
    "    subprocess.check_output('nvidia-smi')\n",
    "    DEVICE = 'cuda'\n",
    "except Exception:\n",
    "    DEVICE = 'cpu'\n",
    "\n",
    "print(f'Available device: {DEVICE}')"
   ]
  },
  {
   "cell_type": "code",
   "execution_count": 3,
   "id": "6f8dfeb6",
   "metadata": {
    "execution": {
     "iopub.execute_input": "2024-04-15T11:19:09.296888Z",
     "iopub.status.busy": "2024-04-15T11:19:09.296507Z",
     "iopub.status.idle": "2024-04-15T11:19:09.596253Z",
     "shell.execute_reply": "2024-04-15T11:19:09.595381Z"
    },
    "papermill": {
     "duration": 0.30949,
     "end_time": "2024-04-15T11:19:09.598528",
     "exception": false,
     "start_time": "2024-04-15T11:19:09.289038",
     "status": "completed"
    },
    "tags": []
   },
   "outputs": [],
   "source": [
    "DATA_DIR = '/kaggle/input/playground-series-s4e4'\n",
    "\n",
    "train = pd.read_csv(f'{DATA_DIR}/train.csv')\n",
    "test = pd.read_csv(f'{DATA_DIR}/test.csv')\n",
    "sample_sub = pd.read_csv(f'{DATA_DIR}/sample_submission.csv')"
   ]
  },
  {
   "cell_type": "markdown",
   "id": "1a3db2ed",
   "metadata": {
    "papermill": {
     "duration": 0.005986,
     "end_time": "2024-04-15T11:19:09.610903",
     "exception": false,
     "start_time": "2024-04-15T11:19:09.604917",
     "status": "completed"
    },
    "tags": []
   },
   "source": [
    "# Data preparation"
   ]
  },
  {
   "cell_type": "code",
   "execution_count": 4,
   "id": "2de4d39e",
   "metadata": {
    "execution": {
     "iopub.execute_input": "2024-04-15T11:19:09.625293Z",
     "iopub.status.busy": "2024-04-15T11:19:09.624434Z",
     "iopub.status.idle": "2024-04-15T11:19:09.642663Z",
     "shell.execute_reply": "2024-04-15T11:19:09.641768Z"
    },
    "papermill": {
     "duration": 0.028023,
     "end_time": "2024-04-15T11:19:09.645195",
     "exception": false,
     "start_time": "2024-04-15T11:19:09.617172",
     "status": "completed"
    },
    "tags": []
   },
   "outputs": [],
   "source": [
    "# dropping irrelevant columns\n",
    "cols_to_drop = ['id']\n",
    "\n",
    "train = train.drop(cols_to_drop, axis=1)\n",
    "test = test.drop(cols_to_drop, axis=1)"
   ]
  },
  {
   "cell_type": "code",
   "execution_count": 5,
   "id": "4118fd22",
   "metadata": {
    "execution": {
     "iopub.execute_input": "2024-04-15T11:19:09.660639Z",
     "iopub.status.busy": "2024-04-15T11:19:09.659976Z",
     "iopub.status.idle": "2024-04-15T11:19:09.664467Z",
     "shell.execute_reply": "2024-04-15T11:19:09.663622Z"
    },
    "papermill": {
     "duration": 0.014104,
     "end_time": "2024-04-15T11:19:09.666535",
     "exception": false,
     "start_time": "2024-04-15T11:19:09.652431",
     "status": "completed"
    },
    "tags": []
   },
   "outputs": [],
   "source": [
    "TARGET = 'Rings'\n",
    "features = [f for f in test.columns]"
   ]
  },
  {
   "cell_type": "code",
   "execution_count": 6,
   "id": "1e024b02",
   "metadata": {
    "execution": {
     "iopub.execute_input": "2024-04-15T11:19:09.680475Z",
     "iopub.status.busy": "2024-04-15T11:19:09.680139Z",
     "iopub.status.idle": "2024-04-15T11:19:09.686609Z",
     "shell.execute_reply": "2024-04-15T11:19:09.685734Z"
    },
    "papermill": {
     "duration": 0.015476,
     "end_time": "2024-04-15T11:19:09.688460",
     "exception": false,
     "start_time": "2024-04-15T11:19:09.672984",
     "status": "completed"
    },
    "tags": []
   },
   "outputs": [],
   "source": [
    "# log-transforming the target to optimize for RMSE instead of RMSLE\n",
    "train[TARGET] = np.log1p(train[TARGET])"
   ]
  },
  {
   "cell_type": "code",
   "execution_count": 7,
   "id": "1a96a8ae",
   "metadata": {
    "execution": {
     "iopub.execute_input": "2024-04-15T11:19:09.702827Z",
     "iopub.status.busy": "2024-04-15T11:19:09.702462Z",
     "iopub.status.idle": "2024-04-15T11:19:09.729111Z",
     "shell.execute_reply": "2024-04-15T11:19:09.728256Z"
    },
    "papermill": {
     "duration": 0.036435,
     "end_time": "2024-04-15T11:19:09.731529",
     "exception": false,
     "start_time": "2024-04-15T11:19:09.695094",
     "status": "completed"
    },
    "tags": []
   },
   "outputs": [],
   "source": [
    "cat_features = ['Sex']\n",
    "train[cat_features] = train[cat_features].astype('category')\n",
    "test[cat_features] = test[cat_features].astype('category')"
   ]
  },
  {
   "cell_type": "markdown",
   "id": "72ccbf27",
   "metadata": {
    "papermill": {
     "duration": 0.007499,
     "end_time": "2024-04-15T11:19:09.745524",
     "exception": false,
     "start_time": "2024-04-15T11:19:09.738025",
     "status": "completed"
    },
    "tags": []
   },
   "source": [
    "# Hyperparameter tuning"
   ]
  },
  {
   "cell_type": "code",
   "execution_count": 8,
   "id": "82ee2d73",
   "metadata": {
    "execution": {
     "iopub.execute_input": "2024-04-15T11:19:09.759790Z",
     "iopub.status.busy": "2024-04-15T11:19:09.759426Z",
     "iopub.status.idle": "2024-04-15T11:19:09.769936Z",
     "shell.execute_reply": "2024-04-15T11:19:09.768965Z"
    },
    "papermill": {
     "duration": 0.020075,
     "end_time": "2024-04-15T11:19:09.771958",
     "exception": false,
     "start_time": "2024-04-15T11:19:09.751883",
     "status": "completed"
    },
    "tags": []
   },
   "outputs": [],
   "source": [
    "def objective(trial, feature_set, model, cv, stratify_col):\n",
    "    scores = []\n",
    "    \n",
    "    param_grid = {\n",
    "#         'learning_rate': trial.suggest_float('learning_rate', 0.01, 0.2, step=0.01),\n",
    "        'max_depth': trial.suggest_int('max_depth', 3, 12),\n",
    "        'min_child_weight': trial.suggest_int('min_child_weight', 2, 64),\n",
    "        'subsample': trial.suggest_float('subsample', 0.6, 1.0, step=0.05),\n",
    "        'colsample_bytree': trial.suggest_float('colsample_bytree', 0.6, 1.0, step=0.05),\n",
    "        'gamma': trial.suggest_float('gamma', 0, 20, step=0.1), #complexity-control\n",
    "        'alpha': trial.suggest_float('alpha', 0, 5, step=0.1), #L1-reg\n",
    "        'lambda': trial.suggest_float('lambda', 5e-3, 5e3, log=True), #L2-reg\n",
    "#         'max_delta_step': trial.suggest_float('max_delta_step', 0, 10, step=0.5),\n",
    "        'max_cat_to_onehot': trial.suggest_categorical('max_cat_to_onehot', [1, 4])\n",
    "    }\n",
    "    \n",
    "    for fold, (train_ids, val_ids) in enumerate(cv.split(train, stratify_col)):\n",
    "        X_train, y_train = train[feature_set].iloc[train_ids], train[TARGET].iloc[train_ids]\n",
    "        X_val, y_val = train[feature_set].iloc[val_ids], train[TARGET].iloc[val_ids]\n",
    "        \n",
    "        model.set_params(**param_grid)\n",
    "        model.fit(\n",
    "            X_train, y_train,\n",
    "            eval_set=[(X_val, y_val)],\n",
    "            verbose=0)\n",
    "    \n",
    "        val_preds = model.predict(X_val)\n",
    "        scores.append(comp_metric(y_val, val_preds))\n",
    "        \n",
    "    return np.mean(scores)"
   ]
  },
  {
   "cell_type": "code",
   "execution_count": 9,
   "id": "6453a75e",
   "metadata": {
    "execution": {
     "iopub.execute_input": "2024-04-15T11:19:09.786504Z",
     "iopub.status.busy": "2024-04-15T11:19:09.786156Z",
     "iopub.status.idle": "2024-04-15T11:19:09.792464Z",
     "shell.execute_reply": "2024-04-15T11:19:09.791499Z"
    },
    "papermill": {
     "duration": 0.015833,
     "end_time": "2024-04-15T11:19:09.794538",
     "exception": false,
     "start_time": "2024-04-15T11:19:09.778705",
     "status": "completed"
    },
    "tags": []
   },
   "outputs": [],
   "source": [
    "def tune_params(feature_set, model, cv, stratify_col, seed, n_trials, direction):\n",
    "    study = optuna.create_study(\n",
    "        sampler=optuna.samplers.TPESampler(\n",
    "            consider_endpoints=True,\n",
    "            multivariate=True,\n",
    "            group=True,\n",
    "            seed=seed),\n",
    "        pruner=optuna.pruners.HyperbandPruner(),\n",
    "        direction=direction)\n",
    "    \n",
    "    study.optimize(\n",
    "        func=lambda trial: objective(\n",
    "            trial, feature_set, model, cv, stratify_col),\n",
    "        n_trials=n_trials,\n",
    "        gc_after_trial=True)\n",
    "    \n",
    "    return study"
   ]
  },
  {
   "cell_type": "markdown",
   "id": "f0341577",
   "metadata": {
    "papermill": {
     "duration": 0.006222,
     "end_time": "2024-04-15T11:19:09.807237",
     "exception": false,
     "start_time": "2024-04-15T11:19:09.801015",
     "status": "completed"
    },
    "tags": []
   },
   "source": [
    "# Modeling framework"
   ]
  },
  {
   "cell_type": "code",
   "execution_count": 10,
   "id": "2617edee",
   "metadata": {
    "execution": {
     "iopub.execute_input": "2024-04-15T11:19:09.821987Z",
     "iopub.status.busy": "2024-04-15T11:19:09.821251Z",
     "iopub.status.idle": "2024-04-15T11:19:09.825864Z",
     "shell.execute_reply": "2024-04-15T11:19:09.824966Z"
    },
    "papermill": {
     "duration": 0.014054,
     "end_time": "2024-04-15T11:19:09.827750",
     "exception": false,
     "start_time": "2024-04-15T11:19:09.813696",
     "status": "completed"
    },
    "tags": []
   },
   "outputs": [],
   "source": [
    "def comp_metric(y_true, y_pred):\n",
    "    return mean_squared_error(y_true, y_pred, squared=False)"
   ]
  },
  {
   "cell_type": "code",
   "execution_count": 11,
   "id": "8fa55adb",
   "metadata": {
    "execution": {
     "iopub.execute_input": "2024-04-15T11:19:09.841961Z",
     "iopub.status.busy": "2024-04-15T11:19:09.841637Z",
     "iopub.status.idle": "2024-04-15T11:19:09.851436Z",
     "shell.execute_reply": "2024-04-15T11:19:09.850426Z"
    },
    "papermill": {
     "duration": 0.019669,
     "end_time": "2024-04-15T11:19:09.853807",
     "exception": false,
     "start_time": "2024-04-15T11:19:09.834138",
     "status": "completed"
    },
    "tags": []
   },
   "outputs": [],
   "source": [
    "def custom_cv(feature_set, model, cv, stratify_col, verbose=True):\n",
    "    X_test = test[feature_set]\n",
    "    \n",
    "    oof_preds, test_preds = {}, {}\n",
    "    scores = []\n",
    "\n",
    "    for fold, (train_ids, val_ids) in enumerate(cv.split(train, stratify_col)):\n",
    "        X_train, y_train = train[feature_set].iloc[train_ids], train[TARGET].iloc[train_ids]\n",
    "        X_val, y_val = train[feature_set].iloc[val_ids], train[TARGET].iloc[val_ids]\n",
    "\n",
    "        model.fit(\n",
    "            X_train, y_train,\n",
    "            eval_set=[(X_val, y_val)],\n",
    "            verbose=False)\n",
    "\n",
    "        val_preds = model.predict(X_val)\n",
    "        oof_preds.update(dict(zip(val_ids, val_preds)))\n",
    "        test_preds[f'fold{fold}'] = model.predict(X_test)\n",
    "\n",
    "        score = comp_metric(y_val, val_preds)\n",
    "        scores.append(score)\n",
    "        if verbose:\n",
    "            print(f'Fold #{fold:>2}: {score:.5f} ({model.best_iteration:>4} rounds)')\n",
    "        _ = gc.collect()\n",
    "\n",
    "    test_preds = pd.DataFrame.from_dict(test_preds)\n",
    "    test_preds['mean'] = test_preds.mean(axis=1) # mean of fold-wise predictions\n",
    "    \n",
    "    oof_preds = pd.Series(oof_preds).sort_index()\n",
    "    print(f'\\nAvg score: {np.mean(scores):.5f} +/- {np.std(scores):.5f}')\n",
    "    print(f'OOF score: {comp_metric(train[TARGET], oof_preds):.5f}\\n')\n",
    "    \n",
    "    return oof_preds, test_preds"
   ]
  },
  {
   "cell_type": "code",
   "execution_count": 12,
   "id": "156629f9",
   "metadata": {
    "execution": {
     "iopub.execute_input": "2024-04-15T11:19:09.868719Z",
     "iopub.status.busy": "2024-04-15T11:19:09.868370Z",
     "iopub.status.idle": "2024-04-15T11:19:09.877339Z",
     "shell.execute_reply": "2024-04-15T11:19:09.876446Z"
    },
    "papermill": {
     "duration": 0.018541,
     "end_time": "2024-04-15T11:19:09.879264",
     "exception": false,
     "start_time": "2024-04-15T11:19:09.860723",
     "status": "completed"
    },
    "tags": []
   },
   "outputs": [],
   "source": [
    "def run_experiment(feature_set, cv, stratify_col=None, seed=SEED, n_trials=200):\n",
    "    \n",
    "    base_params = {\n",
    "        'booster': 'gbtree',\n",
    "        'tree_method': 'hist',\n",
    "        'objective': 'reg:squarederror',\n",
    "        'eval_metric': 'rmse',\n",
    "        'learning_rate': 0.02,\n",
    "        'n_estimators': 10000,\n",
    "        'early_stopping_rounds': 100,\n",
    "        'device': DEVICE,\n",
    "        'enable_categorical': True,\n",
    "        'verbosity': 0,\n",
    "        'n_jobs': -1,\n",
    "        'seed': seed\n",
    "    }\n",
    "    model = xgb.XGBRegressor(**base_params)\n",
    "    \n",
    "    start = time.time()\n",
    "    study = tune_params(\n",
    "        feature_set, model, cv, stratify_col, seed, n_trials, direction='minimize') \n",
    "    end = time.time()\n",
    "    \n",
    "    clear_output(wait=True)\n",
    "    print(f'----------Hyperparameter tuning----------')\n",
    "    print(f'Best trial: {study.best_trial.number} -> Best value: {study.best_value:.5f}')\n",
    "    print(f'Best hyperparameters:')\n",
    "    for k, v in study.best_params.items():\n",
    "        print(f'{k:20} - {v}')\n",
    "    print(f'\\n[Time taken: {end - start:.2f}s]\\n')\n",
    "    \n",
    "    print(f'-----Cross-validation and prediction-----')\n",
    "    start = time.time()\n",
    "    \n",
    "    model.set_params(**study.best_params)\n",
    "    oof_preds, test_preds = custom_cv(feature_set, model, cv, stratify_col)\n",
    "    \n",
    "    end = time.time()\n",
    "    print(f'\\n[Time taken: {end - start:.2f}s]\\n')\n",
    "    \n",
    "    return oof_preds, test_preds"
   ]
  },
  {
   "cell_type": "code",
   "execution_count": 13,
   "id": "187e340f",
   "metadata": {
    "execution": {
     "iopub.execute_input": "2024-04-15T11:19:09.894046Z",
     "iopub.status.busy": "2024-04-15T11:19:09.893724Z",
     "iopub.status.idle": "2024-04-15T11:19:09.898922Z",
     "shell.execute_reply": "2024-04-15T11:19:09.898025Z"
    },
    "papermill": {
     "duration": 0.014848,
     "end_time": "2024-04-15T11:19:09.900922",
     "exception": false,
     "start_time": "2024-04-15T11:19:09.886074",
     "status": "completed"
    },
    "tags": []
   },
   "outputs": [],
   "source": [
    "def create_submission_files(preds, config, notebook='01'):\n",
    "    for col in preds.columns:\n",
    "        sub = sample_sub.copy()\n",
    "        sub[TARGET] = np.expm1(preds[col])  # inverse transform for log-transformed target\n",
    "        sub.to_csv(f'nb{notebook}_{config}_{col}.csv', index=False)"
   ]
  },
  {
   "cell_type": "code",
   "execution_count": 14,
   "id": "3db498d7",
   "metadata": {
    "execution": {
     "iopub.execute_input": "2024-04-15T11:19:09.915544Z",
     "iopub.status.busy": "2024-04-15T11:19:09.915229Z",
     "iopub.status.idle": "2024-04-15T11:19:09.919275Z",
     "shell.execute_reply": "2024-04-15T11:19:09.918440Z"
    },
    "papermill": {
     "duration": 0.013632,
     "end_time": "2024-04-15T11:19:09.921140",
     "exception": false,
     "start_time": "2024-04-15T11:19:09.907508",
     "status": "completed"
    },
    "tags": []
   },
   "outputs": [],
   "source": [
    "op = {}  # OOF preds\n",
    "tp = {}  # Test preds"
   ]
  },
  {
   "cell_type": "markdown",
   "id": "1714a391",
   "metadata": {
    "papermill": {
     "duration": 0.006559,
     "end_time": "2024-04-15T11:19:09.934477",
     "exception": false,
     "start_time": "2024-04-15T11:19:09.927918",
     "status": "completed"
    },
    "tags": []
   },
   "source": [
    "# Experiments"
   ]
  },
  {
   "cell_type": "code",
   "execution_count": 15,
   "id": "a21c9b73",
   "metadata": {
    "execution": {
     "iopub.execute_input": "2024-04-15T11:19:09.949054Z",
     "iopub.status.busy": "2024-04-15T11:19:09.948699Z",
     "iopub.status.idle": "2024-04-15T11:19:42.756235Z",
     "shell.execute_reply": "2024-04-15T11:19:42.755323Z"
    },
    "papermill": {
     "duration": 32.817301,
     "end_time": "2024-04-15T11:19:42.758334",
     "exception": false,
     "start_time": "2024-04-15T11:19:09.941033",
     "status": "completed"
    },
    "tags": []
   },
   "outputs": [
    {
     "name": "stdout",
     "output_type": "stream",
     "text": [
      "----------Hyperparameter tuning----------\n",
      "Best trial: 0 -> Best value: 0.15837\n",
      "Best hyperparameters:\n",
      "max_depth            - 8\n",
      "min_child_weight     - 46\n",
      "subsample            - 0.65\n",
      "colsample_bytree     - 0.6\n",
      "gamma                - 4.1000000000000005\n",
      "alpha                - 0.5\n",
      "lambda               - 115.45450043256209\n",
      "max_cat_to_onehot    - 1\n",
      "\n",
      "[Time taken: 21.33s]\n",
      "\n",
      "-----Cross-validation and prediction-----\n",
      "Fold # 0: 0.15992 ( 538 rounds)\n",
      "Fold # 1: 0.15725 ( 577 rounds)\n",
      "Fold # 2: 0.15870 ( 521 rounds)\n",
      "Fold # 3: 0.15907 ( 957 rounds)\n",
      "Fold # 4: 0.15687 ( 789 rounds)\n",
      "\n",
      "Avg score: 0.15837 +/- 0.00114\n",
      "OOF score: 0.15837\n",
      "\n",
      "\n",
      "[Time taken: 11.47s]\n",
      "\n"
     ]
    }
   ],
   "source": [
    "optuna.logging.set_verbosity(optuna.logging.INFO)\n",
    "_ , _ = run_experiment(\n",
    "    feature_set=features,\n",
    "    cv= KFold(n_splits=5, shuffle=True, random_state=SEED),\n",
    "    n_trials=3)"
   ]
  },
  {
   "cell_type": "markdown",
   "id": "131559aa",
   "metadata": {
    "papermill": {
     "duration": 0.006914,
     "end_time": "2024-04-15T11:19:42.772529",
     "exception": false,
     "start_time": "2024-04-15T11:19:42.765615",
     "status": "completed"
    },
    "tags": []
   },
   "source": [
    "### KFold"
   ]
  },
  {
   "cell_type": "code",
   "execution_count": 16,
   "id": "e6f5622e",
   "metadata": {
    "execution": {
     "iopub.execute_input": "2024-04-15T11:19:42.788717Z",
     "iopub.status.busy": "2024-04-15T11:19:42.788347Z",
     "iopub.status.idle": "2024-04-15T12:43:14.730913Z",
     "shell.execute_reply": "2024-04-15T12:43:14.729726Z"
    },
    "papermill": {
     "duration": 5011.953277,
     "end_time": "2024-04-15T12:43:14.733181",
     "exception": false,
     "start_time": "2024-04-15T11:19:42.779904",
     "status": "completed"
    },
    "tags": []
   },
   "outputs": [
    {
     "name": "stdout",
     "output_type": "stream",
     "text": [
      "----------Hyperparameter tuning----------\n",
      "Best trial: 14 -> Best value: 0.14840\n",
      "Best hyperparameters:\n",
      "max_depth            - 4\n",
      "min_child_weight     - 22\n",
      "subsample            - 0.9\n",
      "colsample_bytree     - 0.7\n",
      "gamma                - 0.0\n",
      "alpha                - 2.9000000000000004\n",
      "lambda               - 0.6211464628769217\n",
      "max_cat_to_onehot    - 4\n",
      "\n",
      "[Time taken: 4884.48s]\n",
      "\n",
      "-----Cross-validation and prediction-----\n",
      "Fold # 0: 0.15107 (5819 rounds)\n",
      "Fold # 1: 0.14948 (4847 rounds)\n",
      "Fold # 2: 0.14809 (5736 rounds)\n",
      "Fold # 3: 0.14712 (4709 rounds)\n",
      "Fold # 4: 0.14810 (5869 rounds)\n",
      "Fold # 5: 0.14722 (6012 rounds)\n",
      "Fold # 6: 0.14949 (4655 rounds)\n",
      "Fold # 7: 0.14851 (5241 rounds)\n",
      "Fold # 8: 0.14600 (3985 rounds)\n",
      "Fold # 9: 0.14896 (4251 rounds)\n",
      "\n",
      "Avg score: 0.14840 +/- 0.00137\n",
      "OOF score: 0.14841\n",
      "\n",
      "\n",
      "[Time taken: 126.08s]\n",
      "\n",
      "CPU times: user 1h 35min 10s, sys: 32.8 s, total: 1h 35min 43s\n",
      "Wall time: 1h 23min 31s\n"
     ]
    }
   ],
   "source": [
    "%%time\n",
    "feature_set = 'ALL'\n",
    "folds = 10\n",
    "seed = SEED\n",
    "\n",
    "config = f'feat{feature_set}_fold{folds}_seed{seed}'\n",
    "\n",
    "cv = KFold(n_splits=folds, shuffle=True, random_state=seed)\n",
    "\n",
    "op[config], tp[config] = run_experiment(\n",
    "    feature_set=features,\n",
    "    cv=cv, \n",
    "    seed=seed)\n",
    "\n",
    "create_submission_files(tp[config], config)"
   ]
  },
  {
   "cell_type": "code",
   "execution_count": 17,
   "id": "203823de",
   "metadata": {
    "execution": {
     "iopub.execute_input": "2024-04-15T12:43:14.752487Z",
     "iopub.status.busy": "2024-04-15T12:43:14.751806Z",
     "iopub.status.idle": "2024-04-15T14:38:34.173215Z",
     "shell.execute_reply": "2024-04-15T14:38:34.172172Z"
    },
    "papermill": {
     "duration": 6919.433218,
     "end_time": "2024-04-15T14:38:34.175371",
     "exception": false,
     "start_time": "2024-04-15T12:43:14.742153",
     "status": "completed"
    },
    "tags": []
   },
   "outputs": [
    {
     "name": "stdout",
     "output_type": "stream",
     "text": [
      "----------Hyperparameter tuning----------\n",
      "Best trial: 106 -> Best value: 0.14823\n",
      "Best hyperparameters:\n",
      "max_depth            - 7\n",
      "min_child_weight     - 28\n",
      "subsample            - 0.95\n",
      "colsample_bytree     - 0.8\n",
      "gamma                - 0.0\n",
      "alpha                - 2.5\n",
      "lambda               - 31.233953204464836\n",
      "max_cat_to_onehot    - 1\n",
      "\n",
      "[Time taken: 6711.71s]\n",
      "\n",
      "-----Cross-validation and prediction-----\n",
      "Fold # 0: 0.14966 (2726 rounds)\n",
      "Fold # 1: 0.15322 (1246 rounds)\n",
      "Fold # 2: 0.14804 (2005 rounds)\n",
      "Fold # 3: 0.14668 (1862 rounds)\n",
      "Fold # 4: 0.15086 (2015 rounds)\n",
      "Fold # 5: 0.14460 (1767 rounds)\n",
      "Fold # 6: 0.14815 (2123 rounds)\n",
      "Fold # 7: 0.14696 (1495 rounds)\n",
      "Fold # 8: 0.14721 (1999 rounds)\n",
      "Fold # 9: 0.14926 (1241 rounds)\n",
      "Fold #10: 0.14541 (1856 rounds)\n",
      "Fold #11: 0.15173 (1782 rounds)\n",
      "Fold #12: 0.14389 (1580 rounds)\n",
      "Fold #13: 0.14958 (1818 rounds)\n",
      "Fold #14: 0.14815 (1631 rounds)\n",
      "\n",
      "Avg score: 0.14823 +/- 0.00250\n",
      "OOF score: 0.14825\n",
      "\n",
      "\n",
      "[Time taken: 205.70s]\n",
      "\n",
      "CPU times: user 2h 13min 5s, sys: 34.1 s, total: 2h 13min 39s\n",
      "Wall time: 1h 55min 19s\n"
     ]
    }
   ],
   "source": [
    "%%time\n",
    "feature_set = 'ALL'\n",
    "folds = 15\n",
    "seed = SEED\n",
    "\n",
    "config = f'feat{feature_set}_fold{folds}_seed{seed}'\n",
    "\n",
    "cv = KFold(n_splits=folds, shuffle=True, random_state=seed)\n",
    "\n",
    "op[config], tp[config] = run_experiment(\n",
    "    feature_set=features,\n",
    "    cv=cv, \n",
    "    seed=seed)\n",
    "\n",
    "create_submission_files(tp[config], config)"
   ]
  },
  {
   "cell_type": "markdown",
   "id": "6a1bcbe6",
   "metadata": {
    "papermill": {
     "duration": 0.010105,
     "end_time": "2024-04-15T14:38:34.195504",
     "exception": false,
     "start_time": "2024-04-15T14:38:34.185399",
     "status": "completed"
    },
    "tags": []
   },
   "source": [
    "### StratifiedKFold"
   ]
  },
  {
   "cell_type": "code",
   "execution_count": 18,
   "id": "6c9236fe",
   "metadata": {
    "execution": {
     "iopub.execute_input": "2024-04-15T14:38:34.217769Z",
     "iopub.status.busy": "2024-04-15T14:38:34.216886Z",
     "iopub.status.idle": "2024-04-15T16:02:08.181155Z",
     "shell.execute_reply": "2024-04-15T16:02:08.180157Z"
    },
    "papermill": {
     "duration": 5013.977708,
     "end_time": "2024-04-15T16:02:08.183482",
     "exception": false,
     "start_time": "2024-04-15T14:38:34.205774",
     "status": "completed"
    },
    "tags": []
   },
   "outputs": [
    {
     "name": "stdout",
     "output_type": "stream",
     "text": [
      "----------Hyperparameter tuning----------\n",
      "Best trial: 14 -> Best value: 0.14847\n",
      "Best hyperparameters:\n",
      "max_depth            - 4\n",
      "min_child_weight     - 22\n",
      "subsample            - 0.9\n",
      "colsample_bytree     - 0.7\n",
      "gamma                - 0.0\n",
      "alpha                - 2.9000000000000004\n",
      "lambda               - 0.6211464628769217\n",
      "max_cat_to_onehot    - 4\n",
      "\n",
      "[Time taken: 4890.50s]\n",
      "\n",
      "-----Cross-validation and prediction-----\n",
      "Fold # 0: 0.14566 (4622 rounds)\n",
      "Fold # 1: 0.14855 (5550 rounds)\n",
      "Fold # 2: 0.14909 (6213 rounds)\n",
      "Fold # 3: 0.15212 (4125 rounds)\n",
      "Fold # 4: 0.14982 (5140 rounds)\n",
      "Fold # 5: 0.14868 (5535 rounds)\n",
      "Fold # 6: 0.15077 (3308 rounds)\n",
      "Fold # 7: 0.14843 (6437 rounds)\n",
      "Fold # 8: 0.14464 (3307 rounds)\n",
      "Fold # 9: 0.14698 (5032 rounds)\n",
      "\n",
      "Avg score: 0.14847 +/- 0.00214\n",
      "OOF score: 0.14849\n",
      "\n",
      "\n",
      "[Time taken: 122.07s]\n",
      "\n",
      "CPU times: user 1h 35min 5s, sys: 45 s, total: 1h 35min 50s\n",
      "Wall time: 1h 23min 33s\n"
     ]
    }
   ],
   "source": [
    "%%time\n",
    "feature_set = 'ALL'\n",
    "folds = 10\n",
    "stratify = 'SEX'\n",
    "seed = SEED\n",
    "\n",
    "config = f'feat{feature_set}_fold{folds}_skf{stratify}_seed{seed}'\n",
    "\n",
    "cv = StratifiedKFold(n_splits=folds, shuffle=True, random_state=seed)\n",
    "\n",
    "op[config], tp[config] = run_experiment(\n",
    "    feature_set=features,\n",
    "    cv=cv,\n",
    "    stratify_col=train['Sex'],\n",
    "    seed=seed)\n",
    "\n",
    "create_submission_files(tp[config], config)"
   ]
  },
  {
   "cell_type": "code",
   "execution_count": 19,
   "id": "74db0eb9",
   "metadata": {
    "execution": {
     "iopub.execute_input": "2024-04-15T16:02:08.208731Z",
     "iopub.status.busy": "2024-04-15T16:02:08.208303Z",
     "iopub.status.idle": "2024-04-15T18:08:09.289950Z",
     "shell.execute_reply": "2024-04-15T18:08:09.288988Z"
    },
    "papermill": {
     "duration": 7561.096921,
     "end_time": "2024-04-15T18:08:09.292216",
     "exception": false,
     "start_time": "2024-04-15T16:02:08.195295",
     "status": "completed"
    },
    "tags": []
   },
   "outputs": [
    {
     "name": "stdout",
     "output_type": "stream",
     "text": [
      "----------Hyperparameter tuning----------\n",
      "Best trial: 52 -> Best value: 0.14836\n",
      "Best hyperparameters:\n",
      "max_depth            - 8\n",
      "min_child_weight     - 61\n",
      "subsample            - 1.0\n",
      "colsample_bytree     - 0.6\n",
      "gamma                - 0.0\n",
      "alpha                - 1.8\n",
      "lambda               - 58.291146234137656\n",
      "max_cat_to_onehot    - 1\n",
      "\n",
      "[Time taken: 7306.36s]\n",
      "\n",
      "-----Cross-validation and prediction-----\n",
      "Fold # 0: 0.14600 (1622 rounds)\n",
      "Fold # 1: 0.14745 (1844 rounds)\n",
      "Fold # 2: 0.14772 (2303 rounds)\n",
      "Fold # 3: 0.15012 (1824 rounds)\n",
      "Fold # 4: 0.14837 (2251 rounds)\n",
      "Fold # 5: 0.15297 (2048 rounds)\n",
      "Fold # 6: 0.14923 (2262 rounds)\n",
      "Fold # 7: 0.15085 (2235 rounds)\n",
      "Fold # 8: 0.14726 (2157 rounds)\n",
      "Fold # 9: 0.15082 (1617 rounds)\n",
      "Fold #10: 0.14848 (2243 rounds)\n",
      "Fold #11: 0.14942 (1996 rounds)\n",
      "Fold #12: 0.14621 (1981 rounds)\n",
      "Fold #13: 0.14251 (2114 rounds)\n",
      "Fold #14: 0.14803 (2196 rounds)\n",
      "\n",
      "Avg score: 0.14836 +/- 0.00239\n",
      "OOF score: 0.14838\n",
      "\n",
      "\n",
      "[Time taken: 252.70s]\n",
      "\n",
      "CPU times: user 2h 23min 34s, sys: 35.4 s, total: 2h 24min 9s\n",
      "Wall time: 2h 6min 1s\n"
     ]
    }
   ],
   "source": [
    "%%time\n",
    "feature_set = 'ALL'\n",
    "folds = 15\n",
    "stratify = 'SEX'\n",
    "seed = SEED\n",
    "\n",
    "config = f'feat{feature_set}_fold{folds}_skf{stratify}_seed{seed}'\n",
    "\n",
    "cv = StratifiedKFold(n_splits=folds, shuffle=True, random_state=seed)\n",
    "\n",
    "op[config], tp[config] = run_experiment(\n",
    "    feature_set=features,\n",
    "    cv=cv,\n",
    "    stratify_col=train['Sex'],\n",
    "    seed=seed)\n",
    "\n",
    "create_submission_files(tp[config], config)"
   ]
  }
 ],
 "metadata": {
  "kaggle": {
   "accelerator": "gpu",
   "dataSources": [
    {
     "databundleVersionId": 8096274,
     "sourceId": 72489,
     "sourceType": "competition"
    }
   ],
   "isGpuEnabled": true,
   "isInternetEnabled": true,
   "language": "python",
   "sourceType": "notebook"
  },
  "kernelspec": {
   "display_name": "Python 3",
   "language": "python",
   "name": "python3"
  },
  "language_info": {
   "codemirror_mode": {
    "name": "ipython",
    "version": 3
   },
   "file_extension": ".py",
   "mimetype": "text/x-python",
   "name": "python",
   "nbconvert_exporter": "python",
   "pygments_lexer": "ipython3",
   "version": "3.10.13"
  },
  "papermill": {
   "default_parameters": {},
   "duration": 24545.955908,
   "end_time": "2024-04-15T18:08:09.974324",
   "environment_variables": {},
   "exception": null,
   "input_path": "__notebook__.ipynb",
   "output_path": "__notebook__.ipynb",
   "parameters": {},
   "start_time": "2024-04-15T11:19:04.018416",
   "version": "2.5.0"
  }
 },
 "nbformat": 4,
 "nbformat_minor": 5
}
