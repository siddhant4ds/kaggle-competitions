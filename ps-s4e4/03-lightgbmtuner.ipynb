{
 "cells": [
  {
   "cell_type": "code",
   "execution_count": 1,
   "id": "bb24a4c1",
   "metadata": {
    "execution": {
     "iopub.execute_input": "2024-04-20T03:45:02.085965Z",
     "iopub.status.busy": "2024-04-20T03:45:02.085462Z",
     "iopub.status.idle": "2024-04-20T03:45:16.185952Z",
     "shell.execute_reply": "2024-04-20T03:45:16.184365Z"
    },
    "papermill": {
     "duration": 14.114276,
     "end_time": "2024-04-20T03:45:16.188931",
     "exception": false,
     "start_time": "2024-04-20T03:45:02.074655",
     "status": "completed"
    },
    "tags": []
   },
   "outputs": [],
   "source": [
    "%%capture\n",
    "!pip install --upgrade optuna_integration"
   ]
  },
  {
   "cell_type": "code",
   "execution_count": 2,
   "id": "facbba79",
   "metadata": {
    "execution": {
     "iopub.execute_input": "2024-04-20T03:45:16.201573Z",
     "iopub.status.busy": "2024-04-20T03:45:16.201189Z",
     "iopub.status.idle": "2024-04-20T03:45:19.745508Z",
     "shell.execute_reply": "2024-04-20T03:45:19.744375Z"
    },
    "papermill": {
     "duration": 3.553827,
     "end_time": "2024-04-20T03:45:19.748561",
     "exception": false,
     "start_time": "2024-04-20T03:45:16.194734",
     "status": "completed"
    },
    "tags": []
   },
   "outputs": [],
   "source": [
    "import gc\n",
    "gc.enable()\n",
    "\n",
    "import warnings\n",
    "warnings.filterwarnings('ignore')\n",
    "\n",
    "import pandas as pd\n",
    "import numpy as np\n",
    "import optuna.integration.lightgbm as lgb\n",
    "from lightgbm import LGBMRegressor\n",
    "from sklearn.model_selection import KFold\n",
    "from sklearn.metrics import mean_squared_error\n",
    "from sklearn.base import clone\n",
    "\n",
    "SEED = 2024"
   ]
  },
  {
   "cell_type": "code",
   "execution_count": 3,
   "id": "0f8634dc",
   "metadata": {
    "execution": {
     "iopub.execute_input": "2024-04-20T03:45:19.760270Z",
     "iopub.status.busy": "2024-04-20T03:45:19.759699Z",
     "iopub.status.idle": "2024-04-20T03:45:20.095221Z",
     "shell.execute_reply": "2024-04-20T03:45:20.094031Z"
    },
    "papermill": {
     "duration": 0.343978,
     "end_time": "2024-04-20T03:45:20.097721",
     "exception": false,
     "start_time": "2024-04-20T03:45:19.753743",
     "status": "completed"
    },
    "tags": []
   },
   "outputs": [],
   "source": [
    "DATA_DIR = '/kaggle/input/playground-series-s4e4'\n",
    "\n",
    "train = pd.read_csv(f'{DATA_DIR}/train.csv')\n",
    "test = pd.read_csv(f'{DATA_DIR}/test.csv')\n",
    "sample_sub = pd.read_csv(f'{DATA_DIR}/sample_submission.csv')"
   ]
  },
  {
   "cell_type": "code",
   "execution_count": 4,
   "id": "7f2e82e8",
   "metadata": {
    "execution": {
     "iopub.execute_input": "2024-04-20T03:45:20.109964Z",
     "iopub.status.busy": "2024-04-20T03:45:20.108839Z",
     "iopub.status.idle": "2024-04-20T03:45:20.121369Z",
     "shell.execute_reply": "2024-04-20T03:45:20.120258Z"
    },
    "papermill": {
     "duration": 0.021021,
     "end_time": "2024-04-20T03:45:20.123753",
     "exception": false,
     "start_time": "2024-04-20T03:45:20.102732",
     "status": "completed"
    },
    "tags": []
   },
   "outputs": [],
   "source": [
    "TARGET = 'Rings'\n",
    "# log-transforming the target to optimize for RMSE instead of RMSLE\n",
    "train[TARGET] = np.log1p(train[TARGET])"
   ]
  },
  {
   "cell_type": "code",
   "execution_count": 5,
   "id": "071a469c",
   "metadata": {
    "execution": {
     "iopub.execute_input": "2024-04-20T03:45:20.135443Z",
     "iopub.status.busy": "2024-04-20T03:45:20.135063Z",
     "iopub.status.idle": "2024-04-20T03:45:20.153871Z",
     "shell.execute_reply": "2024-04-20T03:45:20.152998Z"
    },
    "papermill": {
     "duration": 0.027411,
     "end_time": "2024-04-20T03:45:20.156150",
     "exception": false,
     "start_time": "2024-04-20T03:45:20.128739",
     "status": "completed"
    },
    "tags": []
   },
   "outputs": [],
   "source": [
    "train = train.drop('id', axis=1)\n",
    "test = test.drop('id', axis=1)"
   ]
  },
  {
   "cell_type": "code",
   "execution_count": 6,
   "id": "02f16d7f",
   "metadata": {
    "execution": {
     "iopub.execute_input": "2024-04-20T03:45:20.168355Z",
     "iopub.status.busy": "2024-04-20T03:45:20.167456Z",
     "iopub.status.idle": "2024-04-20T03:45:20.171770Z",
     "shell.execute_reply": "2024-04-20T03:45:20.170992Z"
    },
    "papermill": {
     "duration": 0.012694,
     "end_time": "2024-04-20T03:45:20.173707",
     "exception": false,
     "start_time": "2024-04-20T03:45:20.161013",
     "status": "completed"
    },
    "tags": []
   },
   "outputs": [],
   "source": [
    "features = [f for f in test.columns]\n",
    "cat_features = ['Sex']"
   ]
  },
  {
   "cell_type": "code",
   "execution_count": 7,
   "id": "4efab13c",
   "metadata": {
    "execution": {
     "iopub.execute_input": "2024-04-20T03:45:20.186820Z",
     "iopub.status.busy": "2024-04-20T03:45:20.186180Z",
     "iopub.status.idle": "2024-04-20T03:45:20.255324Z",
     "shell.execute_reply": "2024-04-20T03:45:20.254204Z"
    },
    "papermill": {
     "duration": 0.078079,
     "end_time": "2024-04-20T03:45:20.257818",
     "exception": false,
     "start_time": "2024-04-20T03:45:20.179739",
     "status": "completed"
    },
    "tags": []
   },
   "outputs": [],
   "source": [
    "sex_mapping = {'I': 0, 'F': 1, 'M': 2}\n",
    "train['Sex'] = train['Sex'].replace(sex_mapping).astype('int')\n",
    "test['Sex'] = test['Sex'].replace(sex_mapping).astype('int')"
   ]
  },
  {
   "cell_type": "code",
   "execution_count": 8,
   "id": "0c49d95f",
   "metadata": {
    "execution": {
     "iopub.execute_input": "2024-04-20T03:45:20.270015Z",
     "iopub.status.busy": "2024-04-20T03:45:20.269637Z",
     "iopub.status.idle": "2024-04-20T03:45:20.279751Z",
     "shell.execute_reply": "2024-04-20T03:45:20.278734Z"
    },
    "papermill": {
     "duration": 0.019366,
     "end_time": "2024-04-20T03:45:20.282136",
     "exception": false,
     "start_time": "2024-04-20T03:45:20.262770",
     "status": "completed"
    },
    "tags": []
   },
   "outputs": [],
   "source": [
    "# LightGBM dataset\n",
    "dtrain = lgb.Dataset(\n",
    "    data=train[features],\n",
    "    label=train[TARGET],\n",
    "    feature_name=features,\n",
    "    categorical_feature=cat_features)"
   ]
  },
  {
   "cell_type": "code",
   "execution_count": 9,
   "id": "b2e60d99",
   "metadata": {
    "execution": {
     "iopub.execute_input": "2024-04-20T03:45:20.293534Z",
     "iopub.status.busy": "2024-04-20T03:45:20.293151Z",
     "iopub.status.idle": "2024-04-20T03:45:20.298837Z",
     "shell.execute_reply": "2024-04-20T03:45:20.297466Z"
    },
    "papermill": {
     "duration": 0.014026,
     "end_time": "2024-04-20T03:45:20.301023",
     "exception": false,
     "start_time": "2024-04-20T03:45:20.286997",
     "status": "completed"
    },
    "tags": []
   },
   "outputs": [],
   "source": [
    "base_params = {\n",
    "    'objective': 'regression',\n",
    "    'metric': 'rmse',\n",
    "    'learning_rate': 0.01,\n",
    "    'boosting_type': 'gbdt',\n",
    "    'force_row_wise': True,\n",
    "    'verbosity': -1,\n",
    "    'n_jobs': -1,\n",
    "    'deterministic': True,\n",
    "    'random_state': SEED\n",
    "}"
   ]
  },
  {
   "cell_type": "code",
   "execution_count": 10,
   "id": "a1cbc906",
   "metadata": {
    "execution": {
     "iopub.execute_input": "2024-04-20T03:45:20.312607Z",
     "iopub.status.busy": "2024-04-20T03:45:20.311686Z",
     "iopub.status.idle": "2024-04-20T03:45:20.316767Z",
     "shell.execute_reply": "2024-04-20T03:45:20.315807Z"
    },
    "papermill": {
     "duration": 0.013036,
     "end_time": "2024-04-20T03:45:20.318789",
     "exception": false,
     "start_time": "2024-04-20T03:45:20.305753",
     "status": "completed"
    },
    "tags": []
   },
   "outputs": [],
   "source": [
    "early_stopping = lgb.early_stopping(\n",
    "    stopping_rounds=100,\n",
    "    first_metric_only=True,\n",
    "    verbose=False,\n",
    "    min_delta=1e-4)"
   ]
  },
  {
   "cell_type": "code",
   "execution_count": 11,
   "id": "eae7c8ce",
   "metadata": {
    "execution": {
     "iopub.execute_input": "2024-04-20T03:45:20.331274Z",
     "iopub.status.busy": "2024-04-20T03:45:20.330457Z",
     "iopub.status.idle": "2024-04-20T03:45:20.337312Z",
     "shell.execute_reply": "2024-04-20T03:45:20.336488Z"
    },
    "papermill": {
     "duration": 0.01556,
     "end_time": "2024-04-20T03:45:20.339750",
     "exception": false,
     "start_time": "2024-04-20T03:45:20.324190",
     "status": "completed"
    },
    "tags": []
   },
   "outputs": [
    {
     "name": "stderr",
     "output_type": "stream",
     "text": [
      "[I 2024-04-20 03:45:20,333] A new study created in memory with name: no-name-1fa5b028-1d32-49de-baf3-a0be09614e45\n"
     ]
    }
   ],
   "source": [
    "BUDGET = 60 * 60 * 8\n",
    "NUM_FOLDS = 10\n",
    "\n",
    "tuner = lgb.LightGBMTunerCV(\n",
    "    time_budget=BUDGET,\n",
    "    optuna_seed=SEED,\n",
    "    params=base_params,\n",
    "    train_set=dtrain,\n",
    "    num_boost_round=10000,\n",
    "    folds=KFold(n_splits=NUM_FOLDS, shuffle=True, random_state=SEED),\n",
    "    feature_name=features,\n",
    "    categorical_feature=cat_features,\n",
    "    callbacks=[early_stopping],\n",
    "    seed=SEED)"
   ]
  },
  {
   "cell_type": "code",
   "execution_count": 12,
   "id": "66a9e70f",
   "metadata": {
    "execution": {
     "iopub.execute_input": "2024-04-20T03:45:20.351942Z",
     "iopub.status.busy": "2024-04-20T03:45:20.351305Z",
     "iopub.status.idle": "2024-04-20T09:42:20.921536Z",
     "shell.execute_reply": "2024-04-20T09:42:20.920505Z"
    },
    "papermill": {
     "duration": 21420.604341,
     "end_time": "2024-04-20T09:42:20.949271",
     "exception": false,
     "start_time": "2024-04-20T03:45:20.344930",
     "status": "completed"
    },
    "tags": []
   },
   "outputs": [
    {
     "name": "stderr",
     "output_type": "stream",
     "text": [
      "feature_fraction, val_score: 0.149170:  14%|#4        | 1/7 [02:29<14:58, 149.81s/it][I 2024-04-20 03:47:50,165] Trial 0 finished with value: 0.14916951080061475 and parameters: {'feature_fraction': 0.5}. Best is trial 0 with value: 0.14916951080061475.\n",
      "feature_fraction, val_score: 0.149170:  29%|##8       | 2/7 [04:45<11:46, 141.33s/it][I 2024-04-20 03:50:05,566] Trial 1 finished with value: 0.14918590699465997 and parameters: {'feature_fraction': 0.8999999999999999}. Best is trial 0 with value: 0.14916951080061475.\n",
      "feature_fraction, val_score: 0.149132:  43%|####2     | 3/7 [06:55<09:04, 136.07s/it][I 2024-04-20 03:52:15,385] Trial 2 finished with value: 0.14913246158149931 and parameters: {'feature_fraction': 0.7}. Best is trial 2 with value: 0.14913246158149931.\n",
      "feature_fraction, val_score: 0.149132:  57%|#####7    | 4/7 [09:04<06:40, 133.37s/it][I 2024-04-20 03:54:24,624] Trial 3 finished with value: 0.14913246158149931 and parameters: {'feature_fraction': 0.8}. Best is trial 2 with value: 0.14913246158149931.\n",
      "feature_fraction, val_score: 0.149132:  71%|#######1  | 5/7 [10:45<04:03, 121.81s/it][I 2024-04-20 03:56:05,941] Trial 4 finished with value: 0.149631274894671 and parameters: {'feature_fraction': 1.0}. Best is trial 2 with value: 0.14913246158149931.\n",
      "feature_fraction, val_score: 0.149015:  86%|########5 | 6/7 [13:01<02:06, 126.72s/it][I 2024-04-20 03:58:22,189] Trial 5 finished with value: 0.1490145624089466 and parameters: {'feature_fraction': 0.6}. Best is trial 5 with value: 0.1490145624089466.\n",
      "feature_fraction, val_score: 0.149015: 100%|##########| 7/7 [15:24<00:00, 132.09s/it][I 2024-04-20 04:00:45,337] Trial 6 finished with value: 0.1492592015738933 and parameters: {'feature_fraction': 0.4}. Best is trial 5 with value: 0.1490145624089466.\n",
      "feature_fraction, val_score: 0.149015: 100%|##########| 7/7 [15:24<00:00, 132.14s/it]\n",
      "num_leaves, val_score: 0.148206:   5%|5         | 1/20 [04:34<1:27:01, 274.80s/it][I 2024-04-20 04:05:20,150] Trial 7 finished with value: 0.14820569088270769 and parameters: {'num_leaves': 151}. Best is trial 7 with value: 0.14820569088270769.\n",
      "num_leaves, val_score: 0.148206:  10%|#         | 2/20 [09:52<1:29:58, 299.91s/it][I 2024-04-20 04:10:37,636] Trial 8 finished with value: 0.14822214583792095 and parameters: {'num_leaves': 180}. Best is trial 7 with value: 0.14820569088270769.\n",
      "num_leaves, val_score: 0.148206:  15%|#5        | 3/20 [12:33<1:07:05, 236.77s/it][I 2024-04-20 04:13:19,272] Trial 9 finished with value: 0.14886539803845192 and parameters: {'num_leaves': 49}. Best is trial 7 with value: 0.14820569088270769.\n",
      "num_leaves, val_score: 0.148184:  20%|##        | 4/20 [19:27<1:21:48, 306.75s/it][I 2024-04-20 04:20:13,309] Trial 10 finished with value: 0.14818380564152847 and parameters: {'num_leaves': 224}. Best is trial 10 with value: 0.14818380564152847.\n",
      "num_leaves, val_score: 0.148184:  25%|##5       | 5/20 [25:31<1:21:46, 327.07s/it][I 2024-04-20 04:26:16,406] Trial 11 finished with value: 0.14821767053697 and parameters: {'num_leaves': 216}. Best is trial 10 with value: 0.14818380564152847.\n",
      "num_leaves, val_score: 0.148184:  30%|###       | 6/20 [31:50<1:20:27, 344.80s/it][I 2024-04-20 04:32:35,627] Trial 12 finished with value: 0.14821421883254596 and parameters: {'num_leaves': 250}. Best is trial 10 with value: 0.14818380564152847.\n",
      "num_leaves, val_score: 0.148184:  35%|###5      | 7/20 [36:24<1:09:43, 321.83s/it][I 2024-04-20 04:37:10,169] Trial 13 finished with value: 0.14832194082603828 and parameters: {'num_leaves': 121}. Best is trial 10 with value: 0.14818380564152847.\n",
      "num_leaves, val_score: 0.148184:  40%|####      | 8/20 [41:30<1:03:20, 316.72s/it][I 2024-04-20 04:42:15,934] Trial 14 finished with value: 0.1482526701437128 and parameters: {'num_leaves': 144}. Best is trial 10 with value: 0.14818380564152847.\n",
      "num_leaves, val_score: 0.148184:  45%|####5     | 9/20 [45:15<52:48, 288.09s/it]  [I 2024-04-20 04:46:01,065] Trial 15 finished with value: 0.14842545392490525 and parameters: {'num_leaves': 99}. Best is trial 10 with value: 0.14818380564152847.\n",
      "num_leaves, val_score: 0.148139:  50%|#####     | 10/20 [51:18<51:51, 311.14s/it][I 2024-04-20 04:52:03,830] Trial 16 finished with value: 0.14813853910941518 and parameters: {'num_leaves': 189}. Best is trial 16 with value: 0.14813853910941518.\n",
      "num_leaves, val_score: 0.148139:  55%|#####5    | 11/20 [57:00<48:05, 320.65s/it][I 2024-04-20 04:57:46,033] Trial 17 finished with value: 0.14814387640694954 and parameters: {'num_leaves': 199}. Best is trial 16 with value: 0.14813853910941518.\n",
      "num_leaves, val_score: 0.148139:  60%|######    | 12/20 [1:02:10<42:19, 317.43s/it][I 2024-04-20 05:02:56,117] Trial 18 finished with value: 0.14818562637213942 and parameters: {'num_leaves': 182}. Best is trial 16 with value: 0.14813853910941518.\n",
      "num_leaves, val_score: 0.148125:  65%|######5   | 13/20 [1:07:54<37:57, 325.42s/it][I 2024-04-20 05:08:39,927] Trial 19 finished with value: 0.14812494561846642 and parameters: {'num_leaves': 192}. Best is trial 19 with value: 0.14812494561846642.\n",
      "num_leaves, val_score: 0.148125:  70%|#######   | 14/20 [1:10:48<27:58, 279.75s/it][I 2024-04-20 05:11:34,146] Trial 20 finished with value: 0.14855009654952261 and parameters: {'num_leaves': 75}. Best is trial 19 with value: 0.14812494561846642.\n",
      "num_leaves, val_score: 0.148125:  75%|#######5  | 15/20 [1:15:51<23:54, 286.81s/it][I 2024-04-20 05:16:37,323] Trial 21 finished with value: 0.1481496807681597 and parameters: {'num_leaves': 187}. Best is trial 19 with value: 0.14812494561846642.\n",
      "num_leaves, val_score: 0.148125:  80%|########  | 16/20 [1:17:21<15:09, 227.30s/it][I 2024-04-20 05:18:06,424] Trial 22 finished with value: 0.15114351241993534 and parameters: {'num_leaves': 6}. Best is trial 19 with value: 0.14812494561846642.\n",
      "num_leaves, val_score: 0.148125:  85%|########5 | 17/20 [1:22:52<12:56, 258.67s/it][I 2024-04-20 05:23:38,041] Trial 23 finished with value: 0.1481943980115453 and parameters: {'num_leaves': 219}. Best is trial 19 with value: 0.14812494561846642.\n",
      "num_leaves, val_score: 0.148125:  90%|######### | 18/20 [1:27:26<08:46, 263.35s/it][I 2024-04-20 05:28:12,275] Trial 24 finished with value: 0.14820943199094447 and parameters: {'num_leaves': 169}. Best is trial 19 with value: 0.14812494561846642.\n",
      "num_leaves, val_score: 0.148125:  95%|#########5| 19/20 [1:32:55<04:42, 283.00s/it][I 2024-04-20 05:33:41,047] Trial 25 finished with value: 0.148148239991906 and parameters: {'num_leaves': 206}. Best is trial 19 with value: 0.14812494561846642.\n",
      "num_leaves, val_score: 0.148125: 100%|##########| 20/20 [1:39:00<00:00, 307.63s/it][I 2024-04-20 05:39:46,091] Trial 26 finished with value: 0.14816645159945713 and parameters: {'num_leaves': 239}. Best is trial 19 with value: 0.14812494561846642.\n",
      "num_leaves, val_score: 0.148125: 100%|##########| 20/20 [1:39:00<00:00, 297.04s/it]\n",
      "bagging, val_score: 0.148104:  10%|#         | 1/10 [05:06<45:59, 306.64s/it][I 2024-04-20 05:44:52,741] Trial 27 finished with value: 0.14810380597025158 and parameters: {'bagging_fraction': 0.5736183015264869, 'bagging_freq': 3}. Best is trial 27 with value: 0.14810380597025158.\n",
      "bagging, val_score: 0.148033:  20%|##        | 2/10 [10:56<44:16, 332.05s/it][I 2024-04-20 05:50:42,582] Trial 28 finished with value: 0.14803288927605102 and parameters: {'bagging_fraction': 0.569487074468038, 'bagging_freq': 3}. Best is trial 28 with value: 0.14803288927605102.\n",
      "bagging, val_score: 0.148033:  30%|###       | 3/10 [16:39<39:17, 336.85s/it][I 2024-04-20 05:56:25,132] Trial 29 finished with value: 0.14806517691069393 and parameters: {'bagging_fraction': 0.5372094626831886, 'bagging_freq': 3}. Best is trial 28 with value: 0.14803288927605102.\n",
      "bagging, val_score: 0.148033:  40%|####      | 4/10 [21:54<32:49, 328.33s/it][I 2024-04-20 06:01:40,414] Trial 30 finished with value: 0.1480904546402312 and parameters: {'bagging_fraction': 0.548996380760551, 'bagging_freq': 3}. Best is trial 28 with value: 0.14803288927605102.\n",
      "bagging, val_score: 0.148033:  50%|#####     | 5/10 [27:08<26:55, 323.10s/it][I 2024-04-20 06:06:54,219] Trial 31 finished with value: 0.14808590690729953 and parameters: {'bagging_fraction': 0.5474172029923298, 'bagging_freq': 3}. Best is trial 28 with value: 0.14803288927605102.\n",
      "bagging, val_score: 0.148033:  60%|######    | 6/10 [32:02<20:53, 313.49s/it][I 2024-04-20 06:11:49,057] Trial 32 finished with value: 0.14814674781551695 and parameters: {'bagging_fraction': 0.5390878809005111, 'bagging_freq': 3}. Best is trial 28 with value: 0.14803288927605102.\n",
      "bagging, val_score: 0.148033:  70%|#######   | 7/10 [37:22<15:45, 315.33s/it][I 2024-04-20 06:17:08,174] Trial 33 finished with value: 0.14809628366640065 and parameters: {'bagging_fraction': 0.5442468006801618, 'bagging_freq': 3}. Best is trial 28 with value: 0.14803288927605102.\n",
      "bagging, val_score: 0.148033:  80%|########  | 8/10 [43:51<11:17, 338.92s/it][I 2024-04-20 06:23:37,604] Trial 34 finished with value: 0.14810651193952548 and parameters: {'bagging_fraction': 0.5376157809962983, 'bagging_freq': 3}. Best is trial 28 with value: 0.14803288927605102.\n",
      "bagging, val_score: 0.147984:  90%|######### | 9/10 [50:44<06:02, 362.14s/it][I 2024-04-20 06:30:30,795] Trial 35 finished with value: 0.14798358226694797 and parameters: {'bagging_fraction': 0.70342005528744, 'bagging_freq': 2}. Best is trial 35 with value: 0.14798358226694797.\n",
      "bagging, val_score: 0.147984: 100%|##########| 10/10 [56:31<00:00, 357.49s/it][I 2024-04-20 06:36:17,871] Trial 36 finished with value: 0.14800626329328243 and parameters: {'bagging_fraction': 0.7678778225732572, 'bagging_freq': 1}. Best is trial 35 with value: 0.14798358226694797.\n",
      "bagging, val_score: 0.147984: 100%|##########| 10/10 [56:31<00:00, 339.18s/it]\n",
      "feature_fraction_stage2, val_score: 0.147984:  17%|#6        | 1/6 [05:43<28:39, 343.86s/it][I 2024-04-20 06:42:01,742] Trial 37 finished with value: 0.14798358226694794 and parameters: {'feature_fraction': 0.584}. Best is trial 37 with value: 0.14798358226694794.\n",
      "feature_fraction_stage2, val_score: 0.147984:  33%|###3      | 2/6 [13:11<26:59, 404.78s/it][I 2024-04-20 06:49:29,169] Trial 38 finished with value: 0.14809161845924262 and parameters: {'feature_fraction': 0.552}. Best is trial 37 with value: 0.14798358226694794.\n",
      "feature_fraction_stage2, val_score: 0.147984:  50%|#####     | 3/6 [20:39<21:13, 424.62s/it][I 2024-04-20 06:56:57,400] Trial 39 finished with value: 0.14809161845924262 and parameters: {'feature_fraction': 0.52}. Best is trial 37 with value: 0.14798358226694794.\n",
      "feature_fraction_stage2, val_score: 0.147984:  67%|######6   | 4/6 [26:15<12:59, 389.64s/it][I 2024-04-20 07:02:33,419] Trial 40 finished with value: 0.14798358226694797 and parameters: {'feature_fraction': 0.616}. Best is trial 37 with value: 0.14798358226694794.\n",
      "feature_fraction_stage2, val_score: 0.147984:  83%|########3 | 5/6 [32:06<06:15, 375.82s/it][I 2024-04-20 07:08:24,727] Trial 41 finished with value: 0.14798358226694797 and parameters: {'feature_fraction': 0.6479999999999999}. Best is trial 37 with value: 0.14798358226694794.\n",
      "feature_fraction_stage2, val_score: 0.147984: 100%|##########| 6/6 [38:08<00:00, 370.86s/it][I 2024-04-20 07:14:25,974] Trial 42 finished with value: 0.14798358226694794 and parameters: {'feature_fraction': 0.6799999999999999}. Best is trial 37 with value: 0.14798358226694794.\n",
      "feature_fraction_stage2, val_score: 0.147984: 100%|##########| 6/6 [38:08<00:00, 381.35s/it]\n",
      "regularization_factors, val_score: 0.147984:   5%|5         | 1/20 [05:34<1:45:46, 334.01s/it][I 2024-04-20 07:19:59,993] Trial 43 finished with value: 0.1480825634235648 and parameters: {'lambda_l1': 4.020448680588366e-06, 'lambda_l2': 5.063045298563952e-06}. Best is trial 43 with value: 0.1480825634235648.\n",
      "regularization_factors, val_score: 0.147984:  10%|#         | 2/20 [13:52<2:09:17, 430.96s/it][I 2024-04-20 07:28:18,817] Trial 44 finished with value: 0.14838439541260057 and parameters: {'lambda_l1': 3.239331421848001, 'lambda_l2': 8.203190702534512}. Best is trial 43 with value: 0.1480825634235648.\n",
      "regularization_factors, val_score: 0.147984:  15%|#5        | 3/20 [19:37<1:50:53, 391.40s/it][I 2024-04-20 07:34:03,150] Trial 45 finished with value: 0.14807239193413396 and parameters: {'lambda_l1': 2.4542146562576145e-08, 'lambda_l2': 1.6950001995418703e-08}. Best is trial 45 with value: 0.14807239193413396.\n",
      "regularization_factors, val_score: 0.147963:  20%|##        | 4/20 [26:14<1:45:02, 393.89s/it][I 2024-04-20 07:40:40,863] Trial 46 finished with value: 0.14796262465457785 and parameters: {'lambda_l1': 0.8437068798023301, 'lambda_l2': 0.908486934041441}. Best is trial 46 with value: 0.14796262465457785.\n",
      "regularization_factors, val_score: 0.147963:  25%|##5       | 5/20 [33:09<1:40:18, 401.23s/it][I 2024-04-20 07:47:35,086] Trial 47 finished with value: 0.14870792748064574 and parameters: {'lambda_l1': 4.823674342473999, 'lambda_l2': 6.655448119320478}. Best is trial 46 with value: 0.14796262465457785.\n",
      "regularization_factors, val_score: 0.147963:  30%|###       | 6/20 [39:14<1:30:48, 389.17s/it][I 2024-04-20 07:53:40,860] Trial 48 finished with value: 0.14797865813292094 and parameters: {'lambda_l1': 0.0038146924746257646, 'lambda_l2': 0.005175281815428983}. Best is trial 46 with value: 0.14796262465457785.\n",
      "regularization_factors, val_score: 0.147963:  35%|###5      | 7/20 [44:41<1:19:53, 368.73s/it][I 2024-04-20 07:59:07,501] Trial 49 finished with value: 0.14806716032118789 and parameters: {'lambda_l1': 0.006406679630338769, 'lambda_l2': 0.007579991207093866}. Best is trial 46 with value: 0.14796262465457785.\n",
      "regularization_factors, val_score: 0.147963:  40%|####      | 8/20 [50:39<1:13:01, 365.16s/it][I 2024-04-20 08:05:05,022] Trial 50 finished with value: 0.14799451651445764 and parameters: {'lambda_l1': 0.005315886168561594, 'lambda_l2': 0.012027471750837985}. Best is trial 46 with value: 0.14796262465457785.\n",
      "regularization_factors, val_score: 0.147963:  45%|####5     | 9/20 [56:31<1:06:12, 361.10s/it][I 2024-04-20 08:10:57,181] Trial 51 finished with value: 0.14800218278807445 and parameters: {'lambda_l1': 0.05337961988599533, 'lambda_l2': 0.0359555019964131}. Best is trial 46 with value: 0.14796262465457785.\n",
      "regularization_factors, val_score: 0.147963:  50%|#####     | 10/20 [1:01:47<57:53, 347.39s/it] [I 2024-04-20 08:16:13,865] Trial 52 finished with value: 0.14809574978200318 and parameters: {'lambda_l1': 1.2382464380926897e-05, 'lambda_l2': 8.19646699318944e-05}. Best is trial 46 with value: 0.14796262465457785.\n",
      "regularization_factors, val_score: 0.147963:  55%|#####5    | 11/20 [1:07:31<51:56, 346.22s/it][I 2024-04-20 08:21:57,455] Trial 53 finished with value: 0.14801403633556987 and parameters: {'lambda_l1': 0.17266671907765596, 'lambda_l2': 0.5071705125728801}. Best is trial 46 with value: 0.14796262465457785.\n",
      "regularization_factors, val_score: 0.147963:  60%|######    | 12/20 [1:13:31<46:44, 350.53s/it][I 2024-04-20 08:27:57,819] Trial 54 finished with value: 0.14797634443378155 and parameters: {'lambda_l1': 0.0005791347067125888, 'lambda_l2': 0.00034750045704087795}. Best is trial 46 with value: 0.14796262465457785.\n",
      "regularization_factors, val_score: 0.147963:  65%|######5   | 13/20 [1:18:43<39:31, 338.74s/it][I 2024-04-20 08:33:09,444] Trial 55 finished with value: 0.1480812006162186 and parameters: {'lambda_l1': 0.00016177263696191138, 'lambda_l2': 0.0006069303739117976}. Best is trial 46 with value: 0.14796262465457785.\n",
      "regularization_factors, val_score: 0.147963:  70%|#######   | 14/20 [1:23:51<32:56, 329.41s/it][I 2024-04-20 08:38:17,304] Trial 56 finished with value: 0.14808241214667434 and parameters: {'lambda_l1': 0.0002943552018651846, 'lambda_l2': 4.8590178423038206e-05}. Best is trial 46 with value: 0.14796262465457785.\n",
      "regularization_factors, val_score: 0.147963:  75%|#######5  | 15/20 [1:29:32<27:44, 332.82s/it][I 2024-04-20 08:43:58,027] Trial 57 finished with value: 0.14799726545851025 and parameters: {'lambda_l1': 0.006906610329028714, 'lambda_l2': 0.1488100481828906}. Best is trial 46 with value: 0.14796262465457785.\n",
      "regularization_factors, val_score: 0.147954:  80%|########  | 16/20 [1:35:33<22:45, 341.45s/it][I 2024-04-20 08:49:59,509] Trial 58 finished with value: 0.14795440923775996 and parameters: {'lambda_l1': 0.27401117304604755, 'lambda_l2': 0.0009257365563132775}. Best is trial 58 with value: 0.14795440923775996.\n",
      "regularization_factors, val_score: 0.147954:  85%|########5 | 17/20 [1:41:13<17:02, 340.87s/it][I 2024-04-20 08:55:39,039] Trial 59 finished with value: 0.1480129692239755 and parameters: {'lambda_l1': 0.45025822652174396, 'lambda_l2': 0.0008955790565444002}. Best is trial 58 with value: 0.14795440923775996.\n",
      "regularization_factors, val_score: 0.147954:  90%|######### | 18/20 [1:47:03<11:27, 343.72s/it][I 2024-04-20 09:01:29,402] Trial 60 finished with value: 0.1480079578283716 and parameters: {'lambda_l1': 0.07789212212433531, 'lambda_l2': 8.420381488732386e-06}. Best is trial 58 with value: 0.14795440923775996.\n",
      "regularization_factors, val_score: 0.147954:  95%|#########5| 19/20 [1:52:19<05:35, 335.41s/it][I 2024-04-20 09:06:45,459] Trial 61 finished with value: 0.148063467266977 and parameters: {'lambda_l1': 0.001448043911946336, 'lambda_l2': 0.0031093655618777555}. Best is trial 58 with value: 0.14795440923775996.\n",
      "regularization_factors, val_score: 0.147954: 100%|##########| 20/20 [1:58:29<00:00, 345.87s/it][I 2024-04-20 09:12:55,691] Trial 62 finished with value: 0.1479602898094924 and parameters: {'lambda_l1': 0.9773376981107487, 'lambda_l2': 0.00010625655314027761}. Best is trial 58 with value: 0.14795440923775996.\n",
      "regularization_factors, val_score: 0.147954: 100%|##########| 20/20 [1:58:29<00:00, 355.49s/it]\n",
      "min_child_samples, val_score: 0.147952:  20%|##        | 1/5 [06:02<24:09, 362.37s/it][I 2024-04-20 09:18:58,070] Trial 63 finished with value: 0.14795218253555203 and parameters: {'min_child_samples': 25}. Best is trial 63 with value: 0.14795218253555203.\n",
      "min_child_samples, val_score: 0.147952:  40%|####      | 2/5 [11:35<17:16, 345.42s/it][I 2024-04-20 09:24:31,625] Trial 64 finished with value: 0.1479860139053645 and parameters: {'min_child_samples': 10}. Best is trial 63 with value: 0.14795218253555203.\n",
      "min_child_samples, val_score: 0.147952:  60%|######    | 3/5 [17:23<11:32, 346.21s/it][I 2024-04-20 09:30:18,774] Trial 65 finished with value: 0.14803786381632406 and parameters: {'min_child_samples': 5}. Best is trial 63 with value: 0.14795218253555203.\n",
      "min_child_samples, val_score: 0.147952:  80%|########  | 4/5 [23:26<05:53, 353.09s/it][I 2024-04-20 09:36:22,408] Trial 66 finished with value: 0.1481224700677909 and parameters: {'min_child_samples': 100}. Best is trial 63 with value: 0.14795218253555203.\n",
      "min_child_samples, val_score: 0.147952: 100%|##########| 5/5 [29:25<00:00, 355.04s/it][I 2024-04-20 09:42:20,916] Trial 67 finished with value: 0.14796896853935818 and parameters: {'min_child_samples': 50}. Best is trial 63 with value: 0.14795218253555203.\n",
      "min_child_samples, val_score: 0.147952: 100%|##########| 5/5 [29:25<00:00, 353.04s/it]"
     ]
    },
    {
     "name": "stdout",
     "output_type": "stream",
     "text": [
      "CPU times: user 6h 46min 24s, sys: 3h 20min 37s, total: 10h 7min 1s\n",
      "Wall time: 5h 57min\n"
     ]
    },
    {
     "name": "stderr",
     "output_type": "stream",
     "text": [
      "\n"
     ]
    }
   ],
   "source": [
    "%%time\n",
    "tuner.run()"
   ]
  },
  {
   "cell_type": "code",
   "execution_count": 13,
   "id": "5b910dfd",
   "metadata": {
    "execution": {
     "iopub.execute_input": "2024-04-20T09:42:21.000573Z",
     "iopub.status.busy": "2024-04-20T09:42:21.000085Z",
     "iopub.status.idle": "2024-04-20T09:42:21.006629Z",
     "shell.execute_reply": "2024-04-20T09:42:21.005816Z"
    },
    "papermill": {
     "duration": 0.035225,
     "end_time": "2024-04-20T09:42:21.009030",
     "exception": false,
     "start_time": "2024-04-20T09:42:20.973805",
     "status": "completed"
    },
    "tags": []
   },
   "outputs": [
    {
     "name": "stdout",
     "output_type": "stream",
     "text": [
      "Best score: 0.14795\n",
      "Best hyperparameters:\n",
      "objective            - regression\n",
      "metric               - rmse\n",
      "learning_rate        - 0.01\n",
      "boosting_type        - gbdt\n",
      "force_row_wise       - True\n",
      "verbosity            - -1\n",
      "n_jobs               - -1\n",
      "deterministic        - True\n",
      "random_state         - 2024\n",
      "feature_pre_filter   - False\n",
      "lambda_l1            - 0.27401117304604755\n",
      "lambda_l2            - 0.0009257365563132775\n",
      "num_leaves           - 192\n",
      "feature_fraction     - 0.584\n",
      "bagging_fraction     - 0.70342005528744\n",
      "bagging_freq         - 2\n",
      "min_child_samples    - 25\n"
     ]
    }
   ],
   "source": [
    "print(f'Best score: {tuner.best_score:.5f}')\n",
    "print(f'Best hyperparameters:')\n",
    "for k, v in tuner.best_params.items():\n",
    "    print(f'{k:20} - {v}')"
   ]
  },
  {
   "cell_type": "code",
   "execution_count": 14,
   "id": "36fc49b2",
   "metadata": {
    "execution": {
     "iopub.execute_input": "2024-04-20T09:42:21.060571Z",
     "iopub.status.busy": "2024-04-20T09:42:21.059839Z",
     "iopub.status.idle": "2024-04-20T09:42:21.072404Z",
     "shell.execute_reply": "2024-04-20T09:42:21.071233Z"
    },
    "papermill": {
     "duration": 0.041172,
     "end_time": "2024-04-20T09:42:21.074694",
     "exception": false,
     "start_time": "2024-04-20T09:42:21.033522",
     "status": "completed"
    },
    "tags": []
   },
   "outputs": [],
   "source": [
    "def comp_metric(y_true, y_pred):\n",
    "    return mean_squared_error(y_true, y_pred, squared=False)\n",
    "\n",
    "def custom_cv(estimator, seed=SEED, verbose=True):\n",
    "    X_test = test[features]\n",
    "    \n",
    "    oof_preds, test_preds = {}, {}\n",
    "    scores = []\n",
    "\n",
    "    cv = KFold(n_splits=NUM_FOLDS, shuffle=True, random_state=seed)\n",
    "    for fold, (train_ids, val_ids) in enumerate(cv.split(train)):\n",
    "        X_train, y_train = train[features].iloc[train_ids], train[TARGET].iloc[train_ids]\n",
    "        X_val, y_val = train[features].iloc[val_ids], train[TARGET].iloc[val_ids]\n",
    "        \n",
    "        model = clone(estimator)\n",
    "        model.fit(\n",
    "            X_train, y_train,\n",
    "            eval_set=[(X_val, y_val)],\n",
    "            callbacks=[early_stopping])\n",
    "\n",
    "        val_preds = model.predict(X_val)\n",
    "        oof_preds.update(dict(zip(val_ids, val_preds)))\n",
    "        test_preds[f'fold{fold}'] = model.predict(X_test)\n",
    "\n",
    "        score = comp_metric(y_val, val_preds)\n",
    "        scores.append(score)\n",
    "        if verbose:\n",
    "            print(f'Fold #{fold:>2}: {score:.5f} ({model.best_iteration_:>4} rounds)')\n",
    "        _ = gc.collect()\n",
    "\n",
    "    test_preds = pd.DataFrame.from_dict(test_preds)\n",
    "    test_preds['mean'] = test_preds.mean(axis=1) # mean of fold-wise predictions\n",
    "    \n",
    "    oof_preds = pd.Series(oof_preds).sort_index()\n",
    "    print(f'\\nAvg score: {np.mean(scores):.5f} +/- {np.std(scores):.5f}')\n",
    "    print(f'OOF score: {comp_metric(train[TARGET], oof_preds):.5f}\\n')\n",
    "    \n",
    "    return oof_preds, test_preds"
   ]
  },
  {
   "cell_type": "code",
   "execution_count": 15,
   "id": "b5b9c634",
   "metadata": {
    "execution": {
     "iopub.execute_input": "2024-04-20T09:42:21.125463Z",
     "iopub.status.busy": "2024-04-20T09:42:21.125050Z",
     "iopub.status.idle": "2024-04-20T09:47:25.446760Z",
     "shell.execute_reply": "2024-04-20T09:47:25.445329Z"
    },
    "papermill": {
     "duration": 304.350384,
     "end_time": "2024-04-20T09:47:25.449588",
     "exception": false,
     "start_time": "2024-04-20T09:42:21.099204",
     "status": "completed"
    },
    "tags": []
   },
   "outputs": [
    {
     "name": "stdout",
     "output_type": "stream",
     "text": [
      "Fold # 0: 0.15076 ( 606 rounds)\n",
      "Fold # 1: 0.14926 ( 700 rounds)\n",
      "Fold # 2: 0.14728 ( 792 rounds)\n",
      "Fold # 3: 0.14658 ( 650 rounds)\n",
      "Fold # 4: 0.14781 ( 654 rounds)\n",
      "Fold # 5: 0.14676 ( 709 rounds)\n",
      "Fold # 6: 0.14920 ( 585 rounds)\n",
      "Fold # 7: 0.14812 ( 716 rounds)\n",
      "Fold # 8: 0.14534 ( 581 rounds)\n",
      "Fold # 9: 0.14843 ( 642 rounds)\n",
      "\n",
      "Avg score: 0.14795 +/- 0.00148\n",
      "OOF score: 0.14796\n",
      "\n",
      "CPU times: user 5min 4s, sys: 0 ns, total: 5min 4s\n",
      "Wall time: 5min 4s\n"
     ]
    }
   ],
   "source": [
    "%%time\n",
    "model = LGBMRegressor(**tuner.best_params, n_estimators=10000)\n",
    "op, tp = custom_cv(model)"
   ]
  },
  {
   "cell_type": "code",
   "execution_count": 16,
   "id": "8fc49e78",
   "metadata": {
    "execution": {
     "iopub.execute_input": "2024-04-20T09:47:25.500979Z",
     "iopub.status.busy": "2024-04-20T09:47:25.500583Z",
     "iopub.status.idle": "2024-04-20T09:47:25.506533Z",
     "shell.execute_reply": "2024-04-20T09:47:25.505348Z"
    },
    "papermill": {
     "duration": 0.034301,
     "end_time": "2024-04-20T09:47:25.508933",
     "exception": false,
     "start_time": "2024-04-20T09:47:25.474632",
     "status": "completed"
    },
    "tags": []
   },
   "outputs": [],
   "source": [
    "def create_submission_files(preds, notebook='03'):\n",
    "    for col in preds.columns:\n",
    "        sub = sample_sub.copy()\n",
    "        # inverse transform for log-transformed target and clipping based on train data range\n",
    "        sub[TARGET] = np.expm1(preds[col]).clip(1, 29)\n",
    "        sub.to_csv(f'nb{notebook}_{col}.csv', index=False)"
   ]
  },
  {
   "cell_type": "code",
   "execution_count": 17,
   "id": "46f9820b",
   "metadata": {
    "execution": {
     "iopub.execute_input": "2024-04-20T09:47:25.561292Z",
     "iopub.status.busy": "2024-04-20T09:47:25.560868Z",
     "iopub.status.idle": "2024-04-20T09:47:27.076271Z",
     "shell.execute_reply": "2024-04-20T09:47:27.075070Z"
    },
    "papermill": {
     "duration": 1.544977,
     "end_time": "2024-04-20T09:47:27.078993",
     "exception": false,
     "start_time": "2024-04-20T09:47:25.534016",
     "status": "completed"
    },
    "tags": []
   },
   "outputs": [],
   "source": [
    "create_submission_files(tp)"
   ]
  },
  {
   "cell_type": "code",
   "execution_count": 18,
   "id": "93f6c493",
   "metadata": {
    "execution": {
     "iopub.execute_input": "2024-04-20T09:47:27.132734Z",
     "iopub.status.busy": "2024-04-20T09:47:27.132164Z",
     "iopub.status.idle": "2024-04-20T09:47:28.197269Z",
     "shell.execute_reply": "2024-04-20T09:47:28.195655Z"
    },
    "papermill": {
     "duration": 1.095155,
     "end_time": "2024-04-20T09:47:28.200152",
     "exception": false,
     "start_time": "2024-04-20T09:47:27.104997",
     "status": "completed"
    },
    "tags": []
   },
   "outputs": [
    {
     "name": "stdout",
     "output_type": "stream",
     "text": [
      "id,Rings\r\n",
      "90615,9.840484045482214\r\n",
      "90616,9.781911789575407\r\n",
      "90617,9.847144738039194\r\n",
      "90618,10.50497144216985\r\n",
      "90619,7.579552720829909\r\n",
      "90620,9.369105518499326\r\n",
      "90621,10.737770948346359\r\n",
      "90622,6.165948974136031\r\n",
      "90623,7.926124609060306\r\n"
     ]
    }
   ],
   "source": [
    "!head nb03_mean.csv"
   ]
  }
 ],
 "metadata": {
  "kaggle": {
   "accelerator": "none",
   "dataSources": [
    {
     "databundleVersionId": 8096274,
     "sourceId": 72489,
     "sourceType": "competition"
    }
   ],
   "dockerImageVersionId": 30698,
   "isGpuEnabled": false,
   "isInternetEnabled": true,
   "language": "python",
   "sourceType": "notebook"
  },
  "kernelspec": {
   "display_name": "Python 3",
   "language": "python",
   "name": "python3"
  },
  "language_info": {
   "codemirror_mode": {
    "name": "ipython",
    "version": 3
   },
   "file_extension": ".py",
   "mimetype": "text/x-python",
   "name": "python",
   "nbconvert_exporter": "python",
   "pygments_lexer": "ipython3",
   "version": "3.10.13"
  },
  "papermill": {
   "default_parameters": {},
   "duration": 21749.963102,
   "end_time": "2024-04-20T09:47:29.084342",
   "environment_variables": {},
   "exception": null,
   "input_path": "__notebook__.ipynb",
   "output_path": "__notebook__.ipynb",
   "parameters": {},
   "start_time": "2024-04-20T03:44:59.121240",
   "version": "2.5.0"
  }
 },
 "nbformat": 4,
 "nbformat_minor": 5
}
