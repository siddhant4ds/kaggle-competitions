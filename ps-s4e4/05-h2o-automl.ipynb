{
 "cells": [
  {
   "cell_type": "code",
   "execution_count": 1,
   "id": "d43b9b2c",
   "metadata": {
    "_cell_guid": "b1076dfc-b9ad-4769-8c92-a6c4dae69d19",
    "_uuid": "8f2839f25d086af736a60e9eeb907d3b93b6e0e5",
    "execution": {
     "iopub.execute_input": "2024-04-25T02:01:38.872574Z",
     "iopub.status.busy": "2024-04-25T02:01:38.872149Z",
     "iopub.status.idle": "2024-04-25T02:01:40.526985Z",
     "shell.execute_reply": "2024-04-25T02:01:40.525976Z"
    },
    "papermill": {
     "duration": 1.664767,
     "end_time": "2024-04-25T02:01:40.529960",
     "exception": false,
     "start_time": "2024-04-25T02:01:38.865193",
     "status": "completed"
    },
    "tags": []
   },
   "outputs": [],
   "source": [
    "import gc\n",
    "gc.enable()\n",
    "\n",
    "import warnings\n",
    "warnings.filterwarnings('ignore')\n",
    "\n",
    "import numpy as np\n",
    "import pandas as pd\n",
    "import h2o\n",
    "from h2o.automl import H2OAutoML\n",
    "\n",
    "SEED = 2024"
   ]
  },
  {
   "cell_type": "code",
   "execution_count": 2,
   "id": "2db2bb5d",
   "metadata": {
    "execution": {
     "iopub.execute_input": "2024-04-25T02:01:40.542369Z",
     "iopub.status.busy": "2024-04-25T02:01:40.541750Z",
     "iopub.status.idle": "2024-04-25T02:01:49.683587Z",
     "shell.execute_reply": "2024-04-25T02:01:49.681929Z"
    },
    "papermill": {
     "duration": 9.151722,
     "end_time": "2024-04-25T02:01:49.687092",
     "exception": false,
     "start_time": "2024-04-25T02:01:40.535370",
     "status": "completed"
    },
    "tags": []
   },
   "outputs": [
    {
     "name": "stdout",
     "output_type": "stream",
     "text": [
      "Checking whether there is an H2O instance running at http://localhost:54321..... not found.\n",
      "Attempting to start a local H2O server...\n",
      "  Java Version: openjdk version \"11.0.22\" 2024-01-16; OpenJDK Runtime Environment (build 11.0.22+7-post-Ubuntu-0ubuntu220.04.1); OpenJDK 64-Bit Server VM (build 11.0.22+7-post-Ubuntu-0ubuntu220.04.1, mixed mode, sharing)\n",
      "  Starting server from /opt/conda/lib/python3.10/site-packages/h2o/backend/bin/h2o.jar\n",
      "  Ice root: /tmp/tmpxya6ntzv\n",
      "  JVM stdout: /tmp/tmpxya6ntzv/h2o_unknownUser_started_from_python.out\n",
      "  JVM stderr: /tmp/tmpxya6ntzv/h2o_unknownUser_started_from_python.err\n",
      "  Server is running at http://127.0.0.1:54321\n",
      "Connecting to H2O server at http://127.0.0.1:54321 ... successful.\n"
     ]
    },
    {
     "data": {
      "text/html": [
       "\n",
       "<style>\n",
       "\n",
       "#h2o-table-1.h2o-container {\n",
       "  overflow-x: auto;\n",
       "}\n",
       "#h2o-table-1 .h2o-table {\n",
       "  /* width: 100%; */\n",
       "  margin-top: 1em;\n",
       "  margin-bottom: 1em;\n",
       "}\n",
       "#h2o-table-1 .h2o-table caption {\n",
       "  white-space: nowrap;\n",
       "  caption-side: top;\n",
       "  text-align: left;\n",
       "  /* margin-left: 1em; */\n",
       "  margin: 0;\n",
       "  font-size: larger;\n",
       "}\n",
       "#h2o-table-1 .h2o-table thead {\n",
       "  white-space: nowrap; \n",
       "  position: sticky;\n",
       "  top: 0;\n",
       "  box-shadow: 0 -1px inset;\n",
       "}\n",
       "#h2o-table-1 .h2o-table tbody {\n",
       "  overflow: auto;\n",
       "}\n",
       "#h2o-table-1 .h2o-table th,\n",
       "#h2o-table-1 .h2o-table td {\n",
       "  text-align: right;\n",
       "  /* border: 1px solid; */\n",
       "}\n",
       "#h2o-table-1 .h2o-table tr:nth-child(even) {\n",
       "  /* background: #F5F5F5 */\n",
       "}\n",
       "\n",
       "</style>      \n",
       "<div id=\"h2o-table-1\" class=\"h2o-container\">\n",
       "  <table class=\"h2o-table\">\n",
       "    <caption></caption>\n",
       "    <thead></thead>\n",
       "    <tbody><tr><td>H2O_cluster_uptime:</td>\n",
       "<td>03 secs</td></tr>\n",
       "<tr><td>H2O_cluster_timezone:</td>\n",
       "<td>Etc/UTC</td></tr>\n",
       "<tr><td>H2O_data_parsing_timezone:</td>\n",
       "<td>UTC</td></tr>\n",
       "<tr><td>H2O_cluster_version:</td>\n",
       "<td>3.46.0.1</td></tr>\n",
       "<tr><td>H2O_cluster_version_age:</td>\n",
       "<td>1 month and 11 days</td></tr>\n",
       "<tr><td>H2O_cluster_name:</td>\n",
       "<td>H2O_from_python_unknownUser_03mjfc</td></tr>\n",
       "<tr><td>H2O_cluster_total_nodes:</td>\n",
       "<td>1</td></tr>\n",
       "<tr><td>H2O_cluster_free_memory:</td>\n",
       "<td>20 Gb</td></tr>\n",
       "<tr><td>H2O_cluster_total_cores:</td>\n",
       "<td>4</td></tr>\n",
       "<tr><td>H2O_cluster_allowed_cores:</td>\n",
       "<td>4</td></tr>\n",
       "<tr><td>H2O_cluster_status:</td>\n",
       "<td>locked, healthy</td></tr>\n",
       "<tr><td>H2O_connection_url:</td>\n",
       "<td>http://127.0.0.1:54321</td></tr>\n",
       "<tr><td>H2O_connection_proxy:</td>\n",
       "<td>{\"http\": null, \"https\": null}</td></tr>\n",
       "<tr><td>H2O_internal_security:</td>\n",
       "<td>False</td></tr>\n",
       "<tr><td>Python_version:</td>\n",
       "<td>3.10.13 final</td></tr></tbody>\n",
       "  </table>\n",
       "</div>\n"
      ],
      "text/plain": [
       "--------------------------  ----------------------------------\n",
       "H2O_cluster_uptime:         03 secs\n",
       "H2O_cluster_timezone:       Etc/UTC\n",
       "H2O_data_parsing_timezone:  UTC\n",
       "H2O_cluster_version:        3.46.0.1\n",
       "H2O_cluster_version_age:    1 month and 11 days\n",
       "H2O_cluster_name:           H2O_from_python_unknownUser_03mjfc\n",
       "H2O_cluster_total_nodes:    1\n",
       "H2O_cluster_free_memory:    20 Gb\n",
       "H2O_cluster_total_cores:    4\n",
       "H2O_cluster_allowed_cores:  4\n",
       "H2O_cluster_status:         locked, healthy\n",
       "H2O_connection_url:         http://127.0.0.1:54321\n",
       "H2O_connection_proxy:       {\"http\": null, \"https\": null}\n",
       "H2O_internal_security:      False\n",
       "Python_version:             3.10.13 final\n",
       "--------------------------  ----------------------------------"
      ]
     },
     "metadata": {},
     "output_type": "display_data"
    }
   ],
   "source": [
    "h2o.init(max_mem_size=\"20G\")\n",
    "h2o.display.toggle_user_tips('off')"
   ]
  },
  {
   "cell_type": "code",
   "execution_count": 3,
   "id": "a44c155e",
   "metadata": {
    "execution": {
     "iopub.execute_input": "2024-04-25T02:01:49.707369Z",
     "iopub.status.busy": "2024-04-25T02:01:49.706513Z",
     "iopub.status.idle": "2024-04-25T02:01:50.044679Z",
     "shell.execute_reply": "2024-04-25T02:01:50.043765Z"
    },
    "papermill": {
     "duration": 0.352028,
     "end_time": "2024-04-25T02:01:50.047628",
     "exception": false,
     "start_time": "2024-04-25T02:01:49.695600",
     "status": "completed"
    },
    "tags": []
   },
   "outputs": [],
   "source": [
    "DATA_DIR = '/kaggle/input/playground-series-s4e4'\n",
    "\n",
    "train = pd.read_csv(f'{DATA_DIR}/train.csv')\n",
    "test = pd.read_csv(f'{DATA_DIR}/test.csv')"
   ]
  },
  {
   "cell_type": "code",
   "execution_count": 4,
   "id": "549b15a6",
   "metadata": {
    "execution": {
     "iopub.execute_input": "2024-04-25T02:01:50.062174Z",
     "iopub.status.busy": "2024-04-25T02:01:50.061449Z",
     "iopub.status.idle": "2024-04-25T02:01:50.087827Z",
     "shell.execute_reply": "2024-04-25T02:01:50.086607Z"
    },
    "papermill": {
     "duration": 0.036873,
     "end_time": "2024-04-25T02:01:50.090797",
     "exception": false,
     "start_time": "2024-04-25T02:01:50.053924",
     "status": "completed"
    },
    "tags": []
   },
   "outputs": [],
   "source": [
    "train = train.drop('id', axis=1)\n",
    "test = test.drop('id', axis=1)"
   ]
  },
  {
   "cell_type": "code",
   "execution_count": 5,
   "id": "50cc4d2c",
   "metadata": {
    "execution": {
     "iopub.execute_input": "2024-04-25T02:01:50.106980Z",
     "iopub.status.busy": "2024-04-25T02:01:50.106253Z",
     "iopub.status.idle": "2024-04-25T02:01:50.111558Z",
     "shell.execute_reply": "2024-04-25T02:01:50.110653Z"
    },
    "papermill": {
     "duration": 0.016556,
     "end_time": "2024-04-25T02:01:50.113984",
     "exception": false,
     "start_time": "2024-04-25T02:01:50.097428",
     "status": "completed"
    },
    "tags": []
   },
   "outputs": [],
   "source": [
    "TARGET = 'Rings'\n",
    "features = [f for f in test.columns]"
   ]
  },
  {
   "cell_type": "code",
   "execution_count": 6,
   "id": "f72839cb",
   "metadata": {
    "execution": {
     "iopub.execute_input": "2024-04-25T02:01:50.129240Z",
     "iopub.status.busy": "2024-04-25T02:01:50.128112Z",
     "iopub.status.idle": "2024-04-25T02:01:50.136884Z",
     "shell.execute_reply": "2024-04-25T02:01:50.135770Z"
    },
    "papermill": {
     "duration": 0.019474,
     "end_time": "2024-04-25T02:01:50.139508",
     "exception": false,
     "start_time": "2024-04-25T02:01:50.120034",
     "status": "completed"
    },
    "tags": []
   },
   "outputs": [],
   "source": [
    "train[TARGET] = np.log1p(train[TARGET])"
   ]
  },
  {
   "cell_type": "code",
   "execution_count": 7,
   "id": "27dd79f6",
   "metadata": {
    "execution": {
     "iopub.execute_input": "2024-04-25T02:01:50.154442Z",
     "iopub.status.busy": "2024-04-25T02:01:50.154020Z",
     "iopub.status.idle": "2024-04-25T13:02:01.362511Z",
     "shell.execute_reply": "2024-04-25T13:02:01.359656Z"
    },
    "papermill": {
     "duration": 39611.219625,
     "end_time": "2024-04-25T13:02:01.365537",
     "exception": false,
     "start_time": "2024-04-25T02:01:50.145912",
     "status": "completed"
    },
    "tags": []
   },
   "outputs": [
    {
     "name": "stdout",
     "output_type": "stream",
     "text": [
      "Parse progress: |████████████████████████████████████████████████████████████████| (done) 100%\n",
      "AutoML progress: |\n",
      "02:01:55.165: Stopping tolerance set by the user is < 70% of the recommended default of 0.0033220024821015216, so models may take a long time to converge or may not converge at all.\n",
      "\n",
      "███████████████████████████████████████████████████████████████| (done) 100%\n"
     ]
    },
    {
     "data": {
      "text/html": [
       "<pre style='margin: 1em 0 1em 0;'>Model Details\n",
       "=============\n",
       "H2OStackedEnsembleEstimator : Stacked Ensemble\n",
       "Model Key: StackedEnsemble_AllModels_5_AutoML_1_20240425_20155\n",
       "</pre>\n",
       "<div style='margin: 1em 0 1em 0;'>\n",
       "<style>\n",
       "\n",
       "#h2o-table-2.h2o-container {\n",
       "  overflow-x: auto;\n",
       "}\n",
       "#h2o-table-2 .h2o-table {\n",
       "  /* width: 100%; */\n",
       "  margin-top: 1em;\n",
       "  margin-bottom: 1em;\n",
       "}\n",
       "#h2o-table-2 .h2o-table caption {\n",
       "  white-space: nowrap;\n",
       "  caption-side: top;\n",
       "  text-align: left;\n",
       "  /* margin-left: 1em; */\n",
       "  margin: 0;\n",
       "  font-size: larger;\n",
       "}\n",
       "#h2o-table-2 .h2o-table thead {\n",
       "  white-space: nowrap; \n",
       "  position: sticky;\n",
       "  top: 0;\n",
       "  box-shadow: 0 -1px inset;\n",
       "}\n",
       "#h2o-table-2 .h2o-table tbody {\n",
       "  overflow: auto;\n",
       "}\n",
       "#h2o-table-2 .h2o-table th,\n",
       "#h2o-table-2 .h2o-table td {\n",
       "  text-align: right;\n",
       "  /* border: 1px solid; */\n",
       "}\n",
       "#h2o-table-2 .h2o-table tr:nth-child(even) {\n",
       "  /* background: #F5F5F5 */\n",
       "}\n",
       "\n",
       "</style>      \n",
       "<div id=\"h2o-table-2\" class=\"h2o-container\">\n",
       "  <table class=\"h2o-table\">\n",
       "    <caption>Model Summary for Stacked Ensemble: </caption>\n",
       "    <thead><tr><th>key</th>\n",
       "<th>value</th></tr></thead>\n",
       "    <tbody><tr><td>Stacking strategy</td>\n",
       "<td>cross_validation</td></tr>\n",
       "<tr><td>Number of base models (used / total)</td>\n",
       "<td>78/78</td></tr>\n",
       "<tr><td># GBM base models (used / total)</td>\n",
       "<td>59/59</td></tr>\n",
       "<tr><td># XGBoost base models (used / total)</td>\n",
       "<td>7/7</td></tr>\n",
       "<tr><td># DRF base models (used / total)</td>\n",
       "<td>2/2</td></tr>\n",
       "<tr><td># DeepLearning base models (used / total)</td>\n",
       "<td>9/9</td></tr>\n",
       "<tr><td># GLM base models (used / total)</td>\n",
       "<td>1/1</td></tr>\n",
       "<tr><td>Metalearner algorithm</td>\n",
       "<td>GBM</td></tr>\n",
       "<tr><td>Metalearner fold assignment scheme</td>\n",
       "<td>Random</td></tr>\n",
       "<tr><td>Metalearner nfolds</td>\n",
       "<td>5</td></tr>\n",
       "<tr><td>Metalearner fold_column</td>\n",
       "<td>None</td></tr>\n",
       "<tr><td>Custom metalearner hyperparameters</td>\n",
       "<td>None</td></tr></tbody>\n",
       "  </table>\n",
       "</div>\n",
       "</div>\n",
       "<div style='margin: 1em 0 1em 0;'><pre style='margin: 1em 0 1em 0;'>ModelMetricsRegression: stackedensemble\n",
       "** Reported on train data. **\n",
       "\n",
       "MSE: 0.015400316477435835\n",
       "RMSE: 0.12409801157728449\n",
       "MAE: 0.08950204539145433\n",
       "RMSLE: 0.03834434092854711\n",
       "Mean Residual Deviance: 0.015400316477435835</pre></div>\n",
       "<div style='margin: 1em 0 1em 0;'><pre style='margin: 1em 0 1em 0;'>ModelMetricsRegression: stackedensemble\n",
       "** Reported on cross-validation data. **\n",
       "\n",
       "MSE: 0.021769325849526358\n",
       "RMSE: 0.14754431825565617\n",
       "MAE: 0.10733040070610081\n",
       "RMSLE: 0.04447519627510506\n",
       "Mean Residual Deviance: 0.021769325849526358</pre></div>\n",
       "<div style='margin: 1em 0 1em 0;'>\n",
       "<style>\n",
       "\n",
       "#h2o-table-3.h2o-container {\n",
       "  overflow-x: auto;\n",
       "}\n",
       "#h2o-table-3 .h2o-table {\n",
       "  /* width: 100%; */\n",
       "  margin-top: 1em;\n",
       "  margin-bottom: 1em;\n",
       "}\n",
       "#h2o-table-3 .h2o-table caption {\n",
       "  white-space: nowrap;\n",
       "  caption-side: top;\n",
       "  text-align: left;\n",
       "  /* margin-left: 1em; */\n",
       "  margin: 0;\n",
       "  font-size: larger;\n",
       "}\n",
       "#h2o-table-3 .h2o-table thead {\n",
       "  white-space: nowrap; \n",
       "  position: sticky;\n",
       "  top: 0;\n",
       "  box-shadow: 0 -1px inset;\n",
       "}\n",
       "#h2o-table-3 .h2o-table tbody {\n",
       "  overflow: auto;\n",
       "}\n",
       "#h2o-table-3 .h2o-table th,\n",
       "#h2o-table-3 .h2o-table td {\n",
       "  text-align: right;\n",
       "  /* border: 1px solid; */\n",
       "}\n",
       "#h2o-table-3 .h2o-table tr:nth-child(even) {\n",
       "  /* background: #F5F5F5 */\n",
       "}\n",
       "\n",
       "</style>      \n",
       "<div id=\"h2o-table-3\" class=\"h2o-container\">\n",
       "  <table class=\"h2o-table\">\n",
       "    <caption>Cross-Validation Metrics Summary: </caption>\n",
       "    <thead><tr><th></th>\n",
       "<th>mean</th>\n",
       "<th>sd</th>\n",
       "<th>cv_1_valid</th>\n",
       "<th>cv_2_valid</th>\n",
       "<th>cv_3_valid</th>\n",
       "<th>cv_4_valid</th>\n",
       "<th>cv_5_valid</th></tr></thead>\n",
       "    <tbody><tr><td>aic</td>\n",
       "<td>nan</td>\n",
       "<td>0.0</td>\n",
       "<td>nan</td>\n",
       "<td>nan</td>\n",
       "<td>nan</td>\n",
       "<td>nan</td>\n",
       "<td>nan</td></tr>\n",
       "<tr><td>loglikelihood</td>\n",
       "<td>nan</td>\n",
       "<td>0.0</td>\n",
       "<td>nan</td>\n",
       "<td>nan</td>\n",
       "<td>nan</td>\n",
       "<td>nan</td>\n",
       "<td>nan</td></tr>\n",
       "<tr><td>mae</td>\n",
       "<td>0.1073280</td>\n",
       "<td>0.0008119</td>\n",
       "<td>0.1082297</td>\n",
       "<td>0.1078453</td>\n",
       "<td>0.1076201</td>\n",
       "<td>0.1065317</td>\n",
       "<td>0.1064133</td></tr>\n",
       "<tr><td>mean_residual_deviance</td>\n",
       "<td>0.0217681</td>\n",
       "<td>0.0003343</td>\n",
       "<td>0.0220043</td>\n",
       "<td>0.0216952</td>\n",
       "<td>0.0221902</td>\n",
       "<td>0.0213408</td>\n",
       "<td>0.0216098</td></tr>\n",
       "<tr><td>mse</td>\n",
       "<td>0.0217681</td>\n",
       "<td>0.0003343</td>\n",
       "<td>0.0220043</td>\n",
       "<td>0.0216952</td>\n",
       "<td>0.0221902</td>\n",
       "<td>0.0213408</td>\n",
       "<td>0.0216098</td></tr>\n",
       "<tr><td>r2</td>\n",
       "<td>0.7329546</td>\n",
       "<td>0.0044164</td>\n",
       "<td>0.732181</td>\n",
       "<td>0.7378417</td>\n",
       "<td>0.7260346</td>\n",
       "<td>0.7334328</td>\n",
       "<td>0.7352828</td></tr>\n",
       "<tr><td>residual_deviance</td>\n",
       "<td>0.0217681</td>\n",
       "<td>0.0003343</td>\n",
       "<td>0.0220043</td>\n",
       "<td>0.0216952</td>\n",
       "<td>0.0221902</td>\n",
       "<td>0.0213408</td>\n",
       "<td>0.0216098</td></tr>\n",
       "<tr><td>rmse</td>\n",
       "<td>0.1475366</td>\n",
       "<td>0.0011326</td>\n",
       "<td>0.1483385</td>\n",
       "<td>0.1472930</td>\n",
       "<td>0.1489637</td>\n",
       "<td>0.1460848</td>\n",
       "<td>0.1470029</td></tr>\n",
       "<tr><td>rmsle</td>\n",
       "<td>0.0444696</td>\n",
       "<td>0.0006500</td>\n",
       "<td>0.0448978</td>\n",
       "<td>0.0439412</td>\n",
       "<td>0.0452701</td>\n",
       "<td>0.0437061</td>\n",
       "<td>0.0445327</td></tr></tbody>\n",
       "  </table>\n",
       "</div>\n",
       "</div><pre style=\"font-size: smaller; margin: 1em 0 0 0;\">\n",
       "\n",
       "[tips]\n",
       "Use `model.explain()` to inspect the model.\n",
       "--\n",
       "Use `h2o.display.toggle_user_tips()` to switch on/off this section.</pre>"
      ],
      "text/plain": [
       "Model Details\n",
       "=============\n",
       "H2OStackedEnsembleEstimator : Stacked Ensemble\n",
       "Model Key: StackedEnsemble_AllModels_5_AutoML_1_20240425_20155\n",
       "\n",
       "\n",
       "Model Summary for Stacked Ensemble: \n",
       "key                                        value\n",
       "-----------------------------------------  ----------------\n",
       "Stacking strategy                          cross_validation\n",
       "Number of base models (used / total)       78/78\n",
       "# GBM base models (used / total)           59/59\n",
       "# XGBoost base models (used / total)       7/7\n",
       "# DRF base models (used / total)           2/2\n",
       "# DeepLearning base models (used / total)  9/9\n",
       "# GLM base models (used / total)           1/1\n",
       "Metalearner algorithm                      GBM\n",
       "Metalearner fold assignment scheme         Random\n",
       "Metalearner nfolds                         5\n",
       "Metalearner fold_column\n",
       "Custom metalearner hyperparameters         None\n",
       "\n",
       "ModelMetricsRegression: stackedensemble\n",
       "** Reported on train data. **\n",
       "\n",
       "MSE: 0.015400316477435835\n",
       "RMSE: 0.12409801157728449\n",
       "MAE: 0.08950204539145433\n",
       "RMSLE: 0.03834434092854711\n",
       "Mean Residual Deviance: 0.015400316477435835\n",
       "\n",
       "ModelMetricsRegression: stackedensemble\n",
       "** Reported on cross-validation data. **\n",
       "\n",
       "MSE: 0.021769325849526358\n",
       "RMSE: 0.14754431825565617\n",
       "MAE: 0.10733040070610081\n",
       "RMSLE: 0.04447519627510506\n",
       "Mean Residual Deviance: 0.021769325849526358\n",
       "\n",
       "Cross-Validation Metrics Summary: \n",
       "                        mean       sd           cv_1_valid    cv_2_valid    cv_3_valid    cv_4_valid    cv_5_valid\n",
       "----------------------  ---------  -----------  ------------  ------------  ------------  ------------  ------------\n",
       "aic                     nan        0            nan           nan           nan           nan           nan\n",
       "loglikelihood           nan        0            nan           nan           nan           nan           nan\n",
       "mae                     0.107328   0.00081191   0.10823       0.107845      0.10762       0.106532      0.106413\n",
       "mean_residual_deviance  0.0217681  0.000334255  0.0220043     0.0216952     0.0221902     0.0213408     0.0216098\n",
       "mse                     0.0217681  0.000334255  0.0220043     0.0216952     0.0221902     0.0213408     0.0216098\n",
       "r2                      0.732955   0.00441639   0.732181      0.737842      0.726035      0.733433      0.735283\n",
       "residual_deviance       0.0217681  0.000334255  0.0220043     0.0216952     0.0221902     0.0213408     0.0216098\n",
       "rmse                    0.147537   0.00113263   0.148338      0.147293      0.148964      0.146085      0.147003\n",
       "rmsle                   0.0444696  0.000650034  0.0448978     0.0439412     0.0452701     0.0437061     0.0445327\n",
       "\n",
       "[tips]\n",
       "Use `model.explain()` to inspect the model.\n",
       "--\n",
       "Use `h2o.display.toggle_user_tips()` to switch on/off this section."
      ]
     },
     "execution_count": 7,
     "metadata": {},
     "output_type": "execute_result"
    }
   ],
   "source": [
    "time_limit = 60 * 60 * 11\n",
    "aml = H2OAutoML(\n",
    "    nfolds=5,\n",
    "    max_runtime_secs=time_limit,\n",
    "    stopping_metric='RMSE',\n",
    "    stopping_rounds=100,\n",
    "    stopping_tolerance=2e-4,\n",
    "    sort_metric='RMSE',\n",
    "    exploitation_ratio=0.1,\n",
    "    seed=SEED)\n",
    "\n",
    "aml.train(x=features, y=TARGET, training_frame=h2o.H2OFrame(train))"
   ]
  },
  {
   "cell_type": "code",
   "execution_count": 8,
   "id": "431f211b",
   "metadata": {
    "execution": {
     "iopub.execute_input": "2024-04-25T13:02:01.396940Z",
     "iopub.status.busy": "2024-04-25T13:02:01.395427Z",
     "iopub.status.idle": "2024-04-25T13:02:01.417017Z",
     "shell.execute_reply": "2024-04-25T13:02:01.415867Z"
    },
    "papermill": {
     "duration": 0.040181,
     "end_time": "2024-04-25T13:02:01.419592",
     "exception": false,
     "start_time": "2024-04-25T13:02:01.379411",
     "status": "completed"
    },
    "tags": []
   },
   "outputs": [
    {
     "data": {
      "text/html": [
       "<table class='dataframe'>\n",
       "<thead>\n",
       "<tr><th>model_id                                              </th><th style=\"text-align: right;\">    rmse</th><th style=\"text-align: right;\">      mse</th><th style=\"text-align: right;\">     mae</th><th style=\"text-align: right;\">    rmsle</th><th style=\"text-align: right;\">  mean_residual_deviance</th></tr>\n",
       "</thead>\n",
       "<tbody>\n",
       "<tr><td>StackedEnsemble_AllModels_5_AutoML_1_20240425_20155   </td><td style=\"text-align: right;\">0.147544</td><td style=\"text-align: right;\">0.0217693</td><td style=\"text-align: right;\">0.10733 </td><td style=\"text-align: right;\">0.0444752</td><td style=\"text-align: right;\">               0.0217693</td></tr>\n",
       "<tr><td>StackedEnsemble_AllModels_6_AutoML_1_20240425_20155   </td><td style=\"text-align: right;\">0.147842</td><td style=\"text-align: right;\">0.0218574</td><td style=\"text-align: right;\">0.107618</td><td style=\"text-align: right;\">0.0445533</td><td style=\"text-align: right;\">               0.0218574</td></tr>\n",
       "<tr><td>StackedEnsemble_BestOfFamily_7_AutoML_1_20240425_20155</td><td style=\"text-align: right;\">0.148571</td><td style=\"text-align: right;\">0.0220735</td><td style=\"text-align: right;\">0.108211</td><td style=\"text-align: right;\">0.0447371</td><td style=\"text-align: right;\">               0.0220735</td></tr>\n",
       "<tr><td>StackedEnsemble_BestOfFamily_6_AutoML_1_20240425_20155</td><td style=\"text-align: right;\">0.14864 </td><td style=\"text-align: right;\">0.0220939</td><td style=\"text-align: right;\">0.108088</td><td style=\"text-align: right;\">0.044764 </td><td style=\"text-align: right;\">               0.0220939</td></tr>\n",
       "<tr><td>StackedEnsemble_AllModels_2_AutoML_1_20240425_20155   </td><td style=\"text-align: right;\">0.148802</td><td style=\"text-align: right;\">0.0221422</td><td style=\"text-align: right;\">0.108359</td><td style=\"text-align: right;\">0.0448128</td><td style=\"text-align: right;\">               0.0221422</td></tr>\n",
       "<tr><td>StackedEnsemble_BestOfFamily_3_AutoML_1_20240425_20155</td><td style=\"text-align: right;\">0.148802</td><td style=\"text-align: right;\">0.0221422</td><td style=\"text-align: right;\">0.108361</td><td style=\"text-align: right;\">0.0448125</td><td style=\"text-align: right;\">               0.0221422</td></tr>\n",
       "<tr><td>StackedEnsemble_AllModels_4_AutoML_1_20240425_20155   </td><td style=\"text-align: right;\">0.14881 </td><td style=\"text-align: right;\">0.0221444</td><td style=\"text-align: right;\">0.108381</td><td style=\"text-align: right;\">0.0448134</td><td style=\"text-align: right;\">               0.0221444</td></tr>\n",
       "<tr><td>StackedEnsemble_AllModels_3_AutoML_1_20240425_20155   </td><td style=\"text-align: right;\">0.148811</td><td style=\"text-align: right;\">0.0221446</td><td style=\"text-align: right;\">0.108383</td><td style=\"text-align: right;\">0.0448137</td><td style=\"text-align: right;\">               0.0221446</td></tr>\n",
       "<tr><td>StackedEnsemble_Best1000_1_AutoML_1_20240425_20155    </td><td style=\"text-align: right;\">0.148815</td><td style=\"text-align: right;\">0.0221458</td><td style=\"text-align: right;\">0.108384</td><td style=\"text-align: right;\">0.0448148</td><td style=\"text-align: right;\">               0.0221458</td></tr>\n",
       "<tr><td>StackedEnsemble_BestOfFamily_4_AutoML_1_20240425_20155</td><td style=\"text-align: right;\">0.148856</td><td style=\"text-align: right;\">0.0221581</td><td style=\"text-align: right;\">0.108404</td><td style=\"text-align: right;\">0.0448268</td><td style=\"text-align: right;\">               0.0221581</td></tr>\n",
       "</tbody>\n",
       "</table><pre style='font-size: smaller; margin-bottom: 1em;'>[95 rows x 6 columns]</pre>"
      ],
      "text/plain": [
       "model_id                                                    rmse        mse       mae      rmsle    mean_residual_deviance\n",
       "------------------------------------------------------  --------  ---------  --------  ---------  ------------------------\n",
       "StackedEnsemble_AllModels_5_AutoML_1_20240425_20155     0.147544  0.0217693  0.10733   0.0444752                 0.0217693\n",
       "StackedEnsemble_AllModels_6_AutoML_1_20240425_20155     0.147842  0.0218574  0.107618  0.0445533                 0.0218574\n",
       "StackedEnsemble_BestOfFamily_7_AutoML_1_20240425_20155  0.148571  0.0220735  0.108211  0.0447371                 0.0220735\n",
       "StackedEnsemble_BestOfFamily_6_AutoML_1_20240425_20155  0.14864   0.0220939  0.108088  0.044764                  0.0220939\n",
       "StackedEnsemble_AllModels_2_AutoML_1_20240425_20155     0.148802  0.0221422  0.108359  0.0448128                 0.0221422\n",
       "StackedEnsemble_BestOfFamily_3_AutoML_1_20240425_20155  0.148802  0.0221422  0.108361  0.0448125                 0.0221422\n",
       "StackedEnsemble_AllModels_4_AutoML_1_20240425_20155     0.14881   0.0221444  0.108381  0.0448134                 0.0221444\n",
       "StackedEnsemble_AllModels_3_AutoML_1_20240425_20155     0.148811  0.0221446  0.108383  0.0448137                 0.0221446\n",
       "StackedEnsemble_Best1000_1_AutoML_1_20240425_20155      0.148815  0.0221458  0.108384  0.0448148                 0.0221458\n",
       "StackedEnsemble_BestOfFamily_4_AutoML_1_20240425_20155  0.148856  0.0221581  0.108404  0.0448268                 0.0221581\n",
       "[95 rows x 6 columns]\n"
      ]
     },
     "execution_count": 8,
     "metadata": {},
     "output_type": "execute_result"
    }
   ],
   "source": [
    "aml.leaderboard"
   ]
  },
  {
   "cell_type": "code",
   "execution_count": 9,
   "id": "b461910c",
   "metadata": {
    "execution": {
     "iopub.execute_input": "2024-04-25T13:02:01.455473Z",
     "iopub.status.busy": "2024-04-25T13:02:01.452440Z",
     "iopub.status.idle": "2024-04-25T13:10:37.011271Z",
     "shell.execute_reply": "2024-04-25T13:10:37.006750Z"
    },
    "papermill": {
     "duration": 515.595262,
     "end_time": "2024-04-25T13:10:37.028620",
     "exception": false,
     "start_time": "2024-04-25T13:02:01.433358",
     "status": "completed"
    },
    "tags": []
   },
   "outputs": [
    {
     "name": "stdout",
     "output_type": "stream",
     "text": [
      "Parse progress: |████████████████████████████████████████████████████████████████| (done) 100%\n",
      "stackedensemble prediction progress: |███████████████████████████████████████████| (done) 100%\n"
     ]
    }
   ],
   "source": [
    "test_preds = aml.leader.predict(h2o.H2OFrame(test[features]))"
   ]
  },
  {
   "cell_type": "code",
   "execution_count": 10,
   "id": "7495a0f8",
   "metadata": {
    "execution": {
     "iopub.execute_input": "2024-04-25T13:10:37.066897Z",
     "iopub.status.busy": "2024-04-25T13:10:37.065897Z",
     "iopub.status.idle": "2024-04-25T13:10:37.291177Z",
     "shell.execute_reply": "2024-04-25T13:10:37.289935Z"
    },
    "papermill": {
     "duration": 0.248819,
     "end_time": "2024-04-25T13:10:37.295001",
     "exception": false,
     "start_time": "2024-04-25T13:10:37.046182",
     "status": "completed"
    },
    "tags": []
   },
   "outputs": [
    {
     "name": "stderr",
     "output_type": "stream",
     "text": [
      "/opt/conda/lib/python3.10/site-packages/h2o/frame.py:1983: H2ODependencyWarning: Converting H2O frame to pandas dataframe using single-thread.  For faster conversion using multi-thread, install datatable (for Python 3.9 or lower), or polars and pyarrow (for Python 3.10 or above) and activate it using:\n",
      "\n",
      "with h2o.utils.threading.local_context(polars_enabled=True, datatable_enabled=True):\n",
      "    pandas_df = h2o_df.as_data_frame()\n",
      "\n",
      "  warnings.warn(\"Converting H2O frame to pandas dataframe using single-thread.  For faster conversion using\"\n"
     ]
    }
   ],
   "source": [
    "sub = pd.read_csv(f'{DATA_DIR}/sample_submission.csv')\n",
    "sub[TARGET] = test_preds.as_data_frame()\n",
    "sub[TARGET] = np.expm1(sub[TARGET]).clip(1, 29)"
   ]
  },
  {
   "cell_type": "code",
   "execution_count": 11,
   "id": "12a859b6",
   "metadata": {
    "execution": {
     "iopub.execute_input": "2024-04-25T13:10:37.351484Z",
     "iopub.status.busy": "2024-04-25T13:10:37.350456Z",
     "iopub.status.idle": "2024-04-25T13:10:37.585724Z",
     "shell.execute_reply": "2024-04-25T13:10:37.584196Z"
    },
    "papermill": {
     "duration": 0.266657,
     "end_time": "2024-04-25T13:10:37.589171",
     "exception": false,
     "start_time": "2024-04-25T13:10:37.322514",
     "status": "completed"
    },
    "tags": []
   },
   "outputs": [],
   "source": [
    "sub.to_csv('submission.csv', index=False)"
   ]
  },
  {
   "cell_type": "code",
   "execution_count": 12,
   "id": "cedda18d",
   "metadata": {
    "execution": {
     "iopub.execute_input": "2024-04-25T13:10:37.626127Z",
     "iopub.status.busy": "2024-04-25T13:10:37.625689Z",
     "iopub.status.idle": "2024-04-25T13:10:38.770568Z",
     "shell.execute_reply": "2024-04-25T13:10:38.768638Z"
    },
    "papermill": {
     "duration": 1.166811,
     "end_time": "2024-04-25T13:10:38.773820",
     "exception": false,
     "start_time": "2024-04-25T13:10:37.607009",
     "status": "completed"
    },
    "tags": []
   },
   "outputs": [
    {
     "name": "stdout",
     "output_type": "stream",
     "text": [
      "id,Rings\r\n",
      "90615,9.822501202721387\r\n",
      "90616,9.68517676070098\r\n",
      "90617,9.793030850895946\r\n",
      "90618,10.513371273182862\r\n",
      "90619,7.563179955782431\r\n",
      "90620,9.522906936581714\r\n",
      "90621,11.179117191614795\r\n",
      "90622,6.298647416541355\r\n",
      "90623,7.99118927119504\r\n"
     ]
    }
   ],
   "source": [
    "!head submission.csv"
   ]
  }
 ],
 "metadata": {
  "kaggle": {
   "accelerator": "none",
   "dataSources": [
    {
     "databundleVersionId": 8096274,
     "sourceId": 72489,
     "sourceType": "competition"
    }
   ],
   "dockerImageVersionId": 30698,
   "isGpuEnabled": false,
   "isInternetEnabled": true,
   "language": "python",
   "sourceType": "notebook"
  },
  "kernelspec": {
   "display_name": "Python 3",
   "language": "python",
   "name": "python3"
  },
  "language_info": {
   "codemirror_mode": {
    "name": "ipython",
    "version": 3
   },
   "file_extension": ".py",
   "mimetype": "text/x-python",
   "name": "python",
   "nbconvert_exporter": "python",
   "pygments_lexer": "ipython3",
   "version": "3.10.13"
  },
  "papermill": {
   "default_parameters": {},
   "duration": 40145.359184,
   "end_time": "2024-04-25T13:10:40.617573",
   "environment_variables": {},
   "exception": null,
   "input_path": "__notebook__.ipynb",
   "output_path": "__notebook__.ipynb",
   "parameters": {},
   "start_time": "2024-04-25T02:01:35.258389",
   "version": "2.5.0"
  }
 },
 "nbformat": 4,
 "nbformat_minor": 5
}
