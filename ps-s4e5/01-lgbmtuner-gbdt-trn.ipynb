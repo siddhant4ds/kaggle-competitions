{
 "cells": [
  {
   "cell_type": "code",
   "execution_count": 1,
   "id": "05a5f401",
   "metadata": {
    "_cell_guid": "b1076dfc-b9ad-4769-8c92-a6c4dae69d19",
    "_uuid": "8f2839f25d086af736a60e9eeb907d3b93b6e0e5",
    "execution": {
     "iopub.execute_input": "2024-05-01T01:49:51.932609Z",
     "iopub.status.busy": "2024-05-01T01:49:51.931691Z",
     "iopub.status.idle": "2024-05-01T01:50:09.673047Z",
     "shell.execute_reply": "2024-05-01T01:50:09.671336Z"
    },
    "papermill": {
     "duration": 17.752873,
     "end_time": "2024-05-01T01:50:09.676365",
     "exception": false,
     "start_time": "2024-05-01T01:49:51.923492",
     "status": "completed"
    },
    "tags": []
   },
   "outputs": [],
   "source": [
    "%%capture\n",
    "!pip install --upgrade optuna_integration"
   ]
  },
  {
   "cell_type": "code",
   "execution_count": 2,
   "id": "95adbc9b",
   "metadata": {
    "execution": {
     "iopub.execute_input": "2024-05-01T01:50:09.691372Z",
     "iopub.status.busy": "2024-05-01T01:50:09.690944Z",
     "iopub.status.idle": "2024-05-01T01:50:13.850873Z",
     "shell.execute_reply": "2024-05-01T01:50:13.849658Z"
    },
    "papermill": {
     "duration": 4.171278,
     "end_time": "2024-05-01T01:50:13.854058",
     "exception": false,
     "start_time": "2024-05-01T01:50:09.682780",
     "status": "completed"
    },
    "tags": []
   },
   "outputs": [],
   "source": [
    "import gc\n",
    "gc.enable()\n",
    "\n",
    "import warnings\n",
    "warnings.filterwarnings('ignore')\n",
    "\n",
    "import numpy as np\n",
    "import pandas as pd\n",
    "pd.set_option('display.max_columns', None)\n",
    "\n",
    "import optuna.integration.lightgbm as lgb\n",
    "from sklearn.model_selection import KFold\n",
    "from sklearn.metrics import r2_score\n",
    "from sklearn.base import clone\n",
    "from lightgbm import LGBMRegressor\n",
    "\n",
    "SEED = 2024"
   ]
  },
  {
   "cell_type": "code",
   "execution_count": 3,
   "id": "cbdf35f7",
   "metadata": {
    "execution": {
     "iopub.execute_input": "2024-05-01T01:50:13.870931Z",
     "iopub.status.busy": "2024-05-01T01:50:13.869773Z",
     "iopub.status.idle": "2024-05-01T01:50:18.973798Z",
     "shell.execute_reply": "2024-05-01T01:50:18.972490Z"
    },
    "papermill": {
     "duration": 5.116258,
     "end_time": "2024-05-01T01:50:18.976619",
     "exception": false,
     "start_time": "2024-05-01T01:50:13.860361",
     "status": "completed"
    },
    "tags": []
   },
   "outputs": [],
   "source": [
    "DATA_DIR = '/kaggle/input/playground-series-s4e5'\n",
    "\n",
    "train = pd.read_csv(f'{DATA_DIR}/train.csv')\n",
    "test = pd.read_csv(f'{DATA_DIR}/test.csv')\n",
    "sample_sub = pd.read_csv(f'{DATA_DIR}/sample_submission.csv')"
   ]
  },
  {
   "cell_type": "code",
   "execution_count": 4,
   "id": "7763f6d8",
   "metadata": {
    "execution": {
     "iopub.execute_input": "2024-05-01T01:50:18.990623Z",
     "iopub.status.busy": "2024-05-01T01:50:18.990148Z",
     "iopub.status.idle": "2024-05-01T01:50:18.995767Z",
     "shell.execute_reply": "2024-05-01T01:50:18.994333Z"
    },
    "papermill": {
     "duration": 0.015483,
     "end_time": "2024-05-01T01:50:18.998189",
     "exception": false,
     "start_time": "2024-05-01T01:50:18.982706",
     "status": "completed"
    },
    "tags": []
   },
   "outputs": [],
   "source": [
    "TARGET = 'FloodProbability'"
   ]
  },
  {
   "cell_type": "code",
   "execution_count": 5,
   "id": "2c5bcca0",
   "metadata": {
    "execution": {
     "iopub.execute_input": "2024-05-01T01:50:19.012827Z",
     "iopub.status.busy": "2024-05-01T01:50:19.012413Z",
     "iopub.status.idle": "2024-05-01T01:50:19.194391Z",
     "shell.execute_reply": "2024-05-01T01:50:19.193271Z"
    },
    "papermill": {
     "duration": 0.19285,
     "end_time": "2024-05-01T01:50:19.197193",
     "exception": false,
     "start_time": "2024-05-01T01:50:19.004343",
     "status": "completed"
    },
    "tags": []
   },
   "outputs": [],
   "source": [
    "train = train.drop('id', axis=1)\n",
    "test = test.drop('id', axis=1)"
   ]
  },
  {
   "cell_type": "code",
   "execution_count": 6,
   "id": "d09b04ff",
   "metadata": {
    "execution": {
     "iopub.execute_input": "2024-05-01T01:50:19.211475Z",
     "iopub.status.busy": "2024-05-01T01:50:19.211011Z",
     "iopub.status.idle": "2024-05-01T01:50:19.217211Z",
     "shell.execute_reply": "2024-05-01T01:50:19.215749Z"
    },
    "papermill": {
     "duration": 0.016561,
     "end_time": "2024-05-01T01:50:19.219950",
     "exception": false,
     "start_time": "2024-05-01T01:50:19.203389",
     "status": "completed"
    },
    "tags": []
   },
   "outputs": [],
   "source": [
    "features = list(test.columns)\n",
    "cat_features = []"
   ]
  },
  {
   "cell_type": "code",
   "execution_count": 7,
   "id": "43310393",
   "metadata": {
    "execution": {
     "iopub.execute_input": "2024-05-01T01:50:19.233712Z",
     "iopub.status.busy": "2024-05-01T01:50:19.233290Z",
     "iopub.status.idle": "2024-05-01T01:50:19.306324Z",
     "shell.execute_reply": "2024-05-01T01:50:19.305060Z"
    },
    "papermill": {
     "duration": 0.083255,
     "end_time": "2024-05-01T01:50:19.309220",
     "exception": false,
     "start_time": "2024-05-01T01:50:19.225965",
     "status": "completed"
    },
    "tags": []
   },
   "outputs": [],
   "source": [
    "# LightGBM dataset\n",
    "dtrain = lgb.Dataset(\n",
    "    data=train[features],\n",
    "    label=train[TARGET],\n",
    "    feature_name=features,\n",
    "    categorical_feature=cat_features)"
   ]
  },
  {
   "cell_type": "code",
   "execution_count": 8,
   "id": "9bed7b22",
   "metadata": {
    "execution": {
     "iopub.execute_input": "2024-05-01T01:50:19.322877Z",
     "iopub.status.busy": "2024-05-01T01:50:19.322472Z",
     "iopub.status.idle": "2024-05-01T01:50:19.329532Z",
     "shell.execute_reply": "2024-05-01T01:50:19.328257Z"
    },
    "papermill": {
     "duration": 0.016759,
     "end_time": "2024-05-01T01:50:19.332033",
     "exception": false,
     "start_time": "2024-05-01T01:50:19.315274",
     "status": "completed"
    },
    "tags": []
   },
   "outputs": [],
   "source": [
    "base_params = {\n",
    "    'objective': 'cross_entropy',\n",
    "    'metric': 'cross_entropy',\n",
    "    'learning_rate': 0.1,\n",
    "    'boosting_type': 'gbdt',\n",
    "    'force_row_wise': True,\n",
    "    'verbosity': -1,\n",
    "    'n_jobs': -1,\n",
    "    'deterministic': True,\n",
    "    'random_state': SEED\n",
    "}\n",
    "\n",
    "early_stopping = lgb.early_stopping(\n",
    "    stopping_rounds=100,\n",
    "    first_metric_only=True,\n",
    "    verbose=False,\n",
    "    min_delta=2e-4)"
   ]
  },
  {
   "cell_type": "code",
   "execution_count": 9,
   "id": "2324a963",
   "metadata": {
    "execution": {
     "iopub.execute_input": "2024-05-01T01:50:19.345606Z",
     "iopub.status.busy": "2024-05-01T01:50:19.345169Z",
     "iopub.status.idle": "2024-05-01T01:50:19.354145Z",
     "shell.execute_reply": "2024-05-01T01:50:19.353042Z"
    },
    "papermill": {
     "duration": 0.018666,
     "end_time": "2024-05-01T01:50:19.356664",
     "exception": false,
     "start_time": "2024-05-01T01:50:19.337998",
     "status": "completed"
    },
    "tags": []
   },
   "outputs": [
    {
     "name": "stderr",
     "output_type": "stream",
     "text": [
      "[I 2024-05-01 01:50:19,348] A new study created in memory with name: no-name-3790e3bd-054c-4c03-9293-d1a9d7c03dcb\n"
     ]
    }
   ],
   "source": [
    "BUDGET = 60 * 60 * 11\n",
    "NUM_FOLDS = 10\n",
    "\n",
    "tuner = lgb.LightGBMTunerCV(\n",
    "    time_budget=BUDGET,\n",
    "    optuna_seed=SEED,\n",
    "    params=base_params,\n",
    "    train_set=dtrain,\n",
    "    num_boost_round=10000,\n",
    "    folds=KFold(n_splits=NUM_FOLDS, shuffle=True, random_state=SEED),\n",
    "    seed=SEED,\n",
    "    feature_name=features,\n",
    "    categorical_feature=cat_features,\n",
    "    callbacks=[early_stopping])"
   ]
  },
  {
   "cell_type": "code",
   "execution_count": 10,
   "id": "15c52edc",
   "metadata": {
    "execution": {
     "iopub.execute_input": "2024-05-01T01:50:19.371259Z",
     "iopub.status.busy": "2024-05-01T01:50:19.370806Z",
     "iopub.status.idle": "2024-05-01T09:11:32.982116Z",
     "shell.execute_reply": "2024-05-01T09:11:32.980635Z"
    },
    "papermill": {
     "duration": 26473.655214,
     "end_time": "2024-05-01T09:11:33.018406",
     "exception": false,
     "start_time": "2024-05-01T01:50:19.363192",
     "status": "completed"
    },
    "tags": []
   },
   "outputs": [
    {
     "name": "stderr",
     "output_type": "stream",
     "text": [
      "feature_fraction, val_score: 0.688873:  14%|#4        | 1/7 [03:53<23:19, 233.20s/it][I 2024-05-01 01:54:12,583] Trial 0 finished with value: 0.688872758945179 and parameters: {'feature_fraction': 0.5}. Best is trial 0 with value: 0.688872758945179.\n",
      "feature_fraction, val_score: 0.688873:  29%|##8       | 2/7 [08:46<22:24, 268.82s/it][I 2024-05-01 01:59:06,345] Trial 1 finished with value: 0.6888912985964025 and parameters: {'feature_fraction': 0.8999999999999999}. Best is trial 0 with value: 0.688872758945179.\n",
      "feature_fraction, val_score: 0.688873:  43%|####2     | 3/7 [13:35<18:31, 277.75s/it][I 2024-05-01 02:03:54,717] Trial 2 finished with value: 0.688905462675118 and parameters: {'feature_fraction': 0.7}. Best is trial 0 with value: 0.688872758945179.\n",
      "feature_fraction, val_score: 0.688873:  57%|#####7    | 4/7 [18:24<14:07, 282.35s/it][I 2024-05-01 02:08:44,120] Trial 3 finished with value: 0.6889041264539182 and parameters: {'feature_fraction': 0.8}. Best is trial 0 with value: 0.688872758945179.\n",
      "feature_fraction, val_score: 0.688873:  71%|#######1  | 5/7 [23:15<09:30, 285.37s/it][I 2024-05-01 02:13:34,832] Trial 4 finished with value: 0.688890999589321 and parameters: {'feature_fraction': 1.0}. Best is trial 0 with value: 0.688872758945179.\n",
      "feature_fraction, val_score: 0.688873:  86%|########5 | 6/7 [27:35<04:36, 276.70s/it][I 2024-05-01 02:17:54,719] Trial 5 finished with value: 0.6888993803910501 and parameters: {'feature_fraction': 0.6}. Best is trial 0 with value: 0.688872758945179.\n",
      "feature_fraction, val_score: 0.688873: 100%|##########| 7/7 [30:41<00:00, 247.05s/it][I 2024-05-01 02:21:00,708] Trial 6 finished with value: 0.6889259022594582 and parameters: {'feature_fraction': 0.4}. Best is trial 0 with value: 0.688872758945179.\n",
      "feature_fraction, val_score: 0.688873: 100%|##########| 7/7 [30:41<00:00, 263.05s/it]\n",
      "num_leaves, val_score: 0.688873:   5%|5         | 1/20 [04:49<1:31:47, 289.85s/it][I 2024-05-01 02:25:50,573] Trial 7 finished with value: 0.6888831890359802 and parameters: {'num_leaves': 151}. Best is trial 7 with value: 0.6888831890359802.\n",
      "num_leaves, val_score: 0.688836:  10%|#         | 2/20 [10:16<1:33:28, 311.56s/it][I 2024-05-01 02:31:17,326] Trial 8 finished with value: 0.68883602268075 and parameters: {'num_leaves': 180}. Best is trial 8 with value: 0.68883602268075.\n",
      "num_leaves, val_score: 0.688814:  15%|#5        | 3/20 [14:31<1:21:00, 285.89s/it][I 2024-05-01 02:35:32,674] Trial 9 finished with value: 0.6888141226546014 and parameters: {'num_leaves': 49}. Best is trial 9 with value: 0.6888141226546014.\n",
      "num_leaves, val_score: 0.688814:  20%|##        | 4/20 [18:17<1:09:53, 262.12s/it][I 2024-05-01 02:39:18,343] Trial 10 finished with value: 0.6888285852183405 and parameters: {'num_leaves': 12}. Best is trial 9 with value: 0.6888141226546014.\n",
      "num_leaves, val_score: 0.688800:  25%|##5       | 5/20 [22:19<1:03:43, 254.92s/it][I 2024-05-01 02:43:20,508] Trial 11 finished with value: 0.6887999037633306 and parameters: {'num_leaves': 16}. Best is trial 11 with value: 0.6887999037633306.\n",
      "num_leaves, val_score: 0.688800:  30%|###       | 6/20 [26:04<57:06, 244.75s/it]  [I 2024-05-01 02:47:05,500] Trial 12 finished with value: 0.6888301998053016 and parameters: {'num_leaves': 23}. Best is trial 11 with value: 0.6887999037633306.\n",
      "num_leaves, val_score: 0.688800:  35%|###5      | 7/20 [30:14<53:24, 246.47s/it][I 2024-05-01 02:51:15,534] Trial 13 finished with value: 0.6888769572276239 and parameters: {'num_leaves': 72}. Best is trial 11 with value: 0.6887999037633306.\n",
      "num_leaves, val_score: 0.688800:  40%|####      | 8/20 [34:48<51:03, 255.25s/it][I 2024-05-01 02:55:49,585] Trial 14 finished with value: 0.6888064714983477 and parameters: {'num_leaves': 83}. Best is trial 11 with value: 0.6887999037633306.\n",
      "num_leaves, val_score: 0.688773:  45%|####5     | 9/20 [39:55<49:44, 271.36s/it][I 2024-05-01 03:00:56,358] Trial 15 finished with value: 0.6887728333316734 and parameters: {'num_leaves': 99}. Best is trial 15 with value: 0.6887728333316734.\n",
      "num_leaves, val_score: 0.688761:  50%|#####     | 10/20 [46:57<52:57, 317.74s/it][I 2024-05-01 03:07:57,943] Trial 16 finished with value: 0.6887614430732459 and parameters: {'num_leaves': 226}. Best is trial 16 with value: 0.6887614430732459.\n",
      "num_leaves, val_score: 0.688761:  55%|#####5    | 11/20 [52:33<48:30, 323.43s/it][I 2024-05-01 03:13:34,284] Trial 17 finished with value: 0.6889424286754591 and parameters: {'num_leaves': 254}. Best is trial 16 with value: 0.6887614430732459.\n",
      "num_leaves, val_score: 0.688761:  60%|######    | 12/20 [58:58<45:36, 342.02s/it][I 2024-05-01 03:19:58,835] Trial 18 finished with value: 0.6887796298312268 and parameters: {'num_leaves': 222}. Best is trial 16 with value: 0.6887614430732459.\n",
      "num_leaves, val_score: 0.688761:  65%|######5   | 13/20 [1:04:31<39:36, 339.51s/it][I 2024-05-01 03:25:32,566] Trial 19 finished with value: 0.6887621398306976 and parameters: {'num_leaves': 114}. Best is trial 16 with value: 0.6887614430732459.\n",
      "num_leaves, val_score: 0.688761:  70%|#######   | 14/20 [1:09:23<32:30, 325.02s/it][I 2024-05-01 03:30:24,100] Trial 20 finished with value: 0.6889175758085049 and parameters: {'num_leaves': 133}. Best is trial 16 with value: 0.6887614430732459.\n",
      "num_leaves, val_score: 0.688761:  75%|#######5  | 15/20 [1:14:48<27:05, 325.10s/it][I 2024-05-01 03:35:49,388] Trial 21 finished with value: 0.6887690849131556 and parameters: {'num_leaves': 102}. Best is trial 16 with value: 0.6887614430732459.\n",
      "num_leaves, val_score: 0.688761:  80%|########  | 16/20 [1:20:31<22:01, 330.47s/it][I 2024-05-01 03:41:32,328] Trial 22 finished with value: 0.6888359547729473 and parameters: {'num_leaves': 179}. Best is trial 16 with value: 0.6887614430732459.\n",
      "num_leaves, val_score: 0.688761:  85%|########5 | 17/20 [1:24:55<15:31, 310.53s/it][I 2024-05-01 03:45:56,475] Trial 23 finished with value: 0.6889276398668567 and parameters: {'num_leaves': 115}. Best is trial 16 with value: 0.6887614430732459.\n",
      "num_leaves, val_score: 0.688761:  90%|######### | 18/20 [1:29:54<10:14, 307.12s/it][I 2024-05-01 03:50:55,648] Trial 24 finished with value: 0.6888830887702139 and parameters: {'num_leaves': 154}. Best is trial 16 with value: 0.6887614430732459.\n",
      "num_leaves, val_score: 0.688761:  95%|#########5| 19/20 [1:36:03<05:25, 325.55s/it][I 2024-05-01 03:57:04,155] Trial 25 finished with value: 0.6888031706535577 and parameters: {'num_leaves': 212}. Best is trial 16 with value: 0.6887614430732459.\n",
      "num_leaves, val_score: 0.688761: 100%|##########| 20/20 [1:40:31<00:00, 308.25s/it][I 2024-05-01 04:01:32,065] Trial 26 finished with value: 0.6889367873595894 and parameters: {'num_leaves': 113}. Best is trial 16 with value: 0.6887614430732459.\n",
      "num_leaves, val_score: 0.688761: 100%|##########| 20/20 [1:40:31<00:00, 301.57s/it]\n",
      "bagging, val_score: 0.688755:  10%|#         | 1/10 [08:09<1:13:24, 489.44s/it][I 2024-05-01 04:09:41,516] Trial 27 finished with value: 0.6887546422774263 and parameters: {'bagging_fraction': 0.5736183015264869, 'bagging_freq': 3}. Best is trial 27 with value: 0.6887546422774263.\n",
      "bagging, val_score: 0.688755:  20%|##        | 2/10 [16:06<1:04:16, 482.01s/it][I 2024-05-01 04:17:38,325] Trial 28 finished with value: 0.6887550036858653 and parameters: {'bagging_fraction': 0.569487074468038, 'bagging_freq': 3}. Best is trial 27 with value: 0.6887546422774263.\n",
      "bagging, val_score: 0.688754:  30%|###       | 3/10 [23:53<55:26, 475.28s/it]  [I 2024-05-01 04:25:25,595] Trial 29 finished with value: 0.6887538073144004 and parameters: {'bagging_fraction': 0.5372094626831886, 'bagging_freq': 3}. Best is trial 29 with value: 0.6887538073144004.\n",
      "bagging, val_score: 0.688754:  40%|####      | 4/10 [31:42<47:16, 472.79s/it][I 2024-05-01 04:33:14,573] Trial 30 finished with value: 0.6887552955261051 and parameters: {'bagging_fraction': 0.548996380760551, 'bagging_freq': 3}. Best is trial 29 with value: 0.6887538073144004.\n",
      "bagging, val_score: 0.688754:  50%|#####     | 5/10 [39:19<38:56, 467.22s/it][I 2024-05-01 04:40:51,911] Trial 31 finished with value: 0.6887543212926842 and parameters: {'bagging_fraction': 0.5474172029923298, 'bagging_freq': 3}. Best is trial 29 with value: 0.6887538073144004.\n",
      "bagging, val_score: 0.688753:  60%|######    | 6/10 [46:52<30:48, 462.12s/it][I 2024-05-01 04:48:24,138] Trial 32 finished with value: 0.6887534404010224 and parameters: {'bagging_fraction': 0.5493132093411328, 'bagging_freq': 3}. Best is trial 32 with value: 0.6887534404010224.\n",
      "bagging, val_score: 0.688753:  70%|#######   | 7/10 [54:31<23:03, 461.22s/it][I 2024-05-01 04:56:03,512] Trial 33 finished with value: 0.6887551121663009 and parameters: {'bagging_fraction': 0.5438671231045064, 'bagging_freq': 3}. Best is trial 32 with value: 0.6887534404010224.\n",
      "bagging, val_score: 0.688753:  80%|########  | 8/10 [1:02:20<15:27, 463.64s/it][I 2024-05-01 05:03:52,350] Trial 34 finished with value: 0.6887538711741907 and parameters: {'bagging_fraction': 0.5391442539642481, 'bagging_freq': 3}. Best is trial 32 with value: 0.6887534404010224.\n",
      "bagging, val_score: 0.688753:  90%|######### | 9/10 [1:07:35<06:57, 417.18s/it][I 2024-05-01 05:09:07,352] Trial 35 finished with value: 0.688949102761846 and parameters: {'bagging_fraction': 0.423470105958494, 'bagging_freq': 2}. Best is trial 32 with value: 0.6887534404010224.\n",
      "bagging, val_score: 0.688753: 100%|##########| 10/10 [1:16:20<00:00, 450.42s/it][I 2024-05-01 05:17:52,198] Trial 36 finished with value: 0.6887615453813357 and parameters: {'bagging_fraction': 0.9630451260672265, 'bagging_freq': 5}. Best is trial 32 with value: 0.6887534404010224.\n",
      "bagging, val_score: 0.688753: 100%|##########| 10/10 [1:16:20<00:00, 458.01s/it]\n",
      "feature_fraction_stage2, val_score: 0.688753:  17%|#6        | 1/6 [07:43<38:38, 463.67s/it][I 2024-05-01 05:25:35,873] Trial 37 finished with value: 0.6887534404010223 and parameters: {'feature_fraction': 0.484}. Best is trial 37 with value: 0.6887534404010223.\n",
      "feature_fraction_stage2, val_score: 0.688753:  33%|###3      | 2/6 [14:23<28:24, 426.08s/it][I 2024-05-01 05:32:15,650] Trial 38 finished with value: 0.68877753778582 and parameters: {'feature_fraction': 0.45199999999999996}. Best is trial 37 with value: 0.6887534404010223.\n",
      "feature_fraction_stage2, val_score: 0.688753:  50%|#####     | 3/6 [20:37<20:06, 402.23s/it][I 2024-05-01 05:38:29,500] Trial 39 finished with value: 0.6887948125344654 and parameters: {'feature_fraction': 0.42}. Best is trial 37 with value: 0.6887534404010223.\n",
      "feature_fraction_stage2, val_score: 0.688753:  67%|######6   | 4/6 [28:18<14:11, 425.68s/it][I 2024-05-01 05:46:11,121] Trial 40 finished with value: 0.6887534404010224 and parameters: {'feature_fraction': 0.516}. Best is trial 37 with value: 0.6887534404010223.\n",
      "feature_fraction_stage2, val_score: 0.688753:  83%|########3 | 5/6 [33:56<06:34, 394.09s/it][I 2024-05-01 05:51:49,198] Trial 41 finished with value: 0.688943967856303 and parameters: {'feature_fraction': 0.5479999999999999}. Best is trial 37 with value: 0.6887534404010223.\n",
      "feature_fraction_stage2, val_score: 0.688753: 100%|##########| 6/6 [40:01<00:00, 384.19s/it][I 2024-05-01 05:57:54,180] Trial 42 finished with value: 0.6889423362739813 and parameters: {'feature_fraction': 0.58}. Best is trial 37 with value: 0.6887534404010223.\n",
      "feature_fraction_stage2, val_score: 0.688753: 100%|##########| 6/6 [40:01<00:00, 400.33s/it]\n",
      "regularization_factors, val_score: 0.688753:   5%|5         | 1/20 [07:45<2:27:29, 465.74s/it][I 2024-05-01 06:05:39,935] Trial 43 finished with value: 0.6887534364728969 and parameters: {'lambda_l1': 4.020448680588366e-06, 'lambda_l2': 5.063045298563952e-06}. Best is trial 43 with value: 0.6887534364728969.\n",
      "regularization_factors, val_score: 0.688753:  10%|#         | 2/20 [15:25<2:18:39, 462.18s/it][I 2024-05-01 06:13:19,620] Trial 44 finished with value: 0.6887534364691673 and parameters: {'lambda_l1': 3.485829307948253e-06, 'lambda_l2': 2.816150674907995e-06}. Best is trial 44 with value: 0.6887534364691673.\n",
      "regularization_factors, val_score: 0.688753:  15%|#5        | 3/20 [23:03<2:10:27, 460.43s/it][I 2024-05-01 06:20:57,955] Trial 45 finished with value: 0.6887534404087825 and parameters: {'lambda_l1': 1.1432519221803943e-06, 'lambda_l2': 3.427460308826897e-06}. Best is trial 44 with value: 0.6887534364691673.\n",
      "regularization_factors, val_score: 0.688753:  20%|##        | 4/20 [30:48<2:03:13, 462.11s/it][I 2024-05-01 06:28:42,647] Trial 46 finished with value: 0.6887533557356462 and parameters: {'lambda_l1': 8.420233601645312e-06, 'lambda_l2': 4.26732019886612e-06}. Best is trial 46 with value: 0.6887533557356462.\n",
      "regularization_factors, val_score: 0.688753:  25%|##5       | 5/20 [38:32<1:55:39, 462.65s/it][I 2024-05-01 06:36:26,240] Trial 47 finished with value: 0.688753370275722 and parameters: {'lambda_l1': 7.190732764301158e-06, 'lambda_l2': 4.121830207506622e-06}. Best is trial 46 with value: 0.6887533557356462.\n",
      "regularization_factors, val_score: 0.688753:  30%|###       | 6/20 [46:06<1:47:19, 459.97s/it][I 2024-05-01 06:44:01,010] Trial 48 finished with value: 0.6887533662088734 and parameters: {'lambda_l1': 1.0263050646631147e-05, 'lambda_l2': 4.499834948740584e-06}. Best is trial 46 with value: 0.6887533557356462.\n",
      "regularization_factors, val_score: 0.688753:  35%|###5      | 7/20 [53:57<1:40:26, 463.54s/it][I 2024-05-01 06:51:51,919] Trial 49 finished with value: 0.6887533702764429 and parameters: {'lambda_l1': 7.3058277831686105e-06, 'lambda_l2': 3.6782611183518183e-06}. Best is trial 46 with value: 0.6887533557356462.\n",
      "regularization_factors, val_score: 0.688753:  40%|####      | 8/20 [1:01:35<1:32:20, 461.74s/it][I 2024-05-01 06:59:29,806] Trial 50 finished with value: 0.688753355742534 and parameters: {'lambda_l1': 9.475914647566619e-06, 'lambda_l2': 2.5577552865010133e-06}. Best is trial 46 with value: 0.6887533557356462.\n",
      "regularization_factors, val_score: 0.688753:  45%|####5     | 9/20 [1:09:07<1:24:03, 458.53s/it][I 2024-05-01 07:07:01,285] Trial 51 finished with value: 0.6887533662133247 and parameters: {'lambda_l1': 1.094543925763943e-05, 'lambda_l2': 3.3289784124435597e-06}. Best is trial 46 with value: 0.6887533557356462.\n",
      "regularization_factors, val_score: 0.688753:  50%|#####     | 10/20 [1:16:43<1:16:19, 457.92s/it][I 2024-05-01 07:14:37,839] Trial 52 finished with value: 0.6887534410028218 and parameters: {'lambda_l1': 2.1028412623979438e-05, 'lambda_l2': 3.204975428817765e-06}. Best is trial 46 with value: 0.6887533557356462.\n",
      "regularization_factors, val_score: 0.688753:  55%|#####5    | 11/20 [1:24:24<1:08:50, 458.89s/it][I 2024-05-01 07:22:18,933] Trial 53 finished with value: 0.6887533532002494 and parameters: {'lambda_l1': 1.5050311565995253e-05, 'lambda_l2': 2.817933824696784e-06}. Best is trial 53 with value: 0.6887533532002494.\n",
      "regularization_factors, val_score: 0.688753:  60%|######    | 12/20 [1:32:22<1:01:58, 464.77s/it][I 2024-05-01 07:30:17,139] Trial 54 finished with value: 0.6887533586224495 and parameters: {'lambda_l1': 3.580388016083457e-05, 'lambda_l2': 2.6896112063041003e-06}. Best is trial 53 with value: 0.6887533532002494.\n",
      "regularization_factors, val_score: 0.688753:  65%|######5   | 13/20 [1:40:15<54:30, 467.25s/it]  [I 2024-05-01 07:38:10,111] Trial 55 finished with value: 0.688754070959354 and parameters: {'lambda_l1': 0.0003685855806939999, 'lambda_l2': 7.209195133257666e-08}. Best is trial 53 with value: 0.6887533532002494.\n",
      "regularization_factors, val_score: 0.688753:  70%|#######   | 14/20 [1:47:59<46:36, 466.15s/it][I 2024-05-01 07:45:53,723] Trial 56 finished with value: 0.6887535766949819 and parameters: {'lambda_l1': 7.557307077471453e-05, 'lambda_l2': 0.00034287548143343774}. Best is trial 53 with value: 0.6887533532002494.\n",
      "regularization_factors, val_score: 0.688753:  75%|#######5  | 15/20 [1:56:18<39:39, 475.91s/it][I 2024-05-01 07:54:12,251] Trial 57 finished with value: 0.6887622246313081 and parameters: {'lambda_l1': 0.09880709090124395, 'lambda_l2': 3.413139895685783}. Best is trial 53 with value: 0.6887533532002494.\n",
      "regularization_factors, val_score: 0.688753:  80%|########  | 16/20 [2:04:15<31:45, 476.29s/it][I 2024-05-01 08:02:09,414] Trial 58 finished with value: 0.688754132451863 and parameters: {'lambda_l1': 0.00023099714190358704, 'lambda_l2': 0.0001162491976080668}. Best is trial 53 with value: 0.6887533532002494.\n",
      "regularization_factors, val_score: 0.688753:  85%|########5 | 17/20 [2:12:03<23:41, 473.84s/it][I 2024-05-01 08:09:57,553] Trial 59 finished with value: 0.6887534404021676 and parameters: {'lambda_l1': 1.7359854102933934e-07, 'lambda_l2': 1.7307220024977653e-07}. Best is trial 53 with value: 0.6887533532002494.\n",
      "regularization_factors, val_score: 0.688753:  90%|######### | 18/20 [2:19:44<15:40, 470.17s/it][I 2024-05-01 08:17:39,176] Trial 60 finished with value: 0.6887534872841081 and parameters: {'lambda_l1': 9.72015741422043e-05, 'lambda_l2': 8.89308477913671e-05}. Best is trial 53 with value: 0.6887533532002494.\n",
      "regularization_factors, val_score: 0.688753:  95%|#########5| 19/20 [2:27:48<07:54, 474.27s/it][I 2024-05-01 08:25:43,016] Trial 61 finished with value: 0.6887533532035715 and parameters: {'lambda_l1': 1.557637171827344e-05, 'lambda_l2': 9.101595670380053e-07}. Best is trial 53 with value: 0.6887533532002494.\n",
      "regularization_factors, val_score: 0.688753: 100%|##########| 20/20 [2:35:26<00:00, 469.14s/it][I 2024-05-01 08:33:20,192] Trial 62 finished with value: 0.6887534285157061 and parameters: {'lambda_l1': 2.6316308560173137e-05, 'lambda_l2': 4.6697006871370074e-07}. Best is trial 53 with value: 0.6887533532002494.\n",
      "regularization_factors, val_score: 0.688753: 100%|##########| 20/20 [2:35:26<00:00, 466.30s/it]\n",
      "min_child_samples, val_score: 0.688753:  20%|##        | 1/5 [07:34<30:18, 454.67s/it][I 2024-05-01 08:40:54,871] Trial 63 finished with value: 0.6887537000251494 and parameters: {'min_child_samples': 25}. Best is trial 63 with value: 0.6887537000251494.\n",
      "min_child_samples, val_score: 0.688753:  40%|####      | 2/5 [15:04<22:34, 451.64s/it][I 2024-05-01 08:48:24,384] Trial 64 finished with value: 0.688753323942672 and parameters: {'min_child_samples': 10}. Best is trial 64 with value: 0.688753323942672.\n",
      "min_child_samples, val_score: 0.688753:  60%|######    | 3/5 [22:41<15:08, 454.03s/it][I 2024-05-01 08:56:01,269] Trial 65 finished with value: 0.6887534327862072 and parameters: {'min_child_samples': 5}. Best is trial 64 with value: 0.688753323942672.\n",
      "min_child_samples, val_score: 0.688753:  80%|########  | 4/5 [30:31<07:40, 460.59s/it][I 2024-05-01 09:03:51,904] Trial 66 finished with value: 0.6887540118378505 and parameters: {'min_child_samples': 100}. Best is trial 64 with value: 0.688753323942672.\n",
      "min_child_samples, val_score: 0.688753: 100%|##########| 5/5 [38:12<00:00, 460.76s/it][I 2024-05-01 09:11:32,974] Trial 67 finished with value: 0.6887536907640348 and parameters: {'min_child_samples': 50}. Best is trial 64 with value: 0.688753323942672.\n",
      "min_child_samples, val_score: 0.688753: 100%|##########| 5/5 [38:12<00:00, 458.56s/it]"
     ]
    },
    {
     "name": "stdout",
     "output_type": "stream",
     "text": [
      "CPU times: user 20h 9min 12s, sys: 1h 30min 27s, total: 21h 39min 40s\n",
      "Wall time: 7h 21min 13s\n"
     ]
    },
    {
     "name": "stderr",
     "output_type": "stream",
     "text": [
      "\n"
     ]
    }
   ],
   "source": [
    "%%time\n",
    "tuner.run()"
   ]
  },
  {
   "cell_type": "code",
   "execution_count": 11,
   "id": "08ac8c71",
   "metadata": {
    "execution": {
     "iopub.execute_input": "2024-05-01T09:11:33.205969Z",
     "iopub.status.busy": "2024-05-01T09:11:33.205524Z",
     "iopub.status.idle": "2024-05-01T09:11:33.222966Z",
     "shell.execute_reply": "2024-05-01T09:11:33.222093Z"
    },
    "papermill": {
     "duration": 0.17306,
     "end_time": "2024-05-01T09:11:33.225284",
     "exception": false,
     "start_time": "2024-05-01T09:11:33.052224",
     "status": "completed"
    },
    "tags": []
   },
   "outputs": [],
   "source": [
    "def comp_metric(y_true, y_pred):\n",
    "    return r2_score(y_true, y_pred)\n",
    "\n",
    "def custom_cv(estimator, seed=SEED, verbose=True):\n",
    "    X_test = test[features]\n",
    "    \n",
    "    oof_preds, test_preds = {}, {}\n",
    "    scores = []\n",
    "\n",
    "    cv = KFold(n_splits=NUM_FOLDS, shuffle=True, random_state=seed)\n",
    "    for fold, (train_ids, val_ids) in enumerate(cv.split(train)):\n",
    "        X_train, y_train = train[features].iloc[train_ids], train[TARGET].iloc[train_ids]\n",
    "        X_val, y_val = train[features].iloc[val_ids], train[TARGET].iloc[val_ids]\n",
    "        \n",
    "        model = clone(estimator)\n",
    "        model.fit(\n",
    "            X_train, y_train,\n",
    "            eval_set=[(X_val, y_val)],\n",
    "            callbacks=[early_stopping])\n",
    "\n",
    "        val_preds = model.predict(X_val)\n",
    "        oof_preds.update(dict(zip(val_ids, val_preds)))\n",
    "        test_preds[f'fold{fold}'] = model.predict(X_test)\n",
    "\n",
    "        score = comp_metric(y_val, val_preds)\n",
    "        scores.append(score)\n",
    "        if verbose:\n",
    "            print(f'Fold #{fold:>2}: {score:.5f} ({model.best_iteration_:>4} rounds)')\n",
    "        _ = gc.collect()\n",
    "\n",
    "    test_preds = pd.DataFrame.from_dict(test_preds)\n",
    "    test_preds['mean'] = test_preds.mean(axis=1) # mean of fold-wise predictions\n",
    "    \n",
    "    oof_preds = pd.Series(oof_preds).sort_index()\n",
    "    print(f'\\nAvg score: {np.mean(scores):.5f} +/- {np.std(scores):.5f}')\n",
    "    print(f'OOF score: {comp_metric(train[TARGET], oof_preds):.5f}\\n')\n",
    "    \n",
    "    return oof_preds, test_preds"
   ]
  },
  {
   "cell_type": "code",
   "execution_count": 12,
   "id": "5e174e08",
   "metadata": {
    "execution": {
     "iopub.execute_input": "2024-05-01T09:11:33.294129Z",
     "iopub.status.busy": "2024-05-01T09:11:33.292858Z",
     "iopub.status.idle": "2024-05-01T09:29:22.079229Z",
     "shell.execute_reply": "2024-05-01T09:29:22.078134Z"
    },
    "papermill": {
     "duration": 1068.823642,
     "end_time": "2024-05-01T09:29:22.081973",
     "exception": false,
     "start_time": "2024-05-01T09:11:33.258331",
     "status": "completed"
    },
    "tags": []
   },
   "outputs": [
    {
     "name": "stdout",
     "output_type": "stream",
     "text": [
      "Fold # 0: 0.83183 ( 160 rounds)\n",
      "Fold # 1: 0.83132 ( 163 rounds)\n",
      "Fold # 2: 0.83267 ( 166 rounds)\n",
      "Fold # 3: 0.82722 ( 121 rounds)\n",
      "Fold # 4: 0.83285 ( 163 rounds)\n",
      "Fold # 5: 0.83144 ( 166 rounds)\n",
      "Fold # 6: 0.83217 ( 164 rounds)\n",
      "Fold # 7: 0.83138 ( 164 rounds)\n",
      "Fold # 8: 0.83267 ( 168 rounds)\n",
      "Fold # 9: 0.83174 ( 171 rounds)\n",
      "\n",
      "Avg score: 0.83153 +/- 0.00153\n",
      "OOF score: 0.83153\n",
      "\n",
      "CPU times: user 17min 47s, sys: 1.57 s, total: 17min 48s\n",
      "Wall time: 17min 48s\n"
     ]
    }
   ],
   "source": [
    "%%time\n",
    "model = LGBMRegressor(**tuner.best_params, n_estimators=10000)\n",
    "op, tp = custom_cv(model)"
   ]
  },
  {
   "cell_type": "code",
   "execution_count": 13,
   "id": "314d02dc",
   "metadata": {
    "execution": {
     "iopub.execute_input": "2024-05-01T09:29:22.153290Z",
     "iopub.status.busy": "2024-05-01T09:29:22.152865Z",
     "iopub.status.idle": "2024-05-01T09:29:22.159615Z",
     "shell.execute_reply": "2024-05-01T09:29:22.158313Z"
    },
    "papermill": {
     "duration": 0.045967,
     "end_time": "2024-05-01T09:29:22.162157",
     "exception": false,
     "start_time": "2024-05-01T09:29:22.116190",
     "status": "completed"
    },
    "tags": []
   },
   "outputs": [],
   "source": [
    "def create_submission_files(preds, notebook='01'):\n",
    "    for col in preds.columns:\n",
    "        sub = sample_sub.copy()\n",
    "        sub[TARGET] = preds[col]\n",
    "        sub.to_csv(f'nb{notebook}_{col}.csv', index=False)"
   ]
  },
  {
   "cell_type": "code",
   "execution_count": 14,
   "id": "f62e6d31",
   "metadata": {
    "execution": {
     "iopub.execute_input": "2024-05-01T09:29:22.233138Z",
     "iopub.status.busy": "2024-05-01T09:29:22.231991Z",
     "iopub.status.idle": "2024-05-01T09:29:50.197262Z",
     "shell.execute_reply": "2024-05-01T09:29:50.196014Z"
    },
    "papermill": {
     "duration": 28.003634,
     "end_time": "2024-05-01T09:29:50.200242",
     "exception": false,
     "start_time": "2024-05-01T09:29:22.196608",
     "status": "completed"
    },
    "tags": []
   },
   "outputs": [],
   "source": [
    "create_submission_files(tp)"
   ]
  },
  {
   "cell_type": "code",
   "execution_count": 15,
   "id": "a944ceb6",
   "metadata": {
    "execution": {
     "iopub.execute_input": "2024-05-01T09:29:50.271288Z",
     "iopub.status.busy": "2024-05-01T09:29:50.270099Z",
     "iopub.status.idle": "2024-05-01T09:29:51.442160Z",
     "shell.execute_reply": "2024-05-01T09:29:51.440522Z"
    },
    "papermill": {
     "duration": 1.210069,
     "end_time": "2024-05-01T09:29:51.444783",
     "exception": false,
     "start_time": "2024-05-01T09:29:50.234714",
     "status": "completed"
    },
    "tags": []
   },
   "outputs": [
    {
     "name": "stdout",
     "output_type": "stream",
     "text": [
      "id,FloodProbability\r\n",
      "1117957,0.5717070140324105\r\n",
      "1117958,0.45579592025609905\r\n",
      "1117959,0.45906267397303846\r\n",
      "1117960,0.46471542294081275\r\n",
      "1117961,0.4619216507686626\r\n",
      "1117962,0.5071689486221109\r\n",
      "1117963,0.5399385437014499\r\n",
      "1117964,0.5274901201516882\r\n",
      "1117965,0.4684161270538416\r\n"
     ]
    }
   ],
   "source": [
    "!head nb01_mean.csv"
   ]
  }
 ],
 "metadata": {
  "kaggle": {
   "accelerator": "none",
   "dataSources": [
    {
     "databundleVersionId": 8121328,
     "sourceId": 73278,
     "sourceType": "competition"
    },
    {
     "datasetId": 4219453,
     "sourceId": 7277740,
     "sourceType": "datasetVersion"
    }
   ],
   "dockerImageVersionId": 30698,
   "isGpuEnabled": false,
   "isInternetEnabled": true,
   "language": "python",
   "sourceType": "notebook"
  },
  "kernelspec": {
   "display_name": "Python 3",
   "language": "python",
   "name": "python3"
  },
  "language_info": {
   "codemirror_mode": {
    "name": "ipython",
    "version": 3
   },
   "file_extension": ".py",
   "mimetype": "text/x-python",
   "name": "python",
   "nbconvert_exporter": "python",
   "pygments_lexer": "ipython3",
   "version": "3.10.13"
  },
  "papermill": {
   "default_parameters": {},
   "duration": 27604.078504,
   "end_time": "2024-05-01T09:29:52.573241",
   "environment_variables": {},
   "exception": null,
   "input_path": "__notebook__.ipynb",
   "output_path": "__notebook__.ipynb",
   "parameters": {},
   "start_time": "2024-05-01T01:49:48.494737",
   "version": "2.5.0"
  }
 },
 "nbformat": 4,
 "nbformat_minor": 5
}
