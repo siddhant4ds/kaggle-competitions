{
 "cells": [
  {
   "cell_type": "code",
   "execution_count": 1,
   "id": "fd069618",
   "metadata": {
    "_cell_guid": "b1076dfc-b9ad-4769-8c92-a6c4dae69d19",
    "_uuid": "8f2839f25d086af736a60e9eeb907d3b93b6e0e5",
    "execution": {
     "iopub.execute_input": "2024-05-01T14:30:42.256218Z",
     "iopub.status.busy": "2024-05-01T14:30:42.255797Z",
     "iopub.status.idle": "2024-05-01T14:30:58.744653Z",
     "shell.execute_reply": "2024-05-01T14:30:58.743187Z"
    },
    "papermill": {
     "duration": 16.500249,
     "end_time": "2024-05-01T14:30:58.747869",
     "exception": false,
     "start_time": "2024-05-01T14:30:42.247620",
     "status": "completed"
    },
    "tags": []
   },
   "outputs": [],
   "source": [
    "%%capture\n",
    "!pip install --upgrade optuna_integration"
   ]
  },
  {
   "cell_type": "code",
   "execution_count": 2,
   "id": "d33a29a2",
   "metadata": {
    "execution": {
     "iopub.execute_input": "2024-05-01T14:30:58.762608Z",
     "iopub.status.busy": "2024-05-01T14:30:58.762135Z",
     "iopub.status.idle": "2024-05-01T14:31:02.458209Z",
     "shell.execute_reply": "2024-05-01T14:31:02.456684Z"
    },
    "papermill": {
     "duration": 3.706711,
     "end_time": "2024-05-01T14:31:02.461201",
     "exception": false,
     "start_time": "2024-05-01T14:30:58.754490",
     "status": "completed"
    },
    "tags": []
   },
   "outputs": [],
   "source": [
    "import gc\n",
    "gc.enable()\n",
    "\n",
    "import warnings\n",
    "warnings.filterwarnings('ignore')\n",
    "\n",
    "import numpy as np\n",
    "import pandas as pd\n",
    "pd.set_option('display.max_columns', None)\n",
    "\n",
    "import optuna.integration.lightgbm as lgb\n",
    "from sklearn.model_selection import KFold\n",
    "from sklearn.metrics import r2_score\n",
    "from sklearn.base import clone\n",
    "from lightgbm import LGBMRegressor\n",
    "\n",
    "SEED = 2024"
   ]
  },
  {
   "cell_type": "code",
   "execution_count": 3,
   "id": "a447ebdc",
   "metadata": {
    "execution": {
     "iopub.execute_input": "2024-05-01T14:31:02.475639Z",
     "iopub.status.busy": "2024-05-01T14:31:02.475007Z",
     "iopub.status.idle": "2024-05-01T14:31:06.749801Z",
     "shell.execute_reply": "2024-05-01T14:31:06.748501Z"
    },
    "papermill": {
     "duration": 4.285494,
     "end_time": "2024-05-01T14:31:06.753066",
     "exception": false,
     "start_time": "2024-05-01T14:31:02.467572",
     "status": "completed"
    },
    "tags": []
   },
   "outputs": [],
   "source": [
    "DATA_DIR = '/kaggle/input/playground-series-s4e5'\n",
    "\n",
    "train = pd.read_csv(f'{DATA_DIR}/train.csv')\n",
    "test = pd.read_csv(f'{DATA_DIR}/test.csv')\n",
    "sample_sub = pd.read_csv(f'{DATA_DIR}/sample_submission.csv')"
   ]
  },
  {
   "cell_type": "code",
   "execution_count": 4,
   "id": "419a2247",
   "metadata": {
    "execution": {
     "iopub.execute_input": "2024-05-01T14:31:06.767765Z",
     "iopub.status.busy": "2024-05-01T14:31:06.766559Z",
     "iopub.status.idle": "2024-05-01T14:31:06.771924Z",
     "shell.execute_reply": "2024-05-01T14:31:06.770798Z"
    },
    "papermill": {
     "duration": 0.014934,
     "end_time": "2024-05-01T14:31:06.774248",
     "exception": false,
     "start_time": "2024-05-01T14:31:06.759314",
     "status": "completed"
    },
    "tags": []
   },
   "outputs": [],
   "source": [
    "TARGET = 'FloodProbability'"
   ]
  },
  {
   "cell_type": "code",
   "execution_count": 5,
   "id": "191fedde",
   "metadata": {
    "execution": {
     "iopub.execute_input": "2024-05-01T14:31:06.788484Z",
     "iopub.status.busy": "2024-05-01T14:31:06.788051Z",
     "iopub.status.idle": "2024-05-01T14:31:06.917199Z",
     "shell.execute_reply": "2024-05-01T14:31:06.916068Z"
    },
    "papermill": {
     "duration": 0.13933,
     "end_time": "2024-05-01T14:31:06.920029",
     "exception": false,
     "start_time": "2024-05-01T14:31:06.780699",
     "status": "completed"
    },
    "tags": []
   },
   "outputs": [],
   "source": [
    "train = train.drop('id', axis=1)\n",
    "test = test.drop('id', axis=1)"
   ]
  },
  {
   "cell_type": "code",
   "execution_count": 6,
   "id": "3b89a925",
   "metadata": {
    "execution": {
     "iopub.execute_input": "2024-05-01T14:31:06.933957Z",
     "iopub.status.busy": "2024-05-01T14:31:06.933555Z",
     "iopub.status.idle": "2024-05-01T14:31:06.938597Z",
     "shell.execute_reply": "2024-05-01T14:31:06.937518Z"
    },
    "papermill": {
     "duration": 0.014846,
     "end_time": "2024-05-01T14:31:06.941123",
     "exception": false,
     "start_time": "2024-05-01T14:31:06.926277",
     "status": "completed"
    },
    "tags": []
   },
   "outputs": [],
   "source": [
    "features = list(test.columns)\n",
    "cat_features = []"
   ]
  },
  {
   "cell_type": "code",
   "execution_count": 7,
   "id": "da20658c",
   "metadata": {
    "execution": {
     "iopub.execute_input": "2024-05-01T14:31:06.954808Z",
     "iopub.status.busy": "2024-05-01T14:31:06.954402Z",
     "iopub.status.idle": "2024-05-01T14:31:07.533574Z",
     "shell.execute_reply": "2024-05-01T14:31:07.532375Z"
    },
    "papermill": {
     "duration": 0.589256,
     "end_time": "2024-05-01T14:31:07.536462",
     "exception": false,
     "start_time": "2024-05-01T14:31:06.947206",
     "status": "completed"
    },
    "tags": []
   },
   "outputs": [],
   "source": [
    "train['sum_all'] = train[features].sum(axis=1)\n",
    "test['sum_all'] = test[features].sum(axis=1)\n",
    "\n",
    "features = list(test.columns)"
   ]
  },
  {
   "cell_type": "code",
   "execution_count": 8,
   "id": "72693d6e",
   "metadata": {
    "execution": {
     "iopub.execute_input": "2024-05-01T14:31:07.550641Z",
     "iopub.status.busy": "2024-05-01T14:31:07.550190Z",
     "iopub.status.idle": "2024-05-01T14:31:07.627020Z",
     "shell.execute_reply": "2024-05-01T14:31:07.624942Z"
    },
    "papermill": {
     "duration": 0.088101,
     "end_time": "2024-05-01T14:31:07.630771",
     "exception": false,
     "start_time": "2024-05-01T14:31:07.542670",
     "status": "completed"
    },
    "tags": []
   },
   "outputs": [],
   "source": [
    "# LightGBM dataset\n",
    "dtrain = lgb.Dataset(\n",
    "    data=train[features],\n",
    "    label=train[TARGET],\n",
    "    feature_name=features,\n",
    "    categorical_feature=cat_features)"
   ]
  },
  {
   "cell_type": "code",
   "execution_count": 9,
   "id": "77942f1e",
   "metadata": {
    "execution": {
     "iopub.execute_input": "2024-05-01T14:31:07.649166Z",
     "iopub.status.busy": "2024-05-01T14:31:07.648776Z",
     "iopub.status.idle": "2024-05-01T14:31:07.658343Z",
     "shell.execute_reply": "2024-05-01T14:31:07.656793Z"
    },
    "papermill": {
     "duration": 0.022597,
     "end_time": "2024-05-01T14:31:07.662012",
     "exception": false,
     "start_time": "2024-05-01T14:31:07.639415",
     "status": "completed"
    },
    "tags": []
   },
   "outputs": [],
   "source": [
    "base_params = {\n",
    "    'objective': 'cross_entropy',\n",
    "    'metric': 'cross_entropy',\n",
    "    'learning_rate': 0.1,\n",
    "    'boosting_type': 'gbdt',\n",
    "    'force_row_wise': True,\n",
    "    'verbosity': -1,\n",
    "    'n_jobs': -1,\n",
    "    'deterministic': True,\n",
    "    'random_state': SEED\n",
    "}\n",
    "\n",
    "early_stopping = lgb.early_stopping(\n",
    "    stopping_rounds=100,\n",
    "    first_metric_only=True,\n",
    "    verbose=False,\n",
    "    min_delta=2e-4)"
   ]
  },
  {
   "cell_type": "code",
   "execution_count": 10,
   "id": "6f8e6f24",
   "metadata": {
    "execution": {
     "iopub.execute_input": "2024-05-01T14:31:07.679362Z",
     "iopub.status.busy": "2024-05-01T14:31:07.678822Z",
     "iopub.status.idle": "2024-05-01T14:31:07.691144Z",
     "shell.execute_reply": "2024-05-01T14:31:07.689943Z"
    },
    "papermill": {
     "duration": 0.023176,
     "end_time": "2024-05-01T14:31:07.693713",
     "exception": false,
     "start_time": "2024-05-01T14:31:07.670537",
     "status": "completed"
    },
    "tags": []
   },
   "outputs": [
    {
     "name": "stderr",
     "output_type": "stream",
     "text": [
      "[I 2024-05-01 14:31:07,684] A new study created in memory with name: no-name-a5d60082-430e-4ec1-bfdd-ad8be18c7efb\n"
     ]
    }
   ],
   "source": [
    "BUDGET = 60 * 60 * 7\n",
    "NUM_FOLDS = 10\n",
    "\n",
    "tuner = lgb.LightGBMTunerCV(\n",
    "    time_budget=BUDGET,\n",
    "    optuna_seed=SEED,\n",
    "    params=base_params,\n",
    "    train_set=dtrain,\n",
    "    num_boost_round=10000,\n",
    "    folds=KFold(n_splits=NUM_FOLDS, shuffle=True, random_state=SEED),\n",
    "    seed=SEED,\n",
    "    feature_name=features,\n",
    "    categorical_feature=cat_features,\n",
    "    callbacks=[early_stopping])"
   ]
  },
  {
   "cell_type": "code",
   "execution_count": 11,
   "id": "1f6b7b04",
   "metadata": {
    "execution": {
     "iopub.execute_input": "2024-05-01T14:31:07.708245Z",
     "iopub.status.busy": "2024-05-01T14:31:07.707873Z",
     "iopub.status.idle": "2024-05-01T18:06:02.896903Z",
     "shell.execute_reply": "2024-05-01T18:06:02.895893Z"
    },
    "papermill": {
     "duration": 12895.22807,
     "end_time": "2024-05-01T18:06:02.928291",
     "exception": false,
     "start_time": "2024-05-01T14:31:07.700221",
     "status": "completed"
    },
    "tags": []
   },
   "outputs": [
    {
     "name": "stderr",
     "output_type": "stream",
     "text": [
      "feature_fraction, val_score: 0.688707:  14%|#4        | 1/7 [02:12<13:16, 132.70s/it][I 2024-05-01 14:33:20,421] Trial 0 finished with value: 0.6887071506968017 and parameters: {'feature_fraction': 0.5}. Best is trial 0 with value: 0.6887071506968017.\n",
      "feature_fraction, val_score: 0.688595:  29%|##8       | 2/7 [04:42<11:53, 142.78s/it][I 2024-05-01 14:35:50,263] Trial 1 finished with value: 0.6885950226105709 and parameters: {'feature_fraction': 0.8999999999999999}. Best is trial 1 with value: 0.6885950226105709.\n",
      "feature_fraction, val_score: 0.688595:  43%|####2     | 3/7 [07:14<09:47, 146.82s/it][I 2024-05-01 14:38:21,880] Trial 2 finished with value: 0.6887395573185121 and parameters: {'feature_fraction': 0.7}. Best is trial 1 with value: 0.6885950226105709.\n",
      "feature_fraction, val_score: 0.688587:  57%|#####7    | 4/7 [09:54<07:36, 152.18s/it][I 2024-05-01 14:41:02,289] Trial 3 finished with value: 0.6885865901888055 and parameters: {'feature_fraction': 0.8}. Best is trial 3 with value: 0.6885865901888055.\n",
      "feature_fraction, val_score: 0.688587:  71%|#######1  | 5/7 [11:40<04:31, 135.64s/it][I 2024-05-01 14:42:48,609] Trial 4 finished with value: 0.6886102978837497 and parameters: {'feature_fraction': 1.0}. Best is trial 3 with value: 0.6885865901888055.\n",
      "feature_fraction, val_score: 0.688587:  86%|########5 | 6/7 [14:14<02:21, 141.92s/it][I 2024-05-01 14:45:22,704] Trial 5 finished with value: 0.6887384753972785 and parameters: {'feature_fraction': 0.6}. Best is trial 3 with value: 0.6885865901888055.\n",
      "feature_fraction, val_score: 0.688587: 100%|##########| 7/7 [16:06<00:00, 132.09s/it][I 2024-05-01 14:47:14,561] Trial 6 finished with value: 0.6887044297135553 and parameters: {'feature_fraction': 0.4}. Best is trial 3 with value: 0.6885865901888055.\n",
      "feature_fraction, val_score: 0.688587: 100%|##########| 7/7 [16:06<00:00, 138.12s/it]\n",
      "num_leaves, val_score: 0.688587:   5%|5         | 1/20 [03:24<1:04:41, 204.31s/it][I 2024-05-01 14:50:38,883] Trial 7 finished with value: 0.6887330501381033 and parameters: {'num_leaves': 151}. Best is trial 7 with value: 0.6887330501381033.\n",
      "num_leaves, val_score: 0.688587:  10%|#         | 2/20 [07:00<1:03:22, 211.26s/it][I 2024-05-01 14:54:15,000] Trial 8 finished with value: 0.6887321020525146 and parameters: {'num_leaves': 180}. Best is trial 8 with value: 0.6887321020525146.\n",
      "num_leaves, val_score: 0.688587:  15%|#5        | 3/20 [09:38<52:55, 186.78s/it]  [I 2024-05-01 14:56:52,643] Trial 9 finished with value: 0.6887428915164059 and parameters: {'num_leaves': 49}. Best is trial 8 with value: 0.6887321020525146.\n",
      "num_leaves, val_score: 0.688587:  20%|##        | 4/20 [11:55<44:35, 167.21s/it][I 2024-05-01 14:59:09,871] Trial 10 finished with value: 0.6885975098896269 and parameters: {'num_leaves': 19}. Best is trial 10 with value: 0.6885975098896269.\n",
      "num_leaves, val_score: 0.688587:  25%|##5       | 5/20 [15:44<47:25, 189.72s/it][I 2024-05-01 15:02:59,488] Trial 11 finished with value: 0.6887307114352971 and parameters: {'num_leaves': 216}. Best is trial 10 with value: 0.6885975098896269.\n",
      "num_leaves, val_score: 0.688587:  30%|###       | 6/20 [18:42<43:17, 185.50s/it][I 2024-05-01 15:05:56,806] Trial 12 finished with value: 0.6887372240478374 and parameters: {'num_leaves': 91}. Best is trial 10 with value: 0.6885975098896269.\n",
      "num_leaves, val_score: 0.688587:  35%|###5      | 7/20 [22:47<44:24, 204.94s/it][I 2024-05-01 15:10:01,779] Trial 13 finished with value: 0.6887295148724825 and parameters: {'num_leaves': 254}. Best is trial 10 with value: 0.6885975098896269.\n",
      "num_leaves, val_score: 0.688587:  40%|####      | 8/20 [25:51<39:38, 198.24s/it][I 2024-05-01 15:13:05,661] Trial 14 finished with value: 0.6887373434651936 and parameters: {'num_leaves': 89}. Best is trial 10 with value: 0.6885975098896269.\n",
      "num_leaves, val_score: 0.688587:  45%|####5     | 9/20 [29:08<36:18, 198.07s/it][I 2024-05-01 15:16:23,351] Trial 15 finished with value: 0.6887352464592732 and parameters: {'num_leaves': 114}. Best is trial 10 with value: 0.6885975098896269.\n",
      "num_leaves, val_score: 0.688587:  50%|#####     | 10/20 [30:36<27:20, 164.01s/it][I 2024-05-01 15:17:51,089] Trial 16 finished with value: 0.6886935548748766 and parameters: {'num_leaves': 5}. Best is trial 10 with value: 0.6885975098896269.\n",
      "num_leaves, val_score: 0.688587:  55%|#####5    | 11/20 [34:47<28:34, 190.49s/it][I 2024-05-01 15:22:01,650] Trial 17 finished with value: 0.688729536178486 and parameters: {'num_leaves': 256}. Best is trial 10 with value: 0.6885975098896269.\n",
      "num_leaves, val_score: 0.688587:  60%|######    | 12/20 [38:23<26:26, 198.31s/it][I 2024-05-01 15:25:37,812] Trial 18 finished with value: 0.6887322464236796 and parameters: {'num_leaves': 174}. Best is trial 10 with value: 0.6885975098896269.\n",
      "num_leaves, val_score: 0.688587:  65%|######5   | 13/20 [41:05<21:51, 187.41s/it][I 2024-05-01 15:28:20,143] Trial 19 finished with value: 0.6887428915164058 and parameters: {'num_leaves': 49}. Best is trial 10 with value: 0.6885975098896269.\n",
      "num_leaves, val_score: 0.688587:  70%|#######   | 14/20 [44:58<20:06, 201.15s/it][I 2024-05-01 15:32:13,053] Trial 20 finished with value: 0.6887309455419122 and parameters: {'num_leaves': 211}. Best is trial 10 with value: 0.6885975098896269.\n",
      "num_leaves, val_score: 0.688587:  75%|#######5  | 15/20 [46:27<13:57, 167.49s/it][I 2024-05-01 15:33:42,524] Trial 21 finished with value: 0.6886177065030025 and parameters: {'num_leaves': 2}. Best is trial 10 with value: 0.6885975098896269.\n",
      "num_leaves, val_score: 0.688587:  80%|########  | 16/20 [49:01<10:52, 163.18s/it][I 2024-05-01 15:36:15,692] Trial 22 finished with value: 0.688744049571476 and parameters: {'num_leaves': 43}. Best is trial 10 with value: 0.6885975098896269.\n",
      "num_leaves, val_score: 0.688587:  85%|########5 | 17/20 [52:15<08:38, 172.70s/it][I 2024-05-01 15:39:30,529] Trial 23 finished with value: 0.6887347784404513 and parameters: {'num_leaves': 123}. Best is trial 10 with value: 0.6885975098896269.\n",
      "num_leaves, val_score: 0.688587:  90%|######### | 18/20 [55:17<05:50, 175.49s/it][I 2024-05-01 15:42:32,524] Trial 24 finished with value: 0.6887377500765666 and parameters: {'num_leaves': 86}. Best is trial 10 with value: 0.6885975098896269.\n",
      "num_leaves, val_score: 0.688587:  95%|#########5| 19/20 [57:59<02:51, 171.34s/it][I 2024-05-01 15:45:14,181] Trial 25 finished with value: 0.6885865901888055 and parameters: {'num_leaves': 31}. Best is trial 25 with value: 0.6885865901888055.\n",
      "num_leaves, val_score: 0.688587: 100%|##########| 20/20 [1:00:52<00:00, 171.78s/it][I 2024-05-01 15:48:07,002] Trial 26 finished with value: 0.6887393471121113 and parameters: {'num_leaves': 70}. Best is trial 25 with value: 0.6885865901888055.\n",
      "num_leaves, val_score: 0.688587: 100%|##########| 20/20 [1:00:52<00:00, 182.62s/it]\n",
      "bagging, val_score: 0.688587:  10%|#         | 1/10 [02:39<23:59, 159.91s/it][I 2024-05-01 15:50:46,922] Trial 27 finished with value: 0.6885871222043732 and parameters: {'bagging_fraction': 0.5736183015264869, 'bagging_freq': 3}. Best is trial 27 with value: 0.6885871222043732.\n",
      "bagging, val_score: 0.688587:  20%|##        | 2/10 [05:25<21:45, 163.13s/it][I 2024-05-01 15:53:32,308] Trial 28 finished with value: 0.6885871872451943 and parameters: {'bagging_fraction': 0.569487074468038, 'bagging_freq': 3}. Best is trial 27 with value: 0.6885871222043732.\n",
      "bagging, val_score: 0.688587:  30%|###       | 3/10 [08:49<21:14, 182.10s/it][I 2024-05-01 15:56:56,970] Trial 29 finished with value: 0.6885868842350965 and parameters: {'bagging_fraction': 0.8705188257544783, 'bagging_freq': 3}. Best is trial 29 with value: 0.6885868842350965.\n",
      "bagging, val_score: 0.688587:  40%|####      | 4/10 [12:08<18:50, 188.49s/it][I 2024-05-01 16:00:15,260] Trial 30 finished with value: 0.68858666646267 and parameters: {'bagging_fraction': 0.9545364187680251, 'bagging_freq': 7}. Best is trial 30 with value: 0.68858666646267.\n",
      "bagging, val_score: 0.688587:  50%|#####     | 5/10 [15:31<16:08, 193.66s/it][I 2024-05-01 16:03:38,098] Trial 31 finished with value: 0.6885867422258263 and parameters: {'bagging_fraction': 0.9887007635842198, 'bagging_freq': 7}. Best is trial 30 with value: 0.68858666646267.\n",
      "bagging, val_score: 0.688587:  60%|######    | 6/10 [18:49<13:01, 195.30s/it][I 2024-05-01 16:06:56,578] Trial 32 finished with value: 0.6885866465727084 and parameters: {'bagging_fraction': 0.9611819280586058, 'bagging_freq': 7}. Best is trial 32 with value: 0.6885866465727084.\n",
      "bagging, val_score: 0.688587:  70%|#######   | 7/10 [21:53<09:34, 191.56s/it][I 2024-05-01 16:10:00,440] Trial 33 finished with value: 0.6885868990276046 and parameters: {'bagging_fraction': 0.8409432931450573, 'bagging_freq': 7}. Best is trial 32 with value: 0.6885866465727084.\n",
      "bagging, val_score: 0.688587:  80%|########  | 8/10 [25:18<06:31, 195.96s/it][I 2024-05-01 16:13:25,829] Trial 34 finished with value: 0.6885866656267733 and parameters: {'bagging_fraction': 0.9862292478557925, 'bagging_freq': 6}. Best is trial 32 with value: 0.6885866465727084.\n",
      "bagging, val_score: 0.688587:  90%|######### | 9/10 [28:15<03:10, 190.07s/it][I 2024-05-01 16:16:22,939] Trial 35 finished with value: 0.6885868668625574 and parameters: {'bagging_fraction': 0.7577026741582831, 'bagging_freq': 5}. Best is trial 32 with value: 0.6885866465727084.\n",
      "bagging, val_score: 0.688587: 100%|##########| 10/10 [31:42<00:00, 195.07s/it][I 2024-05-01 16:19:49,208] Trial 36 finished with value: 0.6885865635400897 and parameters: {'bagging_fraction': 0.9785258714978398, 'bagging_freq': 5}. Best is trial 36 with value: 0.6885865635400897.\n",
      "bagging, val_score: 0.688587: 100%|##########| 10/10 [31:42<00:00, 190.22s/it]\n",
      "feature_fraction_stage2, val_score: 0.688587:  17%|#6        | 1/6 [03:12<16:03, 192.63s/it][I 2024-05-01 16:23:01,875] Trial 37 finished with value: 0.6887397024206157 and parameters: {'feature_fraction': 0.784}. Best is trial 37 with value: 0.6887397024206157.\n",
      "feature_fraction_stage2, val_score: 0.688587:  33%|###3      | 2/6 [06:26<12:53, 193.38s/it][I 2024-05-01 16:26:15,749] Trial 38 finished with value: 0.6887397024206157 and parameters: {'feature_fraction': 0.7520000000000001}. Best is trial 37 with value: 0.6887397024206157.\n",
      "feature_fraction_stage2, val_score: 0.688587:  50%|#####     | 3/6 [09:36<09:35, 191.83s/it][I 2024-05-01 16:29:25,732] Trial 39 finished with value: 0.6887396431258721 and parameters: {'feature_fraction': 0.7200000000000001}. Best is trial 39 with value: 0.6887396431258721.\n",
      "feature_fraction_stage2, val_score: 0.688587:  67%|######6   | 4/6 [13:02<06:34, 197.26s/it][I 2024-05-01 16:32:51,330] Trial 40 finished with value: 0.6885865635400898 and parameters: {'feature_fraction': 0.8160000000000001}. Best is trial 40 with value: 0.6885865635400898.\n",
      "feature_fraction_stage2, val_score: 0.688587:  83%|########3 | 5/6 [16:05<03:12, 192.13s/it][I 2024-05-01 16:35:54,355] Trial 41 finished with value: 0.6887531559709491 and parameters: {'feature_fraction': 0.8480000000000001}. Best is trial 40 with value: 0.6885865635400898.\n",
      "feature_fraction_stage2, val_score: 0.688587: 100%|##########| 6/6 [19:11<00:00, 190.28s/it][I 2024-05-01 16:39:01,034] Trial 42 finished with value: 0.6887531559709492 and parameters: {'feature_fraction': 0.88}. Best is trial 40 with value: 0.6885865635400898.\n",
      "feature_fraction_stage2, val_score: 0.688587: 100%|##########| 6/6 [19:11<00:00, 191.97s/it]\n",
      "regularization_factors, val_score: 0.688587:   5%|5         | 1/20 [03:30<1:06:44, 210.78s/it][I 2024-05-01 16:42:31,820] Trial 43 finished with value: 0.6885865635438868 and parameters: {'lambda_l1': 4.020448680588366e-06, 'lambda_l2': 5.063045298563952e-06}. Best is trial 43 with value: 0.6885865635438868.\n",
      "regularization_factors, val_score: 0.688587:  10%|#         | 2/20 [06:56<1:02:16, 207.56s/it][I 2024-05-01 16:45:57,138] Trial 44 finished with value: 0.6885865635432664 and parameters: {'lambda_l1': 3.485829307948253e-06, 'lambda_l2': 2.816150674907995e-06}. Best is trial 44 with value: 0.6885865635432664.\n",
      "regularization_factors, val_score: 0.688587:  15%|#5        | 3/20 [10:22<58:40, 207.06s/it]  [I 2024-05-01 16:49:23,603] Trial 45 finished with value: 0.6885865635413119 and parameters: {'lambda_l1': 1.1432519221803943e-06, 'lambda_l2': 3.427460308826897e-06}. Best is trial 45 with value: 0.6885865635413119.\n",
      "regularization_factors, val_score: 0.688587:  20%|##        | 4/20 [13:50<55:19, 207.45s/it][I 2024-05-01 16:52:51,635] Trial 46 finished with value: 0.6885865635417106 and parameters: {'lambda_l1': 1.7176936549689955e-06, 'lambda_l2': 2.182990511409827e-06}. Best is trial 45 with value: 0.6885865635413119.\n",
      "regularization_factors, val_score: 0.688587:  25%|##5       | 5/20 [17:19<52:01, 208.09s/it][I 2024-05-01 16:56:20,868] Trial 47 finished with value: 0.6885865635410651 and parameters: {'lambda_l1': 1.0004634990834254e-06, 'lambda_l2': 1.708696830885598e-06}. Best is trial 47 with value: 0.6885865635410651.\n",
      "regularization_factors, val_score: 0.688587:  30%|###       | 6/20 [20:48<48:38, 208.45s/it][I 2024-05-01 16:59:50,008] Trial 48 finished with value: 0.6885865635403923 and parameters: {'lambda_l1': 2.8015863477547074e-07, 'lambda_l2': 8.770574263781441e-07}. Best is trial 48 with value: 0.6885865635403923.\n",
      "regularization_factors, val_score: 0.688587:  35%|###5      | 7/20 [24:14<44:57, 207.49s/it][I 2024-05-01 17:03:15,526] Trial 49 finished with value: 0.6885865635401036 and parameters: {'lambda_l1': 1.4639179012477294e-08, 'lambda_l2': 1.7432086782034687e-08}. Best is trial 49 with value: 0.6885865635401036.\n",
      "regularization_factors, val_score: 0.688587:  40%|####      | 8/20 [27:41<41:27, 207.29s/it][I 2024-05-01 17:06:42,381] Trial 50 finished with value: 0.6885865635401015 and parameters: {'lambda_l1': 1.0641162445019172e-08, 'lambda_l2': 3.228707616316117e-08}. Best is trial 50 with value: 0.6885865635401015.\n",
      "regularization_factors, val_score: 0.688587:  45%|####5     | 9/20 [31:08<38:00, 207.28s/it][I 2024-05-01 17:10:09,660] Trial 51 finished with value: 0.6885865635401025 and parameters: {'lambda_l1': 1.2597605674545358e-08, 'lambda_l2': 2.623716767920661e-08}. Best is trial 50 with value: 0.6885865635401015.\n",
      "regularization_factors, val_score: 0.688587:  50%|#####     | 10/20 [34:36<34:36, 207.60s/it][I 2024-05-01 17:13:37,981] Trial 52 finished with value: 0.688586563540108 and parameters: {'lambda_l1': 2.0060469015207632e-08, 'lambda_l2': 1.1329972854657389e-08}. Best is trial 50 with value: 0.6885865635401015.\n",
      "regularization_factors, val_score: 0.688587:  55%|#####5    | 11/20 [38:06<31:14, 208.29s/it][I 2024-05-01 17:17:07,830] Trial 53 finished with value: 0.6885865635401024 and parameters: {'lambda_l1': 1.355569593275052e-08, 'lambda_l2': 1.1513526193042449e-08}. Best is trial 50 with value: 0.6885865635401015.\n",
      "regularization_factors, val_score: 0.688587:  60%|######    | 12/20 [41:34<27:44, 208.03s/it][I 2024-05-01 17:20:35,271] Trial 54 finished with value: 0.6885865635401076 and parameters: {'lambda_l1': 1.9436855639653015e-08, 'lambda_l2': 1.218605611270302e-08}. Best is trial 50 with value: 0.6885865635401015.\n",
      "regularization_factors, val_score: 0.688587:  65%|######5   | 13/20 [45:06<24:25, 209.40s/it][I 2024-05-01 17:24:07,805] Trial 55 finished with value: 0.6885867779019823 and parameters: {'lambda_l1': 0.18683000431812105, 'lambda_l2': 0.21568804755675067}. Best is trial 50 with value: 0.6885865635401015.\n",
      "regularization_factors, val_score: 0.688587:  70%|#######   | 14/20 [48:37<20:58, 209.68s/it][I 2024-05-01 17:27:38,134] Trial 56 finished with value: 0.6885865635400995 and parameters: {'lambda_l1': 1.0164450239489987e-08, 'lambda_l2': 1.116033344642631e-08}. Best is trial 56 with value: 0.6885865635400995.\n",
      "regularization_factors, val_score: 0.688587:  75%|#######5  | 15/20 [52:08<17:30, 210.11s/it][I 2024-05-01 17:31:09,256] Trial 57 finished with value: 0.6885865635401125 and parameters: {'lambda_l1': 1.7704368741612867e-08, 'lambda_l2': 9.74275710849858e-08}. Best is trial 56 with value: 0.6885865635400995.\n",
      "regularization_factors, val_score: 0.688587:  80%|########  | 16/20 [55:34<13:56, 209.10s/it][I 2024-05-01 17:34:35,992] Trial 58 finished with value: 0.6885865373059299 and parameters: {'lambda_l1': 0.0003978625445660701, 'lambda_l2': 0.0031267054660887366}. Best is trial 58 with value: 0.6885865373059299.\n",
      "regularization_factors, val_score: 0.688587:  85%|########5 | 17/20 [59:04<10:27, 209.22s/it][I 2024-05-01 17:38:05,516] Trial 59 finished with value: 0.6885865413133814 and parameters: {'lambda_l1': 0.0005473699166224918, 'lambda_l2': 0.006128697800690953}. Best is trial 58 with value: 0.6885865373059299.\n",
      "regularization_factors, val_score: 0.688587:  90%|######### | 18/20 [1:02:33<06:58, 209.20s/it][I 2024-05-01 17:41:34,667] Trial 60 finished with value: 0.6885865409438439 and parameters: {'lambda_l1': 0.0009247124132838441, 'lambda_l2': 0.0048697686349688666}. Best is trial 58 with value: 0.6885865373059299.\n",
      "regularization_factors, val_score: 0.688587:  95%|#########5| 19/20 [1:06:02<03:29, 209.01s/it][I 2024-05-01 17:45:03,233] Trial 61 finished with value: 0.6885865429199296 and parameters: {'lambda_l1': 0.001247810130739337, 'lambda_l2': 0.013641750067047294}. Best is trial 58 with value: 0.6885865373059299.\n",
      "regularization_factors, val_score: 0.688587: 100%|##########| 20/20 [1:09:33<00:00, 209.56s/it][I 2024-05-01 17:48:34,068] Trial 62 finished with value: 0.6885865412457306 and parameters: {'lambda_l1': 0.001005425555470441, 'lambda_l2': 0.008109058767667795}. Best is trial 58 with value: 0.6885865373059299.\n",
      "regularization_factors, val_score: 0.688587: 100%|##########| 20/20 [1:09:33<00:00, 208.65s/it]\n",
      "min_child_samples, val_score: 0.688587:  20%|##        | 1/5 [03:30<14:03, 210.87s/it][I 2024-05-01 17:52:04,945] Trial 63 finished with value: 0.6885865363879154 and parameters: {'min_child_samples': 25}. Best is trial 63 with value: 0.6885865363879154.\n",
      "min_child_samples, val_score: 0.688587:  40%|####      | 2/5 [07:04<10:37, 212.53s/it][I 2024-05-01 17:55:38,632] Trial 64 finished with value: 0.6885865348913981 and parameters: {'min_child_samples': 10}. Best is trial 64 with value: 0.6885865348913981.\n",
      "min_child_samples, val_score: 0.688587:  60%|######    | 3/5 [10:30<06:59, 209.71s/it][I 2024-05-01 17:59:04,980] Trial 65 finished with value: 0.6885865380747738 and parameters: {'min_child_samples': 5}. Best is trial 64 with value: 0.6885865348913981.\n",
      "min_child_samples, val_score: 0.688587:  80%|########  | 4/5 [14:01<03:30, 210.08s/it][I 2024-05-01 18:02:35,636] Trial 66 finished with value: 0.6885868615083319 and parameters: {'min_child_samples': 100}. Best is trial 64 with value: 0.6885865348913981.\n",
      "min_child_samples, val_score: 0.688587: 100%|##########| 5/5 [17:28<00:00, 209.06s/it][I 2024-05-01 18:06:02,891] Trial 67 finished with value: 0.6885866286172831 and parameters: {'min_child_samples': 50}. Best is trial 64 with value: 0.6885865348913981.\n",
      "min_child_samples, val_score: 0.688587: 100%|##########| 5/5 [17:28<00:00, 209.76s/it]"
     ]
    },
    {
     "name": "stdout",
     "output_type": "stream",
     "text": [
      "CPU times: user 11h 51min 15s, sys: 12min 59s, total: 12h 4min 14s\n",
      "Wall time: 3h 34min 55s\n"
     ]
    },
    {
     "name": "stderr",
     "output_type": "stream",
     "text": [
      "\n"
     ]
    }
   ],
   "source": [
    "%%time\n",
    "tuner.run()"
   ]
  },
  {
   "cell_type": "code",
   "execution_count": 12,
   "id": "63a760e1",
   "metadata": {
    "execution": {
     "iopub.execute_input": "2024-05-01T18:06:02.998406Z",
     "iopub.status.busy": "2024-05-01T18:06:02.998015Z",
     "iopub.status.idle": "2024-05-01T18:06:03.012501Z",
     "shell.execute_reply": "2024-05-01T18:06:03.011652Z"
    },
    "papermill": {
     "duration": 0.052288,
     "end_time": "2024-05-01T18:06:03.014990",
     "exception": false,
     "start_time": "2024-05-01T18:06:02.962702",
     "status": "completed"
    },
    "tags": []
   },
   "outputs": [],
   "source": [
    "def comp_metric(y_true, y_pred):\n",
    "    return r2_score(y_true, y_pred)\n",
    "\n",
    "def custom_cv(estimator, seed=SEED, verbose=True):\n",
    "    X_test = test[features]\n",
    "    \n",
    "    oof_preds, test_preds = {}, {}\n",
    "    scores = []\n",
    "\n",
    "    cv = KFold(n_splits=NUM_FOLDS, shuffle=True, random_state=seed)\n",
    "    for fold, (train_ids, val_ids) in enumerate(cv.split(train)):\n",
    "        X_train, y_train = train[features].iloc[train_ids], train[TARGET].iloc[train_ids]\n",
    "        X_val, y_val = train[features].iloc[val_ids], train[TARGET].iloc[val_ids]\n",
    "        \n",
    "        model = clone(estimator)\n",
    "        model.fit(\n",
    "            X_train, y_train,\n",
    "            eval_set=[(X_val, y_val)],\n",
    "            callbacks=[early_stopping])\n",
    "\n",
    "        val_preds = model.predict(X_val)\n",
    "        oof_preds.update(dict(zip(val_ids, val_preds)))\n",
    "        test_preds[f'fold{fold}'] = model.predict(X_test)\n",
    "\n",
    "        score = comp_metric(y_val, val_preds)\n",
    "        scores.append(score)\n",
    "        if verbose:\n",
    "            print(f'Fold #{fold:>2}: {score:.5f} ({model.best_iteration_:>4} rounds)')\n",
    "        _ = gc.collect()\n",
    "\n",
    "    test_preds = pd.DataFrame.from_dict(test_preds)\n",
    "    test_preds['mean'] = test_preds.mean(axis=1) # mean of fold-wise predictions\n",
    "    \n",
    "    oof_preds = pd.Series(oof_preds).sort_index()\n",
    "    print(f'\\nAvg score: {np.mean(scores):.5f} +/- {np.std(scores):.5f}')\n",
    "    print(f'OOF score: {comp_metric(train[TARGET], oof_preds):.5f}\\n')\n",
    "    \n",
    "    return oof_preds, test_preds"
   ]
  },
  {
   "cell_type": "code",
   "execution_count": 13,
   "id": "88a9bfff",
   "metadata": {
    "execution": {
     "iopub.execute_input": "2024-05-01T18:06:03.159675Z",
     "iopub.status.busy": "2024-05-01T18:06:03.159254Z",
     "iopub.status.idle": "2024-05-01T18:16:30.676210Z",
     "shell.execute_reply": "2024-05-01T18:16:30.674990Z"
    },
    "papermill": {
     "duration": 627.629694,
     "end_time": "2024-05-01T18:16:30.678672",
     "exception": false,
     "start_time": "2024-05-01T18:06:03.048978",
     "status": "completed"
    },
    "tags": []
   },
   "outputs": [
    {
     "name": "stdout",
     "output_type": "stream",
     "text": [
      "Fold # 0: 0.86345 (  39 rounds)\n",
      "Fold # 1: 0.86355 (  39 rounds)\n",
      "Fold # 2: 0.86386 (  39 rounds)\n",
      "Fold # 3: 0.86491 (  39 rounds)\n",
      "Fold # 4: 0.86479 (  39 rounds)\n",
      "Fold # 5: 0.86286 (  39 rounds)\n",
      "Fold # 6: 0.86347 (  38 rounds)\n",
      "Fold # 7: 0.86342 (  40 rounds)\n",
      "Fold # 8: 0.86420 (  39 rounds)\n",
      "Fold # 9: 0.86316 (  40 rounds)\n",
      "\n",
      "Avg score: 0.86377 +/- 0.00064\n",
      "OOF score: 0.86377\n",
      "\n",
      "CPU times: user 10min 25s, sys: 2.34 s, total: 10min 27s\n",
      "Wall time: 10min 27s\n"
     ]
    }
   ],
   "source": [
    "%%time\n",
    "model = LGBMRegressor(**tuner.best_params, n_estimators=10000)\n",
    "op, tp = custom_cv(model)"
   ]
  },
  {
   "cell_type": "code",
   "execution_count": 14,
   "id": "68d8c753",
   "metadata": {
    "execution": {
     "iopub.execute_input": "2024-05-01T18:16:30.751984Z",
     "iopub.status.busy": "2024-05-01T18:16:30.751568Z",
     "iopub.status.idle": "2024-05-01T18:16:30.757778Z",
     "shell.execute_reply": "2024-05-01T18:16:30.756634Z"
    },
    "papermill": {
     "duration": 0.046272,
     "end_time": "2024-05-01T18:16:30.760297",
     "exception": false,
     "start_time": "2024-05-01T18:16:30.714025",
     "status": "completed"
    },
    "tags": []
   },
   "outputs": [],
   "source": [
    "def create_submission_files(preds, notebook='01'):\n",
    "    for col in preds.columns:\n",
    "        sub = sample_sub.copy()\n",
    "        sub[TARGET] = preds[col]\n",
    "        sub.to_csv(f'nb{notebook}_{col}.csv', index=False)"
   ]
  },
  {
   "cell_type": "code",
   "execution_count": 15,
   "id": "65f4c68c",
   "metadata": {
    "execution": {
     "iopub.execute_input": "2024-05-01T18:16:30.833340Z",
     "iopub.status.busy": "2024-05-01T18:16:30.832059Z",
     "iopub.status.idle": "2024-05-01T18:16:57.918288Z",
     "shell.execute_reply": "2024-05-01T18:16:57.917015Z"
    },
    "papermill": {
     "duration": 27.125543,
     "end_time": "2024-05-01T18:16:57.921030",
     "exception": false,
     "start_time": "2024-05-01T18:16:30.795487",
     "status": "completed"
    },
    "tags": []
   },
   "outputs": [],
   "source": [
    "create_submission_files(tp)"
   ]
  },
  {
   "cell_type": "code",
   "execution_count": 16,
   "id": "8e2a29fb",
   "metadata": {
    "execution": {
     "iopub.execute_input": "2024-05-01T18:16:57.993183Z",
     "iopub.status.busy": "2024-05-01T18:16:57.992762Z",
     "iopub.status.idle": "2024-05-01T18:16:59.145221Z",
     "shell.execute_reply": "2024-05-01T18:16:59.143783Z"
    },
    "papermill": {
     "duration": 1.191562,
     "end_time": "2024-05-01T18:16:59.148240",
     "exception": false,
     "start_time": "2024-05-01T18:16:57.956678",
     "status": "completed"
    },
    "tags": []
   },
   "outputs": [
    {
     "name": "stdout",
     "output_type": "stream",
     "text": [
      "id,FloodProbability\r\n",
      "1117957,0.5746264159936313\r\n",
      "1117958,0.45368198914229296\r\n",
      "1117959,0.45462980121386387\r\n",
      "1117960,0.47165973133638756\r\n",
      "1117961,0.4739681589684575\r\n",
      "1117962,0.5083381917599572\r\n",
      "1117963,0.5393328919894695\r\n",
      "1117964,0.5270388432355311\r\n",
      "1117965,0.4750023364876803\r\n"
     ]
    }
   ],
   "source": [
    "!head nb01_mean.csv"
   ]
  }
 ],
 "metadata": {
  "kaggle": {
   "accelerator": "none",
   "dataSources": [
    {
     "databundleVersionId": 8121328,
     "sourceId": 73278,
     "sourceType": "competition"
    },
    {
     "datasetId": 4219453,
     "sourceId": 7277740,
     "sourceType": "datasetVersion"
    }
   ],
   "dockerImageVersionId": 30698,
   "isGpuEnabled": false,
   "isInternetEnabled": true,
   "language": "python",
   "sourceType": "notebook"
  },
  "kernelspec": {
   "display_name": "Python 3",
   "language": "python",
   "name": "python3"
  },
  "language_info": {
   "codemirror_mode": {
    "name": "ipython",
    "version": 3
   },
   "file_extension": ".py",
   "mimetype": "text/x-python",
   "name": "python",
   "nbconvert_exporter": "python",
   "pygments_lexer": "ipython3",
   "version": "3.10.13"
  },
  "papermill": {
   "default_parameters": {},
   "duration": 13580.923315,
   "end_time": "2024-05-01T18:17:00.138972",
   "environment_variables": {},
   "exception": null,
   "input_path": "__notebook__.ipynb",
   "output_path": "__notebook__.ipynb",
   "parameters": {},
   "start_time": "2024-05-01T14:30:39.215657",
   "version": "2.5.0"
  }
 },
 "nbformat": 4,
 "nbformat_minor": 5
}
