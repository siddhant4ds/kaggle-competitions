{
 "cells": [
  {
   "cell_type": "code",
   "execution_count": 1,
   "id": "0048f4a0",
   "metadata": {
    "_cell_guid": "b1076dfc-b9ad-4769-8c92-a6c4dae69d19",
    "_uuid": "8f2839f25d086af736a60e9eeb907d3b93b6e0e5",
    "execution": {
     "iopub.execute_input": "2024-05-01T02:12:35.321665Z",
     "iopub.status.busy": "2024-05-01T02:12:35.321117Z",
     "iopub.status.idle": "2024-05-01T02:12:52.037806Z",
     "shell.execute_reply": "2024-05-01T02:12:52.036444Z"
    },
    "papermill": {
     "duration": 16.73054,
     "end_time": "2024-05-01T02:12:52.040765",
     "exception": false,
     "start_time": "2024-05-01T02:12:35.310225",
     "status": "completed"
    },
    "tags": []
   },
   "outputs": [],
   "source": [
    "%%capture\n",
    "!pip install --upgrade optuna_integration"
   ]
  },
  {
   "cell_type": "code",
   "execution_count": 2,
   "id": "0b32a7da",
   "metadata": {
    "execution": {
     "iopub.execute_input": "2024-05-01T02:12:52.056345Z",
     "iopub.status.busy": "2024-05-01T02:12:52.055580Z",
     "iopub.status.idle": "2024-05-01T02:12:55.780685Z",
     "shell.execute_reply": "2024-05-01T02:12:55.779351Z"
    },
    "papermill": {
     "duration": 3.736282,
     "end_time": "2024-05-01T02:12:55.783810",
     "exception": false,
     "start_time": "2024-05-01T02:12:52.047528",
     "status": "completed"
    },
    "tags": []
   },
   "outputs": [],
   "source": [
    "import gc\n",
    "gc.enable()\n",
    "\n",
    "import warnings\n",
    "warnings.filterwarnings('ignore')\n",
    "\n",
    "import numpy as np\n",
    "import pandas as pd\n",
    "pd.set_option('display.max_columns', None)\n",
    "\n",
    "import optuna.integration.lightgbm as lgb\n",
    "from sklearn.model_selection import KFold\n",
    "from sklearn.metrics import r2_score\n",
    "from sklearn.base import clone\n",
    "from lightgbm import LGBMRegressor\n",
    "\n",
    "SEED = 2024"
   ]
  },
  {
   "cell_type": "code",
   "execution_count": 3,
   "id": "98d96708",
   "metadata": {
    "execution": {
     "iopub.execute_input": "2024-05-01T02:12:55.801045Z",
     "iopub.status.busy": "2024-05-01T02:12:55.799678Z",
     "iopub.status.idle": "2024-05-01T02:13:00.329628Z",
     "shell.execute_reply": "2024-05-01T02:13:00.328331Z"
    },
    "papermill": {
     "duration": 4.542661,
     "end_time": "2024-05-01T02:13:00.332850",
     "exception": false,
     "start_time": "2024-05-01T02:12:55.790189",
     "status": "completed"
    },
    "tags": []
   },
   "outputs": [],
   "source": [
    "DATA_DIR = '/kaggle/input/playground-series-s4e5'\n",
    "\n",
    "train = pd.read_csv(f'{DATA_DIR}/train.csv')\n",
    "test = pd.read_csv(f'{DATA_DIR}/test.csv')\n",
    "sample_sub = pd.read_csv(f'{DATA_DIR}/sample_submission.csv')\n",
    "\n",
    "original = pd.read_csv('/kaggle/input/flood-prediction-factors/flood.csv')"
   ]
  },
  {
   "cell_type": "code",
   "execution_count": 4,
   "id": "a9623ad4",
   "metadata": {
    "execution": {
     "iopub.execute_input": "2024-05-01T02:13:00.347456Z",
     "iopub.status.busy": "2024-05-01T02:13:00.346992Z",
     "iopub.status.idle": "2024-05-01T02:13:00.352295Z",
     "shell.execute_reply": "2024-05-01T02:13:00.350969Z"
    },
    "papermill": {
     "duration": 0.01549,
     "end_time": "2024-05-01T02:13:00.354920",
     "exception": false,
     "start_time": "2024-05-01T02:13:00.339430",
     "status": "completed"
    },
    "tags": []
   },
   "outputs": [],
   "source": [
    "TARGET = 'FloodProbability'"
   ]
  },
  {
   "cell_type": "code",
   "execution_count": 5,
   "id": "225d84f6",
   "metadata": {
    "execution": {
     "iopub.execute_input": "2024-05-01T02:13:00.369533Z",
     "iopub.status.busy": "2024-05-01T02:13:00.368741Z",
     "iopub.status.idle": "2024-05-01T02:13:00.552352Z",
     "shell.execute_reply": "2024-05-01T02:13:00.551123Z"
    },
    "papermill": {
     "duration": 0.194159,
     "end_time": "2024-05-01T02:13:00.555359",
     "exception": false,
     "start_time": "2024-05-01T02:13:00.361200",
     "status": "completed"
    },
    "tags": []
   },
   "outputs": [],
   "source": [
    "train = train.drop('id', axis=1)\n",
    "test = test.drop('id', axis=1)"
   ]
  },
  {
   "cell_type": "code",
   "execution_count": 6,
   "id": "2bd0eb11",
   "metadata": {
    "execution": {
     "iopub.execute_input": "2024-05-01T02:13:00.570072Z",
     "iopub.status.busy": "2024-05-01T02:13:00.569108Z",
     "iopub.status.idle": "2024-05-01T02:13:00.668409Z",
     "shell.execute_reply": "2024-05-01T02:13:00.667095Z"
    },
    "papermill": {
     "duration": 0.109861,
     "end_time": "2024-05-01T02:13:00.671464",
     "exception": false,
     "start_time": "2024-05-01T02:13:00.561603",
     "status": "completed"
    },
    "tags": []
   },
   "outputs": [],
   "source": [
    "extended = pd.concat([train, original], axis=0, ignore_index=True)"
   ]
  },
  {
   "cell_type": "code",
   "execution_count": 7,
   "id": "0dc04e72",
   "metadata": {
    "execution": {
     "iopub.execute_input": "2024-05-01T02:13:00.687408Z",
     "iopub.status.busy": "2024-05-01T02:13:00.686004Z",
     "iopub.status.idle": "2024-05-01T02:13:00.697360Z",
     "shell.execute_reply": "2024-05-01T02:13:00.695969Z"
    },
    "papermill": {
     "duration": 0.021542,
     "end_time": "2024-05-01T02:13:00.699725",
     "exception": false,
     "start_time": "2024-05-01T02:13:00.678183",
     "status": "completed"
    },
    "tags": []
   },
   "outputs": [
    {
     "data": {
      "text/plain": [
       "((1117957, 21), (50000, 21), (1167957, 21), (745305, 20))"
      ]
     },
     "execution_count": 7,
     "metadata": {},
     "output_type": "execute_result"
    }
   ],
   "source": [
    "train.shape, original.shape, extended.shape, test.shape"
   ]
  },
  {
   "cell_type": "code",
   "execution_count": 8,
   "id": "4630e6f9",
   "metadata": {
    "execution": {
     "iopub.execute_input": "2024-05-01T02:13:00.714623Z",
     "iopub.status.busy": "2024-05-01T02:13:00.714169Z",
     "iopub.status.idle": "2024-05-01T02:13:00.719953Z",
     "shell.execute_reply": "2024-05-01T02:13:00.718663Z"
    },
    "papermill": {
     "duration": 0.016585,
     "end_time": "2024-05-01T02:13:00.722838",
     "exception": false,
     "start_time": "2024-05-01T02:13:00.706253",
     "status": "completed"
    },
    "tags": []
   },
   "outputs": [],
   "source": [
    "features = list(test.columns)\n",
    "cat_features = []"
   ]
  },
  {
   "cell_type": "code",
   "execution_count": 9,
   "id": "31f09dfd",
   "metadata": {
    "execution": {
     "iopub.execute_input": "2024-05-01T02:13:00.737970Z",
     "iopub.status.busy": "2024-05-01T02:13:00.737497Z",
     "iopub.status.idle": "2024-05-01T02:13:00.826997Z",
     "shell.execute_reply": "2024-05-01T02:13:00.825893Z"
    },
    "papermill": {
     "duration": 0.100306,
     "end_time": "2024-05-01T02:13:00.829832",
     "exception": false,
     "start_time": "2024-05-01T02:13:00.729526",
     "status": "completed"
    },
    "tags": []
   },
   "outputs": [],
   "source": [
    "# LightGBM dataset\n",
    "dtrain = lgb.Dataset(\n",
    "    data=extended[features],\n",
    "    label=extended[TARGET],\n",
    "    feature_name=features,\n",
    "    categorical_feature=cat_features)"
   ]
  },
  {
   "cell_type": "code",
   "execution_count": 10,
   "id": "1a9d7728",
   "metadata": {
    "execution": {
     "iopub.execute_input": "2024-05-01T02:13:00.846791Z",
     "iopub.status.busy": "2024-05-01T02:13:00.844965Z",
     "iopub.status.idle": "2024-05-01T02:13:00.855517Z",
     "shell.execute_reply": "2024-05-01T02:13:00.853479Z"
    },
    "papermill": {
     "duration": 0.021634,
     "end_time": "2024-05-01T02:13:00.857934",
     "exception": false,
     "start_time": "2024-05-01T02:13:00.836300",
     "status": "completed"
    },
    "tags": []
   },
   "outputs": [],
   "source": [
    "base_params = {\n",
    "    'objective': 'cross_entropy',\n",
    "    'metric': 'cross_entropy',\n",
    "    'learning_rate': 0.1,\n",
    "    'boosting_type': 'gbdt',\n",
    "    'force_row_wise': True,\n",
    "    'verbosity': -1,\n",
    "    'n_jobs': -1,\n",
    "    'deterministic': True,\n",
    "    'random_state': SEED\n",
    "}\n",
    "\n",
    "early_stopping = lgb.early_stopping(\n",
    "    stopping_rounds=100,\n",
    "    first_metric_only=True,\n",
    "    verbose=False,\n",
    "    min_delta=2e-4)"
   ]
  },
  {
   "cell_type": "code",
   "execution_count": 11,
   "id": "89dc40c7",
   "metadata": {
    "execution": {
     "iopub.execute_input": "2024-05-01T02:13:00.873665Z",
     "iopub.status.busy": "2024-05-01T02:13:00.873100Z",
     "iopub.status.idle": "2024-05-01T02:13:00.886635Z",
     "shell.execute_reply": "2024-05-01T02:13:00.884297Z"
    },
    "papermill": {
     "duration": 0.025465,
     "end_time": "2024-05-01T02:13:00.890220",
     "exception": false,
     "start_time": "2024-05-01T02:13:00.864755",
     "status": "completed"
    },
    "tags": []
   },
   "outputs": [
    {
     "name": "stderr",
     "output_type": "stream",
     "text": [
      "[I 2024-05-01 02:13:00,879] A new study created in memory with name: no-name-07bebb7a-2514-46d3-a988-5dd80e275a4c\n"
     ]
    }
   ],
   "source": [
    "BUDGET = 60 * 60 * 11\n",
    "NUM_FOLDS = 10\n",
    "\n",
    "tuner = lgb.LightGBMTunerCV(\n",
    "    time_budget=BUDGET,\n",
    "    optuna_seed=SEED,\n",
    "    params=base_params,\n",
    "    train_set=dtrain,\n",
    "    num_boost_round=10000,\n",
    "    folds=KFold(n_splits=NUM_FOLDS, shuffle=True, random_state=SEED),\n",
    "    seed=SEED,\n",
    "    feature_name=features,\n",
    "    categorical_feature=cat_features,\n",
    "    callbacks=[early_stopping])"
   ]
  },
  {
   "cell_type": "code",
   "execution_count": 12,
   "id": "4a399e02",
   "metadata": {
    "execution": {
     "iopub.execute_input": "2024-05-01T02:13:00.911500Z",
     "iopub.status.busy": "2024-05-01T02:13:00.910294Z",
     "iopub.status.idle": "2024-05-01T08:35:02.009906Z",
     "shell.execute_reply": "2024-05-01T08:35:02.008978Z"
    },
    "papermill": {
     "duration": 22921.144264,
     "end_time": "2024-05-01T08:35:02.044755",
     "exception": false,
     "start_time": "2024-05-01T02:13:00.900491",
     "status": "completed"
    },
    "tags": []
   },
   "outputs": [
    {
     "name": "stderr",
     "output_type": "stream",
     "text": [
      "feature_fraction, val_score: 0.688737:  14%|#4        | 1/7 [05:09<30:57, 309.54s/it][I 2024-05-01 02:18:10,457] Trial 0 finished with value: 0.6887372164884943 and parameters: {'feature_fraction': 0.5}. Best is trial 0 with value: 0.6887372164884943.\n",
      "feature_fraction, val_score: 0.688737:  29%|##8       | 2/7 [10:32<26:27, 317.55s/it][I 2024-05-01 02:23:33,614] Trial 1 finished with value: 0.6888695307031173 and parameters: {'feature_fraction': 0.8999999999999999}. Best is trial 0 with value: 0.6887372164884943.\n",
      "feature_fraction, val_score: 0.688737:  43%|####2     | 3/7 [16:51<23:01, 345.43s/it][I 2024-05-01 02:29:52,230] Trial 2 finished with value: 0.6887805311300156 and parameters: {'feature_fraction': 0.7}. Best is trial 0 with value: 0.6887372164884943.\n",
      "feature_fraction, val_score: 0.688737:  57%|#####7    | 4/7 [22:07<16:42, 334.02s/it][I 2024-05-01 02:35:08,760] Trial 3 finished with value: 0.6889249496306895 and parameters: {'feature_fraction': 0.8}. Best is trial 0 with value: 0.6887372164884943.\n",
      "feature_fraction, val_score: 0.688737:  71%|#######1  | 5/7 [27:44<11:10, 335.13s/it][I 2024-05-01 02:40:45,870] Trial 4 finished with value: 0.6888694406890037 and parameters: {'feature_fraction': 1.0}. Best is trial 0 with value: 0.6887372164884943.\n",
      "feature_fraction, val_score: 0.688737:  86%|########5 | 6/7 [32:33<05:19, 319.32s/it][I 2024-05-01 02:45:34,478] Trial 5 finished with value: 0.6888768378783074 and parameters: {'feature_fraction': 0.6}. Best is trial 0 with value: 0.6887372164884943.\n",
      "feature_fraction, val_score: 0.688737: 100%|##########| 7/7 [35:40<00:00, 276.04s/it][I 2024-05-01 02:48:41,408] Trial 6 finished with value: 0.6889024689515406 and parameters: {'feature_fraction': 0.4}. Best is trial 0 with value: 0.6887372164884943.\n",
      "feature_fraction, val_score: 0.688737: 100%|##########| 7/7 [35:40<00:00, 305.78s/it]\n",
      "num_leaves, val_score: 0.688737:   5%|5         | 1/20 [04:30<1:25:38, 270.47s/it][I 2024-05-01 02:53:11,886] Trial 7 finished with value: 0.6888630810330523 and parameters: {'num_leaves': 151}. Best is trial 7 with value: 0.6888630810330523.\n",
      "num_leaves, val_score: 0.688737:  10%|#         | 2/20 [09:28<1:25:56, 286.47s/it][I 2024-05-01 02:58:09,561] Trial 8 finished with value: 0.6888171267023616 and parameters: {'num_leaves': 180}. Best is trial 8 with value: 0.6888171267023616.\n",
      "num_leaves, val_score: 0.688737:  15%|#5        | 3/20 [13:21<1:14:20, 262.36s/it][I 2024-05-01 03:02:03,217] Trial 9 finished with value: 0.688816184133114 and parameters: {'num_leaves': 49}. Best is trial 9 with value: 0.688816184133114.\n",
      "num_leaves, val_score: 0.688737:  20%|##        | 4/20 [17:15<1:06:59, 251.20s/it][I 2024-05-01 03:05:57,317] Trial 10 finished with value: 0.6887819506678152 and parameters: {'num_leaves': 19}. Best is trial 10 with value: 0.6887819506678152.\n",
      "num_leaves, val_score: 0.688737:  25%|##5       | 5/20 [23:25<1:13:29, 294.00s/it][I 2024-05-01 03:12:07,201] Trial 11 finished with value: 0.6887483466929647 and parameters: {'num_leaves': 216}. Best is trial 11 with value: 0.6887483466929647.\n",
      "num_leaves, val_score: 0.688737:  30%|###       | 6/20 [28:21<1:08:45, 294.70s/it][I 2024-05-01 03:17:03,270] Trial 12 finished with value: 0.6889259286661917 and parameters: {'num_leaves': 248}. Best is trial 11 with value: 0.6887483466929647.\n",
      "num_leaves, val_score: 0.688737:  35%|###5      | 7/20 [33:19<1:04:04, 295.74s/it][I 2024-05-01 03:22:01,139] Trial 13 finished with value: 0.6889230065800689 and parameters: {'num_leaves': 255}. Best is trial 11 with value: 0.6887483466929647.\n",
      "num_leaves, val_score: 0.688737:  40%|####      | 8/20 [37:55<57:50, 289.23s/it]  [I 2024-05-01 03:26:36,444] Trial 14 finished with value: 0.6887757962662345 and parameters: {'num_leaves': 89}. Best is trial 11 with value: 0.6887483466929647.\n",
      "num_leaves, val_score: 0.688737:  45%|####5     | 9/20 [43:16<54:51, 299.22s/it][I 2024-05-01 03:31:57,610] Trial 15 finished with value: 0.6887936900541145 and parameters: {'num_leaves': 198}. Best is trial 11 with value: 0.6887483466929647.\n",
      "num_leaves, val_score: 0.688737:  50%|#####     | 10/20 [47:25<47:17, 283.73s/it][I 2024-05-01 03:36:06,665] Trial 16 finished with value: 0.6889177309668726 and parameters: {'num_leaves': 120}. Best is trial 11 with value: 0.6887483466929647.\n",
      "num_leaves, val_score: 0.688737:  55%|#####5    | 11/20 [52:51<44:30, 296.73s/it][I 2024-05-01 03:41:32,885] Trial 17 finished with value: 0.6887927685419888 and parameters: {'num_leaves': 201}. Best is trial 11 with value: 0.6887483466929647.\n",
      "num_leaves, val_score: 0.688737:  60%|######    | 12/20 [59:13<43:02, 322.75s/it][I 2024-05-01 03:47:55,147] Trial 18 finished with value: 0.6887449549654798 and parameters: {'num_leaves': 221}. Best is trial 18 with value: 0.6887449549654798.\n",
      "num_leaves, val_score: 0.688737:  65%|######5   | 13/20 [1:03:26<35:10, 301.50s/it][I 2024-05-01 03:52:07,749] Trial 19 finished with value: 0.6889054956552373 and parameters: {'num_leaves': 125}. Best is trial 18 with value: 0.6887449549654798.\n",
      "num_leaves, val_score: 0.688737:  70%|#######   | 14/20 [1:08:13<29:42, 297.16s/it][I 2024-05-01 03:56:54,875] Trial 20 finished with value: 0.6888420225793673 and parameters: {'num_leaves': 160}. Best is trial 18 with value: 0.6887449549654798.\n",
      "num_leaves, val_score: 0.688737:  75%|#######5  | 15/20 [1:14:22<26:34, 318.95s/it][I 2024-05-01 04:03:04,322] Trial 21 finished with value: 0.6887462375081072 and parameters: {'num_leaves': 219}. Best is trial 18 with value: 0.6887449549654798.\n",
      "num_leaves, val_score: 0.688737:  80%|########  | 16/20 [1:20:25<22:08, 332.10s/it][I 2024-05-01 04:09:06,954] Trial 22 finished with value: 0.6887427578197174 and parameters: {'num_leaves': 226}. Best is trial 22 with value: 0.6887427578197174.\n",
      "num_leaves, val_score: 0.688737:  85%|########5 | 17/20 [1:26:39<17:13, 344.59s/it][I 2024-05-01 04:15:20,579] Trial 23 finished with value: 0.6887400980844068 and parameters: {'num_leaves': 234}. Best is trial 23 with value: 0.6887400980844068.\n",
      "num_leaves, val_score: 0.688737:  90%|######### | 18/20 [1:31:19<10:50, 325.27s/it][I 2024-05-01 04:20:00,897] Trial 24 finished with value: 0.6889284196713504 and parameters: {'num_leaves': 243}. Best is trial 23 with value: 0.6887400980844068.\n",
      "num_leaves, val_score: 0.688737:  95%|#########5| 19/20 [1:35:55<05:10, 310.37s/it][I 2024-05-01 04:24:36,559] Trial 25 finished with value: 0.6888221048541145 and parameters: {'num_leaves': 171}. Best is trial 23 with value: 0.6887400980844068.\n",
      "num_leaves, val_score: 0.688737: 100%|##########| 20/20 [1:39:32<00:00, 282.48s/it][I 2024-05-01 04:28:14,024] Trial 26 finished with value: 0.6888566093841234 and parameters: {'num_leaves': 71}. Best is trial 23 with value: 0.6887400980844068.\n",
      "num_leaves, val_score: 0.688737: 100%|##########| 20/20 [1:39:32<00:00, 298.63s/it]\n",
      "bagging, val_score: 0.688737:  10%|#         | 1/10 [03:19<29:51, 199.11s/it][I 2024-05-01 04:31:33,140] Trial 27 finished with value: 0.6889361540496941 and parameters: {'bagging_fraction': 0.5736183015264869, 'bagging_freq': 3}. Best is trial 27 with value: 0.6889361540496941.\n",
      "bagging, val_score: 0.688737:  20%|##        | 2/10 [09:14<38:46, 290.85s/it][I 2024-05-01 04:37:28,211] Trial 28 finished with value: 0.6887368456160463 and parameters: {'bagging_fraction': 0.967363692250022, 'bagging_freq': 7}. Best is trial 28 with value: 0.6887368456160463.\n",
      "bagging, val_score: 0.688737:  30%|###       | 3/10 [15:14<37:37, 322.45s/it][I 2024-05-01 04:43:28,254] Trial 29 finished with value: 0.6887377868544752 and parameters: {'bagging_fraction': 0.976342920658198, 'bagging_freq': 7}. Best is trial 28 with value: 0.6887368456160463.\n",
      "bagging, val_score: 0.688737:  40%|####      | 4/10 [21:09<33:31, 335.29s/it][I 2024-05-01 04:49:23,247] Trial 30 finished with value: 0.688737490800529 and parameters: {'bagging_fraction': 0.9616949898867168, 'bagging_freq': 7}. Best is trial 28 with value: 0.6887368456160463.\n",
      "bagging, val_score: 0.688737:  50%|#####     | 5/10 [27:12<28:46, 345.31s/it][I 2024-05-01 04:55:26,304] Trial 31 finished with value: 0.6887366620344194 and parameters: {'bagging_fraction': 0.9920257440116494, 'bagging_freq': 7}. Best is trial 31 with value: 0.6887366620344194.\n",
      "bagging, val_score: 0.688737:  60%|######    | 6/10 [31:36<21:10, 317.62s/it][I 2024-05-01 04:59:50,193] Trial 32 finished with value: 0.6888840834339713 and parameters: {'bagging_fraction': 0.9782606967356058, 'bagging_freq': 7}. Best is trial 31 with value: 0.6887366620344194.\n",
      "bagging, val_score: 0.688737:  70%|#######   | 7/10 [37:32<16:31, 330.42s/it][I 2024-05-01 05:05:46,957] Trial 33 finished with value: 0.6887382765780512 and parameters: {'bagging_fraction': 0.9861692459844718, 'bagging_freq': 7}. Best is trial 31 with value: 0.6887366620344194.\n",
      "bagging, val_score: 0.688737:  80%|########  | 8/10 [41:41<10:08, 304.44s/it][I 2024-05-01 05:09:55,754] Trial 34 finished with value: 0.688882798154123 and parameters: {'bagging_fraction': 0.8273496056099923, 'bagging_freq': 5}. Best is trial 31 with value: 0.6887366620344194.\n",
      "bagging, val_score: 0.688737:  90%|######### | 9/10 [45:35<04:42, 282.33s/it][I 2024-05-01 05:13:49,485] Trial 35 finished with value: 0.6889369084052029 and parameters: {'bagging_fraction': 0.8204762077100335, 'bagging_freq': 5}. Best is trial 31 with value: 0.6887366620344194.\n",
      "bagging, val_score: 0.688737: 100%|##########| 10/10 [49:05<00:00, 260.07s/it][I 2024-05-01 05:17:19,708] Trial 36 finished with value: 0.6888503502514461 and parameters: {'bagging_fraction': 0.85332492986198, 'bagging_freq': 1}. Best is trial 31 with value: 0.6887366620344194.\n",
      "bagging, val_score: 0.688737: 100%|##########| 10/10 [49:05<00:00, 294.57s/it]\n",
      "feature_fraction_stage2, val_score: 0.688737:  17%|#6        | 1/6 [06:04<30:23, 364.64s/it][I 2024-05-01 05:23:24,357] Trial 37 finished with value: 0.6887366620344194 and parameters: {'feature_fraction': 0.484}. Best is trial 37 with value: 0.6887366620344194.\n",
      "feature_fraction_stage2, val_score: 0.688737:  33%|###3      | 2/6 [10:24<20:11, 302.88s/it][I 2024-05-01 05:27:44,008] Trial 38 finished with value: 0.6888785345861577 and parameters: {'feature_fraction': 0.45199999999999996}. Best is trial 37 with value: 0.6887366620344194.\n",
      "feature_fraction_stage2, val_score: 0.688737:  50%|#####     | 3/6 [14:24<13:42, 274.15s/it][I 2024-05-01 05:31:43,971] Trial 39 finished with value: 0.688902125176476 and parameters: {'feature_fraction': 0.42}. Best is trial 37 with value: 0.6887366620344194.\n",
      "feature_fraction_stage2, val_score: 0.688737:  67%|######6   | 4/6 [21:08<10:51, 325.70s/it][I 2024-05-01 05:38:28,698] Trial 40 finished with value: 0.6887366620344194 and parameters: {'feature_fraction': 0.516}. Best is trial 37 with value: 0.6887366620344194.\n",
      "feature_fraction_stage2, val_score: 0.688737:  83%|########3 | 5/6 [26:26<05:22, 322.61s/it][I 2024-05-01 05:43:45,852] Trial 41 finished with value: 0.6888818886583048 and parameters: {'feature_fraction': 0.5479999999999999}. Best is trial 37 with value: 0.6887366620344194.\n",
      "feature_fraction_stage2, val_score: 0.688737: 100%|##########| 6/6 [32:38<00:00, 339.39s/it][I 2024-05-01 05:49:57,798] Trial 42 finished with value: 0.6889331078451945 and parameters: {'feature_fraction': 0.58}. Best is trial 37 with value: 0.6887366620344194.\n",
      "feature_fraction_stage2, val_score: 0.688737: 100%|##########| 6/6 [32:38<00:00, 326.35s/it]\n",
      "regularization_factors, val_score: 0.688737:   5%|5         | 1/20 [06:30<2:03:48, 390.97s/it][I 2024-05-01 05:56:28,780] Trial 43 finished with value: 0.688736662040007 and parameters: {'lambda_l1': 4.020448680588366e-06, 'lambda_l2': 5.063045298563952e-06}. Best is trial 43 with value: 0.688736662040007.\n",
      "regularization_factors, val_score: 0.688737:  10%|#         | 2/20 [12:57<1:56:35, 388.62s/it][I 2024-05-01 06:02:55,774] Trial 44 finished with value: 0.688736662039215 and parameters: {'lambda_l1': 3.485829307948253e-06, 'lambda_l2': 2.816150674907995e-06}. Best is trial 44 with value: 0.688736662039215.\n",
      "regularization_factors, val_score: 0.688737:  15%|#5        | 3/20 [19:39<1:51:46, 394.50s/it][I 2024-05-01 06:09:37,256] Trial 45 finished with value: 0.6887366620360702 and parameters: {'lambda_l1': 1.1432519221803943e-06, 'lambda_l2': 3.427460308826897e-06}. Best is trial 45 with value: 0.6887366620360702.\n",
      "regularization_factors, val_score: 0.688737:  20%|##        | 4/20 [26:42<1:48:10, 405.66s/it][I 2024-05-01 06:16:40,029] Trial 46 finished with value: 0.6887366620364761 and parameters: {'lambda_l1': 1.4798941201571672e-06, 'lambda_l2': 1.8788704117504469e-06}. Best is trial 45 with value: 0.6887366620360702.\n",
      "regularization_factors, val_score: 0.688737:  25%|##5       | 5/20 [33:32<1:41:50, 407.37s/it][I 2024-05-01 06:23:30,427] Trial 47 finished with value: 0.6887366620344773 and parameters: {'lambda_l1': 4.17220162674358e-08, 'lambda_l2': 1.4308036822355162e-08}. Best is trial 47 with value: 0.6887366620344773.\n",
      "regularization_factors, val_score: 0.688737:  30%|###       | 6/20 [40:09<1:34:14, 403.87s/it][I 2024-05-01 06:30:07,513] Trial 48 finished with value: 0.6887366620344406 and parameters: {'lambda_l1': 1.5278799084682013e-08, 'lambda_l2': 1.0733573240412544e-08}. Best is trial 48 with value: 0.6887366620344406.\n",
      "regularization_factors, val_score: 0.688737:  35%|###5      | 7/20 [46:56<1:27:43, 404.87s/it][I 2024-05-01 06:36:54,423] Trial 49 finished with value: 0.68873666203444 and parameters: {'lambda_l1': 1.4639179012477294e-08, 'lambda_l2': 1.277169343477005e-08}. Best is trial 49 with value: 0.68873666203444.\n",
      "regularization_factors, val_score: 0.688737:  40%|####      | 8/20 [53:25<1:19:57, 399.82s/it][I 2024-05-01 06:43:23,435] Trial 50 finished with value: 0.688739492878755 and parameters: {'lambda_l1': 0.5763555640884842, 'lambda_l2': 1.6833672674696125}. Best is trial 49 with value: 0.68873666203444.\n",
      "regularization_factors, val_score: 0.688737:  45%|####5     | 9/20 [59:55<1:12:43, 396.69s/it][I 2024-05-01 06:49:53,234] Trial 51 finished with value: 0.6887366620344383 and parameters: {'lambda_l1': 1.3139703780160882e-08, 'lambda_l2': 2.8451543376419608e-08}. Best is trial 51 with value: 0.6887366620344383.\n",
      "regularization_factors, val_score: 0.688737:  50%|#####     | 10/20 [1:06:43<1:06:41, 400.19s/it][I 2024-05-01 06:56:41,261] Trial 52 finished with value: 0.688736662034451 and parameters: {'lambda_l1': 2.2799099368542483e-08, 'lambda_l2': 1.0444635450662701e-08}. Best is trial 51 with value: 0.6887366620344383.\n",
      "regularization_factors, val_score: 0.688737:  55%|#####5    | 11/20 [1:13:31<1:00:22, 402.49s/it][I 2024-05-01 07:03:28,962] Trial 53 finished with value: 0.68873666203444 and parameters: {'lambda_l1': 1.463012974172514e-08, 'lambda_l2': 1.4788707184734314e-08}. Best is trial 51 with value: 0.6887366620344383.\n",
      "regularization_factors, val_score: 0.688737:  60%|######    | 12/20 [1:20:16<53:46, 403.29s/it]  [I 2024-05-01 07:10:14,094] Trial 54 finished with value: 0.6887366697552877 and parameters: {'lambda_l1': 0.006050784093874827, 'lambda_l2': 1.6205448176514802e-07}. Best is trial 51 with value: 0.6887366620344383.\n",
      "regularization_factors, val_score: 0.688737:  65%|######5   | 13/20 [1:27:05<47:16, 405.19s/it][I 2024-05-01 07:17:03,654] Trial 55 finished with value: 0.6887366620583285 and parameters: {'lambda_l1': 1.4294175276125261e-08, 'lambda_l2': 0.0007736972314267508}. Best is trial 51 with value: 0.6887366620344383.\n",
      "regularization_factors, val_score: 0.688737:  70%|#######   | 14/20 [1:33:51<40:32, 405.47s/it][I 2024-05-01 07:23:49,784] Trial 56 finished with value: 0.688736662152335 and parameters: {'lambda_l1': 8.050033075840094e-05, 'lambda_l2': 0.00029653846009023246}. Best is trial 51 with value: 0.6887366620344383.\n",
      "regularization_factors, val_score: 0.688737:  75%|#######5  | 15/20 [1:40:41<33:53, 406.72s/it][I 2024-05-01 07:30:39,397] Trial 57 finished with value: 0.6887366620346786 and parameters: {'lambda_l1': 1.8678920138497945e-07, 'lambda_l2': 2.0008847912381203e-07}. Best is trial 51 with value: 0.6887366620344383.\n",
      "regularization_factors, val_score: 0.688737:  80%|########  | 16/20 [1:47:27<27:06, 406.59s/it][I 2024-05-01 07:37:25,666] Trial 58 finished with value: 0.68873662706053 and parameters: {'lambda_l1': 0.0002934675745927606, 'lambda_l2': 1.9993573915825718e-07}. Best is trial 58 with value: 0.68873662706053.\n",
      "regularization_factors, val_score: 0.688737:  85%|########5 | 17/20 [1:54:24<20:28, 409.52s/it][I 2024-05-01 07:44:22,016] Trial 59 finished with value: 0.6887370674112507 and parameters: {'lambda_l1': 0.007802079731303507, 'lambda_l2': 2.5097732351308493e-07}. Best is trial 58 with value: 0.68873662706053.\n",
      "regularization_factors, val_score: 0.688737:  90%|######### | 18/20 [2:01:12<13:38, 409.13s/it][I 2024-05-01 07:51:10,224] Trial 60 finished with value: 0.6887366621225596 and parameters: {'lambda_l1': 6.317222593878076e-05, 'lambda_l2': 9.046972635756493e-05}. Best is trial 58 with value: 0.68873662706053.\n",
      "regularization_factors, val_score: 0.688737:  95%|#########5| 19/20 [2:06:17<06:17, 377.84s/it][I 2024-05-01 07:56:15,191] Trial 61 finished with value: 0.6889000768258505 and parameters: {'lambda_l1': 6.383976490936959, 'lambda_l2': 8.803391538123415e-08}. Best is trial 58 with value: 0.68873662706053.\n",
      "regularization_factors, val_score: 0.688737: 100%|##########| 20/20 [2:12:38<00:00, 378.84s/it][I 2024-05-01 08:02:36,346] Trial 62 finished with value: 0.6887366620347454 and parameters: {'lambda_l1': 2.393960141314317e-07, 'lambda_l2': 5.817840150180196e-08}. Best is trial 58 with value: 0.68873662706053.\n",
      "regularization_factors, val_score: 0.688737: 100%|##########| 20/20 [2:12:38<00:00, 397.93s/it]\n",
      "min_child_samples, val_score: 0.688737:  20%|##        | 1/5 [06:18<25:12, 378.14s/it][I 2024-05-01 08:08:54,502] Trial 63 finished with value: 0.6887366207097302 and parameters: {'min_child_samples': 25}. Best is trial 63 with value: 0.6887366207097302.\n",
      "min_child_samples, val_score: 0.688737:  40%|####      | 2/5 [12:41<19:03, 381.30s/it][I 2024-05-01 08:15:18,011] Trial 64 finished with value: 0.6887366295054754 and parameters: {'min_child_samples': 10}. Best is trial 63 with value: 0.6887366207097302.\n",
      "min_child_samples, val_score: 0.688737:  60%|######    | 3/5 [19:14<12:53, 386.60s/it][I 2024-05-01 08:21:50,918] Trial 65 finished with value: 0.6887366295054753 and parameters: {'min_child_samples': 5}. Best is trial 63 with value: 0.6887366207097302.\n",
      "min_child_samples, val_score: 0.688737:  80%|########  | 4/5 [26:07<06:36, 396.92s/it][I 2024-05-01 08:28:43,643] Trial 66 finished with value: 0.6887365954517569 and parameters: {'min_child_samples': 100}. Best is trial 66 with value: 0.6887365954517569.\n",
      "min_child_samples, val_score: 0.688737: 100%|##########| 5/5 [32:25<00:00, 390.23s/it][I 2024-05-01 08:35:02,004] Trial 67 finished with value: 0.6887366133449552 and parameters: {'min_child_samples': 50}. Best is trial 66 with value: 0.6887365954517569.\n",
      "min_child_samples, val_score: 0.688737: 100%|##########| 5/5 [32:25<00:00, 389.13s/it]"
     ]
    },
    {
     "name": "stdout",
     "output_type": "stream",
     "text": [
      "CPU times: user 20h 29min 49s, sys: 36min 35s, total: 21h 6min 25s\n",
      "Wall time: 6h 22min 1s\n"
     ]
    },
    {
     "name": "stderr",
     "output_type": "stream",
     "text": [
      "\n"
     ]
    }
   ],
   "source": [
    "%%time\n",
    "tuner.run()"
   ]
  },
  {
   "cell_type": "code",
   "execution_count": 13,
   "id": "75849850",
   "metadata": {
    "execution": {
     "iopub.execute_input": "2024-05-01T08:35:02.108415Z",
     "iopub.status.busy": "2024-05-01T08:35:02.108020Z",
     "iopub.status.idle": "2024-05-01T08:35:02.120348Z",
     "shell.execute_reply": "2024-05-01T08:35:02.119392Z"
    },
    "papermill": {
     "duration": 0.046873,
     "end_time": "2024-05-01T08:35:02.122937",
     "exception": false,
     "start_time": "2024-05-01T08:35:02.076064",
     "status": "completed"
    },
    "tags": []
   },
   "outputs": [],
   "source": [
    "def comp_metric(y_true, y_pred):\n",
    "    return r2_score(y_true, y_pred)\n",
    "\n",
    "def custom_cv(estimator, seed=SEED, verbose=True):\n",
    "    X_test = test[features]\n",
    "    \n",
    "    oof_preds, test_preds = {}, {}\n",
    "    scores = []\n",
    "\n",
    "    cv = KFold(n_splits=NUM_FOLDS, shuffle=True, random_state=seed)\n",
    "    for fold, (train_ids, val_ids) in enumerate(cv.split(extended)):\n",
    "        X_train, y_train = extended[features].iloc[train_ids], extended[TARGET].iloc[train_ids]\n",
    "        X_val, y_val = extended[features].iloc[val_ids], extended[TARGET].iloc[val_ids]\n",
    "        \n",
    "        model = clone(estimator)\n",
    "        model.fit(\n",
    "            X_train, y_train,\n",
    "            eval_set=[(X_val, y_val)],\n",
    "            callbacks=[early_stopping])\n",
    "\n",
    "        val_preds = model.predict(X_val)\n",
    "        oof_preds.update(dict(zip(val_ids, val_preds)))\n",
    "        test_preds[f'fold{fold}'] = model.predict(X_test)\n",
    "\n",
    "        score = comp_metric(y_val, val_preds)\n",
    "        scores.append(score)\n",
    "        if verbose:\n",
    "            print(f'Fold #{fold:>2}: {score:.5f} ({model.best_iteration_:>4} rounds)')\n",
    "        _ = gc.collect()\n",
    "\n",
    "    test_preds = pd.DataFrame.from_dict(test_preds)\n",
    "    test_preds['mean'] = test_preds.mean(axis=1) # mean of fold-wise predictions\n",
    "    \n",
    "    oof_preds = pd.Series(oof_preds).sort_index()\n",
    "    print(f'\\nAvg score: {np.mean(scores):.5f} +/- {np.std(scores):.5f}')\n",
    "    print(f'OOF score: {comp_metric(extended[TARGET], oof_preds):.5f}\\n')\n",
    "    \n",
    "    return oof_preds, test_preds"
   ]
  },
  {
   "cell_type": "code",
   "execution_count": 14,
   "id": "7d0ed5d7",
   "metadata": {
    "execution": {
     "iopub.execute_input": "2024-05-01T08:35:02.186892Z",
     "iopub.status.busy": "2024-05-01T08:35:02.186521Z",
     "iopub.status.idle": "2024-05-01T08:51:02.483861Z",
     "shell.execute_reply": "2024-05-01T08:51:02.482602Z"
    },
    "papermill": {
     "duration": 960.332123,
     "end_time": "2024-05-01T08:51:02.486100",
     "exception": false,
     "start_time": "2024-05-01T08:35:02.153977",
     "status": "completed"
    },
    "tags": []
   },
   "outputs": [
    {
     "name": "stdout",
     "output_type": "stream",
     "text": [
      "Fold # 0: 0.83084 ( 182 rounds)\n",
      "Fold # 1: 0.82782 ( 170 rounds)\n",
      "Fold # 2: 0.82552 ( 170 rounds)\n",
      "Fold # 3: 0.83751 ( 222 rounds)\n",
      "Fold # 4: 0.80090 ( 124 rounds)\n",
      "Fold # 5: 0.83460 ( 205 rounds)\n",
      "Fold # 6: 0.81047 ( 137 rounds)\n",
      "Fold # 7: 0.81410 ( 141 rounds)\n",
      "Fold # 8: 0.82509 ( 166 rounds)\n",
      "Fold # 9: 0.80768 ( 133 rounds)\n",
      "\n",
      "Avg score: 0.82145 +/- 0.01173\n",
      "OOF score: 0.82146\n",
      "\n",
      "CPU times: user 15min 58s, sys: 2.05 s, total: 16min\n",
      "Wall time: 16min\n"
     ]
    }
   ],
   "source": [
    "%%time\n",
    "model = LGBMRegressor(**tuner.best_params, n_estimators=10000)\n",
    "op, tp = custom_cv(model)"
   ]
  },
  {
   "cell_type": "code",
   "execution_count": 15,
   "id": "07f08bc7",
   "metadata": {
    "execution": {
     "iopub.execute_input": "2024-05-01T08:51:02.550534Z",
     "iopub.status.busy": "2024-05-01T08:51:02.550135Z",
     "iopub.status.idle": "2024-05-01T08:51:02.555912Z",
     "shell.execute_reply": "2024-05-01T08:51:02.554889Z"
    },
    "papermill": {
     "duration": 0.041007,
     "end_time": "2024-05-01T08:51:02.558066",
     "exception": false,
     "start_time": "2024-05-01T08:51:02.517059",
     "status": "completed"
    },
    "tags": []
   },
   "outputs": [],
   "source": [
    "def create_submission_files(preds, notebook='02'):\n",
    "    for col in preds.columns:\n",
    "        sub = sample_sub.copy()\n",
    "        sub[TARGET] = preds[col]\n",
    "        sub.to_csv(f'nb{notebook}_{col}.csv', index=False)"
   ]
  },
  {
   "cell_type": "code",
   "execution_count": 16,
   "id": "4bf129d9",
   "metadata": {
    "execution": {
     "iopub.execute_input": "2024-05-01T08:51:02.623269Z",
     "iopub.status.busy": "2024-05-01T08:51:02.622905Z",
     "iopub.status.idle": "2024-05-01T08:51:27.846610Z",
     "shell.execute_reply": "2024-05-01T08:51:27.845742Z"
    },
    "papermill": {
     "duration": 25.259846,
     "end_time": "2024-05-01T08:51:27.849202",
     "exception": false,
     "start_time": "2024-05-01T08:51:02.589356",
     "status": "completed"
    },
    "tags": []
   },
   "outputs": [],
   "source": [
    "create_submission_files(tp)"
   ]
  },
  {
   "cell_type": "code",
   "execution_count": 17,
   "id": "5ef82f49",
   "metadata": {
    "execution": {
     "iopub.execute_input": "2024-05-01T08:51:27.915871Z",
     "iopub.status.busy": "2024-05-01T08:51:27.915521Z",
     "iopub.status.idle": "2024-05-01T08:51:28.994497Z",
     "shell.execute_reply": "2024-05-01T08:51:28.993327Z"
    },
    "papermill": {
     "duration": 1.115644,
     "end_time": "2024-05-01T08:51:28.997124",
     "exception": false,
     "start_time": "2024-05-01T08:51:27.881480",
     "status": "completed"
    },
    "tags": []
   },
   "outputs": [
    {
     "name": "stdout",
     "output_type": "stream",
     "text": [
      "id,FloodProbability\r\n",
      "1117957,0.5700424569158742\r\n",
      "1117958,0.4606120742534915\r\n",
      "1117959,0.46415030357303594\r\n",
      "1117960,0.4689588728688152\r\n",
      "1117961,0.4615332779893285\r\n",
      "1117962,0.5053372728145092\r\n",
      "1117963,0.539004799394006\r\n",
      "1117964,0.5257604924359878\r\n",
      "1117965,0.4698265405932124\r\n"
     ]
    }
   ],
   "source": [
    "!head nb02_mean.csv"
   ]
  }
 ],
 "metadata": {
  "kaggle": {
   "accelerator": "none",
   "dataSources": [
    {
     "databundleVersionId": 8121328,
     "sourceId": 73278,
     "sourceType": "competition"
    },
    {
     "datasetId": 4219453,
     "sourceId": 7277740,
     "sourceType": "datasetVersion"
    }
   ],
   "dockerImageVersionId": 30698,
   "isGpuEnabled": false,
   "isInternetEnabled": true,
   "language": "python",
   "sourceType": "notebook"
  },
  "kernelspec": {
   "display_name": "Python 3",
   "language": "python",
   "name": "python3"
  },
  "language_info": {
   "codemirror_mode": {
    "name": "ipython",
    "version": 3
   },
   "file_extension": ".py",
   "mimetype": "text/x-python",
   "name": "python",
   "nbconvert_exporter": "python",
   "pygments_lexer": "ipython3",
   "version": "3.10.13"
  },
  "papermill": {
   "default_parameters": {},
   "duration": 23937.581559,
   "end_time": "2024-05-01T08:51:29.806587",
   "environment_variables": {},
   "exception": null,
   "input_path": "__notebook__.ipynb",
   "output_path": "__notebook__.ipynb",
   "parameters": {},
   "start_time": "2024-05-01T02:12:32.225028",
   "version": "2.5.0"
  }
 },
 "nbformat": 4,
 "nbformat_minor": 5
}
