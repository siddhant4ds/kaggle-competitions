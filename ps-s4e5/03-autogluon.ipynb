{
 "cells": [
  {
   "cell_type": "code",
   "execution_count": 1,
   "id": "def427ad",
   "metadata": {
    "_cell_guid": "b1076dfc-b9ad-4769-8c92-a6c4dae69d19",
    "_uuid": "8f2839f25d086af736a60e9eeb907d3b93b6e0e5",
    "execution": {
     "iopub.execute_input": "2024-05-01T15:58:15.080391Z",
     "iopub.status.busy": "2024-05-01T15:58:15.079989Z",
     "iopub.status.idle": "2024-05-01T16:00:07.138836Z",
     "shell.execute_reply": "2024-05-01T16:00:07.137426Z"
    },
    "papermill": {
     "duration": 112.067159,
     "end_time": "2024-05-01T16:00:07.141547",
     "exception": false,
     "start_time": "2024-05-01T15:58:15.074388",
     "status": "completed"
    },
    "tags": []
   },
   "outputs": [],
   "source": [
    "%%capture\n",
    "!pip install --upgrade autogluon ipywidgets"
   ]
  },
  {
   "cell_type": "code",
   "execution_count": 2,
   "id": "d8a55d4e",
   "metadata": {
    "execution": {
     "iopub.execute_input": "2024-05-01T16:00:07.151084Z",
     "iopub.status.busy": "2024-05-01T16:00:07.150698Z",
     "iopub.status.idle": "2024-05-01T16:00:10.407485Z",
     "shell.execute_reply": "2024-05-01T16:00:10.406402Z"
    },
    "papermill": {
     "duration": 3.264726,
     "end_time": "2024-05-01T16:00:10.410322",
     "exception": false,
     "start_time": "2024-05-01T16:00:07.145596",
     "status": "completed"
    },
    "tags": []
   },
   "outputs": [],
   "source": [
    "import warnings\n",
    "warnings.filterwarnings('ignore')\n",
    "\n",
    "import numpy as np\n",
    "import pandas as pd\n",
    "from autogluon.tabular import TabularPredictor"
   ]
  },
  {
   "cell_type": "code",
   "execution_count": 3,
   "id": "8ea49a11",
   "metadata": {
    "execution": {
     "iopub.execute_input": "2024-05-01T16:00:10.419300Z",
     "iopub.status.busy": "2024-05-01T16:00:10.418697Z",
     "iopub.status.idle": "2024-05-01T16:00:14.005036Z",
     "shell.execute_reply": "2024-05-01T16:00:14.004041Z"
    },
    "papermill": {
     "duration": 3.593857,
     "end_time": "2024-05-01T16:00:14.007784",
     "exception": false,
     "start_time": "2024-05-01T16:00:10.413927",
     "status": "completed"
    },
    "tags": []
   },
   "outputs": [],
   "source": [
    "DATA_DIR = '/kaggle/input/playground-series-s4e5'\n",
    "\n",
    "train = pd.read_csv(f'{DATA_DIR}/train.csv')\n",
    "test = pd.read_csv(f'{DATA_DIR}/test.csv')\n",
    "sample_sub = pd.read_csv(f'{DATA_DIR}/sample_submission.csv')"
   ]
  },
  {
   "cell_type": "code",
   "execution_count": 4,
   "id": "b2c20ef9",
   "metadata": {
    "execution": {
     "iopub.execute_input": "2024-05-01T16:00:14.017530Z",
     "iopub.status.busy": "2024-05-01T16:00:14.016539Z",
     "iopub.status.idle": "2024-05-01T16:00:14.150505Z",
     "shell.execute_reply": "2024-05-01T16:00:14.149318Z"
    },
    "papermill": {
     "duration": 0.141809,
     "end_time": "2024-05-01T16:00:14.153140",
     "exception": false,
     "start_time": "2024-05-01T16:00:14.011331",
     "status": "completed"
    },
    "tags": []
   },
   "outputs": [],
   "source": [
    "train = train.drop('id', axis=1)\n",
    "test = test.drop('id', axis=1)"
   ]
  },
  {
   "cell_type": "code",
   "execution_count": 5,
   "id": "92ba6ba0",
   "metadata": {
    "execution": {
     "iopub.execute_input": "2024-05-01T16:00:14.161674Z",
     "iopub.status.busy": "2024-05-01T16:00:14.161233Z",
     "iopub.status.idle": "2024-05-01T16:00:14.166445Z",
     "shell.execute_reply": "2024-05-01T16:00:14.164994Z"
    },
    "papermill": {
     "duration": 0.012247,
     "end_time": "2024-05-01T16:00:14.168869",
     "exception": false,
     "start_time": "2024-05-01T16:00:14.156622",
     "status": "completed"
    },
    "tags": []
   },
   "outputs": [],
   "source": [
    "TARGET = 'FloodProbability'\n",
    "features = list(test.columns)"
   ]
  },
  {
   "cell_type": "code",
   "execution_count": 6,
   "id": "7bd41955",
   "metadata": {
    "execution": {
     "iopub.execute_input": "2024-05-01T16:00:14.177736Z",
     "iopub.status.busy": "2024-05-01T16:00:14.177309Z",
     "iopub.status.idle": "2024-05-01T16:00:14.537638Z",
     "shell.execute_reply": "2024-05-01T16:00:14.536624Z"
    },
    "papermill": {
     "duration": 0.367633,
     "end_time": "2024-05-01T16:00:14.540262",
     "exception": false,
     "start_time": "2024-05-01T16:00:14.172629",
     "status": "completed"
    },
    "tags": []
   },
   "outputs": [],
   "source": [
    "train['sum_all'] = train[features].sum(axis=1)\n",
    "test['sum_all'] = test[features].sum(axis=1)"
   ]
  },
  {
   "cell_type": "code",
   "execution_count": 7,
   "id": "1e87b0d7",
   "metadata": {
    "execution": {
     "iopub.execute_input": "2024-05-01T16:00:14.549586Z",
     "iopub.status.busy": "2024-05-01T16:00:14.548728Z",
     "iopub.status.idle": "2024-05-01T22:30:22.160896Z",
     "shell.execute_reply": "2024-05-01T22:30:22.159630Z"
    },
    "papermill": {
     "duration": 23407.621724,
     "end_time": "2024-05-01T22:30:22.165620",
     "exception": false,
     "start_time": "2024-05-01T16:00:14.543896",
     "status": "completed"
    },
    "tags": []
   },
   "outputs": [
    {
     "name": "stderr",
     "output_type": "stream",
     "text": [
      "Presets specified: ['best_quality']\n",
      "Setting dynamic_stacking from 'auto' to True. Reason: Enable dynamic_stacking when use_bag_holdout is disabled. (use_bag_holdout=False)\n",
      "Stack configuration (auto_stack=True): num_stack_levels=1, num_bag_folds=8, num_bag_sets=1\n",
      "Dynamic stacking is enabled (dynamic_stacking=True). AutoGluon will try to determine whether the input data is affected by stacked overfitting and enable or disable stacking as a consequence.\n",
      "Detecting stacked overfitting by sub-fitting AutoGluon on the input data. That is, copies of AutoGluon will be sub-fit on subset(s) of the data. Then, the holdout validation data is used to detect stacked overfitting.\n",
      "Sub-fit(s) time limit is: 23400.0 seconds.\n",
      "Starting holdout-based sub-fit for dynamic stacking. Context path is: /kaggle/working/models/ds_sub_fit/sub_fit_ho.\n",
      "Running the sub-fit in a ray process to avoid memory leakage.\n",
      "Spend 6155 seconds for the sub-fit(s) during dynamic stacking.\n",
      "Time left for full fit of AutoGluon: 17245 seconds.\n",
      "Starting full fit now with num_stack_levels 1.\n",
      "Beginning AutoGluon training ... Time limit = 17245s\n",
      "AutoGluon will save models to \"/kaggle/working/models\"\n",
      "=================== System Info ===================\n",
      "AutoGluon Version:  1.1.0\n",
      "Python Version:     3.10.13\n",
      "Operating System:   Linux\n",
      "Platform Machine:   x86_64\n",
      "Platform Version:   #1 SMP Tue Dec 19 13:14:11 UTC 2023\n",
      "CPU Count:          4\n",
      "Memory Avail:       28.43 GB / 31.36 GB (90.7%)\n",
      "Disk Space Avail:   19.50 GB / 19.52 GB (99.9%)\n",
      "===================================================\n",
      "Train Data Rows:    1117957\n",
      "Train Data Columns: 21\n",
      "Label Column:       FloodProbability\n",
      "Problem Type:       regression\n",
      "Preprocessing data ...\n",
      "Using Feature Generators to preprocess the data ...\n",
      "Fitting AutoMLPipelineFeatureGenerator...\n",
      "\tAvailable Memory:                    29796.75 MB\n",
      "\tTrain Data (Original)  Memory Usage: 179.12 MB (0.6% of available memory)\n",
      "\tInferring data type of each feature based on column values. Set feature_metadata_in to manually specify special dtypes of the features.\n",
      "\tStage 1 Generators:\n",
      "\t\tFitting AsTypeFeatureGenerator...\n",
      "\tStage 2 Generators:\n",
      "\t\tFitting FillNaFeatureGenerator...\n",
      "\tStage 3 Generators:\n",
      "\t\tFitting IdentityFeatureGenerator...\n",
      "\tStage 4 Generators:\n",
      "\t\tFitting DropUniqueFeatureGenerator...\n",
      "\tStage 5 Generators:\n",
      "\t\tFitting DropDuplicatesFeatureGenerator...\n",
      "\tTypes of features in original data (raw dtype, special dtypes):\n",
      "\t\t('int', []) : 21 | ['MonsoonIntensity', 'TopographyDrainage', 'RiverManagement', 'Deforestation', 'Urbanization', ...]\n",
      "\tTypes of features in processed data (raw dtype, special dtypes):\n",
      "\t\t('int', []) : 21 | ['MonsoonIntensity', 'TopographyDrainage', 'RiverManagement', 'Deforestation', 'Urbanization', ...]\n",
      "\t3.2s = Fit runtime\n",
      "\t21 features in original data used to generate 21 features in processed data.\n",
      "\tTrain Data (Processed) Memory Usage: 179.12 MB (0.6% of available memory)\n",
      "Data preprocessing and feature engineering runtime = 4.41s ...\n",
      "AutoGluon will gauge predictive performance using evaluation metric: 'r2'\n",
      "\tTo change this, specify the eval_metric parameter of Predictor()\n",
      "Large model count detected (112 configs) ... Only displaying the first 3 models of each family. To see all, set `verbosity=3`.\n",
      "User-specified model hyperparameters to be fit:\n",
      "{\n",
      "\t'NN_TORCH': [{}, {'activation': 'elu', 'dropout_prob': 0.10077639529843717, 'hidden_size': 108, 'learning_rate': 0.002735937344002146, 'num_layers': 4, 'use_batchnorm': True, 'weight_decay': 1.356433327634438e-12, 'ag_args': {'name_suffix': '_r79', 'priority': -2}}, {'activation': 'elu', 'dropout_prob': 0.11897478034205347, 'hidden_size': 213, 'learning_rate': 0.0010474382260641949, 'num_layers': 4, 'use_batchnorm': False, 'weight_decay': 5.594471067786272e-10, 'ag_args': {'name_suffix': '_r22', 'priority': -7}}],\n",
      "\t'GBM': [{'extra_trees': True, 'ag_args': {'name_suffix': 'XT'}}, {}, 'GBMLarge'],\n",
      "\t'CAT': [{}, {'depth': 6, 'grow_policy': 'SymmetricTree', 'l2_leaf_reg': 2.1542798306067823, 'learning_rate': 0.06864209415792857, 'max_ctr_complexity': 4, 'one_hot_max_size': 10, 'ag_args': {'name_suffix': '_r177', 'priority': -1}}, {'depth': 8, 'grow_policy': 'Depthwise', 'l2_leaf_reg': 2.7997999596449104, 'learning_rate': 0.031375015734637225, 'max_ctr_complexity': 2, 'one_hot_max_size': 3, 'ag_args': {'name_suffix': '_r9', 'priority': -5}}],\n",
      "\t'XGB': [{}, {'colsample_bytree': 0.6917311125174739, 'enable_categorical': False, 'learning_rate': 0.018063876087523967, 'max_depth': 10, 'min_child_weight': 0.6028633586934382, 'ag_args': {'name_suffix': '_r33', 'priority': -8}}, {'colsample_bytree': 0.6628423832084077, 'enable_categorical': False, 'learning_rate': 0.08775715546881824, 'max_depth': 5, 'min_child_weight': 0.6294123374222513, 'ag_args': {'name_suffix': '_r89', 'priority': -16}}],\n",
      "\t'FASTAI': [{}, {'bs': 256, 'emb_drop': 0.5411770367537934, 'epochs': 43, 'layers': [800, 400], 'lr': 0.01519848858318159, 'ps': 0.23782946566604385, 'ag_args': {'name_suffix': '_r191', 'priority': -4}}, {'bs': 2048, 'emb_drop': 0.05070411322605811, 'epochs': 29, 'layers': [200, 100], 'lr': 0.08974235041576624, 'ps': 0.10393466140748028, 'ag_args': {'name_suffix': '_r102', 'priority': -11}}],\n",
      "\t'RF': [{'criterion': 'gini', 'ag_args': {'name_suffix': 'Gini', 'problem_types': ['binary', 'multiclass']}}, {'criterion': 'entropy', 'ag_args': {'name_suffix': 'Entr', 'problem_types': ['binary', 'multiclass']}}, {'criterion': 'squared_error', 'ag_args': {'name_suffix': 'MSE', 'problem_types': ['regression', 'quantile']}}],\n",
      "\t'XT': [{'criterion': 'gini', 'ag_args': {'name_suffix': 'Gini', 'problem_types': ['binary', 'multiclass']}}, {'criterion': 'entropy', 'ag_args': {'name_suffix': 'Entr', 'problem_types': ['binary', 'multiclass']}}, {'criterion': 'squared_error', 'ag_args': {'name_suffix': 'MSE', 'problem_types': ['regression', 'quantile']}}],\n",
      "\t'KNN': [{'weights': 'uniform', 'ag_args': {'name_suffix': 'Unif'}}, {'weights': 'distance', 'ag_args': {'name_suffix': 'Dist'}}],\n",
      "}\n",
      "AutoGluon will fit 2 stack levels (L1 to L2) ...\n",
      "Fitting 108 L1 models ...\n",
      "Fitting model: KNeighborsUnif_BAG_L1 ... Training model for up to 11490.85s of the 17240.58s of remaining time.\n",
      "INFO:sklearnex: sklearn.utils.validation._assert_all_finite: running accelerated version on CPU\n",
      "INFO:sklearnex: sklearn.neighbors.KNeighborsRegressor.fit: running accelerated version on CPU\n",
      "INFO:sklearnex: sklearn.utils.validation._assert_all_finite: running accelerated version on CPU\n",
      "INFO:sklearnex: sklearn.utils.validation._assert_all_finite: running accelerated version on CPU\n",
      "INFO:sklearnex: sklearn.neighbors.KNeighborsRegressor.fit: running accelerated version on CPU\n",
      "INFO:sklearnex: sklearn.utils.validation._assert_all_finite: running accelerated version on CPU\n",
      "INFO:sklearnex: sklearn.utils.validation._assert_all_finite: running accelerated version on CPU\n",
      "INFO:sklearnex: sklearn.neighbors.KNeighborsRegressor.fit: running accelerated version on CPU\n",
      "INFO:sklearnex: sklearn.utils.validation._assert_all_finite: running accelerated version on CPU\n",
      "INFO:sklearnex: sklearn.utils.validation._assert_all_finite: running accelerated version on CPU\n",
      "INFO:sklearnex: sklearn.utils.validation._assert_all_finite: running accelerated version on CPU\n",
      "INFO:sklearnex: sklearn.neighbors.KNeighborsRegressor.fit: running accelerated version on CPU\n",
      "INFO:sklearnex: sklearn.utils.validation._assert_all_finite: running accelerated version on CPU\n",
      "INFO:sklearnex: sklearn.utils.validation._assert_all_finite: running accelerated version on CPU\n",
      "INFO:sklearnex: sklearn.utils.validation._assert_all_finite: running accelerated version on CPU\n",
      "INFO:sklearnex: sklearn.neighbors.KNeighborsRegressor.fit: running accelerated version on CPU\n",
      "INFO:sklearnex: sklearn.utils.validation._assert_all_finite: running accelerated version on CPU\n",
      "INFO:sklearnex: sklearn.utils.validation._assert_all_finite: running accelerated version on CPU\n",
      "INFO:sklearnex: sklearn.utils.validation._assert_all_finite: running accelerated version on CPU\n",
      "INFO:sklearnex: sklearn.neighbors.KNeighborsRegressor.fit: running accelerated version on CPU\n",
      "INFO:sklearnex: sklearn.utils.validation._assert_all_finite: running accelerated version on CPU\n",
      "INFO:sklearnex: sklearn.utils.validation._assert_all_finite: running accelerated version on CPU\n",
      "INFO:sklearnex: sklearn.utils.validation._assert_all_finite: running accelerated version on CPU\n",
      "INFO:sklearnex: sklearn.neighbors.KNeighborsRegressor.fit: running accelerated version on CPU\n",
      "INFO:sklearnex: sklearn.utils.validation._assert_all_finite: running accelerated version on CPU\n",
      "INFO:sklearnex: sklearn.utils.validation._assert_all_finite: running accelerated version on CPU\n",
      "INFO:sklearnex: sklearn.utils.validation._assert_all_finite: running accelerated version on CPU\n",
      "INFO:sklearnex: sklearn.neighbors.KNeighborsRegressor.fit: running accelerated version on CPU\n",
      "INFO:sklearnex: sklearn.utils.validation._assert_all_finite: running accelerated version on CPU\n",
      "INFO:sklearnex: sklearn.utils.validation._assert_all_finite: running accelerated version on CPU\n",
      "INFO:sklearnex: sklearn.neighbors.KNeighborsRegressor.predict: running accelerated version on CPU\n",
      "INFO:sklearnex: sklearn.neighbors.KNeighborsRegressor.kneighbors: running accelerated version on CPU\n",
      "\t0.8258\t = Validation score   (r2)\n",
      "\t1.98s\t = Training   runtime\n",
      "\t976.16s\t = Validation runtime\n",
      "Fitting model: KNeighborsDist_BAG_L1 ... Training model for up to 10510.88s of the 16260.6s of remaining time.\n",
      "INFO:sklearnex: sklearn.utils.validation._assert_all_finite: running accelerated version on CPU\n",
      "INFO:sklearnex: sklearn.neighbors.KNeighborsRegressor.fit: running accelerated version on CPU\n",
      "INFO:sklearnex: sklearn.utils.validation._assert_all_finite: running accelerated version on CPU\n",
      "INFO:sklearnex: sklearn.utils.validation._assert_all_finite: running accelerated version on CPU\n",
      "INFO:sklearnex: sklearn.neighbors.KNeighborsRegressor.fit: running accelerated version on CPU\n",
      "INFO:sklearnex: sklearn.utils.validation._assert_all_finite: running accelerated version on CPU\n",
      "INFO:sklearnex: sklearn.utils.validation._assert_all_finite: running accelerated version on CPU\n",
      "INFO:sklearnex: sklearn.neighbors.KNeighborsRegressor.fit: running accelerated version on CPU\n",
      "INFO:sklearnex: sklearn.utils.validation._assert_all_finite: running accelerated version on CPU\n",
      "INFO:sklearnex: sklearn.utils.validation._assert_all_finite: running accelerated version on CPU\n",
      "INFO:sklearnex: sklearn.utils.validation._assert_all_finite: running accelerated version on CPU\n",
      "INFO:sklearnex: sklearn.neighbors.KNeighborsRegressor.fit: running accelerated version on CPU\n",
      "INFO:sklearnex: sklearn.utils.validation._assert_all_finite: running accelerated version on CPU\n",
      "INFO:sklearnex: sklearn.utils.validation._assert_all_finite: running accelerated version on CPU\n",
      "INFO:sklearnex: sklearn.utils.validation._assert_all_finite: running accelerated version on CPU\n",
      "INFO:sklearnex: sklearn.neighbors.KNeighborsRegressor.fit: running accelerated version on CPU\n",
      "INFO:sklearnex: sklearn.utils.validation._assert_all_finite: running accelerated version on CPU\n",
      "INFO:sklearnex: sklearn.utils.validation._assert_all_finite: running accelerated version on CPU\n",
      "INFO:sklearnex: sklearn.utils.validation._assert_all_finite: running accelerated version on CPU\n",
      "INFO:sklearnex: sklearn.neighbors.KNeighborsRegressor.fit: running accelerated version on CPU\n",
      "INFO:sklearnex: sklearn.utils.validation._assert_all_finite: running accelerated version on CPU\n",
      "INFO:sklearnex: sklearn.utils.validation._assert_all_finite: running accelerated version on CPU\n",
      "INFO:sklearnex: sklearn.utils.validation._assert_all_finite: running accelerated version on CPU\n",
      "INFO:sklearnex: sklearn.neighbors.KNeighborsRegressor.fit: running accelerated version on CPU\n",
      "INFO:sklearnex: sklearn.utils.validation._assert_all_finite: running accelerated version on CPU\n",
      "INFO:sklearnex: sklearn.utils.validation._assert_all_finite: running accelerated version on CPU\n",
      "INFO:sklearnex: sklearn.utils.validation._assert_all_finite: running accelerated version on CPU\n",
      "INFO:sklearnex: sklearn.neighbors.KNeighborsRegressor.fit: running accelerated version on CPU\n",
      "INFO:sklearnex: sklearn.utils.validation._assert_all_finite: running accelerated version on CPU\n",
      "INFO:sklearnex: sklearn.utils.validation._assert_all_finite: running accelerated version on CPU\n",
      "INFO:sklearnex: sklearn.neighbors.KNeighborsRegressor.predict: running accelerated version on CPU\n",
      "INFO:sklearnex: sklearn.neighbors.KNeighborsRegressor.kneighbors: running accelerated version on CPU\n",
      "\t0.8258\t = Validation score   (r2)\n",
      "\t1.48s\t = Training   runtime\n",
      "\t968.68s\t = Validation runtime\n",
      "Fitting model: LightGBMXT_BAG_L1 ... Training model for up to 9538.88s of the 15288.61s of remaining time.\n",
      "\tFitting 8 child models (S1F1 - S1F8) | Fitting with ParallelLocalFoldFittingStrategy (4 workers, per: cpus=1, gpus=0, memory=3.83%)\n",
      "\t0.8536\t = Validation score   (r2)\n",
      "\t4267.53s\t = Training   runtime\n",
      "\t878.53s\t = Validation runtime\n",
      "Fitting model: LightGBM_BAG_L1 ... Training model for up to 5201.42s of the 10951.14s of remaining time.\n",
      "\tFitting 8 child models (S1F1 - S1F8) | Fitting with ParallelLocalFoldFittingStrategy (4 workers, per: cpus=1, gpus=0, memory=3.84%)\n",
      "\t0.5852\t = Validation score   (r2)\n",
      "\t117.0s\t = Training   runtime\n",
      "\t2.47s\t = Validation runtime\n",
      "Fitting model: RandomForestMSE_BAG_L1 ... Training model for up to 5079.67s of the 10829.4s of remaining time.\n",
      "\t0.8673\t = Validation score   (r2)\n",
      "\t1828.69s\t = Training   runtime\n",
      "\t51.66s\t = Validation runtime\n",
      "Fitting model: CatBoost_BAG_L1 ... Training model for up to 3196.28s of the 8946.0s of remaining time.\n",
      "\tFitting 8 child models (S1F1 - S1F8) | Fitting with ParallelLocalFoldFittingStrategy (4 workers, per: cpus=1, gpus=0, memory=3.88%)\n",
      "\t0.8676\t = Validation score   (r2)\n",
      "\t2563.31s\t = Training   runtime\n",
      "\t7.3s\t = Validation runtime\n",
      "Fitting model: ExtraTreesMSE_BAG_L1 ... Training model for up to 628.2s of the 6377.92s of remaining time.\n",
      "\tNot enough time to generate out-of-fold predictions for model. Estimated time required was 245.88s compared to 185.47s of available time.\n",
      "\tTime limit exceeded... Skipping ExtraTreesMSE_BAG_L1.\n",
      "Fitting model: WeightedEnsemble_L2 ... Training model for up to 1149.09s of the 5745.76s of remaining time.\n",
      "\tEnsemble Weights: {'CatBoost_BAG_L1': 0.6, 'RandomForestMSE_BAG_L1': 0.4}\n",
      "\t0.8679\t = Validation score   (r2)\n",
      "\t3.08s\t = Training   runtime\n",
      "\t0.02s\t = Validation runtime\n",
      "Fitting 106 L2 models ...\n",
      "Fitting model: LightGBMXT_BAG_L2 ... Training model for up to 5742.57s of the 5742.35s of remaining time.\n",
      "\tFitting 8 child models (S1F1 - S1F8) | Fitting with ParallelLocalFoldFittingStrategy (4 workers, per: cpus=1, gpus=0, memory=4.49%)\n",
      "\t0.8652\t = Validation score   (r2)\n",
      "\t1632.45s\t = Training   runtime\n",
      "\t214.88s\t = Validation runtime\n",
      "Fitting model: LightGBM_BAG_L2 ... Training model for up to 4083.07s of the 4082.85s of remaining time.\n",
      "\tFitting 8 child models (S1F1 - S1F8) | Fitting with ParallelLocalFoldFittingStrategy (4 workers, per: cpus=1, gpus=0, memory=4.50%)\n",
      "\t0.5866\t = Validation score   (r2)\n",
      "\t153.85s\t = Training   runtime\n",
      "\t3.12s\t = Validation runtime\n",
      "Fitting model: RandomForestMSE_BAG_L2 ... Training model for up to 3924.11s of the 3923.89s of remaining time.\n",
      "\t0.8676\t = Validation score   (r2)\n",
      "\t2839.89s\t = Training   runtime\n",
      "\t59.82s\t = Validation runtime\n",
      "Fitting model: CatBoost_BAG_L2 ... Training model for up to 1021.03s of the 1020.81s of remaining time.\n",
      "\tFitting 8 child models (S1F1 - S1F8) | Fitting with ParallelLocalFoldFittingStrategy (4 workers, per: cpus=1, gpus=0, memory=4.54%)\n",
      "\t0.8679\t = Validation score   (r2)\n",
      "\t823.66s\t = Training   runtime\n",
      "\t2.54s\t = Validation runtime\n",
      "Fitting model: ExtraTreesMSE_BAG_L2 ... Training model for up to 192.14s of the 191.91s of remaining time.\n",
      "\tWarning: Reducing model 'n_estimators' from 300 -> 71 due to low time. Expected time usage reduced from 810.8s -> 192.1s...\n",
      "\tNot enough time to generate out-of-fold predictions for model. Estimated time required was 81.14s compared to 59.75s of available time.\n",
      "\tTime limit exceeded... Skipping ExtraTreesMSE_BAG_L2.\n",
      "Fitting model: WeightedEnsemble_L3 ... Training model for up to 574.26s of the -0.79s of remaining time.\n",
      "\tEnsemble Weights: {'RandomForestMSE_BAG_L2': 0.357, 'CatBoost_BAG_L2': 0.286, 'CatBoost_BAG_L1': 0.214, 'RandomForestMSE_BAG_L1': 0.143}\n",
      "\t0.8681\t = Validation score   (r2)\n",
      "\t5.1s\t = Training   runtime\n",
      "\t0.02s\t = Validation runtime\n",
      "AutoGluon training complete, total runtime = 17251.41s ... Best model: \"WeightedEnsemble_L3\"\n",
      "TabularPredictor saved. To load, use: predictor = TabularPredictor.load(\"/kaggle/working/models\")\n"
     ]
    },
    {
     "data": {
      "text/plain": [
       "<autogluon.tabular.predictor.predictor.TabularPredictor at 0x7f22245525c0>"
      ]
     },
     "execution_count": 7,
     "metadata": {},
     "output_type": "execute_result"
    }
   ],
   "source": [
    "time_limit = 60 * 60 * 6.5\n",
    "metric = 'r2'\n",
    "\n",
    "predictor = TabularPredictor(\n",
    "    label=TARGET, \n",
    "    problem_type='regression',\n",
    "    eval_metric=metric,\n",
    "    path='/kaggle/working/models')\n",
    "\n",
    "predictor.fit(\n",
    "    train,\n",
    "    time_limit=time_limit,\n",
    "    presets='best_quality')"
   ]
  },
  {
   "cell_type": "code",
   "execution_count": 8,
   "id": "c28c4c8f",
   "metadata": {
    "execution": {
     "iopub.execute_input": "2024-05-01T22:30:22.202892Z",
     "iopub.status.busy": "2024-05-01T22:30:22.201915Z",
     "iopub.status.idle": "2024-05-01T23:04:59.173445Z",
     "shell.execute_reply": "2024-05-01T23:04:59.169793Z"
    },
    "papermill": {
     "duration": 2077.010955,
     "end_time": "2024-05-01T23:04:59.193037",
     "exception": false,
     "start_time": "2024-05-01T22:30:22.182082",
     "status": "completed"
    },
    "tags": []
   },
   "outputs": [
    {
     "name": "stderr",
     "output_type": "stream",
     "text": [
      "INFO:sklearnex: sklearn.neighbors.KNeighborsRegressor.predict: running accelerated version on CPU\n",
      "INFO:sklearnex: sklearn.utils.validation._assert_all_finite: running accelerated version on CPU\n",
      "INFO:sklearnex: sklearn.neighbors.KNeighborsRegressor.predict: running accelerated version on CPU\n",
      "INFO:sklearnex: sklearn.utils.validation._assert_all_finite: running accelerated version on CPU\n"
     ]
    },
    {
     "name": "stdout",
     "output_type": "stream",
     "text": [
      "CPU times: user 1h 48min 31s, sys: 15.4 s, total: 1h 48min 46s\n",
      "Wall time: 34min 36s\n"
     ]
    }
   ],
   "source": [
    "%%time\n",
    "preds = predictor.predict(test)"
   ]
  },
  {
   "cell_type": "code",
   "execution_count": 9,
   "id": "81e49750",
   "metadata": {
    "execution": {
     "iopub.execute_input": "2024-05-01T23:04:59.228112Z",
     "iopub.status.busy": "2024-05-01T23:04:59.226283Z",
     "iopub.status.idle": "2024-05-01T23:04:59.234039Z",
     "shell.execute_reply": "2024-05-01T23:04:59.232513Z"
    },
    "papermill": {
     "duration": 0.027742,
     "end_time": "2024-05-01T23:04:59.236788",
     "exception": false,
     "start_time": "2024-05-01T23:04:59.209046",
     "status": "completed"
    },
    "tags": []
   },
   "outputs": [],
   "source": [
    "def create_submission_files(preds, notebook='03'):\n",
    "    sub = sample_sub.copy()\n",
    "    sub[TARGET] = preds.clip(0, 1)\n",
    "    sub.to_csv(f'nb{notebook}.csv', index=False)"
   ]
  },
  {
   "cell_type": "code",
   "execution_count": 10,
   "id": "1401b28d",
   "metadata": {
    "execution": {
     "iopub.execute_input": "2024-05-01T23:04:59.270994Z",
     "iopub.status.busy": "2024-05-01T23:04:59.270334Z",
     "iopub.status.idle": "2024-05-01T23:05:00.525813Z",
     "shell.execute_reply": "2024-05-01T23:05:00.524267Z"
    },
    "papermill": {
     "duration": 1.27612,
     "end_time": "2024-05-01T23:05:00.528489",
     "exception": false,
     "start_time": "2024-05-01T23:04:59.252369",
     "status": "completed"
    },
    "tags": []
   },
   "outputs": [],
   "source": [
    "create_submission_files(preds)"
   ]
  },
  {
   "cell_type": "code",
   "execution_count": 11,
   "id": "bc9ba8e9",
   "metadata": {
    "execution": {
     "iopub.execute_input": "2024-05-01T23:05:00.563279Z",
     "iopub.status.busy": "2024-05-01T23:05:00.562893Z",
     "iopub.status.idle": "2024-05-01T23:05:01.670488Z",
     "shell.execute_reply": "2024-05-01T23:05:01.669059Z"
    },
    "papermill": {
     "duration": 1.12726,
     "end_time": "2024-05-01T23:05:01.673390",
     "exception": false,
     "start_time": "2024-05-01T23:05:00.546130",
     "status": "completed"
    },
    "tags": []
   },
   "outputs": [
    {
     "name": "stdout",
     "output_type": "stream",
     "text": [
      "id,FloodProbability\r\n",
      "1117957,0.5773626\r\n",
      "1117958,0.4512708\r\n",
      "1117959,0.44890797\r\n",
      "1117960,0.471793\r\n",
      "1117961,0.47135243\r\n",
      "1117962,0.50706774\r\n",
      "1117963,0.5371877\r\n",
      "1117964,0.5279045\r\n",
      "1117965,0.4729153\r\n"
     ]
    }
   ],
   "source": [
    "!head nb03.csv"
   ]
  }
 ],
 "metadata": {
  "kaggle": {
   "accelerator": "none",
   "dataSources": [
    {
     "databundleVersionId": 8121328,
     "sourceId": 73278,
     "sourceType": "competition"
    }
   ],
   "dockerImageVersionId": 30698,
   "isGpuEnabled": false,
   "isInternetEnabled": true,
   "language": "python",
   "sourceType": "notebook"
  },
  "kernelspec": {
   "display_name": "Python 3",
   "language": "python",
   "name": "python3"
  },
  "language_info": {
   "codemirror_mode": {
    "name": "ipython",
    "version": 3
   },
   "file_extension": ".py",
   "mimetype": "text/x-python",
   "name": "python",
   "nbconvert_exporter": "python",
   "pygments_lexer": "ipython3",
   "version": "3.10.13"
  },
  "papermill": {
   "default_parameters": {},
   "duration": 25614.802569,
   "end_time": "2024-05-01T23:05:07.012009",
   "environment_variables": {},
   "exception": null,
   "input_path": "__notebook__.ipynb",
   "output_path": "__notebook__.ipynb",
   "parameters": {},
   "start_time": "2024-05-01T15:58:12.209440",
   "version": "2.5.0"
  }
 },
 "nbformat": 4,
 "nbformat_minor": 5
}
