{
 "cells": [
  {
   "cell_type": "code",
   "execution_count": 1,
   "id": "07d2f924",
   "metadata": {
    "_cell_guid": "b1076dfc-b9ad-4769-8c92-a6c4dae69d19",
    "_uuid": "8f2839f25d086af736a60e9eeb907d3b93b6e0e5",
    "execution": {
     "iopub.execute_input": "2024-05-01T04:46:15.517243Z",
     "iopub.status.busy": "2024-05-01T04:46:15.516755Z",
     "iopub.status.idle": "2024-05-01T04:46:34.238855Z",
     "shell.execute_reply": "2024-05-01T04:46:34.237567Z"
    },
    "papermill": {
     "duration": 18.73201,
     "end_time": "2024-05-01T04:46:34.241631",
     "exception": false,
     "start_time": "2024-05-01T04:46:15.509621",
     "status": "completed"
    },
    "tags": []
   },
   "outputs": [],
   "source": [
    "%%capture\n",
    "!pip install --upgrade flaml[automl] ipywidgets"
   ]
  },
  {
   "cell_type": "code",
   "execution_count": 2,
   "id": "cb922412",
   "metadata": {
    "execution": {
     "iopub.execute_input": "2024-05-01T04:46:34.254257Z",
     "iopub.status.busy": "2024-05-01T04:46:34.253034Z",
     "iopub.status.idle": "2024-05-01T04:46:41.230778Z",
     "shell.execute_reply": "2024-05-01T04:46:41.229698Z"
    },
    "papermill": {
     "duration": 6.986919,
     "end_time": "2024-05-01T04:46:41.233577",
     "exception": false,
     "start_time": "2024-05-01T04:46:34.246658",
     "status": "completed"
    },
    "tags": []
   },
   "outputs": [],
   "source": [
    "import gc\n",
    "gc.enable()\n",
    "\n",
    "import warnings\n",
    "warnings.filterwarnings('ignore')\n",
    "\n",
    "import numpy as np\n",
    "import pandas as pd\n",
    "from sklearn.model_selection import KFold\n",
    "from flaml import AutoML\n",
    "\n",
    "SEED = 2024"
   ]
  },
  {
   "cell_type": "code",
   "execution_count": 3,
   "id": "26a635b9",
   "metadata": {
    "execution": {
     "iopub.execute_input": "2024-05-01T04:46:41.245577Z",
     "iopub.status.busy": "2024-05-01T04:46:41.244375Z",
     "iopub.status.idle": "2024-05-01T04:46:45.501486Z",
     "shell.execute_reply": "2024-05-01T04:46:45.500173Z"
    },
    "papermill": {
     "duration": 4.266031,
     "end_time": "2024-05-01T04:46:45.504358",
     "exception": false,
     "start_time": "2024-05-01T04:46:41.238327",
     "status": "completed"
    },
    "tags": []
   },
   "outputs": [],
   "source": [
    "DATA_DIR = '/kaggle/input/playground-series-s4e5'\n",
    "\n",
    "train = pd.read_csv(f'{DATA_DIR}/train.csv')\n",
    "test = pd.read_csv(f'{DATA_DIR}/test.csv')"
   ]
  },
  {
   "cell_type": "code",
   "execution_count": 4,
   "id": "38c510f4",
   "metadata": {
    "execution": {
     "iopub.execute_input": "2024-05-01T04:46:45.516170Z",
     "iopub.status.busy": "2024-05-01T04:46:45.515104Z",
     "iopub.status.idle": "2024-05-01T04:46:45.647576Z",
     "shell.execute_reply": "2024-05-01T04:46:45.646351Z"
    },
    "papermill": {
     "duration": 0.141116,
     "end_time": "2024-05-01T04:46:45.650336",
     "exception": false,
     "start_time": "2024-05-01T04:46:45.509220",
     "status": "completed"
    },
    "tags": []
   },
   "outputs": [],
   "source": [
    "train = train.drop('id', axis=1)\n",
    "test = test.drop('id', axis=1)"
   ]
  },
  {
   "cell_type": "code",
   "execution_count": 5,
   "id": "b1bcd176",
   "metadata": {
    "execution": {
     "iopub.execute_input": "2024-05-01T04:46:45.661308Z",
     "iopub.status.busy": "2024-05-01T04:46:45.660894Z",
     "iopub.status.idle": "2024-05-01T04:46:45.666186Z",
     "shell.execute_reply": "2024-05-01T04:46:45.664980Z"
    },
    "papermill": {
     "duration": 0.013575,
     "end_time": "2024-05-01T04:46:45.668626",
     "exception": false,
     "start_time": "2024-05-01T04:46:45.655051",
     "status": "completed"
    },
    "tags": []
   },
   "outputs": [],
   "source": [
    "TARGET = 'FloodProbability'\n",
    "features = [f for f in test.columns]"
   ]
  },
  {
   "cell_type": "code",
   "execution_count": 6,
   "id": "287bfcb5",
   "metadata": {
    "execution": {
     "iopub.execute_input": "2024-05-01T04:46:45.679576Z",
     "iopub.status.busy": "2024-05-01T04:46:45.679110Z",
     "iopub.status.idle": "2024-05-01T04:46:45.685918Z",
     "shell.execute_reply": "2024-05-01T04:46:45.684687Z"
    },
    "papermill": {
     "duration": 0.01536,
     "end_time": "2024-05-01T04:46:45.688657",
     "exception": false,
     "start_time": "2024-05-01T04:46:45.673297",
     "status": "completed"
    },
    "tags": []
   },
   "outputs": [],
   "source": [
    "TIME_BUDGET = 60 * 60 * 11\n",
    "NUM_FOLDS = 10\n",
    "\n",
    "automl_settings = {\n",
    "    'time_budget': TIME_BUDGET,\n",
    "    'task': 'regression',\n",
    "    'metric': 'r2',\n",
    "    'ensemble': True,\n",
    "    'eval_method': 'cv',\n",
    "    'split_type': KFold(n_splits=NUM_FOLDS, shuffle=True, random_state=SEED),\n",
    "    'retrain_full': True,\n",
    "    'early_stop': True,\n",
    "    'seed': SEED\n",
    "}"
   ]
  },
  {
   "cell_type": "code",
   "execution_count": 7,
   "id": "c0d0ab8c",
   "metadata": {
    "execution": {
     "iopub.execute_input": "2024-05-01T04:46:45.700091Z",
     "iopub.status.busy": "2024-05-01T04:46:45.699654Z",
     "iopub.status.idle": "2024-05-01T16:22:12.999413Z",
     "shell.execute_reply": "2024-05-01T16:22:12.997714Z"
    },
    "papermill": {
     "duration": 41727.310026,
     "end_time": "2024-05-01T16:22:13.003568",
     "exception": false,
     "start_time": "2024-05-01T04:46:45.693542",
     "status": "completed"
    },
    "tags": []
   },
   "outputs": [
    {
     "name": "stdout",
     "output_type": "stream",
     "text": [
      "[flaml.automl.logger: 05-01 04:46:50] {1680} INFO - task = regression\n",
      "[flaml.automl.logger: 05-01 04:46:50] {1691} INFO - Evaluation method: cv\n",
      "[flaml.automl.logger: 05-01 04:46:50] {1789} INFO - Minimizing error metric: 1-r2\n",
      "[flaml.automl.logger: 05-01 04:46:50] {1901} INFO - List of ML learners in AutoML Run: ['lgbm', 'rf', 'catboost', 'xgboost', 'extra_tree', 'xgb_limitdepth']\n",
      "[flaml.automl.logger: 05-01 04:46:50] {2219} INFO - iteration 0, current learner lgbm\n",
      "[flaml.automl.logger: 05-01 04:47:21] {2345} INFO - Estimated sufficient time budget=306846s. Estimated necessary time budget=2624s.\n",
      "[flaml.automl.logger: 05-01 04:47:21] {2392} INFO -  at 35.4s,\testimator lgbm's best error=0.9631,\tbest estimator lgbm's best error=0.9631\n",
      "[flaml.automl.logger: 05-01 04:47:21] {2219} INFO - iteration 1, current learner lgbm\n",
      "[flaml.automl.logger: 05-01 04:47:55] {2392} INFO -  at 70.1s,\testimator lgbm's best error=0.9631,\tbest estimator lgbm's best error=0.9631\n",
      "[flaml.automl.logger: 05-01 04:47:55] {2219} INFO - iteration 2, current learner lgbm\n",
      "[flaml.automl.logger: 05-01 04:48:26] {2392} INFO -  at 101.1s,\testimator lgbm's best error=0.9453,\tbest estimator lgbm's best error=0.9453\n",
      "[flaml.automl.logger: 05-01 04:48:26] {2219} INFO - iteration 3, current learner xgboost\n",
      "[flaml.automl.logger: 05-01 04:49:06] {2392} INFO -  at 141.1s,\testimator xgboost's best error=0.9631,\tbest estimator lgbm's best error=0.9453\n",
      "[flaml.automl.logger: 05-01 04:49:06] {2219} INFO - iteration 4, current learner lgbm\n",
      "[flaml.automl.logger: 05-01 04:49:44] {2392} INFO -  at 179.0s,\testimator lgbm's best error=0.9310,\tbest estimator lgbm's best error=0.9310\n",
      "[flaml.automl.logger: 05-01 04:49:44] {2219} INFO - iteration 5, current learner lgbm\n",
      "[flaml.automl.logger: 05-01 04:50:15] {2392} INFO -  at 209.3s,\testimator lgbm's best error=0.9310,\tbest estimator lgbm's best error=0.9310\n",
      "[flaml.automl.logger: 05-01 04:50:15] {2219} INFO - iteration 6, current learner lgbm\n",
      "[flaml.automl.logger: 05-01 04:51:24] {2392} INFO -  at 278.6s,\testimator lgbm's best error=0.8349,\tbest estimator lgbm's best error=0.8349\n",
      "[flaml.automl.logger: 05-01 04:51:24] {2219} INFO - iteration 7, current learner lgbm\n",
      "[flaml.automl.logger: 05-01 04:52:01] {2392} INFO -  at 315.6s,\testimator lgbm's best error=0.8349,\tbest estimator lgbm's best error=0.8349\n",
      "[flaml.automl.logger: 05-01 04:52:01] {2219} INFO - iteration 8, current learner lgbm\n",
      "[flaml.automl.logger: 05-01 04:53:30] {2392} INFO -  at 404.8s,\testimator lgbm's best error=0.7432,\tbest estimator lgbm's best error=0.7432\n",
      "[flaml.automl.logger: 05-01 04:53:30] {2219} INFO - iteration 9, current learner xgboost\n",
      "[flaml.automl.logger: 05-01 04:54:10] {2392} INFO -  at 445.2s,\testimator xgboost's best error=0.9631,\tbest estimator lgbm's best error=0.7432\n",
      "[flaml.automl.logger: 05-01 04:54:10] {2219} INFO - iteration 10, current learner xgboost\n",
      "[flaml.automl.logger: 05-01 04:54:49] {2392} INFO -  at 483.4s,\testimator xgboost's best error=0.9446,\tbest estimator lgbm's best error=0.7432\n",
      "[flaml.automl.logger: 05-01 04:54:49] {2219} INFO - iteration 11, current learner extra_tree\n",
      "[flaml.automl.logger: 05-01 04:55:24] {2392} INFO -  at 518.5s,\testimator extra_tree's best error=0.9197,\tbest estimator lgbm's best error=0.7432\n",
      "[flaml.automl.logger: 05-01 04:55:24] {2219} INFO - iteration 12, current learner extra_tree\n",
      "[flaml.automl.logger: 05-01 04:56:16] {2392} INFO -  at 571.1s,\testimator extra_tree's best error=0.8472,\tbest estimator lgbm's best error=0.7432\n",
      "[flaml.automl.logger: 05-01 04:56:16] {2219} INFO - iteration 13, current learner xgboost\n",
      "[flaml.automl.logger: 05-01 04:56:57] {2392} INFO -  at 611.6s,\testimator xgboost's best error=0.9446,\tbest estimator lgbm's best error=0.7432\n",
      "[flaml.automl.logger: 05-01 04:56:57] {2219} INFO - iteration 14, current learner extra_tree\n",
      "[flaml.automl.logger: 05-01 04:58:18] {2392} INFO -  at 693.2s,\testimator extra_tree's best error=0.7687,\tbest estimator lgbm's best error=0.7432\n",
      "[flaml.automl.logger: 05-01 04:58:18] {2219} INFO - iteration 15, current learner rf\n",
      "[flaml.automl.logger: 05-01 04:59:43] {2392} INFO -  at 777.6s,\testimator rf's best error=0.9302,\tbest estimator lgbm's best error=0.7432\n",
      "[flaml.automl.logger: 05-01 04:59:43] {2219} INFO - iteration 16, current learner rf\n",
      "[flaml.automl.logger: 05-01 05:01:33] {2392} INFO -  at 887.5s,\testimator rf's best error=0.8586,\tbest estimator lgbm's best error=0.7432\n",
      "[flaml.automl.logger: 05-01 05:01:33] {2219} INFO - iteration 17, current learner extra_tree\n",
      "[flaml.automl.logger: 05-01 05:02:51] {2392} INFO -  at 965.6s,\testimator extra_tree's best error=0.7687,\tbest estimator lgbm's best error=0.7432\n",
      "[flaml.automl.logger: 05-01 05:02:51] {2219} INFO - iteration 18, current learner lgbm\n",
      "[flaml.automl.logger: 05-01 05:04:00] {2392} INFO -  at 1034.4s,\testimator lgbm's best error=0.7432,\tbest estimator lgbm's best error=0.7432\n",
      "[flaml.automl.logger: 05-01 05:04:00] {2219} INFO - iteration 19, current learner xgboost\n",
      "[flaml.automl.logger: 05-01 05:04:41] {2392} INFO -  at 1075.9s,\testimator xgboost's best error=0.8115,\tbest estimator lgbm's best error=0.7432\n",
      "[flaml.automl.logger: 05-01 05:04:41] {2219} INFO - iteration 20, current learner xgboost\n",
      "[flaml.automl.logger: 05-01 05:05:21] {2392} INFO -  at 1116.2s,\testimator xgboost's best error=0.8115,\tbest estimator lgbm's best error=0.7432\n",
      "[flaml.automl.logger: 05-01 05:05:21] {2219} INFO - iteration 21, current learner xgboost\n",
      "[flaml.automl.logger: 05-01 05:06:07] {2392} INFO -  at 1161.7s,\testimator xgboost's best error=0.6946,\tbest estimator xgboost's best error=0.6946\n",
      "[flaml.automl.logger: 05-01 05:06:07] {2219} INFO - iteration 22, current learner lgbm\n",
      "[flaml.automl.logger: 05-01 05:07:10] {2392} INFO -  at 1224.4s,\testimator lgbm's best error=0.7432,\tbest estimator xgboost's best error=0.6946\n",
      "[flaml.automl.logger: 05-01 05:07:10] {2219} INFO - iteration 23, current learner rf\n",
      "[flaml.automl.logger: 05-01 05:09:33] {2392} INFO -  at 1367.7s,\testimator rf's best error=0.7842,\tbest estimator xgboost's best error=0.6946\n",
      "[flaml.automl.logger: 05-01 05:09:33] {2219} INFO - iteration 24, current learner extra_tree\n",
      "[flaml.automl.logger: 05-01 05:13:21] {2392} INFO -  at 1596.1s,\testimator extra_tree's best error=0.7092,\tbest estimator xgboost's best error=0.6946\n",
      "[flaml.automl.logger: 05-01 05:13:21] {2219} INFO - iteration 25, current learner extra_tree\n",
      "[flaml.automl.logger: 05-01 05:14:40] {2392} INFO -  at 1674.6s,\testimator extra_tree's best error=0.7092,\tbest estimator xgboost's best error=0.6946\n",
      "[flaml.automl.logger: 05-01 05:14:40] {2219} INFO - iteration 26, current learner rf\n",
      "[flaml.automl.logger: 05-01 05:17:26] {2392} INFO -  at 1841.1s,\testimator rf's best error=0.7842,\tbest estimator xgboost's best error=0.6946\n",
      "[flaml.automl.logger: 05-01 05:17:26] {2219} INFO - iteration 27, current learner xgboost\n",
      "[flaml.automl.logger: 05-01 05:18:17] {2392} INFO -  at 1892.2s,\testimator xgboost's best error=0.6946,\tbest estimator xgboost's best error=0.6946\n",
      "[flaml.automl.logger: 05-01 05:18:17] {2219} INFO - iteration 28, current learner xgboost\n",
      "[flaml.automl.logger: 05-01 05:18:58] {2392} INFO -  at 1932.4s,\testimator xgboost's best error=0.6946,\tbest estimator xgboost's best error=0.6946\n",
      "[flaml.automl.logger: 05-01 05:18:58] {2219} INFO - iteration 29, current learner extra_tree\n",
      "[flaml.automl.logger: 05-01 05:21:40] {2392} INFO -  at 2094.4s,\testimator extra_tree's best error=0.7092,\tbest estimator xgboost's best error=0.6946\n",
      "[flaml.automl.logger: 05-01 05:21:40] {2219} INFO - iteration 30, current learner lgbm\n",
      "[flaml.automl.logger: 05-01 05:23:47] {2392} INFO -  at 2221.3s,\testimator lgbm's best error=0.7347,\tbest estimator xgboost's best error=0.6946\n",
      "[flaml.automl.logger: 05-01 05:23:47] {2219} INFO - iteration 31, current learner lgbm\n",
      "[flaml.automl.logger: 05-01 05:26:58] {2392} INFO -  at 2412.8s,\testimator lgbm's best error=0.7325,\tbest estimator xgboost's best error=0.6946\n",
      "[flaml.automl.logger: 05-01 05:26:58] {2219} INFO - iteration 32, current learner lgbm\n",
      "[flaml.automl.logger: 05-01 05:29:04] {2392} INFO -  at 2538.8s,\testimator lgbm's best error=0.7325,\tbest estimator xgboost's best error=0.6946\n",
      "[flaml.automl.logger: 05-01 05:29:04] {2219} INFO - iteration 33, current learner extra_tree\n",
      "[flaml.automl.logger: 05-01 05:33:36] {2392} INFO -  at 2810.4s,\testimator extra_tree's best error=0.6638,\tbest estimator extra_tree's best error=0.6638\n",
      "[flaml.automl.logger: 05-01 05:33:36] {2219} INFO - iteration 34, current learner lgbm\n",
      "[flaml.automl.logger: 05-01 05:35:44] {2392} INFO -  at 2938.7s,\testimator lgbm's best error=0.7325,\tbest estimator extra_tree's best error=0.6638\n",
      "[flaml.automl.logger: 05-01 05:35:44] {2219} INFO - iteration 35, current learner rf\n",
      "[flaml.automl.logger: 05-01 05:42:04] {2392} INFO -  at 3318.5s,\testimator rf's best error=0.7305,\tbest estimator extra_tree's best error=0.6638\n",
      "[flaml.automl.logger: 05-01 05:42:04] {2219} INFO - iteration 36, current learner extra_tree\n",
      "[flaml.automl.logger: 05-01 05:44:19] {2392} INFO -  at 3453.7s,\testimator extra_tree's best error=0.6638,\tbest estimator extra_tree's best error=0.6638\n",
      "[flaml.automl.logger: 05-01 05:44:19] {2219} INFO - iteration 37, current learner xgboost\n",
      "[flaml.automl.logger: 05-01 05:45:01] {2392} INFO -  at 3495.4s,\testimator xgboost's best error=0.6946,\tbest estimator extra_tree's best error=0.6638\n",
      "[flaml.automl.logger: 05-01 05:45:01] {2219} INFO - iteration 38, current learner xgboost\n",
      "[flaml.automl.logger: 05-01 05:45:54] {2392} INFO -  at 3549.0s,\testimator xgboost's best error=0.6647,\tbest estimator extra_tree's best error=0.6638\n",
      "[flaml.automl.logger: 05-01 05:45:54] {2219} INFO - iteration 39, current learner rf\n",
      "[flaml.automl.logger: 05-01 05:48:16] {2392} INFO -  at 3690.4s,\testimator rf's best error=0.7305,\tbest estimator extra_tree's best error=0.6638\n",
      "[flaml.automl.logger: 05-01 05:48:16] {2219} INFO - iteration 40, current learner xgboost\n",
      "[flaml.automl.logger: 05-01 05:50:18] {2392} INFO -  at 3812.3s,\testimator xgboost's best error=0.3452,\tbest estimator xgboost's best error=0.3452\n",
      "[flaml.automl.logger: 05-01 05:50:18] {2219} INFO - iteration 41, current learner xgboost\n",
      "[flaml.automl.logger: 05-01 05:51:11] {2392} INFO -  at 3865.9s,\testimator xgboost's best error=0.3452,\tbest estimator xgboost's best error=0.3452\n",
      "[flaml.automl.logger: 05-01 05:51:11] {2219} INFO - iteration 42, current learner lgbm\n",
      "[flaml.automl.logger: 05-01 05:55:05] {2392} INFO -  at 4099.4s,\testimator lgbm's best error=0.4045,\tbest estimator xgboost's best error=0.3452\n",
      "[flaml.automl.logger: 05-01 05:55:05] {2219} INFO - iteration 43, current learner xgboost\n",
      "[flaml.automl.logger: 05-01 05:59:39] {2392} INFO -  at 4373.4s,\testimator xgboost's best error=0.1926,\tbest estimator xgboost's best error=0.1926\n",
      "[flaml.automl.logger: 05-01 05:59:39] {2219} INFO - iteration 44, current learner extra_tree\n",
      "[flaml.automl.logger: 05-01 06:12:05] {2392} INFO -  at 5119.6s,\testimator extra_tree's best error=0.6638,\tbest estimator xgboost's best error=0.1926\n",
      "[flaml.automl.logger: 05-01 06:12:05] {2219} INFO - iteration 45, current learner xgboost\n",
      "[flaml.automl.logger: 05-01 06:14:07] {2392} INFO -  at 5242.2s,\testimator xgboost's best error=0.1926,\tbest estimator xgboost's best error=0.1926\n",
      "[flaml.automl.logger: 05-01 06:14:07] {2219} INFO - iteration 46, current learner rf\n",
      "[flaml.automl.logger: 05-01 06:19:33] {2392} INFO -  at 5567.7s,\testimator rf's best error=0.7305,\tbest estimator xgboost's best error=0.1926\n",
      "[flaml.automl.logger: 05-01 06:19:33] {2219} INFO - iteration 47, current learner xgboost\n",
      "[flaml.automl.logger: 05-01 06:21:53] {2392} INFO -  at 5707.5s,\testimator xgboost's best error=0.1926,\tbest estimator xgboost's best error=0.1926\n",
      "[flaml.automl.logger: 05-01 06:21:53] {2219} INFO - iteration 48, current learner lgbm\n",
      "[flaml.automl.logger: 05-01 06:23:34] {2392} INFO -  at 5808.9s,\testimator lgbm's best error=0.4045,\tbest estimator xgboost's best error=0.1926\n",
      "[flaml.automl.logger: 05-01 06:23:34] {2219} INFO - iteration 49, current learner rf\n",
      "[flaml.automl.logger: 05-01 06:31:38] {2392} INFO -  at 6292.9s,\testimator rf's best error=0.6820,\tbest estimator xgboost's best error=0.1926\n",
      "[flaml.automl.logger: 05-01 06:31:38] {2219} INFO - iteration 50, current learner extra_tree\n",
      "[flaml.automl.logger: 05-01 06:33:53] {2392} INFO -  at 6427.9s,\testimator extra_tree's best error=0.6638,\tbest estimator xgboost's best error=0.1926\n",
      "[flaml.automl.logger: 05-01 06:33:53] {2219} INFO - iteration 51, current learner rf\n",
      "[flaml.automl.logger: 05-01 06:37:35] {2392} INFO -  at 6650.1s,\testimator rf's best error=0.6820,\tbest estimator xgboost's best error=0.1926\n",
      "[flaml.automl.logger: 05-01 06:37:35] {2219} INFO - iteration 52, current learner rf\n",
      "[flaml.automl.logger: 05-01 06:57:42] {2392} INFO -  at 7856.4s,\testimator rf's best error=0.6820,\tbest estimator xgboost's best error=0.1926\n",
      "[flaml.automl.logger: 05-01 06:57:42] {2219} INFO - iteration 53, current learner lgbm\n",
      "[flaml.automl.logger: 05-01 07:06:03] {2392} INFO -  at 8357.6s,\testimator lgbm's best error=0.1691,\tbest estimator lgbm's best error=0.1691\n",
      "[flaml.automl.logger: 05-01 07:06:03] {2219} INFO - iteration 54, current learner lgbm\n",
      "[flaml.automl.logger: 05-01 07:11:20] {2392} INFO -  at 8674.5s,\testimator lgbm's best error=0.1691,\tbest estimator lgbm's best error=0.1691\n",
      "[flaml.automl.logger: 05-01 07:11:20] {2219} INFO - iteration 55, current learner xgboost\n",
      "[flaml.automl.logger: 05-01 07:20:54] {2392} INFO -  at 9248.9s,\testimator xgboost's best error=0.1843,\tbest estimator lgbm's best error=0.1691\n",
      "[flaml.automl.logger: 05-01 07:20:54] {2219} INFO - iteration 56, current learner catboost\n",
      "[flaml.automl.logger: 05-01 07:27:31] {2392} INFO -  at 9645.3s,\testimator catboost's best error=0.1558,\tbest estimator catboost's best error=0.1558\n",
      "[flaml.automl.logger: 05-01 07:27:31] {2219} INFO - iteration 57, current learner lgbm\n",
      "[flaml.automl.logger: 05-01 07:37:48] {2392} INFO -  at 10263.2s,\testimator lgbm's best error=0.1691,\tbest estimator catboost's best error=0.1558\n",
      "[flaml.automl.logger: 05-01 07:37:48] {2219} INFO - iteration 58, current learner rf\n",
      "[flaml.automl.logger: 05-01 07:41:39] {2392} INFO -  at 10493.7s,\testimator rf's best error=0.6820,\tbest estimator catboost's best error=0.1558\n",
      "[flaml.automl.logger: 05-01 07:41:39] {2219} INFO - iteration 59, current learner catboost\n",
      "[flaml.automl.logger: 05-01 07:45:17] {2392} INFO -  at 10711.3s,\testimator catboost's best error=0.1552,\tbest estimator catboost's best error=0.1552\n",
      "[flaml.automl.logger: 05-01 07:45:17] {2219} INFO - iteration 60, current learner lgbm\n",
      "[flaml.automl.logger: 05-01 07:48:22] {2392} INFO -  at 10897.0s,\testimator lgbm's best error=0.1691,\tbest estimator catboost's best error=0.1552\n",
      "[flaml.automl.logger: 05-01 07:48:22] {2219} INFO - iteration 61, current learner catboost\n",
      "[flaml.automl.logger: 05-01 09:56:15] {2392} INFO -  at 18569.7s,\testimator catboost's best error=0.1552,\tbest estimator catboost's best error=0.1552\n",
      "[flaml.automl.logger: 05-01 09:56:15] {2219} INFO - iteration 62, current learner lgbm\n",
      "[flaml.automl.logger: 05-01 10:16:53] {2392} INFO -  at 19807.6s,\testimator lgbm's best error=0.1620,\tbest estimator catboost's best error=0.1552\n",
      "[flaml.automl.logger: 05-01 10:16:53] {2219} INFO - iteration 63, current learner xgboost\n",
      "[flaml.automl.logger: 05-01 10:20:28] {2392} INFO -  at 20022.5s,\testimator xgboost's best error=0.1843,\tbest estimator catboost's best error=0.1552\n",
      "[flaml.automl.logger: 05-01 10:20:28] {2219} INFO - iteration 64, current learner xgboost\n",
      "[flaml.automl.logger: 05-01 10:36:41] {2392} INFO -  at 20996.1s,\testimator xgboost's best error=0.1756,\tbest estimator catboost's best error=0.1552\n",
      "[flaml.automl.logger: 05-01 10:36:41] {2219} INFO - iteration 65, current learner lgbm\n",
      "[flaml.automl.logger: 05-01 10:44:06] {2392} INFO -  at 21440.4s,\testimator lgbm's best error=0.1620,\tbest estimator catboost's best error=0.1552\n",
      "[flaml.automl.logger: 05-01 10:44:06] {2219} INFO - iteration 66, current learner xgboost\n",
      "[flaml.automl.logger: 05-01 10:53:20] {2392} INFO -  at 21994.5s,\testimator xgboost's best error=0.1756,\tbest estimator catboost's best error=0.1552\n",
      "[flaml.automl.logger: 05-01 10:53:20] {2219} INFO - iteration 67, current learner extra_tree\n",
      "[flaml.automl.logger: 05-01 11:02:12] {2392} INFO -  at 22526.8s,\testimator extra_tree's best error=0.6541,\tbest estimator catboost's best error=0.1552\n",
      "[flaml.automl.logger: 05-01 11:02:12] {2219} INFO - iteration 68, current learner catboost\n",
      "[flaml.automl.logger: 05-01 11:30:32] {2392} INFO -  at 24226.5s,\testimator catboost's best error=0.1552,\tbest estimator catboost's best error=0.1552\n",
      "[flaml.automl.logger: 05-01 11:30:32] {2219} INFO - iteration 69, current learner lgbm\n",
      "[flaml.automl.logger: 05-01 12:27:49] {2392} INFO -  at 27663.9s,\testimator lgbm's best error=0.1620,\tbest estimator catboost's best error=0.1552\n",
      "[flaml.automl.logger: 05-01 12:27:49] {2219} INFO - iteration 70, current learner xgboost\n",
      "[flaml.automl.logger: 05-01 13:06:25] {2392} INFO -  at 29979.6s,\testimator xgboost's best error=0.1756,\tbest estimator catboost's best error=0.1552\n",
      "[flaml.automl.logger: 05-01 13:06:25] {2219} INFO - iteration 71, current learner xgboost\n",
      "[flaml.automl.logger: 05-01 13:56:56] {2392} INFO -  at 33010.9s,\testimator xgboost's best error=0.1756,\tbest estimator catboost's best error=0.1552\n",
      "[flaml.automl.logger: 05-01 13:56:56] {2219} INFO - iteration 72, current learner catboost\n",
      "[flaml.automl.logger: 05-01 14:00:34] {2392} INFO -  at 33228.5s,\testimator catboost's best error=0.1552,\tbest estimator catboost's best error=0.1552\n",
      "[flaml.automl.logger: 05-01 14:00:34] {2219} INFO - iteration 73, current learner extra_tree\n",
      "[flaml.automl.logger: 05-01 14:10:45] {2392} INFO -  at 33839.9s,\testimator extra_tree's best error=0.5771,\tbest estimator catboost's best error=0.1552\n",
      "[flaml.automl.logger: 05-01 14:10:45] {2219} INFO - iteration 74, current learner extra_tree\n",
      "[flaml.automl.logger: 05-01 14:19:42] {2392} INFO -  at 34377.1s,\testimator extra_tree's best error=0.5771,\tbest estimator catboost's best error=0.1552\n",
      "[flaml.automl.logger: 05-01 14:19:42] {2219} INFO - iteration 75, current learner extra_tree\n",
      "[flaml.automl.logger: 05-01 14:28:29] {2392} INFO -  at 34903.4s,\testimator extra_tree's best error=0.5111,\tbest estimator catboost's best error=0.1552\n",
      "[flaml.automl.logger: 05-01 14:28:29] {2219} INFO - iteration 76, current learner rf\n",
      "[flaml.automl.logger: 05-01 14:43:30] {2392} INFO -  at 35804.3s,\testimator rf's best error=0.6741,\tbest estimator catboost's best error=0.1552\n",
      "[flaml.automl.logger: 05-01 14:43:30] {2219} INFO - iteration 77, current learner rf\n",
      "[flaml.automl.logger: 05-01 14:59:24] {2392} INFO -  at 36759.2s,\testimator rf's best error=0.5885,\tbest estimator catboost's best error=0.1552\n",
      "[flaml.automl.logger: 05-01 14:59:24] {2219} INFO - iteration 78, current learner extra_tree\n",
      "[flaml.automl.logger: 05-01 15:10:01] {2392} INFO -  at 37395.7s,\testimator extra_tree's best error=0.5111,\tbest estimator catboost's best error=0.1552\n",
      "[flaml.automl.logger: 05-01 15:10:01] {2219} INFO - iteration 79, current learner rf\n",
      "[flaml.automl.logger: 05-01 15:25:19] {2392} INFO -  at 38313.5s,\testimator rf's best error=0.5885,\tbest estimator catboost's best error=0.1552\n",
      "[flaml.automl.logger: 05-01 15:25:19] {2219} INFO - iteration 80, current learner rf\n",
      "[flaml.automl.logger: 05-01 15:38:23] {2392} INFO -  at 39097.7s,\testimator rf's best error=0.5095,\tbest estimator catboost's best error=0.1552\n",
      "[flaml.automl.logger: 05-01 15:38:23] {2219} INFO - iteration 81, current learner xgb_limitdepth\n",
      "[flaml.automl.logger: 05-01 15:39:24] {2392} INFO -  at 39158.4s,\testimator xgb_limitdepth's best error=0.5226,\tbest estimator catboost's best error=0.1552\n",
      "[flaml.automl.logger: 05-01 15:39:24] {2219} INFO - iteration 82, current learner xgb_limitdepth\n",
      "[flaml.automl.logger: 05-01 15:40:27] {2392} INFO -  at 39221.9s,\testimator xgb_limitdepth's best error=0.5226,\tbest estimator catboost's best error=0.1552\n",
      "[flaml.automl.logger: 05-01 15:40:27] {2219} INFO - iteration 83, current learner xgb_limitdepth\n",
      "[flaml.automl.logger: 05-01 15:41:26] {2392} INFO -  at 39281.0s,\testimator xgb_limitdepth's best error=0.4333,\tbest estimator catboost's best error=0.1552\n",
      "[flaml.automl.logger: 05-01 15:41:26] {2219} INFO - iteration 84, current learner xgb_limitdepth\n",
      "[flaml.automl.logger: 05-01 15:42:25] {2392} INFO -  at 39339.7s,\testimator xgb_limitdepth's best error=0.4333,\tbest estimator catboost's best error=0.1552\n",
      "[flaml.automl.logger: 05-01 15:42:25] {2219} INFO - iteration 85, current learner xgb_limitdepth\n",
      "[flaml.automl.logger: 05-01 15:43:21] {2392} INFO -  at 39395.3s,\testimator xgb_limitdepth's best error=0.4022,\tbest estimator catboost's best error=0.1552\n",
      "[flaml.automl.logger: 05-01 15:43:21] {2526} INFO - [('catboost', {'early_stopping_rounds': 10, 'learning_rate': 0.2, 'n_estimators': 194, 'thread_count': -1, 'verbose': False, 'random_seed': 10242048}), ('lgbm', {'n_jobs': -1, 'n_estimators': 774, 'num_leaves': 19, 'min_child_samples': 17, 'learning_rate': 0.3510943982202229, 'colsample_bytree': 0.9729389840389696, 'reg_alpha': 0.1021850148874128, 'reg_lambda': 0.0029179060517803244, 'max_bin': 1023, 'verbose': -1}), ('xgboost', {'n_jobs': -1, 'n_estimators': 384, 'max_leaves': 529, 'min_child_weight': 1.535964078899826, 'learning_rate': 0.1243489228278623, 'subsample': 1.0, 'colsample_bylevel': 0.7798474752963949, 'colsample_bytree': 0.8981661734838208, 'reg_alpha': 0.0015189949338768524, 'reg_lambda': 0.03491886619045413, 'max_depth': 0, 'grow_policy': 'lossguide', 'tree_method': 'hist', 'verbosity': 0}), ('xgb_limitdepth', {'n_jobs': -1, 'n_estimators': 9, 'max_depth': 7, 'min_child_weight': 14.408938842271064, 'learning_rate': 1.0, 'subsample': 1.0, 'colsample_bylevel': 0.7833937649288033, 'colsample_bytree': 1.0, 'reg_alpha': 0.0009765625, 'reg_lambda': 0.3501954615571986, 'verbosity': 0}), ('rf', {'n_jobs': -1, 'n_estimators': 14, 'max_features': 0.6846602390051779, 'max_leaf_nodes': 7495, 'random_state': 12032022, 'verbose': 0}), ('extra_tree', {'n_jobs': -1, 'n_estimators': 14, 'max_features': 0.6846602390051779, 'max_leaf_nodes': 7495, 'random_state': 12032022, 'verbose': 0})]\n",
      "[flaml.automl.logger: 05-01 15:43:21] {2569} INFO - Building ensemble with tuned estimators\n",
      "[flaml.automl.logger: 05-01 16:22:12] {2575} INFO - ensemble: StackingRegressor(estimators=[('catboost',\n",
      "                               <flaml.automl.model.CatBoostEstimator object at 0x7b402845e0b0>),\n",
      "                              ('lgbm',\n",
      "                               <flaml.automl.model.LGBMEstimator object at 0x7b4028483790>),\n",
      "                              ('xgboost',\n",
      "                               <flaml.automl.model.XGBoostSklearnEstimator object at 0x7b4028483130>),\n",
      "                              ('xgb_limitdepth',\n",
      "                               <flaml.automl.model.XGBoostLimitDepthEstimator object at 0x7b4026b5c3d0>),\n",
      "                              ('rf',\n",
      "                               <flaml.automl.model.RandomForestEstimator object at 0x7b4026b80220>),\n",
      "                              ('extra_tree',\n",
      "                               <flaml.automl.model.ExtraTreesEstimator object at 0x7b4026a1f820>)],\n",
      "                  n_jobs=1, passthrough=True)\n",
      "[flaml.automl.logger: 05-01 16:22:12] {1931} INFO - fit succeeded\n",
      "[flaml.automl.logger: 05-01 16:22:12] {1932} INFO - Time taken to find the best model: 10711.268907546997\n",
      "CPU times: user 19h 53s, sys: 8min 56s, total: 19h 9min 49s\n",
      "Wall time: 11h 35min 27s\n"
     ]
    }
   ],
   "source": [
    "%%time\n",
    "automl = AutoML()\n",
    "automl.fit(X_train=train[features], y_train=train[TARGET], **automl_settings)"
   ]
  },
  {
   "cell_type": "code",
   "execution_count": 8,
   "id": "32c89f8b",
   "metadata": {
    "execution": {
     "iopub.execute_input": "2024-05-01T16:22:13.053472Z",
     "iopub.status.busy": "2024-05-01T16:22:13.053048Z",
     "iopub.status.idle": "2024-05-01T16:23:16.896119Z",
     "shell.execute_reply": "2024-05-01T16:23:16.893291Z"
    },
    "papermill": {
     "duration": 63.906856,
     "end_time": "2024-05-01T16:23:16.936328",
     "exception": false,
     "start_time": "2024-05-01T16:22:13.029472",
     "status": "completed"
    },
    "tags": []
   },
   "outputs": [
    {
     "name": "stdout",
     "output_type": "stream",
     "text": [
      "CPU times: user 1min 3s, sys: 28 ms, total: 1min 3s\n",
      "Wall time: 1min 3s\n"
     ]
    }
   ],
   "source": [
    "%%time\n",
    "preds = automl.predict(test[features])"
   ]
  },
  {
   "cell_type": "code",
   "execution_count": 9,
   "id": "2709fe90",
   "metadata": {
    "execution": {
     "iopub.execute_input": "2024-05-01T16:23:17.007128Z",
     "iopub.status.busy": "2024-05-01T16:23:17.006672Z",
     "iopub.status.idle": "2024-05-01T16:23:17.369420Z",
     "shell.execute_reply": "2024-05-01T16:23:17.368213Z"
    },
    "papermill": {
     "duration": 0.392117,
     "end_time": "2024-05-01T16:23:17.372305",
     "exception": false,
     "start_time": "2024-05-01T16:23:16.980188",
     "status": "completed"
    },
    "tags": []
   },
   "outputs": [],
   "source": [
    "sub = pd.read_csv(f'{DATA_DIR}/sample_submission.csv')\n",
    "sub[TARGET] = preds.clip(0, 1)"
   ]
  },
  {
   "cell_type": "code",
   "execution_count": 10,
   "id": "9ecc0378",
   "metadata": {
    "execution": {
     "iopub.execute_input": "2024-05-01T16:23:17.418128Z",
     "iopub.status.busy": "2024-05-01T16:23:17.417705Z",
     "iopub.status.idle": "2024-05-01T16:23:19.908437Z",
     "shell.execute_reply": "2024-05-01T16:23:19.906835Z"
    },
    "papermill": {
     "duration": 2.517268,
     "end_time": "2024-05-01T16:23:19.911861",
     "exception": false,
     "start_time": "2024-05-01T16:23:17.394593",
     "status": "completed"
    },
    "tags": []
   },
   "outputs": [],
   "source": [
    "sub.to_csv('nb05.csv', index=False)"
   ]
  },
  {
   "cell_type": "code",
   "execution_count": 11,
   "id": "0cd2fb00",
   "metadata": {
    "execution": {
     "iopub.execute_input": "2024-05-01T16:23:19.960833Z",
     "iopub.status.busy": "2024-05-01T16:23:19.960300Z",
     "iopub.status.idle": "2024-05-01T16:23:21.173645Z",
     "shell.execute_reply": "2024-05-01T16:23:21.171391Z"
    },
    "papermill": {
     "duration": 1.242594,
     "end_time": "2024-05-01T16:23:21.177271",
     "exception": false,
     "start_time": "2024-05-01T16:23:19.934677",
     "status": "completed"
    },
    "tags": []
   },
   "outputs": [
    {
     "name": "stdout",
     "output_type": "stream",
     "text": [
      "id,FloodProbability\r\n",
      "1117957,0.5748599363928231\r\n",
      "1117958,0.4550166805306189\r\n",
      "1117959,0.45460316067748585\r\n",
      "1117960,0.46600206360482055\r\n",
      "1117961,0.4624786142811014\r\n",
      "1117962,0.5050892358831723\r\n",
      "1117963,0.5348989462359299\r\n",
      "1117964,0.5282848940805784\r\n",
      "1117965,0.4692253560551578\r\n"
     ]
    }
   ],
   "source": [
    "!head nb05.csv"
   ]
  }
 ],
 "metadata": {
  "kaggle": {
   "accelerator": "none",
   "dataSources": [
    {
     "databundleVersionId": 8121328,
     "sourceId": 73278,
     "sourceType": "competition"
    }
   ],
   "dockerImageVersionId": 30698,
   "isGpuEnabled": false,
   "isInternetEnabled": true,
   "language": "python",
   "sourceType": "notebook"
  },
  "kernelspec": {
   "display_name": "Python 3",
   "language": "python",
   "name": "python3"
  },
  "language_info": {
   "codemirror_mode": {
    "name": "ipython",
    "version": 3
   },
   "file_extension": ".py",
   "mimetype": "text/x-python",
   "name": "python",
   "nbconvert_exporter": "python",
   "pygments_lexer": "ipython3",
   "version": "3.10.13"
  },
  "papermill": {
   "default_parameters": {},
   "duration": 41831.173132,
   "end_time": "2024-05-01T16:23:23.554192",
   "environment_variables": {},
   "exception": null,
   "input_path": "__notebook__.ipynb",
   "output_path": "__notebook__.ipynb",
   "parameters": {},
   "start_time": "2024-05-01T04:46:12.381060",
   "version": "2.5.0"
  }
 },
 "nbformat": 4,
 "nbformat_minor": 5
}
