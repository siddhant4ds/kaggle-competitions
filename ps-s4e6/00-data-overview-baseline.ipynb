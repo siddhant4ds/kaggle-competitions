{
 "cells": [
  {
   "cell_type": "markdown",
   "id": "ebb95948",
   "metadata": {
    "_cell_guid": "b1076dfc-b9ad-4769-8c92-a6c4dae69d19",
    "_uuid": "8f2839f25d086af736a60e9eeb907d3b93b6e0e5",
    "papermill": {
     "duration": 0.011703,
     "end_time": "2024-06-01T02:07:36.469725",
     "exception": false,
     "start_time": "2024-06-01T02:07:36.458022",
     "status": "completed"
    },
    "tags": []
   },
   "source": [
    "# Setup"
   ]
  },
  {
   "cell_type": "code",
   "execution_count": 1,
   "id": "10503056",
   "metadata": {
    "execution": {
     "iopub.execute_input": "2024-06-01T02:07:36.494088Z",
     "iopub.status.busy": "2024-06-01T02:07:36.493672Z",
     "iopub.status.idle": "2024-06-01T02:07:40.503899Z",
     "shell.execute_reply": "2024-06-01T02:07:40.503114Z"
    },
    "papermill": {
     "duration": 4.024915,
     "end_time": "2024-06-01T02:07:40.506343",
     "exception": false,
     "start_time": "2024-06-01T02:07:36.481428",
     "status": "completed"
    },
    "tags": []
   },
   "outputs": [],
   "source": [
    "import gc\n",
    "import warnings\n",
    "\n",
    "gc.enable()\n",
    "warnings.filterwarnings('ignore')\n",
    "\n",
    "import pandas as pd\n",
    "import numpy as np\n",
    "\n",
    "pd.set_option('display.precision', 4)\n",
    "pd.set_option('display.max_columns', None)\n",
    "\n",
    "import catboost as cb\n",
    "from sklearn.model_selection import StratifiedKFold\n",
    "from sklearn.metrics import accuracy_score\n",
    "\n",
    "SEED = 2024"
   ]
  },
  {
   "cell_type": "code",
   "execution_count": 2,
   "id": "19751024",
   "metadata": {
    "execution": {
     "iopub.execute_input": "2024-06-01T02:07:40.527065Z",
     "iopub.status.busy": "2024-06-01T02:07:40.526423Z",
     "iopub.status.idle": "2024-06-01T02:07:40.628474Z",
     "shell.execute_reply": "2024-06-01T02:07:40.627432Z"
    },
    "papermill": {
     "duration": 0.114287,
     "end_time": "2024-06-01T02:07:40.630484",
     "exception": false,
     "start_time": "2024-06-01T02:07:40.516197",
     "status": "completed"
    },
    "tags": []
   },
   "outputs": [
    {
     "name": "stdout",
     "output_type": "stream",
     "text": [
      "Available device: GPU\n"
     ]
    }
   ],
   "source": [
    "# Check GPU availability\n",
    "import subprocess\n",
    "try:\n",
    "    subprocess.check_output('nvidia-smi')\n",
    "    DEVICE = 'GPU'\n",
    "except Exception:\n",
    "    DEVICE = 'CPU'\n",
    "\n",
    "print(f'Available device: {DEVICE}')"
   ]
  },
  {
   "cell_type": "code",
   "execution_count": 3,
   "id": "8d97ec3f",
   "metadata": {
    "execution": {
     "iopub.execute_input": "2024-06-01T02:07:40.651231Z",
     "iopub.status.busy": "2024-06-01T02:07:40.650633Z",
     "iopub.status.idle": "2024-06-01T02:07:41.261138Z",
     "shell.execute_reply": "2024-06-01T02:07:41.260328Z"
    },
    "papermill": {
     "duration": 0.623004,
     "end_time": "2024-06-01T02:07:41.263397",
     "exception": false,
     "start_time": "2024-06-01T02:07:40.640393",
     "status": "completed"
    },
    "tags": []
   },
   "outputs": [],
   "source": [
    "DATA_DIR = '/kaggle/input/playground-series-s4e6'\n",
    "\n",
    "train = pd.read_csv(f'{DATA_DIR}/train.csv')\n",
    "test = pd.read_csv(f'{DATA_DIR}/test.csv')\n",
    "sample_sub = pd.read_csv(f'{DATA_DIR}/sample_submission.csv')"
   ]
  },
  {
   "cell_type": "markdown",
   "id": "b70bacc9",
   "metadata": {
    "papermill": {
     "duration": 0.009193,
     "end_time": "2024-06-01T02:07:41.282333",
     "exception": false,
     "start_time": "2024-06-01T02:07:41.273140",
     "status": "completed"
    },
    "tags": []
   },
   "source": [
    "**Original dataset**"
   ]
  },
  {
   "cell_type": "code",
   "execution_count": 4,
   "id": "333ef989",
   "metadata": {
    "execution": {
     "iopub.execute_input": "2024-06-01T02:07:41.302283Z",
     "iopub.status.busy": "2024-06-01T02:07:41.301968Z",
     "iopub.status.idle": "2024-06-01T02:07:55.993140Z",
     "shell.execute_reply": "2024-06-01T02:07:55.991962Z"
    },
    "papermill": {
     "duration": 14.703987,
     "end_time": "2024-06-01T02:07:55.995721",
     "exception": false,
     "start_time": "2024-06-01T02:07:41.291734",
     "status": "completed"
    },
    "tags": []
   },
   "outputs": [],
   "source": [
    "%%capture\n",
    "!pip install ucimlrepo"
   ]
  },
  {
   "cell_type": "code",
   "execution_count": 5,
   "id": "ce98a161",
   "metadata": {
    "execution": {
     "iopub.execute_input": "2024-06-01T02:07:56.021476Z",
     "iopub.status.busy": "2024-06-01T02:07:56.020548Z",
     "iopub.status.idle": "2024-06-01T02:07:57.923728Z",
     "shell.execute_reply": "2024-06-01T02:07:57.922746Z"
    },
    "papermill": {
     "duration": 1.917754,
     "end_time": "2024-06-01T02:07:57.926068",
     "exception": false,
     "start_time": "2024-06-01T02:07:56.008314",
     "status": "completed"
    },
    "tags": []
   },
   "outputs": [],
   "source": [
    "from ucimlrepo import fetch_ucirepo\n",
    "\n",
    "predict_students_dropout_and_academic_success = fetch_ucirepo(id=697)\n",
    "X = predict_students_dropout_and_academic_success.data.features\n",
    "y = predict_students_dropout_and_academic_success.data.targets\n",
    "\n",
    "original = pd.concat([X, y], axis=1)"
   ]
  },
  {
   "cell_type": "markdown",
   "id": "65f8ed31",
   "metadata": {
    "papermill": {
     "duration": 0.009219,
     "end_time": "2024-06-01T02:07:57.945299",
     "exception": false,
     "start_time": "2024-06-01T02:07:57.936080",
     "status": "completed"
    },
    "tags": []
   },
   "source": [
    "# Data overview"
   ]
  },
  {
   "cell_type": "code",
   "execution_count": 6,
   "id": "6de74df0",
   "metadata": {
    "execution": {
     "iopub.execute_input": "2024-06-01T02:07:57.965716Z",
     "iopub.status.busy": "2024-06-01T02:07:57.965058Z",
     "iopub.status.idle": "2024-06-01T02:07:57.972100Z",
     "shell.execute_reply": "2024-06-01T02:07:57.971334Z"
    },
    "papermill": {
     "duration": 0.019426,
     "end_time": "2024-06-01T02:07:57.974168",
     "exception": false,
     "start_time": "2024-06-01T02:07:57.954742",
     "status": "completed"
    },
    "tags": []
   },
   "outputs": [
    {
     "data": {
      "text/plain": [
       "((76518, 38), (51012, 37), (4424, 37))"
      ]
     },
     "execution_count": 6,
     "metadata": {},
     "output_type": "execute_result"
    }
   ],
   "source": [
    "train.shape, test.shape, original.shape"
   ]
  },
  {
   "cell_type": "code",
   "execution_count": 7,
   "id": "8ab99a1c",
   "metadata": {
    "execution": {
     "iopub.execute_input": "2024-06-01T02:07:57.994458Z",
     "iopub.status.busy": "2024-06-01T02:07:57.994184Z",
     "iopub.status.idle": "2024-06-01T02:07:58.029668Z",
     "shell.execute_reply": "2024-06-01T02:07:58.028908Z"
    },
    "papermill": {
     "duration": 0.047876,
     "end_time": "2024-06-01T02:07:58.031494",
     "exception": false,
     "start_time": "2024-06-01T02:07:57.983618",
     "status": "completed"
    },
    "tags": []
   },
   "outputs": [
    {
     "data": {
      "text/html": [
       "<div>\n",
       "<style scoped>\n",
       "    .dataframe tbody tr th:only-of-type {\n",
       "        vertical-align: middle;\n",
       "    }\n",
       "\n",
       "    .dataframe tbody tr th {\n",
       "        vertical-align: top;\n",
       "    }\n",
       "\n",
       "    .dataframe thead th {\n",
       "        text-align: right;\n",
       "    }\n",
       "</style>\n",
       "<table border=\"1\" class=\"dataframe\">\n",
       "  <thead>\n",
       "    <tr style=\"text-align: right;\">\n",
       "      <th></th>\n",
       "      <th>id</th>\n",
       "      <th>Marital status</th>\n",
       "      <th>Application mode</th>\n",
       "      <th>Application order</th>\n",
       "      <th>Course</th>\n",
       "      <th>Daytime/evening attendance</th>\n",
       "      <th>Previous qualification</th>\n",
       "      <th>Previous qualification (grade)</th>\n",
       "      <th>Nacionality</th>\n",
       "      <th>Mother's qualification</th>\n",
       "      <th>Father's qualification</th>\n",
       "      <th>Mother's occupation</th>\n",
       "      <th>Father's occupation</th>\n",
       "      <th>Admission grade</th>\n",
       "      <th>Displaced</th>\n",
       "      <th>Educational special needs</th>\n",
       "      <th>Debtor</th>\n",
       "      <th>Tuition fees up to date</th>\n",
       "      <th>Gender</th>\n",
       "      <th>Scholarship holder</th>\n",
       "      <th>Age at enrollment</th>\n",
       "      <th>International</th>\n",
       "      <th>Curricular units 1st sem (credited)</th>\n",
       "      <th>Curricular units 1st sem (enrolled)</th>\n",
       "      <th>Curricular units 1st sem (evaluations)</th>\n",
       "      <th>Curricular units 1st sem (approved)</th>\n",
       "      <th>Curricular units 1st sem (grade)</th>\n",
       "      <th>Curricular units 1st sem (without evaluations)</th>\n",
       "      <th>Curricular units 2nd sem (credited)</th>\n",
       "      <th>Curricular units 2nd sem (enrolled)</th>\n",
       "      <th>Curricular units 2nd sem (evaluations)</th>\n",
       "      <th>Curricular units 2nd sem (approved)</th>\n",
       "      <th>Curricular units 2nd sem (grade)</th>\n",
       "      <th>Curricular units 2nd sem (without evaluations)</th>\n",
       "      <th>Unemployment rate</th>\n",
       "      <th>Inflation rate</th>\n",
       "      <th>GDP</th>\n",
       "      <th>Target</th>\n",
       "    </tr>\n",
       "  </thead>\n",
       "  <tbody>\n",
       "    <tr>\n",
       "      <th>67654</th>\n",
       "      <td>67654</td>\n",
       "      <td>1</td>\n",
       "      <td>39</td>\n",
       "      <td>1</td>\n",
       "      <td>9119</td>\n",
       "      <td>1</td>\n",
       "      <td>1</td>\n",
       "      <td>150.0</td>\n",
       "      <td>1</td>\n",
       "      <td>19</td>\n",
       "      <td>19</td>\n",
       "      <td>9</td>\n",
       "      <td>9</td>\n",
       "      <td>130.0</td>\n",
       "      <td>0</td>\n",
       "      <td>0</td>\n",
       "      <td>1</td>\n",
       "      <td>0</td>\n",
       "      <td>1</td>\n",
       "      <td>0</td>\n",
       "      <td>26</td>\n",
       "      <td>0</td>\n",
       "      <td>0</td>\n",
       "      <td>5</td>\n",
       "      <td>5</td>\n",
       "      <td>0</td>\n",
       "      <td>0.0000</td>\n",
       "      <td>0</td>\n",
       "      <td>0</td>\n",
       "      <td>5</td>\n",
       "      <td>5</td>\n",
       "      <td>0</td>\n",
       "      <td>0.0</td>\n",
       "      <td>0</td>\n",
       "      <td>12.7</td>\n",
       "      <td>3.7</td>\n",
       "      <td>-1.70</td>\n",
       "      <td>Dropout</td>\n",
       "    </tr>\n",
       "    <tr>\n",
       "      <th>24173</th>\n",
       "      <td>24173</td>\n",
       "      <td>1</td>\n",
       "      <td>44</td>\n",
       "      <td>1</td>\n",
       "      <td>9003</td>\n",
       "      <td>1</td>\n",
       "      <td>39</td>\n",
       "      <td>150.0</td>\n",
       "      <td>1</td>\n",
       "      <td>19</td>\n",
       "      <td>38</td>\n",
       "      <td>4</td>\n",
       "      <td>8</td>\n",
       "      <td>150.0</td>\n",
       "      <td>0</td>\n",
       "      <td>0</td>\n",
       "      <td>0</td>\n",
       "      <td>1</td>\n",
       "      <td>0</td>\n",
       "      <td>1</td>\n",
       "      <td>19</td>\n",
       "      <td>0</td>\n",
       "      <td>0</td>\n",
       "      <td>6</td>\n",
       "      <td>7</td>\n",
       "      <td>6</td>\n",
       "      <td>13.3333</td>\n",
       "      <td>0</td>\n",
       "      <td>0</td>\n",
       "      <td>6</td>\n",
       "      <td>9</td>\n",
       "      <td>5</td>\n",
       "      <td>12.5</td>\n",
       "      <td>0</td>\n",
       "      <td>13.9</td>\n",
       "      <td>-0.3</td>\n",
       "      <td>0.79</td>\n",
       "      <td>Graduate</td>\n",
       "    </tr>\n",
       "    <tr>\n",
       "      <th>9253</th>\n",
       "      <td>9253</td>\n",
       "      <td>1</td>\n",
       "      <td>39</td>\n",
       "      <td>1</td>\n",
       "      <td>9119</td>\n",
       "      <td>1</td>\n",
       "      <td>19</td>\n",
       "      <td>133.1</td>\n",
       "      <td>1</td>\n",
       "      <td>19</td>\n",
       "      <td>19</td>\n",
       "      <td>9</td>\n",
       "      <td>9</td>\n",
       "      <td>100.9</td>\n",
       "      <td>0</td>\n",
       "      <td>0</td>\n",
       "      <td>0</td>\n",
       "      <td>1</td>\n",
       "      <td>1</td>\n",
       "      <td>0</td>\n",
       "      <td>24</td>\n",
       "      <td>0</td>\n",
       "      <td>0</td>\n",
       "      <td>5</td>\n",
       "      <td>11</td>\n",
       "      <td>3</td>\n",
       "      <td>13.0000</td>\n",
       "      <td>0</td>\n",
       "      <td>0</td>\n",
       "      <td>5</td>\n",
       "      <td>9</td>\n",
       "      <td>3</td>\n",
       "      <td>12.0</td>\n",
       "      <td>0</td>\n",
       "      <td>12.7</td>\n",
       "      <td>3.7</td>\n",
       "      <td>-1.70</td>\n",
       "      <td>Enrolled</td>\n",
       "    </tr>\n",
       "  </tbody>\n",
       "</table>\n",
       "</div>"
      ],
      "text/plain": [
       "          id  Marital status  Application mode  Application order  Course  \\\n",
       "67654  67654               1                39                  1    9119   \n",
       "24173  24173               1                44                  1    9003   \n",
       "9253    9253               1                39                  1    9119   \n",
       "\n",
       "       Daytime/evening attendance  Previous qualification  \\\n",
       "67654                           1                       1   \n",
       "24173                           1                      39   \n",
       "9253                            1                      19   \n",
       "\n",
       "       Previous qualification (grade)  Nacionality  Mother's qualification  \\\n",
       "67654                           150.0            1                      19   \n",
       "24173                           150.0            1                      19   \n",
       "9253                            133.1            1                      19   \n",
       "\n",
       "       Father's qualification  Mother's occupation  Father's occupation  \\\n",
       "67654                      19                    9                    9   \n",
       "24173                      38                    4                    8   \n",
       "9253                       19                    9                    9   \n",
       "\n",
       "       Admission grade  Displaced  Educational special needs  Debtor  \\\n",
       "67654            130.0          0                          0       1   \n",
       "24173            150.0          0                          0       0   \n",
       "9253             100.9          0                          0       0   \n",
       "\n",
       "       Tuition fees up to date  Gender  Scholarship holder  Age at enrollment  \\\n",
       "67654                        0       1                   0                 26   \n",
       "24173                        1       0                   1                 19   \n",
       "9253                         1       1                   0                 24   \n",
       "\n",
       "       International  Curricular units 1st sem (credited)  \\\n",
       "67654              0                                    0   \n",
       "24173              0                                    0   \n",
       "9253               0                                    0   \n",
       "\n",
       "       Curricular units 1st sem (enrolled)  \\\n",
       "67654                                    5   \n",
       "24173                                    6   \n",
       "9253                                     5   \n",
       "\n",
       "       Curricular units 1st sem (evaluations)  \\\n",
       "67654                                       5   \n",
       "24173                                       7   \n",
       "9253                                       11   \n",
       "\n",
       "       Curricular units 1st sem (approved)  Curricular units 1st sem (grade)  \\\n",
       "67654                                    0                            0.0000   \n",
       "24173                                    6                           13.3333   \n",
       "9253                                     3                           13.0000   \n",
       "\n",
       "       Curricular units 1st sem (without evaluations)  \\\n",
       "67654                                               0   \n",
       "24173                                               0   \n",
       "9253                                                0   \n",
       "\n",
       "       Curricular units 2nd sem (credited)  \\\n",
       "67654                                    0   \n",
       "24173                                    0   \n",
       "9253                                     0   \n",
       "\n",
       "       Curricular units 2nd sem (enrolled)  \\\n",
       "67654                                    5   \n",
       "24173                                    6   \n",
       "9253                                     5   \n",
       "\n",
       "       Curricular units 2nd sem (evaluations)  \\\n",
       "67654                                       5   \n",
       "24173                                       9   \n",
       "9253                                        9   \n",
       "\n",
       "       Curricular units 2nd sem (approved)  Curricular units 2nd sem (grade)  \\\n",
       "67654                                    0                               0.0   \n",
       "24173                                    5                              12.5   \n",
       "9253                                     3                              12.0   \n",
       "\n",
       "       Curricular units 2nd sem (without evaluations)  Unemployment rate  \\\n",
       "67654                                               0               12.7   \n",
       "24173                                               0               13.9   \n",
       "9253                                                0               12.7   \n",
       "\n",
       "       Inflation rate   GDP    Target  \n",
       "67654             3.7 -1.70   Dropout  \n",
       "24173            -0.3  0.79  Graduate  \n",
       "9253              3.7 -1.70  Enrolled  "
      ]
     },
     "execution_count": 7,
     "metadata": {},
     "output_type": "execute_result"
    }
   ],
   "source": [
    "train.sample(3)"
   ]
  },
  {
   "cell_type": "code",
   "execution_count": 8,
   "id": "71780a59",
   "metadata": {
    "execution": {
     "iopub.execute_input": "2024-06-01T02:07:58.053488Z",
     "iopub.status.busy": "2024-06-01T02:07:58.053146Z",
     "iopub.status.idle": "2024-06-01T02:07:58.074058Z",
     "shell.execute_reply": "2024-06-01T02:07:58.073227Z"
    },
    "papermill": {
     "duration": 0.034729,
     "end_time": "2024-06-01T02:07:58.076370",
     "exception": false,
     "start_time": "2024-06-01T02:07:58.041641",
     "status": "completed"
    },
    "tags": []
   },
   "outputs": [
    {
     "data": {
      "text/html": [
       "<div>\n",
       "<style scoped>\n",
       "    .dataframe tbody tr th:only-of-type {\n",
       "        vertical-align: middle;\n",
       "    }\n",
       "\n",
       "    .dataframe tbody tr th {\n",
       "        vertical-align: top;\n",
       "    }\n",
       "\n",
       "    .dataframe thead th {\n",
       "        text-align: right;\n",
       "    }\n",
       "</style>\n",
       "<table border=\"1\" class=\"dataframe\">\n",
       "  <thead>\n",
       "    <tr style=\"text-align: right;\">\n",
       "      <th></th>\n",
       "      <th>Marital Status</th>\n",
       "      <th>Application mode</th>\n",
       "      <th>Application order</th>\n",
       "      <th>Course</th>\n",
       "      <th>Daytime/evening attendance</th>\n",
       "      <th>Previous qualification</th>\n",
       "      <th>Previous qualification (grade)</th>\n",
       "      <th>Nacionality</th>\n",
       "      <th>Mother's qualification</th>\n",
       "      <th>Father's qualification</th>\n",
       "      <th>Mother's occupation</th>\n",
       "      <th>Father's occupation</th>\n",
       "      <th>Admission grade</th>\n",
       "      <th>Displaced</th>\n",
       "      <th>Educational special needs</th>\n",
       "      <th>Debtor</th>\n",
       "      <th>Tuition fees up to date</th>\n",
       "      <th>Gender</th>\n",
       "      <th>Scholarship holder</th>\n",
       "      <th>Age at enrollment</th>\n",
       "      <th>International</th>\n",
       "      <th>Curricular units 1st sem (credited)</th>\n",
       "      <th>Curricular units 1st sem (enrolled)</th>\n",
       "      <th>Curricular units 1st sem (evaluations)</th>\n",
       "      <th>Curricular units 1st sem (approved)</th>\n",
       "      <th>Curricular units 1st sem (grade)</th>\n",
       "      <th>Curricular units 1st sem (without evaluations)</th>\n",
       "      <th>Curricular units 2nd sem (credited)</th>\n",
       "      <th>Curricular units 2nd sem (enrolled)</th>\n",
       "      <th>Curricular units 2nd sem (evaluations)</th>\n",
       "      <th>Curricular units 2nd sem (approved)</th>\n",
       "      <th>Curricular units 2nd sem (grade)</th>\n",
       "      <th>Curricular units 2nd sem (without evaluations)</th>\n",
       "      <th>Unemployment rate</th>\n",
       "      <th>Inflation rate</th>\n",
       "      <th>GDP</th>\n",
       "      <th>Target</th>\n",
       "    </tr>\n",
       "  </thead>\n",
       "  <tbody>\n",
       "    <tr>\n",
       "      <th>1695</th>\n",
       "      <td>1</td>\n",
       "      <td>17</td>\n",
       "      <td>1</td>\n",
       "      <td>9670</td>\n",
       "      <td>1</td>\n",
       "      <td>1</td>\n",
       "      <td>120.0</td>\n",
       "      <td>1</td>\n",
       "      <td>38</td>\n",
       "      <td>37</td>\n",
       "      <td>9</td>\n",
       "      <td>8</td>\n",
       "      <td>113.4</td>\n",
       "      <td>1</td>\n",
       "      <td>0</td>\n",
       "      <td>0</td>\n",
       "      <td>1</td>\n",
       "      <td>1</td>\n",
       "      <td>1</td>\n",
       "      <td>19</td>\n",
       "      <td>0</td>\n",
       "      <td>0</td>\n",
       "      <td>6</td>\n",
       "      <td>6</td>\n",
       "      <td>6</td>\n",
       "      <td>13.3333</td>\n",
       "      <td>0</td>\n",
       "      <td>0</td>\n",
       "      <td>6</td>\n",
       "      <td>7</td>\n",
       "      <td>6</td>\n",
       "      <td>13.2857</td>\n",
       "      <td>0</td>\n",
       "      <td>8.9</td>\n",
       "      <td>1.4</td>\n",
       "      <td>3.51</td>\n",
       "      <td>Graduate</td>\n",
       "    </tr>\n",
       "  </tbody>\n",
       "</table>\n",
       "</div>"
      ],
      "text/plain": [
       "      Marital Status  Application mode  Application order  Course  \\\n",
       "1695               1                17                  1    9670   \n",
       "\n",
       "      Daytime/evening attendance  Previous qualification  \\\n",
       "1695                           1                       1   \n",
       "\n",
       "      Previous qualification (grade)  Nacionality  Mother's qualification  \\\n",
       "1695                           120.0            1                      38   \n",
       "\n",
       "      Father's qualification  Mother's occupation  Father's occupation  \\\n",
       "1695                      37                    9                    8   \n",
       "\n",
       "      Admission grade  Displaced  Educational special needs  Debtor  \\\n",
       "1695            113.4          1                          0       0   \n",
       "\n",
       "      Tuition fees up to date  Gender  Scholarship holder  Age at enrollment  \\\n",
       "1695                        1       1                   1                 19   \n",
       "\n",
       "      International  Curricular units 1st sem (credited)  \\\n",
       "1695              0                                    0   \n",
       "\n",
       "      Curricular units 1st sem (enrolled)  \\\n",
       "1695                                    6   \n",
       "\n",
       "      Curricular units 1st sem (evaluations)  \\\n",
       "1695                                       6   \n",
       "\n",
       "      Curricular units 1st sem (approved)  Curricular units 1st sem (grade)  \\\n",
       "1695                                    6                           13.3333   \n",
       "\n",
       "      Curricular units 1st sem (without evaluations)  \\\n",
       "1695                                               0   \n",
       "\n",
       "      Curricular units 2nd sem (credited)  \\\n",
       "1695                                    0   \n",
       "\n",
       "      Curricular units 2nd sem (enrolled)  \\\n",
       "1695                                    6   \n",
       "\n",
       "      Curricular units 2nd sem (evaluations)  \\\n",
       "1695                                       7   \n",
       "\n",
       "      Curricular units 2nd sem (approved)  Curricular units 2nd sem (grade)  \\\n",
       "1695                                    6                           13.2857   \n",
       "\n",
       "      Curricular units 2nd sem (without evaluations)  Unemployment rate  \\\n",
       "1695                                               0                8.9   \n",
       "\n",
       "      Inflation rate   GDP    Target  \n",
       "1695             1.4  3.51  Graduate  "
      ]
     },
     "execution_count": 8,
     "metadata": {},
     "output_type": "execute_result"
    }
   ],
   "source": [
    "original.sample()"
   ]
  },
  {
   "cell_type": "code",
   "execution_count": 9,
   "id": "5e62a560",
   "metadata": {
    "execution": {
     "iopub.execute_input": "2024-06-01T02:07:58.098512Z",
     "iopub.status.busy": "2024-06-01T02:07:58.098252Z",
     "iopub.status.idle": "2024-06-01T02:07:58.103086Z",
     "shell.execute_reply": "2024-06-01T02:07:58.102352Z"
    },
    "papermill": {
     "duration": 0.018,
     "end_time": "2024-06-01T02:07:58.104877",
     "exception": false,
     "start_time": "2024-06-01T02:07:58.086877",
     "status": "completed"
    },
    "tags": []
   },
   "outputs": [],
   "source": [
    "train_index = train.pop('id')\n",
    "test_index = test.pop('id')"
   ]
  },
  {
   "cell_type": "code",
   "execution_count": 10,
   "id": "817bbef2",
   "metadata": {
    "execution": {
     "iopub.execute_input": "2024-06-01T02:07:58.126499Z",
     "iopub.status.busy": "2024-06-01T02:07:58.126230Z",
     "iopub.status.idle": "2024-06-01T02:07:58.132756Z",
     "shell.execute_reply": "2024-06-01T02:07:58.131910Z"
    },
    "papermill": {
     "duration": 0.01977,
     "end_time": "2024-06-01T02:07:58.134796",
     "exception": false,
     "start_time": "2024-06-01T02:07:58.115026",
     "status": "completed"
    },
    "tags": []
   },
   "outputs": [
    {
     "data": {
      "text/plain": [
       "array([False,  True,  True,  True,  True,  True,  True,  True,  True,\n",
       "        True,  True,  True,  True,  True,  True,  True,  True,  True,\n",
       "        True,  True,  True,  True,  True,  True,  True,  True,  True,\n",
       "        True,  True,  True,  True,  True,  True,  True,  True,  True,\n",
       "        True])"
      ]
     },
     "execution_count": 10,
     "metadata": {},
     "output_type": "execute_result"
    }
   ],
   "source": [
    "train.columns == original.columns"
   ]
  },
  {
   "cell_type": "code",
   "execution_count": 11,
   "id": "d01c9742",
   "metadata": {
    "execution": {
     "iopub.execute_input": "2024-06-01T02:07:58.156913Z",
     "iopub.status.busy": "2024-06-01T02:07:58.156660Z",
     "iopub.status.idle": "2024-06-01T02:07:58.161125Z",
     "shell.execute_reply": "2024-06-01T02:07:58.160444Z"
    },
    "papermill": {
     "duration": 0.018922,
     "end_time": "2024-06-01T02:07:58.164043",
     "exception": false,
     "start_time": "2024-06-01T02:07:58.145121",
     "status": "completed"
    },
    "tags": []
   },
   "outputs": [],
   "source": [
    "original = original.rename({'Marital Status': 'Marital status'}, axis=1)"
   ]
  },
  {
   "cell_type": "markdown",
   "id": "3442a8d7",
   "metadata": {
    "papermill": {
     "duration": 0.010353,
     "end_time": "2024-06-01T02:07:58.184932",
     "exception": false,
     "start_time": "2024-06-01T02:07:58.174579",
     "status": "completed"
    },
    "tags": []
   },
   "source": [
    "**Missing values**"
   ]
  },
  {
   "cell_type": "code",
   "execution_count": 12,
   "id": "59383818",
   "metadata": {
    "execution": {
     "iopub.execute_input": "2024-06-01T02:07:58.206688Z",
     "iopub.status.busy": "2024-06-01T02:07:58.206412Z",
     "iopub.status.idle": "2024-06-01T02:07:58.228495Z",
     "shell.execute_reply": "2024-06-01T02:07:58.227650Z"
    },
    "papermill": {
     "duration": 0.035138,
     "end_time": "2024-06-01T02:07:58.230460",
     "exception": false,
     "start_time": "2024-06-01T02:07:58.195322",
     "status": "completed"
    },
    "tags": []
   },
   "outputs": [
    {
     "data": {
      "text/plain": [
       "(0, 0, 0)"
      ]
     },
     "execution_count": 12,
     "metadata": {},
     "output_type": "execute_result"
    }
   ],
   "source": [
    "train.isna().sum().sum(), test.isna().sum().sum(), original.isna().sum().sum()"
   ]
  },
  {
   "cell_type": "markdown",
   "id": "355bae19",
   "metadata": {
    "papermill": {
     "duration": 0.010208,
     "end_time": "2024-06-01T02:07:58.251210",
     "exception": false,
     "start_time": "2024-06-01T02:07:58.241002",
     "status": "completed"
    },
    "tags": []
   },
   "source": [
    "**Duplicates**"
   ]
  },
  {
   "cell_type": "code",
   "execution_count": 13,
   "id": "744b5a8b",
   "metadata": {
    "execution": {
     "iopub.execute_input": "2024-06-01T02:07:58.273457Z",
     "iopub.status.busy": "2024-06-01T02:07:58.273149Z",
     "iopub.status.idle": "2024-06-01T02:07:58.371877Z",
     "shell.execute_reply": "2024-06-01T02:07:58.370942Z"
    },
    "papermill": {
     "duration": 0.112397,
     "end_time": "2024-06-01T02:07:58.374275",
     "exception": false,
     "start_time": "2024-06-01T02:07:58.261878",
     "status": "completed"
    },
    "tags": []
   },
   "outputs": [
    {
     "data": {
      "text/plain": [
       "(0, 0, 0)"
      ]
     },
     "execution_count": 13,
     "metadata": {},
     "output_type": "execute_result"
    }
   ],
   "source": [
    "train.duplicated().sum(), test.duplicated().sum(), original.duplicated().sum()"
   ]
  },
  {
   "cell_type": "code",
   "execution_count": 14,
   "id": "8b33b410",
   "metadata": {
    "execution": {
     "iopub.execute_input": "2024-06-01T02:07:58.399236Z",
     "iopub.status.busy": "2024-06-01T02:07:58.398920Z",
     "iopub.status.idle": "2024-06-01T02:07:58.467351Z",
     "shell.execute_reply": "2024-06-01T02:07:58.466440Z"
    },
    "papermill": {
     "duration": 0.082478,
     "end_time": "2024-06-01T02:07:58.469294",
     "exception": false,
     "start_time": "2024-06-01T02:07:58.386816",
     "status": "completed"
    },
    "tags": []
   },
   "outputs": [
    {
     "data": {
      "text/plain": [
       "0"
      ]
     },
     "execution_count": 14,
     "metadata": {},
     "output_type": "execute_result"
    }
   ],
   "source": [
    "# all features + target\n",
    "pd.concat([train, original], axis=0).duplicated().sum()"
   ]
  },
  {
   "cell_type": "code",
   "execution_count": 15,
   "id": "a8dcff6c",
   "metadata": {
    "execution": {
     "iopub.execute_input": "2024-06-01T02:07:58.493250Z",
     "iopub.status.busy": "2024-06-01T02:07:58.492455Z",
     "iopub.status.idle": "2024-06-01T02:07:58.546467Z",
     "shell.execute_reply": "2024-06-01T02:07:58.545516Z"
    },
    "papermill": {
     "duration": 0.067801,
     "end_time": "2024-06-01T02:07:58.548525",
     "exception": false,
     "start_time": "2024-06-01T02:07:58.480724",
     "status": "completed"
    },
    "tags": []
   },
   "outputs": [
    {
     "data": {
      "text/plain": [
       "14"
      ]
     },
     "execution_count": 15,
     "metadata": {},
     "output_type": "execute_result"
    }
   ],
   "source": [
    "# without target\n",
    "pd.concat([train, original], axis=0).duplicated(subset=test.columns).sum()"
   ]
  },
  {
   "cell_type": "code",
   "execution_count": 16,
   "id": "cfcbbd76",
   "metadata": {
    "execution": {
     "iopub.execute_input": "2024-06-01T02:07:58.572274Z",
     "iopub.status.busy": "2024-06-01T02:07:58.571727Z",
     "iopub.status.idle": "2024-06-01T02:07:58.666908Z",
     "shell.execute_reply": "2024-06-01T02:07:58.665960Z"
    },
    "papermill": {
     "duration": 0.109521,
     "end_time": "2024-06-01T02:07:58.669137",
     "exception": false,
     "start_time": "2024-06-01T02:07:58.559616",
     "status": "completed"
    },
    "tags": []
   },
   "outputs": [
    {
     "data": {
      "text/plain": [
       "0"
      ]
     },
     "execution_count": 16,
     "metadata": {},
     "output_type": "execute_result"
    }
   ],
   "source": [
    "pd.concat([train, test], axis=0).duplicated(subset=test.columns).sum()"
   ]
  },
  {
   "cell_type": "code",
   "execution_count": 17,
   "id": "783c47ce",
   "metadata": {
    "execution": {
     "iopub.execute_input": "2024-06-01T02:07:58.693188Z",
     "iopub.status.busy": "2024-06-01T02:07:58.692848Z",
     "iopub.status.idle": "2024-06-01T02:07:58.734891Z",
     "shell.execute_reply": "2024-06-01T02:07:58.733968Z"
    },
    "papermill": {
     "duration": 0.056273,
     "end_time": "2024-06-01T02:07:58.736854",
     "exception": false,
     "start_time": "2024-06-01T02:07:58.680581",
     "status": "completed"
    },
    "tags": []
   },
   "outputs": [
    {
     "data": {
      "text/plain": [
       "7"
      ]
     },
     "execution_count": 17,
     "metadata": {},
     "output_type": "execute_result"
    }
   ],
   "source": [
    "pd.concat([original, test], axis=0).duplicated(subset=test.columns).sum()"
   ]
  },
  {
   "cell_type": "markdown",
   "id": "4ca0c014",
   "metadata": {
    "papermill": {
     "duration": 0.011008,
     "end_time": "2024-06-01T02:07:58.759332",
     "exception": false,
     "start_time": "2024-06-01T02:07:58.748324",
     "status": "completed"
    },
    "tags": []
   },
   "source": [
    "**Variable information**"
   ]
  },
  {
   "cell_type": "code",
   "execution_count": 18,
   "id": "4bdeeeb2",
   "metadata": {
    "execution": {
     "iopub.execute_input": "2024-06-01T02:07:58.782627Z",
     "iopub.status.busy": "2024-06-01T02:07:58.782344Z",
     "iopub.status.idle": "2024-06-01T02:07:58.800841Z",
     "shell.execute_reply": "2024-06-01T02:07:58.800093Z"
    },
    "papermill": {
     "duration": 0.032404,
     "end_time": "2024-06-01T02:07:58.802775",
     "exception": false,
     "start_time": "2024-06-01T02:07:58.770371",
     "status": "completed"
    },
    "tags": []
   },
   "outputs": [
    {
     "data": {
      "text/html": [
       "<div>\n",
       "<style scoped>\n",
       "    .dataframe tbody tr th:only-of-type {\n",
       "        vertical-align: middle;\n",
       "    }\n",
       "\n",
       "    .dataframe tbody tr th {\n",
       "        vertical-align: top;\n",
       "    }\n",
       "\n",
       "    .dataframe thead th {\n",
       "        text-align: right;\n",
       "    }\n",
       "</style>\n",
       "<table border=\"1\" class=\"dataframe\">\n",
       "  <thead>\n",
       "    <tr style=\"text-align: right;\">\n",
       "      <th></th>\n",
       "      <th>name</th>\n",
       "      <th>role</th>\n",
       "      <th>type</th>\n",
       "      <th>demographic</th>\n",
       "      <th>description</th>\n",
       "      <th>units</th>\n",
       "      <th>missing_values</th>\n",
       "    </tr>\n",
       "  </thead>\n",
       "  <tbody>\n",
       "    <tr>\n",
       "      <th>0</th>\n",
       "      <td>Marital Status</td>\n",
       "      <td>Feature</td>\n",
       "      <td>Integer</td>\n",
       "      <td>Marital Status</td>\n",
       "      <td>1 – single 2 – married 3 – widower 4 – divorce...</td>\n",
       "      <td>None</td>\n",
       "      <td>no</td>\n",
       "    </tr>\n",
       "    <tr>\n",
       "      <th>1</th>\n",
       "      <td>Application mode</td>\n",
       "      <td>Feature</td>\n",
       "      <td>Integer</td>\n",
       "      <td>None</td>\n",
       "      <td>1 - 1st phase - general contingent 2 - Ordinan...</td>\n",
       "      <td>None</td>\n",
       "      <td>no</td>\n",
       "    </tr>\n",
       "    <tr>\n",
       "      <th>2</th>\n",
       "      <td>Application order</td>\n",
       "      <td>Feature</td>\n",
       "      <td>Integer</td>\n",
       "      <td>None</td>\n",
       "      <td>Application order (between 0 - first choice; a...</td>\n",
       "      <td>None</td>\n",
       "      <td>no</td>\n",
       "    </tr>\n",
       "    <tr>\n",
       "      <th>3</th>\n",
       "      <td>Course</td>\n",
       "      <td>Feature</td>\n",
       "      <td>Integer</td>\n",
       "      <td>None</td>\n",
       "      <td>33 - Biofuel Production Technologies 171 - Ani...</td>\n",
       "      <td>None</td>\n",
       "      <td>no</td>\n",
       "    </tr>\n",
       "    <tr>\n",
       "      <th>4</th>\n",
       "      <td>Daytime/evening attendance</td>\n",
       "      <td>Feature</td>\n",
       "      <td>Integer</td>\n",
       "      <td>None</td>\n",
       "      <td>1 – daytime 0 - evening</td>\n",
       "      <td>None</td>\n",
       "      <td>no</td>\n",
       "    </tr>\n",
       "    <tr>\n",
       "      <th>5</th>\n",
       "      <td>Previous qualification</td>\n",
       "      <td>Feature</td>\n",
       "      <td>Integer</td>\n",
       "      <td>Education Level</td>\n",
       "      <td>1 - Secondary education 2 - Higher education -...</td>\n",
       "      <td>None</td>\n",
       "      <td>no</td>\n",
       "    </tr>\n",
       "    <tr>\n",
       "      <th>6</th>\n",
       "      <td>Previous qualification (grade)</td>\n",
       "      <td>Feature</td>\n",
       "      <td>Continuous</td>\n",
       "      <td>None</td>\n",
       "      <td>Grade of previous qualification (between 0 and...</td>\n",
       "      <td>None</td>\n",
       "      <td>no</td>\n",
       "    </tr>\n",
       "    <tr>\n",
       "      <th>7</th>\n",
       "      <td>Nacionality</td>\n",
       "      <td>Feature</td>\n",
       "      <td>Integer</td>\n",
       "      <td>Nationality</td>\n",
       "      <td>1 - Portuguese; 2 - German; 6 - Spanish; 11 - ...</td>\n",
       "      <td>None</td>\n",
       "      <td>no</td>\n",
       "    </tr>\n",
       "    <tr>\n",
       "      <th>8</th>\n",
       "      <td>Mother's qualification</td>\n",
       "      <td>Feature</td>\n",
       "      <td>Integer</td>\n",
       "      <td>Education Level</td>\n",
       "      <td>1 - Secondary Education - 12th Year of Schooli...</td>\n",
       "      <td>None</td>\n",
       "      <td>no</td>\n",
       "    </tr>\n",
       "    <tr>\n",
       "      <th>9</th>\n",
       "      <td>Father's qualification</td>\n",
       "      <td>Feature</td>\n",
       "      <td>Integer</td>\n",
       "      <td>Education Level</td>\n",
       "      <td>1 - Secondary Education - 12th Year of Schooli...</td>\n",
       "      <td>None</td>\n",
       "      <td>no</td>\n",
       "    </tr>\n",
       "    <tr>\n",
       "      <th>10</th>\n",
       "      <td>Mother's occupation</td>\n",
       "      <td>Feature</td>\n",
       "      <td>Integer</td>\n",
       "      <td>Occupation</td>\n",
       "      <td>0 - Student 1 - Representatives of the Legisla...</td>\n",
       "      <td>None</td>\n",
       "      <td>no</td>\n",
       "    </tr>\n",
       "    <tr>\n",
       "      <th>11</th>\n",
       "      <td>Father's occupation</td>\n",
       "      <td>Feature</td>\n",
       "      <td>Integer</td>\n",
       "      <td>Occupation</td>\n",
       "      <td>0 - Student 1 - Representatives of the Legisla...</td>\n",
       "      <td>None</td>\n",
       "      <td>no</td>\n",
       "    </tr>\n",
       "    <tr>\n",
       "      <th>12</th>\n",
       "      <td>Admission grade</td>\n",
       "      <td>Feature</td>\n",
       "      <td>Continuous</td>\n",
       "      <td>None</td>\n",
       "      <td>Admission grade (between 0 and 200)</td>\n",
       "      <td>None</td>\n",
       "      <td>no</td>\n",
       "    </tr>\n",
       "    <tr>\n",
       "      <th>13</th>\n",
       "      <td>Displaced</td>\n",
       "      <td>Feature</td>\n",
       "      <td>Integer</td>\n",
       "      <td>None</td>\n",
       "      <td>1 – yes 0 – no</td>\n",
       "      <td>None</td>\n",
       "      <td>no</td>\n",
       "    </tr>\n",
       "    <tr>\n",
       "      <th>14</th>\n",
       "      <td>Educational special needs</td>\n",
       "      <td>Feature</td>\n",
       "      <td>Integer</td>\n",
       "      <td>None</td>\n",
       "      <td>1 – yes 0 – no</td>\n",
       "      <td>None</td>\n",
       "      <td>no</td>\n",
       "    </tr>\n",
       "    <tr>\n",
       "      <th>15</th>\n",
       "      <td>Debtor</td>\n",
       "      <td>Feature</td>\n",
       "      <td>Integer</td>\n",
       "      <td>None</td>\n",
       "      <td>1 – yes 0 – no</td>\n",
       "      <td>None</td>\n",
       "      <td>no</td>\n",
       "    </tr>\n",
       "    <tr>\n",
       "      <th>16</th>\n",
       "      <td>Tuition fees up to date</td>\n",
       "      <td>Feature</td>\n",
       "      <td>Integer</td>\n",
       "      <td>None</td>\n",
       "      <td>1 – yes 0 – no</td>\n",
       "      <td>None</td>\n",
       "      <td>no</td>\n",
       "    </tr>\n",
       "    <tr>\n",
       "      <th>17</th>\n",
       "      <td>Gender</td>\n",
       "      <td>Feature</td>\n",
       "      <td>Integer</td>\n",
       "      <td>Gender</td>\n",
       "      <td>1 – male 0 – female</td>\n",
       "      <td>None</td>\n",
       "      <td>no</td>\n",
       "    </tr>\n",
       "    <tr>\n",
       "      <th>18</th>\n",
       "      <td>Scholarship holder</td>\n",
       "      <td>Feature</td>\n",
       "      <td>Integer</td>\n",
       "      <td>None</td>\n",
       "      <td>1 – yes 0 – no</td>\n",
       "      <td>None</td>\n",
       "      <td>no</td>\n",
       "    </tr>\n",
       "    <tr>\n",
       "      <th>19</th>\n",
       "      <td>Age at enrollment</td>\n",
       "      <td>Feature</td>\n",
       "      <td>Integer</td>\n",
       "      <td>Age</td>\n",
       "      <td>Age of studend at enrollment</td>\n",
       "      <td>None</td>\n",
       "      <td>no</td>\n",
       "    </tr>\n",
       "    <tr>\n",
       "      <th>20</th>\n",
       "      <td>International</td>\n",
       "      <td>Feature</td>\n",
       "      <td>Integer</td>\n",
       "      <td>None</td>\n",
       "      <td>1 – yes 0 – no</td>\n",
       "      <td>None</td>\n",
       "      <td>no</td>\n",
       "    </tr>\n",
       "    <tr>\n",
       "      <th>21</th>\n",
       "      <td>Curricular units 1st sem (credited)</td>\n",
       "      <td>Feature</td>\n",
       "      <td>Integer</td>\n",
       "      <td>None</td>\n",
       "      <td>Number of curricular units credited in the 1st...</td>\n",
       "      <td>None</td>\n",
       "      <td>no</td>\n",
       "    </tr>\n",
       "    <tr>\n",
       "      <th>22</th>\n",
       "      <td>Curricular units 1st sem (enrolled)</td>\n",
       "      <td>Feature</td>\n",
       "      <td>Integer</td>\n",
       "      <td>None</td>\n",
       "      <td>Number of curricular units enrolled in the 1st...</td>\n",
       "      <td>None</td>\n",
       "      <td>no</td>\n",
       "    </tr>\n",
       "    <tr>\n",
       "      <th>23</th>\n",
       "      <td>Curricular units 1st sem (evaluations)</td>\n",
       "      <td>Feature</td>\n",
       "      <td>Integer</td>\n",
       "      <td>None</td>\n",
       "      <td>Number of evaluations to curricular units in t...</td>\n",
       "      <td>None</td>\n",
       "      <td>no</td>\n",
       "    </tr>\n",
       "    <tr>\n",
       "      <th>24</th>\n",
       "      <td>Curricular units 1st sem (approved)</td>\n",
       "      <td>Feature</td>\n",
       "      <td>Integer</td>\n",
       "      <td>None</td>\n",
       "      <td>Number of curricular units approved in the 1st...</td>\n",
       "      <td>None</td>\n",
       "      <td>no</td>\n",
       "    </tr>\n",
       "    <tr>\n",
       "      <th>25</th>\n",
       "      <td>Curricular units 1st sem (grade)</td>\n",
       "      <td>Feature</td>\n",
       "      <td>Integer</td>\n",
       "      <td>None</td>\n",
       "      <td>Grade average in the 1st semester (between 0 a...</td>\n",
       "      <td>None</td>\n",
       "      <td>no</td>\n",
       "    </tr>\n",
       "    <tr>\n",
       "      <th>26</th>\n",
       "      <td>Curricular units 1st sem (without evaluations)</td>\n",
       "      <td>Feature</td>\n",
       "      <td>Integer</td>\n",
       "      <td>None</td>\n",
       "      <td>Number of curricular units without evalutions ...</td>\n",
       "      <td>None</td>\n",
       "      <td>no</td>\n",
       "    </tr>\n",
       "    <tr>\n",
       "      <th>27</th>\n",
       "      <td>Curricular units 2nd sem (credited)</td>\n",
       "      <td>Feature</td>\n",
       "      <td>Integer</td>\n",
       "      <td>None</td>\n",
       "      <td>Number of curricular units credited in the 2nd...</td>\n",
       "      <td>None</td>\n",
       "      <td>no</td>\n",
       "    </tr>\n",
       "    <tr>\n",
       "      <th>28</th>\n",
       "      <td>Curricular units 2nd sem (enrolled)</td>\n",
       "      <td>Feature</td>\n",
       "      <td>Integer</td>\n",
       "      <td>None</td>\n",
       "      <td>Number of curricular units enrolled in the 2nd...</td>\n",
       "      <td>None</td>\n",
       "      <td>no</td>\n",
       "    </tr>\n",
       "    <tr>\n",
       "      <th>29</th>\n",
       "      <td>Curricular units 2nd sem (evaluations)</td>\n",
       "      <td>Feature</td>\n",
       "      <td>Integer</td>\n",
       "      <td>None</td>\n",
       "      <td>Number of evaluations to curricular units in t...</td>\n",
       "      <td>None</td>\n",
       "      <td>no</td>\n",
       "    </tr>\n",
       "    <tr>\n",
       "      <th>30</th>\n",
       "      <td>Curricular units 2nd sem (approved)</td>\n",
       "      <td>Feature</td>\n",
       "      <td>Integer</td>\n",
       "      <td>None</td>\n",
       "      <td>Number of curricular units approved in the 2nd...</td>\n",
       "      <td>None</td>\n",
       "      <td>no</td>\n",
       "    </tr>\n",
       "    <tr>\n",
       "      <th>31</th>\n",
       "      <td>Curricular units 2nd sem (grade)</td>\n",
       "      <td>Feature</td>\n",
       "      <td>Integer</td>\n",
       "      <td>None</td>\n",
       "      <td>Grade average in the 2nd semester (between 0 a...</td>\n",
       "      <td>None</td>\n",
       "      <td>no</td>\n",
       "    </tr>\n",
       "    <tr>\n",
       "      <th>32</th>\n",
       "      <td>Curricular units 2nd sem (without evaluations)</td>\n",
       "      <td>Feature</td>\n",
       "      <td>Integer</td>\n",
       "      <td>None</td>\n",
       "      <td>Number of curricular units without evalutions ...</td>\n",
       "      <td>None</td>\n",
       "      <td>no</td>\n",
       "    </tr>\n",
       "    <tr>\n",
       "      <th>33</th>\n",
       "      <td>Unemployment rate</td>\n",
       "      <td>Feature</td>\n",
       "      <td>Continuous</td>\n",
       "      <td>None</td>\n",
       "      <td>Unemployment rate (%)</td>\n",
       "      <td>None</td>\n",
       "      <td>no</td>\n",
       "    </tr>\n",
       "    <tr>\n",
       "      <th>34</th>\n",
       "      <td>Inflation rate</td>\n",
       "      <td>Feature</td>\n",
       "      <td>Continuous</td>\n",
       "      <td>None</td>\n",
       "      <td>Inflation rate (%)</td>\n",
       "      <td>None</td>\n",
       "      <td>no</td>\n",
       "    </tr>\n",
       "    <tr>\n",
       "      <th>35</th>\n",
       "      <td>GDP</td>\n",
       "      <td>Feature</td>\n",
       "      <td>Continuous</td>\n",
       "      <td>None</td>\n",
       "      <td>GDP</td>\n",
       "      <td>None</td>\n",
       "      <td>no</td>\n",
       "    </tr>\n",
       "    <tr>\n",
       "      <th>36</th>\n",
       "      <td>Target</td>\n",
       "      <td>Target</td>\n",
       "      <td>Categorical</td>\n",
       "      <td>None</td>\n",
       "      <td>Target. The problem is formulated as a three c...</td>\n",
       "      <td>None</td>\n",
       "      <td>no</td>\n",
       "    </tr>\n",
       "  </tbody>\n",
       "</table>\n",
       "</div>"
      ],
      "text/plain": [
       "                                              name     role         type  \\\n",
       "0                                   Marital Status  Feature      Integer   \n",
       "1                                 Application mode  Feature      Integer   \n",
       "2                                Application order  Feature      Integer   \n",
       "3                                           Course  Feature      Integer   \n",
       "4                       Daytime/evening attendance  Feature      Integer   \n",
       "5                           Previous qualification  Feature      Integer   \n",
       "6                   Previous qualification (grade)  Feature   Continuous   \n",
       "7                                      Nacionality  Feature      Integer   \n",
       "8                           Mother's qualification  Feature      Integer   \n",
       "9                           Father's qualification  Feature      Integer   \n",
       "10                             Mother's occupation  Feature      Integer   \n",
       "11                             Father's occupation  Feature      Integer   \n",
       "12                                 Admission grade  Feature   Continuous   \n",
       "13                                       Displaced  Feature      Integer   \n",
       "14                       Educational special needs  Feature      Integer   \n",
       "15                                          Debtor  Feature      Integer   \n",
       "16                         Tuition fees up to date  Feature      Integer   \n",
       "17                                          Gender  Feature      Integer   \n",
       "18                              Scholarship holder  Feature      Integer   \n",
       "19                               Age at enrollment  Feature      Integer   \n",
       "20                                   International  Feature      Integer   \n",
       "21             Curricular units 1st sem (credited)  Feature      Integer   \n",
       "22             Curricular units 1st sem (enrolled)  Feature      Integer   \n",
       "23          Curricular units 1st sem (evaluations)  Feature      Integer   \n",
       "24             Curricular units 1st sem (approved)  Feature      Integer   \n",
       "25                Curricular units 1st sem (grade)  Feature      Integer   \n",
       "26  Curricular units 1st sem (without evaluations)  Feature      Integer   \n",
       "27             Curricular units 2nd sem (credited)  Feature      Integer   \n",
       "28             Curricular units 2nd sem (enrolled)  Feature      Integer   \n",
       "29          Curricular units 2nd sem (evaluations)  Feature      Integer   \n",
       "30             Curricular units 2nd sem (approved)  Feature      Integer   \n",
       "31                Curricular units 2nd sem (grade)  Feature      Integer   \n",
       "32  Curricular units 2nd sem (without evaluations)  Feature      Integer   \n",
       "33                               Unemployment rate  Feature   Continuous   \n",
       "34                                  Inflation rate  Feature   Continuous   \n",
       "35                                             GDP  Feature   Continuous   \n",
       "36                                          Target   Target  Categorical   \n",
       "\n",
       "        demographic                                        description units  \\\n",
       "0    Marital Status  1 – single 2 – married 3 – widower 4 – divorce...  None   \n",
       "1              None  1 - 1st phase - general contingent 2 - Ordinan...  None   \n",
       "2              None  Application order (between 0 - first choice; a...  None   \n",
       "3              None  33 - Biofuel Production Technologies 171 - Ani...  None   \n",
       "4              None                            1 – daytime 0 - evening  None   \n",
       "5   Education Level  1 - Secondary education 2 - Higher education -...  None   \n",
       "6              None  Grade of previous qualification (between 0 and...  None   \n",
       "7       Nationality  1 - Portuguese; 2 - German; 6 - Spanish; 11 - ...  None   \n",
       "8   Education Level  1 - Secondary Education - 12th Year of Schooli...  None   \n",
       "9   Education Level  1 - Secondary Education - 12th Year of Schooli...  None   \n",
       "10       Occupation  0 - Student 1 - Representatives of the Legisla...  None   \n",
       "11       Occupation  0 - Student 1 - Representatives of the Legisla...  None   \n",
       "12             None                Admission grade (between 0 and 200)  None   \n",
       "13             None                                     1 – yes 0 – no  None   \n",
       "14             None                                     1 – yes 0 – no  None   \n",
       "15             None                                     1 – yes 0 – no  None   \n",
       "16             None                                     1 – yes 0 – no  None   \n",
       "17           Gender                                1 – male 0 – female  None   \n",
       "18             None                                     1 – yes 0 – no  None   \n",
       "19              Age                       Age of studend at enrollment  None   \n",
       "20             None                                     1 – yes 0 – no  None   \n",
       "21             None  Number of curricular units credited in the 1st...  None   \n",
       "22             None  Number of curricular units enrolled in the 1st...  None   \n",
       "23             None  Number of evaluations to curricular units in t...  None   \n",
       "24             None  Number of curricular units approved in the 1st...  None   \n",
       "25             None  Grade average in the 1st semester (between 0 a...  None   \n",
       "26             None  Number of curricular units without evalutions ...  None   \n",
       "27             None  Number of curricular units credited in the 2nd...  None   \n",
       "28             None  Number of curricular units enrolled in the 2nd...  None   \n",
       "29             None  Number of evaluations to curricular units in t...  None   \n",
       "30             None  Number of curricular units approved in the 2nd...  None   \n",
       "31             None  Grade average in the 2nd semester (between 0 a...  None   \n",
       "32             None  Number of curricular units without evalutions ...  None   \n",
       "33             None                              Unemployment rate (%)  None   \n",
       "34             None                                 Inflation rate (%)  None   \n",
       "35             None                                                GDP  None   \n",
       "36             None  Target. The problem is formulated as a three c...  None   \n",
       "\n",
       "   missing_values  \n",
       "0              no  \n",
       "1              no  \n",
       "2              no  \n",
       "3              no  \n",
       "4              no  \n",
       "5              no  \n",
       "6              no  \n",
       "7              no  \n",
       "8              no  \n",
       "9              no  \n",
       "10             no  \n",
       "11             no  \n",
       "12             no  \n",
       "13             no  \n",
       "14             no  \n",
       "15             no  \n",
       "16             no  \n",
       "17             no  \n",
       "18             no  \n",
       "19             no  \n",
       "20             no  \n",
       "21             no  \n",
       "22             no  \n",
       "23             no  \n",
       "24             no  \n",
       "25             no  \n",
       "26             no  \n",
       "27             no  \n",
       "28             no  \n",
       "29             no  \n",
       "30             no  \n",
       "31             no  \n",
       "32             no  \n",
       "33             no  \n",
       "34             no  \n",
       "35             no  \n",
       "36             no  "
      ]
     },
     "execution_count": 18,
     "metadata": {},
     "output_type": "execute_result"
    }
   ],
   "source": [
    "predict_students_dropout_and_academic_success.variables"
   ]
  },
  {
   "cell_type": "code",
   "execution_count": 19,
   "id": "3f0655fc",
   "metadata": {
    "execution": {
     "iopub.execute_input": "2024-06-01T02:07:58.827637Z",
     "iopub.status.busy": "2024-06-01T02:07:58.827378Z",
     "iopub.status.idle": "2024-06-01T02:07:58.832076Z",
     "shell.execute_reply": "2024-06-01T02:07:58.831348Z"
    },
    "papermill": {
     "duration": 0.019297,
     "end_time": "2024-06-01T02:07:58.833983",
     "exception": false,
     "start_time": "2024-06-01T02:07:58.814686",
     "status": "completed"
    },
    "tags": []
   },
   "outputs": [],
   "source": [
    "FEATURES = list(test.columns)\n",
    "\n",
    "CAT_FEATURES = [\n",
    "    'Marital status', \n",
    "    'Application mode', \n",
    "    'Course',\n",
    "    'Daytime/evening attendance', \n",
    "    'Previous qualification', \n",
    "    'Nacionality', \n",
    "    'Mother\\'s qualification', \n",
    "    'Father\\'s qualification', \n",
    "    'Mother\\'s occupation', \n",
    "    'Father\\'s occupation', \n",
    "    'Displaced', \n",
    "    'Educational special needs', \n",
    "    'Debtor',\n",
    "    'Tuition fees up to date', \n",
    "    'Gender', \n",
    "    'Scholarship holder', \n",
    "    'International'\n",
    "]"
   ]
  },
  {
   "cell_type": "markdown",
   "id": "b5174461",
   "metadata": {
    "papermill": {
     "duration": 0.011933,
     "end_time": "2024-06-01T02:07:58.857798",
     "exception": false,
     "start_time": "2024-06-01T02:07:58.845865",
     "status": "completed"
    },
    "tags": []
   },
   "source": [
    "**Target distribution**"
   ]
  },
  {
   "cell_type": "code",
   "execution_count": 20,
   "id": "fceaceb4",
   "metadata": {
    "execution": {
     "iopub.execute_input": "2024-06-01T02:07:58.883618Z",
     "iopub.status.busy": "2024-06-01T02:07:58.883344Z",
     "iopub.status.idle": "2024-06-01T02:07:58.905656Z",
     "shell.execute_reply": "2024-06-01T02:07:58.904785Z"
    },
    "papermill": {
     "duration": 0.038074,
     "end_time": "2024-06-01T02:07:58.907825",
     "exception": false,
     "start_time": "2024-06-01T02:07:58.869751",
     "status": "completed"
    },
    "tags": []
   },
   "outputs": [
    {
     "data": {
      "text/plain": [
       "Target\n",
       "Graduate    0.4742\n",
       "Dropout     0.3306\n",
       "Enrolled    0.1952\n",
       "Name: proportion, dtype: float64"
      ]
     },
     "execution_count": 20,
     "metadata": {},
     "output_type": "execute_result"
    }
   ],
   "source": [
    "TARGET = 'Target'\n",
    "train[TARGET].value_counts(normalize=True)"
   ]
  },
  {
   "cell_type": "code",
   "execution_count": 21,
   "id": "2b720110",
   "metadata": {
    "execution": {
     "iopub.execute_input": "2024-06-01T02:07:58.935652Z",
     "iopub.status.busy": "2024-06-01T02:07:58.935384Z",
     "iopub.status.idle": "2024-06-01T02:07:58.943070Z",
     "shell.execute_reply": "2024-06-01T02:07:58.942213Z"
    },
    "papermill": {
     "duration": 0.023703,
     "end_time": "2024-06-01T02:07:58.944993",
     "exception": false,
     "start_time": "2024-06-01T02:07:58.921290",
     "status": "completed"
    },
    "tags": []
   },
   "outputs": [
    {
     "data": {
      "text/plain": [
       "Target\n",
       "Graduate    0.4993\n",
       "Dropout     0.3212\n",
       "Enrolled    0.1795\n",
       "Name: proportion, dtype: float64"
      ]
     },
     "execution_count": 21,
     "metadata": {},
     "output_type": "execute_result"
    }
   ],
   "source": [
    "original[TARGET].value_counts(normalize=True)"
   ]
  },
  {
   "cell_type": "code",
   "execution_count": 22,
   "id": "bddcbdef",
   "metadata": {
    "execution": {
     "iopub.execute_input": "2024-06-01T02:07:58.970492Z",
     "iopub.status.busy": "2024-06-01T02:07:58.970254Z",
     "iopub.status.idle": "2024-06-01T02:07:59.032894Z",
     "shell.execute_reply": "2024-06-01T02:07:59.032201Z"
    },
    "papermill": {
     "duration": 0.077464,
     "end_time": "2024-06-01T02:07:59.034834",
     "exception": false,
     "start_time": "2024-06-01T02:07:58.957370",
     "status": "completed"
    },
    "tags": []
   },
   "outputs": [],
   "source": [
    "target_mapping = {'Graduate': 0, 'Enrolled': 1, 'Dropout': 2}\n",
    "target_inverse = {v:k for k, v in target_mapping.items()}\n",
    "\n",
    "train[TARGET] = train[TARGET].replace(target_mapping)\n",
    "original[TARGET] = original[TARGET].replace(target_mapping)"
   ]
  },
  {
   "cell_type": "markdown",
   "id": "1551cdbc",
   "metadata": {
    "papermill": {
     "duration": 0.012005,
     "end_time": "2024-06-01T02:07:59.059117",
     "exception": false,
     "start_time": "2024-06-01T02:07:59.047112",
     "status": "completed"
    },
    "tags": []
   },
   "source": [
    "# Modeling framework"
   ]
  },
  {
   "cell_type": "code",
   "execution_count": 23,
   "id": "9201dfa9",
   "metadata": {
    "execution": {
     "iopub.execute_input": "2024-06-01T02:07:59.084823Z",
     "iopub.status.busy": "2024-06-01T02:07:59.084274Z",
     "iopub.status.idle": "2024-06-01T02:07:59.088085Z",
     "shell.execute_reply": "2024-06-01T02:07:59.087321Z"
    },
    "papermill": {
     "duration": 0.018579,
     "end_time": "2024-06-01T02:07:59.089932",
     "exception": false,
     "start_time": "2024-06-01T02:07:59.071353",
     "status": "completed"
    },
    "tags": []
   },
   "outputs": [],
   "source": [
    "def comp_metric(y_true, y_pred):\n",
    "    return accuracy_score(y_true, y_pred)"
   ]
  },
  {
   "cell_type": "code",
   "execution_count": 24,
   "id": "3ea190fa",
   "metadata": {
    "execution": {
     "iopub.execute_input": "2024-06-01T02:07:59.115135Z",
     "iopub.status.busy": "2024-06-01T02:07:59.114852Z",
     "iopub.status.idle": "2024-06-01T02:07:59.125954Z",
     "shell.execute_reply": "2024-06-01T02:07:59.125119Z"
    },
    "papermill": {
     "duration": 0.025701,
     "end_time": "2024-06-01T02:07:59.127751",
     "exception": false,
     "start_time": "2024-06-01T02:07:59.102050",
     "status": "completed"
    },
    "tags": []
   },
   "outputs": [],
   "source": [
    "def custom_cv(features, model, folds=10, extend=False, seed=SEED, verbose=True):\n",
    "    oof_preds = {}\n",
    "    test_preds = {}\n",
    "    \n",
    "    X, y = train[features], train[TARGET]\n",
    "    X_test = test[features]\n",
    "    \n",
    "    cat_feats = [f for f in features if f in CAT_FEATURES]\n",
    "    \n",
    "    cv = StratifiedKFold(n_splits=folds, shuffle=True, random_state=seed)\n",
    "    for fold, (train_ids, val_ids) in enumerate(cv.split(X, y)):\n",
    "        X_train, y_train = X.iloc[train_ids], y.iloc[train_ids]\n",
    "        X_val, y_val = X.iloc[val_ids], y.iloc[val_ids]\n",
    "        \n",
    "        if extend: # original dataset added only to training folds\n",
    "            X_train = pd.concat([X_train, original[features]], axis=0, ignore_index=True)\n",
    "            y_train = pd.concat([y_train, original[TARGET]], axis=0, ignore_index=True)\n",
    "        \n",
    "        model.fit(\n",
    "            X_train, y_train,\n",
    "            eval_set=[(X_val, y_val)],\n",
    "            cat_features=cat_feats,\n",
    "            verbose=False)\n",
    "        \n",
    "        val_preds = model.predict(X_val).flatten()\n",
    "        oof_preds.update(dict(zip(val_ids, val_preds)))\n",
    "        test_preds[f'fold{fold}'] = model.predict(X_test).flatten()\n",
    "        \n",
    "        if verbose:\n",
    "            score = comp_metric(y_val, val_preds)\n",
    "            print(f'Fold #{fold:>2}: {score:.5f} ({model.best_iteration_:>4} rounds)')\n",
    "            \n",
    "        _ = gc.collect()\n",
    "        \n",
    "    test_preds = pd.DataFrame.from_dict(test_preds)\n",
    "    test_preds['mode'] = test_preds.mode(axis=1)[0] # mode of fold-wise predictions\n",
    "    \n",
    "    oof_preds = pd.Series(oof_preds).sort_index()\n",
    "    print(f'OOF score: {comp_metric(y, oof_preds):.5f}\\n')\n",
    "    \n",
    "    return oof_preds, test_preds"
   ]
  },
  {
   "cell_type": "code",
   "execution_count": 25,
   "id": "be53a727",
   "metadata": {
    "execution": {
     "iopub.execute_input": "2024-06-01T02:07:59.153097Z",
     "iopub.status.busy": "2024-06-01T02:07:59.152824Z",
     "iopub.status.idle": "2024-06-01T02:07:59.157338Z",
     "shell.execute_reply": "2024-06-01T02:07:59.156515Z"
    },
    "papermill": {
     "duration": 0.019024,
     "end_time": "2024-06-01T02:07:59.159032",
     "exception": false,
     "start_time": "2024-06-01T02:07:59.140008",
     "status": "completed"
    },
    "tags": []
   },
   "outputs": [],
   "source": [
    "def create_submission_files(preds, config, notebook='00'):\n",
    "    sub = sample_sub.copy()\n",
    "    sub[TARGET] = preds['mode'].replace(target_inverse)\n",
    "    sub.to_csv(f'nb{notebook}_{config}.csv', index=False)"
   ]
  },
  {
   "cell_type": "code",
   "execution_count": 26,
   "id": "e8a4fabf",
   "metadata": {
    "execution": {
     "iopub.execute_input": "2024-06-01T02:07:59.185545Z",
     "iopub.status.busy": "2024-06-01T02:07:59.185260Z",
     "iopub.status.idle": "2024-06-01T02:07:59.190083Z",
     "shell.execute_reply": "2024-06-01T02:07:59.189294Z"
    },
    "papermill": {
     "duration": 0.019681,
     "end_time": "2024-06-01T02:07:59.192021",
     "exception": false,
     "start_time": "2024-06-01T02:07:59.172340",
     "status": "completed"
    },
    "tags": []
   },
   "outputs": [],
   "source": [
    "BASE_PARAMS = {\n",
    "    'loss_function': 'MultiClass',\n",
    "    'eval_metric': 'Accuracy',\n",
    "    'metric_period': 1,\n",
    "    'iterations': 5000,\n",
    "    'learning_rate': 0.01,\n",
    "    'early_stopping_rounds': 100,\n",
    "    'use_best_model': True,\n",
    "    'task_type': DEVICE,\n",
    "    'thread_count': -1\n",
    "}\n",
    "\n",
    "if BASE_PARAMS['task_type'] == 'GPU':\n",
    "    BASE_PARAMS['devices'] = '0:1'"
   ]
  },
  {
   "cell_type": "code",
   "execution_count": 27,
   "id": "3103276b",
   "metadata": {
    "execution": {
     "iopub.execute_input": "2024-06-01T02:07:59.217278Z",
     "iopub.status.busy": "2024-06-01T02:07:59.216996Z",
     "iopub.status.idle": "2024-06-01T02:07:59.220580Z",
     "shell.execute_reply": "2024-06-01T02:07:59.219840Z"
    },
    "papermill": {
     "duration": 0.018744,
     "end_time": "2024-06-01T02:07:59.222819",
     "exception": false,
     "start_time": "2024-06-01T02:07:59.204075",
     "status": "completed"
    },
    "tags": []
   },
   "outputs": [],
   "source": [
    "op = {}  # OOF preds\n",
    "tp = {}  # Test preds"
   ]
  },
  {
   "cell_type": "code",
   "execution_count": 28,
   "id": "c09e455b",
   "metadata": {
    "execution": {
     "iopub.execute_input": "2024-06-01T02:07:59.247928Z",
     "iopub.status.busy": "2024-06-01T02:07:59.247336Z",
     "iopub.status.idle": "2024-06-01T02:10:34.530643Z",
     "shell.execute_reply": "2024-06-01T02:10:34.529608Z"
    },
    "papermill": {
     "duration": 155.310902,
     "end_time": "2024-06-01T02:10:34.545575",
     "exception": false,
     "start_time": "2024-06-01T02:07:59.234673",
     "status": "completed"
    },
    "tags": []
   },
   "outputs": [
    {
     "name": "stdout",
     "output_type": "stream",
     "text": [
      "Fold # 0: 0.81835 ( 439 rounds)\n",
      "Fold # 1: 0.83495 ( 574 rounds)\n",
      "Fold # 2: 0.82188 (1097 rounds)\n",
      "Fold # 3: 0.82292 ( 480 rounds)\n",
      "Fold # 4: 0.82919 (1152 rounds)\n",
      "Fold # 5: 0.82763 ( 984 rounds)\n",
      "Fold # 6: 0.82292 ( 583 rounds)\n",
      "Fold # 7: 0.82527 ( 379 rounds)\n",
      "Fold # 8: 0.83257 ( 586 rounds)\n",
      "Fold # 9: 0.82394 ( 610 rounds)\n",
      "OOF score: 0.82596\n",
      "\n",
      "CPU times: user 5min 24s, sys: 1min 41s, total: 7min 6s\n",
      "Wall time: 2min 35s\n"
     ]
    }
   ],
   "source": [
    "%%time\n",
    "\n",
    "dataset = 'TRN'\n",
    "folds = 10\n",
    "seed = SEED\n",
    "\n",
    "config = f'data{dataset}_folds{folds}_seed{seed}'\n",
    "\n",
    "model = cb.CatBoostClassifier(**BASE_PARAMS, random_seed=seed)\n",
    "\n",
    "op[config], tp[config] = custom_cv(\n",
    "    features=FEATURES,\n",
    "    model=model,\n",
    "    folds=folds)\n",
    "\n",
    "create_submission_files(tp[config], config)"
   ]
  },
  {
   "cell_type": "code",
   "execution_count": 29,
   "id": "90e5a79f",
   "metadata": {
    "execution": {
     "iopub.execute_input": "2024-06-01T02:10:34.573128Z",
     "iopub.status.busy": "2024-06-01T02:10:34.572821Z",
     "iopub.status.idle": "2024-06-01T02:13:17.931067Z",
     "shell.execute_reply": "2024-06-01T02:13:17.929950Z"
    },
    "papermill": {
     "duration": 163.374743,
     "end_time": "2024-06-01T02:13:17.933211",
     "exception": false,
     "start_time": "2024-06-01T02:10:34.558468",
     "status": "completed"
    },
    "tags": []
   },
   "outputs": [
    {
     "name": "stdout",
     "output_type": "stream",
     "text": [
      "Fold # 0: 0.82410 ( 871 rounds)\n",
      "Fold # 1: 0.83573 ( 713 rounds)\n",
      "Fold # 2: 0.82266 ( 825 rounds)\n",
      "Fold # 3: 0.82253 ( 458 rounds)\n",
      "Fold # 4: 0.82723 ( 716 rounds)\n",
      "Fold # 5: 0.82802 ( 888 rounds)\n",
      "Fold # 6: 0.82397 ( 624 rounds)\n",
      "Fold # 7: 0.82998 ( 746 rounds)\n",
      "Fold # 8: 0.83283 ( 511 rounds)\n",
      "Fold # 9: 0.82656 (1004 rounds)\n",
      "OOF score: 0.82736\n",
      "\n",
      "CPU times: user 5min 41s, sys: 1min 50s, total: 7min 32s\n",
      "Wall time: 2min 43s\n"
     ]
    }
   ],
   "source": [
    "%%time\n",
    "\n",
    "dataset = 'EXT'\n",
    "folds = 10\n",
    "seed = SEED\n",
    "\n",
    "config = f'data{dataset}_folds{folds}_seed{seed}'\n",
    "\n",
    "model = cb.CatBoostClassifier(**BASE_PARAMS, random_seed=seed)\n",
    "\n",
    "op[config], tp[config] = custom_cv(\n",
    "    features=FEATURES,\n",
    "    model=model,\n",
    "    folds=folds,\n",
    "    extend=True)\n",
    "\n",
    "create_submission_files(tp[config], config)"
   ]
  },
  {
   "cell_type": "code",
   "execution_count": 30,
   "id": "4bdab12f",
   "metadata": {
    "execution": {
     "iopub.execute_input": "2024-06-01T02:13:17.962797Z",
     "iopub.status.busy": "2024-06-01T02:13:17.962506Z",
     "iopub.status.idle": "2024-06-01T02:13:18.918278Z",
     "shell.execute_reply": "2024-06-01T02:13:18.917333Z"
    },
    "papermill": {
     "duration": 0.972647,
     "end_time": "2024-06-01T02:13:18.920402",
     "exception": false,
     "start_time": "2024-06-01T02:13:17.947755",
     "status": "completed"
    },
    "tags": []
   },
   "outputs": [
    {
     "name": "stdout",
     "output_type": "stream",
     "text": [
      "id,Target\r\n",
      "76518,Dropout\r\n",
      "76519,Graduate\r\n",
      "76520,Graduate\r\n",
      "76521,Graduate\r\n",
      "76522,Enrolled\r\n",
      "76523,Graduate\r\n",
      "76524,Graduate\r\n",
      "76525,Graduate\r\n",
      "76526,Dropout\r\n"
     ]
    }
   ],
   "source": [
    "!head nb00_dataTRN_folds10_seed2024.csv"
   ]
  }
 ],
 "metadata": {
  "kaggle": {
   "accelerator": "nvidiaTeslaT4",
   "dataSources": [
    {
     "databundleVersionId": 8710574,
     "sourceId": 73290,
     "sourceType": "competition"
    }
   ],
   "dockerImageVersionId": 30716,
   "isGpuEnabled": true,
   "isInternetEnabled": true,
   "language": "python",
   "sourceType": "notebook"
  },
  "kernelspec": {
   "display_name": "Python 3",
   "language": "python",
   "name": "python3"
  },
  "language_info": {
   "codemirror_mode": {
    "name": "ipython",
    "version": 3
   },
   "file_extension": ".py",
   "mimetype": "text/x-python",
   "name": "python",
   "nbconvert_exporter": "python",
   "pygments_lexer": "ipython3",
   "version": "3.10.13"
  },
  "papermill": {
   "default_parameters": {},
   "duration": 346.828487,
   "end_time": "2024-06-01T02:13:19.554126",
   "environment_variables": {},
   "exception": null,
   "input_path": "__notebook__.ipynb",
   "output_path": "__notebook__.ipynb",
   "parameters": {},
   "start_time": "2024-06-01T02:07:32.725639",
   "version": "2.5.0"
  }
 },
 "nbformat": 4,
 "nbformat_minor": 5
}
